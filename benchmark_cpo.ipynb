{
 "cells": [
  {
   "cell_type": "code",
   "execution_count": 1,
   "metadata": {},
   "outputs": [],
   "source": [
    "import warnings\n",
    "\n",
    "import torch\n",
    "\n",
    "from omnisafe.common.experiment_grid import ExperimentGrid\n",
    "import omnisafe"
   ]
  },
  {
   "cell_type": "code",
   "execution_count": 5,
   "metadata": {},
   "outputs": [],
   "source": [
    "eg = ExperimentGrid(exp_name='BM_Safety_CPO')\n",
    "\n",
    "second_order_policy = ['CPO']\n",
    "\n",
    "safety_envs = [\n",
    "    'SafetyPointGoal1-v0',\n",
    "]\n",
    "eg.add('env_id', safety_envs)\n",
    "\n",
    "avaliable_gpus = list(range(torch.cuda.device_count()))\n",
    "gpu_id = [0]\n",
    "\n",
    "if gpu_id and not set(gpu_id).issubset(avaliable_gpus):\n",
    "    warnings.warn('The GPU ID is not available, use CPU instead.', stacklevel=1)\n",
    "    gpu_id = None\n",
    "\n",
    "eg.add('algo', second_order_policy)\n",
    "eg.add('logger_cfgs:use_wandb', [True])\n",
    "eg.add('logger_cfgs:wandb_project', ['Benchmark_Safety'])\n",
    "eg.add('train_cfgs:vector_env_nums', [4])\n",
    "eg.add('train_cfgs:torch_threads', [8])\n",
    "eg.add('algo_cfgs:steps_per_epoch', [20000])\n",
    "eg.add('train_cfgs:total_steps', [20000 * 30])\n",
    "eg.add('seed', [0])"
   ]
  },
  {
   "cell_type": "code",
   "execution_count": 6,
   "metadata": {},
   "outputs": [],
   "source": [
    "\"\"\"Example of training a policy from exp-x config with OmniSafe.\"\"\"\n",
    "import os, sys\n",
    "from omnisafe.typing import NamedTuple, Tuple\n",
    "\n",
    "\n",
    "def train(\n",
    "    exp_id: str, algo: str, env_id: str, custom_cfgs: NamedTuple\n",
    ") -> Tuple[float, float, float]:\n",
    "    \"\"\"Train a policy from exp-x config with OmniSafe.\n",
    "\n",
    "    Args:\n",
    "        exp_id (str): Experiment ID.\n",
    "        algo (str): Algorithm to train.\n",
    "        env_id (str): The name of test environment.\n",
    "        custom_cfgs (NamedTuple): Custom configurations.\n",
    "        num_threads (int, optional): Number of threads. Defaults to 6.\n",
    "    \"\"\"\n",
    "    terminal_log_name = 'terminal.log'\n",
    "    error_log_name = 'error.log'\n",
    "    if 'seed' in custom_cfgs:\n",
    "        terminal_log_name = f'seed{custom_cfgs[\"seed\"]}_{terminal_log_name}'\n",
    "        error_log_name = f'seed{custom_cfgs[\"seed\"]}_{error_log_name}'\n",
    "    sys.stdout = sys.__stdout__\n",
    "    sys.stderr = sys.__stderr__\n",
    "    print(f'exp-x: {exp_id} is training...')\n",
    "    if not os.path.exists(custom_cfgs['logger_cfgs']['log_dir']):\n",
    "        os.makedirs(custom_cfgs['logger_cfgs']['log_dir'], exist_ok=True)\n",
    "    # pylint: disable-next=consider-using-with\n",
    "    sys.stdout = open(\n",
    "        os.path.join(f'{custom_cfgs[\"logger_cfgs\"][\"log_dir\"]}', terminal_log_name),\n",
    "        'w',\n",
    "        encoding='utf-8',\n",
    "    )\n",
    "    # pylint: disable-next=consider-using-with\n",
    "    sys.stderr = open(\n",
    "        os.path.join(f'{custom_cfgs[\"logger_cfgs\"][\"log_dir\"]}', error_log_name),\n",
    "        'w',\n",
    "        encoding='utf-8',\n",
    "    )\n",
    "    agent = omnisafe.Agent(algo, env_id, custom_cfgs=custom_cfgs)\n",
    "    reward, cost, ep_len = agent.learn()\n",
    "    return reward, cost, ep_len"
   ]
  },
  {
   "cell_type": "code",
   "execution_count": 7,
   "metadata": {},
   "outputs": [
    {
     "data": {
      "text/html": [
       "<pre style=\"white-space:pre;overflow-x:auto;line-height:normal;font-family:Menlo,'DejaVu Sans Mono',consolas,'Courier New',monospace\"><span style=\"color: #808000; text-decoration-color: #808000; font-weight: bold\">Save with config of experiment grid in grid_config.json</span>\n",
       "</pre>\n"
      ],
      "text/plain": [
       "\u001b[1;33mSave with config of experiment grid in grid_config.json\u001b[0m\n"
      ]
     },
     "metadata": {},
     "output_type": "display_data"
    },
    {
     "name": "stdout",
     "output_type": "stream",
     "text": [
      "================================================================================\n"
     ]
    },
    {
     "data": {
      "text/html": [
       "<pre style=\"white-space:pre;overflow-x:auto;line-height:normal;font-family:Menlo,'DejaVu Sans Mono',consolas,'Courier New',monospace\"><span style=\"color: #008000; text-decoration-color: #008000; font-weight: bold\">ExperimentGrid [BM_Safety_CPO] runs over parameters:</span>\n",
       "\n",
       "</pre>\n"
      ],
      "text/plain": [
       "\u001b[1;32mExperimentGrid \u001b[0m\u001b[1;32m[\u001b[0m\u001b[1;32mBM_Safety_CPO\u001b[0m\u001b[1;32m]\u001b[0m\u001b[1;32m runs over parameters:\u001b[0m\n",
       "\n"
      ]
     },
     "metadata": {},
     "output_type": "display_data"
    },
    {
     "data": {
      "text/html": [
       "<pre style=\"white-space:pre;overflow-x:auto;line-height:normal;font-family:Menlo,'DejaVu Sans Mono',consolas,'Courier New',monospace\"><span style=\"color: #008080; text-decoration-color: #008080; font-weight: bold\"> env_id                                  </span></pre>\n"
      ],
      "text/plain": [
       "\u001b[1;36m env_id                                  \u001b[0m"
      ]
     },
     "metadata": {},
     "output_type": "display_data"
    },
    {
     "name": "stdout",
     "output_type": "stream",
     "text": [
      "[env] \n",
      "\n",
      "\t\"SafetyPointGoal1-v0\"\n",
      "\n"
     ]
    },
    {
     "data": {
      "text/html": [
       "<pre style=\"white-space:pre;overflow-x:auto;line-height:normal;font-family:Menlo,'DejaVu Sans Mono',consolas,'Courier New',monospace\"><span style=\"color: #008080; text-decoration-color: #008080; font-weight: bold\"> algo                                    </span></pre>\n"
      ],
      "text/plain": [
       "\u001b[1;36m algo                                    \u001b[0m"
      ]
     },
     "metadata": {},
     "output_type": "display_data"
    },
    {
     "name": "stdout",
     "output_type": "stream",
     "text": [
      "[alg] \n",
      "\n",
      "\t\"CPO\"\n",
      "\n"
     ]
    },
    {
     "data": {
      "text/html": [
       "<pre style=\"white-space:pre;overflow-x:auto;line-height:normal;font-family:Menlo,'DejaVu Sans Mono',consolas,'Courier New',monospace\"><span style=\"color: #008080; text-decoration-color: #008080; font-weight: bold\"> logger_cfgs:use_wandb                   </span></pre>\n"
      ],
      "text/plain": [
       "\u001b[1;36m logger_cfgs:use_wandb                   \u001b[0m"
      ]
     },
     "metadata": {},
     "output_type": "display_data"
    },
    {
     "name": "stdout",
     "output_type": "stream",
     "text": [
      "[log-use] \n",
      "\n",
      "\ttrue\n",
      "\n"
     ]
    },
    {
     "data": {
      "text/html": [
       "<pre style=\"white-space:pre;overflow-x:auto;line-height:normal;font-family:Menlo,'DejaVu Sans Mono',consolas,'Courier New',monospace\"><span style=\"color: #008080; text-decoration-color: #008080; font-weight: bold\"> logger_cfgs:wandb_project               </span></pre>\n"
      ],
      "text/plain": [
       "\u001b[1;36m logger_cfgs:wandb_project               \u001b[0m"
      ]
     },
     "metadata": {},
     "output_type": "display_data"
    },
    {
     "name": "stdout",
     "output_type": "stream",
     "text": [
      "[log-wan] \n",
      "\n",
      "\t\"Benchmark_Safety\"\n",
      "\n"
     ]
    },
    {
     "data": {
      "text/html": [
       "<pre style=\"white-space:pre;overflow-x:auto;line-height:normal;font-family:Menlo,'DejaVu Sans Mono',consolas,'Courier New',monospace\"><span style=\"color: #008080; text-decoration-color: #008080; font-weight: bold\"> train_cfgs:vector_env_nums              </span></pre>\n"
      ],
      "text/plain": [
       "\u001b[1;36m train_cfgs:vector_env_nums              \u001b[0m"
      ]
     },
     "metadata": {},
     "output_type": "display_data"
    },
    {
     "name": "stdout",
     "output_type": "stream",
     "text": [
      "[tra-vec] \n",
      "\n",
      "\t4\n",
      "\n"
     ]
    },
    {
     "data": {
      "text/html": [
       "<pre style=\"white-space:pre;overflow-x:auto;line-height:normal;font-family:Menlo,'DejaVu Sans Mono',consolas,'Courier New',monospace\"><span style=\"color: #008080; text-decoration-color: #008080; font-weight: bold\"> train_cfgs:torch_threads                </span></pre>\n"
      ],
      "text/plain": [
       "\u001b[1;36m train_cfgs:torch_threads                \u001b[0m"
      ]
     },
     "metadata": {},
     "output_type": "display_data"
    },
    {
     "name": "stdout",
     "output_type": "stream",
     "text": [
      "[tra-tor] \n",
      "\n",
      "\t8\n",
      "\n"
     ]
    },
    {
     "data": {
      "text/html": [
       "<pre style=\"white-space:pre;overflow-x:auto;line-height:normal;font-family:Menlo,'DejaVu Sans Mono',consolas,'Courier New',monospace\"><span style=\"color: #008080; text-decoration-color: #008080; font-weight: bold\"> algo_cfgs:steps_per_epoch               </span></pre>\n"
      ],
      "text/plain": [
       "\u001b[1;36m algo_cfgs:steps_per_epoch               \u001b[0m"
      ]
     },
     "metadata": {},
     "output_type": "display_data"
    },
    {
     "name": "stdout",
     "output_type": "stream",
     "text": [
      "[alg-ste] \n",
      "\n",
      "\t20000\n",
      "\n"
     ]
    },
    {
     "data": {
      "text/html": [
       "<pre style=\"white-space:pre;overflow-x:auto;line-height:normal;font-family:Menlo,'DejaVu Sans Mono',consolas,'Courier New',monospace\"><span style=\"color: #008080; text-decoration-color: #008080; font-weight: bold\"> train_cfgs:total_steps                  </span></pre>\n"
      ],
      "text/plain": [
       "\u001b[1;36m train_cfgs:total_steps                  \u001b[0m"
      ]
     },
     "metadata": {},
     "output_type": "display_data"
    },
    {
     "name": "stdout",
     "output_type": "stream",
     "text": [
      "[tra-tot] \n",
      "\n",
      "\t600000\n",
      "\n"
     ]
    },
    {
     "data": {
      "text/html": [
       "<pre style=\"white-space:pre;overflow-x:auto;line-height:normal;font-family:Menlo,'DejaVu Sans Mono',consolas,'Courier New',monospace\"><span style=\"color: #008080; text-decoration-color: #008080; font-weight: bold\"> seed                                    </span></pre>\n"
      ],
      "text/plain": [
       "\u001b[1;36m seed                                    \u001b[0m"
      ]
     },
     "metadata": {},
     "output_type": "display_data"
    },
    {
     "name": "stdout",
     "output_type": "stream",
     "text": [
      "[see] \n",
      "\n",
      "\t0\n",
      "\n",
      " Variants, counting seeds:               1\n",
      " Variants, not counting seeds:           1\n",
      "\n",
      "================================================================================\n"
     ]
    },
    {
     "data": {
      "text/html": [
       "<pre style=\"white-space:pre;overflow-x:auto;line-height:normal;font-family:Menlo,'DejaVu Sans Mono',consolas,'Courier New',monospace\">\n",
       "<span style=\"color: #008000; text-decoration-color: #008000; font-weight: bold\">Preparing to run the following experiments</span><span style=\"color: #808000; text-decoration-color: #808000; font-weight: bold\">...</span>\n",
       "</pre>\n"
      ],
      "text/plain": [
       "\n",
       "\u001b[1;32mPreparing to run the following experiments\u001b[0m\u001b[1;33m...\u001b[0m\n"
      ]
     },
     "metadata": {},
     "output_type": "display_data"
    },
    {
     "name": "stdout",
     "output_type": "stream",
     "text": [
      "\n",
      "BM_Safety_CPO\n",
      "\n",
      "================================================================================\n",
      "current_config {'seed': 0, 'train_cfgs': {'total_steps': 600000, 'torch_threads': 8, 'vector_env_nums': 4}, 'algo_cfgs': {'steps_per_epoch': 20000}, 'logger_cfgs': {'wandb_project': 'Benchmark_Safety', 'use_wandb': True}, 'algo': 'CPO', 'env_id': 'SafetyPointGoal1-v0'}\n"
     ]
    },
    {
     "data": {
      "text/html": [
       "<pre style=\"white-space:pre;overflow-x:auto;line-height:normal;font-family:Menlo,'DejaVu Sans Mono',consolas,'Courier New',monospace\"><span style=\"color: #008080; text-decoration-color: #008080; font-weight: bold\">Logging data to </span>\n",
       "<span style=\"color: #008080; text-decoration-color: #008080; font-weight: bold\">.</span><span style=\"color: #800080; text-decoration-color: #800080; font-weight: bold\">/</span><span style=\"color: #ff00ff; text-decoration-color: #ff00ff; font-weight: bold\">exp-x</span><span style=\"color: #008080; text-decoration-color: #008080; font-weight: bold\">\\BM_Safety_CPO\\SafetyPointGoal1-v0---a666ef11f41efb3aebf109cd70c4d4f6f3fe654ce38f5144dfb4fe07a0c7c165\\CPO-{S</span>\n",
       "<span style=\"color: #008080; text-decoration-color: #008080; font-weight: bold\">afetyPointGoal1-v0}\\seed-</span><span style=\"color: #008080; text-decoration-color: #008080; font-weight: bold\">000</span><span style=\"color: #008080; text-decoration-color: #008080; font-weight: bold\">-</span><span style=\"color: #008080; text-decoration-color: #008080; font-weight: bold\">2024</span><span style=\"color: #008080; text-decoration-color: #008080; font-weight: bold\">-</span><span style=\"color: #008080; text-decoration-color: #008080; font-weight: bold\">04</span><span style=\"color: #008080; text-decoration-color: #008080; font-weight: bold\">-</span><span style=\"color: #008080; text-decoration-color: #008080; font-weight: bold\">24</span><span style=\"color: #008080; text-decoration-color: #008080; font-weight: bold\">-</span><span style=\"color: #008080; text-decoration-color: #008080; font-weight: bold\">11</span><span style=\"color: #008080; text-decoration-color: #008080; font-weight: bold\">-</span><span style=\"color: #008080; text-decoration-color: #008080; font-weight: bold\">29</span><span style=\"color: #008080; text-decoration-color: #008080; font-weight: bold\">-</span><span style=\"color: #008080; text-decoration-color: #008080; font-weight: bold\">43</span><span style=\"color: #008080; text-decoration-color: #008080; font-weight: bold\">\\progress.csv</span>\n",
       "</pre>\n"
      ],
      "text/plain": [
       "\u001b[1;36mLogging data to \u001b[0m\n",
       "\u001b[1;36m.\u001b[0m\u001b[1;35m/\u001b[0m\u001b[1;95mexp-x\u001b[0m\u001b[1;36m\\BM_Safety_CPO\\SafetyPointGoal1-v0---a666ef11f41efb3aebf109cd70c4d4f6f3fe654ce38f5144dfb4fe07a0c7c165\\CPO-\u001b[0m\u001b[1;36m{\u001b[0m\u001b[1;36mS\u001b[0m\n",
       "\u001b[1;36mafetyPointGoal1-v0\u001b[0m\u001b[1;36m}\u001b[0m\u001b[1;36m\\seed-\u001b[0m\u001b[1;36m000\u001b[0m\u001b[1;36m-\u001b[0m\u001b[1;36m2024\u001b[0m\u001b[1;36m-\u001b[0m\u001b[1;36m04\u001b[0m\u001b[1;36m-\u001b[0m\u001b[1;36m24\u001b[0m\u001b[1;36m-\u001b[0m\u001b[1;36m11\u001b[0m\u001b[1;36m-\u001b[0m\u001b[1;36m29\u001b[0m\u001b[1;36m-\u001b[0m\u001b[1;36m43\u001b[0m\u001b[1;36m\\progress.csv\u001b[0m\n"
      ]
     },
     "metadata": {},
     "output_type": "display_data"
    },
    {
     "data": {
      "text/html": [
       "<pre style=\"white-space:pre;overflow-x:auto;line-height:normal;font-family:Menlo,'DejaVu Sans Mono',consolas,'Courier New',monospace\"><span style=\"color: #808000; text-decoration-color: #808000; font-weight: bold\">Save with config in config.json</span>\n",
       "</pre>\n"
      ],
      "text/plain": [
       "\u001b[1;33mSave with config in config.json\u001b[0m\n"
      ]
     },
     "metadata": {},
     "output_type": "display_data"
    },
    {
     "data": {
      "text/html": [
       "<pre style=\"white-space:pre;overflow-x:auto;line-height:normal;font-family:Menlo,'DejaVu Sans Mono',consolas,'Courier New',monospace\">project Benchmark_Safety name CPO-<span style=\"font-weight: bold\">{</span>SafetyPointGoal1-v0<span style=\"font-weight: bold\">}</span>-seed-<span style=\"color: #008080; text-decoration-color: #008080; font-weight: bold\">000</span>-<span style=\"color: #008080; text-decoration-color: #008080; font-weight: bold\">2024</span>-<span style=\"color: #008080; text-decoration-color: #008080; font-weight: bold\">04</span>-<span style=\"color: #008080; text-decoration-color: #008080; font-weight: bold\">24</span>-<span style=\"color: #008080; text-decoration-color: #008080; font-weight: bold\">11</span>-<span style=\"color: #008080; text-decoration-color: #008080; font-weight: bold\">29</span>-<span style=\"color: #008080; text-decoration-color: #008080; font-weight: bold\">43</span>\n",
       "</pre>\n"
      ],
      "text/plain": [
       "project Benchmark_Safety name CPO-\u001b[1m{\u001b[0mSafetyPointGoal1-v0\u001b[1m}\u001b[0m-seed-\u001b[1;36m000\u001b[0m-\u001b[1;36m2024\u001b[0m-\u001b[1;36m04\u001b[0m-\u001b[1;36m24\u001b[0m-\u001b[1;36m11\u001b[0m-\u001b[1;36m29\u001b[0m-\u001b[1;36m43\u001b[0m\n"
      ]
     },
     "metadata": {},
     "output_type": "display_data"
    },
    {
     "data": {
      "text/html": [
       "Tracking run with wandb version 0.16.6"
      ],
      "text/plain": [
       "<IPython.core.display.HTML object>"
      ]
     },
     "metadata": {},
     "output_type": "display_data"
    },
    {
     "data": {
      "text/html": [
       "Run data is saved locally in <code>./exp-x\\BM_Safety_CPO\\SafetyPointGoal1-v0---a666ef11f41efb3aebf109cd70c4d4f6f3fe654ce38f5144dfb4fe07a0c7c165\\CPO-{SafetyPointGoal1-v0}\\seed-000-2024-04-24-11-29-43\\wandb\\run-20240424_112946-j3dqeqwc</code>"
      ],
      "text/plain": [
       "<IPython.core.display.HTML object>"
      ]
     },
     "metadata": {},
     "output_type": "display_data"
    },
    {
     "data": {
      "text/html": [
       "Syncing run <strong><a href='https://wandb.ai/sasank/Benchmark_Safety/runs/j3dqeqwc' target=\"_blank\">CPO-{SafetyPointGoal1-v0}-seed-000-2024-04-24-11-29-43</a></strong> to <a href='https://wandb.ai/sasank/Benchmark_Safety' target=\"_blank\">Weights & Biases</a> (<a href='https://wandb.me/run' target=\"_blank\">docs</a>)<br/>"
      ],
      "text/plain": [
       "<IPython.core.display.HTML object>"
      ]
     },
     "metadata": {},
     "output_type": "display_data"
    },
    {
     "data": {
      "text/html": [
       " View project at <a href='https://wandb.ai/sasank/Benchmark_Safety' target=\"_blank\">https://wandb.ai/sasank/Benchmark_Safety</a>"
      ],
      "text/plain": [
       "<IPython.core.display.HTML object>"
      ]
     },
     "metadata": {},
     "output_type": "display_data"
    },
    {
     "data": {
      "text/html": [
       " View run at <a href='https://wandb.ai/sasank/Benchmark_Safety/runs/j3dqeqwc' target=\"_blank\">https://wandb.ai/sasank/Benchmark_Safety/runs/j3dqeqwc</a>"
      ],
      "text/plain": [
       "<IPython.core.display.HTML object>"
      ]
     },
     "metadata": {},
     "output_type": "display_data"
    },
    {
     "data": {
      "text/html": [
       "<pre style=\"white-space:pre;overflow-x:auto;line-height:normal;font-family:Menlo,'DejaVu Sans Mono',consolas,'Courier New',monospace\"><span style=\"color: #008000; text-decoration-color: #008000\">INFO: Start training</span>\n",
       "</pre>\n"
      ],
      "text/plain": [
       "\u001b[32mINFO: Start training\u001b[0m\n"
      ]
     },
     "metadata": {},
     "output_type": "display_data"
    },
    {
     "data": {
      "text/html": [
       "<pre style=\"white-space:pre;overflow-x:auto;line-height:normal;font-family:Menlo,'DejaVu Sans Mono',consolas,'Courier New',monospace\">c:\\Users\\saisa\\.conda\\envs\\omnisafe-env\\lib\\site-packages\\rich\\live.py:231: UserWarning: install \"ipywidgets\" for \n",
       "Jupyter support\n",
       "  warnings.warn('install \"ipywidgets\" for Jupyter support')\n",
       "</pre>\n"
      ],
      "text/plain": [
       "c:\\Users\\saisa\\.conda\\envs\\omnisafe-env\\lib\\site-packages\\rich\\live.py:231: UserWarning: install \"ipywidgets\" for \n",
       "Jupyter support\n",
       "  warnings.warn('install \"ipywidgets\" for Jupyter support')\n"
      ]
     },
     "metadata": {},
     "output_type": "display_data"
    },
    {
     "data": {
      "text/html": [
       "<pre style=\"white-space:pre;overflow-x:auto;line-height:normal;font-family:Menlo,'DejaVu Sans Mono',consolas,'Courier New',monospace\"><span style=\"color: #008000; text-decoration-color: #008000\">Warning: trajectory cut off when rollout by epoch at </span><span style=\"color: #008080; text-decoration-color: #008080; font-weight: bold\">1000.0</span><span style=\"color: #008000; text-decoration-color: #008000\"> steps.</span>\n",
       "</pre>\n"
      ],
      "text/plain": [
       "\u001b[32mWarning: trajectory cut off when rollout by epoch at \u001b[0m\u001b[1;36m1000.0\u001b[0m\u001b[32m steps.\u001b[0m\n"
      ]
     },
     "metadata": {},
     "output_type": "display_data"
    },
    {
     "data": {
      "text/html": [
       "<pre style=\"white-space:pre;overflow-x:auto;line-height:normal;font-family:Menlo,'DejaVu Sans Mono',consolas,'Courier New',monospace\"><span style=\"color: #008000; text-decoration-color: #008000\">Warning: trajectory cut off when rollout by epoch at </span><span style=\"color: #008080; text-decoration-color: #008080; font-weight: bold\">1000.0</span><span style=\"color: #008000; text-decoration-color: #008000\"> steps.</span>\n",
       "</pre>\n"
      ],
      "text/plain": [
       "\u001b[32mWarning: trajectory cut off when rollout by epoch at \u001b[0m\u001b[1;36m1000.0\u001b[0m\u001b[32m steps.\u001b[0m\n"
      ]
     },
     "metadata": {},
     "output_type": "display_data"
    },
    {
     "data": {
      "text/html": [
       "<pre style=\"white-space:pre;overflow-x:auto;line-height:normal;font-family:Menlo,'DejaVu Sans Mono',consolas,'Courier New',monospace\"><span style=\"color: #008000; text-decoration-color: #008000\">Warning: trajectory cut off when rollout by epoch at </span><span style=\"color: #008080; text-decoration-color: #008080; font-weight: bold\">1000.0</span><span style=\"color: #008000; text-decoration-color: #008000\"> steps.</span>\n",
       "</pre>\n"
      ],
      "text/plain": [
       "\u001b[32mWarning: trajectory cut off when rollout by epoch at \u001b[0m\u001b[1;36m1000.0\u001b[0m\u001b[32m steps.\u001b[0m\n"
      ]
     },
     "metadata": {},
     "output_type": "display_data"
    },
    {
     "data": {
      "text/html": [
       "<pre style=\"white-space:pre;overflow-x:auto;line-height:normal;font-family:Menlo,'DejaVu Sans Mono',consolas,'Courier New',monospace\"><span style=\"color: #008000; text-decoration-color: #008000\">Warning: trajectory cut off when rollout by epoch at </span><span style=\"color: #008080; text-decoration-color: #008080; font-weight: bold\">1000.0</span><span style=\"color: #008000; text-decoration-color: #008000\"> steps.</span>\n",
       "</pre>\n"
      ],
      "text/plain": [
       "\u001b[32mWarning: trajectory cut off when rollout by epoch at \u001b[0m\u001b[1;36m1000.0\u001b[0m\u001b[32m steps.\u001b[0m\n"
      ]
     },
     "metadata": {},
     "output_type": "display_data"
    },
    {
     "data": {
      "text/html": [
       "<pre style=\"white-space:pre;overflow-x:auto;line-height:normal;font-family:Menlo,'DejaVu Sans Mono',consolas,'Courier New',monospace\"></pre>\n"
      ],
      "text/plain": []
     },
     "metadata": {},
     "output_type": "display_data"
    },
    {
     "data": {
      "text/html": [
       "<pre style=\"white-space:pre;overflow-x:auto;line-height:normal;font-family:Menlo,'DejaVu Sans Mono',consolas,'Courier New',monospace\">\n",
       "</pre>\n"
      ],
      "text/plain": [
       "\n"
      ]
     },
     "metadata": {},
     "output_type": "display_data"
    },
    {
     "data": {
      "text/html": [
       "<pre style=\"white-space:pre;overflow-x:auto;line-height:normal;font-family:Menlo,'DejaVu Sans Mono',consolas,'Courier New',monospace\"><span style=\"color: #800000; text-decoration-color: #800000\">Alert! Attempting infeasible recovery!</span>\n",
       "</pre>\n"
      ],
      "text/plain": [
       "\u001b[31mAlert! Attempting infeasible recovery!\u001b[0m\n"
      ]
     },
     "metadata": {},
     "output_type": "display_data"
    },
    {
     "data": {
      "text/html": [
       "<pre style=\"white-space:pre;overflow-x:auto;line-height:normal;font-family:Menlo,'DejaVu Sans Mono',consolas,'Courier New',monospace\"><span style=\"color: #008000; text-decoration-color: #008000\">Expected Improvement: </span><span style=\"color: #008080; text-decoration-color: #008080; font-weight: bold\">-0.003815766889601946</span><span style=\"color: #008000; text-decoration-color: #008000\"> Actual: </span><span style=\"color: #008080; text-decoration-color: #008080; font-weight: bold\">-0.003724190406501293</span>\n",
       "</pre>\n"
      ],
      "text/plain": [
       "\u001b[32mExpected Improvement: \u001b[0m\u001b[1;36m-0.003815766889601946\u001b[0m\u001b[32m Actual: \u001b[0m\u001b[1;36m-0.003724190406501293\u001b[0m\n"
      ]
     },
     "metadata": {},
     "output_type": "display_data"
    },
    {
     "data": {
      "text/html": [
       "<pre style=\"white-space:pre;overflow-x:auto;line-height:normal;font-family:Menlo,'DejaVu Sans Mono',consolas,'Courier New',monospace\"><span style=\"color: #008000; text-decoration-color: #008000\">Accept step at </span><span style=\"color: #808000; text-decoration-color: #808000\">i</span><span style=\"color: #008000; text-decoration-color: #008000\">=</span><span style=\"color: #008080; text-decoration-color: #008080; font-weight: bold\">1</span>\n",
       "</pre>\n"
      ],
      "text/plain": [
       "\u001b[32mAccept step at \u001b[0m\u001b[33mi\u001b[0m\u001b[32m=\u001b[0m\u001b[1;36m1\u001b[0m\n"
      ]
     },
     "metadata": {},
     "output_type": "display_data"
    },
    {
     "data": {
      "text/html": [
       "<pre style=\"white-space:pre;overflow-x:auto;line-height:normal;font-family:Menlo,'DejaVu Sans Mono',consolas,'Courier New',monospace\">┏━━━━━━━━━━━━━━━━━━━━━━━━━━━━━━━┳━━━━━━━━━━━━━━━━━━━━━━━━┓\n",
       "┃<span style=\"font-weight: bold\"> Metrics                       </span>┃<span style=\"font-weight: bold\"> Value                  </span>┃\n",
       "┡━━━━━━━━━━━━━━━━━━━━━━━━━━━━━━━╇━━━━━━━━━━━━━━━━━━━━━━━━┩\n",
       "│ Metrics/EpRet                 │ -0.6186364889144897    │\n",
       "│ Metrics/EpCost                │ 63.150001525878906     │\n",
       "│ Metrics/EpLen                 │ 1000.0                 │\n",
       "│ Train/Epoch                   │ 0.0                    │\n",
       "│ Train/Entropy                 │ 1.4187406301498413     │\n",
       "│ Train/KL                      │ 0.00013370208034757525 │\n",
       "│ Train/StopIter                │ 10.0                   │\n",
       "│ Train/PolicyRatio/Mean        │ 0.9998192191123962     │\n",
       "│ Train/PolicyRatio/Min         │ 0.9998192191123962     │\n",
       "│ Train/PolicyRatio/Max         │ 0.9998192191123962     │\n",
       "│ Train/PolicyRatio/Std         │ 0.00012784544378519058 │\n",
       "│ Train/LR                      │ 0.0                    │\n",
       "│ Train/PolicyStd               │ 0.9998033046722412     │\n",
       "│ TotalEnvSteps                 │ 20000.0                │\n",
       "│ Loss/Loss_pi                  │ -0.0055734519846737385 │\n",
       "│ Loss/Loss_pi/Delta            │ -0.0055734519846737385 │\n",
       "│ Value/Adv                     │ -1.678466787780053e-08 │\n",
       "│ Loss/Loss_reward_critic       │ 0.005614597350358963   │\n",
       "│ Loss/Loss_reward_critic/Delta │ 0.005614597350358963   │\n",
       "│ Value/reward                  │ 0.008124573156237602   │\n",
       "│ Loss/Loss_cost_critic         │ 3.17067289352417       │\n",
       "│ Loss/Loss_cost_critic/Delta   │ 3.17067289352417       │\n",
       "│ Value/cost                    │ -0.1613626927137375    │\n",
       "│ Time/Total                    │ 54.23627471923828      │\n",
       "│ Time/Rollout                  │ 40.328468322753906     │\n",
       "│ Time/Update                   │ 13.906801223754883     │\n",
       "│ Time/Epoch                    │ 54.23527145385742      │\n",
       "│ Time/FPS                      │ 368.76373291015625     │\n",
       "│ Misc/Alpha                    │ 1.030076503753662      │\n",
       "│ Misc/FinalStepNorm            │ 0.3271431624889374     │\n",
       "│ Misc/gradient_norm            │ 0.08716051280498505    │\n",
       "│ Misc/xHx                      │ 0.01884910836815834    │\n",
       "│ Misc/H_inv_g                  │ 0.2719457149505615     │\n",
       "│ Misc/AcceptanceStep           │ 1.0                    │\n",
       "│ Misc/cost_gradient_norm       │ 0.11460208147764206    │\n",
       "│ Misc/A                        │ 0.018121104687452316   │\n",
       "│ Misc/B                        │ -28434.1171875         │\n",
       "│ Misc/q                        │ 0.01884910836815834    │\n",
       "│ Misc/r                        │ 0.006104377098381519   │\n",
       "│ Misc/s                        │ 0.051185738295316696   │\n",
       "│ Misc/Lambda_star              │ 0.0                    │\n",
       "│ Misc/Nu_star                  │ 0.6250869631767273     │\n",
       "│ Misc/OptimCase                │ 0.0                    │\n",
       "└───────────────────────────────┴────────────────────────┘\n",
       "</pre>\n"
      ],
      "text/plain": [
       "┏━━━━━━━━━━━━━━━━━━━━━━━━━━━━━━━┳━━━━━━━━━━━━━━━━━━━━━━━━┓\n",
       "┃\u001b[1m \u001b[0m\u001b[1mMetrics                      \u001b[0m\u001b[1m \u001b[0m┃\u001b[1m \u001b[0m\u001b[1mValue                 \u001b[0m\u001b[1m \u001b[0m┃\n",
       "┡━━━━━━━━━━━━━━━━━━━━━━━━━━━━━━━╇━━━━━━━━━━━━━━━━━━━━━━━━┩\n",
       "│ Metrics/EpRet                 │ -0.6186364889144897    │\n",
       "│ Metrics/EpCost                │ 63.150001525878906     │\n",
       "│ Metrics/EpLen                 │ 1000.0                 │\n",
       "│ Train/Epoch                   │ 0.0                    │\n",
       "│ Train/Entropy                 │ 1.4187406301498413     │\n",
       "│ Train/KL                      │ 0.00013370208034757525 │\n",
       "│ Train/StopIter                │ 10.0                   │\n",
       "│ Train/PolicyRatio/Mean        │ 0.9998192191123962     │\n",
       "│ Train/PolicyRatio/Min         │ 0.9998192191123962     │\n",
       "│ Train/PolicyRatio/Max         │ 0.9998192191123962     │\n",
       "│ Train/PolicyRatio/Std         │ 0.00012784544378519058 │\n",
       "│ Train/LR                      │ 0.0                    │\n",
       "│ Train/PolicyStd               │ 0.9998033046722412     │\n",
       "│ TotalEnvSteps                 │ 20000.0                │\n",
       "│ Loss/Loss_pi                  │ -0.0055734519846737385 │\n",
       "│ Loss/Loss_pi/Delta            │ -0.0055734519846737385 │\n",
       "│ Value/Adv                     │ -1.678466787780053e-08 │\n",
       "│ Loss/Loss_reward_critic       │ 0.005614597350358963   │\n",
       "│ Loss/Loss_reward_critic/Delta │ 0.005614597350358963   │\n",
       "│ Value/reward                  │ 0.008124573156237602   │\n",
       "│ Loss/Loss_cost_critic         │ 3.17067289352417       │\n",
       "│ Loss/Loss_cost_critic/Delta   │ 3.17067289352417       │\n",
       "│ Value/cost                    │ -0.1613626927137375    │\n",
       "│ Time/Total                    │ 54.23627471923828      │\n",
       "│ Time/Rollout                  │ 40.328468322753906     │\n",
       "│ Time/Update                   │ 13.906801223754883     │\n",
       "│ Time/Epoch                    │ 54.23527145385742      │\n",
       "│ Time/FPS                      │ 368.76373291015625     │\n",
       "│ Misc/Alpha                    │ 1.030076503753662      │\n",
       "│ Misc/FinalStepNorm            │ 0.3271431624889374     │\n",
       "│ Misc/gradient_norm            │ 0.08716051280498505    │\n",
       "│ Misc/xHx                      │ 0.01884910836815834    │\n",
       "│ Misc/H_inv_g                  │ 0.2719457149505615     │\n",
       "│ Misc/AcceptanceStep           │ 1.0                    │\n",
       "│ Misc/cost_gradient_norm       │ 0.11460208147764206    │\n",
       "│ Misc/A                        │ 0.018121104687452316   │\n",
       "│ Misc/B                        │ -28434.1171875         │\n",
       "│ Misc/q                        │ 0.01884910836815834    │\n",
       "│ Misc/r                        │ 0.006104377098381519   │\n",
       "│ Misc/s                        │ 0.051185738295316696   │\n",
       "│ Misc/Lambda_star              │ 0.0                    │\n",
       "│ Misc/Nu_star                  │ 0.6250869631767273     │\n",
       "│ Misc/OptimCase                │ 0.0                    │\n",
       "└───────────────────────────────┴────────────────────────┘\n"
      ]
     },
     "metadata": {},
     "output_type": "display_data"
    },
    {
     "data": {
      "text/html": [
       "<pre style=\"white-space:pre;overflow-x:auto;line-height:normal;font-family:Menlo,'DejaVu Sans Mono',consolas,'Courier New',monospace\"><span style=\"color: #008000; text-decoration-color: #008000\">Warning: trajectory cut off when rollout by epoch at </span><span style=\"color: #008080; text-decoration-color: #008080; font-weight: bold\">1000.0</span><span style=\"color: #008000; text-decoration-color: #008000\"> steps.</span>\n",
       "</pre>\n"
      ],
      "text/plain": [
       "\u001b[32mWarning: trajectory cut off when rollout by epoch at \u001b[0m\u001b[1;36m1000.0\u001b[0m\u001b[32m steps.\u001b[0m\n"
      ]
     },
     "metadata": {},
     "output_type": "display_data"
    },
    {
     "data": {
      "text/html": [
       "<pre style=\"white-space:pre;overflow-x:auto;line-height:normal;font-family:Menlo,'DejaVu Sans Mono',consolas,'Courier New',monospace\"><span style=\"color: #008000; text-decoration-color: #008000\">Warning: trajectory cut off when rollout by epoch at </span><span style=\"color: #008080; text-decoration-color: #008080; font-weight: bold\">1000.0</span><span style=\"color: #008000; text-decoration-color: #008000\"> steps.</span>\n",
       "</pre>\n"
      ],
      "text/plain": [
       "\u001b[32mWarning: trajectory cut off when rollout by epoch at \u001b[0m\u001b[1;36m1000.0\u001b[0m\u001b[32m steps.\u001b[0m\n"
      ]
     },
     "metadata": {},
     "output_type": "display_data"
    },
    {
     "data": {
      "text/html": [
       "<pre style=\"white-space:pre;overflow-x:auto;line-height:normal;font-family:Menlo,'DejaVu Sans Mono',consolas,'Courier New',monospace\"><span style=\"color: #008000; text-decoration-color: #008000\">Warning: trajectory cut off when rollout by epoch at </span><span style=\"color: #008080; text-decoration-color: #008080; font-weight: bold\">1000.0</span><span style=\"color: #008000; text-decoration-color: #008000\"> steps.</span>\n",
       "</pre>\n"
      ],
      "text/plain": [
       "\u001b[32mWarning: trajectory cut off when rollout by epoch at \u001b[0m\u001b[1;36m1000.0\u001b[0m\u001b[32m steps.\u001b[0m\n"
      ]
     },
     "metadata": {},
     "output_type": "display_data"
    },
    {
     "data": {
      "text/html": [
       "<pre style=\"white-space:pre;overflow-x:auto;line-height:normal;font-family:Menlo,'DejaVu Sans Mono',consolas,'Courier New',monospace\"><span style=\"color: #008000; text-decoration-color: #008000\">Warning: trajectory cut off when rollout by epoch at </span><span style=\"color: #008080; text-decoration-color: #008080; font-weight: bold\">1000.0</span><span style=\"color: #008000; text-decoration-color: #008000\"> steps.</span>\n",
       "</pre>\n"
      ],
      "text/plain": [
       "\u001b[32mWarning: trajectory cut off when rollout by epoch at \u001b[0m\u001b[1;36m1000.0\u001b[0m\u001b[32m steps.\u001b[0m\n"
      ]
     },
     "metadata": {},
     "output_type": "display_data"
    },
    {
     "data": {
      "text/html": [
       "<pre style=\"white-space:pre;overflow-x:auto;line-height:normal;font-family:Menlo,'DejaVu Sans Mono',consolas,'Courier New',monospace\"></pre>\n"
      ],
      "text/plain": []
     },
     "metadata": {},
     "output_type": "display_data"
    },
    {
     "data": {
      "text/html": [
       "<pre style=\"white-space:pre;overflow-x:auto;line-height:normal;font-family:Menlo,'DejaVu Sans Mono',consolas,'Courier New',monospace\">\n",
       "</pre>\n"
      ],
      "text/plain": [
       "\n"
      ]
     },
     "metadata": {},
     "output_type": "display_data"
    },
    {
     "data": {
      "text/html": [
       "<pre style=\"white-space:pre;overflow-x:auto;line-height:normal;font-family:Menlo,'DejaVu Sans Mono',consolas,'Courier New',monospace\"><span style=\"color: #800000; text-decoration-color: #800000\">Alert! Attempting infeasible recovery!</span>\n",
       "</pre>\n"
      ],
      "text/plain": [
       "\u001b[31mAlert! Attempting infeasible recovery!\u001b[0m\n"
      ]
     },
     "metadata": {},
     "output_type": "display_data"
    },
    {
     "data": {
      "text/html": [
       "<pre style=\"white-space:pre;overflow-x:auto;line-height:normal;font-family:Menlo,'DejaVu Sans Mono',consolas,'Courier New',monospace\"><span style=\"color: #008000; text-decoration-color: #008000\">Expected Improvement: </span><span style=\"color: #008080; text-decoration-color: #008080; font-weight: bold\">-0.0027849713806062937</span><span style=\"color: #008000; text-decoration-color: #008000\"> Actual: </span><span style=\"color: #008080; text-decoration-color: #008080; font-weight: bold\">-0.0024925172328948975</span>\n",
       "</pre>\n"
      ],
      "text/plain": [
       "\u001b[32mExpected Improvement: \u001b[0m\u001b[1;36m-0.0027849713806062937\u001b[0m\u001b[32m Actual: \u001b[0m\u001b[1;36m-0.0024925172328948975\u001b[0m\n"
      ]
     },
     "metadata": {},
     "output_type": "display_data"
    },
    {
     "data": {
      "text/html": [
       "<pre style=\"white-space:pre;overflow-x:auto;line-height:normal;font-family:Menlo,'DejaVu Sans Mono',consolas,'Courier New',monospace\"><span style=\"color: #008000; text-decoration-color: #008000\">Accept step at </span><span style=\"color: #808000; text-decoration-color: #808000\">i</span><span style=\"color: #008000; text-decoration-color: #008000\">=</span><span style=\"color: #008080; text-decoration-color: #008080; font-weight: bold\">1</span>\n",
       "</pre>\n"
      ],
      "text/plain": [
       "\u001b[32mAccept step at \u001b[0m\u001b[33mi\u001b[0m\u001b[32m=\u001b[0m\u001b[1;36m1\u001b[0m\n"
      ]
     },
     "metadata": {},
     "output_type": "display_data"
    },
    {
     "data": {
      "text/html": [
       "<pre style=\"white-space:pre;overflow-x:auto;line-height:normal;font-family:Menlo,'DejaVu Sans Mono',consolas,'Courier New',monospace\">┏━━━━━━━━━━━━━━━━━━━━━━━━━━━━━━━┳━━━━━━━━━━━━━━━━━━━━━━━━━┓\n",
       "┃<span style=\"font-weight: bold\"> Metrics                       </span>┃<span style=\"font-weight: bold\"> Value                   </span>┃\n",
       "┡━━━━━━━━━━━━━━━━━━━━━━━━━━━━━━━╇━━━━━━━━━━━━━━━━━━━━━━━━━┩\n",
       "│ Metrics/EpRet                 │ -0.9414247274398804     │\n",
       "│ Metrics/EpCost                │ 75.7750015258789        │\n",
       "│ Metrics/EpLen                 │ 1000.0                  │\n",
       "│ Train/Epoch                   │ 1.0                     │\n",
       "│ Train/Entropy                 │ 1.42721426486969        │\n",
       "│ Train/KL                      │ 0.00012582588533405215  │\n",
       "│ Train/StopIter                │ 10.0                    │\n",
       "│ Train/PolicyRatio/Mean        │ 0.9996297955513         │\n",
       "│ Train/PolicyRatio/Min         │ 0.9996298551559448      │\n",
       "│ Train/PolicyRatio/Max         │ 0.9996298551559448      │\n",
       "│ Train/PolicyRatio/Std         │ 0.00026176002575084567  │\n",
       "│ Train/LR                      │ 0.0                     │\n",
       "│ Train/PolicyStd               │ 1.0084468126296997      │\n",
       "│ TotalEnvSteps                 │ 40000.0                 │\n",
       "│ Loss/Loss_pi                  │ -0.008723990991711617   │\n",
       "│ Loss/Loss_pi/Delta            │ -0.003150539007037878   │\n",
       "│ Value/Adv                     │ -1.2207030941624453e-08 │\n",
       "│ Loss/Loss_reward_critic       │ 0.0022652081679552794   │\n",
       "│ Loss/Loss_reward_critic/Delta │ -0.0033493891824036837  │\n",
       "│ Value/reward                  │ -0.002668038010597229   │\n",
       "│ Loss/Loss_cost_critic         │ 1.6445250511169434      │\n",
       "│ Loss/Loss_cost_critic/Delta   │ -1.5261478424072266     │\n",
       "│ Value/cost                    │ 1.1527683734893799      │\n",
       "│ Time/Total                    │ 118.71365356445312      │\n",
       "│ Time/Rollout                  │ 51.184513092041016      │\n",
       "│ Time/Update                   │ 13.241327285766602      │\n",
       "│ Time/Epoch                    │ 64.42584228515625       │\n",
       "│ Time/FPS                      │ 310.4344482421875       │\n",
       "│ Misc/Alpha                    │ 0.8548263907432556      │\n",
       "│ Misc/FinalStepNorm            │ 0.33380722999572754     │\n",
       "│ Misc/gradient_norm            │ 0.1167111024260521      │\n",
       "│ Misc/xHx                      │ 0.027369946241378784    │\n",
       "│ Misc/H_inv_g                  │ 0.28007540106773376     │\n",
       "│ Misc/AcceptanceStep           │ 1.0                     │\n",
       "│ Misc/cost_gradient_norm       │ 0.16706320643424988     │\n",
       "│ Misc/A                        │ 0.0269821435213089      │\n",
       "│ Misc/B                        │ -27960.255859375        │\n",
       "│ Misc/q                        │ 0.027369946241378784    │\n",
       "│ Misc/r                        │ 0.005979776382446289    │\n",
       "│ Misc/s                        │ 0.09220583736896515     │\n",
       "│ Misc/Lambda_star              │ 0.0                     │\n",
       "│ Misc/Nu_star                  │ 0.465731680393219       │\n",
       "│ Misc/OptimCase                │ 0.0                     │\n",
       "└───────────────────────────────┴─────────────────────────┘\n",
       "</pre>\n"
      ],
      "text/plain": [
       "┏━━━━━━━━━━━━━━━━━━━━━━━━━━━━━━━┳━━━━━━━━━━━━━━━━━━━━━━━━━┓\n",
       "┃\u001b[1m \u001b[0m\u001b[1mMetrics                      \u001b[0m\u001b[1m \u001b[0m┃\u001b[1m \u001b[0m\u001b[1mValue                  \u001b[0m\u001b[1m \u001b[0m┃\n",
       "┡━━━━━━━━━━━━━━━━━━━━━━━━━━━━━━━╇━━━━━━━━━━━━━━━━━━━━━━━━━┩\n",
       "│ Metrics/EpRet                 │ -0.9414247274398804     │\n",
       "│ Metrics/EpCost                │ 75.7750015258789        │\n",
       "│ Metrics/EpLen                 │ 1000.0                  │\n",
       "│ Train/Epoch                   │ 1.0                     │\n",
       "│ Train/Entropy                 │ 1.42721426486969        │\n",
       "│ Train/KL                      │ 0.00012582588533405215  │\n",
       "│ Train/StopIter                │ 10.0                    │\n",
       "│ Train/PolicyRatio/Mean        │ 0.9996297955513         │\n",
       "│ Train/PolicyRatio/Min         │ 0.9996298551559448      │\n",
       "│ Train/PolicyRatio/Max         │ 0.9996298551559448      │\n",
       "│ Train/PolicyRatio/Std         │ 0.00026176002575084567  │\n",
       "│ Train/LR                      │ 0.0                     │\n",
       "│ Train/PolicyStd               │ 1.0084468126296997      │\n",
       "│ TotalEnvSteps                 │ 40000.0                 │\n",
       "│ Loss/Loss_pi                  │ -0.008723990991711617   │\n",
       "│ Loss/Loss_pi/Delta            │ -0.003150539007037878   │\n",
       "│ Value/Adv                     │ -1.2207030941624453e-08 │\n",
       "│ Loss/Loss_reward_critic       │ 0.0022652081679552794   │\n",
       "│ Loss/Loss_reward_critic/Delta │ -0.0033493891824036837  │\n",
       "│ Value/reward                  │ -0.002668038010597229   │\n",
       "│ Loss/Loss_cost_critic         │ 1.6445250511169434      │\n",
       "│ Loss/Loss_cost_critic/Delta   │ -1.5261478424072266     │\n",
       "│ Value/cost                    │ 1.1527683734893799      │\n",
       "│ Time/Total                    │ 118.71365356445312      │\n",
       "│ Time/Rollout                  │ 51.184513092041016      │\n",
       "│ Time/Update                   │ 13.241327285766602      │\n",
       "│ Time/Epoch                    │ 64.42584228515625       │\n",
       "│ Time/FPS                      │ 310.4344482421875       │\n",
       "│ Misc/Alpha                    │ 0.8548263907432556      │\n",
       "│ Misc/FinalStepNorm            │ 0.33380722999572754     │\n",
       "│ Misc/gradient_norm            │ 0.1167111024260521      │\n",
       "│ Misc/xHx                      │ 0.027369946241378784    │\n",
       "│ Misc/H_inv_g                  │ 0.28007540106773376     │\n",
       "│ Misc/AcceptanceStep           │ 1.0                     │\n",
       "│ Misc/cost_gradient_norm       │ 0.16706320643424988     │\n",
       "│ Misc/A                        │ 0.0269821435213089      │\n",
       "│ Misc/B                        │ -27960.255859375        │\n",
       "│ Misc/q                        │ 0.027369946241378784    │\n",
       "│ Misc/r                        │ 0.005979776382446289    │\n",
       "│ Misc/s                        │ 0.09220583736896515     │\n",
       "│ Misc/Lambda_star              │ 0.0                     │\n",
       "│ Misc/Nu_star                  │ 0.465731680393219       │\n",
       "│ Misc/OptimCase                │ 0.0                     │\n",
       "└───────────────────────────────┴─────────────────────────┘\n"
      ]
     },
     "metadata": {},
     "output_type": "display_data"
    },
    {
     "data": {
      "text/html": [
       "<pre style=\"white-space:pre;overflow-x:auto;line-height:normal;font-family:Menlo,'DejaVu Sans Mono',consolas,'Courier New',monospace\"><span style=\"color: #008000; text-decoration-color: #008000\">Warning: trajectory cut off when rollout by epoch at </span><span style=\"color: #008080; text-decoration-color: #008080; font-weight: bold\">1000.0</span><span style=\"color: #008000; text-decoration-color: #008000\"> steps.</span>\n",
       "</pre>\n"
      ],
      "text/plain": [
       "\u001b[32mWarning: trajectory cut off when rollout by epoch at \u001b[0m\u001b[1;36m1000.0\u001b[0m\u001b[32m steps.\u001b[0m\n"
      ]
     },
     "metadata": {},
     "output_type": "display_data"
    },
    {
     "data": {
      "text/html": [
       "<pre style=\"white-space:pre;overflow-x:auto;line-height:normal;font-family:Menlo,'DejaVu Sans Mono',consolas,'Courier New',monospace\"><span style=\"color: #008000; text-decoration-color: #008000\">Warning: trajectory cut off when rollout by epoch at </span><span style=\"color: #008080; text-decoration-color: #008080; font-weight: bold\">1000.0</span><span style=\"color: #008000; text-decoration-color: #008000\"> steps.</span>\n",
       "</pre>\n"
      ],
      "text/plain": [
       "\u001b[32mWarning: trajectory cut off when rollout by epoch at \u001b[0m\u001b[1;36m1000.0\u001b[0m\u001b[32m steps.\u001b[0m\n"
      ]
     },
     "metadata": {},
     "output_type": "display_data"
    },
    {
     "data": {
      "text/html": [
       "<pre style=\"white-space:pre;overflow-x:auto;line-height:normal;font-family:Menlo,'DejaVu Sans Mono',consolas,'Courier New',monospace\"><span style=\"color: #008000; text-decoration-color: #008000\">Warning: trajectory cut off when rollout by epoch at </span><span style=\"color: #008080; text-decoration-color: #008080; font-weight: bold\">1000.0</span><span style=\"color: #008000; text-decoration-color: #008000\"> steps.</span>\n",
       "</pre>\n"
      ],
      "text/plain": [
       "\u001b[32mWarning: trajectory cut off when rollout by epoch at \u001b[0m\u001b[1;36m1000.0\u001b[0m\u001b[32m steps.\u001b[0m\n"
      ]
     },
     "metadata": {},
     "output_type": "display_data"
    },
    {
     "data": {
      "text/html": [
       "<pre style=\"white-space:pre;overflow-x:auto;line-height:normal;font-family:Menlo,'DejaVu Sans Mono',consolas,'Courier New',monospace\"><span style=\"color: #008000; text-decoration-color: #008000\">Warning: trajectory cut off when rollout by epoch at </span><span style=\"color: #008080; text-decoration-color: #008080; font-weight: bold\">1000.0</span><span style=\"color: #008000; text-decoration-color: #008000\"> steps.</span>\n",
       "</pre>\n"
      ],
      "text/plain": [
       "\u001b[32mWarning: trajectory cut off when rollout by epoch at \u001b[0m\u001b[1;36m1000.0\u001b[0m\u001b[32m steps.\u001b[0m\n"
      ]
     },
     "metadata": {},
     "output_type": "display_data"
    },
    {
     "data": {
      "text/html": [
       "<pre style=\"white-space:pre;overflow-x:auto;line-height:normal;font-family:Menlo,'DejaVu Sans Mono',consolas,'Courier New',monospace\"></pre>\n"
      ],
      "text/plain": []
     },
     "metadata": {},
     "output_type": "display_data"
    },
    {
     "data": {
      "text/html": [
       "<pre style=\"white-space:pre;overflow-x:auto;line-height:normal;font-family:Menlo,'DejaVu Sans Mono',consolas,'Courier New',monospace\">\n",
       "</pre>\n"
      ],
      "text/plain": [
       "\n"
      ]
     },
     "metadata": {},
     "output_type": "display_data"
    },
    {
     "data": {
      "text/html": [
       "<pre style=\"white-space:pre;overflow-x:auto;line-height:normal;font-family:Menlo,'DejaVu Sans Mono',consolas,'Courier New',monospace\"><span style=\"color: #800000; text-decoration-color: #800000\">Alert! Attempting infeasible recovery!</span>\n",
       "</pre>\n"
      ],
      "text/plain": [
       "\u001b[31mAlert! Attempting infeasible recovery!\u001b[0m\n"
      ]
     },
     "metadata": {},
     "output_type": "display_data"
    },
    {
     "data": {
      "text/html": [
       "<pre style=\"white-space:pre;overflow-x:auto;line-height:normal;font-family:Menlo,'DejaVu Sans Mono',consolas,'Courier New',monospace\"><span style=\"color: #008000; text-decoration-color: #008000\">Expected Improvement: </span><span style=\"color: #008080; text-decoration-color: #008080; font-weight: bold\">-0.0013493960723280907</span><span style=\"color: #008000; text-decoration-color: #008000\"> Actual: </span><span style=\"color: #008080; text-decoration-color: #008080; font-weight: bold\">0.0014060760149732232</span>\n",
       "</pre>\n"
      ],
      "text/plain": [
       "\u001b[32mExpected Improvement: \u001b[0m\u001b[1;36m-0.0013493960723280907\u001b[0m\u001b[32m Actual: \u001b[0m\u001b[1;36m0.0014060760149732232\u001b[0m\n"
      ]
     },
     "metadata": {},
     "output_type": "display_data"
    },
    {
     "data": {
      "text/html": [
       "<pre style=\"white-space:pre;overflow-x:auto;line-height:normal;font-family:Menlo,'DejaVu Sans Mono',consolas,'Courier New',monospace\"><span style=\"color: #008000; text-decoration-color: #008000\">Accept step at </span><span style=\"color: #808000; text-decoration-color: #808000\">i</span><span style=\"color: #008000; text-decoration-color: #008000\">=</span><span style=\"color: #008080; text-decoration-color: #008080; font-weight: bold\">1</span>\n",
       "</pre>\n"
      ],
      "text/plain": [
       "\u001b[32mAccept step at \u001b[0m\u001b[33mi\u001b[0m\u001b[32m=\u001b[0m\u001b[1;36m1\u001b[0m\n"
      ]
     },
     "metadata": {},
     "output_type": "display_data"
    },
    {
     "data": {
      "text/html": [
       "<pre style=\"white-space:pre;overflow-x:auto;line-height:normal;font-family:Menlo,'DejaVu Sans Mono',consolas,'Courier New',monospace\">┏━━━━━━━━━━━━━━━━━━━━━━━━━━━━━━━┳━━━━━━━━━━━━━━━━━━━━━━━━━┓\n",
       "┃<span style=\"font-weight: bold\"> Metrics                       </span>┃<span style=\"font-weight: bold\"> Value                   </span>┃\n",
       "┡━━━━━━━━━━━━━━━━━━━━━━━━━━━━━━━╇━━━━━━━━━━━━━━━━━━━━━━━━━┩\n",
       "│ Metrics/EpRet                 │ -1.004709243774414      │\n",
       "│ Metrics/EpCost                │ 59.119998931884766      │\n",
       "│ Metrics/EpLen                 │ 1000.0                  │\n",
       "│ Train/Epoch                   │ 2.0                     │\n",
       "│ Train/Entropy                 │ 1.4344282150268555      │\n",
       "│ Train/KL                      │ 0.00015574193093925714  │\n",
       "│ Train/StopIter                │ 10.0                    │\n",
       "│ Train/PolicyRatio/Mean        │ 1.0006877183914185      │\n",
       "│ Train/PolicyRatio/Min         │ 1.000687837600708       │\n",
       "│ Train/PolicyRatio/Max         │ 1.000687837600708       │\n",
       "│ Train/PolicyRatio/Std         │ 0.00048631842946633697  │\n",
       "│ Train/LR                      │ 0.0                     │\n",
       "│ Train/PolicyStd               │ 1.015671968460083       │\n",
       "│ TotalEnvSteps                 │ 60000.0                 │\n",
       "│ Loss/Loss_pi                  │ -0.00888078287243843    │\n",
       "│ Loss/Loss_pi/Delta            │ -0.00015679188072681427 │\n",
       "│ Value/Adv                     │ 1.8692016823251834e-08  │\n",
       "│ Loss/Loss_reward_critic       │ 0.0031541583593934774   │\n",
       "│ Loss/Loss_reward_critic/Delta │ 0.0008889501914381981   │\n",
       "│ Value/reward                  │ 0.00034838466672226787  │\n",
       "│ Loss/Loss_cost_critic         │ 1.1612887382507324      │\n",
       "│ Loss/Loss_cost_critic/Delta   │ -0.48323631286621094    │\n",
       "│ Value/cost                    │ 2.2957754135131836      │\n",
       "│ Time/Total                    │ 182.86378479003906      │\n",
       "│ Time/Rollout                  │ 50.94127655029297       │\n",
       "│ Time/Update                   │ 13.15532112121582       │\n",
       "│ Time/Epoch                    │ 64.09659576416016       │\n",
       "│ Time/FPS                      │ 312.029052734375        │\n",
       "│ Misc/Alpha                    │ 0.7781277894973755      │\n",
       "│ Misc/FinalStepNorm            │ 0.30444473028182983     │\n",
       "│ Misc/gradient_norm            │ 0.13363324105739594     │\n",
       "│ Misc/xHx                      │ 0.03303147479891777     │\n",
       "│ Misc/H_inv_g                  │ 0.30651935935020447     │\n",
       "│ Misc/AcceptanceStep           │ 1.0                     │\n",
       "│ Misc/cost_gradient_norm       │ 0.12842652201652527     │\n",
       "│ Misc/A                        │ 0.03294043242931366     │\n",
       "│ Misc/B                        │ -24845.6015625          │\n",
       "│ Misc/q                        │ 0.03303147479891777     │\n",
       "│ Misc/r                        │ 0.0020654203835874796   │\n",
       "│ Misc/s                        │ 0.04685630649328232     │\n",
       "│ Misc/Lambda_star              │ 0.0                     │\n",
       "│ Misc/Nu_star                  │ 0.653327465057373       │\n",
       "│ Misc/OptimCase                │ 0.0                     │\n",
       "└───────────────────────────────┴─────────────────────────┘\n",
       "</pre>\n"
      ],
      "text/plain": [
       "┏━━━━━━━━━━━━━━━━━━━━━━━━━━━━━━━┳━━━━━━━━━━━━━━━━━━━━━━━━━┓\n",
       "┃\u001b[1m \u001b[0m\u001b[1mMetrics                      \u001b[0m\u001b[1m \u001b[0m┃\u001b[1m \u001b[0m\u001b[1mValue                  \u001b[0m\u001b[1m \u001b[0m┃\n",
       "┡━━━━━━━━━━━━━━━━━━━━━━━━━━━━━━━╇━━━━━━━━━━━━━━━━━━━━━━━━━┩\n",
       "│ Metrics/EpRet                 │ -1.004709243774414      │\n",
       "│ Metrics/EpCost                │ 59.119998931884766      │\n",
       "│ Metrics/EpLen                 │ 1000.0                  │\n",
       "│ Train/Epoch                   │ 2.0                     │\n",
       "│ Train/Entropy                 │ 1.4344282150268555      │\n",
       "│ Train/KL                      │ 0.00015574193093925714  │\n",
       "│ Train/StopIter                │ 10.0                    │\n",
       "│ Train/PolicyRatio/Mean        │ 1.0006877183914185      │\n",
       "│ Train/PolicyRatio/Min         │ 1.000687837600708       │\n",
       "│ Train/PolicyRatio/Max         │ 1.000687837600708       │\n",
       "│ Train/PolicyRatio/Std         │ 0.00048631842946633697  │\n",
       "│ Train/LR                      │ 0.0                     │\n",
       "│ Train/PolicyStd               │ 1.015671968460083       │\n",
       "│ TotalEnvSteps                 │ 60000.0                 │\n",
       "│ Loss/Loss_pi                  │ -0.00888078287243843    │\n",
       "│ Loss/Loss_pi/Delta            │ -0.00015679188072681427 │\n",
       "│ Value/Adv                     │ 1.8692016823251834e-08  │\n",
       "│ Loss/Loss_reward_critic       │ 0.0031541583593934774   │\n",
       "│ Loss/Loss_reward_critic/Delta │ 0.0008889501914381981   │\n",
       "│ Value/reward                  │ 0.00034838466672226787  │\n",
       "│ Loss/Loss_cost_critic         │ 1.1612887382507324      │\n",
       "│ Loss/Loss_cost_critic/Delta   │ -0.48323631286621094    │\n",
       "│ Value/cost                    │ 2.2957754135131836      │\n",
       "│ Time/Total                    │ 182.86378479003906      │\n",
       "│ Time/Rollout                  │ 50.94127655029297       │\n",
       "│ Time/Update                   │ 13.15532112121582       │\n",
       "│ Time/Epoch                    │ 64.09659576416016       │\n",
       "│ Time/FPS                      │ 312.029052734375        │\n",
       "│ Misc/Alpha                    │ 0.7781277894973755      │\n",
       "│ Misc/FinalStepNorm            │ 0.30444473028182983     │\n",
       "│ Misc/gradient_norm            │ 0.13363324105739594     │\n",
       "│ Misc/xHx                      │ 0.03303147479891777     │\n",
       "│ Misc/H_inv_g                  │ 0.30651935935020447     │\n",
       "│ Misc/AcceptanceStep           │ 1.0                     │\n",
       "│ Misc/cost_gradient_norm       │ 0.12842652201652527     │\n",
       "│ Misc/A                        │ 0.03294043242931366     │\n",
       "│ Misc/B                        │ -24845.6015625          │\n",
       "│ Misc/q                        │ 0.03303147479891777     │\n",
       "│ Misc/r                        │ 0.0020654203835874796   │\n",
       "│ Misc/s                        │ 0.04685630649328232     │\n",
       "│ Misc/Lambda_star              │ 0.0                     │\n",
       "│ Misc/Nu_star                  │ 0.653327465057373       │\n",
       "│ Misc/OptimCase                │ 0.0                     │\n",
       "└───────────────────────────────┴─────────────────────────┘\n"
      ]
     },
     "metadata": {},
     "output_type": "display_data"
    },
    {
     "data": {
      "text/html": [
       "<pre style=\"white-space:pre;overflow-x:auto;line-height:normal;font-family:Menlo,'DejaVu Sans Mono',consolas,'Courier New',monospace\"><span style=\"color: #008000; text-decoration-color: #008000\">Warning: trajectory cut off when rollout by epoch at </span><span style=\"color: #008080; text-decoration-color: #008080; font-weight: bold\">1000.0</span><span style=\"color: #008000; text-decoration-color: #008000\"> steps.</span>\n",
       "</pre>\n"
      ],
      "text/plain": [
       "\u001b[32mWarning: trajectory cut off when rollout by epoch at \u001b[0m\u001b[1;36m1000.0\u001b[0m\u001b[32m steps.\u001b[0m\n"
      ]
     },
     "metadata": {},
     "output_type": "display_data"
    },
    {
     "data": {
      "text/html": [
       "<pre style=\"white-space:pre;overflow-x:auto;line-height:normal;font-family:Menlo,'DejaVu Sans Mono',consolas,'Courier New',monospace\"><span style=\"color: #008000; text-decoration-color: #008000\">Warning: trajectory cut off when rollout by epoch at </span><span style=\"color: #008080; text-decoration-color: #008080; font-weight: bold\">1000.0</span><span style=\"color: #008000; text-decoration-color: #008000\"> steps.</span>\n",
       "</pre>\n"
      ],
      "text/plain": [
       "\u001b[32mWarning: trajectory cut off when rollout by epoch at \u001b[0m\u001b[1;36m1000.0\u001b[0m\u001b[32m steps.\u001b[0m\n"
      ]
     },
     "metadata": {},
     "output_type": "display_data"
    },
    {
     "data": {
      "text/html": [
       "<pre style=\"white-space:pre;overflow-x:auto;line-height:normal;font-family:Menlo,'DejaVu Sans Mono',consolas,'Courier New',monospace\"><span style=\"color: #008000; text-decoration-color: #008000\">Warning: trajectory cut off when rollout by epoch at </span><span style=\"color: #008080; text-decoration-color: #008080; font-weight: bold\">1000.0</span><span style=\"color: #008000; text-decoration-color: #008000\"> steps.</span>\n",
       "</pre>\n"
      ],
      "text/plain": [
       "\u001b[32mWarning: trajectory cut off when rollout by epoch at \u001b[0m\u001b[1;36m1000.0\u001b[0m\u001b[32m steps.\u001b[0m\n"
      ]
     },
     "metadata": {},
     "output_type": "display_data"
    },
    {
     "data": {
      "text/html": [
       "<pre style=\"white-space:pre;overflow-x:auto;line-height:normal;font-family:Menlo,'DejaVu Sans Mono',consolas,'Courier New',monospace\"><span style=\"color: #008000; text-decoration-color: #008000\">Warning: trajectory cut off when rollout by epoch at </span><span style=\"color: #008080; text-decoration-color: #008080; font-weight: bold\">1000.0</span><span style=\"color: #008000; text-decoration-color: #008000\"> steps.</span>\n",
       "</pre>\n"
      ],
      "text/plain": [
       "\u001b[32mWarning: trajectory cut off when rollout by epoch at \u001b[0m\u001b[1;36m1000.0\u001b[0m\u001b[32m steps.\u001b[0m\n"
      ]
     },
     "metadata": {},
     "output_type": "display_data"
    },
    {
     "data": {
      "text/html": [
       "<pre style=\"white-space:pre;overflow-x:auto;line-height:normal;font-family:Menlo,'DejaVu Sans Mono',consolas,'Courier New',monospace\"></pre>\n"
      ],
      "text/plain": []
     },
     "metadata": {},
     "output_type": "display_data"
    },
    {
     "data": {
      "text/html": [
       "<pre style=\"white-space:pre;overflow-x:auto;line-height:normal;font-family:Menlo,'DejaVu Sans Mono',consolas,'Courier New',monospace\">\n",
       "</pre>\n"
      ],
      "text/plain": [
       "\n"
      ]
     },
     "metadata": {},
     "output_type": "display_data"
    },
    {
     "data": {
      "text/html": [
       "<pre style=\"white-space:pre;overflow-x:auto;line-height:normal;font-family:Menlo,'DejaVu Sans Mono',consolas,'Courier New',monospace\"><span style=\"color: #800000; text-decoration-color: #800000\">Alert! Attempting infeasible recovery!</span>\n",
       "</pre>\n"
      ],
      "text/plain": [
       "\u001b[31mAlert! Attempting infeasible recovery!\u001b[0m\n"
      ]
     },
     "metadata": {},
     "output_type": "display_data"
    },
    {
     "data": {
      "text/html": [
       "<pre style=\"white-space:pre;overflow-x:auto;line-height:normal;font-family:Menlo,'DejaVu Sans Mono',consolas,'Courier New',monospace\"><span style=\"color: #008000; text-decoration-color: #008000\">Expected Improvement: </span><span style=\"color: #008080; text-decoration-color: #008080; font-weight: bold\">-0.0033472352661192417</span><span style=\"color: #008000; text-decoration-color: #008000\"> Actual: </span><span style=\"color: #008080; text-decoration-color: #008080; font-weight: bold\">-0.0030055255629122257</span>\n",
       "</pre>\n"
      ],
      "text/plain": [
       "\u001b[32mExpected Improvement: \u001b[0m\u001b[1;36m-0.0033472352661192417\u001b[0m\u001b[32m Actual: \u001b[0m\u001b[1;36m-0.0030055255629122257\u001b[0m\n"
      ]
     },
     "metadata": {},
     "output_type": "display_data"
    },
    {
     "data": {
      "text/html": [
       "<pre style=\"white-space:pre;overflow-x:auto;line-height:normal;font-family:Menlo,'DejaVu Sans Mono',consolas,'Courier New',monospace\"><span style=\"color: #008000; text-decoration-color: #008000\">Accept step at </span><span style=\"color: #808000; text-decoration-color: #808000\">i</span><span style=\"color: #008000; text-decoration-color: #008000\">=</span><span style=\"color: #008080; text-decoration-color: #008080; font-weight: bold\">1</span>\n",
       "</pre>\n"
      ],
      "text/plain": [
       "\u001b[32mAccept step at \u001b[0m\u001b[33mi\u001b[0m\u001b[32m=\u001b[0m\u001b[1;36m1\u001b[0m\n"
      ]
     },
     "metadata": {},
     "output_type": "display_data"
    },
    {
     "data": {
      "text/html": [
       "<pre style=\"white-space:pre;overflow-x:auto;line-height:normal;font-family:Menlo,'DejaVu Sans Mono',consolas,'Courier New',monospace\">┏━━━━━━━━━━━━━━━━━━━━━━━━━━━━━━━┳━━━━━━━━━━━━━━━━━━━━━━━━┓\n",
       "┃<span style=\"font-weight: bold\"> Metrics                       </span>┃<span style=\"font-weight: bold\"> Value                  </span>┃\n",
       "┡━━━━━━━━━━━━━━━━━━━━━━━━━━━━━━━╇━━━━━━━━━━━━━━━━━━━━━━━━┩\n",
       "│ Metrics/EpRet                 │ -1.0764254331588745    │\n",
       "│ Metrics/EpCost                │ 28.299999237060547     │\n",
       "│ Metrics/EpLen                 │ 1000.0                 │\n",
       "│ Train/Epoch                   │ 3.0                    │\n",
       "│ Train/Entropy                 │ 1.4298802614212036     │\n",
       "│ Train/KL                      │ 0.00014295575965661556 │\n",
       "│ Train/StopIter                │ 10.0                   │\n",
       "│ Train/PolicyRatio/Mean        │ 1.000798225402832      │\n",
       "│ Train/PolicyRatio/Min         │ 1.000798225402832      │\n",
       "│ Train/PolicyRatio/Max         │ 1.000798225402832      │\n",
       "│ Train/PolicyRatio/Std         │ 0.000564430607482791   │\n",
       "│ Train/LR                      │ 0.0                    │\n",
       "│ Train/PolicyStd               │ 1.0110834836959839     │\n",
       "│ TotalEnvSteps                 │ 80000.0                │\n",
       "│ Loss/Loss_pi                  │ -0.005951076280325651  │\n",
       "│ Loss/Loss_pi/Delta            │ 0.0029297065921127796  │\n",
       "│ Value/Adv                     │ 1.0299681996173149e-08 │\n",
       "│ Loss/Loss_reward_critic       │ 0.0033817042130976915  │\n",
       "│ Loss/Loss_reward_critic/Delta │ 0.0002275458537042141  │\n",
       "│ Value/reward                  │ -0.01066828053444624   │\n",
       "│ Loss/Loss_cost_critic         │ 1.0804064273834229     │\n",
       "│ Loss/Loss_cost_critic/Delta   │ -0.08088231086730957   │\n",
       "│ Value/cost                    │ 2.222123622894287      │\n",
       "│ Time/Total                    │ 241.37742614746094     │\n",
       "│ Time/Rollout                  │ 44.30436706542969      │\n",
       "│ Time/Update                   │ 14.15152359008789      │\n",
       "│ Time/Epoch                    │ 58.45589065551758      │\n",
       "│ Time/FPS                      │ 342.1383056640625      │\n",
       "│ Misc/Alpha                    │ 0.8744465112686157     │\n",
       "│ Misc/FinalStepNorm            │ 0.320918470621109      │\n",
       "│ Misc/gradient_norm            │ 0.1193503886461258     │\n",
       "│ Misc/xHx                      │ 0.026155520230531693   │\n",
       "│ Misc/H_inv_g                  │ 0.2775861322879791     │\n",
       "│ Misc/AcceptanceStep           │ 1.0                    │\n",
       "│ Misc/cost_gradient_norm       │ 0.1350705474615097     │\n",
       "│ Misc/A                        │ 0.025595320388674736   │\n",
       "│ Misc/B                        │ -172.97134399414062    │\n",
       "│ Misc/q                        │ 0.026155520230531693   │\n",
       "│ Misc/r                        │ 0.005938447080552578   │\n",
       "│ Misc/s                        │ 0.06295108795166016    │\n",
       "│ Misc/Lambda_star              │ 0.0                    │\n",
       "│ Misc/Nu_star                  │ 0.5636549592018127     │\n",
       "│ Misc/OptimCase                │ 0.0                    │\n",
       "└───────────────────────────────┴────────────────────────┘\n",
       "</pre>\n"
      ],
      "text/plain": [
       "┏━━━━━━━━━━━━━━━━━━━━━━━━━━━━━━━┳━━━━━━━━━━━━━━━━━━━━━━━━┓\n",
       "┃\u001b[1m \u001b[0m\u001b[1mMetrics                      \u001b[0m\u001b[1m \u001b[0m┃\u001b[1m \u001b[0m\u001b[1mValue                 \u001b[0m\u001b[1m \u001b[0m┃\n",
       "┡━━━━━━━━━━━━━━━━━━━━━━━━━━━━━━━╇━━━━━━━━━━━━━━━━━━━━━━━━┩\n",
       "│ Metrics/EpRet                 │ -1.0764254331588745    │\n",
       "│ Metrics/EpCost                │ 28.299999237060547     │\n",
       "│ Metrics/EpLen                 │ 1000.0                 │\n",
       "│ Train/Epoch                   │ 3.0                    │\n",
       "│ Train/Entropy                 │ 1.4298802614212036     │\n",
       "│ Train/KL                      │ 0.00014295575965661556 │\n",
       "│ Train/StopIter                │ 10.0                   │\n",
       "│ Train/PolicyRatio/Mean        │ 1.000798225402832      │\n",
       "│ Train/PolicyRatio/Min         │ 1.000798225402832      │\n",
       "│ Train/PolicyRatio/Max         │ 1.000798225402832      │\n",
       "│ Train/PolicyRatio/Std         │ 0.000564430607482791   │\n",
       "│ Train/LR                      │ 0.0                    │\n",
       "│ Train/PolicyStd               │ 1.0110834836959839     │\n",
       "│ TotalEnvSteps                 │ 80000.0                │\n",
       "│ Loss/Loss_pi                  │ -0.005951076280325651  │\n",
       "│ Loss/Loss_pi/Delta            │ 0.0029297065921127796  │\n",
       "│ Value/Adv                     │ 1.0299681996173149e-08 │\n",
       "│ Loss/Loss_reward_critic       │ 0.0033817042130976915  │\n",
       "│ Loss/Loss_reward_critic/Delta │ 0.0002275458537042141  │\n",
       "│ Value/reward                  │ -0.01066828053444624   │\n",
       "│ Loss/Loss_cost_critic         │ 1.0804064273834229     │\n",
       "│ Loss/Loss_cost_critic/Delta   │ -0.08088231086730957   │\n",
       "│ Value/cost                    │ 2.222123622894287      │\n",
       "│ Time/Total                    │ 241.37742614746094     │\n",
       "│ Time/Rollout                  │ 44.30436706542969      │\n",
       "│ Time/Update                   │ 14.15152359008789      │\n",
       "│ Time/Epoch                    │ 58.45589065551758      │\n",
       "│ Time/FPS                      │ 342.1383056640625      │\n",
       "│ Misc/Alpha                    │ 0.8744465112686157     │\n",
       "│ Misc/FinalStepNorm            │ 0.320918470621109      │\n",
       "│ Misc/gradient_norm            │ 0.1193503886461258     │\n",
       "│ Misc/xHx                      │ 0.026155520230531693   │\n",
       "│ Misc/H_inv_g                  │ 0.2775861322879791     │\n",
       "│ Misc/AcceptanceStep           │ 1.0                    │\n",
       "│ Misc/cost_gradient_norm       │ 0.1350705474615097     │\n",
       "│ Misc/A                        │ 0.025595320388674736   │\n",
       "│ Misc/B                        │ -172.97134399414062    │\n",
       "│ Misc/q                        │ 0.026155520230531693   │\n",
       "│ Misc/r                        │ 0.005938447080552578   │\n",
       "│ Misc/s                        │ 0.06295108795166016    │\n",
       "│ Misc/Lambda_star              │ 0.0                    │\n",
       "│ Misc/Nu_star                  │ 0.5636549592018127     │\n",
       "│ Misc/OptimCase                │ 0.0                    │\n",
       "└───────────────────────────────┴────────────────────────┘\n"
      ]
     },
     "metadata": {},
     "output_type": "display_data"
    },
    {
     "data": {
      "text/html": [
       "<pre style=\"white-space:pre;overflow-x:auto;line-height:normal;font-family:Menlo,'DejaVu Sans Mono',consolas,'Courier New',monospace\"><span style=\"color: #008000; text-decoration-color: #008000\">Warning: trajectory cut off when rollout by epoch at </span><span style=\"color: #008080; text-decoration-color: #008080; font-weight: bold\">1000.0</span><span style=\"color: #008000; text-decoration-color: #008000\"> steps.</span>\n",
       "</pre>\n"
      ],
      "text/plain": [
       "\u001b[32mWarning: trajectory cut off when rollout by epoch at \u001b[0m\u001b[1;36m1000.0\u001b[0m\u001b[32m steps.\u001b[0m\n"
      ]
     },
     "metadata": {},
     "output_type": "display_data"
    },
    {
     "data": {
      "text/html": [
       "<pre style=\"white-space:pre;overflow-x:auto;line-height:normal;font-family:Menlo,'DejaVu Sans Mono',consolas,'Courier New',monospace\"><span style=\"color: #008000; text-decoration-color: #008000\">Warning: trajectory cut off when rollout by epoch at </span><span style=\"color: #008080; text-decoration-color: #008080; font-weight: bold\">1000.0</span><span style=\"color: #008000; text-decoration-color: #008000\"> steps.</span>\n",
       "</pre>\n"
      ],
      "text/plain": [
       "\u001b[32mWarning: trajectory cut off when rollout by epoch at \u001b[0m\u001b[1;36m1000.0\u001b[0m\u001b[32m steps.\u001b[0m\n"
      ]
     },
     "metadata": {},
     "output_type": "display_data"
    },
    {
     "data": {
      "text/html": [
       "<pre style=\"white-space:pre;overflow-x:auto;line-height:normal;font-family:Menlo,'DejaVu Sans Mono',consolas,'Courier New',monospace\"><span style=\"color: #008000; text-decoration-color: #008000\">Warning: trajectory cut off when rollout by epoch at </span><span style=\"color: #008080; text-decoration-color: #008080; font-weight: bold\">1000.0</span><span style=\"color: #008000; text-decoration-color: #008000\"> steps.</span>\n",
       "</pre>\n"
      ],
      "text/plain": [
       "\u001b[32mWarning: trajectory cut off when rollout by epoch at \u001b[0m\u001b[1;36m1000.0\u001b[0m\u001b[32m steps.\u001b[0m\n"
      ]
     },
     "metadata": {},
     "output_type": "display_data"
    },
    {
     "data": {
      "text/html": [
       "<pre style=\"white-space:pre;overflow-x:auto;line-height:normal;font-family:Menlo,'DejaVu Sans Mono',consolas,'Courier New',monospace\"><span style=\"color: #008000; text-decoration-color: #008000\">Warning: trajectory cut off when rollout by epoch at </span><span style=\"color: #008080; text-decoration-color: #008080; font-weight: bold\">1000.0</span><span style=\"color: #008000; text-decoration-color: #008000\"> steps.</span>\n",
       "</pre>\n"
      ],
      "text/plain": [
       "\u001b[32mWarning: trajectory cut off when rollout by epoch at \u001b[0m\u001b[1;36m1000.0\u001b[0m\u001b[32m steps.\u001b[0m\n"
      ]
     },
     "metadata": {},
     "output_type": "display_data"
    },
    {
     "data": {
      "text/html": [
       "<pre style=\"white-space:pre;overflow-x:auto;line-height:normal;font-family:Menlo,'DejaVu Sans Mono',consolas,'Courier New',monospace\"></pre>\n"
      ],
      "text/plain": []
     },
     "metadata": {},
     "output_type": "display_data"
    },
    {
     "data": {
      "text/html": [
       "<pre style=\"white-space:pre;overflow-x:auto;line-height:normal;font-family:Menlo,'DejaVu Sans Mono',consolas,'Courier New',monospace\">\n",
       "</pre>\n"
      ],
      "text/plain": [
       "\n"
      ]
     },
     "metadata": {},
     "output_type": "display_data"
    },
    {
     "data": {
      "text/html": [
       "<pre style=\"white-space:pre;overflow-x:auto;line-height:normal;font-family:Menlo,'DejaVu Sans Mono',consolas,'Courier New',monospace\"><span style=\"color: #800000; text-decoration-color: #800000\">Alert! Attempting infeasible recovery!</span>\n",
       "</pre>\n"
      ],
      "text/plain": [
       "\u001b[31mAlert! Attempting infeasible recovery!\u001b[0m\n"
      ]
     },
     "metadata": {},
     "output_type": "display_data"
    },
    {
     "data": {
      "text/html": [
       "<pre style=\"white-space:pre;overflow-x:auto;line-height:normal;font-family:Menlo,'DejaVu Sans Mono',consolas,'Courier New',monospace\"><span style=\"color: #008000; text-decoration-color: #008000\">Expected Improvement: </span><span style=\"color: #008080; text-decoration-color: #008080; font-weight: bold\">0.006731810048222542</span><span style=\"color: #008000; text-decoration-color: #008000\"> Actual: </span><span style=\"color: #008080; text-decoration-color: #008080; font-weight: bold\">0.006332384888082743</span>\n",
       "</pre>\n"
      ],
      "text/plain": [
       "\u001b[32mExpected Improvement: \u001b[0m\u001b[1;36m0.006731810048222542\u001b[0m\u001b[32m Actual: \u001b[0m\u001b[1;36m0.006332384888082743\u001b[0m\n"
      ]
     },
     "metadata": {},
     "output_type": "display_data"
    },
    {
     "data": {
      "text/html": [
       "<pre style=\"white-space:pre;overflow-x:auto;line-height:normal;font-family:Menlo,'DejaVu Sans Mono',consolas,'Courier New',monospace\"><span style=\"color: #008000; text-decoration-color: #008000\">Accept step at </span><span style=\"color: #808000; text-decoration-color: #808000\">i</span><span style=\"color: #008000; text-decoration-color: #008000\">=</span><span style=\"color: #008080; text-decoration-color: #008080; font-weight: bold\">1</span>\n",
       "</pre>\n"
      ],
      "text/plain": [
       "\u001b[32mAccept step at \u001b[0m\u001b[33mi\u001b[0m\u001b[32m=\u001b[0m\u001b[1;36m1\u001b[0m\n"
      ]
     },
     "metadata": {},
     "output_type": "display_data"
    },
    {
     "data": {
      "text/html": [
       "<pre style=\"white-space:pre;overflow-x:auto;line-height:normal;font-family:Menlo,'DejaVu Sans Mono',consolas,'Courier New',monospace\">┏━━━━━━━━━━━━━━━━━━━━━━━━━━━━━━━┳━━━━━━━━━━━━━━━━━━━━━━━━┓\n",
       "┃<span style=\"font-weight: bold\"> Metrics                       </span>┃<span style=\"font-weight: bold\"> Value                  </span>┃\n",
       "┡━━━━━━━━━━━━━━━━━━━━━━━━━━━━━━━╇━━━━━━━━━━━━━━━━━━━━━━━━┩\n",
       "│ Metrics/EpRet                 │ -0.8773455619812012    │\n",
       "│ Metrics/EpCost                │ 32.13999938964844      │\n",
       "│ Metrics/EpLen                 │ 1000.0                 │\n",
       "│ Train/Epoch                   │ 4.0                    │\n",
       "│ Train/Entropy                 │ 1.422951340675354      │\n",
       "│ Train/KL                      │ 0.00015185409574769437 │\n",
       "│ Train/StopIter                │ 10.0                   │\n",
       "│ Train/PolicyRatio/Mean        │ 0.9991931915283203     │\n",
       "│ Train/PolicyRatio/Min         │ 0.9991931915283203     │\n",
       "│ Train/PolicyRatio/Max         │ 0.9991931915283203     │\n",
       "│ Train/PolicyRatio/Std         │ 0.0005705278599634767  │\n",
       "│ Train/LR                      │ 0.0                    │\n",
       "│ Train/PolicyStd               │ 1.0041271448135376     │\n",
       "│ TotalEnvSteps                 │ 100000.0               │\n",
       "│ Loss/Loss_pi                  │ -0.014362210407853127  │\n",
       "│ Loss/Loss_pi/Delta            │ -0.008411134127527475  │\n",
       "│ Value/Adv                     │ 1.0681151962899094e-08 │\n",
       "│ Loss/Loss_reward_critic       │ 0.004594988189637661   │\n",
       "│ Loss/Loss_reward_critic/Delta │ 0.0012132839765399694  │\n",
       "│ Value/reward                  │ -0.0035053954925388098 │\n",
       "│ Loss/Loss_cost_critic         │ 0.854145348072052      │\n",
       "│ Loss/Loss_cost_critic/Delta   │ -0.22626107931137085   │\n",
       "│ Value/cost                    │ 1.9210489988327026     │\n",
       "│ Time/Total                    │ 301.63958740234375     │\n",
       "│ Time/Rollout                  │ 46.52861404418945      │\n",
       "│ Time/Update                   │ 13.68355941772461      │\n",
       "│ Time/Epoch                    │ 60.21217346191406      │\n",
       "│ Time/FPS                      │ 332.15875244140625     │\n",
       "│ Misc/Alpha                    │ 0.7597702741622925     │\n",
       "│ Misc/FinalStepNorm            │ 0.3192727267742157     │\n",
       "│ Misc/gradient_norm            │ 0.15379264950752258    │\n",
       "│ Misc/xHx                      │ 0.03464697301387787    │\n",
       "│ Misc/H_inv_g                  │ 0.2798415422439575     │\n",
       "│ Misc/AcceptanceStep           │ 1.0                    │\n",
       "│ Misc/cost_gradient_norm       │ 0.14717446267604828    │\n",
       "│ Misc/A                        │ 0.03238110989332199    │\n",
       "│ Misc/B                        │ -749.2733154296875     │\n",
       "│ Misc/q                        │ 0.03464697301387787    │\n",
       "│ Misc/r                        │ -0.012416210025548935  │\n",
       "│ Misc/s                        │ 0.06803688406944275    │\n",
       "│ Misc/Lambda_star              │ 0.0                    │\n",
       "│ Misc/Nu_star                  │ 0.5421791076660156     │\n",
       "│ Misc/OptimCase                │ 0.0                    │\n",
       "└───────────────────────────────┴────────────────────────┘\n",
       "</pre>\n"
      ],
      "text/plain": [
       "┏━━━━━━━━━━━━━━━━━━━━━━━━━━━━━━━┳━━━━━━━━━━━━━━━━━━━━━━━━┓\n",
       "┃\u001b[1m \u001b[0m\u001b[1mMetrics                      \u001b[0m\u001b[1m \u001b[0m┃\u001b[1m \u001b[0m\u001b[1mValue                 \u001b[0m\u001b[1m \u001b[0m┃\n",
       "┡━━━━━━━━━━━━━━━━━━━━━━━━━━━━━━━╇━━━━━━━━━━━━━━━━━━━━━━━━┩\n",
       "│ Metrics/EpRet                 │ -0.8773455619812012    │\n",
       "│ Metrics/EpCost                │ 32.13999938964844      │\n",
       "│ Metrics/EpLen                 │ 1000.0                 │\n",
       "│ Train/Epoch                   │ 4.0                    │\n",
       "│ Train/Entropy                 │ 1.422951340675354      │\n",
       "│ Train/KL                      │ 0.00015185409574769437 │\n",
       "│ Train/StopIter                │ 10.0                   │\n",
       "│ Train/PolicyRatio/Mean        │ 0.9991931915283203     │\n",
       "│ Train/PolicyRatio/Min         │ 0.9991931915283203     │\n",
       "│ Train/PolicyRatio/Max         │ 0.9991931915283203     │\n",
       "│ Train/PolicyRatio/Std         │ 0.0005705278599634767  │\n",
       "│ Train/LR                      │ 0.0                    │\n",
       "│ Train/PolicyStd               │ 1.0041271448135376     │\n",
       "│ TotalEnvSteps                 │ 100000.0               │\n",
       "│ Loss/Loss_pi                  │ -0.014362210407853127  │\n",
       "│ Loss/Loss_pi/Delta            │ -0.008411134127527475  │\n",
       "│ Value/Adv                     │ 1.0681151962899094e-08 │\n",
       "│ Loss/Loss_reward_critic       │ 0.004594988189637661   │\n",
       "│ Loss/Loss_reward_critic/Delta │ 0.0012132839765399694  │\n",
       "│ Value/reward                  │ -0.0035053954925388098 │\n",
       "│ Loss/Loss_cost_critic         │ 0.854145348072052      │\n",
       "│ Loss/Loss_cost_critic/Delta   │ -0.22626107931137085   │\n",
       "│ Value/cost                    │ 1.9210489988327026     │\n",
       "│ Time/Total                    │ 301.63958740234375     │\n",
       "│ Time/Rollout                  │ 46.52861404418945      │\n",
       "│ Time/Update                   │ 13.68355941772461      │\n",
       "│ Time/Epoch                    │ 60.21217346191406      │\n",
       "│ Time/FPS                      │ 332.15875244140625     │\n",
       "│ Misc/Alpha                    │ 0.7597702741622925     │\n",
       "│ Misc/FinalStepNorm            │ 0.3192727267742157     │\n",
       "│ Misc/gradient_norm            │ 0.15379264950752258    │\n",
       "│ Misc/xHx                      │ 0.03464697301387787    │\n",
       "│ Misc/H_inv_g                  │ 0.2798415422439575     │\n",
       "│ Misc/AcceptanceStep           │ 1.0                    │\n",
       "│ Misc/cost_gradient_norm       │ 0.14717446267604828    │\n",
       "│ Misc/A                        │ 0.03238110989332199    │\n",
       "│ Misc/B                        │ -749.2733154296875     │\n",
       "│ Misc/q                        │ 0.03464697301387787    │\n",
       "│ Misc/r                        │ -0.012416210025548935  │\n",
       "│ Misc/s                        │ 0.06803688406944275    │\n",
       "│ Misc/Lambda_star              │ 0.0                    │\n",
       "│ Misc/Nu_star                  │ 0.5421791076660156     │\n",
       "│ Misc/OptimCase                │ 0.0                    │\n",
       "└───────────────────────────────┴────────────────────────┘\n"
      ]
     },
     "metadata": {},
     "output_type": "display_data"
    },
    {
     "data": {
      "text/html": [
       "<pre style=\"white-space:pre;overflow-x:auto;line-height:normal;font-family:Menlo,'DejaVu Sans Mono',consolas,'Courier New',monospace\"><span style=\"color: #008000; text-decoration-color: #008000\">Warning: trajectory cut off when rollout by epoch at </span><span style=\"color: #008080; text-decoration-color: #008080; font-weight: bold\">1000.0</span><span style=\"color: #008000; text-decoration-color: #008000\"> steps.</span>\n",
       "</pre>\n"
      ],
      "text/plain": [
       "\u001b[32mWarning: trajectory cut off when rollout by epoch at \u001b[0m\u001b[1;36m1000.0\u001b[0m\u001b[32m steps.\u001b[0m\n"
      ]
     },
     "metadata": {},
     "output_type": "display_data"
    },
    {
     "data": {
      "text/html": [
       "<pre style=\"white-space:pre;overflow-x:auto;line-height:normal;font-family:Menlo,'DejaVu Sans Mono',consolas,'Courier New',monospace\"><span style=\"color: #008000; text-decoration-color: #008000\">Warning: trajectory cut off when rollout by epoch at </span><span style=\"color: #008080; text-decoration-color: #008080; font-weight: bold\">1000.0</span><span style=\"color: #008000; text-decoration-color: #008000\"> steps.</span>\n",
       "</pre>\n"
      ],
      "text/plain": [
       "\u001b[32mWarning: trajectory cut off when rollout by epoch at \u001b[0m\u001b[1;36m1000.0\u001b[0m\u001b[32m steps.\u001b[0m\n"
      ]
     },
     "metadata": {},
     "output_type": "display_data"
    },
    {
     "data": {
      "text/html": [
       "<pre style=\"white-space:pre;overflow-x:auto;line-height:normal;font-family:Menlo,'DejaVu Sans Mono',consolas,'Courier New',monospace\"><span style=\"color: #008000; text-decoration-color: #008000\">Warning: trajectory cut off when rollout by epoch at </span><span style=\"color: #008080; text-decoration-color: #008080; font-weight: bold\">1000.0</span><span style=\"color: #008000; text-decoration-color: #008000\"> steps.</span>\n",
       "</pre>\n"
      ],
      "text/plain": [
       "\u001b[32mWarning: trajectory cut off when rollout by epoch at \u001b[0m\u001b[1;36m1000.0\u001b[0m\u001b[32m steps.\u001b[0m\n"
      ]
     },
     "metadata": {},
     "output_type": "display_data"
    },
    {
     "data": {
      "text/html": [
       "<pre style=\"white-space:pre;overflow-x:auto;line-height:normal;font-family:Menlo,'DejaVu Sans Mono',consolas,'Courier New',monospace\"><span style=\"color: #008000; text-decoration-color: #008000\">Warning: trajectory cut off when rollout by epoch at </span><span style=\"color: #008080; text-decoration-color: #008080; font-weight: bold\">1000.0</span><span style=\"color: #008000; text-decoration-color: #008000\"> steps.</span>\n",
       "</pre>\n"
      ],
      "text/plain": [
       "\u001b[32mWarning: trajectory cut off when rollout by epoch at \u001b[0m\u001b[1;36m1000.0\u001b[0m\u001b[32m steps.\u001b[0m\n"
      ]
     },
     "metadata": {},
     "output_type": "display_data"
    },
    {
     "data": {
      "text/html": [
       "<pre style=\"white-space:pre;overflow-x:auto;line-height:normal;font-family:Menlo,'DejaVu Sans Mono',consolas,'Courier New',monospace\"></pre>\n"
      ],
      "text/plain": []
     },
     "metadata": {},
     "output_type": "display_data"
    },
    {
     "data": {
      "text/html": [
       "<pre style=\"white-space:pre;overflow-x:auto;line-height:normal;font-family:Menlo,'DejaVu Sans Mono',consolas,'Courier New',monospace\">\n",
       "</pre>\n"
      ],
      "text/plain": [
       "\n"
      ]
     },
     "metadata": {},
     "output_type": "display_data"
    },
    {
     "data": {
      "text/html": [
       "<pre style=\"white-space:pre;overflow-x:auto;line-height:normal;font-family:Menlo,'DejaVu Sans Mono',consolas,'Courier New',monospace\"><span style=\"color: #800000; text-decoration-color: #800000\">Alert! Attempting infeasible recovery!</span>\n",
       "</pre>\n"
      ],
      "text/plain": [
       "\u001b[31mAlert! Attempting infeasible recovery!\u001b[0m\n"
      ]
     },
     "metadata": {},
     "output_type": "display_data"
    },
    {
     "data": {
      "text/html": [
       "<pre style=\"white-space:pre;overflow-x:auto;line-height:normal;font-family:Menlo,'DejaVu Sans Mono',consolas,'Courier New',monospace\"><span style=\"color: #008000; text-decoration-color: #008000\">Expected Improvement: </span><span style=\"color: #008080; text-decoration-color: #008080; font-weight: bold\">-0.003262272570282221</span><span style=\"color: #008000; text-decoration-color: #008000\"> Actual: </span><span style=\"color: #008080; text-decoration-color: #008080; font-weight: bold\">-0.003363232361152768</span>\n",
       "</pre>\n"
      ],
      "text/plain": [
       "\u001b[32mExpected Improvement: \u001b[0m\u001b[1;36m-0.003262272570282221\u001b[0m\u001b[32m Actual: \u001b[0m\u001b[1;36m-0.003363232361152768\u001b[0m\n"
      ]
     },
     "metadata": {},
     "output_type": "display_data"
    },
    {
     "data": {
      "text/html": [
       "<pre style=\"white-space:pre;overflow-x:auto;line-height:normal;font-family:Menlo,'DejaVu Sans Mono',consolas,'Courier New',monospace\"><span style=\"color: #008000; text-decoration-color: #008000\">Accept step at </span><span style=\"color: #808000; text-decoration-color: #808000\">i</span><span style=\"color: #008000; text-decoration-color: #008000\">=</span><span style=\"color: #008080; text-decoration-color: #008080; font-weight: bold\">1</span>\n",
       "</pre>\n"
      ],
      "text/plain": [
       "\u001b[32mAccept step at \u001b[0m\u001b[33mi\u001b[0m\u001b[32m=\u001b[0m\u001b[1;36m1\u001b[0m\n"
      ]
     },
     "metadata": {},
     "output_type": "display_data"
    },
    {
     "data": {
      "text/html": [
       "<pre style=\"white-space:pre;overflow-x:auto;line-height:normal;font-family:Menlo,'DejaVu Sans Mono',consolas,'Courier New',monospace\">┏━━━━━━━━━━━━━━━━━━━━━━━━━━━━━━━┳━━━━━━━━━━━━━━━━━━━━━━━━━┓\n",
       "┃<span style=\"font-weight: bold\"> Metrics                       </span>┃<span style=\"font-weight: bold\"> Value                   </span>┃\n",
       "┡━━━━━━━━━━━━━━━━━━━━━━━━━━━━━━━╇━━━━━━━━━━━━━━━━━━━━━━━━━┩\n",
       "│ Metrics/EpRet                 │ -0.7025805115699768     │\n",
       "│ Metrics/EpCost                │ 31.520000457763672      │\n",
       "│ Metrics/EpLen                 │ 1000.0                  │\n",
       "│ Train/Epoch                   │ 5.0                     │\n",
       "│ Train/Entropy                 │ 1.4279409646987915      │\n",
       "│ Train/KL                      │ 0.0001798576267901808   │\n",
       "│ Train/StopIter                │ 10.0                    │\n",
       "│ Train/PolicyRatio/Mean        │ 0.9988877177238464      │\n",
       "│ Train/PolicyRatio/Min         │ 0.9988877177238464      │\n",
       "│ Train/PolicyRatio/Max         │ 0.9988877177238464      │\n",
       "│ Train/PolicyRatio/Std         │ 0.0007865163497626781   │\n",
       "│ Train/LR                      │ 0.0                     │\n",
       "│ Train/PolicyStd               │ 1.0093995332717896      │\n",
       "│ TotalEnvSteps                 │ 120000.0                │\n",
       "│ Loss/Loss_pi                  │ -0.0037082182243466377  │\n",
       "│ Loss/Loss_pi/Delta            │ 0.010653992183506489    │\n",
       "│ Value/Adv                     │ -1.4495848965623281e-08 │\n",
       "│ Loss/Loss_reward_critic       │ 0.005410246551036835    │\n",
       "│ Loss/Loss_reward_critic/Delta │ 0.0008152583613991737   │\n",
       "│ Value/reward                  │ -0.011019183322787285   │\n",
       "│ Loss/Loss_cost_critic         │ 0.8232790231704712      │\n",
       "│ Loss/Loss_cost_critic/Delta   │ -0.03086632490158081    │\n",
       "│ Value/cost                    │ 1.7841156721115112      │\n",
       "│ Time/Total                    │ 361.6440734863281       │\n",
       "│ Time/Rollout                  │ 45.42543029785156       │\n",
       "│ Time/Update                   │ 14.523107528686523      │\n",
       "│ Time/Epoch                    │ 59.94853591918945       │\n",
       "│ Time/FPS                      │ 333.6194763183594       │\n",
       "│ Misc/Alpha                    │ 0.7903314828872681      │\n",
       "│ Misc/FinalStepNorm            │ 0.27915799617767334     │\n",
       "│ Misc/gradient_norm            │ 0.1650269478559494      │\n",
       "│ Misc/xHx                      │ 0.03201925754547119     │\n",
       "│ Misc/H_inv_g                  │ 0.2602998912334442      │\n",
       "│ Misc/AcceptanceStep           │ 1.0                     │\n",
       "│ Misc/cost_gradient_norm       │ 0.12464965134859085     │\n",
       "│ Misc/A                        │ 0.03148713707923889     │\n",
       "│ Misc/B                        │ -1289.4932861328125     │\n",
       "│ Misc/q                        │ 0.03201925754547119     │\n",
       "│ Misc/r                        │ 0.004188320599496365    │\n",
       "│ Misc/s                        │ 0.03296623006463051     │\n",
       "│ Misc/Lambda_star              │ 0.0                     │\n",
       "│ Misc/Nu_star                  │ 0.7788974642753601      │\n",
       "│ Misc/OptimCase                │ 0.0                     │\n",
       "└───────────────────────────────┴─────────────────────────┘\n",
       "</pre>\n"
      ],
      "text/plain": [
       "┏━━━━━━━━━━━━━━━━━━━━━━━━━━━━━━━┳━━━━━━━━━━━━━━━━━━━━━━━━━┓\n",
       "┃\u001b[1m \u001b[0m\u001b[1mMetrics                      \u001b[0m\u001b[1m \u001b[0m┃\u001b[1m \u001b[0m\u001b[1mValue                  \u001b[0m\u001b[1m \u001b[0m┃\n",
       "┡━━━━━━━━━━━━━━━━━━━━━━━━━━━━━━━╇━━━━━━━━━━━━━━━━━━━━━━━━━┩\n",
       "│ Metrics/EpRet                 │ -0.7025805115699768     │\n",
       "│ Metrics/EpCost                │ 31.520000457763672      │\n",
       "│ Metrics/EpLen                 │ 1000.0                  │\n",
       "│ Train/Epoch                   │ 5.0                     │\n",
       "│ Train/Entropy                 │ 1.4279409646987915      │\n",
       "│ Train/KL                      │ 0.0001798576267901808   │\n",
       "│ Train/StopIter                │ 10.0                    │\n",
       "│ Train/PolicyRatio/Mean        │ 0.9988877177238464      │\n",
       "│ Train/PolicyRatio/Min         │ 0.9988877177238464      │\n",
       "│ Train/PolicyRatio/Max         │ 0.9988877177238464      │\n",
       "│ Train/PolicyRatio/Std         │ 0.0007865163497626781   │\n",
       "│ Train/LR                      │ 0.0                     │\n",
       "│ Train/PolicyStd               │ 1.0093995332717896      │\n",
       "│ TotalEnvSteps                 │ 120000.0                │\n",
       "│ Loss/Loss_pi                  │ -0.0037082182243466377  │\n",
       "│ Loss/Loss_pi/Delta            │ 0.010653992183506489    │\n",
       "│ Value/Adv                     │ -1.4495848965623281e-08 │\n",
       "│ Loss/Loss_reward_critic       │ 0.005410246551036835    │\n",
       "│ Loss/Loss_reward_critic/Delta │ 0.0008152583613991737   │\n",
       "│ Value/reward                  │ -0.011019183322787285   │\n",
       "│ Loss/Loss_cost_critic         │ 0.8232790231704712      │\n",
       "│ Loss/Loss_cost_critic/Delta   │ -0.03086632490158081    │\n",
       "│ Value/cost                    │ 1.7841156721115112      │\n",
       "│ Time/Total                    │ 361.6440734863281       │\n",
       "│ Time/Rollout                  │ 45.42543029785156       │\n",
       "│ Time/Update                   │ 14.523107528686523      │\n",
       "│ Time/Epoch                    │ 59.94853591918945       │\n",
       "│ Time/FPS                      │ 333.6194763183594       │\n",
       "│ Misc/Alpha                    │ 0.7903314828872681      │\n",
       "│ Misc/FinalStepNorm            │ 0.27915799617767334     │\n",
       "│ Misc/gradient_norm            │ 0.1650269478559494      │\n",
       "│ Misc/xHx                      │ 0.03201925754547119     │\n",
       "│ Misc/H_inv_g                  │ 0.2602998912334442      │\n",
       "│ Misc/AcceptanceStep           │ 1.0                     │\n",
       "│ Misc/cost_gradient_norm       │ 0.12464965134859085     │\n",
       "│ Misc/A                        │ 0.03148713707923889     │\n",
       "│ Misc/B                        │ -1289.4932861328125     │\n",
       "│ Misc/q                        │ 0.03201925754547119     │\n",
       "│ Misc/r                        │ 0.004188320599496365    │\n",
       "│ Misc/s                        │ 0.03296623006463051     │\n",
       "│ Misc/Lambda_star              │ 0.0                     │\n",
       "│ Misc/Nu_star                  │ 0.7788974642753601      │\n",
       "│ Misc/OptimCase                │ 0.0                     │\n",
       "└───────────────────────────────┴─────────────────────────┘\n"
      ]
     },
     "metadata": {},
     "output_type": "display_data"
    },
    {
     "data": {
      "text/html": [
       "<pre style=\"white-space:pre;overflow-x:auto;line-height:normal;font-family:Menlo,'DejaVu Sans Mono',consolas,'Courier New',monospace\"><span style=\"color: #008000; text-decoration-color: #008000\">Warning: trajectory cut off when rollout by epoch at </span><span style=\"color: #008080; text-decoration-color: #008080; font-weight: bold\">1000.0</span><span style=\"color: #008000; text-decoration-color: #008000\"> steps.</span>\n",
       "</pre>\n"
      ],
      "text/plain": [
       "\u001b[32mWarning: trajectory cut off when rollout by epoch at \u001b[0m\u001b[1;36m1000.0\u001b[0m\u001b[32m steps.\u001b[0m\n"
      ]
     },
     "metadata": {},
     "output_type": "display_data"
    },
    {
     "data": {
      "text/html": [
       "<pre style=\"white-space:pre;overflow-x:auto;line-height:normal;font-family:Menlo,'DejaVu Sans Mono',consolas,'Courier New',monospace\"><span style=\"color: #008000; text-decoration-color: #008000\">Warning: trajectory cut off when rollout by epoch at </span><span style=\"color: #008080; text-decoration-color: #008080; font-weight: bold\">1000.0</span><span style=\"color: #008000; text-decoration-color: #008000\"> steps.</span>\n",
       "</pre>\n"
      ],
      "text/plain": [
       "\u001b[32mWarning: trajectory cut off when rollout by epoch at \u001b[0m\u001b[1;36m1000.0\u001b[0m\u001b[32m steps.\u001b[0m\n"
      ]
     },
     "metadata": {},
     "output_type": "display_data"
    },
    {
     "data": {
      "text/html": [
       "<pre style=\"white-space:pre;overflow-x:auto;line-height:normal;font-family:Menlo,'DejaVu Sans Mono',consolas,'Courier New',monospace\"><span style=\"color: #008000; text-decoration-color: #008000\">Warning: trajectory cut off when rollout by epoch at </span><span style=\"color: #008080; text-decoration-color: #008080; font-weight: bold\">1000.0</span><span style=\"color: #008000; text-decoration-color: #008000\"> steps.</span>\n",
       "</pre>\n"
      ],
      "text/plain": [
       "\u001b[32mWarning: trajectory cut off when rollout by epoch at \u001b[0m\u001b[1;36m1000.0\u001b[0m\u001b[32m steps.\u001b[0m\n"
      ]
     },
     "metadata": {},
     "output_type": "display_data"
    },
    {
     "data": {
      "text/html": [
       "<pre style=\"white-space:pre;overflow-x:auto;line-height:normal;font-family:Menlo,'DejaVu Sans Mono',consolas,'Courier New',monospace\"><span style=\"color: #008000; text-decoration-color: #008000\">Warning: trajectory cut off when rollout by epoch at </span><span style=\"color: #008080; text-decoration-color: #008080; font-weight: bold\">1000.0</span><span style=\"color: #008000; text-decoration-color: #008000\"> steps.</span>\n",
       "</pre>\n"
      ],
      "text/plain": [
       "\u001b[32mWarning: trajectory cut off when rollout by epoch at \u001b[0m\u001b[1;36m1000.0\u001b[0m\u001b[32m steps.\u001b[0m\n"
      ]
     },
     "metadata": {},
     "output_type": "display_data"
    },
    {
     "data": {
      "text/html": [
       "<pre style=\"white-space:pre;overflow-x:auto;line-height:normal;font-family:Menlo,'DejaVu Sans Mono',consolas,'Courier New',monospace\"></pre>\n"
      ],
      "text/plain": []
     },
     "metadata": {},
     "output_type": "display_data"
    },
    {
     "data": {
      "text/html": [
       "<pre style=\"white-space:pre;overflow-x:auto;line-height:normal;font-family:Menlo,'DejaVu Sans Mono',consolas,'Courier New',monospace\">\n",
       "</pre>\n"
      ],
      "text/plain": [
       "\n"
      ]
     },
     "metadata": {},
     "output_type": "display_data"
    },
    {
     "data": {
      "text/html": [
       "<pre style=\"white-space:pre;overflow-x:auto;line-height:normal;font-family:Menlo,'DejaVu Sans Mono',consolas,'Courier New',monospace\"><span style=\"color: #008000; text-decoration-color: #008000\">Expected Improvement: </span><span style=\"color: #008080; text-decoration-color: #008080; font-weight: bold\">0.029862824827432632</span><span style=\"color: #008000; text-decoration-color: #008000\"> Actual: </span><span style=\"color: #008080; text-decoration-color: #008080; font-weight: bold\">0.028921518474817276</span>\n",
       "</pre>\n"
      ],
      "text/plain": [
       "\u001b[32mExpected Improvement: \u001b[0m\u001b[1;36m0.029862824827432632\u001b[0m\u001b[32m Actual: \u001b[0m\u001b[1;36m0.028921518474817276\u001b[0m\n"
      ]
     },
     "metadata": {},
     "output_type": "display_data"
    },
    {
     "data": {
      "text/html": [
       "<pre style=\"white-space:pre;overflow-x:auto;line-height:normal;font-family:Menlo,'DejaVu Sans Mono',consolas,'Courier New',monospace\"><span style=\"color: #008000; text-decoration-color: #008000\">Accept step at </span><span style=\"color: #808000; text-decoration-color: #808000\">i</span><span style=\"color: #008000; text-decoration-color: #008000\">=</span><span style=\"color: #008080; text-decoration-color: #008080; font-weight: bold\">1</span>\n",
       "</pre>\n"
      ],
      "text/plain": [
       "\u001b[32mAccept step at \u001b[0m\u001b[33mi\u001b[0m\u001b[32m=\u001b[0m\u001b[1;36m1\u001b[0m\n"
      ]
     },
     "metadata": {},
     "output_type": "display_data"
    },
    {
     "data": {
      "text/html": [
       "<pre style=\"white-space:pre;overflow-x:auto;line-height:normal;font-family:Menlo,'DejaVu Sans Mono',consolas,'Courier New',monospace\">┏━━━━━━━━━━━━━━━━━━━━━━━━━━━━━━━┳━━━━━━━━━━━━━━━━━━━━━━━━┓\n",
       "┃<span style=\"font-weight: bold\"> Metrics                       </span>┃<span style=\"font-weight: bold\"> Value                  </span>┃\n",
       "┡━━━━━━━━━━━━━━━━━━━━━━━━━━━━━━━╇━━━━━━━━━━━━━━━━━━━━━━━━┩\n",
       "│ Metrics/EpRet                 │ -0.6533714532852173    │\n",
       "│ Metrics/EpCost                │ 19.8799991607666       │\n",
       "│ Metrics/EpLen                 │ 1000.0                 │\n",
       "│ Train/Epoch                   │ 6.0                    │\n",
       "│ Train/Entropy                 │ 1.4274868965148926     │\n",
       "│ Train/KL                      │ 0.00020891620079055429 │\n",
       "│ Train/StopIter                │ 10.0                   │\n",
       "│ Train/PolicyRatio/Mean        │ 0.9996812343597412     │\n",
       "│ Train/PolicyRatio/Min         │ 0.9996812343597412     │\n",
       "│ Train/PolicyRatio/Max         │ 0.9996812343597412     │\n",
       "│ Train/PolicyRatio/Std         │ 0.0002254013525089249  │\n",
       "│ Train/LR                      │ 0.0                    │\n",
       "│ Train/PolicyStd               │ 1.009063959121704      │\n",
       "│ TotalEnvSteps                 │ 140000.0               │\n",
       "│ Loss/Loss_pi                  │ -0.020323731005191803  │\n",
       "│ Loss/Loss_pi/Delta            │ -0.016615512780845165  │\n",
       "│ Value/Adv                     │ -3.814697002724188e-09 │\n",
       "│ Loss/Loss_reward_critic       │ 0.003957055974751711   │\n",
       "│ Loss/Loss_reward_critic/Delta │ -0.0014531905762851238 │\n",
       "│ Value/reward                  │ -0.0622110590338707    │\n",
       "│ Loss/Loss_cost_critic         │ 0.5458176136016846     │\n",
       "│ Loss/Loss_cost_critic/Delta   │ -0.2774614095687866    │\n",
       "│ Value/cost                    │ 1.6342543363571167     │\n",
       "│ Time/Total                    │ 418.99114990234375     │\n",
       "│ Time/Rollout                  │ 42.169166564941406     │\n",
       "│ Time/Update                   │ 15.139902114868164     │\n",
       "│ Time/Epoch                    │ 57.3090705871582       │\n",
       "│ Time/FPS                      │ 348.9848937988281      │\n",
       "│ Misc/Alpha                    │ 0.6700926423072815     │\n",
       "│ Misc/FinalStepNorm            │ 0.22152569890022278    │\n",
       "│ Misc/gradient_norm            │ 0.16735607385635376    │\n",
       "│ Misc/xHx                      │ 0.044541023671627045   │\n",
       "│ Misc/H_inv_g                  │ 0.3305896818637848     │\n",
       "│ Misc/AcceptanceStep           │ 1.0                    │\n",
       "│ Misc/cost_gradient_norm       │ 0.11794151365756989    │\n",
       "│ Misc/A                        │ 0.04202551022171974    │\n",
       "│ Misc/B                        │ -839.6710815429688     │\n",
       "│ Misc/q                        │ 0.044541023671627045   │\n",
       "│ Misc/r                        │ 0.008861834183335304   │\n",
       "│ Misc/s                        │ 0.031219102442264557   │\n",
       "│ Misc/Lambda_star              │ 1.4923309087753296     │\n",
       "│ Misc/Nu_star                  │ 0.0                    │\n",
       "│ Misc/OptimCase                │ 3.0                    │\n",
       "└───────────────────────────────┴────────────────────────┘\n",
       "</pre>\n"
      ],
      "text/plain": [
       "┏━━━━━━━━━━━━━━━━━━━━━━━━━━━━━━━┳━━━━━━━━━━━━━━━━━━━━━━━━┓\n",
       "┃\u001b[1m \u001b[0m\u001b[1mMetrics                      \u001b[0m\u001b[1m \u001b[0m┃\u001b[1m \u001b[0m\u001b[1mValue                 \u001b[0m\u001b[1m \u001b[0m┃\n",
       "┡━━━━━━━━━━━━━━━━━━━━━━━━━━━━━━━╇━━━━━━━━━━━━━━━━━━━━━━━━┩\n",
       "│ Metrics/EpRet                 │ -0.6533714532852173    │\n",
       "│ Metrics/EpCost                │ 19.8799991607666       │\n",
       "│ Metrics/EpLen                 │ 1000.0                 │\n",
       "│ Train/Epoch                   │ 6.0                    │\n",
       "│ Train/Entropy                 │ 1.4274868965148926     │\n",
       "│ Train/KL                      │ 0.00020891620079055429 │\n",
       "│ Train/StopIter                │ 10.0                   │\n",
       "│ Train/PolicyRatio/Mean        │ 0.9996812343597412     │\n",
       "│ Train/PolicyRatio/Min         │ 0.9996812343597412     │\n",
       "│ Train/PolicyRatio/Max         │ 0.9996812343597412     │\n",
       "│ Train/PolicyRatio/Std         │ 0.0002254013525089249  │\n",
       "│ Train/LR                      │ 0.0                    │\n",
       "│ Train/PolicyStd               │ 1.009063959121704      │\n",
       "│ TotalEnvSteps                 │ 140000.0               │\n",
       "│ Loss/Loss_pi                  │ -0.020323731005191803  │\n",
       "│ Loss/Loss_pi/Delta            │ -0.016615512780845165  │\n",
       "│ Value/Adv                     │ -3.814697002724188e-09 │\n",
       "│ Loss/Loss_reward_critic       │ 0.003957055974751711   │\n",
       "│ Loss/Loss_reward_critic/Delta │ -0.0014531905762851238 │\n",
       "│ Value/reward                  │ -0.0622110590338707    │\n",
       "│ Loss/Loss_cost_critic         │ 0.5458176136016846     │\n",
       "│ Loss/Loss_cost_critic/Delta   │ -0.2774614095687866    │\n",
       "│ Value/cost                    │ 1.6342543363571167     │\n",
       "│ Time/Total                    │ 418.99114990234375     │\n",
       "│ Time/Rollout                  │ 42.169166564941406     │\n",
       "│ Time/Update                   │ 15.139902114868164     │\n",
       "│ Time/Epoch                    │ 57.3090705871582       │\n",
       "│ Time/FPS                      │ 348.9848937988281      │\n",
       "│ Misc/Alpha                    │ 0.6700926423072815     │\n",
       "│ Misc/FinalStepNorm            │ 0.22152569890022278    │\n",
       "│ Misc/gradient_norm            │ 0.16735607385635376    │\n",
       "│ Misc/xHx                      │ 0.044541023671627045   │\n",
       "│ Misc/H_inv_g                  │ 0.3305896818637848     │\n",
       "│ Misc/AcceptanceStep           │ 1.0                    │\n",
       "│ Misc/cost_gradient_norm       │ 0.11794151365756989    │\n",
       "│ Misc/A                        │ 0.04202551022171974    │\n",
       "│ Misc/B                        │ -839.6710815429688     │\n",
       "│ Misc/q                        │ 0.044541023671627045   │\n",
       "│ Misc/r                        │ 0.008861834183335304   │\n",
       "│ Misc/s                        │ 0.031219102442264557   │\n",
       "│ Misc/Lambda_star              │ 1.4923309087753296     │\n",
       "│ Misc/Nu_star                  │ 0.0                    │\n",
       "│ Misc/OptimCase                │ 3.0                    │\n",
       "└───────────────────────────────┴────────────────────────┘\n"
      ]
     },
     "metadata": {},
     "output_type": "display_data"
    },
    {
     "data": {
      "text/html": [
       "<pre style=\"white-space:pre;overflow-x:auto;line-height:normal;font-family:Menlo,'DejaVu Sans Mono',consolas,'Courier New',monospace\"><span style=\"color: #008000; text-decoration-color: #008000\">Warning: trajectory cut off when rollout by epoch at </span><span style=\"color: #008080; text-decoration-color: #008080; font-weight: bold\">1000.0</span><span style=\"color: #008000; text-decoration-color: #008000\"> steps.</span>\n",
       "</pre>\n"
      ],
      "text/plain": [
       "\u001b[32mWarning: trajectory cut off when rollout by epoch at \u001b[0m\u001b[1;36m1000.0\u001b[0m\u001b[32m steps.\u001b[0m\n"
      ]
     },
     "metadata": {},
     "output_type": "display_data"
    },
    {
     "data": {
      "text/html": [
       "<pre style=\"white-space:pre;overflow-x:auto;line-height:normal;font-family:Menlo,'DejaVu Sans Mono',consolas,'Courier New',monospace\"><span style=\"color: #008000; text-decoration-color: #008000\">Warning: trajectory cut off when rollout by epoch at </span><span style=\"color: #008080; text-decoration-color: #008080; font-weight: bold\">1000.0</span><span style=\"color: #008000; text-decoration-color: #008000\"> steps.</span>\n",
       "</pre>\n"
      ],
      "text/plain": [
       "\u001b[32mWarning: trajectory cut off when rollout by epoch at \u001b[0m\u001b[1;36m1000.0\u001b[0m\u001b[32m steps.\u001b[0m\n"
      ]
     },
     "metadata": {},
     "output_type": "display_data"
    },
    {
     "data": {
      "text/html": [
       "<pre style=\"white-space:pre;overflow-x:auto;line-height:normal;font-family:Menlo,'DejaVu Sans Mono',consolas,'Courier New',monospace\"><span style=\"color: #008000; text-decoration-color: #008000\">Warning: trajectory cut off when rollout by epoch at </span><span style=\"color: #008080; text-decoration-color: #008080; font-weight: bold\">1000.0</span><span style=\"color: #008000; text-decoration-color: #008000\"> steps.</span>\n",
       "</pre>\n"
      ],
      "text/plain": [
       "\u001b[32mWarning: trajectory cut off when rollout by epoch at \u001b[0m\u001b[1;36m1000.0\u001b[0m\u001b[32m steps.\u001b[0m\n"
      ]
     },
     "metadata": {},
     "output_type": "display_data"
    },
    {
     "data": {
      "text/html": [
       "<pre style=\"white-space:pre;overflow-x:auto;line-height:normal;font-family:Menlo,'DejaVu Sans Mono',consolas,'Courier New',monospace\"><span style=\"color: #008000; text-decoration-color: #008000\">Warning: trajectory cut off when rollout by epoch at </span><span style=\"color: #008080; text-decoration-color: #008080; font-weight: bold\">1000.0</span><span style=\"color: #008000; text-decoration-color: #008000\"> steps.</span>\n",
       "</pre>\n"
      ],
      "text/plain": [
       "\u001b[32mWarning: trajectory cut off when rollout by epoch at \u001b[0m\u001b[1;36m1000.0\u001b[0m\u001b[32m steps.\u001b[0m\n"
      ]
     },
     "metadata": {},
     "output_type": "display_data"
    },
    {
     "data": {
      "text/html": [
       "<pre style=\"white-space:pre;overflow-x:auto;line-height:normal;font-family:Menlo,'DejaVu Sans Mono',consolas,'Courier New',monospace\"></pre>\n"
      ],
      "text/plain": []
     },
     "metadata": {},
     "output_type": "display_data"
    },
    {
     "data": {
      "text/html": [
       "<pre style=\"white-space:pre;overflow-x:auto;line-height:normal;font-family:Menlo,'DejaVu Sans Mono',consolas,'Courier New',monospace\">\n",
       "</pre>\n"
      ],
      "text/plain": [
       "\n"
      ]
     },
     "metadata": {},
     "output_type": "display_data"
    },
    {
     "data": {
      "text/html": [
       "<pre style=\"white-space:pre;overflow-x:auto;line-height:normal;font-family:Menlo,'DejaVu Sans Mono',consolas,'Courier New',monospace\"><span style=\"color: #008000; text-decoration-color: #008000\">Expected Improvement: </span><span style=\"color: #008080; text-decoration-color: #008080; font-weight: bold\">0.02681901305913925</span><span style=\"color: #008000; text-decoration-color: #008000\"> Actual: </span><span style=\"color: #008080; text-decoration-color: #008080; font-weight: bold\">0.0269363671541214</span>\n",
       "</pre>\n"
      ],
      "text/plain": [
       "\u001b[32mExpected Improvement: \u001b[0m\u001b[1;36m0.02681901305913925\u001b[0m\u001b[32m Actual: \u001b[0m\u001b[1;36m0.0269363671541214\u001b[0m\n"
      ]
     },
     "metadata": {},
     "output_type": "display_data"
    },
    {
     "data": {
      "text/html": [
       "<pre style=\"white-space:pre;overflow-x:auto;line-height:normal;font-family:Menlo,'DejaVu Sans Mono',consolas,'Courier New',monospace\"><span style=\"color: #008000; text-decoration-color: #008000\">Accept step at </span><span style=\"color: #808000; text-decoration-color: #808000\">i</span><span style=\"color: #008000; text-decoration-color: #008000\">=</span><span style=\"color: #008080; text-decoration-color: #008080; font-weight: bold\">1</span>\n",
       "</pre>\n"
      ],
      "text/plain": [
       "\u001b[32mAccept step at \u001b[0m\u001b[33mi\u001b[0m\u001b[32m=\u001b[0m\u001b[1;36m1\u001b[0m\n"
      ]
     },
     "metadata": {},
     "output_type": "display_data"
    },
    {
     "data": {
      "text/html": [
       "<pre style=\"white-space:pre;overflow-x:auto;line-height:normal;font-family:Menlo,'DejaVu Sans Mono',consolas,'Courier New',monospace\">┏━━━━━━━━━━━━━━━━━━━━━━━━━━━━━━━┳━━━━━━━━━━━━━━━━━━━━━━━━━┓\n",
       "┃<span style=\"font-weight: bold\"> Metrics                       </span>┃<span style=\"font-weight: bold\"> Value                   </span>┃\n",
       "┡━━━━━━━━━━━━━━━━━━━━━━━━━━━━━━━╇━━━━━━━━━━━━━━━━━━━━━━━━━┩\n",
       "│ Metrics/EpRet                 │ -0.2190222293138504     │\n",
       "│ Metrics/EpCost                │ 24.239999771118164      │\n",
       "│ Metrics/EpLen                 │ 1000.0                  │\n",
       "│ Train/Epoch                   │ 7.0                     │\n",
       "│ Train/Entropy                 │ 1.42072331905365        │\n",
       "│ Train/KL                      │ 0.00023137392417993397  │\n",
       "│ Train/StopIter                │ 10.0                    │\n",
       "│ Train/PolicyRatio/Mean        │ 0.9983806014060974      │\n",
       "│ Train/PolicyRatio/Min         │ 0.9983806014060974      │\n",
       "│ Train/PolicyRatio/Max         │ 0.9983806014060974      │\n",
       "│ Train/PolicyRatio/Std         │ 0.0011451017344370484   │\n",
       "│ Train/LR                      │ 0.0                     │\n",
       "│ Train/PolicyStd               │ 1.002273678779602       │\n",
       "│ TotalEnvSteps                 │ 160000.0                │\n",
       "│ Loss/Loss_pi                  │ -0.019052330404520035   │\n",
       "│ Loss/Loss_pi/Delta            │ 0.0012714006006717682   │\n",
       "│ Value/Adv                     │ -1.3732909920349812e-08 │\n",
       "│ Loss/Loss_reward_critic       │ 0.005613325163722038    │\n",
       "│ Loss/Loss_reward_critic/Delta │ 0.0016562691889703274   │\n",
       "│ Value/reward                  │ -0.07927870005369186    │\n",
       "│ Loss/Loss_cost_critic         │ 0.8803966641426086      │\n",
       "│ Loss/Loss_cost_critic/Delta   │ 0.3345790505409241      │\n",
       "│ Value/cost                    │ 2.081836700439453       │\n",
       "│ Time/Total                    │ 471.56146240234375      │\n",
       "│ Time/Rollout                  │ 38.460811614990234      │\n",
       "│ Time/Update                   │ 14.066518783569336      │\n",
       "│ Time/Epoch                    │ 52.5273323059082        │\n",
       "│ Time/FPS                      │ 380.754150390625        │\n",
       "│ Misc/Alpha                    │ 0.7462416291236877      │\n",
       "│ Misc/FinalStepNorm            │ 0.212633416056633       │\n",
       "│ Misc/gradient_norm            │ 0.1601637899875641      │\n",
       "│ Misc/xHx                      │ 0.0359145887196064      │\n",
       "│ Misc/H_inv_g                  │ 0.28493908047676086     │\n",
       "│ Misc/AcceptanceStep           │ 1.0                     │\n",
       "│ Misc/cost_gradient_norm       │ 0.12509581446647644     │\n",
       "│ Misc/A                        │ 0.034937720745801926    │\n",
       "│ Misc/B                        │ -10.309234619140625     │\n",
       "│ Misc/q                        │ 0.0359145887196064      │\n",
       "│ Misc/r                        │ 0.007390905171632767    │\n",
       "│ Misc/s                        │ 0.05591898038983345     │\n",
       "│ Misc/Lambda_star              │ 1.3400485515594482      │\n",
       "│ Misc/Nu_star                  │ 0.0                     │\n",
       "│ Misc/OptimCase                │ 3.0                     │\n",
       "└───────────────────────────────┴─────────────────────────┘\n",
       "</pre>\n"
      ],
      "text/plain": [
       "┏━━━━━━━━━━━━━━━━━━━━━━━━━━━━━━━┳━━━━━━━━━━━━━━━━━━━━━━━━━┓\n",
       "┃\u001b[1m \u001b[0m\u001b[1mMetrics                      \u001b[0m\u001b[1m \u001b[0m┃\u001b[1m \u001b[0m\u001b[1mValue                  \u001b[0m\u001b[1m \u001b[0m┃\n",
       "┡━━━━━━━━━━━━━━━━━━━━━━━━━━━━━━━╇━━━━━━━━━━━━━━━━━━━━━━━━━┩\n",
       "│ Metrics/EpRet                 │ -0.2190222293138504     │\n",
       "│ Metrics/EpCost                │ 24.239999771118164      │\n",
       "│ Metrics/EpLen                 │ 1000.0                  │\n",
       "│ Train/Epoch                   │ 7.0                     │\n",
       "│ Train/Entropy                 │ 1.42072331905365        │\n",
       "│ Train/KL                      │ 0.00023137392417993397  │\n",
       "│ Train/StopIter                │ 10.0                    │\n",
       "│ Train/PolicyRatio/Mean        │ 0.9983806014060974      │\n",
       "│ Train/PolicyRatio/Min         │ 0.9983806014060974      │\n",
       "│ Train/PolicyRatio/Max         │ 0.9983806014060974      │\n",
       "│ Train/PolicyRatio/Std         │ 0.0011451017344370484   │\n",
       "│ Train/LR                      │ 0.0                     │\n",
       "│ Train/PolicyStd               │ 1.002273678779602       │\n",
       "│ TotalEnvSteps                 │ 160000.0                │\n",
       "│ Loss/Loss_pi                  │ -0.019052330404520035   │\n",
       "│ Loss/Loss_pi/Delta            │ 0.0012714006006717682   │\n",
       "│ Value/Adv                     │ -1.3732909920349812e-08 │\n",
       "│ Loss/Loss_reward_critic       │ 0.005613325163722038    │\n",
       "│ Loss/Loss_reward_critic/Delta │ 0.0016562691889703274   │\n",
       "│ Value/reward                  │ -0.07927870005369186    │\n",
       "│ Loss/Loss_cost_critic         │ 0.8803966641426086      │\n",
       "│ Loss/Loss_cost_critic/Delta   │ 0.3345790505409241      │\n",
       "│ Value/cost                    │ 2.081836700439453       │\n",
       "│ Time/Total                    │ 471.56146240234375      │\n",
       "│ Time/Rollout                  │ 38.460811614990234      │\n",
       "│ Time/Update                   │ 14.066518783569336      │\n",
       "│ Time/Epoch                    │ 52.5273323059082        │\n",
       "│ Time/FPS                      │ 380.754150390625        │\n",
       "│ Misc/Alpha                    │ 0.7462416291236877      │\n",
       "│ Misc/FinalStepNorm            │ 0.212633416056633       │\n",
       "│ Misc/gradient_norm            │ 0.1601637899875641      │\n",
       "│ Misc/xHx                      │ 0.0359145887196064      │\n",
       "│ Misc/H_inv_g                  │ 0.28493908047676086     │\n",
       "│ Misc/AcceptanceStep           │ 1.0                     │\n",
       "│ Misc/cost_gradient_norm       │ 0.12509581446647644     │\n",
       "│ Misc/A                        │ 0.034937720745801926    │\n",
       "│ Misc/B                        │ -10.309234619140625     │\n",
       "│ Misc/q                        │ 0.0359145887196064      │\n",
       "│ Misc/r                        │ 0.007390905171632767    │\n",
       "│ Misc/s                        │ 0.05591898038983345     │\n",
       "│ Misc/Lambda_star              │ 1.3400485515594482      │\n",
       "│ Misc/Nu_star                  │ 0.0                     │\n",
       "│ Misc/OptimCase                │ 3.0                     │\n",
       "└───────────────────────────────┴─────────────────────────┘\n"
      ]
     },
     "metadata": {},
     "output_type": "display_data"
    },
    {
     "data": {
      "text/html": [
       "<pre style=\"white-space:pre;overflow-x:auto;line-height:normal;font-family:Menlo,'DejaVu Sans Mono',consolas,'Courier New',monospace\"><span style=\"color: #008000; text-decoration-color: #008000\">Warning: trajectory cut off when rollout by epoch at </span><span style=\"color: #008080; text-decoration-color: #008080; font-weight: bold\">1000.0</span><span style=\"color: #008000; text-decoration-color: #008000\"> steps.</span>\n",
       "</pre>\n"
      ],
      "text/plain": [
       "\u001b[32mWarning: trajectory cut off when rollout by epoch at \u001b[0m\u001b[1;36m1000.0\u001b[0m\u001b[32m steps.\u001b[0m\n"
      ]
     },
     "metadata": {},
     "output_type": "display_data"
    },
    {
     "data": {
      "text/html": [
       "<pre style=\"white-space:pre;overflow-x:auto;line-height:normal;font-family:Menlo,'DejaVu Sans Mono',consolas,'Courier New',monospace\"><span style=\"color: #008000; text-decoration-color: #008000\">Warning: trajectory cut off when rollout by epoch at </span><span style=\"color: #008080; text-decoration-color: #008080; font-weight: bold\">1000.0</span><span style=\"color: #008000; text-decoration-color: #008000\"> steps.</span>\n",
       "</pre>\n"
      ],
      "text/plain": [
       "\u001b[32mWarning: trajectory cut off when rollout by epoch at \u001b[0m\u001b[1;36m1000.0\u001b[0m\u001b[32m steps.\u001b[0m\n"
      ]
     },
     "metadata": {},
     "output_type": "display_data"
    },
    {
     "data": {
      "text/html": [
       "<pre style=\"white-space:pre;overflow-x:auto;line-height:normal;font-family:Menlo,'DejaVu Sans Mono',consolas,'Courier New',monospace\"><span style=\"color: #008000; text-decoration-color: #008000\">Warning: trajectory cut off when rollout by epoch at </span><span style=\"color: #008080; text-decoration-color: #008080; font-weight: bold\">1000.0</span><span style=\"color: #008000; text-decoration-color: #008000\"> steps.</span>\n",
       "</pre>\n"
      ],
      "text/plain": [
       "\u001b[32mWarning: trajectory cut off when rollout by epoch at \u001b[0m\u001b[1;36m1000.0\u001b[0m\u001b[32m steps.\u001b[0m\n"
      ]
     },
     "metadata": {},
     "output_type": "display_data"
    },
    {
     "data": {
      "text/html": [
       "<pre style=\"white-space:pre;overflow-x:auto;line-height:normal;font-family:Menlo,'DejaVu Sans Mono',consolas,'Courier New',monospace\"><span style=\"color: #008000; text-decoration-color: #008000\">Warning: trajectory cut off when rollout by epoch at </span><span style=\"color: #008080; text-decoration-color: #008080; font-weight: bold\">1000.0</span><span style=\"color: #008000; text-decoration-color: #008000\"> steps.</span>\n",
       "</pre>\n"
      ],
      "text/plain": [
       "\u001b[32mWarning: trajectory cut off when rollout by epoch at \u001b[0m\u001b[1;36m1000.0\u001b[0m\u001b[32m steps.\u001b[0m\n"
      ]
     },
     "metadata": {},
     "output_type": "display_data"
    },
    {
     "data": {
      "text/html": [
       "<pre style=\"white-space:pre;overflow-x:auto;line-height:normal;font-family:Menlo,'DejaVu Sans Mono',consolas,'Courier New',monospace\"></pre>\n"
      ],
      "text/plain": []
     },
     "metadata": {},
     "output_type": "display_data"
    },
    {
     "data": {
      "text/html": [
       "<pre style=\"white-space:pre;overflow-x:auto;line-height:normal;font-family:Menlo,'DejaVu Sans Mono',consolas,'Courier New',monospace\">\n",
       "</pre>\n"
      ],
      "text/plain": [
       "\n"
      ]
     },
     "metadata": {},
     "output_type": "display_data"
    },
    {
     "data": {
      "text/html": [
       "<pre style=\"white-space:pre;overflow-x:auto;line-height:normal;font-family:Menlo,'DejaVu Sans Mono',consolas,'Courier New',monospace\"><span style=\"color: #800000; text-decoration-color: #800000\">Alert! Attempting infeasible recovery!</span>\n",
       "</pre>\n"
      ],
      "text/plain": [
       "\u001b[31mAlert! Attempting infeasible recovery!\u001b[0m\n"
      ]
     },
     "metadata": {},
     "output_type": "display_data"
    },
    {
     "data": {
      "text/html": [
       "<pre style=\"white-space:pre;overflow-x:auto;line-height:normal;font-family:Menlo,'DejaVu Sans Mono',consolas,'Courier New',monospace\"><span style=\"color: #008000; text-decoration-color: #008000\">Expected Improvement: </span><span style=\"color: #008080; text-decoration-color: #008080; font-weight: bold\">0.0010596578940749168</span><span style=\"color: #008000; text-decoration-color: #008000\"> Actual: </span><span style=\"color: #008080; text-decoration-color: #008080; font-weight: bold\">0.0008486022707074881</span>\n",
       "</pre>\n"
      ],
      "text/plain": [
       "\u001b[32mExpected Improvement: \u001b[0m\u001b[1;36m0.0010596578940749168\u001b[0m\u001b[32m Actual: \u001b[0m\u001b[1;36m0.0008486022707074881\u001b[0m\n"
      ]
     },
     "metadata": {},
     "output_type": "display_data"
    },
    {
     "data": {
      "text/html": [
       "<pre style=\"white-space:pre;overflow-x:auto;line-height:normal;font-family:Menlo,'DejaVu Sans Mono',consolas,'Courier New',monospace\"><span style=\"color: #008000; text-decoration-color: #008000\">Accept step at </span><span style=\"color: #808000; text-decoration-color: #808000\">i</span><span style=\"color: #008000; text-decoration-color: #008000\">=</span><span style=\"color: #008080; text-decoration-color: #008080; font-weight: bold\">1</span>\n",
       "</pre>\n"
      ],
      "text/plain": [
       "\u001b[32mAccept step at \u001b[0m\u001b[33mi\u001b[0m\u001b[32m=\u001b[0m\u001b[1;36m1\u001b[0m\n"
      ]
     },
     "metadata": {},
     "output_type": "display_data"
    },
    {
     "data": {
      "text/html": [
       "<pre style=\"white-space:pre;overflow-x:auto;line-height:normal;font-family:Menlo,'DejaVu Sans Mono',consolas,'Courier New',monospace\">┏━━━━━━━━━━━━━━━━━━━━━━━━━━━━━━━┳━━━━━━━━━━━━━━━━━━━━━━━━┓\n",
       "┃<span style=\"font-weight: bold\"> Metrics                       </span>┃<span style=\"font-weight: bold\"> Value                  </span>┃\n",
       "┡━━━━━━━━━━━━━━━━━━━━━━━━━━━━━━━╇━━━━━━━━━━━━━━━━━━━━━━━━┩\n",
       "│ Metrics/EpRet                 │ 1.9104623794555664     │\n",
       "│ Metrics/EpCost                │ 37.880001068115234     │\n",
       "│ Metrics/EpLen                 │ 1000.0                 │\n",
       "│ Train/Epoch                   │ 8.0                    │\n",
       "│ Train/Entropy                 │ 1.414681077003479      │\n",
       "│ Train/KL                      │ 0.0001644954754738137  │\n",
       "│ Train/StopIter                │ 10.0                   │\n",
       "│ Train/PolicyRatio/Mean        │ 1.0003875494003296     │\n",
       "│ Train/PolicyRatio/Min         │ 1.0003875494003296     │\n",
       "│ Train/PolicyRatio/Max         │ 1.0003875494003296     │\n",
       "│ Train/PolicyRatio/Std         │ 0.0002740107011049986  │\n",
       "│ Train/LR                      │ 0.0                    │\n",
       "│ Train/PolicyStd               │ 0.9961819648742676     │\n",
       "│ TotalEnvSteps                 │ 180000.0               │\n",
       "│ Loss/Loss_pi                  │ -0.011581510305404663  │\n",
       "│ Loss/Loss_pi/Delta            │ 0.007470820099115372   │\n",
       "│ Value/Adv                     │ -4.730224389959403e-08 │\n",
       "│ Loss/Loss_reward_critic       │ 0.009755361825227737   │\n",
       "│ Loss/Loss_reward_critic/Delta │ 0.004142036661505699   │\n",
       "│ Value/reward                  │ 0.0751827210187912     │\n",
       "│ Loss/Loss_cost_critic         │ 1.6588090658187866     │\n",
       "│ Loss/Loss_cost_critic/Delta   │ 0.778412401676178      │\n",
       "│ Value/cost                    │ 4.279732704162598      │\n",
       "│ Time/Total                    │ 531.22607421875        │\n",
       "│ Time/Rollout                  │ 44.62108612060547      │\n",
       "│ Time/Update                   │ 15.007640838623047     │\n",
       "│ Time/Epoch                    │ 59.628726959228516     │\n",
       "│ Time/FPS                      │ 335.4088134765625      │\n",
       "│ Misc/Alpha                    │ 0.8949729800224304     │\n",
       "│ Misc/FinalStepNorm            │ 0.2992515563964844     │\n",
       "│ Misc/gradient_norm            │ 0.14138874411582947    │\n",
       "│ Misc/xHx                      │ 0.02496950887143612    │\n",
       "│ Misc/H_inv_g                  │ 0.24823836982250214    │\n",
       "│ Misc/AcceptanceStep           │ 1.0                    │\n",
       "│ Misc/cost_gradient_norm       │ 0.21680878102779388    │\n",
       "│ Misc/A                        │ 0.024913365021348      │\n",
       "│ Misc/B                        │ -1661.6082763671875    │\n",
       "│ Misc/q                        │ 0.02496950887143612    │\n",
       "│ Misc/r                        │ -0.002367553301155567  │\n",
       "│ Misc/s                        │ 0.09983846545219421    │\n",
       "│ Misc/Lambda_star              │ 0.0                    │\n",
       "│ Misc/Nu_star                  │ 0.4475752115249634     │\n",
       "│ Misc/OptimCase                │ 0.0                    │\n",
       "└───────────────────────────────┴────────────────────────┘\n",
       "</pre>\n"
      ],
      "text/plain": [
       "┏━━━━━━━━━━━━━━━━━━━━━━━━━━━━━━━┳━━━━━━━━━━━━━━━━━━━━━━━━┓\n",
       "┃\u001b[1m \u001b[0m\u001b[1mMetrics                      \u001b[0m\u001b[1m \u001b[0m┃\u001b[1m \u001b[0m\u001b[1mValue                 \u001b[0m\u001b[1m \u001b[0m┃\n",
       "┡━━━━━━━━━━━━━━━━━━━━━━━━━━━━━━━╇━━━━━━━━━━━━━━━━━━━━━━━━┩\n",
       "│ Metrics/EpRet                 │ 1.9104623794555664     │\n",
       "│ Metrics/EpCost                │ 37.880001068115234     │\n",
       "│ Metrics/EpLen                 │ 1000.0                 │\n",
       "│ Train/Epoch                   │ 8.0                    │\n",
       "│ Train/Entropy                 │ 1.414681077003479      │\n",
       "│ Train/KL                      │ 0.0001644954754738137  │\n",
       "│ Train/StopIter                │ 10.0                   │\n",
       "│ Train/PolicyRatio/Mean        │ 1.0003875494003296     │\n",
       "│ Train/PolicyRatio/Min         │ 1.0003875494003296     │\n",
       "│ Train/PolicyRatio/Max         │ 1.0003875494003296     │\n",
       "│ Train/PolicyRatio/Std         │ 0.0002740107011049986  │\n",
       "│ Train/LR                      │ 0.0                    │\n",
       "│ Train/PolicyStd               │ 0.9961819648742676     │\n",
       "│ TotalEnvSteps                 │ 180000.0               │\n",
       "│ Loss/Loss_pi                  │ -0.011581510305404663  │\n",
       "│ Loss/Loss_pi/Delta            │ 0.007470820099115372   │\n",
       "│ Value/Adv                     │ -4.730224389959403e-08 │\n",
       "│ Loss/Loss_reward_critic       │ 0.009755361825227737   │\n",
       "│ Loss/Loss_reward_critic/Delta │ 0.004142036661505699   │\n",
       "│ Value/reward                  │ 0.0751827210187912     │\n",
       "│ Loss/Loss_cost_critic         │ 1.6588090658187866     │\n",
       "│ Loss/Loss_cost_critic/Delta   │ 0.778412401676178      │\n",
       "│ Value/cost                    │ 4.279732704162598      │\n",
       "│ Time/Total                    │ 531.22607421875        │\n",
       "│ Time/Rollout                  │ 44.62108612060547      │\n",
       "│ Time/Update                   │ 15.007640838623047     │\n",
       "│ Time/Epoch                    │ 59.628726959228516     │\n",
       "│ Time/FPS                      │ 335.4088134765625      │\n",
       "│ Misc/Alpha                    │ 0.8949729800224304     │\n",
       "│ Misc/FinalStepNorm            │ 0.2992515563964844     │\n",
       "│ Misc/gradient_norm            │ 0.14138874411582947    │\n",
       "│ Misc/xHx                      │ 0.02496950887143612    │\n",
       "│ Misc/H_inv_g                  │ 0.24823836982250214    │\n",
       "│ Misc/AcceptanceStep           │ 1.0                    │\n",
       "│ Misc/cost_gradient_norm       │ 0.21680878102779388    │\n",
       "│ Misc/A                        │ 0.024913365021348      │\n",
       "│ Misc/B                        │ -1661.6082763671875    │\n",
       "│ Misc/q                        │ 0.02496950887143612    │\n",
       "│ Misc/r                        │ -0.002367553301155567  │\n",
       "│ Misc/s                        │ 0.09983846545219421    │\n",
       "│ Misc/Lambda_star              │ 0.0                    │\n",
       "│ Misc/Nu_star                  │ 0.4475752115249634     │\n",
       "│ Misc/OptimCase                │ 0.0                    │\n",
       "└───────────────────────────────┴────────────────────────┘\n"
      ]
     },
     "metadata": {},
     "output_type": "display_data"
    },
    {
     "data": {
      "text/html": [
       "<pre style=\"white-space:pre;overflow-x:auto;line-height:normal;font-family:Menlo,'DejaVu Sans Mono',consolas,'Courier New',monospace\"><span style=\"color: #008000; text-decoration-color: #008000\">Warning: trajectory cut off when rollout by epoch at </span><span style=\"color: #008080; text-decoration-color: #008080; font-weight: bold\">1000.0</span><span style=\"color: #008000; text-decoration-color: #008000\"> steps.</span>\n",
       "</pre>\n"
      ],
      "text/plain": [
       "\u001b[32mWarning: trajectory cut off when rollout by epoch at \u001b[0m\u001b[1;36m1000.0\u001b[0m\u001b[32m steps.\u001b[0m\n"
      ]
     },
     "metadata": {},
     "output_type": "display_data"
    },
    {
     "data": {
      "text/html": [
       "<pre style=\"white-space:pre;overflow-x:auto;line-height:normal;font-family:Menlo,'DejaVu Sans Mono',consolas,'Courier New',monospace\"><span style=\"color: #008000; text-decoration-color: #008000\">Warning: trajectory cut off when rollout by epoch at </span><span style=\"color: #008080; text-decoration-color: #008080; font-weight: bold\">1000.0</span><span style=\"color: #008000; text-decoration-color: #008000\"> steps.</span>\n",
       "</pre>\n"
      ],
      "text/plain": [
       "\u001b[32mWarning: trajectory cut off when rollout by epoch at \u001b[0m\u001b[1;36m1000.0\u001b[0m\u001b[32m steps.\u001b[0m\n"
      ]
     },
     "metadata": {},
     "output_type": "display_data"
    },
    {
     "data": {
      "text/html": [
       "<pre style=\"white-space:pre;overflow-x:auto;line-height:normal;font-family:Menlo,'DejaVu Sans Mono',consolas,'Courier New',monospace\"><span style=\"color: #008000; text-decoration-color: #008000\">Warning: trajectory cut off when rollout by epoch at </span><span style=\"color: #008080; text-decoration-color: #008080; font-weight: bold\">1000.0</span><span style=\"color: #008000; text-decoration-color: #008000\"> steps.</span>\n",
       "</pre>\n"
      ],
      "text/plain": [
       "\u001b[32mWarning: trajectory cut off when rollout by epoch at \u001b[0m\u001b[1;36m1000.0\u001b[0m\u001b[32m steps.\u001b[0m\n"
      ]
     },
     "metadata": {},
     "output_type": "display_data"
    },
    {
     "data": {
      "text/html": [
       "<pre style=\"white-space:pre;overflow-x:auto;line-height:normal;font-family:Menlo,'DejaVu Sans Mono',consolas,'Courier New',monospace\"><span style=\"color: #008000; text-decoration-color: #008000\">Warning: trajectory cut off when rollout by epoch at </span><span style=\"color: #008080; text-decoration-color: #008080; font-weight: bold\">1000.0</span><span style=\"color: #008000; text-decoration-color: #008000\"> steps.</span>\n",
       "</pre>\n"
      ],
      "text/plain": [
       "\u001b[32mWarning: trajectory cut off when rollout by epoch at \u001b[0m\u001b[1;36m1000.0\u001b[0m\u001b[32m steps.\u001b[0m\n"
      ]
     },
     "metadata": {},
     "output_type": "display_data"
    },
    {
     "data": {
      "text/html": [
       "<pre style=\"white-space:pre;overflow-x:auto;line-height:normal;font-family:Menlo,'DejaVu Sans Mono',consolas,'Courier New',monospace\"></pre>\n"
      ],
      "text/plain": []
     },
     "metadata": {},
     "output_type": "display_data"
    },
    {
     "data": {
      "text/html": [
       "<pre style=\"white-space:pre;overflow-x:auto;line-height:normal;font-family:Menlo,'DejaVu Sans Mono',consolas,'Courier New',monospace\">\n",
       "</pre>\n"
      ],
      "text/plain": [
       "\n"
      ]
     },
     "metadata": {},
     "output_type": "display_data"
    },
    {
     "data": {
      "text/html": [
       "<pre style=\"white-space:pre;overflow-x:auto;line-height:normal;font-family:Menlo,'DejaVu Sans Mono',consolas,'Courier New',monospace\"><span style=\"color: #800000; text-decoration-color: #800000\">Alert! Attempting infeasible recovery!</span>\n",
       "</pre>\n"
      ],
      "text/plain": [
       "\u001b[31mAlert! Attempting infeasible recovery!\u001b[0m\n"
      ]
     },
     "metadata": {},
     "output_type": "display_data"
    },
    {
     "data": {
      "text/html": [
       "<pre style=\"white-space:pre;overflow-x:auto;line-height:normal;font-family:Menlo,'DejaVu Sans Mono',consolas,'Courier New',monospace\"><span style=\"color: #008000; text-decoration-color: #008000\">Expected Improvement: </span><span style=\"color: #008080; text-decoration-color: #008080; font-weight: bold\">-0.0008923123241402209</span><span style=\"color: #008000; text-decoration-color: #008000\"> Actual: </span><span style=\"color: #008080; text-decoration-color: #008080; font-weight: bold\">-0.0008037391235120595</span>\n",
       "</pre>\n"
      ],
      "text/plain": [
       "\u001b[32mExpected Improvement: \u001b[0m\u001b[1;36m-0.0008923123241402209\u001b[0m\u001b[32m Actual: \u001b[0m\u001b[1;36m-0.0008037391235120595\u001b[0m\n"
      ]
     },
     "metadata": {},
     "output_type": "display_data"
    },
    {
     "data": {
      "text/html": [
       "<pre style=\"white-space:pre;overflow-x:auto;line-height:normal;font-family:Menlo,'DejaVu Sans Mono',consolas,'Courier New',monospace\"><span style=\"color: #008000; text-decoration-color: #008000\">Accept step at </span><span style=\"color: #808000; text-decoration-color: #808000\">i</span><span style=\"color: #008000; text-decoration-color: #008000\">=</span><span style=\"color: #008080; text-decoration-color: #008080; font-weight: bold\">1</span>\n",
       "</pre>\n"
      ],
      "text/plain": [
       "\u001b[32mAccept step at \u001b[0m\u001b[33mi\u001b[0m\u001b[32m=\u001b[0m\u001b[1;36m1\u001b[0m\n"
      ]
     },
     "metadata": {},
     "output_type": "display_data"
    },
    {
     "data": {
      "text/html": [
       "<pre style=\"white-space:pre;overflow-x:auto;line-height:normal;font-family:Menlo,'DejaVu Sans Mono',consolas,'Courier New',monospace\">┏━━━━━━━━━━━━━━━━━━━━━━━━━━━━━━━┳━━━━━━━━━━━━━━━━━━━━━━━━┓\n",
       "┃<span style=\"font-weight: bold\"> Metrics                       </span>┃<span style=\"font-weight: bold\"> Value                  </span>┃\n",
       "┡━━━━━━━━━━━━━━━━━━━━━━━━━━━━━━━╇━━━━━━━━━━━━━━━━━━━━━━━━┩\n",
       "│ Metrics/EpRet                 │ 3.323404550552368      │\n",
       "│ Metrics/EpCost                │ 37.2400016784668       │\n",
       "│ Metrics/EpLen                 │ 1000.0                 │\n",
       "│ Train/Epoch                   │ 9.0                    │\n",
       "│ Train/Entropy                 │ 1.4187884330749512     │\n",
       "│ Train/KL                      │ 0.0001660307461861521  │\n",
       "│ Train/StopIter                │ 10.0                   │\n",
       "│ Train/PolicyRatio/Mean        │ 0.999803364276886      │\n",
       "│ Train/PolicyRatio/Min         │ 0.9998034238815308     │\n",
       "│ Train/PolicyRatio/Max         │ 0.9998034238815308     │\n",
       "│ Train/PolicyRatio/Std         │ 0.00013902840146329254 │\n",
       "│ Train/LR                      │ 0.0                    │\n",
       "│ Train/PolicyStd               │ 1.0007632970809937     │\n",
       "│ TotalEnvSteps                 │ 200000.0               │\n",
       "│ Loss/Loss_pi                  │ -0.008478480391204357  │\n",
       "│ Loss/Loss_pi/Delta            │ 0.003103029914200306   │\n",
       "│ Value/Adv                     │ 1.602172794434864e-08  │\n",
       "│ Loss/Loss_reward_critic       │ 0.008512887172400951   │\n",
       "│ Loss/Loss_reward_critic/Delta │ -0.001242474652826786  │\n",
       "│ Value/reward                  │ 0.02939709462225437    │\n",
       "│ Loss/Loss_cost_critic         │ 0.8847349882125854     │\n",
       "│ Loss/Loss_cost_critic/Delta   │ -0.7740740776062012    │\n",
       "│ Value/cost                    │ 4.609518051147461      │\n",
       "│ Time/Total                    │ 586.7825317382812      │\n",
       "│ Time/Rollout                  │ 41.35926055908203      │\n",
       "│ Time/Update                   │ 14.160414695739746     │\n",
       "│ Time/Epoch                    │ 55.519676208496094     │\n",
       "│ Time/FPS                      │ 360.232666015625       │\n",
       "│ Misc/Alpha                    │ 0.8551576733589172     │\n",
       "│ Misc/FinalStepNorm            │ 0.2922327220439911     │\n",
       "│ Misc/gradient_norm            │ 0.11934857070446014    │\n",
       "│ Misc/xHx                      │ 0.027348747476935387   │\n",
       "│ Misc/H_inv_g                  │ 0.29944974184036255    │\n",
       "│ Misc/AcceptanceStep           │ 1.0                    │\n",
       "│ Misc/cost_gradient_norm       │ 0.17380230128765106    │\n",
       "│ Misc/A                        │ 0.027308937162160873   │\n",
       "│ Misc/B                        │ -2347.694091796875     │\n",
       "│ Misc/q                        │ 0.027348747476935387   │\n",
       "│ Misc/r                        │ 0.0015938985161483288  │\n",
       "│ Misc/s                        │ 0.06381425261497498    │\n",
       "│ Misc/Lambda_star              │ 0.0                    │\n",
       "│ Misc/Nu_star                  │ 0.5598299503326416     │\n",
       "│ Misc/OptimCase                │ 0.0                    │\n",
       "└───────────────────────────────┴────────────────────────┘\n",
       "</pre>\n"
      ],
      "text/plain": [
       "┏━━━━━━━━━━━━━━━━━━━━━━━━━━━━━━━┳━━━━━━━━━━━━━━━━━━━━━━━━┓\n",
       "┃\u001b[1m \u001b[0m\u001b[1mMetrics                      \u001b[0m\u001b[1m \u001b[0m┃\u001b[1m \u001b[0m\u001b[1mValue                 \u001b[0m\u001b[1m \u001b[0m┃\n",
       "┡━━━━━━━━━━━━━━━━━━━━━━━━━━━━━━━╇━━━━━━━━━━━━━━━━━━━━━━━━┩\n",
       "│ Metrics/EpRet                 │ 3.323404550552368      │\n",
       "│ Metrics/EpCost                │ 37.2400016784668       │\n",
       "│ Metrics/EpLen                 │ 1000.0                 │\n",
       "│ Train/Epoch                   │ 9.0                    │\n",
       "│ Train/Entropy                 │ 1.4187884330749512     │\n",
       "│ Train/KL                      │ 0.0001660307461861521  │\n",
       "│ Train/StopIter                │ 10.0                   │\n",
       "│ Train/PolicyRatio/Mean        │ 0.999803364276886      │\n",
       "│ Train/PolicyRatio/Min         │ 0.9998034238815308     │\n",
       "│ Train/PolicyRatio/Max         │ 0.9998034238815308     │\n",
       "│ Train/PolicyRatio/Std         │ 0.00013902840146329254 │\n",
       "│ Train/LR                      │ 0.0                    │\n",
       "│ Train/PolicyStd               │ 1.0007632970809937     │\n",
       "│ TotalEnvSteps                 │ 200000.0               │\n",
       "│ Loss/Loss_pi                  │ -0.008478480391204357  │\n",
       "│ Loss/Loss_pi/Delta            │ 0.003103029914200306   │\n",
       "│ Value/Adv                     │ 1.602172794434864e-08  │\n",
       "│ Loss/Loss_reward_critic       │ 0.008512887172400951   │\n",
       "│ Loss/Loss_reward_critic/Delta │ -0.001242474652826786  │\n",
       "│ Value/reward                  │ 0.02939709462225437    │\n",
       "│ Loss/Loss_cost_critic         │ 0.8847349882125854     │\n",
       "│ Loss/Loss_cost_critic/Delta   │ -0.7740740776062012    │\n",
       "│ Value/cost                    │ 4.609518051147461      │\n",
       "│ Time/Total                    │ 586.7825317382812      │\n",
       "│ Time/Rollout                  │ 41.35926055908203      │\n",
       "│ Time/Update                   │ 14.160414695739746     │\n",
       "│ Time/Epoch                    │ 55.519676208496094     │\n",
       "│ Time/FPS                      │ 360.232666015625       │\n",
       "│ Misc/Alpha                    │ 0.8551576733589172     │\n",
       "│ Misc/FinalStepNorm            │ 0.2922327220439911     │\n",
       "│ Misc/gradient_norm            │ 0.11934857070446014    │\n",
       "│ Misc/xHx                      │ 0.027348747476935387   │\n",
       "│ Misc/H_inv_g                  │ 0.29944974184036255    │\n",
       "│ Misc/AcceptanceStep           │ 1.0                    │\n",
       "│ Misc/cost_gradient_norm       │ 0.17380230128765106    │\n",
       "│ Misc/A                        │ 0.027308937162160873   │\n",
       "│ Misc/B                        │ -2347.694091796875     │\n",
       "│ Misc/q                        │ 0.027348747476935387   │\n",
       "│ Misc/r                        │ 0.0015938985161483288  │\n",
       "│ Misc/s                        │ 0.06381425261497498    │\n",
       "│ Misc/Lambda_star              │ 0.0                    │\n",
       "│ Misc/Nu_star                  │ 0.5598299503326416     │\n",
       "│ Misc/OptimCase                │ 0.0                    │\n",
       "└───────────────────────────────┴────────────────────────┘\n"
      ]
     },
     "metadata": {},
     "output_type": "display_data"
    },
    {
     "data": {
      "text/html": [
       "<pre style=\"white-space:pre;overflow-x:auto;line-height:normal;font-family:Menlo,'DejaVu Sans Mono',consolas,'Courier New',monospace\"><span style=\"color: #008000; text-decoration-color: #008000\">Warning: trajectory cut off when rollout by epoch at </span><span style=\"color: #008080; text-decoration-color: #008080; font-weight: bold\">1000.0</span><span style=\"color: #008000; text-decoration-color: #008000\"> steps.</span>\n",
       "</pre>\n"
      ],
      "text/plain": [
       "\u001b[32mWarning: trajectory cut off when rollout by epoch at \u001b[0m\u001b[1;36m1000.0\u001b[0m\u001b[32m steps.\u001b[0m\n"
      ]
     },
     "metadata": {},
     "output_type": "display_data"
    },
    {
     "data": {
      "text/html": [
       "<pre style=\"white-space:pre;overflow-x:auto;line-height:normal;font-family:Menlo,'DejaVu Sans Mono',consolas,'Courier New',monospace\"><span style=\"color: #008000; text-decoration-color: #008000\">Warning: trajectory cut off when rollout by epoch at </span><span style=\"color: #008080; text-decoration-color: #008080; font-weight: bold\">1000.0</span><span style=\"color: #008000; text-decoration-color: #008000\"> steps.</span>\n",
       "</pre>\n"
      ],
      "text/plain": [
       "\u001b[32mWarning: trajectory cut off when rollout by epoch at \u001b[0m\u001b[1;36m1000.0\u001b[0m\u001b[32m steps.\u001b[0m\n"
      ]
     },
     "metadata": {},
     "output_type": "display_data"
    },
    {
     "data": {
      "text/html": [
       "<pre style=\"white-space:pre;overflow-x:auto;line-height:normal;font-family:Menlo,'DejaVu Sans Mono',consolas,'Courier New',monospace\"><span style=\"color: #008000; text-decoration-color: #008000\">Warning: trajectory cut off when rollout by epoch at </span><span style=\"color: #008080; text-decoration-color: #008080; font-weight: bold\">1000.0</span><span style=\"color: #008000; text-decoration-color: #008000\"> steps.</span>\n",
       "</pre>\n"
      ],
      "text/plain": [
       "\u001b[32mWarning: trajectory cut off when rollout by epoch at \u001b[0m\u001b[1;36m1000.0\u001b[0m\u001b[32m steps.\u001b[0m\n"
      ]
     },
     "metadata": {},
     "output_type": "display_data"
    },
    {
     "data": {
      "text/html": [
       "<pre style=\"white-space:pre;overflow-x:auto;line-height:normal;font-family:Menlo,'DejaVu Sans Mono',consolas,'Courier New',monospace\"><span style=\"color: #008000; text-decoration-color: #008000\">Warning: trajectory cut off when rollout by epoch at </span><span style=\"color: #008080; text-decoration-color: #008080; font-weight: bold\">1000.0</span><span style=\"color: #008000; text-decoration-color: #008000\"> steps.</span>\n",
       "</pre>\n"
      ],
      "text/plain": [
       "\u001b[32mWarning: trajectory cut off when rollout by epoch at \u001b[0m\u001b[1;36m1000.0\u001b[0m\u001b[32m steps.\u001b[0m\n"
      ]
     },
     "metadata": {},
     "output_type": "display_data"
    },
    {
     "data": {
      "text/html": [
       "<pre style=\"white-space:pre;overflow-x:auto;line-height:normal;font-family:Menlo,'DejaVu Sans Mono',consolas,'Courier New',monospace\"></pre>\n"
      ],
      "text/plain": []
     },
     "metadata": {},
     "output_type": "display_data"
    },
    {
     "data": {
      "text/html": [
       "<pre style=\"white-space:pre;overflow-x:auto;line-height:normal;font-family:Menlo,'DejaVu Sans Mono',consolas,'Courier New',monospace\">\n",
       "</pre>\n"
      ],
      "text/plain": [
       "\n"
      ]
     },
     "metadata": {},
     "output_type": "display_data"
    },
    {
     "data": {
      "text/html": [
       "<pre style=\"white-space:pre;overflow-x:auto;line-height:normal;font-family:Menlo,'DejaVu Sans Mono',consolas,'Courier New',monospace\"><span style=\"color: #800000; text-decoration-color: #800000\">Alert! Attempting infeasible recovery!</span>\n",
       "</pre>\n"
      ],
      "text/plain": [
       "\u001b[31mAlert! Attempting infeasible recovery!\u001b[0m\n"
      ]
     },
     "metadata": {},
     "output_type": "display_data"
    },
    {
     "data": {
      "text/html": [
       "<pre style=\"white-space:pre;overflow-x:auto;line-height:normal;font-family:Menlo,'DejaVu Sans Mono',consolas,'Courier New',monospace\"><span style=\"color: #008000; text-decoration-color: #008000\">Expected Improvement: </span><span style=\"color: #008080; text-decoration-color: #008080; font-weight: bold\">-0.0022956007160246372</span><span style=\"color: #008000; text-decoration-color: #008000\"> Actual: </span><span style=\"color: #008080; text-decoration-color: #008080; font-weight: bold\">-0.0026672501116991043</span>\n",
       "</pre>\n"
      ],
      "text/plain": [
       "\u001b[32mExpected Improvement: \u001b[0m\u001b[1;36m-0.0022956007160246372\u001b[0m\u001b[32m Actual: \u001b[0m\u001b[1;36m-0.0026672501116991043\u001b[0m\n"
      ]
     },
     "metadata": {},
     "output_type": "display_data"
    },
    {
     "data": {
      "text/html": [
       "<pre style=\"white-space:pre;overflow-x:auto;line-height:normal;font-family:Menlo,'DejaVu Sans Mono',consolas,'Courier New',monospace\"><span style=\"color: #008000; text-decoration-color: #008000\">Accept step at </span><span style=\"color: #808000; text-decoration-color: #808000\">i</span><span style=\"color: #008000; text-decoration-color: #008000\">=</span><span style=\"color: #008080; text-decoration-color: #008080; font-weight: bold\">1</span>\n",
       "</pre>\n"
      ],
      "text/plain": [
       "\u001b[32mAccept step at \u001b[0m\u001b[33mi\u001b[0m\u001b[32m=\u001b[0m\u001b[1;36m1\u001b[0m\n"
      ]
     },
     "metadata": {},
     "output_type": "display_data"
    },
    {
     "data": {
      "text/html": [
       "<pre style=\"white-space:pre;overflow-x:auto;line-height:normal;font-family:Menlo,'DejaVu Sans Mono',consolas,'Courier New',monospace\">┏━━━━━━━━━━━━━━━━━━━━━━━━━━━━━━━┳━━━━━━━━━━━━━━━━━━━━━━━━┓\n",
       "┃<span style=\"font-weight: bold\"> Metrics                       </span>┃<span style=\"font-weight: bold\"> Value                  </span>┃\n",
       "┡━━━━━━━━━━━━━━━━━━━━━━━━━━━━━━━╇━━━━━━━━━━━━━━━━━━━━━━━━┩\n",
       "│ Metrics/EpRet                 │ 3.5277554988861084     │\n",
       "│ Metrics/EpCost                │ 27.579999923706055     │\n",
       "│ Metrics/EpLen                 │ 1000.0                 │\n",
       "│ Train/Epoch                   │ 10.0                   │\n",
       "│ Train/Entropy                 │ 1.428719162940979      │\n",
       "│ Train/KL                      │ 0.0001604406861588359  │\n",
       "│ Train/StopIter                │ 10.0                   │\n",
       "│ Train/PolicyRatio/Mean        │ 0.9995778203010559     │\n",
       "│ Train/PolicyRatio/Min         │ 0.9995778799057007     │\n",
       "│ Train/PolicyRatio/Max         │ 0.9995778799057007     │\n",
       "│ Train/PolicyRatio/Std         │ 0.00029854016611352563 │\n",
       "│ Train/LR                      │ 0.0                    │\n",
       "│ Train/PolicyStd               │ 1.0107632875442505     │\n",
       "│ TotalEnvSteps                 │ 220000.0               │\n",
       "│ Loss/Loss_pi                  │ -0.00758509524166584   │\n",
       "│ Loss/Loss_pi/Delta            │ 0.000893385149538517   │\n",
       "│ Value/Adv                     │ -9.53674295089968e-09  │\n",
       "│ Loss/Loss_reward_critic       │ 0.008650988340377808   │\n",
       "│ Loss/Loss_reward_critic/Delta │ 0.00013810116797685623 │\n",
       "│ Value/reward                  │ 0.09378160536289215    │\n",
       "│ Loss/Loss_cost_critic         │ 0.9542680978775024     │\n",
       "│ Loss/Loss_cost_critic/Delta   │ 0.06953310966491699    │\n",
       "│ Value/cost                    │ 4.8827128410339355     │\n",
       "│ Time/Total                    │ 647.03466796875        │\n",
       "│ Time/Rollout                  │ 46.76130676269531      │\n",
       "│ Time/Update                   │ 13.454853057861328     │\n",
       "│ Time/Epoch                    │ 60.21615982055664      │\n",
       "│ Time/FPS                      │ 332.13677978515625     │\n",
       "│ Misc/Alpha                    │ 0.8540473580360413     │\n",
       "│ Misc/FinalStepNorm            │ 0.2844063341617584     │\n",
       "│ Misc/gradient_norm            │ 0.13557003438472748    │\n",
       "│ Misc/xHx                      │ 0.02741990238428116    │\n",
       "│ Misc/H_inv_g                  │ 0.2726564407348633     │\n",
       "│ Misc/AcceptanceStep           │ 1.0                    │\n",
       "│ Misc/cost_gradient_norm       │ 0.18885329365730286    │\n",
       "│ Misc/A                        │ 0.027156412601470947   │\n",
       "│ Misc/B                        │ -81.26020812988281     │\n",
       "│ Misc/q                        │ 0.02741990238428116    │\n",
       "│ Misc/r                        │ 0.004645245149731636   │\n",
       "│ Misc/s                        │ 0.08189447224140167    │\n",
       "│ Misc/Lambda_star              │ 0.0                    │\n",
       "│ Misc/Nu_star                  │ 0.49418288469314575    │\n",
       "│ Misc/OptimCase                │ 0.0                    │\n",
       "└───────────────────────────────┴────────────────────────┘\n",
       "</pre>\n"
      ],
      "text/plain": [
       "┏━━━━━━━━━━━━━━━━━━━━━━━━━━━━━━━┳━━━━━━━━━━━━━━━━━━━━━━━━┓\n",
       "┃\u001b[1m \u001b[0m\u001b[1mMetrics                      \u001b[0m\u001b[1m \u001b[0m┃\u001b[1m \u001b[0m\u001b[1mValue                 \u001b[0m\u001b[1m \u001b[0m┃\n",
       "┡━━━━━━━━━━━━━━━━━━━━━━━━━━━━━━━╇━━━━━━━━━━━━━━━━━━━━━━━━┩\n",
       "│ Metrics/EpRet                 │ 3.5277554988861084     │\n",
       "│ Metrics/EpCost                │ 27.579999923706055     │\n",
       "│ Metrics/EpLen                 │ 1000.0                 │\n",
       "│ Train/Epoch                   │ 10.0                   │\n",
       "│ Train/Entropy                 │ 1.428719162940979      │\n",
       "│ Train/KL                      │ 0.0001604406861588359  │\n",
       "│ Train/StopIter                │ 10.0                   │\n",
       "│ Train/PolicyRatio/Mean        │ 0.9995778203010559     │\n",
       "│ Train/PolicyRatio/Min         │ 0.9995778799057007     │\n",
       "│ Train/PolicyRatio/Max         │ 0.9995778799057007     │\n",
       "│ Train/PolicyRatio/Std         │ 0.00029854016611352563 │\n",
       "│ Train/LR                      │ 0.0                    │\n",
       "│ Train/PolicyStd               │ 1.0107632875442505     │\n",
       "│ TotalEnvSteps                 │ 220000.0               │\n",
       "│ Loss/Loss_pi                  │ -0.00758509524166584   │\n",
       "│ Loss/Loss_pi/Delta            │ 0.000893385149538517   │\n",
       "│ Value/Adv                     │ -9.53674295089968e-09  │\n",
       "│ Loss/Loss_reward_critic       │ 0.008650988340377808   │\n",
       "│ Loss/Loss_reward_critic/Delta │ 0.00013810116797685623 │\n",
       "│ Value/reward                  │ 0.09378160536289215    │\n",
       "│ Loss/Loss_cost_critic         │ 0.9542680978775024     │\n",
       "│ Loss/Loss_cost_critic/Delta   │ 0.06953310966491699    │\n",
       "│ Value/cost                    │ 4.8827128410339355     │\n",
       "│ Time/Total                    │ 647.03466796875        │\n",
       "│ Time/Rollout                  │ 46.76130676269531      │\n",
       "│ Time/Update                   │ 13.454853057861328     │\n",
       "│ Time/Epoch                    │ 60.21615982055664      │\n",
       "│ Time/FPS                      │ 332.13677978515625     │\n",
       "│ Misc/Alpha                    │ 0.8540473580360413     │\n",
       "│ Misc/FinalStepNorm            │ 0.2844063341617584     │\n",
       "│ Misc/gradient_norm            │ 0.13557003438472748    │\n",
       "│ Misc/xHx                      │ 0.02741990238428116    │\n",
       "│ Misc/H_inv_g                  │ 0.2726564407348633     │\n",
       "│ Misc/AcceptanceStep           │ 1.0                    │\n",
       "│ Misc/cost_gradient_norm       │ 0.18885329365730286    │\n",
       "│ Misc/A                        │ 0.027156412601470947   │\n",
       "│ Misc/B                        │ -81.26020812988281     │\n",
       "│ Misc/q                        │ 0.02741990238428116    │\n",
       "│ Misc/r                        │ 0.004645245149731636   │\n",
       "│ Misc/s                        │ 0.08189447224140167    │\n",
       "│ Misc/Lambda_star              │ 0.0                    │\n",
       "│ Misc/Nu_star                  │ 0.49418288469314575    │\n",
       "│ Misc/OptimCase                │ 0.0                    │\n",
       "└───────────────────────────────┴────────────────────────┘\n"
      ]
     },
     "metadata": {},
     "output_type": "display_data"
    },
    {
     "data": {
      "text/html": [
       "<pre style=\"white-space:pre;overflow-x:auto;line-height:normal;font-family:Menlo,'DejaVu Sans Mono',consolas,'Courier New',monospace\"><span style=\"color: #008000; text-decoration-color: #008000\">Warning: trajectory cut off when rollout by epoch at </span><span style=\"color: #008080; text-decoration-color: #008080; font-weight: bold\">1000.0</span><span style=\"color: #008000; text-decoration-color: #008000\"> steps.</span>\n",
       "</pre>\n"
      ],
      "text/plain": [
       "\u001b[32mWarning: trajectory cut off when rollout by epoch at \u001b[0m\u001b[1;36m1000.0\u001b[0m\u001b[32m steps.\u001b[0m\n"
      ]
     },
     "metadata": {},
     "output_type": "display_data"
    },
    {
     "data": {
      "text/html": [
       "<pre style=\"white-space:pre;overflow-x:auto;line-height:normal;font-family:Menlo,'DejaVu Sans Mono',consolas,'Courier New',monospace\"><span style=\"color: #008000; text-decoration-color: #008000\">Warning: trajectory cut off when rollout by epoch at </span><span style=\"color: #008080; text-decoration-color: #008080; font-weight: bold\">1000.0</span><span style=\"color: #008000; text-decoration-color: #008000\"> steps.</span>\n",
       "</pre>\n"
      ],
      "text/plain": [
       "\u001b[32mWarning: trajectory cut off when rollout by epoch at \u001b[0m\u001b[1;36m1000.0\u001b[0m\u001b[32m steps.\u001b[0m\n"
      ]
     },
     "metadata": {},
     "output_type": "display_data"
    },
    {
     "data": {
      "text/html": [
       "<pre style=\"white-space:pre;overflow-x:auto;line-height:normal;font-family:Menlo,'DejaVu Sans Mono',consolas,'Courier New',monospace\"><span style=\"color: #008000; text-decoration-color: #008000\">Warning: trajectory cut off when rollout by epoch at </span><span style=\"color: #008080; text-decoration-color: #008080; font-weight: bold\">1000.0</span><span style=\"color: #008000; text-decoration-color: #008000\"> steps.</span>\n",
       "</pre>\n"
      ],
      "text/plain": [
       "\u001b[32mWarning: trajectory cut off when rollout by epoch at \u001b[0m\u001b[1;36m1000.0\u001b[0m\u001b[32m steps.\u001b[0m\n"
      ]
     },
     "metadata": {},
     "output_type": "display_data"
    },
    {
     "data": {
      "text/html": [
       "<pre style=\"white-space:pre;overflow-x:auto;line-height:normal;font-family:Menlo,'DejaVu Sans Mono',consolas,'Courier New',monospace\"><span style=\"color: #008000; text-decoration-color: #008000\">Warning: trajectory cut off when rollout by epoch at </span><span style=\"color: #008080; text-decoration-color: #008080; font-weight: bold\">1000.0</span><span style=\"color: #008000; text-decoration-color: #008000\"> steps.</span>\n",
       "</pre>\n"
      ],
      "text/plain": [
       "\u001b[32mWarning: trajectory cut off when rollout by epoch at \u001b[0m\u001b[1;36m1000.0\u001b[0m\u001b[32m steps.\u001b[0m\n"
      ]
     },
     "metadata": {},
     "output_type": "display_data"
    },
    {
     "data": {
      "text/html": [
       "<pre style=\"white-space:pre;overflow-x:auto;line-height:normal;font-family:Menlo,'DejaVu Sans Mono',consolas,'Courier New',monospace\"></pre>\n"
      ],
      "text/plain": []
     },
     "metadata": {},
     "output_type": "display_data"
    },
    {
     "data": {
      "text/html": [
       "<pre style=\"white-space:pre;overflow-x:auto;line-height:normal;font-family:Menlo,'DejaVu Sans Mono',consolas,'Courier New',monospace\">\n",
       "</pre>\n"
      ],
      "text/plain": [
       "\n"
      ]
     },
     "metadata": {},
     "output_type": "display_data"
    },
    {
     "data": {
      "text/html": [
       "<pre style=\"white-space:pre;overflow-x:auto;line-height:normal;font-family:Menlo,'DejaVu Sans Mono',consolas,'Courier New',monospace\"><span style=\"color: #800000; text-decoration-color: #800000\">Alert! Attempting infeasible recovery!</span>\n",
       "</pre>\n"
      ],
      "text/plain": [
       "\u001b[31mAlert! Attempting infeasible recovery!\u001b[0m\n"
      ]
     },
     "metadata": {},
     "output_type": "display_data"
    },
    {
     "data": {
      "text/html": [
       "<pre style=\"white-space:pre;overflow-x:auto;line-height:normal;font-family:Menlo,'DejaVu Sans Mono',consolas,'Courier New',monospace\"><span style=\"color: #008000; text-decoration-color: #008000\">Expected Improvement: </span><span style=\"color: #008080; text-decoration-color: #008080; font-weight: bold\">-0.0053226538002491</span><span style=\"color: #008000; text-decoration-color: #008000\"> Actual: </span><span style=\"color: #008080; text-decoration-color: #008080; font-weight: bold\">-0.005604187026619911</span>\n",
       "</pre>\n"
      ],
      "text/plain": [
       "\u001b[32mExpected Improvement: \u001b[0m\u001b[1;36m-0.0053226538002491\u001b[0m\u001b[32m Actual: \u001b[0m\u001b[1;36m-0.005604187026619911\u001b[0m\n"
      ]
     },
     "metadata": {},
     "output_type": "display_data"
    },
    {
     "data": {
      "text/html": [
       "<pre style=\"white-space:pre;overflow-x:auto;line-height:normal;font-family:Menlo,'DejaVu Sans Mono',consolas,'Courier New',monospace\"><span style=\"color: #008000; text-decoration-color: #008000\">Accept step at </span><span style=\"color: #808000; text-decoration-color: #808000\">i</span><span style=\"color: #008000; text-decoration-color: #008000\">=</span><span style=\"color: #008080; text-decoration-color: #008080; font-weight: bold\">1</span>\n",
       "</pre>\n"
      ],
      "text/plain": [
       "\u001b[32mAccept step at \u001b[0m\u001b[33mi\u001b[0m\u001b[32m=\u001b[0m\u001b[1;36m1\u001b[0m\n"
      ]
     },
     "metadata": {},
     "output_type": "display_data"
    },
    {
     "data": {
      "text/html": [
       "<pre style=\"white-space:pre;overflow-x:auto;line-height:normal;font-family:Menlo,'DejaVu Sans Mono',consolas,'Courier New',monospace\">┏━━━━━━━━━━━━━━━━━━━━━━━━━━━━━━━┳━━━━━━━━━━━━━━━━━━━━━━━━━┓\n",
       "┃<span style=\"font-weight: bold\"> Metrics                       </span>┃<span style=\"font-weight: bold\"> Value                   </span>┃\n",
       "┡━━━━━━━━━━━━━━━━━━━━━━━━━━━━━━━╇━━━━━━━━━━━━━━━━━━━━━━━━━┩\n",
       "│ Metrics/EpRet                 │ 3.045546054840088       │\n",
       "│ Metrics/EpCost                │ 38.7400016784668        │\n",
       "│ Metrics/EpLen                 │ 1000.0                  │\n",
       "│ Train/Epoch                   │ 11.0                    │\n",
       "│ Train/Entropy                 │ 1.4331966638565063      │\n",
       "│ Train/KL                      │ 0.00017625605687499046  │\n",
       "│ Train/StopIter                │ 10.0                    │\n",
       "│ Train/PolicyRatio/Mean        │ 1.0002813339233398      │\n",
       "│ Train/PolicyRatio/Min         │ 1.0002813339233398      │\n",
       "│ Train/PolicyRatio/Max         │ 1.0002813339233398      │\n",
       "│ Train/PolicyRatio/Std         │ 0.00019893312128260732  │\n",
       "│ Train/LR                      │ 0.0                     │\n",
       "│ Train/PolicyStd               │ 1.0156084299087524      │\n",
       "│ TotalEnvSteps                 │ 240000.0                │\n",
       "│ Loss/Loss_pi                  │ -0.0054700663313269615  │\n",
       "│ Loss/Loss_pi/Delta            │ 0.0021150289103388786   │\n",
       "│ Value/Adv                     │ -2.6702879907247734e-09 │\n",
       "│ Loss/Loss_reward_critic       │ 0.0062710014171898365   │\n",
       "│ Loss/Loss_reward_critic/Delta │ -0.002379986923187971   │\n",
       "│ Value/reward                  │ 0.08983709663152695     │\n",
       "│ Loss/Loss_cost_critic         │ 1.7203404903411865      │\n",
       "│ Loss/Loss_cost_critic/Delta   │ 0.7660723924636841      │\n",
       "│ Value/cost                    │ 3.1267948150634766      │\n",
       "│ Time/Total                    │ 704.4620361328125       │\n",
       "│ Time/Rollout                  │ 43.44430160522461       │\n",
       "│ Time/Update                   │ 13.939041137695312      │\n",
       "│ Time/Epoch                    │ 57.38334274291992       │\n",
       "│ Time/FPS                      │ 348.533203125           │\n",
       "│ Misc/Alpha                    │ 0.7672176361083984      │\n",
       "│ Misc/FinalStepNorm            │ 0.29587453603744507     │\n",
       "│ Misc/gradient_norm            │ 0.15592418611049652     │\n",
       "│ Misc/xHx                      │ 0.03397759795188904     │\n",
       "│ Misc/H_inv_g                  │ 0.2869921326637268      │\n",
       "│ Misc/AcceptanceStep           │ 1.0                     │\n",
       "│ Misc/cost_gradient_norm       │ 0.18248122930526733     │\n",
       "│ Misc/A                        │ 0.03256106376647949     │\n",
       "│ Misc/B                        │ -2683.474609375         │\n",
       "│ Misc/q                        │ 0.03397759795188904     │\n",
       "│ Misc/r                        │ 0.009982737712562084    │\n",
       "│ Misc/s                        │ 0.07035140693187714     │\n",
       "│ Misc/Lambda_star              │ 0.0                     │\n",
       "│ Misc/Nu_star                  │ 0.5331857800483704      │\n",
       "│ Misc/OptimCase                │ 0.0                     │\n",
       "└───────────────────────────────┴─────────────────────────┘\n",
       "</pre>\n"
      ],
      "text/plain": [
       "┏━━━━━━━━━━━━━━━━━━━━━━━━━━━━━━━┳━━━━━━━━━━━━━━━━━━━━━━━━━┓\n",
       "┃\u001b[1m \u001b[0m\u001b[1mMetrics                      \u001b[0m\u001b[1m \u001b[0m┃\u001b[1m \u001b[0m\u001b[1mValue                  \u001b[0m\u001b[1m \u001b[0m┃\n",
       "┡━━━━━━━━━━━━━━━━━━━━━━━━━━━━━━━╇━━━━━━━━━━━━━━━━━━━━━━━━━┩\n",
       "│ Metrics/EpRet                 │ 3.045546054840088       │\n",
       "│ Metrics/EpCost                │ 38.7400016784668        │\n",
       "│ Metrics/EpLen                 │ 1000.0                  │\n",
       "│ Train/Epoch                   │ 11.0                    │\n",
       "│ Train/Entropy                 │ 1.4331966638565063      │\n",
       "│ Train/KL                      │ 0.00017625605687499046  │\n",
       "│ Train/StopIter                │ 10.0                    │\n",
       "│ Train/PolicyRatio/Mean        │ 1.0002813339233398      │\n",
       "│ Train/PolicyRatio/Min         │ 1.0002813339233398      │\n",
       "│ Train/PolicyRatio/Max         │ 1.0002813339233398      │\n",
       "│ Train/PolicyRatio/Std         │ 0.00019893312128260732  │\n",
       "│ Train/LR                      │ 0.0                     │\n",
       "│ Train/PolicyStd               │ 1.0156084299087524      │\n",
       "│ TotalEnvSteps                 │ 240000.0                │\n",
       "│ Loss/Loss_pi                  │ -0.0054700663313269615  │\n",
       "│ Loss/Loss_pi/Delta            │ 0.0021150289103388786   │\n",
       "│ Value/Adv                     │ -2.6702879907247734e-09 │\n",
       "│ Loss/Loss_reward_critic       │ 0.0062710014171898365   │\n",
       "│ Loss/Loss_reward_critic/Delta │ -0.002379986923187971   │\n",
       "│ Value/reward                  │ 0.08983709663152695     │\n",
       "│ Loss/Loss_cost_critic         │ 1.7203404903411865      │\n",
       "│ Loss/Loss_cost_critic/Delta   │ 0.7660723924636841      │\n",
       "│ Value/cost                    │ 3.1267948150634766      │\n",
       "│ Time/Total                    │ 704.4620361328125       │\n",
       "│ Time/Rollout                  │ 43.44430160522461       │\n",
       "│ Time/Update                   │ 13.939041137695312      │\n",
       "│ Time/Epoch                    │ 57.38334274291992       │\n",
       "│ Time/FPS                      │ 348.533203125           │\n",
       "│ Misc/Alpha                    │ 0.7672176361083984      │\n",
       "│ Misc/FinalStepNorm            │ 0.29587453603744507     │\n",
       "│ Misc/gradient_norm            │ 0.15592418611049652     │\n",
       "│ Misc/xHx                      │ 0.03397759795188904     │\n",
       "│ Misc/H_inv_g                  │ 0.2869921326637268      │\n",
       "│ Misc/AcceptanceStep           │ 1.0                     │\n",
       "│ Misc/cost_gradient_norm       │ 0.18248122930526733     │\n",
       "│ Misc/A                        │ 0.03256106376647949     │\n",
       "│ Misc/B                        │ -2683.474609375         │\n",
       "│ Misc/q                        │ 0.03397759795188904     │\n",
       "│ Misc/r                        │ 0.009982737712562084    │\n",
       "│ Misc/s                        │ 0.07035140693187714     │\n",
       "│ Misc/Lambda_star              │ 0.0                     │\n",
       "│ Misc/Nu_star                  │ 0.5331857800483704      │\n",
       "│ Misc/OptimCase                │ 0.0                     │\n",
       "└───────────────────────────────┴─────────────────────────┘\n"
      ]
     },
     "metadata": {},
     "output_type": "display_data"
    },
    {
     "data": {
      "text/html": [
       "<pre style=\"white-space:pre;overflow-x:auto;line-height:normal;font-family:Menlo,'DejaVu Sans Mono',consolas,'Courier New',monospace\"><span style=\"color: #008000; text-decoration-color: #008000\">Warning: trajectory cut off when rollout by epoch at </span><span style=\"color: #008080; text-decoration-color: #008080; font-weight: bold\">1000.0</span><span style=\"color: #008000; text-decoration-color: #008000\"> steps.</span>\n",
       "</pre>\n"
      ],
      "text/plain": [
       "\u001b[32mWarning: trajectory cut off when rollout by epoch at \u001b[0m\u001b[1;36m1000.0\u001b[0m\u001b[32m steps.\u001b[0m\n"
      ]
     },
     "metadata": {},
     "output_type": "display_data"
    },
    {
     "data": {
      "text/html": [
       "<pre style=\"white-space:pre;overflow-x:auto;line-height:normal;font-family:Menlo,'DejaVu Sans Mono',consolas,'Courier New',monospace\"><span style=\"color: #008000; text-decoration-color: #008000\">Warning: trajectory cut off when rollout by epoch at </span><span style=\"color: #008080; text-decoration-color: #008080; font-weight: bold\">1000.0</span><span style=\"color: #008000; text-decoration-color: #008000\"> steps.</span>\n",
       "</pre>\n"
      ],
      "text/plain": [
       "\u001b[32mWarning: trajectory cut off when rollout by epoch at \u001b[0m\u001b[1;36m1000.0\u001b[0m\u001b[32m steps.\u001b[0m\n"
      ]
     },
     "metadata": {},
     "output_type": "display_data"
    },
    {
     "data": {
      "text/html": [
       "<pre style=\"white-space:pre;overflow-x:auto;line-height:normal;font-family:Menlo,'DejaVu Sans Mono',consolas,'Courier New',monospace\"><span style=\"color: #008000; text-decoration-color: #008000\">Warning: trajectory cut off when rollout by epoch at </span><span style=\"color: #008080; text-decoration-color: #008080; font-weight: bold\">1000.0</span><span style=\"color: #008000; text-decoration-color: #008000\"> steps.</span>\n",
       "</pre>\n"
      ],
      "text/plain": [
       "\u001b[32mWarning: trajectory cut off when rollout by epoch at \u001b[0m\u001b[1;36m1000.0\u001b[0m\u001b[32m steps.\u001b[0m\n"
      ]
     },
     "metadata": {},
     "output_type": "display_data"
    },
    {
     "data": {
      "text/html": [
       "<pre style=\"white-space:pre;overflow-x:auto;line-height:normal;font-family:Menlo,'DejaVu Sans Mono',consolas,'Courier New',monospace\"><span style=\"color: #008000; text-decoration-color: #008000\">Warning: trajectory cut off when rollout by epoch at </span><span style=\"color: #008080; text-decoration-color: #008080; font-weight: bold\">1000.0</span><span style=\"color: #008000; text-decoration-color: #008000\"> steps.</span>\n",
       "</pre>\n"
      ],
      "text/plain": [
       "\u001b[32mWarning: trajectory cut off when rollout by epoch at \u001b[0m\u001b[1;36m1000.0\u001b[0m\u001b[32m steps.\u001b[0m\n"
      ]
     },
     "metadata": {},
     "output_type": "display_data"
    },
    {
     "data": {
      "text/html": [
       "<pre style=\"white-space:pre;overflow-x:auto;line-height:normal;font-family:Menlo,'DejaVu Sans Mono',consolas,'Courier New',monospace\"></pre>\n"
      ],
      "text/plain": []
     },
     "metadata": {},
     "output_type": "display_data"
    },
    {
     "data": {
      "text/html": [
       "<pre style=\"white-space:pre;overflow-x:auto;line-height:normal;font-family:Menlo,'DejaVu Sans Mono',consolas,'Courier New',monospace\">\n",
       "</pre>\n"
      ],
      "text/plain": [
       "\n"
      ]
     },
     "metadata": {},
     "output_type": "display_data"
    },
    {
     "data": {
      "text/html": [
       "<pre style=\"white-space:pre;overflow-x:auto;line-height:normal;font-family:Menlo,'DejaVu Sans Mono',consolas,'Courier New',monospace\"><span style=\"color: #800000; text-decoration-color: #800000\">Alert! Attempting infeasible recovery!</span>\n",
       "</pre>\n"
      ],
      "text/plain": [
       "\u001b[31mAlert! Attempting infeasible recovery!\u001b[0m\n"
      ]
     },
     "metadata": {},
     "output_type": "display_data"
    },
    {
     "data": {
      "text/html": [
       "<pre style=\"white-space:pre;overflow-x:auto;line-height:normal;font-family:Menlo,'DejaVu Sans Mono',consolas,'Courier New',monospace\"><span style=\"color: #008000; text-decoration-color: #008000\">Expected Improvement: </span><span style=\"color: #008080; text-decoration-color: #008080; font-weight: bold\">-0.0031237781513482332</span><span style=\"color: #008000; text-decoration-color: #008000\"> Actual: </span><span style=\"color: #008080; text-decoration-color: #008080; font-weight: bold\">-0.0029765653889626265</span>\n",
       "</pre>\n"
      ],
      "text/plain": [
       "\u001b[32mExpected Improvement: \u001b[0m\u001b[1;36m-0.0031237781513482332\u001b[0m\u001b[32m Actual: \u001b[0m\u001b[1;36m-0.0029765653889626265\u001b[0m\n"
      ]
     },
     "metadata": {},
     "output_type": "display_data"
    },
    {
     "data": {
      "text/html": [
       "<pre style=\"white-space:pre;overflow-x:auto;line-height:normal;font-family:Menlo,'DejaVu Sans Mono',consolas,'Courier New',monospace\"><span style=\"color: #008000; text-decoration-color: #008000\">Accept step at </span><span style=\"color: #808000; text-decoration-color: #808000\">i</span><span style=\"color: #008000; text-decoration-color: #008000\">=</span><span style=\"color: #008080; text-decoration-color: #008080; font-weight: bold\">1</span>\n",
       "</pre>\n"
      ],
      "text/plain": [
       "\u001b[32mAccept step at \u001b[0m\u001b[33mi\u001b[0m\u001b[32m=\u001b[0m\u001b[1;36m1\u001b[0m\n"
      ]
     },
     "metadata": {},
     "output_type": "display_data"
    },
    {
     "data": {
      "text/html": [
       "<pre style=\"white-space:pre;overflow-x:auto;line-height:normal;font-family:Menlo,'DejaVu Sans Mono',consolas,'Courier New',monospace\">┏━━━━━━━━━━━━━━━━━━━━━━━━━━━━━━━┳━━━━━━━━━━━━━━━━━━━━━━━━┓\n",
       "┃<span style=\"font-weight: bold\"> Metrics                       </span>┃<span style=\"font-weight: bold\"> Value                  </span>┃\n",
       "┡━━━━━━━━━━━━━━━━━━━━━━━━━━━━━━━╇━━━━━━━━━━━━━━━━━━━━━━━━┩\n",
       "│ Metrics/EpRet                 │ 2.0891687870025635     │\n",
       "│ Metrics/EpCost                │ 45.939998626708984     │\n",
       "│ Metrics/EpLen                 │ 1000.0                 │\n",
       "│ Train/Epoch                   │ 12.0                   │\n",
       "│ Train/Entropy                 │ 1.419495940208435      │\n",
       "│ Train/KL                      │ 0.000163408083608374   │\n",
       "│ Train/StopIter                │ 10.0                   │\n",
       "│ Train/PolicyRatio/Mean        │ 1.0006824731826782     │\n",
       "│ Train/PolicyRatio/Min         │ 1.0006825923919678     │\n",
       "│ Train/PolicyRatio/Max         │ 1.0006825923919678     │\n",
       "│ Train/PolicyRatio/Std         │ 0.00048255332512781024 │\n",
       "│ Train/LR                      │ 0.0                    │\n",
       "│ Train/PolicyStd               │ 1.002745270729065      │\n",
       "│ TotalEnvSteps                 │ 260000.0               │\n",
       "│ Loss/Loss_pi                  │ -0.006380783393979073  │\n",
       "│ Loss/Loss_pi/Delta            │ -0.000910717062652111  │\n",
       "│ Value/Adv                     │ -8.392333938900265e-09 │\n",
       "│ Loss/Loss_reward_critic       │ 0.007237805984914303   │\n",
       "│ Loss/Loss_reward_critic/Delta │ 0.0009668045677244663  │\n",
       "│ Value/reward                  │ 0.08915439248085022    │\n",
       "│ Loss/Loss_cost_critic         │ 1.127419114112854      │\n",
       "│ Loss/Loss_cost_critic/Delta   │ -0.5929213762283325    │\n",
       "│ Value/cost                    │ 1.9084210395812988     │\n",
       "│ Time/Total                    │ 766.4690551757812      │\n",
       "│ Time/Rollout                  │ 48.19391632080078      │\n",
       "│ Time/Update                   │ 13.767496109008789     │\n",
       "│ Time/Epoch                    │ 61.96141052246094      │\n",
       "│ Time/FPS                      │ 322.7815246582031      │\n",
       "│ Misc/Alpha                    │ 0.7359262108802795     │\n",
       "│ Misc/FinalStepNorm            │ 0.3047638237476349     │\n",
       "│ Misc/gradient_norm            │ 0.1653905063867569     │\n",
       "│ Misc/xHx                      │ 0.03692846745252609    │\n",
       "│ Misc/H_inv_g                  │ 0.2950285077095032     │\n",
       "│ Misc/AcceptanceStep           │ 1.0                    │\n",
       "│ Misc/cost_gradient_norm       │ 0.16350537538528442    │\n",
       "│ Misc/A                        │ 0.036440566182136536   │\n",
       "│ Misc/B                        │ -6877.83740234375      │\n",
       "│ Misc/q                        │ 0.03692846745252609    │\n",
       "│ Misc/r                        │ 0.005577187053859234   │\n",
       "│ Misc/s                        │ 0.0637529194355011     │\n",
       "│ Misc/Lambda_star              │ 0.0                    │\n",
       "│ Misc/Nu_star                  │ 0.560099184513092      │\n",
       "│ Misc/OptimCase                │ 0.0                    │\n",
       "└───────────────────────────────┴────────────────────────┘\n",
       "</pre>\n"
      ],
      "text/plain": [
       "┏━━━━━━━━━━━━━━━━━━━━━━━━━━━━━━━┳━━━━━━━━━━━━━━━━━━━━━━━━┓\n",
       "┃\u001b[1m \u001b[0m\u001b[1mMetrics                      \u001b[0m\u001b[1m \u001b[0m┃\u001b[1m \u001b[0m\u001b[1mValue                 \u001b[0m\u001b[1m \u001b[0m┃\n",
       "┡━━━━━━━━━━━━━━━━━━━━━━━━━━━━━━━╇━━━━━━━━━━━━━━━━━━━━━━━━┩\n",
       "│ Metrics/EpRet                 │ 2.0891687870025635     │\n",
       "│ Metrics/EpCost                │ 45.939998626708984     │\n",
       "│ Metrics/EpLen                 │ 1000.0                 │\n",
       "│ Train/Epoch                   │ 12.0                   │\n",
       "│ Train/Entropy                 │ 1.419495940208435      │\n",
       "│ Train/KL                      │ 0.000163408083608374   │\n",
       "│ Train/StopIter                │ 10.0                   │\n",
       "│ Train/PolicyRatio/Mean        │ 1.0006824731826782     │\n",
       "│ Train/PolicyRatio/Min         │ 1.0006825923919678     │\n",
       "│ Train/PolicyRatio/Max         │ 1.0006825923919678     │\n",
       "│ Train/PolicyRatio/Std         │ 0.00048255332512781024 │\n",
       "│ Train/LR                      │ 0.0                    │\n",
       "│ Train/PolicyStd               │ 1.002745270729065      │\n",
       "│ TotalEnvSteps                 │ 260000.0               │\n",
       "│ Loss/Loss_pi                  │ -0.006380783393979073  │\n",
       "│ Loss/Loss_pi/Delta            │ -0.000910717062652111  │\n",
       "│ Value/Adv                     │ -8.392333938900265e-09 │\n",
       "│ Loss/Loss_reward_critic       │ 0.007237805984914303   │\n",
       "│ Loss/Loss_reward_critic/Delta │ 0.0009668045677244663  │\n",
       "│ Value/reward                  │ 0.08915439248085022    │\n",
       "│ Loss/Loss_cost_critic         │ 1.127419114112854      │\n",
       "│ Loss/Loss_cost_critic/Delta   │ -0.5929213762283325    │\n",
       "│ Value/cost                    │ 1.9084210395812988     │\n",
       "│ Time/Total                    │ 766.4690551757812      │\n",
       "│ Time/Rollout                  │ 48.19391632080078      │\n",
       "│ Time/Update                   │ 13.767496109008789     │\n",
       "│ Time/Epoch                    │ 61.96141052246094      │\n",
       "│ Time/FPS                      │ 322.7815246582031      │\n",
       "│ Misc/Alpha                    │ 0.7359262108802795     │\n",
       "│ Misc/FinalStepNorm            │ 0.3047638237476349     │\n",
       "│ Misc/gradient_norm            │ 0.1653905063867569     │\n",
       "│ Misc/xHx                      │ 0.03692846745252609    │\n",
       "│ Misc/H_inv_g                  │ 0.2950285077095032     │\n",
       "│ Misc/AcceptanceStep           │ 1.0                    │\n",
       "│ Misc/cost_gradient_norm       │ 0.16350537538528442    │\n",
       "│ Misc/A                        │ 0.036440566182136536   │\n",
       "│ Misc/B                        │ -6877.83740234375      │\n",
       "│ Misc/q                        │ 0.03692846745252609    │\n",
       "│ Misc/r                        │ 0.005577187053859234   │\n",
       "│ Misc/s                        │ 0.0637529194355011     │\n",
       "│ Misc/Lambda_star              │ 0.0                    │\n",
       "│ Misc/Nu_star                  │ 0.560099184513092      │\n",
       "│ Misc/OptimCase                │ 0.0                    │\n",
       "└───────────────────────────────┴────────────────────────┘\n"
      ]
     },
     "metadata": {},
     "output_type": "display_data"
    },
    {
     "data": {
      "text/html": [
       "<pre style=\"white-space:pre;overflow-x:auto;line-height:normal;font-family:Menlo,'DejaVu Sans Mono',consolas,'Courier New',monospace\"><span style=\"color: #008000; text-decoration-color: #008000\">Warning: trajectory cut off when rollout by epoch at </span><span style=\"color: #008080; text-decoration-color: #008080; font-weight: bold\">1000.0</span><span style=\"color: #008000; text-decoration-color: #008000\"> steps.</span>\n",
       "</pre>\n"
      ],
      "text/plain": [
       "\u001b[32mWarning: trajectory cut off when rollout by epoch at \u001b[0m\u001b[1;36m1000.0\u001b[0m\u001b[32m steps.\u001b[0m\n"
      ]
     },
     "metadata": {},
     "output_type": "display_data"
    },
    {
     "data": {
      "text/html": [
       "<pre style=\"white-space:pre;overflow-x:auto;line-height:normal;font-family:Menlo,'DejaVu Sans Mono',consolas,'Courier New',monospace\"><span style=\"color: #008000; text-decoration-color: #008000\">Warning: trajectory cut off when rollout by epoch at </span><span style=\"color: #008080; text-decoration-color: #008080; font-weight: bold\">1000.0</span><span style=\"color: #008000; text-decoration-color: #008000\"> steps.</span>\n",
       "</pre>\n"
      ],
      "text/plain": [
       "\u001b[32mWarning: trajectory cut off when rollout by epoch at \u001b[0m\u001b[1;36m1000.0\u001b[0m\u001b[32m steps.\u001b[0m\n"
      ]
     },
     "metadata": {},
     "output_type": "display_data"
    },
    {
     "data": {
      "text/html": [
       "<pre style=\"white-space:pre;overflow-x:auto;line-height:normal;font-family:Menlo,'DejaVu Sans Mono',consolas,'Courier New',monospace\"><span style=\"color: #008000; text-decoration-color: #008000\">Warning: trajectory cut off when rollout by epoch at </span><span style=\"color: #008080; text-decoration-color: #008080; font-weight: bold\">1000.0</span><span style=\"color: #008000; text-decoration-color: #008000\"> steps.</span>\n",
       "</pre>\n"
      ],
      "text/plain": [
       "\u001b[32mWarning: trajectory cut off when rollout by epoch at \u001b[0m\u001b[1;36m1000.0\u001b[0m\u001b[32m steps.\u001b[0m\n"
      ]
     },
     "metadata": {},
     "output_type": "display_data"
    },
    {
     "data": {
      "text/html": [
       "<pre style=\"white-space:pre;overflow-x:auto;line-height:normal;font-family:Menlo,'DejaVu Sans Mono',consolas,'Courier New',monospace\"><span style=\"color: #008000; text-decoration-color: #008000\">Warning: trajectory cut off when rollout by epoch at </span><span style=\"color: #008080; text-decoration-color: #008080; font-weight: bold\">1000.0</span><span style=\"color: #008000; text-decoration-color: #008000\"> steps.</span>\n",
       "</pre>\n"
      ],
      "text/plain": [
       "\u001b[32mWarning: trajectory cut off when rollout by epoch at \u001b[0m\u001b[1;36m1000.0\u001b[0m\u001b[32m steps.\u001b[0m\n"
      ]
     },
     "metadata": {},
     "output_type": "display_data"
    },
    {
     "data": {
      "text/html": [
       "<pre style=\"white-space:pre;overflow-x:auto;line-height:normal;font-family:Menlo,'DejaVu Sans Mono',consolas,'Courier New',monospace\"></pre>\n"
      ],
      "text/plain": []
     },
     "metadata": {},
     "output_type": "display_data"
    },
    {
     "data": {
      "text/html": [
       "<pre style=\"white-space:pre;overflow-x:auto;line-height:normal;font-family:Menlo,'DejaVu Sans Mono',consolas,'Courier New',monospace\">\n",
       "</pre>\n"
      ],
      "text/plain": [
       "\n"
      ]
     },
     "metadata": {},
     "output_type": "display_data"
    },
    {
     "data": {
      "text/html": [
       "<pre style=\"white-space:pre;overflow-x:auto;line-height:normal;font-family:Menlo,'DejaVu Sans Mono',consolas,'Courier New',monospace\"><span style=\"color: #800000; text-decoration-color: #800000\">Alert! Attempting infeasible recovery!</span>\n",
       "</pre>\n"
      ],
      "text/plain": [
       "\u001b[31mAlert! Attempting infeasible recovery!\u001b[0m\n"
      ]
     },
     "metadata": {},
     "output_type": "display_data"
    },
    {
     "data": {
      "text/html": [
       "<pre style=\"white-space:pre;overflow-x:auto;line-height:normal;font-family:Menlo,'DejaVu Sans Mono',consolas,'Courier New',monospace\"><span style=\"color: #008000; text-decoration-color: #008000\">Expected Improvement: </span><span style=\"color: #008080; text-decoration-color: #008080; font-weight: bold\">-0.007442863192409277</span><span style=\"color: #008000; text-decoration-color: #008000\"> Actual: </span><span style=\"color: #008080; text-decoration-color: #008080; font-weight: bold\">-0.007559988182038069</span>\n",
       "</pre>\n"
      ],
      "text/plain": [
       "\u001b[32mExpected Improvement: \u001b[0m\u001b[1;36m-0.007442863192409277\u001b[0m\u001b[32m Actual: \u001b[0m\u001b[1;36m-0.007559988182038069\u001b[0m\n"
      ]
     },
     "metadata": {},
     "output_type": "display_data"
    },
    {
     "data": {
      "text/html": [
       "<pre style=\"white-space:pre;overflow-x:auto;line-height:normal;font-family:Menlo,'DejaVu Sans Mono',consolas,'Courier New',monospace\"><span style=\"color: #008000; text-decoration-color: #008000\">Accept step at </span><span style=\"color: #808000; text-decoration-color: #808000\">i</span><span style=\"color: #008000; text-decoration-color: #008000\">=</span><span style=\"color: #008080; text-decoration-color: #008080; font-weight: bold\">1</span>\n",
       "</pre>\n"
      ],
      "text/plain": [
       "\u001b[32mAccept step at \u001b[0m\u001b[33mi\u001b[0m\u001b[32m=\u001b[0m\u001b[1;36m1\u001b[0m\n"
      ]
     },
     "metadata": {},
     "output_type": "display_data"
    },
    {
     "data": {
      "text/html": [
       "<pre style=\"white-space:pre;overflow-x:auto;line-height:normal;font-family:Menlo,'DejaVu Sans Mono',consolas,'Courier New',monospace\">┏━━━━━━━━━━━━━━━━━━━━━━━━━━━━━━━┳━━━━━━━━━━━━━━━━━━━━━━━━┓\n",
       "┃<span style=\"font-weight: bold\"> Metrics                       </span>┃<span style=\"font-weight: bold\"> Value                  </span>┃\n",
       "┡━━━━━━━━━━━━━━━━━━━━━━━━━━━━━━━╇━━━━━━━━━━━━━━━━━━━━━━━━┩\n",
       "│ Metrics/EpRet                 │ 1.5913854837417603     │\n",
       "│ Metrics/EpCost                │ 39.58000183105469      │\n",
       "│ Metrics/EpLen                 │ 1000.0                 │\n",
       "│ Train/Epoch                   │ 13.0                   │\n",
       "│ Train/Entropy                 │ 1.4001096487045288     │\n",
       "│ Train/KL                      │ 0.00018537782307248563 │\n",
       "│ Train/StopIter                │ 10.0                   │\n",
       "│ Train/PolicyRatio/Mean        │ 1.0008677244186401     │\n",
       "│ Train/PolicyRatio/Min         │ 1.0008677244186401     │\n",
       "│ Train/PolicyRatio/Max         │ 1.0008677244186401     │\n",
       "│ Train/PolicyRatio/Std         │ 0.0006135457078926265  │\n",
       "│ Train/LR                      │ 0.0                    │\n",
       "│ Train/PolicyStd               │ 0.9838569164276123     │\n",
       "│ TotalEnvSteps                 │ 280000.0               │\n",
       "│ Loss/Loss_pi                  │ -0.0026553701609373093 │\n",
       "│ Loss/Loss_pi/Delta            │ 0.0037254132330417633  │\n",
       "│ Value/Adv                     │ -6.103515470812226e-09 │\n",
       "│ Loss/Loss_reward_critic       │ 0.006563167087733746   │\n",
       "│ Loss/Loss_reward_critic/Delta │ -0.0006746388971805573 │\n",
       "│ Value/reward                  │ 0.09936711192131042    │\n",
       "│ Loss/Loss_cost_critic         │ 1.0363149642944336     │\n",
       "│ Loss/Loss_cost_critic/Delta   │ -0.09110414981842041   │\n",
       "│ Value/cost                    │ 1.9652949571609497     │\n",
       "│ Time/Total                    │ 827.6625366210938      │\n",
       "│ Time/Rollout                  │ 47.714263916015625     │\n",
       "│ Time/Update                   │ 13.443307876586914     │\n",
       "│ Time/Epoch                    │ 61.15757369995117      │\n",
       "│ Time/FPS                      │ 327.0240783691406      │\n",
       "│ Misc/Alpha                    │ 0.6856083273887634     │\n",
       "│ Misc/FinalStepNorm            │ 0.27376097440719604    │\n",
       "│ Misc/gradient_norm            │ 0.18252308666706085    │\n",
       "│ Misc/xHx                      │ 0.04254785552620888    │\n",
       "│ Misc/H_inv_g                  │ 0.31504324078559875    │\n",
       "│ Misc/AcceptanceStep           │ 1.0                    │\n",
       "│ Misc/cost_gradient_norm       │ 0.16928812861442566    │\n",
       "│ Misc/A                        │ 0.03977804630994797    │\n",
       "│ Misc/B                        │ -3685.143798828125     │\n",
       "│ Misc/q                        │ 0.04254785552620888    │\n",
       "│ Misc/r                        │ 0.012640208937227726   │\n",
       "│ Misc/s                        │ 0.057684384286403656   │\n",
       "│ Misc/Lambda_star              │ 0.0                    │\n",
       "│ Misc/Nu_star                  │ 0.5888243913650513     │\n",
       "│ Misc/OptimCase                │ 0.0                    │\n",
       "└───────────────────────────────┴────────────────────────┘\n",
       "</pre>\n"
      ],
      "text/plain": [
       "┏━━━━━━━━━━━━━━━━━━━━━━━━━━━━━━━┳━━━━━━━━━━━━━━━━━━━━━━━━┓\n",
       "┃\u001b[1m \u001b[0m\u001b[1mMetrics                      \u001b[0m\u001b[1m \u001b[0m┃\u001b[1m \u001b[0m\u001b[1mValue                 \u001b[0m\u001b[1m \u001b[0m┃\n",
       "┡━━━━━━━━━━━━━━━━━━━━━━━━━━━━━━━╇━━━━━━━━━━━━━━━━━━━━━━━━┩\n",
       "│ Metrics/EpRet                 │ 1.5913854837417603     │\n",
       "│ Metrics/EpCost                │ 39.58000183105469      │\n",
       "│ Metrics/EpLen                 │ 1000.0                 │\n",
       "│ Train/Epoch                   │ 13.0                   │\n",
       "│ Train/Entropy                 │ 1.4001096487045288     │\n",
       "│ Train/KL                      │ 0.00018537782307248563 │\n",
       "│ Train/StopIter                │ 10.0                   │\n",
       "│ Train/PolicyRatio/Mean        │ 1.0008677244186401     │\n",
       "│ Train/PolicyRatio/Min         │ 1.0008677244186401     │\n",
       "│ Train/PolicyRatio/Max         │ 1.0008677244186401     │\n",
       "│ Train/PolicyRatio/Std         │ 0.0006135457078926265  │\n",
       "│ Train/LR                      │ 0.0                    │\n",
       "│ Train/PolicyStd               │ 0.9838569164276123     │\n",
       "│ TotalEnvSteps                 │ 280000.0               │\n",
       "│ Loss/Loss_pi                  │ -0.0026553701609373093 │\n",
       "│ Loss/Loss_pi/Delta            │ 0.0037254132330417633  │\n",
       "│ Value/Adv                     │ -6.103515470812226e-09 │\n",
       "│ Loss/Loss_reward_critic       │ 0.006563167087733746   │\n",
       "│ Loss/Loss_reward_critic/Delta │ -0.0006746388971805573 │\n",
       "│ Value/reward                  │ 0.09936711192131042    │\n",
       "│ Loss/Loss_cost_critic         │ 1.0363149642944336     │\n",
       "│ Loss/Loss_cost_critic/Delta   │ -0.09110414981842041   │\n",
       "│ Value/cost                    │ 1.9652949571609497     │\n",
       "│ Time/Total                    │ 827.6625366210938      │\n",
       "│ Time/Rollout                  │ 47.714263916015625     │\n",
       "│ Time/Update                   │ 13.443307876586914     │\n",
       "│ Time/Epoch                    │ 61.15757369995117      │\n",
       "│ Time/FPS                      │ 327.0240783691406      │\n",
       "│ Misc/Alpha                    │ 0.6856083273887634     │\n",
       "│ Misc/FinalStepNorm            │ 0.27376097440719604    │\n",
       "│ Misc/gradient_norm            │ 0.18252308666706085    │\n",
       "│ Misc/xHx                      │ 0.04254785552620888    │\n",
       "│ Misc/H_inv_g                  │ 0.31504324078559875    │\n",
       "│ Misc/AcceptanceStep           │ 1.0                    │\n",
       "│ Misc/cost_gradient_norm       │ 0.16928812861442566    │\n",
       "│ Misc/A                        │ 0.03977804630994797    │\n",
       "│ Misc/B                        │ -3685.143798828125     │\n",
       "│ Misc/q                        │ 0.04254785552620888    │\n",
       "│ Misc/r                        │ 0.012640208937227726   │\n",
       "│ Misc/s                        │ 0.057684384286403656   │\n",
       "│ Misc/Lambda_star              │ 0.0                    │\n",
       "│ Misc/Nu_star                  │ 0.5888243913650513     │\n",
       "│ Misc/OptimCase                │ 0.0                    │\n",
       "└───────────────────────────────┴────────────────────────┘\n"
      ]
     },
     "metadata": {},
     "output_type": "display_data"
    },
    {
     "data": {
      "text/html": [
       "<pre style=\"white-space:pre;overflow-x:auto;line-height:normal;font-family:Menlo,'DejaVu Sans Mono',consolas,'Courier New',monospace\"><span style=\"color: #008000; text-decoration-color: #008000\">Warning: trajectory cut off when rollout by epoch at </span><span style=\"color: #008080; text-decoration-color: #008080; font-weight: bold\">1000.0</span><span style=\"color: #008000; text-decoration-color: #008000\"> steps.</span>\n",
       "</pre>\n"
      ],
      "text/plain": [
       "\u001b[32mWarning: trajectory cut off when rollout by epoch at \u001b[0m\u001b[1;36m1000.0\u001b[0m\u001b[32m steps.\u001b[0m\n"
      ]
     },
     "metadata": {},
     "output_type": "display_data"
    },
    {
     "data": {
      "text/html": [
       "<pre style=\"white-space:pre;overflow-x:auto;line-height:normal;font-family:Menlo,'DejaVu Sans Mono',consolas,'Courier New',monospace\"><span style=\"color: #008000; text-decoration-color: #008000\">Warning: trajectory cut off when rollout by epoch at </span><span style=\"color: #008080; text-decoration-color: #008080; font-weight: bold\">1000.0</span><span style=\"color: #008000; text-decoration-color: #008000\"> steps.</span>\n",
       "</pre>\n"
      ],
      "text/plain": [
       "\u001b[32mWarning: trajectory cut off when rollout by epoch at \u001b[0m\u001b[1;36m1000.0\u001b[0m\u001b[32m steps.\u001b[0m\n"
      ]
     },
     "metadata": {},
     "output_type": "display_data"
    },
    {
     "data": {
      "text/html": [
       "<pre style=\"white-space:pre;overflow-x:auto;line-height:normal;font-family:Menlo,'DejaVu Sans Mono',consolas,'Courier New',monospace\"><span style=\"color: #008000; text-decoration-color: #008000\">Warning: trajectory cut off when rollout by epoch at </span><span style=\"color: #008080; text-decoration-color: #008080; font-weight: bold\">1000.0</span><span style=\"color: #008000; text-decoration-color: #008000\"> steps.</span>\n",
       "</pre>\n"
      ],
      "text/plain": [
       "\u001b[32mWarning: trajectory cut off when rollout by epoch at \u001b[0m\u001b[1;36m1000.0\u001b[0m\u001b[32m steps.\u001b[0m\n"
      ]
     },
     "metadata": {},
     "output_type": "display_data"
    },
    {
     "data": {
      "text/html": [
       "<pre style=\"white-space:pre;overflow-x:auto;line-height:normal;font-family:Menlo,'DejaVu Sans Mono',consolas,'Courier New',monospace\"><span style=\"color: #008000; text-decoration-color: #008000\">Warning: trajectory cut off when rollout by epoch at </span><span style=\"color: #008080; text-decoration-color: #008080; font-weight: bold\">1000.0</span><span style=\"color: #008000; text-decoration-color: #008000\"> steps.</span>\n",
       "</pre>\n"
      ],
      "text/plain": [
       "\u001b[32mWarning: trajectory cut off when rollout by epoch at \u001b[0m\u001b[1;36m1000.0\u001b[0m\u001b[32m steps.\u001b[0m\n"
      ]
     },
     "metadata": {},
     "output_type": "display_data"
    },
    {
     "data": {
      "text/html": [
       "<pre style=\"white-space:pre;overflow-x:auto;line-height:normal;font-family:Menlo,'DejaVu Sans Mono',consolas,'Courier New',monospace\"></pre>\n"
      ],
      "text/plain": []
     },
     "metadata": {},
     "output_type": "display_data"
    },
    {
     "data": {
      "text/html": [
       "<pre style=\"white-space:pre;overflow-x:auto;line-height:normal;font-family:Menlo,'DejaVu Sans Mono',consolas,'Courier New',monospace\">\n",
       "</pre>\n"
      ],
      "text/plain": [
       "\n"
      ]
     },
     "metadata": {},
     "output_type": "display_data"
    },
    {
     "data": {
      "text/html": [
       "<pre style=\"white-space:pre;overflow-x:auto;line-height:normal;font-family:Menlo,'DejaVu Sans Mono',consolas,'Courier New',monospace\"><span style=\"color: #800000; text-decoration-color: #800000\">Alert! Attempting infeasible recovery!</span>\n",
       "</pre>\n"
      ],
      "text/plain": [
       "\u001b[31mAlert! Attempting infeasible recovery!\u001b[0m\n"
      ]
     },
     "metadata": {},
     "output_type": "display_data"
    },
    {
     "data": {
      "text/html": [
       "<pre style=\"white-space:pre;overflow-x:auto;line-height:normal;font-family:Menlo,'DejaVu Sans Mono',consolas,'Courier New',monospace\"><span style=\"color: #008000; text-decoration-color: #008000\">Expected Improvement: </span><span style=\"color: #008080; text-decoration-color: #008080; font-weight: bold\">-0.005687639117240906</span><span style=\"color: #008000; text-decoration-color: #008000\"> Actual: </span><span style=\"color: #008080; text-decoration-color: #008080; font-weight: bold\">-0.005463633686304092</span>\n",
       "</pre>\n"
      ],
      "text/plain": [
       "\u001b[32mExpected Improvement: \u001b[0m\u001b[1;36m-0.005687639117240906\u001b[0m\u001b[32m Actual: \u001b[0m\u001b[1;36m-0.005463633686304092\u001b[0m\n"
      ]
     },
     "metadata": {},
     "output_type": "display_data"
    },
    {
     "data": {
      "text/html": [
       "<pre style=\"white-space:pre;overflow-x:auto;line-height:normal;font-family:Menlo,'DejaVu Sans Mono',consolas,'Courier New',monospace\"><span style=\"color: #008000; text-decoration-color: #008000\">Accept step at </span><span style=\"color: #808000; text-decoration-color: #808000\">i</span><span style=\"color: #008000; text-decoration-color: #008000\">=</span><span style=\"color: #008080; text-decoration-color: #008080; font-weight: bold\">1</span>\n",
       "</pre>\n"
      ],
      "text/plain": [
       "\u001b[32mAccept step at \u001b[0m\u001b[33mi\u001b[0m\u001b[32m=\u001b[0m\u001b[1;36m1\u001b[0m\n"
      ]
     },
     "metadata": {},
     "output_type": "display_data"
    },
    {
     "data": {
      "text/html": [
       "<pre style=\"white-space:pre;overflow-x:auto;line-height:normal;font-family:Menlo,'DejaVu Sans Mono',consolas,'Courier New',monospace\">┏━━━━━━━━━━━━━━━━━━━━━━━━━━━━━━━┳━━━━━━━━━━━━━━━━━━━━━━━━━┓\n",
       "┃<span style=\"font-weight: bold\"> Metrics                       </span>┃<span style=\"font-weight: bold\"> Value                   </span>┃\n",
       "┡━━━━━━━━━━━━━━━━━━━━━━━━━━━━━━━╇━━━━━━━━━━━━━━━━━━━━━━━━━┩\n",
       "│ Metrics/EpRet                 │ 0.7879182696342468      │\n",
       "│ Metrics/EpCost                │ 25.739999771118164      │\n",
       "│ Metrics/EpLen                 │ 1000.0                  │\n",
       "│ Train/Epoch                   │ 14.0                    │\n",
       "│ Train/Entropy                 │ 1.3847235441207886      │\n",
       "│ Train/KL                      │ 0.00012685223191510886  │\n",
       "│ Train/StopIter                │ 10.0                    │\n",
       "│ Train/PolicyRatio/Mean        │ 0.9994829297065735      │\n",
       "│ Train/PolicyRatio/Min         │ 0.9994829893112183      │\n",
       "│ Train/PolicyRatio/Max         │ 0.9994829893112183      │\n",
       "│ Train/PolicyRatio/Std         │ 0.0003656379703897983   │\n",
       "│ Train/LR                      │ 0.0                     │\n",
       "│ Train/PolicyStd               │ 0.9687380790710449      │\n",
       "│ TotalEnvSteps                 │ 300000.0                │\n",
       "│ Loss/Loss_pi                  │ -0.0019650349859148264  │\n",
       "│ Loss/Loss_pi/Delta            │ 0.0006903351750224829   │\n",
       "│ Value/Adv                     │ -1.2207030941624453e-08 │\n",
       "│ Loss/Loss_reward_critic       │ 0.006357827689498663    │\n",
       "│ Loss/Loss_reward_critic/Delta │ -0.00020533939823508263 │\n",
       "│ Value/reward                  │ 0.06904012709856033     │\n",
       "│ Loss/Loss_cost_critic         │ 0.5500472187995911      │\n",
       "│ Loss/Loss_cost_critic/Delta   │ -0.48626774549484253    │\n",
       "│ Value/cost                    │ 1.4711991548538208      │\n",
       "│ Time/Total                    │ 892.7911987304688       │\n",
       "│ Time/Rollout                  │ 51.76530456542969       │\n",
       "│ Time/Update                   │ 13.321378707885742      │\n",
       "│ Time/Epoch                    │ 65.08668518066406       │\n",
       "│ Time/FPS                      │ 307.2825012207031       │\n",
       "│ Misc/Alpha                    │ 0.7159841656684875      │\n",
       "│ Misc/FinalStepNorm            │ 0.33748775720596313     │\n",
       "│ Misc/gradient_norm            │ 0.17342479526996613     │\n",
       "│ Misc/xHx                      │ 0.03901422768831253     │\n",
       "│ Misc/H_inv_g                  │ 0.3258277177810669      │\n",
       "│ Misc/AcceptanceStep           │ 1.0                     │\n",
       "│ Misc/cost_gradient_norm       │ 0.09663945436477661     │\n",
       "│ Misc/A                        │ 0.03739676624536514     │\n",
       "│ Misc/B                        │ -16.128765106201172     │\n",
       "│ Misc/q                        │ 0.03901422768831253     │\n",
       "│ Misc/r                        │ 0.007405919022858143    │\n",
       "│ Misc/s                        │ 0.03390968218445778     │\n",
       "│ Misc/Lambda_star              │ 0.0                     │\n",
       "│ Misc/Nu_star                  │ 0.7679855823516846      │\n",
       "│ Misc/OptimCase                │ 0.0                     │\n",
       "└───────────────────────────────┴─────────────────────────┘\n",
       "</pre>\n"
      ],
      "text/plain": [
       "┏━━━━━━━━━━━━━━━━━━━━━━━━━━━━━━━┳━━━━━━━━━━━━━━━━━━━━━━━━━┓\n",
       "┃\u001b[1m \u001b[0m\u001b[1mMetrics                      \u001b[0m\u001b[1m \u001b[0m┃\u001b[1m \u001b[0m\u001b[1mValue                  \u001b[0m\u001b[1m \u001b[0m┃\n",
       "┡━━━━━━━━━━━━━━━━━━━━━━━━━━━━━━━╇━━━━━━━━━━━━━━━━━━━━━━━━━┩\n",
       "│ Metrics/EpRet                 │ 0.7879182696342468      │\n",
       "│ Metrics/EpCost                │ 25.739999771118164      │\n",
       "│ Metrics/EpLen                 │ 1000.0                  │\n",
       "│ Train/Epoch                   │ 14.0                    │\n",
       "│ Train/Entropy                 │ 1.3847235441207886      │\n",
       "│ Train/KL                      │ 0.00012685223191510886  │\n",
       "│ Train/StopIter                │ 10.0                    │\n",
       "│ Train/PolicyRatio/Mean        │ 0.9994829297065735      │\n",
       "│ Train/PolicyRatio/Min         │ 0.9994829893112183      │\n",
       "│ Train/PolicyRatio/Max         │ 0.9994829893112183      │\n",
       "│ Train/PolicyRatio/Std         │ 0.0003656379703897983   │\n",
       "│ Train/LR                      │ 0.0                     │\n",
       "│ Train/PolicyStd               │ 0.9687380790710449      │\n",
       "│ TotalEnvSteps                 │ 300000.0                │\n",
       "│ Loss/Loss_pi                  │ -0.0019650349859148264  │\n",
       "│ Loss/Loss_pi/Delta            │ 0.0006903351750224829   │\n",
       "│ Value/Adv                     │ -1.2207030941624453e-08 │\n",
       "│ Loss/Loss_reward_critic       │ 0.006357827689498663    │\n",
       "│ Loss/Loss_reward_critic/Delta │ -0.00020533939823508263 │\n",
       "│ Value/reward                  │ 0.06904012709856033     │\n",
       "│ Loss/Loss_cost_critic         │ 0.5500472187995911      │\n",
       "│ Loss/Loss_cost_critic/Delta   │ -0.48626774549484253    │\n",
       "│ Value/cost                    │ 1.4711991548538208      │\n",
       "│ Time/Total                    │ 892.7911987304688       │\n",
       "│ Time/Rollout                  │ 51.76530456542969       │\n",
       "│ Time/Update                   │ 13.321378707885742      │\n",
       "│ Time/Epoch                    │ 65.08668518066406       │\n",
       "│ Time/FPS                      │ 307.2825012207031       │\n",
       "│ Misc/Alpha                    │ 0.7159841656684875      │\n",
       "│ Misc/FinalStepNorm            │ 0.33748775720596313     │\n",
       "│ Misc/gradient_norm            │ 0.17342479526996613     │\n",
       "│ Misc/xHx                      │ 0.03901422768831253     │\n",
       "│ Misc/H_inv_g                  │ 0.3258277177810669      │\n",
       "│ Misc/AcceptanceStep           │ 1.0                     │\n",
       "│ Misc/cost_gradient_norm       │ 0.09663945436477661     │\n",
       "│ Misc/A                        │ 0.03739676624536514     │\n",
       "│ Misc/B                        │ -16.128765106201172     │\n",
       "│ Misc/q                        │ 0.03901422768831253     │\n",
       "│ Misc/r                        │ 0.007405919022858143    │\n",
       "│ Misc/s                        │ 0.03390968218445778     │\n",
       "│ Misc/Lambda_star              │ 0.0                     │\n",
       "│ Misc/Nu_star                  │ 0.7679855823516846      │\n",
       "│ Misc/OptimCase                │ 0.0                     │\n",
       "└───────────────────────────────┴─────────────────────────┘\n"
      ]
     },
     "metadata": {},
     "output_type": "display_data"
    },
    {
     "data": {
      "text/html": [
       "<pre style=\"white-space:pre;overflow-x:auto;line-height:normal;font-family:Menlo,'DejaVu Sans Mono',consolas,'Courier New',monospace\"><span style=\"color: #008000; text-decoration-color: #008000\">Warning: trajectory cut off when rollout by epoch at </span><span style=\"color: #008080; text-decoration-color: #008080; font-weight: bold\">1000.0</span><span style=\"color: #008000; text-decoration-color: #008000\"> steps.</span>\n",
       "</pre>\n"
      ],
      "text/plain": [
       "\u001b[32mWarning: trajectory cut off when rollout by epoch at \u001b[0m\u001b[1;36m1000.0\u001b[0m\u001b[32m steps.\u001b[0m\n"
      ]
     },
     "metadata": {},
     "output_type": "display_data"
    },
    {
     "data": {
      "text/html": [
       "<pre style=\"white-space:pre;overflow-x:auto;line-height:normal;font-family:Menlo,'DejaVu Sans Mono',consolas,'Courier New',monospace\"><span style=\"color: #008000; text-decoration-color: #008000\">Warning: trajectory cut off when rollout by epoch at </span><span style=\"color: #008080; text-decoration-color: #008080; font-weight: bold\">1000.0</span><span style=\"color: #008000; text-decoration-color: #008000\"> steps.</span>\n",
       "</pre>\n"
      ],
      "text/plain": [
       "\u001b[32mWarning: trajectory cut off when rollout by epoch at \u001b[0m\u001b[1;36m1000.0\u001b[0m\u001b[32m steps.\u001b[0m\n"
      ]
     },
     "metadata": {},
     "output_type": "display_data"
    },
    {
     "data": {
      "text/html": [
       "<pre style=\"white-space:pre;overflow-x:auto;line-height:normal;font-family:Menlo,'DejaVu Sans Mono',consolas,'Courier New',monospace\"><span style=\"color: #008000; text-decoration-color: #008000\">Warning: trajectory cut off when rollout by epoch at </span><span style=\"color: #008080; text-decoration-color: #008080; font-weight: bold\">1000.0</span><span style=\"color: #008000; text-decoration-color: #008000\"> steps.</span>\n",
       "</pre>\n"
      ],
      "text/plain": [
       "\u001b[32mWarning: trajectory cut off when rollout by epoch at \u001b[0m\u001b[1;36m1000.0\u001b[0m\u001b[32m steps.\u001b[0m\n"
      ]
     },
     "metadata": {},
     "output_type": "display_data"
    },
    {
     "data": {
      "text/html": [
       "<pre style=\"white-space:pre;overflow-x:auto;line-height:normal;font-family:Menlo,'DejaVu Sans Mono',consolas,'Courier New',monospace\"><span style=\"color: #008000; text-decoration-color: #008000\">Warning: trajectory cut off when rollout by epoch at </span><span style=\"color: #008080; text-decoration-color: #008080; font-weight: bold\">1000.0</span><span style=\"color: #008000; text-decoration-color: #008000\"> steps.</span>\n",
       "</pre>\n"
      ],
      "text/plain": [
       "\u001b[32mWarning: trajectory cut off when rollout by epoch at \u001b[0m\u001b[1;36m1000.0\u001b[0m\u001b[32m steps.\u001b[0m\n"
      ]
     },
     "metadata": {},
     "output_type": "display_data"
    },
    {
     "data": {
      "text/html": [
       "<pre style=\"white-space:pre;overflow-x:auto;line-height:normal;font-family:Menlo,'DejaVu Sans Mono',consolas,'Courier New',monospace\"></pre>\n"
      ],
      "text/plain": []
     },
     "metadata": {},
     "output_type": "display_data"
    },
    {
     "data": {
      "text/html": [
       "<pre style=\"white-space:pre;overflow-x:auto;line-height:normal;font-family:Menlo,'DejaVu Sans Mono',consolas,'Courier New',monospace\">\n",
       "</pre>\n"
      ],
      "text/plain": [
       "\n"
      ]
     },
     "metadata": {},
     "output_type": "display_data"
    },
    {
     "data": {
      "text/html": [
       "<pre style=\"white-space:pre;overflow-x:auto;line-height:normal;font-family:Menlo,'DejaVu Sans Mono',consolas,'Courier New',monospace\"><span style=\"color: #008000; text-decoration-color: #008000\">Expected Improvement: </span><span style=\"color: #008080; text-decoration-color: #008080; font-weight: bold\">0.028685936704277992</span><span style=\"color: #008000; text-decoration-color: #008000\"> Actual: </span><span style=\"color: #008080; text-decoration-color: #008080; font-weight: bold\">0.028553344309329987</span>\n",
       "</pre>\n"
      ],
      "text/plain": [
       "\u001b[32mExpected Improvement: \u001b[0m\u001b[1;36m0.028685936704277992\u001b[0m\u001b[32m Actual: \u001b[0m\u001b[1;36m0.028553344309329987\u001b[0m\n"
      ]
     },
     "metadata": {},
     "output_type": "display_data"
    },
    {
     "data": {
      "text/html": [
       "<pre style=\"white-space:pre;overflow-x:auto;line-height:normal;font-family:Menlo,'DejaVu Sans Mono',consolas,'Courier New',monospace\"><span style=\"color: #008000; text-decoration-color: #008000\">Accept step at </span><span style=\"color: #808000; text-decoration-color: #808000\">i</span><span style=\"color: #008000; text-decoration-color: #008000\">=</span><span style=\"color: #008080; text-decoration-color: #008080; font-weight: bold\">1</span>\n",
       "</pre>\n"
      ],
      "text/plain": [
       "\u001b[32mAccept step at \u001b[0m\u001b[33mi\u001b[0m\u001b[32m=\u001b[0m\u001b[1;36m1\u001b[0m\n"
      ]
     },
     "metadata": {},
     "output_type": "display_data"
    },
    {
     "data": {
      "text/html": [
       "<pre style=\"white-space:pre;overflow-x:auto;line-height:normal;font-family:Menlo,'DejaVu Sans Mono',consolas,'Courier New',monospace\">┏━━━━━━━━━━━━━━━━━━━━━━━━━━━━━━━┳━━━━━━━━━━━━━━━━━━━━━━━━┓\n",
       "┃<span style=\"font-weight: bold\"> Metrics                       </span>┃<span style=\"font-weight: bold\"> Value                  </span>┃\n",
       "┡━━━━━━━━━━━━━━━━━━━━━━━━━━━━━━━╇━━━━━━━━━━━━━━━━━━━━━━━━┩\n",
       "│ Metrics/EpRet                 │ -0.007048275321722031  │\n",
       "│ Metrics/EpCost                │ 6.539999961853027      │\n",
       "│ Metrics/EpLen                 │ 1000.0                 │\n",
       "│ Train/Epoch                   │ 15.0                   │\n",
       "│ Train/Entropy                 │ 1.376354694366455      │\n",
       "│ Train/KL                      │ 0.00024266571563202888 │\n",
       "│ Train/StopIter                │ 10.0                   │\n",
       "│ Train/PolicyRatio/Mean        │ 0.999622642993927      │\n",
       "│ Train/PolicyRatio/Min         │ 0.9996227025985718     │\n",
       "│ Train/PolicyRatio/Max         │ 0.9996227025985718     │\n",
       "│ Train/PolicyRatio/Std         │ 0.00026684574550017715 │\n",
       "│ Train/LR                      │ 0.0                    │\n",
       "│ Train/PolicyStd               │ 0.9609596133232117     │\n",
       "│ TotalEnvSteps                 │ 320000.0               │\n",
       "│ Loss/Loss_pi                  │ -0.020832156762480736  │\n",
       "│ Loss/Loss_pi/Delta            │ -0.01886712177656591   │\n",
       "│ Value/Adv                     │ -7.629394338515283e-10 │\n",
       "│ Loss/Loss_reward_critic       │ 0.00681720394641161    │\n",
       "│ Loss/Loss_reward_critic/Delta │ 0.0004593762569129467  │\n",
       "│ Value/reward                  │ 0.0538782961666584     │\n",
       "│ Loss/Loss_cost_critic         │ 0.3963841199874878     │\n",
       "│ Loss/Loss_cost_critic/Delta   │ -0.15366309881210327   │\n",
       "│ Value/cost                    │ -0.07984888553619385   │\n",
       "│ Time/Total                    │ 954.459716796875       │\n",
       "│ Time/Rollout                  │ 48.36441421508789      │\n",
       "│ Time/Update                   │ 13.263067245483398     │\n",
       "│ Time/Epoch                    │ 61.627479553222656     │\n",
       "│ Time/FPS                      │ 324.5305480957031      │\n",
       "│ Misc/Alpha                    │ 0.6976140141487122     │\n",
       "│ Misc/FinalStepNorm            │ 0.1972077339887619     │\n",
       "│ Misc/gradient_norm            │ 0.19327348470687866    │\n",
       "│ Misc/xHx                      │ 0.04109599441289902    │\n",
       "│ Misc/H_inv_g                  │ 0.2826888859272003     │\n",
       "│ Misc/AcceptanceStep           │ 1.0                    │\n",
       "│ Misc/cost_gradient_norm       │ 0.07567982375621796    │\n",
       "│ Misc/A                        │ 0.04038216546177864    │\n",
       "│ Misc/B                        │ -22545.587890625       │\n",
       "│ Misc/q                        │ 0.04109599441289902    │\n",
       "│ Misc/r                        │ 0.003284717909991741   │\n",
       "│ Misc/s                        │ 0.015114758163690567   │\n",
       "│ Misc/Lambda_star              │ 1.4334574937820435     │\n",
       "│ Misc/Nu_star                  │ 0.0                    │\n",
       "│ Misc/OptimCase                │ 3.0                    │\n",
       "└───────────────────────────────┴────────────────────────┘\n",
       "</pre>\n"
      ],
      "text/plain": [
       "┏━━━━━━━━━━━━━━━━━━━━━━━━━━━━━━━┳━━━━━━━━━━━━━━━━━━━━━━━━┓\n",
       "┃\u001b[1m \u001b[0m\u001b[1mMetrics                      \u001b[0m\u001b[1m \u001b[0m┃\u001b[1m \u001b[0m\u001b[1mValue                 \u001b[0m\u001b[1m \u001b[0m┃\n",
       "┡━━━━━━━━━━━━━━━━━━━━━━━━━━━━━━━╇━━━━━━━━━━━━━━━━━━━━━━━━┩\n",
       "│ Metrics/EpRet                 │ -0.007048275321722031  │\n",
       "│ Metrics/EpCost                │ 6.539999961853027      │\n",
       "│ Metrics/EpLen                 │ 1000.0                 │\n",
       "│ Train/Epoch                   │ 15.0                   │\n",
       "│ Train/Entropy                 │ 1.376354694366455      │\n",
       "│ Train/KL                      │ 0.00024266571563202888 │\n",
       "│ Train/StopIter                │ 10.0                   │\n",
       "│ Train/PolicyRatio/Mean        │ 0.999622642993927      │\n",
       "│ Train/PolicyRatio/Min         │ 0.9996227025985718     │\n",
       "│ Train/PolicyRatio/Max         │ 0.9996227025985718     │\n",
       "│ Train/PolicyRatio/Std         │ 0.00026684574550017715 │\n",
       "│ Train/LR                      │ 0.0                    │\n",
       "│ Train/PolicyStd               │ 0.9609596133232117     │\n",
       "│ TotalEnvSteps                 │ 320000.0               │\n",
       "│ Loss/Loss_pi                  │ -0.020832156762480736  │\n",
       "│ Loss/Loss_pi/Delta            │ -0.01886712177656591   │\n",
       "│ Value/Adv                     │ -7.629394338515283e-10 │\n",
       "│ Loss/Loss_reward_critic       │ 0.00681720394641161    │\n",
       "│ Loss/Loss_reward_critic/Delta │ 0.0004593762569129467  │\n",
       "│ Value/reward                  │ 0.0538782961666584     │\n",
       "│ Loss/Loss_cost_critic         │ 0.3963841199874878     │\n",
       "│ Loss/Loss_cost_critic/Delta   │ -0.15366309881210327   │\n",
       "│ Value/cost                    │ -0.07984888553619385   │\n",
       "│ Time/Total                    │ 954.459716796875       │\n",
       "│ Time/Rollout                  │ 48.36441421508789      │\n",
       "│ Time/Update                   │ 13.263067245483398     │\n",
       "│ Time/Epoch                    │ 61.627479553222656     │\n",
       "│ Time/FPS                      │ 324.5305480957031      │\n",
       "│ Misc/Alpha                    │ 0.6976140141487122     │\n",
       "│ Misc/FinalStepNorm            │ 0.1972077339887619     │\n",
       "│ Misc/gradient_norm            │ 0.19327348470687866    │\n",
       "│ Misc/xHx                      │ 0.04109599441289902    │\n",
       "│ Misc/H_inv_g                  │ 0.2826888859272003     │\n",
       "│ Misc/AcceptanceStep           │ 1.0                    │\n",
       "│ Misc/cost_gradient_norm       │ 0.07567982375621796    │\n",
       "│ Misc/A                        │ 0.04038216546177864    │\n",
       "│ Misc/B                        │ -22545.587890625       │\n",
       "│ Misc/q                        │ 0.04109599441289902    │\n",
       "│ Misc/r                        │ 0.003284717909991741   │\n",
       "│ Misc/s                        │ 0.015114758163690567   │\n",
       "│ Misc/Lambda_star              │ 1.4334574937820435     │\n",
       "│ Misc/Nu_star                  │ 0.0                    │\n",
       "│ Misc/OptimCase                │ 3.0                    │\n",
       "└───────────────────────────────┴────────────────────────┘\n"
      ]
     },
     "metadata": {},
     "output_type": "display_data"
    },
    {
     "data": {
      "text/html": [
       "<pre style=\"white-space:pre;overflow-x:auto;line-height:normal;font-family:Menlo,'DejaVu Sans Mono',consolas,'Courier New',monospace\"><span style=\"color: #008000; text-decoration-color: #008000\">Warning: trajectory cut off when rollout by epoch at </span><span style=\"color: #008080; text-decoration-color: #008080; font-weight: bold\">1000.0</span><span style=\"color: #008000; text-decoration-color: #008000\"> steps.</span>\n",
       "</pre>\n"
      ],
      "text/plain": [
       "\u001b[32mWarning: trajectory cut off when rollout by epoch at \u001b[0m\u001b[1;36m1000.0\u001b[0m\u001b[32m steps.\u001b[0m\n"
      ]
     },
     "metadata": {},
     "output_type": "display_data"
    },
    {
     "data": {
      "text/html": [
       "<pre style=\"white-space:pre;overflow-x:auto;line-height:normal;font-family:Menlo,'DejaVu Sans Mono',consolas,'Courier New',monospace\"><span style=\"color: #008000; text-decoration-color: #008000\">Warning: trajectory cut off when rollout by epoch at </span><span style=\"color: #008080; text-decoration-color: #008080; font-weight: bold\">1000.0</span><span style=\"color: #008000; text-decoration-color: #008000\"> steps.</span>\n",
       "</pre>\n"
      ],
      "text/plain": [
       "\u001b[32mWarning: trajectory cut off when rollout by epoch at \u001b[0m\u001b[1;36m1000.0\u001b[0m\u001b[32m steps.\u001b[0m\n"
      ]
     },
     "metadata": {},
     "output_type": "display_data"
    },
    {
     "data": {
      "text/html": [
       "<pre style=\"white-space:pre;overflow-x:auto;line-height:normal;font-family:Menlo,'DejaVu Sans Mono',consolas,'Courier New',monospace\"><span style=\"color: #008000; text-decoration-color: #008000\">Warning: trajectory cut off when rollout by epoch at </span><span style=\"color: #008080; text-decoration-color: #008080; font-weight: bold\">1000.0</span><span style=\"color: #008000; text-decoration-color: #008000\"> steps.</span>\n",
       "</pre>\n"
      ],
      "text/plain": [
       "\u001b[32mWarning: trajectory cut off when rollout by epoch at \u001b[0m\u001b[1;36m1000.0\u001b[0m\u001b[32m steps.\u001b[0m\n"
      ]
     },
     "metadata": {},
     "output_type": "display_data"
    },
    {
     "data": {
      "text/html": [
       "<pre style=\"white-space:pre;overflow-x:auto;line-height:normal;font-family:Menlo,'DejaVu Sans Mono',consolas,'Courier New',monospace\"><span style=\"color: #008000; text-decoration-color: #008000\">Warning: trajectory cut off when rollout by epoch at </span><span style=\"color: #008080; text-decoration-color: #008080; font-weight: bold\">1000.0</span><span style=\"color: #008000; text-decoration-color: #008000\"> steps.</span>\n",
       "</pre>\n"
      ],
      "text/plain": [
       "\u001b[32mWarning: trajectory cut off when rollout by epoch at \u001b[0m\u001b[1;36m1000.0\u001b[0m\u001b[32m steps.\u001b[0m\n"
      ]
     },
     "metadata": {},
     "output_type": "display_data"
    },
    {
     "data": {
      "text/html": [
       "<pre style=\"white-space:pre;overflow-x:auto;line-height:normal;font-family:Menlo,'DejaVu Sans Mono',consolas,'Courier New',monospace\"></pre>\n"
      ],
      "text/plain": []
     },
     "metadata": {},
     "output_type": "display_data"
    },
    {
     "data": {
      "text/html": [
       "<pre style=\"white-space:pre;overflow-x:auto;line-height:normal;font-family:Menlo,'DejaVu Sans Mono',consolas,'Courier New',monospace\">\n",
       "</pre>\n"
      ],
      "text/plain": [
       "\n"
      ]
     },
     "metadata": {},
     "output_type": "display_data"
    },
    {
     "data": {
      "text/html": [
       "<pre style=\"white-space:pre;overflow-x:auto;line-height:normal;font-family:Menlo,'DejaVu Sans Mono',consolas,'Courier New',monospace\"><span style=\"color: #008000; text-decoration-color: #008000\">Expected Improvement: </span><span style=\"color: #008080; text-decoration-color: #008080; font-weight: bold\">0.025075091049075127</span><span style=\"color: #008000; text-decoration-color: #008000\"> Actual: </span><span style=\"color: #008080; text-decoration-color: #008080; font-weight: bold\">0.02611052244901657</span>\n",
       "</pre>\n"
      ],
      "text/plain": [
       "\u001b[32mExpected Improvement: \u001b[0m\u001b[1;36m0.025075091049075127\u001b[0m\u001b[32m Actual: \u001b[0m\u001b[1;36m0.02611052244901657\u001b[0m\n"
      ]
     },
     "metadata": {},
     "output_type": "display_data"
    },
    {
     "data": {
      "text/html": [
       "<pre style=\"white-space:pre;overflow-x:auto;line-height:normal;font-family:Menlo,'DejaVu Sans Mono',consolas,'Courier New',monospace\"><span style=\"color: #008000; text-decoration-color: #008000\">Accept step at </span><span style=\"color: #808000; text-decoration-color: #808000\">i</span><span style=\"color: #008000; text-decoration-color: #008000\">=</span><span style=\"color: #008080; text-decoration-color: #008080; font-weight: bold\">1</span>\n",
       "</pre>\n"
      ],
      "text/plain": [
       "\u001b[32mAccept step at \u001b[0m\u001b[33mi\u001b[0m\u001b[32m=\u001b[0m\u001b[1;36m1\u001b[0m\n"
      ]
     },
     "metadata": {},
     "output_type": "display_data"
    },
    {
     "data": {
      "text/html": [
       "<pre style=\"white-space:pre;overflow-x:auto;line-height:normal;font-family:Menlo,'DejaVu Sans Mono',consolas,'Courier New',monospace\">┏━━━━━━━━━━━━━━━━━━━━━━━━━━━━━━━┳━━━━━━━━━━━━━━━━━━━━━━━━┓\n",
       "┃<span style=\"font-weight: bold\"> Metrics                       </span>┃<span style=\"font-weight: bold\"> Value                  </span>┃\n",
       "┡━━━━━━━━━━━━━━━━━━━━━━━━━━━━━━━╇━━━━━━━━━━━━━━━━━━━━━━━━┩\n",
       "│ Metrics/EpRet                 │ 0.42616358399391174    │\n",
       "│ Metrics/EpCost                │ 15.140000343322754     │\n",
       "│ Metrics/EpLen                 │ 1000.0                 │\n",
       "│ Train/Epoch                   │ 16.0                   │\n",
       "│ Train/Entropy                 │ 1.3754467964172363     │\n",
       "│ Train/KL                      │ 0.00023771102132741362 │\n",
       "│ Train/StopIter                │ 10.0                   │\n",
       "│ Train/PolicyRatio/Mean        │ 1.000067114830017      │\n",
       "│ Train/PolicyRatio/Min         │ 1.000067114830017      │\n",
       "│ Train/PolicyRatio/Max         │ 1.000067114830017      │\n",
       "│ Train/PolicyRatio/Std         │ 4.74292719445657e-05   │\n",
       "│ Train/LR                      │ 0.0                    │\n",
       "│ Train/PolicyStd               │ 0.9604315757751465     │\n",
       "│ TotalEnvSteps                 │ 340000.0               │\n",
       "│ Loss/Loss_pi                  │ -0.018243204802274704  │\n",
       "│ Loss/Loss_pi/Delta            │ 0.002588951960206032   │\n",
       "│ Value/Adv                     │ 9.155272984173735e-09  │\n",
       "│ Loss/Loss_reward_critic       │ 0.008063826709985733   │\n",
       "│ Loss/Loss_reward_critic/Delta │ 0.0012466227635741234  │\n",
       "│ Value/reward                  │ 0.08941663056612015    │\n",
       "│ Loss/Loss_cost_critic         │ 0.7263749837875366     │\n",
       "│ Loss/Loss_cost_critic/Delta   │ 0.32999086380004883    │\n",
       "│ Value/cost                    │ 1.1310328245162964     │\n",
       "│ Time/Total                    │ 1016.6033325195312     │\n",
       "│ Time/Rollout                  │ 48.79863739013672      │\n",
       "│ Time/Update                   │ 13.301095962524414     │\n",
       "│ Time/Epoch                    │ 62.0997314453125       │\n",
       "│ Time/FPS                      │ 322.0625915527344      │\n",
       "│ Misc/Alpha                    │ 0.7982137799263        │\n",
       "│ Misc/FinalStepNorm            │ 0.21244393289089203    │\n",
       "│ Misc/gradient_norm            │ 0.17178702354431152    │\n",
       "│ Misc/xHx                      │ 0.031390003859996796   │\n",
       "│ Misc/H_inv_g                  │ 0.2661491632461548     │\n",
       "│ Misc/AcceptanceStep           │ 1.0                    │\n",
       "│ Misc/cost_gradient_norm       │ 0.12651866674423218    │\n",
       "│ Misc/A                        │ 0.030381835997104645   │\n",
       "│ Misc/B                        │ -2224.026123046875     │\n",
       "│ Misc/q                        │ 0.031390003859996796   │\n",
       "│ Misc/r                        │ 0.006638520862907171   │\n",
       "│ Misc/s                        │ 0.043712928891181946   │\n",
       "│ Misc/Lambda_star              │ 1.252797245979309      │\n",
       "│ Misc/Nu_star                  │ 0.0                    │\n",
       "│ Misc/OptimCase                │ 3.0                    │\n",
       "└───────────────────────────────┴────────────────────────┘\n",
       "</pre>\n"
      ],
      "text/plain": [
       "┏━━━━━━━━━━━━━━━━━━━━━━━━━━━━━━━┳━━━━━━━━━━━━━━━━━━━━━━━━┓\n",
       "┃\u001b[1m \u001b[0m\u001b[1mMetrics                      \u001b[0m\u001b[1m \u001b[0m┃\u001b[1m \u001b[0m\u001b[1mValue                 \u001b[0m\u001b[1m \u001b[0m┃\n",
       "┡━━━━━━━━━━━━━━━━━━━━━━━━━━━━━━━╇━━━━━━━━━━━━━━━━━━━━━━━━┩\n",
       "│ Metrics/EpRet                 │ 0.42616358399391174    │\n",
       "│ Metrics/EpCost                │ 15.140000343322754     │\n",
       "│ Metrics/EpLen                 │ 1000.0                 │\n",
       "│ Train/Epoch                   │ 16.0                   │\n",
       "│ Train/Entropy                 │ 1.3754467964172363     │\n",
       "│ Train/KL                      │ 0.00023771102132741362 │\n",
       "│ Train/StopIter                │ 10.0                   │\n",
       "│ Train/PolicyRatio/Mean        │ 1.000067114830017      │\n",
       "│ Train/PolicyRatio/Min         │ 1.000067114830017      │\n",
       "│ Train/PolicyRatio/Max         │ 1.000067114830017      │\n",
       "│ Train/PolicyRatio/Std         │ 4.74292719445657e-05   │\n",
       "│ Train/LR                      │ 0.0                    │\n",
       "│ Train/PolicyStd               │ 0.9604315757751465     │\n",
       "│ TotalEnvSteps                 │ 340000.0               │\n",
       "│ Loss/Loss_pi                  │ -0.018243204802274704  │\n",
       "│ Loss/Loss_pi/Delta            │ 0.002588951960206032   │\n",
       "│ Value/Adv                     │ 9.155272984173735e-09  │\n",
       "│ Loss/Loss_reward_critic       │ 0.008063826709985733   │\n",
       "│ Loss/Loss_reward_critic/Delta │ 0.0012466227635741234  │\n",
       "│ Value/reward                  │ 0.08941663056612015    │\n",
       "│ Loss/Loss_cost_critic         │ 0.7263749837875366     │\n",
       "│ Loss/Loss_cost_critic/Delta   │ 0.32999086380004883    │\n",
       "│ Value/cost                    │ 1.1310328245162964     │\n",
       "│ Time/Total                    │ 1016.6033325195312     │\n",
       "│ Time/Rollout                  │ 48.79863739013672      │\n",
       "│ Time/Update                   │ 13.301095962524414     │\n",
       "│ Time/Epoch                    │ 62.0997314453125       │\n",
       "│ Time/FPS                      │ 322.0625915527344      │\n",
       "│ Misc/Alpha                    │ 0.7982137799263        │\n",
       "│ Misc/FinalStepNorm            │ 0.21244393289089203    │\n",
       "│ Misc/gradient_norm            │ 0.17178702354431152    │\n",
       "│ Misc/xHx                      │ 0.031390003859996796   │\n",
       "│ Misc/H_inv_g                  │ 0.2661491632461548     │\n",
       "│ Misc/AcceptanceStep           │ 1.0                    │\n",
       "│ Misc/cost_gradient_norm       │ 0.12651866674423218    │\n",
       "│ Misc/A                        │ 0.030381835997104645   │\n",
       "│ Misc/B                        │ -2224.026123046875     │\n",
       "│ Misc/q                        │ 0.031390003859996796   │\n",
       "│ Misc/r                        │ 0.006638520862907171   │\n",
       "│ Misc/s                        │ 0.043712928891181946   │\n",
       "│ Misc/Lambda_star              │ 1.252797245979309      │\n",
       "│ Misc/Nu_star                  │ 0.0                    │\n",
       "│ Misc/OptimCase                │ 3.0                    │\n",
       "└───────────────────────────────┴────────────────────────┘\n"
      ]
     },
     "metadata": {},
     "output_type": "display_data"
    },
    {
     "data": {
      "text/html": [
       "<pre style=\"white-space:pre;overflow-x:auto;line-height:normal;font-family:Menlo,'DejaVu Sans Mono',consolas,'Courier New',monospace\"><span style=\"color: #008000; text-decoration-color: #008000\">Warning: trajectory cut off when rollout by epoch at </span><span style=\"color: #008080; text-decoration-color: #008080; font-weight: bold\">1000.0</span><span style=\"color: #008000; text-decoration-color: #008000\"> steps.</span>\n",
       "</pre>\n"
      ],
      "text/plain": [
       "\u001b[32mWarning: trajectory cut off when rollout by epoch at \u001b[0m\u001b[1;36m1000.0\u001b[0m\u001b[32m steps.\u001b[0m\n"
      ]
     },
     "metadata": {},
     "output_type": "display_data"
    },
    {
     "data": {
      "text/html": [
       "<pre style=\"white-space:pre;overflow-x:auto;line-height:normal;font-family:Menlo,'DejaVu Sans Mono',consolas,'Courier New',monospace\"><span style=\"color: #008000; text-decoration-color: #008000\">Warning: trajectory cut off when rollout by epoch at </span><span style=\"color: #008080; text-decoration-color: #008080; font-weight: bold\">1000.0</span><span style=\"color: #008000; text-decoration-color: #008000\"> steps.</span>\n",
       "</pre>\n"
      ],
      "text/plain": [
       "\u001b[32mWarning: trajectory cut off when rollout by epoch at \u001b[0m\u001b[1;36m1000.0\u001b[0m\u001b[32m steps.\u001b[0m\n"
      ]
     },
     "metadata": {},
     "output_type": "display_data"
    },
    {
     "data": {
      "text/html": [
       "<pre style=\"white-space:pre;overflow-x:auto;line-height:normal;font-family:Menlo,'DejaVu Sans Mono',consolas,'Courier New',monospace\"><span style=\"color: #008000; text-decoration-color: #008000\">Warning: trajectory cut off when rollout by epoch at </span><span style=\"color: #008080; text-decoration-color: #008080; font-weight: bold\">1000.0</span><span style=\"color: #008000; text-decoration-color: #008000\"> steps.</span>\n",
       "</pre>\n"
      ],
      "text/plain": [
       "\u001b[32mWarning: trajectory cut off when rollout by epoch at \u001b[0m\u001b[1;36m1000.0\u001b[0m\u001b[32m steps.\u001b[0m\n"
      ]
     },
     "metadata": {},
     "output_type": "display_data"
    },
    {
     "data": {
      "text/html": [
       "<pre style=\"white-space:pre;overflow-x:auto;line-height:normal;font-family:Menlo,'DejaVu Sans Mono',consolas,'Courier New',monospace\"><span style=\"color: #008000; text-decoration-color: #008000\">Warning: trajectory cut off when rollout by epoch at </span><span style=\"color: #008080; text-decoration-color: #008080; font-weight: bold\">1000.0</span><span style=\"color: #008000; text-decoration-color: #008000\"> steps.</span>\n",
       "</pre>\n"
      ],
      "text/plain": [
       "\u001b[32mWarning: trajectory cut off when rollout by epoch at \u001b[0m\u001b[1;36m1000.0\u001b[0m\u001b[32m steps.\u001b[0m\n"
      ]
     },
     "metadata": {},
     "output_type": "display_data"
    },
    {
     "data": {
      "text/html": [
       "<pre style=\"white-space:pre;overflow-x:auto;line-height:normal;font-family:Menlo,'DejaVu Sans Mono',consolas,'Courier New',monospace\"></pre>\n"
      ],
      "text/plain": []
     },
     "metadata": {},
     "output_type": "display_data"
    },
    {
     "data": {
      "text/html": [
       "<pre style=\"white-space:pre;overflow-x:auto;line-height:normal;font-family:Menlo,'DejaVu Sans Mono',consolas,'Courier New',monospace\">\n",
       "</pre>\n"
      ],
      "text/plain": [
       "\n"
      ]
     },
     "metadata": {},
     "output_type": "display_data"
    },
    {
     "data": {
      "text/html": [
       "<pre style=\"white-space:pre;overflow-x:auto;line-height:normal;font-family:Menlo,'DejaVu Sans Mono',consolas,'Courier New',monospace\"><span style=\"color: #800000; text-decoration-color: #800000\">Alert! Attempting infeasible recovery!</span>\n",
       "</pre>\n"
      ],
      "text/plain": [
       "\u001b[31mAlert! Attempting infeasible recovery!\u001b[0m\n"
      ]
     },
     "metadata": {},
     "output_type": "display_data"
    },
    {
     "data": {
      "text/html": [
       "<pre style=\"white-space:pre;overflow-x:auto;line-height:normal;font-family:Menlo,'DejaVu Sans Mono',consolas,'Courier New',monospace\"><span style=\"color: #008000; text-decoration-color: #008000\">Expected Improvement: </span><span style=\"color: #008080; text-decoration-color: #008080; font-weight: bold\">-0.005195124540477991</span><span style=\"color: #008000; text-decoration-color: #008000\"> Actual: </span><span style=\"color: #008080; text-decoration-color: #008080; font-weight: bold\">-0.005145195405930281</span>\n",
       "</pre>\n"
      ],
      "text/plain": [
       "\u001b[32mExpected Improvement: \u001b[0m\u001b[1;36m-0.005195124540477991\u001b[0m\u001b[32m Actual: \u001b[0m\u001b[1;36m-0.005145195405930281\u001b[0m\n"
      ]
     },
     "metadata": {},
     "output_type": "display_data"
    },
    {
     "data": {
      "text/html": [
       "<pre style=\"white-space:pre;overflow-x:auto;line-height:normal;font-family:Menlo,'DejaVu Sans Mono',consolas,'Courier New',monospace\"><span style=\"color: #008000; text-decoration-color: #008000\">Accept step at </span><span style=\"color: #808000; text-decoration-color: #808000\">i</span><span style=\"color: #008000; text-decoration-color: #008000\">=</span><span style=\"color: #008080; text-decoration-color: #008080; font-weight: bold\">1</span>\n",
       "</pre>\n"
      ],
      "text/plain": [
       "\u001b[32mAccept step at \u001b[0m\u001b[33mi\u001b[0m\u001b[32m=\u001b[0m\u001b[1;36m1\u001b[0m\n"
      ]
     },
     "metadata": {},
     "output_type": "display_data"
    },
    {
     "data": {
      "text/html": [
       "<pre style=\"white-space:pre;overflow-x:auto;line-height:normal;font-family:Menlo,'DejaVu Sans Mono',consolas,'Courier New',monospace\">┏━━━━━━━━━━━━━━━━━━━━━━━━━━━━━━━┳━━━━━━━━━━━━━━━━━━━━━━━━┓\n",
       "┃<span style=\"font-weight: bold\"> Metrics                       </span>┃<span style=\"font-weight: bold\"> Value                  </span>┃\n",
       "┡━━━━━━━━━━━━━━━━━━━━━━━━━━━━━━━╇━━━━━━━━━━━━━━━━━━━━━━━━┩\n",
       "│ Metrics/EpRet                 │ 2.5121042728424072     │\n",
       "│ Metrics/EpCost                │ 39.08000183105469      │\n",
       "│ Metrics/EpLen                 │ 1000.0                 │\n",
       "│ Train/Epoch                   │ 17.0                   │\n",
       "│ Train/Entropy                 │ 1.385987639427185      │\n",
       "│ Train/KL                      │ 0.00016065724776126444 │\n",
       "│ Train/StopIter                │ 10.0                   │\n",
       "│ Train/PolicyRatio/Mean        │ 0.9990668892860413     │\n",
       "│ Train/PolicyRatio/Min         │ 0.999066948890686      │\n",
       "│ Train/PolicyRatio/Max         │ 0.999066948890686      │\n",
       "│ Train/PolicyRatio/Std         │ 0.0006597948959097266  │\n",
       "│ Train/LR                      │ 0.0                    │\n",
       "│ Train/PolicyStd               │ 0.9705836176872253     │\n",
       "│ TotalEnvSteps                 │ 360000.0               │\n",
       "│ Loss/Loss_pi                  │ -0.00757552357390523   │\n",
       "│ Loss/Loss_pi/Delta            │ 0.010667681228369474   │\n",
       "│ Value/Adv                     │ 2.651214536797397e-08  │\n",
       "│ Loss/Loss_reward_critic       │ 0.013683260418474674   │\n",
       "│ Loss/Loss_reward_critic/Delta │ 0.005619433708488941   │\n",
       "│ Value/reward                  │ 0.27288469672203064    │\n",
       "│ Loss/Loss_cost_critic         │ 1.594707727432251      │\n",
       "│ Loss/Loss_cost_critic/Delta   │ 0.8683327436447144     │\n",
       "│ Value/cost                    │ 3.2614848613739014     │\n",
       "│ Time/Total                    │ 1080.66259765625       │\n",
       "│ Time/Rollout                  │ 50.69758605957031      │\n",
       "│ Time/Update                   │ 13.323766708374023     │\n",
       "│ Time/Epoch                    │ 64.02135467529297      │\n",
       "│ Time/FPS                      │ 312.3957824707031      │\n",
       "│ Misc/Alpha                    │ 0.8940994143486023     │\n",
       "│ Misc/FinalStepNorm            │ 0.30319374799728394    │\n",
       "│ Misc/gradient_norm            │ 0.1453109085559845     │\n",
       "│ Misc/xHx                      │ 0.025018325075507164   │\n",
       "│ Misc/H_inv_g                  │ 0.24447858333587646    │\n",
       "│ Misc/AcceptanceStep           │ 1.0                    │\n",
       "│ Misc/cost_gradient_norm       │ 0.22403188049793243    │\n",
       "│ Misc/A                        │ 0.023668859153985977   │\n",
       "│ Misc/B                        │ -2041.089599609375     │\n",
       "│ Misc/q                        │ 0.025018325075507164   │\n",
       "│ Misc/r                        │ 0.011448550969362259   │\n",
       "│ Misc/s                        │ 0.0971267968416214     │\n",
       "│ Misc/Lambda_star              │ 0.0                    │\n",
       "│ Misc/Nu_star                  │ 0.45378008484840393    │\n",
       "│ Misc/OptimCase                │ 0.0                    │\n",
       "└───────────────────────────────┴────────────────────────┘\n",
       "</pre>\n"
      ],
      "text/plain": [
       "┏━━━━━━━━━━━━━━━━━━━━━━━━━━━━━━━┳━━━━━━━━━━━━━━━━━━━━━━━━┓\n",
       "┃\u001b[1m \u001b[0m\u001b[1mMetrics                      \u001b[0m\u001b[1m \u001b[0m┃\u001b[1m \u001b[0m\u001b[1mValue                 \u001b[0m\u001b[1m \u001b[0m┃\n",
       "┡━━━━━━━━━━━━━━━━━━━━━━━━━━━━━━━╇━━━━━━━━━━━━━━━━━━━━━━━━┩\n",
       "│ Metrics/EpRet                 │ 2.5121042728424072     │\n",
       "│ Metrics/EpCost                │ 39.08000183105469      │\n",
       "│ Metrics/EpLen                 │ 1000.0                 │\n",
       "│ Train/Epoch                   │ 17.0                   │\n",
       "│ Train/Entropy                 │ 1.385987639427185      │\n",
       "│ Train/KL                      │ 0.00016065724776126444 │\n",
       "│ Train/StopIter                │ 10.0                   │\n",
       "│ Train/PolicyRatio/Mean        │ 0.9990668892860413     │\n",
       "│ Train/PolicyRatio/Min         │ 0.999066948890686      │\n",
       "│ Train/PolicyRatio/Max         │ 0.999066948890686      │\n",
       "│ Train/PolicyRatio/Std         │ 0.0006597948959097266  │\n",
       "│ Train/LR                      │ 0.0                    │\n",
       "│ Train/PolicyStd               │ 0.9705836176872253     │\n",
       "│ TotalEnvSteps                 │ 360000.0               │\n",
       "│ Loss/Loss_pi                  │ -0.00757552357390523   │\n",
       "│ Loss/Loss_pi/Delta            │ 0.010667681228369474   │\n",
       "│ Value/Adv                     │ 2.651214536797397e-08  │\n",
       "│ Loss/Loss_reward_critic       │ 0.013683260418474674   │\n",
       "│ Loss/Loss_reward_critic/Delta │ 0.005619433708488941   │\n",
       "│ Value/reward                  │ 0.27288469672203064    │\n",
       "│ Loss/Loss_cost_critic         │ 1.594707727432251      │\n",
       "│ Loss/Loss_cost_critic/Delta   │ 0.8683327436447144     │\n",
       "│ Value/cost                    │ 3.2614848613739014     │\n",
       "│ Time/Total                    │ 1080.66259765625       │\n",
       "│ Time/Rollout                  │ 50.69758605957031      │\n",
       "│ Time/Update                   │ 13.323766708374023     │\n",
       "│ Time/Epoch                    │ 64.02135467529297      │\n",
       "│ Time/FPS                      │ 312.3957824707031      │\n",
       "│ Misc/Alpha                    │ 0.8940994143486023     │\n",
       "│ Misc/FinalStepNorm            │ 0.30319374799728394    │\n",
       "│ Misc/gradient_norm            │ 0.1453109085559845     │\n",
       "│ Misc/xHx                      │ 0.025018325075507164   │\n",
       "│ Misc/H_inv_g                  │ 0.24447858333587646    │\n",
       "│ Misc/AcceptanceStep           │ 1.0                    │\n",
       "│ Misc/cost_gradient_norm       │ 0.22403188049793243    │\n",
       "│ Misc/A                        │ 0.023668859153985977   │\n",
       "│ Misc/B                        │ -2041.089599609375     │\n",
       "│ Misc/q                        │ 0.025018325075507164   │\n",
       "│ Misc/r                        │ 0.011448550969362259   │\n",
       "│ Misc/s                        │ 0.0971267968416214     │\n",
       "│ Misc/Lambda_star              │ 0.0                    │\n",
       "│ Misc/Nu_star                  │ 0.45378008484840393    │\n",
       "│ Misc/OptimCase                │ 0.0                    │\n",
       "└───────────────────────────────┴────────────────────────┘\n"
      ]
     },
     "metadata": {},
     "output_type": "display_data"
    },
    {
     "data": {
      "text/html": [
       "<pre style=\"white-space:pre;overflow-x:auto;line-height:normal;font-family:Menlo,'DejaVu Sans Mono',consolas,'Courier New',monospace\"><span style=\"color: #008000; text-decoration-color: #008000\">Warning: trajectory cut off when rollout by epoch at </span><span style=\"color: #008080; text-decoration-color: #008080; font-weight: bold\">1000.0</span><span style=\"color: #008000; text-decoration-color: #008000\"> steps.</span>\n",
       "</pre>\n"
      ],
      "text/plain": [
       "\u001b[32mWarning: trajectory cut off when rollout by epoch at \u001b[0m\u001b[1;36m1000.0\u001b[0m\u001b[32m steps.\u001b[0m\n"
      ]
     },
     "metadata": {},
     "output_type": "display_data"
    },
    {
     "data": {
      "text/html": [
       "<pre style=\"white-space:pre;overflow-x:auto;line-height:normal;font-family:Menlo,'DejaVu Sans Mono',consolas,'Courier New',monospace\"><span style=\"color: #008000; text-decoration-color: #008000\">Warning: trajectory cut off when rollout by epoch at </span><span style=\"color: #008080; text-decoration-color: #008080; font-weight: bold\">1000.0</span><span style=\"color: #008000; text-decoration-color: #008000\"> steps.</span>\n",
       "</pre>\n"
      ],
      "text/plain": [
       "\u001b[32mWarning: trajectory cut off when rollout by epoch at \u001b[0m\u001b[1;36m1000.0\u001b[0m\u001b[32m steps.\u001b[0m\n"
      ]
     },
     "metadata": {},
     "output_type": "display_data"
    },
    {
     "data": {
      "text/html": [
       "<pre style=\"white-space:pre;overflow-x:auto;line-height:normal;font-family:Menlo,'DejaVu Sans Mono',consolas,'Courier New',monospace\"><span style=\"color: #008000; text-decoration-color: #008000\">Warning: trajectory cut off when rollout by epoch at </span><span style=\"color: #008080; text-decoration-color: #008080; font-weight: bold\">1000.0</span><span style=\"color: #008000; text-decoration-color: #008000\"> steps.</span>\n",
       "</pre>\n"
      ],
      "text/plain": [
       "\u001b[32mWarning: trajectory cut off when rollout by epoch at \u001b[0m\u001b[1;36m1000.0\u001b[0m\u001b[32m steps.\u001b[0m\n"
      ]
     },
     "metadata": {},
     "output_type": "display_data"
    },
    {
     "data": {
      "text/html": [
       "<pre style=\"white-space:pre;overflow-x:auto;line-height:normal;font-family:Menlo,'DejaVu Sans Mono',consolas,'Courier New',monospace\"><span style=\"color: #008000; text-decoration-color: #008000\">Warning: trajectory cut off when rollout by epoch at </span><span style=\"color: #008080; text-decoration-color: #008080; font-weight: bold\">1000.0</span><span style=\"color: #008000; text-decoration-color: #008000\"> steps.</span>\n",
       "</pre>\n"
      ],
      "text/plain": [
       "\u001b[32mWarning: trajectory cut off when rollout by epoch at \u001b[0m\u001b[1;36m1000.0\u001b[0m\u001b[32m steps.\u001b[0m\n"
      ]
     },
     "metadata": {},
     "output_type": "display_data"
    },
    {
     "data": {
      "text/html": [
       "<pre style=\"white-space:pre;overflow-x:auto;line-height:normal;font-family:Menlo,'DejaVu Sans Mono',consolas,'Courier New',monospace\"></pre>\n"
      ],
      "text/plain": []
     },
     "metadata": {},
     "output_type": "display_data"
    },
    {
     "data": {
      "text/html": [
       "<pre style=\"white-space:pre;overflow-x:auto;line-height:normal;font-family:Menlo,'DejaVu Sans Mono',consolas,'Courier New',monospace\">\n",
       "</pre>\n"
      ],
      "text/plain": [
       "\n"
      ]
     },
     "metadata": {},
     "output_type": "display_data"
    },
    {
     "data": {
      "text/html": [
       "<pre style=\"white-space:pre;overflow-x:auto;line-height:normal;font-family:Menlo,'DejaVu Sans Mono',consolas,'Courier New',monospace\"><span style=\"color: #800000; text-decoration-color: #800000\">Alert! Attempting infeasible recovery!</span>\n",
       "</pre>\n"
      ],
      "text/plain": [
       "\u001b[31mAlert! Attempting infeasible recovery!\u001b[0m\n"
      ]
     },
     "metadata": {},
     "output_type": "display_data"
    },
    {
     "data": {
      "text/html": [
       "<pre style=\"white-space:pre;overflow-x:auto;line-height:normal;font-family:Menlo,'DejaVu Sans Mono',consolas,'Courier New',monospace\"><span style=\"color: #008000; text-decoration-color: #008000\">Expected Improvement: </span><span style=\"color: #008080; text-decoration-color: #008080; font-weight: bold\">-0.004151240456849337</span><span style=\"color: #008000; text-decoration-color: #008000\"> Actual: </span><span style=\"color: #008080; text-decoration-color: #008080; font-weight: bold\">-0.004487383179366589</span>\n",
       "</pre>\n"
      ],
      "text/plain": [
       "\u001b[32mExpected Improvement: \u001b[0m\u001b[1;36m-0.004151240456849337\u001b[0m\u001b[32m Actual: \u001b[0m\u001b[1;36m-0.004487383179366589\u001b[0m\n"
      ]
     },
     "metadata": {},
     "output_type": "display_data"
    },
    {
     "data": {
      "text/html": [
       "<pre style=\"white-space:pre;overflow-x:auto;line-height:normal;font-family:Menlo,'DejaVu Sans Mono',consolas,'Courier New',monospace\"><span style=\"color: #008000; text-decoration-color: #008000\">Accept step at </span><span style=\"color: #808000; text-decoration-color: #808000\">i</span><span style=\"color: #008000; text-decoration-color: #008000\">=</span><span style=\"color: #008080; text-decoration-color: #008080; font-weight: bold\">1</span>\n",
       "</pre>\n"
      ],
      "text/plain": [
       "\u001b[32mAccept step at \u001b[0m\u001b[33mi\u001b[0m\u001b[32m=\u001b[0m\u001b[1;36m1\u001b[0m\n"
      ]
     },
     "metadata": {},
     "output_type": "display_data"
    },
    {
     "data": {
      "text/html": [
       "<pre style=\"white-space:pre;overflow-x:auto;line-height:normal;font-family:Menlo,'DejaVu Sans Mono',consolas,'Courier New',monospace\">┏━━━━━━━━━━━━━━━━━━━━━━━━━━━━━━━┳━━━━━━━━━━━━━━━━━━━━━━━━━┓\n",
       "┃<span style=\"font-weight: bold\"> Metrics                       </span>┃<span style=\"font-weight: bold\"> Value                   </span>┃\n",
       "┡━━━━━━━━━━━━━━━━━━━━━━━━━━━━━━━╇━━━━━━━━━━━━━━━━━━━━━━━━━┩\n",
       "│ Metrics/EpRet                 │ 4.150094509124756       │\n",
       "│ Metrics/EpCost                │ 50.34000015258789       │\n",
       "│ Metrics/EpLen                 │ 1000.0                  │\n",
       "│ Train/Epoch                   │ 18.0                    │\n",
       "│ Train/Entropy                 │ 1.3839292526245117      │\n",
       "│ Train/KL                      │ 0.00017394035239703953  │\n",
       "│ Train/StopIter                │ 10.0                    │\n",
       "│ Train/PolicyRatio/Mean        │ 1.000550627708435       │\n",
       "│ Train/PolicyRatio/Min         │ 1.000550627708435       │\n",
       "│ Train/PolicyRatio/Max         │ 1.000550627708435       │\n",
       "│ Train/PolicyRatio/Std         │ 0.00038938067154958844  │\n",
       "│ Train/LR                      │ 0.0                     │\n",
       "│ Train/PolicyStd               │ 0.9686794877052307      │\n",
       "│ TotalEnvSteps                 │ 380000.0                │\n",
       "│ Loss/Loss_pi                  │ -0.007751628756523132   │\n",
       "│ Loss/Loss_pi/Delta            │ -0.00017610518261790276 │\n",
       "│ Value/Adv                     │ -6.103515470812226e-09  │\n",
       "│ Loss/Loss_reward_critic       │ 0.011255293153226376    │\n",
       "│ Loss/Loss_reward_critic/Delta │ -0.0024279672652482986  │\n",
       "│ Value/reward                  │ 0.2006371170282364      │\n",
       "│ Loss/Loss_cost_critic         │ 1.391646385192871       │\n",
       "│ Loss/Loss_cost_critic/Delta   │ -0.20306134223937988    │\n",
       "│ Value/cost                    │ 2.884725332260132       │\n",
       "│ Time/Total                    │ 1143.568603515625       │\n",
       "│ Time/Rollout                  │ 49.7613410949707        │\n",
       "│ Time/Update                   │ 13.100049018859863      │\n",
       "│ Time/Epoch                    │ 62.86138916015625       │\n",
       "│ Time/FPS                      │ 318.1603088378906       │\n",
       "│ Misc/Alpha                    │ 0.8657494187355042      │\n",
       "│ Misc/FinalStepNorm            │ 0.2926245927810669      │\n",
       "│ Misc/gradient_norm            │ 0.1489177644252777      │\n",
       "│ Misc/xHx                      │ 0.026683660224080086    │\n",
       "│ Misc/H_inv_g                  │ 0.25118741393089294     │\n",
       "│ Misc/AcceptanceStep           │ 1.0                     │\n",
       "│ Misc/cost_gradient_norm       │ 0.2314281463623047      │\n",
       "│ Misc/A                        │ 0.025822021067142487    │\n",
       "│ Misc/B                        │ -5964.3427734375        │\n",
       "│ Misc/q                        │ 0.026683660224080086    │\n",
       "│ Misc/r                        │ 0.009631356224417686    │\n",
       "│ Misc/s                        │ 0.10765869915485382     │\n",
       "│ Misc/Lambda_star              │ 0.0                     │\n",
       "│ Misc/Nu_star                  │ 0.4310130476951599      │\n",
       "│ Misc/OptimCase                │ 0.0                     │\n",
       "└───────────────────────────────┴─────────────────────────┘\n",
       "</pre>\n"
      ],
      "text/plain": [
       "┏━━━━━━━━━━━━━━━━━━━━━━━━━━━━━━━┳━━━━━━━━━━━━━━━━━━━━━━━━━┓\n",
       "┃\u001b[1m \u001b[0m\u001b[1mMetrics                      \u001b[0m\u001b[1m \u001b[0m┃\u001b[1m \u001b[0m\u001b[1mValue                  \u001b[0m\u001b[1m \u001b[0m┃\n",
       "┡━━━━━━━━━━━━━━━━━━━━━━━━━━━━━━━╇━━━━━━━━━━━━━━━━━━━━━━━━━┩\n",
       "│ Metrics/EpRet                 │ 4.150094509124756       │\n",
       "│ Metrics/EpCost                │ 50.34000015258789       │\n",
       "│ Metrics/EpLen                 │ 1000.0                  │\n",
       "│ Train/Epoch                   │ 18.0                    │\n",
       "│ Train/Entropy                 │ 1.3839292526245117      │\n",
       "│ Train/KL                      │ 0.00017394035239703953  │\n",
       "│ Train/StopIter                │ 10.0                    │\n",
       "│ Train/PolicyRatio/Mean        │ 1.000550627708435       │\n",
       "│ Train/PolicyRatio/Min         │ 1.000550627708435       │\n",
       "│ Train/PolicyRatio/Max         │ 1.000550627708435       │\n",
       "│ Train/PolicyRatio/Std         │ 0.00038938067154958844  │\n",
       "│ Train/LR                      │ 0.0                     │\n",
       "│ Train/PolicyStd               │ 0.9686794877052307      │\n",
       "│ TotalEnvSteps                 │ 380000.0                │\n",
       "│ Loss/Loss_pi                  │ -0.007751628756523132   │\n",
       "│ Loss/Loss_pi/Delta            │ -0.00017610518261790276 │\n",
       "│ Value/Adv                     │ -6.103515470812226e-09  │\n",
       "│ Loss/Loss_reward_critic       │ 0.011255293153226376    │\n",
       "│ Loss/Loss_reward_critic/Delta │ -0.0024279672652482986  │\n",
       "│ Value/reward                  │ 0.2006371170282364      │\n",
       "│ Loss/Loss_cost_critic         │ 1.391646385192871       │\n",
       "│ Loss/Loss_cost_critic/Delta   │ -0.20306134223937988    │\n",
       "│ Value/cost                    │ 2.884725332260132       │\n",
       "│ Time/Total                    │ 1143.568603515625       │\n",
       "│ Time/Rollout                  │ 49.7613410949707        │\n",
       "│ Time/Update                   │ 13.100049018859863      │\n",
       "│ Time/Epoch                    │ 62.86138916015625       │\n",
       "│ Time/FPS                      │ 318.1603088378906       │\n",
       "│ Misc/Alpha                    │ 0.8657494187355042      │\n",
       "│ Misc/FinalStepNorm            │ 0.2926245927810669      │\n",
       "│ Misc/gradient_norm            │ 0.1489177644252777      │\n",
       "│ Misc/xHx                      │ 0.026683660224080086    │\n",
       "│ Misc/H_inv_g                  │ 0.25118741393089294     │\n",
       "│ Misc/AcceptanceStep           │ 1.0                     │\n",
       "│ Misc/cost_gradient_norm       │ 0.2314281463623047      │\n",
       "│ Misc/A                        │ 0.025822021067142487    │\n",
       "│ Misc/B                        │ -5964.3427734375        │\n",
       "│ Misc/q                        │ 0.026683660224080086    │\n",
       "│ Misc/r                        │ 0.009631356224417686    │\n",
       "│ Misc/s                        │ 0.10765869915485382     │\n",
       "│ Misc/Lambda_star              │ 0.0                     │\n",
       "│ Misc/Nu_star                  │ 0.4310130476951599      │\n",
       "│ Misc/OptimCase                │ 0.0                     │\n",
       "└───────────────────────────────┴─────────────────────────┘\n"
      ]
     },
     "metadata": {},
     "output_type": "display_data"
    },
    {
     "data": {
      "text/html": [
       "<pre style=\"white-space:pre;overflow-x:auto;line-height:normal;font-family:Menlo,'DejaVu Sans Mono',consolas,'Courier New',monospace\"><span style=\"color: #008000; text-decoration-color: #008000\">Warning: trajectory cut off when rollout by epoch at </span><span style=\"color: #008080; text-decoration-color: #008080; font-weight: bold\">1000.0</span><span style=\"color: #008000; text-decoration-color: #008000\"> steps.</span>\n",
       "</pre>\n"
      ],
      "text/plain": [
       "\u001b[32mWarning: trajectory cut off when rollout by epoch at \u001b[0m\u001b[1;36m1000.0\u001b[0m\u001b[32m steps.\u001b[0m\n"
      ]
     },
     "metadata": {},
     "output_type": "display_data"
    },
    {
     "data": {
      "text/html": [
       "<pre style=\"white-space:pre;overflow-x:auto;line-height:normal;font-family:Menlo,'DejaVu Sans Mono',consolas,'Courier New',monospace\"><span style=\"color: #008000; text-decoration-color: #008000\">Warning: trajectory cut off when rollout by epoch at </span><span style=\"color: #008080; text-decoration-color: #008080; font-weight: bold\">1000.0</span><span style=\"color: #008000; text-decoration-color: #008000\"> steps.</span>\n",
       "</pre>\n"
      ],
      "text/plain": [
       "\u001b[32mWarning: trajectory cut off when rollout by epoch at \u001b[0m\u001b[1;36m1000.0\u001b[0m\u001b[32m steps.\u001b[0m\n"
      ]
     },
     "metadata": {},
     "output_type": "display_data"
    },
    {
     "data": {
      "text/html": [
       "<pre style=\"white-space:pre;overflow-x:auto;line-height:normal;font-family:Menlo,'DejaVu Sans Mono',consolas,'Courier New',monospace\"><span style=\"color: #008000; text-decoration-color: #008000\">Warning: trajectory cut off when rollout by epoch at </span><span style=\"color: #008080; text-decoration-color: #008080; font-weight: bold\">1000.0</span><span style=\"color: #008000; text-decoration-color: #008000\"> steps.</span>\n",
       "</pre>\n"
      ],
      "text/plain": [
       "\u001b[32mWarning: trajectory cut off when rollout by epoch at \u001b[0m\u001b[1;36m1000.0\u001b[0m\u001b[32m steps.\u001b[0m\n"
      ]
     },
     "metadata": {},
     "output_type": "display_data"
    },
    {
     "data": {
      "text/html": [
       "<pre style=\"white-space:pre;overflow-x:auto;line-height:normal;font-family:Menlo,'DejaVu Sans Mono',consolas,'Courier New',monospace\"><span style=\"color: #008000; text-decoration-color: #008000\">Warning: trajectory cut off when rollout by epoch at </span><span style=\"color: #008080; text-decoration-color: #008080; font-weight: bold\">1000.0</span><span style=\"color: #008000; text-decoration-color: #008000\"> steps.</span>\n",
       "</pre>\n"
      ],
      "text/plain": [
       "\u001b[32mWarning: trajectory cut off when rollout by epoch at \u001b[0m\u001b[1;36m1000.0\u001b[0m\u001b[32m steps.\u001b[0m\n"
      ]
     },
     "metadata": {},
     "output_type": "display_data"
    },
    {
     "data": {
      "text/html": [
       "<pre style=\"white-space:pre;overflow-x:auto;line-height:normal;font-family:Menlo,'DejaVu Sans Mono',consolas,'Courier New',monospace\"></pre>\n"
      ],
      "text/plain": []
     },
     "metadata": {},
     "output_type": "display_data"
    },
    {
     "data": {
      "text/html": [
       "<pre style=\"white-space:pre;overflow-x:auto;line-height:normal;font-family:Menlo,'DejaVu Sans Mono',consolas,'Courier New',monospace\">\n",
       "</pre>\n"
      ],
      "text/plain": [
       "\n"
      ]
     },
     "metadata": {},
     "output_type": "display_data"
    },
    {
     "data": {
      "text/html": [
       "<pre style=\"white-space:pre;overflow-x:auto;line-height:normal;font-family:Menlo,'DejaVu Sans Mono',consolas,'Courier New',monospace\"><span style=\"color: #800000; text-decoration-color: #800000\">Alert! Attempting infeasible recovery!</span>\n",
       "</pre>\n"
      ],
      "text/plain": [
       "\u001b[31mAlert! Attempting infeasible recovery!\u001b[0m\n"
      ]
     },
     "metadata": {},
     "output_type": "display_data"
    },
    {
     "data": {
      "text/html": [
       "<pre style=\"white-space:pre;overflow-x:auto;line-height:normal;font-family:Menlo,'DejaVu Sans Mono',consolas,'Courier New',monospace\"><span style=\"color: #008000; text-decoration-color: #008000\">Expected Improvement: </span><span style=\"color: #008080; text-decoration-color: #008080; font-weight: bold\">-0.0030705889221280813</span><span style=\"color: #008000; text-decoration-color: #008000\"> Actual: </span><span style=\"color: #008080; text-decoration-color: #008080; font-weight: bold\">-0.00295050791464746</span>\n",
       "</pre>\n"
      ],
      "text/plain": [
       "\u001b[32mExpected Improvement: \u001b[0m\u001b[1;36m-0.0030705889221280813\u001b[0m\u001b[32m Actual: \u001b[0m\u001b[1;36m-0.00295050791464746\u001b[0m\n"
      ]
     },
     "metadata": {},
     "output_type": "display_data"
    },
    {
     "data": {
      "text/html": [
       "<pre style=\"white-space:pre;overflow-x:auto;line-height:normal;font-family:Menlo,'DejaVu Sans Mono',consolas,'Courier New',monospace\"><span style=\"color: #008000; text-decoration-color: #008000\">Accept step at </span><span style=\"color: #808000; text-decoration-color: #808000\">i</span><span style=\"color: #008000; text-decoration-color: #008000\">=</span><span style=\"color: #008080; text-decoration-color: #008080; font-weight: bold\">1</span>\n",
       "</pre>\n"
      ],
      "text/plain": [
       "\u001b[32mAccept step at \u001b[0m\u001b[33mi\u001b[0m\u001b[32m=\u001b[0m\u001b[1;36m1\u001b[0m\n"
      ]
     },
     "metadata": {},
     "output_type": "display_data"
    },
    {
     "data": {
      "text/html": [
       "<pre style=\"white-space:pre;overflow-x:auto;line-height:normal;font-family:Menlo,'DejaVu Sans Mono',consolas,'Courier New',monospace\">┏━━━━━━━━━━━━━━━━━━━━━━━━━━━━━━━┳━━━━━━━━━━━━━━━━━━━━━━━┓\n",
       "┃<span style=\"font-weight: bold\"> Metrics                       </span>┃<span style=\"font-weight: bold\"> Value                 </span>┃\n",
       "┡━━━━━━━━━━━━━━━━━━━━━━━━━━━━━━━╇━━━━━━━━━━━━━━━━━━━━━━━┩\n",
       "│ Metrics/EpRet                 │ 3.99794340133667      │\n",
       "│ Metrics/EpCost                │ 44.459999084472656    │\n",
       "│ Metrics/EpLen                 │ 1000.0                │\n",
       "│ Train/Epoch                   │ 19.0                  │\n",
       "│ Train/Entropy                 │ 1.372635841369629     │\n",
       "│ Train/KL                      │ 0.0001520977239124477 │\n",
       "│ Train/StopIter                │ 10.0                  │\n",
       "│ Train/PolicyRatio/Mean        │ 0.9992960095405579    │\n",
       "│ Train/PolicyRatio/Min         │ 0.9992960691452026    │\n",
       "│ Train/PolicyRatio/Max         │ 0.9992960691452026    │\n",
       "│ Train/PolicyRatio/Std         │ 0.0004977543139830232 │\n",
       "│ Train/LR                      │ 0.0                   │\n",
       "│ Train/PolicyStd               │ 0.9590938687324524    │\n",
       "│ TotalEnvSteps                 │ 400000.0              │\n",
       "│ Loss/Loss_pi                  │ -0.006928203161805868 │\n",
       "│ Loss/Loss_pi/Delta            │ 0.0008234255947172642 │\n",
       "│ Value/Adv                     │ 9.155272984173735e-09 │\n",
       "│ Loss/Loss_reward_critic       │ 0.014512087218463421  │\n",
       "│ Loss/Loss_reward_critic/Delta │ 0.0032567940652370453 │\n",
       "│ Value/reward                  │ 0.21578726172447205   │\n",
       "│ Loss/Loss_cost_critic         │ 0.892959713935852     │\n",
       "│ Loss/Loss_cost_critic/Delta   │ -0.49868667125701904  │\n",
       "│ Value/cost                    │ 2.3320398330688477    │\n",
       "│ Time/Total                    │ 1204.8707275390625    │\n",
       "│ Time/Rollout                  │ 48.014217376708984    │\n",
       "│ Time/Update                   │ 13.250933647155762    │\n",
       "│ Time/Epoch                    │ 61.26515197753906     │\n",
       "│ Time/FPS                      │ 326.4498596191406     │\n",
       "│ Misc/Alpha                    │ 0.8992886543273926    │\n",
       "│ Misc/FinalStepNorm            │ 0.3087092936038971    │\n",
       "│ Misc/gradient_norm            │ 0.1280723363161087    │\n",
       "│ Misc/xHx                      │ 0.02473042532801628   │\n",
       "│ Misc/H_inv_g                  │ 0.2686850428581238    │\n",
       "│ Misc/AcceptanceStep           │ 1.0                   │\n",
       "│ Misc/cost_gradient_norm       │ 0.17505799233913422   │\n",
       "│ Misc/A                        │ 0.024258999153971672  │\n",
       "│ Misc/B                        │ -5212.857421875       │\n",
       "│ Misc/q                        │ 0.02473042532801628   │\n",
       "│ Misc/r                        │ 0.005852086469531059  │\n",
       "│ Misc/s                        │ 0.0726453885436058    │\n",
       "│ Misc/Lambda_star              │ 0.0                   │\n",
       "│ Misc/Nu_star                  │ 0.524699866771698     │\n",
       "│ Misc/OptimCase                │ 0.0                   │\n",
       "└───────────────────────────────┴───────────────────────┘\n",
       "</pre>\n"
      ],
      "text/plain": [
       "┏━━━━━━━━━━━━━━━━━━━━━━━━━━━━━━━┳━━━━━━━━━━━━━━━━━━━━━━━┓\n",
       "┃\u001b[1m \u001b[0m\u001b[1mMetrics                      \u001b[0m\u001b[1m \u001b[0m┃\u001b[1m \u001b[0m\u001b[1mValue                \u001b[0m\u001b[1m \u001b[0m┃\n",
       "┡━━━━━━━━━━━━━━━━━━━━━━━━━━━━━━━╇━━━━━━━━━━━━━━━━━━━━━━━┩\n",
       "│ Metrics/EpRet                 │ 3.99794340133667      │\n",
       "│ Metrics/EpCost                │ 44.459999084472656    │\n",
       "│ Metrics/EpLen                 │ 1000.0                │\n",
       "│ Train/Epoch                   │ 19.0                  │\n",
       "│ Train/Entropy                 │ 1.372635841369629     │\n",
       "│ Train/KL                      │ 0.0001520977239124477 │\n",
       "│ Train/StopIter                │ 10.0                  │\n",
       "│ Train/PolicyRatio/Mean        │ 0.9992960095405579    │\n",
       "│ Train/PolicyRatio/Min         │ 0.9992960691452026    │\n",
       "│ Train/PolicyRatio/Max         │ 0.9992960691452026    │\n",
       "│ Train/PolicyRatio/Std         │ 0.0004977543139830232 │\n",
       "│ Train/LR                      │ 0.0                   │\n",
       "│ Train/PolicyStd               │ 0.9590938687324524    │\n",
       "│ TotalEnvSteps                 │ 400000.0              │\n",
       "│ Loss/Loss_pi                  │ -0.006928203161805868 │\n",
       "│ Loss/Loss_pi/Delta            │ 0.0008234255947172642 │\n",
       "│ Value/Adv                     │ 9.155272984173735e-09 │\n",
       "│ Loss/Loss_reward_critic       │ 0.014512087218463421  │\n",
       "│ Loss/Loss_reward_critic/Delta │ 0.0032567940652370453 │\n",
       "│ Value/reward                  │ 0.21578726172447205   │\n",
       "│ Loss/Loss_cost_critic         │ 0.892959713935852     │\n",
       "│ Loss/Loss_cost_critic/Delta   │ -0.49868667125701904  │\n",
       "│ Value/cost                    │ 2.3320398330688477    │\n",
       "│ Time/Total                    │ 1204.8707275390625    │\n",
       "│ Time/Rollout                  │ 48.014217376708984    │\n",
       "│ Time/Update                   │ 13.250933647155762    │\n",
       "│ Time/Epoch                    │ 61.26515197753906     │\n",
       "│ Time/FPS                      │ 326.4498596191406     │\n",
       "│ Misc/Alpha                    │ 0.8992886543273926    │\n",
       "│ Misc/FinalStepNorm            │ 0.3087092936038971    │\n",
       "│ Misc/gradient_norm            │ 0.1280723363161087    │\n",
       "│ Misc/xHx                      │ 0.02473042532801628   │\n",
       "│ Misc/H_inv_g                  │ 0.2686850428581238    │\n",
       "│ Misc/AcceptanceStep           │ 1.0                   │\n",
       "│ Misc/cost_gradient_norm       │ 0.17505799233913422   │\n",
       "│ Misc/A                        │ 0.024258999153971672  │\n",
       "│ Misc/B                        │ -5212.857421875       │\n",
       "│ Misc/q                        │ 0.02473042532801628   │\n",
       "│ Misc/r                        │ 0.005852086469531059  │\n",
       "│ Misc/s                        │ 0.0726453885436058    │\n",
       "│ Misc/Lambda_star              │ 0.0                   │\n",
       "│ Misc/Nu_star                  │ 0.524699866771698     │\n",
       "│ Misc/OptimCase                │ 0.0                   │\n",
       "└───────────────────────────────┴───────────────────────┘\n"
      ]
     },
     "metadata": {},
     "output_type": "display_data"
    },
    {
     "data": {
      "text/html": [
       "<pre style=\"white-space:pre;overflow-x:auto;line-height:normal;font-family:Menlo,'DejaVu Sans Mono',consolas,'Courier New',monospace\"><span style=\"color: #008000; text-decoration-color: #008000\">Warning: trajectory cut off when rollout by epoch at </span><span style=\"color: #008080; text-decoration-color: #008080; font-weight: bold\">1000.0</span><span style=\"color: #008000; text-decoration-color: #008000\"> steps.</span>\n",
       "</pre>\n"
      ],
      "text/plain": [
       "\u001b[32mWarning: trajectory cut off when rollout by epoch at \u001b[0m\u001b[1;36m1000.0\u001b[0m\u001b[32m steps.\u001b[0m\n"
      ]
     },
     "metadata": {},
     "output_type": "display_data"
    },
    {
     "data": {
      "text/html": [
       "<pre style=\"white-space:pre;overflow-x:auto;line-height:normal;font-family:Menlo,'DejaVu Sans Mono',consolas,'Courier New',monospace\"><span style=\"color: #008000; text-decoration-color: #008000\">Warning: trajectory cut off when rollout by epoch at </span><span style=\"color: #008080; text-decoration-color: #008080; font-weight: bold\">1000.0</span><span style=\"color: #008000; text-decoration-color: #008000\"> steps.</span>\n",
       "</pre>\n"
      ],
      "text/plain": [
       "\u001b[32mWarning: trajectory cut off when rollout by epoch at \u001b[0m\u001b[1;36m1000.0\u001b[0m\u001b[32m steps.\u001b[0m\n"
      ]
     },
     "metadata": {},
     "output_type": "display_data"
    },
    {
     "data": {
      "text/html": [
       "<pre style=\"white-space:pre;overflow-x:auto;line-height:normal;font-family:Menlo,'DejaVu Sans Mono',consolas,'Courier New',monospace\"><span style=\"color: #008000; text-decoration-color: #008000\">Warning: trajectory cut off when rollout by epoch at </span><span style=\"color: #008080; text-decoration-color: #008080; font-weight: bold\">1000.0</span><span style=\"color: #008000; text-decoration-color: #008000\"> steps.</span>\n",
       "</pre>\n"
      ],
      "text/plain": [
       "\u001b[32mWarning: trajectory cut off when rollout by epoch at \u001b[0m\u001b[1;36m1000.0\u001b[0m\u001b[32m steps.\u001b[0m\n"
      ]
     },
     "metadata": {},
     "output_type": "display_data"
    },
    {
     "data": {
      "text/html": [
       "<pre style=\"white-space:pre;overflow-x:auto;line-height:normal;font-family:Menlo,'DejaVu Sans Mono',consolas,'Courier New',monospace\"><span style=\"color: #008000; text-decoration-color: #008000\">Warning: trajectory cut off when rollout by epoch at </span><span style=\"color: #008080; text-decoration-color: #008080; font-weight: bold\">1000.0</span><span style=\"color: #008000; text-decoration-color: #008000\"> steps.</span>\n",
       "</pre>\n"
      ],
      "text/plain": [
       "\u001b[32mWarning: trajectory cut off when rollout by epoch at \u001b[0m\u001b[1;36m1000.0\u001b[0m\u001b[32m steps.\u001b[0m\n"
      ]
     },
     "metadata": {},
     "output_type": "display_data"
    },
    {
     "data": {
      "text/html": [
       "<pre style=\"white-space:pre;overflow-x:auto;line-height:normal;font-family:Menlo,'DejaVu Sans Mono',consolas,'Courier New',monospace\"></pre>\n"
      ],
      "text/plain": []
     },
     "metadata": {},
     "output_type": "display_data"
    },
    {
     "data": {
      "text/html": [
       "<pre style=\"white-space:pre;overflow-x:auto;line-height:normal;font-family:Menlo,'DejaVu Sans Mono',consolas,'Courier New',monospace\">\n",
       "</pre>\n"
      ],
      "text/plain": [
       "\n"
      ]
     },
     "metadata": {},
     "output_type": "display_data"
    },
    {
     "data": {
      "text/html": [
       "<pre style=\"white-space:pre;overflow-x:auto;line-height:normal;font-family:Menlo,'DejaVu Sans Mono',consolas,'Courier New',monospace\"><span style=\"color: #008000; text-decoration-color: #008000\">Expected Improvement: </span><span style=\"color: #008080; text-decoration-color: #008080; font-weight: bold\">0.025662433356046677</span><span style=\"color: #008000; text-decoration-color: #008000\"> Actual: </span><span style=\"color: #008080; text-decoration-color: #008080; font-weight: bold\">0.026654519140720367</span>\n",
       "</pre>\n"
      ],
      "text/plain": [
       "\u001b[32mExpected Improvement: \u001b[0m\u001b[1;36m0.025662433356046677\u001b[0m\u001b[32m Actual: \u001b[0m\u001b[1;36m0.026654519140720367\u001b[0m\n"
      ]
     },
     "metadata": {},
     "output_type": "display_data"
    },
    {
     "data": {
      "text/html": [
       "<pre style=\"white-space:pre;overflow-x:auto;line-height:normal;font-family:Menlo,'DejaVu Sans Mono',consolas,'Courier New',monospace\"><span style=\"color: #008000; text-decoration-color: #008000\">Accept step at </span><span style=\"color: #808000; text-decoration-color: #808000\">i</span><span style=\"color: #008000; text-decoration-color: #008000\">=</span><span style=\"color: #008080; text-decoration-color: #008080; font-weight: bold\">1</span>\n",
       "</pre>\n"
      ],
      "text/plain": [
       "\u001b[32mAccept step at \u001b[0m\u001b[33mi\u001b[0m\u001b[32m=\u001b[0m\u001b[1;36m1\u001b[0m\n"
      ]
     },
     "metadata": {},
     "output_type": "display_data"
    },
    {
     "data": {
      "text/html": [
       "<pre style=\"white-space:pre;overflow-x:auto;line-height:normal;font-family:Menlo,'DejaVu Sans Mono',consolas,'Courier New',monospace\">┏━━━━━━━━━━━━━━━━━━━━━━━━━━━━━━━┳━━━━━━━━━━━━━━━━━━━━━━━━┓\n",
       "┃<span style=\"font-weight: bold\"> Metrics                       </span>┃<span style=\"font-weight: bold\"> Value                  </span>┃\n",
       "┡━━━━━━━━━━━━━━━━━━━━━━━━━━━━━━━╇━━━━━━━━━━━━━━━━━━━━━━━━┩\n",
       "│ Metrics/EpRet                 │ 2.6556286811828613     │\n",
       "│ Metrics/EpCost                │ 24.68000030517578      │\n",
       "│ Metrics/EpLen                 │ 1000.0                 │\n",
       "│ Train/Epoch                   │ 20.0                   │\n",
       "│ Train/Entropy                 │ 1.369135856628418      │\n",
       "│ Train/KL                      │ 0.00024674064479768276 │\n",
       "│ Train/StopIter                │ 10.0                   │\n",
       "│ Train/PolicyRatio/Mean        │ 1.0001386404037476     │\n",
       "│ Train/PolicyRatio/Min         │ 1.0001386404037476     │\n",
       "│ Train/PolicyRatio/Max         │ 1.0001386404037476     │\n",
       "│ Train/PolicyRatio/Std         │ 9.794934885576367e-05  │\n",
       "│ Train/LR                      │ 0.0                    │\n",
       "│ Train/PolicyStd               │ 0.9559235572814941     │\n",
       "│ TotalEnvSteps                 │ 420000.0               │\n",
       "│ Loss/Loss_pi                  │ -0.01997394487261772   │\n",
       "│ Loss/Loss_pi/Delta            │ -0.013045741710811853  │\n",
       "│ Value/Adv                     │ 8.77380390562621e-09   │\n",
       "│ Loss/Loss_reward_critic       │ 0.00976573210209608    │\n",
       "│ Loss/Loss_reward_critic/Delta │ -0.00474635511636734   │\n",
       "│ Value/reward                  │ 0.17285121977329254    │\n",
       "│ Loss/Loss_cost_critic         │ 0.5943087339401245     │\n",
       "│ Loss/Loss_cost_critic/Delta   │ -0.29865097999572754   │\n",
       "│ Value/cost                    │ 2.344391345977783      │\n",
       "│ Time/Total                    │ 1268.488525390625      │\n",
       "│ Time/Rollout                  │ 49.99580383300781      │\n",
       "│ Time/Update                   │ 13.579984664916992     │\n",
       "│ Time/Epoch                    │ 63.57579040527344      │\n",
       "│ Time/FPS                      │ 314.58514404296875     │\n",
       "│ Misc/Alpha                    │ 0.7799333930015564     │\n",
       "│ Misc/FinalStepNorm            │ 0.20484906435012817    │\n",
       "│ Misc/gradient_norm            │ 0.18587857484817505    │\n",
       "│ Misc/xHx                      │ 0.03287871181964874    │\n",
       "│ Misc/H_inv_g                  │ 0.26264941692352295    │\n",
       "│ Misc/AcceptanceStep           │ 1.0                    │\n",
       "│ Misc/cost_gradient_norm       │ 0.11225061863660812    │\n",
       "│ Misc/A                        │ 0.03287867084145546    │\n",
       "│ Misc/B                        │ -3.5206284523010254    │\n",
       "│ Misc/q                        │ 0.03287871181964874    │\n",
       "│ Misc/r                        │ -3.439275315031409e-05 │\n",
       "│ Misc/s                        │ 0.028921356424689293   │\n",
       "│ Misc/Lambda_star              │ 1.282160758972168      │\n",
       "│ Misc/Nu_star                  │ 0.0                    │\n",
       "│ Misc/OptimCase                │ 3.0                    │\n",
       "└───────────────────────────────┴────────────────────────┘\n",
       "</pre>\n"
      ],
      "text/plain": [
       "┏━━━━━━━━━━━━━━━━━━━━━━━━━━━━━━━┳━━━━━━━━━━━━━━━━━━━━━━━━┓\n",
       "┃\u001b[1m \u001b[0m\u001b[1mMetrics                      \u001b[0m\u001b[1m \u001b[0m┃\u001b[1m \u001b[0m\u001b[1mValue                 \u001b[0m\u001b[1m \u001b[0m┃\n",
       "┡━━━━━━━━━━━━━━━━━━━━━━━━━━━━━━━╇━━━━━━━━━━━━━━━━━━━━━━━━┩\n",
       "│ Metrics/EpRet                 │ 2.6556286811828613     │\n",
       "│ Metrics/EpCost                │ 24.68000030517578      │\n",
       "│ Metrics/EpLen                 │ 1000.0                 │\n",
       "│ Train/Epoch                   │ 20.0                   │\n",
       "│ Train/Entropy                 │ 1.369135856628418      │\n",
       "│ Train/KL                      │ 0.00024674064479768276 │\n",
       "│ Train/StopIter                │ 10.0                   │\n",
       "│ Train/PolicyRatio/Mean        │ 1.0001386404037476     │\n",
       "│ Train/PolicyRatio/Min         │ 1.0001386404037476     │\n",
       "│ Train/PolicyRatio/Max         │ 1.0001386404037476     │\n",
       "│ Train/PolicyRatio/Std         │ 9.794934885576367e-05  │\n",
       "│ Train/LR                      │ 0.0                    │\n",
       "│ Train/PolicyStd               │ 0.9559235572814941     │\n",
       "│ TotalEnvSteps                 │ 420000.0               │\n",
       "│ Loss/Loss_pi                  │ -0.01997394487261772   │\n",
       "│ Loss/Loss_pi/Delta            │ -0.013045741710811853  │\n",
       "│ Value/Adv                     │ 8.77380390562621e-09   │\n",
       "│ Loss/Loss_reward_critic       │ 0.00976573210209608    │\n",
       "│ Loss/Loss_reward_critic/Delta │ -0.00474635511636734   │\n",
       "│ Value/reward                  │ 0.17285121977329254    │\n",
       "│ Loss/Loss_cost_critic         │ 0.5943087339401245     │\n",
       "│ Loss/Loss_cost_critic/Delta   │ -0.29865097999572754   │\n",
       "│ Value/cost                    │ 2.344391345977783      │\n",
       "│ Time/Total                    │ 1268.488525390625      │\n",
       "│ Time/Rollout                  │ 49.99580383300781      │\n",
       "│ Time/Update                   │ 13.579984664916992     │\n",
       "│ Time/Epoch                    │ 63.57579040527344      │\n",
       "│ Time/FPS                      │ 314.58514404296875     │\n",
       "│ Misc/Alpha                    │ 0.7799333930015564     │\n",
       "│ Misc/FinalStepNorm            │ 0.20484906435012817    │\n",
       "│ Misc/gradient_norm            │ 0.18587857484817505    │\n",
       "│ Misc/xHx                      │ 0.03287871181964874    │\n",
       "│ Misc/H_inv_g                  │ 0.26264941692352295    │\n",
       "│ Misc/AcceptanceStep           │ 1.0                    │\n",
       "│ Misc/cost_gradient_norm       │ 0.11225061863660812    │\n",
       "│ Misc/A                        │ 0.03287867084145546    │\n",
       "│ Misc/B                        │ -3.5206284523010254    │\n",
       "│ Misc/q                        │ 0.03287871181964874    │\n",
       "│ Misc/r                        │ -3.439275315031409e-05 │\n",
       "│ Misc/s                        │ 0.028921356424689293   │\n",
       "│ Misc/Lambda_star              │ 1.282160758972168      │\n",
       "│ Misc/Nu_star                  │ 0.0                    │\n",
       "│ Misc/OptimCase                │ 3.0                    │\n",
       "└───────────────────────────────┴────────────────────────┘\n"
      ]
     },
     "metadata": {},
     "output_type": "display_data"
    },
    {
     "data": {
      "text/html": [
       "<pre style=\"white-space:pre;overflow-x:auto;line-height:normal;font-family:Menlo,'DejaVu Sans Mono',consolas,'Courier New',monospace\"><span style=\"color: #008000; text-decoration-color: #008000\">Warning: trajectory cut off when rollout by epoch at </span><span style=\"color: #008080; text-decoration-color: #008080; font-weight: bold\">1000.0</span><span style=\"color: #008000; text-decoration-color: #008000\"> steps.</span>\n",
       "</pre>\n"
      ],
      "text/plain": [
       "\u001b[32mWarning: trajectory cut off when rollout by epoch at \u001b[0m\u001b[1;36m1000.0\u001b[0m\u001b[32m steps.\u001b[0m\n"
      ]
     },
     "metadata": {},
     "output_type": "display_data"
    },
    {
     "data": {
      "text/html": [
       "<pre style=\"white-space:pre;overflow-x:auto;line-height:normal;font-family:Menlo,'DejaVu Sans Mono',consolas,'Courier New',monospace\"><span style=\"color: #008000; text-decoration-color: #008000\">Warning: trajectory cut off when rollout by epoch at </span><span style=\"color: #008080; text-decoration-color: #008080; font-weight: bold\">1000.0</span><span style=\"color: #008000; text-decoration-color: #008000\"> steps.</span>\n",
       "</pre>\n"
      ],
      "text/plain": [
       "\u001b[32mWarning: trajectory cut off when rollout by epoch at \u001b[0m\u001b[1;36m1000.0\u001b[0m\u001b[32m steps.\u001b[0m\n"
      ]
     },
     "metadata": {},
     "output_type": "display_data"
    },
    {
     "data": {
      "text/html": [
       "<pre style=\"white-space:pre;overflow-x:auto;line-height:normal;font-family:Menlo,'DejaVu Sans Mono',consolas,'Courier New',monospace\"><span style=\"color: #008000; text-decoration-color: #008000\">Warning: trajectory cut off when rollout by epoch at </span><span style=\"color: #008080; text-decoration-color: #008080; font-weight: bold\">1000.0</span><span style=\"color: #008000; text-decoration-color: #008000\"> steps.</span>\n",
       "</pre>\n"
      ],
      "text/plain": [
       "\u001b[32mWarning: trajectory cut off when rollout by epoch at \u001b[0m\u001b[1;36m1000.0\u001b[0m\u001b[32m steps.\u001b[0m\n"
      ]
     },
     "metadata": {},
     "output_type": "display_data"
    },
    {
     "data": {
      "text/html": [
       "<pre style=\"white-space:pre;overflow-x:auto;line-height:normal;font-family:Menlo,'DejaVu Sans Mono',consolas,'Courier New',monospace\"><span style=\"color: #008000; text-decoration-color: #008000\">Warning: trajectory cut off when rollout by epoch at </span><span style=\"color: #008080; text-decoration-color: #008080; font-weight: bold\">1000.0</span><span style=\"color: #008000; text-decoration-color: #008000\"> steps.</span>\n",
       "</pre>\n"
      ],
      "text/plain": [
       "\u001b[32mWarning: trajectory cut off when rollout by epoch at \u001b[0m\u001b[1;36m1000.0\u001b[0m\u001b[32m steps.\u001b[0m\n"
      ]
     },
     "metadata": {},
     "output_type": "display_data"
    },
    {
     "data": {
      "text/html": [
       "<pre style=\"white-space:pre;overflow-x:auto;line-height:normal;font-family:Menlo,'DejaVu Sans Mono',consolas,'Courier New',monospace\"></pre>\n"
      ],
      "text/plain": []
     },
     "metadata": {},
     "output_type": "display_data"
    },
    {
     "data": {
      "text/html": [
       "<pre style=\"white-space:pre;overflow-x:auto;line-height:normal;font-family:Menlo,'DejaVu Sans Mono',consolas,'Courier New',monospace\">\n",
       "</pre>\n"
      ],
      "text/plain": [
       "\n"
      ]
     },
     "metadata": {},
     "output_type": "display_data"
    },
    {
     "data": {
      "text/html": [
       "<pre style=\"white-space:pre;overflow-x:auto;line-height:normal;font-family:Menlo,'DejaVu Sans Mono',consolas,'Courier New',monospace\"><span style=\"color: #008000; text-decoration-color: #008000\">Expected Improvement: </span><span style=\"color: #008080; text-decoration-color: #008080; font-weight: bold\">0.02250012941658497</span><span style=\"color: #008000; text-decoration-color: #008000\"> Actual: </span><span style=\"color: #008080; text-decoration-color: #008080; font-weight: bold\">0.022356627508997917</span>\n",
       "</pre>\n"
      ],
      "text/plain": [
       "\u001b[32mExpected Improvement: \u001b[0m\u001b[1;36m0.02250012941658497\u001b[0m\u001b[32m Actual: \u001b[0m\u001b[1;36m0.022356627508997917\u001b[0m\n"
      ]
     },
     "metadata": {},
     "output_type": "display_data"
    },
    {
     "data": {
      "text/html": [
       "<pre style=\"white-space:pre;overflow-x:auto;line-height:normal;font-family:Menlo,'DejaVu Sans Mono',consolas,'Courier New',monospace\"><span style=\"color: #008000; text-decoration-color: #008000\">Accept step at </span><span style=\"color: #808000; text-decoration-color: #808000\">i</span><span style=\"color: #008000; text-decoration-color: #008000\">=</span><span style=\"color: #008080; text-decoration-color: #008080; font-weight: bold\">1</span>\n",
       "</pre>\n"
      ],
      "text/plain": [
       "\u001b[32mAccept step at \u001b[0m\u001b[33mi\u001b[0m\u001b[32m=\u001b[0m\u001b[1;36m1\u001b[0m\n"
      ]
     },
     "metadata": {},
     "output_type": "display_data"
    },
    {
     "data": {
      "text/html": [
       "<pre style=\"white-space:pre;overflow-x:auto;line-height:normal;font-family:Menlo,'DejaVu Sans Mono',consolas,'Courier New',monospace\">┏━━━━━━━━━━━━━━━━━━━━━━━━━━━━━━━┳━━━━━━━━━━━━━━━━━━━━━━━━┓\n",
       "┃<span style=\"font-weight: bold\"> Metrics                       </span>┃<span style=\"font-weight: bold\"> Value                  </span>┃\n",
       "┡━━━━━━━━━━━━━━━━━━━━━━━━━━━━━━━╇━━━━━━━━━━━━━━━━━━━━━━━━┩\n",
       "│ Metrics/EpRet                 │ 3.744457483291626      │\n",
       "│ Metrics/EpCost                │ 23.959999084472656     │\n",
       "│ Metrics/EpLen                 │ 1000.0                 │\n",
       "│ Train/Epoch                   │ 21.0                   │\n",
       "│ Train/Entropy                 │ 1.3628226518630981     │\n",
       "│ Train/KL                      │ 0.00022579259530175477 │\n",
       "│ Train/StopIter                │ 10.0                   │\n",
       "│ Train/PolicyRatio/Mean        │ 0.9992124438285828     │\n",
       "│ Train/PolicyRatio/Min         │ 0.9992124438285828     │\n",
       "│ Train/PolicyRatio/Max         │ 0.9992124438285828     │\n",
       "│ Train/PolicyRatio/Std         │ 0.0005568722845055163  │\n",
       "│ Train/LR                      │ 0.0                    │\n",
       "│ Train/PolicyStd               │ 0.9495943188667297     │\n",
       "│ TotalEnvSteps                 │ 440000.0               │\n",
       "│ Loss/Loss_pi                  │ -0.016926348209381104  │\n",
       "│ Loss/Loss_pi/Delta            │ 0.003047596663236618   │\n",
       "│ Value/Adv                     │ 1.0681151962899094e-08 │\n",
       "│ Loss/Loss_reward_critic       │ 0.014533143490552902   │\n",
       "│ Loss/Loss_reward_critic/Delta │ 0.0047674113884568214  │\n",
       "│ Value/reward                  │ 0.28534868359565735    │\n",
       "│ Loss/Loss_cost_critic         │ 0.7295138239860535     │\n",
       "│ Loss/Loss_cost_critic/Delta   │ 0.13520509004592896    │\n",
       "│ Value/cost                    │ 3.037773370742798      │\n",
       "│ Time/Total                    │ 1327.684326171875      │\n",
       "│ Time/Rollout                  │ 45.90686798095703      │\n",
       "│ Time/Update                   │ 13.251991271972656     │\n",
       "│ Time/Epoch                    │ 59.15885925292969      │\n",
       "│ Time/FPS                      │ 338.0727844238281      │\n",
       "│ Misc/Alpha                    │ 0.8897330164909363     │\n",
       "│ Misc/FinalStepNorm            │ 0.23367130756378174    │\n",
       "│ Misc/gradient_norm            │ 0.1412774622440338     │\n",
       "│ Misc/xHx                      │ 0.02526448480784893    │\n",
       "│ Misc/H_inv_g                  │ 0.262630820274353      │\n",
       "│ Misc/AcceptanceStep           │ 1.0                    │\n",
       "│ Misc/cost_gradient_norm       │ 0.20272207260131836    │\n",
       "│ Misc/A                        │ 0.025183189660310745   │\n",
       "│ Misc/B                        │ -16.484811782836914    │\n",
       "│ Misc/q                        │ 0.02526448480784893    │\n",
       "│ Misc/r                        │ -0.0023081395775079727 │\n",
       "│ Misc/s                        │ 0.06553250551223755    │\n",
       "│ Misc/Lambda_star              │ 1.1239327192306519     │\n",
       "│ Misc/Nu_star                  │ 0.0                    │\n",
       "│ Misc/OptimCase                │ 3.0                    │\n",
       "└───────────────────────────────┴────────────────────────┘\n",
       "</pre>\n"
      ],
      "text/plain": [
       "┏━━━━━━━━━━━━━━━━━━━━━━━━━━━━━━━┳━━━━━━━━━━━━━━━━━━━━━━━━┓\n",
       "┃\u001b[1m \u001b[0m\u001b[1mMetrics                      \u001b[0m\u001b[1m \u001b[0m┃\u001b[1m \u001b[0m\u001b[1mValue                 \u001b[0m\u001b[1m \u001b[0m┃\n",
       "┡━━━━━━━━━━━━━━━━━━━━━━━━━━━━━━━╇━━━━━━━━━━━━━━━━━━━━━━━━┩\n",
       "│ Metrics/EpRet                 │ 3.744457483291626      │\n",
       "│ Metrics/EpCost                │ 23.959999084472656     │\n",
       "│ Metrics/EpLen                 │ 1000.0                 │\n",
       "│ Train/Epoch                   │ 21.0                   │\n",
       "│ Train/Entropy                 │ 1.3628226518630981     │\n",
       "│ Train/KL                      │ 0.00022579259530175477 │\n",
       "│ Train/StopIter                │ 10.0                   │\n",
       "│ Train/PolicyRatio/Mean        │ 0.9992124438285828     │\n",
       "│ Train/PolicyRatio/Min         │ 0.9992124438285828     │\n",
       "│ Train/PolicyRatio/Max         │ 0.9992124438285828     │\n",
       "│ Train/PolicyRatio/Std         │ 0.0005568722845055163  │\n",
       "│ Train/LR                      │ 0.0                    │\n",
       "│ Train/PolicyStd               │ 0.9495943188667297     │\n",
       "│ TotalEnvSteps                 │ 440000.0               │\n",
       "│ Loss/Loss_pi                  │ -0.016926348209381104  │\n",
       "│ Loss/Loss_pi/Delta            │ 0.003047596663236618   │\n",
       "│ Value/Adv                     │ 1.0681151962899094e-08 │\n",
       "│ Loss/Loss_reward_critic       │ 0.014533143490552902   │\n",
       "│ Loss/Loss_reward_critic/Delta │ 0.0047674113884568214  │\n",
       "│ Value/reward                  │ 0.28534868359565735    │\n",
       "│ Loss/Loss_cost_critic         │ 0.7295138239860535     │\n",
       "│ Loss/Loss_cost_critic/Delta   │ 0.13520509004592896    │\n",
       "│ Value/cost                    │ 3.037773370742798      │\n",
       "│ Time/Total                    │ 1327.684326171875      │\n",
       "│ Time/Rollout                  │ 45.90686798095703      │\n",
       "│ Time/Update                   │ 13.251991271972656     │\n",
       "│ Time/Epoch                    │ 59.15885925292969      │\n",
       "│ Time/FPS                      │ 338.0727844238281      │\n",
       "│ Misc/Alpha                    │ 0.8897330164909363     │\n",
       "│ Misc/FinalStepNorm            │ 0.23367130756378174    │\n",
       "│ Misc/gradient_norm            │ 0.1412774622440338     │\n",
       "│ Misc/xHx                      │ 0.02526448480784893    │\n",
       "│ Misc/H_inv_g                  │ 0.262630820274353      │\n",
       "│ Misc/AcceptanceStep           │ 1.0                    │\n",
       "│ Misc/cost_gradient_norm       │ 0.20272207260131836    │\n",
       "│ Misc/A                        │ 0.025183189660310745   │\n",
       "│ Misc/B                        │ -16.484811782836914    │\n",
       "│ Misc/q                        │ 0.02526448480784893    │\n",
       "│ Misc/r                        │ -0.0023081395775079727 │\n",
       "│ Misc/s                        │ 0.06553250551223755    │\n",
       "│ Misc/Lambda_star              │ 1.1239327192306519     │\n",
       "│ Misc/Nu_star                  │ 0.0                    │\n",
       "│ Misc/OptimCase                │ 3.0                    │\n",
       "└───────────────────────────────┴────────────────────────┘\n"
      ]
     },
     "metadata": {},
     "output_type": "display_data"
    },
    {
     "data": {
      "text/html": [
       "<pre style=\"white-space:pre;overflow-x:auto;line-height:normal;font-family:Menlo,'DejaVu Sans Mono',consolas,'Courier New',monospace\"><span style=\"color: #008000; text-decoration-color: #008000\">Warning: trajectory cut off when rollout by epoch at </span><span style=\"color: #008080; text-decoration-color: #008080; font-weight: bold\">1000.0</span><span style=\"color: #008000; text-decoration-color: #008000\"> steps.</span>\n",
       "</pre>\n"
      ],
      "text/plain": [
       "\u001b[32mWarning: trajectory cut off when rollout by epoch at \u001b[0m\u001b[1;36m1000.0\u001b[0m\u001b[32m steps.\u001b[0m\n"
      ]
     },
     "metadata": {},
     "output_type": "display_data"
    },
    {
     "data": {
      "text/html": [
       "<pre style=\"white-space:pre;overflow-x:auto;line-height:normal;font-family:Menlo,'DejaVu Sans Mono',consolas,'Courier New',monospace\"><span style=\"color: #008000; text-decoration-color: #008000\">Warning: trajectory cut off when rollout by epoch at </span><span style=\"color: #008080; text-decoration-color: #008080; font-weight: bold\">1000.0</span><span style=\"color: #008000; text-decoration-color: #008000\"> steps.</span>\n",
       "</pre>\n"
      ],
      "text/plain": [
       "\u001b[32mWarning: trajectory cut off when rollout by epoch at \u001b[0m\u001b[1;36m1000.0\u001b[0m\u001b[32m steps.\u001b[0m\n"
      ]
     },
     "metadata": {},
     "output_type": "display_data"
    },
    {
     "data": {
      "text/html": [
       "<pre style=\"white-space:pre;overflow-x:auto;line-height:normal;font-family:Menlo,'DejaVu Sans Mono',consolas,'Courier New',monospace\"><span style=\"color: #008000; text-decoration-color: #008000\">Warning: trajectory cut off when rollout by epoch at </span><span style=\"color: #008080; text-decoration-color: #008080; font-weight: bold\">1000.0</span><span style=\"color: #008000; text-decoration-color: #008000\"> steps.</span>\n",
       "</pre>\n"
      ],
      "text/plain": [
       "\u001b[32mWarning: trajectory cut off when rollout by epoch at \u001b[0m\u001b[1;36m1000.0\u001b[0m\u001b[32m steps.\u001b[0m\n"
      ]
     },
     "metadata": {},
     "output_type": "display_data"
    },
    {
     "data": {
      "text/html": [
       "<pre style=\"white-space:pre;overflow-x:auto;line-height:normal;font-family:Menlo,'DejaVu Sans Mono',consolas,'Courier New',monospace\"><span style=\"color: #008000; text-decoration-color: #008000\">Warning: trajectory cut off when rollout by epoch at </span><span style=\"color: #008080; text-decoration-color: #008080; font-weight: bold\">1000.0</span><span style=\"color: #008000; text-decoration-color: #008000\"> steps.</span>\n",
       "</pre>\n"
      ],
      "text/plain": [
       "\u001b[32mWarning: trajectory cut off when rollout by epoch at \u001b[0m\u001b[1;36m1000.0\u001b[0m\u001b[32m steps.\u001b[0m\n"
      ]
     },
     "metadata": {},
     "output_type": "display_data"
    },
    {
     "data": {
      "text/html": [
       "<pre style=\"white-space:pre;overflow-x:auto;line-height:normal;font-family:Menlo,'DejaVu Sans Mono',consolas,'Courier New',monospace\"></pre>\n"
      ],
      "text/plain": []
     },
     "metadata": {},
     "output_type": "display_data"
    },
    {
     "data": {
      "text/html": [
       "<pre style=\"white-space:pre;overflow-x:auto;line-height:normal;font-family:Menlo,'DejaVu Sans Mono',consolas,'Courier New',monospace\">\n",
       "</pre>\n"
      ],
      "text/plain": [
       "\n"
      ]
     },
     "metadata": {},
     "output_type": "display_data"
    },
    {
     "data": {
      "text/html": [
       "<pre style=\"white-space:pre;overflow-x:auto;line-height:normal;font-family:Menlo,'DejaVu Sans Mono',consolas,'Courier New',monospace\"><span style=\"color: #800000; text-decoration-color: #800000\">Alert! Attempting infeasible recovery!</span>\n",
       "</pre>\n"
      ],
      "text/plain": [
       "\u001b[31mAlert! Attempting infeasible recovery!\u001b[0m\n"
      ]
     },
     "metadata": {},
     "output_type": "display_data"
    },
    {
     "data": {
      "text/html": [
       "<pre style=\"white-space:pre;overflow-x:auto;line-height:normal;font-family:Menlo,'DejaVu Sans Mono',consolas,'Courier New',monospace\"><span style=\"color: #008000; text-decoration-color: #008000\">Expected Improvement: </span><span style=\"color: #008080; text-decoration-color: #008080; font-weight: bold\">-0.003741455264389515</span><span style=\"color: #008000; text-decoration-color: #008000\"> Actual: </span><span style=\"color: #008080; text-decoration-color: #008080; font-weight: bold\">-0.004175789654254913</span>\n",
       "</pre>\n"
      ],
      "text/plain": [
       "\u001b[32mExpected Improvement: \u001b[0m\u001b[1;36m-0.003741455264389515\u001b[0m\u001b[32m Actual: \u001b[0m\u001b[1;36m-0.004175789654254913\u001b[0m\n"
      ]
     },
     "metadata": {},
     "output_type": "display_data"
    },
    {
     "data": {
      "text/html": [
       "<pre style=\"white-space:pre;overflow-x:auto;line-height:normal;font-family:Menlo,'DejaVu Sans Mono',consolas,'Courier New',monospace\"><span style=\"color: #008000; text-decoration-color: #008000\">Accept step at </span><span style=\"color: #808000; text-decoration-color: #808000\">i</span><span style=\"color: #008000; text-decoration-color: #008000\">=</span><span style=\"color: #008080; text-decoration-color: #008080; font-weight: bold\">1</span>\n",
       "</pre>\n"
      ],
      "text/plain": [
       "\u001b[32mAccept step at \u001b[0m\u001b[33mi\u001b[0m\u001b[32m=\u001b[0m\u001b[1;36m1\u001b[0m\n"
      ]
     },
     "metadata": {},
     "output_type": "display_data"
    },
    {
     "data": {
      "text/html": [
       "<pre style=\"white-space:pre;overflow-x:auto;line-height:normal;font-family:Menlo,'DejaVu Sans Mono',consolas,'Courier New',monospace\">┏━━━━━━━━━━━━━━━━━━━━━━━━━━━━━━━┳━━━━━━━━━━━━━━━━━━━━━━━━┓\n",
       "┃<span style=\"font-weight: bold\"> Metrics                       </span>┃<span style=\"font-weight: bold\"> Value                  </span>┃\n",
       "┡━━━━━━━━━━━━━━━━━━━━━━━━━━━━━━━╇━━━━━━━━━━━━━━━━━━━━━━━━┩\n",
       "│ Metrics/EpRet                 │ 5.411793231964111      │\n",
       "│ Metrics/EpCost                │ 31.479999542236328     │\n",
       "│ Metrics/EpLen                 │ 1000.0                 │\n",
       "│ Train/Epoch                   │ 22.0                   │\n",
       "│ Train/Entropy                 │ 1.3665939569473267     │\n",
       "│ Train/KL                      │ 0.0001595754292793572  │\n",
       "│ Train/StopIter                │ 10.0                   │\n",
       "│ Train/PolicyRatio/Mean        │ 1.0003782510757446     │\n",
       "│ Train/PolicyRatio/Min         │ 1.0003783702850342     │\n",
       "│ Train/PolicyRatio/Max         │ 1.0003783702850342     │\n",
       "│ Train/PolicyRatio/Std         │ 0.00026743579655885696 │\n",
       "│ Train/LR                      │ 0.0                    │\n",
       "│ Train/PolicyStd               │ 0.9532687664031982     │\n",
       "│ TotalEnvSteps                 │ 460000.0               │\n",
       "│ Loss/Loss_pi                  │ -0.007028141990303993  │\n",
       "│ Loss/Loss_pi/Delta            │ 0.00989820621907711    │\n",
       "│ Value/Adv                     │ 2.8228759774151513e-08 │\n",
       "│ Loss/Loss_reward_critic       │ 0.013856401666998863   │\n",
       "│ Loss/Loss_reward_critic/Delta │ -0.000676741823554039  │\n",
       "│ Value/reward                  │ 0.4105043411254883     │\n",
       "│ Loss/Loss_cost_critic         │ 1.0612757205963135     │\n",
       "│ Loss/Loss_cost_critic/Delta   │ 0.33176189661026       │\n",
       "│ Value/cost                    │ 3.255509853363037      │\n",
       "│ Time/Total                    │ 1391.679931640625      │\n",
       "│ Time/Rollout                  │ 50.63187026977539      │\n",
       "│ Time/Update                   │ 13.320127487182617     │\n",
       "│ Time/Epoch                    │ 63.951995849609375     │\n",
       "│ Time/FPS                      │ 312.73455810546875     │\n",
       "│ Misc/Alpha                    │ 0.9488685131072998     │\n",
       "│ Misc/FinalStepNorm            │ 0.29637420177459717    │\n",
       "│ Misc/gradient_norm            │ 0.13639141619205475    │\n",
       "│ Misc/xHx                      │ 0.022213537245988846   │\n",
       "│ Misc/H_inv_g                  │ 0.2376403510570526     │\n",
       "│ Misc/AcceptanceStep           │ 1.0                    │\n",
       "│ Misc/cost_gradient_norm       │ 0.18064482510089874    │\n",
       "│ Misc/A                        │ 0.02151361294090748    │\n",
       "│ Misc/B                        │ -511.1312561035156     │\n",
       "│ Misc/q                        │ 0.022213537245988846   │\n",
       "│ Misc/r                        │ 0.00758273433893919    │\n",
       "│ Misc/s                        │ 0.08214866369962692    │\n",
       "│ Misc/Lambda_star              │ 0.0                    │\n",
       "│ Misc/Nu_star                  │ 0.4934177100658417     │\n",
       "│ Misc/OptimCase                │ 0.0                    │\n",
       "└───────────────────────────────┴────────────────────────┘\n",
       "</pre>\n"
      ],
      "text/plain": [
       "┏━━━━━━━━━━━━━━━━━━━━━━━━━━━━━━━┳━━━━━━━━━━━━━━━━━━━━━━━━┓\n",
       "┃\u001b[1m \u001b[0m\u001b[1mMetrics                      \u001b[0m\u001b[1m \u001b[0m┃\u001b[1m \u001b[0m\u001b[1mValue                 \u001b[0m\u001b[1m \u001b[0m┃\n",
       "┡━━━━━━━━━━━━━━━━━━━━━━━━━━━━━━━╇━━━━━━━━━━━━━━━━━━━━━━━━┩\n",
       "│ Metrics/EpRet                 │ 5.411793231964111      │\n",
       "│ Metrics/EpCost                │ 31.479999542236328     │\n",
       "│ Metrics/EpLen                 │ 1000.0                 │\n",
       "│ Train/Epoch                   │ 22.0                   │\n",
       "│ Train/Entropy                 │ 1.3665939569473267     │\n",
       "│ Train/KL                      │ 0.0001595754292793572  │\n",
       "│ Train/StopIter                │ 10.0                   │\n",
       "│ Train/PolicyRatio/Mean        │ 1.0003782510757446     │\n",
       "│ Train/PolicyRatio/Min         │ 1.0003783702850342     │\n",
       "│ Train/PolicyRatio/Max         │ 1.0003783702850342     │\n",
       "│ Train/PolicyRatio/Std         │ 0.00026743579655885696 │\n",
       "│ Train/LR                      │ 0.0                    │\n",
       "│ Train/PolicyStd               │ 0.9532687664031982     │\n",
       "│ TotalEnvSteps                 │ 460000.0               │\n",
       "│ Loss/Loss_pi                  │ -0.007028141990303993  │\n",
       "│ Loss/Loss_pi/Delta            │ 0.00989820621907711    │\n",
       "│ Value/Adv                     │ 2.8228759774151513e-08 │\n",
       "│ Loss/Loss_reward_critic       │ 0.013856401666998863   │\n",
       "│ Loss/Loss_reward_critic/Delta │ -0.000676741823554039  │\n",
       "│ Value/reward                  │ 0.4105043411254883     │\n",
       "│ Loss/Loss_cost_critic         │ 1.0612757205963135     │\n",
       "│ Loss/Loss_cost_critic/Delta   │ 0.33176189661026       │\n",
       "│ Value/cost                    │ 3.255509853363037      │\n",
       "│ Time/Total                    │ 1391.679931640625      │\n",
       "│ Time/Rollout                  │ 50.63187026977539      │\n",
       "│ Time/Update                   │ 13.320127487182617     │\n",
       "│ Time/Epoch                    │ 63.951995849609375     │\n",
       "│ Time/FPS                      │ 312.73455810546875     │\n",
       "│ Misc/Alpha                    │ 0.9488685131072998     │\n",
       "│ Misc/FinalStepNorm            │ 0.29637420177459717    │\n",
       "│ Misc/gradient_norm            │ 0.13639141619205475    │\n",
       "│ Misc/xHx                      │ 0.022213537245988846   │\n",
       "│ Misc/H_inv_g                  │ 0.2376403510570526     │\n",
       "│ Misc/AcceptanceStep           │ 1.0                    │\n",
       "│ Misc/cost_gradient_norm       │ 0.18064482510089874    │\n",
       "│ Misc/A                        │ 0.02151361294090748    │\n",
       "│ Misc/B                        │ -511.1312561035156     │\n",
       "│ Misc/q                        │ 0.022213537245988846   │\n",
       "│ Misc/r                        │ 0.00758273433893919    │\n",
       "│ Misc/s                        │ 0.08214866369962692    │\n",
       "│ Misc/Lambda_star              │ 0.0                    │\n",
       "│ Misc/Nu_star                  │ 0.4934177100658417     │\n",
       "│ Misc/OptimCase                │ 0.0                    │\n",
       "└───────────────────────────────┴────────────────────────┘\n"
      ]
     },
     "metadata": {},
     "output_type": "display_data"
    },
    {
     "data": {
      "text/html": [
       "<pre style=\"white-space:pre;overflow-x:auto;line-height:normal;font-family:Menlo,'DejaVu Sans Mono',consolas,'Courier New',monospace\"><span style=\"color: #008000; text-decoration-color: #008000\">Warning: trajectory cut off when rollout by epoch at </span><span style=\"color: #008080; text-decoration-color: #008080; font-weight: bold\">1000.0</span><span style=\"color: #008000; text-decoration-color: #008000\"> steps.</span>\n",
       "</pre>\n"
      ],
      "text/plain": [
       "\u001b[32mWarning: trajectory cut off when rollout by epoch at \u001b[0m\u001b[1;36m1000.0\u001b[0m\u001b[32m steps.\u001b[0m\n"
      ]
     },
     "metadata": {},
     "output_type": "display_data"
    },
    {
     "data": {
      "text/html": [
       "<pre style=\"white-space:pre;overflow-x:auto;line-height:normal;font-family:Menlo,'DejaVu Sans Mono',consolas,'Courier New',monospace\"><span style=\"color: #008000; text-decoration-color: #008000\">Warning: trajectory cut off when rollout by epoch at </span><span style=\"color: #008080; text-decoration-color: #008080; font-weight: bold\">1000.0</span><span style=\"color: #008000; text-decoration-color: #008000\"> steps.</span>\n",
       "</pre>\n"
      ],
      "text/plain": [
       "\u001b[32mWarning: trajectory cut off when rollout by epoch at \u001b[0m\u001b[1;36m1000.0\u001b[0m\u001b[32m steps.\u001b[0m\n"
      ]
     },
     "metadata": {},
     "output_type": "display_data"
    },
    {
     "data": {
      "text/html": [
       "<pre style=\"white-space:pre;overflow-x:auto;line-height:normal;font-family:Menlo,'DejaVu Sans Mono',consolas,'Courier New',monospace\"><span style=\"color: #008000; text-decoration-color: #008000\">Warning: trajectory cut off when rollout by epoch at </span><span style=\"color: #008080; text-decoration-color: #008080; font-weight: bold\">1000.0</span><span style=\"color: #008000; text-decoration-color: #008000\"> steps.</span>\n",
       "</pre>\n"
      ],
      "text/plain": [
       "\u001b[32mWarning: trajectory cut off when rollout by epoch at \u001b[0m\u001b[1;36m1000.0\u001b[0m\u001b[32m steps.\u001b[0m\n"
      ]
     },
     "metadata": {},
     "output_type": "display_data"
    },
    {
     "data": {
      "text/html": [
       "<pre style=\"white-space:pre;overflow-x:auto;line-height:normal;font-family:Menlo,'DejaVu Sans Mono',consolas,'Courier New',monospace\"><span style=\"color: #008000; text-decoration-color: #008000\">Warning: trajectory cut off when rollout by epoch at </span><span style=\"color: #008080; text-decoration-color: #008080; font-weight: bold\">1000.0</span><span style=\"color: #008000; text-decoration-color: #008000\"> steps.</span>\n",
       "</pre>\n"
      ],
      "text/plain": [
       "\u001b[32mWarning: trajectory cut off when rollout by epoch at \u001b[0m\u001b[1;36m1000.0\u001b[0m\u001b[32m steps.\u001b[0m\n"
      ]
     },
     "metadata": {},
     "output_type": "display_data"
    },
    {
     "data": {
      "text/html": [
       "<pre style=\"white-space:pre;overflow-x:auto;line-height:normal;font-family:Menlo,'DejaVu Sans Mono',consolas,'Courier New',monospace\"></pre>\n"
      ],
      "text/plain": []
     },
     "metadata": {},
     "output_type": "display_data"
    },
    {
     "data": {
      "text/html": [
       "<pre style=\"white-space:pre;overflow-x:auto;line-height:normal;font-family:Menlo,'DejaVu Sans Mono',consolas,'Courier New',monospace\">\n",
       "</pre>\n"
      ],
      "text/plain": [
       "\n"
      ]
     },
     "metadata": {},
     "output_type": "display_data"
    },
    {
     "data": {
      "text/html": [
       "<pre style=\"white-space:pre;overflow-x:auto;line-height:normal;font-family:Menlo,'DejaVu Sans Mono',consolas,'Courier New',monospace\"><span style=\"color: #800000; text-decoration-color: #800000\">Alert! Attempting infeasible recovery!</span>\n",
       "</pre>\n"
      ],
      "text/plain": [
       "\u001b[31mAlert! Attempting infeasible recovery!\u001b[0m\n"
      ]
     },
     "metadata": {},
     "output_type": "display_data"
    },
    {
     "data": {
      "text/html": [
       "<pre style=\"white-space:pre;overflow-x:auto;line-height:normal;font-family:Menlo,'DejaVu Sans Mono',consolas,'Courier New',monospace\"><span style=\"color: #008000; text-decoration-color: #008000\">Expected Improvement: </span><span style=\"color: #008080; text-decoration-color: #008080; font-weight: bold\">-0.0010948199778795242</span><span style=\"color: #008000; text-decoration-color: #008000\"> Actual: </span><span style=\"color: #008080; text-decoration-color: #008080; font-weight: bold\">-0.0014816245529800653</span>\n",
       "</pre>\n"
      ],
      "text/plain": [
       "\u001b[32mExpected Improvement: \u001b[0m\u001b[1;36m-0.0010948199778795242\u001b[0m\u001b[32m Actual: \u001b[0m\u001b[1;36m-0.0014816245529800653\u001b[0m\n"
      ]
     },
     "metadata": {},
     "output_type": "display_data"
    },
    {
     "data": {
      "text/html": [
       "<pre style=\"white-space:pre;overflow-x:auto;line-height:normal;font-family:Menlo,'DejaVu Sans Mono',consolas,'Courier New',monospace\"><span style=\"color: #008000; text-decoration-color: #008000\">Accept step at </span><span style=\"color: #808000; text-decoration-color: #808000\">i</span><span style=\"color: #008000; text-decoration-color: #008000\">=</span><span style=\"color: #008080; text-decoration-color: #008080; font-weight: bold\">1</span>\n",
       "</pre>\n"
      ],
      "text/plain": [
       "\u001b[32mAccept step at \u001b[0m\u001b[33mi\u001b[0m\u001b[32m=\u001b[0m\u001b[1;36m1\u001b[0m\n"
      ]
     },
     "metadata": {},
     "output_type": "display_data"
    },
    {
     "data": {
      "text/html": [
       "<pre style=\"white-space:pre;overflow-x:auto;line-height:normal;font-family:Menlo,'DejaVu Sans Mono',consolas,'Courier New',monospace\">┏━━━━━━━━━━━━━━━━━━━━━━━━━━━━━━━┳━━━━━━━━━━━━━━━━━━━━━━━━━┓\n",
       "┃<span style=\"font-weight: bold\"> Metrics                       </span>┃<span style=\"font-weight: bold\"> Value                   </span>┃\n",
       "┡━━━━━━━━━━━━━━━━━━━━━━━━━━━━━━━╇━━━━━━━━━━━━━━━━━━━━━━━━━┩\n",
       "│ Metrics/EpRet                 │ 6.334935188293457       │\n",
       "│ Metrics/EpCost                │ 35.47999954223633       │\n",
       "│ Metrics/EpLen                 │ 1000.0                  │\n",
       "│ Train/Epoch                   │ 23.0                    │\n",
       "│ Train/Entropy                 │ 1.369437336921692       │\n",
       "│ Train/KL                      │ 0.00014961915439926088  │\n",
       "│ Train/StopIter                │ 10.0                    │\n",
       "│ Train/PolicyRatio/Mean        │ 0.9998628497123718      │\n",
       "│ Train/PolicyRatio/Min         │ 0.9998628497123718      │\n",
       "│ Train/PolicyRatio/Max         │ 0.9998628497123718      │\n",
       "│ Train/PolicyRatio/Std         │ 9.702206443762407e-05   │\n",
       "│ Train/LR                      │ 0.0                     │\n",
       "│ Train/PolicyStd               │ 0.9561211466789246      │\n",
       "│ TotalEnvSteps                 │ 480000.0                │\n",
       "│ Loss/Loss_pi                  │ -0.007370901759713888   │\n",
       "│ Loss/Loss_pi/Delta            │ -0.00034275976940989494 │\n",
       "│ Value/Adv                     │ -1.525878801089675e-08  │\n",
       "│ Loss/Loss_reward_critic       │ 0.01437383983284235     │\n",
       "│ Loss/Loss_reward_critic/Delta │ 0.0005174381658434868   │\n",
       "│ Value/reward                  │ 0.4280821681022644      │\n",
       "│ Loss/Loss_cost_critic         │ 0.866701066493988       │\n",
       "│ Loss/Loss_cost_critic/Delta   │ -0.19457465410232544    │\n",
       "│ Value/cost                    │ 2.9879581928253174      │\n",
       "│ Time/Total                    │ 1454.263427734375       │\n",
       "│ Time/Rollout                  │ 49.27545166015625       │\n",
       "│ Time/Update                   │ 13.254467964172363      │\n",
       "│ Time/Epoch                    │ 62.5299186706543        │\n",
       "│ Time/FPS                      │ 319.8468933105469       │\n",
       "│ Misc/Alpha                    │ 0.9513325691223145      │\n",
       "│ Misc/FinalStepNorm            │ 0.31488165259361267     │\n",
       "│ Misc/gradient_norm            │ 0.13849660754203796     │\n",
       "│ Misc/xHx                      │ 0.022098615765571594    │\n",
       "│ Misc/H_inv_g                  │ 0.24176958203315735     │\n",
       "│ Misc/AcceptanceStep           │ 1.0                     │\n",
       "│ Misc/cost_gradient_norm       │ 0.1673266738653183      │\n",
       "│ Misc/A                        │ 0.022038685157895088    │\n",
       "│ Misc/B                        │ -1786.83349609375       │\n",
       "│ Misc/q                        │ 0.022098615765571594    │\n",
       "│ Misc/r                        │ 0.0019193071639165282   │\n",
       "│ Misc/s                        │ 0.0614657923579216      │\n",
       "│ Misc/Lambda_star              │ 0.0                     │\n",
       "│ Misc/Nu_star                  │ 0.5704245567321777      │\n",
       "│ Misc/OptimCase                │ 0.0                     │\n",
       "└───────────────────────────────┴─────────────────────────┘\n",
       "</pre>\n"
      ],
      "text/plain": [
       "┏━━━━━━━━━━━━━━━━━━━━━━━━━━━━━━━┳━━━━━━━━━━━━━━━━━━━━━━━━━┓\n",
       "┃\u001b[1m \u001b[0m\u001b[1mMetrics                      \u001b[0m\u001b[1m \u001b[0m┃\u001b[1m \u001b[0m\u001b[1mValue                  \u001b[0m\u001b[1m \u001b[0m┃\n",
       "┡━━━━━━━━━━━━━━━━━━━━━━━━━━━━━━━╇━━━━━━━━━━━━━━━━━━━━━━━━━┩\n",
       "│ Metrics/EpRet                 │ 6.334935188293457       │\n",
       "│ Metrics/EpCost                │ 35.47999954223633       │\n",
       "│ Metrics/EpLen                 │ 1000.0                  │\n",
       "│ Train/Epoch                   │ 23.0                    │\n",
       "│ Train/Entropy                 │ 1.369437336921692       │\n",
       "│ Train/KL                      │ 0.00014961915439926088  │\n",
       "│ Train/StopIter                │ 10.0                    │\n",
       "│ Train/PolicyRatio/Mean        │ 0.9998628497123718      │\n",
       "│ Train/PolicyRatio/Min         │ 0.9998628497123718      │\n",
       "│ Train/PolicyRatio/Max         │ 0.9998628497123718      │\n",
       "│ Train/PolicyRatio/Std         │ 9.702206443762407e-05   │\n",
       "│ Train/LR                      │ 0.0                     │\n",
       "│ Train/PolicyStd               │ 0.9561211466789246      │\n",
       "│ TotalEnvSteps                 │ 480000.0                │\n",
       "│ Loss/Loss_pi                  │ -0.007370901759713888   │\n",
       "│ Loss/Loss_pi/Delta            │ -0.00034275976940989494 │\n",
       "│ Value/Adv                     │ -1.525878801089675e-08  │\n",
       "│ Loss/Loss_reward_critic       │ 0.01437383983284235     │\n",
       "│ Loss/Loss_reward_critic/Delta │ 0.0005174381658434868   │\n",
       "│ Value/reward                  │ 0.4280821681022644      │\n",
       "│ Loss/Loss_cost_critic         │ 0.866701066493988       │\n",
       "│ Loss/Loss_cost_critic/Delta   │ -0.19457465410232544    │\n",
       "│ Value/cost                    │ 2.9879581928253174      │\n",
       "│ Time/Total                    │ 1454.263427734375       │\n",
       "│ Time/Rollout                  │ 49.27545166015625       │\n",
       "│ Time/Update                   │ 13.254467964172363      │\n",
       "│ Time/Epoch                    │ 62.5299186706543        │\n",
       "│ Time/FPS                      │ 319.8468933105469       │\n",
       "│ Misc/Alpha                    │ 0.9513325691223145      │\n",
       "│ Misc/FinalStepNorm            │ 0.31488165259361267     │\n",
       "│ Misc/gradient_norm            │ 0.13849660754203796     │\n",
       "│ Misc/xHx                      │ 0.022098615765571594    │\n",
       "│ Misc/H_inv_g                  │ 0.24176958203315735     │\n",
       "│ Misc/AcceptanceStep           │ 1.0                     │\n",
       "│ Misc/cost_gradient_norm       │ 0.1673266738653183      │\n",
       "│ Misc/A                        │ 0.022038685157895088    │\n",
       "│ Misc/B                        │ -1786.83349609375       │\n",
       "│ Misc/q                        │ 0.022098615765571594    │\n",
       "│ Misc/r                        │ 0.0019193071639165282   │\n",
       "│ Misc/s                        │ 0.0614657923579216      │\n",
       "│ Misc/Lambda_star              │ 0.0                     │\n",
       "│ Misc/Nu_star                  │ 0.5704245567321777      │\n",
       "│ Misc/OptimCase                │ 0.0                     │\n",
       "└───────────────────────────────┴─────────────────────────┘\n"
      ]
     },
     "metadata": {},
     "output_type": "display_data"
    },
    {
     "data": {
      "text/html": [
       "<pre style=\"white-space:pre;overflow-x:auto;line-height:normal;font-family:Menlo,'DejaVu Sans Mono',consolas,'Courier New',monospace\"><span style=\"color: #008000; text-decoration-color: #008000\">Warning: trajectory cut off when rollout by epoch at </span><span style=\"color: #008080; text-decoration-color: #008080; font-weight: bold\">1000.0</span><span style=\"color: #008000; text-decoration-color: #008000\"> steps.</span>\n",
       "</pre>\n"
      ],
      "text/plain": [
       "\u001b[32mWarning: trajectory cut off when rollout by epoch at \u001b[0m\u001b[1;36m1000.0\u001b[0m\u001b[32m steps.\u001b[0m\n"
      ]
     },
     "metadata": {},
     "output_type": "display_data"
    },
    {
     "data": {
      "text/html": [
       "<pre style=\"white-space:pre;overflow-x:auto;line-height:normal;font-family:Menlo,'DejaVu Sans Mono',consolas,'Courier New',monospace\"><span style=\"color: #008000; text-decoration-color: #008000\">Warning: trajectory cut off when rollout by epoch at </span><span style=\"color: #008080; text-decoration-color: #008080; font-weight: bold\">1000.0</span><span style=\"color: #008000; text-decoration-color: #008000\"> steps.</span>\n",
       "</pre>\n"
      ],
      "text/plain": [
       "\u001b[32mWarning: trajectory cut off when rollout by epoch at \u001b[0m\u001b[1;36m1000.0\u001b[0m\u001b[32m steps.\u001b[0m\n"
      ]
     },
     "metadata": {},
     "output_type": "display_data"
    },
    {
     "data": {
      "text/html": [
       "<pre style=\"white-space:pre;overflow-x:auto;line-height:normal;font-family:Menlo,'DejaVu Sans Mono',consolas,'Courier New',monospace\"><span style=\"color: #008000; text-decoration-color: #008000\">Warning: trajectory cut off when rollout by epoch at </span><span style=\"color: #008080; text-decoration-color: #008080; font-weight: bold\">1000.0</span><span style=\"color: #008000; text-decoration-color: #008000\"> steps.</span>\n",
       "</pre>\n"
      ],
      "text/plain": [
       "\u001b[32mWarning: trajectory cut off when rollout by epoch at \u001b[0m\u001b[1;36m1000.0\u001b[0m\u001b[32m steps.\u001b[0m\n"
      ]
     },
     "metadata": {},
     "output_type": "display_data"
    },
    {
     "data": {
      "text/html": [
       "<pre style=\"white-space:pre;overflow-x:auto;line-height:normal;font-family:Menlo,'DejaVu Sans Mono',consolas,'Courier New',monospace\"><span style=\"color: #008000; text-decoration-color: #008000\">Warning: trajectory cut off when rollout by epoch at </span><span style=\"color: #008080; text-decoration-color: #008080; font-weight: bold\">1000.0</span><span style=\"color: #008000; text-decoration-color: #008000\"> steps.</span>\n",
       "</pre>\n"
      ],
      "text/plain": [
       "\u001b[32mWarning: trajectory cut off when rollout by epoch at \u001b[0m\u001b[1;36m1000.0\u001b[0m\u001b[32m steps.\u001b[0m\n"
      ]
     },
     "metadata": {},
     "output_type": "display_data"
    },
    {
     "data": {
      "text/html": [
       "<pre style=\"white-space:pre;overflow-x:auto;line-height:normal;font-family:Menlo,'DejaVu Sans Mono',consolas,'Courier New',monospace\"></pre>\n"
      ],
      "text/plain": []
     },
     "metadata": {},
     "output_type": "display_data"
    },
    {
     "data": {
      "text/html": [
       "<pre style=\"white-space:pre;overflow-x:auto;line-height:normal;font-family:Menlo,'DejaVu Sans Mono',consolas,'Courier New',monospace\">\n",
       "</pre>\n"
      ],
      "text/plain": [
       "\n"
      ]
     },
     "metadata": {},
     "output_type": "display_data"
    },
    {
     "data": {
      "text/html": [
       "<pre style=\"white-space:pre;overflow-x:auto;line-height:normal;font-family:Menlo,'DejaVu Sans Mono',consolas,'Courier New',monospace\"><span style=\"color: #800000; text-decoration-color: #800000\">Alert! Attempting infeasible recovery!</span>\n",
       "</pre>\n"
      ],
      "text/plain": [
       "\u001b[31mAlert! Attempting infeasible recovery!\u001b[0m\n"
      ]
     },
     "metadata": {},
     "output_type": "display_data"
    },
    {
     "data": {
      "text/html": [
       "<pre style=\"white-space:pre;overflow-x:auto;line-height:normal;font-family:Menlo,'DejaVu Sans Mono',consolas,'Courier New',monospace\"><span style=\"color: #008000; text-decoration-color: #008000\">Expected Improvement: </span><span style=\"color: #008080; text-decoration-color: #008080; font-weight: bold\">-0.0020562252029776573</span><span style=\"color: #008000; text-decoration-color: #008000\"> Actual: </span><span style=\"color: #008080; text-decoration-color: #008080; font-weight: bold\">-0.002141510136425495</span>\n",
       "</pre>\n"
      ],
      "text/plain": [
       "\u001b[32mExpected Improvement: \u001b[0m\u001b[1;36m-0.0020562252029776573\u001b[0m\u001b[32m Actual: \u001b[0m\u001b[1;36m-0.002141510136425495\u001b[0m\n"
      ]
     },
     "metadata": {},
     "output_type": "display_data"
    },
    {
     "data": {
      "text/html": [
       "<pre style=\"white-space:pre;overflow-x:auto;line-height:normal;font-family:Menlo,'DejaVu Sans Mono',consolas,'Courier New',monospace\"><span style=\"color: #008000; text-decoration-color: #008000\">Accept step at </span><span style=\"color: #808000; text-decoration-color: #808000\">i</span><span style=\"color: #008000; text-decoration-color: #008000\">=</span><span style=\"color: #008080; text-decoration-color: #008080; font-weight: bold\">1</span>\n",
       "</pre>\n"
      ],
      "text/plain": [
       "\u001b[32mAccept step at \u001b[0m\u001b[33mi\u001b[0m\u001b[32m=\u001b[0m\u001b[1;36m1\u001b[0m\n"
      ]
     },
     "metadata": {},
     "output_type": "display_data"
    },
    {
     "data": {
      "text/html": [
       "<pre style=\"white-space:pre;overflow-x:auto;line-height:normal;font-family:Menlo,'DejaVu Sans Mono',consolas,'Courier New',monospace\">┏━━━━━━━━━━━━━━━━━━━━━━━━━━━━━━━┳━━━━━━━━━━━━━━━━━━━━━━━━┓\n",
       "┃<span style=\"font-weight: bold\"> Metrics                       </span>┃<span style=\"font-weight: bold\"> Value                  </span>┃\n",
       "┡━━━━━━━━━━━━━━━━━━━━━━━━━━━━━━━╇━━━━━━━━━━━━━━━━━━━━━━━━┩\n",
       "│ Metrics/EpRet                 │ 5.492681503295898      │\n",
       "│ Metrics/EpCost                │ 37.5                   │\n",
       "│ Metrics/EpLen                 │ 1000.0                 │\n",
       "│ Train/Epoch                   │ 24.0                   │\n",
       "│ Train/Entropy                 │ 1.3699512481689453     │\n",
       "│ Train/KL                      │ 0.0001615982037037611  │\n",
       "│ Train/StopIter                │ 10.0                   │\n",
       "│ Train/PolicyRatio/Mean        │ 1.0003986358642578     │\n",
       "│ Train/PolicyRatio/Min         │ 1.0003986358642578     │\n",
       "│ Train/PolicyRatio/Max         │ 1.0003986358642578     │\n",
       "│ Train/PolicyRatio/Std         │ 0.00028193433536216617 │\n",
       "│ Train/LR                      │ 0.0                    │\n",
       "│ Train/PolicyStd               │ 0.9580104947090149     │\n",
       "│ TotalEnvSteps                 │ 500000.0               │\n",
       "│ Loss/Loss_pi                  │ -0.007437627762556076  │\n",
       "│ Loss/Loss_pi/Delta            │ -6.672600284218788e-05 │\n",
       "│ Value/Adv                     │ 8.77380390562621e-09   │\n",
       "│ Loss/Loss_reward_critic       │ 0.013297148048877716   │\n",
       "│ Loss/Loss_reward_critic/Delta │ -0.001076691783964634  │\n",
       "│ Value/reward                  │ 0.2805781364440918     │\n",
       "│ Loss/Loss_cost_critic         │ 0.7057119607925415     │\n",
       "│ Loss/Loss_cost_critic/Delta   │ -0.16098910570144653   │\n",
       "│ Value/cost                    │ 3.1995437145233154     │\n",
       "│ Time/Total                    │ 1517.322265625         │\n",
       "│ Time/Rollout                  │ 49.9527587890625       │\n",
       "│ Time/Update                   │ 13.066094398498535     │\n",
       "│ Time/Epoch                    │ 63.01885223388672      │\n",
       "│ Time/FPS                      │ 317.3653564453125      │\n",
       "│ Misc/Alpha                    │ 0.8445489406585693     │\n",
       "│ Misc/FinalStepNorm            │ 0.2944490909576416     │\n",
       "│ Misc/gradient_norm            │ 0.15409204363822937    │\n",
       "│ Misc/xHx                      │ 0.028040140867233276   │\n",
       "│ Misc/H_inv_g                  │ 0.27035045623779297    │\n",
       "│ Misc/AcceptanceStep           │ 1.0                    │\n",
       "│ Misc/cost_gradient_norm       │ 0.1686556339263916     │\n",
       "│ Misc/A                        │ 0.02782873809337616    │\n",
       "│ Misc/B                        │ -2367.57568359375      │\n",
       "│ Misc/q                        │ 0.028040140867233276   │\n",
       "│ Misc/r                        │ 0.003735183272510767   │\n",
       "│ Misc/s                        │ 0.0659952163696289     │\n",
       "│ Misc/Lambda_star              │ 0.0                    │\n",
       "│ Misc/Nu_star                  │ 0.5505017638206482     │\n",
       "│ Misc/OptimCase                │ 0.0                    │\n",
       "└───────────────────────────────┴────────────────────────┘\n",
       "</pre>\n"
      ],
      "text/plain": [
       "┏━━━━━━━━━━━━━━━━━━━━━━━━━━━━━━━┳━━━━━━━━━━━━━━━━━━━━━━━━┓\n",
       "┃\u001b[1m \u001b[0m\u001b[1mMetrics                      \u001b[0m\u001b[1m \u001b[0m┃\u001b[1m \u001b[0m\u001b[1mValue                 \u001b[0m\u001b[1m \u001b[0m┃\n",
       "┡━━━━━━━━━━━━━━━━━━━━━━━━━━━━━━━╇━━━━━━━━━━━━━━━━━━━━━━━━┩\n",
       "│ Metrics/EpRet                 │ 5.492681503295898      │\n",
       "│ Metrics/EpCost                │ 37.5                   │\n",
       "│ Metrics/EpLen                 │ 1000.0                 │\n",
       "│ Train/Epoch                   │ 24.0                   │\n",
       "│ Train/Entropy                 │ 1.3699512481689453     │\n",
       "│ Train/KL                      │ 0.0001615982037037611  │\n",
       "│ Train/StopIter                │ 10.0                   │\n",
       "│ Train/PolicyRatio/Mean        │ 1.0003986358642578     │\n",
       "│ Train/PolicyRatio/Min         │ 1.0003986358642578     │\n",
       "│ Train/PolicyRatio/Max         │ 1.0003986358642578     │\n",
       "│ Train/PolicyRatio/Std         │ 0.00028193433536216617 │\n",
       "│ Train/LR                      │ 0.0                    │\n",
       "│ Train/PolicyStd               │ 0.9580104947090149     │\n",
       "│ TotalEnvSteps                 │ 500000.0               │\n",
       "│ Loss/Loss_pi                  │ -0.007437627762556076  │\n",
       "│ Loss/Loss_pi/Delta            │ -6.672600284218788e-05 │\n",
       "│ Value/Adv                     │ 8.77380390562621e-09   │\n",
       "│ Loss/Loss_reward_critic       │ 0.013297148048877716   │\n",
       "│ Loss/Loss_reward_critic/Delta │ -0.001076691783964634  │\n",
       "│ Value/reward                  │ 0.2805781364440918     │\n",
       "│ Loss/Loss_cost_critic         │ 0.7057119607925415     │\n",
       "│ Loss/Loss_cost_critic/Delta   │ -0.16098910570144653   │\n",
       "│ Value/cost                    │ 3.1995437145233154     │\n",
       "│ Time/Total                    │ 1517.322265625         │\n",
       "│ Time/Rollout                  │ 49.9527587890625       │\n",
       "│ Time/Update                   │ 13.066094398498535     │\n",
       "│ Time/Epoch                    │ 63.01885223388672      │\n",
       "│ Time/FPS                      │ 317.3653564453125      │\n",
       "│ Misc/Alpha                    │ 0.8445489406585693     │\n",
       "│ Misc/FinalStepNorm            │ 0.2944490909576416     │\n",
       "│ Misc/gradient_norm            │ 0.15409204363822937    │\n",
       "│ Misc/xHx                      │ 0.028040140867233276   │\n",
       "│ Misc/H_inv_g                  │ 0.27035045623779297    │\n",
       "│ Misc/AcceptanceStep           │ 1.0                    │\n",
       "│ Misc/cost_gradient_norm       │ 0.1686556339263916     │\n",
       "│ Misc/A                        │ 0.02782873809337616    │\n",
       "│ Misc/B                        │ -2367.57568359375      │\n",
       "│ Misc/q                        │ 0.028040140867233276   │\n",
       "│ Misc/r                        │ 0.003735183272510767   │\n",
       "│ Misc/s                        │ 0.0659952163696289     │\n",
       "│ Misc/Lambda_star              │ 0.0                    │\n",
       "│ Misc/Nu_star                  │ 0.5505017638206482     │\n",
       "│ Misc/OptimCase                │ 0.0                    │\n",
       "└───────────────────────────────┴────────────────────────┘\n"
      ]
     },
     "metadata": {},
     "output_type": "display_data"
    },
    {
     "data": {
      "text/html": [
       "<pre style=\"white-space:pre;overflow-x:auto;line-height:normal;font-family:Menlo,'DejaVu Sans Mono',consolas,'Courier New',monospace\"><span style=\"color: #008000; text-decoration-color: #008000\">Warning: trajectory cut off when rollout by epoch at </span><span style=\"color: #008080; text-decoration-color: #008080; font-weight: bold\">1000.0</span><span style=\"color: #008000; text-decoration-color: #008000\"> steps.</span>\n",
       "</pre>\n"
      ],
      "text/plain": [
       "\u001b[32mWarning: trajectory cut off when rollout by epoch at \u001b[0m\u001b[1;36m1000.0\u001b[0m\u001b[32m steps.\u001b[0m\n"
      ]
     },
     "metadata": {},
     "output_type": "display_data"
    },
    {
     "data": {
      "text/html": [
       "<pre style=\"white-space:pre;overflow-x:auto;line-height:normal;font-family:Menlo,'DejaVu Sans Mono',consolas,'Courier New',monospace\"><span style=\"color: #008000; text-decoration-color: #008000\">Warning: trajectory cut off when rollout by epoch at </span><span style=\"color: #008080; text-decoration-color: #008080; font-weight: bold\">1000.0</span><span style=\"color: #008000; text-decoration-color: #008000\"> steps.</span>\n",
       "</pre>\n"
      ],
      "text/plain": [
       "\u001b[32mWarning: trajectory cut off when rollout by epoch at \u001b[0m\u001b[1;36m1000.0\u001b[0m\u001b[32m steps.\u001b[0m\n"
      ]
     },
     "metadata": {},
     "output_type": "display_data"
    },
    {
     "data": {
      "text/html": [
       "<pre style=\"white-space:pre;overflow-x:auto;line-height:normal;font-family:Menlo,'DejaVu Sans Mono',consolas,'Courier New',monospace\"><span style=\"color: #008000; text-decoration-color: #008000\">Warning: trajectory cut off when rollout by epoch at </span><span style=\"color: #008080; text-decoration-color: #008080; font-weight: bold\">1000.0</span><span style=\"color: #008000; text-decoration-color: #008000\"> steps.</span>\n",
       "</pre>\n"
      ],
      "text/plain": [
       "\u001b[32mWarning: trajectory cut off when rollout by epoch at \u001b[0m\u001b[1;36m1000.0\u001b[0m\u001b[32m steps.\u001b[0m\n"
      ]
     },
     "metadata": {},
     "output_type": "display_data"
    },
    {
     "data": {
      "text/html": [
       "<pre style=\"white-space:pre;overflow-x:auto;line-height:normal;font-family:Menlo,'DejaVu Sans Mono',consolas,'Courier New',monospace\"><span style=\"color: #008000; text-decoration-color: #008000\">Warning: trajectory cut off when rollout by epoch at </span><span style=\"color: #008080; text-decoration-color: #008080; font-weight: bold\">1000.0</span><span style=\"color: #008000; text-decoration-color: #008000\"> steps.</span>\n",
       "</pre>\n"
      ],
      "text/plain": [
       "\u001b[32mWarning: trajectory cut off when rollout by epoch at \u001b[0m\u001b[1;36m1000.0\u001b[0m\u001b[32m steps.\u001b[0m\n"
      ]
     },
     "metadata": {},
     "output_type": "display_data"
    },
    {
     "data": {
      "text/html": [
       "<pre style=\"white-space:pre;overflow-x:auto;line-height:normal;font-family:Menlo,'DejaVu Sans Mono',consolas,'Courier New',monospace\"></pre>\n"
      ],
      "text/plain": []
     },
     "metadata": {},
     "output_type": "display_data"
    },
    {
     "data": {
      "text/html": [
       "<pre style=\"white-space:pre;overflow-x:auto;line-height:normal;font-family:Menlo,'DejaVu Sans Mono',consolas,'Courier New',monospace\">\n",
       "</pre>\n"
      ],
      "text/plain": [
       "\n"
      ]
     },
     "metadata": {},
     "output_type": "display_data"
    },
    {
     "data": {
      "text/html": [
       "<pre style=\"white-space:pre;overflow-x:auto;line-height:normal;font-family:Menlo,'DejaVu Sans Mono',consolas,'Courier New',monospace\"><span style=\"color: #800000; text-decoration-color: #800000\">Alert! Attempting infeasible recovery!</span>\n",
       "</pre>\n"
      ],
      "text/plain": [
       "\u001b[31mAlert! Attempting infeasible recovery!\u001b[0m\n"
      ]
     },
     "metadata": {},
     "output_type": "display_data"
    },
    {
     "data": {
      "text/html": [
       "<pre style=\"white-space:pre;overflow-x:auto;line-height:normal;font-family:Menlo,'DejaVu Sans Mono',consolas,'Courier New',monospace\"><span style=\"color: #008000; text-decoration-color: #008000\">Expected Improvement: </span><span style=\"color: #008080; text-decoration-color: #008080; font-weight: bold\">-0.0014628777280449867</span><span style=\"color: #008000; text-decoration-color: #008000\"> Actual: </span><span style=\"color: #008080; text-decoration-color: #008080; font-weight: bold\">-0.001824851962737739</span>\n",
       "</pre>\n"
      ],
      "text/plain": [
       "\u001b[32mExpected Improvement: \u001b[0m\u001b[1;36m-0.0014628777280449867\u001b[0m\u001b[32m Actual: \u001b[0m\u001b[1;36m-0.001824851962737739\u001b[0m\n"
      ]
     },
     "metadata": {},
     "output_type": "display_data"
    },
    {
     "data": {
      "text/html": [
       "<pre style=\"white-space:pre;overflow-x:auto;line-height:normal;font-family:Menlo,'DejaVu Sans Mono',consolas,'Courier New',monospace\"><span style=\"color: #008000; text-decoration-color: #008000\">Accept step at </span><span style=\"color: #808000; text-decoration-color: #808000\">i</span><span style=\"color: #008000; text-decoration-color: #008000\">=</span><span style=\"color: #008080; text-decoration-color: #008080; font-weight: bold\">1</span>\n",
       "</pre>\n"
      ],
      "text/plain": [
       "\u001b[32mAccept step at \u001b[0m\u001b[33mi\u001b[0m\u001b[32m=\u001b[0m\u001b[1;36m1\u001b[0m\n"
      ]
     },
     "metadata": {},
     "output_type": "display_data"
    },
    {
     "data": {
      "text/html": [
       "<pre style=\"white-space:pre;overflow-x:auto;line-height:normal;font-family:Menlo,'DejaVu Sans Mono',consolas,'Courier New',monospace\">┏━━━━━━━━━━━━━━━━━━━━━━━━━━━━━━━┳━━━━━━━━━━━━━━━━━━━━━━━━┓\n",
       "┃<span style=\"font-weight: bold\"> Metrics                       </span>┃<span style=\"font-weight: bold\"> Value                  </span>┃\n",
       "┡━━━━━━━━━━━━━━━━━━━━━━━━━━━━━━━╇━━━━━━━━━━━━━━━━━━━━━━━━┩\n",
       "│ Metrics/EpRet                 │ 5.251345157623291      │\n",
       "│ Metrics/EpCost                │ 27.059999465942383     │\n",
       "│ Metrics/EpLen                 │ 1000.0                 │\n",
       "│ Train/Epoch                   │ 25.0                   │\n",
       "│ Train/Entropy                 │ 1.3695584535598755     │\n",
       "│ Train/KL                      │ 0.00014994047523941845 │\n",
       "│ Train/StopIter                │ 10.0                   │\n",
       "│ Train/PolicyRatio/Mean        │ 1.000802993774414      │\n",
       "│ Train/PolicyRatio/Min         │ 1.000802993774414      │\n",
       "│ Train/PolicyRatio/Max         │ 1.000802993774414      │\n",
       "│ Train/PolicyRatio/Std         │ 0.000567858514841646   │\n",
       "│ Train/LR                      │ 0.0                    │\n",
       "│ Train/PolicyStd               │ 0.9595902562141418     │\n",
       "│ TotalEnvSteps                 │ 520000.0               │\n",
       "│ Loss/Loss_pi                  │ -0.004086954984813929  │\n",
       "│ Loss/Loss_pi/Delta            │ 0.0033506727777421474  │\n",
       "│ Value/Adv                     │ -1.831054596834747e-08 │\n",
       "│ Loss/Loss_reward_critic       │ 0.015231981873512268   │\n",
       "│ Loss/Loss_reward_critic/Delta │ 0.001934833824634552   │\n",
       "│ Value/reward                  │ 0.42470547556877136    │\n",
       "│ Loss/Loss_cost_critic         │ 0.5559781193733215     │\n",
       "│ Loss/Loss_cost_critic/Delta   │ -0.14973384141921997   │\n",
       "│ Value/cost                    │ 2.8615310192108154     │\n",
       "│ Time/Total                    │ 1580.8594970703125     │\n",
       "│ Time/Rollout                  │ 50.226280212402344     │\n",
       "│ Time/Update                   │ 13.268011093139648     │\n",
       "│ Time/Epoch                    │ 63.494293212890625     │\n",
       "│ Time/FPS                      │ 314.98895263671875     │\n",
       "│ Misc/Alpha                    │ 0.9375143051147461     │\n",
       "│ Misc/FinalStepNorm            │ 0.3124668598175049     │\n",
       "│ Misc/gradient_norm            │ 0.13309217989444733    │\n",
       "│ Misc/xHx                      │ 0.02275485172867775    │\n",
       "│ Misc/H_inv_g                  │ 0.24253280460834503    │\n",
       "│ Misc/AcceptanceStep           │ 1.0                    │\n",
       "│ Misc/cost_gradient_norm       │ 0.09677425771951675    │\n",
       "│ Misc/A                        │ 0.022647852078080177   │\n",
       "│ Misc/B                        │ -174.3467254638672     │\n",
       "│ Misc/q                        │ 0.02275485172867775    │\n",
       "│ Misc/r                        │ 0.001613720552995801   │\n",
       "│ Misc/s                        │ 0.02433719113469124    │\n",
       "│ Misc/Lambda_star              │ 0.0                    │\n",
       "│ Misc/Nu_star                  │ 0.9065247774124146     │\n",
       "│ Misc/OptimCase                │ 0.0                    │\n",
       "└───────────────────────────────┴────────────────────────┘\n",
       "</pre>\n"
      ],
      "text/plain": [
       "┏━━━━━━━━━━━━━━━━━━━━━━━━━━━━━━━┳━━━━━━━━━━━━━━━━━━━━━━━━┓\n",
       "┃\u001b[1m \u001b[0m\u001b[1mMetrics                      \u001b[0m\u001b[1m \u001b[0m┃\u001b[1m \u001b[0m\u001b[1mValue                 \u001b[0m\u001b[1m \u001b[0m┃\n",
       "┡━━━━━━━━━━━━━━━━━━━━━━━━━━━━━━━╇━━━━━━━━━━━━━━━━━━━━━━━━┩\n",
       "│ Metrics/EpRet                 │ 5.251345157623291      │\n",
       "│ Metrics/EpCost                │ 27.059999465942383     │\n",
       "│ Metrics/EpLen                 │ 1000.0                 │\n",
       "│ Train/Epoch                   │ 25.0                   │\n",
       "│ Train/Entropy                 │ 1.3695584535598755     │\n",
       "│ Train/KL                      │ 0.00014994047523941845 │\n",
       "│ Train/StopIter                │ 10.0                   │\n",
       "│ Train/PolicyRatio/Mean        │ 1.000802993774414      │\n",
       "│ Train/PolicyRatio/Min         │ 1.000802993774414      │\n",
       "│ Train/PolicyRatio/Max         │ 1.000802993774414      │\n",
       "│ Train/PolicyRatio/Std         │ 0.000567858514841646   │\n",
       "│ Train/LR                      │ 0.0                    │\n",
       "│ Train/PolicyStd               │ 0.9595902562141418     │\n",
       "│ TotalEnvSteps                 │ 520000.0               │\n",
       "│ Loss/Loss_pi                  │ -0.004086954984813929  │\n",
       "│ Loss/Loss_pi/Delta            │ 0.0033506727777421474  │\n",
       "│ Value/Adv                     │ -1.831054596834747e-08 │\n",
       "│ Loss/Loss_reward_critic       │ 0.015231981873512268   │\n",
       "│ Loss/Loss_reward_critic/Delta │ 0.001934833824634552   │\n",
       "│ Value/reward                  │ 0.42470547556877136    │\n",
       "│ Loss/Loss_cost_critic         │ 0.5559781193733215     │\n",
       "│ Loss/Loss_cost_critic/Delta   │ -0.14973384141921997   │\n",
       "│ Value/cost                    │ 2.8615310192108154     │\n",
       "│ Time/Total                    │ 1580.8594970703125     │\n",
       "│ Time/Rollout                  │ 50.226280212402344     │\n",
       "│ Time/Update                   │ 13.268011093139648     │\n",
       "│ Time/Epoch                    │ 63.494293212890625     │\n",
       "│ Time/FPS                      │ 314.98895263671875     │\n",
       "│ Misc/Alpha                    │ 0.9375143051147461     │\n",
       "│ Misc/FinalStepNorm            │ 0.3124668598175049     │\n",
       "│ Misc/gradient_norm            │ 0.13309217989444733    │\n",
       "│ Misc/xHx                      │ 0.02275485172867775    │\n",
       "│ Misc/H_inv_g                  │ 0.24253280460834503    │\n",
       "│ Misc/AcceptanceStep           │ 1.0                    │\n",
       "│ Misc/cost_gradient_norm       │ 0.09677425771951675    │\n",
       "│ Misc/A                        │ 0.022647852078080177   │\n",
       "│ Misc/B                        │ -174.3467254638672     │\n",
       "│ Misc/q                        │ 0.02275485172867775    │\n",
       "│ Misc/r                        │ 0.001613720552995801   │\n",
       "│ Misc/s                        │ 0.02433719113469124    │\n",
       "│ Misc/Lambda_star              │ 0.0                    │\n",
       "│ Misc/Nu_star                  │ 0.9065247774124146     │\n",
       "│ Misc/OptimCase                │ 0.0                    │\n",
       "└───────────────────────────────┴────────────────────────┘\n"
      ]
     },
     "metadata": {},
     "output_type": "display_data"
    },
    {
     "data": {
      "text/html": [
       "<pre style=\"white-space:pre;overflow-x:auto;line-height:normal;font-family:Menlo,'DejaVu Sans Mono',consolas,'Courier New',monospace\"><span style=\"color: #008000; text-decoration-color: #008000\">Warning: trajectory cut off when rollout by epoch at </span><span style=\"color: #008080; text-decoration-color: #008080; font-weight: bold\">1000.0</span><span style=\"color: #008000; text-decoration-color: #008000\"> steps.</span>\n",
       "</pre>\n"
      ],
      "text/plain": [
       "\u001b[32mWarning: trajectory cut off when rollout by epoch at \u001b[0m\u001b[1;36m1000.0\u001b[0m\u001b[32m steps.\u001b[0m\n"
      ]
     },
     "metadata": {},
     "output_type": "display_data"
    },
    {
     "data": {
      "text/html": [
       "<pre style=\"white-space:pre;overflow-x:auto;line-height:normal;font-family:Menlo,'DejaVu Sans Mono',consolas,'Courier New',monospace\"><span style=\"color: #008000; text-decoration-color: #008000\">Warning: trajectory cut off when rollout by epoch at </span><span style=\"color: #008080; text-decoration-color: #008080; font-weight: bold\">1000.0</span><span style=\"color: #008000; text-decoration-color: #008000\"> steps.</span>\n",
       "</pre>\n"
      ],
      "text/plain": [
       "\u001b[32mWarning: trajectory cut off when rollout by epoch at \u001b[0m\u001b[1;36m1000.0\u001b[0m\u001b[32m steps.\u001b[0m\n"
      ]
     },
     "metadata": {},
     "output_type": "display_data"
    },
    {
     "data": {
      "text/html": [
       "<pre style=\"white-space:pre;overflow-x:auto;line-height:normal;font-family:Menlo,'DejaVu Sans Mono',consolas,'Courier New',monospace\"><span style=\"color: #008000; text-decoration-color: #008000\">Warning: trajectory cut off when rollout by epoch at </span><span style=\"color: #008080; text-decoration-color: #008080; font-weight: bold\">1000.0</span><span style=\"color: #008000; text-decoration-color: #008000\"> steps.</span>\n",
       "</pre>\n"
      ],
      "text/plain": [
       "\u001b[32mWarning: trajectory cut off when rollout by epoch at \u001b[0m\u001b[1;36m1000.0\u001b[0m\u001b[32m steps.\u001b[0m\n"
      ]
     },
     "metadata": {},
     "output_type": "display_data"
    },
    {
     "data": {
      "text/html": [
       "<pre style=\"white-space:pre;overflow-x:auto;line-height:normal;font-family:Menlo,'DejaVu Sans Mono',consolas,'Courier New',monospace\"><span style=\"color: #008000; text-decoration-color: #008000\">Warning: trajectory cut off when rollout by epoch at </span><span style=\"color: #008080; text-decoration-color: #008080; font-weight: bold\">1000.0</span><span style=\"color: #008000; text-decoration-color: #008000\"> steps.</span>\n",
       "</pre>\n"
      ],
      "text/plain": [
       "\u001b[32mWarning: trajectory cut off when rollout by epoch at \u001b[0m\u001b[1;36m1000.0\u001b[0m\u001b[32m steps.\u001b[0m\n"
      ]
     },
     "metadata": {},
     "output_type": "display_data"
    },
    {
     "data": {
      "text/html": [
       "<pre style=\"white-space:pre;overflow-x:auto;line-height:normal;font-family:Menlo,'DejaVu Sans Mono',consolas,'Courier New',monospace\"></pre>\n"
      ],
      "text/plain": []
     },
     "metadata": {},
     "output_type": "display_data"
    },
    {
     "data": {
      "text/html": [
       "<pre style=\"white-space:pre;overflow-x:auto;line-height:normal;font-family:Menlo,'DejaVu Sans Mono',consolas,'Courier New',monospace\">\n",
       "</pre>\n"
      ],
      "text/plain": [
       "\n"
      ]
     },
     "metadata": {},
     "output_type": "display_data"
    },
    {
     "data": {
      "text/html": [
       "<pre style=\"white-space:pre;overflow-x:auto;line-height:normal;font-family:Menlo,'DejaVu Sans Mono',consolas,'Courier New',monospace\"><span style=\"color: #008000; text-decoration-color: #008000\">Expected Improvement: </span><span style=\"color: #008080; text-decoration-color: #008080; font-weight: bold\">0.021875672042369843</span><span style=\"color: #008000; text-decoration-color: #008000\"> Actual: </span><span style=\"color: #008080; text-decoration-color: #008080; font-weight: bold\">0.02148088812828064</span>\n",
       "</pre>\n"
      ],
      "text/plain": [
       "\u001b[32mExpected Improvement: \u001b[0m\u001b[1;36m0.021875672042369843\u001b[0m\u001b[32m Actual: \u001b[0m\u001b[1;36m0.02148088812828064\u001b[0m\n"
      ]
     },
     "metadata": {},
     "output_type": "display_data"
    },
    {
     "data": {
      "text/html": [
       "<pre style=\"white-space:pre;overflow-x:auto;line-height:normal;font-family:Menlo,'DejaVu Sans Mono',consolas,'Courier New',monospace\"><span style=\"color: #008000; text-decoration-color: #008000\">Accept step at </span><span style=\"color: #808000; text-decoration-color: #808000\">i</span><span style=\"color: #008000; text-decoration-color: #008000\">=</span><span style=\"color: #008080; text-decoration-color: #008080; font-weight: bold\">1</span>\n",
       "</pre>\n"
      ],
      "text/plain": [
       "\u001b[32mAccept step at \u001b[0m\u001b[33mi\u001b[0m\u001b[32m=\u001b[0m\u001b[1;36m1\u001b[0m\n"
      ]
     },
     "metadata": {},
     "output_type": "display_data"
    },
    {
     "data": {
      "text/html": [
       "<pre style=\"white-space:pre;overflow-x:auto;line-height:normal;font-family:Menlo,'DejaVu Sans Mono',consolas,'Courier New',monospace\">┏━━━━━━━━━━━━━━━━━━━━━━━━━━━━━━━┳━━━━━━━━━━━━━━━━━━━━━━━━┓\n",
       "┃<span style=\"font-weight: bold\"> Metrics                       </span>┃<span style=\"font-weight: bold\"> Value                  </span>┃\n",
       "┡━━━━━━━━━━━━━━━━━━━━━━━━━━━━━━━╇━━━━━━━━━━━━━━━━━━━━━━━━┩\n",
       "│ Metrics/EpRet                 │ 5.143628120422363      │\n",
       "│ Metrics/EpCost                │ 16.719999313354492     │\n",
       "│ Metrics/EpLen                 │ 1000.0                 │\n",
       "│ Train/Epoch                   │ 26.0                   │\n",
       "│ Train/Entropy                 │ 1.3649977445602417     │\n",
       "│ Train/KL                      │ 0.0002026455767918378  │\n",
       "│ Train/StopIter                │ 10.0                   │\n",
       "│ Train/PolicyRatio/Mean        │ 0.9994314312934875     │\n",
       "│ Train/PolicyRatio/Min         │ 0.9994314908981323     │\n",
       "│ Train/PolicyRatio/Max         │ 0.9994314908981323     │\n",
       "│ Train/PolicyRatio/Std         │ 0.0004019966290798038  │\n",
       "│ Train/LR                      │ 0.0                    │\n",
       "│ Train/PolicyStd               │ 0.9563465714454651     │\n",
       "│ TotalEnvSteps                 │ 540000.0               │\n",
       "│ Loss/Loss_pi                  │ -0.015267472714185715  │\n",
       "│ Loss/Loss_pi/Delta            │ -0.011180517729371786  │\n",
       "│ Value/Adv                     │ -8.392333938900265e-09 │\n",
       "│ Loss/Loss_reward_critic       │ 0.013888026587665081   │\n",
       "│ Loss/Loss_reward_critic/Delta │ -0.001343955285847187  │\n",
       "│ Value/reward                  │ 0.4172447621822357     │\n",
       "│ Loss/Loss_cost_critic         │ 0.5729717016220093     │\n",
       "│ Loss/Loss_cost_critic/Delta   │ 0.016993582248687744   │\n",
       "│ Value/cost                    │ 2.571848154067993      │\n",
       "│ Time/Total                    │ 1643.315185546875      │\n",
       "│ Time/Rollout                  │ 49.3397102355957       │\n",
       "│ Time/Update                   │ 13.07210922241211      │\n",
       "│ Time/Epoch                    │ 62.41181945800781      │\n",
       "│ Time/FPS                      │ 320.4521179199219      │\n",
       "│ Misc/Alpha                    │ 0.9151970744132996     │\n",
       "│ Misc/FinalStepNorm            │ 0.23374593257904053    │\n",
       "│ Misc/gradient_norm            │ 0.14174313843250275    │\n",
       "│ Misc/xHx                      │ 0.023878145962953568   │\n",
       "│ Misc/H_inv_g                  │ 0.2554050087928772     │\n",
       "│ Misc/AcceptanceStep           │ 1.0                    │\n",
       "│ Misc/cost_gradient_norm       │ 0.12403091043233871    │\n",
       "│ Misc/A                        │ 0.02322208695113659    │\n",
       "│ Misc/B                        │ -2046.783447265625     │\n",
       "│ Misc/q                        │ 0.023878145962953568   │\n",
       "│ Misc/r                        │ 0.0046877446584403515  │\n",
       "│ Misc/s                        │ 0.03349534422159195    │\n",
       "│ Misc/Lambda_star              │ 1.0926607847213745     │\n",
       "│ Misc/Nu_star                  │ 0.0                    │\n",
       "│ Misc/OptimCase                │ 3.0                    │\n",
       "└───────────────────────────────┴────────────────────────┘\n",
       "</pre>\n"
      ],
      "text/plain": [
       "┏━━━━━━━━━━━━━━━━━━━━━━━━━━━━━━━┳━━━━━━━━━━━━━━━━━━━━━━━━┓\n",
       "┃\u001b[1m \u001b[0m\u001b[1mMetrics                      \u001b[0m\u001b[1m \u001b[0m┃\u001b[1m \u001b[0m\u001b[1mValue                 \u001b[0m\u001b[1m \u001b[0m┃\n",
       "┡━━━━━━━━━━━━━━━━━━━━━━━━━━━━━━━╇━━━━━━━━━━━━━━━━━━━━━━━━┩\n",
       "│ Metrics/EpRet                 │ 5.143628120422363      │\n",
       "│ Metrics/EpCost                │ 16.719999313354492     │\n",
       "│ Metrics/EpLen                 │ 1000.0                 │\n",
       "│ Train/Epoch                   │ 26.0                   │\n",
       "│ Train/Entropy                 │ 1.3649977445602417     │\n",
       "│ Train/KL                      │ 0.0002026455767918378  │\n",
       "│ Train/StopIter                │ 10.0                   │\n",
       "│ Train/PolicyRatio/Mean        │ 0.9994314312934875     │\n",
       "│ Train/PolicyRatio/Min         │ 0.9994314908981323     │\n",
       "│ Train/PolicyRatio/Max         │ 0.9994314908981323     │\n",
       "│ Train/PolicyRatio/Std         │ 0.0004019966290798038  │\n",
       "│ Train/LR                      │ 0.0                    │\n",
       "│ Train/PolicyStd               │ 0.9563465714454651     │\n",
       "│ TotalEnvSteps                 │ 540000.0               │\n",
       "│ Loss/Loss_pi                  │ -0.015267472714185715  │\n",
       "│ Loss/Loss_pi/Delta            │ -0.011180517729371786  │\n",
       "│ Value/Adv                     │ -8.392333938900265e-09 │\n",
       "│ Loss/Loss_reward_critic       │ 0.013888026587665081   │\n",
       "│ Loss/Loss_reward_critic/Delta │ -0.001343955285847187  │\n",
       "│ Value/reward                  │ 0.4172447621822357     │\n",
       "│ Loss/Loss_cost_critic         │ 0.5729717016220093     │\n",
       "│ Loss/Loss_cost_critic/Delta   │ 0.016993582248687744   │\n",
       "│ Value/cost                    │ 2.571848154067993      │\n",
       "│ Time/Total                    │ 1643.315185546875      │\n",
       "│ Time/Rollout                  │ 49.3397102355957       │\n",
       "│ Time/Update                   │ 13.07210922241211      │\n",
       "│ Time/Epoch                    │ 62.41181945800781      │\n",
       "│ Time/FPS                      │ 320.4521179199219      │\n",
       "│ Misc/Alpha                    │ 0.9151970744132996     │\n",
       "│ Misc/FinalStepNorm            │ 0.23374593257904053    │\n",
       "│ Misc/gradient_norm            │ 0.14174313843250275    │\n",
       "│ Misc/xHx                      │ 0.023878145962953568   │\n",
       "│ Misc/H_inv_g                  │ 0.2554050087928772     │\n",
       "│ Misc/AcceptanceStep           │ 1.0                    │\n",
       "│ Misc/cost_gradient_norm       │ 0.12403091043233871    │\n",
       "│ Misc/A                        │ 0.02322208695113659    │\n",
       "│ Misc/B                        │ -2046.783447265625     │\n",
       "│ Misc/q                        │ 0.023878145962953568   │\n",
       "│ Misc/r                        │ 0.0046877446584403515  │\n",
       "│ Misc/s                        │ 0.03349534422159195    │\n",
       "│ Misc/Lambda_star              │ 1.0926607847213745     │\n",
       "│ Misc/Nu_star                  │ 0.0                    │\n",
       "│ Misc/OptimCase                │ 3.0                    │\n",
       "└───────────────────────────────┴────────────────────────┘\n"
      ]
     },
     "metadata": {},
     "output_type": "display_data"
    },
    {
     "data": {
      "text/html": [
       "<pre style=\"white-space:pre;overflow-x:auto;line-height:normal;font-family:Menlo,'DejaVu Sans Mono',consolas,'Courier New',monospace\"><span style=\"color: #008000; text-decoration-color: #008000\">Warning: trajectory cut off when rollout by epoch at </span><span style=\"color: #008080; text-decoration-color: #008080; font-weight: bold\">1000.0</span><span style=\"color: #008000; text-decoration-color: #008000\"> steps.</span>\n",
       "</pre>\n"
      ],
      "text/plain": [
       "\u001b[32mWarning: trajectory cut off when rollout by epoch at \u001b[0m\u001b[1;36m1000.0\u001b[0m\u001b[32m steps.\u001b[0m\n"
      ]
     },
     "metadata": {},
     "output_type": "display_data"
    },
    {
     "data": {
      "text/html": [
       "<pre style=\"white-space:pre;overflow-x:auto;line-height:normal;font-family:Menlo,'DejaVu Sans Mono',consolas,'Courier New',monospace\"><span style=\"color: #008000; text-decoration-color: #008000\">Warning: trajectory cut off when rollout by epoch at </span><span style=\"color: #008080; text-decoration-color: #008080; font-weight: bold\">1000.0</span><span style=\"color: #008000; text-decoration-color: #008000\"> steps.</span>\n",
       "</pre>\n"
      ],
      "text/plain": [
       "\u001b[32mWarning: trajectory cut off when rollout by epoch at \u001b[0m\u001b[1;36m1000.0\u001b[0m\u001b[32m steps.\u001b[0m\n"
      ]
     },
     "metadata": {},
     "output_type": "display_data"
    },
    {
     "data": {
      "text/html": [
       "<pre style=\"white-space:pre;overflow-x:auto;line-height:normal;font-family:Menlo,'DejaVu Sans Mono',consolas,'Courier New',monospace\"><span style=\"color: #008000; text-decoration-color: #008000\">Warning: trajectory cut off when rollout by epoch at </span><span style=\"color: #008080; text-decoration-color: #008080; font-weight: bold\">1000.0</span><span style=\"color: #008000; text-decoration-color: #008000\"> steps.</span>\n",
       "</pre>\n"
      ],
      "text/plain": [
       "\u001b[32mWarning: trajectory cut off when rollout by epoch at \u001b[0m\u001b[1;36m1000.0\u001b[0m\u001b[32m steps.\u001b[0m\n"
      ]
     },
     "metadata": {},
     "output_type": "display_data"
    },
    {
     "data": {
      "text/html": [
       "<pre style=\"white-space:pre;overflow-x:auto;line-height:normal;font-family:Menlo,'DejaVu Sans Mono',consolas,'Courier New',monospace\"><span style=\"color: #008000; text-decoration-color: #008000\">Warning: trajectory cut off when rollout by epoch at </span><span style=\"color: #008080; text-decoration-color: #008080; font-weight: bold\">1000.0</span><span style=\"color: #008000; text-decoration-color: #008000\"> steps.</span>\n",
       "</pre>\n"
      ],
      "text/plain": [
       "\u001b[32mWarning: trajectory cut off when rollout by epoch at \u001b[0m\u001b[1;36m1000.0\u001b[0m\u001b[32m steps.\u001b[0m\n"
      ]
     },
     "metadata": {},
     "output_type": "display_data"
    },
    {
     "data": {
      "text/html": [
       "<pre style=\"white-space:pre;overflow-x:auto;line-height:normal;font-family:Menlo,'DejaVu Sans Mono',consolas,'Courier New',monospace\"></pre>\n"
      ],
      "text/plain": []
     },
     "metadata": {},
     "output_type": "display_data"
    },
    {
     "data": {
      "text/html": [
       "<pre style=\"white-space:pre;overflow-x:auto;line-height:normal;font-family:Menlo,'DejaVu Sans Mono',consolas,'Courier New',monospace\">\n",
       "</pre>\n"
      ],
      "text/plain": [
       "\n"
      ]
     },
     "metadata": {},
     "output_type": "display_data"
    },
    {
     "data": {
      "text/html": [
       "<pre style=\"white-space:pre;overflow-x:auto;line-height:normal;font-family:Menlo,'DejaVu Sans Mono',consolas,'Courier New',monospace\"><span style=\"color: #008000; text-decoration-color: #008000\">Expected Improvement: </span><span style=\"color: #008080; text-decoration-color: #008080; font-weight: bold\">0.023976877331733704</span><span style=\"color: #008000; text-decoration-color: #008000\"> Actual: </span><span style=\"color: #008080; text-decoration-color: #008080; font-weight: bold\">0.023583341389894485</span>\n",
       "</pre>\n"
      ],
      "text/plain": [
       "\u001b[32mExpected Improvement: \u001b[0m\u001b[1;36m0.023976877331733704\u001b[0m\u001b[32m Actual: \u001b[0m\u001b[1;36m0.023583341389894485\u001b[0m\n"
      ]
     },
     "metadata": {},
     "output_type": "display_data"
    },
    {
     "data": {
      "text/html": [
       "<pre style=\"white-space:pre;overflow-x:auto;line-height:normal;font-family:Menlo,'DejaVu Sans Mono',consolas,'Courier New',monospace\"><span style=\"color: #008000; text-decoration-color: #008000\">Accept step at </span><span style=\"color: #808000; text-decoration-color: #808000\">i</span><span style=\"color: #008000; text-decoration-color: #008000\">=</span><span style=\"color: #008080; text-decoration-color: #008080; font-weight: bold\">1</span>\n",
       "</pre>\n"
      ],
      "text/plain": [
       "\u001b[32mAccept step at \u001b[0m\u001b[33mi\u001b[0m\u001b[32m=\u001b[0m\u001b[1;36m1\u001b[0m\n"
      ]
     },
     "metadata": {},
     "output_type": "display_data"
    },
    {
     "data": {
      "text/html": [
       "<pre style=\"white-space:pre;overflow-x:auto;line-height:normal;font-family:Menlo,'DejaVu Sans Mono',consolas,'Courier New',monospace\">┏━━━━━━━━━━━━━━━━━━━━━━━━━━━━━━━┳━━━━━━━━━━━━━━━━━━━━━━━━┓\n",
       "┃<span style=\"font-weight: bold\"> Metrics                       </span>┃<span style=\"font-weight: bold\"> Value                  </span>┃\n",
       "┡━━━━━━━━━━━━━━━━━━━━━━━━━━━━━━━╇━━━━━━━━━━━━━━━━━━━━━━━━┩\n",
       "│ Metrics/EpRet                 │ 6.072954177856445      │\n",
       "│ Metrics/EpCost                │ 22.0                   │\n",
       "│ Metrics/EpLen                 │ 1000.0                 │\n",
       "│ Train/Epoch                   │ 27.0                   │\n",
       "│ Train/Entropy                 │ 1.350188136100769      │\n",
       "│ Train/KL                      │ 0.00023973459610715508 │\n",
       "│ Train/StopIter                │ 10.0                   │\n",
       "│ Train/PolicyRatio/Mean        │ 0.9995643496513367     │\n",
       "│ Train/PolicyRatio/Min         │ 0.9995643496513367     │\n",
       "│ Train/PolicyRatio/Max         │ 0.9995643496513367     │\n",
       "│ Train/PolicyRatio/Std         │ 0.000308093469357118   │\n",
       "│ Train/LR                      │ 0.0                    │\n",
       "│ Train/PolicyStd               │ 0.9425320625305176     │\n",
       "│ TotalEnvSteps                 │ 560000.0               │\n",
       "│ Loss/Loss_pi                  │ -0.017112992703914642  │\n",
       "│ Loss/Loss_pi/Delta            │ -0.0018455199897289276 │\n",
       "│ Value/Adv                     │ -3.204345588869728e-08 │\n",
       "│ Loss/Loss_reward_critic       │ 0.015156018547713757   │\n",
       "│ Loss/Loss_reward_critic/Delta │ 0.0012679919600486755  │\n",
       "│ Value/reward                  │ 0.5631917119026184     │\n",
       "│ Loss/Loss_cost_critic         │ 0.862835705280304      │\n",
       "│ Loss/Loss_cost_critic/Delta   │ 0.2898640036582947     │\n",
       "│ Value/cost                    │ 2.3331680297851562     │\n",
       "│ Time/Total                    │ 1705.4722900390625     │\n",
       "│ Time/Rollout                  │ 48.865047454833984     │\n",
       "│ Time/Update                   │ 13.24661922454834      │\n",
       "│ Time/Epoch                    │ 62.11166763305664      │\n",
       "│ Time/FPS                      │ 322.0007019042969      │\n",
       "│ Misc/Alpha                    │ 0.834786057472229      │\n",
       "│ Misc/FinalStepNorm            │ 0.21228085458278656    │\n",
       "│ Misc/gradient_norm            │ 0.16218025982379913    │\n",
       "│ Misc/xHx                      │ 0.028699839487671852   │\n",
       "│ Misc/H_inv_g                  │ 0.2542937099933624     │\n",
       "│ Misc/AcceptanceStep           │ 1.0                    │\n",
       "│ Misc/cost_gradient_norm       │ 0.12378638237714767    │\n",
       "│ Misc/A                        │ 0.028319189324975014   │\n",
       "│ Misc/B                        │ -222.75872802734375    │\n",
       "│ Misc/q                        │ 0.028699839487671852   │\n",
       "│ Misc/r                        │ 0.00392145337536931    │\n",
       "│ Misc/s                        │ 0.040398817509412766   │\n",
       "│ Misc/Lambda_star              │ 1.1979117393493652     │\n",
       "│ Misc/Nu_star                  │ 0.0                    │\n",
       "│ Misc/OptimCase                │ 3.0                    │\n",
       "└───────────────────────────────┴────────────────────────┘\n",
       "</pre>\n"
      ],
      "text/plain": [
       "┏━━━━━━━━━━━━━━━━━━━━━━━━━━━━━━━┳━━━━━━━━━━━━━━━━━━━━━━━━┓\n",
       "┃\u001b[1m \u001b[0m\u001b[1mMetrics                      \u001b[0m\u001b[1m \u001b[0m┃\u001b[1m \u001b[0m\u001b[1mValue                 \u001b[0m\u001b[1m \u001b[0m┃\n",
       "┡━━━━━━━━━━━━━━━━━━━━━━━━━━━━━━━╇━━━━━━━━━━━━━━━━━━━━━━━━┩\n",
       "│ Metrics/EpRet                 │ 6.072954177856445      │\n",
       "│ Metrics/EpCost                │ 22.0                   │\n",
       "│ Metrics/EpLen                 │ 1000.0                 │\n",
       "│ Train/Epoch                   │ 27.0                   │\n",
       "│ Train/Entropy                 │ 1.350188136100769      │\n",
       "│ Train/KL                      │ 0.00023973459610715508 │\n",
       "│ Train/StopIter                │ 10.0                   │\n",
       "│ Train/PolicyRatio/Mean        │ 0.9995643496513367     │\n",
       "│ Train/PolicyRatio/Min         │ 0.9995643496513367     │\n",
       "│ Train/PolicyRatio/Max         │ 0.9995643496513367     │\n",
       "│ Train/PolicyRatio/Std         │ 0.000308093469357118   │\n",
       "│ Train/LR                      │ 0.0                    │\n",
       "│ Train/PolicyStd               │ 0.9425320625305176     │\n",
       "│ TotalEnvSteps                 │ 560000.0               │\n",
       "│ Loss/Loss_pi                  │ -0.017112992703914642  │\n",
       "│ Loss/Loss_pi/Delta            │ -0.0018455199897289276 │\n",
       "│ Value/Adv                     │ -3.204345588869728e-08 │\n",
       "│ Loss/Loss_reward_critic       │ 0.015156018547713757   │\n",
       "│ Loss/Loss_reward_critic/Delta │ 0.0012679919600486755  │\n",
       "│ Value/reward                  │ 0.5631917119026184     │\n",
       "│ Loss/Loss_cost_critic         │ 0.862835705280304      │\n",
       "│ Loss/Loss_cost_critic/Delta   │ 0.2898640036582947     │\n",
       "│ Value/cost                    │ 2.3331680297851562     │\n",
       "│ Time/Total                    │ 1705.4722900390625     │\n",
       "│ Time/Rollout                  │ 48.865047454833984     │\n",
       "│ Time/Update                   │ 13.24661922454834      │\n",
       "│ Time/Epoch                    │ 62.11166763305664      │\n",
       "│ Time/FPS                      │ 322.0007019042969      │\n",
       "│ Misc/Alpha                    │ 0.834786057472229      │\n",
       "│ Misc/FinalStepNorm            │ 0.21228085458278656    │\n",
       "│ Misc/gradient_norm            │ 0.16218025982379913    │\n",
       "│ Misc/xHx                      │ 0.028699839487671852   │\n",
       "│ Misc/H_inv_g                  │ 0.2542937099933624     │\n",
       "│ Misc/AcceptanceStep           │ 1.0                    │\n",
       "│ Misc/cost_gradient_norm       │ 0.12378638237714767    │\n",
       "│ Misc/A                        │ 0.028319189324975014   │\n",
       "│ Misc/B                        │ -222.75872802734375    │\n",
       "│ Misc/q                        │ 0.028699839487671852   │\n",
       "│ Misc/r                        │ 0.00392145337536931    │\n",
       "│ Misc/s                        │ 0.040398817509412766   │\n",
       "│ Misc/Lambda_star              │ 1.1979117393493652     │\n",
       "│ Misc/Nu_star                  │ 0.0                    │\n",
       "│ Misc/OptimCase                │ 3.0                    │\n",
       "└───────────────────────────────┴────────────────────────┘\n"
      ]
     },
     "metadata": {},
     "output_type": "display_data"
    },
    {
     "data": {
      "text/html": [
       "<pre style=\"white-space:pre;overflow-x:auto;line-height:normal;font-family:Menlo,'DejaVu Sans Mono',consolas,'Courier New',monospace\"><span style=\"color: #008000; text-decoration-color: #008000\">Warning: trajectory cut off when rollout by epoch at </span><span style=\"color: #008080; text-decoration-color: #008080; font-weight: bold\">1000.0</span><span style=\"color: #008000; text-decoration-color: #008000\"> steps.</span>\n",
       "</pre>\n"
      ],
      "text/plain": [
       "\u001b[32mWarning: trajectory cut off when rollout by epoch at \u001b[0m\u001b[1;36m1000.0\u001b[0m\u001b[32m steps.\u001b[0m\n"
      ]
     },
     "metadata": {},
     "output_type": "display_data"
    },
    {
     "data": {
      "text/html": [
       "<pre style=\"white-space:pre;overflow-x:auto;line-height:normal;font-family:Menlo,'DejaVu Sans Mono',consolas,'Courier New',monospace\"><span style=\"color: #008000; text-decoration-color: #008000\">Warning: trajectory cut off when rollout by epoch at </span><span style=\"color: #008080; text-decoration-color: #008080; font-weight: bold\">1000.0</span><span style=\"color: #008000; text-decoration-color: #008000\"> steps.</span>\n",
       "</pre>\n"
      ],
      "text/plain": [
       "\u001b[32mWarning: trajectory cut off when rollout by epoch at \u001b[0m\u001b[1;36m1000.0\u001b[0m\u001b[32m steps.\u001b[0m\n"
      ]
     },
     "metadata": {},
     "output_type": "display_data"
    },
    {
     "data": {
      "text/html": [
       "<pre style=\"white-space:pre;overflow-x:auto;line-height:normal;font-family:Menlo,'DejaVu Sans Mono',consolas,'Courier New',monospace\"><span style=\"color: #008000; text-decoration-color: #008000\">Warning: trajectory cut off when rollout by epoch at </span><span style=\"color: #008080; text-decoration-color: #008080; font-weight: bold\">1000.0</span><span style=\"color: #008000; text-decoration-color: #008000\"> steps.</span>\n",
       "</pre>\n"
      ],
      "text/plain": [
       "\u001b[32mWarning: trajectory cut off when rollout by epoch at \u001b[0m\u001b[1;36m1000.0\u001b[0m\u001b[32m steps.\u001b[0m\n"
      ]
     },
     "metadata": {},
     "output_type": "display_data"
    },
    {
     "data": {
      "text/html": [
       "<pre style=\"white-space:pre;overflow-x:auto;line-height:normal;font-family:Menlo,'DejaVu Sans Mono',consolas,'Courier New',monospace\"><span style=\"color: #008000; text-decoration-color: #008000\">Warning: trajectory cut off when rollout by epoch at </span><span style=\"color: #008080; text-decoration-color: #008080; font-weight: bold\">1000.0</span><span style=\"color: #008000; text-decoration-color: #008000\"> steps.</span>\n",
       "</pre>\n"
      ],
      "text/plain": [
       "\u001b[32mWarning: trajectory cut off when rollout by epoch at \u001b[0m\u001b[1;36m1000.0\u001b[0m\u001b[32m steps.\u001b[0m\n"
      ]
     },
     "metadata": {},
     "output_type": "display_data"
    },
    {
     "data": {
      "text/html": [
       "<pre style=\"white-space:pre;overflow-x:auto;line-height:normal;font-family:Menlo,'DejaVu Sans Mono',consolas,'Courier New',monospace\"></pre>\n"
      ],
      "text/plain": []
     },
     "metadata": {},
     "output_type": "display_data"
    },
    {
     "data": {
      "text/html": [
       "<pre style=\"white-space:pre;overflow-x:auto;line-height:normal;font-family:Menlo,'DejaVu Sans Mono',consolas,'Courier New',monospace\">\n",
       "</pre>\n"
      ],
      "text/plain": [
       "\n"
      ]
     },
     "metadata": {},
     "output_type": "display_data"
    },
    {
     "data": {
      "text/html": [
       "<pre style=\"white-space:pre;overflow-x:auto;line-height:normal;font-family:Menlo,'DejaVu Sans Mono',consolas,'Courier New',monospace\"><span style=\"color: #800000; text-decoration-color: #800000\">Alert! Attempting infeasible recovery!</span>\n",
       "</pre>\n"
      ],
      "text/plain": [
       "\u001b[31mAlert! Attempting infeasible recovery!\u001b[0m\n"
      ]
     },
     "metadata": {},
     "output_type": "display_data"
    },
    {
     "data": {
      "text/html": [
       "<pre style=\"white-space:pre;overflow-x:auto;line-height:normal;font-family:Menlo,'DejaVu Sans Mono',consolas,'Courier New',monospace\"><span style=\"color: #008000; text-decoration-color: #008000\">Expected Improvement: </span><span style=\"color: #008080; text-decoration-color: #008080; font-weight: bold\">-0.0011067831655964255</span><span style=\"color: #008000; text-decoration-color: #008000\"> Actual: </span><span style=\"color: #008080; text-decoration-color: #008080; font-weight: bold\">-0.0014125602319836617</span>\n",
       "</pre>\n"
      ],
      "text/plain": [
       "\u001b[32mExpected Improvement: \u001b[0m\u001b[1;36m-0.0011067831655964255\u001b[0m\u001b[32m Actual: \u001b[0m\u001b[1;36m-0.0014125602319836617\u001b[0m\n"
      ]
     },
     "metadata": {},
     "output_type": "display_data"
    },
    {
     "data": {
      "text/html": [
       "<pre style=\"white-space:pre;overflow-x:auto;line-height:normal;font-family:Menlo,'DejaVu Sans Mono',consolas,'Courier New',monospace\"><span style=\"color: #008000; text-decoration-color: #008000\">Accept step at </span><span style=\"color: #808000; text-decoration-color: #808000\">i</span><span style=\"color: #008000; text-decoration-color: #008000\">=</span><span style=\"color: #008080; text-decoration-color: #008080; font-weight: bold\">1</span>\n",
       "</pre>\n"
      ],
      "text/plain": [
       "\u001b[32mAccept step at \u001b[0m\u001b[33mi\u001b[0m\u001b[32m=\u001b[0m\u001b[1;36m1\u001b[0m\n"
      ]
     },
     "metadata": {},
     "output_type": "display_data"
    },
    {
     "data": {
      "text/html": [
       "<pre style=\"white-space:pre;overflow-x:auto;line-height:normal;font-family:Menlo,'DejaVu Sans Mono',consolas,'Courier New',monospace\">┏━━━━━━━━━━━━━━━━━━━━━━━━━━━━━━━┳━━━━━━━━━━━━━━━━━━━━━━━━┓\n",
       "┃<span style=\"font-weight: bold\"> Metrics                       </span>┃<span style=\"font-weight: bold\"> Value                  </span>┃\n",
       "┡━━━━━━━━━━━━━━━━━━━━━━━━━━━━━━━╇━━━━━━━━━━━━━━━━━━━━━━━━┩\n",
       "│ Metrics/EpRet                 │ 8.048065185546875      │\n",
       "│ Metrics/EpCost                │ 33.720001220703125     │\n",
       "│ Metrics/EpLen                 │ 1000.0                 │\n",
       "│ Train/Epoch                   │ 28.0                   │\n",
       "│ Train/Entropy                 │ 1.348169207572937      │\n",
       "│ Train/KL                      │ 0.00015685972175560892 │\n",
       "│ Train/StopIter                │ 10.0                   │\n",
       "│ Train/PolicyRatio/Mean        │ 1.0000516176223755     │\n",
       "│ Train/PolicyRatio/Min         │ 1.000051736831665      │\n",
       "│ Train/PolicyRatio/Max         │ 1.000051736831665      │\n",
       "│ Train/PolicyRatio/Std         │ 3.652728992165066e-05  │\n",
       "│ Train/LR                      │ 0.0                    │\n",
       "│ Train/PolicyStd               │ 0.9412364959716797     │\n",
       "│ TotalEnvSteps                 │ 580000.0               │\n",
       "│ Loss/Loss_pi                  │ -0.007828516885638237  │\n",
       "│ Loss/Loss_pi/Delta            │ 0.009284475818276405   │\n",
       "│ Value/Adv                     │ -3.128051773160223e-08 │\n",
       "│ Loss/Loss_reward_critic       │ 0.017242014408111572   │\n",
       "│ Loss/Loss_reward_critic/Delta │ 0.0020859958603978157  │\n",
       "│ Value/reward                  │ 0.6368682384490967     │\n",
       "│ Loss/Loss_cost_critic         │ 1.043654203414917      │\n",
       "│ Loss/Loss_cost_critic/Delta   │ 0.18081849813461304    │\n",
       "│ Value/cost                    │ 2.4845352172851562     │\n",
       "│ Time/Total                    │ 1768.876953125         │\n",
       "│ Time/Rollout                  │ 50.300376892089844     │\n",
       "│ Time/Update                   │ 13.065032005310059     │\n",
       "│ Time/Epoch                    │ 63.36540985107422      │\n",
       "│ Time/FPS                      │ 315.6296081542969      │\n",
       "│ Misc/Alpha                    │ 0.9860460758209229     │\n",
       "│ Misc/FinalStepNorm            │ 0.3100886046886444     │\n",
       "│ Misc/gradient_norm            │ 0.13175056874752045    │\n",
       "│ Misc/xHx                      │ 0.020570050925016403   │\n",
       "│ Misc/H_inv_g                  │ 0.23156994581222534    │\n",
       "│ Misc/AcceptanceStep           │ 1.0                    │\n",
       "│ Misc/cost_gradient_norm       │ 0.15848799049854279    │\n",
       "│ Misc/A                        │ 0.02050880156457424    │\n",
       "│ Misc/B                        │ -1129.441162109375     │\n",
       "│ Misc/q                        │ 0.020570050925016403   │\n",
       "│ Misc/r                        │ 0.0020306191872805357  │\n",
       "│ Misc/s                        │ 0.0673227310180664     │\n",
       "│ Misc/Lambda_star              │ 0.0                    │\n",
       "│ Misc/Nu_star                  │ 0.5450471639633179     │\n",
       "│ Misc/OptimCase                │ 0.0                    │\n",
       "└───────────────────────────────┴────────────────────────┘\n",
       "</pre>\n"
      ],
      "text/plain": [
       "┏━━━━━━━━━━━━━━━━━━━━━━━━━━━━━━━┳━━━━━━━━━━━━━━━━━━━━━━━━┓\n",
       "┃\u001b[1m \u001b[0m\u001b[1mMetrics                      \u001b[0m\u001b[1m \u001b[0m┃\u001b[1m \u001b[0m\u001b[1mValue                 \u001b[0m\u001b[1m \u001b[0m┃\n",
       "┡━━━━━━━━━━━━━━━━━━━━━━━━━━━━━━━╇━━━━━━━━━━━━━━━━━━━━━━━━┩\n",
       "│ Metrics/EpRet                 │ 8.048065185546875      │\n",
       "│ Metrics/EpCost                │ 33.720001220703125     │\n",
       "│ Metrics/EpLen                 │ 1000.0                 │\n",
       "│ Train/Epoch                   │ 28.0                   │\n",
       "│ Train/Entropy                 │ 1.348169207572937      │\n",
       "│ Train/KL                      │ 0.00015685972175560892 │\n",
       "│ Train/StopIter                │ 10.0                   │\n",
       "│ Train/PolicyRatio/Mean        │ 1.0000516176223755     │\n",
       "│ Train/PolicyRatio/Min         │ 1.000051736831665      │\n",
       "│ Train/PolicyRatio/Max         │ 1.000051736831665      │\n",
       "│ Train/PolicyRatio/Std         │ 3.652728992165066e-05  │\n",
       "│ Train/LR                      │ 0.0                    │\n",
       "│ Train/PolicyStd               │ 0.9412364959716797     │\n",
       "│ TotalEnvSteps                 │ 580000.0               │\n",
       "│ Loss/Loss_pi                  │ -0.007828516885638237  │\n",
       "│ Loss/Loss_pi/Delta            │ 0.009284475818276405   │\n",
       "│ Value/Adv                     │ -3.128051773160223e-08 │\n",
       "│ Loss/Loss_reward_critic       │ 0.017242014408111572   │\n",
       "│ Loss/Loss_reward_critic/Delta │ 0.0020859958603978157  │\n",
       "│ Value/reward                  │ 0.6368682384490967     │\n",
       "│ Loss/Loss_cost_critic         │ 1.043654203414917      │\n",
       "│ Loss/Loss_cost_critic/Delta   │ 0.18081849813461304    │\n",
       "│ Value/cost                    │ 2.4845352172851562     │\n",
       "│ Time/Total                    │ 1768.876953125         │\n",
       "│ Time/Rollout                  │ 50.300376892089844     │\n",
       "│ Time/Update                   │ 13.065032005310059     │\n",
       "│ Time/Epoch                    │ 63.36540985107422      │\n",
       "│ Time/FPS                      │ 315.6296081542969      │\n",
       "│ Misc/Alpha                    │ 0.9860460758209229     │\n",
       "│ Misc/FinalStepNorm            │ 0.3100886046886444     │\n",
       "│ Misc/gradient_norm            │ 0.13175056874752045    │\n",
       "│ Misc/xHx                      │ 0.020570050925016403   │\n",
       "│ Misc/H_inv_g                  │ 0.23156994581222534    │\n",
       "│ Misc/AcceptanceStep           │ 1.0                    │\n",
       "│ Misc/cost_gradient_norm       │ 0.15848799049854279    │\n",
       "│ Misc/A                        │ 0.02050880156457424    │\n",
       "│ Misc/B                        │ -1129.441162109375     │\n",
       "│ Misc/q                        │ 0.020570050925016403   │\n",
       "│ Misc/r                        │ 0.0020306191872805357  │\n",
       "│ Misc/s                        │ 0.0673227310180664     │\n",
       "│ Misc/Lambda_star              │ 0.0                    │\n",
       "│ Misc/Nu_star                  │ 0.5450471639633179     │\n",
       "│ Misc/OptimCase                │ 0.0                    │\n",
       "└───────────────────────────────┴────────────────────────┘\n"
      ]
     },
     "metadata": {},
     "output_type": "display_data"
    },
    {
     "data": {
      "text/html": [
       "<pre style=\"white-space:pre;overflow-x:auto;line-height:normal;font-family:Menlo,'DejaVu Sans Mono',consolas,'Courier New',monospace\"><span style=\"color: #008000; text-decoration-color: #008000\">Warning: trajectory cut off when rollout by epoch at </span><span style=\"color: #008080; text-decoration-color: #008080; font-weight: bold\">1000.0</span><span style=\"color: #008000; text-decoration-color: #008000\"> steps.</span>\n",
       "</pre>\n"
      ],
      "text/plain": [
       "\u001b[32mWarning: trajectory cut off when rollout by epoch at \u001b[0m\u001b[1;36m1000.0\u001b[0m\u001b[32m steps.\u001b[0m\n"
      ]
     },
     "metadata": {},
     "output_type": "display_data"
    },
    {
     "data": {
      "text/html": [
       "<pre style=\"white-space:pre;overflow-x:auto;line-height:normal;font-family:Menlo,'DejaVu Sans Mono',consolas,'Courier New',monospace\"><span style=\"color: #008000; text-decoration-color: #008000\">Warning: trajectory cut off when rollout by epoch at </span><span style=\"color: #008080; text-decoration-color: #008080; font-weight: bold\">1000.0</span><span style=\"color: #008000; text-decoration-color: #008000\"> steps.</span>\n",
       "</pre>\n"
      ],
      "text/plain": [
       "\u001b[32mWarning: trajectory cut off when rollout by epoch at \u001b[0m\u001b[1;36m1000.0\u001b[0m\u001b[32m steps.\u001b[0m\n"
      ]
     },
     "metadata": {},
     "output_type": "display_data"
    },
    {
     "data": {
      "text/html": [
       "<pre style=\"white-space:pre;overflow-x:auto;line-height:normal;font-family:Menlo,'DejaVu Sans Mono',consolas,'Courier New',monospace\"><span style=\"color: #008000; text-decoration-color: #008000\">Warning: trajectory cut off when rollout by epoch at </span><span style=\"color: #008080; text-decoration-color: #008080; font-weight: bold\">1000.0</span><span style=\"color: #008000; text-decoration-color: #008000\"> steps.</span>\n",
       "</pre>\n"
      ],
      "text/plain": [
       "\u001b[32mWarning: trajectory cut off when rollout by epoch at \u001b[0m\u001b[1;36m1000.0\u001b[0m\u001b[32m steps.\u001b[0m\n"
      ]
     },
     "metadata": {},
     "output_type": "display_data"
    },
    {
     "data": {
      "text/html": [
       "<pre style=\"white-space:pre;overflow-x:auto;line-height:normal;font-family:Menlo,'DejaVu Sans Mono',consolas,'Courier New',monospace\"><span style=\"color: #008000; text-decoration-color: #008000\">Warning: trajectory cut off when rollout by epoch at </span><span style=\"color: #008080; text-decoration-color: #008080; font-weight: bold\">1000.0</span><span style=\"color: #008000; text-decoration-color: #008000\"> steps.</span>\n",
       "</pre>\n"
      ],
      "text/plain": [
       "\u001b[32mWarning: trajectory cut off when rollout by epoch at \u001b[0m\u001b[1;36m1000.0\u001b[0m\u001b[32m steps.\u001b[0m\n"
      ]
     },
     "metadata": {},
     "output_type": "display_data"
    },
    {
     "data": {
      "text/html": [
       "<pre style=\"white-space:pre;overflow-x:auto;line-height:normal;font-family:Menlo,'DejaVu Sans Mono',consolas,'Courier New',monospace\"></pre>\n"
      ],
      "text/plain": []
     },
     "metadata": {},
     "output_type": "display_data"
    },
    {
     "data": {
      "text/html": [
       "<pre style=\"white-space:pre;overflow-x:auto;line-height:normal;font-family:Menlo,'DejaVu Sans Mono',consolas,'Courier New',monospace\">\n",
       "</pre>\n"
      ],
      "text/plain": [
       "\n"
      ]
     },
     "metadata": {},
     "output_type": "display_data"
    },
    {
     "data": {
      "text/html": [
       "<pre style=\"white-space:pre;overflow-x:auto;line-height:normal;font-family:Menlo,'DejaVu Sans Mono',consolas,'Courier New',monospace\"><span style=\"color: #800000; text-decoration-color: #800000\">Alert! Attempting infeasible recovery!</span>\n",
       "</pre>\n"
      ],
      "text/plain": [
       "\u001b[31mAlert! Attempting infeasible recovery!\u001b[0m\n"
      ]
     },
     "metadata": {},
     "output_type": "display_data"
    },
    {
     "data": {
      "text/html": [
       "<pre style=\"white-space:pre;overflow-x:auto;line-height:normal;font-family:Menlo,'DejaVu Sans Mono',consolas,'Courier New',monospace\"><span style=\"color: #008000; text-decoration-color: #008000\">Expected Improvement: </span><span style=\"color: #008080; text-decoration-color: #008080; font-weight: bold\">-0.0038872621953487396</span><span style=\"color: #008000; text-decoration-color: #008000\"> Actual: </span><span style=\"color: #008080; text-decoration-color: #008080; font-weight: bold\">-0.003883539466187358</span>\n",
       "</pre>\n"
      ],
      "text/plain": [
       "\u001b[32mExpected Improvement: \u001b[0m\u001b[1;36m-0.0038872621953487396\u001b[0m\u001b[32m Actual: \u001b[0m\u001b[1;36m-0.003883539466187358\u001b[0m\n"
      ]
     },
     "metadata": {},
     "output_type": "display_data"
    },
    {
     "data": {
      "text/html": [
       "<pre style=\"white-space:pre;overflow-x:auto;line-height:normal;font-family:Menlo,'DejaVu Sans Mono',consolas,'Courier New',monospace\"><span style=\"color: #008000; text-decoration-color: #008000\">Accept step at </span><span style=\"color: #808000; text-decoration-color: #808000\">i</span><span style=\"color: #008000; text-decoration-color: #008000\">=</span><span style=\"color: #008080; text-decoration-color: #008080; font-weight: bold\">1</span>\n",
       "</pre>\n"
      ],
      "text/plain": [
       "\u001b[32mAccept step at \u001b[0m\u001b[33mi\u001b[0m\u001b[32m=\u001b[0m\u001b[1;36m1\u001b[0m\n"
      ]
     },
     "metadata": {},
     "output_type": "display_data"
    },
    {
     "data": {
      "text/html": [
       "<pre style=\"white-space:pre;overflow-x:auto;line-height:normal;font-family:Menlo,'DejaVu Sans Mono',consolas,'Courier New',monospace\">┏━━━━━━━━━━━━━━━━━━━━━━━━━━━━━━━┳━━━━━━━━━━━━━━━━━━━━━━━━┓\n",
       "┃<span style=\"font-weight: bold\"> Metrics                       </span>┃<span style=\"font-weight: bold\"> Value                  </span>┃\n",
       "┡━━━━━━━━━━━━━━━━━━━━━━━━━━━━━━━╇━━━━━━━━━━━━━━━━━━━━━━━━┩\n",
       "│ Metrics/EpRet                 │ 9.423103332519531      │\n",
       "│ Metrics/EpCost                │ 31.479999542236328     │\n",
       "│ Metrics/EpLen                 │ 1000.0                 │\n",
       "│ Train/Epoch                   │ 29.0                   │\n",
       "│ Train/Entropy                 │ 1.358576774597168      │\n",
       "│ Train/KL                      │ 0.00016258397954516113 │\n",
       "│ Train/StopIter                │ 10.0                   │\n",
       "│ Train/PolicyRatio/Mean        │ 0.9999920725822449     │\n",
       "│ Train/PolicyRatio/Min         │ 0.9999920725822449     │\n",
       "│ Train/PolicyRatio/Max         │ 0.9999920725822449     │\n",
       "│ Train/PolicyRatio/Std         │ 5.619614967145026e-06  │\n",
       "│ Train/LR                      │ 0.0                    │\n",
       "│ Train/PolicyStd               │ 0.9519319534301758     │\n",
       "│ TotalEnvSteps                 │ 600000.0               │\n",
       "│ Loss/Loss_pi                  │ -0.0042234305292367935 │\n",
       "│ Loss/Loss_pi/Delta            │ 0.0036050863564014435  │\n",
       "│ Value/Adv                     │ 6.866454960174906e-09  │\n",
       "│ Loss/Loss_reward_critic       │ 0.017556460574269295   │\n",
       "│ Loss/Loss_reward_critic/Delta │ 0.0003144461661577225  │\n",
       "│ Value/reward                  │ 0.6362228393554688     │\n",
       "│ Loss/Loss_cost_critic         │ 0.8488020896911621     │\n",
       "│ Loss/Loss_cost_critic/Delta   │ -0.19485211372375488   │\n",
       "│ Value/cost                    │ 2.7300522327423096     │\n",
       "│ Time/Total                    │ 1831.47705078125       │\n",
       "│ Time/Rollout                  │ 49.22683334350586      │\n",
       "│ Time/Update                   │ 13.330299377441406     │\n",
       "│ Time/Epoch                    │ 62.557132720947266     │\n",
       "│ Time/FPS                      │ 319.707763671875       │\n",
       "│ Misc/Alpha                    │ 0.9522688388824463     │\n",
       "│ Misc/FinalStepNorm            │ 0.2926810085773468     │\n",
       "│ Misc/gradient_norm            │ 0.1454121470451355     │\n",
       "│ Misc/xHx                      │ 0.022055182605981827   │\n",
       "│ Misc/H_inv_g                  │ 0.24867244064807892    │\n",
       "│ Misc/AcceptanceStep           │ 1.0                    │\n",
       "│ Misc/cost_gradient_norm       │ 0.16049514710903168    │\n",
       "│ Misc/A                        │ 0.021299641579389572   │\n",
       "│ Misc/B                        │ -944.3695068359375     │\n",
       "│ Misc/q                        │ 0.022055182605981827   │\n",
       "│ Misc/r                        │ 0.005795998033136129   │\n",
       "│ Misc/s                        │ 0.04446299374103546    │\n",
       "│ Misc/Lambda_star              │ 0.0                    │\n",
       "│ Misc/Nu_star                  │ 0.6706803441047668     │\n",
       "│ Misc/OptimCase                │ 0.0                    │\n",
       "└───────────────────────────────┴────────────────────────┘\n",
       "</pre>\n"
      ],
      "text/plain": [
       "┏━━━━━━━━━━━━━━━━━━━━━━━━━━━━━━━┳━━━━━━━━━━━━━━━━━━━━━━━━┓\n",
       "┃\u001b[1m \u001b[0m\u001b[1mMetrics                      \u001b[0m\u001b[1m \u001b[0m┃\u001b[1m \u001b[0m\u001b[1mValue                 \u001b[0m\u001b[1m \u001b[0m┃\n",
       "┡━━━━━━━━━━━━━━━━━━━━━━━━━━━━━━━╇━━━━━━━━━━━━━━━━━━━━━━━━┩\n",
       "│ Metrics/EpRet                 │ 9.423103332519531      │\n",
       "│ Metrics/EpCost                │ 31.479999542236328     │\n",
       "│ Metrics/EpLen                 │ 1000.0                 │\n",
       "│ Train/Epoch                   │ 29.0                   │\n",
       "│ Train/Entropy                 │ 1.358576774597168      │\n",
       "│ Train/KL                      │ 0.00016258397954516113 │\n",
       "│ Train/StopIter                │ 10.0                   │\n",
       "│ Train/PolicyRatio/Mean        │ 0.9999920725822449     │\n",
       "│ Train/PolicyRatio/Min         │ 0.9999920725822449     │\n",
       "│ Train/PolicyRatio/Max         │ 0.9999920725822449     │\n",
       "│ Train/PolicyRatio/Std         │ 5.619614967145026e-06  │\n",
       "│ Train/LR                      │ 0.0                    │\n",
       "│ Train/PolicyStd               │ 0.9519319534301758     │\n",
       "│ TotalEnvSteps                 │ 600000.0               │\n",
       "│ Loss/Loss_pi                  │ -0.0042234305292367935 │\n",
       "│ Loss/Loss_pi/Delta            │ 0.0036050863564014435  │\n",
       "│ Value/Adv                     │ 6.866454960174906e-09  │\n",
       "│ Loss/Loss_reward_critic       │ 0.017556460574269295   │\n",
       "│ Loss/Loss_reward_critic/Delta │ 0.0003144461661577225  │\n",
       "│ Value/reward                  │ 0.6362228393554688     │\n",
       "│ Loss/Loss_cost_critic         │ 0.8488020896911621     │\n",
       "│ Loss/Loss_cost_critic/Delta   │ -0.19485211372375488   │\n",
       "│ Value/cost                    │ 2.7300522327423096     │\n",
       "│ Time/Total                    │ 1831.47705078125       │\n",
       "│ Time/Rollout                  │ 49.22683334350586      │\n",
       "│ Time/Update                   │ 13.330299377441406     │\n",
       "│ Time/Epoch                    │ 62.557132720947266     │\n",
       "│ Time/FPS                      │ 319.707763671875       │\n",
       "│ Misc/Alpha                    │ 0.9522688388824463     │\n",
       "│ Misc/FinalStepNorm            │ 0.2926810085773468     │\n",
       "│ Misc/gradient_norm            │ 0.1454121470451355     │\n",
       "│ Misc/xHx                      │ 0.022055182605981827   │\n",
       "│ Misc/H_inv_g                  │ 0.24867244064807892    │\n",
       "│ Misc/AcceptanceStep           │ 1.0                    │\n",
       "│ Misc/cost_gradient_norm       │ 0.16049514710903168    │\n",
       "│ Misc/A                        │ 0.021299641579389572   │\n",
       "│ Misc/B                        │ -944.3695068359375     │\n",
       "│ Misc/q                        │ 0.022055182605981827   │\n",
       "│ Misc/r                        │ 0.005795998033136129   │\n",
       "│ Misc/s                        │ 0.04446299374103546    │\n",
       "│ Misc/Lambda_star              │ 0.0                    │\n",
       "│ Misc/Nu_star                  │ 0.6706803441047668     │\n",
       "│ Misc/OptimCase                │ 0.0                    │\n",
       "└───────────────────────────────┴────────────────────────┘\n"
      ]
     },
     "metadata": {},
     "output_type": "display_data"
    }
   ],
   "source": [
    "# total experiment num must can be divided by num_pool\n",
    "# meanwhile, users should decide this value according to their machine\n",
    "eg.run(train, gpu_id=gpu_id)"
   ]
  },
  {
   "cell_type": "code",
   "execution_count": 8,
   "metadata": {},
   "outputs": [],
   "source": [
    "LOG_DIR = 'exp-x\\BM_Safety_CPO\\SafetyPointGoal1-v0---a666ef11f41efb3aebf109cd70c4d4f6f3fe654ce38f5144dfb4fe07a0c7c165\\CPO-{SafetyPointGoal1-v0}\\seed-000-2024-04-24-11-29-43'\n",
    "\n",
    "evaluator = omnisafe.Evaluator()\n",
    "for item in os.scandir(os.path.join(LOG_DIR, 'torch_save')):\n",
    "    if item.is_file() and item.name.split('.')[-1] == 'pt':\n",
    "        evaluator.load_saved(\n",
    "            save_dir=LOG_DIR, model_name=item.name, camera_name='track', width=256, height=256\n",
    "        )\n",
    "        evaluator.render(num_episodes=5)\n",
    "        evaluator.evaluate(num_episodes=5)"
   ]
  },
  {
   "cell_type": "code",
   "execution_count": null,
   "metadata": {},
   "outputs": [],
   "source": []
  }
 ],
 "metadata": {
  "kernelspec": {
   "display_name": "omnisafe-env",
   "language": "python",
   "name": "python3"
  },
  "language_info": {
   "codemirror_mode": {
    "name": "ipython",
    "version": 3
   },
   "file_extension": ".py",
   "mimetype": "text/x-python",
   "name": "python",
   "nbconvert_exporter": "python",
   "pygments_lexer": "ipython3",
   "version": "3.8.19"
  }
 },
 "nbformat": 4,
 "nbformat_minor": 2
}
