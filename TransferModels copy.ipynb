{
 "cells": [
  {
   "cell_type": "code",
   "execution_count": 1,
   "metadata": {},
   "outputs": [
    {
     "name": "stdout",
     "output_type": "stream",
     "text": [
      "W&B online. Running your script from this directory will now sync to the cloud.\n"
     ]
    }
   ],
   "source": [
    "!wandb online"
   ]
  },
  {
   "cell_type": "code",
   "execution_count": 2,
   "metadata": {},
   "outputs": [],
   "source": [
    "import warnings\n",
    "import torch\n",
    "from omnisafe.common.experiment_grid import ExperimentGrid"
   ]
  },
  {
   "cell_type": "code",
   "execution_count": 3,
   "metadata": {},
   "outputs": [],
   "source": [
    "exp_name = 'Exps_Final_6'\n",
    "wandb_name = 'Experiments_Final'\n",
    "eg = ExperimentGrid(exp_name)\n",
    "\n",
    "# Set the algorithms.\n",
    "policies = ['TRPOLag', 'PPOLag']\n",
    "\n",
    "# Set the environments.\n",
    "safety_envs = [\n",
    "    'SafetyPointButton2-v0'\n",
    "]\n",
    "eg.add('env_id', safety_envs)\n",
    "eg.add('algo', policies)\n",
    "eg.add('logger_cfgs:use_wandb', [True])\n",
    "eg.add('logger_cfgs:wandb_project', [wandb_name])\n",
    "eg.add('train_cfgs:vector_env_nums', [4])\n",
    "# eg.add('train_cfgs:torch_threads', [8])\n",
    "eg.add('algo_cfgs:steps_per_epoch', [20000])\n",
    "eg.add('train_cfgs:total_steps', [20000*30])\n",
    "eg.add('seed', [0])"
   ]
  },
  {
   "cell_type": "code",
   "execution_count": 4,
   "metadata": {},
   "outputs": [],
   "source": [
    "avaliable_gpus = list(range(torch.cuda.device_count()))\n",
    "gpu_id = [0]\n",
    "\n",
    "if gpu_id and not set(gpu_id).issubset(avaliable_gpus):\n",
    "    warnings.warn('The GPU ID is not available, use CPU instead.', stacklevel=1)\n",
    "    gpu_id = None"
   ]
  },
  {
   "cell_type": "code",
   "execution_count": 5,
   "metadata": {},
   "outputs": [],
   "source": [
    "\"\"\"Example of training a policy from exp-x config with OmniSafe.\"\"\"\n",
    "from omnisafe.typing import NamedTuple, Tuple\n",
    "import omnisafe\n",
    "import os, sys\n",
    "\n",
    "def train(\n",
    "    exp_id: str, algo: str, env_id: str, custom_cfgs: NamedTuple\n",
    ") -> Tuple[float, float, float]:\n",
    "    \"\"\"Train a policy from exp-x config with OmniSafe.\n",
    "\n",
    "    Args:\n",
    "        exp_id (str): Experiment ID.\n",
    "        algo (str): Algorithm to train.\n",
    "        env_id (str): The name of test environment.\n",
    "        custom_cfgs (NamedTuple): Custom configurations.\n",
    "        num_threads (int, optional): Number of threads. Defaults to 6.\n",
    "    \"\"\"\n",
    "    terminal_log_name = 'terminal.log'\n",
    "    error_log_name = 'error.log'\n",
    "    if 'seed' in custom_cfgs:\n",
    "        terminal_log_name = f'seed{custom_cfgs[\"seed\"]}_{terminal_log_name}'\n",
    "        error_log_name = f'seed{custom_cfgs[\"seed\"]}_{error_log_name}'\n",
    "    sys.stdout = sys.__stdout__\n",
    "    sys.stderr = sys.__stderr__\n",
    "    print(f'exp-x: {exp_id} is training...')\n",
    "    if not os.path.exists(custom_cfgs['logger_cfgs']['log_dir']):\n",
    "        os.makedirs(custom_cfgs['logger_cfgs']['log_dir'], exist_ok=True)\n",
    "    # pylint: disable-next=consider-using-with\n",
    "    sys.stdout = open(\n",
    "        os.path.join(f'{custom_cfgs[\"logger_cfgs\"][\"log_dir\"]}', terminal_log_name),\n",
    "        'w',\n",
    "        encoding='utf-8',\n",
    "    )\n",
    "    # pylint: disable-next=consider-using-with\n",
    "    sys.stderr = open(\n",
    "        os.path.join(f'{custom_cfgs[\"logger_cfgs\"][\"log_dir\"]}', error_log_name),\n",
    "        'w',\n",
    "        encoding='utf-8',\n",
    "    )\n",
    "    agent = omnisafe.Agent(algo, env_id, custom_cfgs=custom_cfgs)\n",
    "    reward, cost, ep_len = agent.learn()\n",
    "    return reward, cost, ep_len"
   ]
  },
  {
   "cell_type": "code",
   "execution_count": 6,
   "metadata": {},
   "outputs": [
    {
     "data": {
      "text/html": [
       "<pre style=\"white-space:pre;overflow-x:auto;line-height:normal;font-family:Menlo,'DejaVu Sans Mono',consolas,'Courier New',monospace\"><span style=\"color: #808000; text-decoration-color: #808000; font-weight: bold\">Save with config of experiment grid in grid_config.json</span>\n",
       "</pre>\n"
      ],
      "text/plain": [
       "\u001b[1;33mSave with config of experiment grid in grid_config.json\u001b[0m\n"
      ]
     },
     "metadata": {},
     "output_type": "display_data"
    },
    {
     "name": "stdout",
     "output_type": "stream",
     "text": [
      "================================================================================\n"
     ]
    },
    {
     "data": {
      "text/html": [
       "<pre style=\"white-space:pre;overflow-x:auto;line-height:normal;font-family:Menlo,'DejaVu Sans Mono',consolas,'Courier New',monospace\"><span style=\"color: #008000; text-decoration-color: #008000; font-weight: bold\">ExperimentGrid [Exps_Final_6] runs over parameters:</span>\n",
       "\n",
       "</pre>\n"
      ],
      "text/plain": [
       "\u001b[1;32mExperimentGrid \u001b[0m\u001b[1;32m[\u001b[0m\u001b[1;32mExps_Final_6\u001b[0m\u001b[1;32m]\u001b[0m\u001b[1;32m runs over parameters:\u001b[0m\n",
       "\n"
      ]
     },
     "metadata": {},
     "output_type": "display_data"
    },
    {
     "data": {
      "text/html": [
       "<pre style=\"white-space:pre;overflow-x:auto;line-height:normal;font-family:Menlo,'DejaVu Sans Mono',consolas,'Courier New',monospace\"><span style=\"color: #008080; text-decoration-color: #008080; font-weight: bold\"> env_id                                  </span></pre>\n"
      ],
      "text/plain": [
       "\u001b[1;36m env_id                                  \u001b[0m"
      ]
     },
     "metadata": {},
     "output_type": "display_data"
    },
    {
     "name": "stdout",
     "output_type": "stream",
     "text": [
      "[env] \n",
      "\n",
      "\t\"SafetyPointButton2-v0\"\n",
      "\n"
     ]
    },
    {
     "data": {
      "text/html": [
       "<pre style=\"white-space:pre;overflow-x:auto;line-height:normal;font-family:Menlo,'DejaVu Sans Mono',consolas,'Courier New',monospace\"><span style=\"color: #008080; text-decoration-color: #008080; font-weight: bold\"> algo                                    </span></pre>\n"
      ],
      "text/plain": [
       "\u001b[1;36m algo                                    \u001b[0m"
      ]
     },
     "metadata": {},
     "output_type": "display_data"
    },
    {
     "name": "stdout",
     "output_type": "stream",
     "text": [
      "[alg] \n",
      "\n",
      "\t\"TRPOLag\"\n",
      "\t\"PPOLag\"\n",
      "\n"
     ]
    },
    {
     "data": {
      "text/html": [
       "<pre style=\"white-space:pre;overflow-x:auto;line-height:normal;font-family:Menlo,'DejaVu Sans Mono',consolas,'Courier New',monospace\"><span style=\"color: #008080; text-decoration-color: #008080; font-weight: bold\"> logger_cfgs:use_wandb                   </span></pre>\n"
      ],
      "text/plain": [
       "\u001b[1;36m logger_cfgs:use_wandb                   \u001b[0m"
      ]
     },
     "metadata": {},
     "output_type": "display_data"
    },
    {
     "name": "stdout",
     "output_type": "stream",
     "text": [
      "[log-use] \n",
      "\n",
      "\ttrue\n",
      "\n"
     ]
    },
    {
     "data": {
      "text/html": [
       "<pre style=\"white-space:pre;overflow-x:auto;line-height:normal;font-family:Menlo,'DejaVu Sans Mono',consolas,'Courier New',monospace\"><span style=\"color: #008080; text-decoration-color: #008080; font-weight: bold\"> logger_cfgs:wandb_project               </span></pre>\n"
      ],
      "text/plain": [
       "\u001b[1;36m logger_cfgs:wandb_project               \u001b[0m"
      ]
     },
     "metadata": {},
     "output_type": "display_data"
    },
    {
     "name": "stdout",
     "output_type": "stream",
     "text": [
      "[log-wan] \n",
      "\n",
      "\t\"Experiments_Final\"\n",
      "\n"
     ]
    },
    {
     "data": {
      "text/html": [
       "<pre style=\"white-space:pre;overflow-x:auto;line-height:normal;font-family:Menlo,'DejaVu Sans Mono',consolas,'Courier New',monospace\"><span style=\"color: #008080; text-decoration-color: #008080; font-weight: bold\"> train_cfgs:vector_env_nums              </span></pre>\n"
      ],
      "text/plain": [
       "\u001b[1;36m train_cfgs:vector_env_nums              \u001b[0m"
      ]
     },
     "metadata": {},
     "output_type": "display_data"
    },
    {
     "name": "stdout",
     "output_type": "stream",
     "text": [
      "[tra-vec] \n",
      "\n",
      "\t4\n",
      "\n"
     ]
    },
    {
     "data": {
      "text/html": [
       "<pre style=\"white-space:pre;overflow-x:auto;line-height:normal;font-family:Menlo,'DejaVu Sans Mono',consolas,'Courier New',monospace\"><span style=\"color: #008080; text-decoration-color: #008080; font-weight: bold\"> algo_cfgs:steps_per_epoch               </span></pre>\n"
      ],
      "text/plain": [
       "\u001b[1;36m algo_cfgs:steps_per_epoch               \u001b[0m"
      ]
     },
     "metadata": {},
     "output_type": "display_data"
    },
    {
     "name": "stdout",
     "output_type": "stream",
     "text": [
      "[alg-ste] \n",
      "\n",
      "\t20000\n",
      "\n"
     ]
    },
    {
     "data": {
      "text/html": [
       "<pre style=\"white-space:pre;overflow-x:auto;line-height:normal;font-family:Menlo,'DejaVu Sans Mono',consolas,'Courier New',monospace\"><span style=\"color: #008080; text-decoration-color: #008080; font-weight: bold\"> train_cfgs:total_steps                  </span></pre>\n"
      ],
      "text/plain": [
       "\u001b[1;36m train_cfgs:total_steps                  \u001b[0m"
      ]
     },
     "metadata": {},
     "output_type": "display_data"
    },
    {
     "name": "stdout",
     "output_type": "stream",
     "text": [
      "[tra-tot] \n",
      "\n",
      "\t600000\n",
      "\n"
     ]
    },
    {
     "data": {
      "text/html": [
       "<pre style=\"white-space:pre;overflow-x:auto;line-height:normal;font-family:Menlo,'DejaVu Sans Mono',consolas,'Courier New',monospace\"><span style=\"color: #008080; text-decoration-color: #008080; font-weight: bold\"> seed                                    </span></pre>\n"
      ],
      "text/plain": [
       "\u001b[1;36m seed                                    \u001b[0m"
      ]
     },
     "metadata": {},
     "output_type": "display_data"
    },
    {
     "name": "stdout",
     "output_type": "stream",
     "text": [
      "[see] \n",
      "\n",
      "\t0\n",
      "\n",
      " Variants, counting seeds:               2\n",
      " Variants, not counting seeds:           2\n",
      "\n",
      "================================================================================\n",
      "value {'seed': 0, 'train_cfgs': {'total_steps': 600000, 'vector_env_nums': 4}, 'algo_cfgs': {'steps_per_epoch': 20000}, 'logger_cfgs': {'wandb_project': 'Experiments_Final', 'use_wandb': True}, 'algo': 'TRPOLag', 'env_id': 'SafetyPointButton2-v0'} key algo\n",
      "value {'seed': 0, 'train_cfgs': {'total_steps': 600000, 'vector_env_nums': 4}, 'algo_cfgs': {'steps_per_epoch': 20000}, 'logger_cfgs': {'wandb_project': 'Experiments_Final', 'use_wandb': True}, 'algo': 'PPOLag', 'env_id': 'SafetyPointButton2-v0'} key algo\n"
     ]
    },
    {
     "data": {
      "text/html": [
       "<pre style=\"white-space:pre;overflow-x:auto;line-height:normal;font-family:Menlo,'DejaVu Sans Mono',consolas,'Courier New',monospace\">\n",
       "<span style=\"color: #008000; text-decoration-color: #008000; font-weight: bold\">Preparing to run the following experiments</span><span style=\"color: #808000; text-decoration-color: #808000; font-weight: bold\">...</span>\n",
       "</pre>\n"
      ],
      "text/plain": [
       "\n",
       "\u001b[1;32mPreparing to run the following experiments\u001b[0m\u001b[1;33m...\u001b[0m\n"
      ]
     },
     "metadata": {},
     "output_type": "display_data"
    },
    {
     "name": "stdout",
     "output_type": "stream",
     "text": [
      "\n",
      "Exps_Final_6_algppolag\n",
      "Exps_Final_6_algtrpolag\n",
      "\n",
      "================================================================================\n",
      "current_config {'seed': 0, 'train_cfgs': {'total_steps': 600000, 'vector_env_nums': 4}, 'algo_cfgs': {'steps_per_epoch': 20000}, 'logger_cfgs': {'wandb_project': 'Experiments_Final', 'use_wandb': True}, 'algo': 'TRPOLag', 'env_id': 'SafetyPointButton2-v0'}\n"
     ]
    },
    {
     "data": {
      "text/html": [
       "<pre style=\"white-space:pre;overflow-x:auto;line-height:normal;font-family:Menlo,'DejaVu Sans Mono',consolas,'Courier New',monospace\"><span style=\"color: #008080; text-decoration-color: #008080; font-weight: bold\">Logging data to </span>\n",
       "<span style=\"color: #008080; text-decoration-color: #008080; font-weight: bold\">.</span><span style=\"color: #800080; text-decoration-color: #800080; font-weight: bold\">/</span><span style=\"color: #ff00ff; text-decoration-color: #ff00ff; font-weight: bold\">exp-x</span><span style=\"color: #008080; text-decoration-color: #008080; font-weight: bold\">\\Exps_Final_6\\SafetyPointButton2-v0---a094a2c4ee75c8f5e6ec093fa12a4acc298af447320d5790d950e54ddff69ffe\\TRPOL</span>\n",
       "<span style=\"color: #008080; text-decoration-color: #008080; font-weight: bold\">ag-{SafetyPointButton2-v0}\\seed-</span><span style=\"color: #008080; text-decoration-color: #008080; font-weight: bold\">000</span><span style=\"color: #008080; text-decoration-color: #008080; font-weight: bold\">-</span><span style=\"color: #008080; text-decoration-color: #008080; font-weight: bold\">2024</span><span style=\"color: #008080; text-decoration-color: #008080; font-weight: bold\">-</span><span style=\"color: #008080; text-decoration-color: #008080; font-weight: bold\">05</span><span style=\"color: #008080; text-decoration-color: #008080; font-weight: bold\">-</span><span style=\"color: #008080; text-decoration-color: #008080; font-weight: bold\">20</span><span style=\"color: #008080; text-decoration-color: #008080; font-weight: bold\">-</span><span style=\"color: #008080; text-decoration-color: #008080; font-weight: bold\">16</span><span style=\"color: #008080; text-decoration-color: #008080; font-weight: bold\">-</span><span style=\"color: #008080; text-decoration-color: #008080; font-weight: bold\">54</span><span style=\"color: #008080; text-decoration-color: #008080; font-weight: bold\">-</span><span style=\"color: #008080; text-decoration-color: #008080; font-weight: bold\">56</span><span style=\"color: #008080; text-decoration-color: #008080; font-weight: bold\">\\progress.csv</span>\n",
       "</pre>\n"
      ],
      "text/plain": [
       "\u001b[1;36mLogging data to \u001b[0m\n",
       "\u001b[1;36m.\u001b[0m\u001b[1;35m/\u001b[0m\u001b[1;95mexp-x\u001b[0m\u001b[1;36m\\Exps_Final_6\\SafetyPointButton2-v0---a094a2c4ee75c8f5e6ec093fa12a4acc298af447320d5790d950e54ddff69ffe\\TRPOL\u001b[0m\n",
       "\u001b[1;36mag-\u001b[0m\u001b[1;36m{\u001b[0m\u001b[1;36mSafetyPointButton2-v0\u001b[0m\u001b[1;36m}\u001b[0m\u001b[1;36m\\seed-\u001b[0m\u001b[1;36m000\u001b[0m\u001b[1;36m-\u001b[0m\u001b[1;36m2024\u001b[0m\u001b[1;36m-\u001b[0m\u001b[1;36m05\u001b[0m\u001b[1;36m-\u001b[0m\u001b[1;36m20\u001b[0m\u001b[1;36m-\u001b[0m\u001b[1;36m16\u001b[0m\u001b[1;36m-\u001b[0m\u001b[1;36m54\u001b[0m\u001b[1;36m-\u001b[0m\u001b[1;36m56\u001b[0m\u001b[1;36m\\progress.csv\u001b[0m\n"
      ]
     },
     "metadata": {},
     "output_type": "display_data"
    },
    {
     "data": {
      "text/html": [
       "<pre style=\"white-space:pre;overflow-x:auto;line-height:normal;font-family:Menlo,'DejaVu Sans Mono',consolas,'Courier New',monospace\"><span style=\"color: #808000; text-decoration-color: #808000; font-weight: bold\">Save with config in config.json</span>\n",
       "</pre>\n"
      ],
      "text/plain": [
       "\u001b[1;33mSave with config in config.json\u001b[0m\n"
      ]
     },
     "metadata": {},
     "output_type": "display_data"
    },
    {
     "data": {
      "text/html": [
       "<pre style=\"white-space:pre;overflow-x:auto;line-height:normal;font-family:Menlo,'DejaVu Sans Mono',consolas,'Courier New',monospace\">project Experiments_Final name TRPOLag-<span style=\"font-weight: bold\">{</span>SafetyPointButton2-v0<span style=\"font-weight: bold\">}</span>-seed-<span style=\"color: #008080; text-decoration-color: #008080; font-weight: bold\">000</span>-<span style=\"color: #008080; text-decoration-color: #008080; font-weight: bold\">2024</span>-<span style=\"color: #008080; text-decoration-color: #008080; font-weight: bold\">05</span>-<span style=\"color: #008080; text-decoration-color: #008080; font-weight: bold\">20</span>-<span style=\"color: #008080; text-decoration-color: #008080; font-weight: bold\">16</span>-<span style=\"color: #008080; text-decoration-color: #008080; font-weight: bold\">54</span>-<span style=\"color: #008080; text-decoration-color: #008080; font-weight: bold\">56</span>\n",
       "</pre>\n"
      ],
      "text/plain": [
       "project Experiments_Final name TRPOLag-\u001b[1m{\u001b[0mSafetyPointButton2-v0\u001b[1m}\u001b[0m-seed-\u001b[1;36m000\u001b[0m-\u001b[1;36m2024\u001b[0m-\u001b[1;36m05\u001b[0m-\u001b[1;36m20\u001b[0m-\u001b[1;36m16\u001b[0m-\u001b[1;36m54\u001b[0m-\u001b[1;36m56\u001b[0m\n"
      ]
     },
     "metadata": {},
     "output_type": "display_data"
    },
    {
     "data": {
      "text/html": [
       "Tracking run with wandb version 0.17.0"
      ],
      "text/plain": [
       "<IPython.core.display.HTML object>"
      ]
     },
     "metadata": {},
     "output_type": "display_data"
    },
    {
     "data": {
      "text/html": [
       "Run data is saved locally in <code>./exp-x\\Exps_Final_6\\SafetyPointButton2-v0---a094a2c4ee75c8f5e6ec093fa12a4acc298af447320d5790d950e54ddff69ffe\\TRPOLag-{SafetyPointButton2-v0}\\seed-000-2024-05-20-16-54-56\\wandb\\run-20240520_165458-v1oz986q</code>"
      ],
      "text/plain": [
       "<IPython.core.display.HTML object>"
      ]
     },
     "metadata": {},
     "output_type": "display_data"
    },
    {
     "data": {
      "text/html": [
       "Syncing run <strong><a href='https://wandb.ai/sasank/Experiments_Final/runs/v1oz986q' target=\"_blank\">TRPOLag-{SafetyPointButton2-v0}-seed-000-2024-05-20-16-54-56</a></strong> to <a href='https://wandb.ai/sasank/Experiments_Final' target=\"_blank\">Weights & Biases</a> (<a href='https://wandb.me/run' target=\"_blank\">docs</a>)<br/>"
      ],
      "text/plain": [
       "<IPython.core.display.HTML object>"
      ]
     },
     "metadata": {},
     "output_type": "display_data"
    },
    {
     "data": {
      "text/html": [
       " View project at <a href='https://wandb.ai/sasank/Experiments_Final' target=\"_blank\">https://wandb.ai/sasank/Experiments_Final</a>"
      ],
      "text/plain": [
       "<IPython.core.display.HTML object>"
      ]
     },
     "metadata": {},
     "output_type": "display_data"
    },
    {
     "data": {
      "text/html": [
       " View run at <a href='https://wandb.ai/sasank/Experiments_Final/runs/v1oz986q' target=\"_blank\">https://wandb.ai/sasank/Experiments_Final/runs/v1oz986q</a>"
      ],
      "text/plain": [
       "<IPython.core.display.HTML object>"
      ]
     },
     "metadata": {},
     "output_type": "display_data"
    },
    {
     "data": {
      "text/html": [
       "<pre style=\"white-space:pre;overflow-x:auto;line-height:normal;font-family:Menlo,'DejaVu Sans Mono',consolas,'Courier New',monospace\"><span style=\"color: #008000; text-decoration-color: #008000\">INFO: Start training</span>\n",
       "</pre>\n"
      ],
      "text/plain": [
       "\u001b[32mINFO: Start training\u001b[0m\n"
      ]
     },
     "metadata": {},
     "output_type": "display_data"
    },
    {
     "data": {
      "text/html": [
       "<pre style=\"white-space:pre;overflow-x:auto;line-height:normal;font-family:Menlo,'DejaVu Sans Mono',consolas,'Courier New',monospace\">c:\\Users\\saisa\\.conda\\envs\\om-38\\lib\\site-packages\\rich\\live.py:231: UserWarning: install \"ipywidgets\" for Jupyter \n",
       "support\n",
       "  warnings.warn('install \"ipywidgets\" for Jupyter support')\n",
       "</pre>\n"
      ],
      "text/plain": [
       "c:\\Users\\saisa\\.conda\\envs\\om-38\\lib\\site-packages\\rich\\live.py:231: UserWarning: install \"ipywidgets\" for Jupyter \n",
       "support\n",
       "  warnings.warn('install \"ipywidgets\" for Jupyter support')\n"
      ]
     },
     "metadata": {},
     "output_type": "display_data"
    },
    {
     "data": {
      "text/html": [
       "<pre style=\"white-space:pre;overflow-x:auto;line-height:normal;font-family:Menlo,'DejaVu Sans Mono',consolas,'Courier New',monospace\"><span style=\"color: #008000; text-decoration-color: #008000\">Warning: trajectory cut off when rollout by epoch at </span><span style=\"color: #008080; text-decoration-color: #008080; font-weight: bold\">1000.0</span><span style=\"color: #008000; text-decoration-color: #008000\"> steps.</span>\n",
       "</pre>\n"
      ],
      "text/plain": [
       "\u001b[32mWarning: trajectory cut off when rollout by epoch at \u001b[0m\u001b[1;36m1000.0\u001b[0m\u001b[32m steps.\u001b[0m\n"
      ]
     },
     "metadata": {},
     "output_type": "display_data"
    },
    {
     "data": {
      "text/html": [
       "<pre style=\"white-space:pre;overflow-x:auto;line-height:normal;font-family:Menlo,'DejaVu Sans Mono',consolas,'Courier New',monospace\"><span style=\"color: #008000; text-decoration-color: #008000\">Warning: trajectory cut off when rollout by epoch at </span><span style=\"color: #008080; text-decoration-color: #008080; font-weight: bold\">1000.0</span><span style=\"color: #008000; text-decoration-color: #008000\"> steps.</span>\n",
       "</pre>\n"
      ],
      "text/plain": [
       "\u001b[32mWarning: trajectory cut off when rollout by epoch at \u001b[0m\u001b[1;36m1000.0\u001b[0m\u001b[32m steps.\u001b[0m\n"
      ]
     },
     "metadata": {},
     "output_type": "display_data"
    },
    {
     "data": {
      "text/html": [
       "<pre style=\"white-space:pre;overflow-x:auto;line-height:normal;font-family:Menlo,'DejaVu Sans Mono',consolas,'Courier New',monospace\"><span style=\"color: #008000; text-decoration-color: #008000\">Warning: trajectory cut off when rollout by epoch at </span><span style=\"color: #008080; text-decoration-color: #008080; font-weight: bold\">1000.0</span><span style=\"color: #008000; text-decoration-color: #008000\"> steps.</span>\n",
       "</pre>\n"
      ],
      "text/plain": [
       "\u001b[32mWarning: trajectory cut off when rollout by epoch at \u001b[0m\u001b[1;36m1000.0\u001b[0m\u001b[32m steps.\u001b[0m\n"
      ]
     },
     "metadata": {},
     "output_type": "display_data"
    },
    {
     "data": {
      "text/html": [
       "<pre style=\"white-space:pre;overflow-x:auto;line-height:normal;font-family:Menlo,'DejaVu Sans Mono',consolas,'Courier New',monospace\"><span style=\"color: #008000; text-decoration-color: #008000\">Warning: trajectory cut off when rollout by epoch at </span><span style=\"color: #008080; text-decoration-color: #008080; font-weight: bold\">1000.0</span><span style=\"color: #008000; text-decoration-color: #008000\"> steps.</span>\n",
       "</pre>\n"
      ],
      "text/plain": [
       "\u001b[32mWarning: trajectory cut off when rollout by epoch at \u001b[0m\u001b[1;36m1000.0\u001b[0m\u001b[32m steps.\u001b[0m\n"
      ]
     },
     "metadata": {},
     "output_type": "display_data"
    },
    {
     "data": {
      "text/html": [
       "<pre style=\"white-space:pre;overflow-x:auto;line-height:normal;font-family:Menlo,'DejaVu Sans Mono',consolas,'Courier New',monospace\"></pre>\n"
      ],
      "text/plain": []
     },
     "metadata": {},
     "output_type": "display_data"
    },
    {
     "data": {
      "text/html": [
       "<pre style=\"white-space:pre;overflow-x:auto;line-height:normal;font-family:Menlo,'DejaVu Sans Mono',consolas,'Courier New',monospace\">\n",
       "</pre>\n"
      ],
      "text/plain": [
       "\n"
      ]
     },
     "metadata": {},
     "output_type": "display_data"
    },
    {
     "data": {
      "text/html": [
       "<pre style=\"white-space:pre;overflow-x:auto;line-height:normal;font-family:Menlo,'DejaVu Sans Mono',consolas,'Courier New',monospace\"><span style=\"color: #008000; text-decoration-color: #008000\">Expected Improvement: </span><span style=\"color: #008080; text-decoration-color: #008080; font-weight: bold\">0.016604743897914886</span><span style=\"color: #008000; text-decoration-color: #008000\"> Actual: </span><span style=\"color: #008080; text-decoration-color: #008080; font-weight: bold\">0.015824677422642708</span>\n",
       "</pre>\n"
      ],
      "text/plain": [
       "\u001b[32mExpected Improvement: \u001b[0m\u001b[1;36m0.016604743897914886\u001b[0m\u001b[32m Actual: \u001b[0m\u001b[1;36m0.015824677422642708\u001b[0m\n"
      ]
     },
     "metadata": {},
     "output_type": "display_data"
    },
    {
     "data": {
      "text/html": [
       "<pre style=\"white-space:pre;overflow-x:auto;line-height:normal;font-family:Menlo,'DejaVu Sans Mono',consolas,'Courier New',monospace\"><span style=\"color: #008000; text-decoration-color: #008000\">Accept step at </span><span style=\"color: #808000; text-decoration-color: #808000\">i</span><span style=\"color: #008000; text-decoration-color: #008000\">=</span><span style=\"color: #008080; text-decoration-color: #008080; font-weight: bold\">1</span>\n",
       "</pre>\n"
      ],
      "text/plain": [
       "\u001b[32mAccept step at \u001b[0m\u001b[33mi\u001b[0m\u001b[32m=\u001b[0m\u001b[1;36m1\u001b[0m\n"
      ]
     },
     "metadata": {},
     "output_type": "display_data"
    },
    {
     "data": {
      "text/html": [
       "<pre style=\"white-space:pre;overflow-x:auto;line-height:normal;font-family:Menlo,'DejaVu Sans Mono',consolas,'Courier New',monospace\">┏━━━━━━━━━━━━━━━━━━━━━━━━━━━━━━━━┳━━━━━━━━━━━━━━━━━━━━━━━┓\n",
       "┃<span style=\"font-weight: bold\"> Metrics                        </span>┃<span style=\"font-weight: bold\"> Value                 </span>┃\n",
       "┡━━━━━━━━━━━━━━━━━━━━━━━━━━━━━━━━╇━━━━━━━━━━━━━━━━━━━━━━━┩\n",
       "│ Metrics/EpRet                  │ -0.7741950750350952   │\n",
       "│ Metrics/EpCost                 │ 83.30000305175781     │\n",
       "│ Metrics/EpLen                  │ 1000.0                │\n",
       "│ Train/Epoch                    │ 0.0                   │\n",
       "│ Train/Entropy                  │ 1.417375087738037     │\n",
       "│ Train/KL                       │ 0.0003431890218053013 │\n",
       "│ Train/StopIter                 │ 10.0                  │\n",
       "│ Train/PolicyRatio/Mean         │ 0.9994015097618103    │\n",
       "│ Train/PolicyRatio/Min          │ 0.9994015097618103    │\n",
       "│ Train/PolicyRatio/Max          │ 0.9994015097618103    │\n",
       "│ Train/PolicyRatio/Std          │ 0.0004232105566188693 │\n",
       "│ Train/LR                       │ 0.0                   │\n",
       "│ Train/PolicyStd                │ 0.9984495043754578    │\n",
       "│ TotalEnvSteps                  │ 20000.0               │\n",
       "│ Loss/Loss_pi                   │ -0.010549791157245636 │\n",
       "│ Loss/Loss_pi/Delta             │ -0.010549791157245636 │\n",
       "│ Value/Adv                      │ 7.247924482811641e-09 │\n",
       "│ Loss/Loss_reward_critic        │ 0.005859289783984423  │\n",
       "│ Loss/Loss_reward_critic/Delta  │ 0.005859289783984423  │\n",
       "│ Value/reward                   │ 0.011345586739480495  │\n",
       "│ Loss/Loss_cost_critic          │ 2.7771384716033936    │\n",
       "│ Loss/Loss_cost_critic/Delta    │ 2.7771384716033936    │\n",
       "│ Value/cost                     │ 0.06896490603685379   │\n",
       "│ Time/Total                     │ 78.43684387207031     │\n",
       "│ Time/Rollout                   │ 65.98008728027344     │\n",
       "│ Time/Update                    │ 12.455734252929688    │\n",
       "│ Time/Epoch                     │ 78.43582153320312     │\n",
       "│ Time/FPS                       │ 254.98553466796875    │\n",
       "│ Misc/Alpha                     │ 1.20637845993042      │\n",
       "│ Misc/FinalStepNorm             │ 0.2521786689758301    │\n",
       "│ Misc/gradient_norm             │ 0.08529509603977203   │\n",
       "│ Misc/xHx                       │ 0.013742398470640182  │\n",
       "│ Misc/H_inv_g                   │ 0.20903779566287994   │\n",
       "│ Misc/AcceptanceStep            │ 1.0                   │\n",
       "│ Metrics/LagrangeMultiplier/Mea │ 0.035999998450279236  │\n",
       "│ Metrics/LagrangeMultiplier/Min │ 0.035999998450279236  │\n",
       "│ Metrics/LagrangeMultiplier/Max │ 0.035999998450279236  │\n",
       "│ Metrics/LagrangeMultiplier/Std │ 0.0                   │\n",
       "└────────────────────────────────┴───────────────────────┘\n",
       "</pre>\n"
      ],
      "text/plain": [
       "┏━━━━━━━━━━━━━━━━━━━━━━━━━━━━━━━━┳━━━━━━━━━━━━━━━━━━━━━━━┓\n",
       "┃\u001b[1m \u001b[0m\u001b[1mMetrics                       \u001b[0m\u001b[1m \u001b[0m┃\u001b[1m \u001b[0m\u001b[1mValue                \u001b[0m\u001b[1m \u001b[0m┃\n",
       "┡━━━━━━━━━━━━━━━━━━━━━━━━━━━━━━━━╇━━━━━━━━━━━━━━━━━━━━━━━┩\n",
       "│ Metrics/EpRet                  │ -0.7741950750350952   │\n",
       "│ Metrics/EpCost                 │ 83.30000305175781     │\n",
       "│ Metrics/EpLen                  │ 1000.0                │\n",
       "│ Train/Epoch                    │ 0.0                   │\n",
       "│ Train/Entropy                  │ 1.417375087738037     │\n",
       "│ Train/KL                       │ 0.0003431890218053013 │\n",
       "│ Train/StopIter                 │ 10.0                  │\n",
       "│ Train/PolicyRatio/Mean         │ 0.9994015097618103    │\n",
       "│ Train/PolicyRatio/Min          │ 0.9994015097618103    │\n",
       "│ Train/PolicyRatio/Max          │ 0.9994015097618103    │\n",
       "│ Train/PolicyRatio/Std          │ 0.0004232105566188693 │\n",
       "│ Train/LR                       │ 0.0                   │\n",
       "│ Train/PolicyStd                │ 0.9984495043754578    │\n",
       "│ TotalEnvSteps                  │ 20000.0               │\n",
       "│ Loss/Loss_pi                   │ -0.010549791157245636 │\n",
       "│ Loss/Loss_pi/Delta             │ -0.010549791157245636 │\n",
       "│ Value/Adv                      │ 7.247924482811641e-09 │\n",
       "│ Loss/Loss_reward_critic        │ 0.005859289783984423  │\n",
       "│ Loss/Loss_reward_critic/Delta  │ 0.005859289783984423  │\n",
       "│ Value/reward                   │ 0.011345586739480495  │\n",
       "│ Loss/Loss_cost_critic          │ 2.7771384716033936    │\n",
       "│ Loss/Loss_cost_critic/Delta    │ 2.7771384716033936    │\n",
       "│ Value/cost                     │ 0.06896490603685379   │\n",
       "│ Time/Total                     │ 78.43684387207031     │\n",
       "│ Time/Rollout                   │ 65.98008728027344     │\n",
       "│ Time/Update                    │ 12.455734252929688    │\n",
       "│ Time/Epoch                     │ 78.43582153320312     │\n",
       "│ Time/FPS                       │ 254.98553466796875    │\n",
       "│ Misc/Alpha                     │ 1.20637845993042      │\n",
       "│ Misc/FinalStepNorm             │ 0.2521786689758301    │\n",
       "│ Misc/gradient_norm             │ 0.08529509603977203   │\n",
       "│ Misc/xHx                       │ 0.013742398470640182  │\n",
       "│ Misc/H_inv_g                   │ 0.20903779566287994   │\n",
       "│ Misc/AcceptanceStep            │ 1.0                   │\n",
       "│ Metrics/LagrangeMultiplier/Mea │ 0.035999998450279236  │\n",
       "│ Metrics/LagrangeMultiplier/Min │ 0.035999998450279236  │\n",
       "│ Metrics/LagrangeMultiplier/Max │ 0.035999998450279236  │\n",
       "│ Metrics/LagrangeMultiplier/Std │ 0.0                   │\n",
       "└────────────────────────────────┴───────────────────────┘\n"
      ]
     },
     "metadata": {},
     "output_type": "display_data"
    },
    {
     "data": {
      "text/html": [
       "<pre style=\"white-space:pre;overflow-x:auto;line-height:normal;font-family:Menlo,'DejaVu Sans Mono',consolas,'Courier New',monospace\"><span style=\"color: #008000; text-decoration-color: #008000\">Warning: trajectory cut off when rollout by epoch at </span><span style=\"color: #008080; text-decoration-color: #008080; font-weight: bold\">1000.0</span><span style=\"color: #008000; text-decoration-color: #008000\"> steps.</span>\n",
       "</pre>\n"
      ],
      "text/plain": [
       "\u001b[32mWarning: trajectory cut off when rollout by epoch at \u001b[0m\u001b[1;36m1000.0\u001b[0m\u001b[32m steps.\u001b[0m\n"
      ]
     },
     "metadata": {},
     "output_type": "display_data"
    },
    {
     "data": {
      "text/html": [
       "<pre style=\"white-space:pre;overflow-x:auto;line-height:normal;font-family:Menlo,'DejaVu Sans Mono',consolas,'Courier New',monospace\"><span style=\"color: #008000; text-decoration-color: #008000\">Warning: trajectory cut off when rollout by epoch at </span><span style=\"color: #008080; text-decoration-color: #008080; font-weight: bold\">1000.0</span><span style=\"color: #008000; text-decoration-color: #008000\"> steps.</span>\n",
       "</pre>\n"
      ],
      "text/plain": [
       "\u001b[32mWarning: trajectory cut off when rollout by epoch at \u001b[0m\u001b[1;36m1000.0\u001b[0m\u001b[32m steps.\u001b[0m\n"
      ]
     },
     "metadata": {},
     "output_type": "display_data"
    },
    {
     "data": {
      "text/html": [
       "<pre style=\"white-space:pre;overflow-x:auto;line-height:normal;font-family:Menlo,'DejaVu Sans Mono',consolas,'Courier New',monospace\"><span style=\"color: #008000; text-decoration-color: #008000\">Warning: trajectory cut off when rollout by epoch at </span><span style=\"color: #008080; text-decoration-color: #008080; font-weight: bold\">1000.0</span><span style=\"color: #008000; text-decoration-color: #008000\"> steps.</span>\n",
       "</pre>\n"
      ],
      "text/plain": [
       "\u001b[32mWarning: trajectory cut off when rollout by epoch at \u001b[0m\u001b[1;36m1000.0\u001b[0m\u001b[32m steps.\u001b[0m\n"
      ]
     },
     "metadata": {},
     "output_type": "display_data"
    },
    {
     "data": {
      "text/html": [
       "<pre style=\"white-space:pre;overflow-x:auto;line-height:normal;font-family:Menlo,'DejaVu Sans Mono',consolas,'Courier New',monospace\"><span style=\"color: #008000; text-decoration-color: #008000\">Warning: trajectory cut off when rollout by epoch at </span><span style=\"color: #008080; text-decoration-color: #008080; font-weight: bold\">1000.0</span><span style=\"color: #008000; text-decoration-color: #008000\"> steps.</span>\n",
       "</pre>\n"
      ],
      "text/plain": [
       "\u001b[32mWarning: trajectory cut off when rollout by epoch at \u001b[0m\u001b[1;36m1000.0\u001b[0m\u001b[32m steps.\u001b[0m\n"
      ]
     },
     "metadata": {},
     "output_type": "display_data"
    },
    {
     "data": {
      "text/html": [
       "<pre style=\"white-space:pre;overflow-x:auto;line-height:normal;font-family:Menlo,'DejaVu Sans Mono',consolas,'Courier New',monospace\"></pre>\n"
      ],
      "text/plain": []
     },
     "metadata": {},
     "output_type": "display_data"
    },
    {
     "data": {
      "text/html": [
       "<pre style=\"white-space:pre;overflow-x:auto;line-height:normal;font-family:Menlo,'DejaVu Sans Mono',consolas,'Courier New',monospace\">\n",
       "</pre>\n"
      ],
      "text/plain": [
       "\n"
      ]
     },
     "metadata": {},
     "output_type": "display_data"
    },
    {
     "data": {
      "text/html": [
       "<pre style=\"white-space:pre;overflow-x:auto;line-height:normal;font-family:Menlo,'DejaVu Sans Mono',consolas,'Courier New',monospace\"><span style=\"color: #008000; text-decoration-color: #008000\">Expected Improvement: </span><span style=\"color: #008080; text-decoration-color: #008080; font-weight: bold\">0.024581920355558395</span><span style=\"color: #008000; text-decoration-color: #008000\"> Actual: </span><span style=\"color: #008080; text-decoration-color: #008080; font-weight: bold\">0.02502923272550106</span>\n",
       "</pre>\n"
      ],
      "text/plain": [
       "\u001b[32mExpected Improvement: \u001b[0m\u001b[1;36m0.024581920355558395\u001b[0m\u001b[32m Actual: \u001b[0m\u001b[1;36m0.02502923272550106\u001b[0m\n"
      ]
     },
     "metadata": {},
     "output_type": "display_data"
    },
    {
     "data": {
      "text/html": [
       "<pre style=\"white-space:pre;overflow-x:auto;line-height:normal;font-family:Menlo,'DejaVu Sans Mono',consolas,'Courier New',monospace\"><span style=\"color: #008000; text-decoration-color: #008000\">Accept step at </span><span style=\"color: #808000; text-decoration-color: #808000\">i</span><span style=\"color: #008000; text-decoration-color: #008000\">=</span><span style=\"color: #008080; text-decoration-color: #008080; font-weight: bold\">1</span>\n",
       "</pre>\n"
      ],
      "text/plain": [
       "\u001b[32mAccept step at \u001b[0m\u001b[33mi\u001b[0m\u001b[32m=\u001b[0m\u001b[1;36m1\u001b[0m\n"
      ]
     },
     "metadata": {},
     "output_type": "display_data"
    },
    {
     "data": {
      "text/html": [
       "<pre style=\"white-space:pre;overflow-x:auto;line-height:normal;font-family:Menlo,'DejaVu Sans Mono',consolas,'Courier New',monospace\">┏━━━━━━━━━━━━━━━━━━━━━━━━━━━━━━━━┳━━━━━━━━━━━━━━━━━━━━━━━━┓\n",
       "┃<span style=\"font-weight: bold\"> Metrics                        </span>┃<span style=\"font-weight: bold\"> Value                  </span>┃\n",
       "┡━━━━━━━━━━━━━━━━━━━━━━━━━━━━━━━━╇━━━━━━━━━━━━━━━━━━━━━━━━┩\n",
       "│ Metrics/EpRet                  │ -0.6361583471298218    │\n",
       "│ Metrics/EpCost                 │ 100.80000305175781     │\n",
       "│ Metrics/EpLen                  │ 1000.0                 │\n",
       "│ Train/Epoch                    │ 1.0                    │\n",
       "│ Train/Entropy                  │ 1.4153715372085571     │\n",
       "│ Train/KL                       │ 0.00043666482088156044 │\n",
       "│ Train/StopIter                 │ 10.0                   │\n",
       "│ Train/PolicyRatio/Mean         │ 1.0004510879516602     │\n",
       "│ Train/PolicyRatio/Min          │ 1.0004510879516602     │\n",
       "│ Train/PolicyRatio/Max          │ 1.0004510879516602     │\n",
       "│ Train/PolicyRatio/Std          │ 0.0003189673589076847  │\n",
       "│ Train/LR                       │ 0.0                    │\n",
       "│ Train/PolicyStd                │ 0.996478259563446      │\n",
       "│ TotalEnvSteps                  │ 40000.0                │\n",
       "│ Loss/Loss_pi                   │ -0.01668614149093628   │\n",
       "│ Loss/Loss_pi/Delta             │ -0.006136350333690643  │\n",
       "│ Value/Adv                      │ -1.678466787780053e-08 │\n",
       "│ Loss/Loss_reward_critic        │ 0.0021710770670324564  │\n",
       "│ Loss/Loss_reward_critic/Delta  │ -0.0036882127169519663 │\n",
       "│ Value/reward                   │ 0.03445906937122345    │\n",
       "│ Loss/Loss_cost_critic          │ 1.9736318588256836     │\n",
       "│ Loss/Loss_cost_critic/Delta    │ -0.80350661277771      │\n",
       "│ Value/cost                     │ 2.4990334510803223     │\n",
       "│ Time/Total                     │ 152.06312561035156     │\n",
       "│ Time/Rollout                   │ 60.46739959716797      │\n",
       "│ Time/Update                    │ 13.121023178100586     │\n",
       "│ Time/Epoch                     │ 73.58842468261719      │\n",
       "│ Time/FPS                       │ 271.7818908691406      │\n",
       "│ Misc/Alpha                     │ 0.8142163157463074     │\n",
       "│ Misc/FinalStepNorm             │ 0.22485527396202087    │\n",
       "│ Misc/gradient_norm             │ 0.1475355625152588     │\n",
       "│ Misc/xHx                       │ 0.030168257653713226   │\n",
       "│ Misc/H_inv_g                   │ 0.2761615812778473     │\n",
       "│ Misc/AcceptanceStep            │ 1.0                    │\n",
       "│ Metrics/LagrangeMultiplier/Mea │ 0.07094185054302216    │\n",
       "│ Metrics/LagrangeMultiplier/Min │ 0.07094185054302216    │\n",
       "│ Metrics/LagrangeMultiplier/Max │ 0.07094185054302216    │\n",
       "│ Metrics/LagrangeMultiplier/Std │ 0.0                    │\n",
       "└────────────────────────────────┴────────────────────────┘\n",
       "</pre>\n"
      ],
      "text/plain": [
       "┏━━━━━━━━━━━━━━━━━━━━━━━━━━━━━━━━┳━━━━━━━━━━━━━━━━━━━━━━━━┓\n",
       "┃\u001b[1m \u001b[0m\u001b[1mMetrics                       \u001b[0m\u001b[1m \u001b[0m┃\u001b[1m \u001b[0m\u001b[1mValue                 \u001b[0m\u001b[1m \u001b[0m┃\n",
       "┡━━━━━━━━━━━━━━━━━━━━━━━━━━━━━━━━╇━━━━━━━━━━━━━━━━━━━━━━━━┩\n",
       "│ Metrics/EpRet                  │ -0.6361583471298218    │\n",
       "│ Metrics/EpCost                 │ 100.80000305175781     │\n",
       "│ Metrics/EpLen                  │ 1000.0                 │\n",
       "│ Train/Epoch                    │ 1.0                    │\n",
       "│ Train/Entropy                  │ 1.4153715372085571     │\n",
       "│ Train/KL                       │ 0.00043666482088156044 │\n",
       "│ Train/StopIter                 │ 10.0                   │\n",
       "│ Train/PolicyRatio/Mean         │ 1.0004510879516602     │\n",
       "│ Train/PolicyRatio/Min          │ 1.0004510879516602     │\n",
       "│ Train/PolicyRatio/Max          │ 1.0004510879516602     │\n",
       "│ Train/PolicyRatio/Std          │ 0.0003189673589076847  │\n",
       "│ Train/LR                       │ 0.0                    │\n",
       "│ Train/PolicyStd                │ 0.996478259563446      │\n",
       "│ TotalEnvSteps                  │ 40000.0                │\n",
       "│ Loss/Loss_pi                   │ -0.01668614149093628   │\n",
       "│ Loss/Loss_pi/Delta             │ -0.006136350333690643  │\n",
       "│ Value/Adv                      │ -1.678466787780053e-08 │\n",
       "│ Loss/Loss_reward_critic        │ 0.0021710770670324564  │\n",
       "│ Loss/Loss_reward_critic/Delta  │ -0.0036882127169519663 │\n",
       "│ Value/reward                   │ 0.03445906937122345    │\n",
       "│ Loss/Loss_cost_critic          │ 1.9736318588256836     │\n",
       "│ Loss/Loss_cost_critic/Delta    │ -0.80350661277771      │\n",
       "│ Value/cost                     │ 2.4990334510803223     │\n",
       "│ Time/Total                     │ 152.06312561035156     │\n",
       "│ Time/Rollout                   │ 60.46739959716797      │\n",
       "│ Time/Update                    │ 13.121023178100586     │\n",
       "│ Time/Epoch                     │ 73.58842468261719      │\n",
       "│ Time/FPS                       │ 271.7818908691406      │\n",
       "│ Misc/Alpha                     │ 0.8142163157463074     │\n",
       "│ Misc/FinalStepNorm             │ 0.22485527396202087    │\n",
       "│ Misc/gradient_norm             │ 0.1475355625152588     │\n",
       "│ Misc/xHx                       │ 0.030168257653713226   │\n",
       "│ Misc/H_inv_g                   │ 0.2761615812778473     │\n",
       "│ Misc/AcceptanceStep            │ 1.0                    │\n",
       "│ Metrics/LagrangeMultiplier/Mea │ 0.07094185054302216    │\n",
       "│ Metrics/LagrangeMultiplier/Min │ 0.07094185054302216    │\n",
       "│ Metrics/LagrangeMultiplier/Max │ 0.07094185054302216    │\n",
       "│ Metrics/LagrangeMultiplier/Std │ 0.0                    │\n",
       "└────────────────────────────────┴────────────────────────┘\n"
      ]
     },
     "metadata": {},
     "output_type": "display_data"
    },
    {
     "data": {
      "text/html": [
       "<pre style=\"white-space:pre;overflow-x:auto;line-height:normal;font-family:Menlo,'DejaVu Sans Mono',consolas,'Courier New',monospace\"><span style=\"color: #008000; text-decoration-color: #008000\">Warning: trajectory cut off when rollout by epoch at </span><span style=\"color: #008080; text-decoration-color: #008080; font-weight: bold\">1000.0</span><span style=\"color: #008000; text-decoration-color: #008000\"> steps.</span>\n",
       "</pre>\n"
      ],
      "text/plain": [
       "\u001b[32mWarning: trajectory cut off when rollout by epoch at \u001b[0m\u001b[1;36m1000.0\u001b[0m\u001b[32m steps.\u001b[0m\n"
      ]
     },
     "metadata": {},
     "output_type": "display_data"
    },
    {
     "data": {
      "text/html": [
       "<pre style=\"white-space:pre;overflow-x:auto;line-height:normal;font-family:Menlo,'DejaVu Sans Mono',consolas,'Courier New',monospace\"><span style=\"color: #008000; text-decoration-color: #008000\">Warning: trajectory cut off when rollout by epoch at </span><span style=\"color: #008080; text-decoration-color: #008080; font-weight: bold\">1000.0</span><span style=\"color: #008000; text-decoration-color: #008000\"> steps.</span>\n",
       "</pre>\n"
      ],
      "text/plain": [
       "\u001b[32mWarning: trajectory cut off when rollout by epoch at \u001b[0m\u001b[1;36m1000.0\u001b[0m\u001b[32m steps.\u001b[0m\n"
      ]
     },
     "metadata": {},
     "output_type": "display_data"
    },
    {
     "data": {
      "text/html": [
       "<pre style=\"white-space:pre;overflow-x:auto;line-height:normal;font-family:Menlo,'DejaVu Sans Mono',consolas,'Courier New',monospace\"><span style=\"color: #008000; text-decoration-color: #008000\">Warning: trajectory cut off when rollout by epoch at </span><span style=\"color: #008080; text-decoration-color: #008080; font-weight: bold\">1000.0</span><span style=\"color: #008000; text-decoration-color: #008000\"> steps.</span>\n",
       "</pre>\n"
      ],
      "text/plain": [
       "\u001b[32mWarning: trajectory cut off when rollout by epoch at \u001b[0m\u001b[1;36m1000.0\u001b[0m\u001b[32m steps.\u001b[0m\n"
      ]
     },
     "metadata": {},
     "output_type": "display_data"
    },
    {
     "data": {
      "text/html": [
       "<pre style=\"white-space:pre;overflow-x:auto;line-height:normal;font-family:Menlo,'DejaVu Sans Mono',consolas,'Courier New',monospace\"><span style=\"color: #008000; text-decoration-color: #008000\">Warning: trajectory cut off when rollout by epoch at </span><span style=\"color: #008080; text-decoration-color: #008080; font-weight: bold\">1000.0</span><span style=\"color: #008000; text-decoration-color: #008000\"> steps.</span>\n",
       "</pre>\n"
      ],
      "text/plain": [
       "\u001b[32mWarning: trajectory cut off when rollout by epoch at \u001b[0m\u001b[1;36m1000.0\u001b[0m\u001b[32m steps.\u001b[0m\n"
      ]
     },
     "metadata": {},
     "output_type": "display_data"
    },
    {
     "data": {
      "text/html": [
       "<pre style=\"white-space:pre;overflow-x:auto;line-height:normal;font-family:Menlo,'DejaVu Sans Mono',consolas,'Courier New',monospace\"></pre>\n"
      ],
      "text/plain": []
     },
     "metadata": {},
     "output_type": "display_data"
    },
    {
     "data": {
      "text/html": [
       "<pre style=\"white-space:pre;overflow-x:auto;line-height:normal;font-family:Menlo,'DejaVu Sans Mono',consolas,'Courier New',monospace\">\n",
       "</pre>\n"
      ],
      "text/plain": [
       "\n"
      ]
     },
     "metadata": {},
     "output_type": "display_data"
    },
    {
     "data": {
      "text/html": [
       "<pre style=\"white-space:pre;overflow-x:auto;line-height:normal;font-family:Menlo,'DejaVu Sans Mono',consolas,'Courier New',monospace\"><span style=\"color: #008000; text-decoration-color: #008000\">Expected Improvement: </span><span style=\"color: #008080; text-decoration-color: #008080; font-weight: bold\">0.019378693774342537</span><span style=\"color: #008000; text-decoration-color: #008000\"> Actual: </span><span style=\"color: #008080; text-decoration-color: #008080; font-weight: bold\">0.019798139110207558</span>\n",
       "</pre>\n"
      ],
      "text/plain": [
       "\u001b[32mExpected Improvement: \u001b[0m\u001b[1;36m0.019378693774342537\u001b[0m\u001b[32m Actual: \u001b[0m\u001b[1;36m0.019798139110207558\u001b[0m\n"
      ]
     },
     "metadata": {},
     "output_type": "display_data"
    },
    {
     "data": {
      "text/html": [
       "<pre style=\"white-space:pre;overflow-x:auto;line-height:normal;font-family:Menlo,'DejaVu Sans Mono',consolas,'Courier New',monospace\"><span style=\"color: #008000; text-decoration-color: #008000\">Accept step at </span><span style=\"color: #808000; text-decoration-color: #808000\">i</span><span style=\"color: #008000; text-decoration-color: #008000\">=</span><span style=\"color: #008080; text-decoration-color: #008080; font-weight: bold\">1</span>\n",
       "</pre>\n"
      ],
      "text/plain": [
       "\u001b[32mAccept step at \u001b[0m\u001b[33mi\u001b[0m\u001b[32m=\u001b[0m\u001b[1;36m1\u001b[0m\n"
      ]
     },
     "metadata": {},
     "output_type": "display_data"
    },
    {
     "data": {
      "text/html": [
       "<pre style=\"white-space:pre;overflow-x:auto;line-height:normal;font-family:Menlo,'DejaVu Sans Mono',consolas,'Courier New',monospace\">┏━━━━━━━━━━━━━━━━━━━━━━━━━━━━━━━━┳━━━━━━━━━━━━━━━━━━━━━━━━━┓\n",
       "┃<span style=\"font-weight: bold\"> Metrics                        </span>┃<span style=\"font-weight: bold\"> Value                   </span>┃\n",
       "┡━━━━━━━━━━━━━━━━━━━━━━━━━━━━━━━━╇━━━━━━━━━━━━━━━━━━━━━━━━━┩\n",
       "│ Metrics/EpRet                  │ -0.24824225902557373    │\n",
       "│ Metrics/EpCost                 │ 111.87999725341797      │\n",
       "│ Metrics/EpLen                  │ 1000.0                  │\n",
       "│ Train/Epoch                    │ 2.0                     │\n",
       "│ Train/Entropy                  │ 1.4150772094726562      │\n",
       "│ Train/KL                       │ 0.00041008112020790577  │\n",
       "│ Train/StopIter                 │ 10.0                    │\n",
       "│ Train/PolicyRatio/Mean         │ 0.9993619322776794      │\n",
       "│ Train/PolicyRatio/Min          │ 0.9993619322776794      │\n",
       "│ Train/PolicyRatio/Max          │ 0.9993619322776794      │\n",
       "│ Train/PolicyRatio/Std          │ 0.000451196072390303    │\n",
       "│ Train/LR                       │ 0.0                     │\n",
       "│ Train/PolicyStd                │ 0.9963269233703613      │\n",
       "│ TotalEnvSteps                  │ 60000.0                 │\n",
       "│ Loss/Loss_pi                   │ -0.013198763132095337   │\n",
       "│ Loss/Loss_pi/Delta             │ 0.0034873783588409424   │\n",
       "│ Value/Adv                      │ 9.53674295089968e-09    │\n",
       "│ Loss/Loss_reward_critic        │ 0.0020242019090801477   │\n",
       "│ Loss/Loss_reward_critic/Delta  │ -0.00014687515795230865 │\n",
       "│ Value/reward                   │ 0.041915372014045715    │\n",
       "│ Loss/Loss_cost_critic          │ 2.1693620681762695      │\n",
       "│ Loss/Loss_cost_critic/Delta    │ 0.19573020935058594     │\n",
       "│ Value/cost                     │ 3.5804250240325928      │\n",
       "│ Time/Total                     │ 223.60630798339844      │\n",
       "│ Time/Rollout                   │ 58.17388916015625       │\n",
       "│ Time/Update                    │ 13.326728820800781      │\n",
       "│ Time/Epoch                     │ 71.50061798095703       │\n",
       "│ Time/FPS                       │ 279.7178649902344       │\n",
       "│ Misc/Alpha                     │ 1.0332642793655396      │\n",
       "│ Misc/FinalStepNorm             │ 0.23478053510189056     │\n",
       "│ Misc/gradient_norm             │ 0.11307810992002487     │\n",
       "│ Misc/xHx                       │ 0.018732983618974686    │\n",
       "│ Misc/H_inv_g                   │ 0.22722215950489044     │\n",
       "│ Misc/AcceptanceStep            │ 1.0                     │\n",
       "│ Metrics/LagrangeMultiplier/Mea │ 0.10596762597560883     │\n",
       "│ Metrics/LagrangeMultiplier/Min │ 0.10596762597560883     │\n",
       "│ Metrics/LagrangeMultiplier/Max │ 0.10596762597560883     │\n",
       "│ Metrics/LagrangeMultiplier/Std │ 0.0                     │\n",
       "└────────────────────────────────┴─────────────────────────┘\n",
       "</pre>\n"
      ],
      "text/plain": [
       "┏━━━━━━━━━━━━━━━━━━━━━━━━━━━━━━━━┳━━━━━━━━━━━━━━━━━━━━━━━━━┓\n",
       "┃\u001b[1m \u001b[0m\u001b[1mMetrics                       \u001b[0m\u001b[1m \u001b[0m┃\u001b[1m \u001b[0m\u001b[1mValue                  \u001b[0m\u001b[1m \u001b[0m┃\n",
       "┡━━━━━━━━━━━━━━━━━━━━━━━━━━━━━━━━╇━━━━━━━━━━━━━━━━━━━━━━━━━┩\n",
       "│ Metrics/EpRet                  │ -0.24824225902557373    │\n",
       "│ Metrics/EpCost                 │ 111.87999725341797      │\n",
       "│ Metrics/EpLen                  │ 1000.0                  │\n",
       "│ Train/Epoch                    │ 2.0                     │\n",
       "│ Train/Entropy                  │ 1.4150772094726562      │\n",
       "│ Train/KL                       │ 0.00041008112020790577  │\n",
       "│ Train/StopIter                 │ 10.0                    │\n",
       "│ Train/PolicyRatio/Mean         │ 0.9993619322776794      │\n",
       "│ Train/PolicyRatio/Min          │ 0.9993619322776794      │\n",
       "│ Train/PolicyRatio/Max          │ 0.9993619322776794      │\n",
       "│ Train/PolicyRatio/Std          │ 0.000451196072390303    │\n",
       "│ Train/LR                       │ 0.0                     │\n",
       "│ Train/PolicyStd                │ 0.9963269233703613      │\n",
       "│ TotalEnvSteps                  │ 60000.0                 │\n",
       "│ Loss/Loss_pi                   │ -0.013198763132095337   │\n",
       "│ Loss/Loss_pi/Delta             │ 0.0034873783588409424   │\n",
       "│ Value/Adv                      │ 9.53674295089968e-09    │\n",
       "│ Loss/Loss_reward_critic        │ 0.0020242019090801477   │\n",
       "│ Loss/Loss_reward_critic/Delta  │ -0.00014687515795230865 │\n",
       "│ Value/reward                   │ 0.041915372014045715    │\n",
       "│ Loss/Loss_cost_critic          │ 2.1693620681762695      │\n",
       "│ Loss/Loss_cost_critic/Delta    │ 0.19573020935058594     │\n",
       "│ Value/cost                     │ 3.5804250240325928      │\n",
       "│ Time/Total                     │ 223.60630798339844      │\n",
       "│ Time/Rollout                   │ 58.17388916015625       │\n",
       "│ Time/Update                    │ 13.326728820800781      │\n",
       "│ Time/Epoch                     │ 71.50061798095703       │\n",
       "│ Time/FPS                       │ 279.7178649902344       │\n",
       "│ Misc/Alpha                     │ 1.0332642793655396      │\n",
       "│ Misc/FinalStepNorm             │ 0.23478053510189056     │\n",
       "│ Misc/gradient_norm             │ 0.11307810992002487     │\n",
       "│ Misc/xHx                       │ 0.018732983618974686    │\n",
       "│ Misc/H_inv_g                   │ 0.22722215950489044     │\n",
       "│ Misc/AcceptanceStep            │ 1.0                     │\n",
       "│ Metrics/LagrangeMultiplier/Mea │ 0.10596762597560883     │\n",
       "│ Metrics/LagrangeMultiplier/Min │ 0.10596762597560883     │\n",
       "│ Metrics/LagrangeMultiplier/Max │ 0.10596762597560883     │\n",
       "│ Metrics/LagrangeMultiplier/Std │ 0.0                     │\n",
       "└────────────────────────────────┴─────────────────────────┘\n"
      ]
     },
     "metadata": {},
     "output_type": "display_data"
    },
    {
     "data": {
      "text/html": [
       "<pre style=\"white-space:pre;overflow-x:auto;line-height:normal;font-family:Menlo,'DejaVu Sans Mono',consolas,'Courier New',monospace\"><span style=\"color: #008000; text-decoration-color: #008000\">Warning: trajectory cut off when rollout by epoch at </span><span style=\"color: #008080; text-decoration-color: #008080; font-weight: bold\">1000.0</span><span style=\"color: #008000; text-decoration-color: #008000\"> steps.</span>\n",
       "</pre>\n"
      ],
      "text/plain": [
       "\u001b[32mWarning: trajectory cut off when rollout by epoch at \u001b[0m\u001b[1;36m1000.0\u001b[0m\u001b[32m steps.\u001b[0m\n"
      ]
     },
     "metadata": {},
     "output_type": "display_data"
    },
    {
     "data": {
      "text/html": [
       "<pre style=\"white-space:pre;overflow-x:auto;line-height:normal;font-family:Menlo,'DejaVu Sans Mono',consolas,'Courier New',monospace\"><span style=\"color: #008000; text-decoration-color: #008000\">Warning: trajectory cut off when rollout by epoch at </span><span style=\"color: #008080; text-decoration-color: #008080; font-weight: bold\">1000.0</span><span style=\"color: #008000; text-decoration-color: #008000\"> steps.</span>\n",
       "</pre>\n"
      ],
      "text/plain": [
       "\u001b[32mWarning: trajectory cut off when rollout by epoch at \u001b[0m\u001b[1;36m1000.0\u001b[0m\u001b[32m steps.\u001b[0m\n"
      ]
     },
     "metadata": {},
     "output_type": "display_data"
    },
    {
     "data": {
      "text/html": [
       "<pre style=\"white-space:pre;overflow-x:auto;line-height:normal;font-family:Menlo,'DejaVu Sans Mono',consolas,'Courier New',monospace\"><span style=\"color: #008000; text-decoration-color: #008000\">Warning: trajectory cut off when rollout by epoch at </span><span style=\"color: #008080; text-decoration-color: #008080; font-weight: bold\">1000.0</span><span style=\"color: #008000; text-decoration-color: #008000\"> steps.</span>\n",
       "</pre>\n"
      ],
      "text/plain": [
       "\u001b[32mWarning: trajectory cut off when rollout by epoch at \u001b[0m\u001b[1;36m1000.0\u001b[0m\u001b[32m steps.\u001b[0m\n"
      ]
     },
     "metadata": {},
     "output_type": "display_data"
    },
    {
     "data": {
      "text/html": [
       "<pre style=\"white-space:pre;overflow-x:auto;line-height:normal;font-family:Menlo,'DejaVu Sans Mono',consolas,'Courier New',monospace\"><span style=\"color: #008000; text-decoration-color: #008000\">Warning: trajectory cut off when rollout by epoch at </span><span style=\"color: #008080; text-decoration-color: #008080; font-weight: bold\">1000.0</span><span style=\"color: #008000; text-decoration-color: #008000\"> steps.</span>\n",
       "</pre>\n"
      ],
      "text/plain": [
       "\u001b[32mWarning: trajectory cut off when rollout by epoch at \u001b[0m\u001b[1;36m1000.0\u001b[0m\u001b[32m steps.\u001b[0m\n"
      ]
     },
     "metadata": {},
     "output_type": "display_data"
    },
    {
     "data": {
      "text/html": [
       "<pre style=\"white-space:pre;overflow-x:auto;line-height:normal;font-family:Menlo,'DejaVu Sans Mono',consolas,'Courier New',monospace\"></pre>\n"
      ],
      "text/plain": []
     },
     "metadata": {},
     "output_type": "display_data"
    },
    {
     "data": {
      "text/html": [
       "<pre style=\"white-space:pre;overflow-x:auto;line-height:normal;font-family:Menlo,'DejaVu Sans Mono',consolas,'Courier New',monospace\">\n",
       "</pre>\n"
      ],
      "text/plain": [
       "\n"
      ]
     },
     "metadata": {},
     "output_type": "display_data"
    },
    {
     "data": {
      "text/html": [
       "<pre style=\"white-space:pre;overflow-x:auto;line-height:normal;font-family:Menlo,'DejaVu Sans Mono',consolas,'Courier New',monospace\"><span style=\"color: #008000; text-decoration-color: #008000\">Expected Improvement: </span><span style=\"color: #008080; text-decoration-color: #008080; font-weight: bold\">0.021716346964240074</span><span style=\"color: #008000; text-decoration-color: #008000\"> Actual: </span><span style=\"color: #008080; text-decoration-color: #008080; font-weight: bold\">0.023003708571195602</span>\n",
       "</pre>\n"
      ],
      "text/plain": [
       "\u001b[32mExpected Improvement: \u001b[0m\u001b[1;36m0.021716346964240074\u001b[0m\u001b[32m Actual: \u001b[0m\u001b[1;36m0.023003708571195602\u001b[0m\n"
      ]
     },
     "metadata": {},
     "output_type": "display_data"
    },
    {
     "data": {
      "text/html": [
       "<pre style=\"white-space:pre;overflow-x:auto;line-height:normal;font-family:Menlo,'DejaVu Sans Mono',consolas,'Courier New',monospace\"><span style=\"color: #008000; text-decoration-color: #008000\">Accept step at </span><span style=\"color: #808000; text-decoration-color: #808000\">i</span><span style=\"color: #008000; text-decoration-color: #008000\">=</span><span style=\"color: #008080; text-decoration-color: #008080; font-weight: bold\">1</span>\n",
       "</pre>\n"
      ],
      "text/plain": [
       "\u001b[32mAccept step at \u001b[0m\u001b[33mi\u001b[0m\u001b[32m=\u001b[0m\u001b[1;36m1\u001b[0m\n"
      ]
     },
     "metadata": {},
     "output_type": "display_data"
    },
    {
     "data": {
      "text/html": [
       "<pre style=\"white-space:pre;overflow-x:auto;line-height:normal;font-family:Menlo,'DejaVu Sans Mono',consolas,'Courier New',monospace\">┏━━━━━━━━━━━━━━━━━━━━━━━━━━━━━━━━┳━━━━━━━━━━━━━━━━━━━━━━━━┓\n",
       "┃<span style=\"font-weight: bold\"> Metrics                        </span>┃<span style=\"font-weight: bold\"> Value                  </span>┃\n",
       "┡━━━━━━━━━━━━━━━━━━━━━━━━━━━━━━━━╇━━━━━━━━━━━━━━━━━━━━━━━━┩\n",
       "│ Metrics/EpRet                  │ 0.45305389165878296    │\n",
       "│ Metrics/EpCost                 │ 158.6999969482422      │\n",
       "│ Metrics/EpLen                  │ 1000.0                 │\n",
       "│ Train/Epoch                    │ 3.0                    │\n",
       "│ Train/Entropy                  │ 1.4173401594161987     │\n",
       "│ Train/KL                       │ 0.000390086614061147   │\n",
       "│ Train/StopIter                 │ 10.0                   │\n",
       "│ Train/PolicyRatio/Mean         │ 1.0009369850158691     │\n",
       "│ Train/PolicyRatio/Min          │ 1.0009369850158691     │\n",
       "│ Train/PolicyRatio/Max          │ 1.0009369850158691     │\n",
       "│ Train/PolicyRatio/Std          │ 0.0006625484093092382  │\n",
       "│ Train/LR                       │ 0.0                    │\n",
       "│ Train/PolicyStd                │ 0.9985550045967102     │\n",
       "│ TotalEnvSteps                  │ 80000.0                │\n",
       "│ Loss/Loss_pi                   │ -0.015335810370743275  │\n",
       "│ Loss/Loss_pi/Delta             │ -0.0021370472386479378 │\n",
       "│ Value/Adv                      │ -3.051757735406113e-09 │\n",
       "│ Loss/Loss_reward_critic        │ 0.002958645112812519   │\n",
       "│ Loss/Loss_reward_critic/Delta  │ 0.0009344432037323713  │\n",
       "│ Value/reward                   │ 0.038654014468193054   │\n",
       "│ Loss/Loss_cost_critic          │ 2.6472842693328857     │\n",
       "│ Loss/Loss_cost_critic/Delta    │ 0.4779222011566162     │\n",
       "│ Value/cost                     │ 3.8333194255828857     │\n",
       "│ Time/Total                     │ 300.05596923828125     │\n",
       "│ Time/Rollout                   │ 62.63274383544922      │\n",
       "│ Time/Update                    │ 13.786459922790527     │\n",
       "│ Time/Epoch                     │ 76.41920471191406      │\n",
       "│ Time/FPS                       │ 261.7143249511719      │\n",
       "│ Misc/Alpha                     │ 0.9218831658363342     │\n",
       "│ Misc/FinalStepNorm             │ 0.2673446536064148     │\n",
       "│ Misc/gradient_norm             │ 0.10784455388784409    │\n",
       "│ Misc/xHx                       │ 0.023533038794994354   │\n",
       "│ Misc/H_inv_g                   │ 0.2899984121322632     │\n",
       "│ Misc/AcceptanceStep            │ 1.0                    │\n",
       "│ Metrics/LagrangeMultiplier/Mea │ 0.14052842557430267    │\n",
       "│ Metrics/LagrangeMultiplier/Min │ 0.14052842557430267    │\n",
       "│ Metrics/LagrangeMultiplier/Max │ 0.14052842557430267    │\n",
       "│ Metrics/LagrangeMultiplier/Std │ 0.0                    │\n",
       "└────────────────────────────────┴────────────────────────┘\n",
       "</pre>\n"
      ],
      "text/plain": [
       "┏━━━━━━━━━━━━━━━━━━━━━━━━━━━━━━━━┳━━━━━━━━━━━━━━━━━━━━━━━━┓\n",
       "┃\u001b[1m \u001b[0m\u001b[1mMetrics                       \u001b[0m\u001b[1m \u001b[0m┃\u001b[1m \u001b[0m\u001b[1mValue                 \u001b[0m\u001b[1m \u001b[0m┃\n",
       "┡━━━━━━━━━━━━━━━━━━━━━━━━━━━━━━━━╇━━━━━━━━━━━━━━━━━━━━━━━━┩\n",
       "│ Metrics/EpRet                  │ 0.45305389165878296    │\n",
       "│ Metrics/EpCost                 │ 158.6999969482422      │\n",
       "│ Metrics/EpLen                  │ 1000.0                 │\n",
       "│ Train/Epoch                    │ 3.0                    │\n",
       "│ Train/Entropy                  │ 1.4173401594161987     │\n",
       "│ Train/KL                       │ 0.000390086614061147   │\n",
       "│ Train/StopIter                 │ 10.0                   │\n",
       "│ Train/PolicyRatio/Mean         │ 1.0009369850158691     │\n",
       "│ Train/PolicyRatio/Min          │ 1.0009369850158691     │\n",
       "│ Train/PolicyRatio/Max          │ 1.0009369850158691     │\n",
       "│ Train/PolicyRatio/Std          │ 0.0006625484093092382  │\n",
       "│ Train/LR                       │ 0.0                    │\n",
       "│ Train/PolicyStd                │ 0.9985550045967102     │\n",
       "│ TotalEnvSteps                  │ 80000.0                │\n",
       "│ Loss/Loss_pi                   │ -0.015335810370743275  │\n",
       "│ Loss/Loss_pi/Delta             │ -0.0021370472386479378 │\n",
       "│ Value/Adv                      │ -3.051757735406113e-09 │\n",
       "│ Loss/Loss_reward_critic        │ 0.002958645112812519   │\n",
       "│ Loss/Loss_reward_critic/Delta  │ 0.0009344432037323713  │\n",
       "│ Value/reward                   │ 0.038654014468193054   │\n",
       "│ Loss/Loss_cost_critic          │ 2.6472842693328857     │\n",
       "│ Loss/Loss_cost_critic/Delta    │ 0.4779222011566162     │\n",
       "│ Value/cost                     │ 3.8333194255828857     │\n",
       "│ Time/Total                     │ 300.05596923828125     │\n",
       "│ Time/Rollout                   │ 62.63274383544922      │\n",
       "│ Time/Update                    │ 13.786459922790527     │\n",
       "│ Time/Epoch                     │ 76.41920471191406      │\n",
       "│ Time/FPS                       │ 261.7143249511719      │\n",
       "│ Misc/Alpha                     │ 0.9218831658363342     │\n",
       "│ Misc/FinalStepNorm             │ 0.2673446536064148     │\n",
       "│ Misc/gradient_norm             │ 0.10784455388784409    │\n",
       "│ Misc/xHx                       │ 0.023533038794994354   │\n",
       "│ Misc/H_inv_g                   │ 0.2899984121322632     │\n",
       "│ Misc/AcceptanceStep            │ 1.0                    │\n",
       "│ Metrics/LagrangeMultiplier/Mea │ 0.14052842557430267    │\n",
       "│ Metrics/LagrangeMultiplier/Min │ 0.14052842557430267    │\n",
       "│ Metrics/LagrangeMultiplier/Max │ 0.14052842557430267    │\n",
       "│ Metrics/LagrangeMultiplier/Std │ 0.0                    │\n",
       "└────────────────────────────────┴────────────────────────┘\n"
      ]
     },
     "metadata": {},
     "output_type": "display_data"
    },
    {
     "data": {
      "text/html": [
       "<pre style=\"white-space:pre;overflow-x:auto;line-height:normal;font-family:Menlo,'DejaVu Sans Mono',consolas,'Courier New',monospace\"><span style=\"color: #008000; text-decoration-color: #008000\">Warning: trajectory cut off when rollout by epoch at </span><span style=\"color: #008080; text-decoration-color: #008080; font-weight: bold\">1000.0</span><span style=\"color: #008000; text-decoration-color: #008000\"> steps.</span>\n",
       "</pre>\n"
      ],
      "text/plain": [
       "\u001b[32mWarning: trajectory cut off when rollout by epoch at \u001b[0m\u001b[1;36m1000.0\u001b[0m\u001b[32m steps.\u001b[0m\n"
      ]
     },
     "metadata": {},
     "output_type": "display_data"
    },
    {
     "data": {
      "text/html": [
       "<pre style=\"white-space:pre;overflow-x:auto;line-height:normal;font-family:Menlo,'DejaVu Sans Mono',consolas,'Courier New',monospace\"><span style=\"color: #008000; text-decoration-color: #008000\">Warning: trajectory cut off when rollout by epoch at </span><span style=\"color: #008080; text-decoration-color: #008080; font-weight: bold\">1000.0</span><span style=\"color: #008000; text-decoration-color: #008000\"> steps.</span>\n",
       "</pre>\n"
      ],
      "text/plain": [
       "\u001b[32mWarning: trajectory cut off when rollout by epoch at \u001b[0m\u001b[1;36m1000.0\u001b[0m\u001b[32m steps.\u001b[0m\n"
      ]
     },
     "metadata": {},
     "output_type": "display_data"
    },
    {
     "data": {
      "text/html": [
       "<pre style=\"white-space:pre;overflow-x:auto;line-height:normal;font-family:Menlo,'DejaVu Sans Mono',consolas,'Courier New',monospace\"><span style=\"color: #008000; text-decoration-color: #008000\">Warning: trajectory cut off when rollout by epoch at </span><span style=\"color: #008080; text-decoration-color: #008080; font-weight: bold\">1000.0</span><span style=\"color: #008000; text-decoration-color: #008000\"> steps.</span>\n",
       "</pre>\n"
      ],
      "text/plain": [
       "\u001b[32mWarning: trajectory cut off when rollout by epoch at \u001b[0m\u001b[1;36m1000.0\u001b[0m\u001b[32m steps.\u001b[0m\n"
      ]
     },
     "metadata": {},
     "output_type": "display_data"
    },
    {
     "data": {
      "text/html": [
       "<pre style=\"white-space:pre;overflow-x:auto;line-height:normal;font-family:Menlo,'DejaVu Sans Mono',consolas,'Courier New',monospace\"><span style=\"color: #008000; text-decoration-color: #008000\">Warning: trajectory cut off when rollout by epoch at </span><span style=\"color: #008080; text-decoration-color: #008080; font-weight: bold\">1000.0</span><span style=\"color: #008000; text-decoration-color: #008000\"> steps.</span>\n",
       "</pre>\n"
      ],
      "text/plain": [
       "\u001b[32mWarning: trajectory cut off when rollout by epoch at \u001b[0m\u001b[1;36m1000.0\u001b[0m\u001b[32m steps.\u001b[0m\n"
      ]
     },
     "metadata": {},
     "output_type": "display_data"
    },
    {
     "data": {
      "text/html": [
       "<pre style=\"white-space:pre;overflow-x:auto;line-height:normal;font-family:Menlo,'DejaVu Sans Mono',consolas,'Courier New',monospace\"></pre>\n"
      ],
      "text/plain": []
     },
     "metadata": {},
     "output_type": "display_data"
    },
    {
     "data": {
      "text/html": [
       "<pre style=\"white-space:pre;overflow-x:auto;line-height:normal;font-family:Menlo,'DejaVu Sans Mono',consolas,'Courier New',monospace\">\n",
       "</pre>\n"
      ],
      "text/plain": [
       "\n"
      ]
     },
     "metadata": {},
     "output_type": "display_data"
    },
    {
     "data": {
      "text/html": [
       "<pre style=\"white-space:pre;overflow-x:auto;line-height:normal;font-family:Menlo,'DejaVu Sans Mono',consolas,'Courier New',monospace\"><span style=\"color: #008000; text-decoration-color: #008000\">Expected Improvement: </span><span style=\"color: #008080; text-decoration-color: #008080; font-weight: bold\">0.01973135769367218</span><span style=\"color: #008000; text-decoration-color: #008000\"> Actual: </span><span style=\"color: #008080; text-decoration-color: #008080; font-weight: bold\">0.021004149690270424</span>\n",
       "</pre>\n"
      ],
      "text/plain": [
       "\u001b[32mExpected Improvement: \u001b[0m\u001b[1;36m0.01973135769367218\u001b[0m\u001b[32m Actual: \u001b[0m\u001b[1;36m0.021004149690270424\u001b[0m\n"
      ]
     },
     "metadata": {},
     "output_type": "display_data"
    },
    {
     "data": {
      "text/html": [
       "<pre style=\"white-space:pre;overflow-x:auto;line-height:normal;font-family:Menlo,'DejaVu Sans Mono',consolas,'Courier New',monospace\"><span style=\"color: #008000; text-decoration-color: #008000\">Accept step at </span><span style=\"color: #808000; text-decoration-color: #808000\">i</span><span style=\"color: #008000; text-decoration-color: #008000\">=</span><span style=\"color: #008080; text-decoration-color: #008080; font-weight: bold\">1</span>\n",
       "</pre>\n"
      ],
      "text/plain": [
       "\u001b[32mAccept step at \u001b[0m\u001b[33mi\u001b[0m\u001b[32m=\u001b[0m\u001b[1;36m1\u001b[0m\n"
      ]
     },
     "metadata": {},
     "output_type": "display_data"
    },
    {
     "data": {
      "text/html": [
       "<pre style=\"white-space:pre;overflow-x:auto;line-height:normal;font-family:Menlo,'DejaVu Sans Mono',consolas,'Courier New',monospace\">┏━━━━━━━━━━━━━━━━━━━━━━━━━━━━━━━━┳━━━━━━━━━━━━━━━━━━━━━━━┓\n",
       "┃<span style=\"font-weight: bold\"> Metrics                        </span>┃<span style=\"font-weight: bold\"> Value                 </span>┃\n",
       "┡━━━━━━━━━━━━━━━━━━━━━━━━━━━━━━━━╇━━━━━━━━━━━━━━━━━━━━━━━┩\n",
       "│ Metrics/EpRet                  │ 1.453993797302246     │\n",
       "│ Metrics/EpCost                 │ 195.3800048828125     │\n",
       "│ Metrics/EpLen                  │ 1000.0                │\n",
       "│ Train/Epoch                    │ 4.0                   │\n",
       "│ Train/Entropy                  │ 1.420642375946045     │\n",
       "│ Train/KL                       │ 0.0003477413847576827 │\n",
       "│ Train/StopIter                 │ 10.0                  │\n",
       "│ Train/PolicyRatio/Mean         │ 1.000655174255371     │\n",
       "│ Train/PolicyRatio/Min          │ 1.000655174255371     │\n",
       "│ Train/PolicyRatio/Max          │ 1.000655174255371     │\n",
       "│ Train/PolicyRatio/Std          │ 0.0004632219497580081 │\n",
       "│ Train/LR                       │ 0.0                   │\n",
       "│ Train/PolicyStd                │ 1.0017718076705933    │\n",
       "│ TotalEnvSteps                  │ 100000.0              │\n",
       "│ Loss/Loss_pi                   │ -0.014002788811922073 │\n",
       "│ Loss/Loss_pi/Delta             │ 0.0013330215588212013 │\n",
       "│ Value/Adv                      │ 6.866454960174906e-09 │\n",
       "│ Loss/Loss_reward_critic        │ 0.011446141637861729  │\n",
       "│ Loss/Loss_reward_critic/Delta  │ 0.00848749652504921   │\n",
       "│ Value/reward                   │ 0.06154732033610344   │\n",
       "│ Loss/Loss_cost_critic          │ 3.1166961193084717    │\n",
       "│ Loss/Loss_cost_critic/Delta    │ 0.46941184997558594   │\n",
       "│ Value/cost                     │ 6.511809349060059     │\n",
       "│ Time/Total                     │ 381.8576965332031     │\n",
       "│ Time/Rollout                   │ 67.50336456298828     │\n",
       "│ Time/Update                    │ 14.258989334106445    │\n",
       "│ Time/Epoch                     │ 81.7623519897461      │\n",
       "│ Time/FPS                       │ 244.61135864257812    │\n",
       "│ Misc/Alpha                     │ 1.0149189233779907    │\n",
       "│ Misc/FinalStepNorm             │ 0.2941146194934845    │\n",
       "│ Misc/gradient_norm             │ 0.08466409891843796   │\n",
       "│ Misc/xHx                       │ 0.01941632479429245   │\n",
       "│ Misc/H_inv_g                   │ 0.2897912561893463    │\n",
       "│ Misc/AcceptanceStep            │ 1.0                   │\n",
       "│ Metrics/LagrangeMultiplier/Mea │ 0.17496126890182495   │\n",
       "│ Metrics/LagrangeMultiplier/Min │ 0.17496126890182495   │\n",
       "│ Metrics/LagrangeMultiplier/Max │ 0.17496126890182495   │\n",
       "│ Metrics/LagrangeMultiplier/Std │ 0.0                   │\n",
       "└────────────────────────────────┴───────────────────────┘\n",
       "</pre>\n"
      ],
      "text/plain": [
       "┏━━━━━━━━━━━━━━━━━━━━━━━━━━━━━━━━┳━━━━━━━━━━━━━━━━━━━━━━━┓\n",
       "┃\u001b[1m \u001b[0m\u001b[1mMetrics                       \u001b[0m\u001b[1m \u001b[0m┃\u001b[1m \u001b[0m\u001b[1mValue                \u001b[0m\u001b[1m \u001b[0m┃\n",
       "┡━━━━━━━━━━━━━━━━━━━━━━━━━━━━━━━━╇━━━━━━━━━━━━━━━━━━━━━━━┩\n",
       "│ Metrics/EpRet                  │ 1.453993797302246     │\n",
       "│ Metrics/EpCost                 │ 195.3800048828125     │\n",
       "│ Metrics/EpLen                  │ 1000.0                │\n",
       "│ Train/Epoch                    │ 4.0                   │\n",
       "│ Train/Entropy                  │ 1.420642375946045     │\n",
       "│ Train/KL                       │ 0.0003477413847576827 │\n",
       "│ Train/StopIter                 │ 10.0                  │\n",
       "│ Train/PolicyRatio/Mean         │ 1.000655174255371     │\n",
       "│ Train/PolicyRatio/Min          │ 1.000655174255371     │\n",
       "│ Train/PolicyRatio/Max          │ 1.000655174255371     │\n",
       "│ Train/PolicyRatio/Std          │ 0.0004632219497580081 │\n",
       "│ Train/LR                       │ 0.0                   │\n",
       "│ Train/PolicyStd                │ 1.0017718076705933    │\n",
       "│ TotalEnvSteps                  │ 100000.0              │\n",
       "│ Loss/Loss_pi                   │ -0.014002788811922073 │\n",
       "│ Loss/Loss_pi/Delta             │ 0.0013330215588212013 │\n",
       "│ Value/Adv                      │ 6.866454960174906e-09 │\n",
       "│ Loss/Loss_reward_critic        │ 0.011446141637861729  │\n",
       "│ Loss/Loss_reward_critic/Delta  │ 0.00848749652504921   │\n",
       "│ Value/reward                   │ 0.06154732033610344   │\n",
       "│ Loss/Loss_cost_critic          │ 3.1166961193084717    │\n",
       "│ Loss/Loss_cost_critic/Delta    │ 0.46941184997558594   │\n",
       "│ Value/cost                     │ 6.511809349060059     │\n",
       "│ Time/Total                     │ 381.8576965332031     │\n",
       "│ Time/Rollout                   │ 67.50336456298828     │\n",
       "│ Time/Update                    │ 14.258989334106445    │\n",
       "│ Time/Epoch                     │ 81.7623519897461      │\n",
       "│ Time/FPS                       │ 244.61135864257812    │\n",
       "│ Misc/Alpha                     │ 1.0149189233779907    │\n",
       "│ Misc/FinalStepNorm             │ 0.2941146194934845    │\n",
       "│ Misc/gradient_norm             │ 0.08466409891843796   │\n",
       "│ Misc/xHx                       │ 0.01941632479429245   │\n",
       "│ Misc/H_inv_g                   │ 0.2897912561893463    │\n",
       "│ Misc/AcceptanceStep            │ 1.0                   │\n",
       "│ Metrics/LagrangeMultiplier/Mea │ 0.17496126890182495   │\n",
       "│ Metrics/LagrangeMultiplier/Min │ 0.17496126890182495   │\n",
       "│ Metrics/LagrangeMultiplier/Max │ 0.17496126890182495   │\n",
       "│ Metrics/LagrangeMultiplier/Std │ 0.0                   │\n",
       "└────────────────────────────────┴───────────────────────┘\n"
      ]
     },
     "metadata": {},
     "output_type": "display_data"
    },
    {
     "data": {
      "text/html": [
       "<pre style=\"white-space:pre;overflow-x:auto;line-height:normal;font-family:Menlo,'DejaVu Sans Mono',consolas,'Courier New',monospace\"><span style=\"color: #008000; text-decoration-color: #008000\">Warning: trajectory cut off when rollout by epoch at </span><span style=\"color: #008080; text-decoration-color: #008080; font-weight: bold\">1000.0</span><span style=\"color: #008000; text-decoration-color: #008000\"> steps.</span>\n",
       "</pre>\n"
      ],
      "text/plain": [
       "\u001b[32mWarning: trajectory cut off when rollout by epoch at \u001b[0m\u001b[1;36m1000.0\u001b[0m\u001b[32m steps.\u001b[0m\n"
      ]
     },
     "metadata": {},
     "output_type": "display_data"
    },
    {
     "data": {
      "text/html": [
       "<pre style=\"white-space:pre;overflow-x:auto;line-height:normal;font-family:Menlo,'DejaVu Sans Mono',consolas,'Courier New',monospace\"><span style=\"color: #008000; text-decoration-color: #008000\">Warning: trajectory cut off when rollout by epoch at </span><span style=\"color: #008080; text-decoration-color: #008080; font-weight: bold\">1000.0</span><span style=\"color: #008000; text-decoration-color: #008000\"> steps.</span>\n",
       "</pre>\n"
      ],
      "text/plain": [
       "\u001b[32mWarning: trajectory cut off when rollout by epoch at \u001b[0m\u001b[1;36m1000.0\u001b[0m\u001b[32m steps.\u001b[0m\n"
      ]
     },
     "metadata": {},
     "output_type": "display_data"
    },
    {
     "data": {
      "text/html": [
       "<pre style=\"white-space:pre;overflow-x:auto;line-height:normal;font-family:Menlo,'DejaVu Sans Mono',consolas,'Courier New',monospace\"><span style=\"color: #008000; text-decoration-color: #008000\">Warning: trajectory cut off when rollout by epoch at </span><span style=\"color: #008080; text-decoration-color: #008080; font-weight: bold\">1000.0</span><span style=\"color: #008000; text-decoration-color: #008000\"> steps.</span>\n",
       "</pre>\n"
      ],
      "text/plain": [
       "\u001b[32mWarning: trajectory cut off when rollout by epoch at \u001b[0m\u001b[1;36m1000.0\u001b[0m\u001b[32m steps.\u001b[0m\n"
      ]
     },
     "metadata": {},
     "output_type": "display_data"
    },
    {
     "data": {
      "text/html": [
       "<pre style=\"white-space:pre;overflow-x:auto;line-height:normal;font-family:Menlo,'DejaVu Sans Mono',consolas,'Courier New',monospace\"><span style=\"color: #008000; text-decoration-color: #008000\">Warning: trajectory cut off when rollout by epoch at </span><span style=\"color: #008080; text-decoration-color: #008080; font-weight: bold\">1000.0</span><span style=\"color: #008000; text-decoration-color: #008000\"> steps.</span>\n",
       "</pre>\n"
      ],
      "text/plain": [
       "\u001b[32mWarning: trajectory cut off when rollout by epoch at \u001b[0m\u001b[1;36m1000.0\u001b[0m\u001b[32m steps.\u001b[0m\n"
      ]
     },
     "metadata": {},
     "output_type": "display_data"
    },
    {
     "data": {
      "text/html": [
       "<pre style=\"white-space:pre;overflow-x:auto;line-height:normal;font-family:Menlo,'DejaVu Sans Mono',consolas,'Courier New',monospace\"></pre>\n"
      ],
      "text/plain": []
     },
     "metadata": {},
     "output_type": "display_data"
    },
    {
     "data": {
      "text/html": [
       "<pre style=\"white-space:pre;overflow-x:auto;line-height:normal;font-family:Menlo,'DejaVu Sans Mono',consolas,'Courier New',monospace\">\n",
       "</pre>\n"
      ],
      "text/plain": [
       "\n"
      ]
     },
     "metadata": {},
     "output_type": "display_data"
    },
    {
     "data": {
      "text/html": [
       "<pre style=\"white-space:pre;overflow-x:auto;line-height:normal;font-family:Menlo,'DejaVu Sans Mono',consolas,'Courier New',monospace\"><span style=\"color: #008000; text-decoration-color: #008000\">Expected Improvement: </span><span style=\"color: #008080; text-decoration-color: #008080; font-weight: bold\">0.01992402970790863</span><span style=\"color: #008000; text-decoration-color: #008000\"> Actual: </span><span style=\"color: #008080; text-decoration-color: #008080; font-weight: bold\">0.020267127081751823</span>\n",
       "</pre>\n"
      ],
      "text/plain": [
       "\u001b[32mExpected Improvement: \u001b[0m\u001b[1;36m0.01992402970790863\u001b[0m\u001b[32m Actual: \u001b[0m\u001b[1;36m0.020267127081751823\u001b[0m\n"
      ]
     },
     "metadata": {},
     "output_type": "display_data"
    },
    {
     "data": {
      "text/html": [
       "<pre style=\"white-space:pre;overflow-x:auto;line-height:normal;font-family:Menlo,'DejaVu Sans Mono',consolas,'Courier New',monospace\"><span style=\"color: #008000; text-decoration-color: #008000\">Accept step at </span><span style=\"color: #808000; text-decoration-color: #808000\">i</span><span style=\"color: #008000; text-decoration-color: #008000\">=</span><span style=\"color: #008080; text-decoration-color: #008080; font-weight: bold\">1</span>\n",
       "</pre>\n"
      ],
      "text/plain": [
       "\u001b[32mAccept step at \u001b[0m\u001b[33mi\u001b[0m\u001b[32m=\u001b[0m\u001b[1;36m1\u001b[0m\n"
      ]
     },
     "metadata": {},
     "output_type": "display_data"
    },
    {
     "data": {
      "text/html": [
       "<pre style=\"white-space:pre;overflow-x:auto;line-height:normal;font-family:Menlo,'DejaVu Sans Mono',consolas,'Courier New',monospace\">┏━━━━━━━━━━━━━━━━━━━━━━━━━━━━━━━━┳━━━━━━━━━━━━━━━━━━━━━━━━┓\n",
       "┃<span style=\"font-weight: bold\"> Metrics                        </span>┃<span style=\"font-weight: bold\"> Value                  </span>┃\n",
       "┡━━━━━━━━━━━━━━━━━━━━━━━━━━━━━━━━╇━━━━━━━━━━━━━━━━━━━━━━━━┩\n",
       "│ Metrics/EpRet                  │ 2.3797218799591064     │\n",
       "│ Metrics/EpCost                 │ 183.63999938964844     │\n",
       "│ Metrics/EpLen                  │ 1000.0                 │\n",
       "│ Train/Epoch                    │ 5.0                    │\n",
       "│ Train/Entropy                  │ 1.4147634506225586     │\n",
       "│ Train/KL                       │ 0.00036930752685293555 │\n",
       "│ Train/StopIter                 │ 10.0                   │\n",
       "│ Train/PolicyRatio/Mean         │ 0.9990528225898743     │\n",
       "│ Train/PolicyRatio/Min          │ 0.999052882194519      │\n",
       "│ Train/PolicyRatio/Max          │ 0.999052882194519      │\n",
       "│ Train/PolicyRatio/Std          │ 0.0006697415374219418  │\n",
       "│ Train/LR                       │ 0.0                    │\n",
       "│ Train/PolicyStd                │ 0.9959240555763245     │\n",
       "│ TotalEnvSteps                  │ 120000.0               │\n",
       "│ Loss/Loss_pi                   │ -0.013511407189071178  │\n",
       "│ Loss/Loss_pi/Delta             │ 0.0004913816228508949  │\n",
       "│ Value/Adv                      │ 3.051757735406113e-09  │\n",
       "│ Loss/Loss_reward_critic        │ 0.014236746355891228   │\n",
       "│ Loss/Loss_reward_critic/Delta  │ 0.002790604718029499   │\n",
       "│ Value/reward                   │ 0.1377154290676117     │\n",
       "│ Loss/Loss_cost_critic          │ 2.4928300380706787     │\n",
       "│ Loss/Loss_cost_critic/Delta    │ -0.623866081237793     │\n",
       "│ Value/cost                     │ 6.104737281799316      │\n",
       "│ Time/Total                     │ 460.4430236816406      │\n",
       "│ Time/Rollout                   │ 64.58204650878906      │\n",
       "│ Time/Update                    │ 13.96179485321045      │\n",
       "│ Time/Epoch                     │ 78.54383850097656      │\n",
       "│ Time/FPS                       │ 254.63487243652344     │\n",
       "│ Misc/Alpha                     │ 1.0050595998764038     │\n",
       "│ Misc/FinalStepNorm             │ 0.2755144536495209     │\n",
       "│ Misc/gradient_norm             │ 0.09774476289749146    │\n",
       "│ Misc/xHx                       │ 0.01979913003742695    │\n",
       "│ Misc/H_inv_g                   │ 0.2741274833679199     │\n",
       "│ Misc/AcceptanceStep            │ 1.0                    │\n",
       "│ Metrics/LagrangeMultiplier/Mea │ 0.20981130003929138    │\n",
       "│ Metrics/LagrangeMultiplier/Min │ 0.20981130003929138    │\n",
       "│ Metrics/LagrangeMultiplier/Max │ 0.20981130003929138    │\n",
       "│ Metrics/LagrangeMultiplier/Std │ 0.0                    │\n",
       "└────────────────────────────────┴────────────────────────┘\n",
       "</pre>\n"
      ],
      "text/plain": [
       "┏━━━━━━━━━━━━━━━━━━━━━━━━━━━━━━━━┳━━━━━━━━━━━━━━━━━━━━━━━━┓\n",
       "┃\u001b[1m \u001b[0m\u001b[1mMetrics                       \u001b[0m\u001b[1m \u001b[0m┃\u001b[1m \u001b[0m\u001b[1mValue                 \u001b[0m\u001b[1m \u001b[0m┃\n",
       "┡━━━━━━━━━━━━━━━━━━━━━━━━━━━━━━━━╇━━━━━━━━━━━━━━━━━━━━━━━━┩\n",
       "│ Metrics/EpRet                  │ 2.3797218799591064     │\n",
       "│ Metrics/EpCost                 │ 183.63999938964844     │\n",
       "│ Metrics/EpLen                  │ 1000.0                 │\n",
       "│ Train/Epoch                    │ 5.0                    │\n",
       "│ Train/Entropy                  │ 1.4147634506225586     │\n",
       "│ Train/KL                       │ 0.00036930752685293555 │\n",
       "│ Train/StopIter                 │ 10.0                   │\n",
       "│ Train/PolicyRatio/Mean         │ 0.9990528225898743     │\n",
       "│ Train/PolicyRatio/Min          │ 0.999052882194519      │\n",
       "│ Train/PolicyRatio/Max          │ 0.999052882194519      │\n",
       "│ Train/PolicyRatio/Std          │ 0.0006697415374219418  │\n",
       "│ Train/LR                       │ 0.0                    │\n",
       "│ Train/PolicyStd                │ 0.9959240555763245     │\n",
       "│ TotalEnvSteps                  │ 120000.0               │\n",
       "│ Loss/Loss_pi                   │ -0.013511407189071178  │\n",
       "│ Loss/Loss_pi/Delta             │ 0.0004913816228508949  │\n",
       "│ Value/Adv                      │ 3.051757735406113e-09  │\n",
       "│ Loss/Loss_reward_critic        │ 0.014236746355891228   │\n",
       "│ Loss/Loss_reward_critic/Delta  │ 0.002790604718029499   │\n",
       "│ Value/reward                   │ 0.1377154290676117     │\n",
       "│ Loss/Loss_cost_critic          │ 2.4928300380706787     │\n",
       "│ Loss/Loss_cost_critic/Delta    │ -0.623866081237793     │\n",
       "│ Value/cost                     │ 6.104737281799316      │\n",
       "│ Time/Total                     │ 460.4430236816406      │\n",
       "│ Time/Rollout                   │ 64.58204650878906      │\n",
       "│ Time/Update                    │ 13.96179485321045      │\n",
       "│ Time/Epoch                     │ 78.54383850097656      │\n",
       "│ Time/FPS                       │ 254.63487243652344     │\n",
       "│ Misc/Alpha                     │ 1.0050595998764038     │\n",
       "│ Misc/FinalStepNorm             │ 0.2755144536495209     │\n",
       "│ Misc/gradient_norm             │ 0.09774476289749146    │\n",
       "│ Misc/xHx                       │ 0.01979913003742695    │\n",
       "│ Misc/H_inv_g                   │ 0.2741274833679199     │\n",
       "│ Misc/AcceptanceStep            │ 1.0                    │\n",
       "│ Metrics/LagrangeMultiplier/Mea │ 0.20981130003929138    │\n",
       "│ Metrics/LagrangeMultiplier/Min │ 0.20981130003929138    │\n",
       "│ Metrics/LagrangeMultiplier/Max │ 0.20981130003929138    │\n",
       "│ Metrics/LagrangeMultiplier/Std │ 0.0                    │\n",
       "└────────────────────────────────┴────────────────────────┘\n"
      ]
     },
     "metadata": {},
     "output_type": "display_data"
    },
    {
     "data": {
      "text/html": [
       "<pre style=\"white-space:pre;overflow-x:auto;line-height:normal;font-family:Menlo,'DejaVu Sans Mono',consolas,'Courier New',monospace\"><span style=\"color: #008000; text-decoration-color: #008000\">Warning: trajectory cut off when rollout by epoch at </span><span style=\"color: #008080; text-decoration-color: #008080; font-weight: bold\">1000.0</span><span style=\"color: #008000; text-decoration-color: #008000\"> steps.</span>\n",
       "</pre>\n"
      ],
      "text/plain": [
       "\u001b[32mWarning: trajectory cut off when rollout by epoch at \u001b[0m\u001b[1;36m1000.0\u001b[0m\u001b[32m steps.\u001b[0m\n"
      ]
     },
     "metadata": {},
     "output_type": "display_data"
    },
    {
     "data": {
      "text/html": [
       "<pre style=\"white-space:pre;overflow-x:auto;line-height:normal;font-family:Menlo,'DejaVu Sans Mono',consolas,'Courier New',monospace\"><span style=\"color: #008000; text-decoration-color: #008000\">Warning: trajectory cut off when rollout by epoch at </span><span style=\"color: #008080; text-decoration-color: #008080; font-weight: bold\">1000.0</span><span style=\"color: #008000; text-decoration-color: #008000\"> steps.</span>\n",
       "</pre>\n"
      ],
      "text/plain": [
       "\u001b[32mWarning: trajectory cut off when rollout by epoch at \u001b[0m\u001b[1;36m1000.0\u001b[0m\u001b[32m steps.\u001b[0m\n"
      ]
     },
     "metadata": {},
     "output_type": "display_data"
    },
    {
     "data": {
      "text/html": [
       "<pre style=\"white-space:pre;overflow-x:auto;line-height:normal;font-family:Menlo,'DejaVu Sans Mono',consolas,'Courier New',monospace\"><span style=\"color: #008000; text-decoration-color: #008000\">Warning: trajectory cut off when rollout by epoch at </span><span style=\"color: #008080; text-decoration-color: #008080; font-weight: bold\">1000.0</span><span style=\"color: #008000; text-decoration-color: #008000\"> steps.</span>\n",
       "</pre>\n"
      ],
      "text/plain": [
       "\u001b[32mWarning: trajectory cut off when rollout by epoch at \u001b[0m\u001b[1;36m1000.0\u001b[0m\u001b[32m steps.\u001b[0m\n"
      ]
     },
     "metadata": {},
     "output_type": "display_data"
    },
    {
     "data": {
      "text/html": [
       "<pre style=\"white-space:pre;overflow-x:auto;line-height:normal;font-family:Menlo,'DejaVu Sans Mono',consolas,'Courier New',monospace\"><span style=\"color: #008000; text-decoration-color: #008000\">Warning: trajectory cut off when rollout by epoch at </span><span style=\"color: #008080; text-decoration-color: #008080; font-weight: bold\">1000.0</span><span style=\"color: #008000; text-decoration-color: #008000\"> steps.</span>\n",
       "</pre>\n"
      ],
      "text/plain": [
       "\u001b[32mWarning: trajectory cut off when rollout by epoch at \u001b[0m\u001b[1;36m1000.0\u001b[0m\u001b[32m steps.\u001b[0m\n"
      ]
     },
     "metadata": {},
     "output_type": "display_data"
    },
    {
     "data": {
      "text/html": [
       "<pre style=\"white-space:pre;overflow-x:auto;line-height:normal;font-family:Menlo,'DejaVu Sans Mono',consolas,'Courier New',monospace\"></pre>\n"
      ],
      "text/plain": []
     },
     "metadata": {},
     "output_type": "display_data"
    },
    {
     "data": {
      "text/html": [
       "<pre style=\"white-space:pre;overflow-x:auto;line-height:normal;font-family:Menlo,'DejaVu Sans Mono',consolas,'Courier New',monospace\">\n",
       "</pre>\n"
      ],
      "text/plain": [
       "\n"
      ]
     },
     "metadata": {},
     "output_type": "display_data"
    },
    {
     "data": {
      "text/html": [
       "<pre style=\"white-space:pre;overflow-x:auto;line-height:normal;font-family:Menlo,'DejaVu Sans Mono',consolas,'Courier New',monospace\"><span style=\"color: #008000; text-decoration-color: #008000\">Expected Improvement: </span><span style=\"color: #008080; text-decoration-color: #008080; font-weight: bold\">0.01866273209452629</span><span style=\"color: #008000; text-decoration-color: #008000\"> Actual: </span><span style=\"color: #008080; text-decoration-color: #008080; font-weight: bold\">0.01964709348976612</span>\n",
       "</pre>\n"
      ],
      "text/plain": [
       "\u001b[32mExpected Improvement: \u001b[0m\u001b[1;36m0.01866273209452629\u001b[0m\u001b[32m Actual: \u001b[0m\u001b[1;36m0.01964709348976612\u001b[0m\n"
      ]
     },
     "metadata": {},
     "output_type": "display_data"
    },
    {
     "data": {
      "text/html": [
       "<pre style=\"white-space:pre;overflow-x:auto;line-height:normal;font-family:Menlo,'DejaVu Sans Mono',consolas,'Courier New',monospace\"><span style=\"color: #008000; text-decoration-color: #008000\">Accept step at </span><span style=\"color: #808000; text-decoration-color: #808000\">i</span><span style=\"color: #008000; text-decoration-color: #008000\">=</span><span style=\"color: #008080; text-decoration-color: #008080; font-weight: bold\">1</span>\n",
       "</pre>\n"
      ],
      "text/plain": [
       "\u001b[32mAccept step at \u001b[0m\u001b[33mi\u001b[0m\u001b[32m=\u001b[0m\u001b[1;36m1\u001b[0m\n"
      ]
     },
     "metadata": {},
     "output_type": "display_data"
    },
    {
     "data": {
      "text/html": [
       "<pre style=\"white-space:pre;overflow-x:auto;line-height:normal;font-family:Menlo,'DejaVu Sans Mono',consolas,'Courier New',monospace\">┏━━━━━━━━━━━━━━━━━━━━━━━━━━━━━━━━┳━━━━━━━━━━━━━━━━━━━━━━━━┓\n",
       "┃<span style=\"font-weight: bold\"> Metrics                        </span>┃<span style=\"font-weight: bold\"> Value                  </span>┃\n",
       "┡━━━━━━━━━━━━━━━━━━━━━━━━━━━━━━━━╇━━━━━━━━━━━━━━━━━━━━━━━━┩\n",
       "│ Metrics/EpRet                  │ 3.984804630279541      │\n",
       "│ Metrics/EpCost                 │ 127.63999938964844     │\n",
       "│ Metrics/EpLen                  │ 1000.0                 │\n",
       "│ Train/Epoch                    │ 6.0                    │\n",
       "│ Train/Entropy                  │ 1.4081274271011353     │\n",
       "│ Train/KL                       │ 0.00034923330531455576 │\n",
       "│ Train/StopIter                 │ 10.0                   │\n",
       "│ Train/PolicyRatio/Mean         │ 0.9992197155952454     │\n",
       "│ Train/PolicyRatio/Min          │ 0.9992197751998901     │\n",
       "│ Train/PolicyRatio/Max          │ 0.9992197751998901     │\n",
       "│ Train/PolicyRatio/Std          │ 0.0005517022800631821  │\n",
       "│ Train/LR                       │ 0.0                    │\n",
       "│ Train/PolicyStd                │ 0.989382803440094      │\n",
       "│ TotalEnvSteps                  │ 140000.0               │\n",
       "│ Loss/Loss_pi                   │ -0.013098061084747314  │\n",
       "│ Loss/Loss_pi/Delta             │ 0.000413346104323864   │\n",
       "│ Value/Adv                      │ 6.103515470812226e-09  │\n",
       "│ Loss/Loss_reward_critic        │ 0.01888852007687092    │\n",
       "│ Loss/Loss_reward_critic/Delta  │ 0.0046517737209796906  │\n",
       "│ Value/reward                   │ 0.19595378637313843    │\n",
       "│ Loss/Loss_cost_critic          │ 2.356102466583252      │\n",
       "│ Loss/Loss_cost_critic/Delta    │ -0.13672757148742676   │\n",
       "│ Value/cost                     │ 6.3256516456604        │\n",
       "│ Time/Total                     │ 540.5067749023438      │\n",
       "│ Time/Rollout                   │ 66.46267700195312      │\n",
       "│ Time/Update                    │ 13.561713218688965     │\n",
       "│ Time/Epoch                     │ 80.0243911743164       │\n",
       "│ Time/FPS                       │ 249.92379760742188     │\n",
       "│ Misc/Alpha                     │ 1.0731217861175537     │\n",
       "│ Misc/FinalStepNorm             │ 0.29529452323913574    │\n",
       "│ Misc/gradient_norm             │ 0.08019161969423294    │\n",
       "│ Misc/xHx                       │ 0.017367277294397354   │\n",
       "│ Misc/H_inv_g                   │ 0.2751733660697937     │\n",
       "│ Misc/AcceptanceStep            │ 1.0                    │\n",
       "│ Metrics/LagrangeMultiplier/Mea │ 0.24436162412166595    │\n",
       "│ Metrics/LagrangeMultiplier/Min │ 0.24436162412166595    │\n",
       "│ Metrics/LagrangeMultiplier/Max │ 0.24436162412166595    │\n",
       "│ Metrics/LagrangeMultiplier/Std │ 0.0                    │\n",
       "└────────────────────────────────┴────────────────────────┘\n",
       "</pre>\n"
      ],
      "text/plain": [
       "┏━━━━━━━━━━━━━━━━━━━━━━━━━━━━━━━━┳━━━━━━━━━━━━━━━━━━━━━━━━┓\n",
       "┃\u001b[1m \u001b[0m\u001b[1mMetrics                       \u001b[0m\u001b[1m \u001b[0m┃\u001b[1m \u001b[0m\u001b[1mValue                 \u001b[0m\u001b[1m \u001b[0m┃\n",
       "┡━━━━━━━━━━━━━━━━━━━━━━━━━━━━━━━━╇━━━━━━━━━━━━━━━━━━━━━━━━┩\n",
       "│ Metrics/EpRet                  │ 3.984804630279541      │\n",
       "│ Metrics/EpCost                 │ 127.63999938964844     │\n",
       "│ Metrics/EpLen                  │ 1000.0                 │\n",
       "│ Train/Epoch                    │ 6.0                    │\n",
       "│ Train/Entropy                  │ 1.4081274271011353     │\n",
       "│ Train/KL                       │ 0.00034923330531455576 │\n",
       "│ Train/StopIter                 │ 10.0                   │\n",
       "│ Train/PolicyRatio/Mean         │ 0.9992197155952454     │\n",
       "│ Train/PolicyRatio/Min          │ 0.9992197751998901     │\n",
       "│ Train/PolicyRatio/Max          │ 0.9992197751998901     │\n",
       "│ Train/PolicyRatio/Std          │ 0.0005517022800631821  │\n",
       "│ Train/LR                       │ 0.0                    │\n",
       "│ Train/PolicyStd                │ 0.989382803440094      │\n",
       "│ TotalEnvSteps                  │ 140000.0               │\n",
       "│ Loss/Loss_pi                   │ -0.013098061084747314  │\n",
       "│ Loss/Loss_pi/Delta             │ 0.000413346104323864   │\n",
       "│ Value/Adv                      │ 6.103515470812226e-09  │\n",
       "│ Loss/Loss_reward_critic        │ 0.01888852007687092    │\n",
       "│ Loss/Loss_reward_critic/Delta  │ 0.0046517737209796906  │\n",
       "│ Value/reward                   │ 0.19595378637313843    │\n",
       "│ Loss/Loss_cost_critic          │ 2.356102466583252      │\n",
       "│ Loss/Loss_cost_critic/Delta    │ -0.13672757148742676   │\n",
       "│ Value/cost                     │ 6.3256516456604        │\n",
       "│ Time/Total                     │ 540.5067749023438      │\n",
       "│ Time/Rollout                   │ 66.46267700195312      │\n",
       "│ Time/Update                    │ 13.561713218688965     │\n",
       "│ Time/Epoch                     │ 80.0243911743164       │\n",
       "│ Time/FPS                       │ 249.92379760742188     │\n",
       "│ Misc/Alpha                     │ 1.0731217861175537     │\n",
       "│ Misc/FinalStepNorm             │ 0.29529452323913574    │\n",
       "│ Misc/gradient_norm             │ 0.08019161969423294    │\n",
       "│ Misc/xHx                       │ 0.017367277294397354   │\n",
       "│ Misc/H_inv_g                   │ 0.2751733660697937     │\n",
       "│ Misc/AcceptanceStep            │ 1.0                    │\n",
       "│ Metrics/LagrangeMultiplier/Mea │ 0.24436162412166595    │\n",
       "│ Metrics/LagrangeMultiplier/Min │ 0.24436162412166595    │\n",
       "│ Metrics/LagrangeMultiplier/Max │ 0.24436162412166595    │\n",
       "│ Metrics/LagrangeMultiplier/Std │ 0.0                    │\n",
       "└────────────────────────────────┴────────────────────────┘\n"
      ]
     },
     "metadata": {},
     "output_type": "display_data"
    },
    {
     "data": {
      "text/html": [
       "<pre style=\"white-space:pre;overflow-x:auto;line-height:normal;font-family:Menlo,'DejaVu Sans Mono',consolas,'Courier New',monospace\"><span style=\"color: #008000; text-decoration-color: #008000\">Warning: trajectory cut off when rollout by epoch at </span><span style=\"color: #008080; text-decoration-color: #008080; font-weight: bold\">1000.0</span><span style=\"color: #008000; text-decoration-color: #008000\"> steps.</span>\n",
       "</pre>\n"
      ],
      "text/plain": [
       "\u001b[32mWarning: trajectory cut off when rollout by epoch at \u001b[0m\u001b[1;36m1000.0\u001b[0m\u001b[32m steps.\u001b[0m\n"
      ]
     },
     "metadata": {},
     "output_type": "display_data"
    },
    {
     "data": {
      "text/html": [
       "<pre style=\"white-space:pre;overflow-x:auto;line-height:normal;font-family:Menlo,'DejaVu Sans Mono',consolas,'Courier New',monospace\"><span style=\"color: #008000; text-decoration-color: #008000\">Warning: trajectory cut off when rollout by epoch at </span><span style=\"color: #008080; text-decoration-color: #008080; font-weight: bold\">1000.0</span><span style=\"color: #008000; text-decoration-color: #008000\"> steps.</span>\n",
       "</pre>\n"
      ],
      "text/plain": [
       "\u001b[32mWarning: trajectory cut off when rollout by epoch at \u001b[0m\u001b[1;36m1000.0\u001b[0m\u001b[32m steps.\u001b[0m\n"
      ]
     },
     "metadata": {},
     "output_type": "display_data"
    },
    {
     "data": {
      "text/html": [
       "<pre style=\"white-space:pre;overflow-x:auto;line-height:normal;font-family:Menlo,'DejaVu Sans Mono',consolas,'Courier New',monospace\"><span style=\"color: #008000; text-decoration-color: #008000\">Warning: trajectory cut off when rollout by epoch at </span><span style=\"color: #008080; text-decoration-color: #008080; font-weight: bold\">1000.0</span><span style=\"color: #008000; text-decoration-color: #008000\"> steps.</span>\n",
       "</pre>\n"
      ],
      "text/plain": [
       "\u001b[32mWarning: trajectory cut off when rollout by epoch at \u001b[0m\u001b[1;36m1000.0\u001b[0m\u001b[32m steps.\u001b[0m\n"
      ]
     },
     "metadata": {},
     "output_type": "display_data"
    },
    {
     "data": {
      "text/html": [
       "<pre style=\"white-space:pre;overflow-x:auto;line-height:normal;font-family:Menlo,'DejaVu Sans Mono',consolas,'Courier New',monospace\"><span style=\"color: #008000; text-decoration-color: #008000\">Warning: trajectory cut off when rollout by epoch at </span><span style=\"color: #008080; text-decoration-color: #008080; font-weight: bold\">1000.0</span><span style=\"color: #008000; text-decoration-color: #008000\"> steps.</span>\n",
       "</pre>\n"
      ],
      "text/plain": [
       "\u001b[32mWarning: trajectory cut off when rollout by epoch at \u001b[0m\u001b[1;36m1000.0\u001b[0m\u001b[32m steps.\u001b[0m\n"
      ]
     },
     "metadata": {},
     "output_type": "display_data"
    },
    {
     "data": {
      "text/html": [
       "<pre style=\"white-space:pre;overflow-x:auto;line-height:normal;font-family:Menlo,'DejaVu Sans Mono',consolas,'Courier New',monospace\"></pre>\n"
      ],
      "text/plain": []
     },
     "metadata": {},
     "output_type": "display_data"
    },
    {
     "data": {
      "text/html": [
       "<pre style=\"white-space:pre;overflow-x:auto;line-height:normal;font-family:Menlo,'DejaVu Sans Mono',consolas,'Courier New',monospace\">\n",
       "</pre>\n"
      ],
      "text/plain": [
       "\n"
      ]
     },
     "metadata": {},
     "output_type": "display_data"
    },
    {
     "data": {
      "text/html": [
       "<pre style=\"white-space:pre;overflow-x:auto;line-height:normal;font-family:Menlo,'DejaVu Sans Mono',consolas,'Courier New',monospace\"><span style=\"color: #008000; text-decoration-color: #008000\">Expected Improvement: </span><span style=\"color: #008080; text-decoration-color: #008080; font-weight: bold\">0.0185978002846241</span><span style=\"color: #008000; text-decoration-color: #008000\"> Actual: </span><span style=\"color: #008080; text-decoration-color: #008080; font-weight: bold\">0.019446294754743576</span>\n",
       "</pre>\n"
      ],
      "text/plain": [
       "\u001b[32mExpected Improvement: \u001b[0m\u001b[1;36m0.0185978002846241\u001b[0m\u001b[32m Actual: \u001b[0m\u001b[1;36m0.019446294754743576\u001b[0m\n"
      ]
     },
     "metadata": {},
     "output_type": "display_data"
    },
    {
     "data": {
      "text/html": [
       "<pre style=\"white-space:pre;overflow-x:auto;line-height:normal;font-family:Menlo,'DejaVu Sans Mono',consolas,'Courier New',monospace\"><span style=\"color: #008000; text-decoration-color: #008000\">Accept step at </span><span style=\"color: #808000; text-decoration-color: #808000\">i</span><span style=\"color: #008000; text-decoration-color: #008000\">=</span><span style=\"color: #008080; text-decoration-color: #008080; font-weight: bold\">1</span>\n",
       "</pre>\n"
      ],
      "text/plain": [
       "\u001b[32mAccept step at \u001b[0m\u001b[33mi\u001b[0m\u001b[32m=\u001b[0m\u001b[1;36m1\u001b[0m\n"
      ]
     },
     "metadata": {},
     "output_type": "display_data"
    },
    {
     "data": {
      "text/html": [
       "<pre style=\"white-space:pre;overflow-x:auto;line-height:normal;font-family:Menlo,'DejaVu Sans Mono',consolas,'Courier New',monospace\">┏━━━━━━━━━━━━━━━━━━━━━━━━━━━━━━━━┳━━━━━━━━━━━━━━━━━━━━━━━━┓\n",
       "┃<span style=\"font-weight: bold\"> Metrics                        </span>┃<span style=\"font-weight: bold\"> Value                  </span>┃\n",
       "┡━━━━━━━━━━━━━━━━━━━━━━━━━━━━━━━━╇━━━━━━━━━━━━━━━━━━━━━━━━┩\n",
       "│ Metrics/EpRet                  │ 5.235598564147949      │\n",
       "│ Metrics/EpCost                 │ 109.18000030517578     │\n",
       "│ Metrics/EpLen                  │ 1000.0                 │\n",
       "│ Train/Epoch                    │ 7.0                    │\n",
       "│ Train/Entropy                  │ 1.4018765687942505     │\n",
       "│ Train/KL                       │ 0.00034551191492937505 │\n",
       "│ Train/StopIter                 │ 10.0                   │\n",
       "│ Train/PolicyRatio/Mean         │ 1.000430703163147      │\n",
       "│ Train/PolicyRatio/Min          │ 1.0004308223724365     │\n",
       "│ Train/PolicyRatio/Max          │ 1.0004308223724365     │\n",
       "│ Train/PolicyRatio/Std          │ 0.00030452501960098743 │\n",
       "│ Train/LR                       │ 0.0                    │\n",
       "│ Train/PolicyStd                │ 0.9833250641822815     │\n",
       "│ TotalEnvSteps                  │ 160000.0               │\n",
       "│ Loss/Loss_pi                   │ -0.012964189052581787  │\n",
       "│ Loss/Loss_pi/Delta             │ 0.00013387203216552734 │\n",
       "│ Value/Adv                      │ -4.577636492086867e-09 │\n",
       "│ Loss/Loss_reward_critic        │ 0.021928858011960983   │\n",
       "│ Loss/Loss_reward_critic/Delta  │ 0.003040337935090065   │\n",
       "│ Value/reward                   │ 0.24888120591640472    │\n",
       "│ Loss/Loss_cost_critic          │ 1.9945859909057617     │\n",
       "│ Loss/Loss_cost_critic/Delta    │ -0.36151647567749023   │\n",
       "│ Value/cost                     │ 6.455767631530762      │\n",
       "│ Time/Total                     │ 620.9369506835938      │\n",
       "│ Time/Rollout                   │ 66.47720336914062      │\n",
       "│ Time/Update                    │ 13.909255981445312     │\n",
       "│ Time/Epoch                     │ 80.38645935058594      │\n",
       "│ Time/FPS                       │ 248.79812622070312     │\n",
       "│ Misc/Alpha                     │ 1.0769201517105103     │\n",
       "│ Misc/FinalStepNorm             │ 0.2953645884990692     │\n",
       "│ Misc/gradient_norm             │ 0.0818944051861763     │\n",
       "│ Misc/xHx                       │ 0.017244979739189148   │\n",
       "│ Misc/H_inv_g                   │ 0.27426788210868835    │\n",
       "│ Misc/AcceptanceStep            │ 1.0                    │\n",
       "│ Metrics/LagrangeMultiplier/Mea │ 0.2782696485519409     │\n",
       "│ Metrics/LagrangeMultiplier/Min │ 0.2782696485519409     │\n",
       "│ Metrics/LagrangeMultiplier/Max │ 0.2782696485519409     │\n",
       "│ Metrics/LagrangeMultiplier/Std │ 0.0                    │\n",
       "└────────────────────────────────┴────────────────────────┘\n",
       "</pre>\n"
      ],
      "text/plain": [
       "┏━━━━━━━━━━━━━━━━━━━━━━━━━━━━━━━━┳━━━━━━━━━━━━━━━━━━━━━━━━┓\n",
       "┃\u001b[1m \u001b[0m\u001b[1mMetrics                       \u001b[0m\u001b[1m \u001b[0m┃\u001b[1m \u001b[0m\u001b[1mValue                 \u001b[0m\u001b[1m \u001b[0m┃\n",
       "┡━━━━━━━━━━━━━━━━━━━━━━━━━━━━━━━━╇━━━━━━━━━━━━━━━━━━━━━━━━┩\n",
       "│ Metrics/EpRet                  │ 5.235598564147949      │\n",
       "│ Metrics/EpCost                 │ 109.18000030517578     │\n",
       "│ Metrics/EpLen                  │ 1000.0                 │\n",
       "│ Train/Epoch                    │ 7.0                    │\n",
       "│ Train/Entropy                  │ 1.4018765687942505     │\n",
       "│ Train/KL                       │ 0.00034551191492937505 │\n",
       "│ Train/StopIter                 │ 10.0                   │\n",
       "│ Train/PolicyRatio/Mean         │ 1.000430703163147      │\n",
       "│ Train/PolicyRatio/Min          │ 1.0004308223724365     │\n",
       "│ Train/PolicyRatio/Max          │ 1.0004308223724365     │\n",
       "│ Train/PolicyRatio/Std          │ 0.00030452501960098743 │\n",
       "│ Train/LR                       │ 0.0                    │\n",
       "│ Train/PolicyStd                │ 0.9833250641822815     │\n",
       "│ TotalEnvSteps                  │ 160000.0               │\n",
       "│ Loss/Loss_pi                   │ -0.012964189052581787  │\n",
       "│ Loss/Loss_pi/Delta             │ 0.00013387203216552734 │\n",
       "│ Value/Adv                      │ -4.577636492086867e-09 │\n",
       "│ Loss/Loss_reward_critic        │ 0.021928858011960983   │\n",
       "│ Loss/Loss_reward_critic/Delta  │ 0.003040337935090065   │\n",
       "│ Value/reward                   │ 0.24888120591640472    │\n",
       "│ Loss/Loss_cost_critic          │ 1.9945859909057617     │\n",
       "│ Loss/Loss_cost_critic/Delta    │ -0.36151647567749023   │\n",
       "│ Value/cost                     │ 6.455767631530762      │\n",
       "│ Time/Total                     │ 620.9369506835938      │\n",
       "│ Time/Rollout                   │ 66.47720336914062      │\n",
       "│ Time/Update                    │ 13.909255981445312     │\n",
       "│ Time/Epoch                     │ 80.38645935058594      │\n",
       "│ Time/FPS                       │ 248.79812622070312     │\n",
       "│ Misc/Alpha                     │ 1.0769201517105103     │\n",
       "│ Misc/FinalStepNorm             │ 0.2953645884990692     │\n",
       "│ Misc/gradient_norm             │ 0.0818944051861763     │\n",
       "│ Misc/xHx                       │ 0.017244979739189148   │\n",
       "│ Misc/H_inv_g                   │ 0.27426788210868835    │\n",
       "│ Misc/AcceptanceStep            │ 1.0                    │\n",
       "│ Metrics/LagrangeMultiplier/Mea │ 0.2782696485519409     │\n",
       "│ Metrics/LagrangeMultiplier/Min │ 0.2782696485519409     │\n",
       "│ Metrics/LagrangeMultiplier/Max │ 0.2782696485519409     │\n",
       "│ Metrics/LagrangeMultiplier/Std │ 0.0                    │\n",
       "└────────────────────────────────┴────────────────────────┘\n"
      ]
     },
     "metadata": {},
     "output_type": "display_data"
    },
    {
     "data": {
      "text/html": [
       "<pre style=\"white-space:pre;overflow-x:auto;line-height:normal;font-family:Menlo,'DejaVu Sans Mono',consolas,'Courier New',monospace\"><span style=\"color: #008000; text-decoration-color: #008000\">Warning: trajectory cut off when rollout by epoch at </span><span style=\"color: #008080; text-decoration-color: #008080; font-weight: bold\">1000.0</span><span style=\"color: #008000; text-decoration-color: #008000\"> steps.</span>\n",
       "</pre>\n"
      ],
      "text/plain": [
       "\u001b[32mWarning: trajectory cut off when rollout by epoch at \u001b[0m\u001b[1;36m1000.0\u001b[0m\u001b[32m steps.\u001b[0m\n"
      ]
     },
     "metadata": {},
     "output_type": "display_data"
    },
    {
     "data": {
      "text/html": [
       "<pre style=\"white-space:pre;overflow-x:auto;line-height:normal;font-family:Menlo,'DejaVu Sans Mono',consolas,'Courier New',monospace\"><span style=\"color: #008000; text-decoration-color: #008000\">Warning: trajectory cut off when rollout by epoch at </span><span style=\"color: #008080; text-decoration-color: #008080; font-weight: bold\">1000.0</span><span style=\"color: #008000; text-decoration-color: #008000\"> steps.</span>\n",
       "</pre>\n"
      ],
      "text/plain": [
       "\u001b[32mWarning: trajectory cut off when rollout by epoch at \u001b[0m\u001b[1;36m1000.0\u001b[0m\u001b[32m steps.\u001b[0m\n"
      ]
     },
     "metadata": {},
     "output_type": "display_data"
    },
    {
     "data": {
      "text/html": [
       "<pre style=\"white-space:pre;overflow-x:auto;line-height:normal;font-family:Menlo,'DejaVu Sans Mono',consolas,'Courier New',monospace\"><span style=\"color: #008000; text-decoration-color: #008000\">Warning: trajectory cut off when rollout by epoch at </span><span style=\"color: #008080; text-decoration-color: #008080; font-weight: bold\">1000.0</span><span style=\"color: #008000; text-decoration-color: #008000\"> steps.</span>\n",
       "</pre>\n"
      ],
      "text/plain": [
       "\u001b[32mWarning: trajectory cut off when rollout by epoch at \u001b[0m\u001b[1;36m1000.0\u001b[0m\u001b[32m steps.\u001b[0m\n"
      ]
     },
     "metadata": {},
     "output_type": "display_data"
    },
    {
     "data": {
      "text/html": [
       "<pre style=\"white-space:pre;overflow-x:auto;line-height:normal;font-family:Menlo,'DejaVu Sans Mono',consolas,'Courier New',monospace\"><span style=\"color: #008000; text-decoration-color: #008000\">Warning: trajectory cut off when rollout by epoch at </span><span style=\"color: #008080; text-decoration-color: #008080; font-weight: bold\">1000.0</span><span style=\"color: #008000; text-decoration-color: #008000\"> steps.</span>\n",
       "</pre>\n"
      ],
      "text/plain": [
       "\u001b[32mWarning: trajectory cut off when rollout by epoch at \u001b[0m\u001b[1;36m1000.0\u001b[0m\u001b[32m steps.\u001b[0m\n"
      ]
     },
     "metadata": {},
     "output_type": "display_data"
    },
    {
     "data": {
      "text/html": [
       "<pre style=\"white-space:pre;overflow-x:auto;line-height:normal;font-family:Menlo,'DejaVu Sans Mono',consolas,'Courier New',monospace\"></pre>\n"
      ],
      "text/plain": []
     },
     "metadata": {},
     "output_type": "display_data"
    },
    {
     "data": {
      "text/html": [
       "<pre style=\"white-space:pre;overflow-x:auto;line-height:normal;font-family:Menlo,'DejaVu Sans Mono',consolas,'Courier New',monospace\">\n",
       "</pre>\n"
      ],
      "text/plain": [
       "\n"
      ]
     },
     "metadata": {},
     "output_type": "display_data"
    },
    {
     "data": {
      "text/html": [
       "<pre style=\"white-space:pre;overflow-x:auto;line-height:normal;font-family:Menlo,'DejaVu Sans Mono',consolas,'Courier New',monospace\"><span style=\"color: #008000; text-decoration-color: #008000\">Expected Improvement: </span><span style=\"color: #008080; text-decoration-color: #008080; font-weight: bold\">0.018828149884939194</span><span style=\"color: #008000; text-decoration-color: #008000\"> Actual: </span><span style=\"color: #008080; text-decoration-color: #008080; font-weight: bold\">0.019798871129751205</span>\n",
       "</pre>\n"
      ],
      "text/plain": [
       "\u001b[32mExpected Improvement: \u001b[0m\u001b[1;36m0.018828149884939194\u001b[0m\u001b[32m Actual: \u001b[0m\u001b[1;36m0.019798871129751205\u001b[0m\n"
      ]
     },
     "metadata": {},
     "output_type": "display_data"
    },
    {
     "data": {
      "text/html": [
       "<pre style=\"white-space:pre;overflow-x:auto;line-height:normal;font-family:Menlo,'DejaVu Sans Mono',consolas,'Courier New',monospace\"><span style=\"color: #008000; text-decoration-color: #008000\">Accept step at </span><span style=\"color: #808000; text-decoration-color: #808000\">i</span><span style=\"color: #008000; text-decoration-color: #008000\">=</span><span style=\"color: #008080; text-decoration-color: #008080; font-weight: bold\">1</span>\n",
       "</pre>\n"
      ],
      "text/plain": [
       "\u001b[32mAccept step at \u001b[0m\u001b[33mi\u001b[0m\u001b[32m=\u001b[0m\u001b[1;36m1\u001b[0m\n"
      ]
     },
     "metadata": {},
     "output_type": "display_data"
    },
    {
     "data": {
      "text/html": [
       "<pre style=\"white-space:pre;overflow-x:auto;line-height:normal;font-family:Menlo,'DejaVu Sans Mono',consolas,'Courier New',monospace\">┏━━━━━━━━━━━━━━━━━━━━━━━━━━━━━━━━┳━━━━━━━━━━━━━━━━━━━━━━━┓\n",
       "┃<span style=\"font-weight: bold\"> Metrics                        </span>┃<span style=\"font-weight: bold\"> Value                 </span>┃\n",
       "┡━━━━━━━━━━━━━━━━━━━━━━━━━━━━━━━━╇━━━━━━━━━━━━━━━━━━━━━━━┩\n",
       "│ Metrics/EpRet                  │ 6.9797163009643555    │\n",
       "│ Metrics/EpCost                 │ 99.05999755859375     │\n",
       "│ Metrics/EpLen                  │ 1000.0                │\n",
       "│ Train/Epoch                    │ 8.0                   │\n",
       "│ Train/Entropy                  │ 1.4000953435897827    │\n",
       "│ Train/KL                       │ 0.0003497194265946746 │\n",
       "│ Train/StopIter                 │ 10.0                  │\n",
       "│ Train/PolicyRatio/Mean         │ 1.0000505447387695    │\n",
       "│ Train/PolicyRatio/Min          │ 1.0000505447387695    │\n",
       "│ Train/PolicyRatio/Max          │ 1.0000505447387695    │\n",
       "│ Train/PolicyRatio/Std          │ 3.574052607291378e-05 │\n",
       "│ Train/LR                       │ 0.0                   │\n",
       "│ Train/PolicyStd                │ 0.9816661477088928    │\n",
       "│ TotalEnvSteps                  │ 180000.0              │\n",
       "│ Loss/Loss_pi                   │ -0.013199280947446823 │\n",
       "│ Loss/Loss_pi/Delta             │ -0.000235091894865036 │\n",
       "│ Value/Adv                      │ 3.747939913978371e-08 │\n",
       "│ Loss/Loss_reward_critic        │ 0.024184590205550194  │\n",
       "│ Loss/Loss_reward_critic/Delta  │ 0.0022557321935892105 │\n",
       "│ Value/reward                   │ 0.41807276010513306   │\n",
       "│ Loss/Loss_cost_critic          │ 1.7102221250534058    │\n",
       "│ Loss/Loss_cost_critic/Delta    │ -0.28436386585235596  │\n",
       "│ Value/cost                     │ 8.727871894836426     │\n",
       "│ Time/Total                     │ 694.5693969726562     │\n",
       "│ Time/Rollout                   │ 59.90840148925781     │\n",
       "│ Time/Update                    │ 13.680421829223633    │\n",
       "│ Time/Epoch                     │ 73.58882141113281     │\n",
       "│ Time/FPS                       │ 271.7803955078125     │\n",
       "│ Misc/Alpha                     │ 1.0635697841644287    │\n",
       "│ Misc/FinalStepNorm             │ 0.2903081774711609    │\n",
       "│ Misc/gradient_norm             │ 0.08266144245862961   │\n",
       "│ Misc/xHx                       │ 0.017680630087852478  │\n",
       "│ Misc/H_inv_g                   │ 0.27295640110969543   │\n",
       "│ Misc/AcceptanceStep            │ 1.0                   │\n",
       "│ Metrics/LagrangeMultiplier/Mea │ 0.3114159107208252    │\n",
       "│ Metrics/LagrangeMultiplier/Min │ 0.3114159107208252    │\n",
       "│ Metrics/LagrangeMultiplier/Max │ 0.3114159107208252    │\n",
       "│ Metrics/LagrangeMultiplier/Std │ 0.0                   │\n",
       "└────────────────────────────────┴───────────────────────┘\n",
       "</pre>\n"
      ],
      "text/plain": [
       "┏━━━━━━━━━━━━━━━━━━━━━━━━━━━━━━━━┳━━━━━━━━━━━━━━━━━━━━━━━┓\n",
       "┃\u001b[1m \u001b[0m\u001b[1mMetrics                       \u001b[0m\u001b[1m \u001b[0m┃\u001b[1m \u001b[0m\u001b[1mValue                \u001b[0m\u001b[1m \u001b[0m┃\n",
       "┡━━━━━━━━━━━━━━━━━━━━━━━━━━━━━━━━╇━━━━━━━━━━━━━━━━━━━━━━━┩\n",
       "│ Metrics/EpRet                  │ 6.9797163009643555    │\n",
       "│ Metrics/EpCost                 │ 99.05999755859375     │\n",
       "│ Metrics/EpLen                  │ 1000.0                │\n",
       "│ Train/Epoch                    │ 8.0                   │\n",
       "│ Train/Entropy                  │ 1.4000953435897827    │\n",
       "│ Train/KL                       │ 0.0003497194265946746 │\n",
       "│ Train/StopIter                 │ 10.0                  │\n",
       "│ Train/PolicyRatio/Mean         │ 1.0000505447387695    │\n",
       "│ Train/PolicyRatio/Min          │ 1.0000505447387695    │\n",
       "│ Train/PolicyRatio/Max          │ 1.0000505447387695    │\n",
       "│ Train/PolicyRatio/Std          │ 3.574052607291378e-05 │\n",
       "│ Train/LR                       │ 0.0                   │\n",
       "│ Train/PolicyStd                │ 0.9816661477088928    │\n",
       "│ TotalEnvSteps                  │ 180000.0              │\n",
       "│ Loss/Loss_pi                   │ -0.013199280947446823 │\n",
       "│ Loss/Loss_pi/Delta             │ -0.000235091894865036 │\n",
       "│ Value/Adv                      │ 3.747939913978371e-08 │\n",
       "│ Loss/Loss_reward_critic        │ 0.024184590205550194  │\n",
       "│ Loss/Loss_reward_critic/Delta  │ 0.0022557321935892105 │\n",
       "│ Value/reward                   │ 0.41807276010513306   │\n",
       "│ Loss/Loss_cost_critic          │ 1.7102221250534058    │\n",
       "│ Loss/Loss_cost_critic/Delta    │ -0.28436386585235596  │\n",
       "│ Value/cost                     │ 8.727871894836426     │\n",
       "│ Time/Total                     │ 694.5693969726562     │\n",
       "│ Time/Rollout                   │ 59.90840148925781     │\n",
       "│ Time/Update                    │ 13.680421829223633    │\n",
       "│ Time/Epoch                     │ 73.58882141113281     │\n",
       "│ Time/FPS                       │ 271.7803955078125     │\n",
       "│ Misc/Alpha                     │ 1.0635697841644287    │\n",
       "│ Misc/FinalStepNorm             │ 0.2903081774711609    │\n",
       "│ Misc/gradient_norm             │ 0.08266144245862961   │\n",
       "│ Misc/xHx                       │ 0.017680630087852478  │\n",
       "│ Misc/H_inv_g                   │ 0.27295640110969543   │\n",
       "│ Misc/AcceptanceStep            │ 1.0                   │\n",
       "│ Metrics/LagrangeMultiplier/Mea │ 0.3114159107208252    │\n",
       "│ Metrics/LagrangeMultiplier/Min │ 0.3114159107208252    │\n",
       "│ Metrics/LagrangeMultiplier/Max │ 0.3114159107208252    │\n",
       "│ Metrics/LagrangeMultiplier/Std │ 0.0                   │\n",
       "└────────────────────────────────┴───────────────────────┘\n"
      ]
     },
     "metadata": {},
     "output_type": "display_data"
    },
    {
     "data": {
      "text/html": [
       "<pre style=\"white-space:pre;overflow-x:auto;line-height:normal;font-family:Menlo,'DejaVu Sans Mono',consolas,'Courier New',monospace\"><span style=\"color: #008000; text-decoration-color: #008000\">Warning: trajectory cut off when rollout by epoch at </span><span style=\"color: #008080; text-decoration-color: #008080; font-weight: bold\">1000.0</span><span style=\"color: #008000; text-decoration-color: #008000\"> steps.</span>\n",
       "</pre>\n"
      ],
      "text/plain": [
       "\u001b[32mWarning: trajectory cut off when rollout by epoch at \u001b[0m\u001b[1;36m1000.0\u001b[0m\u001b[32m steps.\u001b[0m\n"
      ]
     },
     "metadata": {},
     "output_type": "display_data"
    },
    {
     "data": {
      "text/html": [
       "<pre style=\"white-space:pre;overflow-x:auto;line-height:normal;font-family:Menlo,'DejaVu Sans Mono',consolas,'Courier New',monospace\"><span style=\"color: #008000; text-decoration-color: #008000\">Warning: trajectory cut off when rollout by epoch at </span><span style=\"color: #008080; text-decoration-color: #008080; font-weight: bold\">1000.0</span><span style=\"color: #008000; text-decoration-color: #008000\"> steps.</span>\n",
       "</pre>\n"
      ],
      "text/plain": [
       "\u001b[32mWarning: trajectory cut off when rollout by epoch at \u001b[0m\u001b[1;36m1000.0\u001b[0m\u001b[32m steps.\u001b[0m\n"
      ]
     },
     "metadata": {},
     "output_type": "display_data"
    },
    {
     "data": {
      "text/html": [
       "<pre style=\"white-space:pre;overflow-x:auto;line-height:normal;font-family:Menlo,'DejaVu Sans Mono',consolas,'Courier New',monospace\"><span style=\"color: #008000; text-decoration-color: #008000\">Warning: trajectory cut off when rollout by epoch at </span><span style=\"color: #008080; text-decoration-color: #008080; font-weight: bold\">1000.0</span><span style=\"color: #008000; text-decoration-color: #008000\"> steps.</span>\n",
       "</pre>\n"
      ],
      "text/plain": [
       "\u001b[32mWarning: trajectory cut off when rollout by epoch at \u001b[0m\u001b[1;36m1000.0\u001b[0m\u001b[32m steps.\u001b[0m\n"
      ]
     },
     "metadata": {},
     "output_type": "display_data"
    },
    {
     "data": {
      "text/html": [
       "<pre style=\"white-space:pre;overflow-x:auto;line-height:normal;font-family:Menlo,'DejaVu Sans Mono',consolas,'Courier New',monospace\"><span style=\"color: #008000; text-decoration-color: #008000\">Warning: trajectory cut off when rollout by epoch at </span><span style=\"color: #008080; text-decoration-color: #008080; font-weight: bold\">1000.0</span><span style=\"color: #008000; text-decoration-color: #008000\"> steps.</span>\n",
       "</pre>\n"
      ],
      "text/plain": [
       "\u001b[32mWarning: trajectory cut off when rollout by epoch at \u001b[0m\u001b[1;36m1000.0\u001b[0m\u001b[32m steps.\u001b[0m\n"
      ]
     },
     "metadata": {},
     "output_type": "display_data"
    },
    {
     "data": {
      "text/html": [
       "<pre style=\"white-space:pre;overflow-x:auto;line-height:normal;font-family:Menlo,'DejaVu Sans Mono',consolas,'Courier New',monospace\"></pre>\n"
      ],
      "text/plain": []
     },
     "metadata": {},
     "output_type": "display_data"
    },
    {
     "data": {
      "text/html": [
       "<pre style=\"white-space:pre;overflow-x:auto;line-height:normal;font-family:Menlo,'DejaVu Sans Mono',consolas,'Courier New',monospace\">\n",
       "</pre>\n"
      ],
      "text/plain": [
       "\n"
      ]
     },
     "metadata": {},
     "output_type": "display_data"
    },
    {
     "data": {
      "text/html": [
       "<pre style=\"white-space:pre;overflow-x:auto;line-height:normal;font-family:Menlo,'DejaVu Sans Mono',consolas,'Courier New',monospace\"><span style=\"color: #008000; text-decoration-color: #008000\">Expected Improvement: </span><span style=\"color: #008080; text-decoration-color: #008080; font-weight: bold\">0.02157786302268505</span><span style=\"color: #008000; text-decoration-color: #008000\"> Actual: </span><span style=\"color: #008080; text-decoration-color: #008080; font-weight: bold\">0.021626578643918037</span>\n",
       "</pre>\n"
      ],
      "text/plain": [
       "\u001b[32mExpected Improvement: \u001b[0m\u001b[1;36m0.02157786302268505\u001b[0m\u001b[32m Actual: \u001b[0m\u001b[1;36m0.021626578643918037\u001b[0m\n"
      ]
     },
     "metadata": {},
     "output_type": "display_data"
    },
    {
     "data": {
      "text/html": [
       "<pre style=\"white-space:pre;overflow-x:auto;line-height:normal;font-family:Menlo,'DejaVu Sans Mono',consolas,'Courier New',monospace\"><span style=\"color: #008000; text-decoration-color: #008000\">Accept step at </span><span style=\"color: #808000; text-decoration-color: #808000\">i</span><span style=\"color: #008000; text-decoration-color: #008000\">=</span><span style=\"color: #008080; text-decoration-color: #008080; font-weight: bold\">1</span>\n",
       "</pre>\n"
      ],
      "text/plain": [
       "\u001b[32mAccept step at \u001b[0m\u001b[33mi\u001b[0m\u001b[32m=\u001b[0m\u001b[1;36m1\u001b[0m\n"
      ]
     },
     "metadata": {},
     "output_type": "display_data"
    },
    {
     "data": {
      "text/html": [
       "<pre style=\"white-space:pre;overflow-x:auto;line-height:normal;font-family:Menlo,'DejaVu Sans Mono',consolas,'Courier New',monospace\">┏━━━━━━━━━━━━━━━━━━━━━━━━━━━━━━━━┳━━━━━━━━━━━━━━━━━━━━━━━━┓\n",
       "┃<span style=\"font-weight: bold\"> Metrics                        </span>┃<span style=\"font-weight: bold\"> Value                  </span>┃\n",
       "┡━━━━━━━━━━━━━━━━━━━━━━━━━━━━━━━━╇━━━━━━━━━━━━━━━━━━━━━━━━┩\n",
       "│ Metrics/EpRet                  │ 7.781101703643799      │\n",
       "│ Metrics/EpCost                 │ 104.91999816894531     │\n",
       "│ Metrics/EpLen                  │ 1000.0                 │\n",
       "│ Train/Epoch                    │ 9.0                    │\n",
       "│ Train/Entropy                  │ 1.4063609838485718     │\n",
       "│ Train/KL                       │ 0.0003249160654377192  │\n",
       "│ Train/StopIter                 │ 10.0                   │\n",
       "│ Train/PolicyRatio/Mean         │ 0.9999208450317383     │\n",
       "│ Train/PolicyRatio/Min          │ 0.9999208450317383     │\n",
       "│ Train/PolicyRatio/Max          │ 0.9999208450317383     │\n",
       "│ Train/PolicyRatio/Std          │ 5.599912765319459e-05  │\n",
       "│ Train/LR                       │ 0.0                    │\n",
       "│ Train/PolicyStd                │ 0.9879418015480042     │\n",
       "│ TotalEnvSteps                  │ 200000.0               │\n",
       "│ Loss/Loss_pi                   │ -0.014417710714042187  │\n",
       "│ Loss/Loss_pi/Delta             │ -0.0012184297665953636 │\n",
       "│ Value/Adv                      │ -2.479553096179643e-08 │\n",
       "│ Loss/Loss_reward_critic        │ 0.026131540536880493   │\n",
       "│ Loss/Loss_reward_critic/Delta  │ 0.0019469503313302994  │\n",
       "│ Value/reward                   │ 0.5098843574523926     │\n",
       "│ Loss/Loss_cost_critic          │ 1.9697396755218506     │\n",
       "│ Loss/Loss_cost_critic/Delta    │ 0.2595175504684448     │\n",
       "│ Value/cost                     │ 8.385154724121094      │\n",
       "│ Time/Total                     │ 772.74658203125        │\n",
       "│ Time/Rollout                   │ 64.22967529296875      │\n",
       "│ Time/Update                    │ 13.908206939697266     │\n",
       "│ Time/Epoch                     │ 78.13788604736328      │\n",
       "│ Time/FPS                       │ 255.95779418945312     │\n",
       "│ Misc/Alpha                     │ 0.9279565215110779     │\n",
       "│ Misc/FinalStepNorm             │ 0.2896599769592285     │\n",
       "│ Misc/gradient_norm             │ 0.10527316480875015    │\n",
       "│ Misc/xHx                       │ 0.02322600781917572    │\n",
       "│ Misc/H_inv_g                   │ 0.31214824318885803    │\n",
       "│ Misc/AcceptanceStep            │ 1.0                    │\n",
       "│ Metrics/LagrangeMultiplier/Mea │ 0.34413376450538635    │\n",
       "│ Metrics/LagrangeMultiplier/Min │ 0.34413376450538635    │\n",
       "│ Metrics/LagrangeMultiplier/Max │ 0.34413376450538635    │\n",
       "│ Metrics/LagrangeMultiplier/Std │ 0.0                    │\n",
       "└────────────────────────────────┴────────────────────────┘\n",
       "</pre>\n"
      ],
      "text/plain": [
       "┏━━━━━━━━━━━━━━━━━━━━━━━━━━━━━━━━┳━━━━━━━━━━━━━━━━━━━━━━━━┓\n",
       "┃\u001b[1m \u001b[0m\u001b[1mMetrics                       \u001b[0m\u001b[1m \u001b[0m┃\u001b[1m \u001b[0m\u001b[1mValue                 \u001b[0m\u001b[1m \u001b[0m┃\n",
       "┡━━━━━━━━━━━━━━━━━━━━━━━━━━━━━━━━╇━━━━━━━━━━━━━━━━━━━━━━━━┩\n",
       "│ Metrics/EpRet                  │ 7.781101703643799      │\n",
       "│ Metrics/EpCost                 │ 104.91999816894531     │\n",
       "│ Metrics/EpLen                  │ 1000.0                 │\n",
       "│ Train/Epoch                    │ 9.0                    │\n",
       "│ Train/Entropy                  │ 1.4063609838485718     │\n",
       "│ Train/KL                       │ 0.0003249160654377192  │\n",
       "│ Train/StopIter                 │ 10.0                   │\n",
       "│ Train/PolicyRatio/Mean         │ 0.9999208450317383     │\n",
       "│ Train/PolicyRatio/Min          │ 0.9999208450317383     │\n",
       "│ Train/PolicyRatio/Max          │ 0.9999208450317383     │\n",
       "│ Train/PolicyRatio/Std          │ 5.599912765319459e-05  │\n",
       "│ Train/LR                       │ 0.0                    │\n",
       "│ Train/PolicyStd                │ 0.9879418015480042     │\n",
       "│ TotalEnvSteps                  │ 200000.0               │\n",
       "│ Loss/Loss_pi                   │ -0.014417710714042187  │\n",
       "│ Loss/Loss_pi/Delta             │ -0.0012184297665953636 │\n",
       "│ Value/Adv                      │ -2.479553096179643e-08 │\n",
       "│ Loss/Loss_reward_critic        │ 0.026131540536880493   │\n",
       "│ Loss/Loss_reward_critic/Delta  │ 0.0019469503313302994  │\n",
       "│ Value/reward                   │ 0.5098843574523926     │\n",
       "│ Loss/Loss_cost_critic          │ 1.9697396755218506     │\n",
       "│ Loss/Loss_cost_critic/Delta    │ 0.2595175504684448     │\n",
       "│ Value/cost                     │ 8.385154724121094      │\n",
       "│ Time/Total                     │ 772.74658203125        │\n",
       "│ Time/Rollout                   │ 64.22967529296875      │\n",
       "│ Time/Update                    │ 13.908206939697266     │\n",
       "│ Time/Epoch                     │ 78.13788604736328      │\n",
       "│ Time/FPS                       │ 255.95779418945312     │\n",
       "│ Misc/Alpha                     │ 0.9279565215110779     │\n",
       "│ Misc/FinalStepNorm             │ 0.2896599769592285     │\n",
       "│ Misc/gradient_norm             │ 0.10527316480875015    │\n",
       "│ Misc/xHx                       │ 0.02322600781917572    │\n",
       "│ Misc/H_inv_g                   │ 0.31214824318885803    │\n",
       "│ Misc/AcceptanceStep            │ 1.0                    │\n",
       "│ Metrics/LagrangeMultiplier/Mea │ 0.34413376450538635    │\n",
       "│ Metrics/LagrangeMultiplier/Min │ 0.34413376450538635    │\n",
       "│ Metrics/LagrangeMultiplier/Max │ 0.34413376450538635    │\n",
       "│ Metrics/LagrangeMultiplier/Std │ 0.0                    │\n",
       "└────────────────────────────────┴────────────────────────┘\n"
      ]
     },
     "metadata": {},
     "output_type": "display_data"
    },
    {
     "data": {
      "text/html": [
       "<pre style=\"white-space:pre;overflow-x:auto;line-height:normal;font-family:Menlo,'DejaVu Sans Mono',consolas,'Courier New',monospace\"><span style=\"color: #008000; text-decoration-color: #008000\">Warning: trajectory cut off when rollout by epoch at </span><span style=\"color: #008080; text-decoration-color: #008080; font-weight: bold\">1000.0</span><span style=\"color: #008000; text-decoration-color: #008000\"> steps.</span>\n",
       "</pre>\n"
      ],
      "text/plain": [
       "\u001b[32mWarning: trajectory cut off when rollout by epoch at \u001b[0m\u001b[1;36m1000.0\u001b[0m\u001b[32m steps.\u001b[0m\n"
      ]
     },
     "metadata": {},
     "output_type": "display_data"
    },
    {
     "data": {
      "text/html": [
       "<pre style=\"white-space:pre;overflow-x:auto;line-height:normal;font-family:Menlo,'DejaVu Sans Mono',consolas,'Courier New',monospace\"><span style=\"color: #008000; text-decoration-color: #008000\">Warning: trajectory cut off when rollout by epoch at </span><span style=\"color: #008080; text-decoration-color: #008080; font-weight: bold\">1000.0</span><span style=\"color: #008000; text-decoration-color: #008000\"> steps.</span>\n",
       "</pre>\n"
      ],
      "text/plain": [
       "\u001b[32mWarning: trajectory cut off when rollout by epoch at \u001b[0m\u001b[1;36m1000.0\u001b[0m\u001b[32m steps.\u001b[0m\n"
      ]
     },
     "metadata": {},
     "output_type": "display_data"
    },
    {
     "data": {
      "text/html": [
       "<pre style=\"white-space:pre;overflow-x:auto;line-height:normal;font-family:Menlo,'DejaVu Sans Mono',consolas,'Courier New',monospace\"><span style=\"color: #008000; text-decoration-color: #008000\">Warning: trajectory cut off when rollout by epoch at </span><span style=\"color: #008080; text-decoration-color: #008080; font-weight: bold\">1000.0</span><span style=\"color: #008000; text-decoration-color: #008000\"> steps.</span>\n",
       "</pre>\n"
      ],
      "text/plain": [
       "\u001b[32mWarning: trajectory cut off when rollout by epoch at \u001b[0m\u001b[1;36m1000.0\u001b[0m\u001b[32m steps.\u001b[0m\n"
      ]
     },
     "metadata": {},
     "output_type": "display_data"
    },
    {
     "data": {
      "text/html": [
       "<pre style=\"white-space:pre;overflow-x:auto;line-height:normal;font-family:Menlo,'DejaVu Sans Mono',consolas,'Courier New',monospace\"><span style=\"color: #008000; text-decoration-color: #008000\">Warning: trajectory cut off when rollout by epoch at </span><span style=\"color: #008080; text-decoration-color: #008080; font-weight: bold\">1000.0</span><span style=\"color: #008000; text-decoration-color: #008000\"> steps.</span>\n",
       "</pre>\n"
      ],
      "text/plain": [
       "\u001b[32mWarning: trajectory cut off when rollout by epoch at \u001b[0m\u001b[1;36m1000.0\u001b[0m\u001b[32m steps.\u001b[0m\n"
      ]
     },
     "metadata": {},
     "output_type": "display_data"
    },
    {
     "data": {
      "text/html": [
       "<pre style=\"white-space:pre;overflow-x:auto;line-height:normal;font-family:Menlo,'DejaVu Sans Mono',consolas,'Courier New',monospace\"></pre>\n"
      ],
      "text/plain": []
     },
     "metadata": {},
     "output_type": "display_data"
    },
    {
     "data": {
      "text/html": [
       "<pre style=\"white-space:pre;overflow-x:auto;line-height:normal;font-family:Menlo,'DejaVu Sans Mono',consolas,'Courier New',monospace\">\n",
       "</pre>\n"
      ],
      "text/plain": [
       "\n"
      ]
     },
     "metadata": {},
     "output_type": "display_data"
    },
    {
     "data": {
      "text/html": [
       "<pre style=\"white-space:pre;overflow-x:auto;line-height:normal;font-family:Menlo,'DejaVu Sans Mono',consolas,'Courier New',monospace\"><span style=\"color: #008000; text-decoration-color: #008000\">Expected Improvement: </span><span style=\"color: #008080; text-decoration-color: #008080; font-weight: bold\">0.02015574462711811</span><span style=\"color: #008000; text-decoration-color: #008000\"> Actual: </span><span style=\"color: #008080; text-decoration-color: #008080; font-weight: bold\">0.02009972557425499</span>\n",
       "</pre>\n"
      ],
      "text/plain": [
       "\u001b[32mExpected Improvement: \u001b[0m\u001b[1;36m0.02015574462711811\u001b[0m\u001b[32m Actual: \u001b[0m\u001b[1;36m0.02009972557425499\u001b[0m\n"
      ]
     },
     "metadata": {},
     "output_type": "display_data"
    },
    {
     "data": {
      "text/html": [
       "<pre style=\"white-space:pre;overflow-x:auto;line-height:normal;font-family:Menlo,'DejaVu Sans Mono',consolas,'Courier New',monospace\"><span style=\"color: #008000; text-decoration-color: #008000\">Accept step at </span><span style=\"color: #808000; text-decoration-color: #808000\">i</span><span style=\"color: #008000; text-decoration-color: #008000\">=</span><span style=\"color: #008080; text-decoration-color: #008080; font-weight: bold\">1</span>\n",
       "</pre>\n"
      ],
      "text/plain": [
       "\u001b[32mAccept step at \u001b[0m\u001b[33mi\u001b[0m\u001b[32m=\u001b[0m\u001b[1;36m1\u001b[0m\n"
      ]
     },
     "metadata": {},
     "output_type": "display_data"
    },
    {
     "data": {
      "text/html": [
       "<pre style=\"white-space:pre;overflow-x:auto;line-height:normal;font-family:Menlo,'DejaVu Sans Mono',consolas,'Courier New',monospace\">┏━━━━━━━━━━━━━━━━━━━━━━━━━━━━━━━━┳━━━━━━━━━━━━━━━━━━━━━━━━━┓\n",
       "┃<span style=\"font-weight: bold\"> Metrics                        </span>┃<span style=\"font-weight: bold\"> Value                   </span>┃\n",
       "┡━━━━━━━━━━━━━━━━━━━━━━━━━━━━━━━━╇━━━━━━━━━━━━━━━━━━━━━━━━━┩\n",
       "│ Metrics/EpRet                  │ 8.538556098937988       │\n",
       "│ Metrics/EpCost                 │ 107.16000366210938      │\n",
       "│ Metrics/EpLen                  │ 1000.0                  │\n",
       "│ Train/Epoch                    │ 10.0                    │\n",
       "│ Train/Entropy                  │ 1.4076062440872192      │\n",
       "│ Train/KL                       │ 0.00029548050952143967  │\n",
       "│ Train/StopIter                 │ 10.0                    │\n",
       "│ Train/PolicyRatio/Mean         │ 0.9991634488105774      │\n",
       "│ Train/PolicyRatio/Min          │ 0.9991635084152222      │\n",
       "│ Train/PolicyRatio/Max          │ 0.9991635084152222      │\n",
       "│ Train/PolicyRatio/Std          │ 0.0005914889043197036   │\n",
       "│ Train/LR                       │ 0.0                     │\n",
       "│ Train/PolicyStd                │ 0.9891040921211243      │\n",
       "│ TotalEnvSteps                  │ 220000.0                │\n",
       "│ Loss/Loss_pi                   │ -0.013399804942309856   │\n",
       "│ Loss/Loss_pi/Delta             │ 0.0010179057717323303   │\n",
       "│ Value/Adv                      │ -2.1362303925798187e-08 │\n",
       "│ Loss/Loss_reward_critic        │ 0.029022950679063797    │\n",
       "│ Loss/Loss_reward_critic/Delta  │ 0.002891410142183304    │\n",
       "│ Value/reward                   │ 0.5380787253379822      │\n",
       "│ Loss/Loss_cost_critic          │ 2.031010627746582       │\n",
       "│ Loss/Loss_cost_critic/Delta    │ 0.061270952224731445    │\n",
       "│ Value/cost                     │ 8.900542259216309       │\n",
       "│ Time/Total                     │ 845.6354370117188       │\n",
       "│ Time/Rollout                   │ 60.30358123779297       │\n",
       "│ Time/Update                    │ 12.547405242919922      │\n",
       "│ Time/Epoch                     │ 72.85098266601562       │\n",
       "│ Time/FPS                       │ 274.53302001953125      │\n",
       "│ Misc/Alpha                     │ 0.9934558272361755      │\n",
       "│ Misc/FinalStepNorm             │ 0.305266410112381       │\n",
       "│ Misc/gradient_norm             │ 0.09045732021331787     │\n",
       "│ Misc/xHx                       │ 0.02026434987783432     │\n",
       "│ Misc/H_inv_g                   │ 0.30727729201316833     │\n",
       "│ Misc/AcceptanceStep            │ 1.0                     │\n",
       "│ Metrics/LagrangeMultiplier/Mea │ 0.3765797019004822      │\n",
       "│ Metrics/LagrangeMultiplier/Min │ 0.3765797019004822      │\n",
       "│ Metrics/LagrangeMultiplier/Max │ 0.3765797019004822      │\n",
       "│ Metrics/LagrangeMultiplier/Std │ 0.0                     │\n",
       "└────────────────────────────────┴─────────────────────────┘\n",
       "</pre>\n"
      ],
      "text/plain": [
       "┏━━━━━━━━━━━━━━━━━━━━━━━━━━━━━━━━┳━━━━━━━━━━━━━━━━━━━━━━━━━┓\n",
       "┃\u001b[1m \u001b[0m\u001b[1mMetrics                       \u001b[0m\u001b[1m \u001b[0m┃\u001b[1m \u001b[0m\u001b[1mValue                  \u001b[0m\u001b[1m \u001b[0m┃\n",
       "┡━━━━━━━━━━━━━━━━━━━━━━━━━━━━━━━━╇━━━━━━━━━━━━━━━━━━━━━━━━━┩\n",
       "│ Metrics/EpRet                  │ 8.538556098937988       │\n",
       "│ Metrics/EpCost                 │ 107.16000366210938      │\n",
       "│ Metrics/EpLen                  │ 1000.0                  │\n",
       "│ Train/Epoch                    │ 10.0                    │\n",
       "│ Train/Entropy                  │ 1.4076062440872192      │\n",
       "│ Train/KL                       │ 0.00029548050952143967  │\n",
       "│ Train/StopIter                 │ 10.0                    │\n",
       "│ Train/PolicyRatio/Mean         │ 0.9991634488105774      │\n",
       "│ Train/PolicyRatio/Min          │ 0.9991635084152222      │\n",
       "│ Train/PolicyRatio/Max          │ 0.9991635084152222      │\n",
       "│ Train/PolicyRatio/Std          │ 0.0005914889043197036   │\n",
       "│ Train/LR                       │ 0.0                     │\n",
       "│ Train/PolicyStd                │ 0.9891040921211243      │\n",
       "│ TotalEnvSteps                  │ 220000.0                │\n",
       "│ Loss/Loss_pi                   │ -0.013399804942309856   │\n",
       "│ Loss/Loss_pi/Delta             │ 0.0010179057717323303   │\n",
       "│ Value/Adv                      │ -2.1362303925798187e-08 │\n",
       "│ Loss/Loss_reward_critic        │ 0.029022950679063797    │\n",
       "│ Loss/Loss_reward_critic/Delta  │ 0.002891410142183304    │\n",
       "│ Value/reward                   │ 0.5380787253379822      │\n",
       "│ Loss/Loss_cost_critic          │ 2.031010627746582       │\n",
       "│ Loss/Loss_cost_critic/Delta    │ 0.061270952224731445    │\n",
       "│ Value/cost                     │ 8.900542259216309       │\n",
       "│ Time/Total                     │ 845.6354370117188       │\n",
       "│ Time/Rollout                   │ 60.30358123779297       │\n",
       "│ Time/Update                    │ 12.547405242919922      │\n",
       "│ Time/Epoch                     │ 72.85098266601562       │\n",
       "│ Time/FPS                       │ 274.53302001953125      │\n",
       "│ Misc/Alpha                     │ 0.9934558272361755      │\n",
       "│ Misc/FinalStepNorm             │ 0.305266410112381       │\n",
       "│ Misc/gradient_norm             │ 0.09045732021331787     │\n",
       "│ Misc/xHx                       │ 0.02026434987783432     │\n",
       "│ Misc/H_inv_g                   │ 0.30727729201316833     │\n",
       "│ Misc/AcceptanceStep            │ 1.0                     │\n",
       "│ Metrics/LagrangeMultiplier/Mea │ 0.3765797019004822      │\n",
       "│ Metrics/LagrangeMultiplier/Min │ 0.3765797019004822      │\n",
       "│ Metrics/LagrangeMultiplier/Max │ 0.3765797019004822      │\n",
       "│ Metrics/LagrangeMultiplier/Std │ 0.0                     │\n",
       "└────────────────────────────────┴─────────────────────────┘\n"
      ]
     },
     "metadata": {},
     "output_type": "display_data"
    },
    {
     "data": {
      "text/html": [
       "<pre style=\"white-space:pre;overflow-x:auto;line-height:normal;font-family:Menlo,'DejaVu Sans Mono',consolas,'Courier New',monospace\"><span style=\"color: #008000; text-decoration-color: #008000\">Warning: trajectory cut off when rollout by epoch at </span><span style=\"color: #008080; text-decoration-color: #008080; font-weight: bold\">1000.0</span><span style=\"color: #008000; text-decoration-color: #008000\"> steps.</span>\n",
       "</pre>\n"
      ],
      "text/plain": [
       "\u001b[32mWarning: trajectory cut off when rollout by epoch at \u001b[0m\u001b[1;36m1000.0\u001b[0m\u001b[32m steps.\u001b[0m\n"
      ]
     },
     "metadata": {},
     "output_type": "display_data"
    },
    {
     "data": {
      "text/html": [
       "<pre style=\"white-space:pre;overflow-x:auto;line-height:normal;font-family:Menlo,'DejaVu Sans Mono',consolas,'Courier New',monospace\"><span style=\"color: #008000; text-decoration-color: #008000\">Warning: trajectory cut off when rollout by epoch at </span><span style=\"color: #008080; text-decoration-color: #008080; font-weight: bold\">1000.0</span><span style=\"color: #008000; text-decoration-color: #008000\"> steps.</span>\n",
       "</pre>\n"
      ],
      "text/plain": [
       "\u001b[32mWarning: trajectory cut off when rollout by epoch at \u001b[0m\u001b[1;36m1000.0\u001b[0m\u001b[32m steps.\u001b[0m\n"
      ]
     },
     "metadata": {},
     "output_type": "display_data"
    },
    {
     "data": {
      "text/html": [
       "<pre style=\"white-space:pre;overflow-x:auto;line-height:normal;font-family:Menlo,'DejaVu Sans Mono',consolas,'Courier New',monospace\"><span style=\"color: #008000; text-decoration-color: #008000\">Warning: trajectory cut off when rollout by epoch at </span><span style=\"color: #008080; text-decoration-color: #008080; font-weight: bold\">1000.0</span><span style=\"color: #008000; text-decoration-color: #008000\"> steps.</span>\n",
       "</pre>\n"
      ],
      "text/plain": [
       "\u001b[32mWarning: trajectory cut off when rollout by epoch at \u001b[0m\u001b[1;36m1000.0\u001b[0m\u001b[32m steps.\u001b[0m\n"
      ]
     },
     "metadata": {},
     "output_type": "display_data"
    },
    {
     "data": {
      "text/html": [
       "<pre style=\"white-space:pre;overflow-x:auto;line-height:normal;font-family:Menlo,'DejaVu Sans Mono',consolas,'Courier New',monospace\"><span style=\"color: #008000; text-decoration-color: #008000\">Warning: trajectory cut off when rollout by epoch at </span><span style=\"color: #008080; text-decoration-color: #008080; font-weight: bold\">1000.0</span><span style=\"color: #008000; text-decoration-color: #008000\"> steps.</span>\n",
       "</pre>\n"
      ],
      "text/plain": [
       "\u001b[32mWarning: trajectory cut off when rollout by epoch at \u001b[0m\u001b[1;36m1000.0\u001b[0m\u001b[32m steps.\u001b[0m\n"
      ]
     },
     "metadata": {},
     "output_type": "display_data"
    },
    {
     "data": {
      "text/html": [
       "<pre style=\"white-space:pre;overflow-x:auto;line-height:normal;font-family:Menlo,'DejaVu Sans Mono',consolas,'Courier New',monospace\"></pre>\n"
      ],
      "text/plain": []
     },
     "metadata": {},
     "output_type": "display_data"
    },
    {
     "data": {
      "text/html": [
       "<pre style=\"white-space:pre;overflow-x:auto;line-height:normal;font-family:Menlo,'DejaVu Sans Mono',consolas,'Courier New',monospace\">\n",
       "</pre>\n"
      ],
      "text/plain": [
       "\n"
      ]
     },
     "metadata": {},
     "output_type": "display_data"
    },
    {
     "data": {
      "text/html": [
       "<pre style=\"white-space:pre;overflow-x:auto;line-height:normal;font-family:Menlo,'DejaVu Sans Mono',consolas,'Courier New',monospace\"><span style=\"color: #008000; text-decoration-color: #008000\">Expected Improvement: </span><span style=\"color: #008080; text-decoration-color: #008080; font-weight: bold\">0.02089746855199337</span><span style=\"color: #008000; text-decoration-color: #008000\"> Actual: </span><span style=\"color: #008080; text-decoration-color: #008080; font-weight: bold\">0.020991740748286247</span>\n",
       "</pre>\n"
      ],
      "text/plain": [
       "\u001b[32mExpected Improvement: \u001b[0m\u001b[1;36m0.02089746855199337\u001b[0m\u001b[32m Actual: \u001b[0m\u001b[1;36m0.020991740748286247\u001b[0m\n"
      ]
     },
     "metadata": {},
     "output_type": "display_data"
    },
    {
     "data": {
      "text/html": [
       "<pre style=\"white-space:pre;overflow-x:auto;line-height:normal;font-family:Menlo,'DejaVu Sans Mono',consolas,'Courier New',monospace\"><span style=\"color: #008000; text-decoration-color: #008000\">Accept step at </span><span style=\"color: #808000; text-decoration-color: #808000\">i</span><span style=\"color: #008000; text-decoration-color: #008000\">=</span><span style=\"color: #008080; text-decoration-color: #008080; font-weight: bold\">1</span>\n",
       "</pre>\n"
      ],
      "text/plain": [
       "\u001b[32mAccept step at \u001b[0m\u001b[33mi\u001b[0m\u001b[32m=\u001b[0m\u001b[1;36m1\u001b[0m\n"
      ]
     },
     "metadata": {},
     "output_type": "display_data"
    },
    {
     "data": {
      "text/html": [
       "<pre style=\"white-space:pre;overflow-x:auto;line-height:normal;font-family:Menlo,'DejaVu Sans Mono',consolas,'Courier New',monospace\">┏━━━━━━━━━━━━━━━━━━━━━━━━━━━━━━━━┳━━━━━━━━━━━━━━━━━━━━━━━━┓\n",
       "┃<span style=\"font-weight: bold\"> Metrics                        </span>┃<span style=\"font-weight: bold\"> Value                  </span>┃\n",
       "┡━━━━━━━━━━━━━━━━━━━━━━━━━━━━━━━━╇━━━━━━━━━━━━━━━━━━━━━━━━┩\n",
       "│ Metrics/EpRet                  │ 8.754995346069336      │\n",
       "│ Metrics/EpCost                 │ 106.5999984741211      │\n",
       "│ Metrics/EpLen                  │ 1000.0                 │\n",
       "│ Train/Epoch                    │ 11.0                   │\n",
       "│ Train/Entropy                  │ 1.410348892211914      │\n",
       "│ Train/KL                       │ 0.00028258218662813306 │\n",
       "│ Train/StopIter                 │ 10.0                   │\n",
       "│ Train/PolicyRatio/Mean         │ 1.0011024475097656     │\n",
       "│ Train/PolicyRatio/Min          │ 1.0011024475097656     │\n",
       "│ Train/PolicyRatio/Max          │ 1.0011024475097656     │\n",
       "│ Train/PolicyRatio/Std          │ 0.0007794919074513018  │\n",
       "│ Train/LR                       │ 0.0                    │\n",
       "│ Train/PolicyStd                │ 0.9918258190155029     │\n",
       "│ TotalEnvSteps                  │ 240000.0               │\n",
       "│ Loss/Loss_pi                   │ -0.013994470238685608  │\n",
       "│ Loss/Loss_pi/Delta             │ -0.0005946652963757515 │\n",
       "│ Value/Adv                      │ -3.509521562250484e-08 │\n",
       "│ Loss/Loss_reward_critic        │ 0.024394957348704338   │\n",
       "│ Loss/Loss_reward_critic/Delta  │ -0.004627993330359459  │\n",
       "│ Value/reward                   │ 0.5933791995048523     │\n",
       "│ Loss/Loss_cost_critic          │ 1.5966100692749023     │\n",
       "│ Loss/Loss_cost_critic/Delta    │ -0.4344005584716797    │\n",
       "│ Value/cost                     │ 9.299408912658691      │\n",
       "│ Time/Total                     │ 920.1710205078125      │\n",
       "│ Time/Rollout                   │ 61.83039093017578      │\n",
       "│ Time/Update                    │ 12.6741943359375       │\n",
       "│ Time/Epoch                     │ 74.50458526611328      │\n",
       "│ Time/FPS                       │ 268.4398498535156      │\n",
       "│ Misc/Alpha                     │ 0.9580760598182678     │\n",
       "│ Misc/FinalStepNorm             │ 0.31955623626708984    │\n",
       "│ Misc/gradient_norm             │ 0.09085316956043243    │\n",
       "│ Misc/xHx                       │ 0.02178862690925598    │\n",
       "│ Misc/H_inv_g                   │ 0.33353954553604126    │\n",
       "│ Misc/AcceptanceStep            │ 1.0                    │\n",
       "│ Metrics/LagrangeMultiplier/Mea │ 0.40880173444747925    │\n",
       "│ Metrics/LagrangeMultiplier/Min │ 0.40880173444747925    │\n",
       "│ Metrics/LagrangeMultiplier/Max │ 0.40880173444747925    │\n",
       "│ Metrics/LagrangeMultiplier/Std │ 0.0                    │\n",
       "└────────────────────────────────┴────────────────────────┘\n",
       "</pre>\n"
      ],
      "text/plain": [
       "┏━━━━━━━━━━━━━━━━━━━━━━━━━━━━━━━━┳━━━━━━━━━━━━━━━━━━━━━━━━┓\n",
       "┃\u001b[1m \u001b[0m\u001b[1mMetrics                       \u001b[0m\u001b[1m \u001b[0m┃\u001b[1m \u001b[0m\u001b[1mValue                 \u001b[0m\u001b[1m \u001b[0m┃\n",
       "┡━━━━━━━━━━━━━━━━━━━━━━━━━━━━━━━━╇━━━━━━━━━━━━━━━━━━━━━━━━┩\n",
       "│ Metrics/EpRet                  │ 8.754995346069336      │\n",
       "│ Metrics/EpCost                 │ 106.5999984741211      │\n",
       "│ Metrics/EpLen                  │ 1000.0                 │\n",
       "│ Train/Epoch                    │ 11.0                   │\n",
       "│ Train/Entropy                  │ 1.410348892211914      │\n",
       "│ Train/KL                       │ 0.00028258218662813306 │\n",
       "│ Train/StopIter                 │ 10.0                   │\n",
       "│ Train/PolicyRatio/Mean         │ 1.0011024475097656     │\n",
       "│ Train/PolicyRatio/Min          │ 1.0011024475097656     │\n",
       "│ Train/PolicyRatio/Max          │ 1.0011024475097656     │\n",
       "│ Train/PolicyRatio/Std          │ 0.0007794919074513018  │\n",
       "│ Train/LR                       │ 0.0                    │\n",
       "│ Train/PolicyStd                │ 0.9918258190155029     │\n",
       "│ TotalEnvSteps                  │ 240000.0               │\n",
       "│ Loss/Loss_pi                   │ -0.013994470238685608  │\n",
       "│ Loss/Loss_pi/Delta             │ -0.0005946652963757515 │\n",
       "│ Value/Adv                      │ -3.509521562250484e-08 │\n",
       "│ Loss/Loss_reward_critic        │ 0.024394957348704338   │\n",
       "│ Loss/Loss_reward_critic/Delta  │ -0.004627993330359459  │\n",
       "│ Value/reward                   │ 0.5933791995048523     │\n",
       "│ Loss/Loss_cost_critic          │ 1.5966100692749023     │\n",
       "│ Loss/Loss_cost_critic/Delta    │ -0.4344005584716797    │\n",
       "│ Value/cost                     │ 9.299408912658691      │\n",
       "│ Time/Total                     │ 920.1710205078125      │\n",
       "│ Time/Rollout                   │ 61.83039093017578      │\n",
       "│ Time/Update                    │ 12.6741943359375       │\n",
       "│ Time/Epoch                     │ 74.50458526611328      │\n",
       "│ Time/FPS                       │ 268.4398498535156      │\n",
       "│ Misc/Alpha                     │ 0.9580760598182678     │\n",
       "│ Misc/FinalStepNorm             │ 0.31955623626708984    │\n",
       "│ Misc/gradient_norm             │ 0.09085316956043243    │\n",
       "│ Misc/xHx                       │ 0.02178862690925598    │\n",
       "│ Misc/H_inv_g                   │ 0.33353954553604126    │\n",
       "│ Misc/AcceptanceStep            │ 1.0                    │\n",
       "│ Metrics/LagrangeMultiplier/Mea │ 0.40880173444747925    │\n",
       "│ Metrics/LagrangeMultiplier/Min │ 0.40880173444747925    │\n",
       "│ Metrics/LagrangeMultiplier/Max │ 0.40880173444747925    │\n",
       "│ Metrics/LagrangeMultiplier/Std │ 0.0                    │\n",
       "└────────────────────────────────┴────────────────────────┘\n"
      ]
     },
     "metadata": {},
     "output_type": "display_data"
    },
    {
     "data": {
      "text/html": [
       "<pre style=\"white-space:pre;overflow-x:auto;line-height:normal;font-family:Menlo,'DejaVu Sans Mono',consolas,'Courier New',monospace\"><span style=\"color: #008000; text-decoration-color: #008000\">Warning: trajectory cut off when rollout by epoch at </span><span style=\"color: #008080; text-decoration-color: #008080; font-weight: bold\">1000.0</span><span style=\"color: #008000; text-decoration-color: #008000\"> steps.</span>\n",
       "</pre>\n"
      ],
      "text/plain": [
       "\u001b[32mWarning: trajectory cut off when rollout by epoch at \u001b[0m\u001b[1;36m1000.0\u001b[0m\u001b[32m steps.\u001b[0m\n"
      ]
     },
     "metadata": {},
     "output_type": "display_data"
    },
    {
     "data": {
      "text/html": [
       "<pre style=\"white-space:pre;overflow-x:auto;line-height:normal;font-family:Menlo,'DejaVu Sans Mono',consolas,'Courier New',monospace\"><span style=\"color: #008000; text-decoration-color: #008000\">Warning: trajectory cut off when rollout by epoch at </span><span style=\"color: #008080; text-decoration-color: #008080; font-weight: bold\">1000.0</span><span style=\"color: #008000; text-decoration-color: #008000\"> steps.</span>\n",
       "</pre>\n"
      ],
      "text/plain": [
       "\u001b[32mWarning: trajectory cut off when rollout by epoch at \u001b[0m\u001b[1;36m1000.0\u001b[0m\u001b[32m steps.\u001b[0m\n"
      ]
     },
     "metadata": {},
     "output_type": "display_data"
    },
    {
     "data": {
      "text/html": [
       "<pre style=\"white-space:pre;overflow-x:auto;line-height:normal;font-family:Menlo,'DejaVu Sans Mono',consolas,'Courier New',monospace\"><span style=\"color: #008000; text-decoration-color: #008000\">Warning: trajectory cut off when rollout by epoch at </span><span style=\"color: #008080; text-decoration-color: #008080; font-weight: bold\">1000.0</span><span style=\"color: #008000; text-decoration-color: #008000\"> steps.</span>\n",
       "</pre>\n"
      ],
      "text/plain": [
       "\u001b[32mWarning: trajectory cut off when rollout by epoch at \u001b[0m\u001b[1;36m1000.0\u001b[0m\u001b[32m steps.\u001b[0m\n"
      ]
     },
     "metadata": {},
     "output_type": "display_data"
    },
    {
     "data": {
      "text/html": [
       "<pre style=\"white-space:pre;overflow-x:auto;line-height:normal;font-family:Menlo,'DejaVu Sans Mono',consolas,'Courier New',monospace\"><span style=\"color: #008000; text-decoration-color: #008000\">Warning: trajectory cut off when rollout by epoch at </span><span style=\"color: #008080; text-decoration-color: #008080; font-weight: bold\">1000.0</span><span style=\"color: #008000; text-decoration-color: #008000\"> steps.</span>\n",
       "</pre>\n"
      ],
      "text/plain": [
       "\u001b[32mWarning: trajectory cut off when rollout by epoch at \u001b[0m\u001b[1;36m1000.0\u001b[0m\u001b[32m steps.\u001b[0m\n"
      ]
     },
     "metadata": {},
     "output_type": "display_data"
    },
    {
     "data": {
      "text/html": [
       "<pre style=\"white-space:pre;overflow-x:auto;line-height:normal;font-family:Menlo,'DejaVu Sans Mono',consolas,'Courier New',monospace\"></pre>\n"
      ],
      "text/plain": []
     },
     "metadata": {},
     "output_type": "display_data"
    },
    {
     "data": {
      "text/html": [
       "<pre style=\"white-space:pre;overflow-x:auto;line-height:normal;font-family:Menlo,'DejaVu Sans Mono',consolas,'Courier New',monospace\">\n",
       "</pre>\n"
      ],
      "text/plain": [
       "\n"
      ]
     },
     "metadata": {},
     "output_type": "display_data"
    },
    {
     "data": {
      "text/html": [
       "<pre style=\"white-space:pre;overflow-x:auto;line-height:normal;font-family:Menlo,'DejaVu Sans Mono',consolas,'Courier New',monospace\"><span style=\"color: #008000; text-decoration-color: #008000\">Expected Improvement: </span><span style=\"color: #008080; text-decoration-color: #008080; font-weight: bold\">0.019456133246421814</span><span style=\"color: #008000; text-decoration-color: #008000\"> Actual: </span><span style=\"color: #008080; text-decoration-color: #008080; font-weight: bold\">0.019373800605535507</span>\n",
       "</pre>\n"
      ],
      "text/plain": [
       "\u001b[32mExpected Improvement: \u001b[0m\u001b[1;36m0.019456133246421814\u001b[0m\u001b[32m Actual: \u001b[0m\u001b[1;36m0.019373800605535507\u001b[0m\n"
      ]
     },
     "metadata": {},
     "output_type": "display_data"
    },
    {
     "data": {
      "text/html": [
       "<pre style=\"white-space:pre;overflow-x:auto;line-height:normal;font-family:Menlo,'DejaVu Sans Mono',consolas,'Courier New',monospace\"><span style=\"color: #008000; text-decoration-color: #008000\">Accept step at </span><span style=\"color: #808000; text-decoration-color: #808000\">i</span><span style=\"color: #008000; text-decoration-color: #008000\">=</span><span style=\"color: #008080; text-decoration-color: #008080; font-weight: bold\">1</span>\n",
       "</pre>\n"
      ],
      "text/plain": [
       "\u001b[32mAccept step at \u001b[0m\u001b[33mi\u001b[0m\u001b[32m=\u001b[0m\u001b[1;36m1\u001b[0m\n"
      ]
     },
     "metadata": {},
     "output_type": "display_data"
    },
    {
     "data": {
      "text/html": [
       "<pre style=\"white-space:pre;overflow-x:auto;line-height:normal;font-family:Menlo,'DejaVu Sans Mono',consolas,'Courier New',monospace\">┏━━━━━━━━━━━━━━━━━━━━━━━━━━━━━━━━┳━━━━━━━━━━━━━━━━━━━━━━━━┓\n",
       "┃<span style=\"font-weight: bold\"> Metrics                        </span>┃<span style=\"font-weight: bold\"> Value                  </span>┃\n",
       "┡━━━━━━━━━━━━━━━━━━━━━━━━━━━━━━━━╇━━━━━━━━━━━━━━━━━━━━━━━━┩\n",
       "│ Metrics/EpRet                  │ 9.568573951721191      │\n",
       "│ Metrics/EpCost                 │ 110.80000305175781     │\n",
       "│ Metrics/EpLen                  │ 1000.0                 │\n",
       "│ Train/Epoch                    │ 12.0                   │\n",
       "│ Train/Entropy                  │ 1.4036407470703125     │\n",
       "│ Train/KL                       │ 0.0002801540249492973  │\n",
       "│ Train/StopIter                 │ 10.0                   │\n",
       "│ Train/PolicyRatio/Mean         │ 1.000196099281311      │\n",
       "│ Train/PolicyRatio/Min          │ 1.0001962184906006     │\n",
       "│ Train/PolicyRatio/Max          │ 1.0001962184906006     │\n",
       "│ Train/PolicyRatio/Std          │ 0.00013863504864275455 │\n",
       "│ Train/LR                       │ 0.0                    │\n",
       "│ Train/PolicyStd                │ 0.9852250218391418     │\n",
       "│ TotalEnvSteps                  │ 260000.0               │\n",
       "│ Loss/Loss_pi                   │ -0.012915854342281818  │\n",
       "│ Loss/Loss_pi/Delta             │ 0.0010786158964037895  │\n",
       "│ Value/Adv                      │ 1.5258788677030566e-09 │\n",
       "│ Loss/Loss_reward_critic        │ 0.026173586025834084   │\n",
       "│ Loss/Loss_reward_critic/Delta  │ 0.0017786286771297455  │\n",
       "│ Value/reward                   │ 0.7053074240684509     │\n",
       "│ Loss/Loss_cost_critic          │ 1.8125652074813843     │\n",
       "│ Loss/Loss_cost_critic/Delta    │ 0.21595513820648193    │\n",
       "│ Value/cost                     │ 9.29120922088623       │\n",
       "│ Time/Total                     │ 990.7247314453125      │\n",
       "│ Time/Rollout                   │ 57.213260650634766     │\n",
       "│ Time/Update                    │ 13.307975769042969     │\n",
       "│ Time/Epoch                     │ 70.521240234375        │\n",
       "│ Time/FPS                       │ 283.6025085449219      │\n",
       "│ Misc/Alpha                     │ 1.029198169708252      │\n",
       "│ Misc/FinalStepNorm             │ 0.3211767375469208     │\n",
       "│ Misc/gradient_norm             │ 0.07724639028310776    │\n",
       "│ Misc/xHx                       │ 0.018881293013691902   │\n",
       "│ Misc/H_inv_g                   │ 0.3120650053024292     │\n",
       "│ Misc/AcceptanceStep            │ 1.0                    │\n",
       "│ Metrics/LagrangeMultiplier/Mea │ 0.4409598708152771     │\n",
       "│ Metrics/LagrangeMultiplier/Min │ 0.4409598708152771     │\n",
       "│ Metrics/LagrangeMultiplier/Max │ 0.4409598708152771     │\n",
       "│ Metrics/LagrangeMultiplier/Std │ 0.0                    │\n",
       "└────────────────────────────────┴────────────────────────┘\n",
       "</pre>\n"
      ],
      "text/plain": [
       "┏━━━━━━━━━━━━━━━━━━━━━━━━━━━━━━━━┳━━━━━━━━━━━━━━━━━━━━━━━━┓\n",
       "┃\u001b[1m \u001b[0m\u001b[1mMetrics                       \u001b[0m\u001b[1m \u001b[0m┃\u001b[1m \u001b[0m\u001b[1mValue                 \u001b[0m\u001b[1m \u001b[0m┃\n",
       "┡━━━━━━━━━━━━━━━━━━━━━━━━━━━━━━━━╇━━━━━━━━━━━━━━━━━━━━━━━━┩\n",
       "│ Metrics/EpRet                  │ 9.568573951721191      │\n",
       "│ Metrics/EpCost                 │ 110.80000305175781     │\n",
       "│ Metrics/EpLen                  │ 1000.0                 │\n",
       "│ Train/Epoch                    │ 12.0                   │\n",
       "│ Train/Entropy                  │ 1.4036407470703125     │\n",
       "│ Train/KL                       │ 0.0002801540249492973  │\n",
       "│ Train/StopIter                 │ 10.0                   │\n",
       "│ Train/PolicyRatio/Mean         │ 1.000196099281311      │\n",
       "│ Train/PolicyRatio/Min          │ 1.0001962184906006     │\n",
       "│ Train/PolicyRatio/Max          │ 1.0001962184906006     │\n",
       "│ Train/PolicyRatio/Std          │ 0.00013863504864275455 │\n",
       "│ Train/LR                       │ 0.0                    │\n",
       "│ Train/PolicyStd                │ 0.9852250218391418     │\n",
       "│ TotalEnvSteps                  │ 260000.0               │\n",
       "│ Loss/Loss_pi                   │ -0.012915854342281818  │\n",
       "│ Loss/Loss_pi/Delta             │ 0.0010786158964037895  │\n",
       "│ Value/Adv                      │ 1.5258788677030566e-09 │\n",
       "│ Loss/Loss_reward_critic        │ 0.026173586025834084   │\n",
       "│ Loss/Loss_reward_critic/Delta  │ 0.0017786286771297455  │\n",
       "│ Value/reward                   │ 0.7053074240684509     │\n",
       "│ Loss/Loss_cost_critic          │ 1.8125652074813843     │\n",
       "│ Loss/Loss_cost_critic/Delta    │ 0.21595513820648193    │\n",
       "│ Value/cost                     │ 9.29120922088623       │\n",
       "│ Time/Total                     │ 990.7247314453125      │\n",
       "│ Time/Rollout                   │ 57.213260650634766     │\n",
       "│ Time/Update                    │ 13.307975769042969     │\n",
       "│ Time/Epoch                     │ 70.521240234375        │\n",
       "│ Time/FPS                       │ 283.6025085449219      │\n",
       "│ Misc/Alpha                     │ 1.029198169708252      │\n",
       "│ Misc/FinalStepNorm             │ 0.3211767375469208     │\n",
       "│ Misc/gradient_norm             │ 0.07724639028310776    │\n",
       "│ Misc/xHx                       │ 0.018881293013691902   │\n",
       "│ Misc/H_inv_g                   │ 0.3120650053024292     │\n",
       "│ Misc/AcceptanceStep            │ 1.0                    │\n",
       "│ Metrics/LagrangeMultiplier/Mea │ 0.4409598708152771     │\n",
       "│ Metrics/LagrangeMultiplier/Min │ 0.4409598708152771     │\n",
       "│ Metrics/LagrangeMultiplier/Max │ 0.4409598708152771     │\n",
       "│ Metrics/LagrangeMultiplier/Std │ 0.0                    │\n",
       "└────────────────────────────────┴────────────────────────┘\n"
      ]
     },
     "metadata": {},
     "output_type": "display_data"
    },
    {
     "data": {
      "text/html": [
       "<pre style=\"white-space:pre;overflow-x:auto;line-height:normal;font-family:Menlo,'DejaVu Sans Mono',consolas,'Courier New',monospace\"><span style=\"color: #008000; text-decoration-color: #008000\">Warning: trajectory cut off when rollout by epoch at </span><span style=\"color: #008080; text-decoration-color: #008080; font-weight: bold\">1000.0</span><span style=\"color: #008000; text-decoration-color: #008000\"> steps.</span>\n",
       "</pre>\n"
      ],
      "text/plain": [
       "\u001b[32mWarning: trajectory cut off when rollout by epoch at \u001b[0m\u001b[1;36m1000.0\u001b[0m\u001b[32m steps.\u001b[0m\n"
      ]
     },
     "metadata": {},
     "output_type": "display_data"
    },
    {
     "data": {
      "text/html": [
       "<pre style=\"white-space:pre;overflow-x:auto;line-height:normal;font-family:Menlo,'DejaVu Sans Mono',consolas,'Courier New',monospace\"><span style=\"color: #008000; text-decoration-color: #008000\">Warning: trajectory cut off when rollout by epoch at </span><span style=\"color: #008080; text-decoration-color: #008080; font-weight: bold\">1000.0</span><span style=\"color: #008000; text-decoration-color: #008000\"> steps.</span>\n",
       "</pre>\n"
      ],
      "text/plain": [
       "\u001b[32mWarning: trajectory cut off when rollout by epoch at \u001b[0m\u001b[1;36m1000.0\u001b[0m\u001b[32m steps.\u001b[0m\n"
      ]
     },
     "metadata": {},
     "output_type": "display_data"
    },
    {
     "data": {
      "text/html": [
       "<pre style=\"white-space:pre;overflow-x:auto;line-height:normal;font-family:Menlo,'DejaVu Sans Mono',consolas,'Courier New',monospace\"><span style=\"color: #008000; text-decoration-color: #008000\">Warning: trajectory cut off when rollout by epoch at </span><span style=\"color: #008080; text-decoration-color: #008080; font-weight: bold\">1000.0</span><span style=\"color: #008000; text-decoration-color: #008000\"> steps.</span>\n",
       "</pre>\n"
      ],
      "text/plain": [
       "\u001b[32mWarning: trajectory cut off when rollout by epoch at \u001b[0m\u001b[1;36m1000.0\u001b[0m\u001b[32m steps.\u001b[0m\n"
      ]
     },
     "metadata": {},
     "output_type": "display_data"
    },
    {
     "data": {
      "text/html": [
       "<pre style=\"white-space:pre;overflow-x:auto;line-height:normal;font-family:Menlo,'DejaVu Sans Mono',consolas,'Courier New',monospace\"><span style=\"color: #008000; text-decoration-color: #008000\">Warning: trajectory cut off when rollout by epoch at </span><span style=\"color: #008080; text-decoration-color: #008080; font-weight: bold\">1000.0</span><span style=\"color: #008000; text-decoration-color: #008000\"> steps.</span>\n",
       "</pre>\n"
      ],
      "text/plain": [
       "\u001b[32mWarning: trajectory cut off when rollout by epoch at \u001b[0m\u001b[1;36m1000.0\u001b[0m\u001b[32m steps.\u001b[0m\n"
      ]
     },
     "metadata": {},
     "output_type": "display_data"
    },
    {
     "data": {
      "text/html": [
       "<pre style=\"white-space:pre;overflow-x:auto;line-height:normal;font-family:Menlo,'DejaVu Sans Mono',consolas,'Courier New',monospace\"></pre>\n"
      ],
      "text/plain": []
     },
     "metadata": {},
     "output_type": "display_data"
    },
    {
     "data": {
      "text/html": [
       "<pre style=\"white-space:pre;overflow-x:auto;line-height:normal;font-family:Menlo,'DejaVu Sans Mono',consolas,'Courier New',monospace\">\n",
       "</pre>\n"
      ],
      "text/plain": [
       "\n"
      ]
     },
     "metadata": {},
     "output_type": "display_data"
    },
    {
     "data": {
      "text/html": [
       "<pre style=\"white-space:pre;overflow-x:auto;line-height:normal;font-family:Menlo,'DejaVu Sans Mono',consolas,'Courier New',monospace\"><span style=\"color: #008000; text-decoration-color: #008000\">Expected Improvement: </span><span style=\"color: #008080; text-decoration-color: #008080; font-weight: bold\">0.023227129131555557</span><span style=\"color: #008000; text-decoration-color: #008000\"> Actual: </span><span style=\"color: #008080; text-decoration-color: #008080; font-weight: bold\">0.023367127403616905</span>\n",
       "</pre>\n"
      ],
      "text/plain": [
       "\u001b[32mExpected Improvement: \u001b[0m\u001b[1;36m0.023227129131555557\u001b[0m\u001b[32m Actual: \u001b[0m\u001b[1;36m0.023367127403616905\u001b[0m\n"
      ]
     },
     "metadata": {},
     "output_type": "display_data"
    },
    {
     "data": {
      "text/html": [
       "<pre style=\"white-space:pre;overflow-x:auto;line-height:normal;font-family:Menlo,'DejaVu Sans Mono',consolas,'Courier New',monospace\"><span style=\"color: #008000; text-decoration-color: #008000\">Accept step at </span><span style=\"color: #808000; text-decoration-color: #808000\">i</span><span style=\"color: #008000; text-decoration-color: #008000\">=</span><span style=\"color: #008080; text-decoration-color: #008080; font-weight: bold\">1</span>\n",
       "</pre>\n"
      ],
      "text/plain": [
       "\u001b[32mAccept step at \u001b[0m\u001b[33mi\u001b[0m\u001b[32m=\u001b[0m\u001b[1;36m1\u001b[0m\n"
      ]
     },
     "metadata": {},
     "output_type": "display_data"
    },
    {
     "data": {
      "text/html": [
       "<pre style=\"white-space:pre;overflow-x:auto;line-height:normal;font-family:Menlo,'DejaVu Sans Mono',consolas,'Courier New',monospace\">┏━━━━━━━━━━━━━━━━━━━━━━━━━━━━━━━━┳━━━━━━━━━━━━━━━━━━━━━━━━┓\n",
       "┃<span style=\"font-weight: bold\"> Metrics                        </span>┃<span style=\"font-weight: bold\"> Value                  </span>┃\n",
       "┡━━━━━━━━━━━━━━━━━━━━━━━━━━━━━━━━╇━━━━━━━━━━━━━━━━━━━━━━━━┩\n",
       "│ Metrics/EpRet                  │ 9.981497764587402      │\n",
       "│ Metrics/EpCost                 │ 108.4800033569336      │\n",
       "│ Metrics/EpLen                  │ 1000.0                 │\n",
       "│ Train/Epoch                    │ 13.0                   │\n",
       "│ Train/Entropy                  │ 1.4073152542114258     │\n",
       "│ Train/KL                       │ 0.00026630234788171947 │\n",
       "│ Train/StopIter                 │ 10.0                   │\n",
       "│ Train/PolicyRatio/Mean         │ 1.0000944137573242     │\n",
       "│ Train/PolicyRatio/Min          │ 1.0000944137573242     │\n",
       "│ Train/PolicyRatio/Max          │ 1.0000944137573242     │\n",
       "│ Train/PolicyRatio/Std          │ 6.676060729660094e-05  │\n",
       "│ Train/LR                       │ 0.0                    │\n",
       "│ Train/PolicyStd                │ 0.9888227581977844     │\n",
       "│ TotalEnvSteps                  │ 280000.0               │\n",
       "│ Loss/Loss_pi                   │ -0.015578080900013447  │\n",
       "│ Loss/Loss_pi/Delta             │ -0.0026622265577316284 │\n",
       "│ Value/Adv                      │ 1.1444091896350983e-08 │\n",
       "│ Loss/Loss_reward_critic        │ 0.03548804298043251    │\n",
       "│ Loss/Loss_reward_critic/Delta  │ 0.009314456954598427   │\n",
       "│ Value/reward                   │ 0.8354709148406982     │\n",
       "│ Loss/Loss_cost_critic          │ 1.6519051790237427     │\n",
       "│ Loss/Loss_cost_critic/Delta    │ -0.1606600284576416    │\n",
       "│ Value/cost                     │ 10.198222160339355     │\n",
       "│ Time/Total                     │ 1074.449462890625      │\n",
       "│ Time/Rollout                   │ 70.13703155517578      │\n",
       "│ Time/Update                    │ 13.540452003479004     │\n",
       "│ Time/Epoch                     │ 83.67748260498047      │\n",
       "│ Time/FPS                       │ 239.01292419433594     │\n",
       "│ Misc/Alpha                     │ 0.8618573546409607     │\n",
       "│ Misc/FinalStepNorm             │ 0.314968079328537      │\n",
       "│ Misc/gradient_norm             │ 0.09943154454231262    │\n",
       "│ Misc/xHx                       │ 0.026925204321742058   │\n",
       "│ Misc/H_inv_g                   │ 0.36545267701148987    │\n",
       "│ Misc/AcceptanceStep            │ 1.0                    │\n",
       "│ Metrics/LagrangeMultiplier/Mea │ 0.47301626205444336    │\n",
       "│ Metrics/LagrangeMultiplier/Min │ 0.47301626205444336    │\n",
       "│ Metrics/LagrangeMultiplier/Max │ 0.47301626205444336    │\n",
       "│ Metrics/LagrangeMultiplier/Std │ 0.0                    │\n",
       "└────────────────────────────────┴────────────────────────┘\n",
       "</pre>\n"
      ],
      "text/plain": [
       "┏━━━━━━━━━━━━━━━━━━━━━━━━━━━━━━━━┳━━━━━━━━━━━━━━━━━━━━━━━━┓\n",
       "┃\u001b[1m \u001b[0m\u001b[1mMetrics                       \u001b[0m\u001b[1m \u001b[0m┃\u001b[1m \u001b[0m\u001b[1mValue                 \u001b[0m\u001b[1m \u001b[0m┃\n",
       "┡━━━━━━━━━━━━━━━━━━━━━━━━━━━━━━━━╇━━━━━━━━━━━━━━━━━━━━━━━━┩\n",
       "│ Metrics/EpRet                  │ 9.981497764587402      │\n",
       "│ Metrics/EpCost                 │ 108.4800033569336      │\n",
       "│ Metrics/EpLen                  │ 1000.0                 │\n",
       "│ Train/Epoch                    │ 13.0                   │\n",
       "│ Train/Entropy                  │ 1.4073152542114258     │\n",
       "│ Train/KL                       │ 0.00026630234788171947 │\n",
       "│ Train/StopIter                 │ 10.0                   │\n",
       "│ Train/PolicyRatio/Mean         │ 1.0000944137573242     │\n",
       "│ Train/PolicyRatio/Min          │ 1.0000944137573242     │\n",
       "│ Train/PolicyRatio/Max          │ 1.0000944137573242     │\n",
       "│ Train/PolicyRatio/Std          │ 6.676060729660094e-05  │\n",
       "│ Train/LR                       │ 0.0                    │\n",
       "│ Train/PolicyStd                │ 0.9888227581977844     │\n",
       "│ TotalEnvSteps                  │ 280000.0               │\n",
       "│ Loss/Loss_pi                   │ -0.015578080900013447  │\n",
       "│ Loss/Loss_pi/Delta             │ -0.0026622265577316284 │\n",
       "│ Value/Adv                      │ 1.1444091896350983e-08 │\n",
       "│ Loss/Loss_reward_critic        │ 0.03548804298043251    │\n",
       "│ Loss/Loss_reward_critic/Delta  │ 0.009314456954598427   │\n",
       "│ Value/reward                   │ 0.8354709148406982     │\n",
       "│ Loss/Loss_cost_critic          │ 1.6519051790237427     │\n",
       "│ Loss/Loss_cost_critic/Delta    │ -0.1606600284576416    │\n",
       "│ Value/cost                     │ 10.198222160339355     │\n",
       "│ Time/Total                     │ 1074.449462890625      │\n",
       "│ Time/Rollout                   │ 70.13703155517578      │\n",
       "│ Time/Update                    │ 13.540452003479004     │\n",
       "│ Time/Epoch                     │ 83.67748260498047      │\n",
       "│ Time/FPS                       │ 239.01292419433594     │\n",
       "│ Misc/Alpha                     │ 0.8618573546409607     │\n",
       "│ Misc/FinalStepNorm             │ 0.314968079328537      │\n",
       "│ Misc/gradient_norm             │ 0.09943154454231262    │\n",
       "│ Misc/xHx                       │ 0.026925204321742058   │\n",
       "│ Misc/H_inv_g                   │ 0.36545267701148987    │\n",
       "│ Misc/AcceptanceStep            │ 1.0                    │\n",
       "│ Metrics/LagrangeMultiplier/Mea │ 0.47301626205444336    │\n",
       "│ Metrics/LagrangeMultiplier/Min │ 0.47301626205444336    │\n",
       "│ Metrics/LagrangeMultiplier/Max │ 0.47301626205444336    │\n",
       "│ Metrics/LagrangeMultiplier/Std │ 0.0                    │\n",
       "└────────────────────────────────┴────────────────────────┘\n"
      ]
     },
     "metadata": {},
     "output_type": "display_data"
    },
    {
     "data": {
      "text/html": [
       "<pre style=\"white-space:pre;overflow-x:auto;line-height:normal;font-family:Menlo,'DejaVu Sans Mono',consolas,'Courier New',monospace\"><span style=\"color: #008000; text-decoration-color: #008000\">Warning: trajectory cut off when rollout by epoch at </span><span style=\"color: #008080; text-decoration-color: #008080; font-weight: bold\">1000.0</span><span style=\"color: #008000; text-decoration-color: #008000\"> steps.</span>\n",
       "</pre>\n"
      ],
      "text/plain": [
       "\u001b[32mWarning: trajectory cut off when rollout by epoch at \u001b[0m\u001b[1;36m1000.0\u001b[0m\u001b[32m steps.\u001b[0m\n"
      ]
     },
     "metadata": {},
     "output_type": "display_data"
    },
    {
     "data": {
      "text/html": [
       "<pre style=\"white-space:pre;overflow-x:auto;line-height:normal;font-family:Menlo,'DejaVu Sans Mono',consolas,'Courier New',monospace\"><span style=\"color: #008000; text-decoration-color: #008000\">Warning: trajectory cut off when rollout by epoch at </span><span style=\"color: #008080; text-decoration-color: #008080; font-weight: bold\">1000.0</span><span style=\"color: #008000; text-decoration-color: #008000\"> steps.</span>\n",
       "</pre>\n"
      ],
      "text/plain": [
       "\u001b[32mWarning: trajectory cut off when rollout by epoch at \u001b[0m\u001b[1;36m1000.0\u001b[0m\u001b[32m steps.\u001b[0m\n"
      ]
     },
     "metadata": {},
     "output_type": "display_data"
    },
    {
     "data": {
      "text/html": [
       "<pre style=\"white-space:pre;overflow-x:auto;line-height:normal;font-family:Menlo,'DejaVu Sans Mono',consolas,'Courier New',monospace\"><span style=\"color: #008000; text-decoration-color: #008000\">Warning: trajectory cut off when rollout by epoch at </span><span style=\"color: #008080; text-decoration-color: #008080; font-weight: bold\">1000.0</span><span style=\"color: #008000; text-decoration-color: #008000\"> steps.</span>\n",
       "</pre>\n"
      ],
      "text/plain": [
       "\u001b[32mWarning: trajectory cut off when rollout by epoch at \u001b[0m\u001b[1;36m1000.0\u001b[0m\u001b[32m steps.\u001b[0m\n"
      ]
     },
     "metadata": {},
     "output_type": "display_data"
    },
    {
     "data": {
      "text/html": [
       "<pre style=\"white-space:pre;overflow-x:auto;line-height:normal;font-family:Menlo,'DejaVu Sans Mono',consolas,'Courier New',monospace\"><span style=\"color: #008000; text-decoration-color: #008000\">Warning: trajectory cut off when rollout by epoch at </span><span style=\"color: #008080; text-decoration-color: #008080; font-weight: bold\">1000.0</span><span style=\"color: #008000; text-decoration-color: #008000\"> steps.</span>\n",
       "</pre>\n"
      ],
      "text/plain": [
       "\u001b[32mWarning: trajectory cut off when rollout by epoch at \u001b[0m\u001b[1;36m1000.0\u001b[0m\u001b[32m steps.\u001b[0m\n"
      ]
     },
     "metadata": {},
     "output_type": "display_data"
    },
    {
     "data": {
      "text/html": [
       "<pre style=\"white-space:pre;overflow-x:auto;line-height:normal;font-family:Menlo,'DejaVu Sans Mono',consolas,'Courier New',monospace\"></pre>\n"
      ],
      "text/plain": []
     },
     "metadata": {},
     "output_type": "display_data"
    },
    {
     "data": {
      "text/html": [
       "<pre style=\"white-space:pre;overflow-x:auto;line-height:normal;font-family:Menlo,'DejaVu Sans Mono',consolas,'Courier New',monospace\">\n",
       "</pre>\n"
      ],
      "text/plain": [
       "\n"
      ]
     },
     "metadata": {},
     "output_type": "display_data"
    },
    {
     "data": {
      "text/html": [
       "<pre style=\"white-space:pre;overflow-x:auto;line-height:normal;font-family:Menlo,'DejaVu Sans Mono',consolas,'Courier New',monospace\"><span style=\"color: #008000; text-decoration-color: #008000\">Expected Improvement: </span><span style=\"color: #008080; text-decoration-color: #008080; font-weight: bold\">0.022888746112585068</span><span style=\"color: #008000; text-decoration-color: #008000\"> Actual: </span><span style=\"color: #008080; text-decoration-color: #008080; font-weight: bold\">0.022741232067346573</span>\n",
       "</pre>\n"
      ],
      "text/plain": [
       "\u001b[32mExpected Improvement: \u001b[0m\u001b[1;36m0.022888746112585068\u001b[0m\u001b[32m Actual: \u001b[0m\u001b[1;36m0.022741232067346573\u001b[0m\n"
      ]
     },
     "metadata": {},
     "output_type": "display_data"
    },
    {
     "data": {
      "text/html": [
       "<pre style=\"white-space:pre;overflow-x:auto;line-height:normal;font-family:Menlo,'DejaVu Sans Mono',consolas,'Courier New',monospace\"><span style=\"color: #008000; text-decoration-color: #008000\">Accept step at </span><span style=\"color: #808000; text-decoration-color: #808000\">i</span><span style=\"color: #008000; text-decoration-color: #008000\">=</span><span style=\"color: #008080; text-decoration-color: #008080; font-weight: bold\">1</span>\n",
       "</pre>\n"
      ],
      "text/plain": [
       "\u001b[32mAccept step at \u001b[0m\u001b[33mi\u001b[0m\u001b[32m=\u001b[0m\u001b[1;36m1\u001b[0m\n"
      ]
     },
     "metadata": {},
     "output_type": "display_data"
    },
    {
     "data": {
      "text/html": [
       "<pre style=\"white-space:pre;overflow-x:auto;line-height:normal;font-family:Menlo,'DejaVu Sans Mono',consolas,'Courier New',monospace\">┏━━━━━━━━━━━━━━━━━━━━━━━━━━━━━━━━┳━━━━━━━━━━━━━━━━━━━━━━━━┓\n",
       "┃<span style=\"font-weight: bold\"> Metrics                        </span>┃<span style=\"font-weight: bold\"> Value                  </span>┃\n",
       "┡━━━━━━━━━━━━━━━━━━━━━━━━━━━━━━━━╇━━━━━━━━━━━━━━━━━━━━━━━━┩\n",
       "│ Metrics/EpRet                  │ 11.269333839416504     │\n",
       "│ Metrics/EpCost                 │ 110.77999877929688     │\n",
       "│ Metrics/EpLen                  │ 1000.0                 │\n",
       "│ Train/Epoch                    │ 14.0                   │\n",
       "│ Train/Entropy                  │ 1.40084707736969       │\n",
       "│ Train/KL                       │ 0.0003008669300470501  │\n",
       "│ Train/StopIter                 │ 10.0                   │\n",
       "│ Train/PolicyRatio/Mean         │ 1.0000896453857422     │\n",
       "│ Train/PolicyRatio/Min          │ 1.0000896453857422     │\n",
       "│ Train/PolicyRatio/Max          │ 1.0000896453857422     │\n",
       "│ Train/PolicyRatio/Std          │ 6.344510620692745e-05  │\n",
       "│ Train/LR                       │ 0.0                    │\n",
       "│ Train/PolicyStd                │ 0.9824727177619934     │\n",
       "│ TotalEnvSteps                  │ 300000.0               │\n",
       "│ Loss/Loss_pi                   │ -0.01516083162277937   │\n",
       "│ Loss/Loss_pi/Delta             │ 0.00041724927723407745 │\n",
       "│ Value/Adv                      │ 7.629394005448376e-09  │\n",
       "│ Loss/Loss_reward_critic        │ 0.038130007684230804   │\n",
       "│ Loss/Loss_reward_critic/Delta  │ 0.002641964703798294   │\n",
       "│ Value/reward                   │ 0.921994149684906      │\n",
       "│ Loss/Loss_cost_critic          │ 1.972760796546936      │\n",
       "│ Loss/Loss_cost_critic/Delta    │ 0.32085561752319336    │\n",
       "│ Value/cost                     │ 10.843914985656738     │\n",
       "│ Time/Total                     │ 1158.766357421875      │\n",
       "│ Time/Rollout                   │ 70.7557144165039       │\n",
       "│ Time/Update                    │ 13.52640438079834      │\n",
       "│ Time/Epoch                     │ 84.28211975097656      │\n",
       "│ Time/FPS                       │ 237.29824829101562     │\n",
       "│ Misc/Alpha                     │ 0.8745824694633484     │\n",
       "│ Misc/FinalStepNorm             │ 0.312508225440979      │\n",
       "│ Misc/gradient_norm             │ 0.11657915264368057    │\n",
       "│ Misc/xHx                       │ 0.02614738419651985    │\n",
       "│ Misc/H_inv_g                   │ 0.3573227524757385     │\n",
       "│ Misc/AcceptanceStep            │ 1.0                    │\n",
       "│ Metrics/LagrangeMultiplier/Mea │ 0.5050570964813232     │\n",
       "│ Metrics/LagrangeMultiplier/Min │ 0.5050570964813232     │\n",
       "│ Metrics/LagrangeMultiplier/Max │ 0.5050570964813232     │\n",
       "│ Metrics/LagrangeMultiplier/Std │ 0.0                    │\n",
       "└────────────────────────────────┴────────────────────────┘\n",
       "</pre>\n"
      ],
      "text/plain": [
       "┏━━━━━━━━━━━━━━━━━━━━━━━━━━━━━━━━┳━━━━━━━━━━━━━━━━━━━━━━━━┓\n",
       "┃\u001b[1m \u001b[0m\u001b[1mMetrics                       \u001b[0m\u001b[1m \u001b[0m┃\u001b[1m \u001b[0m\u001b[1mValue                 \u001b[0m\u001b[1m \u001b[0m┃\n",
       "┡━━━━━━━━━━━━━━━━━━━━━━━━━━━━━━━━╇━━━━━━━━━━━━━━━━━━━━━━━━┩\n",
       "│ Metrics/EpRet                  │ 11.269333839416504     │\n",
       "│ Metrics/EpCost                 │ 110.77999877929688     │\n",
       "│ Metrics/EpLen                  │ 1000.0                 │\n",
       "│ Train/Epoch                    │ 14.0                   │\n",
       "│ Train/Entropy                  │ 1.40084707736969       │\n",
       "│ Train/KL                       │ 0.0003008669300470501  │\n",
       "│ Train/StopIter                 │ 10.0                   │\n",
       "│ Train/PolicyRatio/Mean         │ 1.0000896453857422     │\n",
       "│ Train/PolicyRatio/Min          │ 1.0000896453857422     │\n",
       "│ Train/PolicyRatio/Max          │ 1.0000896453857422     │\n",
       "│ Train/PolicyRatio/Std          │ 6.344510620692745e-05  │\n",
       "│ Train/LR                       │ 0.0                    │\n",
       "│ Train/PolicyStd                │ 0.9824727177619934     │\n",
       "│ TotalEnvSteps                  │ 300000.0               │\n",
       "│ Loss/Loss_pi                   │ -0.01516083162277937   │\n",
       "│ Loss/Loss_pi/Delta             │ 0.00041724927723407745 │\n",
       "│ Value/Adv                      │ 7.629394005448376e-09  │\n",
       "│ Loss/Loss_reward_critic        │ 0.038130007684230804   │\n",
       "│ Loss/Loss_reward_critic/Delta  │ 0.002641964703798294   │\n",
       "│ Value/reward                   │ 0.921994149684906      │\n",
       "│ Loss/Loss_cost_critic          │ 1.972760796546936      │\n",
       "│ Loss/Loss_cost_critic/Delta    │ 0.32085561752319336    │\n",
       "│ Value/cost                     │ 10.843914985656738     │\n",
       "│ Time/Total                     │ 1158.766357421875      │\n",
       "│ Time/Rollout                   │ 70.7557144165039       │\n",
       "│ Time/Update                    │ 13.52640438079834      │\n",
       "│ Time/Epoch                     │ 84.28211975097656      │\n",
       "│ Time/FPS                       │ 237.29824829101562     │\n",
       "│ Misc/Alpha                     │ 0.8745824694633484     │\n",
       "│ Misc/FinalStepNorm             │ 0.312508225440979      │\n",
       "│ Misc/gradient_norm             │ 0.11657915264368057    │\n",
       "│ Misc/xHx                       │ 0.02614738419651985    │\n",
       "│ Misc/H_inv_g                   │ 0.3573227524757385     │\n",
       "│ Misc/AcceptanceStep            │ 1.0                    │\n",
       "│ Metrics/LagrangeMultiplier/Mea │ 0.5050570964813232     │\n",
       "│ Metrics/LagrangeMultiplier/Min │ 0.5050570964813232     │\n",
       "│ Metrics/LagrangeMultiplier/Max │ 0.5050570964813232     │\n",
       "│ Metrics/LagrangeMultiplier/Std │ 0.0                    │\n",
       "└────────────────────────────────┴────────────────────────┘\n"
      ]
     },
     "metadata": {},
     "output_type": "display_data"
    },
    {
     "data": {
      "text/html": [
       "<pre style=\"white-space:pre;overflow-x:auto;line-height:normal;font-family:Menlo,'DejaVu Sans Mono',consolas,'Courier New',monospace\"><span style=\"color: #008000; text-decoration-color: #008000\">Warning: trajectory cut off when rollout by epoch at </span><span style=\"color: #008080; text-decoration-color: #008080; font-weight: bold\">1000.0</span><span style=\"color: #008000; text-decoration-color: #008000\"> steps.</span>\n",
       "</pre>\n"
      ],
      "text/plain": [
       "\u001b[32mWarning: trajectory cut off when rollout by epoch at \u001b[0m\u001b[1;36m1000.0\u001b[0m\u001b[32m steps.\u001b[0m\n"
      ]
     },
     "metadata": {},
     "output_type": "display_data"
    },
    {
     "data": {
      "text/html": [
       "<pre style=\"white-space:pre;overflow-x:auto;line-height:normal;font-family:Menlo,'DejaVu Sans Mono',consolas,'Courier New',monospace\"><span style=\"color: #008000; text-decoration-color: #008000\">Warning: trajectory cut off when rollout by epoch at </span><span style=\"color: #008080; text-decoration-color: #008080; font-weight: bold\">1000.0</span><span style=\"color: #008000; text-decoration-color: #008000\"> steps.</span>\n",
       "</pre>\n"
      ],
      "text/plain": [
       "\u001b[32mWarning: trajectory cut off when rollout by epoch at \u001b[0m\u001b[1;36m1000.0\u001b[0m\u001b[32m steps.\u001b[0m\n"
      ]
     },
     "metadata": {},
     "output_type": "display_data"
    },
    {
     "data": {
      "text/html": [
       "<pre style=\"white-space:pre;overflow-x:auto;line-height:normal;font-family:Menlo,'DejaVu Sans Mono',consolas,'Courier New',monospace\"><span style=\"color: #008000; text-decoration-color: #008000\">Warning: trajectory cut off when rollout by epoch at </span><span style=\"color: #008080; text-decoration-color: #008080; font-weight: bold\">1000.0</span><span style=\"color: #008000; text-decoration-color: #008000\"> steps.</span>\n",
       "</pre>\n"
      ],
      "text/plain": [
       "\u001b[32mWarning: trajectory cut off when rollout by epoch at \u001b[0m\u001b[1;36m1000.0\u001b[0m\u001b[32m steps.\u001b[0m\n"
      ]
     },
     "metadata": {},
     "output_type": "display_data"
    },
    {
     "data": {
      "text/html": [
       "<pre style=\"white-space:pre;overflow-x:auto;line-height:normal;font-family:Menlo,'DejaVu Sans Mono',consolas,'Courier New',monospace\"><span style=\"color: #008000; text-decoration-color: #008000\">Warning: trajectory cut off when rollout by epoch at </span><span style=\"color: #008080; text-decoration-color: #008080; font-weight: bold\">1000.0</span><span style=\"color: #008000; text-decoration-color: #008000\"> steps.</span>\n",
       "</pre>\n"
      ],
      "text/plain": [
       "\u001b[32mWarning: trajectory cut off when rollout by epoch at \u001b[0m\u001b[1;36m1000.0\u001b[0m\u001b[32m steps.\u001b[0m\n"
      ]
     },
     "metadata": {},
     "output_type": "display_data"
    },
    {
     "data": {
      "text/html": [
       "<pre style=\"white-space:pre;overflow-x:auto;line-height:normal;font-family:Menlo,'DejaVu Sans Mono',consolas,'Courier New',monospace\"></pre>\n"
      ],
      "text/plain": []
     },
     "metadata": {},
     "output_type": "display_data"
    },
    {
     "data": {
      "text/html": [
       "<pre style=\"white-space:pre;overflow-x:auto;line-height:normal;font-family:Menlo,'DejaVu Sans Mono',consolas,'Courier New',monospace\">\n",
       "</pre>\n"
      ],
      "text/plain": [
       "\n"
      ]
     },
     "metadata": {},
     "output_type": "display_data"
    },
    {
     "data": {
      "text/html": [
       "<pre style=\"white-space:pre;overflow-x:auto;line-height:normal;font-family:Menlo,'DejaVu Sans Mono',consolas,'Courier New',monospace\"><span style=\"color: #008000; text-decoration-color: #008000\">Expected Improvement: </span><span style=\"color: #008080; text-decoration-color: #008080; font-weight: bold\">0.02357233688235283</span><span style=\"color: #008000; text-decoration-color: #008000\"> Actual: </span><span style=\"color: #008080; text-decoration-color: #008080; font-weight: bold\">0.023593898862600327</span>\n",
       "</pre>\n"
      ],
      "text/plain": [
       "\u001b[32mExpected Improvement: \u001b[0m\u001b[1;36m0.02357233688235283\u001b[0m\u001b[32m Actual: \u001b[0m\u001b[1;36m0.023593898862600327\u001b[0m\n"
      ]
     },
     "metadata": {},
     "output_type": "display_data"
    },
    {
     "data": {
      "text/html": [
       "<pre style=\"white-space:pre;overflow-x:auto;line-height:normal;font-family:Menlo,'DejaVu Sans Mono',consolas,'Courier New',monospace\"><span style=\"color: #008000; text-decoration-color: #008000\">Accept step at </span><span style=\"color: #808000; text-decoration-color: #808000\">i</span><span style=\"color: #008000; text-decoration-color: #008000\">=</span><span style=\"color: #008080; text-decoration-color: #008080; font-weight: bold\">1</span>\n",
       "</pre>\n"
      ],
      "text/plain": [
       "\u001b[32mAccept step at \u001b[0m\u001b[33mi\u001b[0m\u001b[32m=\u001b[0m\u001b[1;36m1\u001b[0m\n"
      ]
     },
     "metadata": {},
     "output_type": "display_data"
    },
    {
     "data": {
      "text/html": [
       "<pre style=\"white-space:pre;overflow-x:auto;line-height:normal;font-family:Menlo,'DejaVu Sans Mono',consolas,'Courier New',monospace\">┏━━━━━━━━━━━━━━━━━━━━━━━━━━━━━━━━┳━━━━━━━━━━━━━━━━━━━━━━━━┓\n",
       "┃<span style=\"font-weight: bold\"> Metrics                        </span>┃<span style=\"font-weight: bold\"> Value                  </span>┃\n",
       "┡━━━━━━━━━━━━━━━━━━━━━━━━━━━━━━━━╇━━━━━━━━━━━━━━━━━━━━━━━━┩\n",
       "│ Metrics/EpRet                  │ 10.625168800354004     │\n",
       "│ Metrics/EpCost                 │ 112.63999938964844     │\n",
       "│ Metrics/EpLen                  │ 1000.0                 │\n",
       "│ Train/Epoch                    │ 15.0                   │\n",
       "│ Train/Entropy                  │ 1.3936105966567993     │\n",
       "│ Train/KL                       │ 0.00028194126207381487 │\n",
       "│ Train/StopIter                 │ 10.0                   │\n",
       "│ Train/PolicyRatio/Mean         │ 1.0009452104568481     │\n",
       "│ Train/PolicyRatio/Min          │ 1.0009453296661377     │\n",
       "│ Train/PolicyRatio/Max          │ 1.0009453296661377     │\n",
       "│ Train/PolicyRatio/Std          │ 0.0006683928077109158  │\n",
       "│ Train/LR                       │ 0.0                    │\n",
       "│ Train/PolicyStd                │ 0.9753036499023438     │\n",
       "│ TotalEnvSteps                  │ 320000.0               │\n",
       "│ Loss/Loss_pi                   │ -0.0157292690128088    │\n",
       "│ Loss/Loss_pi/Delta             │ -0.0005684373900294304 │\n",
       "│ Value/Adv                      │ 2.2888182460434336e-09 │\n",
       "│ Loss/Loss_reward_critic        │ 0.028636805713176727   │\n",
       "│ Loss/Loss_reward_critic/Delta  │ -0.009493201971054077  │\n",
       "│ Value/reward                   │ 0.8302233219146729     │\n",
       "│ Loss/Loss_cost_critic          │ 1.7222557067871094     │\n",
       "│ Loss/Loss_cost_critic/Delta    │ -0.25050508975982666   │\n",
       "│ Value/cost                     │ 10.49641227722168      │\n",
       "│ Time/Total                     │ 1243.3948974609375     │\n",
       "│ Time/Rollout                   │ 70.50841522216797      │\n",
       "│ Time/Update                    │ 14.080680847167969     │\n",
       "│ Time/Epoch                     │ 84.58909606933594      │\n",
       "│ Time/FPS                       │ 236.4370880126953      │\n",
       "│ Misc/Alpha                     │ 0.849179208278656      │\n",
       "│ Misc/FinalStepNorm             │ 0.3200283646583557     │\n",
       "│ Misc/gradient_norm             │ 0.1030283123254776     │\n",
       "│ Misc/xHx                       │ 0.027735192328691483   │\n",
       "│ Misc/H_inv_g                   │ 0.3768678903579712     │\n",
       "│ Misc/AcceptanceStep            │ 1.0                    │\n",
       "│ Metrics/LagrangeMultiplier/Mea │ 0.5371418595314026     │\n",
       "│ Metrics/LagrangeMultiplier/Min │ 0.5371418595314026     │\n",
       "│ Metrics/LagrangeMultiplier/Max │ 0.5371418595314026     │\n",
       "│ Metrics/LagrangeMultiplier/Std │ 0.0                    │\n",
       "└────────────────────────────────┴────────────────────────┘\n",
       "</pre>\n"
      ],
      "text/plain": [
       "┏━━━━━━━━━━━━━━━━━━━━━━━━━━━━━━━━┳━━━━━━━━━━━━━━━━━━━━━━━━┓\n",
       "┃\u001b[1m \u001b[0m\u001b[1mMetrics                       \u001b[0m\u001b[1m \u001b[0m┃\u001b[1m \u001b[0m\u001b[1mValue                 \u001b[0m\u001b[1m \u001b[0m┃\n",
       "┡━━━━━━━━━━━━━━━━━━━━━━━━━━━━━━━━╇━━━━━━━━━━━━━━━━━━━━━━━━┩\n",
       "│ Metrics/EpRet                  │ 10.625168800354004     │\n",
       "│ Metrics/EpCost                 │ 112.63999938964844     │\n",
       "│ Metrics/EpLen                  │ 1000.0                 │\n",
       "│ Train/Epoch                    │ 15.0                   │\n",
       "│ Train/Entropy                  │ 1.3936105966567993     │\n",
       "│ Train/KL                       │ 0.00028194126207381487 │\n",
       "│ Train/StopIter                 │ 10.0                   │\n",
       "│ Train/PolicyRatio/Mean         │ 1.0009452104568481     │\n",
       "│ Train/PolicyRatio/Min          │ 1.0009453296661377     │\n",
       "│ Train/PolicyRatio/Max          │ 1.0009453296661377     │\n",
       "│ Train/PolicyRatio/Std          │ 0.0006683928077109158  │\n",
       "│ Train/LR                       │ 0.0                    │\n",
       "│ Train/PolicyStd                │ 0.9753036499023438     │\n",
       "│ TotalEnvSteps                  │ 320000.0               │\n",
       "│ Loss/Loss_pi                   │ -0.0157292690128088    │\n",
       "│ Loss/Loss_pi/Delta             │ -0.0005684373900294304 │\n",
       "│ Value/Adv                      │ 2.2888182460434336e-09 │\n",
       "│ Loss/Loss_reward_critic        │ 0.028636805713176727   │\n",
       "│ Loss/Loss_reward_critic/Delta  │ -0.009493201971054077  │\n",
       "│ Value/reward                   │ 0.8302233219146729     │\n",
       "│ Loss/Loss_cost_critic          │ 1.7222557067871094     │\n",
       "│ Loss/Loss_cost_critic/Delta    │ -0.25050508975982666   │\n",
       "│ Value/cost                     │ 10.49641227722168      │\n",
       "│ Time/Total                     │ 1243.3948974609375     │\n",
       "│ Time/Rollout                   │ 70.50841522216797      │\n",
       "│ Time/Update                    │ 14.080680847167969     │\n",
       "│ Time/Epoch                     │ 84.58909606933594      │\n",
       "│ Time/FPS                       │ 236.4370880126953      │\n",
       "│ Misc/Alpha                     │ 0.849179208278656      │\n",
       "│ Misc/FinalStepNorm             │ 0.3200283646583557     │\n",
       "│ Misc/gradient_norm             │ 0.1030283123254776     │\n",
       "│ Misc/xHx                       │ 0.027735192328691483   │\n",
       "│ Misc/H_inv_g                   │ 0.3768678903579712     │\n",
       "│ Misc/AcceptanceStep            │ 1.0                    │\n",
       "│ Metrics/LagrangeMultiplier/Mea │ 0.5371418595314026     │\n",
       "│ Metrics/LagrangeMultiplier/Min │ 0.5371418595314026     │\n",
       "│ Metrics/LagrangeMultiplier/Max │ 0.5371418595314026     │\n",
       "│ Metrics/LagrangeMultiplier/Std │ 0.0                    │\n",
       "└────────────────────────────────┴────────────────────────┘\n"
      ]
     },
     "metadata": {},
     "output_type": "display_data"
    },
    {
     "data": {
      "text/html": [
       "<pre style=\"white-space:pre;overflow-x:auto;line-height:normal;font-family:Menlo,'DejaVu Sans Mono',consolas,'Courier New',monospace\"><span style=\"color: #008000; text-decoration-color: #008000\">Warning: trajectory cut off when rollout by epoch at </span><span style=\"color: #008080; text-decoration-color: #008080; font-weight: bold\">1000.0</span><span style=\"color: #008000; text-decoration-color: #008000\"> steps.</span>\n",
       "</pre>\n"
      ],
      "text/plain": [
       "\u001b[32mWarning: trajectory cut off when rollout by epoch at \u001b[0m\u001b[1;36m1000.0\u001b[0m\u001b[32m steps.\u001b[0m\n"
      ]
     },
     "metadata": {},
     "output_type": "display_data"
    },
    {
     "data": {
      "text/html": [
       "<pre style=\"white-space:pre;overflow-x:auto;line-height:normal;font-family:Menlo,'DejaVu Sans Mono',consolas,'Courier New',monospace\"><span style=\"color: #008000; text-decoration-color: #008000\">Warning: trajectory cut off when rollout by epoch at </span><span style=\"color: #008080; text-decoration-color: #008080; font-weight: bold\">1000.0</span><span style=\"color: #008000; text-decoration-color: #008000\"> steps.</span>\n",
       "</pre>\n"
      ],
      "text/plain": [
       "\u001b[32mWarning: trajectory cut off when rollout by epoch at \u001b[0m\u001b[1;36m1000.0\u001b[0m\u001b[32m steps.\u001b[0m\n"
      ]
     },
     "metadata": {},
     "output_type": "display_data"
    },
    {
     "data": {
      "text/html": [
       "<pre style=\"white-space:pre;overflow-x:auto;line-height:normal;font-family:Menlo,'DejaVu Sans Mono',consolas,'Courier New',monospace\"><span style=\"color: #008000; text-decoration-color: #008000\">Warning: trajectory cut off when rollout by epoch at </span><span style=\"color: #008080; text-decoration-color: #008080; font-weight: bold\">1000.0</span><span style=\"color: #008000; text-decoration-color: #008000\"> steps.</span>\n",
       "</pre>\n"
      ],
      "text/plain": [
       "\u001b[32mWarning: trajectory cut off when rollout by epoch at \u001b[0m\u001b[1;36m1000.0\u001b[0m\u001b[32m steps.\u001b[0m\n"
      ]
     },
     "metadata": {},
     "output_type": "display_data"
    },
    {
     "data": {
      "text/html": [
       "<pre style=\"white-space:pre;overflow-x:auto;line-height:normal;font-family:Menlo,'DejaVu Sans Mono',consolas,'Courier New',monospace\"><span style=\"color: #008000; text-decoration-color: #008000\">Warning: trajectory cut off when rollout by epoch at </span><span style=\"color: #008080; text-decoration-color: #008080; font-weight: bold\">1000.0</span><span style=\"color: #008000; text-decoration-color: #008000\"> steps.</span>\n",
       "</pre>\n"
      ],
      "text/plain": [
       "\u001b[32mWarning: trajectory cut off when rollout by epoch at \u001b[0m\u001b[1;36m1000.0\u001b[0m\u001b[32m steps.\u001b[0m\n"
      ]
     },
     "metadata": {},
     "output_type": "display_data"
    },
    {
     "data": {
      "text/html": [
       "<pre style=\"white-space:pre;overflow-x:auto;line-height:normal;font-family:Menlo,'DejaVu Sans Mono',consolas,'Courier New',monospace\"></pre>\n"
      ],
      "text/plain": []
     },
     "metadata": {},
     "output_type": "display_data"
    },
    {
     "data": {
      "text/html": [
       "<pre style=\"white-space:pre;overflow-x:auto;line-height:normal;font-family:Menlo,'DejaVu Sans Mono',consolas,'Courier New',monospace\">\n",
       "</pre>\n"
      ],
      "text/plain": [
       "\n"
      ]
     },
     "metadata": {},
     "output_type": "display_data"
    },
    {
     "data": {
      "text/html": [
       "<pre style=\"white-space:pre;overflow-x:auto;line-height:normal;font-family:Menlo,'DejaVu Sans Mono',consolas,'Courier New',monospace\"><span style=\"color: #008000; text-decoration-color: #008000\">Expected Improvement: </span><span style=\"color: #008080; text-decoration-color: #008080; font-weight: bold\">0.02528255619108677</span><span style=\"color: #008000; text-decoration-color: #008000\"> Actual: </span><span style=\"color: #008080; text-decoration-color: #008080; font-weight: bold\">0.025355888530611992</span>\n",
       "</pre>\n"
      ],
      "text/plain": [
       "\u001b[32mExpected Improvement: \u001b[0m\u001b[1;36m0.02528255619108677\u001b[0m\u001b[32m Actual: \u001b[0m\u001b[1;36m0.025355888530611992\u001b[0m\n"
      ]
     },
     "metadata": {},
     "output_type": "display_data"
    },
    {
     "data": {
      "text/html": [
       "<pre style=\"white-space:pre;overflow-x:auto;line-height:normal;font-family:Menlo,'DejaVu Sans Mono',consolas,'Courier New',monospace\"><span style=\"color: #008000; text-decoration-color: #008000\">Accept step at </span><span style=\"color: #808000; text-decoration-color: #808000\">i</span><span style=\"color: #008000; text-decoration-color: #008000\">=</span><span style=\"color: #008080; text-decoration-color: #008080; font-weight: bold\">1</span>\n",
       "</pre>\n"
      ],
      "text/plain": [
       "\u001b[32mAccept step at \u001b[0m\u001b[33mi\u001b[0m\u001b[32m=\u001b[0m\u001b[1;36m1\u001b[0m\n"
      ]
     },
     "metadata": {},
     "output_type": "display_data"
    },
    {
     "data": {
      "text/html": [
       "<pre style=\"white-space:pre;overflow-x:auto;line-height:normal;font-family:Menlo,'DejaVu Sans Mono',consolas,'Courier New',monospace\">┏━━━━━━━━━━━━━━━━━━━━━━━━━━━━━━━━┳━━━━━━━━━━━━━━━━━━━━━━━━━┓\n",
       "┃<span style=\"font-weight: bold\"> Metrics                        </span>┃<span style=\"font-weight: bold\"> Value                   </span>┃\n",
       "┡━━━━━━━━━━━━━━━━━━━━━━━━━━━━━━━━╇━━━━━━━━━━━━━━━━━━━━━━━━━┩\n",
       "│ Metrics/EpRet                  │ 11.443792343139648      │\n",
       "│ Metrics/EpCost                 │ 123.66000366210938      │\n",
       "│ Metrics/EpLen                  │ 1000.0                  │\n",
       "│ Train/Epoch                    │ 16.0                    │\n",
       "│ Train/Entropy                  │ 1.3989204168319702      │\n",
       "│ Train/KL                       │ 0.00025866719079203904  │\n",
       "│ Train/StopIter                 │ 10.0                    │\n",
       "│ Train/PolicyRatio/Mean         │ 1.0006366968154907      │\n",
       "│ Train/PolicyRatio/Min          │ 1.0006368160247803      │\n",
       "│ Train/PolicyRatio/Max          │ 1.0006368160247803      │\n",
       "│ Train/PolicyRatio/Std          │ 0.0004502407100517303   │\n",
       "│ Train/LR                       │ 0.0                     │\n",
       "│ Train/PolicyStd                │ 0.9803347587585449      │\n",
       "│ TotalEnvSteps                  │ 340000.0                │\n",
       "│ Loss/Loss_pi                   │ -0.01690392568707466    │\n",
       "│ Loss/Loss_pi/Delta             │ -0.0011746566742658615  │\n",
       "│ Value/Adv                      │ -1.2207030941624453e-08 │\n",
       "│ Loss/Loss_reward_critic        │ 0.04777378588914871     │\n",
       "│ Loss/Loss_reward_critic/Delta  │ 0.019136980175971985    │\n",
       "│ Value/reward                   │ 1.1268259286880493      │\n",
       "│ Loss/Loss_cost_critic          │ 2.1487488746643066      │\n",
       "│ Loss/Loss_cost_critic/Delta    │ 0.42649316787719727     │\n",
       "│ Value/cost                     │ 11.179679870605469      │\n",
       "│ Time/Total                     │ 1321.6453857421875      │\n",
       "│ Time/Rollout                   │ 64.01432800292969       │\n",
       "│ Time/Update                    │ 14.205135345458984      │\n",
       "│ Time/Epoch                     │ 78.21946716308594       │\n",
       "│ Time/FPS                       │ 255.6908416748047       │\n",
       "│ Misc/Alpha                     │ 0.7916459441184998      │\n",
       "│ Misc/FinalStepNorm             │ 0.3181200623512268      │\n",
       "│ Misc/gradient_norm             │ 0.10815614461898804     │\n",
       "│ Misc/xHx                       │ 0.031913015991449356    │\n",
       "│ Misc/H_inv_g                   │ 0.40184637904167175     │\n",
       "│ Misc/AcceptanceStep            │ 1.0                     │\n",
       "│ Metrics/LagrangeMultiplier/Mea │ 0.5695394277572632      │\n",
       "│ Metrics/LagrangeMultiplier/Min │ 0.5695394277572632      │\n",
       "│ Metrics/LagrangeMultiplier/Max │ 0.5695394277572632      │\n",
       "│ Metrics/LagrangeMultiplier/Std │ 0.0                     │\n",
       "└────────────────────────────────┴─────────────────────────┘\n",
       "</pre>\n"
      ],
      "text/plain": [
       "┏━━━━━━━━━━━━━━━━━━━━━━━━━━━━━━━━┳━━━━━━━━━━━━━━━━━━━━━━━━━┓\n",
       "┃\u001b[1m \u001b[0m\u001b[1mMetrics                       \u001b[0m\u001b[1m \u001b[0m┃\u001b[1m \u001b[0m\u001b[1mValue                  \u001b[0m\u001b[1m \u001b[0m┃\n",
       "┡━━━━━━━━━━━━━━━━━━━━━━━━━━━━━━━━╇━━━━━━━━━━━━━━━━━━━━━━━━━┩\n",
       "│ Metrics/EpRet                  │ 11.443792343139648      │\n",
       "│ Metrics/EpCost                 │ 123.66000366210938      │\n",
       "│ Metrics/EpLen                  │ 1000.0                  │\n",
       "│ Train/Epoch                    │ 16.0                    │\n",
       "│ Train/Entropy                  │ 1.3989204168319702      │\n",
       "│ Train/KL                       │ 0.00025866719079203904  │\n",
       "│ Train/StopIter                 │ 10.0                    │\n",
       "│ Train/PolicyRatio/Mean         │ 1.0006366968154907      │\n",
       "│ Train/PolicyRatio/Min          │ 1.0006368160247803      │\n",
       "│ Train/PolicyRatio/Max          │ 1.0006368160247803      │\n",
       "│ Train/PolicyRatio/Std          │ 0.0004502407100517303   │\n",
       "│ Train/LR                       │ 0.0                     │\n",
       "│ Train/PolicyStd                │ 0.9803347587585449      │\n",
       "│ TotalEnvSteps                  │ 340000.0                │\n",
       "│ Loss/Loss_pi                   │ -0.01690392568707466    │\n",
       "│ Loss/Loss_pi/Delta             │ -0.0011746566742658615  │\n",
       "│ Value/Adv                      │ -1.2207030941624453e-08 │\n",
       "│ Loss/Loss_reward_critic        │ 0.04777378588914871     │\n",
       "│ Loss/Loss_reward_critic/Delta  │ 0.019136980175971985    │\n",
       "│ Value/reward                   │ 1.1268259286880493      │\n",
       "│ Loss/Loss_cost_critic          │ 2.1487488746643066      │\n",
       "│ Loss/Loss_cost_critic/Delta    │ 0.42649316787719727     │\n",
       "│ Value/cost                     │ 11.179679870605469      │\n",
       "│ Time/Total                     │ 1321.6453857421875      │\n",
       "│ Time/Rollout                   │ 64.01432800292969       │\n",
       "│ Time/Update                    │ 14.205135345458984      │\n",
       "│ Time/Epoch                     │ 78.21946716308594       │\n",
       "│ Time/FPS                       │ 255.6908416748047       │\n",
       "│ Misc/Alpha                     │ 0.7916459441184998      │\n",
       "│ Misc/FinalStepNorm             │ 0.3181200623512268      │\n",
       "│ Misc/gradient_norm             │ 0.10815614461898804     │\n",
       "│ Misc/xHx                       │ 0.031913015991449356    │\n",
       "│ Misc/H_inv_g                   │ 0.40184637904167175     │\n",
       "│ Misc/AcceptanceStep            │ 1.0                     │\n",
       "│ Metrics/LagrangeMultiplier/Mea │ 0.5695394277572632      │\n",
       "│ Metrics/LagrangeMultiplier/Min │ 0.5695394277572632      │\n",
       "│ Metrics/LagrangeMultiplier/Max │ 0.5695394277572632      │\n",
       "│ Metrics/LagrangeMultiplier/Std │ 0.0                     │\n",
       "└────────────────────────────────┴─────────────────────────┘\n"
      ]
     },
     "metadata": {},
     "output_type": "display_data"
    },
    {
     "data": {
      "text/html": [
       "<pre style=\"white-space:pre;overflow-x:auto;line-height:normal;font-family:Menlo,'DejaVu Sans Mono',consolas,'Courier New',monospace\"><span style=\"color: #008000; text-decoration-color: #008000\">Warning: trajectory cut off when rollout by epoch at </span><span style=\"color: #008080; text-decoration-color: #008080; font-weight: bold\">1000.0</span><span style=\"color: #008000; text-decoration-color: #008000\"> steps.</span>\n",
       "</pre>\n"
      ],
      "text/plain": [
       "\u001b[32mWarning: trajectory cut off when rollout by epoch at \u001b[0m\u001b[1;36m1000.0\u001b[0m\u001b[32m steps.\u001b[0m\n"
      ]
     },
     "metadata": {},
     "output_type": "display_data"
    },
    {
     "data": {
      "text/html": [
       "<pre style=\"white-space:pre;overflow-x:auto;line-height:normal;font-family:Menlo,'DejaVu Sans Mono',consolas,'Courier New',monospace\"><span style=\"color: #008000; text-decoration-color: #008000\">Warning: trajectory cut off when rollout by epoch at </span><span style=\"color: #008080; text-decoration-color: #008080; font-weight: bold\">1000.0</span><span style=\"color: #008000; text-decoration-color: #008000\"> steps.</span>\n",
       "</pre>\n"
      ],
      "text/plain": [
       "\u001b[32mWarning: trajectory cut off when rollout by epoch at \u001b[0m\u001b[1;36m1000.0\u001b[0m\u001b[32m steps.\u001b[0m\n"
      ]
     },
     "metadata": {},
     "output_type": "display_data"
    },
    {
     "data": {
      "text/html": [
       "<pre style=\"white-space:pre;overflow-x:auto;line-height:normal;font-family:Menlo,'DejaVu Sans Mono',consolas,'Courier New',monospace\"><span style=\"color: #008000; text-decoration-color: #008000\">Warning: trajectory cut off when rollout by epoch at </span><span style=\"color: #008080; text-decoration-color: #008080; font-weight: bold\">1000.0</span><span style=\"color: #008000; text-decoration-color: #008000\"> steps.</span>\n",
       "</pre>\n"
      ],
      "text/plain": [
       "\u001b[32mWarning: trajectory cut off when rollout by epoch at \u001b[0m\u001b[1;36m1000.0\u001b[0m\u001b[32m steps.\u001b[0m\n"
      ]
     },
     "metadata": {},
     "output_type": "display_data"
    },
    {
     "data": {
      "text/html": [
       "<pre style=\"white-space:pre;overflow-x:auto;line-height:normal;font-family:Menlo,'DejaVu Sans Mono',consolas,'Courier New',monospace\"><span style=\"color: #008000; text-decoration-color: #008000\">Warning: trajectory cut off when rollout by epoch at </span><span style=\"color: #008080; text-decoration-color: #008080; font-weight: bold\">1000.0</span><span style=\"color: #008000; text-decoration-color: #008000\"> steps.</span>\n",
       "</pre>\n"
      ],
      "text/plain": [
       "\u001b[32mWarning: trajectory cut off when rollout by epoch at \u001b[0m\u001b[1;36m1000.0\u001b[0m\u001b[32m steps.\u001b[0m\n"
      ]
     },
     "metadata": {},
     "output_type": "display_data"
    },
    {
     "data": {
      "text/html": [
       "<pre style=\"white-space:pre;overflow-x:auto;line-height:normal;font-family:Menlo,'DejaVu Sans Mono',consolas,'Courier New',monospace\"></pre>\n"
      ],
      "text/plain": []
     },
     "metadata": {},
     "output_type": "display_data"
    },
    {
     "data": {
      "text/html": [
       "<pre style=\"white-space:pre;overflow-x:auto;line-height:normal;font-family:Menlo,'DejaVu Sans Mono',consolas,'Courier New',monospace\">\n",
       "</pre>\n"
      ],
      "text/plain": [
       "\n"
      ]
     },
     "metadata": {},
     "output_type": "display_data"
    },
    {
     "data": {
      "text/html": [
       "<pre style=\"white-space:pre;overflow-x:auto;line-height:normal;font-family:Menlo,'DejaVu Sans Mono',consolas,'Courier New',monospace\"><span style=\"color: #008000; text-decoration-color: #008000\">Expected Improvement: </span><span style=\"color: #008080; text-decoration-color: #008080; font-weight: bold\">0.022580435499548912</span><span style=\"color: #008000; text-decoration-color: #008000\"> Actual: </span><span style=\"color: #008080; text-decoration-color: #008080; font-weight: bold\">0.02241981215775013</span>\n",
       "</pre>\n"
      ],
      "text/plain": [
       "\u001b[32mExpected Improvement: \u001b[0m\u001b[1;36m0.022580435499548912\u001b[0m\u001b[32m Actual: \u001b[0m\u001b[1;36m0.02241981215775013\u001b[0m\n"
      ]
     },
     "metadata": {},
     "output_type": "display_data"
    },
    {
     "data": {
      "text/html": [
       "<pre style=\"white-space:pre;overflow-x:auto;line-height:normal;font-family:Menlo,'DejaVu Sans Mono',consolas,'Courier New',monospace\"><span style=\"color: #008000; text-decoration-color: #008000\">Accept step at </span><span style=\"color: #808000; text-decoration-color: #808000\">i</span><span style=\"color: #008000; text-decoration-color: #008000\">=</span><span style=\"color: #008080; text-decoration-color: #008080; font-weight: bold\">1</span>\n",
       "</pre>\n"
      ],
      "text/plain": [
       "\u001b[32mAccept step at \u001b[0m\u001b[33mi\u001b[0m\u001b[32m=\u001b[0m\u001b[1;36m1\u001b[0m\n"
      ]
     },
     "metadata": {},
     "output_type": "display_data"
    },
    {
     "data": {
      "text/html": [
       "<pre style=\"white-space:pre;overflow-x:auto;line-height:normal;font-family:Menlo,'DejaVu Sans Mono',consolas,'Courier New',monospace\">┏━━━━━━━━━━━━━━━━━━━━━━━━━━━━━━━━┳━━━━━━━━━━━━━━━━━━━━━━━━┓\n",
       "┃<span style=\"font-weight: bold\"> Metrics                        </span>┃<span style=\"font-weight: bold\"> Value                  </span>┃\n",
       "┡━━━━━━━━━━━━━━━━━━━━━━━━━━━━━━━━╇━━━━━━━━━━━━━━━━━━━━━━━━┩\n",
       "│ Metrics/EpRet                  │ 11.621930122375488     │\n",
       "│ Metrics/EpCost                 │ 115.9800033569336      │\n",
       "│ Metrics/EpLen                  │ 1000.0                 │\n",
       "│ Train/Epoch                    │ 17.0                   │\n",
       "│ Train/Entropy                  │ 1.3970891237258911     │\n",
       "│ Train/KL                       │ 0.00027934060199186206 │\n",
       "│ Train/StopIter                 │ 10.0                   │\n",
       "│ Train/PolicyRatio/Mean         │ 0.999366283416748      │\n",
       "│ Train/PolicyRatio/Min          │ 0.999366283416748      │\n",
       "│ Train/PolicyRatio/Max          │ 0.999366283416748      │\n",
       "│ Train/PolicyRatio/Std          │ 0.00044813341810368    │\n",
       "│ Train/LR                       │ 0.0                    │\n",
       "│ Train/PolicyStd                │ 0.978422224521637      │\n",
       "│ TotalEnvSteps                  │ 360000.0               │\n",
       "│ Loss/Loss_pi                   │ -0.01494655292481184   │\n",
       "│ Loss/Loss_pi/Delta             │ 0.001957372762262821   │\n",
       "│ Value/Adv                      │ 0.0                    │\n",
       "│ Loss/Loss_reward_critic        │ 0.04319275915622711    │\n",
       "│ Loss/Loss_reward_critic/Delta  │ -0.0045810267329216    │\n",
       "│ Value/reward                   │ 0.9841164350509644     │\n",
       "│ Loss/Loss_cost_critic          │ 1.7013957500457764     │\n",
       "│ Loss/Loss_cost_critic/Delta    │ -0.4473531246185303    │\n",
       "│ Value/cost                     │ 10.63700008392334      │\n",
       "│ Time/Total                     │ 1400.168212890625      │\n",
       "│ Time/Rollout                   │ 64.86559295654297      │\n",
       "│ Time/Update                    │ 13.627739906311035     │\n",
       "│ Time/Epoch                     │ 78.49333190917969      │\n",
       "│ Time/FPS                       │ 254.7987060546875      │\n",
       "│ Misc/Alpha                     │ 0.8865906000137329     │\n",
       "│ Misc/FinalStepNorm             │ 0.32044968008995056    │\n",
       "│ Misc/gradient_norm             │ 0.09393332153558731    │\n",
       "│ Misc/xHx                       │ 0.025443894788622856   │\n",
       "│ Misc/H_inv_g                   │ 0.36144039034843445    │\n",
       "│ Misc/AcceptanceStep            │ 1.0                    │\n",
       "│ Metrics/LagrangeMultiplier/Mea │ 0.6020247936248779     │\n",
       "│ Metrics/LagrangeMultiplier/Min │ 0.6020247936248779     │\n",
       "│ Metrics/LagrangeMultiplier/Max │ 0.6020247936248779     │\n",
       "│ Metrics/LagrangeMultiplier/Std │ 0.0                    │\n",
       "└────────────────────────────────┴────────────────────────┘\n",
       "</pre>\n"
      ],
      "text/plain": [
       "┏━━━━━━━━━━━━━━━━━━━━━━━━━━━━━━━━┳━━━━━━━━━━━━━━━━━━━━━━━━┓\n",
       "┃\u001b[1m \u001b[0m\u001b[1mMetrics                       \u001b[0m\u001b[1m \u001b[0m┃\u001b[1m \u001b[0m\u001b[1mValue                 \u001b[0m\u001b[1m \u001b[0m┃\n",
       "┡━━━━━━━━━━━━━━━━━━━━━━━━━━━━━━━━╇━━━━━━━━━━━━━━━━━━━━━━━━┩\n",
       "│ Metrics/EpRet                  │ 11.621930122375488     │\n",
       "│ Metrics/EpCost                 │ 115.9800033569336      │\n",
       "│ Metrics/EpLen                  │ 1000.0                 │\n",
       "│ Train/Epoch                    │ 17.0                   │\n",
       "│ Train/Entropy                  │ 1.3970891237258911     │\n",
       "│ Train/KL                       │ 0.00027934060199186206 │\n",
       "│ Train/StopIter                 │ 10.0                   │\n",
       "│ Train/PolicyRatio/Mean         │ 0.999366283416748      │\n",
       "│ Train/PolicyRatio/Min          │ 0.999366283416748      │\n",
       "│ Train/PolicyRatio/Max          │ 0.999366283416748      │\n",
       "│ Train/PolicyRatio/Std          │ 0.00044813341810368    │\n",
       "│ Train/LR                       │ 0.0                    │\n",
       "│ Train/PolicyStd                │ 0.978422224521637      │\n",
       "│ TotalEnvSteps                  │ 360000.0               │\n",
       "│ Loss/Loss_pi                   │ -0.01494655292481184   │\n",
       "│ Loss/Loss_pi/Delta             │ 0.001957372762262821   │\n",
       "│ Value/Adv                      │ 0.0                    │\n",
       "│ Loss/Loss_reward_critic        │ 0.04319275915622711    │\n",
       "│ Loss/Loss_reward_critic/Delta  │ -0.0045810267329216    │\n",
       "│ Value/reward                   │ 0.9841164350509644     │\n",
       "│ Loss/Loss_cost_critic          │ 1.7013957500457764     │\n",
       "│ Loss/Loss_cost_critic/Delta    │ -0.4473531246185303    │\n",
       "│ Value/cost                     │ 10.63700008392334      │\n",
       "│ Time/Total                     │ 1400.168212890625      │\n",
       "│ Time/Rollout                   │ 64.86559295654297      │\n",
       "│ Time/Update                    │ 13.627739906311035     │\n",
       "│ Time/Epoch                     │ 78.49333190917969      │\n",
       "│ Time/FPS                       │ 254.7987060546875      │\n",
       "│ Misc/Alpha                     │ 0.8865906000137329     │\n",
       "│ Misc/FinalStepNorm             │ 0.32044968008995056    │\n",
       "│ Misc/gradient_norm             │ 0.09393332153558731    │\n",
       "│ Misc/xHx                       │ 0.025443894788622856   │\n",
       "│ Misc/H_inv_g                   │ 0.36144039034843445    │\n",
       "│ Misc/AcceptanceStep            │ 1.0                    │\n",
       "│ Metrics/LagrangeMultiplier/Mea │ 0.6020247936248779     │\n",
       "│ Metrics/LagrangeMultiplier/Min │ 0.6020247936248779     │\n",
       "│ Metrics/LagrangeMultiplier/Max │ 0.6020247936248779     │\n",
       "│ Metrics/LagrangeMultiplier/Std │ 0.0                    │\n",
       "└────────────────────────────────┴────────────────────────┘\n"
      ]
     },
     "metadata": {},
     "output_type": "display_data"
    },
    {
     "data": {
      "text/html": [
       "<pre style=\"white-space:pre;overflow-x:auto;line-height:normal;font-family:Menlo,'DejaVu Sans Mono',consolas,'Courier New',monospace\"><span style=\"color: #008000; text-decoration-color: #008000\">Warning: trajectory cut off when rollout by epoch at </span><span style=\"color: #008080; text-decoration-color: #008080; font-weight: bold\">1000.0</span><span style=\"color: #008000; text-decoration-color: #008000\"> steps.</span>\n",
       "</pre>\n"
      ],
      "text/plain": [
       "\u001b[32mWarning: trajectory cut off when rollout by epoch at \u001b[0m\u001b[1;36m1000.0\u001b[0m\u001b[32m steps.\u001b[0m\n"
      ]
     },
     "metadata": {},
     "output_type": "display_data"
    },
    {
     "data": {
      "text/html": [
       "<pre style=\"white-space:pre;overflow-x:auto;line-height:normal;font-family:Menlo,'DejaVu Sans Mono',consolas,'Courier New',monospace\"><span style=\"color: #008000; text-decoration-color: #008000\">Warning: trajectory cut off when rollout by epoch at </span><span style=\"color: #008080; text-decoration-color: #008080; font-weight: bold\">1000.0</span><span style=\"color: #008000; text-decoration-color: #008000\"> steps.</span>\n",
       "</pre>\n"
      ],
      "text/plain": [
       "\u001b[32mWarning: trajectory cut off when rollout by epoch at \u001b[0m\u001b[1;36m1000.0\u001b[0m\u001b[32m steps.\u001b[0m\n"
      ]
     },
     "metadata": {},
     "output_type": "display_data"
    },
    {
     "data": {
      "text/html": [
       "<pre style=\"white-space:pre;overflow-x:auto;line-height:normal;font-family:Menlo,'DejaVu Sans Mono',consolas,'Courier New',monospace\"><span style=\"color: #008000; text-decoration-color: #008000\">Warning: trajectory cut off when rollout by epoch at </span><span style=\"color: #008080; text-decoration-color: #008080; font-weight: bold\">1000.0</span><span style=\"color: #008000; text-decoration-color: #008000\"> steps.</span>\n",
       "</pre>\n"
      ],
      "text/plain": [
       "\u001b[32mWarning: trajectory cut off when rollout by epoch at \u001b[0m\u001b[1;36m1000.0\u001b[0m\u001b[32m steps.\u001b[0m\n"
      ]
     },
     "metadata": {},
     "output_type": "display_data"
    },
    {
     "data": {
      "text/html": [
       "<pre style=\"white-space:pre;overflow-x:auto;line-height:normal;font-family:Menlo,'DejaVu Sans Mono',consolas,'Courier New',monospace\"><span style=\"color: #008000; text-decoration-color: #008000\">Warning: trajectory cut off when rollout by epoch at </span><span style=\"color: #008080; text-decoration-color: #008080; font-weight: bold\">1000.0</span><span style=\"color: #008000; text-decoration-color: #008000\"> steps.</span>\n",
       "</pre>\n"
      ],
      "text/plain": [
       "\u001b[32mWarning: trajectory cut off when rollout by epoch at \u001b[0m\u001b[1;36m1000.0\u001b[0m\u001b[32m steps.\u001b[0m\n"
      ]
     },
     "metadata": {},
     "output_type": "display_data"
    },
    {
     "data": {
      "text/html": [
       "<pre style=\"white-space:pre;overflow-x:auto;line-height:normal;font-family:Menlo,'DejaVu Sans Mono',consolas,'Courier New',monospace\"></pre>\n"
      ],
      "text/plain": []
     },
     "metadata": {},
     "output_type": "display_data"
    },
    {
     "data": {
      "text/html": [
       "<pre style=\"white-space:pre;overflow-x:auto;line-height:normal;font-family:Menlo,'DejaVu Sans Mono',consolas,'Courier New',monospace\">\n",
       "</pre>\n"
      ],
      "text/plain": [
       "\n"
      ]
     },
     "metadata": {},
     "output_type": "display_data"
    },
    {
     "data": {
      "text/html": [
       "<pre style=\"white-space:pre;overflow-x:auto;line-height:normal;font-family:Menlo,'DejaVu Sans Mono',consolas,'Courier New',monospace\"><span style=\"color: #008000; text-decoration-color: #008000\">Expected Improvement: </span><span style=\"color: #008080; text-decoration-color: #008080; font-weight: bold\">0.02557654306292534</span><span style=\"color: #008000; text-decoration-color: #008000\"> Actual: </span><span style=\"color: #008080; text-decoration-color: #008080; font-weight: bold\">0.02507796883583069</span>\n",
       "</pre>\n"
      ],
      "text/plain": [
       "\u001b[32mExpected Improvement: \u001b[0m\u001b[1;36m0.02557654306292534\u001b[0m\u001b[32m Actual: \u001b[0m\u001b[1;36m0.02507796883583069\u001b[0m\n"
      ]
     },
     "metadata": {},
     "output_type": "display_data"
    },
    {
     "data": {
      "text/html": [
       "<pre style=\"white-space:pre;overflow-x:auto;line-height:normal;font-family:Menlo,'DejaVu Sans Mono',consolas,'Courier New',monospace\"><span style=\"color: #008000; text-decoration-color: #008000\">Accept step at </span><span style=\"color: #808000; text-decoration-color: #808000\">i</span><span style=\"color: #008000; text-decoration-color: #008000\">=</span><span style=\"color: #008080; text-decoration-color: #008080; font-weight: bold\">1</span>\n",
       "</pre>\n"
      ],
      "text/plain": [
       "\u001b[32mAccept step at \u001b[0m\u001b[33mi\u001b[0m\u001b[32m=\u001b[0m\u001b[1;36m1\u001b[0m\n"
      ]
     },
     "metadata": {},
     "output_type": "display_data"
    },
    {
     "data": {
      "text/html": [
       "<pre style=\"white-space:pre;overflow-x:auto;line-height:normal;font-family:Menlo,'DejaVu Sans Mono',consolas,'Courier New',monospace\">┏━━━━━━━━━━━━━━━━━━━━━━━━━━━━━━━━┳━━━━━━━━━━━━━━━━━━━━━━━━━┓\n",
       "┃<span style=\"font-weight: bold\"> Metrics                        </span>┃<span style=\"font-weight: bold\"> Value                   </span>┃\n",
       "┡━━━━━━━━━━━━━━━━━━━━━━━━━━━━━━━━╇━━━━━━━━━━━━━━━━━━━━━━━━━┩\n",
       "│ Metrics/EpRet                  │ 11.725847244262695      │\n",
       "│ Metrics/EpCost                 │ 104.45999908447266      │\n",
       "│ Metrics/EpLen                  │ 1000.0                  │\n",
       "│ Train/Epoch                    │ 18.0                    │\n",
       "│ Train/Entropy                  │ 1.3955163955688477      │\n",
       "│ Train/KL                       │ 0.00028046569786965847  │\n",
       "│ Train/StopIter                 │ 10.0                    │\n",
       "│ Train/PolicyRatio/Mean         │ 0.999930202960968       │\n",
       "│ Train/PolicyRatio/Min          │ 0.9999302625656128      │\n",
       "│ Train/PolicyRatio/Max          │ 0.9999302625656128      │\n",
       "│ Train/PolicyRatio/Std          │ 4.936801269650459e-05   │\n",
       "│ Train/LR                       │ 0.0                     │\n",
       "│ Train/PolicyStd                │ 0.9768531322479248      │\n",
       "│ TotalEnvSteps                  │ 380000.0                │\n",
       "│ Loss/Loss_pi                   │ -0.016718633472919464   │\n",
       "│ Loss/Loss_pi/Delta             │ -0.001772080548107624   │\n",
       "│ Value/Adv                      │ -1.2207030941624453e-08 │\n",
       "│ Loss/Loss_reward_critic        │ 0.03396063670516014     │\n",
       "│ Loss/Loss_reward_critic/Delta  │ -0.00923212245106697    │\n",
       "│ Value/reward                   │ 1.0969657897949219      │\n",
       "│ Loss/Loss_cost_critic          │ 1.6900099515914917      │\n",
       "│ Loss/Loss_cost_critic/Delta    │ -0.011385798454284668   │\n",
       "│ Value/cost                     │ 11.005630493164062      │\n",
       "│ Time/Total                     │ 1485.4638671875         │\n",
       "│ Time/Rollout                   │ 71.3501205444336        │\n",
       "│ Time/Update                    │ 13.911705017089844      │\n",
       "│ Time/Epoch                     │ 85.26182556152344       │\n",
       "│ Time/FPS                       │ 234.5715789794922       │\n",
       "│ Misc/Alpha                     │ 0.7825340628623962      │\n",
       "│ Misc/FinalStepNorm             │ 0.31441810727119446     │\n",
       "│ Misc/gradient_norm             │ 0.1234273836016655      │\n",
       "│ Misc/xHx                       │ 0.03266053646802902     │\n",
       "│ Misc/H_inv_g                   │ 0.40179479122161865     │\n",
       "│ Misc/AcceptanceStep            │ 1.0                     │\n",
       "│ Metrics/LagrangeMultiplier/Mea │ 0.6342936754226685      │\n",
       "│ Metrics/LagrangeMultiplier/Min │ 0.6342936754226685      │\n",
       "│ Metrics/LagrangeMultiplier/Max │ 0.6342936754226685      │\n",
       "│ Metrics/LagrangeMultiplier/Std │ 0.0                     │\n",
       "└────────────────────────────────┴─────────────────────────┘\n",
       "</pre>\n"
      ],
      "text/plain": [
       "┏━━━━━━━━━━━━━━━━━━━━━━━━━━━━━━━━┳━━━━━━━━━━━━━━━━━━━━━━━━━┓\n",
       "┃\u001b[1m \u001b[0m\u001b[1mMetrics                       \u001b[0m\u001b[1m \u001b[0m┃\u001b[1m \u001b[0m\u001b[1mValue                  \u001b[0m\u001b[1m \u001b[0m┃\n",
       "┡━━━━━━━━━━━━━━━━━━━━━━━━━━━━━━━━╇━━━━━━━━━━━━━━━━━━━━━━━━━┩\n",
       "│ Metrics/EpRet                  │ 11.725847244262695      │\n",
       "│ Metrics/EpCost                 │ 104.45999908447266      │\n",
       "│ Metrics/EpLen                  │ 1000.0                  │\n",
       "│ Train/Epoch                    │ 18.0                    │\n",
       "│ Train/Entropy                  │ 1.3955163955688477      │\n",
       "│ Train/KL                       │ 0.00028046569786965847  │\n",
       "│ Train/StopIter                 │ 10.0                    │\n",
       "│ Train/PolicyRatio/Mean         │ 0.999930202960968       │\n",
       "│ Train/PolicyRatio/Min          │ 0.9999302625656128      │\n",
       "│ Train/PolicyRatio/Max          │ 0.9999302625656128      │\n",
       "│ Train/PolicyRatio/Std          │ 4.936801269650459e-05   │\n",
       "│ Train/LR                       │ 0.0                     │\n",
       "│ Train/PolicyStd                │ 0.9768531322479248      │\n",
       "│ TotalEnvSteps                  │ 380000.0                │\n",
       "│ Loss/Loss_pi                   │ -0.016718633472919464   │\n",
       "│ Loss/Loss_pi/Delta             │ -0.001772080548107624   │\n",
       "│ Value/Adv                      │ -1.2207030941624453e-08 │\n",
       "│ Loss/Loss_reward_critic        │ 0.03396063670516014     │\n",
       "│ Loss/Loss_reward_critic/Delta  │ -0.00923212245106697    │\n",
       "│ Value/reward                   │ 1.0969657897949219      │\n",
       "│ Loss/Loss_cost_critic          │ 1.6900099515914917      │\n",
       "│ Loss/Loss_cost_critic/Delta    │ -0.011385798454284668   │\n",
       "│ Value/cost                     │ 11.005630493164062      │\n",
       "│ Time/Total                     │ 1485.4638671875         │\n",
       "│ Time/Rollout                   │ 71.3501205444336        │\n",
       "│ Time/Update                    │ 13.911705017089844      │\n",
       "│ Time/Epoch                     │ 85.26182556152344       │\n",
       "│ Time/FPS                       │ 234.5715789794922       │\n",
       "│ Misc/Alpha                     │ 0.7825340628623962      │\n",
       "│ Misc/FinalStepNorm             │ 0.31441810727119446     │\n",
       "│ Misc/gradient_norm             │ 0.1234273836016655      │\n",
       "│ Misc/xHx                       │ 0.03266053646802902     │\n",
       "│ Misc/H_inv_g                   │ 0.40179479122161865     │\n",
       "│ Misc/AcceptanceStep            │ 1.0                     │\n",
       "│ Metrics/LagrangeMultiplier/Mea │ 0.6342936754226685      │\n",
       "│ Metrics/LagrangeMultiplier/Min │ 0.6342936754226685      │\n",
       "│ Metrics/LagrangeMultiplier/Max │ 0.6342936754226685      │\n",
       "│ Metrics/LagrangeMultiplier/Std │ 0.0                     │\n",
       "└────────────────────────────────┴─────────────────────────┘\n"
      ]
     },
     "metadata": {},
     "output_type": "display_data"
    },
    {
     "data": {
      "text/html": [
       "<pre style=\"white-space:pre;overflow-x:auto;line-height:normal;font-family:Menlo,'DejaVu Sans Mono',consolas,'Courier New',monospace\"><span style=\"color: #008000; text-decoration-color: #008000\">Warning: trajectory cut off when rollout by epoch at </span><span style=\"color: #008080; text-decoration-color: #008080; font-weight: bold\">1000.0</span><span style=\"color: #008000; text-decoration-color: #008000\"> steps.</span>\n",
       "</pre>\n"
      ],
      "text/plain": [
       "\u001b[32mWarning: trajectory cut off when rollout by epoch at \u001b[0m\u001b[1;36m1000.0\u001b[0m\u001b[32m steps.\u001b[0m\n"
      ]
     },
     "metadata": {},
     "output_type": "display_data"
    },
    {
     "data": {
      "text/html": [
       "<pre style=\"white-space:pre;overflow-x:auto;line-height:normal;font-family:Menlo,'DejaVu Sans Mono',consolas,'Courier New',monospace\"><span style=\"color: #008000; text-decoration-color: #008000\">Warning: trajectory cut off when rollout by epoch at </span><span style=\"color: #008080; text-decoration-color: #008080; font-weight: bold\">1000.0</span><span style=\"color: #008000; text-decoration-color: #008000\"> steps.</span>\n",
       "</pre>\n"
      ],
      "text/plain": [
       "\u001b[32mWarning: trajectory cut off when rollout by epoch at \u001b[0m\u001b[1;36m1000.0\u001b[0m\u001b[32m steps.\u001b[0m\n"
      ]
     },
     "metadata": {},
     "output_type": "display_data"
    },
    {
     "data": {
      "text/html": [
       "<pre style=\"white-space:pre;overflow-x:auto;line-height:normal;font-family:Menlo,'DejaVu Sans Mono',consolas,'Courier New',monospace\"><span style=\"color: #008000; text-decoration-color: #008000\">Warning: trajectory cut off when rollout by epoch at </span><span style=\"color: #008080; text-decoration-color: #008080; font-weight: bold\">1000.0</span><span style=\"color: #008000; text-decoration-color: #008000\"> steps.</span>\n",
       "</pre>\n"
      ],
      "text/plain": [
       "\u001b[32mWarning: trajectory cut off when rollout by epoch at \u001b[0m\u001b[1;36m1000.0\u001b[0m\u001b[32m steps.\u001b[0m\n"
      ]
     },
     "metadata": {},
     "output_type": "display_data"
    },
    {
     "data": {
      "text/html": [
       "<pre style=\"white-space:pre;overflow-x:auto;line-height:normal;font-family:Menlo,'DejaVu Sans Mono',consolas,'Courier New',monospace\"><span style=\"color: #008000; text-decoration-color: #008000\">Warning: trajectory cut off when rollout by epoch at </span><span style=\"color: #008080; text-decoration-color: #008080; font-weight: bold\">1000.0</span><span style=\"color: #008000; text-decoration-color: #008000\"> steps.</span>\n",
       "</pre>\n"
      ],
      "text/plain": [
       "\u001b[32mWarning: trajectory cut off when rollout by epoch at \u001b[0m\u001b[1;36m1000.0\u001b[0m\u001b[32m steps.\u001b[0m\n"
      ]
     },
     "metadata": {},
     "output_type": "display_data"
    },
    {
     "data": {
      "text/html": [
       "<pre style=\"white-space:pre;overflow-x:auto;line-height:normal;font-family:Menlo,'DejaVu Sans Mono',consolas,'Courier New',monospace\"></pre>\n"
      ],
      "text/plain": []
     },
     "metadata": {},
     "output_type": "display_data"
    },
    {
     "data": {
      "text/html": [
       "<pre style=\"white-space:pre;overflow-x:auto;line-height:normal;font-family:Menlo,'DejaVu Sans Mono',consolas,'Courier New',monospace\">\n",
       "</pre>\n"
      ],
      "text/plain": [
       "\n"
      ]
     },
     "metadata": {},
     "output_type": "display_data"
    },
    {
     "data": {
      "text/html": [
       "<pre style=\"white-space:pre;overflow-x:auto;line-height:normal;font-family:Menlo,'DejaVu Sans Mono',consolas,'Courier New',monospace\"><span style=\"color: #008000; text-decoration-color: #008000\">Expected Improvement: </span><span style=\"color: #008080; text-decoration-color: #008080; font-weight: bold\">0.027045737951993942</span><span style=\"color: #008000; text-decoration-color: #008000\"> Actual: </span><span style=\"color: #008080; text-decoration-color: #008080; font-weight: bold\">0.026931878179311752</span>\n",
       "</pre>\n"
      ],
      "text/plain": [
       "\u001b[32mExpected Improvement: \u001b[0m\u001b[1;36m0.027045737951993942\u001b[0m\u001b[32m Actual: \u001b[0m\u001b[1;36m0.026931878179311752\u001b[0m\n"
      ]
     },
     "metadata": {},
     "output_type": "display_data"
    },
    {
     "data": {
      "text/html": [
       "<pre style=\"white-space:pre;overflow-x:auto;line-height:normal;font-family:Menlo,'DejaVu Sans Mono',consolas,'Courier New',monospace\"><span style=\"color: #008000; text-decoration-color: #008000\">Accept step at </span><span style=\"color: #808000; text-decoration-color: #808000\">i</span><span style=\"color: #008000; text-decoration-color: #008000\">=</span><span style=\"color: #008080; text-decoration-color: #008080; font-weight: bold\">1</span>\n",
       "</pre>\n"
      ],
      "text/plain": [
       "\u001b[32mAccept step at \u001b[0m\u001b[33mi\u001b[0m\u001b[32m=\u001b[0m\u001b[1;36m1\u001b[0m\n"
      ]
     },
     "metadata": {},
     "output_type": "display_data"
    },
    {
     "data": {
      "text/html": [
       "<pre style=\"white-space:pre;overflow-x:auto;line-height:normal;font-family:Menlo,'DejaVu Sans Mono',consolas,'Courier New',monospace\">┏━━━━━━━━━━━━━━━━━━━━━━━━━━━━━━━━┳━━━━━━━━━━━━━━━━━━━━━━━━┓\n",
       "┃<span style=\"font-weight: bold\"> Metrics                        </span>┃<span style=\"font-weight: bold\"> Value                  </span>┃\n",
       "┡━━━━━━━━━━━━━━━━━━━━━━━━━━━━━━━━╇━━━━━━━━━━━━━━━━━━━━━━━━┩\n",
       "│ Metrics/EpRet                  │ 12.142963409423828     │\n",
       "│ Metrics/EpCost                 │ 102.0999984741211      │\n",
       "│ Metrics/EpLen                  │ 1000.0                 │\n",
       "│ Train/Epoch                    │ 19.0                   │\n",
       "│ Train/Entropy                  │ 1.392539620399475      │\n",
       "│ Train/KL                       │ 0.00029456475749611855 │\n",
       "│ Train/StopIter                 │ 10.0                   │\n",
       "│ Train/PolicyRatio/Mean         │ 0.9999887347221375     │\n",
       "│ Train/PolicyRatio/Min          │ 0.9999887347221375     │\n",
       "│ Train/PolicyRatio/Max          │ 0.9999887347221375     │\n",
       "│ Train/PolicyRatio/Std          │ 7.97982829681132e-06   │\n",
       "│ Train/LR                       │ 0.0                    │\n",
       "│ Train/PolicyStd                │ 0.9739513993263245     │\n",
       "│ TotalEnvSteps                  │ 400000.0               │\n",
       "│ Loss/Loss_pi                   │ -0.01795458234846592   │\n",
       "│ Loss/Loss_pi/Delta             │ -0.0012359488755464554 │\n",
       "│ Value/Adv                      │ 3.051757735406113e-09  │\n",
       "│ Loss/Loss_reward_critic        │ 0.043365467339754105   │\n",
       "│ Loss/Loss_reward_critic/Delta  │ 0.009404830634593964   │\n",
       "│ Value/reward                   │ 1.0774279832839966     │\n",
       "│ Loss/Loss_cost_critic          │ 1.78174889087677       │\n",
       "│ Loss/Loss_cost_critic/Delta    │ 0.09173893928527832    │\n",
       "│ Value/cost                     │ 10.32179069519043      │\n",
       "│ Time/Total                     │ 1573.7801513671875     │\n",
       "│ Time/Rollout                   │ 74.62606811523438      │\n",
       "│ Time/Update                    │ 13.651473045349121     │\n",
       "│ Time/Epoch                     │ 88.27753448486328      │\n",
       "│ Time/FPS                       │ 226.55819702148438     │\n",
       "│ Misc/Alpha                     │ 0.7399815917015076     │\n",
       "│ Misc/FinalStepNorm             │ 0.3054834008216858     │\n",
       "│ Misc/gradient_norm             │ 0.12683337926864624    │\n",
       "│ Misc/xHx                       │ 0.03652480989694595    │\n",
       "│ Misc/H_inv_g                   │ 0.41282567381858826    │\n",
       "│ Misc/AcceptanceStep            │ 1.0                    │\n",
       "│ Metrics/LagrangeMultiplier/Mea │ 0.6663176417350769     │\n",
       "│ Metrics/LagrangeMultiplier/Min │ 0.6663176417350769     │\n",
       "│ Metrics/LagrangeMultiplier/Max │ 0.6663176417350769     │\n",
       "│ Metrics/LagrangeMultiplier/Std │ 0.0                    │\n",
       "└────────────────────────────────┴────────────────────────┘\n",
       "</pre>\n"
      ],
      "text/plain": [
       "┏━━━━━━━━━━━━━━━━━━━━━━━━━━━━━━━━┳━━━━━━━━━━━━━━━━━━━━━━━━┓\n",
       "┃\u001b[1m \u001b[0m\u001b[1mMetrics                       \u001b[0m\u001b[1m \u001b[0m┃\u001b[1m \u001b[0m\u001b[1mValue                 \u001b[0m\u001b[1m \u001b[0m┃\n",
       "┡━━━━━━━━━━━━━━━━━━━━━━━━━━━━━━━━╇━━━━━━━━━━━━━━━━━━━━━━━━┩\n",
       "│ Metrics/EpRet                  │ 12.142963409423828     │\n",
       "│ Metrics/EpCost                 │ 102.0999984741211      │\n",
       "│ Metrics/EpLen                  │ 1000.0                 │\n",
       "│ Train/Epoch                    │ 19.0                   │\n",
       "│ Train/Entropy                  │ 1.392539620399475      │\n",
       "│ Train/KL                       │ 0.00029456475749611855 │\n",
       "│ Train/StopIter                 │ 10.0                   │\n",
       "│ Train/PolicyRatio/Mean         │ 0.9999887347221375     │\n",
       "│ Train/PolicyRatio/Min          │ 0.9999887347221375     │\n",
       "│ Train/PolicyRatio/Max          │ 0.9999887347221375     │\n",
       "│ Train/PolicyRatio/Std          │ 7.97982829681132e-06   │\n",
       "│ Train/LR                       │ 0.0                    │\n",
       "│ Train/PolicyStd                │ 0.9739513993263245     │\n",
       "│ TotalEnvSteps                  │ 400000.0               │\n",
       "│ Loss/Loss_pi                   │ -0.01795458234846592   │\n",
       "│ Loss/Loss_pi/Delta             │ -0.0012359488755464554 │\n",
       "│ Value/Adv                      │ 3.051757735406113e-09  │\n",
       "│ Loss/Loss_reward_critic        │ 0.043365467339754105   │\n",
       "│ Loss/Loss_reward_critic/Delta  │ 0.009404830634593964   │\n",
       "│ Value/reward                   │ 1.0774279832839966     │\n",
       "│ Loss/Loss_cost_critic          │ 1.78174889087677       │\n",
       "│ Loss/Loss_cost_critic/Delta    │ 0.09173893928527832    │\n",
       "│ Value/cost                     │ 10.32179069519043      │\n",
       "│ Time/Total                     │ 1573.7801513671875     │\n",
       "│ Time/Rollout                   │ 74.62606811523438      │\n",
       "│ Time/Update                    │ 13.651473045349121     │\n",
       "│ Time/Epoch                     │ 88.27753448486328      │\n",
       "│ Time/FPS                       │ 226.55819702148438     │\n",
       "│ Misc/Alpha                     │ 0.7399815917015076     │\n",
       "│ Misc/FinalStepNorm             │ 0.3054834008216858     │\n",
       "│ Misc/gradient_norm             │ 0.12683337926864624    │\n",
       "│ Misc/xHx                       │ 0.03652480989694595    │\n",
       "│ Misc/H_inv_g                   │ 0.41282567381858826    │\n",
       "│ Misc/AcceptanceStep            │ 1.0                    │\n",
       "│ Metrics/LagrangeMultiplier/Mea │ 0.6663176417350769     │\n",
       "│ Metrics/LagrangeMultiplier/Min │ 0.6663176417350769     │\n",
       "│ Metrics/LagrangeMultiplier/Max │ 0.6663176417350769     │\n",
       "│ Metrics/LagrangeMultiplier/Std │ 0.0                    │\n",
       "└────────────────────────────────┴────────────────────────┘\n"
      ]
     },
     "metadata": {},
     "output_type": "display_data"
    },
    {
     "data": {
      "text/html": [
       "<pre style=\"white-space:pre;overflow-x:auto;line-height:normal;font-family:Menlo,'DejaVu Sans Mono',consolas,'Courier New',monospace\"><span style=\"color: #008000; text-decoration-color: #008000\">Warning: trajectory cut off when rollout by epoch at </span><span style=\"color: #008080; text-decoration-color: #008080; font-weight: bold\">1000.0</span><span style=\"color: #008000; text-decoration-color: #008000\"> steps.</span>\n",
       "</pre>\n"
      ],
      "text/plain": [
       "\u001b[32mWarning: trajectory cut off when rollout by epoch at \u001b[0m\u001b[1;36m1000.0\u001b[0m\u001b[32m steps.\u001b[0m\n"
      ]
     },
     "metadata": {},
     "output_type": "display_data"
    },
    {
     "data": {
      "text/html": [
       "<pre style=\"white-space:pre;overflow-x:auto;line-height:normal;font-family:Menlo,'DejaVu Sans Mono',consolas,'Courier New',monospace\"><span style=\"color: #008000; text-decoration-color: #008000\">Warning: trajectory cut off when rollout by epoch at </span><span style=\"color: #008080; text-decoration-color: #008080; font-weight: bold\">1000.0</span><span style=\"color: #008000; text-decoration-color: #008000\"> steps.</span>\n",
       "</pre>\n"
      ],
      "text/plain": [
       "\u001b[32mWarning: trajectory cut off when rollout by epoch at \u001b[0m\u001b[1;36m1000.0\u001b[0m\u001b[32m steps.\u001b[0m\n"
      ]
     },
     "metadata": {},
     "output_type": "display_data"
    },
    {
     "data": {
      "text/html": [
       "<pre style=\"white-space:pre;overflow-x:auto;line-height:normal;font-family:Menlo,'DejaVu Sans Mono',consolas,'Courier New',monospace\"><span style=\"color: #008000; text-decoration-color: #008000\">Warning: trajectory cut off when rollout by epoch at </span><span style=\"color: #008080; text-decoration-color: #008080; font-weight: bold\">1000.0</span><span style=\"color: #008000; text-decoration-color: #008000\"> steps.</span>\n",
       "</pre>\n"
      ],
      "text/plain": [
       "\u001b[32mWarning: trajectory cut off when rollout by epoch at \u001b[0m\u001b[1;36m1000.0\u001b[0m\u001b[32m steps.\u001b[0m\n"
      ]
     },
     "metadata": {},
     "output_type": "display_data"
    },
    {
     "data": {
      "text/html": [
       "<pre style=\"white-space:pre;overflow-x:auto;line-height:normal;font-family:Menlo,'DejaVu Sans Mono',consolas,'Courier New',monospace\"><span style=\"color: #008000; text-decoration-color: #008000\">Warning: trajectory cut off when rollout by epoch at </span><span style=\"color: #008080; text-decoration-color: #008080; font-weight: bold\">1000.0</span><span style=\"color: #008000; text-decoration-color: #008000\"> steps.</span>\n",
       "</pre>\n"
      ],
      "text/plain": [
       "\u001b[32mWarning: trajectory cut off when rollout by epoch at \u001b[0m\u001b[1;36m1000.0\u001b[0m\u001b[32m steps.\u001b[0m\n"
      ]
     },
     "metadata": {},
     "output_type": "display_data"
    },
    {
     "data": {
      "text/html": [
       "<pre style=\"white-space:pre;overflow-x:auto;line-height:normal;font-family:Menlo,'DejaVu Sans Mono',consolas,'Courier New',monospace\"></pre>\n"
      ],
      "text/plain": []
     },
     "metadata": {},
     "output_type": "display_data"
    },
    {
     "data": {
      "text/html": [
       "<pre style=\"white-space:pre;overflow-x:auto;line-height:normal;font-family:Menlo,'DejaVu Sans Mono',consolas,'Courier New',monospace\">\n",
       "</pre>\n"
      ],
      "text/plain": [
       "\n"
      ]
     },
     "metadata": {},
     "output_type": "display_data"
    },
    {
     "data": {
      "text/html": [
       "<pre style=\"white-space:pre;overflow-x:auto;line-height:normal;font-family:Menlo,'DejaVu Sans Mono',consolas,'Courier New',monospace\"><span style=\"color: #008000; text-decoration-color: #008000\">Expected Improvement: </span><span style=\"color: #008080; text-decoration-color: #008080; font-weight: bold\">0.028791718184947968</span><span style=\"color: #008000; text-decoration-color: #008000\"> Actual: </span><span style=\"color: #008080; text-decoration-color: #008080; font-weight: bold\">0.027851469814777374</span>\n",
       "</pre>\n"
      ],
      "text/plain": [
       "\u001b[32mExpected Improvement: \u001b[0m\u001b[1;36m0.028791718184947968\u001b[0m\u001b[32m Actual: \u001b[0m\u001b[1;36m0.027851469814777374\u001b[0m\n"
      ]
     },
     "metadata": {},
     "output_type": "display_data"
    },
    {
     "data": {
      "text/html": [
       "<pre style=\"white-space:pre;overflow-x:auto;line-height:normal;font-family:Menlo,'DejaVu Sans Mono',consolas,'Courier New',monospace\"><span style=\"color: #008000; text-decoration-color: #008000\">Accept step at </span><span style=\"color: #808000; text-decoration-color: #808000\">i</span><span style=\"color: #008000; text-decoration-color: #008000\">=</span><span style=\"color: #008080; text-decoration-color: #008080; font-weight: bold\">1</span>\n",
       "</pre>\n"
      ],
      "text/plain": [
       "\u001b[32mAccept step at \u001b[0m\u001b[33mi\u001b[0m\u001b[32m=\u001b[0m\u001b[1;36m1\u001b[0m\n"
      ]
     },
     "metadata": {},
     "output_type": "display_data"
    },
    {
     "data": {
      "text/html": [
       "<pre style=\"white-space:pre;overflow-x:auto;line-height:normal;font-family:Menlo,'DejaVu Sans Mono',consolas,'Courier New',monospace\">┏━━━━━━━━━━━━━━━━━━━━━━━━━━━━━━━━┳━━━━━━━━━━━━━━━━━━━━━━━━┓\n",
       "┃<span style=\"font-weight: bold\"> Metrics                        </span>┃<span style=\"font-weight: bold\"> Value                  </span>┃\n",
       "┡━━━━━━━━━━━━━━━━━━━━━━━━━━━━━━━━╇━━━━━━━━━━━━━━━━━━━━━━━━┩\n",
       "│ Metrics/EpRet                  │ 13.260736465454102     │\n",
       "│ Metrics/EpCost                 │ 119.22000122070312     │\n",
       "│ Metrics/EpLen                  │ 1000.0                 │\n",
       "│ Train/Epoch                    │ 20.0                   │\n",
       "│ Train/Entropy                  │ 1.382795810699463      │\n",
       "│ Train/KL                       │ 0.0003183240769430995  │\n",
       "│ Train/StopIter                 │ 10.0                   │\n",
       "│ Train/PolicyRatio/Mean         │ 1.000325322151184      │\n",
       "│ Train/PolicyRatio/Min          │ 1.0003254413604736     │\n",
       "│ Train/PolicyRatio/Max          │ 1.0003254413604736     │\n",
       "│ Train/PolicyRatio/Std          │ 0.0002300656051374972  │\n",
       "│ Train/LR                       │ 0.0                    │\n",
       "│ Train/PolicyStd                │ 0.9645276069641113     │\n",
       "│ TotalEnvSteps                  │ 420000.0               │\n",
       "│ Loss/Loss_pi                   │ -0.018567664548754692  │\n",
       "│ Loss/Loss_pi/Delta             │ -0.0006130822002887726 │\n",
       "│ Value/Adv                      │ 6.103515470812226e-09  │\n",
       "│ Loss/Loss_reward_critic        │ 0.045786891132593155   │\n",
       "│ Loss/Loss_reward_critic/Delta  │ 0.0024214237928390503  │\n",
       "│ Value/reward                   │ 1.4241689443588257     │\n",
       "│ Loss/Loss_cost_critic          │ 1.8930736780166626     │\n",
       "│ Loss/Loss_cost_critic/Delta    │ 0.11132478713989258    │\n",
       "│ Value/cost                     │ 12.713215827941895     │\n",
       "│ Time/Total                     │ 1662.9736328125        │\n",
       "│ Time/Rollout                   │ 75.21171569824219      │\n",
       "│ Time/Update                    │ 13.950374603271484     │\n",
       "│ Time/Epoch                     │ 89.1620864868164       │\n",
       "│ Time/FPS                       │ 224.31057739257812     │\n",
       "│ Misc/Alpha                     │ 0.6950539946556091     │\n",
       "│ Misc/FinalStepNorm             │ 0.3016258180141449     │\n",
       "│ Misc/gradient_norm             │ 0.130362406373024      │\n",
       "│ Misc/xHx                       │ 0.0413992777466774     │\n",
       "│ Misc/H_inv_g                   │ 0.43396028876304626    │\n",
       "│ Misc/AcceptanceStep            │ 1.0                    │\n",
       "│ Metrics/LagrangeMultiplier/Mea │ 0.6985890865325928     │\n",
       "│ Metrics/LagrangeMultiplier/Min │ 0.6985890865325928     │\n",
       "│ Metrics/LagrangeMultiplier/Max │ 0.6985890865325928     │\n",
       "│ Metrics/LagrangeMultiplier/Std │ 0.0                    │\n",
       "└────────────────────────────────┴────────────────────────┘\n",
       "</pre>\n"
      ],
      "text/plain": [
       "┏━━━━━━━━━━━━━━━━━━━━━━━━━━━━━━━━┳━━━━━━━━━━━━━━━━━━━━━━━━┓\n",
       "┃\u001b[1m \u001b[0m\u001b[1mMetrics                       \u001b[0m\u001b[1m \u001b[0m┃\u001b[1m \u001b[0m\u001b[1mValue                 \u001b[0m\u001b[1m \u001b[0m┃\n",
       "┡━━━━━━━━━━━━━━━━━━━━━━━━━━━━━━━━╇━━━━━━━━━━━━━━━━━━━━━━━━┩\n",
       "│ Metrics/EpRet                  │ 13.260736465454102     │\n",
       "│ Metrics/EpCost                 │ 119.22000122070312     │\n",
       "│ Metrics/EpLen                  │ 1000.0                 │\n",
       "│ Train/Epoch                    │ 20.0                   │\n",
       "│ Train/Entropy                  │ 1.382795810699463      │\n",
       "│ Train/KL                       │ 0.0003183240769430995  │\n",
       "│ Train/StopIter                 │ 10.0                   │\n",
       "│ Train/PolicyRatio/Mean         │ 1.000325322151184      │\n",
       "│ Train/PolicyRatio/Min          │ 1.0003254413604736     │\n",
       "│ Train/PolicyRatio/Max          │ 1.0003254413604736     │\n",
       "│ Train/PolicyRatio/Std          │ 0.0002300656051374972  │\n",
       "│ Train/LR                       │ 0.0                    │\n",
       "│ Train/PolicyStd                │ 0.9645276069641113     │\n",
       "│ TotalEnvSteps                  │ 420000.0               │\n",
       "│ Loss/Loss_pi                   │ -0.018567664548754692  │\n",
       "│ Loss/Loss_pi/Delta             │ -0.0006130822002887726 │\n",
       "│ Value/Adv                      │ 6.103515470812226e-09  │\n",
       "│ Loss/Loss_reward_critic        │ 0.045786891132593155   │\n",
       "│ Loss/Loss_reward_critic/Delta  │ 0.0024214237928390503  │\n",
       "│ Value/reward                   │ 1.4241689443588257     │\n",
       "│ Loss/Loss_cost_critic          │ 1.8930736780166626     │\n",
       "│ Loss/Loss_cost_critic/Delta    │ 0.11132478713989258    │\n",
       "│ Value/cost                     │ 12.713215827941895     │\n",
       "│ Time/Total                     │ 1662.9736328125        │\n",
       "│ Time/Rollout                   │ 75.21171569824219      │\n",
       "│ Time/Update                    │ 13.950374603271484     │\n",
       "│ Time/Epoch                     │ 89.1620864868164       │\n",
       "│ Time/FPS                       │ 224.31057739257812     │\n",
       "│ Misc/Alpha                     │ 0.6950539946556091     │\n",
       "│ Misc/FinalStepNorm             │ 0.3016258180141449     │\n",
       "│ Misc/gradient_norm             │ 0.130362406373024      │\n",
       "│ Misc/xHx                       │ 0.0413992777466774     │\n",
       "│ Misc/H_inv_g                   │ 0.43396028876304626    │\n",
       "│ Misc/AcceptanceStep            │ 1.0                    │\n",
       "│ Metrics/LagrangeMultiplier/Mea │ 0.6985890865325928     │\n",
       "│ Metrics/LagrangeMultiplier/Min │ 0.6985890865325928     │\n",
       "│ Metrics/LagrangeMultiplier/Max │ 0.6985890865325928     │\n",
       "│ Metrics/LagrangeMultiplier/Std │ 0.0                    │\n",
       "└────────────────────────────────┴────────────────────────┘\n"
      ]
     },
     "metadata": {},
     "output_type": "display_data"
    },
    {
     "data": {
      "text/html": [
       "<pre style=\"white-space:pre;overflow-x:auto;line-height:normal;font-family:Menlo,'DejaVu Sans Mono',consolas,'Courier New',monospace\"><span style=\"color: #008000; text-decoration-color: #008000\">Warning: trajectory cut off when rollout by epoch at </span><span style=\"color: #008080; text-decoration-color: #008080; font-weight: bold\">1000.0</span><span style=\"color: #008000; text-decoration-color: #008000\"> steps.</span>\n",
       "</pre>\n"
      ],
      "text/plain": [
       "\u001b[32mWarning: trajectory cut off when rollout by epoch at \u001b[0m\u001b[1;36m1000.0\u001b[0m\u001b[32m steps.\u001b[0m\n"
      ]
     },
     "metadata": {},
     "output_type": "display_data"
    },
    {
     "data": {
      "text/html": [
       "<pre style=\"white-space:pre;overflow-x:auto;line-height:normal;font-family:Menlo,'DejaVu Sans Mono',consolas,'Courier New',monospace\"><span style=\"color: #008000; text-decoration-color: #008000\">Warning: trajectory cut off when rollout by epoch at </span><span style=\"color: #008080; text-decoration-color: #008080; font-weight: bold\">1000.0</span><span style=\"color: #008000; text-decoration-color: #008000\"> steps.</span>\n",
       "</pre>\n"
      ],
      "text/plain": [
       "\u001b[32mWarning: trajectory cut off when rollout by epoch at \u001b[0m\u001b[1;36m1000.0\u001b[0m\u001b[32m steps.\u001b[0m\n"
      ]
     },
     "metadata": {},
     "output_type": "display_data"
    },
    {
     "data": {
      "text/html": [
       "<pre style=\"white-space:pre;overflow-x:auto;line-height:normal;font-family:Menlo,'DejaVu Sans Mono',consolas,'Courier New',monospace\"><span style=\"color: #008000; text-decoration-color: #008000\">Warning: trajectory cut off when rollout by epoch at </span><span style=\"color: #008080; text-decoration-color: #008080; font-weight: bold\">1000.0</span><span style=\"color: #008000; text-decoration-color: #008000\"> steps.</span>\n",
       "</pre>\n"
      ],
      "text/plain": [
       "\u001b[32mWarning: trajectory cut off when rollout by epoch at \u001b[0m\u001b[1;36m1000.0\u001b[0m\u001b[32m steps.\u001b[0m\n"
      ]
     },
     "metadata": {},
     "output_type": "display_data"
    },
    {
     "data": {
      "text/html": [
       "<pre style=\"white-space:pre;overflow-x:auto;line-height:normal;font-family:Menlo,'DejaVu Sans Mono',consolas,'Courier New',monospace\"><span style=\"color: #008000; text-decoration-color: #008000\">Warning: trajectory cut off when rollout by epoch at </span><span style=\"color: #008080; text-decoration-color: #008080; font-weight: bold\">1000.0</span><span style=\"color: #008000; text-decoration-color: #008000\"> steps.</span>\n",
       "</pre>\n"
      ],
      "text/plain": [
       "\u001b[32mWarning: trajectory cut off when rollout by epoch at \u001b[0m\u001b[1;36m1000.0\u001b[0m\u001b[32m steps.\u001b[0m\n"
      ]
     },
     "metadata": {},
     "output_type": "display_data"
    },
    {
     "data": {
      "text/html": [
       "<pre style=\"white-space:pre;overflow-x:auto;line-height:normal;font-family:Menlo,'DejaVu Sans Mono',consolas,'Courier New',monospace\"></pre>\n"
      ],
      "text/plain": []
     },
     "metadata": {},
     "output_type": "display_data"
    },
    {
     "data": {
      "text/html": [
       "<pre style=\"white-space:pre;overflow-x:auto;line-height:normal;font-family:Menlo,'DejaVu Sans Mono',consolas,'Courier New',monospace\">\n",
       "</pre>\n"
      ],
      "text/plain": [
       "\n"
      ]
     },
     "metadata": {},
     "output_type": "display_data"
    },
    {
     "data": {
      "text/html": [
       "<pre style=\"white-space:pre;overflow-x:auto;line-height:normal;font-family:Menlo,'DejaVu Sans Mono',consolas,'Courier New',monospace\"><span style=\"color: #008000; text-decoration-color: #008000\">Expected Improvement: </span><span style=\"color: #008080; text-decoration-color: #008080; font-weight: bold\">0.03541450947523117</span><span style=\"color: #008000; text-decoration-color: #008000\"> Actual: </span><span style=\"color: #008080; text-decoration-color: #008080; font-weight: bold\">0.03505633398890495</span>\n",
       "</pre>\n"
      ],
      "text/plain": [
       "\u001b[32mExpected Improvement: \u001b[0m\u001b[1;36m0.03541450947523117\u001b[0m\u001b[32m Actual: \u001b[0m\u001b[1;36m0.03505633398890495\u001b[0m\n"
      ]
     },
     "metadata": {},
     "output_type": "display_data"
    },
    {
     "data": {
      "text/html": [
       "<pre style=\"white-space:pre;overflow-x:auto;line-height:normal;font-family:Menlo,'DejaVu Sans Mono',consolas,'Courier New',monospace\"><span style=\"color: #008000; text-decoration-color: #008000\">Accept step at </span><span style=\"color: #808000; text-decoration-color: #808000\">i</span><span style=\"color: #008000; text-decoration-color: #008000\">=</span><span style=\"color: #008080; text-decoration-color: #008080; font-weight: bold\">1</span>\n",
       "</pre>\n"
      ],
      "text/plain": [
       "\u001b[32mAccept step at \u001b[0m\u001b[33mi\u001b[0m\u001b[32m=\u001b[0m\u001b[1;36m1\u001b[0m\n"
      ]
     },
     "metadata": {},
     "output_type": "display_data"
    },
    {
     "data": {
      "text/html": [
       "<pre style=\"white-space:pre;overflow-x:auto;line-height:normal;font-family:Menlo,'DejaVu Sans Mono',consolas,'Courier New',monospace\">┏━━━━━━━━━━━━━━━━━━━━━━━━━━━━━━━━┳━━━━━━━━━━━━━━━━━━━━━━━━━┓\n",
       "┃<span style=\"font-weight: bold\"> Metrics                        </span>┃<span style=\"font-weight: bold\"> Value                   </span>┃\n",
       "┡━━━━━━━━━━━━━━━━━━━━━━━━━━━━━━━━╇━━━━━━━━━━━━━━━━━━━━━━━━━┩\n",
       "│ Metrics/EpRet                  │ 12.879820823669434      │\n",
       "│ Metrics/EpCost                 │ 109.08000183105469      │\n",
       "│ Metrics/EpLen                  │ 1000.0                  │\n",
       "│ Train/Epoch                    │ 21.0                    │\n",
       "│ Train/Entropy                  │ 1.3758796453475952      │\n",
       "│ Train/KL                       │ 0.00032577943056821823  │\n",
       "│ Train/StopIter                 │ 10.0                    │\n",
       "│ Train/PolicyRatio/Mean         │ 1.0000885725021362      │\n",
       "│ Train/PolicyRatio/Min          │ 1.0000885725021362      │\n",
       "│ Train/PolicyRatio/Max          │ 1.0000885725021362      │\n",
       "│ Train/PolicyRatio/Std          │ 6.260212830966339e-05   │\n",
       "│ Train/LR                       │ 0.0                     │\n",
       "│ Train/PolicyStd                │ 0.9578645825386047      │\n",
       "│ TotalEnvSteps                  │ 440000.0                │\n",
       "│ Loss/Loss_pi                   │ -0.023370886221528053   │\n",
       "│ Loss/Loss_pi/Delta             │ -0.004803221672773361   │\n",
       "│ Value/Adv                      │ -1.5258788677030566e-09 │\n",
       "│ Loss/Loss_reward_critic        │ 0.03814198076725006     │\n",
       "│ Loss/Loss_reward_critic/Delta  │ -0.007644910365343094   │\n",
       "│ Value/reward                   │ 1.1720998287200928      │\n",
       "│ Loss/Loss_cost_critic          │ 1.8837471008300781      │\n",
       "│ Loss/Loss_cost_critic/Delta    │ -0.009326577186584473   │\n",
       "│ Value/cost                     │ 10.852124214172363      │\n",
       "│ Time/Total                     │ 1753.5728759765625      │\n",
       "│ Time/Rollout                   │ 76.04869079589844       │\n",
       "│ Time/Update                    │ 14.511981964111328      │\n",
       "│ Time/Epoch                     │ 90.5606689453125        │\n",
       "│ Time/FPS                       │ 220.84642028808594      │\n",
       "│ Misc/Alpha                     │ 0.5649623274803162      │\n",
       "│ Misc/FinalStepNorm             │ 0.29698753356933594     │\n",
       "│ Misc/gradient_norm             │ 0.1639500856399536      │\n",
       "│ Misc/xHx                       │ 0.06266007572412491     │\n",
       "│ Misc/H_inv_g                   │ 0.5256766676902771      │\n",
       "│ Misc/AcceptanceStep            │ 1.0                     │\n",
       "│ Metrics/LagrangeMultiplier/Mea │ 0.7308173179626465      │\n",
       "│ Metrics/LagrangeMultiplier/Min │ 0.7308173179626465      │\n",
       "│ Metrics/LagrangeMultiplier/Max │ 0.7308173179626465      │\n",
       "│ Metrics/LagrangeMultiplier/Std │ 0.0                     │\n",
       "└────────────────────────────────┴─────────────────────────┘\n",
       "</pre>\n"
      ],
      "text/plain": [
       "┏━━━━━━━━━━━━━━━━━━━━━━━━━━━━━━━━┳━━━━━━━━━━━━━━━━━━━━━━━━━┓\n",
       "┃\u001b[1m \u001b[0m\u001b[1mMetrics                       \u001b[0m\u001b[1m \u001b[0m┃\u001b[1m \u001b[0m\u001b[1mValue                  \u001b[0m\u001b[1m \u001b[0m┃\n",
       "┡━━━━━━━━━━━━━━━━━━━━━━━━━━━━━━━━╇━━━━━━━━━━━━━━━━━━━━━━━━━┩\n",
       "│ Metrics/EpRet                  │ 12.879820823669434      │\n",
       "│ Metrics/EpCost                 │ 109.08000183105469      │\n",
       "│ Metrics/EpLen                  │ 1000.0                  │\n",
       "│ Train/Epoch                    │ 21.0                    │\n",
       "│ Train/Entropy                  │ 1.3758796453475952      │\n",
       "│ Train/KL                       │ 0.00032577943056821823  │\n",
       "│ Train/StopIter                 │ 10.0                    │\n",
       "│ Train/PolicyRatio/Mean         │ 1.0000885725021362      │\n",
       "│ Train/PolicyRatio/Min          │ 1.0000885725021362      │\n",
       "│ Train/PolicyRatio/Max          │ 1.0000885725021362      │\n",
       "│ Train/PolicyRatio/Std          │ 6.260212830966339e-05   │\n",
       "│ Train/LR                       │ 0.0                     │\n",
       "│ Train/PolicyStd                │ 0.9578645825386047      │\n",
       "│ TotalEnvSteps                  │ 440000.0                │\n",
       "│ Loss/Loss_pi                   │ -0.023370886221528053   │\n",
       "│ Loss/Loss_pi/Delta             │ -0.004803221672773361   │\n",
       "│ Value/Adv                      │ -1.5258788677030566e-09 │\n",
       "│ Loss/Loss_reward_critic        │ 0.03814198076725006     │\n",
       "│ Loss/Loss_reward_critic/Delta  │ -0.007644910365343094   │\n",
       "│ Value/reward                   │ 1.1720998287200928      │\n",
       "│ Loss/Loss_cost_critic          │ 1.8837471008300781      │\n",
       "│ Loss/Loss_cost_critic/Delta    │ -0.009326577186584473   │\n",
       "│ Value/cost                     │ 10.852124214172363      │\n",
       "│ Time/Total                     │ 1753.5728759765625      │\n",
       "│ Time/Rollout                   │ 76.04869079589844       │\n",
       "│ Time/Update                    │ 14.511981964111328      │\n",
       "│ Time/Epoch                     │ 90.5606689453125        │\n",
       "│ Time/FPS                       │ 220.84642028808594      │\n",
       "│ Misc/Alpha                     │ 0.5649623274803162      │\n",
       "│ Misc/FinalStepNorm             │ 0.29698753356933594     │\n",
       "│ Misc/gradient_norm             │ 0.1639500856399536      │\n",
       "│ Misc/xHx                       │ 0.06266007572412491     │\n",
       "│ Misc/H_inv_g                   │ 0.5256766676902771      │\n",
       "│ Misc/AcceptanceStep            │ 1.0                     │\n",
       "│ Metrics/LagrangeMultiplier/Mea │ 0.7308173179626465      │\n",
       "│ Metrics/LagrangeMultiplier/Min │ 0.7308173179626465      │\n",
       "│ Metrics/LagrangeMultiplier/Max │ 0.7308173179626465      │\n",
       "│ Metrics/LagrangeMultiplier/Std │ 0.0                     │\n",
       "└────────────────────────────────┴─────────────────────────┘\n"
      ]
     },
     "metadata": {},
     "output_type": "display_data"
    },
    {
     "data": {
      "text/html": [
       "<pre style=\"white-space:pre;overflow-x:auto;line-height:normal;font-family:Menlo,'DejaVu Sans Mono',consolas,'Courier New',monospace\"><span style=\"color: #008000; text-decoration-color: #008000\">Warning: trajectory cut off when rollout by epoch at </span><span style=\"color: #008080; text-decoration-color: #008080; font-weight: bold\">1000.0</span><span style=\"color: #008000; text-decoration-color: #008000\"> steps.</span>\n",
       "</pre>\n"
      ],
      "text/plain": [
       "\u001b[32mWarning: trajectory cut off when rollout by epoch at \u001b[0m\u001b[1;36m1000.0\u001b[0m\u001b[32m steps.\u001b[0m\n"
      ]
     },
     "metadata": {},
     "output_type": "display_data"
    },
    {
     "data": {
      "text/html": [
       "<pre style=\"white-space:pre;overflow-x:auto;line-height:normal;font-family:Menlo,'DejaVu Sans Mono',consolas,'Courier New',monospace\"><span style=\"color: #008000; text-decoration-color: #008000\">Warning: trajectory cut off when rollout by epoch at </span><span style=\"color: #008080; text-decoration-color: #008080; font-weight: bold\">1000.0</span><span style=\"color: #008000; text-decoration-color: #008000\"> steps.</span>\n",
       "</pre>\n"
      ],
      "text/plain": [
       "\u001b[32mWarning: trajectory cut off when rollout by epoch at \u001b[0m\u001b[1;36m1000.0\u001b[0m\u001b[32m steps.\u001b[0m\n"
      ]
     },
     "metadata": {},
     "output_type": "display_data"
    },
    {
     "data": {
      "text/html": [
       "<pre style=\"white-space:pre;overflow-x:auto;line-height:normal;font-family:Menlo,'DejaVu Sans Mono',consolas,'Courier New',monospace\"><span style=\"color: #008000; text-decoration-color: #008000\">Warning: trajectory cut off when rollout by epoch at </span><span style=\"color: #008080; text-decoration-color: #008080; font-weight: bold\">1000.0</span><span style=\"color: #008000; text-decoration-color: #008000\"> steps.</span>\n",
       "</pre>\n"
      ],
      "text/plain": [
       "\u001b[32mWarning: trajectory cut off when rollout by epoch at \u001b[0m\u001b[1;36m1000.0\u001b[0m\u001b[32m steps.\u001b[0m\n"
      ]
     },
     "metadata": {},
     "output_type": "display_data"
    },
    {
     "data": {
      "text/html": [
       "<pre style=\"white-space:pre;overflow-x:auto;line-height:normal;font-family:Menlo,'DejaVu Sans Mono',consolas,'Courier New',monospace\"><span style=\"color: #008000; text-decoration-color: #008000\">Warning: trajectory cut off when rollout by epoch at </span><span style=\"color: #008080; text-decoration-color: #008080; font-weight: bold\">1000.0</span><span style=\"color: #008000; text-decoration-color: #008000\"> steps.</span>\n",
       "</pre>\n"
      ],
      "text/plain": [
       "\u001b[32mWarning: trajectory cut off when rollout by epoch at \u001b[0m\u001b[1;36m1000.0\u001b[0m\u001b[32m steps.\u001b[0m\n"
      ]
     },
     "metadata": {},
     "output_type": "display_data"
    },
    {
     "data": {
      "text/html": [
       "<pre style=\"white-space:pre;overflow-x:auto;line-height:normal;font-family:Menlo,'DejaVu Sans Mono',consolas,'Courier New',monospace\"></pre>\n"
      ],
      "text/plain": []
     },
     "metadata": {},
     "output_type": "display_data"
    },
    {
     "data": {
      "text/html": [
       "<pre style=\"white-space:pre;overflow-x:auto;line-height:normal;font-family:Menlo,'DejaVu Sans Mono',consolas,'Courier New',monospace\">\n",
       "</pre>\n"
      ],
      "text/plain": [
       "\n"
      ]
     },
     "metadata": {},
     "output_type": "display_data"
    },
    {
     "data": {
      "text/html": [
       "<pre style=\"white-space:pre;overflow-x:auto;line-height:normal;font-family:Menlo,'DejaVu Sans Mono',consolas,'Courier New',monospace\"><span style=\"color: #008000; text-decoration-color: #008000\">Expected Improvement: </span><span style=\"color: #008080; text-decoration-color: #008080; font-weight: bold\">0.03219664841890335</span><span style=\"color: #008000; text-decoration-color: #008000\"> Actual: </span><span style=\"color: #008080; text-decoration-color: #008080; font-weight: bold\">0.03141758590936661</span>\n",
       "</pre>\n"
      ],
      "text/plain": [
       "\u001b[32mExpected Improvement: \u001b[0m\u001b[1;36m0.03219664841890335\u001b[0m\u001b[32m Actual: \u001b[0m\u001b[1;36m0.03141758590936661\u001b[0m\n"
      ]
     },
     "metadata": {},
     "output_type": "display_data"
    },
    {
     "data": {
      "text/html": [
       "<pre style=\"white-space:pre;overflow-x:auto;line-height:normal;font-family:Menlo,'DejaVu Sans Mono',consolas,'Courier New',monospace\"><span style=\"color: #008000; text-decoration-color: #008000\">Accept step at </span><span style=\"color: #808000; text-decoration-color: #808000\">i</span><span style=\"color: #008000; text-decoration-color: #008000\">=</span><span style=\"color: #008080; text-decoration-color: #008080; font-weight: bold\">1</span>\n",
       "</pre>\n"
      ],
      "text/plain": [
       "\u001b[32mAccept step at \u001b[0m\u001b[33mi\u001b[0m\u001b[32m=\u001b[0m\u001b[1;36m1\u001b[0m\n"
      ]
     },
     "metadata": {},
     "output_type": "display_data"
    },
    {
     "data": {
      "text/html": [
       "<pre style=\"white-space:pre;overflow-x:auto;line-height:normal;font-family:Menlo,'DejaVu Sans Mono',consolas,'Courier New',monospace\">┏━━━━━━━━━━━━━━━━━━━━━━━━━━━━━━━━┳━━━━━━━━━━━━━━━━━━━━━━━━━┓\n",
       "┃<span style=\"font-weight: bold\"> Metrics                        </span>┃<span style=\"font-weight: bold\"> Value                   </span>┃\n",
       "┡━━━━━━━━━━━━━━━━━━━━━━━━━━━━━━━━╇━━━━━━━━━━━━━━━━━━━━━━━━━┩\n",
       "│ Metrics/EpRet                  │ 13.217248916625977      │\n",
       "│ Metrics/EpCost                 │ 108.45999908447266      │\n",
       "│ Metrics/EpLen                  │ 1000.0                  │\n",
       "│ Train/Epoch                    │ 22.0                    │\n",
       "│ Train/Entropy                  │ 1.375313401222229       │\n",
       "│ Train/KL                       │ 0.0003074263222515583   │\n",
       "│ Train/StopIter                 │ 10.0                    │\n",
       "│ Train/PolicyRatio/Mean         │ 0.9993500113487244      │\n",
       "│ Train/PolicyRatio/Min          │ 0.9993500113487244      │\n",
       "│ Train/PolicyRatio/Max          │ 0.9993500113487244      │\n",
       "│ Train/PolicyRatio/Std          │ 0.00045962544390931726  │\n",
       "│ Train/LR                       │ 0.0                     │\n",
       "│ Train/PolicyStd                │ 0.957324743270874       │\n",
       "│ TotalEnvSteps                  │ 460000.0                │\n",
       "│ Loss/Loss_pi                   │ -0.020945057272911072   │\n",
       "│ Loss/Loss_pi/Delta             │ 0.0024258289486169815   │\n",
       "│ Value/Adv                      │ -2.2888182460434336e-09 │\n",
       "│ Loss/Loss_reward_critic        │ 0.04775776341557503     │\n",
       "│ Loss/Loss_reward_critic/Delta  │ 0.009615782648324966    │\n",
       "│ Value/reward                   │ 1.2490376234054565      │\n",
       "│ Loss/Loss_cost_critic          │ 1.7028731107711792      │\n",
       "│ Loss/Loss_cost_critic/Delta    │ -0.18087399005889893    │\n",
       "│ Value/cost                     │ 10.644951820373535      │\n",
       "│ Time/Total                     │ 1839.376708984375       │\n",
       "│ Time/Rollout                   │ 72.2940673828125        │\n",
       "│ Time/Update                    │ 13.463897705078125      │\n",
       "│ Time/Epoch                     │ 85.75796508789062       │\n",
       "│ Time/FPS                       │ 233.2144775390625       │\n",
       "│ Misc/Alpha                     │ 0.621442437171936       │\n",
       "│ Misc/FinalStepNorm             │ 0.29485565423965454     │\n",
       "│ Misc/gradient_norm             │ 0.16633397340774536     │\n",
       "│ Misc/xHx                       │ 0.05178787559270859     │\n",
       "│ Misc/H_inv_g                   │ 0.47446975111961365     │\n",
       "│ Misc/AcceptanceStep            │ 1.0                     │\n",
       "│ Metrics/LagrangeMultiplier/Mea │ 0.7629978656768799      │\n",
       "│ Metrics/LagrangeMultiplier/Min │ 0.7629978656768799      │\n",
       "│ Metrics/LagrangeMultiplier/Max │ 0.7629978656768799      │\n",
       "│ Metrics/LagrangeMultiplier/Std │ 0.0                     │\n",
       "└────────────────────────────────┴─────────────────────────┘\n",
       "</pre>\n"
      ],
      "text/plain": [
       "┏━━━━━━━━━━━━━━━━━━━━━━━━━━━━━━━━┳━━━━━━━━━━━━━━━━━━━━━━━━━┓\n",
       "┃\u001b[1m \u001b[0m\u001b[1mMetrics                       \u001b[0m\u001b[1m \u001b[0m┃\u001b[1m \u001b[0m\u001b[1mValue                  \u001b[0m\u001b[1m \u001b[0m┃\n",
       "┡━━━━━━━━━━━━━━━━━━━━━━━━━━━━━━━━╇━━━━━━━━━━━━━━━━━━━━━━━━━┩\n",
       "│ Metrics/EpRet                  │ 13.217248916625977      │\n",
       "│ Metrics/EpCost                 │ 108.45999908447266      │\n",
       "│ Metrics/EpLen                  │ 1000.0                  │\n",
       "│ Train/Epoch                    │ 22.0                    │\n",
       "│ Train/Entropy                  │ 1.375313401222229       │\n",
       "│ Train/KL                       │ 0.0003074263222515583   │\n",
       "│ Train/StopIter                 │ 10.0                    │\n",
       "│ Train/PolicyRatio/Mean         │ 0.9993500113487244      │\n",
       "│ Train/PolicyRatio/Min          │ 0.9993500113487244      │\n",
       "│ Train/PolicyRatio/Max          │ 0.9993500113487244      │\n",
       "│ Train/PolicyRatio/Std          │ 0.00045962544390931726  │\n",
       "│ Train/LR                       │ 0.0                     │\n",
       "│ Train/PolicyStd                │ 0.957324743270874       │\n",
       "│ TotalEnvSteps                  │ 460000.0                │\n",
       "│ Loss/Loss_pi                   │ -0.020945057272911072   │\n",
       "│ Loss/Loss_pi/Delta             │ 0.0024258289486169815   │\n",
       "│ Value/Adv                      │ -2.2888182460434336e-09 │\n",
       "│ Loss/Loss_reward_critic        │ 0.04775776341557503     │\n",
       "│ Loss/Loss_reward_critic/Delta  │ 0.009615782648324966    │\n",
       "│ Value/reward                   │ 1.2490376234054565      │\n",
       "│ Loss/Loss_cost_critic          │ 1.7028731107711792      │\n",
       "│ Loss/Loss_cost_critic/Delta    │ -0.18087399005889893    │\n",
       "│ Value/cost                     │ 10.644951820373535      │\n",
       "│ Time/Total                     │ 1839.376708984375       │\n",
       "│ Time/Rollout                   │ 72.2940673828125        │\n",
       "│ Time/Update                    │ 13.463897705078125      │\n",
       "│ Time/Epoch                     │ 85.75796508789062       │\n",
       "│ Time/FPS                       │ 233.2144775390625       │\n",
       "│ Misc/Alpha                     │ 0.621442437171936       │\n",
       "│ Misc/FinalStepNorm             │ 0.29485565423965454     │\n",
       "│ Misc/gradient_norm             │ 0.16633397340774536     │\n",
       "│ Misc/xHx                       │ 0.05178787559270859     │\n",
       "│ Misc/H_inv_g                   │ 0.47446975111961365     │\n",
       "│ Misc/AcceptanceStep            │ 1.0                     │\n",
       "│ Metrics/LagrangeMultiplier/Mea │ 0.7629978656768799      │\n",
       "│ Metrics/LagrangeMultiplier/Min │ 0.7629978656768799      │\n",
       "│ Metrics/LagrangeMultiplier/Max │ 0.7629978656768799      │\n",
       "│ Metrics/LagrangeMultiplier/Std │ 0.0                     │\n",
       "└────────────────────────────────┴─────────────────────────┘\n"
      ]
     },
     "metadata": {},
     "output_type": "display_data"
    },
    {
     "data": {
      "text/html": [
       "<pre style=\"white-space:pre;overflow-x:auto;line-height:normal;font-family:Menlo,'DejaVu Sans Mono',consolas,'Courier New',monospace\"><span style=\"color: #008000; text-decoration-color: #008000\">Warning: trajectory cut off when rollout by epoch at </span><span style=\"color: #008080; text-decoration-color: #008080; font-weight: bold\">1000.0</span><span style=\"color: #008000; text-decoration-color: #008000\"> steps.</span>\n",
       "</pre>\n"
      ],
      "text/plain": [
       "\u001b[32mWarning: trajectory cut off when rollout by epoch at \u001b[0m\u001b[1;36m1000.0\u001b[0m\u001b[32m steps.\u001b[0m\n"
      ]
     },
     "metadata": {},
     "output_type": "display_data"
    },
    {
     "data": {
      "text/html": [
       "<pre style=\"white-space:pre;overflow-x:auto;line-height:normal;font-family:Menlo,'DejaVu Sans Mono',consolas,'Courier New',monospace\"><span style=\"color: #008000; text-decoration-color: #008000\">Warning: trajectory cut off when rollout by epoch at </span><span style=\"color: #008080; text-decoration-color: #008080; font-weight: bold\">1000.0</span><span style=\"color: #008000; text-decoration-color: #008000\"> steps.</span>\n",
       "</pre>\n"
      ],
      "text/plain": [
       "\u001b[32mWarning: trajectory cut off when rollout by epoch at \u001b[0m\u001b[1;36m1000.0\u001b[0m\u001b[32m steps.\u001b[0m\n"
      ]
     },
     "metadata": {},
     "output_type": "display_data"
    },
    {
     "data": {
      "text/html": [
       "<pre style=\"white-space:pre;overflow-x:auto;line-height:normal;font-family:Menlo,'DejaVu Sans Mono',consolas,'Courier New',monospace\"><span style=\"color: #008000; text-decoration-color: #008000\">Warning: trajectory cut off when rollout by epoch at </span><span style=\"color: #008080; text-decoration-color: #008080; font-weight: bold\">1000.0</span><span style=\"color: #008000; text-decoration-color: #008000\"> steps.</span>\n",
       "</pre>\n"
      ],
      "text/plain": [
       "\u001b[32mWarning: trajectory cut off when rollout by epoch at \u001b[0m\u001b[1;36m1000.0\u001b[0m\u001b[32m steps.\u001b[0m\n"
      ]
     },
     "metadata": {},
     "output_type": "display_data"
    },
    {
     "data": {
      "text/html": [
       "<pre style=\"white-space:pre;overflow-x:auto;line-height:normal;font-family:Menlo,'DejaVu Sans Mono',consolas,'Courier New',monospace\"><span style=\"color: #008000; text-decoration-color: #008000\">Warning: trajectory cut off when rollout by epoch at </span><span style=\"color: #008080; text-decoration-color: #008080; font-weight: bold\">1000.0</span><span style=\"color: #008000; text-decoration-color: #008000\"> steps.</span>\n",
       "</pre>\n"
      ],
      "text/plain": [
       "\u001b[32mWarning: trajectory cut off when rollout by epoch at \u001b[0m\u001b[1;36m1000.0\u001b[0m\u001b[32m steps.\u001b[0m\n"
      ]
     },
     "metadata": {},
     "output_type": "display_data"
    },
    {
     "data": {
      "text/html": [
       "<pre style=\"white-space:pre;overflow-x:auto;line-height:normal;font-family:Menlo,'DejaVu Sans Mono',consolas,'Courier New',monospace\"></pre>\n"
      ],
      "text/plain": []
     },
     "metadata": {},
     "output_type": "display_data"
    },
    {
     "data": {
      "text/html": [
       "<pre style=\"white-space:pre;overflow-x:auto;line-height:normal;font-family:Menlo,'DejaVu Sans Mono',consolas,'Courier New',monospace\">\n",
       "</pre>\n"
      ],
      "text/plain": [
       "\n"
      ]
     },
     "metadata": {},
     "output_type": "display_data"
    },
    {
     "data": {
      "text/html": [
       "<pre style=\"white-space:pre;overflow-x:auto;line-height:normal;font-family:Menlo,'DejaVu Sans Mono',consolas,'Courier New',monospace\"><span style=\"color: #008000; text-decoration-color: #008000\">Expected Improvement: </span><span style=\"color: #008080; text-decoration-color: #008080; font-weight: bold\">0.0314011387526989</span><span style=\"color: #008000; text-decoration-color: #008000\"> Actual: </span><span style=\"color: #008080; text-decoration-color: #008080; font-weight: bold\">0.030517643317580223</span>\n",
       "</pre>\n"
      ],
      "text/plain": [
       "\u001b[32mExpected Improvement: \u001b[0m\u001b[1;36m0.0314011387526989\u001b[0m\u001b[32m Actual: \u001b[0m\u001b[1;36m0.030517643317580223\u001b[0m\n"
      ]
     },
     "metadata": {},
     "output_type": "display_data"
    },
    {
     "data": {
      "text/html": [
       "<pre style=\"white-space:pre;overflow-x:auto;line-height:normal;font-family:Menlo,'DejaVu Sans Mono',consolas,'Courier New',monospace\"><span style=\"color: #008000; text-decoration-color: #008000\">Accept step at </span><span style=\"color: #808000; text-decoration-color: #808000\">i</span><span style=\"color: #008000; text-decoration-color: #008000\">=</span><span style=\"color: #008080; text-decoration-color: #008080; font-weight: bold\">1</span>\n",
       "</pre>\n"
      ],
      "text/plain": [
       "\u001b[32mAccept step at \u001b[0m\u001b[33mi\u001b[0m\u001b[32m=\u001b[0m\u001b[1;36m1\u001b[0m\n"
      ]
     },
     "metadata": {},
     "output_type": "display_data"
    },
    {
     "data": {
      "text/html": [
       "<pre style=\"white-space:pre;overflow-x:auto;line-height:normal;font-family:Menlo,'DejaVu Sans Mono',consolas,'Courier New',monospace\">┏━━━━━━━━━━━━━━━━━━━━━━━━━━━━━━━━┳━━━━━━━━━━━━━━━━━━━━━━━┓\n",
       "┃<span style=\"font-weight: bold\"> Metrics                        </span>┃<span style=\"font-weight: bold\"> Value                 </span>┃\n",
       "┡━━━━━━━━━━━━━━━━━━━━━━━━━━━━━━━━╇━━━━━━━━━━━━━━━━━━━━━━━┩\n",
       "│ Metrics/EpRet                  │ 11.622939109802246    │\n",
       "│ Metrics/EpCost                 │ 112.08000183105469    │\n",
       "│ Metrics/EpLen                  │ 1000.0                │\n",
       "│ Train/Epoch                    │ 23.0                  │\n",
       "│ Train/Entropy                  │ 1.3674160242080688    │\n",
       "│ Train/KL                       │ 0.0003393555525690317 │\n",
       "│ Train/StopIter                 │ 10.0                  │\n",
       "│ Train/PolicyRatio/Mean         │ 0.999269962310791     │\n",
       "│ Train/PolicyRatio/Min          │ 0.999269962310791     │\n",
       "│ Train/PolicyRatio/Max          │ 0.999269962310791     │\n",
       "│ Train/PolicyRatio/Std          │ 0.000516242696903646  │\n",
       "│ Train/LR                       │ 0.0                   │\n",
       "│ Train/PolicyStd                │ 0.949896514415741     │\n",
       "│ TotalEnvSteps                  │ 480000.0              │\n",
       "│ Loss/Loss_pi                   │ -0.020345108583569527 │\n",
       "│ Loss/Loss_pi/Delta             │ 0.0005999486893415451 │\n",
       "│ Value/Adv                      │ 7.438659466174613e-09 │\n",
       "│ Loss/Loss_reward_critic        │ 0.037904225289821625  │\n",
       "│ Loss/Loss_reward_critic/Delta  │ -0.009853538125753403 │\n",
       "│ Value/reward                   │ 1.1263076066970825    │\n",
       "│ Loss/Loss_cost_critic          │ 1.5466400384902954    │\n",
       "│ Loss/Loss_cost_critic/Delta    │ -0.1562330722808838   │\n",
       "│ Value/cost                     │ 10.169639587402344    │\n",
       "│ Time/Total                     │ 1926.0810546875       │\n",
       "│ Time/Rollout                   │ 73.49119567871094     │\n",
       "│ Time/Update                    │ 13.182060241699219    │\n",
       "│ Time/Epoch                     │ 86.67325592041016     │\n",
       "│ Time/FPS                       │ 230.75169372558594    │\n",
       "│ Misc/Alpha                     │ 0.6372141242027283    │\n",
       "│ Misc/FinalStepNorm             │ 0.2903655767440796    │\n",
       "│ Misc/gradient_norm             │ 0.17008660733699799   │\n",
       "│ Misc/xHx                       │ 0.04925599694252014   │\n",
       "│ Misc/H_inv_g                   │ 0.4556797742843628    │\n",
       "│ Misc/AcceptanceStep            │ 1.0                   │\n",
       "│ Metrics/LagrangeMultiplier/Mea │ 0.7952412962913513    │\n",
       "│ Metrics/LagrangeMultiplier/Min │ 0.7952412962913513    │\n",
       "│ Metrics/LagrangeMultiplier/Max │ 0.7952412962913513    │\n",
       "│ Metrics/LagrangeMultiplier/Std │ 0.0                   │\n",
       "└────────────────────────────────┴───────────────────────┘\n",
       "</pre>\n"
      ],
      "text/plain": [
       "┏━━━━━━━━━━━━━━━━━━━━━━━━━━━━━━━━┳━━━━━━━━━━━━━━━━━━━━━━━┓\n",
       "┃\u001b[1m \u001b[0m\u001b[1mMetrics                       \u001b[0m\u001b[1m \u001b[0m┃\u001b[1m \u001b[0m\u001b[1mValue                \u001b[0m\u001b[1m \u001b[0m┃\n",
       "┡━━━━━━━━━━━━━━━━━━━━━━━━━━━━━━━━╇━━━━━━━━━━━━━━━━━━━━━━━┩\n",
       "│ Metrics/EpRet                  │ 11.622939109802246    │\n",
       "│ Metrics/EpCost                 │ 112.08000183105469    │\n",
       "│ Metrics/EpLen                  │ 1000.0                │\n",
       "│ Train/Epoch                    │ 23.0                  │\n",
       "│ Train/Entropy                  │ 1.3674160242080688    │\n",
       "│ Train/KL                       │ 0.0003393555525690317 │\n",
       "│ Train/StopIter                 │ 10.0                  │\n",
       "│ Train/PolicyRatio/Mean         │ 0.999269962310791     │\n",
       "│ Train/PolicyRatio/Min          │ 0.999269962310791     │\n",
       "│ Train/PolicyRatio/Max          │ 0.999269962310791     │\n",
       "│ Train/PolicyRatio/Std          │ 0.000516242696903646  │\n",
       "│ Train/LR                       │ 0.0                   │\n",
       "│ Train/PolicyStd                │ 0.949896514415741     │\n",
       "│ TotalEnvSteps                  │ 480000.0              │\n",
       "│ Loss/Loss_pi                   │ -0.020345108583569527 │\n",
       "│ Loss/Loss_pi/Delta             │ 0.0005999486893415451 │\n",
       "│ Value/Adv                      │ 7.438659466174613e-09 │\n",
       "│ Loss/Loss_reward_critic        │ 0.037904225289821625  │\n",
       "│ Loss/Loss_reward_critic/Delta  │ -0.009853538125753403 │\n",
       "│ Value/reward                   │ 1.1263076066970825    │\n",
       "│ Loss/Loss_cost_critic          │ 1.5466400384902954    │\n",
       "│ Loss/Loss_cost_critic/Delta    │ -0.1562330722808838   │\n",
       "│ Value/cost                     │ 10.169639587402344    │\n",
       "│ Time/Total                     │ 1926.0810546875       │\n",
       "│ Time/Rollout                   │ 73.49119567871094     │\n",
       "│ Time/Update                    │ 13.182060241699219    │\n",
       "│ Time/Epoch                     │ 86.67325592041016     │\n",
       "│ Time/FPS                       │ 230.75169372558594    │\n",
       "│ Misc/Alpha                     │ 0.6372141242027283    │\n",
       "│ Misc/FinalStepNorm             │ 0.2903655767440796    │\n",
       "│ Misc/gradient_norm             │ 0.17008660733699799   │\n",
       "│ Misc/xHx                       │ 0.04925599694252014   │\n",
       "│ Misc/H_inv_g                   │ 0.4556797742843628    │\n",
       "│ Misc/AcceptanceStep            │ 1.0                   │\n",
       "│ Metrics/LagrangeMultiplier/Mea │ 0.7952412962913513    │\n",
       "│ Metrics/LagrangeMultiplier/Min │ 0.7952412962913513    │\n",
       "│ Metrics/LagrangeMultiplier/Max │ 0.7952412962913513    │\n",
       "│ Metrics/LagrangeMultiplier/Std │ 0.0                   │\n",
       "└────────────────────────────────┴───────────────────────┘\n"
      ]
     },
     "metadata": {},
     "output_type": "display_data"
    },
    {
     "data": {
      "text/html": [
       "<pre style=\"white-space:pre;overflow-x:auto;line-height:normal;font-family:Menlo,'DejaVu Sans Mono',consolas,'Courier New',monospace\"><span style=\"color: #008000; text-decoration-color: #008000\">Warning: trajectory cut off when rollout by epoch at </span><span style=\"color: #008080; text-decoration-color: #008080; font-weight: bold\">1000.0</span><span style=\"color: #008000; text-decoration-color: #008000\"> steps.</span>\n",
       "</pre>\n"
      ],
      "text/plain": [
       "\u001b[32mWarning: trajectory cut off when rollout by epoch at \u001b[0m\u001b[1;36m1000.0\u001b[0m\u001b[32m steps.\u001b[0m\n"
      ]
     },
     "metadata": {},
     "output_type": "display_data"
    },
    {
     "data": {
      "text/html": [
       "<pre style=\"white-space:pre;overflow-x:auto;line-height:normal;font-family:Menlo,'DejaVu Sans Mono',consolas,'Courier New',monospace\"><span style=\"color: #008000; text-decoration-color: #008000\">Warning: trajectory cut off when rollout by epoch at </span><span style=\"color: #008080; text-decoration-color: #008080; font-weight: bold\">1000.0</span><span style=\"color: #008000; text-decoration-color: #008000\"> steps.</span>\n",
       "</pre>\n"
      ],
      "text/plain": [
       "\u001b[32mWarning: trajectory cut off when rollout by epoch at \u001b[0m\u001b[1;36m1000.0\u001b[0m\u001b[32m steps.\u001b[0m\n"
      ]
     },
     "metadata": {},
     "output_type": "display_data"
    },
    {
     "data": {
      "text/html": [
       "<pre style=\"white-space:pre;overflow-x:auto;line-height:normal;font-family:Menlo,'DejaVu Sans Mono',consolas,'Courier New',monospace\"><span style=\"color: #008000; text-decoration-color: #008000\">Warning: trajectory cut off when rollout by epoch at </span><span style=\"color: #008080; text-decoration-color: #008080; font-weight: bold\">1000.0</span><span style=\"color: #008000; text-decoration-color: #008000\"> steps.</span>\n",
       "</pre>\n"
      ],
      "text/plain": [
       "\u001b[32mWarning: trajectory cut off when rollout by epoch at \u001b[0m\u001b[1;36m1000.0\u001b[0m\u001b[32m steps.\u001b[0m\n"
      ]
     },
     "metadata": {},
     "output_type": "display_data"
    },
    {
     "data": {
      "text/html": [
       "<pre style=\"white-space:pre;overflow-x:auto;line-height:normal;font-family:Menlo,'DejaVu Sans Mono',consolas,'Courier New',monospace\"><span style=\"color: #008000; text-decoration-color: #008000\">Warning: trajectory cut off when rollout by epoch at </span><span style=\"color: #008080; text-decoration-color: #008080; font-weight: bold\">1000.0</span><span style=\"color: #008000; text-decoration-color: #008000\"> steps.</span>\n",
       "</pre>\n"
      ],
      "text/plain": [
       "\u001b[32mWarning: trajectory cut off when rollout by epoch at \u001b[0m\u001b[1;36m1000.0\u001b[0m\u001b[32m steps.\u001b[0m\n"
      ]
     },
     "metadata": {},
     "output_type": "display_data"
    },
    {
     "data": {
      "text/html": [
       "<pre style=\"white-space:pre;overflow-x:auto;line-height:normal;font-family:Menlo,'DejaVu Sans Mono',consolas,'Courier New',monospace\"></pre>\n"
      ],
      "text/plain": []
     },
     "metadata": {},
     "output_type": "display_data"
    },
    {
     "data": {
      "text/html": [
       "<pre style=\"white-space:pre;overflow-x:auto;line-height:normal;font-family:Menlo,'DejaVu Sans Mono',consolas,'Courier New',monospace\">\n",
       "</pre>\n"
      ],
      "text/plain": [
       "\n"
      ]
     },
     "metadata": {},
     "output_type": "display_data"
    },
    {
     "data": {
      "text/html": [
       "<pre style=\"white-space:pre;overflow-x:auto;line-height:normal;font-family:Menlo,'DejaVu Sans Mono',consolas,'Courier New',monospace\"><span style=\"color: #008000; text-decoration-color: #008000\">Expected Improvement: </span><span style=\"color: #008080; text-decoration-color: #008080; font-weight: bold\">0.029395125806331635</span><span style=\"color: #008000; text-decoration-color: #008000\"> Actual: </span><span style=\"color: #008080; text-decoration-color: #008080; font-weight: bold\">0.028804006054997444</span>\n",
       "</pre>\n"
      ],
      "text/plain": [
       "\u001b[32mExpected Improvement: \u001b[0m\u001b[1;36m0.029395125806331635\u001b[0m\u001b[32m Actual: \u001b[0m\u001b[1;36m0.028804006054997444\u001b[0m\n"
      ]
     },
     "metadata": {},
     "output_type": "display_data"
    },
    {
     "data": {
      "text/html": [
       "<pre style=\"white-space:pre;overflow-x:auto;line-height:normal;font-family:Menlo,'DejaVu Sans Mono',consolas,'Courier New',monospace\"><span style=\"color: #008000; text-decoration-color: #008000\">Accept step at </span><span style=\"color: #808000; text-decoration-color: #808000\">i</span><span style=\"color: #008000; text-decoration-color: #008000\">=</span><span style=\"color: #008080; text-decoration-color: #008080; font-weight: bold\">1</span>\n",
       "</pre>\n"
      ],
      "text/plain": [
       "\u001b[32mAccept step at \u001b[0m\u001b[33mi\u001b[0m\u001b[32m=\u001b[0m\u001b[1;36m1\u001b[0m\n"
      ]
     },
     "metadata": {},
     "output_type": "display_data"
    },
    {
     "data": {
      "text/html": [
       "<pre style=\"white-space:pre;overflow-x:auto;line-height:normal;font-family:Menlo,'DejaVu Sans Mono',consolas,'Courier New',monospace\">┏━━━━━━━━━━━━━━━━━━━━━━━━━━━━━━━━┳━━━━━━━━━━━━━━━━━━━━━━━━┓\n",
       "┃<span style=\"font-weight: bold\"> Metrics                        </span>┃<span style=\"font-weight: bold\"> Value                  </span>┃\n",
       "┡━━━━━━━━━━━━━━━━━━━━━━━━━━━━━━━━╇━━━━━━━━━━━━━━━━━━━━━━━━┩\n",
       "│ Metrics/EpRet                  │ 11.106121063232422     │\n",
       "│ Metrics/EpCost                 │ 108.9800033569336      │\n",
       "│ Metrics/EpLen                  │ 1000.0                 │\n",
       "│ Train/Epoch                    │ 24.0                   │\n",
       "│ Train/Entropy                  │ 1.3633335828781128     │\n",
       "│ Train/KL                       │ 0.00029630528297275305 │\n",
       "│ Train/StopIter                 │ 10.0                   │\n",
       "│ Train/PolicyRatio/Mean         │ 1.0000591278076172     │\n",
       "│ Train/PolicyRatio/Min          │ 1.0000591278076172     │\n",
       "│ Train/PolicyRatio/Max          │ 1.0000591278076172     │\n",
       "│ Train/PolicyRatio/Std          │ 4.1865943785523996e-05 │\n",
       "│ Train/LR                       │ 0.0                    │\n",
       "│ Train/PolicyStd                │ 0.9460877776145935     │\n",
       "│ TotalEnvSteps                  │ 500000.0               │\n",
       "│ Loss/Loss_pi                   │ -0.01920267380774021   │\n",
       "│ Loss/Loss_pi/Delta             │ 0.0011424347758293152  │\n",
       "│ Value/Adv                      │ -6.103515470812226e-09 │\n",
       "│ Loss/Loss_reward_critic        │ 0.04157668352127075    │\n",
       "│ Loss/Loss_reward_critic/Delta  │ 0.003672458231449127   │\n",
       "│ Value/reward                   │ 1.096081256866455      │\n",
       "│ Loss/Loss_cost_critic          │ 1.6946744918823242     │\n",
       "│ Loss/Loss_cost_critic/Delta    │ 0.1480344533920288     │\n",
       "│ Value/cost                     │ 9.480293273925781      │\n",
       "│ Time/Total                     │ 2000.0885009765625     │\n",
       "│ Time/Rollout                   │ 60.81221008300781      │\n",
       "│ Time/Update                    │ 13.156245231628418     │\n",
       "│ Time/Epoch                     │ 73.96846008300781      │\n",
       "│ Time/FPS                       │ 270.3855285644531      │\n",
       "│ Misc/Alpha                     │ 0.6807206273078918     │\n",
       "│ Misc/FinalStepNorm             │ 0.310171514749527      │\n",
       "│ Misc/gradient_norm             │ 0.13740310072898865    │\n",
       "│ Misc/xHx                       │ 0.0431610532104969     │\n",
       "│ Misc/H_inv_g                   │ 0.4556517004966736     │\n",
       "│ Misc/AcceptanceStep            │ 1.0                    │\n",
       "│ Metrics/LagrangeMultiplier/Mea │ 0.8274614214897156     │\n",
       "│ Metrics/LagrangeMultiplier/Min │ 0.8274614214897156     │\n",
       "│ Metrics/LagrangeMultiplier/Max │ 0.8274614214897156     │\n",
       "│ Metrics/LagrangeMultiplier/Std │ 0.0                    │\n",
       "└────────────────────────────────┴────────────────────────┘\n",
       "</pre>\n"
      ],
      "text/plain": [
       "┏━━━━━━━━━━━━━━━━━━━━━━━━━━━━━━━━┳━━━━━━━━━━━━━━━━━━━━━━━━┓\n",
       "┃\u001b[1m \u001b[0m\u001b[1mMetrics                       \u001b[0m\u001b[1m \u001b[0m┃\u001b[1m \u001b[0m\u001b[1mValue                 \u001b[0m\u001b[1m \u001b[0m┃\n",
       "┡━━━━━━━━━━━━━━━━━━━━━━━━━━━━━━━━╇━━━━━━━━━━━━━━━━━━━━━━━━┩\n",
       "│ Metrics/EpRet                  │ 11.106121063232422     │\n",
       "│ Metrics/EpCost                 │ 108.9800033569336      │\n",
       "│ Metrics/EpLen                  │ 1000.0                 │\n",
       "│ Train/Epoch                    │ 24.0                   │\n",
       "│ Train/Entropy                  │ 1.3633335828781128     │\n",
       "│ Train/KL                       │ 0.00029630528297275305 │\n",
       "│ Train/StopIter                 │ 10.0                   │\n",
       "│ Train/PolicyRatio/Mean         │ 1.0000591278076172     │\n",
       "│ Train/PolicyRatio/Min          │ 1.0000591278076172     │\n",
       "│ Train/PolicyRatio/Max          │ 1.0000591278076172     │\n",
       "│ Train/PolicyRatio/Std          │ 4.1865943785523996e-05 │\n",
       "│ Train/LR                       │ 0.0                    │\n",
       "│ Train/PolicyStd                │ 0.9460877776145935     │\n",
       "│ TotalEnvSteps                  │ 500000.0               │\n",
       "│ Loss/Loss_pi                   │ -0.01920267380774021   │\n",
       "│ Loss/Loss_pi/Delta             │ 0.0011424347758293152  │\n",
       "│ Value/Adv                      │ -6.103515470812226e-09 │\n",
       "│ Loss/Loss_reward_critic        │ 0.04157668352127075    │\n",
       "│ Loss/Loss_reward_critic/Delta  │ 0.003672458231449127   │\n",
       "│ Value/reward                   │ 1.096081256866455      │\n",
       "│ Loss/Loss_cost_critic          │ 1.6946744918823242     │\n",
       "│ Loss/Loss_cost_critic/Delta    │ 0.1480344533920288     │\n",
       "│ Value/cost                     │ 9.480293273925781      │\n",
       "│ Time/Total                     │ 2000.0885009765625     │\n",
       "│ Time/Rollout                   │ 60.81221008300781      │\n",
       "│ Time/Update                    │ 13.156245231628418     │\n",
       "│ Time/Epoch                     │ 73.96846008300781      │\n",
       "│ Time/FPS                       │ 270.3855285644531      │\n",
       "│ Misc/Alpha                     │ 0.6807206273078918     │\n",
       "│ Misc/FinalStepNorm             │ 0.310171514749527      │\n",
       "│ Misc/gradient_norm             │ 0.13740310072898865    │\n",
       "│ Misc/xHx                       │ 0.0431610532104969     │\n",
       "│ Misc/H_inv_g                   │ 0.4556517004966736     │\n",
       "│ Misc/AcceptanceStep            │ 1.0                    │\n",
       "│ Metrics/LagrangeMultiplier/Mea │ 0.8274614214897156     │\n",
       "│ Metrics/LagrangeMultiplier/Min │ 0.8274614214897156     │\n",
       "│ Metrics/LagrangeMultiplier/Max │ 0.8274614214897156     │\n",
       "│ Metrics/LagrangeMultiplier/Std │ 0.0                    │\n",
       "└────────────────────────────────┴────────────────────────┘\n"
      ]
     },
     "metadata": {},
     "output_type": "display_data"
    },
    {
     "data": {
      "text/html": [
       "<pre style=\"white-space:pre;overflow-x:auto;line-height:normal;font-family:Menlo,'DejaVu Sans Mono',consolas,'Courier New',monospace\"><span style=\"color: #008000; text-decoration-color: #008000\">Warning: trajectory cut off when rollout by epoch at </span><span style=\"color: #008080; text-decoration-color: #008080; font-weight: bold\">1000.0</span><span style=\"color: #008000; text-decoration-color: #008000\"> steps.</span>\n",
       "</pre>\n"
      ],
      "text/plain": [
       "\u001b[32mWarning: trajectory cut off when rollout by epoch at \u001b[0m\u001b[1;36m1000.0\u001b[0m\u001b[32m steps.\u001b[0m\n"
      ]
     },
     "metadata": {},
     "output_type": "display_data"
    },
    {
     "data": {
      "text/html": [
       "<pre style=\"white-space:pre;overflow-x:auto;line-height:normal;font-family:Menlo,'DejaVu Sans Mono',consolas,'Courier New',monospace\"><span style=\"color: #008000; text-decoration-color: #008000\">Warning: trajectory cut off when rollout by epoch at </span><span style=\"color: #008080; text-decoration-color: #008080; font-weight: bold\">1000.0</span><span style=\"color: #008000; text-decoration-color: #008000\"> steps.</span>\n",
       "</pre>\n"
      ],
      "text/plain": [
       "\u001b[32mWarning: trajectory cut off when rollout by epoch at \u001b[0m\u001b[1;36m1000.0\u001b[0m\u001b[32m steps.\u001b[0m\n"
      ]
     },
     "metadata": {},
     "output_type": "display_data"
    },
    {
     "data": {
      "text/html": [
       "<pre style=\"white-space:pre;overflow-x:auto;line-height:normal;font-family:Menlo,'DejaVu Sans Mono',consolas,'Courier New',monospace\"><span style=\"color: #008000; text-decoration-color: #008000\">Warning: trajectory cut off when rollout by epoch at </span><span style=\"color: #008080; text-decoration-color: #008080; font-weight: bold\">1000.0</span><span style=\"color: #008000; text-decoration-color: #008000\"> steps.</span>\n",
       "</pre>\n"
      ],
      "text/plain": [
       "\u001b[32mWarning: trajectory cut off when rollout by epoch at \u001b[0m\u001b[1;36m1000.0\u001b[0m\u001b[32m steps.\u001b[0m\n"
      ]
     },
     "metadata": {},
     "output_type": "display_data"
    },
    {
     "data": {
      "text/html": [
       "<pre style=\"white-space:pre;overflow-x:auto;line-height:normal;font-family:Menlo,'DejaVu Sans Mono',consolas,'Courier New',monospace\"><span style=\"color: #008000; text-decoration-color: #008000\">Warning: trajectory cut off when rollout by epoch at </span><span style=\"color: #008080; text-decoration-color: #008080; font-weight: bold\">1000.0</span><span style=\"color: #008000; text-decoration-color: #008000\"> steps.</span>\n",
       "</pre>\n"
      ],
      "text/plain": [
       "\u001b[32mWarning: trajectory cut off when rollout by epoch at \u001b[0m\u001b[1;36m1000.0\u001b[0m\u001b[32m steps.\u001b[0m\n"
      ]
     },
     "metadata": {},
     "output_type": "display_data"
    },
    {
     "data": {
      "text/html": [
       "<pre style=\"white-space:pre;overflow-x:auto;line-height:normal;font-family:Menlo,'DejaVu Sans Mono',consolas,'Courier New',monospace\"></pre>\n"
      ],
      "text/plain": []
     },
     "metadata": {},
     "output_type": "display_data"
    },
    {
     "data": {
      "text/html": [
       "<pre style=\"white-space:pre;overflow-x:auto;line-height:normal;font-family:Menlo,'DejaVu Sans Mono',consolas,'Courier New',monospace\">\n",
       "</pre>\n"
      ],
      "text/plain": [
       "\n"
      ]
     },
     "metadata": {},
     "output_type": "display_data"
    },
    {
     "data": {
      "text/html": [
       "<pre style=\"white-space:pre;overflow-x:auto;line-height:normal;font-family:Menlo,'DejaVu Sans Mono',consolas,'Courier New',monospace\"><span style=\"color: #008000; text-decoration-color: #008000\">Expected Improvement: </span><span style=\"color: #008080; text-decoration-color: #008080; font-weight: bold\">0.03460820019245148</span><span style=\"color: #008000; text-decoration-color: #008000\"> Actual: </span><span style=\"color: #008080; text-decoration-color: #008080; font-weight: bold\">0.03356087580323219</span>\n",
       "</pre>\n"
      ],
      "text/plain": [
       "\u001b[32mExpected Improvement: \u001b[0m\u001b[1;36m0.03460820019245148\u001b[0m\u001b[32m Actual: \u001b[0m\u001b[1;36m0.03356087580323219\u001b[0m\n"
      ]
     },
     "metadata": {},
     "output_type": "display_data"
    },
    {
     "data": {
      "text/html": [
       "<pre style=\"white-space:pre;overflow-x:auto;line-height:normal;font-family:Menlo,'DejaVu Sans Mono',consolas,'Courier New',monospace\"><span style=\"color: #008000; text-decoration-color: #008000\">Accept step at </span><span style=\"color: #808000; text-decoration-color: #808000\">i</span><span style=\"color: #008000; text-decoration-color: #008000\">=</span><span style=\"color: #008080; text-decoration-color: #008080; font-weight: bold\">1</span>\n",
       "</pre>\n"
      ],
      "text/plain": [
       "\u001b[32mAccept step at \u001b[0m\u001b[33mi\u001b[0m\u001b[32m=\u001b[0m\u001b[1;36m1\u001b[0m\n"
      ]
     },
     "metadata": {},
     "output_type": "display_data"
    },
    {
     "data": {
      "text/html": [
       "<pre style=\"white-space:pre;overflow-x:auto;line-height:normal;font-family:Menlo,'DejaVu Sans Mono',consolas,'Courier New',monospace\">┏━━━━━━━━━━━━━━━━━━━━━━━━━━━━━━━━┳━━━━━━━━━━━━━━━━━━━━━━━━┓\n",
       "┃<span style=\"font-weight: bold\"> Metrics                        </span>┃<span style=\"font-weight: bold\"> Value                  </span>┃\n",
       "┡━━━━━━━━━━━━━━━━━━━━━━━━━━━━━━━━╇━━━━━━━━━━━━━━━━━━━━━━━━┩\n",
       "│ Metrics/EpRet                  │ 11.606413841247559     │\n",
       "│ Metrics/EpCost                 │ 110.66000366210938     │\n",
       "│ Metrics/EpLen                  │ 1000.0                 │\n",
       "│ Train/Epoch                    │ 25.0                   │\n",
       "│ Train/Entropy                  │ 1.35159432888031       │\n",
       "│ Train/KL                       │ 0.0002980694407597184  │\n",
       "│ Train/StopIter                 │ 10.0                   │\n",
       "│ Train/PolicyRatio/Mean         │ 1.0001367330551147     │\n",
       "│ Train/PolicyRatio/Min          │ 1.0001367330551147     │\n",
       "│ Train/PolicyRatio/Max          │ 1.0001367330551147     │\n",
       "│ Train/PolicyRatio/Std          │ 9.66567822615616e-05   │\n",
       "│ Train/LR                       │ 0.0                    │\n",
       "│ Train/PolicyStd                │ 0.9350778460502625     │\n",
       "│ TotalEnvSteps                  │ 520000.0               │\n",
       "│ Loss/Loss_pi                   │ -0.02237393520772457   │\n",
       "│ Loss/Loss_pi/Delta             │ -0.0031712613999843597 │\n",
       "│ Value/Adv                      │ -4.577636492086867e-09 │\n",
       "│ Loss/Loss_reward_critic        │ 0.0485335998237133     │\n",
       "│ Loss/Loss_reward_critic/Delta  │ 0.006956916302442551   │\n",
       "│ Value/reward                   │ 1.2376302480697632     │\n",
       "│ Loss/Loss_cost_critic          │ 1.7152308225631714     │\n",
       "│ Loss/Loss_cost_critic/Delta    │ 0.020556330680847168   │\n",
       "│ Value/cost                     │ 11.642298698425293     │\n",
       "│ Time/Total                     │ 2077.01708984375       │\n",
       "│ Time/Rollout                   │ 63.867088317871094     │\n",
       "│ Time/Update                    │ 13.029939651489258     │\n",
       "│ Time/Epoch                     │ 76.89702606201172      │\n",
       "│ Time/FPS                       │ 260.08807373046875     │\n",
       "│ Misc/Alpha                     │ 0.5781416296958923     │\n",
       "│ Misc/FinalStepNorm             │ 0.31265053153038025    │\n",
       "│ Misc/gradient_norm             │ 0.1535595804452896     │\n",
       "│ Misc/xHx                       │ 0.05983584001660347    │\n",
       "│ Misc/H_inv_g                   │ 0.5407853722572327     │\n",
       "│ Misc/AcceptanceStep            │ 1.0                    │\n",
       "│ Metrics/LagrangeMultiplier/Mea │ 0.8597135543823242     │\n",
       "│ Metrics/LagrangeMultiplier/Min │ 0.8597135543823242     │\n",
       "│ Metrics/LagrangeMultiplier/Max │ 0.8597135543823242     │\n",
       "│ Metrics/LagrangeMultiplier/Std │ 0.0                    │\n",
       "└────────────────────────────────┴────────────────────────┘\n",
       "</pre>\n"
      ],
      "text/plain": [
       "┏━━━━━━━━━━━━━━━━━━━━━━━━━━━━━━━━┳━━━━━━━━━━━━━━━━━━━━━━━━┓\n",
       "┃\u001b[1m \u001b[0m\u001b[1mMetrics                       \u001b[0m\u001b[1m \u001b[0m┃\u001b[1m \u001b[0m\u001b[1mValue                 \u001b[0m\u001b[1m \u001b[0m┃\n",
       "┡━━━━━━━━━━━━━━━━━━━━━━━━━━━━━━━━╇━━━━━━━━━━━━━━━━━━━━━━━━┩\n",
       "│ Metrics/EpRet                  │ 11.606413841247559     │\n",
       "│ Metrics/EpCost                 │ 110.66000366210938     │\n",
       "│ Metrics/EpLen                  │ 1000.0                 │\n",
       "│ Train/Epoch                    │ 25.0                   │\n",
       "│ Train/Entropy                  │ 1.35159432888031       │\n",
       "│ Train/KL                       │ 0.0002980694407597184  │\n",
       "│ Train/StopIter                 │ 10.0                   │\n",
       "│ Train/PolicyRatio/Mean         │ 1.0001367330551147     │\n",
       "│ Train/PolicyRatio/Min          │ 1.0001367330551147     │\n",
       "│ Train/PolicyRatio/Max          │ 1.0001367330551147     │\n",
       "│ Train/PolicyRatio/Std          │ 9.66567822615616e-05   │\n",
       "│ Train/LR                       │ 0.0                    │\n",
       "│ Train/PolicyStd                │ 0.9350778460502625     │\n",
       "│ TotalEnvSteps                  │ 520000.0               │\n",
       "│ Loss/Loss_pi                   │ -0.02237393520772457   │\n",
       "│ Loss/Loss_pi/Delta             │ -0.0031712613999843597 │\n",
       "│ Value/Adv                      │ -4.577636492086867e-09 │\n",
       "│ Loss/Loss_reward_critic        │ 0.0485335998237133     │\n",
       "│ Loss/Loss_reward_critic/Delta  │ 0.006956916302442551   │\n",
       "│ Value/reward                   │ 1.2376302480697632     │\n",
       "│ Loss/Loss_cost_critic          │ 1.7152308225631714     │\n",
       "│ Loss/Loss_cost_critic/Delta    │ 0.020556330680847168   │\n",
       "│ Value/cost                     │ 11.642298698425293     │\n",
       "│ Time/Total                     │ 2077.01708984375       │\n",
       "│ Time/Rollout                   │ 63.867088317871094     │\n",
       "│ Time/Update                    │ 13.029939651489258     │\n",
       "│ Time/Epoch                     │ 76.89702606201172      │\n",
       "│ Time/FPS                       │ 260.08807373046875     │\n",
       "│ Misc/Alpha                     │ 0.5781416296958923     │\n",
       "│ Misc/FinalStepNorm             │ 0.31265053153038025    │\n",
       "│ Misc/gradient_norm             │ 0.1535595804452896     │\n",
       "│ Misc/xHx                       │ 0.05983584001660347    │\n",
       "│ Misc/H_inv_g                   │ 0.5407853722572327     │\n",
       "│ Misc/AcceptanceStep            │ 1.0                    │\n",
       "│ Metrics/LagrangeMultiplier/Mea │ 0.8597135543823242     │\n",
       "│ Metrics/LagrangeMultiplier/Min │ 0.8597135543823242     │\n",
       "│ Metrics/LagrangeMultiplier/Max │ 0.8597135543823242     │\n",
       "│ Metrics/LagrangeMultiplier/Std │ 0.0                    │\n",
       "└────────────────────────────────┴────────────────────────┘\n"
      ]
     },
     "metadata": {},
     "output_type": "display_data"
    },
    {
     "data": {
      "text/html": [
       "<pre style=\"white-space:pre;overflow-x:auto;line-height:normal;font-family:Menlo,'DejaVu Sans Mono',consolas,'Courier New',monospace\"><span style=\"color: #008000; text-decoration-color: #008000\">Warning: trajectory cut off when rollout by epoch at </span><span style=\"color: #008080; text-decoration-color: #008080; font-weight: bold\">1000.0</span><span style=\"color: #008000; text-decoration-color: #008000\"> steps.</span>\n",
       "</pre>\n"
      ],
      "text/plain": [
       "\u001b[32mWarning: trajectory cut off when rollout by epoch at \u001b[0m\u001b[1;36m1000.0\u001b[0m\u001b[32m steps.\u001b[0m\n"
      ]
     },
     "metadata": {},
     "output_type": "display_data"
    },
    {
     "data": {
      "text/html": [
       "<pre style=\"white-space:pre;overflow-x:auto;line-height:normal;font-family:Menlo,'DejaVu Sans Mono',consolas,'Courier New',monospace\"><span style=\"color: #008000; text-decoration-color: #008000\">Warning: trajectory cut off when rollout by epoch at </span><span style=\"color: #008080; text-decoration-color: #008080; font-weight: bold\">1000.0</span><span style=\"color: #008000; text-decoration-color: #008000\"> steps.</span>\n",
       "</pre>\n"
      ],
      "text/plain": [
       "\u001b[32mWarning: trajectory cut off when rollout by epoch at \u001b[0m\u001b[1;36m1000.0\u001b[0m\u001b[32m steps.\u001b[0m\n"
      ]
     },
     "metadata": {},
     "output_type": "display_data"
    },
    {
     "data": {
      "text/html": [
       "<pre style=\"white-space:pre;overflow-x:auto;line-height:normal;font-family:Menlo,'DejaVu Sans Mono',consolas,'Courier New',monospace\"><span style=\"color: #008000; text-decoration-color: #008000\">Warning: trajectory cut off when rollout by epoch at </span><span style=\"color: #008080; text-decoration-color: #008080; font-weight: bold\">1000.0</span><span style=\"color: #008000; text-decoration-color: #008000\"> steps.</span>\n",
       "</pre>\n"
      ],
      "text/plain": [
       "\u001b[32mWarning: trajectory cut off when rollout by epoch at \u001b[0m\u001b[1;36m1000.0\u001b[0m\u001b[32m steps.\u001b[0m\n"
      ]
     },
     "metadata": {},
     "output_type": "display_data"
    },
    {
     "data": {
      "text/html": [
       "<pre style=\"white-space:pre;overflow-x:auto;line-height:normal;font-family:Menlo,'DejaVu Sans Mono',consolas,'Courier New',monospace\"><span style=\"color: #008000; text-decoration-color: #008000\">Warning: trajectory cut off when rollout by epoch at </span><span style=\"color: #008080; text-decoration-color: #008080; font-weight: bold\">1000.0</span><span style=\"color: #008000; text-decoration-color: #008000\"> steps.</span>\n",
       "</pre>\n"
      ],
      "text/plain": [
       "\u001b[32mWarning: trajectory cut off when rollout by epoch at \u001b[0m\u001b[1;36m1000.0\u001b[0m\u001b[32m steps.\u001b[0m\n"
      ]
     },
     "metadata": {},
     "output_type": "display_data"
    },
    {
     "data": {
      "text/html": [
       "<pre style=\"white-space:pre;overflow-x:auto;line-height:normal;font-family:Menlo,'DejaVu Sans Mono',consolas,'Courier New',monospace\"></pre>\n"
      ],
      "text/plain": []
     },
     "metadata": {},
     "output_type": "display_data"
    },
    {
     "data": {
      "text/html": [
       "<pre style=\"white-space:pre;overflow-x:auto;line-height:normal;font-family:Menlo,'DejaVu Sans Mono',consolas,'Courier New',monospace\">\n",
       "</pre>\n"
      ],
      "text/plain": [
       "\n"
      ]
     },
     "metadata": {},
     "output_type": "display_data"
    },
    {
     "data": {
      "text/html": [
       "<pre style=\"white-space:pre;overflow-x:auto;line-height:normal;font-family:Menlo,'DejaVu Sans Mono',consolas,'Courier New',monospace\"><span style=\"color: #008000; text-decoration-color: #008000\">Expected Improvement: </span><span style=\"color: #008080; text-decoration-color: #008080; font-weight: bold\">0.028795072808861732</span><span style=\"color: #008000; text-decoration-color: #008000\"> Actual: </span><span style=\"color: #008080; text-decoration-color: #008080; font-weight: bold\">0.02888500690460205</span>\n",
       "</pre>\n"
      ],
      "text/plain": [
       "\u001b[32mExpected Improvement: \u001b[0m\u001b[1;36m0.028795072808861732\u001b[0m\u001b[32m Actual: \u001b[0m\u001b[1;36m0.02888500690460205\u001b[0m\n"
      ]
     },
     "metadata": {},
     "output_type": "display_data"
    },
    {
     "data": {
      "text/html": [
       "<pre style=\"white-space:pre;overflow-x:auto;line-height:normal;font-family:Menlo,'DejaVu Sans Mono',consolas,'Courier New',monospace\"><span style=\"color: #008000; text-decoration-color: #008000\">Accept step at </span><span style=\"color: #808000; text-decoration-color: #808000\">i</span><span style=\"color: #008000; text-decoration-color: #008000\">=</span><span style=\"color: #008080; text-decoration-color: #008080; font-weight: bold\">1</span>\n",
       "</pre>\n"
      ],
      "text/plain": [
       "\u001b[32mAccept step at \u001b[0m\u001b[33mi\u001b[0m\u001b[32m=\u001b[0m\u001b[1;36m1\u001b[0m\n"
      ]
     },
     "metadata": {},
     "output_type": "display_data"
    },
    {
     "data": {
      "text/html": [
       "<pre style=\"white-space:pre;overflow-x:auto;line-height:normal;font-family:Menlo,'DejaVu Sans Mono',consolas,'Courier New',monospace\">┏━━━━━━━━━━━━━━━━━━━━━━━━━━━━━━━━┳━━━━━━━━━━━━━━━━━━━━━━━━┓\n",
       "┃<span style=\"font-weight: bold\"> Metrics                        </span>┃<span style=\"font-weight: bold\"> Value                  </span>┃\n",
       "┡━━━━━━━━━━━━━━━━━━━━━━━━━━━━━━━━╇━━━━━━━━━━━━━━━━━━━━━━━━┩\n",
       "│ Metrics/EpRet                  │ 11.485085487365723     │\n",
       "│ Metrics/EpCost                 │ 84.4000015258789       │\n",
       "│ Metrics/EpLen                  │ 1000.0                 │\n",
       "│ Train/Epoch                    │ 26.0                   │\n",
       "│ Train/Entropy                  │ 1.3426445722579956     │\n",
       "│ Train/KL                       │ 0.0003159652405884117  │\n",
       "│ Train/StopIter                 │ 10.0                   │\n",
       "│ Train/PolicyRatio/Mean         │ 0.9996860027313232     │\n",
       "│ Train/PolicyRatio/Min          │ 0.9996860027313232     │\n",
       "│ Train/PolicyRatio/Max          │ 0.9996860027313232     │\n",
       "│ Train/PolicyRatio/Std          │ 0.00022202960099093616 │\n",
       "│ Train/LR                       │ 0.0                    │\n",
       "│ Train/PolicyStd                │ 0.9266869425773621     │\n",
       "│ TotalEnvSteps                  │ 540000.0               │\n",
       "│ Loss/Loss_pi                   │ -0.019256653264164925  │\n",
       "│ Loss/Loss_pi/Delta             │ 0.0031172819435596466  │\n",
       "│ Value/Adv                      │ -3.814697002724188e-09 │\n",
       "│ Loss/Loss_reward_critic        │ 0.04445638135075569    │\n",
       "│ Loss/Loss_reward_critic/Delta  │ -0.004077218472957611  │\n",
       "│ Value/reward                   │ 1.1425902843475342     │\n",
       "│ Loss/Loss_cost_critic          │ 1.4706261157989502     │\n",
       "│ Loss/Loss_cost_critic/Delta    │ -0.2446047067642212    │\n",
       "│ Value/cost                     │ 11.162240982055664     │\n",
       "│ Time/Total                     │ 2151.18212890625       │\n",
       "│ Time/Rollout                   │ 61.07181930541992      │\n",
       "│ Time/Update                    │ 13.062786102294922     │\n",
       "│ Time/Epoch                     │ 74.13460540771484      │\n",
       "│ Time/FPS                       │ 269.779541015625       │\n",
       "│ Misc/Alpha                     │ 0.6949074268341064     │\n",
       "│ Misc/FinalStepNorm             │ 0.2972489595413208     │\n",
       "│ Misc/gradient_norm             │ 0.15539728105068207    │\n",
       "│ Misc/xHx                       │ 0.04141674563288689    │\n",
       "│ Misc/H_inv_g                   │ 0.4277533292770386     │\n",
       "│ Misc/AcceptanceStep            │ 1.0                    │\n",
       "│ Metrics/LagrangeMultiplier/Mea │ 0.8912222981452942     │\n",
       "│ Metrics/LagrangeMultiplier/Min │ 0.8912222981452942     │\n",
       "│ Metrics/LagrangeMultiplier/Max │ 0.8912222981452942     │\n",
       "│ Metrics/LagrangeMultiplier/Std │ 0.0                    │\n",
       "└────────────────────────────────┴────────────────────────┘\n",
       "</pre>\n"
      ],
      "text/plain": [
       "┏━━━━━━━━━━━━━━━━━━━━━━━━━━━━━━━━┳━━━━━━━━━━━━━━━━━━━━━━━━┓\n",
       "┃\u001b[1m \u001b[0m\u001b[1mMetrics                       \u001b[0m\u001b[1m \u001b[0m┃\u001b[1m \u001b[0m\u001b[1mValue                 \u001b[0m\u001b[1m \u001b[0m┃\n",
       "┡━━━━━━━━━━━━━━━━━━━━━━━━━━━━━━━━╇━━━━━━━━━━━━━━━━━━━━━━━━┩\n",
       "│ Metrics/EpRet                  │ 11.485085487365723     │\n",
       "│ Metrics/EpCost                 │ 84.4000015258789       │\n",
       "│ Metrics/EpLen                  │ 1000.0                 │\n",
       "│ Train/Epoch                    │ 26.0                   │\n",
       "│ Train/Entropy                  │ 1.3426445722579956     │\n",
       "│ Train/KL                       │ 0.0003159652405884117  │\n",
       "│ Train/StopIter                 │ 10.0                   │\n",
       "│ Train/PolicyRatio/Mean         │ 0.9996860027313232     │\n",
       "│ Train/PolicyRatio/Min          │ 0.9996860027313232     │\n",
       "│ Train/PolicyRatio/Max          │ 0.9996860027313232     │\n",
       "│ Train/PolicyRatio/Std          │ 0.00022202960099093616 │\n",
       "│ Train/LR                       │ 0.0                    │\n",
       "│ Train/PolicyStd                │ 0.9266869425773621     │\n",
       "│ TotalEnvSteps                  │ 540000.0               │\n",
       "│ Loss/Loss_pi                   │ -0.019256653264164925  │\n",
       "│ Loss/Loss_pi/Delta             │ 0.0031172819435596466  │\n",
       "│ Value/Adv                      │ -3.814697002724188e-09 │\n",
       "│ Loss/Loss_reward_critic        │ 0.04445638135075569    │\n",
       "│ Loss/Loss_reward_critic/Delta  │ -0.004077218472957611  │\n",
       "│ Value/reward                   │ 1.1425902843475342     │\n",
       "│ Loss/Loss_cost_critic          │ 1.4706261157989502     │\n",
       "│ Loss/Loss_cost_critic/Delta    │ -0.2446047067642212    │\n",
       "│ Value/cost                     │ 11.162240982055664     │\n",
       "│ Time/Total                     │ 2151.18212890625       │\n",
       "│ Time/Rollout                   │ 61.07181930541992      │\n",
       "│ Time/Update                    │ 13.062786102294922     │\n",
       "│ Time/Epoch                     │ 74.13460540771484      │\n",
       "│ Time/FPS                       │ 269.779541015625       │\n",
       "│ Misc/Alpha                     │ 0.6949074268341064     │\n",
       "│ Misc/FinalStepNorm             │ 0.2972489595413208     │\n",
       "│ Misc/gradient_norm             │ 0.15539728105068207    │\n",
       "│ Misc/xHx                       │ 0.04141674563288689    │\n",
       "│ Misc/H_inv_g                   │ 0.4277533292770386     │\n",
       "│ Misc/AcceptanceStep            │ 1.0                    │\n",
       "│ Metrics/LagrangeMultiplier/Mea │ 0.8912222981452942     │\n",
       "│ Metrics/LagrangeMultiplier/Min │ 0.8912222981452942     │\n",
       "│ Metrics/LagrangeMultiplier/Max │ 0.8912222981452942     │\n",
       "│ Metrics/LagrangeMultiplier/Std │ 0.0                    │\n",
       "└────────────────────────────────┴────────────────────────┘\n"
      ]
     },
     "metadata": {},
     "output_type": "display_data"
    },
    {
     "data": {
      "text/html": [
       "<pre style=\"white-space:pre;overflow-x:auto;line-height:normal;font-family:Menlo,'DejaVu Sans Mono',consolas,'Courier New',monospace\"><span style=\"color: #008000; text-decoration-color: #008000\">Warning: trajectory cut off when rollout by epoch at </span><span style=\"color: #008080; text-decoration-color: #008080; font-weight: bold\">1000.0</span><span style=\"color: #008000; text-decoration-color: #008000\"> steps.</span>\n",
       "</pre>\n"
      ],
      "text/plain": [
       "\u001b[32mWarning: trajectory cut off when rollout by epoch at \u001b[0m\u001b[1;36m1000.0\u001b[0m\u001b[32m steps.\u001b[0m\n"
      ]
     },
     "metadata": {},
     "output_type": "display_data"
    },
    {
     "data": {
      "text/html": [
       "<pre style=\"white-space:pre;overflow-x:auto;line-height:normal;font-family:Menlo,'DejaVu Sans Mono',consolas,'Courier New',monospace\"><span style=\"color: #008000; text-decoration-color: #008000\">Warning: trajectory cut off when rollout by epoch at </span><span style=\"color: #008080; text-decoration-color: #008080; font-weight: bold\">1000.0</span><span style=\"color: #008000; text-decoration-color: #008000\"> steps.</span>\n",
       "</pre>\n"
      ],
      "text/plain": [
       "\u001b[32mWarning: trajectory cut off when rollout by epoch at \u001b[0m\u001b[1;36m1000.0\u001b[0m\u001b[32m steps.\u001b[0m\n"
      ]
     },
     "metadata": {},
     "output_type": "display_data"
    },
    {
     "data": {
      "text/html": [
       "<pre style=\"white-space:pre;overflow-x:auto;line-height:normal;font-family:Menlo,'DejaVu Sans Mono',consolas,'Courier New',monospace\"><span style=\"color: #008000; text-decoration-color: #008000\">Warning: trajectory cut off when rollout by epoch at </span><span style=\"color: #008080; text-decoration-color: #008080; font-weight: bold\">1000.0</span><span style=\"color: #008000; text-decoration-color: #008000\"> steps.</span>\n",
       "</pre>\n"
      ],
      "text/plain": [
       "\u001b[32mWarning: trajectory cut off when rollout by epoch at \u001b[0m\u001b[1;36m1000.0\u001b[0m\u001b[32m steps.\u001b[0m\n"
      ]
     },
     "metadata": {},
     "output_type": "display_data"
    },
    {
     "data": {
      "text/html": [
       "<pre style=\"white-space:pre;overflow-x:auto;line-height:normal;font-family:Menlo,'DejaVu Sans Mono',consolas,'Courier New',monospace\"><span style=\"color: #008000; text-decoration-color: #008000\">Warning: trajectory cut off when rollout by epoch at </span><span style=\"color: #008080; text-decoration-color: #008080; font-weight: bold\">1000.0</span><span style=\"color: #008000; text-decoration-color: #008000\"> steps.</span>\n",
       "</pre>\n"
      ],
      "text/plain": [
       "\u001b[32mWarning: trajectory cut off when rollout by epoch at \u001b[0m\u001b[1;36m1000.0\u001b[0m\u001b[32m steps.\u001b[0m\n"
      ]
     },
     "metadata": {},
     "output_type": "display_data"
    },
    {
     "data": {
      "text/html": [
       "<pre style=\"white-space:pre;overflow-x:auto;line-height:normal;font-family:Menlo,'DejaVu Sans Mono',consolas,'Courier New',monospace\"></pre>\n"
      ],
      "text/plain": []
     },
     "metadata": {},
     "output_type": "display_data"
    },
    {
     "data": {
      "text/html": [
       "<pre style=\"white-space:pre;overflow-x:auto;line-height:normal;font-family:Menlo,'DejaVu Sans Mono',consolas,'Courier New',monospace\">\n",
       "</pre>\n"
      ],
      "text/plain": [
       "\n"
      ]
     },
     "metadata": {},
     "output_type": "display_data"
    },
    {
     "data": {
      "text/html": [
       "<pre style=\"white-space:pre;overflow-x:auto;line-height:normal;font-family:Menlo,'DejaVu Sans Mono',consolas,'Courier New',monospace\"><span style=\"color: #008000; text-decoration-color: #008000\">Expected Improvement: </span><span style=\"color: #008080; text-decoration-color: #008080; font-weight: bold\">0.02917795442044735</span><span style=\"color: #008000; text-decoration-color: #008000\"> Actual: </span><span style=\"color: #008080; text-decoration-color: #008080; font-weight: bold\">0.029334206134080887</span>\n",
       "</pre>\n"
      ],
      "text/plain": [
       "\u001b[32mExpected Improvement: \u001b[0m\u001b[1;36m0.02917795442044735\u001b[0m\u001b[32m Actual: \u001b[0m\u001b[1;36m0.029334206134080887\u001b[0m\n"
      ]
     },
     "metadata": {},
     "output_type": "display_data"
    },
    {
     "data": {
      "text/html": [
       "<pre style=\"white-space:pre;overflow-x:auto;line-height:normal;font-family:Menlo,'DejaVu Sans Mono',consolas,'Courier New',monospace\"><span style=\"color: #008000; text-decoration-color: #008000\">Accept step at </span><span style=\"color: #808000; text-decoration-color: #808000\">i</span><span style=\"color: #008000; text-decoration-color: #008000\">=</span><span style=\"color: #008080; text-decoration-color: #008080; font-weight: bold\">1</span>\n",
       "</pre>\n"
      ],
      "text/plain": [
       "\u001b[32mAccept step at \u001b[0m\u001b[33mi\u001b[0m\u001b[32m=\u001b[0m\u001b[1;36m1\u001b[0m\n"
      ]
     },
     "metadata": {},
     "output_type": "display_data"
    },
    {
     "data": {
      "text/html": [
       "<pre style=\"white-space:pre;overflow-x:auto;line-height:normal;font-family:Menlo,'DejaVu Sans Mono',consolas,'Courier New',monospace\">┏━━━━━━━━━━━━━━━━━━━━━━━━━━━━━━━━┳━━━━━━━━━━━━━━━━━━━━━━━━━┓\n",
       "┃<span style=\"font-weight: bold\"> Metrics                        </span>┃<span style=\"font-weight: bold\"> Value                   </span>┃\n",
       "┡━━━━━━━━━━━━━━━━━━━━━━━━━━━━━━━━╇━━━━━━━━━━━━━━━━━━━━━━━━━┩\n",
       "│ Metrics/EpRet                  │ 12.56102180480957       │\n",
       "│ Metrics/EpCost                 │ 85.4000015258789        │\n",
       "│ Metrics/EpLen                  │ 1000.0                  │\n",
       "│ Train/Epoch                    │ 27.0                    │\n",
       "│ Train/Entropy                  │ 1.3425828218460083      │\n",
       "│ Train/KL                       │ 0.00027924467576667666  │\n",
       "│ Train/StopIter                 │ 10.0                    │\n",
       "│ Train/PolicyRatio/Mean         │ 0.9988062381744385      │\n",
       "│ Train/PolicyRatio/Min          │ 0.9988062381744385      │\n",
       "│ Train/PolicyRatio/Max          │ 0.9988062381744385      │\n",
       "│ Train/PolicyRatio/Std          │ 0.0008441170793958008   │\n",
       "│ Train/LR                       │ 0.0                     │\n",
       "│ Train/PolicyStd                │ 0.9266173243522644      │\n",
       "│ TotalEnvSteps                  │ 560000.0                │\n",
       "│ Loss/Loss_pi                   │ -0.01955612748861313    │\n",
       "│ Loss/Loss_pi/Delta             │ -0.00029947422444820404 │\n",
       "│ Value/Adv                      │ 1.5258788677030566e-09  │\n",
       "│ Loss/Loss_reward_critic        │ 0.047617051750421524    │\n",
       "│ Loss/Loss_reward_critic/Delta  │ 0.0031606703996658325   │\n",
       "│ Value/reward                   │ 1.2951740026474         │\n",
       "│ Loss/Loss_cost_critic          │ 1.5880930423736572      │\n",
       "│ Loss/Loss_cost_critic/Delta    │ 0.11746692657470703     │\n",
       "│ Value/cost                     │ 10.17282772064209       │\n",
       "│ Time/Total                     │ 2227.693115234375       │\n",
       "│ Time/Rollout                   │ 63.306373596191406      │\n",
       "│ Time/Update                    │ 13.17469596862793       │\n",
       "│ Time/Epoch                     │ 76.48107147216797       │\n",
       "│ Time/FPS                       │ 261.50262451171875      │\n",
       "│ Misc/Alpha                     │ 0.6857053637504578      │\n",
       "│ Misc/FinalStepNorm             │ 0.3154481053352356      │\n",
       "│ Misc/gradient_norm             │ 0.14685505628585815     │\n",
       "│ Misc/xHx                       │ 0.04253581538796425     │\n",
       "│ Misc/H_inv_g                   │ 0.46003445982933044     │\n",
       "│ Misc/AcceptanceStep            │ 1.0                     │\n",
       "│ Metrics/LagrangeMultiplier/Mea │ 0.9221063852310181      │\n",
       "│ Metrics/LagrangeMultiplier/Min │ 0.9221063852310181      │\n",
       "│ Metrics/LagrangeMultiplier/Max │ 0.9221063852310181      │\n",
       "│ Metrics/LagrangeMultiplier/Std │ 0.0                     │\n",
       "└────────────────────────────────┴─────────────────────────┘\n",
       "</pre>\n"
      ],
      "text/plain": [
       "┏━━━━━━━━━━━━━━━━━━━━━━━━━━━━━━━━┳━━━━━━━━━━━━━━━━━━━━━━━━━┓\n",
       "┃\u001b[1m \u001b[0m\u001b[1mMetrics                       \u001b[0m\u001b[1m \u001b[0m┃\u001b[1m \u001b[0m\u001b[1mValue                  \u001b[0m\u001b[1m \u001b[0m┃\n",
       "┡━━━━━━━━━━━━━━━━━━━━━━━━━━━━━━━━╇━━━━━━━━━━━━━━━━━━━━━━━━━┩\n",
       "│ Metrics/EpRet                  │ 12.56102180480957       │\n",
       "│ Metrics/EpCost                 │ 85.4000015258789        │\n",
       "│ Metrics/EpLen                  │ 1000.0                  │\n",
       "│ Train/Epoch                    │ 27.0                    │\n",
       "│ Train/Entropy                  │ 1.3425828218460083      │\n",
       "│ Train/KL                       │ 0.00027924467576667666  │\n",
       "│ Train/StopIter                 │ 10.0                    │\n",
       "│ Train/PolicyRatio/Mean         │ 0.9988062381744385      │\n",
       "│ Train/PolicyRatio/Min          │ 0.9988062381744385      │\n",
       "│ Train/PolicyRatio/Max          │ 0.9988062381744385      │\n",
       "│ Train/PolicyRatio/Std          │ 0.0008441170793958008   │\n",
       "│ Train/LR                       │ 0.0                     │\n",
       "│ Train/PolicyStd                │ 0.9266173243522644      │\n",
       "│ TotalEnvSteps                  │ 560000.0                │\n",
       "│ Loss/Loss_pi                   │ -0.01955612748861313    │\n",
       "│ Loss/Loss_pi/Delta             │ -0.00029947422444820404 │\n",
       "│ Value/Adv                      │ 1.5258788677030566e-09  │\n",
       "│ Loss/Loss_reward_critic        │ 0.047617051750421524    │\n",
       "│ Loss/Loss_reward_critic/Delta  │ 0.0031606703996658325   │\n",
       "│ Value/reward                   │ 1.2951740026474         │\n",
       "│ Loss/Loss_cost_critic          │ 1.5880930423736572      │\n",
       "│ Loss/Loss_cost_critic/Delta    │ 0.11746692657470703     │\n",
       "│ Value/cost                     │ 10.17282772064209       │\n",
       "│ Time/Total                     │ 2227.693115234375       │\n",
       "│ Time/Rollout                   │ 63.306373596191406      │\n",
       "│ Time/Update                    │ 13.17469596862793       │\n",
       "│ Time/Epoch                     │ 76.48107147216797       │\n",
       "│ Time/FPS                       │ 261.50262451171875      │\n",
       "│ Misc/Alpha                     │ 0.6857053637504578      │\n",
       "│ Misc/FinalStepNorm             │ 0.3154481053352356      │\n",
       "│ Misc/gradient_norm             │ 0.14685505628585815     │\n",
       "│ Misc/xHx                       │ 0.04253581538796425     │\n",
       "│ Misc/H_inv_g                   │ 0.46003445982933044     │\n",
       "│ Misc/AcceptanceStep            │ 1.0                     │\n",
       "│ Metrics/LagrangeMultiplier/Mea │ 0.9221063852310181      │\n",
       "│ Metrics/LagrangeMultiplier/Min │ 0.9221063852310181      │\n",
       "│ Metrics/LagrangeMultiplier/Max │ 0.9221063852310181      │\n",
       "│ Metrics/LagrangeMultiplier/Std │ 0.0                     │\n",
       "└────────────────────────────────┴─────────────────────────┘\n"
      ]
     },
     "metadata": {},
     "output_type": "display_data"
    },
    {
     "data": {
      "text/html": [
       "<pre style=\"white-space:pre;overflow-x:auto;line-height:normal;font-family:Menlo,'DejaVu Sans Mono',consolas,'Courier New',monospace\"><span style=\"color: #008000; text-decoration-color: #008000\">Warning: trajectory cut off when rollout by epoch at </span><span style=\"color: #008080; text-decoration-color: #008080; font-weight: bold\">1000.0</span><span style=\"color: #008000; text-decoration-color: #008000\"> steps.</span>\n",
       "</pre>\n"
      ],
      "text/plain": [
       "\u001b[32mWarning: trajectory cut off when rollout by epoch at \u001b[0m\u001b[1;36m1000.0\u001b[0m\u001b[32m steps.\u001b[0m\n"
      ]
     },
     "metadata": {},
     "output_type": "display_data"
    },
    {
     "data": {
      "text/html": [
       "<pre style=\"white-space:pre;overflow-x:auto;line-height:normal;font-family:Menlo,'DejaVu Sans Mono',consolas,'Courier New',monospace\"><span style=\"color: #008000; text-decoration-color: #008000\">Warning: trajectory cut off when rollout by epoch at </span><span style=\"color: #008080; text-decoration-color: #008080; font-weight: bold\">1000.0</span><span style=\"color: #008000; text-decoration-color: #008000\"> steps.</span>\n",
       "</pre>\n"
      ],
      "text/plain": [
       "\u001b[32mWarning: trajectory cut off when rollout by epoch at \u001b[0m\u001b[1;36m1000.0\u001b[0m\u001b[32m steps.\u001b[0m\n"
      ]
     },
     "metadata": {},
     "output_type": "display_data"
    },
    {
     "data": {
      "text/html": [
       "<pre style=\"white-space:pre;overflow-x:auto;line-height:normal;font-family:Menlo,'DejaVu Sans Mono',consolas,'Courier New',monospace\"><span style=\"color: #008000; text-decoration-color: #008000\">Warning: trajectory cut off when rollout by epoch at </span><span style=\"color: #008080; text-decoration-color: #008080; font-weight: bold\">1000.0</span><span style=\"color: #008000; text-decoration-color: #008000\"> steps.</span>\n",
       "</pre>\n"
      ],
      "text/plain": [
       "\u001b[32mWarning: trajectory cut off when rollout by epoch at \u001b[0m\u001b[1;36m1000.0\u001b[0m\u001b[32m steps.\u001b[0m\n"
      ]
     },
     "metadata": {},
     "output_type": "display_data"
    },
    {
     "data": {
      "text/html": [
       "<pre style=\"white-space:pre;overflow-x:auto;line-height:normal;font-family:Menlo,'DejaVu Sans Mono',consolas,'Courier New',monospace\"><span style=\"color: #008000; text-decoration-color: #008000\">Warning: trajectory cut off when rollout by epoch at </span><span style=\"color: #008080; text-decoration-color: #008080; font-weight: bold\">1000.0</span><span style=\"color: #008000; text-decoration-color: #008000\"> steps.</span>\n",
       "</pre>\n"
      ],
      "text/plain": [
       "\u001b[32mWarning: trajectory cut off when rollout by epoch at \u001b[0m\u001b[1;36m1000.0\u001b[0m\u001b[32m steps.\u001b[0m\n"
      ]
     },
     "metadata": {},
     "output_type": "display_data"
    },
    {
     "data": {
      "text/html": [
       "<pre style=\"white-space:pre;overflow-x:auto;line-height:normal;font-family:Menlo,'DejaVu Sans Mono',consolas,'Courier New',monospace\"></pre>\n"
      ],
      "text/plain": []
     },
     "metadata": {},
     "output_type": "display_data"
    },
    {
     "data": {
      "text/html": [
       "<pre style=\"white-space:pre;overflow-x:auto;line-height:normal;font-family:Menlo,'DejaVu Sans Mono',consolas,'Courier New',monospace\">\n",
       "</pre>\n"
      ],
      "text/plain": [
       "\n"
      ]
     },
     "metadata": {},
     "output_type": "display_data"
    },
    {
     "data": {
      "text/html": [
       "<pre style=\"white-space:pre;overflow-x:auto;line-height:normal;font-family:Menlo,'DejaVu Sans Mono',consolas,'Courier New',monospace\"><span style=\"color: #008000; text-decoration-color: #008000\">Expected Improvement: </span><span style=\"color: #008080; text-decoration-color: #008080; font-weight: bold\">0.03395606949925423</span><span style=\"color: #008000; text-decoration-color: #008000\"> Actual: </span><span style=\"color: #008080; text-decoration-color: #008080; font-weight: bold\">0.034073356539011</span>\n",
       "</pre>\n"
      ],
      "text/plain": [
       "\u001b[32mExpected Improvement: \u001b[0m\u001b[1;36m0.03395606949925423\u001b[0m\u001b[32m Actual: \u001b[0m\u001b[1;36m0.034073356539011\u001b[0m\n"
      ]
     },
     "metadata": {},
     "output_type": "display_data"
    },
    {
     "data": {
      "text/html": [
       "<pre style=\"white-space:pre;overflow-x:auto;line-height:normal;font-family:Menlo,'DejaVu Sans Mono',consolas,'Courier New',monospace\"><span style=\"color: #008000; text-decoration-color: #008000\">Accept step at </span><span style=\"color: #808000; text-decoration-color: #808000\">i</span><span style=\"color: #008000; text-decoration-color: #008000\">=</span><span style=\"color: #008080; text-decoration-color: #008080; font-weight: bold\">1</span>\n",
       "</pre>\n"
      ],
      "text/plain": [
       "\u001b[32mAccept step at \u001b[0m\u001b[33mi\u001b[0m\u001b[32m=\u001b[0m\u001b[1;36m1\u001b[0m\n"
      ]
     },
     "metadata": {},
     "output_type": "display_data"
    },
    {
     "data": {
      "text/html": [
       "<pre style=\"white-space:pre;overflow-x:auto;line-height:normal;font-family:Menlo,'DejaVu Sans Mono',consolas,'Courier New',monospace\">┏━━━━━━━━━━━━━━━━━━━━━━━━━━━━━━━━┳━━━━━━━━━━━━━━━━━━━━━━━━┓\n",
       "┃<span style=\"font-weight: bold\"> Metrics                        </span>┃<span style=\"font-weight: bold\"> Value                  </span>┃\n",
       "┡━━━━━━━━━━━━━━━━━━━━━━━━━━━━━━━━╇━━━━━━━━━━━━━━━━━━━━━━━━┩\n",
       "│ Metrics/EpRet                  │ 13.712808609008789     │\n",
       "│ Metrics/EpCost                 │ 107.58000183105469     │\n",
       "│ Metrics/EpLen                  │ 1000.0                 │\n",
       "│ Train/Epoch                    │ 28.0                   │\n",
       "│ Train/Entropy                  │ 1.343227505683899      │\n",
       "│ Train/KL                       │ 0.0002664312196429819  │\n",
       "│ Train/StopIter                 │ 10.0                   │\n",
       "│ Train/PolicyRatio/Mean         │ 1.000208854675293      │\n",
       "│ Train/PolicyRatio/Min          │ 1.000208854675293      │\n",
       "│ Train/PolicyRatio/Max          │ 1.000208854675293      │\n",
       "│ Train/PolicyRatio/Std          │ 0.00014773877046536654 │\n",
       "│ Train/LR                       │ 0.0                    │\n",
       "│ Train/PolicyStd                │ 0.9272467494010925     │\n",
       "│ TotalEnvSteps                  │ 580000.0               │\n",
       "│ Loss/Loss_pi                   │ -0.022715598344802856  │\n",
       "│ Loss/Loss_pi/Delta             │ -0.003159470856189728  │\n",
       "│ Value/Adv                      │ 8.392333938900265e-09  │\n",
       "│ Loss/Loss_reward_critic        │ 0.05526134744286537    │\n",
       "│ Loss/Loss_reward_critic/Delta  │ 0.007644295692443848   │\n",
       "│ Value/reward                   │ 1.517276406288147      │\n",
       "│ Loss/Loss_cost_critic          │ 1.8610789775848389     │\n",
       "│ Loss/Loss_cost_critic/Delta    │ 0.27298593521118164    │\n",
       "│ Value/cost                     │ 12.200063705444336     │\n",
       "│ Time/Total                     │ 2303.816650390625      │\n",
       "│ Time/Rollout                   │ 63.00302505493164      │\n",
       "│ Time/Update                    │ 13.088127136230469     │\n",
       "│ Time/Epoch                     │ 76.09114837646484      │\n",
       "│ Time/FPS                       │ 262.8426513671875      │\n",
       "│ Misc/Alpha                     │ 0.589195191860199      │\n",
       "│ Misc/FinalStepNorm             │ 0.3222154974937439     │\n",
       "│ Misc/gradient_norm             │ 0.15365803241729736    │\n",
       "│ Misc/xHx                       │ 0.05761180818080902    │\n",
       "│ Misc/H_inv_g                   │ 0.5468739867210388     │\n",
       "│ Misc/AcceptanceStep            │ 1.0                    │\n",
       "│ Metrics/LagrangeMultiplier/Mea │ 0.9531223177909851     │\n",
       "│ Metrics/LagrangeMultiplier/Min │ 0.9531223177909851     │\n",
       "│ Metrics/LagrangeMultiplier/Max │ 0.9531223177909851     │\n",
       "│ Metrics/LagrangeMultiplier/Std │ 0.0                    │\n",
       "└────────────────────────────────┴────────────────────────┘\n",
       "</pre>\n"
      ],
      "text/plain": [
       "┏━━━━━━━━━━━━━━━━━━━━━━━━━━━━━━━━┳━━━━━━━━━━━━━━━━━━━━━━━━┓\n",
       "┃\u001b[1m \u001b[0m\u001b[1mMetrics                       \u001b[0m\u001b[1m \u001b[0m┃\u001b[1m \u001b[0m\u001b[1mValue                 \u001b[0m\u001b[1m \u001b[0m┃\n",
       "┡━━━━━━━━━━━━━━━━━━━━━━━━━━━━━━━━╇━━━━━━━━━━━━━━━━━━━━━━━━┩\n",
       "│ Metrics/EpRet                  │ 13.712808609008789     │\n",
       "│ Metrics/EpCost                 │ 107.58000183105469     │\n",
       "│ Metrics/EpLen                  │ 1000.0                 │\n",
       "│ Train/Epoch                    │ 28.0                   │\n",
       "│ Train/Entropy                  │ 1.343227505683899      │\n",
       "│ Train/KL                       │ 0.0002664312196429819  │\n",
       "│ Train/StopIter                 │ 10.0                   │\n",
       "│ Train/PolicyRatio/Mean         │ 1.000208854675293      │\n",
       "│ Train/PolicyRatio/Min          │ 1.000208854675293      │\n",
       "│ Train/PolicyRatio/Max          │ 1.000208854675293      │\n",
       "│ Train/PolicyRatio/Std          │ 0.00014773877046536654 │\n",
       "│ Train/LR                       │ 0.0                    │\n",
       "│ Train/PolicyStd                │ 0.9272467494010925     │\n",
       "│ TotalEnvSteps                  │ 580000.0               │\n",
       "│ Loss/Loss_pi                   │ -0.022715598344802856  │\n",
       "│ Loss/Loss_pi/Delta             │ -0.003159470856189728  │\n",
       "│ Value/Adv                      │ 8.392333938900265e-09  │\n",
       "│ Loss/Loss_reward_critic        │ 0.05526134744286537    │\n",
       "│ Loss/Loss_reward_critic/Delta  │ 0.007644295692443848   │\n",
       "│ Value/reward                   │ 1.517276406288147      │\n",
       "│ Loss/Loss_cost_critic          │ 1.8610789775848389     │\n",
       "│ Loss/Loss_cost_critic/Delta    │ 0.27298593521118164    │\n",
       "│ Value/cost                     │ 12.200063705444336     │\n",
       "│ Time/Total                     │ 2303.816650390625      │\n",
       "│ Time/Rollout                   │ 63.00302505493164      │\n",
       "│ Time/Update                    │ 13.088127136230469     │\n",
       "│ Time/Epoch                     │ 76.09114837646484      │\n",
       "│ Time/FPS                       │ 262.8426513671875      │\n",
       "│ Misc/Alpha                     │ 0.589195191860199      │\n",
       "│ Misc/FinalStepNorm             │ 0.3222154974937439     │\n",
       "│ Misc/gradient_norm             │ 0.15365803241729736    │\n",
       "│ Misc/xHx                       │ 0.05761180818080902    │\n",
       "│ Misc/H_inv_g                   │ 0.5468739867210388     │\n",
       "│ Misc/AcceptanceStep            │ 1.0                    │\n",
       "│ Metrics/LagrangeMultiplier/Mea │ 0.9531223177909851     │\n",
       "│ Metrics/LagrangeMultiplier/Min │ 0.9531223177909851     │\n",
       "│ Metrics/LagrangeMultiplier/Max │ 0.9531223177909851     │\n",
       "│ Metrics/LagrangeMultiplier/Std │ 0.0                    │\n",
       "└────────────────────────────────┴────────────────────────┘\n"
      ]
     },
     "metadata": {},
     "output_type": "display_data"
    },
    {
     "data": {
      "text/html": [
       "<pre style=\"white-space:pre;overflow-x:auto;line-height:normal;font-family:Menlo,'DejaVu Sans Mono',consolas,'Courier New',monospace\"><span style=\"color: #008000; text-decoration-color: #008000\">Warning: trajectory cut off when rollout by epoch at </span><span style=\"color: #008080; text-decoration-color: #008080; font-weight: bold\">1000.0</span><span style=\"color: #008000; text-decoration-color: #008000\"> steps.</span>\n",
       "</pre>\n"
      ],
      "text/plain": [
       "\u001b[32mWarning: trajectory cut off when rollout by epoch at \u001b[0m\u001b[1;36m1000.0\u001b[0m\u001b[32m steps.\u001b[0m\n"
      ]
     },
     "metadata": {},
     "output_type": "display_data"
    },
    {
     "data": {
      "text/html": [
       "<pre style=\"white-space:pre;overflow-x:auto;line-height:normal;font-family:Menlo,'DejaVu Sans Mono',consolas,'Courier New',monospace\"><span style=\"color: #008000; text-decoration-color: #008000\">Warning: trajectory cut off when rollout by epoch at </span><span style=\"color: #008080; text-decoration-color: #008080; font-weight: bold\">1000.0</span><span style=\"color: #008000; text-decoration-color: #008000\"> steps.</span>\n",
       "</pre>\n"
      ],
      "text/plain": [
       "\u001b[32mWarning: trajectory cut off when rollout by epoch at \u001b[0m\u001b[1;36m1000.0\u001b[0m\u001b[32m steps.\u001b[0m\n"
      ]
     },
     "metadata": {},
     "output_type": "display_data"
    },
    {
     "data": {
      "text/html": [
       "<pre style=\"white-space:pre;overflow-x:auto;line-height:normal;font-family:Menlo,'DejaVu Sans Mono',consolas,'Courier New',monospace\"><span style=\"color: #008000; text-decoration-color: #008000\">Warning: trajectory cut off when rollout by epoch at </span><span style=\"color: #008080; text-decoration-color: #008080; font-weight: bold\">1000.0</span><span style=\"color: #008000; text-decoration-color: #008000\"> steps.</span>\n",
       "</pre>\n"
      ],
      "text/plain": [
       "\u001b[32mWarning: trajectory cut off when rollout by epoch at \u001b[0m\u001b[1;36m1000.0\u001b[0m\u001b[32m steps.\u001b[0m\n"
      ]
     },
     "metadata": {},
     "output_type": "display_data"
    },
    {
     "data": {
      "text/html": [
       "<pre style=\"white-space:pre;overflow-x:auto;line-height:normal;font-family:Menlo,'DejaVu Sans Mono',consolas,'Courier New',monospace\"><span style=\"color: #008000; text-decoration-color: #008000\">Warning: trajectory cut off when rollout by epoch at </span><span style=\"color: #008080; text-decoration-color: #008080; font-weight: bold\">1000.0</span><span style=\"color: #008000; text-decoration-color: #008000\"> steps.</span>\n",
       "</pre>\n"
      ],
      "text/plain": [
       "\u001b[32mWarning: trajectory cut off when rollout by epoch at \u001b[0m\u001b[1;36m1000.0\u001b[0m\u001b[32m steps.\u001b[0m\n"
      ]
     },
     "metadata": {},
     "output_type": "display_data"
    },
    {
     "data": {
      "text/html": [
       "<pre style=\"white-space:pre;overflow-x:auto;line-height:normal;font-family:Menlo,'DejaVu Sans Mono',consolas,'Courier New',monospace\"></pre>\n"
      ],
      "text/plain": []
     },
     "metadata": {},
     "output_type": "display_data"
    },
    {
     "data": {
      "text/html": [
       "<pre style=\"white-space:pre;overflow-x:auto;line-height:normal;font-family:Menlo,'DejaVu Sans Mono',consolas,'Courier New',monospace\">\n",
       "</pre>\n"
      ],
      "text/plain": [
       "\n"
      ]
     },
     "metadata": {},
     "output_type": "display_data"
    },
    {
     "data": {
      "text/html": [
       "<pre style=\"white-space:pre;overflow-x:auto;line-height:normal;font-family:Menlo,'DejaVu Sans Mono',consolas,'Courier New',monospace\"><span style=\"color: #008000; text-decoration-color: #008000\">Expected Improvement: </span><span style=\"color: #008080; text-decoration-color: #008080; font-weight: bold\">0.03706810995936394</span><span style=\"color: #008000; text-decoration-color: #008000\"> Actual: </span><span style=\"color: #008080; text-decoration-color: #008080; font-weight: bold\">0.03546334058046341</span>\n",
       "</pre>\n"
      ],
      "text/plain": [
       "\u001b[32mExpected Improvement: \u001b[0m\u001b[1;36m0.03706810995936394\u001b[0m\u001b[32m Actual: \u001b[0m\u001b[1;36m0.03546334058046341\u001b[0m\n"
      ]
     },
     "metadata": {},
     "output_type": "display_data"
    },
    {
     "data": {
      "text/html": [
       "<pre style=\"white-space:pre;overflow-x:auto;line-height:normal;font-family:Menlo,'DejaVu Sans Mono',consolas,'Courier New',monospace\"><span style=\"color: #008000; text-decoration-color: #008000\">Accept step at </span><span style=\"color: #808000; text-decoration-color: #808000\">i</span><span style=\"color: #008000; text-decoration-color: #008000\">=</span><span style=\"color: #008080; text-decoration-color: #008080; font-weight: bold\">1</span>\n",
       "</pre>\n"
      ],
      "text/plain": [
       "\u001b[32mAccept step at \u001b[0m\u001b[33mi\u001b[0m\u001b[32m=\u001b[0m\u001b[1;36m1\u001b[0m\n"
      ]
     },
     "metadata": {},
     "output_type": "display_data"
    },
    {
     "data": {
      "text/html": [
       "<pre style=\"white-space:pre;overflow-x:auto;line-height:normal;font-family:Menlo,'DejaVu Sans Mono',consolas,'Courier New',monospace\">┏━━━━━━━━━━━━━━━━━━━━━━━━━━━━━━━━┳━━━━━━━━━━━━━━━━━━━━━━━━┓\n",
       "┃<span style=\"font-weight: bold\"> Metrics                        </span>┃<span style=\"font-weight: bold\"> Value                  </span>┃\n",
       "┡━━━━━━━━━━━━━━━━━━━━━━━━━━━━━━━━╇━━━━━━━━━━━━━━━━━━━━━━━━┩\n",
       "│ Metrics/EpRet                  │ 14.613811492919922     │\n",
       "│ Metrics/EpCost                 │ 125.22000122070312     │\n",
       "│ Metrics/EpLen                  │ 1000.0                 │\n",
       "│ Train/Epoch                    │ 29.0                   │\n",
       "│ Train/Entropy                  │ 1.3364309072494507     │\n",
       "│ Train/KL                       │ 0.00029847727273590863 │\n",
       "│ Train/StopIter                 │ 10.0                   │\n",
       "│ Train/PolicyRatio/Mean         │ 0.9997897148132324     │\n",
       "│ Train/PolicyRatio/Min          │ 0.9997897148132324     │\n",
       "│ Train/PolicyRatio/Max          │ 0.9997897148132324     │\n",
       "│ Train/PolicyRatio/Std          │ 0.00014869407459627837 │\n",
       "│ Train/LR                       │ 0.0                    │\n",
       "│ Train/PolicyStd                │ 0.9210769534111023     │\n",
       "│ TotalEnvSteps                  │ 600000.0               │\n",
       "│ Loss/Loss_pi                   │ -0.02364223636686802   │\n",
       "│ Loss/Loss_pi/Delta             │ -0.0009266380220651627 │\n",
       "│ Value/Adv                      │ -9.155272984173735e-09 │\n",
       "│ Loss/Loss_reward_critic        │ 0.05797003582119942    │\n",
       "│ Loss/Loss_reward_critic/Delta  │ 0.0027086883783340454  │\n",
       "│ Value/reward                   │ 1.4767400026321411     │\n",
       "│ Loss/Loss_cost_critic          │ 2.0572621822357178     │\n",
       "│ Loss/Loss_cost_critic/Delta    │ 0.1961832046508789     │\n",
       "│ Value/cost                     │ 11.47725772857666      │\n",
       "│ Time/Total                     │ 2379.566162109375      │\n",
       "│ Time/Rollout                   │ 62.44233322143555      │\n",
       "│ Time/Update                    │ 13.275182723999023     │\n",
       "│ Time/Epoch                     │ 75.71751403808594      │\n",
       "│ Time/FPS                       │ 264.1396789550781      │\n",
       "│ Misc/Alpha                     │ 0.5396733283996582     │\n",
       "│ Misc/FinalStepNorm             │ 0.30680590867996216    │\n",
       "│ Misc/gradient_norm             │ 0.19059891998767853    │\n",
       "│ Misc/xHx                       │ 0.06867015361785889    │\n",
       "│ Misc/H_inv_g                   │ 0.5685030221939087     │\n",
       "│ Misc/AcceptanceStep            │ 1.0                    │\n",
       "│ Metrics/LagrangeMultiplier/Mea │ 0.9847581386566162     │\n",
       "│ Metrics/LagrangeMultiplier/Min │ 0.9847581386566162     │\n",
       "│ Metrics/LagrangeMultiplier/Max │ 0.9847581386566162     │\n",
       "│ Metrics/LagrangeMultiplier/Std │ 0.0                    │\n",
       "└────────────────────────────────┴────────────────────────┘\n",
       "</pre>\n"
      ],
      "text/plain": [
       "┏━━━━━━━━━━━━━━━━━━━━━━━━━━━━━━━━┳━━━━━━━━━━━━━━━━━━━━━━━━┓\n",
       "┃\u001b[1m \u001b[0m\u001b[1mMetrics                       \u001b[0m\u001b[1m \u001b[0m┃\u001b[1m \u001b[0m\u001b[1mValue                 \u001b[0m\u001b[1m \u001b[0m┃\n",
       "┡━━━━━━━━━━━━━━━━━━━━━━━━━━━━━━━━╇━━━━━━━━━━━━━━━━━━━━━━━━┩\n",
       "│ Metrics/EpRet                  │ 14.613811492919922     │\n",
       "│ Metrics/EpCost                 │ 125.22000122070312     │\n",
       "│ Metrics/EpLen                  │ 1000.0                 │\n",
       "│ Train/Epoch                    │ 29.0                   │\n",
       "│ Train/Entropy                  │ 1.3364309072494507     │\n",
       "│ Train/KL                       │ 0.00029847727273590863 │\n",
       "│ Train/StopIter                 │ 10.0                   │\n",
       "│ Train/PolicyRatio/Mean         │ 0.9997897148132324     │\n",
       "│ Train/PolicyRatio/Min          │ 0.9997897148132324     │\n",
       "│ Train/PolicyRatio/Max          │ 0.9997897148132324     │\n",
       "│ Train/PolicyRatio/Std          │ 0.00014869407459627837 │\n",
       "│ Train/LR                       │ 0.0                    │\n",
       "│ Train/PolicyStd                │ 0.9210769534111023     │\n",
       "│ TotalEnvSteps                  │ 600000.0               │\n",
       "│ Loss/Loss_pi                   │ -0.02364223636686802   │\n",
       "│ Loss/Loss_pi/Delta             │ -0.0009266380220651627 │\n",
       "│ Value/Adv                      │ -9.155272984173735e-09 │\n",
       "│ Loss/Loss_reward_critic        │ 0.05797003582119942    │\n",
       "│ Loss/Loss_reward_critic/Delta  │ 0.0027086883783340454  │\n",
       "│ Value/reward                   │ 1.4767400026321411     │\n",
       "│ Loss/Loss_cost_critic          │ 2.0572621822357178     │\n",
       "│ Loss/Loss_cost_critic/Delta    │ 0.1961832046508789     │\n",
       "│ Value/cost                     │ 11.47725772857666      │\n",
       "│ Time/Total                     │ 2379.566162109375      │\n",
       "│ Time/Rollout                   │ 62.44233322143555      │\n",
       "│ Time/Update                    │ 13.275182723999023     │\n",
       "│ Time/Epoch                     │ 75.71751403808594      │\n",
       "│ Time/FPS                       │ 264.1396789550781      │\n",
       "│ Misc/Alpha                     │ 0.5396733283996582     │\n",
       "│ Misc/FinalStepNorm             │ 0.30680590867996216    │\n",
       "│ Misc/gradient_norm             │ 0.19059891998767853    │\n",
       "│ Misc/xHx                       │ 0.06867015361785889    │\n",
       "│ Misc/H_inv_g                   │ 0.5685030221939087     │\n",
       "│ Misc/AcceptanceStep            │ 1.0                    │\n",
       "│ Metrics/LagrangeMultiplier/Mea │ 0.9847581386566162     │\n",
       "│ Metrics/LagrangeMultiplier/Min │ 0.9847581386566162     │\n",
       "│ Metrics/LagrangeMultiplier/Max │ 0.9847581386566162     │\n",
       "│ Metrics/LagrangeMultiplier/Std │ 0.0                    │\n",
       "└────────────────────────────────┴────────────────────────┘\n"
      ]
     },
     "metadata": {},
     "output_type": "display_data"
    },
    {
     "data": {
      "text/html": [
       "<pre style=\"white-space:pre;overflow-x:auto;line-height:normal;font-family:Menlo,'DejaVu Sans Mono',consolas,'Courier New',monospace\"><span style=\"color: #008080; text-decoration-color: #008080; font-weight: bold\">Logging data to </span>\n",
       "<span style=\"color: #008080; text-decoration-color: #008080; font-weight: bold\">.</span><span style=\"color: #800080; text-decoration-color: #800080; font-weight: bold\">/</span><span style=\"color: #ff00ff; text-decoration-color: #ff00ff; font-weight: bold\">exp-x</span><span style=\"color: #008080; text-decoration-color: #008080; font-weight: bold\">\\Exps_Final_6\\SafetyPointButton2-v0---badadffe40852568f079d3ca6300cc2a74d9df0899699bb4b45cb0182ab039d7\\PPOLa</span>\n",
       "<span style=\"color: #008080; text-decoration-color: #008080; font-weight: bold\">g-{SafetyPointButton2-v0}\\seed-</span><span style=\"color: #008080; text-decoration-color: #008080; font-weight: bold\">000</span><span style=\"color: #008080; text-decoration-color: #008080; font-weight: bold\">-</span><span style=\"color: #008080; text-decoration-color: #008080; font-weight: bold\">2024</span><span style=\"color: #008080; text-decoration-color: #008080; font-weight: bold\">-</span><span style=\"color: #008080; text-decoration-color: #008080; font-weight: bold\">05</span><span style=\"color: #008080; text-decoration-color: #008080; font-weight: bold\">-</span><span style=\"color: #008080; text-decoration-color: #008080; font-weight: bold\">20</span><span style=\"color: #008080; text-decoration-color: #008080; font-weight: bold\">-</span><span style=\"color: #008080; text-decoration-color: #008080; font-weight: bold\">17</span><span style=\"color: #008080; text-decoration-color: #008080; font-weight: bold\">-</span><span style=\"color: #008080; text-decoration-color: #008080; font-weight: bold\">34</span><span style=\"color: #008080; text-decoration-color: #008080; font-weight: bold\">-</span><span style=\"color: #008080; text-decoration-color: #008080; font-weight: bold\">44</span><span style=\"color: #008080; text-decoration-color: #008080; font-weight: bold\">\\progress.csv</span>\n",
       "</pre>\n"
      ],
      "text/plain": [
       "\u001b[1;36mLogging data to \u001b[0m\n",
       "\u001b[1;36m.\u001b[0m\u001b[1;35m/\u001b[0m\u001b[1;95mexp-x\u001b[0m\u001b[1;36m\\Exps_Final_6\\SafetyPointButton2-v0---badadffe40852568f079d3ca6300cc2a74d9df0899699bb4b45cb0182ab039d7\\PPOLa\u001b[0m\n",
       "\u001b[1;36mg-\u001b[0m\u001b[1;36m{\u001b[0m\u001b[1;36mSafetyPointButton2-v0\u001b[0m\u001b[1;36m}\u001b[0m\u001b[1;36m\\seed-\u001b[0m\u001b[1;36m000\u001b[0m\u001b[1;36m-\u001b[0m\u001b[1;36m2024\u001b[0m\u001b[1;36m-\u001b[0m\u001b[1;36m05\u001b[0m\u001b[1;36m-\u001b[0m\u001b[1;36m20\u001b[0m\u001b[1;36m-\u001b[0m\u001b[1;36m17\u001b[0m\u001b[1;36m-\u001b[0m\u001b[1;36m34\u001b[0m\u001b[1;36m-\u001b[0m\u001b[1;36m44\u001b[0m\u001b[1;36m\\progress.csv\u001b[0m\n"
      ]
     },
     "metadata": {},
     "output_type": "display_data"
    },
    {
     "data": {
      "text/html": [
       "<pre style=\"white-space:pre;overflow-x:auto;line-height:normal;font-family:Menlo,'DejaVu Sans Mono',consolas,'Courier New',monospace\"><span style=\"color: #808000; text-decoration-color: #808000; font-weight: bold\">Save with config in config.json</span>\n",
       "</pre>\n"
      ],
      "text/plain": [
       "\u001b[1;33mSave with config in config.json\u001b[0m\n"
      ]
     },
     "metadata": {},
     "output_type": "display_data"
    },
    {
     "data": {
      "text/html": [
       "<pre style=\"white-space:pre;overflow-x:auto;line-height:normal;font-family:Menlo,'DejaVu Sans Mono',consolas,'Courier New',monospace\">project Experiments_Final name PPOLag-<span style=\"font-weight: bold\">{</span>SafetyPointButton2-v0<span style=\"font-weight: bold\">}</span>-seed-<span style=\"color: #008080; text-decoration-color: #008080; font-weight: bold\">000</span>-<span style=\"color: #008080; text-decoration-color: #008080; font-weight: bold\">2024</span>-<span style=\"color: #008080; text-decoration-color: #008080; font-weight: bold\">05</span>-<span style=\"color: #008080; text-decoration-color: #008080; font-weight: bold\">20</span>-<span style=\"color: #008080; text-decoration-color: #008080; font-weight: bold\">17</span>-<span style=\"color: #008080; text-decoration-color: #008080; font-weight: bold\">34</span>-<span style=\"color: #008080; text-decoration-color: #008080; font-weight: bold\">44</span>\n",
       "</pre>\n"
      ],
      "text/plain": [
       "project Experiments_Final name PPOLag-\u001b[1m{\u001b[0mSafetyPointButton2-v0\u001b[1m}\u001b[0m-seed-\u001b[1;36m000\u001b[0m-\u001b[1;36m2024\u001b[0m-\u001b[1;36m05\u001b[0m-\u001b[1;36m20\u001b[0m-\u001b[1;36m17\u001b[0m-\u001b[1;36m34\u001b[0m-\u001b[1;36m44\u001b[0m\n"
      ]
     },
     "metadata": {},
     "output_type": "display_data"
    },
    {
     "data": {
      "text/html": [
       "Finishing last run (ID:v1oz986q) before initializing another..."
      ],
      "text/plain": [
       "<IPython.core.display.HTML object>"
      ]
     },
     "metadata": {},
     "output_type": "display_data"
    },
    {
     "data": {
      "text/html": [
       "<style>\n",
       "    table.wandb td:nth-child(1) { padding: 0 10px; text-align: left ; width: auto;} td:nth-child(2) {text-align: left ; width: 100%}\n",
       "    .wandb-row { display: flex; flex-direction: row; flex-wrap: wrap; justify-content: flex-start; width: 100% }\n",
       "    .wandb-col { display: flex; flex-direction: column; flex-basis: 100%; flex: 1; padding: 10px; }\n",
       "    </style>\n",
       "<div class=\"wandb-row\"><div class=\"wandb-col\"><h3>Run history:</h3><br/><table class=\"wandb\"><tr><td>Loss/Loss_cost_critic</td><td>▇▃▄▆█▅▅▃▂▃▃▂▂▂▃▂▄▂▂▂▃▃▂▁▂▂▁▁▃▃</td></tr><tr><td>Loss/Loss_cost_critic/Delta</td><td>█▁▃▄▃▁▂▂▂▃▃▂▃▂▃▂▃▂▃▃▃▃▂▂▃▃▂▃▃▃</td></tr><tr><td>Loss/Loss_pi</td><td>█▅▇▅▆▆▇▇▇▆▆▆▇▅▆▅▅▆▅▄▄▁▂▃▃▂▃▃▁▁</td></tr><tr><td>Loss/Loss_pi/Delta</td><td>▁▃█▅▇▇▆▆▆▆▇▆▇▅▆▆▆▇▅▆▆▄▇▇▇▅█▆▅▆</td></tr><tr><td>Loss/Loss_reward_critic</td><td>▁▁▁▁▂▃▃▃▄▄▄▄▄▅▆▄▇▆▅▆▆▆▇▅▆▇▆▇██</td></tr><tr><td>Loss/Loss_reward_critic/Delta</td><td>▅▂▃▄▅▄▅▄▄▄▄▂▄▆▄▁█▂▁▆▄▂▆▁▄▅▂▄▅▄</td></tr><tr><td>Metrics/EpCost</td><td>▁▂▃▆█▇▄▃▂▂▂▂▃▃▃▃▄▃▂▂▃▃▃▃▃▃▁▁▃▄</td></tr><tr><td>Metrics/EpLen</td><td>▁▁▁▁▁▁▁▁▁▁▁▁▁▁▁▁▁▁▁▁▁▁▁▁▁▁▁▁▁▁</td></tr><tr><td>Metrics/EpRet</td><td>▁▁▁▂▂▂▃▄▅▅▅▅▆▆▆▆▇▇▇▇▇▇▇▇▆▇▇▇██</td></tr><tr><td>Metrics/LagrangeMultiplier</td><td>▁▁▂▂▂▂▃▃▃▃▄▄▄▄▄▅▅▅▅▆▆▆▆▇▇▇▇███</td></tr><tr><td>Metrics/LagrangeMultiplier/Max</td><td>▁▁▂▂▂▂▃▃▃▃▄▄▄▄▄▅▅▅▅▆▆▆▆▇▇▇▇███</td></tr><tr><td>Metrics/LagrangeMultiplier/Min</td><td>▁▁▂▂▂▂▃▃▃▃▄▄▄▄▄▅▅▅▅▆▆▆▆▇▇▇▇███</td></tr><tr><td>Metrics/LagrangeMultiplier/Std</td><td>▁▁▁▁▁▁▁▁▁▁▁▁▁▁▁▁▁▁▁▁▁▁▁▁▁▁▁▁▁▁</td></tr><tr><td>Misc/AcceptanceStep</td><td>▁▁▁▁▁▁▁▁▁▁▁▁▁▁▁▁▁▁▁▁▁▁▁▁▁▁▁▁▁▁</td></tr><tr><td>Misc/Alpha</td><td>█▄▆▅▆▆▇▇▇▅▆▅▆▄▅▄▄▅▄▃▃▁▂▂▂▁▃▃▂▁</td></tr><tr><td>Misc/FinalStepNorm</td><td>▃▁▂▄▆▅▆▆▆▆▇██▇▇███▇▇▇▆▆▆▇▇▆██▇</td></tr><tr><td>Misc/H_inv_g</td><td>▁▂▁▃▃▂▂▂▂▃▃▃▃▄▄▄▅▄▅▅▅▇▆▆▆▇▅▆██</td></tr><tr><td>Misc/gradient_norm</td><td>▁▅▃▃▁▂▁▁▁▃▂▂▁▂▃▃▃▂▄▄▄▆▇▇▅▆▆▅▆█</td></tr><tr><td>Misc/xHx</td><td>▁▃▂▂▂▂▁▁▂▂▂▂▂▃▃▃▃▂▃▄▅▇▆▆▅▇▅▅▇█</td></tr><tr><td>Time/Epoch</td><td>▄▂▁▃▅▄▄▄▂▄▂▂▁▆▆▆▄▄▆▇██▆▇▂▃▂▃▃▃</td></tr><tr><td>Time/FPS</td><td>▅▇█▆▄▅▄▄▇▅▇▆█▃▃▃▅▅▃▂▁▁▂▂▇▅▆▆▆▆</td></tr><tr><td>Time/Rollout</td><td>▄▂▁▃▅▄▄▄▂▄▂▃▁▆▆▆▄▄▆▇██▇▇▂▃▂▃▃▃</td></tr><tr><td>Time/Total</td><td>▁▁▁▂▂▂▂▃▃▃▃▄▄▄▄▅▅▅▅▆▆▆▆▇▇▇▇███</td></tr><tr><td>Time/Update</td><td>▁▃▄▆▇▆▅▆▅▆▁▂▄▅▅▇▇▅▆▅▆█▄▃▃▃▃▃▃▄</td></tr><tr><td>TotalEnvSteps</td><td>▁▁▁▂▂▂▂▃▃▃▃▄▄▄▄▅▅▅▅▆▆▆▆▇▇▇▇███</td></tr><tr><td>Train/Entropy</td><td>██████▇▆▆▇▇▇▇▇▆▆▆▆▆▆▅▄▄▄▃▂▂▂▂▁</td></tr><tr><td>Train/Epoch</td><td>▁▁▁▂▂▂▂▃▃▃▃▄▄▄▄▅▅▅▅▆▆▆▆▇▇▇▇███</td></tr><tr><td>Train/KL</td><td>▄█▇▆▅▅▅▄▅▄▂▂▂▁▃▂▁▂▂▂▃▄▃▄▂▃▃▂▁▃</td></tr><tr><td>Train/LR</td><td>▁▁▁▁▁▁▁▁▁▁▁▁▁▁▁▁▁▁▁▁▁▁▁▁▁▁▁▁▁▁</td></tr><tr><td>Train/PolicyRatio</td><td>▃▆▃▇▇▂▂▆▅▄▂█▅▅▅█▇▃▄▅▆▅▃▂▅▅▄▁▅▄</td></tr><tr><td>Train/PolicyRatio/Max</td><td>▃▆▃▇▇▂▂▆▅▄▂█▅▅▅█▇▃▄▅▆▅▃▂▅▅▄▁▅▄</td></tr><tr><td>Train/PolicyRatio/Min</td><td>▃▆▃▇▇▂▂▆▅▄▂█▅▅▅█▇▃▄▅▆▅▃▂▅▅▄▁▅▄</td></tr><tr><td>Train/PolicyRatio/Std</td><td>▄▄▅▆▅▇▆▃▁▁▆▇▂▁▁▇▅▅▁▁▃▁▅▅▁▂▃█▂▂</td></tr><tr><td>Train/PolicyStd</td><td>█████▇▇▆▆▇▇▇▇▇▆▆▆▆▆▆▅▄▄▃▃▂▁▁▂▁</td></tr><tr><td>Train/StopIter</td><td>▁▁▁▁▁▁▁▁▁▁▁▁▁▁▁▁▁▁▁▁▁▁▁▁▁▁▁▁▁▁</td></tr><tr><td>Value/Adv</td><td>▅▃▅▄▅▅▅▄█▂▂▁▅▅▅▅▃▄▃▅▅▄▄▅▄▄▄▅▅▄</td></tr><tr><td>Value/cost</td><td>▁▂▃▃▅▄▄▅▆▆▆▆▆▇▇▇▇▇▇▇█▇▇▇▆▇▇▇█▇</td></tr><tr><td>Value/reward</td><td>▁▁▁▁▁▂▂▂▃▃▃▄▄▅▅▅▆▆▆▆█▆▇▆▆▇▆▇██</td></tr></table><br/></div><div class=\"wandb-col\"><h3>Run summary:</h3><br/><table class=\"wandb\"><tr><td>Loss/Loss_cost_critic</td><td>2.05726</td></tr><tr><td>Loss/Loss_cost_critic/Delta</td><td>0.19618</td></tr><tr><td>Loss/Loss_pi</td><td>-0.02364</td></tr><tr><td>Loss/Loss_pi/Delta</td><td>-0.00093</td></tr><tr><td>Loss/Loss_reward_critic</td><td>0.05797</td></tr><tr><td>Loss/Loss_reward_critic/Delta</td><td>0.00271</td></tr><tr><td>Metrics/EpCost</td><td>125.22</td></tr><tr><td>Metrics/EpLen</td><td>1000.0</td></tr><tr><td>Metrics/EpRet</td><td>14.61381</td></tr><tr><td>Metrics/LagrangeMultiplier</td><td>0.98476</td></tr><tr><td>Metrics/LagrangeMultiplier/Max</td><td>0.98476</td></tr><tr><td>Metrics/LagrangeMultiplier/Min</td><td>0.98476</td></tr><tr><td>Metrics/LagrangeMultiplier/Std</td><td>0.0</td></tr><tr><td>Misc/AcceptanceStep</td><td>1.0</td></tr><tr><td>Misc/Alpha</td><td>0.53967</td></tr><tr><td>Misc/FinalStepNorm</td><td>0.30681</td></tr><tr><td>Misc/H_inv_g</td><td>0.5685</td></tr><tr><td>Misc/gradient_norm</td><td>0.1906</td></tr><tr><td>Misc/xHx</td><td>0.06867</td></tr><tr><td>Time/Epoch</td><td>75.71751</td></tr><tr><td>Time/FPS</td><td>264.13968</td></tr><tr><td>Time/Rollout</td><td>62.44233</td></tr><tr><td>Time/Total</td><td>2379.56616</td></tr><tr><td>Time/Update</td><td>13.27518</td></tr><tr><td>TotalEnvSteps</td><td>600000.0</td></tr><tr><td>Train/Entropy</td><td>1.33643</td></tr><tr><td>Train/Epoch</td><td>29.0</td></tr><tr><td>Train/KL</td><td>0.0003</td></tr><tr><td>Train/LR</td><td>0.0</td></tr><tr><td>Train/PolicyRatio</td><td>0.99979</td></tr><tr><td>Train/PolicyRatio/Max</td><td>0.99979</td></tr><tr><td>Train/PolicyRatio/Min</td><td>0.99979</td></tr><tr><td>Train/PolicyRatio/Std</td><td>0.00015</td></tr><tr><td>Train/PolicyStd</td><td>0.92108</td></tr><tr><td>Train/StopIter</td><td>10.0</td></tr><tr><td>Value/Adv</td><td>-0.0</td></tr><tr><td>Value/cost</td><td>11.47726</td></tr><tr><td>Value/reward</td><td>1.47674</td></tr></table><br/></div></div>"
      ],
      "text/plain": [
       "<IPython.core.display.HTML object>"
      ]
     },
     "metadata": {},
     "output_type": "display_data"
    },
    {
     "data": {
      "text/html": [
       " View run <strong style=\"color:#cdcd00\">TRPOLag-{SafetyPointButton2-v0}-seed-000-2024-05-20-16-54-56</strong> at: <a href='https://wandb.ai/sasank/Experiments_Final/runs/v1oz986q' target=\"_blank\">https://wandb.ai/sasank/Experiments_Final/runs/v1oz986q</a><br/> View project at: <a href='https://wandb.ai/sasank/Experiments_Final' target=\"_blank\">https://wandb.ai/sasank/Experiments_Final</a><br/>Synced 5 W&B file(s), 0 media file(s), 0 artifact file(s) and 0 other file(s)"
      ],
      "text/plain": [
       "<IPython.core.display.HTML object>"
      ]
     },
     "metadata": {},
     "output_type": "display_data"
    },
    {
     "data": {
      "text/html": [
       "Find logs at: <code>./exp-x\\Exps_Final_6\\SafetyPointButton2-v0---a094a2c4ee75c8f5e6ec093fa12a4acc298af447320d5790d950e54ddff69ffe\\TRPOLag-{SafetyPointButton2-v0}\\seed-000-2024-05-20-16-54-56\\wandb\\run-20240520_165458-v1oz986q\\logs</code>"
      ],
      "text/plain": [
       "<IPython.core.display.HTML object>"
      ]
     },
     "metadata": {},
     "output_type": "display_data"
    },
    {
     "data": {
      "text/html": [
       "Successfully finished last run (ID:v1oz986q). Initializing new run:<br/>"
      ],
      "text/plain": [
       "<IPython.core.display.HTML object>"
      ]
     },
     "metadata": {},
     "output_type": "display_data"
    },
    {
     "data": {
      "text/html": [
       "Tracking run with wandb version 0.17.0"
      ],
      "text/plain": [
       "<IPython.core.display.HTML object>"
      ]
     },
     "metadata": {},
     "output_type": "display_data"
    },
    {
     "data": {
      "text/html": [
       "Run data is saved locally in <code>./exp-x\\Exps_Final_6\\SafetyPointButton2-v0---badadffe40852568f079d3ca6300cc2a74d9df0899699bb4b45cb0182ab039d7\\PPOLag-{SafetyPointButton2-v0}\\seed-000-2024-05-20-17-34-44\\wandb\\run-20240520_173444-2m5fgp8p</code>"
      ],
      "text/plain": [
       "<IPython.core.display.HTML object>"
      ]
     },
     "metadata": {},
     "output_type": "display_data"
    },
    {
     "data": {
      "text/html": [
       "Syncing run <strong><a href='https://wandb.ai/sasank/Experiments_Final/runs/2m5fgp8p' target=\"_blank\">PPOLag-{SafetyPointButton2-v0}-seed-000-2024-05-20-17-34-44</a></strong> to <a href='https://wandb.ai/sasank/Experiments_Final' target=\"_blank\">Weights & Biases</a> (<a href='https://wandb.me/run' target=\"_blank\">docs</a>)<br/>"
      ],
      "text/plain": [
       "<IPython.core.display.HTML object>"
      ]
     },
     "metadata": {},
     "output_type": "display_data"
    },
    {
     "data": {
      "text/html": [
       " View project at <a href='https://wandb.ai/sasank/Experiments_Final' target=\"_blank\">https://wandb.ai/sasank/Experiments_Final</a>"
      ],
      "text/plain": [
       "<IPython.core.display.HTML object>"
      ]
     },
     "metadata": {},
     "output_type": "display_data"
    },
    {
     "data": {
      "text/html": [
       " View run at <a href='https://wandb.ai/sasank/Experiments_Final/runs/2m5fgp8p' target=\"_blank\">https://wandb.ai/sasank/Experiments_Final/runs/2m5fgp8p</a>"
      ],
      "text/plain": [
       "<IPython.core.display.HTML object>"
      ]
     },
     "metadata": {},
     "output_type": "display_data"
    },
    {
     "data": {
      "text/html": [
       "<pre style=\"white-space:pre;overflow-x:auto;line-height:normal;font-family:Menlo,'DejaVu Sans Mono',consolas,'Courier New',monospace\"><span style=\"color: #008000; text-decoration-color: #008000\">INFO: Start training</span>\n",
       "</pre>\n"
      ],
      "text/plain": [
       "\u001b[32mINFO: Start training\u001b[0m\n"
      ]
     },
     "metadata": {},
     "output_type": "display_data"
    },
    {
     "data": {
      "text/html": [
       "<pre style=\"white-space:pre;overflow-x:auto;line-height:normal;font-family:Menlo,'DejaVu Sans Mono',consolas,'Courier New',monospace\">c:\\Users\\saisa\\.conda\\envs\\om-38\\lib\\site-packages\\rich\\live.py:231: UserWarning: install \"ipywidgets\" for Jupyter \n",
       "support\n",
       "  warnings.warn('install \"ipywidgets\" for Jupyter support')\n",
       "</pre>\n"
      ],
      "text/plain": [
       "c:\\Users\\saisa\\.conda\\envs\\om-38\\lib\\site-packages\\rich\\live.py:231: UserWarning: install \"ipywidgets\" for Jupyter \n",
       "support\n",
       "  warnings.warn('install \"ipywidgets\" for Jupyter support')\n"
      ]
     },
     "metadata": {},
     "output_type": "display_data"
    },
    {
     "data": {
      "text/html": [
       "<pre style=\"white-space:pre;overflow-x:auto;line-height:normal;font-family:Menlo,'DejaVu Sans Mono',consolas,'Courier New',monospace\"><span style=\"color: #008000; text-decoration-color: #008000\">Warning: trajectory cut off when rollout by epoch at </span><span style=\"color: #008080; text-decoration-color: #008080; font-weight: bold\">1000.0</span><span style=\"color: #008000; text-decoration-color: #008000\"> steps.</span>\n",
       "</pre>\n"
      ],
      "text/plain": [
       "\u001b[32mWarning: trajectory cut off when rollout by epoch at \u001b[0m\u001b[1;36m1000.0\u001b[0m\u001b[32m steps.\u001b[0m\n"
      ]
     },
     "metadata": {},
     "output_type": "display_data"
    },
    {
     "data": {
      "text/html": [
       "<pre style=\"white-space:pre;overflow-x:auto;line-height:normal;font-family:Menlo,'DejaVu Sans Mono',consolas,'Courier New',monospace\"><span style=\"color: #008000; text-decoration-color: #008000\">Warning: trajectory cut off when rollout by epoch at </span><span style=\"color: #008080; text-decoration-color: #008080; font-weight: bold\">1000.0</span><span style=\"color: #008000; text-decoration-color: #008000\"> steps.</span>\n",
       "</pre>\n"
      ],
      "text/plain": [
       "\u001b[32mWarning: trajectory cut off when rollout by epoch at \u001b[0m\u001b[1;36m1000.0\u001b[0m\u001b[32m steps.\u001b[0m\n"
      ]
     },
     "metadata": {},
     "output_type": "display_data"
    },
    {
     "data": {
      "text/html": [
       "<pre style=\"white-space:pre;overflow-x:auto;line-height:normal;font-family:Menlo,'DejaVu Sans Mono',consolas,'Courier New',monospace\"><span style=\"color: #008000; text-decoration-color: #008000\">Warning: trajectory cut off when rollout by epoch at </span><span style=\"color: #008080; text-decoration-color: #008080; font-weight: bold\">1000.0</span><span style=\"color: #008000; text-decoration-color: #008000\"> steps.</span>\n",
       "</pre>\n"
      ],
      "text/plain": [
       "\u001b[32mWarning: trajectory cut off when rollout by epoch at \u001b[0m\u001b[1;36m1000.0\u001b[0m\u001b[32m steps.\u001b[0m\n"
      ]
     },
     "metadata": {},
     "output_type": "display_data"
    },
    {
     "data": {
      "text/html": [
       "<pre style=\"white-space:pre;overflow-x:auto;line-height:normal;font-family:Menlo,'DejaVu Sans Mono',consolas,'Courier New',monospace\"><span style=\"color: #008000; text-decoration-color: #008000\">Warning: trajectory cut off when rollout by epoch at </span><span style=\"color: #008080; text-decoration-color: #008080; font-weight: bold\">1000.0</span><span style=\"color: #008000; text-decoration-color: #008000\"> steps.</span>\n",
       "</pre>\n"
      ],
      "text/plain": [
       "\u001b[32mWarning: trajectory cut off when rollout by epoch at \u001b[0m\u001b[1;36m1000.0\u001b[0m\u001b[32m steps.\u001b[0m\n"
      ]
     },
     "metadata": {},
     "output_type": "display_data"
    },
    {
     "data": {
      "text/html": [
       "<pre style=\"white-space:pre;overflow-x:auto;line-height:normal;font-family:Menlo,'DejaVu Sans Mono',consolas,'Courier New',monospace\"></pre>\n"
      ],
      "text/plain": []
     },
     "metadata": {},
     "output_type": "display_data"
    },
    {
     "data": {
      "text/html": [
       "<pre style=\"white-space:pre;overflow-x:auto;line-height:normal;font-family:Menlo,'DejaVu Sans Mono',consolas,'Courier New',monospace\">\n",
       "</pre>\n"
      ],
      "text/plain": [
       "\n"
      ]
     },
     "metadata": {},
     "output_type": "display_data"
    },
    {
     "data": {
      "text/html": [
       "<pre style=\"white-space:pre;overflow-x:auto;line-height:normal;font-family:Menlo,'DejaVu Sans Mono',consolas,'Courier New',monospace\"></pre>\n"
      ],
      "text/plain": []
     },
     "metadata": {},
     "output_type": "display_data"
    },
    {
     "data": {
      "text/html": [
       "<pre style=\"white-space:pre;overflow-x:auto;line-height:normal;font-family:Menlo,'DejaVu Sans Mono',consolas,'Courier New',monospace\">\n",
       "</pre>\n"
      ],
      "text/plain": [
       "\n"
      ]
     },
     "metadata": {},
     "output_type": "display_data"
    },
    {
     "data": {
      "text/html": [
       "<pre style=\"white-space:pre;overflow-x:auto;line-height:normal;font-family:Menlo,'DejaVu Sans Mono',consolas,'Courier New',monospace\">┏━━━━━━━━━━━━━━━━━━━━━━━━━━━━━━━━┳━━━━━━━━━━━━━━━━━━━━━━━┓\n",
       "┃<span style=\"font-weight: bold\"> Metrics                        </span>┃<span style=\"font-weight: bold\"> Value                 </span>┃\n",
       "┡━━━━━━━━━━━━━━━━━━━━━━━━━━━━━━━━╇━━━━━━━━━━━━━━━━━━━━━━━┩\n",
       "│ Metrics/EpRet                  │ -0.7741950750350952   │\n",
       "│ Metrics/EpCost                 │ 83.30000305175781     │\n",
       "│ Metrics/EpLen                  │ 1000.0                │\n",
       "│ Train/Epoch                    │ 0.0                   │\n",
       "│ Train/Entropy                  │ 1.4147261381149292    │\n",
       "│ Train/KL                       │ 0.015496084466576576  │\n",
       "│ Train/StopIter                 │ 40.0                  │\n",
       "│ Train/PolicyRatio/Mean         │ 0.9986106753349304    │\n",
       "│ Train/PolicyRatio/Min          │ 0.9986106157302856    │\n",
       "│ Train/PolicyRatio/Max          │ 0.9986106157302856    │\n",
       "│ Train/PolicyRatio/Std          │ 0.017541056498885155  │\n",
       "│ Train/LR                       │ 0.0002899999963119626 │\n",
       "│ Train/PolicyStd                │ 0.9958129525184631    │\n",
       "│ TotalEnvSteps                  │ 20000.0               │\n",
       "│ Loss/Loss_pi                   │ -0.011941355653107166 │\n",
       "│ Loss/Loss_pi/Delta             │ -0.011941355653107166 │\n",
       "│ Value/Adv                      │ 0.14155220985412598   │\n",
       "│ Loss/Loss_reward_critic        │ 0.0045645227655768394 │\n",
       "│ Loss/Loss_reward_critic/Delta  │ 0.0045645227655768394 │\n",
       "│ Value/reward                   │ 0.011345586739480495  │\n",
       "│ Loss/Loss_cost_critic          │ 1.547409176826477     │\n",
       "│ Loss/Loss_cost_critic/Delta    │ 1.547409176826477     │\n",
       "│ Value/cost                     │ 0.06896490603685379   │\n",
       "│ Time/Total                     │ 224.89022827148438    │\n",
       "│ Time/Rollout                   │ 66.20233154296875     │\n",
       "│ Time/Update                    │ 158.68789672851562    │\n",
       "│ Time/Epoch                     │ 224.89022827148438    │\n",
       "│ Time/FPS                       │ 88.93228149414062     │\n",
       "│ Metrics/LagrangeMultiplier/Mea │ 0.035999998450279236  │\n",
       "│ Metrics/LagrangeMultiplier/Min │ 0.035999998450279236  │\n",
       "│ Metrics/LagrangeMultiplier/Max │ 0.035999998450279236  │\n",
       "│ Metrics/LagrangeMultiplier/Std │ 0.0                   │\n",
       "└────────────────────────────────┴───────────────────────┘\n",
       "</pre>\n"
      ],
      "text/plain": [
       "┏━━━━━━━━━━━━━━━━━━━━━━━━━━━━━━━━┳━━━━━━━━━━━━━━━━━━━━━━━┓\n",
       "┃\u001b[1m \u001b[0m\u001b[1mMetrics                       \u001b[0m\u001b[1m \u001b[0m┃\u001b[1m \u001b[0m\u001b[1mValue                \u001b[0m\u001b[1m \u001b[0m┃\n",
       "┡━━━━━━━━━━━━━━━━━━━━━━━━━━━━━━━━╇━━━━━━━━━━━━━━━━━━━━━━━┩\n",
       "│ Metrics/EpRet                  │ -0.7741950750350952   │\n",
       "│ Metrics/EpCost                 │ 83.30000305175781     │\n",
       "│ Metrics/EpLen                  │ 1000.0                │\n",
       "│ Train/Epoch                    │ 0.0                   │\n",
       "│ Train/Entropy                  │ 1.4147261381149292    │\n",
       "│ Train/KL                       │ 0.015496084466576576  │\n",
       "│ Train/StopIter                 │ 40.0                  │\n",
       "│ Train/PolicyRatio/Mean         │ 0.9986106753349304    │\n",
       "│ Train/PolicyRatio/Min          │ 0.9986106157302856    │\n",
       "│ Train/PolicyRatio/Max          │ 0.9986106157302856    │\n",
       "│ Train/PolicyRatio/Std          │ 0.017541056498885155  │\n",
       "│ Train/LR                       │ 0.0002899999963119626 │\n",
       "│ Train/PolicyStd                │ 0.9958129525184631    │\n",
       "│ TotalEnvSteps                  │ 20000.0               │\n",
       "│ Loss/Loss_pi                   │ -0.011941355653107166 │\n",
       "│ Loss/Loss_pi/Delta             │ -0.011941355653107166 │\n",
       "│ Value/Adv                      │ 0.14155220985412598   │\n",
       "│ Loss/Loss_reward_critic        │ 0.0045645227655768394 │\n",
       "│ Loss/Loss_reward_critic/Delta  │ 0.0045645227655768394 │\n",
       "│ Value/reward                   │ 0.011345586739480495  │\n",
       "│ Loss/Loss_cost_critic          │ 1.547409176826477     │\n",
       "│ Loss/Loss_cost_critic/Delta    │ 1.547409176826477     │\n",
       "│ Value/cost                     │ 0.06896490603685379   │\n",
       "│ Time/Total                     │ 224.89022827148438    │\n",
       "│ Time/Rollout                   │ 66.20233154296875     │\n",
       "│ Time/Update                    │ 158.68789672851562    │\n",
       "│ Time/Epoch                     │ 224.89022827148438    │\n",
       "│ Time/FPS                       │ 88.93228149414062     │\n",
       "│ Metrics/LagrangeMultiplier/Mea │ 0.035999998450279236  │\n",
       "│ Metrics/LagrangeMultiplier/Min │ 0.035999998450279236  │\n",
       "│ Metrics/LagrangeMultiplier/Max │ 0.035999998450279236  │\n",
       "│ Metrics/LagrangeMultiplier/Std │ 0.0                   │\n",
       "└────────────────────────────────┴───────────────────────┘\n"
      ]
     },
     "metadata": {},
     "output_type": "display_data"
    },
    {
     "data": {
      "text/html": [
       "<pre style=\"white-space:pre;overflow-x:auto;line-height:normal;font-family:Menlo,'DejaVu Sans Mono',consolas,'Courier New',monospace\"><span style=\"color: #008000; text-decoration-color: #008000\">Warning: trajectory cut off when rollout by epoch at </span><span style=\"color: #008080; text-decoration-color: #008080; font-weight: bold\">1000.0</span><span style=\"color: #008000; text-decoration-color: #008000\"> steps.</span>\n",
       "</pre>\n"
      ],
      "text/plain": [
       "\u001b[32mWarning: trajectory cut off when rollout by epoch at \u001b[0m\u001b[1;36m1000.0\u001b[0m\u001b[32m steps.\u001b[0m\n"
      ]
     },
     "metadata": {},
     "output_type": "display_data"
    },
    {
     "data": {
      "text/html": [
       "<pre style=\"white-space:pre;overflow-x:auto;line-height:normal;font-family:Menlo,'DejaVu Sans Mono',consolas,'Courier New',monospace\"><span style=\"color: #008000; text-decoration-color: #008000\">Warning: trajectory cut off when rollout by epoch at </span><span style=\"color: #008080; text-decoration-color: #008080; font-weight: bold\">1000.0</span><span style=\"color: #008000; text-decoration-color: #008000\"> steps.</span>\n",
       "</pre>\n"
      ],
      "text/plain": [
       "\u001b[32mWarning: trajectory cut off when rollout by epoch at \u001b[0m\u001b[1;36m1000.0\u001b[0m\u001b[32m steps.\u001b[0m\n"
      ]
     },
     "metadata": {},
     "output_type": "display_data"
    },
    {
     "data": {
      "text/html": [
       "<pre style=\"white-space:pre;overflow-x:auto;line-height:normal;font-family:Menlo,'DejaVu Sans Mono',consolas,'Courier New',monospace\"><span style=\"color: #008000; text-decoration-color: #008000\">Warning: trajectory cut off when rollout by epoch at </span><span style=\"color: #008080; text-decoration-color: #008080; font-weight: bold\">1000.0</span><span style=\"color: #008000; text-decoration-color: #008000\"> steps.</span>\n",
       "</pre>\n"
      ],
      "text/plain": [
       "\u001b[32mWarning: trajectory cut off when rollout by epoch at \u001b[0m\u001b[1;36m1000.0\u001b[0m\u001b[32m steps.\u001b[0m\n"
      ]
     },
     "metadata": {},
     "output_type": "display_data"
    },
    {
     "data": {
      "text/html": [
       "<pre style=\"white-space:pre;overflow-x:auto;line-height:normal;font-family:Menlo,'DejaVu Sans Mono',consolas,'Courier New',monospace\"><span style=\"color: #008000; text-decoration-color: #008000\">Warning: trajectory cut off when rollout by epoch at </span><span style=\"color: #008080; text-decoration-color: #008080; font-weight: bold\">1000.0</span><span style=\"color: #008000; text-decoration-color: #008000\"> steps.</span>\n",
       "</pre>\n"
      ],
      "text/plain": [
       "\u001b[32mWarning: trajectory cut off when rollout by epoch at \u001b[0m\u001b[1;36m1000.0\u001b[0m\u001b[32m steps.\u001b[0m\n"
      ]
     },
     "metadata": {},
     "output_type": "display_data"
    },
    {
     "data": {
      "text/html": [
       "<pre style=\"white-space:pre;overflow-x:auto;line-height:normal;font-family:Menlo,'DejaVu Sans Mono',consolas,'Courier New',monospace\"></pre>\n"
      ],
      "text/plain": []
     },
     "metadata": {},
     "output_type": "display_data"
    },
    {
     "data": {
      "text/html": [
       "<pre style=\"white-space:pre;overflow-x:auto;line-height:normal;font-family:Menlo,'DejaVu Sans Mono',consolas,'Courier New',monospace\">\n",
       "</pre>\n"
      ],
      "text/plain": [
       "\n"
      ]
     },
     "metadata": {},
     "output_type": "display_data"
    },
    {
     "data": {
      "text/html": [
       "<pre style=\"white-space:pre;overflow-x:auto;line-height:normal;font-family:Menlo,'DejaVu Sans Mono',consolas,'Courier New',monospace\"></pre>\n"
      ],
      "text/plain": []
     },
     "metadata": {},
     "output_type": "display_data"
    },
    {
     "data": {
      "text/html": [
       "<pre style=\"white-space:pre;overflow-x:auto;line-height:normal;font-family:Menlo,'DejaVu Sans Mono',consolas,'Courier New',monospace\">\n",
       "</pre>\n"
      ],
      "text/plain": [
       "\n"
      ]
     },
     "metadata": {},
     "output_type": "display_data"
    },
    {
     "data": {
      "text/html": [
       "<pre style=\"white-space:pre;overflow-x:auto;line-height:normal;font-family:Menlo,'DejaVu Sans Mono',consolas,'Courier New',monospace\">┏━━━━━━━━━━━━━━━━━━━━━━━━━━━━━━━━┳━━━━━━━━━━━━━━━━━━━━━━━━┓\n",
       "┃<span style=\"font-weight: bold\"> Metrics                        </span>┃<span style=\"font-weight: bold\"> Value                  </span>┃\n",
       "┡━━━━━━━━━━━━━━━━━━━━━━━━━━━━━━━━╇━━━━━━━━━━━━━━━━━━━━━━━━┩\n",
       "│ Metrics/EpRet                  │ -0.582524299621582     │\n",
       "│ Metrics/EpCost                 │ 115.5250015258789      │\n",
       "│ Metrics/EpLen                  │ 1000.0                 │\n",
       "│ Train/Epoch                    │ 1.0                    │\n",
       "│ Train/Entropy                  │ 1.4065264463424683     │\n",
       "│ Train/KL                       │ 0.018718542531132698   │\n",
       "│ Train/StopIter                 │ 40.0                   │\n",
       "│ Train/PolicyRatio/Mean         │ 0.9978130459785461     │\n",
       "│ Train/PolicyRatio/Min          │ 0.9978129863739014     │\n",
       "│ Train/PolicyRatio/Max          │ 0.9978129863739014     │\n",
       "│ Train/PolicyRatio/Std          │ 0.02024644799530506    │\n",
       "│ Train/LR                       │ 0.0002800000074785203  │\n",
       "│ Train/PolicyStd                │ 0.9877268075942993     │\n",
       "│ TotalEnvSteps                  │ 40000.0                │\n",
       "│ Loss/Loss_pi                   │ -0.02284322679042816   │\n",
       "│ Loss/Loss_pi/Delta             │ -0.010901871137320995  │\n",
       "│ Value/Adv                      │ -0.30803313851356506   │\n",
       "│ Loss/Loss_reward_critic        │ 0.0029624388553202152  │\n",
       "│ Loss/Loss_reward_critic/Delta  │ -0.0016020839102566242 │\n",
       "│ Value/reward                   │ 0.03795098513364792    │\n",
       "│ Loss/Loss_cost_critic          │ 1.4160025119781494     │\n",
       "│ Loss/Loss_cost_critic/Delta    │ -0.13140666484832764   │\n",
       "│ Value/cost                     │ 1.7868000268936157     │\n",
       "│ Time/Total                     │ 446.4429016113281      │\n",
       "│ Time/Rollout                   │ 63.689762115478516     │\n",
       "│ Time/Update                    │ 157.81982421875        │\n",
       "│ Time/Epoch                     │ 221.50958251953125     │\n",
       "│ Time/FPS                       │ 90.28955078125         │\n",
       "│ Metrics/LagrangeMultiplier/Mea │ 0.07059353590011597    │\n",
       "│ Metrics/LagrangeMultiplier/Min │ 0.07059353590011597    │\n",
       "│ Metrics/LagrangeMultiplier/Max │ 0.07059353590011597    │\n",
       "│ Metrics/LagrangeMultiplier/Std │ 0.0                    │\n",
       "└────────────────────────────────┴────────────────────────┘\n",
       "</pre>\n"
      ],
      "text/plain": [
       "┏━━━━━━━━━━━━━━━━━━━━━━━━━━━━━━━━┳━━━━━━━━━━━━━━━━━━━━━━━━┓\n",
       "┃\u001b[1m \u001b[0m\u001b[1mMetrics                       \u001b[0m\u001b[1m \u001b[0m┃\u001b[1m \u001b[0m\u001b[1mValue                 \u001b[0m\u001b[1m \u001b[0m┃\n",
       "┡━━━━━━━━━━━━━━━━━━━━━━━━━━━━━━━━╇━━━━━━━━━━━━━━━━━━━━━━━━┩\n",
       "│ Metrics/EpRet                  │ -0.582524299621582     │\n",
       "│ Metrics/EpCost                 │ 115.5250015258789      │\n",
       "│ Metrics/EpLen                  │ 1000.0                 │\n",
       "│ Train/Epoch                    │ 1.0                    │\n",
       "│ Train/Entropy                  │ 1.4065264463424683     │\n",
       "│ Train/KL                       │ 0.018718542531132698   │\n",
       "│ Train/StopIter                 │ 40.0                   │\n",
       "│ Train/PolicyRatio/Mean         │ 0.9978130459785461     │\n",
       "│ Train/PolicyRatio/Min          │ 0.9978129863739014     │\n",
       "│ Train/PolicyRatio/Max          │ 0.9978129863739014     │\n",
       "│ Train/PolicyRatio/Std          │ 0.02024644799530506    │\n",
       "│ Train/LR                       │ 0.0002800000074785203  │\n",
       "│ Train/PolicyStd                │ 0.9877268075942993     │\n",
       "│ TotalEnvSteps                  │ 40000.0                │\n",
       "│ Loss/Loss_pi                   │ -0.02284322679042816   │\n",
       "│ Loss/Loss_pi/Delta             │ -0.010901871137320995  │\n",
       "│ Value/Adv                      │ -0.30803313851356506   │\n",
       "│ Loss/Loss_reward_critic        │ 0.0029624388553202152  │\n",
       "│ Loss/Loss_reward_critic/Delta  │ -0.0016020839102566242 │\n",
       "│ Value/reward                   │ 0.03795098513364792    │\n",
       "│ Loss/Loss_cost_critic          │ 1.4160025119781494     │\n",
       "│ Loss/Loss_cost_critic/Delta    │ -0.13140666484832764   │\n",
       "│ Value/cost                     │ 1.7868000268936157     │\n",
       "│ Time/Total                     │ 446.4429016113281      │\n",
       "│ Time/Rollout                   │ 63.689762115478516     │\n",
       "│ Time/Update                    │ 157.81982421875        │\n",
       "│ Time/Epoch                     │ 221.50958251953125     │\n",
       "│ Time/FPS                       │ 90.28955078125         │\n",
       "│ Metrics/LagrangeMultiplier/Mea │ 0.07059353590011597    │\n",
       "│ Metrics/LagrangeMultiplier/Min │ 0.07059353590011597    │\n",
       "│ Metrics/LagrangeMultiplier/Max │ 0.07059353590011597    │\n",
       "│ Metrics/LagrangeMultiplier/Std │ 0.0                    │\n",
       "└────────────────────────────────┴────────────────────────┘\n"
      ]
     },
     "metadata": {},
     "output_type": "display_data"
    },
    {
     "data": {
      "text/html": [
       "<pre style=\"white-space:pre;overflow-x:auto;line-height:normal;font-family:Menlo,'DejaVu Sans Mono',consolas,'Courier New',monospace\"><span style=\"color: #008000; text-decoration-color: #008000\">Warning: trajectory cut off when rollout by epoch at </span><span style=\"color: #008080; text-decoration-color: #008080; font-weight: bold\">1000.0</span><span style=\"color: #008000; text-decoration-color: #008000\"> steps.</span>\n",
       "</pre>\n"
      ],
      "text/plain": [
       "\u001b[32mWarning: trajectory cut off when rollout by epoch at \u001b[0m\u001b[1;36m1000.0\u001b[0m\u001b[32m steps.\u001b[0m\n"
      ]
     },
     "metadata": {},
     "output_type": "display_data"
    },
    {
     "data": {
      "text/html": [
       "<pre style=\"white-space:pre;overflow-x:auto;line-height:normal;font-family:Menlo,'DejaVu Sans Mono',consolas,'Courier New',monospace\"><span style=\"color: #008000; text-decoration-color: #008000\">Warning: trajectory cut off when rollout by epoch at </span><span style=\"color: #008080; text-decoration-color: #008080; font-weight: bold\">1000.0</span><span style=\"color: #008000; text-decoration-color: #008000\"> steps.</span>\n",
       "</pre>\n"
      ],
      "text/plain": [
       "\u001b[32mWarning: trajectory cut off when rollout by epoch at \u001b[0m\u001b[1;36m1000.0\u001b[0m\u001b[32m steps.\u001b[0m\n"
      ]
     },
     "metadata": {},
     "output_type": "display_data"
    },
    {
     "data": {
      "text/html": [
       "<pre style=\"white-space:pre;overflow-x:auto;line-height:normal;font-family:Menlo,'DejaVu Sans Mono',consolas,'Courier New',monospace\"><span style=\"color: #008000; text-decoration-color: #008000\">Warning: trajectory cut off when rollout by epoch at </span><span style=\"color: #008080; text-decoration-color: #008080; font-weight: bold\">1000.0</span><span style=\"color: #008000; text-decoration-color: #008000\"> steps.</span>\n",
       "</pre>\n"
      ],
      "text/plain": [
       "\u001b[32mWarning: trajectory cut off when rollout by epoch at \u001b[0m\u001b[1;36m1000.0\u001b[0m\u001b[32m steps.\u001b[0m\n"
      ]
     },
     "metadata": {},
     "output_type": "display_data"
    },
    {
     "data": {
      "text/html": [
       "<pre style=\"white-space:pre;overflow-x:auto;line-height:normal;font-family:Menlo,'DejaVu Sans Mono',consolas,'Courier New',monospace\"><span style=\"color: #008000; text-decoration-color: #008000\">Warning: trajectory cut off when rollout by epoch at </span><span style=\"color: #008080; text-decoration-color: #008080; font-weight: bold\">1000.0</span><span style=\"color: #008000; text-decoration-color: #008000\"> steps.</span>\n",
       "</pre>\n"
      ],
      "text/plain": [
       "\u001b[32mWarning: trajectory cut off when rollout by epoch at \u001b[0m\u001b[1;36m1000.0\u001b[0m\u001b[32m steps.\u001b[0m\n"
      ]
     },
     "metadata": {},
     "output_type": "display_data"
    },
    {
     "data": {
      "text/html": [
       "<pre style=\"white-space:pre;overflow-x:auto;line-height:normal;font-family:Menlo,'DejaVu Sans Mono',consolas,'Courier New',monospace\"></pre>\n"
      ],
      "text/plain": []
     },
     "metadata": {},
     "output_type": "display_data"
    },
    {
     "data": {
      "text/html": [
       "<pre style=\"white-space:pre;overflow-x:auto;line-height:normal;font-family:Menlo,'DejaVu Sans Mono',consolas,'Courier New',monospace\">\n",
       "</pre>\n"
      ],
      "text/plain": [
       "\n"
      ]
     },
     "metadata": {},
     "output_type": "display_data"
    },
    {
     "data": {
      "text/html": [
       "<pre style=\"white-space:pre;overflow-x:auto;line-height:normal;font-family:Menlo,'DejaVu Sans Mono',consolas,'Courier New',monospace\"><span style=\"color: #008000; text-decoration-color: #008000\">Early stopping at iter </span><span style=\"color: #008080; text-decoration-color: #008080; font-weight: bold\">21</span><span style=\"color: #008000; text-decoration-color: #008000\"> due to reaching max kl</span>\n",
       "</pre>\n"
      ],
      "text/plain": [
       "\u001b[32mEarly stopping at iter \u001b[0m\u001b[1;36m21\u001b[0m\u001b[32m due to reaching max kl\u001b[0m\n"
      ]
     },
     "metadata": {},
     "output_type": "display_data"
    },
    {
     "data": {
      "text/html": [
       "<pre style=\"white-space:pre;overflow-x:auto;line-height:normal;font-family:Menlo,'DejaVu Sans Mono',consolas,'Courier New',monospace\"></pre>\n"
      ],
      "text/plain": []
     },
     "metadata": {},
     "output_type": "display_data"
    },
    {
     "data": {
      "text/html": [
       "<pre style=\"white-space:pre;overflow-x:auto;line-height:normal;font-family:Menlo,'DejaVu Sans Mono',consolas,'Courier New',monospace\">\n",
       "</pre>\n"
      ],
      "text/plain": [
       "\n"
      ]
     },
     "metadata": {},
     "output_type": "display_data"
    },
    {
     "data": {
      "text/html": [
       "<pre style=\"white-space:pre;overflow-x:auto;line-height:normal;font-family:Menlo,'DejaVu Sans Mono',consolas,'Courier New',monospace\">┏━━━━━━━━━━━━━━━━━━━━━━━━━━━━━━━━┳━━━━━━━━━━━━━━━━━━━━━━━━┓\n",
       "┃<span style=\"font-weight: bold\"> Metrics                        </span>┃<span style=\"font-weight: bold\"> Value                  </span>┃\n",
       "┡━━━━━━━━━━━━━━━━━━━━━━━━━━━━━━━━╇━━━━━━━━━━━━━━━━━━━━━━━━┩\n",
       "│ Metrics/EpRet                  │ -0.43427789211273193   │\n",
       "│ Metrics/EpCost                 │ 144.02000427246094     │\n",
       "│ Metrics/EpLen                  │ 1000.0                 │\n",
       "│ Train/Epoch                    │ 2.0                    │\n",
       "│ Train/Entropy                  │ 1.3961527347564697     │\n",
       "│ Train/KL                       │ 0.02222435176372528    │\n",
       "│ Train/StopIter                 │ 21.0                   │\n",
       "│ Train/PolicyRatio/Mean         │ 0.9982842803001404     │\n",
       "│ Train/PolicyRatio/Min          │ 0.9982843399047852     │\n",
       "│ Train/PolicyRatio/Max          │ 0.9982843399047852     │\n",
       "│ Train/PolicyRatio/Std          │ 0.021052004769444466   │\n",
       "│ Train/LR                       │ 0.0002699999895412475  │\n",
       "│ Train/PolicyStd                │ 0.9774790406227112     │\n",
       "│ TotalEnvSteps                  │ 60000.0                │\n",
       "│ Loss/Loss_pi                   │ -0.024944812059402466  │\n",
       "│ Loss/Loss_pi/Delta             │ -0.002101585268974304  │\n",
       "│ Value/Adv                      │ 0.48775553703308105    │\n",
       "│ Loss/Loss_reward_critic        │ 0.0022400994785130024  │\n",
       "│ Loss/Loss_reward_critic/Delta  │ -0.0007223393768072128 │\n",
       "│ Value/reward                   │ 0.03521190956234932    │\n",
       "│ Loss/Loss_cost_critic          │ 2.4286317825317383     │\n",
       "│ Loss/Loss_cost_critic/Delta    │ 1.0126292705535889     │\n",
       "│ Value/cost                     │ 3.5756359100341797     │\n",
       "│ Time/Total                     │ 594.5555419921875      │\n",
       "│ Time/Rollout                   │ 62.211856842041016     │\n",
       "│ Time/Update                    │ 85.8646469116211       │\n",
       "│ Time/Epoch                     │ 148.07650756835938     │\n",
       "│ Time/FPS                       │ 135.06532287597656     │\n",
       "│ Metrics/LagrangeMultiplier/Mea │ 0.10511218011379242    │\n",
       "│ Metrics/LagrangeMultiplier/Min │ 0.10511218011379242    │\n",
       "│ Metrics/LagrangeMultiplier/Max │ 0.10511218011379242    │\n",
       "│ Metrics/LagrangeMultiplier/Std │ 0.0                    │\n",
       "└────────────────────────────────┴────────────────────────┘\n",
       "</pre>\n"
      ],
      "text/plain": [
       "┏━━━━━━━━━━━━━━━━━━━━━━━━━━━━━━━━┳━━━━━━━━━━━━━━━━━━━━━━━━┓\n",
       "┃\u001b[1m \u001b[0m\u001b[1mMetrics                       \u001b[0m\u001b[1m \u001b[0m┃\u001b[1m \u001b[0m\u001b[1mValue                 \u001b[0m\u001b[1m \u001b[0m┃\n",
       "┡━━━━━━━━━━━━━━━━━━━━━━━━━━━━━━━━╇━━━━━━━━━━━━━━━━━━━━━━━━┩\n",
       "│ Metrics/EpRet                  │ -0.43427789211273193   │\n",
       "│ Metrics/EpCost                 │ 144.02000427246094     │\n",
       "│ Metrics/EpLen                  │ 1000.0                 │\n",
       "│ Train/Epoch                    │ 2.0                    │\n",
       "│ Train/Entropy                  │ 1.3961527347564697     │\n",
       "│ Train/KL                       │ 0.02222435176372528    │\n",
       "│ Train/StopIter                 │ 21.0                   │\n",
       "│ Train/PolicyRatio/Mean         │ 0.9982842803001404     │\n",
       "│ Train/PolicyRatio/Min          │ 0.9982843399047852     │\n",
       "│ Train/PolicyRatio/Max          │ 0.9982843399047852     │\n",
       "│ Train/PolicyRatio/Std          │ 0.021052004769444466   │\n",
       "│ Train/LR                       │ 0.0002699999895412475  │\n",
       "│ Train/PolicyStd                │ 0.9774790406227112     │\n",
       "│ TotalEnvSteps                  │ 60000.0                │\n",
       "│ Loss/Loss_pi                   │ -0.024944812059402466  │\n",
       "│ Loss/Loss_pi/Delta             │ -0.002101585268974304  │\n",
       "│ Value/Adv                      │ 0.48775553703308105    │\n",
       "│ Loss/Loss_reward_critic        │ 0.0022400994785130024  │\n",
       "│ Loss/Loss_reward_critic/Delta  │ -0.0007223393768072128 │\n",
       "│ Value/reward                   │ 0.03521190956234932    │\n",
       "│ Loss/Loss_cost_critic          │ 2.4286317825317383     │\n",
       "│ Loss/Loss_cost_critic/Delta    │ 1.0126292705535889     │\n",
       "│ Value/cost                     │ 3.5756359100341797     │\n",
       "│ Time/Total                     │ 594.5555419921875      │\n",
       "│ Time/Rollout                   │ 62.211856842041016     │\n",
       "│ Time/Update                    │ 85.8646469116211       │\n",
       "│ Time/Epoch                     │ 148.07650756835938     │\n",
       "│ Time/FPS                       │ 135.06532287597656     │\n",
       "│ Metrics/LagrangeMultiplier/Mea │ 0.10511218011379242    │\n",
       "│ Metrics/LagrangeMultiplier/Min │ 0.10511218011379242    │\n",
       "│ Metrics/LagrangeMultiplier/Max │ 0.10511218011379242    │\n",
       "│ Metrics/LagrangeMultiplier/Std │ 0.0                    │\n",
       "└────────────────────────────────┴────────────────────────┘\n"
      ]
     },
     "metadata": {},
     "output_type": "display_data"
    },
    {
     "data": {
      "text/html": [
       "<pre style=\"white-space:pre;overflow-x:auto;line-height:normal;font-family:Menlo,'DejaVu Sans Mono',consolas,'Courier New',monospace\"><span style=\"color: #008000; text-decoration-color: #008000\">Warning: trajectory cut off when rollout by epoch at </span><span style=\"color: #008080; text-decoration-color: #008080; font-weight: bold\">1000.0</span><span style=\"color: #008000; text-decoration-color: #008000\"> steps.</span>\n",
       "</pre>\n"
      ],
      "text/plain": [
       "\u001b[32mWarning: trajectory cut off when rollout by epoch at \u001b[0m\u001b[1;36m1000.0\u001b[0m\u001b[32m steps.\u001b[0m\n"
      ]
     },
     "metadata": {},
     "output_type": "display_data"
    },
    {
     "data": {
      "text/html": [
       "<pre style=\"white-space:pre;overflow-x:auto;line-height:normal;font-family:Menlo,'DejaVu Sans Mono',consolas,'Courier New',monospace\"><span style=\"color: #008000; text-decoration-color: #008000\">Warning: trajectory cut off when rollout by epoch at </span><span style=\"color: #008080; text-decoration-color: #008080; font-weight: bold\">1000.0</span><span style=\"color: #008000; text-decoration-color: #008000\"> steps.</span>\n",
       "</pre>\n"
      ],
      "text/plain": [
       "\u001b[32mWarning: trajectory cut off when rollout by epoch at \u001b[0m\u001b[1;36m1000.0\u001b[0m\u001b[32m steps.\u001b[0m\n"
      ]
     },
     "metadata": {},
     "output_type": "display_data"
    },
    {
     "data": {
      "text/html": [
       "<pre style=\"white-space:pre;overflow-x:auto;line-height:normal;font-family:Menlo,'DejaVu Sans Mono',consolas,'Courier New',monospace\"><span style=\"color: #008000; text-decoration-color: #008000\">Warning: trajectory cut off when rollout by epoch at </span><span style=\"color: #008080; text-decoration-color: #008080; font-weight: bold\">1000.0</span><span style=\"color: #008000; text-decoration-color: #008000\"> steps.</span>\n",
       "</pre>\n"
      ],
      "text/plain": [
       "\u001b[32mWarning: trajectory cut off when rollout by epoch at \u001b[0m\u001b[1;36m1000.0\u001b[0m\u001b[32m steps.\u001b[0m\n"
      ]
     },
     "metadata": {},
     "output_type": "display_data"
    },
    {
     "data": {
      "text/html": [
       "<pre style=\"white-space:pre;overflow-x:auto;line-height:normal;font-family:Menlo,'DejaVu Sans Mono',consolas,'Courier New',monospace\"><span style=\"color: #008000; text-decoration-color: #008000\">Warning: trajectory cut off when rollout by epoch at </span><span style=\"color: #008080; text-decoration-color: #008080; font-weight: bold\">1000.0</span><span style=\"color: #008000; text-decoration-color: #008000\"> steps.</span>\n",
       "</pre>\n"
      ],
      "text/plain": [
       "\u001b[32mWarning: trajectory cut off when rollout by epoch at \u001b[0m\u001b[1;36m1000.0\u001b[0m\u001b[32m steps.\u001b[0m\n"
      ]
     },
     "metadata": {},
     "output_type": "display_data"
    },
    {
     "data": {
      "text/html": [
       "<pre style=\"white-space:pre;overflow-x:auto;line-height:normal;font-family:Menlo,'DejaVu Sans Mono',consolas,'Courier New',monospace\"></pre>\n"
      ],
      "text/plain": []
     },
     "metadata": {},
     "output_type": "display_data"
    },
    {
     "data": {
      "text/html": [
       "<pre style=\"white-space:pre;overflow-x:auto;line-height:normal;font-family:Menlo,'DejaVu Sans Mono',consolas,'Courier New',monospace\">\n",
       "</pre>\n"
      ],
      "text/plain": [
       "\n"
      ]
     },
     "metadata": {},
     "output_type": "display_data"
    },
    {
     "data": {
      "text/html": [
       "<pre style=\"white-space:pre;overflow-x:auto;line-height:normal;font-family:Menlo,'DejaVu Sans Mono',consolas,'Courier New',monospace\"><span style=\"color: #008000; text-decoration-color: #008000\">Early stopping at iter </span><span style=\"color: #008080; text-decoration-color: #008080; font-weight: bold\">24</span><span style=\"color: #008000; text-decoration-color: #008000\"> due to reaching max kl</span>\n",
       "</pre>\n"
      ],
      "text/plain": [
       "\u001b[32mEarly stopping at iter \u001b[0m\u001b[1;36m24\u001b[0m\u001b[32m due to reaching max kl\u001b[0m\n"
      ]
     },
     "metadata": {},
     "output_type": "display_data"
    },
    {
     "data": {
      "text/html": [
       "<pre style=\"white-space:pre;overflow-x:auto;line-height:normal;font-family:Menlo,'DejaVu Sans Mono',consolas,'Courier New',monospace\"></pre>\n"
      ],
      "text/plain": []
     },
     "metadata": {},
     "output_type": "display_data"
    },
    {
     "data": {
      "text/html": [
       "<pre style=\"white-space:pre;overflow-x:auto;line-height:normal;font-family:Menlo,'DejaVu Sans Mono',consolas,'Courier New',monospace\">\n",
       "</pre>\n"
      ],
      "text/plain": [
       "\n"
      ]
     },
     "metadata": {},
     "output_type": "display_data"
    },
    {
     "data": {
      "text/html": [
       "<pre style=\"white-space:pre;overflow-x:auto;line-height:normal;font-family:Menlo,'DejaVu Sans Mono',consolas,'Courier New',monospace\">┏━━━━━━━━━━━━━━━━━━━━━━━━━━━━━━━━┳━━━━━━━━━━━━━━━━━━━━━━━━┓\n",
       "┃<span style=\"font-weight: bold\"> Metrics                        </span>┃<span style=\"font-weight: bold\"> Value                  </span>┃\n",
       "┡━━━━━━━━━━━━━━━━━━━━━━━━━━━━━━━━╇━━━━━━━━━━━━━━━━━━━━━━━━┩\n",
       "│ Metrics/EpRet                  │ 0.1958649754524231     │\n",
       "│ Metrics/EpCost                 │ 146.66000366210938     │\n",
       "│ Metrics/EpLen                  │ 1000.0                 │\n",
       "│ Train/Epoch                    │ 3.0                    │\n",
       "│ Train/Entropy                  │ 1.37669837474823       │\n",
       "│ Train/KL                       │ 0.02087736688554287    │\n",
       "│ Train/StopIter                 │ 24.0                   │\n",
       "│ Train/PolicyRatio/Mean         │ 0.9984980821609497     │\n",
       "│ Train/PolicyRatio/Min          │ 0.9984980821609497     │\n",
       "│ Train/PolicyRatio/Max          │ 0.9984980821609497     │\n",
       "│ Train/PolicyRatio/Std          │ 0.020472627133131027   │\n",
       "│ Train/LR                       │ 0.00026000000070780516 │\n",
       "│ Train/PolicyStd                │ 0.9586513638496399     │\n",
       "│ TotalEnvSteps                  │ 80000.0                │\n",
       "│ Loss/Loss_pi                   │ -0.02168782614171505   │\n",
       "│ Loss/Loss_pi/Delta             │ 0.003256985917687416   │\n",
       "│ Value/Adv                      │ 0.418038547039032      │\n",
       "│ Loss/Loss_reward_critic        │ 0.00322600151412189    │\n",
       "│ Loss/Loss_reward_critic/Delta  │ 0.0009859020356088877  │\n",
       "│ Value/reward                   │ 0.047700993716716766   │\n",
       "│ Loss/Loss_cost_critic          │ 2.546574115753174      │\n",
       "│ Loss/Loss_cost_critic/Delta    │ 0.11794233322143555    │\n",
       "│ Value/cost                     │ 5.766045570373535      │\n",
       "│ Time/Total                     │ 753.733642578125       │\n",
       "│ Time/Rollout                   │ 63.6356201171875       │\n",
       "│ Time/Update                    │ 95.5001220703125       │\n",
       "│ Time/Epoch                     │ 159.1357421875         │\n",
       "│ Time/FPS                       │ 125.67886352539062     │\n",
       "│ Metrics/LagrangeMultiplier/Mea │ 0.13993200659751892    │\n",
       "│ Metrics/LagrangeMultiplier/Min │ 0.13993200659751892    │\n",
       "│ Metrics/LagrangeMultiplier/Max │ 0.13993200659751892    │\n",
       "│ Metrics/LagrangeMultiplier/Std │ 0.0                    │\n",
       "└────────────────────────────────┴────────────────────────┘\n",
       "</pre>\n"
      ],
      "text/plain": [
       "┏━━━━━━━━━━━━━━━━━━━━━━━━━━━━━━━━┳━━━━━━━━━━━━━━━━━━━━━━━━┓\n",
       "┃\u001b[1m \u001b[0m\u001b[1mMetrics                       \u001b[0m\u001b[1m \u001b[0m┃\u001b[1m \u001b[0m\u001b[1mValue                 \u001b[0m\u001b[1m \u001b[0m┃\n",
       "┡━━━━━━━━━━━━━━━━━━━━━━━━━━━━━━━━╇━━━━━━━━━━━━━━━━━━━━━━━━┩\n",
       "│ Metrics/EpRet                  │ 0.1958649754524231     │\n",
       "│ Metrics/EpCost                 │ 146.66000366210938     │\n",
       "│ Metrics/EpLen                  │ 1000.0                 │\n",
       "│ Train/Epoch                    │ 3.0                    │\n",
       "│ Train/Entropy                  │ 1.37669837474823       │\n",
       "│ Train/KL                       │ 0.02087736688554287    │\n",
       "│ Train/StopIter                 │ 24.0                   │\n",
       "│ Train/PolicyRatio/Mean         │ 0.9984980821609497     │\n",
       "│ Train/PolicyRatio/Min          │ 0.9984980821609497     │\n",
       "│ Train/PolicyRatio/Max          │ 0.9984980821609497     │\n",
       "│ Train/PolicyRatio/Std          │ 0.020472627133131027   │\n",
       "│ Train/LR                       │ 0.00026000000070780516 │\n",
       "│ Train/PolicyStd                │ 0.9586513638496399     │\n",
       "│ TotalEnvSteps                  │ 80000.0                │\n",
       "│ Loss/Loss_pi                   │ -0.02168782614171505   │\n",
       "│ Loss/Loss_pi/Delta             │ 0.003256985917687416   │\n",
       "│ Value/Adv                      │ 0.418038547039032      │\n",
       "│ Loss/Loss_reward_critic        │ 0.00322600151412189    │\n",
       "│ Loss/Loss_reward_critic/Delta  │ 0.0009859020356088877  │\n",
       "│ Value/reward                   │ 0.047700993716716766   │\n",
       "│ Loss/Loss_cost_critic          │ 2.546574115753174      │\n",
       "│ Loss/Loss_cost_critic/Delta    │ 0.11794233322143555    │\n",
       "│ Value/cost                     │ 5.766045570373535      │\n",
       "│ Time/Total                     │ 753.733642578125       │\n",
       "│ Time/Rollout                   │ 63.6356201171875       │\n",
       "│ Time/Update                    │ 95.5001220703125       │\n",
       "│ Time/Epoch                     │ 159.1357421875         │\n",
       "│ Time/FPS                       │ 125.67886352539062     │\n",
       "│ Metrics/LagrangeMultiplier/Mea │ 0.13993200659751892    │\n",
       "│ Metrics/LagrangeMultiplier/Min │ 0.13993200659751892    │\n",
       "│ Metrics/LagrangeMultiplier/Max │ 0.13993200659751892    │\n",
       "│ Metrics/LagrangeMultiplier/Std │ 0.0                    │\n",
       "└────────────────────────────────┴────────────────────────┘\n"
      ]
     },
     "metadata": {},
     "output_type": "display_data"
    },
    {
     "data": {
      "text/html": [
       "<pre style=\"white-space:pre;overflow-x:auto;line-height:normal;font-family:Menlo,'DejaVu Sans Mono',consolas,'Courier New',monospace\"><span style=\"color: #008000; text-decoration-color: #008000\">Warning: trajectory cut off when rollout by epoch at </span><span style=\"color: #008080; text-decoration-color: #008080; font-weight: bold\">1000.0</span><span style=\"color: #008000; text-decoration-color: #008000\"> steps.</span>\n",
       "</pre>\n"
      ],
      "text/plain": [
       "\u001b[32mWarning: trajectory cut off when rollout by epoch at \u001b[0m\u001b[1;36m1000.0\u001b[0m\u001b[32m steps.\u001b[0m\n"
      ]
     },
     "metadata": {},
     "output_type": "display_data"
    },
    {
     "data": {
      "text/html": [
       "<pre style=\"white-space:pre;overflow-x:auto;line-height:normal;font-family:Menlo,'DejaVu Sans Mono',consolas,'Courier New',monospace\"><span style=\"color: #008000; text-decoration-color: #008000\">Warning: trajectory cut off when rollout by epoch at </span><span style=\"color: #008080; text-decoration-color: #008080; font-weight: bold\">1000.0</span><span style=\"color: #008000; text-decoration-color: #008000\"> steps.</span>\n",
       "</pre>\n"
      ],
      "text/plain": [
       "\u001b[32mWarning: trajectory cut off when rollout by epoch at \u001b[0m\u001b[1;36m1000.0\u001b[0m\u001b[32m steps.\u001b[0m\n"
      ]
     },
     "metadata": {},
     "output_type": "display_data"
    },
    {
     "data": {
      "text/html": [
       "<pre style=\"white-space:pre;overflow-x:auto;line-height:normal;font-family:Menlo,'DejaVu Sans Mono',consolas,'Courier New',monospace\"><span style=\"color: #008000; text-decoration-color: #008000\">Warning: trajectory cut off when rollout by epoch at </span><span style=\"color: #008080; text-decoration-color: #008080; font-weight: bold\">1000.0</span><span style=\"color: #008000; text-decoration-color: #008000\"> steps.</span>\n",
       "</pre>\n"
      ],
      "text/plain": [
       "\u001b[32mWarning: trajectory cut off when rollout by epoch at \u001b[0m\u001b[1;36m1000.0\u001b[0m\u001b[32m steps.\u001b[0m\n"
      ]
     },
     "metadata": {},
     "output_type": "display_data"
    },
    {
     "data": {
      "text/html": [
       "<pre style=\"white-space:pre;overflow-x:auto;line-height:normal;font-family:Menlo,'DejaVu Sans Mono',consolas,'Courier New',monospace\"><span style=\"color: #008000; text-decoration-color: #008000\">Warning: trajectory cut off when rollout by epoch at </span><span style=\"color: #008080; text-decoration-color: #008080; font-weight: bold\">1000.0</span><span style=\"color: #008000; text-decoration-color: #008000\"> steps.</span>\n",
       "</pre>\n"
      ],
      "text/plain": [
       "\u001b[32mWarning: trajectory cut off when rollout by epoch at \u001b[0m\u001b[1;36m1000.0\u001b[0m\u001b[32m steps.\u001b[0m\n"
      ]
     },
     "metadata": {},
     "output_type": "display_data"
    },
    {
     "data": {
      "text/html": [
       "<pre style=\"white-space:pre;overflow-x:auto;line-height:normal;font-family:Menlo,'DejaVu Sans Mono',consolas,'Courier New',monospace\"></pre>\n"
      ],
      "text/plain": []
     },
     "metadata": {},
     "output_type": "display_data"
    },
    {
     "data": {
      "text/html": [
       "<pre style=\"white-space:pre;overflow-x:auto;line-height:normal;font-family:Menlo,'DejaVu Sans Mono',consolas,'Courier New',monospace\">\n",
       "</pre>\n"
      ],
      "text/plain": [
       "\n"
      ]
     },
     "metadata": {},
     "output_type": "display_data"
    },
    {
     "data": {
      "text/html": [
       "<pre style=\"white-space:pre;overflow-x:auto;line-height:normal;font-family:Menlo,'DejaVu Sans Mono',consolas,'Courier New',monospace\"><span style=\"color: #008000; text-decoration-color: #008000\">Early stopping at iter </span><span style=\"color: #008080; text-decoration-color: #008080; font-weight: bold\">25</span><span style=\"color: #008000; text-decoration-color: #008000\"> due to reaching max kl</span>\n",
       "</pre>\n"
      ],
      "text/plain": [
       "\u001b[32mEarly stopping at iter \u001b[0m\u001b[1;36m25\u001b[0m\u001b[32m due to reaching max kl\u001b[0m\n"
      ]
     },
     "metadata": {},
     "output_type": "display_data"
    },
    {
     "data": {
      "text/html": [
       "<pre style=\"white-space:pre;overflow-x:auto;line-height:normal;font-family:Menlo,'DejaVu Sans Mono',consolas,'Courier New',monospace\"></pre>\n"
      ],
      "text/plain": []
     },
     "metadata": {},
     "output_type": "display_data"
    },
    {
     "data": {
      "text/html": [
       "<pre style=\"white-space:pre;overflow-x:auto;line-height:normal;font-family:Menlo,'DejaVu Sans Mono',consolas,'Courier New',monospace\">\n",
       "</pre>\n"
      ],
      "text/plain": [
       "\n"
      ]
     },
     "metadata": {},
     "output_type": "display_data"
    },
    {
     "data": {
      "text/html": [
       "<pre style=\"white-space:pre;overflow-x:auto;line-height:normal;font-family:Menlo,'DejaVu Sans Mono',consolas,'Courier New',monospace\">┏━━━━━━━━━━━━━━━━━━━━━━━━━━━━━━━━┳━━━━━━━━━━━━━━━━━━━━━━━━┓\n",
       "┃<span style=\"font-weight: bold\"> Metrics                        </span>┃<span style=\"font-weight: bold\"> Value                  </span>┃\n",
       "┡━━━━━━━━━━━━━━━━━━━━━━━━━━━━━━━━╇━━━━━━━━━━━━━━━━━━━━━━━━┩\n",
       "│ Metrics/EpRet                  │ 0.9522541761398315     │\n",
       "│ Metrics/EpCost                 │ 163.1999969482422      │\n",
       "│ Metrics/EpLen                  │ 1000.0                 │\n",
       "│ Train/Epoch                    │ 4.0                    │\n",
       "│ Train/Entropy                  │ 1.366575002670288      │\n",
       "│ Train/KL                       │ 0.021453555673360825   │\n",
       "│ Train/StopIter                 │ 25.0                   │\n",
       "│ Train/PolicyRatio/Mean         │ 0.9967857599258423     │\n",
       "│ Train/PolicyRatio/Min          │ 0.9967858195304871     │\n",
       "│ Train/PolicyRatio/Max          │ 0.9967858195304871     │\n",
       "│ Train/PolicyRatio/Std          │ 0.020314406603574753   │\n",
       "│ Train/LR                       │ 0.0002500000118743628  │\n",
       "│ Train/PolicyStd                │ 0.9489901065826416     │\n",
       "│ TotalEnvSteps                  │ 100000.0               │\n",
       "│ Loss/Loss_pi                   │ -0.02755448780953884   │\n",
       "│ Loss/Loss_pi/Delta             │ -0.0058666616678237915 │\n",
       "│ Value/Adv                      │ -0.14379540085792542   │\n",
       "│ Loss/Loss_reward_critic        │ 0.004872061777859926   │\n",
       "│ Loss/Loss_reward_critic/Delta  │ 0.0016460602637380362  │\n",
       "│ Value/reward                   │ 0.07391126453876495    │\n",
       "│ Loss/Loss_cost_critic          │ 2.7351677417755127     │\n",
       "│ Loss/Loss_cost_critic/Delta    │ 0.18859362602233887    │\n",
       "│ Value/cost                     │ 7.117186069488525      │\n",
       "│ Time/Total                     │ 916.6075439453125      │\n",
       "│ Time/Rollout                   │ 62.509124755859375     │\n",
       "│ Time/Update                    │ 100.3276138305664      │\n",
       "│ Time/Epoch                     │ 162.83673095703125     │\n",
       "│ Time/FPS                       │ 122.8224105834961      │\n",
       "│ Metrics/LagrangeMultiplier/Mea │ 0.17500075697898865    │\n",
       "│ Metrics/LagrangeMultiplier/Min │ 0.17500075697898865    │\n",
       "│ Metrics/LagrangeMultiplier/Max │ 0.17500075697898865    │\n",
       "│ Metrics/LagrangeMultiplier/Std │ 0.0                    │\n",
       "└────────────────────────────────┴────────────────────────┘\n",
       "</pre>\n"
      ],
      "text/plain": [
       "┏━━━━━━━━━━━━━━━━━━━━━━━━━━━━━━━━┳━━━━━━━━━━━━━━━━━━━━━━━━┓\n",
       "┃\u001b[1m \u001b[0m\u001b[1mMetrics                       \u001b[0m\u001b[1m \u001b[0m┃\u001b[1m \u001b[0m\u001b[1mValue                 \u001b[0m\u001b[1m \u001b[0m┃\n",
       "┡━━━━━━━━━━━━━━━━━━━━━━━━━━━━━━━━╇━━━━━━━━━━━━━━━━━━━━━━━━┩\n",
       "│ Metrics/EpRet                  │ 0.9522541761398315     │\n",
       "│ Metrics/EpCost                 │ 163.1999969482422      │\n",
       "│ Metrics/EpLen                  │ 1000.0                 │\n",
       "│ Train/Epoch                    │ 4.0                    │\n",
       "│ Train/Entropy                  │ 1.366575002670288      │\n",
       "│ Train/KL                       │ 0.021453555673360825   │\n",
       "│ Train/StopIter                 │ 25.0                   │\n",
       "│ Train/PolicyRatio/Mean         │ 0.9967857599258423     │\n",
       "│ Train/PolicyRatio/Min          │ 0.9967858195304871     │\n",
       "│ Train/PolicyRatio/Max          │ 0.9967858195304871     │\n",
       "│ Train/PolicyRatio/Std          │ 0.020314406603574753   │\n",
       "│ Train/LR                       │ 0.0002500000118743628  │\n",
       "│ Train/PolicyStd                │ 0.9489901065826416     │\n",
       "│ TotalEnvSteps                  │ 100000.0               │\n",
       "│ Loss/Loss_pi                   │ -0.02755448780953884   │\n",
       "│ Loss/Loss_pi/Delta             │ -0.0058666616678237915 │\n",
       "│ Value/Adv                      │ -0.14379540085792542   │\n",
       "│ Loss/Loss_reward_critic        │ 0.004872061777859926   │\n",
       "│ Loss/Loss_reward_critic/Delta  │ 0.0016460602637380362  │\n",
       "│ Value/reward                   │ 0.07391126453876495    │\n",
       "│ Loss/Loss_cost_critic          │ 2.7351677417755127     │\n",
       "│ Loss/Loss_cost_critic/Delta    │ 0.18859362602233887    │\n",
       "│ Value/cost                     │ 7.117186069488525      │\n",
       "│ Time/Total                     │ 916.6075439453125      │\n",
       "│ Time/Rollout                   │ 62.509124755859375     │\n",
       "│ Time/Update                    │ 100.3276138305664      │\n",
       "│ Time/Epoch                     │ 162.83673095703125     │\n",
       "│ Time/FPS                       │ 122.8224105834961      │\n",
       "│ Metrics/LagrangeMultiplier/Mea │ 0.17500075697898865    │\n",
       "│ Metrics/LagrangeMultiplier/Min │ 0.17500075697898865    │\n",
       "│ Metrics/LagrangeMultiplier/Max │ 0.17500075697898865    │\n",
       "│ Metrics/LagrangeMultiplier/Std │ 0.0                    │\n",
       "└────────────────────────────────┴────────────────────────┘\n"
      ]
     },
     "metadata": {},
     "output_type": "display_data"
    },
    {
     "data": {
      "text/html": [
       "<pre style=\"white-space:pre;overflow-x:auto;line-height:normal;font-family:Menlo,'DejaVu Sans Mono',consolas,'Courier New',monospace\"><span style=\"color: #008000; text-decoration-color: #008000\">Warning: trajectory cut off when rollout by epoch at </span><span style=\"color: #008080; text-decoration-color: #008080; font-weight: bold\">1000.0</span><span style=\"color: #008000; text-decoration-color: #008000\"> steps.</span>\n",
       "</pre>\n"
      ],
      "text/plain": [
       "\u001b[32mWarning: trajectory cut off when rollout by epoch at \u001b[0m\u001b[1;36m1000.0\u001b[0m\u001b[32m steps.\u001b[0m\n"
      ]
     },
     "metadata": {},
     "output_type": "display_data"
    },
    {
     "data": {
      "text/html": [
       "<pre style=\"white-space:pre;overflow-x:auto;line-height:normal;font-family:Menlo,'DejaVu Sans Mono',consolas,'Courier New',monospace\"><span style=\"color: #008000; text-decoration-color: #008000\">Warning: trajectory cut off when rollout by epoch at </span><span style=\"color: #008080; text-decoration-color: #008080; font-weight: bold\">1000.0</span><span style=\"color: #008000; text-decoration-color: #008000\"> steps.</span>\n",
       "</pre>\n"
      ],
      "text/plain": [
       "\u001b[32mWarning: trajectory cut off when rollout by epoch at \u001b[0m\u001b[1;36m1000.0\u001b[0m\u001b[32m steps.\u001b[0m\n"
      ]
     },
     "metadata": {},
     "output_type": "display_data"
    },
    {
     "data": {
      "text/html": [
       "<pre style=\"white-space:pre;overflow-x:auto;line-height:normal;font-family:Menlo,'DejaVu Sans Mono',consolas,'Courier New',monospace\"><span style=\"color: #008000; text-decoration-color: #008000\">Warning: trajectory cut off when rollout by epoch at </span><span style=\"color: #008080; text-decoration-color: #008080; font-weight: bold\">1000.0</span><span style=\"color: #008000; text-decoration-color: #008000\"> steps.</span>\n",
       "</pre>\n"
      ],
      "text/plain": [
       "\u001b[32mWarning: trajectory cut off when rollout by epoch at \u001b[0m\u001b[1;36m1000.0\u001b[0m\u001b[32m steps.\u001b[0m\n"
      ]
     },
     "metadata": {},
     "output_type": "display_data"
    },
    {
     "data": {
      "text/html": [
       "<pre style=\"white-space:pre;overflow-x:auto;line-height:normal;font-family:Menlo,'DejaVu Sans Mono',consolas,'Courier New',monospace\"><span style=\"color: #008000; text-decoration-color: #008000\">Warning: trajectory cut off when rollout by epoch at </span><span style=\"color: #008080; text-decoration-color: #008080; font-weight: bold\">1000.0</span><span style=\"color: #008000; text-decoration-color: #008000\"> steps.</span>\n",
       "</pre>\n"
      ],
      "text/plain": [
       "\u001b[32mWarning: trajectory cut off when rollout by epoch at \u001b[0m\u001b[1;36m1000.0\u001b[0m\u001b[32m steps.\u001b[0m\n"
      ]
     },
     "metadata": {},
     "output_type": "display_data"
    },
    {
     "data": {
      "text/html": [
       "<pre style=\"white-space:pre;overflow-x:auto;line-height:normal;font-family:Menlo,'DejaVu Sans Mono',consolas,'Courier New',monospace\"></pre>\n"
      ],
      "text/plain": []
     },
     "metadata": {},
     "output_type": "display_data"
    },
    {
     "data": {
      "text/html": [
       "<pre style=\"white-space:pre;overflow-x:auto;line-height:normal;font-family:Menlo,'DejaVu Sans Mono',consolas,'Courier New',monospace\">\n",
       "</pre>\n"
      ],
      "text/plain": [
       "\n"
      ]
     },
     "metadata": {},
     "output_type": "display_data"
    },
    {
     "data": {
      "text/html": [
       "<pre style=\"white-space:pre;overflow-x:auto;line-height:normal;font-family:Menlo,'DejaVu Sans Mono',consolas,'Courier New',monospace\"><span style=\"color: #008000; text-decoration-color: #008000\">Early stopping at iter </span><span style=\"color: #008080; text-decoration-color: #008080; font-weight: bold\">32</span><span style=\"color: #008000; text-decoration-color: #008000\"> due to reaching max kl</span>\n",
       "</pre>\n"
      ],
      "text/plain": [
       "\u001b[32mEarly stopping at iter \u001b[0m\u001b[1;36m32\u001b[0m\u001b[32m due to reaching max kl\u001b[0m\n"
      ]
     },
     "metadata": {},
     "output_type": "display_data"
    },
    {
     "data": {
      "text/html": [
       "<pre style=\"white-space:pre;overflow-x:auto;line-height:normal;font-family:Menlo,'DejaVu Sans Mono',consolas,'Courier New',monospace\"></pre>\n"
      ],
      "text/plain": []
     },
     "metadata": {},
     "output_type": "display_data"
    },
    {
     "data": {
      "text/html": [
       "<pre style=\"white-space:pre;overflow-x:auto;line-height:normal;font-family:Menlo,'DejaVu Sans Mono',consolas,'Courier New',monospace\">\n",
       "</pre>\n"
      ],
      "text/plain": [
       "\n"
      ]
     },
     "metadata": {},
     "output_type": "display_data"
    },
    {
     "data": {
      "text/html": [
       "<pre style=\"white-space:pre;overflow-x:auto;line-height:normal;font-family:Menlo,'DejaVu Sans Mono',consolas,'Courier New',monospace\">┏━━━━━━━━━━━━━━━━━━━━━━━━━━━━━━━━┳━━━━━━━━━━━━━━━━━━━━━━━━━┓\n",
       "┃<span style=\"font-weight: bold\"> Metrics                        </span>┃<span style=\"font-weight: bold\"> Value                   </span>┃\n",
       "┡━━━━━━━━━━━━━━━━━━━━━━━━━━━━━━━━╇━━━━━━━━━━━━━━━━━━━━━━━━━┩\n",
       "│ Metrics/EpRet                  │ 1.5346773862838745      │\n",
       "│ Metrics/EpCost                 │ 174.9600067138672       │\n",
       "│ Metrics/EpLen                  │ 1000.0                  │\n",
       "│ Train/Epoch                    │ 5.0                     │\n",
       "│ Train/Entropy                  │ 1.352981686592102       │\n",
       "│ Train/KL                       │ 0.020047077909111977    │\n",
       "│ Train/StopIter                 │ 32.0                    │\n",
       "│ Train/PolicyRatio/Mean         │ 0.9987083077430725      │\n",
       "│ Train/PolicyRatio/Min          │ 0.9987083077430725      │\n",
       "│ Train/PolicyRatio/Max          │ 0.9987083077430725      │\n",
       "│ Train/PolicyRatio/Std          │ 0.02006281353533268     │\n",
       "│ Train/LR                       │ 0.00023999999393709004  │\n",
       "│ Train/PolicyStd                │ 0.9361847043037415      │\n",
       "│ TotalEnvSteps                  │ 120000.0                │\n",
       "│ Loss/Loss_pi                   │ -0.03433297947049141    │\n",
       "│ Loss/Loss_pi/Delta             │ -0.006778491660952568   │\n",
       "│ Value/Adv                      │ 0.04441360384225845     │\n",
       "│ Loss/Loss_reward_critic        │ 0.004738206509500742    │\n",
       "│ Loss/Loss_reward_critic/Delta  │ -0.00013385526835918427 │\n",
       "│ Value/reward                   │ 0.09446851164102554     │\n",
       "│ Loss/Loss_cost_critic          │ 2.080467462539673       │\n",
       "│ Loss/Loss_cost_critic/Delta    │ -0.6547002792358398     │\n",
       "│ Value/cost                     │ 8.49145793914795        │\n",
       "│ Time/Total                     │ 1130.3271484375         │\n",
       "│ Time/Rollout                   │ 75.04974365234375       │\n",
       "│ Time/Update                    │ 138.633056640625        │\n",
       "│ Time/Epoch                     │ 213.68280029296875      │\n",
       "│ Time/FPS                       │ 93.5966796875           │\n",
       "│ Metrics/LagrangeMultiplier/Mea │ 0.21031944453716278     │\n",
       "│ Metrics/LagrangeMultiplier/Min │ 0.21031944453716278     │\n",
       "│ Metrics/LagrangeMultiplier/Max │ 0.21031944453716278     │\n",
       "│ Metrics/LagrangeMultiplier/Std │ 0.0                     │\n",
       "└────────────────────────────────┴─────────────────────────┘\n",
       "</pre>\n"
      ],
      "text/plain": [
       "┏━━━━━━━━━━━━━━━━━━━━━━━━━━━━━━━━┳━━━━━━━━━━━━━━━━━━━━━━━━━┓\n",
       "┃\u001b[1m \u001b[0m\u001b[1mMetrics                       \u001b[0m\u001b[1m \u001b[0m┃\u001b[1m \u001b[0m\u001b[1mValue                  \u001b[0m\u001b[1m \u001b[0m┃\n",
       "┡━━━━━━━━━━━━━━━━━━━━━━━━━━━━━━━━╇━━━━━━━━━━━━━━━━━━━━━━━━━┩\n",
       "│ Metrics/EpRet                  │ 1.5346773862838745      │\n",
       "│ Metrics/EpCost                 │ 174.9600067138672       │\n",
       "│ Metrics/EpLen                  │ 1000.0                  │\n",
       "│ Train/Epoch                    │ 5.0                     │\n",
       "│ Train/Entropy                  │ 1.352981686592102       │\n",
       "│ Train/KL                       │ 0.020047077909111977    │\n",
       "│ Train/StopIter                 │ 32.0                    │\n",
       "│ Train/PolicyRatio/Mean         │ 0.9987083077430725      │\n",
       "│ Train/PolicyRatio/Min          │ 0.9987083077430725      │\n",
       "│ Train/PolicyRatio/Max          │ 0.9987083077430725      │\n",
       "│ Train/PolicyRatio/Std          │ 0.02006281353533268     │\n",
       "│ Train/LR                       │ 0.00023999999393709004  │\n",
       "│ Train/PolicyStd                │ 0.9361847043037415      │\n",
       "│ TotalEnvSteps                  │ 120000.0                │\n",
       "│ Loss/Loss_pi                   │ -0.03433297947049141    │\n",
       "│ Loss/Loss_pi/Delta             │ -0.006778491660952568   │\n",
       "│ Value/Adv                      │ 0.04441360384225845     │\n",
       "│ Loss/Loss_reward_critic        │ 0.004738206509500742    │\n",
       "│ Loss/Loss_reward_critic/Delta  │ -0.00013385526835918427 │\n",
       "│ Value/reward                   │ 0.09446851164102554     │\n",
       "│ Loss/Loss_cost_critic          │ 2.080467462539673       │\n",
       "│ Loss/Loss_cost_critic/Delta    │ -0.6547002792358398     │\n",
       "│ Value/cost                     │ 8.49145793914795        │\n",
       "│ Time/Total                     │ 1130.3271484375         │\n",
       "│ Time/Rollout                   │ 75.04974365234375       │\n",
       "│ Time/Update                    │ 138.633056640625        │\n",
       "│ Time/Epoch                     │ 213.68280029296875      │\n",
       "│ Time/FPS                       │ 93.5966796875           │\n",
       "│ Metrics/LagrangeMultiplier/Mea │ 0.21031944453716278     │\n",
       "│ Metrics/LagrangeMultiplier/Min │ 0.21031944453716278     │\n",
       "│ Metrics/LagrangeMultiplier/Max │ 0.21031944453716278     │\n",
       "│ Metrics/LagrangeMultiplier/Std │ 0.0                     │\n",
       "└────────────────────────────────┴─────────────────────────┘\n"
      ]
     },
     "metadata": {},
     "output_type": "display_data"
    },
    {
     "data": {
      "text/html": [
       "<pre style=\"white-space:pre;overflow-x:auto;line-height:normal;font-family:Menlo,'DejaVu Sans Mono',consolas,'Courier New',monospace\"><span style=\"color: #008000; text-decoration-color: #008000\">Warning: trajectory cut off when rollout by epoch at </span><span style=\"color: #008080; text-decoration-color: #008080; font-weight: bold\">1000.0</span><span style=\"color: #008000; text-decoration-color: #008000\"> steps.</span>\n",
       "</pre>\n"
      ],
      "text/plain": [
       "\u001b[32mWarning: trajectory cut off when rollout by epoch at \u001b[0m\u001b[1;36m1000.0\u001b[0m\u001b[32m steps.\u001b[0m\n"
      ]
     },
     "metadata": {},
     "output_type": "display_data"
    },
    {
     "data": {
      "text/html": [
       "<pre style=\"white-space:pre;overflow-x:auto;line-height:normal;font-family:Menlo,'DejaVu Sans Mono',consolas,'Courier New',monospace\"><span style=\"color: #008000; text-decoration-color: #008000\">Warning: trajectory cut off when rollout by epoch at </span><span style=\"color: #008080; text-decoration-color: #008080; font-weight: bold\">1000.0</span><span style=\"color: #008000; text-decoration-color: #008000\"> steps.</span>\n",
       "</pre>\n"
      ],
      "text/plain": [
       "\u001b[32mWarning: trajectory cut off when rollout by epoch at \u001b[0m\u001b[1;36m1000.0\u001b[0m\u001b[32m steps.\u001b[0m\n"
      ]
     },
     "metadata": {},
     "output_type": "display_data"
    },
    {
     "data": {
      "text/html": [
       "<pre style=\"white-space:pre;overflow-x:auto;line-height:normal;font-family:Menlo,'DejaVu Sans Mono',consolas,'Courier New',monospace\"><span style=\"color: #008000; text-decoration-color: #008000\">Warning: trajectory cut off when rollout by epoch at </span><span style=\"color: #008080; text-decoration-color: #008080; font-weight: bold\">1000.0</span><span style=\"color: #008000; text-decoration-color: #008000\"> steps.</span>\n",
       "</pre>\n"
      ],
      "text/plain": [
       "\u001b[32mWarning: trajectory cut off when rollout by epoch at \u001b[0m\u001b[1;36m1000.0\u001b[0m\u001b[32m steps.\u001b[0m\n"
      ]
     },
     "metadata": {},
     "output_type": "display_data"
    },
    {
     "data": {
      "text/html": [
       "<pre style=\"white-space:pre;overflow-x:auto;line-height:normal;font-family:Menlo,'DejaVu Sans Mono',consolas,'Courier New',monospace\"><span style=\"color: #008000; text-decoration-color: #008000\">Warning: trajectory cut off when rollout by epoch at </span><span style=\"color: #008080; text-decoration-color: #008080; font-weight: bold\">1000.0</span><span style=\"color: #008000; text-decoration-color: #008000\"> steps.</span>\n",
       "</pre>\n"
      ],
      "text/plain": [
       "\u001b[32mWarning: trajectory cut off when rollout by epoch at \u001b[0m\u001b[1;36m1000.0\u001b[0m\u001b[32m steps.\u001b[0m\n"
      ]
     },
     "metadata": {},
     "output_type": "display_data"
    },
    {
     "data": {
      "text/html": [
       "<pre style=\"white-space:pre;overflow-x:auto;line-height:normal;font-family:Menlo,'DejaVu Sans Mono',consolas,'Courier New',monospace\"></pre>\n"
      ],
      "text/plain": []
     },
     "metadata": {},
     "output_type": "display_data"
    },
    {
     "data": {
      "text/html": [
       "<pre style=\"white-space:pre;overflow-x:auto;line-height:normal;font-family:Menlo,'DejaVu Sans Mono',consolas,'Courier New',monospace\">\n",
       "</pre>\n"
      ],
      "text/plain": [
       "\n"
      ]
     },
     "metadata": {},
     "output_type": "display_data"
    },
    {
     "data": {
      "text/html": [
       "<pre style=\"white-space:pre;overflow-x:auto;line-height:normal;font-family:Menlo,'DejaVu Sans Mono',consolas,'Courier New',monospace\"><span style=\"color: #008000; text-decoration-color: #008000\">Early stopping at iter </span><span style=\"color: #008080; text-decoration-color: #008080; font-weight: bold\">28</span><span style=\"color: #008000; text-decoration-color: #008000\"> due to reaching max kl</span>\n",
       "</pre>\n"
      ],
      "text/plain": [
       "\u001b[32mEarly stopping at iter \u001b[0m\u001b[1;36m28\u001b[0m\u001b[32m due to reaching max kl\u001b[0m\n"
      ]
     },
     "metadata": {},
     "output_type": "display_data"
    },
    {
     "data": {
      "text/html": [
       "<pre style=\"white-space:pre;overflow-x:auto;line-height:normal;font-family:Menlo,'DejaVu Sans Mono',consolas,'Courier New',monospace\"></pre>\n"
      ],
      "text/plain": []
     },
     "metadata": {},
     "output_type": "display_data"
    },
    {
     "data": {
      "text/html": [
       "<pre style=\"white-space:pre;overflow-x:auto;line-height:normal;font-family:Menlo,'DejaVu Sans Mono',consolas,'Courier New',monospace\">\n",
       "</pre>\n"
      ],
      "text/plain": [
       "\n"
      ]
     },
     "metadata": {},
     "output_type": "display_data"
    },
    {
     "data": {
      "text/html": [
       "<pre style=\"white-space:pre;overflow-x:auto;line-height:normal;font-family:Menlo,'DejaVu Sans Mono',consolas,'Courier New',monospace\">┏━━━━━━━━━━━━━━━━━━━━━━━━━━━━━━━━┳━━━━━━━━━━━━━━━━━━━━━━━┓\n",
       "┃<span style=\"font-weight: bold\"> Metrics                        </span>┃<span style=\"font-weight: bold\"> Value                 </span>┃\n",
       "┡━━━━━━━━━━━━━━━━━━━━━━━━━━━━━━━━╇━━━━━━━━━━━━━━━━━━━━━━━┩\n",
       "│ Metrics/EpRet                  │ 2.1191351413726807    │\n",
       "│ Metrics/EpCost                 │ 164.6999969482422     │\n",
       "│ Metrics/EpLen                  │ 1000.0                │\n",
       "│ Train/Epoch                    │ 6.0                   │\n",
       "│ Train/Entropy                  │ 1.3499608039855957    │\n",
       "│ Train/KL                       │ 0.021397775039076805  │\n",
       "│ Train/StopIter                 │ 28.0                  │\n",
       "│ Train/PolicyRatio/Mean         │ 0.9983558654785156    │\n",
       "│ Train/PolicyRatio/Min          │ 0.9983558654785156    │\n",
       "│ Train/PolicyRatio/Max          │ 0.9983558654785156    │\n",
       "│ Train/PolicyRatio/Std          │ 0.02064700983464718   │\n",
       "│ Train/LR                       │ 0.0002300000051036477 │\n",
       "│ Train/PolicyStd                │ 0.933381974697113     │\n",
       "│ TotalEnvSteps                  │ 140000.0              │\n",
       "│ Loss/Loss_pi                   │ -0.03618922829627991  │\n",
       "│ Loss/Loss_pi/Delta             │ -0.001856248825788498 │\n",
       "│ Value/Adv                      │ 0.3525206744670868    │\n",
       "│ Loss/Loss_reward_critic        │ 0.008675492368638515  │\n",
       "│ Loss/Loss_reward_critic/Delta  │ 0.0039372858591377735 │\n",
       "│ Value/reward                   │ 0.11927912384271622   │\n",
       "│ Loss/Loss_cost_critic          │ 2.002267837524414     │\n",
       "│ Loss/Loss_cost_critic/Delta    │ -0.07819962501525879  │\n",
       "│ Value/cost                     │ 9.75380802154541      │\n",
       "│ Time/Total                     │ 1304.8389892578125    │\n",
       "│ Time/Rollout                   │ 62.50330352783203     │\n",
       "│ Time/Update                    │ 111.96913146972656    │\n",
       "│ Time/Epoch                     │ 174.4734344482422     │\n",
       "│ Time/FPS                       │ 114.63063049316406    │\n",
       "│ Metrics/LagrangeMultiplier/Mea │ 0.2458118200302124    │\n",
       "│ Metrics/LagrangeMultiplier/Min │ 0.2458118200302124    │\n",
       "│ Metrics/LagrangeMultiplier/Max │ 0.2458118200302124    │\n",
       "│ Metrics/LagrangeMultiplier/Std │ 0.0                   │\n",
       "└────────────────────────────────┴───────────────────────┘\n",
       "</pre>\n"
      ],
      "text/plain": [
       "┏━━━━━━━━━━━━━━━━━━━━━━━━━━━━━━━━┳━━━━━━━━━━━━━━━━━━━━━━━┓\n",
       "┃\u001b[1m \u001b[0m\u001b[1mMetrics                       \u001b[0m\u001b[1m \u001b[0m┃\u001b[1m \u001b[0m\u001b[1mValue                \u001b[0m\u001b[1m \u001b[0m┃\n",
       "┡━━━━━━━━━━━━━━━━━━━━━━━━━━━━━━━━╇━━━━━━━━━━━━━━━━━━━━━━━┩\n",
       "│ Metrics/EpRet                  │ 2.1191351413726807    │\n",
       "│ Metrics/EpCost                 │ 164.6999969482422     │\n",
       "│ Metrics/EpLen                  │ 1000.0                │\n",
       "│ Train/Epoch                    │ 6.0                   │\n",
       "│ Train/Entropy                  │ 1.3499608039855957    │\n",
       "│ Train/KL                       │ 0.021397775039076805  │\n",
       "│ Train/StopIter                 │ 28.0                  │\n",
       "│ Train/PolicyRatio/Mean         │ 0.9983558654785156    │\n",
       "│ Train/PolicyRatio/Min          │ 0.9983558654785156    │\n",
       "│ Train/PolicyRatio/Max          │ 0.9983558654785156    │\n",
       "│ Train/PolicyRatio/Std          │ 0.02064700983464718   │\n",
       "│ Train/LR                       │ 0.0002300000051036477 │\n",
       "│ Train/PolicyStd                │ 0.933381974697113     │\n",
       "│ TotalEnvSteps                  │ 140000.0              │\n",
       "│ Loss/Loss_pi                   │ -0.03618922829627991  │\n",
       "│ Loss/Loss_pi/Delta             │ -0.001856248825788498 │\n",
       "│ Value/Adv                      │ 0.3525206744670868    │\n",
       "│ Loss/Loss_reward_critic        │ 0.008675492368638515  │\n",
       "│ Loss/Loss_reward_critic/Delta  │ 0.0039372858591377735 │\n",
       "│ Value/reward                   │ 0.11927912384271622   │\n",
       "│ Loss/Loss_cost_critic          │ 2.002267837524414     │\n",
       "│ Loss/Loss_cost_critic/Delta    │ -0.07819962501525879  │\n",
       "│ Value/cost                     │ 9.75380802154541      │\n",
       "│ Time/Total                     │ 1304.8389892578125    │\n",
       "│ Time/Rollout                   │ 62.50330352783203     │\n",
       "│ Time/Update                    │ 111.96913146972656    │\n",
       "│ Time/Epoch                     │ 174.4734344482422     │\n",
       "│ Time/FPS                       │ 114.63063049316406    │\n",
       "│ Metrics/LagrangeMultiplier/Mea │ 0.2458118200302124    │\n",
       "│ Metrics/LagrangeMultiplier/Min │ 0.2458118200302124    │\n",
       "│ Metrics/LagrangeMultiplier/Max │ 0.2458118200302124    │\n",
       "│ Metrics/LagrangeMultiplier/Std │ 0.0                   │\n",
       "└────────────────────────────────┴───────────────────────┘\n"
      ]
     },
     "metadata": {},
     "output_type": "display_data"
    },
    {
     "data": {
      "text/html": [
       "<pre style=\"white-space:pre;overflow-x:auto;line-height:normal;font-family:Menlo,'DejaVu Sans Mono',consolas,'Courier New',monospace\"><span style=\"color: #008000; text-decoration-color: #008000\">Warning: trajectory cut off when rollout by epoch at </span><span style=\"color: #008080; text-decoration-color: #008080; font-weight: bold\">1000.0</span><span style=\"color: #008000; text-decoration-color: #008000\"> steps.</span>\n",
       "</pre>\n"
      ],
      "text/plain": [
       "\u001b[32mWarning: trajectory cut off when rollout by epoch at \u001b[0m\u001b[1;36m1000.0\u001b[0m\u001b[32m steps.\u001b[0m\n"
      ]
     },
     "metadata": {},
     "output_type": "display_data"
    },
    {
     "data": {
      "text/html": [
       "<pre style=\"white-space:pre;overflow-x:auto;line-height:normal;font-family:Menlo,'DejaVu Sans Mono',consolas,'Courier New',monospace\"><span style=\"color: #008000; text-decoration-color: #008000\">Warning: trajectory cut off when rollout by epoch at </span><span style=\"color: #008080; text-decoration-color: #008080; font-weight: bold\">1000.0</span><span style=\"color: #008000; text-decoration-color: #008000\"> steps.</span>\n",
       "</pre>\n"
      ],
      "text/plain": [
       "\u001b[32mWarning: trajectory cut off when rollout by epoch at \u001b[0m\u001b[1;36m1000.0\u001b[0m\u001b[32m steps.\u001b[0m\n"
      ]
     },
     "metadata": {},
     "output_type": "display_data"
    },
    {
     "data": {
      "text/html": [
       "<pre style=\"white-space:pre;overflow-x:auto;line-height:normal;font-family:Menlo,'DejaVu Sans Mono',consolas,'Courier New',monospace\"><span style=\"color: #008000; text-decoration-color: #008000\">Warning: trajectory cut off when rollout by epoch at </span><span style=\"color: #008080; text-decoration-color: #008080; font-weight: bold\">1000.0</span><span style=\"color: #008000; text-decoration-color: #008000\"> steps.</span>\n",
       "</pre>\n"
      ],
      "text/plain": [
       "\u001b[32mWarning: trajectory cut off when rollout by epoch at \u001b[0m\u001b[1;36m1000.0\u001b[0m\u001b[32m steps.\u001b[0m\n"
      ]
     },
     "metadata": {},
     "output_type": "display_data"
    },
    {
     "data": {
      "text/html": [
       "<pre style=\"white-space:pre;overflow-x:auto;line-height:normal;font-family:Menlo,'DejaVu Sans Mono',consolas,'Courier New',monospace\"><span style=\"color: #008000; text-decoration-color: #008000\">Warning: trajectory cut off when rollout by epoch at </span><span style=\"color: #008080; text-decoration-color: #008080; font-weight: bold\">1000.0</span><span style=\"color: #008000; text-decoration-color: #008000\"> steps.</span>\n",
       "</pre>\n"
      ],
      "text/plain": [
       "\u001b[32mWarning: trajectory cut off when rollout by epoch at \u001b[0m\u001b[1;36m1000.0\u001b[0m\u001b[32m steps.\u001b[0m\n"
      ]
     },
     "metadata": {},
     "output_type": "display_data"
    },
    {
     "data": {
      "text/html": [
       "<pre style=\"white-space:pre;overflow-x:auto;line-height:normal;font-family:Menlo,'DejaVu Sans Mono',consolas,'Courier New',monospace\"></pre>\n"
      ],
      "text/plain": []
     },
     "metadata": {},
     "output_type": "display_data"
    },
    {
     "data": {
      "text/html": [
       "<pre style=\"white-space:pre;overflow-x:auto;line-height:normal;font-family:Menlo,'DejaVu Sans Mono',consolas,'Courier New',monospace\">\n",
       "</pre>\n"
      ],
      "text/plain": [
       "\n"
      ]
     },
     "metadata": {},
     "output_type": "display_data"
    },
    {
     "data": {
      "text/html": [
       "<pre style=\"white-space:pre;overflow-x:auto;line-height:normal;font-family:Menlo,'DejaVu Sans Mono',consolas,'Courier New',monospace\"><span style=\"color: #008000; text-decoration-color: #008000\">Early stopping at iter </span><span style=\"color: #008080; text-decoration-color: #008080; font-weight: bold\">26</span><span style=\"color: #008000; text-decoration-color: #008000\"> due to reaching max kl</span>\n",
       "</pre>\n"
      ],
      "text/plain": [
       "\u001b[32mEarly stopping at iter \u001b[0m\u001b[1;36m26\u001b[0m\u001b[32m due to reaching max kl\u001b[0m\n"
      ]
     },
     "metadata": {},
     "output_type": "display_data"
    },
    {
     "data": {
      "text/html": [
       "<pre style=\"white-space:pre;overflow-x:auto;line-height:normal;font-family:Menlo,'DejaVu Sans Mono',consolas,'Courier New',monospace\"></pre>\n"
      ],
      "text/plain": []
     },
     "metadata": {},
     "output_type": "display_data"
    },
    {
     "data": {
      "text/html": [
       "<pre style=\"white-space:pre;overflow-x:auto;line-height:normal;font-family:Menlo,'DejaVu Sans Mono',consolas,'Courier New',monospace\">\n",
       "</pre>\n"
      ],
      "text/plain": [
       "\n"
      ]
     },
     "metadata": {},
     "output_type": "display_data"
    },
    {
     "data": {
      "text/html": [
       "<pre style=\"white-space:pre;overflow-x:auto;line-height:normal;font-family:Menlo,'DejaVu Sans Mono',consolas,'Courier New',monospace\">┏━━━━━━━━━━━━━━━━━━━━━━━━━━━━━━━━┳━━━━━━━━━━━━━━━━━━━━━━━━┓\n",
       "┃<span style=\"font-weight: bold\"> Metrics                        </span>┃<span style=\"font-weight: bold\"> Value                  </span>┃\n",
       "┡━━━━━━━━━━━━━━━━━━━━━━━━━━━━━━━━╇━━━━━━━━━━━━━━━━━━━━━━━━┩\n",
       "│ Metrics/EpRet                  │ 2.548701286315918      │\n",
       "│ Metrics/EpCost                 │ 180.72000122070312     │\n",
       "│ Metrics/EpLen                  │ 1000.0                 │\n",
       "│ Train/Epoch                    │ 7.0                    │\n",
       "│ Train/Entropy                  │ 1.343937635421753      │\n",
       "│ Train/KL                       │ 0.02003975585103035    │\n",
       "│ Train/StopIter                 │ 26.0                   │\n",
       "│ Train/PolicyRatio/Mean         │ 0.9996832609176636     │\n",
       "│ Train/PolicyRatio/Min          │ 0.9996832609176636     │\n",
       "│ Train/PolicyRatio/Max          │ 0.9996832609176636     │\n",
       "│ Train/PolicyRatio/Std          │ 0.020274365320801735   │\n",
       "│ Train/LR                       │ 0.00022000000171829015 │\n",
       "│ Train/PolicyStd                │ 0.9277828931808472     │\n",
       "│ TotalEnvSteps                  │ 160000.0               │\n",
       "│ Loss/Loss_pi                   │ -0.04238088056445122   │\n",
       "│ Loss/Loss_pi/Delta             │ -0.00619165226817131   │\n",
       "│ Value/Adv                      │ -0.2889413833618164    │\n",
       "│ Loss/Loss_reward_critic        │ 0.01131476555019617    │\n",
       "│ Loss/Loss_reward_critic/Delta  │ 0.0026392731815576553  │\n",
       "│ Value/reward                   │ 0.14806251227855682    │\n",
       "│ Loss/Loss_cost_critic          │ 2.3388593196868896     │\n",
       "│ Loss/Loss_cost_critic/Delta    │ 0.3365914821624756     │\n",
       "│ Value/cost                     │ 10.941520690917969     │\n",
       "│ Time/Total                     │ 1473.2039794921875     │\n",
       "│ Time/Rollout                   │ 64.336669921875        │\n",
       "│ Time/Update                    │ 103.98772430419922     │\n",
       "│ Time/Epoch                     │ 168.32470703125        │\n",
       "│ Time/FPS                       │ 118.81797790527344     │\n",
       "│ Metrics/LagrangeMultiplier/Mea │ 0.2815423905849457     │\n",
       "│ Metrics/LagrangeMultiplier/Min │ 0.2815423905849457     │\n",
       "│ Metrics/LagrangeMultiplier/Max │ 0.2815423905849457     │\n",
       "│ Metrics/LagrangeMultiplier/Std │ 0.0                    │\n",
       "└────────────────────────────────┴────────────────────────┘\n",
       "</pre>\n"
      ],
      "text/plain": [
       "┏━━━━━━━━━━━━━━━━━━━━━━━━━━━━━━━━┳━━━━━━━━━━━━━━━━━━━━━━━━┓\n",
       "┃\u001b[1m \u001b[0m\u001b[1mMetrics                       \u001b[0m\u001b[1m \u001b[0m┃\u001b[1m \u001b[0m\u001b[1mValue                 \u001b[0m\u001b[1m \u001b[0m┃\n",
       "┡━━━━━━━━━━━━━━━━━━━━━━━━━━━━━━━━╇━━━━━━━━━━━━━━━━━━━━━━━━┩\n",
       "│ Metrics/EpRet                  │ 2.548701286315918      │\n",
       "│ Metrics/EpCost                 │ 180.72000122070312     │\n",
       "│ Metrics/EpLen                  │ 1000.0                 │\n",
       "│ Train/Epoch                    │ 7.0                    │\n",
       "│ Train/Entropy                  │ 1.343937635421753      │\n",
       "│ Train/KL                       │ 0.02003975585103035    │\n",
       "│ Train/StopIter                 │ 26.0                   │\n",
       "│ Train/PolicyRatio/Mean         │ 0.9996832609176636     │\n",
       "│ Train/PolicyRatio/Min          │ 0.9996832609176636     │\n",
       "│ Train/PolicyRatio/Max          │ 0.9996832609176636     │\n",
       "│ Train/PolicyRatio/Std          │ 0.020274365320801735   │\n",
       "│ Train/LR                       │ 0.00022000000171829015 │\n",
       "│ Train/PolicyStd                │ 0.9277828931808472     │\n",
       "│ TotalEnvSteps                  │ 160000.0               │\n",
       "│ Loss/Loss_pi                   │ -0.04238088056445122   │\n",
       "│ Loss/Loss_pi/Delta             │ -0.00619165226817131   │\n",
       "│ Value/Adv                      │ -0.2889413833618164    │\n",
       "│ Loss/Loss_reward_critic        │ 0.01131476555019617    │\n",
       "│ Loss/Loss_reward_critic/Delta  │ 0.0026392731815576553  │\n",
       "│ Value/reward                   │ 0.14806251227855682    │\n",
       "│ Loss/Loss_cost_critic          │ 2.3388593196868896     │\n",
       "│ Loss/Loss_cost_critic/Delta    │ 0.3365914821624756     │\n",
       "│ Value/cost                     │ 10.941520690917969     │\n",
       "│ Time/Total                     │ 1473.2039794921875     │\n",
       "│ Time/Rollout                   │ 64.336669921875        │\n",
       "│ Time/Update                    │ 103.98772430419922     │\n",
       "│ Time/Epoch                     │ 168.32470703125        │\n",
       "│ Time/FPS                       │ 118.81797790527344     │\n",
       "│ Metrics/LagrangeMultiplier/Mea │ 0.2815423905849457     │\n",
       "│ Metrics/LagrangeMultiplier/Min │ 0.2815423905849457     │\n",
       "│ Metrics/LagrangeMultiplier/Max │ 0.2815423905849457     │\n",
       "│ Metrics/LagrangeMultiplier/Std │ 0.0                    │\n",
       "└────────────────────────────────┴────────────────────────┘\n"
      ]
     },
     "metadata": {},
     "output_type": "display_data"
    },
    {
     "data": {
      "text/html": [
       "<pre style=\"white-space:pre;overflow-x:auto;line-height:normal;font-family:Menlo,'DejaVu Sans Mono',consolas,'Courier New',monospace\"><span style=\"color: #008000; text-decoration-color: #008000\">Warning: trajectory cut off when rollout by epoch at </span><span style=\"color: #008080; text-decoration-color: #008080; font-weight: bold\">1000.0</span><span style=\"color: #008000; text-decoration-color: #008000\"> steps.</span>\n",
       "</pre>\n"
      ],
      "text/plain": [
       "\u001b[32mWarning: trajectory cut off when rollout by epoch at \u001b[0m\u001b[1;36m1000.0\u001b[0m\u001b[32m steps.\u001b[0m\n"
      ]
     },
     "metadata": {},
     "output_type": "display_data"
    },
    {
     "data": {
      "text/html": [
       "<pre style=\"white-space:pre;overflow-x:auto;line-height:normal;font-family:Menlo,'DejaVu Sans Mono',consolas,'Courier New',monospace\"><span style=\"color: #008000; text-decoration-color: #008000\">Warning: trajectory cut off when rollout by epoch at </span><span style=\"color: #008080; text-decoration-color: #008080; font-weight: bold\">1000.0</span><span style=\"color: #008000; text-decoration-color: #008000\"> steps.</span>\n",
       "</pre>\n"
      ],
      "text/plain": [
       "\u001b[32mWarning: trajectory cut off when rollout by epoch at \u001b[0m\u001b[1;36m1000.0\u001b[0m\u001b[32m steps.\u001b[0m\n"
      ]
     },
     "metadata": {},
     "output_type": "display_data"
    },
    {
     "data": {
      "text/html": [
       "<pre style=\"white-space:pre;overflow-x:auto;line-height:normal;font-family:Menlo,'DejaVu Sans Mono',consolas,'Courier New',monospace\"><span style=\"color: #008000; text-decoration-color: #008000\">Warning: trajectory cut off when rollout by epoch at </span><span style=\"color: #008080; text-decoration-color: #008080; font-weight: bold\">1000.0</span><span style=\"color: #008000; text-decoration-color: #008000\"> steps.</span>\n",
       "</pre>\n"
      ],
      "text/plain": [
       "\u001b[32mWarning: trajectory cut off when rollout by epoch at \u001b[0m\u001b[1;36m1000.0\u001b[0m\u001b[32m steps.\u001b[0m\n"
      ]
     },
     "metadata": {},
     "output_type": "display_data"
    },
    {
     "data": {
      "text/html": [
       "<pre style=\"white-space:pre;overflow-x:auto;line-height:normal;font-family:Menlo,'DejaVu Sans Mono',consolas,'Courier New',monospace\"><span style=\"color: #008000; text-decoration-color: #008000\">Warning: trajectory cut off when rollout by epoch at </span><span style=\"color: #008080; text-decoration-color: #008080; font-weight: bold\">1000.0</span><span style=\"color: #008000; text-decoration-color: #008000\"> steps.</span>\n",
       "</pre>\n"
      ],
      "text/plain": [
       "\u001b[32mWarning: trajectory cut off when rollout by epoch at \u001b[0m\u001b[1;36m1000.0\u001b[0m\u001b[32m steps.\u001b[0m\n"
      ]
     },
     "metadata": {},
     "output_type": "display_data"
    },
    {
     "data": {
      "text/html": [
       "<pre style=\"white-space:pre;overflow-x:auto;line-height:normal;font-family:Menlo,'DejaVu Sans Mono',consolas,'Courier New',monospace\"></pre>\n"
      ],
      "text/plain": []
     },
     "metadata": {},
     "output_type": "display_data"
    },
    {
     "data": {
      "text/html": [
       "<pre style=\"white-space:pre;overflow-x:auto;line-height:normal;font-family:Menlo,'DejaVu Sans Mono',consolas,'Courier New',monospace\">\n",
       "</pre>\n"
      ],
      "text/plain": [
       "\n"
      ]
     },
     "metadata": {},
     "output_type": "display_data"
    },
    {
     "data": {
      "text/html": [
       "<pre style=\"white-space:pre;overflow-x:auto;line-height:normal;font-family:Menlo,'DejaVu Sans Mono',consolas,'Courier New',monospace\"><span style=\"color: #008000; text-decoration-color: #008000\">Early stopping at iter </span><span style=\"color: #008080; text-decoration-color: #008080; font-weight: bold\">20</span><span style=\"color: #008000; text-decoration-color: #008000\"> due to reaching max kl</span>\n",
       "</pre>\n"
      ],
      "text/plain": [
       "\u001b[32mEarly stopping at iter \u001b[0m\u001b[1;36m20\u001b[0m\u001b[32m due to reaching max kl\u001b[0m\n"
      ]
     },
     "metadata": {},
     "output_type": "display_data"
    },
    {
     "data": {
      "text/html": [
       "<pre style=\"white-space:pre;overflow-x:auto;line-height:normal;font-family:Menlo,'DejaVu Sans Mono',consolas,'Courier New',monospace\"></pre>\n"
      ],
      "text/plain": []
     },
     "metadata": {},
     "output_type": "display_data"
    },
    {
     "data": {
      "text/html": [
       "<pre style=\"white-space:pre;overflow-x:auto;line-height:normal;font-family:Menlo,'DejaVu Sans Mono',consolas,'Courier New',monospace\">\n",
       "</pre>\n"
      ],
      "text/plain": [
       "\n"
      ]
     },
     "metadata": {},
     "output_type": "display_data"
    },
    {
     "data": {
      "text/html": [
       "<pre style=\"white-space:pre;overflow-x:auto;line-height:normal;font-family:Menlo,'DejaVu Sans Mono',consolas,'Courier New',monospace\">┏━━━━━━━━━━━━━━━━━━━━━━━━━━━━━━━━┳━━━━━━━━━━━━━━━━━━━━━━━┓\n",
       "┃<span style=\"font-weight: bold\"> Metrics                        </span>┃<span style=\"font-weight: bold\"> Value                 </span>┃\n",
       "┡━━━━━━━━━━━━━━━━━━━━━━━━━━━━━━━━╇━━━━━━━━━━━━━━━━━━━━━━━┩\n",
       "│ Metrics/EpRet                  │ 3.0585379600524902    │\n",
       "│ Metrics/EpCost                 │ 168.9600067138672     │\n",
       "│ Metrics/EpLen                  │ 1000.0                │\n",
       "│ Train/Epoch                    │ 8.0                   │\n",
       "│ Train/Entropy                  │ 1.335813283920288     │\n",
       "│ Train/KL                       │ 0.021668896079063416  │\n",
       "│ Train/StopIter                 │ 20.0                  │\n",
       "│ Train/PolicyRatio/Mean         │ 1.00009286403656      │\n",
       "│ Train/PolicyRatio/Min          │ 1.0000927448272705    │\n",
       "│ Train/PolicyRatio/Max          │ 1.0000927448272705    │\n",
       "│ Train/PolicyRatio/Std          │ 0.020696692168712616  │\n",
       "│ Train/LR                       │ 0.0002099999983329326 │\n",
       "│ Train/PolicyStd                │ 0.9203128218650818    │\n",
       "│ TotalEnvSteps                  │ 180000.0              │\n",
       "│ Loss/Loss_pi                   │ -0.037668388336896896 │\n",
       "│ Loss/Loss_pi/Delta             │ 0.004712492227554321  │\n",
       "│ Value/Adv                      │ 0.010408898815512657  │\n",
       "│ Loss/Loss_reward_critic        │ 0.01658022589981556   │\n",
       "│ Loss/Loss_reward_critic/Delta  │ 0.005265460349619389  │\n",
       "│ Value/reward                   │ 0.23796921968460083   │\n",
       "│ Loss/Loss_cost_critic          │ 2.2351131439208984    │\n",
       "│ Loss/Loss_cost_critic/Delta    │ -0.10374617576599121  │\n",
       "│ Value/cost                     │ 11.570592880249023    │\n",
       "│ Time/Total                     │ 1616.36181640625      │\n",
       "│ Time/Rollout                   │ 63.04190444946289     │\n",
       "│ Time/Update                    │ 80.08346557617188     │\n",
       "│ Time/Epoch                     │ 143.1253662109375     │\n",
       "│ Time/FPS                       │ 139.73764038085938    │\n",
       "│ Metrics/LagrangeMultiplier/Mea │ 0.3173683285713196    │\n",
       "│ Metrics/LagrangeMultiplier/Min │ 0.3173683285713196    │\n",
       "│ Metrics/LagrangeMultiplier/Max │ 0.3173683285713196    │\n",
       "│ Metrics/LagrangeMultiplier/Std │ 0.0                   │\n",
       "└────────────────────────────────┴───────────────────────┘\n",
       "</pre>\n"
      ],
      "text/plain": [
       "┏━━━━━━━━━━━━━━━━━━━━━━━━━━━━━━━━┳━━━━━━━━━━━━━━━━━━━━━━━┓\n",
       "┃\u001b[1m \u001b[0m\u001b[1mMetrics                       \u001b[0m\u001b[1m \u001b[0m┃\u001b[1m \u001b[0m\u001b[1mValue                \u001b[0m\u001b[1m \u001b[0m┃\n",
       "┡━━━━━━━━━━━━━━━━━━━━━━━━━━━━━━━━╇━━━━━━━━━━━━━━━━━━━━━━━┩\n",
       "│ Metrics/EpRet                  │ 3.0585379600524902    │\n",
       "│ Metrics/EpCost                 │ 168.9600067138672     │\n",
       "│ Metrics/EpLen                  │ 1000.0                │\n",
       "│ Train/Epoch                    │ 8.0                   │\n",
       "│ Train/Entropy                  │ 1.335813283920288     │\n",
       "│ Train/KL                       │ 0.021668896079063416  │\n",
       "│ Train/StopIter                 │ 20.0                  │\n",
       "│ Train/PolicyRatio/Mean         │ 1.00009286403656      │\n",
       "│ Train/PolicyRatio/Min          │ 1.0000927448272705    │\n",
       "│ Train/PolicyRatio/Max          │ 1.0000927448272705    │\n",
       "│ Train/PolicyRatio/Std          │ 0.020696692168712616  │\n",
       "│ Train/LR                       │ 0.0002099999983329326 │\n",
       "│ Train/PolicyStd                │ 0.9203128218650818    │\n",
       "│ TotalEnvSteps                  │ 180000.0              │\n",
       "│ Loss/Loss_pi                   │ -0.037668388336896896 │\n",
       "│ Loss/Loss_pi/Delta             │ 0.004712492227554321  │\n",
       "│ Value/Adv                      │ 0.010408898815512657  │\n",
       "│ Loss/Loss_reward_critic        │ 0.01658022589981556   │\n",
       "│ Loss/Loss_reward_critic/Delta  │ 0.005265460349619389  │\n",
       "│ Value/reward                   │ 0.23796921968460083   │\n",
       "│ Loss/Loss_cost_critic          │ 2.2351131439208984    │\n",
       "│ Loss/Loss_cost_critic/Delta    │ -0.10374617576599121  │\n",
       "│ Value/cost                     │ 11.570592880249023    │\n",
       "│ Time/Total                     │ 1616.36181640625      │\n",
       "│ Time/Rollout                   │ 63.04190444946289     │\n",
       "│ Time/Update                    │ 80.08346557617188     │\n",
       "│ Time/Epoch                     │ 143.1253662109375     │\n",
       "│ Time/FPS                       │ 139.73764038085938    │\n",
       "│ Metrics/LagrangeMultiplier/Mea │ 0.3173683285713196    │\n",
       "│ Metrics/LagrangeMultiplier/Min │ 0.3173683285713196    │\n",
       "│ Metrics/LagrangeMultiplier/Max │ 0.3173683285713196    │\n",
       "│ Metrics/LagrangeMultiplier/Std │ 0.0                   │\n",
       "└────────────────────────────────┴───────────────────────┘\n"
      ]
     },
     "metadata": {},
     "output_type": "display_data"
    },
    {
     "data": {
      "text/html": [
       "<pre style=\"white-space:pre;overflow-x:auto;line-height:normal;font-family:Menlo,'DejaVu Sans Mono',consolas,'Courier New',monospace\"><span style=\"color: #008000; text-decoration-color: #008000\">Warning: trajectory cut off when rollout by epoch at </span><span style=\"color: #008080; text-decoration-color: #008080; font-weight: bold\">1000.0</span><span style=\"color: #008000; text-decoration-color: #008000\"> steps.</span>\n",
       "</pre>\n"
      ],
      "text/plain": [
       "\u001b[32mWarning: trajectory cut off when rollout by epoch at \u001b[0m\u001b[1;36m1000.0\u001b[0m\u001b[32m steps.\u001b[0m\n"
      ]
     },
     "metadata": {},
     "output_type": "display_data"
    },
    {
     "data": {
      "text/html": [
       "<pre style=\"white-space:pre;overflow-x:auto;line-height:normal;font-family:Menlo,'DejaVu Sans Mono',consolas,'Courier New',monospace\"><span style=\"color: #008000; text-decoration-color: #008000\">Warning: trajectory cut off when rollout by epoch at </span><span style=\"color: #008080; text-decoration-color: #008080; font-weight: bold\">1000.0</span><span style=\"color: #008000; text-decoration-color: #008000\"> steps.</span>\n",
       "</pre>\n"
      ],
      "text/plain": [
       "\u001b[32mWarning: trajectory cut off when rollout by epoch at \u001b[0m\u001b[1;36m1000.0\u001b[0m\u001b[32m steps.\u001b[0m\n"
      ]
     },
     "metadata": {},
     "output_type": "display_data"
    },
    {
     "data": {
      "text/html": [
       "<pre style=\"white-space:pre;overflow-x:auto;line-height:normal;font-family:Menlo,'DejaVu Sans Mono',consolas,'Courier New',monospace\"><span style=\"color: #008000; text-decoration-color: #008000\">Warning: trajectory cut off when rollout by epoch at </span><span style=\"color: #008080; text-decoration-color: #008080; font-weight: bold\">1000.0</span><span style=\"color: #008000; text-decoration-color: #008000\"> steps.</span>\n",
       "</pre>\n"
      ],
      "text/plain": [
       "\u001b[32mWarning: trajectory cut off when rollout by epoch at \u001b[0m\u001b[1;36m1000.0\u001b[0m\u001b[32m steps.\u001b[0m\n"
      ]
     },
     "metadata": {},
     "output_type": "display_data"
    },
    {
     "data": {
      "text/html": [
       "<pre style=\"white-space:pre;overflow-x:auto;line-height:normal;font-family:Menlo,'DejaVu Sans Mono',consolas,'Courier New',monospace\"><span style=\"color: #008000; text-decoration-color: #008000\">Warning: trajectory cut off when rollout by epoch at </span><span style=\"color: #008080; text-decoration-color: #008080; font-weight: bold\">1000.0</span><span style=\"color: #008000; text-decoration-color: #008000\"> steps.</span>\n",
       "</pre>\n"
      ],
      "text/plain": [
       "\u001b[32mWarning: trajectory cut off when rollout by epoch at \u001b[0m\u001b[1;36m1000.0\u001b[0m\u001b[32m steps.\u001b[0m\n"
      ]
     },
     "metadata": {},
     "output_type": "display_data"
    },
    {
     "data": {
      "text/html": [
       "<pre style=\"white-space:pre;overflow-x:auto;line-height:normal;font-family:Menlo,'DejaVu Sans Mono',consolas,'Courier New',monospace\"></pre>\n"
      ],
      "text/plain": []
     },
     "metadata": {},
     "output_type": "display_data"
    },
    {
     "data": {
      "text/html": [
       "<pre style=\"white-space:pre;overflow-x:auto;line-height:normal;font-family:Menlo,'DejaVu Sans Mono',consolas,'Courier New',monospace\">\n",
       "</pre>\n"
      ],
      "text/plain": [
       "\n"
      ]
     },
     "metadata": {},
     "output_type": "display_data"
    },
    {
     "data": {
      "text/html": [
       "<pre style=\"white-space:pre;overflow-x:auto;line-height:normal;font-family:Menlo,'DejaVu Sans Mono',consolas,'Courier New',monospace\"><span style=\"color: #008000; text-decoration-color: #008000\">Early stopping at iter </span><span style=\"color: #008080; text-decoration-color: #008080; font-weight: bold\">19</span><span style=\"color: #008000; text-decoration-color: #008000\"> due to reaching max kl</span>\n",
       "</pre>\n"
      ],
      "text/plain": [
       "\u001b[32mEarly stopping at iter \u001b[0m\u001b[1;36m19\u001b[0m\u001b[32m due to reaching max kl\u001b[0m\n"
      ]
     },
     "metadata": {},
     "output_type": "display_data"
    },
    {
     "data": {
      "text/html": [
       "<pre style=\"white-space:pre;overflow-x:auto;line-height:normal;font-family:Menlo,'DejaVu Sans Mono',consolas,'Courier New',monospace\"></pre>\n"
      ],
      "text/plain": []
     },
     "metadata": {},
     "output_type": "display_data"
    },
    {
     "data": {
      "text/html": [
       "<pre style=\"white-space:pre;overflow-x:auto;line-height:normal;font-family:Menlo,'DejaVu Sans Mono',consolas,'Courier New',monospace\">\n",
       "</pre>\n"
      ],
      "text/plain": [
       "\n"
      ]
     },
     "metadata": {},
     "output_type": "display_data"
    },
    {
     "data": {
      "text/html": [
       "<pre style=\"white-space:pre;overflow-x:auto;line-height:normal;font-family:Menlo,'DejaVu Sans Mono',consolas,'Courier New',monospace\">┏━━━━━━━━━━━━━━━━━━━━━━━━━━━━━━━━┳━━━━━━━━━━━━━━━━━━━━━━━━┓\n",
       "┃<span style=\"font-weight: bold\"> Metrics                        </span>┃<span style=\"font-weight: bold\"> Value                  </span>┃\n",
       "┡━━━━━━━━━━━━━━━━━━━━━━━━━━━━━━━━╇━━━━━━━━━━━━━━━━━━━━━━━━┩\n",
       "│ Metrics/EpRet                  │ 3.721867084503174      │\n",
       "│ Metrics/EpCost                 │ 145.74000549316406     │\n",
       "│ Metrics/EpLen                  │ 1000.0                 │\n",
       "│ Train/Epoch                    │ 9.0                    │\n",
       "│ Train/Entropy                  │ 1.323839545249939      │\n",
       "│ Train/KL                       │ 0.020237375050783157   │\n",
       "│ Train/StopIter                 │ 19.0                   │\n",
       "│ Train/PolicyRatio/Mean         │ 1.000552773475647      │\n",
       "│ Train/PolicyRatio/Min          │ 1.000552773475647      │\n",
       "│ Train/PolicyRatio/Max          │ 1.000552773475647      │\n",
       "│ Train/PolicyRatio/Std          │ 0.019582347944378853   │\n",
       "│ Train/LR                       │ 0.00019999999494757503 │\n",
       "│ Train/PolicyStd                │ 0.9093129634857178     │\n",
       "│ TotalEnvSteps                  │ 200000.0               │\n",
       "│ Loss/Loss_pi                   │ -0.03692934662103653   │\n",
       "│ Loss/Loss_pi/Delta             │ 0.0007390417158603668  │\n",
       "│ Value/Adv                      │ 0.2957967519760132     │\n",
       "│ Loss/Loss_reward_critic        │ 0.017132513225078583   │\n",
       "│ Loss/Loss_reward_critic/Delta  │ 0.0005522873252630234  │\n",
       "│ Value/reward                   │ 0.27897676825523376    │\n",
       "│ Loss/Loss_cost_critic          │ 2.2251508235931396     │\n",
       "│ Loss/Loss_cost_critic/Delta    │ -0.009962320327758789  │\n",
       "│ Value/cost                     │ 11.891806602478027     │\n",
       "│ Time/Total                     │ 1758.4366455078125     │\n",
       "│ Time/Rollout                   │ 64.99945831298828      │\n",
       "│ Time/Update                    │ 77.04432678222656      │\n",
       "│ Time/Epoch                     │ 142.04379272460938     │\n",
       "│ Time/FPS                       │ 140.80165100097656     │\n",
       "│ Metrics/LagrangeMultiplier/Mea │ 0.3529646098613739     │\n",
       "│ Metrics/LagrangeMultiplier/Min │ 0.3529646098613739     │\n",
       "│ Metrics/LagrangeMultiplier/Max │ 0.3529646098613739     │\n",
       "│ Metrics/LagrangeMultiplier/Std │ 0.0                    │\n",
       "└────────────────────────────────┴────────────────────────┘\n",
       "</pre>\n"
      ],
      "text/plain": [
       "┏━━━━━━━━━━━━━━━━━━━━━━━━━━━━━━━━┳━━━━━━━━━━━━━━━━━━━━━━━━┓\n",
       "┃\u001b[1m \u001b[0m\u001b[1mMetrics                       \u001b[0m\u001b[1m \u001b[0m┃\u001b[1m \u001b[0m\u001b[1mValue                 \u001b[0m\u001b[1m \u001b[0m┃\n",
       "┡━━━━━━━━━━━━━━━━━━━━━━━━━━━━━━━━╇━━━━━━━━━━━━━━━━━━━━━━━━┩\n",
       "│ Metrics/EpRet                  │ 3.721867084503174      │\n",
       "│ Metrics/EpCost                 │ 145.74000549316406     │\n",
       "│ Metrics/EpLen                  │ 1000.0                 │\n",
       "│ Train/Epoch                    │ 9.0                    │\n",
       "│ Train/Entropy                  │ 1.323839545249939      │\n",
       "│ Train/KL                       │ 0.020237375050783157   │\n",
       "│ Train/StopIter                 │ 19.0                   │\n",
       "│ Train/PolicyRatio/Mean         │ 1.000552773475647      │\n",
       "│ Train/PolicyRatio/Min          │ 1.000552773475647      │\n",
       "│ Train/PolicyRatio/Max          │ 1.000552773475647      │\n",
       "│ Train/PolicyRatio/Std          │ 0.019582347944378853   │\n",
       "│ Train/LR                       │ 0.00019999999494757503 │\n",
       "│ Train/PolicyStd                │ 0.9093129634857178     │\n",
       "│ TotalEnvSteps                  │ 200000.0               │\n",
       "│ Loss/Loss_pi                   │ -0.03692934662103653   │\n",
       "│ Loss/Loss_pi/Delta             │ 0.0007390417158603668  │\n",
       "│ Value/Adv                      │ 0.2957967519760132     │\n",
       "│ Loss/Loss_reward_critic        │ 0.017132513225078583   │\n",
       "│ Loss/Loss_reward_critic/Delta  │ 0.0005522873252630234  │\n",
       "│ Value/reward                   │ 0.27897676825523376    │\n",
       "│ Loss/Loss_cost_critic          │ 2.2251508235931396     │\n",
       "│ Loss/Loss_cost_critic/Delta    │ -0.009962320327758789  │\n",
       "│ Value/cost                     │ 11.891806602478027     │\n",
       "│ Time/Total                     │ 1758.4366455078125     │\n",
       "│ Time/Rollout                   │ 64.99945831298828      │\n",
       "│ Time/Update                    │ 77.04432678222656      │\n",
       "│ Time/Epoch                     │ 142.04379272460938     │\n",
       "│ Time/FPS                       │ 140.80165100097656     │\n",
       "│ Metrics/LagrangeMultiplier/Mea │ 0.3529646098613739     │\n",
       "│ Metrics/LagrangeMultiplier/Min │ 0.3529646098613739     │\n",
       "│ Metrics/LagrangeMultiplier/Max │ 0.3529646098613739     │\n",
       "│ Metrics/LagrangeMultiplier/Std │ 0.0                    │\n",
       "└────────────────────────────────┴────────────────────────┘\n"
      ]
     },
     "metadata": {},
     "output_type": "display_data"
    },
    {
     "data": {
      "text/html": [
       "<pre style=\"white-space:pre;overflow-x:auto;line-height:normal;font-family:Menlo,'DejaVu Sans Mono',consolas,'Courier New',monospace\"><span style=\"color: #008000; text-decoration-color: #008000\">Warning: trajectory cut off when rollout by epoch at </span><span style=\"color: #008080; text-decoration-color: #008080; font-weight: bold\">1000.0</span><span style=\"color: #008000; text-decoration-color: #008000\"> steps.</span>\n",
       "</pre>\n"
      ],
      "text/plain": [
       "\u001b[32mWarning: trajectory cut off when rollout by epoch at \u001b[0m\u001b[1;36m1000.0\u001b[0m\u001b[32m steps.\u001b[0m\n"
      ]
     },
     "metadata": {},
     "output_type": "display_data"
    },
    {
     "data": {
      "text/html": [
       "<pre style=\"white-space:pre;overflow-x:auto;line-height:normal;font-family:Menlo,'DejaVu Sans Mono',consolas,'Courier New',monospace\"><span style=\"color: #008000; text-decoration-color: #008000\">Warning: trajectory cut off when rollout by epoch at </span><span style=\"color: #008080; text-decoration-color: #008080; font-weight: bold\">1000.0</span><span style=\"color: #008000; text-decoration-color: #008000\"> steps.</span>\n",
       "</pre>\n"
      ],
      "text/plain": [
       "\u001b[32mWarning: trajectory cut off when rollout by epoch at \u001b[0m\u001b[1;36m1000.0\u001b[0m\u001b[32m steps.\u001b[0m\n"
      ]
     },
     "metadata": {},
     "output_type": "display_data"
    },
    {
     "data": {
      "text/html": [
       "<pre style=\"white-space:pre;overflow-x:auto;line-height:normal;font-family:Menlo,'DejaVu Sans Mono',consolas,'Courier New',monospace\"><span style=\"color: #008000; text-decoration-color: #008000\">Warning: trajectory cut off when rollout by epoch at </span><span style=\"color: #008080; text-decoration-color: #008080; font-weight: bold\">1000.0</span><span style=\"color: #008000; text-decoration-color: #008000\"> steps.</span>\n",
       "</pre>\n"
      ],
      "text/plain": [
       "\u001b[32mWarning: trajectory cut off when rollout by epoch at \u001b[0m\u001b[1;36m1000.0\u001b[0m\u001b[32m steps.\u001b[0m\n"
      ]
     },
     "metadata": {},
     "output_type": "display_data"
    },
    {
     "data": {
      "text/html": [
       "<pre style=\"white-space:pre;overflow-x:auto;line-height:normal;font-family:Menlo,'DejaVu Sans Mono',consolas,'Courier New',monospace\"><span style=\"color: #008000; text-decoration-color: #008000\">Warning: trajectory cut off when rollout by epoch at </span><span style=\"color: #008080; text-decoration-color: #008080; font-weight: bold\">1000.0</span><span style=\"color: #008000; text-decoration-color: #008000\"> steps.</span>\n",
       "</pre>\n"
      ],
      "text/plain": [
       "\u001b[32mWarning: trajectory cut off when rollout by epoch at \u001b[0m\u001b[1;36m1000.0\u001b[0m\u001b[32m steps.\u001b[0m\n"
      ]
     },
     "metadata": {},
     "output_type": "display_data"
    },
    {
     "data": {
      "text/html": [
       "<pre style=\"white-space:pre;overflow-x:auto;line-height:normal;font-family:Menlo,'DejaVu Sans Mono',consolas,'Courier New',monospace\"></pre>\n"
      ],
      "text/plain": []
     },
     "metadata": {},
     "output_type": "display_data"
    },
    {
     "data": {
      "text/html": [
       "<pre style=\"white-space:pre;overflow-x:auto;line-height:normal;font-family:Menlo,'DejaVu Sans Mono',consolas,'Courier New',monospace\">\n",
       "</pre>\n"
      ],
      "text/plain": [
       "\n"
      ]
     },
     "metadata": {},
     "output_type": "display_data"
    },
    {
     "data": {
      "text/html": [
       "<pre style=\"white-space:pre;overflow-x:auto;line-height:normal;font-family:Menlo,'DejaVu Sans Mono',consolas,'Courier New',monospace\"><span style=\"color: #008000; text-decoration-color: #008000\">Early stopping at iter </span><span style=\"color: #008080; text-decoration-color: #008080; font-weight: bold\">21</span><span style=\"color: #008000; text-decoration-color: #008000\"> due to reaching max kl</span>\n",
       "</pre>\n"
      ],
      "text/plain": [
       "\u001b[32mEarly stopping at iter \u001b[0m\u001b[1;36m21\u001b[0m\u001b[32m due to reaching max kl\u001b[0m\n"
      ]
     },
     "metadata": {},
     "output_type": "display_data"
    },
    {
     "data": {
      "text/html": [
       "<pre style=\"white-space:pre;overflow-x:auto;line-height:normal;font-family:Menlo,'DejaVu Sans Mono',consolas,'Courier New',monospace\"></pre>\n"
      ],
      "text/plain": []
     },
     "metadata": {},
     "output_type": "display_data"
    },
    {
     "data": {
      "text/html": [
       "<pre style=\"white-space:pre;overflow-x:auto;line-height:normal;font-family:Menlo,'DejaVu Sans Mono',consolas,'Courier New',monospace\">\n",
       "</pre>\n"
      ],
      "text/plain": [
       "\n"
      ]
     },
     "metadata": {},
     "output_type": "display_data"
    },
    {
     "data": {
      "text/html": [
       "<pre style=\"white-space:pre;overflow-x:auto;line-height:normal;font-family:Menlo,'DejaVu Sans Mono',consolas,'Courier New',monospace\">┏━━━━━━━━━━━━━━━━━━━━━━━━━━━━━━━━┳━━━━━━━━━━━━━━━━━━━━━━━┓\n",
       "┃<span style=\"font-weight: bold\"> Metrics                        </span>┃<span style=\"font-weight: bold\"> Value                 </span>┃\n",
       "┡━━━━━━━━━━━━━━━━━━━━━━━━━━━━━━━━╇━━━━━━━━━━━━━━━━━━━━━━━┩\n",
       "│ Metrics/EpRet                  │ 4.189527988433838     │\n",
       "│ Metrics/EpCost                 │ 137.94000244140625    │\n",
       "│ Metrics/EpLen                  │ 1000.0                │\n",
       "│ Train/Epoch                    │ 10.0                  │\n",
       "│ Train/Entropy                  │ 1.3177775144577026    │\n",
       "│ Train/KL                       │ 0.02120644599199295   │\n",
       "│ Train/StopIter                 │ 21.0                  │\n",
       "│ Train/PolicyRatio/Mean         │ 0.9993385672569275    │\n",
       "│ Train/PolicyRatio/Min          │ 0.9993385672569275    │\n",
       "│ Train/PolicyRatio/Max          │ 0.9993385672569275    │\n",
       "│ Train/PolicyRatio/Std          │ 0.019899146631360054  │\n",
       "│ Train/LR                       │ 0.0001900000061141327 │\n",
       "│ Train/PolicyStd                │ 0.9037959575653076    │\n",
       "│ TotalEnvSteps                  │ 220000.0              │\n",
       "│ Loss/Loss_pi                   │ -0.04342653974890709  │\n",
       "│ Loss/Loss_pi/Delta             │ -0.00649719312787056  │\n",
       "│ Value/Adv                      │ 0.17614775896072388   │\n",
       "│ Loss/Loss_reward_critic        │ 0.01713300123810768   │\n",
       "│ Loss/Loss_reward_critic/Delta  │ 4.880130290985107e-07 │\n",
       "│ Value/reward                   │ 0.278094619512558     │\n",
       "│ Loss/Loss_cost_critic          │ 2.0008225440979004    │\n",
       "│ Loss/Loss_cost_critic/Delta    │ -0.22432827949523926  │\n",
       "│ Value/cost                     │ 11.73220157623291     │\n",
       "│ Time/Total                     │ 1904.7647705078125    │\n",
       "│ Time/Rollout                   │ 61.884727478027344    │\n",
       "│ Time/Update                    │ 84.4112777709961      │\n",
       "│ Time/Epoch                     │ 146.29600524902344    │\n",
       "│ Time/FPS                       │ 136.70913696289062    │\n",
       "│ Metrics/LagrangeMultiplier/Mea │ 0.3882477283477783    │\n",
       "│ Metrics/LagrangeMultiplier/Min │ 0.3882477283477783    │\n",
       "│ Metrics/LagrangeMultiplier/Max │ 0.3882477283477783    │\n",
       "│ Metrics/LagrangeMultiplier/Std │ 0.0                   │\n",
       "└────────────────────────────────┴───────────────────────┘\n",
       "</pre>\n"
      ],
      "text/plain": [
       "┏━━━━━━━━━━━━━━━━━━━━━━━━━━━━━━━━┳━━━━━━━━━━━━━━━━━━━━━━━┓\n",
       "┃\u001b[1m \u001b[0m\u001b[1mMetrics                       \u001b[0m\u001b[1m \u001b[0m┃\u001b[1m \u001b[0m\u001b[1mValue                \u001b[0m\u001b[1m \u001b[0m┃\n",
       "┡━━━━━━━━━━━━━━━━━━━━━━━━━━━━━━━━╇━━━━━━━━━━━━━━━━━━━━━━━┩\n",
       "│ Metrics/EpRet                  │ 4.189527988433838     │\n",
       "│ Metrics/EpCost                 │ 137.94000244140625    │\n",
       "│ Metrics/EpLen                  │ 1000.0                │\n",
       "│ Train/Epoch                    │ 10.0                  │\n",
       "│ Train/Entropy                  │ 1.3177775144577026    │\n",
       "│ Train/KL                       │ 0.02120644599199295   │\n",
       "│ Train/StopIter                 │ 21.0                  │\n",
       "│ Train/PolicyRatio/Mean         │ 0.9993385672569275    │\n",
       "│ Train/PolicyRatio/Min          │ 0.9993385672569275    │\n",
       "│ Train/PolicyRatio/Max          │ 0.9993385672569275    │\n",
       "│ Train/PolicyRatio/Std          │ 0.019899146631360054  │\n",
       "│ Train/LR                       │ 0.0001900000061141327 │\n",
       "│ Train/PolicyStd                │ 0.9037959575653076    │\n",
       "│ TotalEnvSteps                  │ 220000.0              │\n",
       "│ Loss/Loss_pi                   │ -0.04342653974890709  │\n",
       "│ Loss/Loss_pi/Delta             │ -0.00649719312787056  │\n",
       "│ Value/Adv                      │ 0.17614775896072388   │\n",
       "│ Loss/Loss_reward_critic        │ 0.01713300123810768   │\n",
       "│ Loss/Loss_reward_critic/Delta  │ 4.880130290985107e-07 │\n",
       "│ Value/reward                   │ 0.278094619512558     │\n",
       "│ Loss/Loss_cost_critic          │ 2.0008225440979004    │\n",
       "│ Loss/Loss_cost_critic/Delta    │ -0.22432827949523926  │\n",
       "│ Value/cost                     │ 11.73220157623291     │\n",
       "│ Time/Total                     │ 1904.7647705078125    │\n",
       "│ Time/Rollout                   │ 61.884727478027344    │\n",
       "│ Time/Update                    │ 84.4112777709961      │\n",
       "│ Time/Epoch                     │ 146.29600524902344    │\n",
       "│ Time/FPS                       │ 136.70913696289062    │\n",
       "│ Metrics/LagrangeMultiplier/Mea │ 0.3882477283477783    │\n",
       "│ Metrics/LagrangeMultiplier/Min │ 0.3882477283477783    │\n",
       "│ Metrics/LagrangeMultiplier/Max │ 0.3882477283477783    │\n",
       "│ Metrics/LagrangeMultiplier/Std │ 0.0                   │\n",
       "└────────────────────────────────┴───────────────────────┘\n"
      ]
     },
     "metadata": {},
     "output_type": "display_data"
    },
    {
     "data": {
      "text/html": [
       "<pre style=\"white-space:pre;overflow-x:auto;line-height:normal;font-family:Menlo,'DejaVu Sans Mono',consolas,'Courier New',monospace\"><span style=\"color: #008000; text-decoration-color: #008000\">Warning: trajectory cut off when rollout by epoch at </span><span style=\"color: #008080; text-decoration-color: #008080; font-weight: bold\">1000.0</span><span style=\"color: #008000; text-decoration-color: #008000\"> steps.</span>\n",
       "</pre>\n"
      ],
      "text/plain": [
       "\u001b[32mWarning: trajectory cut off when rollout by epoch at \u001b[0m\u001b[1;36m1000.0\u001b[0m\u001b[32m steps.\u001b[0m\n"
      ]
     },
     "metadata": {},
     "output_type": "display_data"
    },
    {
     "data": {
      "text/html": [
       "<pre style=\"white-space:pre;overflow-x:auto;line-height:normal;font-family:Menlo,'DejaVu Sans Mono',consolas,'Courier New',monospace\"><span style=\"color: #008000; text-decoration-color: #008000\">Warning: trajectory cut off when rollout by epoch at </span><span style=\"color: #008080; text-decoration-color: #008080; font-weight: bold\">1000.0</span><span style=\"color: #008000; text-decoration-color: #008000\"> steps.</span>\n",
       "</pre>\n"
      ],
      "text/plain": [
       "\u001b[32mWarning: trajectory cut off when rollout by epoch at \u001b[0m\u001b[1;36m1000.0\u001b[0m\u001b[32m steps.\u001b[0m\n"
      ]
     },
     "metadata": {},
     "output_type": "display_data"
    },
    {
     "data": {
      "text/html": [
       "<pre style=\"white-space:pre;overflow-x:auto;line-height:normal;font-family:Menlo,'DejaVu Sans Mono',consolas,'Courier New',monospace\"><span style=\"color: #008000; text-decoration-color: #008000\">Warning: trajectory cut off when rollout by epoch at </span><span style=\"color: #008080; text-decoration-color: #008080; font-weight: bold\">1000.0</span><span style=\"color: #008000; text-decoration-color: #008000\"> steps.</span>\n",
       "</pre>\n"
      ],
      "text/plain": [
       "\u001b[32mWarning: trajectory cut off when rollout by epoch at \u001b[0m\u001b[1;36m1000.0\u001b[0m\u001b[32m steps.\u001b[0m\n"
      ]
     },
     "metadata": {},
     "output_type": "display_data"
    },
    {
     "data": {
      "text/html": [
       "<pre style=\"white-space:pre;overflow-x:auto;line-height:normal;font-family:Menlo,'DejaVu Sans Mono',consolas,'Courier New',monospace\"><span style=\"color: #008000; text-decoration-color: #008000\">Warning: trajectory cut off when rollout by epoch at </span><span style=\"color: #008080; text-decoration-color: #008080; font-weight: bold\">1000.0</span><span style=\"color: #008000; text-decoration-color: #008000\"> steps.</span>\n",
       "</pre>\n"
      ],
      "text/plain": [
       "\u001b[32mWarning: trajectory cut off when rollout by epoch at \u001b[0m\u001b[1;36m1000.0\u001b[0m\u001b[32m steps.\u001b[0m\n"
      ]
     },
     "metadata": {},
     "output_type": "display_data"
    },
    {
     "data": {
      "text/html": [
       "<pre style=\"white-space:pre;overflow-x:auto;line-height:normal;font-family:Menlo,'DejaVu Sans Mono',consolas,'Courier New',monospace\"></pre>\n"
      ],
      "text/plain": []
     },
     "metadata": {},
     "output_type": "display_data"
    },
    {
     "data": {
      "text/html": [
       "<pre style=\"white-space:pre;overflow-x:auto;line-height:normal;font-family:Menlo,'DejaVu Sans Mono',consolas,'Courier New',monospace\">\n",
       "</pre>\n"
      ],
      "text/plain": [
       "\n"
      ]
     },
     "metadata": {},
     "output_type": "display_data"
    },
    {
     "data": {
      "text/html": [
       "<pre style=\"white-space:pre;overflow-x:auto;line-height:normal;font-family:Menlo,'DejaVu Sans Mono',consolas,'Courier New',monospace\"><span style=\"color: #008000; text-decoration-color: #008000\">Early stopping at iter </span><span style=\"color: #008080; text-decoration-color: #008080; font-weight: bold\">23</span><span style=\"color: #008000; text-decoration-color: #008000\"> due to reaching max kl</span>\n",
       "</pre>\n"
      ],
      "text/plain": [
       "\u001b[32mEarly stopping at iter \u001b[0m\u001b[1;36m23\u001b[0m\u001b[32m due to reaching max kl\u001b[0m\n"
      ]
     },
     "metadata": {},
     "output_type": "display_data"
    },
    {
     "data": {
      "text/html": [
       "<pre style=\"white-space:pre;overflow-x:auto;line-height:normal;font-family:Menlo,'DejaVu Sans Mono',consolas,'Courier New',monospace\"></pre>\n"
      ],
      "text/plain": []
     },
     "metadata": {},
     "output_type": "display_data"
    },
    {
     "data": {
      "text/html": [
       "<pre style=\"white-space:pre;overflow-x:auto;line-height:normal;font-family:Menlo,'DejaVu Sans Mono',consolas,'Courier New',monospace\">\n",
       "</pre>\n"
      ],
      "text/plain": [
       "\n"
      ]
     },
     "metadata": {},
     "output_type": "display_data"
    },
    {
     "data": {
      "text/html": [
       "<pre style=\"white-space:pre;overflow-x:auto;line-height:normal;font-family:Menlo,'DejaVu Sans Mono',consolas,'Courier New',monospace\">┏━━━━━━━━━━━━━━━━━━━━━━━━━━━━━━━━┳━━━━━━━━━━━━━━━━━━━━━━━━┓\n",
       "┃<span style=\"font-weight: bold\"> Metrics                        </span>┃<span style=\"font-weight: bold\"> Value                  </span>┃\n",
       "┡━━━━━━━━━━━━━━━━━━━━━━━━━━━━━━━━╇━━━━━━━━━━━━━━━━━━━━━━━━┩\n",
       "│ Metrics/EpRet                  │ 4.431604385375977      │\n",
       "│ Metrics/EpCost                 │ 146.32000732421875     │\n",
       "│ Metrics/EpLen                  │ 1000.0                 │\n",
       "│ Train/Epoch                    │ 11.0                   │\n",
       "│ Train/Entropy                  │ 1.303610920906067      │\n",
       "│ Train/KL                       │ 0.021044930443167686   │\n",
       "│ Train/StopIter                 │ 23.0                   │\n",
       "│ Train/PolicyRatio/Mean         │ 0.999932050704956      │\n",
       "│ Train/PolicyRatio/Min          │ 0.9999321103096008     │\n",
       "│ Train/PolicyRatio/Max          │ 0.9999321103096008     │\n",
       "│ Train/PolicyRatio/Std          │ 0.020331090316176414   │\n",
       "│ Train/LR                       │ 0.00018000000272877514 │\n",
       "│ Train/PolicyStd                │ 0.8910818696022034     │\n",
       "│ TotalEnvSteps                  │ 240000.0               │\n",
       "│ Loss/Loss_pi                   │ -0.04634667560458183   │\n",
       "│ Loss/Loss_pi/Delta             │ -0.0029201358556747437 │\n",
       "│ Value/Adv                      │ 0.17784792184829712    │\n",
       "│ Loss/Loss_reward_critic        │ 0.016459215432405472   │\n",
       "│ Loss/Loss_reward_critic/Delta  │ -0.0006737858057022095 │\n",
       "│ Value/reward                   │ 0.32628047466278076    │\n",
       "│ Loss/Loss_cost_critic          │ 1.9590725898742676     │\n",
       "│ Loss/Loss_cost_critic/Delta    │ -0.04174995422363281   │\n",
       "│ Value/cost                     │ 12.774262428283691     │\n",
       "│ Time/Total                     │ 2060.94873046875       │\n",
       "│ Time/Rollout                   │ 63.292911529541016     │\n",
       "│ Time/Update                    │ 92.8589096069336       │\n",
       "│ Time/Epoch                     │ 156.15182495117188     │\n",
       "│ Time/FPS                       │ 128.08047485351562     │\n",
       "│ Metrics/LagrangeMultiplier/Mea │ 0.4234209358692169     │\n",
       "│ Metrics/LagrangeMultiplier/Min │ 0.4234209358692169     │\n",
       "│ Metrics/LagrangeMultiplier/Max │ 0.4234209358692169     │\n",
       "│ Metrics/LagrangeMultiplier/Std │ 0.0                    │\n",
       "└────────────────────────────────┴────────────────────────┘\n",
       "</pre>\n"
      ],
      "text/plain": [
       "┏━━━━━━━━━━━━━━━━━━━━━━━━━━━━━━━━┳━━━━━━━━━━━━━━━━━━━━━━━━┓\n",
       "┃\u001b[1m \u001b[0m\u001b[1mMetrics                       \u001b[0m\u001b[1m \u001b[0m┃\u001b[1m \u001b[0m\u001b[1mValue                 \u001b[0m\u001b[1m \u001b[0m┃\n",
       "┡━━━━━━━━━━━━━━━━━━━━━━━━━━━━━━━━╇━━━━━━━━━━━━━━━━━━━━━━━━┩\n",
       "│ Metrics/EpRet                  │ 4.431604385375977      │\n",
       "│ Metrics/EpCost                 │ 146.32000732421875     │\n",
       "│ Metrics/EpLen                  │ 1000.0                 │\n",
       "│ Train/Epoch                    │ 11.0                   │\n",
       "│ Train/Entropy                  │ 1.303610920906067      │\n",
       "│ Train/KL                       │ 0.021044930443167686   │\n",
       "│ Train/StopIter                 │ 23.0                   │\n",
       "│ Train/PolicyRatio/Mean         │ 0.999932050704956      │\n",
       "│ Train/PolicyRatio/Min          │ 0.9999321103096008     │\n",
       "│ Train/PolicyRatio/Max          │ 0.9999321103096008     │\n",
       "│ Train/PolicyRatio/Std          │ 0.020331090316176414   │\n",
       "│ Train/LR                       │ 0.00018000000272877514 │\n",
       "│ Train/PolicyStd                │ 0.8910818696022034     │\n",
       "│ TotalEnvSteps                  │ 240000.0               │\n",
       "│ Loss/Loss_pi                   │ -0.04634667560458183   │\n",
       "│ Loss/Loss_pi/Delta             │ -0.0029201358556747437 │\n",
       "│ Value/Adv                      │ 0.17784792184829712    │\n",
       "│ Loss/Loss_reward_critic        │ 0.016459215432405472   │\n",
       "│ Loss/Loss_reward_critic/Delta  │ -0.0006737858057022095 │\n",
       "│ Value/reward                   │ 0.32628047466278076    │\n",
       "│ Loss/Loss_cost_critic          │ 1.9590725898742676     │\n",
       "│ Loss/Loss_cost_critic/Delta    │ -0.04174995422363281   │\n",
       "│ Value/cost                     │ 12.774262428283691     │\n",
       "│ Time/Total                     │ 2060.94873046875       │\n",
       "│ Time/Rollout                   │ 63.292911529541016     │\n",
       "│ Time/Update                    │ 92.8589096069336       │\n",
       "│ Time/Epoch                     │ 156.15182495117188     │\n",
       "│ Time/FPS                       │ 128.08047485351562     │\n",
       "│ Metrics/LagrangeMultiplier/Mea │ 0.4234209358692169     │\n",
       "│ Metrics/LagrangeMultiplier/Min │ 0.4234209358692169     │\n",
       "│ Metrics/LagrangeMultiplier/Max │ 0.4234209358692169     │\n",
       "│ Metrics/LagrangeMultiplier/Std │ 0.0                    │\n",
       "└────────────────────────────────┴────────────────────────┘\n"
      ]
     },
     "metadata": {},
     "output_type": "display_data"
    },
    {
     "data": {
      "text/html": [
       "<pre style=\"white-space:pre;overflow-x:auto;line-height:normal;font-family:Menlo,'DejaVu Sans Mono',consolas,'Courier New',monospace\"><span style=\"color: #008000; text-decoration-color: #008000\">Warning: trajectory cut off when rollout by epoch at </span><span style=\"color: #008080; text-decoration-color: #008080; font-weight: bold\">1000.0</span><span style=\"color: #008000; text-decoration-color: #008000\"> steps.</span>\n",
       "</pre>\n"
      ],
      "text/plain": [
       "\u001b[32mWarning: trajectory cut off when rollout by epoch at \u001b[0m\u001b[1;36m1000.0\u001b[0m\u001b[32m steps.\u001b[0m\n"
      ]
     },
     "metadata": {},
     "output_type": "display_data"
    },
    {
     "data": {
      "text/html": [
       "<pre style=\"white-space:pre;overflow-x:auto;line-height:normal;font-family:Menlo,'DejaVu Sans Mono',consolas,'Courier New',monospace\"><span style=\"color: #008000; text-decoration-color: #008000\">Warning: trajectory cut off when rollout by epoch at </span><span style=\"color: #008080; text-decoration-color: #008080; font-weight: bold\">1000.0</span><span style=\"color: #008000; text-decoration-color: #008000\"> steps.</span>\n",
       "</pre>\n"
      ],
      "text/plain": [
       "\u001b[32mWarning: trajectory cut off when rollout by epoch at \u001b[0m\u001b[1;36m1000.0\u001b[0m\u001b[32m steps.\u001b[0m\n"
      ]
     },
     "metadata": {},
     "output_type": "display_data"
    },
    {
     "data": {
      "text/html": [
       "<pre style=\"white-space:pre;overflow-x:auto;line-height:normal;font-family:Menlo,'DejaVu Sans Mono',consolas,'Courier New',monospace\"><span style=\"color: #008000; text-decoration-color: #008000\">Warning: trajectory cut off when rollout by epoch at </span><span style=\"color: #008080; text-decoration-color: #008080; font-weight: bold\">1000.0</span><span style=\"color: #008000; text-decoration-color: #008000\"> steps.</span>\n",
       "</pre>\n"
      ],
      "text/plain": [
       "\u001b[32mWarning: trajectory cut off when rollout by epoch at \u001b[0m\u001b[1;36m1000.0\u001b[0m\u001b[32m steps.\u001b[0m\n"
      ]
     },
     "metadata": {},
     "output_type": "display_data"
    },
    {
     "data": {
      "text/html": [
       "<pre style=\"white-space:pre;overflow-x:auto;line-height:normal;font-family:Menlo,'DejaVu Sans Mono',consolas,'Courier New',monospace\"><span style=\"color: #008000; text-decoration-color: #008000\">Warning: trajectory cut off when rollout by epoch at </span><span style=\"color: #008080; text-decoration-color: #008080; font-weight: bold\">1000.0</span><span style=\"color: #008000; text-decoration-color: #008000\"> steps.</span>\n",
       "</pre>\n"
      ],
      "text/plain": [
       "\u001b[32mWarning: trajectory cut off when rollout by epoch at \u001b[0m\u001b[1;36m1000.0\u001b[0m\u001b[32m steps.\u001b[0m\n"
      ]
     },
     "metadata": {},
     "output_type": "display_data"
    },
    {
     "data": {
      "text/html": [
       "<pre style=\"white-space:pre;overflow-x:auto;line-height:normal;font-family:Menlo,'DejaVu Sans Mono',consolas,'Courier New',monospace\"></pre>\n"
      ],
      "text/plain": []
     },
     "metadata": {},
     "output_type": "display_data"
    },
    {
     "data": {
      "text/html": [
       "<pre style=\"white-space:pre;overflow-x:auto;line-height:normal;font-family:Menlo,'DejaVu Sans Mono',consolas,'Courier New',monospace\">\n",
       "</pre>\n"
      ],
      "text/plain": [
       "\n"
      ]
     },
     "metadata": {},
     "output_type": "display_data"
    },
    {
     "data": {
      "text/html": [
       "<pre style=\"white-space:pre;overflow-x:auto;line-height:normal;font-family:Menlo,'DejaVu Sans Mono',consolas,'Courier New',monospace\"><span style=\"color: #008000; text-decoration-color: #008000\">Early stopping at iter </span><span style=\"color: #008080; text-decoration-color: #008080; font-weight: bold\">18</span><span style=\"color: #008000; text-decoration-color: #008000\"> due to reaching max kl</span>\n",
       "</pre>\n"
      ],
      "text/plain": [
       "\u001b[32mEarly stopping at iter \u001b[0m\u001b[1;36m18\u001b[0m\u001b[32m due to reaching max kl\u001b[0m\n"
      ]
     },
     "metadata": {},
     "output_type": "display_data"
    },
    {
     "data": {
      "text/html": [
       "<pre style=\"white-space:pre;overflow-x:auto;line-height:normal;font-family:Menlo,'DejaVu Sans Mono',consolas,'Courier New',monospace\"></pre>\n"
      ],
      "text/plain": []
     },
     "metadata": {},
     "output_type": "display_data"
    },
    {
     "data": {
      "text/html": [
       "<pre style=\"white-space:pre;overflow-x:auto;line-height:normal;font-family:Menlo,'DejaVu Sans Mono',consolas,'Courier New',monospace\">\n",
       "</pre>\n"
      ],
      "text/plain": [
       "\n"
      ]
     },
     "metadata": {},
     "output_type": "display_data"
    },
    {
     "data": {
      "text/html": [
       "<pre style=\"white-space:pre;overflow-x:auto;line-height:normal;font-family:Menlo,'DejaVu Sans Mono',consolas,'Courier New',monospace\">┏━━━━━━━━━━━━━━━━━━━━━━━━━━━━━━━━┳━━━━━━━━━━━━━━━━━━━━━━━━┓\n",
       "┃<span style=\"font-weight: bold\"> Metrics                        </span>┃<span style=\"font-weight: bold\"> Value                  </span>┃\n",
       "┡━━━━━━━━━━━━━━━━━━━━━━━━━━━━━━━━╇━━━━━━━━━━━━━━━━━━━━━━━━┩\n",
       "│ Metrics/EpRet                  │ 4.784727096557617      │\n",
       "│ Metrics/EpCost                 │ 167.86000061035156     │\n",
       "│ Metrics/EpLen                  │ 1000.0                 │\n",
       "│ Train/Epoch                    │ 12.0                   │\n",
       "│ Train/Entropy                  │ 1.2900782823562622     │\n",
       "│ Train/KL                       │ 0.021080557256937027   │\n",
       "│ Train/StopIter                 │ 18.0                   │\n",
       "│ Train/PolicyRatio/Mean         │ 0.9984164834022522     │\n",
       "│ Train/PolicyRatio/Min          │ 0.9984164834022522     │\n",
       "│ Train/PolicyRatio/Max          │ 0.9984164834022522     │\n",
       "│ Train/PolicyRatio/Std          │ 0.01945335976779461    │\n",
       "│ Train/LR                       │ 0.00016999999934341758 │\n",
       "│ Train/PolicyStd                │ 0.8791001439094543     │\n",
       "│ TotalEnvSteps                  │ 260000.0               │\n",
       "│ Loss/Loss_pi                   │ -0.04841846227645874   │\n",
       "│ Loss/Loss_pi/Delta             │ -0.0020717866718769073 │\n",
       "│ Value/Adv                      │ 0.17763149738311768    │\n",
       "│ Loss/Loss_reward_critic        │ 0.018533125519752502   │\n",
       "│ Loss/Loss_reward_critic/Delta  │ 0.0020739100873470306  │\n",
       "│ Value/reward                   │ 0.4088456630706787     │\n",
       "│ Loss/Loss_cost_critic          │ 2.5019400119781494     │\n",
       "│ Loss/Loss_cost_critic/Delta    │ 0.5428674221038818     │\n",
       "│ Value/cost                     │ 13.863765716552734     │\n",
       "│ Time/Total                     │ 2198.43798828125       │\n",
       "│ Time/Rollout                   │ 61.69180679321289      │\n",
       "│ Time/Update                    │ 75.75859069824219      │\n",
       "│ Time/Epoch                     │ 137.4503936767578      │\n",
       "│ Time/FPS                       │ 145.5070343017578      │\n",
       "│ Metrics/LagrangeMultiplier/Mea │ 0.458818256855011      │\n",
       "│ Metrics/LagrangeMultiplier/Min │ 0.458818256855011      │\n",
       "│ Metrics/LagrangeMultiplier/Max │ 0.458818256855011      │\n",
       "│ Metrics/LagrangeMultiplier/Std │ 0.0                    │\n",
       "└────────────────────────────────┴────────────────────────┘\n",
       "</pre>\n"
      ],
      "text/plain": [
       "┏━━━━━━━━━━━━━━━━━━━━━━━━━━━━━━━━┳━━━━━━━━━━━━━━━━━━━━━━━━┓\n",
       "┃\u001b[1m \u001b[0m\u001b[1mMetrics                       \u001b[0m\u001b[1m \u001b[0m┃\u001b[1m \u001b[0m\u001b[1mValue                 \u001b[0m\u001b[1m \u001b[0m┃\n",
       "┡━━━━━━━━━━━━━━━━━━━━━━━━━━━━━━━━╇━━━━━━━━━━━━━━━━━━━━━━━━┩\n",
       "│ Metrics/EpRet                  │ 4.784727096557617      │\n",
       "│ Metrics/EpCost                 │ 167.86000061035156     │\n",
       "│ Metrics/EpLen                  │ 1000.0                 │\n",
       "│ Train/Epoch                    │ 12.0                   │\n",
       "│ Train/Entropy                  │ 1.2900782823562622     │\n",
       "│ Train/KL                       │ 0.021080557256937027   │\n",
       "│ Train/StopIter                 │ 18.0                   │\n",
       "│ Train/PolicyRatio/Mean         │ 0.9984164834022522     │\n",
       "│ Train/PolicyRatio/Min          │ 0.9984164834022522     │\n",
       "│ Train/PolicyRatio/Max          │ 0.9984164834022522     │\n",
       "│ Train/PolicyRatio/Std          │ 0.01945335976779461    │\n",
       "│ Train/LR                       │ 0.00016999999934341758 │\n",
       "│ Train/PolicyStd                │ 0.8791001439094543     │\n",
       "│ TotalEnvSteps                  │ 260000.0               │\n",
       "│ Loss/Loss_pi                   │ -0.04841846227645874   │\n",
       "│ Loss/Loss_pi/Delta             │ -0.0020717866718769073 │\n",
       "│ Value/Adv                      │ 0.17763149738311768    │\n",
       "│ Loss/Loss_reward_critic        │ 0.018533125519752502   │\n",
       "│ Loss/Loss_reward_critic/Delta  │ 0.0020739100873470306  │\n",
       "│ Value/reward                   │ 0.4088456630706787     │\n",
       "│ Loss/Loss_cost_critic          │ 2.5019400119781494     │\n",
       "│ Loss/Loss_cost_critic/Delta    │ 0.5428674221038818     │\n",
       "│ Value/cost                     │ 13.863765716552734     │\n",
       "│ Time/Total                     │ 2198.43798828125       │\n",
       "│ Time/Rollout                   │ 61.69180679321289      │\n",
       "│ Time/Update                    │ 75.75859069824219      │\n",
       "│ Time/Epoch                     │ 137.4503936767578      │\n",
       "│ Time/FPS                       │ 145.5070343017578      │\n",
       "│ Metrics/LagrangeMultiplier/Mea │ 0.458818256855011      │\n",
       "│ Metrics/LagrangeMultiplier/Min │ 0.458818256855011      │\n",
       "│ Metrics/LagrangeMultiplier/Max │ 0.458818256855011      │\n",
       "│ Metrics/LagrangeMultiplier/Std │ 0.0                    │\n",
       "└────────────────────────────────┴────────────────────────┘\n"
      ]
     },
     "metadata": {},
     "output_type": "display_data"
    },
    {
     "data": {
      "text/html": [
       "<pre style=\"white-space:pre;overflow-x:auto;line-height:normal;font-family:Menlo,'DejaVu Sans Mono',consolas,'Courier New',monospace\"><span style=\"color: #008000; text-decoration-color: #008000\">Warning: trajectory cut off when rollout by epoch at </span><span style=\"color: #008080; text-decoration-color: #008080; font-weight: bold\">1000.0</span><span style=\"color: #008000; text-decoration-color: #008000\"> steps.</span>\n",
       "</pre>\n"
      ],
      "text/plain": [
       "\u001b[32mWarning: trajectory cut off when rollout by epoch at \u001b[0m\u001b[1;36m1000.0\u001b[0m\u001b[32m steps.\u001b[0m\n"
      ]
     },
     "metadata": {},
     "output_type": "display_data"
    },
    {
     "data": {
      "text/html": [
       "<pre style=\"white-space:pre;overflow-x:auto;line-height:normal;font-family:Menlo,'DejaVu Sans Mono',consolas,'Courier New',monospace\"><span style=\"color: #008000; text-decoration-color: #008000\">Warning: trajectory cut off when rollout by epoch at </span><span style=\"color: #008080; text-decoration-color: #008080; font-weight: bold\">1000.0</span><span style=\"color: #008000; text-decoration-color: #008000\"> steps.</span>\n",
       "</pre>\n"
      ],
      "text/plain": [
       "\u001b[32mWarning: trajectory cut off when rollout by epoch at \u001b[0m\u001b[1;36m1000.0\u001b[0m\u001b[32m steps.\u001b[0m\n"
      ]
     },
     "metadata": {},
     "output_type": "display_data"
    },
    {
     "data": {
      "text/html": [
       "<pre style=\"white-space:pre;overflow-x:auto;line-height:normal;font-family:Menlo,'DejaVu Sans Mono',consolas,'Courier New',monospace\"><span style=\"color: #008000; text-decoration-color: #008000\">Warning: trajectory cut off when rollout by epoch at </span><span style=\"color: #008080; text-decoration-color: #008080; font-weight: bold\">1000.0</span><span style=\"color: #008000; text-decoration-color: #008000\"> steps.</span>\n",
       "</pre>\n"
      ],
      "text/plain": [
       "\u001b[32mWarning: trajectory cut off when rollout by epoch at \u001b[0m\u001b[1;36m1000.0\u001b[0m\u001b[32m steps.\u001b[0m\n"
      ]
     },
     "metadata": {},
     "output_type": "display_data"
    },
    {
     "data": {
      "text/html": [
       "<pre style=\"white-space:pre;overflow-x:auto;line-height:normal;font-family:Menlo,'DejaVu Sans Mono',consolas,'Courier New',monospace\"><span style=\"color: #008000; text-decoration-color: #008000\">Warning: trajectory cut off when rollout by epoch at </span><span style=\"color: #008080; text-decoration-color: #008080; font-weight: bold\">1000.0</span><span style=\"color: #008000; text-decoration-color: #008000\"> steps.</span>\n",
       "</pre>\n"
      ],
      "text/plain": [
       "\u001b[32mWarning: trajectory cut off when rollout by epoch at \u001b[0m\u001b[1;36m1000.0\u001b[0m\u001b[32m steps.\u001b[0m\n"
      ]
     },
     "metadata": {},
     "output_type": "display_data"
    },
    {
     "data": {
      "text/html": [
       "<pre style=\"white-space:pre;overflow-x:auto;line-height:normal;font-family:Menlo,'DejaVu Sans Mono',consolas,'Courier New',monospace\"></pre>\n"
      ],
      "text/plain": []
     },
     "metadata": {},
     "output_type": "display_data"
    },
    {
     "data": {
      "text/html": [
       "<pre style=\"white-space:pre;overflow-x:auto;line-height:normal;font-family:Menlo,'DejaVu Sans Mono',consolas,'Courier New',monospace\">\n",
       "</pre>\n"
      ],
      "text/plain": [
       "\n"
      ]
     },
     "metadata": {},
     "output_type": "display_data"
    },
    {
     "data": {
      "text/html": [
       "<pre style=\"white-space:pre;overflow-x:auto;line-height:normal;font-family:Menlo,'DejaVu Sans Mono',consolas,'Courier New',monospace\"><span style=\"color: #008000; text-decoration-color: #008000\">Early stopping at iter </span><span style=\"color: #008080; text-decoration-color: #008080; font-weight: bold\">22</span><span style=\"color: #008000; text-decoration-color: #008000\"> due to reaching max kl</span>\n",
       "</pre>\n"
      ],
      "text/plain": [
       "\u001b[32mEarly stopping at iter \u001b[0m\u001b[1;36m22\u001b[0m\u001b[32m due to reaching max kl\u001b[0m\n"
      ]
     },
     "metadata": {},
     "output_type": "display_data"
    },
    {
     "data": {
      "text/html": [
       "<pre style=\"white-space:pre;overflow-x:auto;line-height:normal;font-family:Menlo,'DejaVu Sans Mono',consolas,'Courier New',monospace\"></pre>\n"
      ],
      "text/plain": []
     },
     "metadata": {},
     "output_type": "display_data"
    },
    {
     "data": {
      "text/html": [
       "<pre style=\"white-space:pre;overflow-x:auto;line-height:normal;font-family:Menlo,'DejaVu Sans Mono',consolas,'Courier New',monospace\">\n",
       "</pre>\n"
      ],
      "text/plain": [
       "\n"
      ]
     },
     "metadata": {},
     "output_type": "display_data"
    },
    {
     "data": {
      "text/html": [
       "<pre style=\"white-space:pre;overflow-x:auto;line-height:normal;font-family:Menlo,'DejaVu Sans Mono',consolas,'Courier New',monospace\">┏━━━━━━━━━━━━━━━━━━━━━━━━━━━━━━━━┳━━━━━━━━━━━━━━━━━━━━━━━━┓\n",
       "┃<span style=\"font-weight: bold\"> Metrics                        </span>┃<span style=\"font-weight: bold\"> Value                  </span>┃\n",
       "┡━━━━━━━━━━━━━━━━━━━━━━━━━━━━━━━━╇━━━━━━━━━━━━━━━━━━━━━━━━┩\n",
       "│ Metrics/EpRet                  │ 5.258294582366943      │\n",
       "│ Metrics/EpCost                 │ 161.0399932861328      │\n",
       "│ Metrics/EpLen                  │ 1000.0                 │\n",
       "│ Train/Epoch                    │ 13.0                   │\n",
       "│ Train/Entropy                  │ 1.281769037246704      │\n",
       "│ Train/KL                       │ 0.020604655146598816   │\n",
       "│ Train/StopIter                 │ 22.0                   │\n",
       "│ Train/PolicyRatio/Mean         │ 0.9994059205055237     │\n",
       "│ Train/PolicyRatio/Min          │ 0.9994059205055237     │\n",
       "│ Train/PolicyRatio/Max          │ 0.9994059205055237     │\n",
       "│ Train/PolicyRatio/Std          │ 0.019936900585889816   │\n",
       "│ Train/LR                       │ 0.00015999999595806003 │\n",
       "│ Train/PolicyStd                │ 0.8718386292457581     │\n",
       "│ TotalEnvSteps                  │ 280000.0               │\n",
       "│ Loss/Loss_pi                   │ -0.055189795792102814  │\n",
       "│ Loss/Loss_pi/Delta             │ -0.0067713335156440735 │\n",
       "│ Value/Adv                      │ -0.12848475575447083   │\n",
       "│ Loss/Loss_reward_critic        │ 0.018436316400766373   │\n",
       "│ Loss/Loss_reward_critic/Delta  │ -9.680911898612976e-05 │\n",
       "│ Value/reward                   │ 0.41303783655166626    │\n",
       "│ Loss/Loss_cost_critic          │ 2.2809107303619385     │\n",
       "│ Loss/Loss_cost_critic/Delta    │ -0.22102928161621094   │\n",
       "│ Value/cost                     │ 14.521015167236328     │\n",
       "│ Time/Total                     │ 2363.835693359375      │\n",
       "│ Time/Rollout                   │ 67.77503967285156      │\n",
       "│ Time/Update                    │ 97.57200622558594      │\n",
       "│ Time/Epoch                     │ 165.3470458984375      │\n",
       "│ Time/FPS                       │ 120.95771026611328     │\n",
       "│ Metrics/LagrangeMultiplier/Mea │ 0.49430161714553833    │\n",
       "│ Metrics/LagrangeMultiplier/Min │ 0.49430161714553833    │\n",
       "│ Metrics/LagrangeMultiplier/Max │ 0.49430161714553833    │\n",
       "│ Metrics/LagrangeMultiplier/Std │ 0.0                    │\n",
       "└────────────────────────────────┴────────────────────────┘\n",
       "</pre>\n"
      ],
      "text/plain": [
       "┏━━━━━━━━━━━━━━━━━━━━━━━━━━━━━━━━┳━━━━━━━━━━━━━━━━━━━━━━━━┓\n",
       "┃\u001b[1m \u001b[0m\u001b[1mMetrics                       \u001b[0m\u001b[1m \u001b[0m┃\u001b[1m \u001b[0m\u001b[1mValue                 \u001b[0m\u001b[1m \u001b[0m┃\n",
       "┡━━━━━━━━━━━━━━━━━━━━━━━━━━━━━━━━╇━━━━━━━━━━━━━━━━━━━━━━━━┩\n",
       "│ Metrics/EpRet                  │ 5.258294582366943      │\n",
       "│ Metrics/EpCost                 │ 161.0399932861328      │\n",
       "│ Metrics/EpLen                  │ 1000.0                 │\n",
       "│ Train/Epoch                    │ 13.0                   │\n",
       "│ Train/Entropy                  │ 1.281769037246704      │\n",
       "│ Train/KL                       │ 0.020604655146598816   │\n",
       "│ Train/StopIter                 │ 22.0                   │\n",
       "│ Train/PolicyRatio/Mean         │ 0.9994059205055237     │\n",
       "│ Train/PolicyRatio/Min          │ 0.9994059205055237     │\n",
       "│ Train/PolicyRatio/Max          │ 0.9994059205055237     │\n",
       "│ Train/PolicyRatio/Std          │ 0.019936900585889816   │\n",
       "│ Train/LR                       │ 0.00015999999595806003 │\n",
       "│ Train/PolicyStd                │ 0.8718386292457581     │\n",
       "│ TotalEnvSteps                  │ 280000.0               │\n",
       "│ Loss/Loss_pi                   │ -0.055189795792102814  │\n",
       "│ Loss/Loss_pi/Delta             │ -0.0067713335156440735 │\n",
       "│ Value/Adv                      │ -0.12848475575447083   │\n",
       "│ Loss/Loss_reward_critic        │ 0.018436316400766373   │\n",
       "│ Loss/Loss_reward_critic/Delta  │ -9.680911898612976e-05 │\n",
       "│ Value/reward                   │ 0.41303783655166626    │\n",
       "│ Loss/Loss_cost_critic          │ 2.2809107303619385     │\n",
       "│ Loss/Loss_cost_critic/Delta    │ -0.22102928161621094   │\n",
       "│ Value/cost                     │ 14.521015167236328     │\n",
       "│ Time/Total                     │ 2363.835693359375      │\n",
       "│ Time/Rollout                   │ 67.77503967285156      │\n",
       "│ Time/Update                    │ 97.57200622558594      │\n",
       "│ Time/Epoch                     │ 165.3470458984375      │\n",
       "│ Time/FPS                       │ 120.95771026611328     │\n",
       "│ Metrics/LagrangeMultiplier/Mea │ 0.49430161714553833    │\n",
       "│ Metrics/LagrangeMultiplier/Min │ 0.49430161714553833    │\n",
       "│ Metrics/LagrangeMultiplier/Max │ 0.49430161714553833    │\n",
       "│ Metrics/LagrangeMultiplier/Std │ 0.0                    │\n",
       "└────────────────────────────────┴────────────────────────┘\n"
      ]
     },
     "metadata": {},
     "output_type": "display_data"
    },
    {
     "data": {
      "text/html": [
       "<pre style=\"white-space:pre;overflow-x:auto;line-height:normal;font-family:Menlo,'DejaVu Sans Mono',consolas,'Courier New',monospace\"><span style=\"color: #008000; text-decoration-color: #008000\">Warning: trajectory cut off when rollout by epoch at </span><span style=\"color: #008080; text-decoration-color: #008080; font-weight: bold\">1000.0</span><span style=\"color: #008000; text-decoration-color: #008000\"> steps.</span>\n",
       "</pre>\n"
      ],
      "text/plain": [
       "\u001b[32mWarning: trajectory cut off when rollout by epoch at \u001b[0m\u001b[1;36m1000.0\u001b[0m\u001b[32m steps.\u001b[0m\n"
      ]
     },
     "metadata": {},
     "output_type": "display_data"
    },
    {
     "data": {
      "text/html": [
       "<pre style=\"white-space:pre;overflow-x:auto;line-height:normal;font-family:Menlo,'DejaVu Sans Mono',consolas,'Courier New',monospace\"><span style=\"color: #008000; text-decoration-color: #008000\">Warning: trajectory cut off when rollout by epoch at </span><span style=\"color: #008080; text-decoration-color: #008080; font-weight: bold\">1000.0</span><span style=\"color: #008000; text-decoration-color: #008000\"> steps.</span>\n",
       "</pre>\n"
      ],
      "text/plain": [
       "\u001b[32mWarning: trajectory cut off when rollout by epoch at \u001b[0m\u001b[1;36m1000.0\u001b[0m\u001b[32m steps.\u001b[0m\n"
      ]
     },
     "metadata": {},
     "output_type": "display_data"
    },
    {
     "data": {
      "text/html": [
       "<pre style=\"white-space:pre;overflow-x:auto;line-height:normal;font-family:Menlo,'DejaVu Sans Mono',consolas,'Courier New',monospace\"><span style=\"color: #008000; text-decoration-color: #008000\">Warning: trajectory cut off when rollout by epoch at </span><span style=\"color: #008080; text-decoration-color: #008080; font-weight: bold\">1000.0</span><span style=\"color: #008000; text-decoration-color: #008000\"> steps.</span>\n",
       "</pre>\n"
      ],
      "text/plain": [
       "\u001b[32mWarning: trajectory cut off when rollout by epoch at \u001b[0m\u001b[1;36m1000.0\u001b[0m\u001b[32m steps.\u001b[0m\n"
      ]
     },
     "metadata": {},
     "output_type": "display_data"
    },
    {
     "data": {
      "text/html": [
       "<pre style=\"white-space:pre;overflow-x:auto;line-height:normal;font-family:Menlo,'DejaVu Sans Mono',consolas,'Courier New',monospace\"><span style=\"color: #008000; text-decoration-color: #008000\">Warning: trajectory cut off when rollout by epoch at </span><span style=\"color: #008080; text-decoration-color: #008080; font-weight: bold\">1000.0</span><span style=\"color: #008000; text-decoration-color: #008000\"> steps.</span>\n",
       "</pre>\n"
      ],
      "text/plain": [
       "\u001b[32mWarning: trajectory cut off when rollout by epoch at \u001b[0m\u001b[1;36m1000.0\u001b[0m\u001b[32m steps.\u001b[0m\n"
      ]
     },
     "metadata": {},
     "output_type": "display_data"
    },
    {
     "data": {
      "text/html": [
       "<pre style=\"white-space:pre;overflow-x:auto;line-height:normal;font-family:Menlo,'DejaVu Sans Mono',consolas,'Courier New',monospace\"></pre>\n"
      ],
      "text/plain": []
     },
     "metadata": {},
     "output_type": "display_data"
    },
    {
     "data": {
      "text/html": [
       "<pre style=\"white-space:pre;overflow-x:auto;line-height:normal;font-family:Menlo,'DejaVu Sans Mono',consolas,'Courier New',monospace\">\n",
       "</pre>\n"
      ],
      "text/plain": [
       "\n"
      ]
     },
     "metadata": {},
     "output_type": "display_data"
    },
    {
     "data": {
      "text/html": [
       "<pre style=\"white-space:pre;overflow-x:auto;line-height:normal;font-family:Menlo,'DejaVu Sans Mono',consolas,'Courier New',monospace\"><span style=\"color: #008000; text-decoration-color: #008000\">Early stopping at iter </span><span style=\"color: #008080; text-decoration-color: #008080; font-weight: bold\">24</span><span style=\"color: #008000; text-decoration-color: #008000\"> due to reaching max kl</span>\n",
       "</pre>\n"
      ],
      "text/plain": [
       "\u001b[32mEarly stopping at iter \u001b[0m\u001b[1;36m24\u001b[0m\u001b[32m due to reaching max kl\u001b[0m\n"
      ]
     },
     "metadata": {},
     "output_type": "display_data"
    },
    {
     "data": {
      "text/html": [
       "<pre style=\"white-space:pre;overflow-x:auto;line-height:normal;font-family:Menlo,'DejaVu Sans Mono',consolas,'Courier New',monospace\"></pre>\n"
      ],
      "text/plain": []
     },
     "metadata": {},
     "output_type": "display_data"
    },
    {
     "data": {
      "text/html": [
       "<pre style=\"white-space:pre;overflow-x:auto;line-height:normal;font-family:Menlo,'DejaVu Sans Mono',consolas,'Courier New',monospace\">\n",
       "</pre>\n"
      ],
      "text/plain": [
       "\n"
      ]
     },
     "metadata": {},
     "output_type": "display_data"
    },
    {
     "data": {
      "text/html": [
       "<pre style=\"white-space:pre;overflow-x:auto;line-height:normal;font-family:Menlo,'DejaVu Sans Mono',consolas,'Courier New',monospace\">┏━━━━━━━━━━━━━━━━━━━━━━━━━━━━━━━━┳━━━━━━━━━━━━━━━━━━━━━━━━┓\n",
       "┃<span style=\"font-weight: bold\"> Metrics                        </span>┃<span style=\"font-weight: bold\"> Value                  </span>┃\n",
       "┡━━━━━━━━━━━━━━━━━━━━━━━━━━━━━━━━╇━━━━━━━━━━━━━━━━━━━━━━━━┩\n",
       "│ Metrics/EpRet                  │ 5.400595188140869      │\n",
       "│ Metrics/EpCost                 │ 160.66000366210938     │\n",
       "│ Metrics/EpLen                  │ 1000.0                 │\n",
       "│ Train/Epoch                    │ 14.0                   │\n",
       "│ Train/Entropy                  │ 1.2765045166015625     │\n",
       "│ Train/KL                       │ 0.020535601302981377   │\n",
       "│ Train/StopIter                 │ 24.0                   │\n",
       "│ Train/PolicyRatio/Mean         │ 1.0025116205215454     │\n",
       "│ Train/PolicyRatio/Min          │ 1.0025116205215454     │\n",
       "│ Train/PolicyRatio/Max          │ 1.0025116205215454     │\n",
       "│ Train/PolicyRatio/Std          │ 0.020484333857893944   │\n",
       "│ Train/LR                       │ 0.0001500000071246177  │\n",
       "│ Train/PolicyStd                │ 0.8672975301742554     │\n",
       "│ TotalEnvSteps                  │ 300000.0               │\n",
       "│ Loss/Loss_pi                   │ -0.05683455243706703   │\n",
       "│ Loss/Loss_pi/Delta             │ -0.0016447566449642181 │\n",
       "│ Value/Adv                      │ 0.09335453808307648    │\n",
       "│ Loss/Loss_reward_critic        │ 0.01959458738565445    │\n",
       "│ Loss/Loss_reward_critic/Delta  │ 0.0011582709848880768  │\n",
       "│ Value/reward                   │ 0.4286113381385803     │\n",
       "│ Loss/Loss_cost_critic          │ 2.075906753540039      │\n",
       "│ Loss/Loss_cost_critic/Delta    │ -0.20500397682189941   │\n",
       "│ Value/cost                     │ 15.534821510314941     │\n",
       "│ Time/Total                     │ 2535.16796875          │\n",
       "│ Time/Rollout                   │ 66.96979522705078      │\n",
       "│ Time/Update                    │ 104.3216323852539      │\n",
       "│ Time/Epoch                     │ 171.2914276123047      │\n",
       "│ Time/FPS                       │ 116.76007843017578     │\n",
       "│ Metrics/LagrangeMultiplier/Mea │ 0.5298481583595276     │\n",
       "│ Metrics/LagrangeMultiplier/Min │ 0.5298481583595276     │\n",
       "│ Metrics/LagrangeMultiplier/Max │ 0.5298481583595276     │\n",
       "│ Metrics/LagrangeMultiplier/Std │ 0.0                    │\n",
       "└────────────────────────────────┴────────────────────────┘\n",
       "</pre>\n"
      ],
      "text/plain": [
       "┏━━━━━━━━━━━━━━━━━━━━━━━━━━━━━━━━┳━━━━━━━━━━━━━━━━━━━━━━━━┓\n",
       "┃\u001b[1m \u001b[0m\u001b[1mMetrics                       \u001b[0m\u001b[1m \u001b[0m┃\u001b[1m \u001b[0m\u001b[1mValue                 \u001b[0m\u001b[1m \u001b[0m┃\n",
       "┡━━━━━━━━━━━━━━━━━━━━━━━━━━━━━━━━╇━━━━━━━━━━━━━━━━━━━━━━━━┩\n",
       "│ Metrics/EpRet                  │ 5.400595188140869      │\n",
       "│ Metrics/EpCost                 │ 160.66000366210938     │\n",
       "│ Metrics/EpLen                  │ 1000.0                 │\n",
       "│ Train/Epoch                    │ 14.0                   │\n",
       "│ Train/Entropy                  │ 1.2765045166015625     │\n",
       "│ Train/KL                       │ 0.020535601302981377   │\n",
       "│ Train/StopIter                 │ 24.0                   │\n",
       "│ Train/PolicyRatio/Mean         │ 1.0025116205215454     │\n",
       "│ Train/PolicyRatio/Min          │ 1.0025116205215454     │\n",
       "│ Train/PolicyRatio/Max          │ 1.0025116205215454     │\n",
       "│ Train/PolicyRatio/Std          │ 0.020484333857893944   │\n",
       "│ Train/LR                       │ 0.0001500000071246177  │\n",
       "│ Train/PolicyStd                │ 0.8672975301742554     │\n",
       "│ TotalEnvSteps                  │ 300000.0               │\n",
       "│ Loss/Loss_pi                   │ -0.05683455243706703   │\n",
       "│ Loss/Loss_pi/Delta             │ -0.0016447566449642181 │\n",
       "│ Value/Adv                      │ 0.09335453808307648    │\n",
       "│ Loss/Loss_reward_critic        │ 0.01959458738565445    │\n",
       "│ Loss/Loss_reward_critic/Delta  │ 0.0011582709848880768  │\n",
       "│ Value/reward                   │ 0.4286113381385803     │\n",
       "│ Loss/Loss_cost_critic          │ 2.075906753540039      │\n",
       "│ Loss/Loss_cost_critic/Delta    │ -0.20500397682189941   │\n",
       "│ Value/cost                     │ 15.534821510314941     │\n",
       "│ Time/Total                     │ 2535.16796875          │\n",
       "│ Time/Rollout                   │ 66.96979522705078      │\n",
       "│ Time/Update                    │ 104.3216323852539      │\n",
       "│ Time/Epoch                     │ 171.2914276123047      │\n",
       "│ Time/FPS                       │ 116.76007843017578     │\n",
       "│ Metrics/LagrangeMultiplier/Mea │ 0.5298481583595276     │\n",
       "│ Metrics/LagrangeMultiplier/Min │ 0.5298481583595276     │\n",
       "│ Metrics/LagrangeMultiplier/Max │ 0.5298481583595276     │\n",
       "│ Metrics/LagrangeMultiplier/Std │ 0.0                    │\n",
       "└────────────────────────────────┴────────────────────────┘\n"
      ]
     },
     "metadata": {},
     "output_type": "display_data"
    },
    {
     "data": {
      "text/html": [
       "<pre style=\"white-space:pre;overflow-x:auto;line-height:normal;font-family:Menlo,'DejaVu Sans Mono',consolas,'Courier New',monospace\"><span style=\"color: #008000; text-decoration-color: #008000\">Warning: trajectory cut off when rollout by epoch at </span><span style=\"color: #008080; text-decoration-color: #008080; font-weight: bold\">1000.0</span><span style=\"color: #008000; text-decoration-color: #008000\"> steps.</span>\n",
       "</pre>\n"
      ],
      "text/plain": [
       "\u001b[32mWarning: trajectory cut off when rollout by epoch at \u001b[0m\u001b[1;36m1000.0\u001b[0m\u001b[32m steps.\u001b[0m\n"
      ]
     },
     "metadata": {},
     "output_type": "display_data"
    },
    {
     "data": {
      "text/html": [
       "<pre style=\"white-space:pre;overflow-x:auto;line-height:normal;font-family:Menlo,'DejaVu Sans Mono',consolas,'Courier New',monospace\"><span style=\"color: #008000; text-decoration-color: #008000\">Warning: trajectory cut off when rollout by epoch at </span><span style=\"color: #008080; text-decoration-color: #008080; font-weight: bold\">1000.0</span><span style=\"color: #008000; text-decoration-color: #008000\"> steps.</span>\n",
       "</pre>\n"
      ],
      "text/plain": [
       "\u001b[32mWarning: trajectory cut off when rollout by epoch at \u001b[0m\u001b[1;36m1000.0\u001b[0m\u001b[32m steps.\u001b[0m\n"
      ]
     },
     "metadata": {},
     "output_type": "display_data"
    },
    {
     "data": {
      "text/html": [
       "<pre style=\"white-space:pre;overflow-x:auto;line-height:normal;font-family:Menlo,'DejaVu Sans Mono',consolas,'Courier New',monospace\"><span style=\"color: #008000; text-decoration-color: #008000\">Warning: trajectory cut off when rollout by epoch at </span><span style=\"color: #008080; text-decoration-color: #008080; font-weight: bold\">1000.0</span><span style=\"color: #008000; text-decoration-color: #008000\"> steps.</span>\n",
       "</pre>\n"
      ],
      "text/plain": [
       "\u001b[32mWarning: trajectory cut off when rollout by epoch at \u001b[0m\u001b[1;36m1000.0\u001b[0m\u001b[32m steps.\u001b[0m\n"
      ]
     },
     "metadata": {},
     "output_type": "display_data"
    },
    {
     "data": {
      "text/html": [
       "<pre style=\"white-space:pre;overflow-x:auto;line-height:normal;font-family:Menlo,'DejaVu Sans Mono',consolas,'Courier New',monospace\"><span style=\"color: #008000; text-decoration-color: #008000\">Warning: trajectory cut off when rollout by epoch at </span><span style=\"color: #008080; text-decoration-color: #008080; font-weight: bold\">1000.0</span><span style=\"color: #008000; text-decoration-color: #008000\"> steps.</span>\n",
       "</pre>\n"
      ],
      "text/plain": [
       "\u001b[32mWarning: trajectory cut off when rollout by epoch at \u001b[0m\u001b[1;36m1000.0\u001b[0m\u001b[32m steps.\u001b[0m\n"
      ]
     },
     "metadata": {},
     "output_type": "display_data"
    },
    {
     "data": {
      "text/html": [
       "<pre style=\"white-space:pre;overflow-x:auto;line-height:normal;font-family:Menlo,'DejaVu Sans Mono',consolas,'Courier New',monospace\"></pre>\n"
      ],
      "text/plain": []
     },
     "metadata": {},
     "output_type": "display_data"
    },
    {
     "data": {
      "text/html": [
       "<pre style=\"white-space:pre;overflow-x:auto;line-height:normal;font-family:Menlo,'DejaVu Sans Mono',consolas,'Courier New',monospace\">\n",
       "</pre>\n"
      ],
      "text/plain": [
       "\n"
      ]
     },
     "metadata": {},
     "output_type": "display_data"
    },
    {
     "data": {
      "text/html": [
       "<pre style=\"white-space:pre;overflow-x:auto;line-height:normal;font-family:Menlo,'DejaVu Sans Mono',consolas,'Courier New',monospace\"><span style=\"color: #008000; text-decoration-color: #008000\">Early stopping at iter </span><span style=\"color: #008080; text-decoration-color: #008080; font-weight: bold\">23</span><span style=\"color: #008000; text-decoration-color: #008000\"> due to reaching max kl</span>\n",
       "</pre>\n"
      ],
      "text/plain": [
       "\u001b[32mEarly stopping at iter \u001b[0m\u001b[1;36m23\u001b[0m\u001b[32m due to reaching max kl\u001b[0m\n"
      ]
     },
     "metadata": {},
     "output_type": "display_data"
    },
    {
     "data": {
      "text/html": [
       "<pre style=\"white-space:pre;overflow-x:auto;line-height:normal;font-family:Menlo,'DejaVu Sans Mono',consolas,'Courier New',monospace\"></pre>\n"
      ],
      "text/plain": []
     },
     "metadata": {},
     "output_type": "display_data"
    },
    {
     "data": {
      "text/html": [
       "<pre style=\"white-space:pre;overflow-x:auto;line-height:normal;font-family:Menlo,'DejaVu Sans Mono',consolas,'Courier New',monospace\">\n",
       "</pre>\n"
      ],
      "text/plain": [
       "\n"
      ]
     },
     "metadata": {},
     "output_type": "display_data"
    },
    {
     "data": {
      "text/html": [
       "<pre style=\"white-space:pre;overflow-x:auto;line-height:normal;font-family:Menlo,'DejaVu Sans Mono',consolas,'Courier New',monospace\">┏━━━━━━━━━━━━━━━━━━━━━━━━━━━━━━━━┳━━━━━━━━━━━━━━━━━━━━━━━━┓\n",
       "┃<span style=\"font-weight: bold\"> Metrics                        </span>┃<span style=\"font-weight: bold\"> Value                  </span>┃\n",
       "┡━━━━━━━━━━━━━━━━━━━━━━━━━━━━━━━━╇━━━━━━━━━━━━━━━━━━━━━━━━┩\n",
       "│ Metrics/EpRet                  │ 5.484216213226318      │\n",
       "│ Metrics/EpCost                 │ 144.0                  │\n",
       "│ Metrics/EpLen                  │ 1000.0                 │\n",
       "│ Train/Epoch                    │ 15.0                   │\n",
       "│ Train/Entropy                  │ 1.2658072710037231     │\n",
       "│ Train/KL                       │ 0.020259015262126923   │\n",
       "│ Train/StopIter                 │ 23.0                   │\n",
       "│ Train/PolicyRatio/Mean         │ 1.0010167360305786     │\n",
       "│ Train/PolicyRatio/Min          │ 1.0010167360305786     │\n",
       "│ Train/PolicyRatio/Max          │ 1.0010167360305786     │\n",
       "│ Train/PolicyRatio/Std          │ 0.02041294425725937    │\n",
       "│ Train/LR                       │ 0.00014000000373926014 │\n",
       "│ Train/PolicyStd                │ 0.8580390810966492     │\n",
       "│ TotalEnvSteps                  │ 320000.0               │\n",
       "│ Loss/Loss_pi                   │ -0.05816061049699783   │\n",
       "│ Loss/Loss_pi/Delta             │ -0.0013260580599308014 │\n",
       "│ Value/Adv                      │ -0.08999795466661453   │\n",
       "│ Loss/Loss_reward_critic        │ 0.019784454256296158   │\n",
       "│ Loss/Loss_reward_critic/Delta  │ 0.00018986687064170837 │\n",
       "│ Value/reward                   │ 0.5505563020706177     │\n",
       "│ Loss/Loss_cost_critic          │ 1.8355560302734375     │\n",
       "│ Loss/Loss_cost_critic/Delta    │ -0.24035072326660156   │\n",
       "│ Value/cost                     │ 15.652087211608887     │\n",
       "│ Time/Total                     │ 2706.474365234375      │\n",
       "│ Time/Rollout                   │ 73.21868896484375      │\n",
       "│ Time/Update                    │ 98.04966735839844      │\n",
       "│ Time/Epoch                     │ 171.2683563232422      │\n",
       "│ Time/FPS                       │ 116.77580261230469     │\n",
       "│ Metrics/LagrangeMultiplier/Mea │ 0.5651750564575195     │\n",
       "│ Metrics/LagrangeMultiplier/Min │ 0.5651750564575195     │\n",
       "│ Metrics/LagrangeMultiplier/Max │ 0.5651750564575195     │\n",
       "│ Metrics/LagrangeMultiplier/Std │ 0.0                    │\n",
       "└────────────────────────────────┴────────────────────────┘\n",
       "</pre>\n"
      ],
      "text/plain": [
       "┏━━━━━━━━━━━━━━━━━━━━━━━━━━━━━━━━┳━━━━━━━━━━━━━━━━━━━━━━━━┓\n",
       "┃\u001b[1m \u001b[0m\u001b[1mMetrics                       \u001b[0m\u001b[1m \u001b[0m┃\u001b[1m \u001b[0m\u001b[1mValue                 \u001b[0m\u001b[1m \u001b[0m┃\n",
       "┡━━━━━━━━━━━━━━━━━━━━━━━━━━━━━━━━╇━━━━━━━━━━━━━━━━━━━━━━━━┩\n",
       "│ Metrics/EpRet                  │ 5.484216213226318      │\n",
       "│ Metrics/EpCost                 │ 144.0                  │\n",
       "│ Metrics/EpLen                  │ 1000.0                 │\n",
       "│ Train/Epoch                    │ 15.0                   │\n",
       "│ Train/Entropy                  │ 1.2658072710037231     │\n",
       "│ Train/KL                       │ 0.020259015262126923   │\n",
       "│ Train/StopIter                 │ 23.0                   │\n",
       "│ Train/PolicyRatio/Mean         │ 1.0010167360305786     │\n",
       "│ Train/PolicyRatio/Min          │ 1.0010167360305786     │\n",
       "│ Train/PolicyRatio/Max          │ 1.0010167360305786     │\n",
       "│ Train/PolicyRatio/Std          │ 0.02041294425725937    │\n",
       "│ Train/LR                       │ 0.00014000000373926014 │\n",
       "│ Train/PolicyStd                │ 0.8580390810966492     │\n",
       "│ TotalEnvSteps                  │ 320000.0               │\n",
       "│ Loss/Loss_pi                   │ -0.05816061049699783   │\n",
       "│ Loss/Loss_pi/Delta             │ -0.0013260580599308014 │\n",
       "│ Value/Adv                      │ -0.08999795466661453   │\n",
       "│ Loss/Loss_reward_critic        │ 0.019784454256296158   │\n",
       "│ Loss/Loss_reward_critic/Delta  │ 0.00018986687064170837 │\n",
       "│ Value/reward                   │ 0.5505563020706177     │\n",
       "│ Loss/Loss_cost_critic          │ 1.8355560302734375     │\n",
       "│ Loss/Loss_cost_critic/Delta    │ -0.24035072326660156   │\n",
       "│ Value/cost                     │ 15.652087211608887     │\n",
       "│ Time/Total                     │ 2706.474365234375      │\n",
       "│ Time/Rollout                   │ 73.21868896484375      │\n",
       "│ Time/Update                    │ 98.04966735839844      │\n",
       "│ Time/Epoch                     │ 171.2683563232422      │\n",
       "│ Time/FPS                       │ 116.77580261230469     │\n",
       "│ Metrics/LagrangeMultiplier/Mea │ 0.5651750564575195     │\n",
       "│ Metrics/LagrangeMultiplier/Min │ 0.5651750564575195     │\n",
       "│ Metrics/LagrangeMultiplier/Max │ 0.5651750564575195     │\n",
       "│ Metrics/LagrangeMultiplier/Std │ 0.0                    │\n",
       "└────────────────────────────────┴────────────────────────┘\n"
      ]
     },
     "metadata": {},
     "output_type": "display_data"
    },
    {
     "data": {
      "text/html": [
       "<pre style=\"white-space:pre;overflow-x:auto;line-height:normal;font-family:Menlo,'DejaVu Sans Mono',consolas,'Courier New',monospace\"><span style=\"color: #008000; text-decoration-color: #008000\">Warning: trajectory cut off when rollout by epoch at </span><span style=\"color: #008080; text-decoration-color: #008080; font-weight: bold\">1000.0</span><span style=\"color: #008000; text-decoration-color: #008000\"> steps.</span>\n",
       "</pre>\n"
      ],
      "text/plain": [
       "\u001b[32mWarning: trajectory cut off when rollout by epoch at \u001b[0m\u001b[1;36m1000.0\u001b[0m\u001b[32m steps.\u001b[0m\n"
      ]
     },
     "metadata": {},
     "output_type": "display_data"
    },
    {
     "data": {
      "text/html": [
       "<pre style=\"white-space:pre;overflow-x:auto;line-height:normal;font-family:Menlo,'DejaVu Sans Mono',consolas,'Courier New',monospace\"><span style=\"color: #008000; text-decoration-color: #008000\">Warning: trajectory cut off when rollout by epoch at </span><span style=\"color: #008080; text-decoration-color: #008080; font-weight: bold\">1000.0</span><span style=\"color: #008000; text-decoration-color: #008000\"> steps.</span>\n",
       "</pre>\n"
      ],
      "text/plain": [
       "\u001b[32mWarning: trajectory cut off when rollout by epoch at \u001b[0m\u001b[1;36m1000.0\u001b[0m\u001b[32m steps.\u001b[0m\n"
      ]
     },
     "metadata": {},
     "output_type": "display_data"
    },
    {
     "data": {
      "text/html": [
       "<pre style=\"white-space:pre;overflow-x:auto;line-height:normal;font-family:Menlo,'DejaVu Sans Mono',consolas,'Courier New',monospace\"><span style=\"color: #008000; text-decoration-color: #008000\">Warning: trajectory cut off when rollout by epoch at </span><span style=\"color: #008080; text-decoration-color: #008080; font-weight: bold\">1000.0</span><span style=\"color: #008000; text-decoration-color: #008000\"> steps.</span>\n",
       "</pre>\n"
      ],
      "text/plain": [
       "\u001b[32mWarning: trajectory cut off when rollout by epoch at \u001b[0m\u001b[1;36m1000.0\u001b[0m\u001b[32m steps.\u001b[0m\n"
      ]
     },
     "metadata": {},
     "output_type": "display_data"
    },
    {
     "data": {
      "text/html": [
       "<pre style=\"white-space:pre;overflow-x:auto;line-height:normal;font-family:Menlo,'DejaVu Sans Mono',consolas,'Courier New',monospace\"><span style=\"color: #008000; text-decoration-color: #008000\">Warning: trajectory cut off when rollout by epoch at </span><span style=\"color: #008080; text-decoration-color: #008080; font-weight: bold\">1000.0</span><span style=\"color: #008000; text-decoration-color: #008000\"> steps.</span>\n",
       "</pre>\n"
      ],
      "text/plain": [
       "\u001b[32mWarning: trajectory cut off when rollout by epoch at \u001b[0m\u001b[1;36m1000.0\u001b[0m\u001b[32m steps.\u001b[0m\n"
      ]
     },
     "metadata": {},
     "output_type": "display_data"
    },
    {
     "data": {
      "text/html": [
       "<pre style=\"white-space:pre;overflow-x:auto;line-height:normal;font-family:Menlo,'DejaVu Sans Mono',consolas,'Courier New',monospace\"></pre>\n"
      ],
      "text/plain": []
     },
     "metadata": {},
     "output_type": "display_data"
    },
    {
     "data": {
      "text/html": [
       "<pre style=\"white-space:pre;overflow-x:auto;line-height:normal;font-family:Menlo,'DejaVu Sans Mono',consolas,'Courier New',monospace\">\n",
       "</pre>\n"
      ],
      "text/plain": [
       "\n"
      ]
     },
     "metadata": {},
     "output_type": "display_data"
    },
    {
     "data": {
      "text/html": [
       "<pre style=\"white-space:pre;overflow-x:auto;line-height:normal;font-family:Menlo,'DejaVu Sans Mono',consolas,'Courier New',monospace\"><span style=\"color: #008000; text-decoration-color: #008000\">Early stopping at iter </span><span style=\"color: #008080; text-decoration-color: #008080; font-weight: bold\">23</span><span style=\"color: #008000; text-decoration-color: #008000\"> due to reaching max kl</span>\n",
       "</pre>\n"
      ],
      "text/plain": [
       "\u001b[32mEarly stopping at iter \u001b[0m\u001b[1;36m23\u001b[0m\u001b[32m due to reaching max kl\u001b[0m\n"
      ]
     },
     "metadata": {},
     "output_type": "display_data"
    },
    {
     "data": {
      "text/html": [
       "<pre style=\"white-space:pre;overflow-x:auto;line-height:normal;font-family:Menlo,'DejaVu Sans Mono',consolas,'Courier New',monospace\"></pre>\n"
      ],
      "text/plain": []
     },
     "metadata": {},
     "output_type": "display_data"
    },
    {
     "data": {
      "text/html": [
       "<pre style=\"white-space:pre;overflow-x:auto;line-height:normal;font-family:Menlo,'DejaVu Sans Mono',consolas,'Courier New',monospace\">\n",
       "</pre>\n"
      ],
      "text/plain": [
       "\n"
      ]
     },
     "metadata": {},
     "output_type": "display_data"
    },
    {
     "data": {
      "text/html": [
       "<pre style=\"white-space:pre;overflow-x:auto;line-height:normal;font-family:Menlo,'DejaVu Sans Mono',consolas,'Courier New',monospace\">┏━━━━━━━━━━━━━━━━━━━━━━━━━━━━━━━━┳━━━━━━━━━━━━━━━━━━━━━━━━┓\n",
       "┃<span style=\"font-weight: bold\"> Metrics                        </span>┃<span style=\"font-weight: bold\"> Value                  </span>┃\n",
       "┡━━━━━━━━━━━━━━━━━━━━━━━━━━━━━━━━╇━━━━━━━━━━━━━━━━━━━━━━━━┩\n",
       "│ Metrics/EpRet                  │ 5.533459663391113      │\n",
       "│ Metrics/EpCost                 │ 123.45999908447266     │\n",
       "│ Metrics/EpLen                  │ 1000.0                 │\n",
       "│ Train/Epoch                    │ 16.0                   │\n",
       "│ Train/Entropy                  │ 1.263746738433838      │\n",
       "│ Train/KL                       │ 0.020185891538858414   │\n",
       "│ Train/StopIter                 │ 23.0                   │\n",
       "│ Train/PolicyRatio/Mean         │ 1.0002435445785522     │\n",
       "│ Train/PolicyRatio/Min          │ 1.0002436637878418     │\n",
       "│ Train/PolicyRatio/Max          │ 1.0002436637878418     │\n",
       "│ Train/PolicyRatio/Std          │ 0.02034076489508152    │\n",
       "│ Train/LR                       │ 0.00013000000035390258 │\n",
       "│ Train/PolicyStd                │ 0.856341540813446      │\n",
       "│ TotalEnvSteps                  │ 340000.0               │\n",
       "│ Loss/Loss_pi                   │ -0.05256558954715729   │\n",
       "│ Loss/Loss_pi/Delta             │ 0.005595020949840546   │\n",
       "│ Value/Adv                      │ 0.0014399439096450806  │\n",
       "│ Loss/Loss_reward_critic        │ 0.021234389394521713   │\n",
       "│ Loss/Loss_reward_critic/Delta  │ 0.0014499351382255554  │\n",
       "│ Value/reward                   │ 0.5192070603370667     │\n",
       "│ Loss/Loss_cost_critic          │ 1.5283756256103516     │\n",
       "│ Loss/Loss_cost_critic/Delta    │ -0.30718040466308594   │\n",
       "│ Value/cost                     │ 14.718976974487305     │\n",
       "│ Time/Total                     │ 2881.609619140625      │\n",
       "│ Time/Rollout                   │ 75.70264434814453      │\n",
       "│ Time/Update                    │ 99.38888549804688      │\n",
       "│ Time/Epoch                     │ 175.09153747558594     │\n",
       "│ Time/FPS                       │ 114.22596740722656     │\n",
       "│ Metrics/LagrangeMultiplier/Mea │ 0.5999235510826111     │\n",
       "│ Metrics/LagrangeMultiplier/Min │ 0.5999235510826111     │\n",
       "│ Metrics/LagrangeMultiplier/Max │ 0.5999235510826111     │\n",
       "│ Metrics/LagrangeMultiplier/Std │ 0.0                    │\n",
       "└────────────────────────────────┴────────────────────────┘\n",
       "</pre>\n"
      ],
      "text/plain": [
       "┏━━━━━━━━━━━━━━━━━━━━━━━━━━━━━━━━┳━━━━━━━━━━━━━━━━━━━━━━━━┓\n",
       "┃\u001b[1m \u001b[0m\u001b[1mMetrics                       \u001b[0m\u001b[1m \u001b[0m┃\u001b[1m \u001b[0m\u001b[1mValue                 \u001b[0m\u001b[1m \u001b[0m┃\n",
       "┡━━━━━━━━━━━━━━━━━━━━━━━━━━━━━━━━╇━━━━━━━━━━━━━━━━━━━━━━━━┩\n",
       "│ Metrics/EpRet                  │ 5.533459663391113      │\n",
       "│ Metrics/EpCost                 │ 123.45999908447266     │\n",
       "│ Metrics/EpLen                  │ 1000.0                 │\n",
       "│ Train/Epoch                    │ 16.0                   │\n",
       "│ Train/Entropy                  │ 1.263746738433838      │\n",
       "│ Train/KL                       │ 0.020185891538858414   │\n",
       "│ Train/StopIter                 │ 23.0                   │\n",
       "│ Train/PolicyRatio/Mean         │ 1.0002435445785522     │\n",
       "│ Train/PolicyRatio/Min          │ 1.0002436637878418     │\n",
       "│ Train/PolicyRatio/Max          │ 1.0002436637878418     │\n",
       "│ Train/PolicyRatio/Std          │ 0.02034076489508152    │\n",
       "│ Train/LR                       │ 0.00013000000035390258 │\n",
       "│ Train/PolicyStd                │ 0.856341540813446      │\n",
       "│ TotalEnvSteps                  │ 340000.0               │\n",
       "│ Loss/Loss_pi                   │ -0.05256558954715729   │\n",
       "│ Loss/Loss_pi/Delta             │ 0.005595020949840546   │\n",
       "│ Value/Adv                      │ 0.0014399439096450806  │\n",
       "│ Loss/Loss_reward_critic        │ 0.021234389394521713   │\n",
       "│ Loss/Loss_reward_critic/Delta  │ 0.0014499351382255554  │\n",
       "│ Value/reward                   │ 0.5192070603370667     │\n",
       "│ Loss/Loss_cost_critic          │ 1.5283756256103516     │\n",
       "│ Loss/Loss_cost_critic/Delta    │ -0.30718040466308594   │\n",
       "│ Value/cost                     │ 14.718976974487305     │\n",
       "│ Time/Total                     │ 2881.609619140625      │\n",
       "│ Time/Rollout                   │ 75.70264434814453      │\n",
       "│ Time/Update                    │ 99.38888549804688      │\n",
       "│ Time/Epoch                     │ 175.09153747558594     │\n",
       "│ Time/FPS                       │ 114.22596740722656     │\n",
       "│ Metrics/LagrangeMultiplier/Mea │ 0.5999235510826111     │\n",
       "│ Metrics/LagrangeMultiplier/Min │ 0.5999235510826111     │\n",
       "│ Metrics/LagrangeMultiplier/Max │ 0.5999235510826111     │\n",
       "│ Metrics/LagrangeMultiplier/Std │ 0.0                    │\n",
       "└────────────────────────────────┴────────────────────────┘\n"
      ]
     },
     "metadata": {},
     "output_type": "display_data"
    },
    {
     "data": {
      "text/html": [
       "<pre style=\"white-space:pre;overflow-x:auto;line-height:normal;font-family:Menlo,'DejaVu Sans Mono',consolas,'Courier New',monospace\"><span style=\"color: #008000; text-decoration-color: #008000\">Warning: trajectory cut off when rollout by epoch at </span><span style=\"color: #008080; text-decoration-color: #008080; font-weight: bold\">1000.0</span><span style=\"color: #008000; text-decoration-color: #008000\"> steps.</span>\n",
       "</pre>\n"
      ],
      "text/plain": [
       "\u001b[32mWarning: trajectory cut off when rollout by epoch at \u001b[0m\u001b[1;36m1000.0\u001b[0m\u001b[32m steps.\u001b[0m\n"
      ]
     },
     "metadata": {},
     "output_type": "display_data"
    },
    {
     "data": {
      "text/html": [
       "<pre style=\"white-space:pre;overflow-x:auto;line-height:normal;font-family:Menlo,'DejaVu Sans Mono',consolas,'Courier New',monospace\"><span style=\"color: #008000; text-decoration-color: #008000\">Warning: trajectory cut off when rollout by epoch at </span><span style=\"color: #008080; text-decoration-color: #008080; font-weight: bold\">1000.0</span><span style=\"color: #008000; text-decoration-color: #008000\"> steps.</span>\n",
       "</pre>\n"
      ],
      "text/plain": [
       "\u001b[32mWarning: trajectory cut off when rollout by epoch at \u001b[0m\u001b[1;36m1000.0\u001b[0m\u001b[32m steps.\u001b[0m\n"
      ]
     },
     "metadata": {},
     "output_type": "display_data"
    },
    {
     "data": {
      "text/html": [
       "<pre style=\"white-space:pre;overflow-x:auto;line-height:normal;font-family:Menlo,'DejaVu Sans Mono',consolas,'Courier New',monospace\"><span style=\"color: #008000; text-decoration-color: #008000\">Warning: trajectory cut off when rollout by epoch at </span><span style=\"color: #008080; text-decoration-color: #008080; font-weight: bold\">1000.0</span><span style=\"color: #008000; text-decoration-color: #008000\"> steps.</span>\n",
       "</pre>\n"
      ],
      "text/plain": [
       "\u001b[32mWarning: trajectory cut off when rollout by epoch at \u001b[0m\u001b[1;36m1000.0\u001b[0m\u001b[32m steps.\u001b[0m\n"
      ]
     },
     "metadata": {},
     "output_type": "display_data"
    },
    {
     "data": {
      "text/html": [
       "<pre style=\"white-space:pre;overflow-x:auto;line-height:normal;font-family:Menlo,'DejaVu Sans Mono',consolas,'Courier New',monospace\"><span style=\"color: #008000; text-decoration-color: #008000\">Warning: trajectory cut off when rollout by epoch at </span><span style=\"color: #008080; text-decoration-color: #008080; font-weight: bold\">1000.0</span><span style=\"color: #008000; text-decoration-color: #008000\"> steps.</span>\n",
       "</pre>\n"
      ],
      "text/plain": [
       "\u001b[32mWarning: trajectory cut off when rollout by epoch at \u001b[0m\u001b[1;36m1000.0\u001b[0m\u001b[32m steps.\u001b[0m\n"
      ]
     },
     "metadata": {},
     "output_type": "display_data"
    },
    {
     "data": {
      "text/html": [
       "<pre style=\"white-space:pre;overflow-x:auto;line-height:normal;font-family:Menlo,'DejaVu Sans Mono',consolas,'Courier New',monospace\"></pre>\n"
      ],
      "text/plain": []
     },
     "metadata": {},
     "output_type": "display_data"
    },
    {
     "data": {
      "text/html": [
       "<pre style=\"white-space:pre;overflow-x:auto;line-height:normal;font-family:Menlo,'DejaVu Sans Mono',consolas,'Courier New',monospace\">\n",
       "</pre>\n"
      ],
      "text/plain": [
       "\n"
      ]
     },
     "metadata": {},
     "output_type": "display_data"
    },
    {
     "data": {
      "text/html": [
       "<pre style=\"white-space:pre;overflow-x:auto;line-height:normal;font-family:Menlo,'DejaVu Sans Mono',consolas,'Courier New',monospace\"><span style=\"color: #008000; text-decoration-color: #008000\">Early stopping at iter </span><span style=\"color: #008080; text-decoration-color: #008080; font-weight: bold\">23</span><span style=\"color: #008000; text-decoration-color: #008000\"> due to reaching max kl</span>\n",
       "</pre>\n"
      ],
      "text/plain": [
       "\u001b[32mEarly stopping at iter \u001b[0m\u001b[1;36m23\u001b[0m\u001b[32m due to reaching max kl\u001b[0m\n"
      ]
     },
     "metadata": {},
     "output_type": "display_data"
    },
    {
     "data": {
      "text/html": [
       "<pre style=\"white-space:pre;overflow-x:auto;line-height:normal;font-family:Menlo,'DejaVu Sans Mono',consolas,'Courier New',monospace\"></pre>\n"
      ],
      "text/plain": []
     },
     "metadata": {},
     "output_type": "display_data"
    },
    {
     "data": {
      "text/html": [
       "<pre style=\"white-space:pre;overflow-x:auto;line-height:normal;font-family:Menlo,'DejaVu Sans Mono',consolas,'Courier New',monospace\">\n",
       "</pre>\n"
      ],
      "text/plain": [
       "\n"
      ]
     },
     "metadata": {},
     "output_type": "display_data"
    },
    {
     "data": {
      "text/html": [
       "<pre style=\"white-space:pre;overflow-x:auto;line-height:normal;font-family:Menlo,'DejaVu Sans Mono',consolas,'Courier New',monospace\">┏━━━━━━━━━━━━━━━━━━━━━━━━━━━━━━━━┳━━━━━━━━━━━━━━━━━━━━━━━━┓\n",
       "┃<span style=\"font-weight: bold\"> Metrics                        </span>┃<span style=\"font-weight: bold\"> Value                  </span>┃\n",
       "┡━━━━━━━━━━━━━━━━━━━━━━━━━━━━━━━━╇━━━━━━━━━━━━━━━━━━━━━━━━┩\n",
       "│ Metrics/EpRet                  │ 5.471710205078125      │\n",
       "│ Metrics/EpCost                 │ 128.36000061035156     │\n",
       "│ Metrics/EpLen                  │ 1000.0                 │\n",
       "│ Train/Epoch                    │ 17.0                   │\n",
       "│ Train/Entropy                  │ 1.2514121532440186     │\n",
       "│ Train/KL                       │ 0.020308148115873337   │\n",
       "│ Train/StopIter                 │ 23.0                   │\n",
       "│ Train/PolicyRatio/Mean         │ 1.0015605688095093     │\n",
       "│ Train/PolicyRatio/Min          │ 1.0015606880187988     │\n",
       "│ Train/PolicyRatio/Max          │ 1.0015606880187988     │\n",
       "│ Train/PolicyRatio/Std          │ 0.020129574462771416   │\n",
       "│ Train/LR                       │ 0.00011999999696854502 │\n",
       "│ Train/PolicyStd                │ 0.8458040952682495     │\n",
       "│ TotalEnvSteps                  │ 360000.0               │\n",
       "│ Loss/Loss_pi                   │ -0.0559985525906086    │\n",
       "│ Loss/Loss_pi/Delta             │ -0.003432963043451309  │\n",
       "│ Value/Adv                      │ -0.028276842087507248  │\n",
       "│ Loss/Loss_reward_critic        │ 0.0157289020717144     │\n",
       "│ Loss/Loss_reward_critic/Delta  │ -0.005505487322807312  │\n",
       "│ Value/reward                   │ 0.5907845497131348     │\n",
       "│ Loss/Loss_cost_critic          │ 1.5798650979995728     │\n",
       "│ Loss/Loss_cost_critic/Delta    │ 0.05148947238922119    │\n",
       "│ Value/cost                     │ 14.402259826660156     │\n",
       "│ Time/Total                     │ 3059.912353515625      │\n",
       "│ Time/Rollout                   │ 76.2977294921875       │\n",
       "│ Time/Update                    │ 101.97259521484375     │\n",
       "│ Time/Epoch                     │ 178.27032470703125     │\n",
       "│ Time/FPS                       │ 112.18917083740234     │\n",
       "│ Metrics/LagrangeMultiplier/Mea │ 0.6342776417732239     │\n",
       "│ Metrics/LagrangeMultiplier/Min │ 0.6342776417732239     │\n",
       "│ Metrics/LagrangeMultiplier/Max │ 0.6342776417732239     │\n",
       "│ Metrics/LagrangeMultiplier/Std │ 0.0                    │\n",
       "└────────────────────────────────┴────────────────────────┘\n",
       "</pre>\n"
      ],
      "text/plain": [
       "┏━━━━━━━━━━━━━━━━━━━━━━━━━━━━━━━━┳━━━━━━━━━━━━━━━━━━━━━━━━┓\n",
       "┃\u001b[1m \u001b[0m\u001b[1mMetrics                       \u001b[0m\u001b[1m \u001b[0m┃\u001b[1m \u001b[0m\u001b[1mValue                 \u001b[0m\u001b[1m \u001b[0m┃\n",
       "┡━━━━━━━━━━━━━━━━━━━━━━━━━━━━━━━━╇━━━━━━━━━━━━━━━━━━━━━━━━┩\n",
       "│ Metrics/EpRet                  │ 5.471710205078125      │\n",
       "│ Metrics/EpCost                 │ 128.36000061035156     │\n",
       "│ Metrics/EpLen                  │ 1000.0                 │\n",
       "│ Train/Epoch                    │ 17.0                   │\n",
       "│ Train/Entropy                  │ 1.2514121532440186     │\n",
       "│ Train/KL                       │ 0.020308148115873337   │\n",
       "│ Train/StopIter                 │ 23.0                   │\n",
       "│ Train/PolicyRatio/Mean         │ 1.0015605688095093     │\n",
       "│ Train/PolicyRatio/Min          │ 1.0015606880187988     │\n",
       "│ Train/PolicyRatio/Max          │ 1.0015606880187988     │\n",
       "│ Train/PolicyRatio/Std          │ 0.020129574462771416   │\n",
       "│ Train/LR                       │ 0.00011999999696854502 │\n",
       "│ Train/PolicyStd                │ 0.8458040952682495     │\n",
       "│ TotalEnvSteps                  │ 360000.0               │\n",
       "│ Loss/Loss_pi                   │ -0.0559985525906086    │\n",
       "│ Loss/Loss_pi/Delta             │ -0.003432963043451309  │\n",
       "│ Value/Adv                      │ -0.028276842087507248  │\n",
       "│ Loss/Loss_reward_critic        │ 0.0157289020717144     │\n",
       "│ Loss/Loss_reward_critic/Delta  │ -0.005505487322807312  │\n",
       "│ Value/reward                   │ 0.5907845497131348     │\n",
       "│ Loss/Loss_cost_critic          │ 1.5798650979995728     │\n",
       "│ Loss/Loss_cost_critic/Delta    │ 0.05148947238922119    │\n",
       "│ Value/cost                     │ 14.402259826660156     │\n",
       "│ Time/Total                     │ 3059.912353515625      │\n",
       "│ Time/Rollout                   │ 76.2977294921875       │\n",
       "│ Time/Update                    │ 101.97259521484375     │\n",
       "│ Time/Epoch                     │ 178.27032470703125     │\n",
       "│ Time/FPS                       │ 112.18917083740234     │\n",
       "│ Metrics/LagrangeMultiplier/Mea │ 0.6342776417732239     │\n",
       "│ Metrics/LagrangeMultiplier/Min │ 0.6342776417732239     │\n",
       "│ Metrics/LagrangeMultiplier/Max │ 0.6342776417732239     │\n",
       "│ Metrics/LagrangeMultiplier/Std │ 0.0                    │\n",
       "└────────────────────────────────┴────────────────────────┘\n"
      ]
     },
     "metadata": {},
     "output_type": "display_data"
    },
    {
     "data": {
      "text/html": [
       "<pre style=\"white-space:pre;overflow-x:auto;line-height:normal;font-family:Menlo,'DejaVu Sans Mono',consolas,'Courier New',monospace\"><span style=\"color: #008000; text-decoration-color: #008000\">Warning: trajectory cut off when rollout by epoch at </span><span style=\"color: #008080; text-decoration-color: #008080; font-weight: bold\">1000.0</span><span style=\"color: #008000; text-decoration-color: #008000\"> steps.</span>\n",
       "</pre>\n"
      ],
      "text/plain": [
       "\u001b[32mWarning: trajectory cut off when rollout by epoch at \u001b[0m\u001b[1;36m1000.0\u001b[0m\u001b[32m steps.\u001b[0m\n"
      ]
     },
     "metadata": {},
     "output_type": "display_data"
    },
    {
     "data": {
      "text/html": [
       "<pre style=\"white-space:pre;overflow-x:auto;line-height:normal;font-family:Menlo,'DejaVu Sans Mono',consolas,'Courier New',monospace\"><span style=\"color: #008000; text-decoration-color: #008000\">Warning: trajectory cut off when rollout by epoch at </span><span style=\"color: #008080; text-decoration-color: #008080; font-weight: bold\">1000.0</span><span style=\"color: #008000; text-decoration-color: #008000\"> steps.</span>\n",
       "</pre>\n"
      ],
      "text/plain": [
       "\u001b[32mWarning: trajectory cut off when rollout by epoch at \u001b[0m\u001b[1;36m1000.0\u001b[0m\u001b[32m steps.\u001b[0m\n"
      ]
     },
     "metadata": {},
     "output_type": "display_data"
    },
    {
     "data": {
      "text/html": [
       "<pre style=\"white-space:pre;overflow-x:auto;line-height:normal;font-family:Menlo,'DejaVu Sans Mono',consolas,'Courier New',monospace\"><span style=\"color: #008000; text-decoration-color: #008000\">Warning: trajectory cut off when rollout by epoch at </span><span style=\"color: #008080; text-decoration-color: #008080; font-weight: bold\">1000.0</span><span style=\"color: #008000; text-decoration-color: #008000\"> steps.</span>\n",
       "</pre>\n"
      ],
      "text/plain": [
       "\u001b[32mWarning: trajectory cut off when rollout by epoch at \u001b[0m\u001b[1;36m1000.0\u001b[0m\u001b[32m steps.\u001b[0m\n"
      ]
     },
     "metadata": {},
     "output_type": "display_data"
    },
    {
     "data": {
      "text/html": [
       "<pre style=\"white-space:pre;overflow-x:auto;line-height:normal;font-family:Menlo,'DejaVu Sans Mono',consolas,'Courier New',monospace\"><span style=\"color: #008000; text-decoration-color: #008000\">Warning: trajectory cut off when rollout by epoch at </span><span style=\"color: #008080; text-decoration-color: #008080; font-weight: bold\">1000.0</span><span style=\"color: #008000; text-decoration-color: #008000\"> steps.</span>\n",
       "</pre>\n"
      ],
      "text/plain": [
       "\u001b[32mWarning: trajectory cut off when rollout by epoch at \u001b[0m\u001b[1;36m1000.0\u001b[0m\u001b[32m steps.\u001b[0m\n"
      ]
     },
     "metadata": {},
     "output_type": "display_data"
    },
    {
     "data": {
      "text/html": [
       "<pre style=\"white-space:pre;overflow-x:auto;line-height:normal;font-family:Menlo,'DejaVu Sans Mono',consolas,'Courier New',monospace\"></pre>\n"
      ],
      "text/plain": []
     },
     "metadata": {},
     "output_type": "display_data"
    },
    {
     "data": {
      "text/html": [
       "<pre style=\"white-space:pre;overflow-x:auto;line-height:normal;font-family:Menlo,'DejaVu Sans Mono',consolas,'Courier New',monospace\">\n",
       "</pre>\n"
      ],
      "text/plain": [
       "\n"
      ]
     },
     "metadata": {},
     "output_type": "display_data"
    },
    {
     "data": {
      "text/html": [
       "<pre style=\"white-space:pre;overflow-x:auto;line-height:normal;font-family:Menlo,'DejaVu Sans Mono',consolas,'Courier New',monospace\"><span style=\"color: #008000; text-decoration-color: #008000\">Early stopping at iter </span><span style=\"color: #008080; text-decoration-color: #008080; font-weight: bold\">25</span><span style=\"color: #008000; text-decoration-color: #008000\"> due to reaching max kl</span>\n",
       "</pre>\n"
      ],
      "text/plain": [
       "\u001b[32mEarly stopping at iter \u001b[0m\u001b[1;36m25\u001b[0m\u001b[32m due to reaching max kl\u001b[0m\n"
      ]
     },
     "metadata": {},
     "output_type": "display_data"
    },
    {
     "data": {
      "text/html": [
       "<pre style=\"white-space:pre;overflow-x:auto;line-height:normal;font-family:Menlo,'DejaVu Sans Mono',consolas,'Courier New',monospace\"></pre>\n"
      ],
      "text/plain": []
     },
     "metadata": {},
     "output_type": "display_data"
    },
    {
     "data": {
      "text/html": [
       "<pre style=\"white-space:pre;overflow-x:auto;line-height:normal;font-family:Menlo,'DejaVu Sans Mono',consolas,'Courier New',monospace\">\n",
       "</pre>\n"
      ],
      "text/plain": [
       "\n"
      ]
     },
     "metadata": {},
     "output_type": "display_data"
    },
    {
     "data": {
      "text/html": [
       "<pre style=\"white-space:pre;overflow-x:auto;line-height:normal;font-family:Menlo,'DejaVu Sans Mono',consolas,'Courier New',monospace\">┏━━━━━━━━━━━━━━━━━━━━━━━━━━━━━━━━┳━━━━━━━━━━━━━━━━━━━━━━━━┓\n",
       "┃<span style=\"font-weight: bold\"> Metrics                        </span>┃<span style=\"font-weight: bold\"> Value                  </span>┃\n",
       "┡━━━━━━━━━━━━━━━━━━━━━━━━━━━━━━━━╇━━━━━━━━━━━━━━━━━━━━━━━━┩\n",
       "│ Metrics/EpRet                  │ 5.557558536529541      │\n",
       "│ Metrics/EpCost                 │ 130.0399932861328      │\n",
       "│ Metrics/EpLen                  │ 1000.0                 │\n",
       "│ Train/Epoch                    │ 18.0                   │\n",
       "│ Train/Entropy                  │ 1.2375961542129517     │\n",
       "│ Train/KL                       │ 0.020143795758485794   │\n",
       "│ Train/StopIter                 │ 25.0                   │\n",
       "│ Train/PolicyRatio/Mean         │ 1.0045108795166016     │\n",
       "│ Train/PolicyRatio/Min          │ 1.0045108795166016     │\n",
       "│ Train/PolicyRatio/Max          │ 1.0045108795166016     │\n",
       "│ Train/PolicyRatio/Std          │ 0.019972750917077065   │\n",
       "│ Train/LR                       │ 0.00011000000085914508 │\n",
       "│ Train/PolicyStd                │ 0.8342057466506958     │\n",
       "│ TotalEnvSteps                  │ 380000.0               │\n",
       "│ Loss/Loss_pi                   │ -0.06502993404865265   │\n",
       "│ Loss/Loss_pi/Delta             │ -0.009031381458044052  │\n",
       "│ Value/Adv                      │ -0.05782235041260719   │\n",
       "│ Loss/Loss_reward_critic        │ 0.016932645812630653   │\n",
       "│ Loss/Loss_reward_critic/Delta  │ 0.0012037437409162521  │\n",
       "│ Value/reward                   │ 0.5050386786460876     │\n",
       "│ Loss/Loss_cost_critic          │ 1.744702696800232      │\n",
       "│ Loss/Loss_cost_critic/Delta    │ 0.16483759880065918    │\n",
       "│ Value/cost                     │ 14.421285629272461     │\n",
       "│ Time/Total                     │ 3239.785888671875      │\n",
       "│ Time/Rollout                   │ 69.34552764892578      │\n",
       "│ Time/Update                    │ 110.4671401977539      │\n",
       "│ Time/Epoch                     │ 179.8126678466797      │\n",
       "│ Time/FPS                       │ 111.22686767578125     │\n",
       "│ Metrics/LagrangeMultiplier/Mea │ 0.6683294773101807     │\n",
       "│ Metrics/LagrangeMultiplier/Min │ 0.6683294773101807     │\n",
       "│ Metrics/LagrangeMultiplier/Max │ 0.6683294773101807     │\n",
       "│ Metrics/LagrangeMultiplier/Std │ 0.0                    │\n",
       "└────────────────────────────────┴────────────────────────┘\n",
       "</pre>\n"
      ],
      "text/plain": [
       "┏━━━━━━━━━━━━━━━━━━━━━━━━━━━━━━━━┳━━━━━━━━━━━━━━━━━━━━━━━━┓\n",
       "┃\u001b[1m \u001b[0m\u001b[1mMetrics                       \u001b[0m\u001b[1m \u001b[0m┃\u001b[1m \u001b[0m\u001b[1mValue                 \u001b[0m\u001b[1m \u001b[0m┃\n",
       "┡━━━━━━━━━━━━━━━━━━━━━━━━━━━━━━━━╇━━━━━━━━━━━━━━━━━━━━━━━━┩\n",
       "│ Metrics/EpRet                  │ 5.557558536529541      │\n",
       "│ Metrics/EpCost                 │ 130.0399932861328      │\n",
       "│ Metrics/EpLen                  │ 1000.0                 │\n",
       "│ Train/Epoch                    │ 18.0                   │\n",
       "│ Train/Entropy                  │ 1.2375961542129517     │\n",
       "│ Train/KL                       │ 0.020143795758485794   │\n",
       "│ Train/StopIter                 │ 25.0                   │\n",
       "│ Train/PolicyRatio/Mean         │ 1.0045108795166016     │\n",
       "│ Train/PolicyRatio/Min          │ 1.0045108795166016     │\n",
       "│ Train/PolicyRatio/Max          │ 1.0045108795166016     │\n",
       "│ Train/PolicyRatio/Std          │ 0.019972750917077065   │\n",
       "│ Train/LR                       │ 0.00011000000085914508 │\n",
       "│ Train/PolicyStd                │ 0.8342057466506958     │\n",
       "│ TotalEnvSteps                  │ 380000.0               │\n",
       "│ Loss/Loss_pi                   │ -0.06502993404865265   │\n",
       "│ Loss/Loss_pi/Delta             │ -0.009031381458044052  │\n",
       "│ Value/Adv                      │ -0.05782235041260719   │\n",
       "│ Loss/Loss_reward_critic        │ 0.016932645812630653   │\n",
       "│ Loss/Loss_reward_critic/Delta  │ 0.0012037437409162521  │\n",
       "│ Value/reward                   │ 0.5050386786460876     │\n",
       "│ Loss/Loss_cost_critic          │ 1.744702696800232      │\n",
       "│ Loss/Loss_cost_critic/Delta    │ 0.16483759880065918    │\n",
       "│ Value/cost                     │ 14.421285629272461     │\n",
       "│ Time/Total                     │ 3239.785888671875      │\n",
       "│ Time/Rollout                   │ 69.34552764892578      │\n",
       "│ Time/Update                    │ 110.4671401977539      │\n",
       "│ Time/Epoch                     │ 179.8126678466797      │\n",
       "│ Time/FPS                       │ 111.22686767578125     │\n",
       "│ Metrics/LagrangeMultiplier/Mea │ 0.6683294773101807     │\n",
       "│ Metrics/LagrangeMultiplier/Min │ 0.6683294773101807     │\n",
       "│ Metrics/LagrangeMultiplier/Max │ 0.6683294773101807     │\n",
       "│ Metrics/LagrangeMultiplier/Std │ 0.0                    │\n",
       "└────────────────────────────────┴────────────────────────┘\n"
      ]
     },
     "metadata": {},
     "output_type": "display_data"
    },
    {
     "data": {
      "text/html": [
       "<pre style=\"white-space:pre;overflow-x:auto;line-height:normal;font-family:Menlo,'DejaVu Sans Mono',consolas,'Courier New',monospace\"><span style=\"color: #008000; text-decoration-color: #008000\">Warning: trajectory cut off when rollout by epoch at </span><span style=\"color: #008080; text-decoration-color: #008080; font-weight: bold\">1000.0</span><span style=\"color: #008000; text-decoration-color: #008000\"> steps.</span>\n",
       "</pre>\n"
      ],
      "text/plain": [
       "\u001b[32mWarning: trajectory cut off when rollout by epoch at \u001b[0m\u001b[1;36m1000.0\u001b[0m\u001b[32m steps.\u001b[0m\n"
      ]
     },
     "metadata": {},
     "output_type": "display_data"
    },
    {
     "data": {
      "text/html": [
       "<pre style=\"white-space:pre;overflow-x:auto;line-height:normal;font-family:Menlo,'DejaVu Sans Mono',consolas,'Courier New',monospace\"><span style=\"color: #008000; text-decoration-color: #008000\">Warning: trajectory cut off when rollout by epoch at </span><span style=\"color: #008080; text-decoration-color: #008080; font-weight: bold\">1000.0</span><span style=\"color: #008000; text-decoration-color: #008000\"> steps.</span>\n",
       "</pre>\n"
      ],
      "text/plain": [
       "\u001b[32mWarning: trajectory cut off when rollout by epoch at \u001b[0m\u001b[1;36m1000.0\u001b[0m\u001b[32m steps.\u001b[0m\n"
      ]
     },
     "metadata": {},
     "output_type": "display_data"
    },
    {
     "data": {
      "text/html": [
       "<pre style=\"white-space:pre;overflow-x:auto;line-height:normal;font-family:Menlo,'DejaVu Sans Mono',consolas,'Courier New',monospace\"><span style=\"color: #008000; text-decoration-color: #008000\">Warning: trajectory cut off when rollout by epoch at </span><span style=\"color: #008080; text-decoration-color: #008080; font-weight: bold\">1000.0</span><span style=\"color: #008000; text-decoration-color: #008000\"> steps.</span>\n",
       "</pre>\n"
      ],
      "text/plain": [
       "\u001b[32mWarning: trajectory cut off when rollout by epoch at \u001b[0m\u001b[1;36m1000.0\u001b[0m\u001b[32m steps.\u001b[0m\n"
      ]
     },
     "metadata": {},
     "output_type": "display_data"
    },
    {
     "data": {
      "text/html": [
       "<pre style=\"white-space:pre;overflow-x:auto;line-height:normal;font-family:Menlo,'DejaVu Sans Mono',consolas,'Courier New',monospace\"><span style=\"color: #008000; text-decoration-color: #008000\">Warning: trajectory cut off when rollout by epoch at </span><span style=\"color: #008080; text-decoration-color: #008080; font-weight: bold\">1000.0</span><span style=\"color: #008000; text-decoration-color: #008000\"> steps.</span>\n",
       "</pre>\n"
      ],
      "text/plain": [
       "\u001b[32mWarning: trajectory cut off when rollout by epoch at \u001b[0m\u001b[1;36m1000.0\u001b[0m\u001b[32m steps.\u001b[0m\n"
      ]
     },
     "metadata": {},
     "output_type": "display_data"
    },
    {
     "data": {
      "text/html": [
       "<pre style=\"white-space:pre;overflow-x:auto;line-height:normal;font-family:Menlo,'DejaVu Sans Mono',consolas,'Courier New',monospace\"></pre>\n"
      ],
      "text/plain": []
     },
     "metadata": {},
     "output_type": "display_data"
    },
    {
     "data": {
      "text/html": [
       "<pre style=\"white-space:pre;overflow-x:auto;line-height:normal;font-family:Menlo,'DejaVu Sans Mono',consolas,'Courier New',monospace\">\n",
       "</pre>\n"
      ],
      "text/plain": [
       "\n"
      ]
     },
     "metadata": {},
     "output_type": "display_data"
    },
    {
     "data": {
      "text/html": [
       "<pre style=\"white-space:pre;overflow-x:auto;line-height:normal;font-family:Menlo,'DejaVu Sans Mono',consolas,'Courier New',monospace\"><span style=\"color: #008000; text-decoration-color: #008000\">Early stopping at iter </span><span style=\"color: #008080; text-decoration-color: #008080; font-weight: bold\">28</span><span style=\"color: #008000; text-decoration-color: #008000\"> due to reaching max kl</span>\n",
       "</pre>\n"
      ],
      "text/plain": [
       "\u001b[32mEarly stopping at iter \u001b[0m\u001b[1;36m28\u001b[0m\u001b[32m due to reaching max kl\u001b[0m\n"
      ]
     },
     "metadata": {},
     "output_type": "display_data"
    },
    {
     "data": {
      "text/html": [
       "<pre style=\"white-space:pre;overflow-x:auto;line-height:normal;font-family:Menlo,'DejaVu Sans Mono',consolas,'Courier New',monospace\"></pre>\n"
      ],
      "text/plain": []
     },
     "metadata": {},
     "output_type": "display_data"
    },
    {
     "data": {
      "text/html": [
       "<pre style=\"white-space:pre;overflow-x:auto;line-height:normal;font-family:Menlo,'DejaVu Sans Mono',consolas,'Courier New',monospace\">\n",
       "</pre>\n"
      ],
      "text/plain": [
       "\n"
      ]
     },
     "metadata": {},
     "output_type": "display_data"
    },
    {
     "data": {
      "text/html": [
       "<pre style=\"white-space:pre;overflow-x:auto;line-height:normal;font-family:Menlo,'DejaVu Sans Mono',consolas,'Courier New',monospace\">┏━━━━━━━━━━━━━━━━━━━━━━━━━━━━━━━━┳━━━━━━━━━━━━━━━━━━━━━━━━┓\n",
       "┃<span style=\"font-weight: bold\"> Metrics                        </span>┃<span style=\"font-weight: bold\"> Value                  </span>┃\n",
       "┡━━━━━━━━━━━━━━━━━━━━━━━━━━━━━━━━╇━━━━━━━━━━━━━━━━━━━━━━━━┩\n",
       "│ Metrics/EpRet                  │ 5.098211288452148      │\n",
       "│ Metrics/EpCost                 │ 150.63999938964844     │\n",
       "│ Metrics/EpLen                  │ 1000.0                 │\n",
       "│ Train/Epoch                    │ 19.0                   │\n",
       "│ Train/Entropy                  │ 1.2230578660964966     │\n",
       "│ Train/KL                       │ 0.020530374720692635   │\n",
       "│ Train/StopIter                 │ 28.0                   │\n",
       "│ Train/PolicyRatio/Mean         │ 1.000835657119751      │\n",
       "│ Train/PolicyRatio/Min          │ 1.000835657119751      │\n",
       "│ Train/PolicyRatio/Max          │ 1.000835657119751      │\n",
       "│ Train/PolicyRatio/Std          │ 0.01917242631316185    │\n",
       "│ Train/LR                       │ 9.999999747378752e-05  │\n",
       "│ Train/PolicyStd                │ 0.8221627473831177     │\n",
       "│ TotalEnvSteps                  │ 400000.0               │\n",
       "│ Loss/Loss_pi                   │ -0.06431858986616135   │\n",
       "│ Loss/Loss_pi/Delta             │ 0.0007113441824913025  │\n",
       "│ Value/Adv                      │ -0.007684588432312012  │\n",
       "│ Loss/Loss_reward_critic        │ 0.015727944672107697   │\n",
       "│ Loss/Loss_reward_critic/Delta  │ -0.0012047011405229568 │\n",
       "│ Value/reward                   │ 0.6025872230529785     │\n",
       "│ Loss/Loss_cost_critic          │ 1.5326992273330688     │\n",
       "│ Loss/Loss_cost_critic/Delta    │ -0.21200346946716309   │\n",
       "│ Value/cost                     │ 14.414243698120117     │\n",
       "│ Time/Total                     │ 3433.0517578125        │\n",
       "│ Time/Rollout                   │ 69.43387603759766      │\n",
       "│ Time/Update                    │ 123.80084991455078     │\n",
       "│ Time/Epoch                     │ 193.23472595214844     │\n",
       "│ Time/FPS                       │ 103.50106811523438     │\n",
       "│ Metrics/LagrangeMultiplier/Mea │ 0.7025211453437805     │\n",
       "│ Metrics/LagrangeMultiplier/Min │ 0.7025211453437805     │\n",
       "│ Metrics/LagrangeMultiplier/Max │ 0.7025211453437805     │\n",
       "│ Metrics/LagrangeMultiplier/Std │ 0.0                    │\n",
       "└────────────────────────────────┴────────────────────────┘\n",
       "</pre>\n"
      ],
      "text/plain": [
       "┏━━━━━━━━━━━━━━━━━━━━━━━━━━━━━━━━┳━━━━━━━━━━━━━━━━━━━━━━━━┓\n",
       "┃\u001b[1m \u001b[0m\u001b[1mMetrics                       \u001b[0m\u001b[1m \u001b[0m┃\u001b[1m \u001b[0m\u001b[1mValue                 \u001b[0m\u001b[1m \u001b[0m┃\n",
       "┡━━━━━━━━━━━━━━━━━━━━━━━━━━━━━━━━╇━━━━━━━━━━━━━━━━━━━━━━━━┩\n",
       "│ Metrics/EpRet                  │ 5.098211288452148      │\n",
       "│ Metrics/EpCost                 │ 150.63999938964844     │\n",
       "│ Metrics/EpLen                  │ 1000.0                 │\n",
       "│ Train/Epoch                    │ 19.0                   │\n",
       "│ Train/Entropy                  │ 1.2230578660964966     │\n",
       "│ Train/KL                       │ 0.020530374720692635   │\n",
       "│ Train/StopIter                 │ 28.0                   │\n",
       "│ Train/PolicyRatio/Mean         │ 1.000835657119751      │\n",
       "│ Train/PolicyRatio/Min          │ 1.000835657119751      │\n",
       "│ Train/PolicyRatio/Max          │ 1.000835657119751      │\n",
       "│ Train/PolicyRatio/Std          │ 0.01917242631316185    │\n",
       "│ Train/LR                       │ 9.999999747378752e-05  │\n",
       "│ Train/PolicyStd                │ 0.8221627473831177     │\n",
       "│ TotalEnvSteps                  │ 400000.0               │\n",
       "│ Loss/Loss_pi                   │ -0.06431858986616135   │\n",
       "│ Loss/Loss_pi/Delta             │ 0.0007113441824913025  │\n",
       "│ Value/Adv                      │ -0.007684588432312012  │\n",
       "│ Loss/Loss_reward_critic        │ 0.015727944672107697   │\n",
       "│ Loss/Loss_reward_critic/Delta  │ -0.0012047011405229568 │\n",
       "│ Value/reward                   │ 0.6025872230529785     │\n",
       "│ Loss/Loss_cost_critic          │ 1.5326992273330688     │\n",
       "│ Loss/Loss_cost_critic/Delta    │ -0.21200346946716309   │\n",
       "│ Value/cost                     │ 14.414243698120117     │\n",
       "│ Time/Total                     │ 3433.0517578125        │\n",
       "│ Time/Rollout                   │ 69.43387603759766      │\n",
       "│ Time/Update                    │ 123.80084991455078     │\n",
       "│ Time/Epoch                     │ 193.23472595214844     │\n",
       "│ Time/FPS                       │ 103.50106811523438     │\n",
       "│ Metrics/LagrangeMultiplier/Mea │ 0.7025211453437805     │\n",
       "│ Metrics/LagrangeMultiplier/Min │ 0.7025211453437805     │\n",
       "│ Metrics/LagrangeMultiplier/Max │ 0.7025211453437805     │\n",
       "│ Metrics/LagrangeMultiplier/Std │ 0.0                    │\n",
       "└────────────────────────────────┴────────────────────────┘\n"
      ]
     },
     "metadata": {},
     "output_type": "display_data"
    },
    {
     "data": {
      "text/html": [
       "<pre style=\"white-space:pre;overflow-x:auto;line-height:normal;font-family:Menlo,'DejaVu Sans Mono',consolas,'Courier New',monospace\"><span style=\"color: #008000; text-decoration-color: #008000\">Warning: trajectory cut off when rollout by epoch at </span><span style=\"color: #008080; text-decoration-color: #008080; font-weight: bold\">1000.0</span><span style=\"color: #008000; text-decoration-color: #008000\"> steps.</span>\n",
       "</pre>\n"
      ],
      "text/plain": [
       "\u001b[32mWarning: trajectory cut off when rollout by epoch at \u001b[0m\u001b[1;36m1000.0\u001b[0m\u001b[32m steps.\u001b[0m\n"
      ]
     },
     "metadata": {},
     "output_type": "display_data"
    },
    {
     "data": {
      "text/html": [
       "<pre style=\"white-space:pre;overflow-x:auto;line-height:normal;font-family:Menlo,'DejaVu Sans Mono',consolas,'Courier New',monospace\"><span style=\"color: #008000; text-decoration-color: #008000\">Warning: trajectory cut off when rollout by epoch at </span><span style=\"color: #008080; text-decoration-color: #008080; font-weight: bold\">1000.0</span><span style=\"color: #008000; text-decoration-color: #008000\"> steps.</span>\n",
       "</pre>\n"
      ],
      "text/plain": [
       "\u001b[32mWarning: trajectory cut off when rollout by epoch at \u001b[0m\u001b[1;36m1000.0\u001b[0m\u001b[32m steps.\u001b[0m\n"
      ]
     },
     "metadata": {},
     "output_type": "display_data"
    },
    {
     "data": {
      "text/html": [
       "<pre style=\"white-space:pre;overflow-x:auto;line-height:normal;font-family:Menlo,'DejaVu Sans Mono',consolas,'Courier New',monospace\"><span style=\"color: #008000; text-decoration-color: #008000\">Warning: trajectory cut off when rollout by epoch at </span><span style=\"color: #008080; text-decoration-color: #008080; font-weight: bold\">1000.0</span><span style=\"color: #008000; text-decoration-color: #008000\"> steps.</span>\n",
       "</pre>\n"
      ],
      "text/plain": [
       "\u001b[32mWarning: trajectory cut off when rollout by epoch at \u001b[0m\u001b[1;36m1000.0\u001b[0m\u001b[32m steps.\u001b[0m\n"
      ]
     },
     "metadata": {},
     "output_type": "display_data"
    },
    {
     "data": {
      "text/html": [
       "<pre style=\"white-space:pre;overflow-x:auto;line-height:normal;font-family:Menlo,'DejaVu Sans Mono',consolas,'Courier New',monospace\"><span style=\"color: #008000; text-decoration-color: #008000\">Warning: trajectory cut off when rollout by epoch at </span><span style=\"color: #008080; text-decoration-color: #008080; font-weight: bold\">1000.0</span><span style=\"color: #008000; text-decoration-color: #008000\"> steps.</span>\n",
       "</pre>\n"
      ],
      "text/plain": [
       "\u001b[32mWarning: trajectory cut off when rollout by epoch at \u001b[0m\u001b[1;36m1000.0\u001b[0m\u001b[32m steps.\u001b[0m\n"
      ]
     },
     "metadata": {},
     "output_type": "display_data"
    },
    {
     "data": {
      "text/html": [
       "<pre style=\"white-space:pre;overflow-x:auto;line-height:normal;font-family:Menlo,'DejaVu Sans Mono',consolas,'Courier New',monospace\"></pre>\n"
      ],
      "text/plain": []
     },
     "metadata": {},
     "output_type": "display_data"
    },
    {
     "data": {
      "text/html": [
       "<pre style=\"white-space:pre;overflow-x:auto;line-height:normal;font-family:Menlo,'DejaVu Sans Mono',consolas,'Courier New',monospace\">\n",
       "</pre>\n"
      ],
      "text/plain": [
       "\n"
      ]
     },
     "metadata": {},
     "output_type": "display_data"
    },
    {
     "data": {
      "text/html": [
       "<pre style=\"white-space:pre;overflow-x:auto;line-height:normal;font-family:Menlo,'DejaVu Sans Mono',consolas,'Courier New',monospace\"><span style=\"color: #008000; text-decoration-color: #008000\">Early stopping at iter </span><span style=\"color: #008080; text-decoration-color: #008080; font-weight: bold\">31</span><span style=\"color: #008000; text-decoration-color: #008000\"> due to reaching max kl</span>\n",
       "</pre>\n"
      ],
      "text/plain": [
       "\u001b[32mEarly stopping at iter \u001b[0m\u001b[1;36m31\u001b[0m\u001b[32m due to reaching max kl\u001b[0m\n"
      ]
     },
     "metadata": {},
     "output_type": "display_data"
    },
    {
     "data": {
      "text/html": [
       "<pre style=\"white-space:pre;overflow-x:auto;line-height:normal;font-family:Menlo,'DejaVu Sans Mono',consolas,'Courier New',monospace\"></pre>\n"
      ],
      "text/plain": []
     },
     "metadata": {},
     "output_type": "display_data"
    },
    {
     "data": {
      "text/html": [
       "<pre style=\"white-space:pre;overflow-x:auto;line-height:normal;font-family:Menlo,'DejaVu Sans Mono',consolas,'Courier New',monospace\">\n",
       "</pre>\n"
      ],
      "text/plain": [
       "\n"
      ]
     },
     "metadata": {},
     "output_type": "display_data"
    },
    {
     "data": {
      "text/html": [
       "<pre style=\"white-space:pre;overflow-x:auto;line-height:normal;font-family:Menlo,'DejaVu Sans Mono',consolas,'Courier New',monospace\">┏━━━━━━━━━━━━━━━━━━━━━━━━━━━━━━━━┳━━━━━━━━━━━━━━━━━━━━━━━┓\n",
       "┃<span style=\"font-weight: bold\"> Metrics                        </span>┃<span style=\"font-weight: bold\"> Value                 </span>┃\n",
       "┡━━━━━━━━━━━━━━━━━━━━━━━━━━━━━━━━╇━━━━━━━━━━━━━━━━━━━━━━━┩\n",
       "│ Metrics/EpRet                  │ 5.320556163787842     │\n",
       "│ Metrics/EpCost                 │ 133.6999969482422     │\n",
       "│ Metrics/EpLen                  │ 1000.0                │\n",
       "│ Train/Epoch                    │ 20.0                  │\n",
       "│ Train/Entropy                  │ 1.2167367935180664    │\n",
       "│ Train/KL                       │ 0.021047979593276978  │\n",
       "│ Train/StopIter                 │ 31.0                  │\n",
       "│ Train/PolicyRatio/Mean         │ 1.0029096603393555    │\n",
       "│ Train/PolicyRatio/Min          │ 1.0029096603393555    │\n",
       "│ Train/PolicyRatio/Max          │ 1.0029096603393555    │\n",
       "│ Train/PolicyRatio/Std          │ 0.019983764737844467  │\n",
       "│ Train/LR                       │ 9.000000136438757e-05 │\n",
       "│ Train/PolicyStd                │ 0.8170226812362671    │\n",
       "│ TotalEnvSteps                  │ 420000.0              │\n",
       "│ Loss/Loss_pi                   │ -0.06985345482826233  │\n",
       "│ Loss/Loss_pi/Delta             │ -0.005534864962100983 │\n",
       "│ Value/Adv                      │ 0.15422411262989044   │\n",
       "│ Loss/Loss_reward_critic        │ 0.020078349858522415  │\n",
       "│ Loss/Loss_reward_critic/Delta  │ 0.004350405186414719  │\n",
       "│ Value/reward                   │ 0.5971667170524597    │\n",
       "│ Loss/Loss_cost_critic          │ 1.367774486541748     │\n",
       "│ Loss/Loss_cost_critic/Delta    │ -0.1649247407913208   │\n",
       "│ Value/cost                     │ 14.942436218261719    │\n",
       "│ Time/Total                     │ 3621.70751953125      │\n",
       "│ Time/Rollout                   │ 63.153831481933594    │\n",
       "│ Time/Update                    │ 125.4605941772461     │\n",
       "│ Time/Epoch                     │ 188.6144256591797     │\n",
       "│ Time/FPS                       │ 106.03643035888672    │\n",
       "│ Metrics/LagrangeMultiplier/Mea │ 0.7365089654922485    │\n",
       "│ Metrics/LagrangeMultiplier/Min │ 0.7365089654922485    │\n",
       "│ Metrics/LagrangeMultiplier/Max │ 0.7365089654922485    │\n",
       "│ Metrics/LagrangeMultiplier/Std │ 0.0                   │\n",
       "└────────────────────────────────┴───────────────────────┘\n",
       "</pre>\n"
      ],
      "text/plain": [
       "┏━━━━━━━━━━━━━━━━━━━━━━━━━━━━━━━━┳━━━━━━━━━━━━━━━━━━━━━━━┓\n",
       "┃\u001b[1m \u001b[0m\u001b[1mMetrics                       \u001b[0m\u001b[1m \u001b[0m┃\u001b[1m \u001b[0m\u001b[1mValue                \u001b[0m\u001b[1m \u001b[0m┃\n",
       "┡━━━━━━━━━━━━━━━━━━━━━━━━━━━━━━━━╇━━━━━━━━━━━━━━━━━━━━━━━┩\n",
       "│ Metrics/EpRet                  │ 5.320556163787842     │\n",
       "│ Metrics/EpCost                 │ 133.6999969482422     │\n",
       "│ Metrics/EpLen                  │ 1000.0                │\n",
       "│ Train/Epoch                    │ 20.0                  │\n",
       "│ Train/Entropy                  │ 1.2167367935180664    │\n",
       "│ Train/KL                       │ 0.021047979593276978  │\n",
       "│ Train/StopIter                 │ 31.0                  │\n",
       "│ Train/PolicyRatio/Mean         │ 1.0029096603393555    │\n",
       "│ Train/PolicyRatio/Min          │ 1.0029096603393555    │\n",
       "│ Train/PolicyRatio/Max          │ 1.0029096603393555    │\n",
       "│ Train/PolicyRatio/Std          │ 0.019983764737844467  │\n",
       "│ Train/LR                       │ 9.000000136438757e-05 │\n",
       "│ Train/PolicyStd                │ 0.8170226812362671    │\n",
       "│ TotalEnvSteps                  │ 420000.0              │\n",
       "│ Loss/Loss_pi                   │ -0.06985345482826233  │\n",
       "│ Loss/Loss_pi/Delta             │ -0.005534864962100983 │\n",
       "│ Value/Adv                      │ 0.15422411262989044   │\n",
       "│ Loss/Loss_reward_critic        │ 0.020078349858522415  │\n",
       "│ Loss/Loss_reward_critic/Delta  │ 0.004350405186414719  │\n",
       "│ Value/reward                   │ 0.5971667170524597    │\n",
       "│ Loss/Loss_cost_critic          │ 1.367774486541748     │\n",
       "│ Loss/Loss_cost_critic/Delta    │ -0.1649247407913208   │\n",
       "│ Value/cost                     │ 14.942436218261719    │\n",
       "│ Time/Total                     │ 3621.70751953125      │\n",
       "│ Time/Rollout                   │ 63.153831481933594    │\n",
       "│ Time/Update                    │ 125.4605941772461     │\n",
       "│ Time/Epoch                     │ 188.6144256591797     │\n",
       "│ Time/FPS                       │ 106.03643035888672    │\n",
       "│ Metrics/LagrangeMultiplier/Mea │ 0.7365089654922485    │\n",
       "│ Metrics/LagrangeMultiplier/Min │ 0.7365089654922485    │\n",
       "│ Metrics/LagrangeMultiplier/Max │ 0.7365089654922485    │\n",
       "│ Metrics/LagrangeMultiplier/Std │ 0.0                   │\n",
       "└────────────────────────────────┴───────────────────────┘\n"
      ]
     },
     "metadata": {},
     "output_type": "display_data"
    },
    {
     "data": {
      "text/html": [
       "<pre style=\"white-space:pre;overflow-x:auto;line-height:normal;font-family:Menlo,'DejaVu Sans Mono',consolas,'Courier New',monospace\"><span style=\"color: #008000; text-decoration-color: #008000\">Warning: trajectory cut off when rollout by epoch at </span><span style=\"color: #008080; text-decoration-color: #008080; font-weight: bold\">1000.0</span><span style=\"color: #008000; text-decoration-color: #008000\"> steps.</span>\n",
       "</pre>\n"
      ],
      "text/plain": [
       "\u001b[32mWarning: trajectory cut off when rollout by epoch at \u001b[0m\u001b[1;36m1000.0\u001b[0m\u001b[32m steps.\u001b[0m\n"
      ]
     },
     "metadata": {},
     "output_type": "display_data"
    },
    {
     "data": {
      "text/html": [
       "<pre style=\"white-space:pre;overflow-x:auto;line-height:normal;font-family:Menlo,'DejaVu Sans Mono',consolas,'Courier New',monospace\"><span style=\"color: #008000; text-decoration-color: #008000\">Warning: trajectory cut off when rollout by epoch at </span><span style=\"color: #008080; text-decoration-color: #008080; font-weight: bold\">1000.0</span><span style=\"color: #008000; text-decoration-color: #008000\"> steps.</span>\n",
       "</pre>\n"
      ],
      "text/plain": [
       "\u001b[32mWarning: trajectory cut off when rollout by epoch at \u001b[0m\u001b[1;36m1000.0\u001b[0m\u001b[32m steps.\u001b[0m\n"
      ]
     },
     "metadata": {},
     "output_type": "display_data"
    },
    {
     "data": {
      "text/html": [
       "<pre style=\"white-space:pre;overflow-x:auto;line-height:normal;font-family:Menlo,'DejaVu Sans Mono',consolas,'Courier New',monospace\"><span style=\"color: #008000; text-decoration-color: #008000\">Warning: trajectory cut off when rollout by epoch at </span><span style=\"color: #008080; text-decoration-color: #008080; font-weight: bold\">1000.0</span><span style=\"color: #008000; text-decoration-color: #008000\"> steps.</span>\n",
       "</pre>\n"
      ],
      "text/plain": [
       "\u001b[32mWarning: trajectory cut off when rollout by epoch at \u001b[0m\u001b[1;36m1000.0\u001b[0m\u001b[32m steps.\u001b[0m\n"
      ]
     },
     "metadata": {},
     "output_type": "display_data"
    },
    {
     "data": {
      "text/html": [
       "<pre style=\"white-space:pre;overflow-x:auto;line-height:normal;font-family:Menlo,'DejaVu Sans Mono',consolas,'Courier New',monospace\"><span style=\"color: #008000; text-decoration-color: #008000\">Warning: trajectory cut off when rollout by epoch at </span><span style=\"color: #008080; text-decoration-color: #008080; font-weight: bold\">1000.0</span><span style=\"color: #008000; text-decoration-color: #008000\"> steps.</span>\n",
       "</pre>\n"
      ],
      "text/plain": [
       "\u001b[32mWarning: trajectory cut off when rollout by epoch at \u001b[0m\u001b[1;36m1000.0\u001b[0m\u001b[32m steps.\u001b[0m\n"
      ]
     },
     "metadata": {},
     "output_type": "display_data"
    },
    {
     "data": {
      "text/html": [
       "<pre style=\"white-space:pre;overflow-x:auto;line-height:normal;font-family:Menlo,'DejaVu Sans Mono',consolas,'Courier New',monospace\"></pre>\n"
      ],
      "text/plain": []
     },
     "metadata": {},
     "output_type": "display_data"
    },
    {
     "data": {
      "text/html": [
       "<pre style=\"white-space:pre;overflow-x:auto;line-height:normal;font-family:Menlo,'DejaVu Sans Mono',consolas,'Courier New',monospace\">\n",
       "</pre>\n"
      ],
      "text/plain": [
       "\n"
      ]
     },
     "metadata": {},
     "output_type": "display_data"
    },
    {
     "data": {
      "text/html": [
       "<pre style=\"white-space:pre;overflow-x:auto;line-height:normal;font-family:Menlo,'DejaVu Sans Mono',consolas,'Courier New',monospace\"><span style=\"color: #008000; text-decoration-color: #008000\">Early stopping at iter </span><span style=\"color: #008080; text-decoration-color: #008080; font-weight: bold\">32</span><span style=\"color: #008000; text-decoration-color: #008000\"> due to reaching max kl</span>\n",
       "</pre>\n"
      ],
      "text/plain": [
       "\u001b[32mEarly stopping at iter \u001b[0m\u001b[1;36m32\u001b[0m\u001b[32m due to reaching max kl\u001b[0m\n"
      ]
     },
     "metadata": {},
     "output_type": "display_data"
    },
    {
     "data": {
      "text/html": [
       "<pre style=\"white-space:pre;overflow-x:auto;line-height:normal;font-family:Menlo,'DejaVu Sans Mono',consolas,'Courier New',monospace\"></pre>\n"
      ],
      "text/plain": []
     },
     "metadata": {},
     "output_type": "display_data"
    },
    {
     "data": {
      "text/html": [
       "<pre style=\"white-space:pre;overflow-x:auto;line-height:normal;font-family:Menlo,'DejaVu Sans Mono',consolas,'Courier New',monospace\">\n",
       "</pre>\n"
      ],
      "text/plain": [
       "\n"
      ]
     },
     "metadata": {},
     "output_type": "display_data"
    },
    {
     "data": {
      "text/html": [
       "<pre style=\"white-space:pre;overflow-x:auto;line-height:normal;font-family:Menlo,'DejaVu Sans Mono',consolas,'Courier New',monospace\">┏━━━━━━━━━━━━━━━━━━━━━━━━━━━━━━━━┳━━━━━━━━━━━━━━━━━━━━━━━┓\n",
       "┃<span style=\"font-weight: bold\"> Metrics                        </span>┃<span style=\"font-weight: bold\"> Value                 </span>┃\n",
       "┡━━━━━━━━━━━━━━━━━━━━━━━━━━━━━━━━╇━━━━━━━━━━━━━━━━━━━━━━━┩\n",
       "│ Metrics/EpRet                  │ 5.953802585601807     │\n",
       "│ Metrics/EpCost                 │ 144.5800018310547     │\n",
       "│ Metrics/EpLen                  │ 1000.0                │\n",
       "│ Train/Epoch                    │ 21.0                  │\n",
       "│ Train/Entropy                  │ 1.2139664888381958    │\n",
       "│ Train/KL                       │ 0.020440896973013878  │\n",
       "│ Train/StopIter                 │ 32.0                  │\n",
       "│ Train/PolicyRatio/Mean         │ 1.0004246234893799    │\n",
       "│ Train/PolicyRatio/Min          │ 1.0004246234893799    │\n",
       "│ Train/PolicyRatio/Max          │ 1.0004246234893799    │\n",
       "│ Train/PolicyRatio/Std          │ 0.02018297277390957   │\n",
       "│ Train/LR                       │ 7.999999797903001e-05 │\n",
       "│ Train/PolicyStd                │ 0.8147302269935608    │\n",
       "│ TotalEnvSteps                  │ 440000.0              │\n",
       "│ Loss/Loss_pi                   │ -0.07764375954866409  │\n",
       "│ Loss/Loss_pi/Delta             │ -0.007790304720401764 │\n",
       "│ Value/Adv                      │ 0.49790918827056885   │\n",
       "│ Loss/Loss_reward_critic        │ 0.022154085338115692  │\n",
       "│ Loss/Loss_reward_critic/Delta  │ 0.002075735479593277  │\n",
       "│ Value/reward                   │ 0.6084660887718201    │\n",
       "│ Loss/Loss_cost_critic          │ 1.5976182222366333    │\n",
       "│ Loss/Loss_cost_critic/Delta    │ 0.22984373569488525   │\n",
       "│ Value/cost                     │ 14.77270793914795     │\n",
       "│ Time/Total                     │ 3816.93310546875      │\n",
       "│ Time/Rollout                   │ 67.47532653808594     │\n",
       "│ Time/Update                    │ 127.70802307128906    │\n",
       "│ Time/Epoch                     │ 195.183349609375      │\n",
       "│ Time/FPS                       │ 102.46775817871094    │\n",
       "│ Metrics/LagrangeMultiplier/Mea │ 0.7705387473106384    │\n",
       "│ Metrics/LagrangeMultiplier/Min │ 0.7705387473106384    │\n",
       "│ Metrics/LagrangeMultiplier/Max │ 0.7705387473106384    │\n",
       "│ Metrics/LagrangeMultiplier/Std │ 0.0                   │\n",
       "└────────────────────────────────┴───────────────────────┘\n",
       "</pre>\n"
      ],
      "text/plain": [
       "┏━━━━━━━━━━━━━━━━━━━━━━━━━━━━━━━━┳━━━━━━━━━━━━━━━━━━━━━━━┓\n",
       "┃\u001b[1m \u001b[0m\u001b[1mMetrics                       \u001b[0m\u001b[1m \u001b[0m┃\u001b[1m \u001b[0m\u001b[1mValue                \u001b[0m\u001b[1m \u001b[0m┃\n",
       "┡━━━━━━━━━━━━━━━━━━━━━━━━━━━━━━━━╇━━━━━━━━━━━━━━━━━━━━━━━┩\n",
       "│ Metrics/EpRet                  │ 5.953802585601807     │\n",
       "│ Metrics/EpCost                 │ 144.5800018310547     │\n",
       "│ Metrics/EpLen                  │ 1000.0                │\n",
       "│ Train/Epoch                    │ 21.0                  │\n",
       "│ Train/Entropy                  │ 1.2139664888381958    │\n",
       "│ Train/KL                       │ 0.020440896973013878  │\n",
       "│ Train/StopIter                 │ 32.0                  │\n",
       "│ Train/PolicyRatio/Mean         │ 1.0004246234893799    │\n",
       "│ Train/PolicyRatio/Min          │ 1.0004246234893799    │\n",
       "│ Train/PolicyRatio/Max          │ 1.0004246234893799    │\n",
       "│ Train/PolicyRatio/Std          │ 0.02018297277390957   │\n",
       "│ Train/LR                       │ 7.999999797903001e-05 │\n",
       "│ Train/PolicyStd                │ 0.8147302269935608    │\n",
       "│ TotalEnvSteps                  │ 440000.0              │\n",
       "│ Loss/Loss_pi                   │ -0.07764375954866409  │\n",
       "│ Loss/Loss_pi/Delta             │ -0.007790304720401764 │\n",
       "│ Value/Adv                      │ 0.49790918827056885   │\n",
       "│ Loss/Loss_reward_critic        │ 0.022154085338115692  │\n",
       "│ Loss/Loss_reward_critic/Delta  │ 0.002075735479593277  │\n",
       "│ Value/reward                   │ 0.6084660887718201    │\n",
       "│ Loss/Loss_cost_critic          │ 1.5976182222366333    │\n",
       "│ Loss/Loss_cost_critic/Delta    │ 0.22984373569488525   │\n",
       "│ Value/cost                     │ 14.77270793914795     │\n",
       "│ Time/Total                     │ 3816.93310546875      │\n",
       "│ Time/Rollout                   │ 67.47532653808594     │\n",
       "│ Time/Update                    │ 127.70802307128906    │\n",
       "│ Time/Epoch                     │ 195.183349609375      │\n",
       "│ Time/FPS                       │ 102.46775817871094    │\n",
       "│ Metrics/LagrangeMultiplier/Mea │ 0.7705387473106384    │\n",
       "│ Metrics/LagrangeMultiplier/Min │ 0.7705387473106384    │\n",
       "│ Metrics/LagrangeMultiplier/Max │ 0.7705387473106384    │\n",
       "│ Metrics/LagrangeMultiplier/Std │ 0.0                   │\n",
       "└────────────────────────────────┴───────────────────────┘\n"
      ]
     },
     "metadata": {},
     "output_type": "display_data"
    },
    {
     "data": {
      "text/html": [
       "<pre style=\"white-space:pre;overflow-x:auto;line-height:normal;font-family:Menlo,'DejaVu Sans Mono',consolas,'Courier New',monospace\"><span style=\"color: #008000; text-decoration-color: #008000\">Warning: trajectory cut off when rollout by epoch at </span><span style=\"color: #008080; text-decoration-color: #008080; font-weight: bold\">1000.0</span><span style=\"color: #008000; text-decoration-color: #008000\"> steps.</span>\n",
       "</pre>\n"
      ],
      "text/plain": [
       "\u001b[32mWarning: trajectory cut off when rollout by epoch at \u001b[0m\u001b[1;36m1000.0\u001b[0m\u001b[32m steps.\u001b[0m\n"
      ]
     },
     "metadata": {},
     "output_type": "display_data"
    },
    {
     "data": {
      "text/html": [
       "<pre style=\"white-space:pre;overflow-x:auto;line-height:normal;font-family:Menlo,'DejaVu Sans Mono',consolas,'Courier New',monospace\"><span style=\"color: #008000; text-decoration-color: #008000\">Warning: trajectory cut off when rollout by epoch at </span><span style=\"color: #008080; text-decoration-color: #008080; font-weight: bold\">1000.0</span><span style=\"color: #008000; text-decoration-color: #008000\"> steps.</span>\n",
       "</pre>\n"
      ],
      "text/plain": [
       "\u001b[32mWarning: trajectory cut off when rollout by epoch at \u001b[0m\u001b[1;36m1000.0\u001b[0m\u001b[32m steps.\u001b[0m\n"
      ]
     },
     "metadata": {},
     "output_type": "display_data"
    },
    {
     "data": {
      "text/html": [
       "<pre style=\"white-space:pre;overflow-x:auto;line-height:normal;font-family:Menlo,'DejaVu Sans Mono',consolas,'Courier New',monospace\"><span style=\"color: #008000; text-decoration-color: #008000\">Warning: trajectory cut off when rollout by epoch at </span><span style=\"color: #008080; text-decoration-color: #008080; font-weight: bold\">1000.0</span><span style=\"color: #008000; text-decoration-color: #008000\"> steps.</span>\n",
       "</pre>\n"
      ],
      "text/plain": [
       "\u001b[32mWarning: trajectory cut off when rollout by epoch at \u001b[0m\u001b[1;36m1000.0\u001b[0m\u001b[32m steps.\u001b[0m\n"
      ]
     },
     "metadata": {},
     "output_type": "display_data"
    },
    {
     "data": {
      "text/html": [
       "<pre style=\"white-space:pre;overflow-x:auto;line-height:normal;font-family:Menlo,'DejaVu Sans Mono',consolas,'Courier New',monospace\"><span style=\"color: #008000; text-decoration-color: #008000\">Warning: trajectory cut off when rollout by epoch at </span><span style=\"color: #008080; text-decoration-color: #008080; font-weight: bold\">1000.0</span><span style=\"color: #008000; text-decoration-color: #008000\"> steps.</span>\n",
       "</pre>\n"
      ],
      "text/plain": [
       "\u001b[32mWarning: trajectory cut off when rollout by epoch at \u001b[0m\u001b[1;36m1000.0\u001b[0m\u001b[32m steps.\u001b[0m\n"
      ]
     },
     "metadata": {},
     "output_type": "display_data"
    },
    {
     "data": {
      "text/html": [
       "<pre style=\"white-space:pre;overflow-x:auto;line-height:normal;font-family:Menlo,'DejaVu Sans Mono',consolas,'Courier New',monospace\"></pre>\n"
      ],
      "text/plain": []
     },
     "metadata": {},
     "output_type": "display_data"
    },
    {
     "data": {
      "text/html": [
       "<pre style=\"white-space:pre;overflow-x:auto;line-height:normal;font-family:Menlo,'DejaVu Sans Mono',consolas,'Courier New',monospace\">\n",
       "</pre>\n"
      ],
      "text/plain": [
       "\n"
      ]
     },
     "metadata": {},
     "output_type": "display_data"
    },
    {
     "data": {
      "text/html": [
       "<pre style=\"white-space:pre;overflow-x:auto;line-height:normal;font-family:Menlo,'DejaVu Sans Mono',consolas,'Courier New',monospace\"><span style=\"color: #008000; text-decoration-color: #008000\">Early stopping at iter </span><span style=\"color: #008080; text-decoration-color: #008080; font-weight: bold\">37</span><span style=\"color: #008000; text-decoration-color: #008000\"> due to reaching max kl</span>\n",
       "</pre>\n"
      ],
      "text/plain": [
       "\u001b[32mEarly stopping at iter \u001b[0m\u001b[1;36m37\u001b[0m\u001b[32m due to reaching max kl\u001b[0m\n"
      ]
     },
     "metadata": {},
     "output_type": "display_data"
    },
    {
     "data": {
      "text/html": [
       "<pre style=\"white-space:pre;overflow-x:auto;line-height:normal;font-family:Menlo,'DejaVu Sans Mono',consolas,'Courier New',monospace\"></pre>\n"
      ],
      "text/plain": []
     },
     "metadata": {},
     "output_type": "display_data"
    },
    {
     "data": {
      "text/html": [
       "<pre style=\"white-space:pre;overflow-x:auto;line-height:normal;font-family:Menlo,'DejaVu Sans Mono',consolas,'Courier New',monospace\">\n",
       "</pre>\n"
      ],
      "text/plain": [
       "\n"
      ]
     },
     "metadata": {},
     "output_type": "display_data"
    },
    {
     "data": {
      "text/html": [
       "<pre style=\"white-space:pre;overflow-x:auto;line-height:normal;font-family:Menlo,'DejaVu Sans Mono',consolas,'Courier New',monospace\">┏━━━━━━━━━━━━━━━━━━━━━━━━━━━━━━━━┳━━━━━━━━━━━━━━━━━━━━━━━━┓\n",
       "┃<span style=\"font-weight: bold\"> Metrics                        </span>┃<span style=\"font-weight: bold\"> Value                  </span>┃\n",
       "┡━━━━━━━━━━━━━━━━━━━━━━━━━━━━━━━━╇━━━━━━━━━━━━━━━━━━━━━━━━┩\n",
       "│ Metrics/EpRet                  │ 6.050692081451416      │\n",
       "│ Metrics/EpCost                 │ 150.0                  │\n",
       "│ Metrics/EpLen                  │ 1000.0                 │\n",
       "│ Train/Epoch                    │ 22.0                   │\n",
       "│ Train/Entropy                  │ 1.211064100265503      │\n",
       "│ Train/KL                       │ 0.02019089087843895    │\n",
       "│ Train/StopIter                 │ 37.0                   │\n",
       "│ Train/PolicyRatio/Mean         │ 1.000680923461914      │\n",
       "│ Train/PolicyRatio/Min          │ 1.000680923461914      │\n",
       "│ Train/PolicyRatio/Max          │ 1.000680923461914      │\n",
       "│ Train/PolicyRatio/Std          │ 0.019771546125411987   │\n",
       "│ Train/LR                       │ 7.000000186963007e-05  │\n",
       "│ Train/PolicyStd                │ 0.8123723268508911     │\n",
       "│ TotalEnvSteps                  │ 460000.0               │\n",
       "│ Loss/Loss_pi                   │ -0.07628730684518814   │\n",
       "│ Loss/Loss_pi/Delta             │ 0.0013564527034759521  │\n",
       "│ Value/Adv                      │ -0.13435885310173035   │\n",
       "│ Loss/Loss_reward_critic        │ 0.02207290753722191    │\n",
       "│ Loss/Loss_reward_critic/Delta  │ -8.117780089378357e-05 │\n",
       "│ Value/reward                   │ 0.5908471345901489     │\n",
       "│ Loss/Loss_cost_critic          │ 1.4427454471588135     │\n",
       "│ Loss/Loss_cost_critic/Delta    │ -0.15487277507781982   │\n",
       "│ Value/cost                     │ 14.665009498596191     │\n",
       "│ Time/Total                     │ 4026.169677734375      │\n",
       "│ Time/Rollout                   │ 63.36262512207031      │\n",
       "│ Time/Update                    │ 145.83387756347656     │\n",
       "│ Time/Epoch                     │ 209.19650268554688     │\n",
       "│ Time/FPS                       │ 95.60389709472656      │\n",
       "│ Metrics/LagrangeMultiplier/Mea │ 0.8047106862068176     │\n",
       "│ Metrics/LagrangeMultiplier/Min │ 0.8047106862068176     │\n",
       "│ Metrics/LagrangeMultiplier/Max │ 0.8047106862068176     │\n",
       "│ Metrics/LagrangeMultiplier/Std │ 0.0                    │\n",
       "└────────────────────────────────┴────────────────────────┘\n",
       "</pre>\n"
      ],
      "text/plain": [
       "┏━━━━━━━━━━━━━━━━━━━━━━━━━━━━━━━━┳━━━━━━━━━━━━━━━━━━━━━━━━┓\n",
       "┃\u001b[1m \u001b[0m\u001b[1mMetrics                       \u001b[0m\u001b[1m \u001b[0m┃\u001b[1m \u001b[0m\u001b[1mValue                 \u001b[0m\u001b[1m \u001b[0m┃\n",
       "┡━━━━━━━━━━━━━━━━━━━━━━━━━━━━━━━━╇━━━━━━━━━━━━━━━━━━━━━━━━┩\n",
       "│ Metrics/EpRet                  │ 6.050692081451416      │\n",
       "│ Metrics/EpCost                 │ 150.0                  │\n",
       "│ Metrics/EpLen                  │ 1000.0                 │\n",
       "│ Train/Epoch                    │ 22.0                   │\n",
       "│ Train/Entropy                  │ 1.211064100265503      │\n",
       "│ Train/KL                       │ 0.02019089087843895    │\n",
       "│ Train/StopIter                 │ 37.0                   │\n",
       "│ Train/PolicyRatio/Mean         │ 1.000680923461914      │\n",
       "│ Train/PolicyRatio/Min          │ 1.000680923461914      │\n",
       "│ Train/PolicyRatio/Max          │ 1.000680923461914      │\n",
       "│ Train/PolicyRatio/Std          │ 0.019771546125411987   │\n",
       "│ Train/LR                       │ 7.000000186963007e-05  │\n",
       "│ Train/PolicyStd                │ 0.8123723268508911     │\n",
       "│ TotalEnvSteps                  │ 460000.0               │\n",
       "│ Loss/Loss_pi                   │ -0.07628730684518814   │\n",
       "│ Loss/Loss_pi/Delta             │ 0.0013564527034759521  │\n",
       "│ Value/Adv                      │ -0.13435885310173035   │\n",
       "│ Loss/Loss_reward_critic        │ 0.02207290753722191    │\n",
       "│ Loss/Loss_reward_critic/Delta  │ -8.117780089378357e-05 │\n",
       "│ Value/reward                   │ 0.5908471345901489     │\n",
       "│ Loss/Loss_cost_critic          │ 1.4427454471588135     │\n",
       "│ Loss/Loss_cost_critic/Delta    │ -0.15487277507781982   │\n",
       "│ Value/cost                     │ 14.665009498596191     │\n",
       "│ Time/Total                     │ 4026.169677734375      │\n",
       "│ Time/Rollout                   │ 63.36262512207031      │\n",
       "│ Time/Update                    │ 145.83387756347656     │\n",
       "│ Time/Epoch                     │ 209.19650268554688     │\n",
       "│ Time/FPS                       │ 95.60389709472656      │\n",
       "│ Metrics/LagrangeMultiplier/Mea │ 0.8047106862068176     │\n",
       "│ Metrics/LagrangeMultiplier/Min │ 0.8047106862068176     │\n",
       "│ Metrics/LagrangeMultiplier/Max │ 0.8047106862068176     │\n",
       "│ Metrics/LagrangeMultiplier/Std │ 0.0                    │\n",
       "└────────────────────────────────┴────────────────────────┘\n"
      ]
     },
     "metadata": {},
     "output_type": "display_data"
    },
    {
     "data": {
      "text/html": [
       "<pre style=\"white-space:pre;overflow-x:auto;line-height:normal;font-family:Menlo,'DejaVu Sans Mono',consolas,'Courier New',monospace\"><span style=\"color: #008000; text-decoration-color: #008000\">Warning: trajectory cut off when rollout by epoch at </span><span style=\"color: #008080; text-decoration-color: #008080; font-weight: bold\">1000.0</span><span style=\"color: #008000; text-decoration-color: #008000\"> steps.</span>\n",
       "</pre>\n"
      ],
      "text/plain": [
       "\u001b[32mWarning: trajectory cut off when rollout by epoch at \u001b[0m\u001b[1;36m1000.0\u001b[0m\u001b[32m steps.\u001b[0m\n"
      ]
     },
     "metadata": {},
     "output_type": "display_data"
    },
    {
     "data": {
      "text/html": [
       "<pre style=\"white-space:pre;overflow-x:auto;line-height:normal;font-family:Menlo,'DejaVu Sans Mono',consolas,'Courier New',monospace\"><span style=\"color: #008000; text-decoration-color: #008000\">Warning: trajectory cut off when rollout by epoch at </span><span style=\"color: #008080; text-decoration-color: #008080; font-weight: bold\">1000.0</span><span style=\"color: #008000; text-decoration-color: #008000\"> steps.</span>\n",
       "</pre>\n"
      ],
      "text/plain": [
       "\u001b[32mWarning: trajectory cut off when rollout by epoch at \u001b[0m\u001b[1;36m1000.0\u001b[0m\u001b[32m steps.\u001b[0m\n"
      ]
     },
     "metadata": {},
     "output_type": "display_data"
    },
    {
     "data": {
      "text/html": [
       "<pre style=\"white-space:pre;overflow-x:auto;line-height:normal;font-family:Menlo,'DejaVu Sans Mono',consolas,'Courier New',monospace\"><span style=\"color: #008000; text-decoration-color: #008000\">Warning: trajectory cut off when rollout by epoch at </span><span style=\"color: #008080; text-decoration-color: #008080; font-weight: bold\">1000.0</span><span style=\"color: #008000; text-decoration-color: #008000\"> steps.</span>\n",
       "</pre>\n"
      ],
      "text/plain": [
       "\u001b[32mWarning: trajectory cut off when rollout by epoch at \u001b[0m\u001b[1;36m1000.0\u001b[0m\u001b[32m steps.\u001b[0m\n"
      ]
     },
     "metadata": {},
     "output_type": "display_data"
    },
    {
     "data": {
      "text/html": [
       "<pre style=\"white-space:pre;overflow-x:auto;line-height:normal;font-family:Menlo,'DejaVu Sans Mono',consolas,'Courier New',monospace\"><span style=\"color: #008000; text-decoration-color: #008000\">Warning: trajectory cut off when rollout by epoch at </span><span style=\"color: #008080; text-decoration-color: #008080; font-weight: bold\">1000.0</span><span style=\"color: #008000; text-decoration-color: #008000\"> steps.</span>\n",
       "</pre>\n"
      ],
      "text/plain": [
       "\u001b[32mWarning: trajectory cut off when rollout by epoch at \u001b[0m\u001b[1;36m1000.0\u001b[0m\u001b[32m steps.\u001b[0m\n"
      ]
     },
     "metadata": {},
     "output_type": "display_data"
    },
    {
     "data": {
      "text/html": [
       "<pre style=\"white-space:pre;overflow-x:auto;line-height:normal;font-family:Menlo,'DejaVu Sans Mono',consolas,'Courier New',monospace\"></pre>\n"
      ],
      "text/plain": []
     },
     "metadata": {},
     "output_type": "display_data"
    },
    {
     "data": {
      "text/html": [
       "<pre style=\"white-space:pre;overflow-x:auto;line-height:normal;font-family:Menlo,'DejaVu Sans Mono',consolas,'Courier New',monospace\">\n",
       "</pre>\n"
      ],
      "text/plain": [
       "\n"
      ]
     },
     "metadata": {},
     "output_type": "display_data"
    },
    {
     "data": {
      "text/html": [
       "<pre style=\"white-space:pre;overflow-x:auto;line-height:normal;font-family:Menlo,'DejaVu Sans Mono',consolas,'Courier New',monospace\"><span style=\"color: #008000; text-decoration-color: #008000\">Early stopping at iter </span><span style=\"color: #008080; text-decoration-color: #008080; font-weight: bold\">38</span><span style=\"color: #008000; text-decoration-color: #008000\"> due to reaching max kl</span>\n",
       "</pre>\n"
      ],
      "text/plain": [
       "\u001b[32mEarly stopping at iter \u001b[0m\u001b[1;36m38\u001b[0m\u001b[32m due to reaching max kl\u001b[0m\n"
      ]
     },
     "metadata": {},
     "output_type": "display_data"
    },
    {
     "data": {
      "text/html": [
       "<pre style=\"white-space:pre;overflow-x:auto;line-height:normal;font-family:Menlo,'DejaVu Sans Mono',consolas,'Courier New',monospace\"></pre>\n"
      ],
      "text/plain": []
     },
     "metadata": {},
     "output_type": "display_data"
    },
    {
     "data": {
      "text/html": [
       "<pre style=\"white-space:pre;overflow-x:auto;line-height:normal;font-family:Menlo,'DejaVu Sans Mono',consolas,'Courier New',monospace\">\n",
       "</pre>\n"
      ],
      "text/plain": [
       "\n"
      ]
     },
     "metadata": {},
     "output_type": "display_data"
    },
    {
     "data": {
      "text/html": [
       "<pre style=\"white-space:pre;overflow-x:auto;line-height:normal;font-family:Menlo,'DejaVu Sans Mono',consolas,'Courier New',monospace\">┏━━━━━━━━━━━━━━━━━━━━━━━━━━━━━━━━┳━━━━━━━━━━━━━━━━━━━━━━━━┓\n",
       "┃<span style=\"font-weight: bold\"> Metrics                        </span>┃<span style=\"font-weight: bold\"> Value                  </span>┃\n",
       "┡━━━━━━━━━━━━━━━━━━━━━━━━━━━━━━━━╇━━━━━━━━━━━━━━━━━━━━━━━━┩\n",
       "│ Metrics/EpRet                  │ 5.914628982543945      │\n",
       "│ Metrics/EpCost                 │ 147.83999633789062     │\n",
       "│ Metrics/EpLen                  │ 1000.0                 │\n",
       "│ Train/Epoch                    │ 23.0                   │\n",
       "│ Train/Entropy                  │ 1.1994694471359253     │\n",
       "│ Train/KL                       │ 0.02030724473297596    │\n",
       "│ Train/StopIter                 │ 38.0                   │\n",
       "│ Train/PolicyRatio/Mean         │ 1.0029371976852417     │\n",
       "│ Train/PolicyRatio/Min          │ 1.0029371976852417     │\n",
       "│ Train/PolicyRatio/Max          │ 1.0029371976852417     │\n",
       "│ Train/PolicyRatio/Std          │ 0.019548028707504272   │\n",
       "│ Train/LR                       │ 5.999999848427251e-05  │\n",
       "│ Train/PolicyStd                │ 0.803045392036438      │\n",
       "│ TotalEnvSteps                  │ 480000.0               │\n",
       "│ Loss/Loss_pi                   │ -0.07993431389331818   │\n",
       "│ Loss/Loss_pi/Delta             │ -0.0036470070481300354 │\n",
       "│ Value/Adv                      │ -0.30605268478393555   │\n",
       "│ Loss/Loss_reward_critic        │ 0.016596412286162376   │\n",
       "│ Loss/Loss_reward_critic/Delta  │ -0.005476495251059532  │\n",
       "│ Value/reward                   │ 0.6604443788528442     │\n",
       "│ Loss/Loss_cost_critic          │ 1.3411778211593628     │\n",
       "│ Loss/Loss_cost_critic/Delta    │ -0.10156762599945068   │\n",
       "│ Value/cost                     │ 15.606590270996094     │\n",
       "│ Time/Total                     │ 4239.95458984375       │\n",
       "│ Time/Rollout                   │ 64.10689544677734      │\n",
       "│ Time/Update                    │ 149.6331024169922      │\n",
       "│ Time/Epoch                     │ 213.74000549316406     │\n",
       "│ Time/FPS                       │ 93.57162475585938      │\n",
       "│ Metrics/LagrangeMultiplier/Mea │ 0.8389657735824585     │\n",
       "│ Metrics/LagrangeMultiplier/Min │ 0.8389657735824585     │\n",
       "│ Metrics/LagrangeMultiplier/Max │ 0.8389657735824585     │\n",
       "│ Metrics/LagrangeMultiplier/Std │ 0.0                    │\n",
       "└────────────────────────────────┴────────────────────────┘\n",
       "</pre>\n"
      ],
      "text/plain": [
       "┏━━━━━━━━━━━━━━━━━━━━━━━━━━━━━━━━┳━━━━━━━━━━━━━━━━━━━━━━━━┓\n",
       "┃\u001b[1m \u001b[0m\u001b[1mMetrics                       \u001b[0m\u001b[1m \u001b[0m┃\u001b[1m \u001b[0m\u001b[1mValue                 \u001b[0m\u001b[1m \u001b[0m┃\n",
       "┡━━━━━━━━━━━━━━━━━━━━━━━━━━━━━━━━╇━━━━━━━━━━━━━━━━━━━━━━━━┩\n",
       "│ Metrics/EpRet                  │ 5.914628982543945      │\n",
       "│ Metrics/EpCost                 │ 147.83999633789062     │\n",
       "│ Metrics/EpLen                  │ 1000.0                 │\n",
       "│ Train/Epoch                    │ 23.0                   │\n",
       "│ Train/Entropy                  │ 1.1994694471359253     │\n",
       "│ Train/KL                       │ 0.02030724473297596    │\n",
       "│ Train/StopIter                 │ 38.0                   │\n",
       "│ Train/PolicyRatio/Mean         │ 1.0029371976852417     │\n",
       "│ Train/PolicyRatio/Min          │ 1.0029371976852417     │\n",
       "│ Train/PolicyRatio/Max          │ 1.0029371976852417     │\n",
       "│ Train/PolicyRatio/Std          │ 0.019548028707504272   │\n",
       "│ Train/LR                       │ 5.999999848427251e-05  │\n",
       "│ Train/PolicyStd                │ 0.803045392036438      │\n",
       "│ TotalEnvSteps                  │ 480000.0               │\n",
       "│ Loss/Loss_pi                   │ -0.07993431389331818   │\n",
       "│ Loss/Loss_pi/Delta             │ -0.0036470070481300354 │\n",
       "│ Value/Adv                      │ -0.30605268478393555   │\n",
       "│ Loss/Loss_reward_critic        │ 0.016596412286162376   │\n",
       "│ Loss/Loss_reward_critic/Delta  │ -0.005476495251059532  │\n",
       "│ Value/reward                   │ 0.6604443788528442     │\n",
       "│ Loss/Loss_cost_critic          │ 1.3411778211593628     │\n",
       "│ Loss/Loss_cost_critic/Delta    │ -0.10156762599945068   │\n",
       "│ Value/cost                     │ 15.606590270996094     │\n",
       "│ Time/Total                     │ 4239.95458984375       │\n",
       "│ Time/Rollout                   │ 64.10689544677734      │\n",
       "│ Time/Update                    │ 149.6331024169922      │\n",
       "│ Time/Epoch                     │ 213.74000549316406     │\n",
       "│ Time/FPS                       │ 93.57162475585938      │\n",
       "│ Metrics/LagrangeMultiplier/Mea │ 0.8389657735824585     │\n",
       "│ Metrics/LagrangeMultiplier/Min │ 0.8389657735824585     │\n",
       "│ Metrics/LagrangeMultiplier/Max │ 0.8389657735824585     │\n",
       "│ Metrics/LagrangeMultiplier/Std │ 0.0                    │\n",
       "└────────────────────────────────┴────────────────────────┘\n"
      ]
     },
     "metadata": {},
     "output_type": "display_data"
    },
    {
     "data": {
      "text/html": [
       "<pre style=\"white-space:pre;overflow-x:auto;line-height:normal;font-family:Menlo,'DejaVu Sans Mono',consolas,'Courier New',monospace\"><span style=\"color: #008000; text-decoration-color: #008000\">Warning: trajectory cut off when rollout by epoch at </span><span style=\"color: #008080; text-decoration-color: #008080; font-weight: bold\">1000.0</span><span style=\"color: #008000; text-decoration-color: #008000\"> steps.</span>\n",
       "</pre>\n"
      ],
      "text/plain": [
       "\u001b[32mWarning: trajectory cut off when rollout by epoch at \u001b[0m\u001b[1;36m1000.0\u001b[0m\u001b[32m steps.\u001b[0m\n"
      ]
     },
     "metadata": {},
     "output_type": "display_data"
    },
    {
     "data": {
      "text/html": [
       "<pre style=\"white-space:pre;overflow-x:auto;line-height:normal;font-family:Menlo,'DejaVu Sans Mono',consolas,'Courier New',monospace\"><span style=\"color: #008000; text-decoration-color: #008000\">Warning: trajectory cut off when rollout by epoch at </span><span style=\"color: #008080; text-decoration-color: #008080; font-weight: bold\">1000.0</span><span style=\"color: #008000; text-decoration-color: #008000\"> steps.</span>\n",
       "</pre>\n"
      ],
      "text/plain": [
       "\u001b[32mWarning: trajectory cut off when rollout by epoch at \u001b[0m\u001b[1;36m1000.0\u001b[0m\u001b[32m steps.\u001b[0m\n"
      ]
     },
     "metadata": {},
     "output_type": "display_data"
    },
    {
     "data": {
      "text/html": [
       "<pre style=\"white-space:pre;overflow-x:auto;line-height:normal;font-family:Menlo,'DejaVu Sans Mono',consolas,'Courier New',monospace\"><span style=\"color: #008000; text-decoration-color: #008000\">Warning: trajectory cut off when rollout by epoch at </span><span style=\"color: #008080; text-decoration-color: #008080; font-weight: bold\">1000.0</span><span style=\"color: #008000; text-decoration-color: #008000\"> steps.</span>\n",
       "</pre>\n"
      ],
      "text/plain": [
       "\u001b[32mWarning: trajectory cut off when rollout by epoch at \u001b[0m\u001b[1;36m1000.0\u001b[0m\u001b[32m steps.\u001b[0m\n"
      ]
     },
     "metadata": {},
     "output_type": "display_data"
    },
    {
     "data": {
      "text/html": [
       "<pre style=\"white-space:pre;overflow-x:auto;line-height:normal;font-family:Menlo,'DejaVu Sans Mono',consolas,'Courier New',monospace\"><span style=\"color: #008000; text-decoration-color: #008000\">Warning: trajectory cut off when rollout by epoch at </span><span style=\"color: #008080; text-decoration-color: #008080; font-weight: bold\">1000.0</span><span style=\"color: #008000; text-decoration-color: #008000\"> steps.</span>\n",
       "</pre>\n"
      ],
      "text/plain": [
       "\u001b[32mWarning: trajectory cut off when rollout by epoch at \u001b[0m\u001b[1;36m1000.0\u001b[0m\u001b[32m steps.\u001b[0m\n"
      ]
     },
     "metadata": {},
     "output_type": "display_data"
    },
    {
     "data": {
      "text/html": [
       "<pre style=\"white-space:pre;overflow-x:auto;line-height:normal;font-family:Menlo,'DejaVu Sans Mono',consolas,'Courier New',monospace\"></pre>\n"
      ],
      "text/plain": []
     },
     "metadata": {},
     "output_type": "display_data"
    },
    {
     "data": {
      "text/html": [
       "<pre style=\"white-space:pre;overflow-x:auto;line-height:normal;font-family:Menlo,'DejaVu Sans Mono',consolas,'Courier New',monospace\">\n",
       "</pre>\n"
      ],
      "text/plain": [
       "\n"
      ]
     },
     "metadata": {},
     "output_type": "display_data"
    },
    {
     "data": {
      "text/html": [
       "<pre style=\"white-space:pre;overflow-x:auto;line-height:normal;font-family:Menlo,'DejaVu Sans Mono',consolas,'Courier New',monospace\"></pre>\n"
      ],
      "text/plain": []
     },
     "metadata": {},
     "output_type": "display_data"
    },
    {
     "data": {
      "text/html": [
       "<pre style=\"white-space:pre;overflow-x:auto;line-height:normal;font-family:Menlo,'DejaVu Sans Mono',consolas,'Courier New',monospace\">\n",
       "</pre>\n"
      ],
      "text/plain": [
       "\n"
      ]
     },
     "metadata": {},
     "output_type": "display_data"
    },
    {
     "data": {
      "text/html": [
       "<pre style=\"white-space:pre;overflow-x:auto;line-height:normal;font-family:Menlo,'DejaVu Sans Mono',consolas,'Courier New',monospace\">┏━━━━━━━━━━━━━━━━━━━━━━━━━━━━━━━━┳━━━━━━━━━━━━━━━━━━━━━━━┓\n",
       "┃<span style=\"font-weight: bold\"> Metrics                        </span>┃<span style=\"font-weight: bold\"> Value                 </span>┃\n",
       "┡━━━━━━━━━━━━━━━━━━━━━━━━━━━━━━━━╇━━━━━━━━━━━━━━━━━━━━━━━┩\n",
       "│ Metrics/EpRet                  │ 5.879311561584473     │\n",
       "│ Metrics/EpCost                 │ 120.31999969482422    │\n",
       "│ Metrics/EpLen                  │ 1000.0                │\n",
       "│ Train/Epoch                    │ 24.0                  │\n",
       "│ Train/Entropy                  │ 1.1911426782608032    │\n",
       "│ Train/KL                       │ 0.017086511477828026  │\n",
       "│ Train/StopIter                 │ 40.0                  │\n",
       "│ Train/PolicyRatio/Mean         │ 1.0025906562805176    │\n",
       "│ Train/PolicyRatio/Min          │ 1.0025906562805176    │\n",
       "│ Train/PolicyRatio/Max          │ 1.0025906562805176    │\n",
       "│ Train/PolicyRatio/Std          │ 0.018543666228652     │\n",
       "│ Train/LR                       │ 4.999999873689376e-05 │\n",
       "│ Train/PolicyStd                │ 0.7963884472846985    │\n",
       "│ TotalEnvSteps                  │ 500000.0              │\n",
       "│ Loss/Loss_pi                   │ -0.0643421933054924   │\n",
       "│ Loss/Loss_pi/Delta             │ 0.015592120587825775  │\n",
       "│ Value/Adv                      │ -0.21613366901874542  │\n",
       "│ Loss/Loss_reward_critic        │ 0.01855102926492691   │\n",
       "│ Loss/Loss_reward_critic/Delta  │ 0.001954616978764534  │\n",
       "│ Value/reward                   │ 0.5617724657058716    │\n",
       "│ Loss/Loss_cost_critic          │ 1.1175059080123901    │\n",
       "│ Loss/Loss_cost_critic/Delta    │ -0.22367191314697266  │\n",
       "│ Value/cost                     │ 14.145590782165527    │\n",
       "│ Time/Total                     │ 4462.2177734375       │\n",
       "│ Time/Rollout                   │ 64.44232940673828     │\n",
       "│ Time/Update                    │ 157.76568603515625    │\n",
       "│ Time/Epoch                     │ 222.20802307128906    │\n",
       "│ Time/FPS                       │ 90.00575256347656     │\n",
       "│ Metrics/LagrangeMultiplier/Mea │ 0.8727234601974487    │\n",
       "│ Metrics/LagrangeMultiplier/Min │ 0.8727234601974487    │\n",
       "│ Metrics/LagrangeMultiplier/Max │ 0.8727234601974487    │\n",
       "│ Metrics/LagrangeMultiplier/Std │ 0.0                   │\n",
       "└────────────────────────────────┴───────────────────────┘\n",
       "</pre>\n"
      ],
      "text/plain": [
       "┏━━━━━━━━━━━━━━━━━━━━━━━━━━━━━━━━┳━━━━━━━━━━━━━━━━━━━━━━━┓\n",
       "┃\u001b[1m \u001b[0m\u001b[1mMetrics                       \u001b[0m\u001b[1m \u001b[0m┃\u001b[1m \u001b[0m\u001b[1mValue                \u001b[0m\u001b[1m \u001b[0m┃\n",
       "┡━━━━━━━━━━━━━━━━━━━━━━━━━━━━━━━━╇━━━━━━━━━━━━━━━━━━━━━━━┩\n",
       "│ Metrics/EpRet                  │ 5.879311561584473     │\n",
       "│ Metrics/EpCost                 │ 120.31999969482422    │\n",
       "│ Metrics/EpLen                  │ 1000.0                │\n",
       "│ Train/Epoch                    │ 24.0                  │\n",
       "│ Train/Entropy                  │ 1.1911426782608032    │\n",
       "│ Train/KL                       │ 0.017086511477828026  │\n",
       "│ Train/StopIter                 │ 40.0                  │\n",
       "│ Train/PolicyRatio/Mean         │ 1.0025906562805176    │\n",
       "│ Train/PolicyRatio/Min          │ 1.0025906562805176    │\n",
       "│ Train/PolicyRatio/Max          │ 1.0025906562805176    │\n",
       "│ Train/PolicyRatio/Std          │ 0.018543666228652     │\n",
       "│ Train/LR                       │ 4.999999873689376e-05 │\n",
       "│ Train/PolicyStd                │ 0.7963884472846985    │\n",
       "│ TotalEnvSteps                  │ 500000.0              │\n",
       "│ Loss/Loss_pi                   │ -0.0643421933054924   │\n",
       "│ Loss/Loss_pi/Delta             │ 0.015592120587825775  │\n",
       "│ Value/Adv                      │ -0.21613366901874542  │\n",
       "│ Loss/Loss_reward_critic        │ 0.01855102926492691   │\n",
       "│ Loss/Loss_reward_critic/Delta  │ 0.001954616978764534  │\n",
       "│ Value/reward                   │ 0.5617724657058716    │\n",
       "│ Loss/Loss_cost_critic          │ 1.1175059080123901    │\n",
       "│ Loss/Loss_cost_critic/Delta    │ -0.22367191314697266  │\n",
       "│ Value/cost                     │ 14.145590782165527    │\n",
       "│ Time/Total                     │ 4462.2177734375       │\n",
       "│ Time/Rollout                   │ 64.44232940673828     │\n",
       "│ Time/Update                    │ 157.76568603515625    │\n",
       "│ Time/Epoch                     │ 222.20802307128906    │\n",
       "│ Time/FPS                       │ 90.00575256347656     │\n",
       "│ Metrics/LagrangeMultiplier/Mea │ 0.8727234601974487    │\n",
       "│ Metrics/LagrangeMultiplier/Min │ 0.8727234601974487    │\n",
       "│ Metrics/LagrangeMultiplier/Max │ 0.8727234601974487    │\n",
       "│ Metrics/LagrangeMultiplier/Std │ 0.0                   │\n",
       "└────────────────────────────────┴───────────────────────┘\n"
      ]
     },
     "metadata": {},
     "output_type": "display_data"
    },
    {
     "data": {
      "text/html": [
       "<pre style=\"white-space:pre;overflow-x:auto;line-height:normal;font-family:Menlo,'DejaVu Sans Mono',consolas,'Courier New',monospace\"><span style=\"color: #008000; text-decoration-color: #008000\">Warning: trajectory cut off when rollout by epoch at </span><span style=\"color: #008080; text-decoration-color: #008080; font-weight: bold\">1000.0</span><span style=\"color: #008000; text-decoration-color: #008000\"> steps.</span>\n",
       "</pre>\n"
      ],
      "text/plain": [
       "\u001b[32mWarning: trajectory cut off when rollout by epoch at \u001b[0m\u001b[1;36m1000.0\u001b[0m\u001b[32m steps.\u001b[0m\n"
      ]
     },
     "metadata": {},
     "output_type": "display_data"
    },
    {
     "data": {
      "text/html": [
       "<pre style=\"white-space:pre;overflow-x:auto;line-height:normal;font-family:Menlo,'DejaVu Sans Mono',consolas,'Courier New',monospace\"><span style=\"color: #008000; text-decoration-color: #008000\">Warning: trajectory cut off when rollout by epoch at </span><span style=\"color: #008080; text-decoration-color: #008080; font-weight: bold\">1000.0</span><span style=\"color: #008000; text-decoration-color: #008000\"> steps.</span>\n",
       "</pre>\n"
      ],
      "text/plain": [
       "\u001b[32mWarning: trajectory cut off when rollout by epoch at \u001b[0m\u001b[1;36m1000.0\u001b[0m\u001b[32m steps.\u001b[0m\n"
      ]
     },
     "metadata": {},
     "output_type": "display_data"
    },
    {
     "data": {
      "text/html": [
       "<pre style=\"white-space:pre;overflow-x:auto;line-height:normal;font-family:Menlo,'DejaVu Sans Mono',consolas,'Courier New',monospace\"><span style=\"color: #008000; text-decoration-color: #008000\">Warning: trajectory cut off when rollout by epoch at </span><span style=\"color: #008080; text-decoration-color: #008080; font-weight: bold\">1000.0</span><span style=\"color: #008000; text-decoration-color: #008000\"> steps.</span>\n",
       "</pre>\n"
      ],
      "text/plain": [
       "\u001b[32mWarning: trajectory cut off when rollout by epoch at \u001b[0m\u001b[1;36m1000.0\u001b[0m\u001b[32m steps.\u001b[0m\n"
      ]
     },
     "metadata": {},
     "output_type": "display_data"
    },
    {
     "data": {
      "text/html": [
       "<pre style=\"white-space:pre;overflow-x:auto;line-height:normal;font-family:Menlo,'DejaVu Sans Mono',consolas,'Courier New',monospace\"><span style=\"color: #008000; text-decoration-color: #008000\">Warning: trajectory cut off when rollout by epoch at </span><span style=\"color: #008080; text-decoration-color: #008080; font-weight: bold\">1000.0</span><span style=\"color: #008000; text-decoration-color: #008000\"> steps.</span>\n",
       "</pre>\n"
      ],
      "text/plain": [
       "\u001b[32mWarning: trajectory cut off when rollout by epoch at \u001b[0m\u001b[1;36m1000.0\u001b[0m\u001b[32m steps.\u001b[0m\n"
      ]
     },
     "metadata": {},
     "output_type": "display_data"
    },
    {
     "data": {
      "text/html": [
       "<pre style=\"white-space:pre;overflow-x:auto;line-height:normal;font-family:Menlo,'DejaVu Sans Mono',consolas,'Courier New',monospace\"></pre>\n"
      ],
      "text/plain": []
     },
     "metadata": {},
     "output_type": "display_data"
    },
    {
     "data": {
      "text/html": [
       "<pre style=\"white-space:pre;overflow-x:auto;line-height:normal;font-family:Menlo,'DejaVu Sans Mono',consolas,'Courier New',monospace\">\n",
       "</pre>\n"
      ],
      "text/plain": [
       "\n"
      ]
     },
     "metadata": {},
     "output_type": "display_data"
    },
    {
     "data": {
      "text/html": [
       "<pre style=\"white-space:pre;overflow-x:auto;line-height:normal;font-family:Menlo,'DejaVu Sans Mono',consolas,'Courier New',monospace\"></pre>\n"
      ],
      "text/plain": []
     },
     "metadata": {},
     "output_type": "display_data"
    },
    {
     "data": {
      "text/html": [
       "<pre style=\"white-space:pre;overflow-x:auto;line-height:normal;font-family:Menlo,'DejaVu Sans Mono',consolas,'Courier New',monospace\">\n",
       "</pre>\n"
      ],
      "text/plain": [
       "\n"
      ]
     },
     "metadata": {},
     "output_type": "display_data"
    },
    {
     "data": {
      "text/html": [
       "<pre style=\"white-space:pre;overflow-x:auto;line-height:normal;font-family:Menlo,'DejaVu Sans Mono',consolas,'Courier New',monospace\">┏━━━━━━━━━━━━━━━━━━━━━━━━━━━━━━━━┳━━━━━━━━━━━━━━━━━━━━━━━━┓\n",
       "┃<span style=\"font-weight: bold\"> Metrics                        </span>┃<span style=\"font-weight: bold\"> Value                  </span>┃\n",
       "┡━━━━━━━━━━━━━━━━━━━━━━━━━━━━━━━━╇━━━━━━━━━━━━━━━━━━━━━━━━┩\n",
       "│ Metrics/EpRet                  │ 5.595369815826416      │\n",
       "│ Metrics/EpCost                 │ 116.26000213623047     │\n",
       "│ Metrics/EpLen                  │ 1000.0                 │\n",
       "│ Train/Epoch                    │ 25.0                   │\n",
       "│ Train/Entropy                  │ 1.17849600315094       │\n",
       "│ Train/KL                       │ 0.015788912773132324   │\n",
       "│ Train/StopIter                 │ 40.0                   │\n",
       "│ Train/PolicyRatio/Mean         │ 1.002277135848999      │\n",
       "│ Train/PolicyRatio/Min          │ 1.002277135848999      │\n",
       "│ Train/PolicyRatio/Max          │ 1.002277135848999      │\n",
       "│ Train/PolicyRatio/Std          │ 0.017707686871290207   │\n",
       "│ Train/LR                       │ 3.9999998989515007e-05 │\n",
       "│ Train/PolicyStd                │ 0.7863792777061462     │\n",
       "│ TotalEnvSteps                  │ 520000.0               │\n",
       "│ Loss/Loss_pi                   │ -0.06538953632116318   │\n",
       "│ Loss/Loss_pi/Delta             │ -0.0010473430156707764 │\n",
       "│ Value/Adv                      │ -0.027584299445152283  │\n",
       "│ Loss/Loss_reward_critic        │ 0.01737138070166111    │\n",
       "│ Loss/Loss_reward_critic/Delta  │ -0.0011796485632658005 │\n",
       "│ Value/reward                   │ 0.724694013595581      │\n",
       "│ Loss/Loss_cost_critic          │ 1.1861847639083862     │\n",
       "│ Loss/Loss_cost_critic/Delta    │ 0.0686788558959961     │\n",
       "│ Value/cost                     │ 14.07641887664795      │\n",
       "│ Time/Total                     │ 4684.25732421875       │\n",
       "│ Time/Rollout                   │ 63.70594787597656      │\n",
       "│ Time/Update                    │ 158.29872131347656     │\n",
       "│ Time/Epoch                     │ 222.00466918945312     │\n",
       "│ Time/FPS                       │ 90.08819580078125      │\n",
       "│ Metrics/LagrangeMultiplier/Mea │ 0.9059544205665588     │\n",
       "│ Metrics/LagrangeMultiplier/Min │ 0.9059544205665588     │\n",
       "│ Metrics/LagrangeMultiplier/Max │ 0.9059544205665588     │\n",
       "│ Metrics/LagrangeMultiplier/Std │ 0.0                    │\n",
       "└────────────────────────────────┴────────────────────────┘\n",
       "</pre>\n"
      ],
      "text/plain": [
       "┏━━━━━━━━━━━━━━━━━━━━━━━━━━━━━━━━┳━━━━━━━━━━━━━━━━━━━━━━━━┓\n",
       "┃\u001b[1m \u001b[0m\u001b[1mMetrics                       \u001b[0m\u001b[1m \u001b[0m┃\u001b[1m \u001b[0m\u001b[1mValue                 \u001b[0m\u001b[1m \u001b[0m┃\n",
       "┡━━━━━━━━━━━━━━━━━━━━━━━━━━━━━━━━╇━━━━━━━━━━━━━━━━━━━━━━━━┩\n",
       "│ Metrics/EpRet                  │ 5.595369815826416      │\n",
       "│ Metrics/EpCost                 │ 116.26000213623047     │\n",
       "│ Metrics/EpLen                  │ 1000.0                 │\n",
       "│ Train/Epoch                    │ 25.0                   │\n",
       "│ Train/Entropy                  │ 1.17849600315094       │\n",
       "│ Train/KL                       │ 0.015788912773132324   │\n",
       "│ Train/StopIter                 │ 40.0                   │\n",
       "│ Train/PolicyRatio/Mean         │ 1.002277135848999      │\n",
       "│ Train/PolicyRatio/Min          │ 1.002277135848999      │\n",
       "│ Train/PolicyRatio/Max          │ 1.002277135848999      │\n",
       "│ Train/PolicyRatio/Std          │ 0.017707686871290207   │\n",
       "│ Train/LR                       │ 3.9999998989515007e-05 │\n",
       "│ Train/PolicyStd                │ 0.7863792777061462     │\n",
       "│ TotalEnvSteps                  │ 520000.0               │\n",
       "│ Loss/Loss_pi                   │ -0.06538953632116318   │\n",
       "│ Loss/Loss_pi/Delta             │ -0.0010473430156707764 │\n",
       "│ Value/Adv                      │ -0.027584299445152283  │\n",
       "│ Loss/Loss_reward_critic        │ 0.01737138070166111    │\n",
       "│ Loss/Loss_reward_critic/Delta  │ -0.0011796485632658005 │\n",
       "│ Value/reward                   │ 0.724694013595581      │\n",
       "│ Loss/Loss_cost_critic          │ 1.1861847639083862     │\n",
       "│ Loss/Loss_cost_critic/Delta    │ 0.0686788558959961     │\n",
       "│ Value/cost                     │ 14.07641887664795      │\n",
       "│ Time/Total                     │ 4684.25732421875       │\n",
       "│ Time/Rollout                   │ 63.70594787597656      │\n",
       "│ Time/Update                    │ 158.29872131347656     │\n",
       "│ Time/Epoch                     │ 222.00466918945312     │\n",
       "│ Time/FPS                       │ 90.08819580078125      │\n",
       "│ Metrics/LagrangeMultiplier/Mea │ 0.9059544205665588     │\n",
       "│ Metrics/LagrangeMultiplier/Min │ 0.9059544205665588     │\n",
       "│ Metrics/LagrangeMultiplier/Max │ 0.9059544205665588     │\n",
       "│ Metrics/LagrangeMultiplier/Std │ 0.0                    │\n",
       "└────────────────────────────────┴────────────────────────┘\n"
      ]
     },
     "metadata": {},
     "output_type": "display_data"
    },
    {
     "data": {
      "text/html": [
       "<pre style=\"white-space:pre;overflow-x:auto;line-height:normal;font-family:Menlo,'DejaVu Sans Mono',consolas,'Courier New',monospace\"><span style=\"color: #008000; text-decoration-color: #008000\">Warning: trajectory cut off when rollout by epoch at </span><span style=\"color: #008080; text-decoration-color: #008080; font-weight: bold\">1000.0</span><span style=\"color: #008000; text-decoration-color: #008000\"> steps.</span>\n",
       "</pre>\n"
      ],
      "text/plain": [
       "\u001b[32mWarning: trajectory cut off when rollout by epoch at \u001b[0m\u001b[1;36m1000.0\u001b[0m\u001b[32m steps.\u001b[0m\n"
      ]
     },
     "metadata": {},
     "output_type": "display_data"
    },
    {
     "data": {
      "text/html": [
       "<pre style=\"white-space:pre;overflow-x:auto;line-height:normal;font-family:Menlo,'DejaVu Sans Mono',consolas,'Courier New',monospace\"><span style=\"color: #008000; text-decoration-color: #008000\">Warning: trajectory cut off when rollout by epoch at </span><span style=\"color: #008080; text-decoration-color: #008080; font-weight: bold\">1000.0</span><span style=\"color: #008000; text-decoration-color: #008000\"> steps.</span>\n",
       "</pre>\n"
      ],
      "text/plain": [
       "\u001b[32mWarning: trajectory cut off when rollout by epoch at \u001b[0m\u001b[1;36m1000.0\u001b[0m\u001b[32m steps.\u001b[0m\n"
      ]
     },
     "metadata": {},
     "output_type": "display_data"
    },
    {
     "data": {
      "text/html": [
       "<pre style=\"white-space:pre;overflow-x:auto;line-height:normal;font-family:Menlo,'DejaVu Sans Mono',consolas,'Courier New',monospace\"><span style=\"color: #008000; text-decoration-color: #008000\">Warning: trajectory cut off when rollout by epoch at </span><span style=\"color: #008080; text-decoration-color: #008080; font-weight: bold\">1000.0</span><span style=\"color: #008000; text-decoration-color: #008000\"> steps.</span>\n",
       "</pre>\n"
      ],
      "text/plain": [
       "\u001b[32mWarning: trajectory cut off when rollout by epoch at \u001b[0m\u001b[1;36m1000.0\u001b[0m\u001b[32m steps.\u001b[0m\n"
      ]
     },
     "metadata": {},
     "output_type": "display_data"
    },
    {
     "data": {
      "text/html": [
       "<pre style=\"white-space:pre;overflow-x:auto;line-height:normal;font-family:Menlo,'DejaVu Sans Mono',consolas,'Courier New',monospace\"><span style=\"color: #008000; text-decoration-color: #008000\">Warning: trajectory cut off when rollout by epoch at </span><span style=\"color: #008080; text-decoration-color: #008080; font-weight: bold\">1000.0</span><span style=\"color: #008000; text-decoration-color: #008000\"> steps.</span>\n",
       "</pre>\n"
      ],
      "text/plain": [
       "\u001b[32mWarning: trajectory cut off when rollout by epoch at \u001b[0m\u001b[1;36m1000.0\u001b[0m\u001b[32m steps.\u001b[0m\n"
      ]
     },
     "metadata": {},
     "output_type": "display_data"
    },
    {
     "data": {
      "text/html": [
       "<pre style=\"white-space:pre;overflow-x:auto;line-height:normal;font-family:Menlo,'DejaVu Sans Mono',consolas,'Courier New',monospace\"></pre>\n"
      ],
      "text/plain": []
     },
     "metadata": {},
     "output_type": "display_data"
    },
    {
     "data": {
      "text/html": [
       "<pre style=\"white-space:pre;overflow-x:auto;line-height:normal;font-family:Menlo,'DejaVu Sans Mono',consolas,'Courier New',monospace\">\n",
       "</pre>\n"
      ],
      "text/plain": [
       "\n"
      ]
     },
     "metadata": {},
     "output_type": "display_data"
    },
    {
     "data": {
      "text/html": [
       "<pre style=\"white-space:pre;overflow-x:auto;line-height:normal;font-family:Menlo,'DejaVu Sans Mono',consolas,'Courier New',monospace\"></pre>\n"
      ],
      "text/plain": []
     },
     "metadata": {},
     "output_type": "display_data"
    },
    {
     "data": {
      "text/html": [
       "<pre style=\"white-space:pre;overflow-x:auto;line-height:normal;font-family:Menlo,'DejaVu Sans Mono',consolas,'Courier New',monospace\">\n",
       "</pre>\n"
      ],
      "text/plain": [
       "\n"
      ]
     },
     "metadata": {},
     "output_type": "display_data"
    },
    {
     "data": {
      "text/html": [
       "<pre style=\"white-space:pre;overflow-x:auto;line-height:normal;font-family:Menlo,'DejaVu Sans Mono',consolas,'Courier New',monospace\">┏━━━━━━━━━━━━━━━━━━━━━━━━━━━━━━━━┳━━━━━━━━━━━━━━━━━━━━━━━━┓\n",
       "┃<span style=\"font-weight: bold\"> Metrics                        </span>┃<span style=\"font-weight: bold\"> Value                  </span>┃\n",
       "┡━━━━━━━━━━━━━━━━━━━━━━━━━━━━━━━━╇━━━━━━━━━━━━━━━━━━━━━━━━┩\n",
       "│ Metrics/EpRet                  │ 5.067328453063965      │\n",
       "│ Metrics/EpCost                 │ 110.23999786376953     │\n",
       "│ Metrics/EpLen                  │ 1000.0                 │\n",
       "│ Train/Epoch                    │ 26.0                   │\n",
       "│ Train/Entropy                  │ 1.1707165241241455     │\n",
       "│ Train/KL                       │ 0.014110317453742027   │\n",
       "│ Train/StopIter                 │ 40.0                   │\n",
       "│ Train/PolicyRatio/Mean         │ 1.0029240846633911     │\n",
       "│ Train/PolicyRatio/Min          │ 1.0029240846633911     │\n",
       "│ Train/PolicyRatio/Max          │ 1.0029240846633911     │\n",
       "│ Train/PolicyRatio/Std          │ 0.016662605106830597   │\n",
       "│ Train/LR                       │ 2.9999999242136255e-05 │\n",
       "│ Train/PolicyStd                │ 0.7803213000297546     │\n",
       "│ TotalEnvSteps                  │ 540000.0               │\n",
       "│ Loss/Loss_pi                   │ -0.061237581074237823  │\n",
       "│ Loss/Loss_pi/Delta             │ 0.004151955246925354   │\n",
       "│ Value/Adv                      │ -0.2796008586883545    │\n",
       "│ Loss/Loss_reward_critic        │ 0.018427735194563866   │\n",
       "│ Loss/Loss_reward_critic/Delta  │ 0.0010563544929027557  │\n",
       "│ Value/reward                   │ 0.6236017346382141     │\n",
       "│ Loss/Loss_cost_critic          │ 1.1833125352859497     │\n",
       "│ Loss/Loss_cost_critic/Delta    │ -0.0028722286224365234 │\n",
       "│ Value/cost                     │ 13.902953147888184     │\n",
       "│ Time/Total                     │ 4919.2431640625        │\n",
       "│ Time/Rollout                   │ 63.216434478759766     │\n",
       "│ Time/Update                    │ 171.73196411132812     │\n",
       "│ Time/Epoch                     │ 234.94940185546875     │\n",
       "│ Time/FPS                       │ 85.12471771240234      │\n",
       "│ Metrics/LagrangeMultiplier/Mea │ 0.9385827779769897     │\n",
       "│ Metrics/LagrangeMultiplier/Min │ 0.9385827779769897     │\n",
       "│ Metrics/LagrangeMultiplier/Max │ 0.9385827779769897     │\n",
       "│ Metrics/LagrangeMultiplier/Std │ 0.0                    │\n",
       "└────────────────────────────────┴────────────────────────┘\n",
       "</pre>\n"
      ],
      "text/plain": [
       "┏━━━━━━━━━━━━━━━━━━━━━━━━━━━━━━━━┳━━━━━━━━━━━━━━━━━━━━━━━━┓\n",
       "┃\u001b[1m \u001b[0m\u001b[1mMetrics                       \u001b[0m\u001b[1m \u001b[0m┃\u001b[1m \u001b[0m\u001b[1mValue                 \u001b[0m\u001b[1m \u001b[0m┃\n",
       "┡━━━━━━━━━━━━━━━━━━━━━━━━━━━━━━━━╇━━━━━━━━━━━━━━━━━━━━━━━━┩\n",
       "│ Metrics/EpRet                  │ 5.067328453063965      │\n",
       "│ Metrics/EpCost                 │ 110.23999786376953     │\n",
       "│ Metrics/EpLen                  │ 1000.0                 │\n",
       "│ Train/Epoch                    │ 26.0                   │\n",
       "│ Train/Entropy                  │ 1.1707165241241455     │\n",
       "│ Train/KL                       │ 0.014110317453742027   │\n",
       "│ Train/StopIter                 │ 40.0                   │\n",
       "│ Train/PolicyRatio/Mean         │ 1.0029240846633911     │\n",
       "│ Train/PolicyRatio/Min          │ 1.0029240846633911     │\n",
       "│ Train/PolicyRatio/Max          │ 1.0029240846633911     │\n",
       "│ Train/PolicyRatio/Std          │ 0.016662605106830597   │\n",
       "│ Train/LR                       │ 2.9999999242136255e-05 │\n",
       "│ Train/PolicyStd                │ 0.7803213000297546     │\n",
       "│ TotalEnvSteps                  │ 540000.0               │\n",
       "│ Loss/Loss_pi                   │ -0.061237581074237823  │\n",
       "│ Loss/Loss_pi/Delta             │ 0.004151955246925354   │\n",
       "│ Value/Adv                      │ -0.2796008586883545    │\n",
       "│ Loss/Loss_reward_critic        │ 0.018427735194563866   │\n",
       "│ Loss/Loss_reward_critic/Delta  │ 0.0010563544929027557  │\n",
       "│ Value/reward                   │ 0.6236017346382141     │\n",
       "│ Loss/Loss_cost_critic          │ 1.1833125352859497     │\n",
       "│ Loss/Loss_cost_critic/Delta    │ -0.0028722286224365234 │\n",
       "│ Value/cost                     │ 13.902953147888184     │\n",
       "│ Time/Total                     │ 4919.2431640625        │\n",
       "│ Time/Rollout                   │ 63.216434478759766     │\n",
       "│ Time/Update                    │ 171.73196411132812     │\n",
       "│ Time/Epoch                     │ 234.94940185546875     │\n",
       "│ Time/FPS                       │ 85.12471771240234      │\n",
       "│ Metrics/LagrangeMultiplier/Mea │ 0.9385827779769897     │\n",
       "│ Metrics/LagrangeMultiplier/Min │ 0.9385827779769897     │\n",
       "│ Metrics/LagrangeMultiplier/Max │ 0.9385827779769897     │\n",
       "│ Metrics/LagrangeMultiplier/Std │ 0.0                    │\n",
       "└────────────────────────────────┴────────────────────────┘\n"
      ]
     },
     "metadata": {},
     "output_type": "display_data"
    },
    {
     "data": {
      "text/html": [
       "<pre style=\"white-space:pre;overflow-x:auto;line-height:normal;font-family:Menlo,'DejaVu Sans Mono',consolas,'Courier New',monospace\"><span style=\"color: #008000; text-decoration-color: #008000\">Warning: trajectory cut off when rollout by epoch at </span><span style=\"color: #008080; text-decoration-color: #008080; font-weight: bold\">1000.0</span><span style=\"color: #008000; text-decoration-color: #008000\"> steps.</span>\n",
       "</pre>\n"
      ],
      "text/plain": [
       "\u001b[32mWarning: trajectory cut off when rollout by epoch at \u001b[0m\u001b[1;36m1000.0\u001b[0m\u001b[32m steps.\u001b[0m\n"
      ]
     },
     "metadata": {},
     "output_type": "display_data"
    },
    {
     "data": {
      "text/html": [
       "<pre style=\"white-space:pre;overflow-x:auto;line-height:normal;font-family:Menlo,'DejaVu Sans Mono',consolas,'Courier New',monospace\"><span style=\"color: #008000; text-decoration-color: #008000\">Warning: trajectory cut off when rollout by epoch at </span><span style=\"color: #008080; text-decoration-color: #008080; font-weight: bold\">1000.0</span><span style=\"color: #008000; text-decoration-color: #008000\"> steps.</span>\n",
       "</pre>\n"
      ],
      "text/plain": [
       "\u001b[32mWarning: trajectory cut off when rollout by epoch at \u001b[0m\u001b[1;36m1000.0\u001b[0m\u001b[32m steps.\u001b[0m\n"
      ]
     },
     "metadata": {},
     "output_type": "display_data"
    },
    {
     "data": {
      "text/html": [
       "<pre style=\"white-space:pre;overflow-x:auto;line-height:normal;font-family:Menlo,'DejaVu Sans Mono',consolas,'Courier New',monospace\"><span style=\"color: #008000; text-decoration-color: #008000\">Warning: trajectory cut off when rollout by epoch at </span><span style=\"color: #008080; text-decoration-color: #008080; font-weight: bold\">1000.0</span><span style=\"color: #008000; text-decoration-color: #008000\"> steps.</span>\n",
       "</pre>\n"
      ],
      "text/plain": [
       "\u001b[32mWarning: trajectory cut off when rollout by epoch at \u001b[0m\u001b[1;36m1000.0\u001b[0m\u001b[32m steps.\u001b[0m\n"
      ]
     },
     "metadata": {},
     "output_type": "display_data"
    },
    {
     "data": {
      "text/html": [
       "<pre style=\"white-space:pre;overflow-x:auto;line-height:normal;font-family:Menlo,'DejaVu Sans Mono',consolas,'Courier New',monospace\"><span style=\"color: #008000; text-decoration-color: #008000\">Warning: trajectory cut off when rollout by epoch at </span><span style=\"color: #008080; text-decoration-color: #008080; font-weight: bold\">1000.0</span><span style=\"color: #008000; text-decoration-color: #008000\"> steps.</span>\n",
       "</pre>\n"
      ],
      "text/plain": [
       "\u001b[32mWarning: trajectory cut off when rollout by epoch at \u001b[0m\u001b[1;36m1000.0\u001b[0m\u001b[32m steps.\u001b[0m\n"
      ]
     },
     "metadata": {},
     "output_type": "display_data"
    },
    {
     "data": {
      "text/html": [
       "<pre style=\"white-space:pre;overflow-x:auto;line-height:normal;font-family:Menlo,'DejaVu Sans Mono',consolas,'Courier New',monospace\"></pre>\n"
      ],
      "text/plain": []
     },
     "metadata": {},
     "output_type": "display_data"
    },
    {
     "data": {
      "text/html": [
       "<pre style=\"white-space:pre;overflow-x:auto;line-height:normal;font-family:Menlo,'DejaVu Sans Mono',consolas,'Courier New',monospace\">\n",
       "</pre>\n"
      ],
      "text/plain": [
       "\n"
      ]
     },
     "metadata": {},
     "output_type": "display_data"
    },
    {
     "data": {
      "text/html": [
       "<pre style=\"white-space:pre;overflow-x:auto;line-height:normal;font-family:Menlo,'DejaVu Sans Mono',consolas,'Courier New',monospace\"></pre>\n"
      ],
      "text/plain": []
     },
     "metadata": {},
     "output_type": "display_data"
    },
    {
     "data": {
      "text/html": [
       "<pre style=\"white-space:pre;overflow-x:auto;line-height:normal;font-family:Menlo,'DejaVu Sans Mono',consolas,'Courier New',monospace\">\n",
       "</pre>\n"
      ],
      "text/plain": [
       "\n"
      ]
     },
     "metadata": {},
     "output_type": "display_data"
    },
    {
     "data": {
      "text/html": [
       "<pre style=\"white-space:pre;overflow-x:auto;line-height:normal;font-family:Menlo,'DejaVu Sans Mono',consolas,'Courier New',monospace\">┏━━━━━━━━━━━━━━━━━━━━━━━━━━━━━━━━┳━━━━━━━━━━━━━━━━━━━━━━━━┓\n",
       "┃<span style=\"font-weight: bold\"> Metrics                        </span>┃<span style=\"font-weight: bold\"> Value                  </span>┃\n",
       "┡━━━━━━━━━━━━━━━━━━━━━━━━━━━━━━━━╇━━━━━━━━━━━━━━━━━━━━━━━━┩\n",
       "│ Metrics/EpRet                  │ 5.449708461761475      │\n",
       "│ Metrics/EpCost                 │ 122.9000015258789      │\n",
       "│ Metrics/EpLen                  │ 1000.0                 │\n",
       "│ Train/Epoch                    │ 27.0                   │\n",
       "│ Train/Entropy                  │ 1.1630226373672485     │\n",
       "│ Train/KL                       │ 0.01109284907579422    │\n",
       "│ Train/StopIter                 │ 40.0                   │\n",
       "│ Train/PolicyRatio/Mean         │ 1.0009403228759766     │\n",
       "│ Train/PolicyRatio/Min          │ 1.0009403228759766     │\n",
       "│ Train/PolicyRatio/Max          │ 1.0009403228759766     │\n",
       "│ Train/PolicyRatio/Std          │ 0.01501502562314272    │\n",
       "│ Train/LR                       │ 1.9999999494757503e-05 │\n",
       "│ Train/PolicyStd                │ 0.7743058204650879     │\n",
       "│ TotalEnvSteps                  │ 560000.0               │\n",
       "│ Loss/Loss_pi                   │ -0.05935133621096611   │\n",
       "│ Loss/Loss_pi/Delta             │ 0.0018862448632717133  │\n",
       "│ Value/Adv                      │ 0.06367392838001251    │\n",
       "│ Loss/Loss_reward_critic        │ 0.024655954912304878   │\n",
       "│ Loss/Loss_reward_critic/Delta  │ 0.006228219717741013   │\n",
       "│ Value/reward                   │ 0.6721978783607483     │\n",
       "│ Loss/Loss_cost_critic          │ 1.2684264183044434     │\n",
       "│ Loss/Loss_cost_critic/Delta    │ 0.08511388301849365    │\n",
       "│ Value/cost                     │ 12.562698364257812     │\n",
       "│ Time/Total                     │ 5148.6640625           │\n",
       "│ Time/Rollout                   │ 58.462730407714844     │\n",
       "│ Time/Update                    │ 170.91180419921875     │\n",
       "│ Time/Epoch                     │ 229.37452697753906     │\n",
       "│ Time/FPS                       │ 87.19364166259766      │\n",
       "│ Metrics/LagrangeMultiplier/Mea │ 0.9709784984588623     │\n",
       "│ Metrics/LagrangeMultiplier/Min │ 0.9709784984588623     │\n",
       "│ Metrics/LagrangeMultiplier/Max │ 0.9709784984588623     │\n",
       "│ Metrics/LagrangeMultiplier/Std │ 0.0                    │\n",
       "└────────────────────────────────┴────────────────────────┘\n",
       "</pre>\n"
      ],
      "text/plain": [
       "┏━━━━━━━━━━━━━━━━━━━━━━━━━━━━━━━━┳━━━━━━━━━━━━━━━━━━━━━━━━┓\n",
       "┃\u001b[1m \u001b[0m\u001b[1mMetrics                       \u001b[0m\u001b[1m \u001b[0m┃\u001b[1m \u001b[0m\u001b[1mValue                 \u001b[0m\u001b[1m \u001b[0m┃\n",
       "┡━━━━━━━━━━━━━━━━━━━━━━━━━━━━━━━━╇━━━━━━━━━━━━━━━━━━━━━━━━┩\n",
       "│ Metrics/EpRet                  │ 5.449708461761475      │\n",
       "│ Metrics/EpCost                 │ 122.9000015258789      │\n",
       "│ Metrics/EpLen                  │ 1000.0                 │\n",
       "│ Train/Epoch                    │ 27.0                   │\n",
       "│ Train/Entropy                  │ 1.1630226373672485     │\n",
       "│ Train/KL                       │ 0.01109284907579422    │\n",
       "│ Train/StopIter                 │ 40.0                   │\n",
       "│ Train/PolicyRatio/Mean         │ 1.0009403228759766     │\n",
       "│ Train/PolicyRatio/Min          │ 1.0009403228759766     │\n",
       "│ Train/PolicyRatio/Max          │ 1.0009403228759766     │\n",
       "│ Train/PolicyRatio/Std          │ 0.01501502562314272    │\n",
       "│ Train/LR                       │ 1.9999999494757503e-05 │\n",
       "│ Train/PolicyStd                │ 0.7743058204650879     │\n",
       "│ TotalEnvSteps                  │ 560000.0               │\n",
       "│ Loss/Loss_pi                   │ -0.05935133621096611   │\n",
       "│ Loss/Loss_pi/Delta             │ 0.0018862448632717133  │\n",
       "│ Value/Adv                      │ 0.06367392838001251    │\n",
       "│ Loss/Loss_reward_critic        │ 0.024655954912304878   │\n",
       "│ Loss/Loss_reward_critic/Delta  │ 0.006228219717741013   │\n",
       "│ Value/reward                   │ 0.6721978783607483     │\n",
       "│ Loss/Loss_cost_critic          │ 1.2684264183044434     │\n",
       "│ Loss/Loss_cost_critic/Delta    │ 0.08511388301849365    │\n",
       "│ Value/cost                     │ 12.562698364257812     │\n",
       "│ Time/Total                     │ 5148.6640625           │\n",
       "│ Time/Rollout                   │ 58.462730407714844     │\n",
       "│ Time/Update                    │ 170.91180419921875     │\n",
       "│ Time/Epoch                     │ 229.37452697753906     │\n",
       "│ Time/FPS                       │ 87.19364166259766      │\n",
       "│ Metrics/LagrangeMultiplier/Mea │ 0.9709784984588623     │\n",
       "│ Metrics/LagrangeMultiplier/Min │ 0.9709784984588623     │\n",
       "│ Metrics/LagrangeMultiplier/Max │ 0.9709784984588623     │\n",
       "│ Metrics/LagrangeMultiplier/Std │ 0.0                    │\n",
       "└────────────────────────────────┴────────────────────────┘\n"
      ]
     },
     "metadata": {},
     "output_type": "display_data"
    },
    {
     "data": {
      "text/html": [
       "<pre style=\"white-space:pre;overflow-x:auto;line-height:normal;font-family:Menlo,'DejaVu Sans Mono',consolas,'Courier New',monospace\"><span style=\"color: #008000; text-decoration-color: #008000\">Warning: trajectory cut off when rollout by epoch at </span><span style=\"color: #008080; text-decoration-color: #008080; font-weight: bold\">1000.0</span><span style=\"color: #008000; text-decoration-color: #008000\"> steps.</span>\n",
       "</pre>\n"
      ],
      "text/plain": [
       "\u001b[32mWarning: trajectory cut off when rollout by epoch at \u001b[0m\u001b[1;36m1000.0\u001b[0m\u001b[32m steps.\u001b[0m\n"
      ]
     },
     "metadata": {},
     "output_type": "display_data"
    },
    {
     "data": {
      "text/html": [
       "<pre style=\"white-space:pre;overflow-x:auto;line-height:normal;font-family:Menlo,'DejaVu Sans Mono',consolas,'Courier New',monospace\"><span style=\"color: #008000; text-decoration-color: #008000\">Warning: trajectory cut off when rollout by epoch at </span><span style=\"color: #008080; text-decoration-color: #008080; font-weight: bold\">1000.0</span><span style=\"color: #008000; text-decoration-color: #008000\"> steps.</span>\n",
       "</pre>\n"
      ],
      "text/plain": [
       "\u001b[32mWarning: trajectory cut off when rollout by epoch at \u001b[0m\u001b[1;36m1000.0\u001b[0m\u001b[32m steps.\u001b[0m\n"
      ]
     },
     "metadata": {},
     "output_type": "display_data"
    },
    {
     "data": {
      "text/html": [
       "<pre style=\"white-space:pre;overflow-x:auto;line-height:normal;font-family:Menlo,'DejaVu Sans Mono',consolas,'Courier New',monospace\"><span style=\"color: #008000; text-decoration-color: #008000\">Warning: trajectory cut off when rollout by epoch at </span><span style=\"color: #008080; text-decoration-color: #008080; font-weight: bold\">1000.0</span><span style=\"color: #008000; text-decoration-color: #008000\"> steps.</span>\n",
       "</pre>\n"
      ],
      "text/plain": [
       "\u001b[32mWarning: trajectory cut off when rollout by epoch at \u001b[0m\u001b[1;36m1000.0\u001b[0m\u001b[32m steps.\u001b[0m\n"
      ]
     },
     "metadata": {},
     "output_type": "display_data"
    },
    {
     "data": {
      "text/html": [
       "<pre style=\"white-space:pre;overflow-x:auto;line-height:normal;font-family:Menlo,'DejaVu Sans Mono',consolas,'Courier New',monospace\"><span style=\"color: #008000; text-decoration-color: #008000\">Warning: trajectory cut off when rollout by epoch at </span><span style=\"color: #008080; text-decoration-color: #008080; font-weight: bold\">1000.0</span><span style=\"color: #008000; text-decoration-color: #008000\"> steps.</span>\n",
       "</pre>\n"
      ],
      "text/plain": [
       "\u001b[32mWarning: trajectory cut off when rollout by epoch at \u001b[0m\u001b[1;36m1000.0\u001b[0m\u001b[32m steps.\u001b[0m\n"
      ]
     },
     "metadata": {},
     "output_type": "display_data"
    },
    {
     "data": {
      "text/html": [
       "<pre style=\"white-space:pre;overflow-x:auto;line-height:normal;font-family:Menlo,'DejaVu Sans Mono',consolas,'Courier New',monospace\"></pre>\n"
      ],
      "text/plain": []
     },
     "metadata": {},
     "output_type": "display_data"
    },
    {
     "data": {
      "text/html": [
       "<pre style=\"white-space:pre;overflow-x:auto;line-height:normal;font-family:Menlo,'DejaVu Sans Mono',consolas,'Courier New',monospace\">\n",
       "</pre>\n"
      ],
      "text/plain": [
       "\n"
      ]
     },
     "metadata": {},
     "output_type": "display_data"
    },
    {
     "data": {
      "text/html": [
       "<pre style=\"white-space:pre;overflow-x:auto;line-height:normal;font-family:Menlo,'DejaVu Sans Mono',consolas,'Courier New',monospace\"></pre>\n"
      ],
      "text/plain": []
     },
     "metadata": {},
     "output_type": "display_data"
    },
    {
     "data": {
      "text/html": [
       "<pre style=\"white-space:pre;overflow-x:auto;line-height:normal;font-family:Menlo,'DejaVu Sans Mono',consolas,'Courier New',monospace\">\n",
       "</pre>\n"
      ],
      "text/plain": [
       "\n"
      ]
     },
     "metadata": {},
     "output_type": "display_data"
    },
    {
     "data": {
      "text/html": [
       "<pre style=\"white-space:pre;overflow-x:auto;line-height:normal;font-family:Menlo,'DejaVu Sans Mono',consolas,'Courier New',monospace\">┏━━━━━━━━━━━━━━━━━━━━━━━━━━━━━━━━┳━━━━━━━━━━━━━━━━━━━━━━━┓\n",
       "┃<span style=\"font-weight: bold\"> Metrics                        </span>┃<span style=\"font-weight: bold\"> Value                 </span>┃\n",
       "┡━━━━━━━━━━━━━━━━━━━━━━━━━━━━━━━━╇━━━━━━━━━━━━━━━━━━━━━━━┩\n",
       "│ Metrics/EpRet                  │ 6.361149311065674     │\n",
       "│ Metrics/EpCost                 │ 109.16000366210938    │\n",
       "│ Metrics/EpLen                  │ 1000.0                │\n",
       "│ Train/Epoch                    │ 28.0                  │\n",
       "│ Train/Entropy                  │ 1.1643315553665161    │\n",
       "│ Train/KL                       │ 0.008379148319363594  │\n",
       "│ Train/StopIter                 │ 40.0                  │\n",
       "│ Train/PolicyRatio/Mean         │ 1.0000075101852417    │\n",
       "│ Train/PolicyRatio/Min          │ 1.0000075101852417    │\n",
       "│ Train/PolicyRatio/Max          │ 1.0000075101852417    │\n",
       "│ Train/PolicyRatio/Std          │ 0.013237632811069489  │\n",
       "│ Train/LR                       │ 9.999999747378752e-06 │\n",
       "│ Train/PolicyStd                │ 0.7753261923789978    │\n",
       "│ TotalEnvSteps                  │ 580000.0              │\n",
       "│ Loss/Loss_pi                   │ -0.0457245372235775   │\n",
       "│ Loss/Loss_pi/Delta             │ 0.01362679898738861   │\n",
       "│ Value/Adv                      │ 0.184158593416214     │\n",
       "│ Loss/Loss_reward_critic        │ 0.019242970272898674  │\n",
       "│ Loss/Loss_reward_critic/Delta  │ -0.005412984639406204 │\n",
       "│ Value/reward                   │ 0.7418662905693054    │\n",
       "│ Loss/Loss_cost_critic          │ 0.9841270446777344    │\n",
       "│ Loss/Loss_cost_critic/Delta    │ -0.284299373626709    │\n",
       "│ Value/cost                     │ 12.724405288696289    │\n",
       "│ Time/Total                     │ 5371.0                │\n",
       "│ Time/Rollout                   │ 59.220951080322266    │\n",
       "│ Time/Update                    │ 163.07766723632812    │\n",
       "│ Time/Epoch                     │ 222.2986297607422     │\n",
       "│ Time/FPS                       │ 89.96907043457031     │\n",
       "│ Metrics/LagrangeMultiplier/Mea │ 1.0028477907180786    │\n",
       "│ Metrics/LagrangeMultiplier/Min │ 1.0028477907180786    │\n",
       "│ Metrics/LagrangeMultiplier/Max │ 1.0028477907180786    │\n",
       "│ Metrics/LagrangeMultiplier/Std │ 0.0                   │\n",
       "└────────────────────────────────┴───────────────────────┘\n",
       "</pre>\n"
      ],
      "text/plain": [
       "┏━━━━━━━━━━━━━━━━━━━━━━━━━━━━━━━━┳━━━━━━━━━━━━━━━━━━━━━━━┓\n",
       "┃\u001b[1m \u001b[0m\u001b[1mMetrics                       \u001b[0m\u001b[1m \u001b[0m┃\u001b[1m \u001b[0m\u001b[1mValue                \u001b[0m\u001b[1m \u001b[0m┃\n",
       "┡━━━━━━━━━━━━━━━━━━━━━━━━━━━━━━━━╇━━━━━━━━━━━━━━━━━━━━━━━┩\n",
       "│ Metrics/EpRet                  │ 6.361149311065674     │\n",
       "│ Metrics/EpCost                 │ 109.16000366210938    │\n",
       "│ Metrics/EpLen                  │ 1000.0                │\n",
       "│ Train/Epoch                    │ 28.0                  │\n",
       "│ Train/Entropy                  │ 1.1643315553665161    │\n",
       "│ Train/KL                       │ 0.008379148319363594  │\n",
       "│ Train/StopIter                 │ 40.0                  │\n",
       "│ Train/PolicyRatio/Mean         │ 1.0000075101852417    │\n",
       "│ Train/PolicyRatio/Min          │ 1.0000075101852417    │\n",
       "│ Train/PolicyRatio/Max          │ 1.0000075101852417    │\n",
       "│ Train/PolicyRatio/Std          │ 0.013237632811069489  │\n",
       "│ Train/LR                       │ 9.999999747378752e-06 │\n",
       "│ Train/PolicyStd                │ 0.7753261923789978    │\n",
       "│ TotalEnvSteps                  │ 580000.0              │\n",
       "│ Loss/Loss_pi                   │ -0.0457245372235775   │\n",
       "│ Loss/Loss_pi/Delta             │ 0.01362679898738861   │\n",
       "│ Value/Adv                      │ 0.184158593416214     │\n",
       "│ Loss/Loss_reward_critic        │ 0.019242970272898674  │\n",
       "│ Loss/Loss_reward_critic/Delta  │ -0.005412984639406204 │\n",
       "│ Value/reward                   │ 0.7418662905693054    │\n",
       "│ Loss/Loss_cost_critic          │ 0.9841270446777344    │\n",
       "│ Loss/Loss_cost_critic/Delta    │ -0.284299373626709    │\n",
       "│ Value/cost                     │ 12.724405288696289    │\n",
       "│ Time/Total                     │ 5371.0                │\n",
       "│ Time/Rollout                   │ 59.220951080322266    │\n",
       "│ Time/Update                    │ 163.07766723632812    │\n",
       "│ Time/Epoch                     │ 222.2986297607422     │\n",
       "│ Time/FPS                       │ 89.96907043457031     │\n",
       "│ Metrics/LagrangeMultiplier/Mea │ 1.0028477907180786    │\n",
       "│ Metrics/LagrangeMultiplier/Min │ 1.0028477907180786    │\n",
       "│ Metrics/LagrangeMultiplier/Max │ 1.0028477907180786    │\n",
       "│ Metrics/LagrangeMultiplier/Std │ 0.0                   │\n",
       "└────────────────────────────────┴───────────────────────┘\n"
      ]
     },
     "metadata": {},
     "output_type": "display_data"
    },
    {
     "data": {
      "text/html": [
       "<pre style=\"white-space:pre;overflow-x:auto;line-height:normal;font-family:Menlo,'DejaVu Sans Mono',consolas,'Courier New',monospace\"><span style=\"color: #008000; text-decoration-color: #008000\">Warning: trajectory cut off when rollout by epoch at </span><span style=\"color: #008080; text-decoration-color: #008080; font-weight: bold\">1000.0</span><span style=\"color: #008000; text-decoration-color: #008000\"> steps.</span>\n",
       "</pre>\n"
      ],
      "text/plain": [
       "\u001b[32mWarning: trajectory cut off when rollout by epoch at \u001b[0m\u001b[1;36m1000.0\u001b[0m\u001b[32m steps.\u001b[0m\n"
      ]
     },
     "metadata": {},
     "output_type": "display_data"
    },
    {
     "data": {
      "text/html": [
       "<pre style=\"white-space:pre;overflow-x:auto;line-height:normal;font-family:Menlo,'DejaVu Sans Mono',consolas,'Courier New',monospace\"><span style=\"color: #008000; text-decoration-color: #008000\">Warning: trajectory cut off when rollout by epoch at </span><span style=\"color: #008080; text-decoration-color: #008080; font-weight: bold\">1000.0</span><span style=\"color: #008000; text-decoration-color: #008000\"> steps.</span>\n",
       "</pre>\n"
      ],
      "text/plain": [
       "\u001b[32mWarning: trajectory cut off when rollout by epoch at \u001b[0m\u001b[1;36m1000.0\u001b[0m\u001b[32m steps.\u001b[0m\n"
      ]
     },
     "metadata": {},
     "output_type": "display_data"
    },
    {
     "data": {
      "text/html": [
       "<pre style=\"white-space:pre;overflow-x:auto;line-height:normal;font-family:Menlo,'DejaVu Sans Mono',consolas,'Courier New',monospace\"><span style=\"color: #008000; text-decoration-color: #008000\">Warning: trajectory cut off when rollout by epoch at </span><span style=\"color: #008080; text-decoration-color: #008080; font-weight: bold\">1000.0</span><span style=\"color: #008000; text-decoration-color: #008000\"> steps.</span>\n",
       "</pre>\n"
      ],
      "text/plain": [
       "\u001b[32mWarning: trajectory cut off when rollout by epoch at \u001b[0m\u001b[1;36m1000.0\u001b[0m\u001b[32m steps.\u001b[0m\n"
      ]
     },
     "metadata": {},
     "output_type": "display_data"
    },
    {
     "data": {
      "text/html": [
       "<pre style=\"white-space:pre;overflow-x:auto;line-height:normal;font-family:Menlo,'DejaVu Sans Mono',consolas,'Courier New',monospace\"><span style=\"color: #008000; text-decoration-color: #008000\">Warning: trajectory cut off when rollout by epoch at </span><span style=\"color: #008080; text-decoration-color: #008080; font-weight: bold\">1000.0</span><span style=\"color: #008000; text-decoration-color: #008000\"> steps.</span>\n",
       "</pre>\n"
      ],
      "text/plain": [
       "\u001b[32mWarning: trajectory cut off when rollout by epoch at \u001b[0m\u001b[1;36m1000.0\u001b[0m\u001b[32m steps.\u001b[0m\n"
      ]
     },
     "metadata": {},
     "output_type": "display_data"
    },
    {
     "data": {
      "text/html": [
       "<pre style=\"white-space:pre;overflow-x:auto;line-height:normal;font-family:Menlo,'DejaVu Sans Mono',consolas,'Courier New',monospace\"></pre>\n"
      ],
      "text/plain": []
     },
     "metadata": {},
     "output_type": "display_data"
    },
    {
     "data": {
      "text/html": [
       "<pre style=\"white-space:pre;overflow-x:auto;line-height:normal;font-family:Menlo,'DejaVu Sans Mono',consolas,'Courier New',monospace\">\n",
       "</pre>\n"
      ],
      "text/plain": [
       "\n"
      ]
     },
     "metadata": {},
     "output_type": "display_data"
    },
    {
     "data": {
      "text/html": [
       "<pre style=\"white-space:pre;overflow-x:auto;line-height:normal;font-family:Menlo,'DejaVu Sans Mono',consolas,'Courier New',monospace\"></pre>\n"
      ],
      "text/plain": []
     },
     "metadata": {},
     "output_type": "display_data"
    },
    {
     "data": {
      "text/html": [
       "<pre style=\"white-space:pre;overflow-x:auto;line-height:normal;font-family:Menlo,'DejaVu Sans Mono',consolas,'Courier New',monospace\">\n",
       "</pre>\n"
      ],
      "text/plain": [
       "\n"
      ]
     },
     "metadata": {},
     "output_type": "display_data"
    },
    {
     "data": {
      "text/html": [
       "<pre style=\"white-space:pre;overflow-x:auto;line-height:normal;font-family:Menlo,'DejaVu Sans Mono',consolas,'Courier New',monospace\">┏━━━━━━━━━━━━━━━━━━━━━━━━━━━━━━━━┳━━━━━━━━━━━━━━━━━━━━━━━┓\n",
       "┃<span style=\"font-weight: bold\"> Metrics                        </span>┃<span style=\"font-weight: bold\"> Value                 </span>┃\n",
       "┡━━━━━━━━━━━━━━━━━━━━━━━━━━━━━━━━╇━━━━━━━━━━━━━━━━━━━━━━━┩\n",
       "│ Metrics/EpRet                  │ 6.431288242340088     │\n",
       "│ Metrics/EpCost                 │ 117.08000183105469    │\n",
       "│ Metrics/EpLen                  │ 1000.0                │\n",
       "│ Train/Epoch                    │ 29.0                  │\n",
       "│ Train/Entropy                  │ 1.1662883758544922    │\n",
       "│ Train/KL                       │ 0.006012912839651108  │\n",
       "│ Train/StopIter                 │ 40.0                  │\n",
       "│ Train/PolicyRatio/Mean         │ 0.9997792840003967    │\n",
       "│ Train/PolicyRatio/Min          │ 0.999779224395752     │\n",
       "│ Train/PolicyRatio/Max          │ 0.999779224395752     │\n",
       "│ Train/PolicyRatio/Std          │ 0.012237138114869595  │\n",
       "│ Train/LR                       │ 0.0                   │\n",
       "│ Train/PolicyStd                │ 0.776844322681427     │\n",
       "│ TotalEnvSteps                  │ 600000.0              │\n",
       "│ Loss/Loss_pi                   │ -0.038819003850221634 │\n",
       "│ Loss/Loss_pi/Delta             │ 0.0069055333733558655 │\n",
       "│ Value/Adv                      │ -0.10032738000154495  │\n",
       "│ Loss/Loss_reward_critic        │ 0.02524247020483017   │\n",
       "│ Loss/Loss_reward_critic/Delta  │ 0.005999499931931496  │\n",
       "│ Value/reward                   │ 0.6406568288803101    │\n",
       "│ Loss/Loss_cost_critic          │ 1.1286207437515259    │\n",
       "│ Loss/Loss_cost_critic/Delta    │ 0.1444936990737915    │\n",
       "│ Value/cost                     │ 12.832755088806152    │\n",
       "│ Time/Total                     │ 5605.5966796875       │\n",
       "│ Time/Rollout                   │ 62.25059509277344     │\n",
       "│ Time/Update                    │ 172.31016540527344    │\n",
       "│ Time/Epoch                     │ 234.56076049804688    │\n",
       "│ Time/FPS                       │ 85.26575469970703     │\n",
       "│ Metrics/LagrangeMultiplier/Mea │ 1.0344473123550415    │\n",
       "│ Metrics/LagrangeMultiplier/Min │ 1.0344473123550415    │\n",
       "│ Metrics/LagrangeMultiplier/Max │ 1.0344473123550415    │\n",
       "│ Metrics/LagrangeMultiplier/Std │ 0.0                   │\n",
       "└────────────────────────────────┴───────────────────────┘\n",
       "</pre>\n"
      ],
      "text/plain": [
       "┏━━━━━━━━━━━━━━━━━━━━━━━━━━━━━━━━┳━━━━━━━━━━━━━━━━━━━━━━━┓\n",
       "┃\u001b[1m \u001b[0m\u001b[1mMetrics                       \u001b[0m\u001b[1m \u001b[0m┃\u001b[1m \u001b[0m\u001b[1mValue                \u001b[0m\u001b[1m \u001b[0m┃\n",
       "┡━━━━━━━━━━━━━━━━━━━━━━━━━━━━━━━━╇━━━━━━━━━━━━━━━━━━━━━━━┩\n",
       "│ Metrics/EpRet                  │ 6.431288242340088     │\n",
       "│ Metrics/EpCost                 │ 117.08000183105469    │\n",
       "│ Metrics/EpLen                  │ 1000.0                │\n",
       "│ Train/Epoch                    │ 29.0                  │\n",
       "│ Train/Entropy                  │ 1.1662883758544922    │\n",
       "│ Train/KL                       │ 0.006012912839651108  │\n",
       "│ Train/StopIter                 │ 40.0                  │\n",
       "│ Train/PolicyRatio/Mean         │ 0.9997792840003967    │\n",
       "│ Train/PolicyRatio/Min          │ 0.999779224395752     │\n",
       "│ Train/PolicyRatio/Max          │ 0.999779224395752     │\n",
       "│ Train/PolicyRatio/Std          │ 0.012237138114869595  │\n",
       "│ Train/LR                       │ 0.0                   │\n",
       "│ Train/PolicyStd                │ 0.776844322681427     │\n",
       "│ TotalEnvSteps                  │ 600000.0              │\n",
       "│ Loss/Loss_pi                   │ -0.038819003850221634 │\n",
       "│ Loss/Loss_pi/Delta             │ 0.0069055333733558655 │\n",
       "│ Value/Adv                      │ -0.10032738000154495  │\n",
       "│ Loss/Loss_reward_critic        │ 0.02524247020483017   │\n",
       "│ Loss/Loss_reward_critic/Delta  │ 0.005999499931931496  │\n",
       "│ Value/reward                   │ 0.6406568288803101    │\n",
       "│ Loss/Loss_cost_critic          │ 1.1286207437515259    │\n",
       "│ Loss/Loss_cost_critic/Delta    │ 0.1444936990737915    │\n",
       "│ Value/cost                     │ 12.832755088806152    │\n",
       "│ Time/Total                     │ 5605.5966796875       │\n",
       "│ Time/Rollout                   │ 62.25059509277344     │\n",
       "│ Time/Update                    │ 172.31016540527344    │\n",
       "│ Time/Epoch                     │ 234.56076049804688    │\n",
       "│ Time/FPS                       │ 85.26575469970703     │\n",
       "│ Metrics/LagrangeMultiplier/Mea │ 1.0344473123550415    │\n",
       "│ Metrics/LagrangeMultiplier/Min │ 1.0344473123550415    │\n",
       "│ Metrics/LagrangeMultiplier/Max │ 1.0344473123550415    │\n",
       "│ Metrics/LagrangeMultiplier/Std │ 0.0                   │\n",
       "└────────────────────────────────┴───────────────────────┘\n"
      ]
     },
     "metadata": {},
     "output_type": "display_data"
    }
   ],
   "source": [
    "eg.run(train, gpu_id=gpu_id)"
   ]
  },
  {
   "cell_type": "markdown",
   "metadata": {},
   "source": [
    "pause, refactor and run\n",
    "- delete epoch 0\n",
    "- double check log dir"
   ]
  },
  {
   "cell_type": "code",
   "execution_count": null,
   "metadata": {},
   "outputs": [],
   "source": [
    "for policy in policies:\n",
    "    LOG_DIR = 'exp-x\\TransferModels\\SafetyPointGoal1-v0---f58ca1a463c0273cc1b6ca3902826cae538e180bd08f94f50e82a46844a78ecc\\TRPOLag-{SafetyPointGoal1-v0}\\seed-000-2024-05-19-17-50-17'\n",
    "    evaluator = omnisafe.Evaluator()\n",
    "    result = None\n",
    "    for item in os.scandir(os.path.join(LOG_DIR, 'torch_save')):\n",
    "        if item.is_file() and item.name.split('.')[-1] == 'pt':\n",
    "            evaluator.load_saved(\n",
    "                save_dir=LOG_DIR, model_name=item.name, camera_name='track', width=256, height=256\n",
    "            )\n",
    "            result = evaluator.evaluate(num_episodes=50)\n",
    "            rewards, costs = torch.tensor(result[0]), torch.tensor(result[1])\n",
    "            avg_rew, std_rew = rewards.mean(), rewards.std()\n",
    "            avg_cost, std_cost = costs.mean(), costs.std()\n",
    "            avg_rew, std_rew, avg_cost, std_cost "
   ]
  },
  {
   "cell_type": "code",
   "execution_count": null,
   "metadata": {},
   "outputs": [],
   "source": [
    "rewards, costs = torch.tensor(result[0]), torch.tensor(result[1])\n",
    "avg_rew, std_rew = rewards.mean(), rewards.std()\n",
    "avg_cost, std_cost = costs.mean(), costs.std()\n",
    "avg_rew, std_rew, avg_cost, std_cost "
   ]
  },
  {
   "cell_type": "code",
   "execution_count": null,
   "metadata": {},
   "outputs": [],
   "source": [
    "env_id = 'SafetyPointGoal2-v0'\n",
    "custom_cfgs = {\n",
    "    'train_cfgs': {\n",
    "        'total_steps': 20000*30,\n",
    "        'vector_env_nums': 1,\n",
    "        'parallel': 1,\n",
    "    },\n",
    "    'algo_cfgs': {\n",
    "        'steps_per_epoch': 20000,\n",
    "    },\n",
    "    'model_cfgs': {\n",
    "        'load_actor_critic': 'exp-x\\TransferModels\\SafetyPointGoal1-v0---f58ca1a463c0273cc1b6ca3902826cae538e180bd08f94f50e82a46844a78ecc\\TRPOLag-{SafetyPointGoal1-v0}\\seed-000-2024-05-19-17-50-17\\\\torch_save\\epoch-30.pt',\n",
    "    },\n",
    "    'logger_cfgs': {\n",
    "        'use_wandb': True,\n",
    "        'use_tensorboard': True,\n",
    "        'log_dir':'exp-x\\TransferModels\\SafetyPointGoal1-v0---f58ca1a463c0273cc1b6ca3902826cae538e180bd08f94f50e82a46844a78ecc',\n",
    "    },\n",
    "}\n",
    "\n",
    "agent = omnisafe.Agent('TRPOLag', env_id, custom_cfgs=custom_cfgs)\n",
    "agent.evaluate(1)\n",
    "transferred_result = agent._evaluator.evaluate(50)"
   ]
  },
  {
   "cell_type": "code",
   "execution_count": null,
   "metadata": {},
   "outputs": [],
   "source": [
    "rewards, costs = torch.tensor(transferred_result[0]), torch.tensor(transferred_result[1])\n",
    "avg_rew, std_rew = rewards.mean(), rewards.std()\n",
    "avg_cost, std_cost = costs.mean(), costs.std()\n",
    "avg_rew, std_rew, avg_cost, std_cost "
   ]
  },
  {
   "cell_type": "code",
   "execution_count": null,
   "metadata": {},
   "outputs": [],
   "source": [
    "def evaluate(LOG_DIR: str) -> None:\n",
    "    evaluator = omnisafe.Evaluator()\n",
    "    result = None\n",
    "    for item in os.scandir(os.path.join(LOG_DIR, 'torch_save')):\n",
    "        if item.is_file() and item.name.split('.')[-1] == 'pt':\n",
    "            evaluator.load_saved(\n",
    "                save_dir=LOG_DIR, model_name=item.name, camera_name='track', width=256, height=256\n",
    "            )\n",
    "            # evaluator.render(num_episodes=5)\n",
    "            result = evaluator.evaluate(num_episodes=50)\n",
    "            rewards, costs = torch.tensor(result[0]), torch.tensor(result[1])\n",
    "            avg_rew, std_rew = rewards.mean(), rewards.std()\n",
    "            avg_cost, std_cost = costs.mean(), costs.std()\n",
    "            print(avg_rew, std_rew, avg_cost, std_cost)"
   ]
  },
  {
   "cell_type": "code",
   "execution_count": null,
   "metadata": {},
   "outputs": [],
   "source": [
    "LOG_DIR = 'exp-x\\BM_Safety_Unconstrained\\SafetyPointGoal1-v0---dce575ce051f34bfb10e125b56a70286d41d91307da1cacad37e9d43f2725ea0\\TRPO-{SafetyPointGoal1-v0}\\seed-000-2024-04-24-01-04-38'\n",
    "evaluate(LOG_DIR)"
   ]
  },
  {
   "cell_type": "code",
   "execution_count": null,
   "metadata": {},
   "outputs": [],
   "source": []
  }
 ],
 "metadata": {
  "kernelspec": {
   "display_name": "omnisafe-env",
   "language": "python",
   "name": "python3"
  },
  "language_info": {
   "codemirror_mode": {
    "name": "ipython",
    "version": 3
   },
   "file_extension": ".py",
   "mimetype": "text/x-python",
   "name": "python",
   "nbconvert_exporter": "python",
   "pygments_lexer": "ipython3",
   "version": "3.8.19"
  }
 },
 "nbformat": 4,
 "nbformat_minor": 2
}
