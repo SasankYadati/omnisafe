{
 "cells": [
  {
   "cell_type": "code",
   "execution_count": null,
   "metadata": {},
   "outputs": [],
   "source": [
    "import warnings\n",
    "import torch\n",
    "from omnisafe.common.experiment_grid import ExperimentGrid"
   ]
  },
  {
   "cell_type": "code",
   "execution_count": null,
   "metadata": {},
   "outputs": [],
   "source": [
    "exp_name = 'Experiments_Final_3'\n",
    "wandb_name = 'Experiments_Final'\n",
    "eg = ExperimentGrid(exp_name)\n",
    "\n",
    "# Set the algorithms.\n",
    "policies = ['PPOLag', 'TRPOLag']\n",
    "\n",
    "# Set the environments.\n",
    "safety_envs = [\n",
    "    'SafetyPointButton1-v0'\n",
    "]\n",
    "eg.add('env_id', safety_envs)\n",
    "eg.add('algo', policies)\n",
    "eg.add('logger_cfgs:use_wandb', [True])\n",
    "eg.add('logger_cfgs:wandb_project', [wandb_name])\n",
    "eg.add('train_cfgs:vector_env_nums', [4])\n",
    "eg.add('train_cfgs:torch_threads', [8])\n",
    "eg.add('algo_cfgs:steps_per_epoch', [20000])\n",
    "eg.add('train_cfgs:total_steps', [20000*30])\n",
    "eg.add('seed', [0])"
   ]
  },
  {
   "cell_type": "code",
   "execution_count": null,
   "metadata": {},
   "outputs": [],
   "source": [
    "avaliable_gpus = list(range(torch.cuda.device_count()))\n",
    "gpu_id = [0]\n",
    "\n",
    "if gpu_id and not set(gpu_id).issubset(avaliable_gpus):\n",
    "    warnings.warn('The GPU ID is not available, use CPU instead.', stacklevel=1)\n",
    "    gpu_id = None"
   ]
  },
  {
   "cell_type": "code",
   "execution_count": null,
   "metadata": {},
   "outputs": [],
   "source": [
    "\"\"\"Example of training a policy from exp-x config with OmniSafe.\"\"\"\n",
    "from omnisafe.typing import NamedTuple, Tuple\n",
    "import omnisafe\n",
    "import os, sys\n",
    "\n",
    "def train(\n",
    "    exp_id: str, algo: str, env_id: str, custom_cfgs: NamedTuple\n",
    ") -> Tuple[float, float, float]:\n",
    "    \"\"\"Train a policy from exp-x config with OmniSafe.\n",
    "\n",
    "    Args:\n",
    "        exp_id (str): Experiment ID.\n",
    "        algo (str): Algorithm to train.\n",
    "        env_id (str): The name of test environment.\n",
    "        custom_cfgs (NamedTuple): Custom configurations.\n",
    "        num_threads (int, optional): Number of threads. Defaults to 6.\n",
    "    \"\"\"\n",
    "    terminal_log_name = 'terminal.log'\n",
    "    error_log_name = 'error.log'\n",
    "    if 'seed' in custom_cfgs:\n",
    "        terminal_log_name = f'seed{custom_cfgs[\"seed\"]}_{terminal_log_name}'\n",
    "        error_log_name = f'seed{custom_cfgs[\"seed\"]}_{error_log_name}'\n",
    "    sys.stdout = sys.__stdout__\n",
    "    sys.stderr = sys.__stderr__\n",
    "    print(f'exp-x: {exp_id} is training...')\n",
    "    if not os.path.exists(custom_cfgs['logger_cfgs']['log_dir']):\n",
    "        os.makedirs(custom_cfgs['logger_cfgs']['log_dir'], exist_ok=True)\n",
    "    # pylint: disable-next=consider-using-with\n",
    "    sys.stdout = open(\n",
    "        os.path.join(f'{custom_cfgs[\"logger_cfgs\"][\"log_dir\"]}', terminal_log_name),\n",
    "        'w',\n",
    "        encoding='utf-8',\n",
    "    )\n",
    "    # pylint: disable-next=consider-using-with\n",
    "    sys.stderr = open(\n",
    "        os.path.join(f'{custom_cfgs[\"logger_cfgs\"][\"log_dir\"]}', error_log_name),\n",
    "        'w',\n",
    "        encoding='utf-8',\n",
    "    )\n",
    "    agent = omnisafe.Agent(algo, env_id, custom_cfgs=custom_cfgs)\n",
    "    reward, cost, ep_len = agent.learn()\n",
    "    return reward, cost, ep_len"
   ]
  },
  {
   "cell_type": "code",
   "execution_count": null,
   "metadata": {},
   "outputs": [],
   "source": [
    "eg.run(train, gpu_id=gpu_id)"
   ]
  },
  {
   "cell_type": "markdown",
   "metadata": {},
   "source": [
    "pause, refactor and run\n",
    "- delete epoch 0\n",
    "- double check log dir"
   ]
  },
  {
   "cell_type": "code",
   "execution_count": null,
   "metadata": {},
   "outputs": [],
   "source": [
    "for policy in policies:\n",
    "    LOG_DIR = 'exp-x\\TransferModels\\SafetyPointGoal1-v0---f58ca1a463c0273cc1b6ca3902826cae538e180bd08f94f50e82a46844a78ecc\\TRPOLag-{SafetyPointGoal1-v0}\\seed-000-2024-05-19-17-50-17'\n",
    "    evaluator = omnisafe.Evaluator()\n",
    "    result = None\n",
    "    for item in os.scandir(os.path.join(LOG_DIR, 'torch_save')):\n",
    "        if item.is_file() and item.name.split('.')[-1] == 'pt':\n",
    "            evaluator.load_saved(\n",
    "                save_dir=LOG_DIR, model_name=item.name, camera_name='track', width=256, height=256\n",
    "            )\n",
    "            result = evaluator.evaluate(num_episodes=50)\n",
    "            rewards, costs = torch.tensor(result[0]), torch.tensor(result[1])\n",
    "            avg_rew, std_rew = rewards.mean(), rewards.std()\n",
    "            avg_cost, std_cost = costs.mean(), costs.std()\n",
    "            avg_rew, std_rew, avg_cost, std_cost "
   ]
  },
  {
   "cell_type": "code",
   "execution_count": null,
   "metadata": {},
   "outputs": [],
   "source": [
    "rewards, costs = torch.tensor(result[0]), torch.tensor(result[1])\n",
    "avg_rew, std_rew = rewards.mean(), rewards.std()\n",
    "avg_cost, std_cost = costs.mean(), costs.std()\n",
    "avg_rew, std_rew, avg_cost, std_cost "
   ]
  },
  {
   "cell_type": "code",
   "execution_count": null,
   "metadata": {},
   "outputs": [],
   "source": [
    "env_id = 'SafetyPointGoal2-v0'\n",
    "custom_cfgs = {\n",
    "    'train_cfgs': {\n",
    "        'total_steps': 20000*30,\n",
    "        'vector_env_nums': 1,\n",
    "        'parallel': 1,\n",
    "    },\n",
    "    'algo_cfgs': {\n",
    "        'steps_per_epoch': 20000,\n",
    "    },\n",
    "    'model_cfgs': {\n",
    "        'load_actor_critic': 'exp-x\\TransferModels\\SafetyPointGoal1-v0---f58ca1a463c0273cc1b6ca3902826cae538e180bd08f94f50e82a46844a78ecc\\TRPOLag-{SafetyPointGoal1-v0}\\seed-000-2024-05-19-17-50-17\\\\torch_save\\epoch-30.pt',\n",
    "    },\n",
    "    'logger_cfgs': {\n",
    "        'use_wandb': True,\n",
    "        'use_tensorboard': True,\n",
    "        'log_dir':'exp-x\\TransferModels\\SafetyPointGoal1-v0---f58ca1a463c0273cc1b6ca3902826cae538e180bd08f94f50e82a46844a78ecc',\n",
    "    },\n",
    "}\n",
    "\n",
    "agent = omnisafe.Agent('TRPOLag', env_id, custom_cfgs=custom_cfgs)\n",
    "agent.evaluate(1)\n",
    "transferred_result = agent._evaluator.evaluate(50)"
   ]
  },
  {
   "cell_type": "code",
   "execution_count": null,
   "metadata": {},
   "outputs": [],
   "source": [
    "rewards, costs = torch.tensor(transferred_result[0]), torch.tensor(transferred_result[1])\n",
    "avg_rew, std_rew = rewards.mean(), rewards.std()\n",
    "avg_cost, std_cost = costs.mean(), costs.std()\n",
    "avg_rew, std_rew, avg_cost, std_cost "
   ]
  },
  {
   "cell_type": "code",
   "execution_count": null,
   "metadata": {},
   "outputs": [],
   "source": [
    "def evaluate(LOG_DIR: str) -> None:\n",
    "    evaluator = omnisafe.Evaluator()\n",
    "    result = None\n",
    "    for item in os.scandir(os.path.join(LOG_DIR, 'torch_save')):\n",
    "        if item.is_file() and item.name.split('.')[-1] == 'pt':\n",
    "            evaluator.load_saved(\n",
    "                save_dir=LOG_DIR, model_name=item.name, camera_name='track', width=256, height=256\n",
    "            )\n",
    "            # evaluator.render(num_episodes=5)\n",
    "            result = evaluator.evaluate(num_episodes=50)\n",
    "            rewards, costs = torch.tensor(result[0]), torch.tensor(result[1])\n",
    "            avg_rew, std_rew = rewards.mean(), rewards.std()\n",
    "            avg_cost, std_cost = costs.mean(), costs.std()\n",
    "            print(avg_rew, std_rew, avg_cost, std_cost)"
   ]
  },
  {
   "cell_type": "code",
   "execution_count": null,
   "metadata": {},
   "outputs": [],
   "source": [
    "LOG_DIR = 'exp-x\\BM_Safety_Unconstrained\\SafetyPointGoal1-v0---dce575ce051f34bfb10e125b56a70286d41d91307da1cacad37e9d43f2725ea0\\TRPO-{SafetyPointGoal1-v0}\\seed-000-2024-04-24-01-04-38'\n",
    "evaluate(LOG_DIR)"
   ]
  },
  {
   "cell_type": "code",
   "execution_count": null,
   "metadata": {},
   "outputs": [],
   "source": []
  }
 ],
 "metadata": {
  "kernelspec": {
   "display_name": "omnisafe-env",
   "language": "python",
   "name": "python3"
  },
  "language_info": {
   "codemirror_mode": {
    "name": "ipython",
    "version": 3
   },
   "file_extension": ".py",
   "mimetype": "text/x-python",
   "name": "python",
   "nbconvert_exporter": "python",
   "pygments_lexer": "ipython3",
   "version": "3.8.19"
  }
 },
 "nbformat": 4,
 "nbformat_minor": 2
}
