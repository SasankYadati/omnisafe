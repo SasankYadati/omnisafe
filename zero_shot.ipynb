{
 "cells": [
  {
   "cell_type": "code",
   "execution_count": 1,
   "metadata": {},
   "outputs": [],
   "source": [
    "import omnisafe"
   ]
  },
  {
   "cell_type": "markdown",
   "metadata": {},
   "source": [
    "Goal PPOLag zeroshot from lvl 1 to 2"
   ]
  },
  {
   "cell_type": "code",
   "execution_count": null,
   "metadata": {},
   "outputs": [],
   "source": [
    "env_id = 'SafetyPointGoal2-v0'\n",
    "custom_cfgs = {\n",
    "    'train_cfgs': {\n",
    "        'total_steps': 20000*30,\n",
    "        'vector_env_nums': 1,\n",
    "        'parallel': 1,\n",
    "    },\n",
    "    'algo_cfgs': {\n",
    "        'steps_per_epoch': 20000,\n",
    "    },\n",
    "    'model_cfgs': {\n",
    "        'load_actor_critic': 'exp-x\\Experiments_Final_2\\SafetyPointGoal1-v0---6ef03cf1f7956977bf9e2856ce036592086076093a9ad50c97dd06063019fe5a\\PPOLag-{SafetyPointGoal1-v0}\\seed-000-2024-05-20-02-20-02\\\\torch_save\\epoch-30.pt',\n",
    "    },\n",
    "    'logger_cfgs': {\n",
    "        'use_wandb': True,\n",
    "        'use_tensorboard': True,\n",
    "        'log_dir':'exp-x\\Experiments_Final_2\\SafetyPointGoal1-v0---6ef03cf1f7956977bf9e2856ce036592086076093a9ad50c97dd06063019fe5a',\n",
    "    },\n",
    "}\n",
    "\n",
    "agent = omnisafe.Agent('PPOLag', env_id, custom_cfgs=custom_cfgs)\n",
    "agent.evaluate(1)\n",
    "transferred_result = agent._evaluator.evaluate(50)\n",
    "transferred_result"
   ]
  },
  {
   "cell_type": "code",
   "execution_count": 3,
   "metadata": {},
   "outputs": [],
   "source": [
    "import torch"
   ]
  },
  {
   "cell_type": "code",
   "execution_count": 4,
   "metadata": {},
   "outputs": [
    {
     "name": "stdout",
     "output_type": "stream",
     "text": [
      "tensor(10.3840) tensor(6.0556) tensor(180.6400) tensor(123.6124)\n"
     ]
    }
   ],
   "source": [
    "rewards, costs = torch.tensor(transferred_result[0]), torch.tensor(transferred_result[1])\n",
    "avg_rew, std_rew = rewards.mean(), rewards.std()\n",
    "avg_cost, std_cost = costs.mean(), costs.std()\n",
    "print(avg_rew, std_rew, avg_cost, std_cost)"
   ]
  },
  {
   "cell_type": "markdown",
   "metadata": {},
   "source": [
    "Goal lvl 1 to 2 - TRPOLag"
   ]
  },
  {
   "cell_type": "code",
   "execution_count": 5,
   "metadata": {},
   "outputs": [
    {
     "name": "stdout",
     "output_type": "stream",
     "text": [
      "Loading TRPOLag.yaml from c:\\Users\\saisa\\omnisafe\\omnisafe\\utils\\..\\configs\\on-policy\\TRPOLag.yaml\n"
     ]
    },
    {
     "data": {
      "text/html": [
       "<pre style=\"white-space:pre;overflow-x:auto;line-height:normal;font-family:Menlo,'DejaVu Sans Mono',consolas,'Courier New',monospace\"><span style=\"color: #008080; text-decoration-color: #008080; font-weight: bold\">Logging data to </span>\n",
       "<span style=\"color: #008080; text-decoration-color: #008080; font-weight: bold\">exp-x\\Experiments_Final_3\\SafetyPointGoal1-v0---c646505996934bea5656d92ac0e923ffc0022a80d184a7b90c4b188d2162828c\\TR</span>\n",
       "<span style=\"color: #008080; text-decoration-color: #008080; font-weight: bold\">POLag-{SafetyPointGoal2-v0}\\seed-</span><span style=\"color: #008080; text-decoration-color: #008080; font-weight: bold\">000</span><span style=\"color: #008080; text-decoration-color: #008080; font-weight: bold\">-</span><span style=\"color: #008080; text-decoration-color: #008080; font-weight: bold\">2024</span><span style=\"color: #008080; text-decoration-color: #008080; font-weight: bold\">-</span><span style=\"color: #008080; text-decoration-color: #008080; font-weight: bold\">05</span><span style=\"color: #008080; text-decoration-color: #008080; font-weight: bold\">-</span><span style=\"color: #008080; text-decoration-color: #008080; font-weight: bold\">20</span><span style=\"color: #008080; text-decoration-color: #008080; font-weight: bold\">-</span><span style=\"color: #008080; text-decoration-color: #008080; font-weight: bold\">21</span><span style=\"color: #008080; text-decoration-color: #008080; font-weight: bold\">-</span><span style=\"color: #008080; text-decoration-color: #008080; font-weight: bold\">23</span><span style=\"color: #008080; text-decoration-color: #008080; font-weight: bold\">-</span><span style=\"color: #008080; text-decoration-color: #008080; font-weight: bold\">29</span><span style=\"color: #008080; text-decoration-color: #008080; font-weight: bold\">\\progress.csv</span>\n",
       "</pre>\n"
      ],
      "text/plain": [
       "\u001b[1;36mLogging data to \u001b[0m\n",
       "\u001b[1;36mexp-x\\Experiments_Final_3\\SafetyPointGoal1-v0---c646505996934bea5656d92ac0e923ffc0022a80d184a7b90c4b188d2162828c\\TR\u001b[0m\n",
       "\u001b[1;36mPOLag-\u001b[0m\u001b[1;36m{\u001b[0m\u001b[1;36mSafetyPointGoal2-v0\u001b[0m\u001b[1;36m}\u001b[0m\u001b[1;36m\\seed-\u001b[0m\u001b[1;36m000\u001b[0m\u001b[1;36m-\u001b[0m\u001b[1;36m2024\u001b[0m\u001b[1;36m-\u001b[0m\u001b[1;36m05\u001b[0m\u001b[1;36m-\u001b[0m\u001b[1;36m20\u001b[0m\u001b[1;36m-\u001b[0m\u001b[1;36m21\u001b[0m\u001b[1;36m-\u001b[0m\u001b[1;36m23\u001b[0m\u001b[1;36m-\u001b[0m\u001b[1;36m29\u001b[0m\u001b[1;36m\\progress.csv\u001b[0m\n"
      ]
     },
     "metadata": {},
     "output_type": "display_data"
    },
    {
     "data": {
      "text/html": [
       "<pre style=\"white-space:pre;overflow-x:auto;line-height:normal;font-family:Menlo,'DejaVu Sans Mono',consolas,'Courier New',monospace\"><span style=\"color: #808000; text-decoration-color: #808000; font-weight: bold\">Save with config in config.json</span>\n",
       "</pre>\n"
      ],
      "text/plain": [
       "\u001b[1;33mSave with config in config.json\u001b[0m\n"
      ]
     },
     "metadata": {},
     "output_type": "display_data"
    },
    {
     "data": {
      "text/html": [
       "<pre style=\"white-space:pre;overflow-x:auto;line-height:normal;font-family:Menlo,'DejaVu Sans Mono',consolas,'Courier New',monospace\">project omnisafe name TRPOLag-<span style=\"font-weight: bold\">{</span>SafetyPointGoal2-v0<span style=\"font-weight: bold\">}</span>-seed-<span style=\"color: #008080; text-decoration-color: #008080; font-weight: bold\">000</span>-<span style=\"color: #008080; text-decoration-color: #008080; font-weight: bold\">2024</span>-<span style=\"color: #008080; text-decoration-color: #008080; font-weight: bold\">05</span>-<span style=\"color: #008080; text-decoration-color: #008080; font-weight: bold\">20</span>-<span style=\"color: #008080; text-decoration-color: #008080; font-weight: bold\">21</span>-<span style=\"color: #008080; text-decoration-color: #008080; font-weight: bold\">23</span>-<span style=\"color: #008080; text-decoration-color: #008080; font-weight: bold\">29</span>\n",
       "</pre>\n"
      ],
      "text/plain": [
       "project omnisafe name TRPOLag-\u001b[1m{\u001b[0mSafetyPointGoal2-v0\u001b[1m}\u001b[0m-seed-\u001b[1;36m000\u001b[0m-\u001b[1;36m2024\u001b[0m-\u001b[1;36m05\u001b[0m-\u001b[1;36m20\u001b[0m-\u001b[1;36m21\u001b[0m-\u001b[1;36m23\u001b[0m-\u001b[1;36m29\u001b[0m\n"
      ]
     },
     "metadata": {},
     "output_type": "display_data"
    },
    {
     "data": {
      "text/html": [
       "Finishing last run (ID:m7mintxh) before initializing another..."
      ],
      "text/plain": [
       "<IPython.core.display.HTML object>"
      ]
     },
     "metadata": {},
     "output_type": "display_data"
    },
    {
     "data": {
      "text/html": [
       " View run <strong style=\"color:#cdcd00\">PPOLag-{SafetyPointGoal2-v0}-seed-000-2024-05-20-21-17-00</strong> at: <a href='https://wandb.ai/sasank/omnisafe/runs/m7mintxh' target=\"_blank\">https://wandb.ai/sasank/omnisafe/runs/m7mintxh</a><br/> View project at: <a href='https://wandb.ai/sasank/omnisafe' target=\"_blank\">https://wandb.ai/sasank/omnisafe</a><br/>Synced 5 W&B file(s), 0 media file(s), 0 artifact file(s) and 0 other file(s)"
      ],
      "text/plain": [
       "<IPython.core.display.HTML object>"
      ]
     },
     "metadata": {},
     "output_type": "display_data"
    },
    {
     "data": {
      "text/html": [
       "Find logs at: <code>exp-x\\Experiments_Final_2\\SafetyPointGoal1-v0---6ef03cf1f7956977bf9e2856ce036592086076093a9ad50c97dd06063019fe5a\\PPOLag-{SafetyPointGoal2-v0}\\seed-000-2024-05-20-21-17-00\\wandb\\run-20240520_211702-m7mintxh\\logs</code>"
      ],
      "text/plain": [
       "<IPython.core.display.HTML object>"
      ]
     },
     "metadata": {},
     "output_type": "display_data"
    },
    {
     "data": {
      "text/html": [
       "Successfully finished last run (ID:m7mintxh). Initializing new run:<br/>"
      ],
      "text/plain": [
       "<IPython.core.display.HTML object>"
      ]
     },
     "metadata": {},
     "output_type": "display_data"
    },
    {
     "data": {
      "text/html": [
       "Tracking run with wandb version 0.17.0"
      ],
      "text/plain": [
       "<IPython.core.display.HTML object>"
      ]
     },
     "metadata": {},
     "output_type": "display_data"
    },
    {
     "data": {
      "text/html": [
       "Run data is saved locally in <code>exp-x\\Experiments_Final_3\\SafetyPointGoal1-v0---c646505996934bea5656d92ac0e923ffc0022a80d184a7b90c4b188d2162828c\\TRPOLag-{SafetyPointGoal2-v0}\\seed-000-2024-05-20-21-23-29\\wandb\\run-20240520_212329-sn69o2g2</code>"
      ],
      "text/plain": [
       "<IPython.core.display.HTML object>"
      ]
     },
     "metadata": {},
     "output_type": "display_data"
    },
    {
     "data": {
      "text/html": [
       "Syncing run <strong><a href='https://wandb.ai/sasank/omnisafe/runs/sn69o2g2' target=\"_blank\">TRPOLag-{SafetyPointGoal2-v0}-seed-000-2024-05-20-21-23-29</a></strong> to <a href='https://wandb.ai/sasank/omnisafe' target=\"_blank\">Weights & Biases</a> (<a href='https://wandb.me/run' target=\"_blank\">docs</a>)<br/>"
      ],
      "text/plain": [
       "<IPython.core.display.HTML object>"
      ]
     },
     "metadata": {},
     "output_type": "display_data"
    },
    {
     "data": {
      "text/html": [
       " View project at <a href='https://wandb.ai/sasank/omnisafe' target=\"_blank\">https://wandb.ai/sasank/omnisafe</a>"
      ],
      "text/plain": [
       "<IPython.core.display.HTML object>"
      ]
     },
     "metadata": {},
     "output_type": "display_data"
    },
    {
     "data": {
      "text/html": [
       " View run at <a href='https://wandb.ai/sasank/omnisafe/runs/sn69o2g2' target=\"_blank\">https://wandb.ai/sasank/omnisafe/runs/sn69o2g2</a>"
      ],
      "text/plain": [
       "<IPython.core.display.HTML object>"
      ]
     },
     "metadata": {},
     "output_type": "display_data"
    },
    {
     "name": "stdout",
     "output_type": "stream",
     "text": [
      "Episode 1 results:\n",
      "Episode reward: 7.523612247298388\n",
      "Episode cost: 159.0\n",
      "Episode length: 1000.0\n",
      "\n",
      "##################################################\n",
      "\n",
      "Evaluation results:\n",
      "Average episode reward: 7.523612247298388\n",
      "Average episode cost: 159.0\n",
      "Average episode length: 1000.0\n",
      "Episode 1 results:\n",
      "Episode reward: 21.28882790193893\n",
      "Episode cost: 283.0\n",
      "Episode length: 1000.0\n",
      "Episode 2 results:\n",
      "Episode reward: 3.2822256947436017\n",
      "Episode cost: 27.0\n",
      "Episode length: 1000.0\n",
      "Episode 3 results:\n",
      "Episode reward: 7.44784678440088\n",
      "Episode cost: 275.0\n",
      "Episode length: 1000.0\n",
      "Episode 4 results:\n",
      "Episode reward: 26.60328119652695\n",
      "Episode cost: 93.0\n",
      "Episode length: 1000.0\n",
      "Episode 5 results:\n",
      "Episode reward: 2.7862042131130984\n",
      "Episode cost: 18.0\n",
      "Episode length: 1000.0\n",
      "Episode 6 results:\n",
      "Episode reward: 25.116846563667423\n",
      "Episode cost: 178.0\n",
      "Episode length: 1000.0\n",
      "Episode 7 results:\n",
      "Episode reward: 20.70383068632509\n",
      "Episode cost: 179.0\n",
      "Episode length: 1000.0\n",
      "Episode 8 results:\n",
      "Episode reward: 20.34436958647666\n",
      "Episode cost: 71.0\n",
      "Episode length: 1000.0\n",
      "Episode 9 results:\n",
      "Episode reward: 26.893627058670972\n",
      "Episode cost: 179.0\n",
      "Episode length: 1000.0\n",
      "Episode 10 results:\n",
      "Episode reward: 24.676294510069056\n",
      "Episode cost: 72.0\n",
      "Episode length: 1000.0\n",
      "Episode 11 results:\n",
      "Episode reward: 26.60158040243914\n",
      "Episode cost: 119.0\n",
      "Episode length: 1000.0\n",
      "Episode 12 results:\n",
      "Episode reward: 27.231136469617923\n",
      "Episode cost: 90.0\n",
      "Episode length: 1000.0\n",
      "Episode 13 results:\n",
      "Episode reward: 11.16790282999932\n",
      "Episode cost: 486.0\n",
      "Episode length: 1000.0\n",
      "Episode 14 results:\n",
      "Episode reward: 24.145031588707752\n",
      "Episode cost: 109.0\n",
      "Episode length: 1000.0\n",
      "Episode 15 results:\n",
      "Episode reward: 25.489270772759482\n",
      "Episode cost: 116.0\n",
      "Episode length: 1000.0\n",
      "Episode 16 results:\n",
      "Episode reward: 23.84543044140628\n",
      "Episode cost: 90.0\n",
      "Episode length: 1000.0\n",
      "Episode 17 results:\n",
      "Episode reward: 27.061230924824486\n",
      "Episode cost: 167.0\n",
      "Episode length: 1000.0\n",
      "Episode 18 results:\n",
      "Episode reward: 25.355405048641842\n",
      "Episode cost: 427.0\n",
      "Episode length: 1000.0\n",
      "Episode 19 results:\n",
      "Episode reward: 23.705093073967873\n",
      "Episode cost: 43.0\n",
      "Episode length: 1000.0\n",
      "Episode 20 results:\n",
      "Episode reward: 28.13292592540529\n",
      "Episode cost: 209.0\n",
      "Episode length: 1000.0\n",
      "Episode 21 results:\n",
      "Episode reward: 23.801735696019023\n",
      "Episode cost: 139.0\n",
      "Episode length: 1000.0\n",
      "Episode 22 results:\n",
      "Episode reward: 27.989394925893066\n",
      "Episode cost: 119.0\n",
      "Episode length: 1000.0\n",
      "Episode 23 results:\n",
      "Episode reward: 26.58520135407889\n",
      "Episode cost: 137.0\n",
      "Episode length: 1000.0\n",
      "Episode 24 results:\n",
      "Episode reward: 25.75114622283354\n",
      "Episode cost: 164.0\n",
      "Episode length: 1000.0\n",
      "Episode 25 results:\n",
      "Episode reward: 28.178566905015032\n",
      "Episode cost: 260.0\n",
      "Episode length: 1000.0\n",
      "Episode 26 results:\n",
      "Episode reward: 14.937836351719422\n",
      "Episode cost: 68.0\n",
      "Episode length: 1000.0\n",
      "Episode 27 results:\n",
      "Episode reward: 26.35996271894328\n",
      "Episode cost: 128.0\n",
      "Episode length: 1000.0\n",
      "Episode 28 results:\n",
      "Episode reward: 26.240982991977944\n",
      "Episode cost: 33.0\n",
      "Episode length: 1000.0\n",
      "Episode 29 results:\n",
      "Episode reward: 19.748069470162136\n",
      "Episode cost: 112.0\n",
      "Episode length: 1000.0\n",
      "Episode 30 results:\n",
      "Episode reward: 25.17609683219598\n",
      "Episode cost: 159.0\n",
      "Episode length: 1000.0\n",
      "Episode 31 results:\n",
      "Episode reward: 25.164648318244417\n",
      "Episode cost: 272.0\n",
      "Episode length: 1000.0\n",
      "Episode 32 results:\n",
      "Episode reward: 13.545516054720174\n",
      "Episode cost: 54.0\n",
      "Episode length: 1000.0\n",
      "Episode 33 results:\n",
      "Episode reward: 11.778613827204722\n",
      "Episode cost: 221.0\n",
      "Episode length: 1000.0\n",
      "Episode 34 results:\n",
      "Episode reward: 27.166003862046637\n",
      "Episode cost: 332.0\n",
      "Episode length: 1000.0\n",
      "Episode 35 results:\n",
      "Episode reward: 24.113036444243335\n",
      "Episode cost: 107.0\n",
      "Episode length: 1000.0\n",
      "Episode 36 results:\n",
      "Episode reward: 27.06798333792176\n",
      "Episode cost: 40.0\n",
      "Episode length: 1000.0\n",
      "Episode 37 results:\n",
      "Episode reward: 28.088404476842697\n",
      "Episode cost: 126.0\n",
      "Episode length: 1000.0\n",
      "Episode 38 results:\n",
      "Episode reward: 25.974344263035164\n",
      "Episode cost: 219.0\n",
      "Episode length: 1000.0\n",
      "Episode 39 results:\n",
      "Episode reward: 23.357665996746164\n",
      "Episode cost: 252.0\n",
      "Episode length: 1000.0\n",
      "Episode 40 results:\n",
      "Episode reward: 23.7564382134442\n",
      "Episode cost: 156.0\n",
      "Episode length: 1000.0\n",
      "Episode 41 results:\n",
      "Episode reward: 22.954548246729246\n",
      "Episode cost: 78.0\n",
      "Episode length: 1000.0\n",
      "Episode 42 results:\n",
      "Episode reward: 21.950059920764033\n",
      "Episode cost: 77.0\n",
      "Episode length: 1000.0\n",
      "Episode 43 results:\n",
      "Episode reward: 25.241814204782713\n",
      "Episode cost: 106.0\n",
      "Episode length: 1000.0\n",
      "Episode 44 results:\n",
      "Episode reward: 25.1973232581704\n",
      "Episode cost: 82.0\n",
      "Episode length: 1000.0\n",
      "Episode 45 results:\n",
      "Episode reward: 27.023898618750536\n",
      "Episode cost: 182.0\n",
      "Episode length: 1000.0\n",
      "Episode 46 results:\n",
      "Episode reward: 25.038060445040173\n",
      "Episode cost: 209.0\n",
      "Episode length: 1000.0\n",
      "Episode 47 results:\n",
      "Episode reward: 3.594913567862027\n",
      "Episode cost: 154.0\n",
      "Episode length: 1000.0\n",
      "Episode 48 results:\n",
      "Episode reward: 25.911646555556217\n",
      "Episode cost: 55.0\n",
      "Episode length: 1000.0\n",
      "Episode 49 results:\n",
      "Episode reward: 19.154014817444022\n",
      "Episode cost: 162.0\n",
      "Episode length: 1000.0\n",
      "Episode 50 results:\n",
      "Episode reward: 23.01729884989618\n",
      "Episode cost: 199.0\n",
      "Episode length: 1000.0\n",
      "\n",
      "##################################################\n",
      "\n",
      "Evaluation results:\n",
      "Average episode reward: 22.3148717684397\n",
      "Average episode cost: 152.66\n",
      "Average episode length: 1000.0\n"
     ]
    },
    {
     "data": {
      "text/plain": [
       "([21.28882790193893,\n",
       "  3.2822256947436017,\n",
       "  7.44784678440088,\n",
       "  26.60328119652695,\n",
       "  2.7862042131130984,\n",
       "  25.116846563667423,\n",
       "  20.70383068632509,\n",
       "  20.34436958647666,\n",
       "  26.893627058670972,\n",
       "  24.676294510069056,\n",
       "  26.60158040243914,\n",
       "  27.231136469617923,\n",
       "  11.16790282999932,\n",
       "  24.145031588707752,\n",
       "  25.489270772759482,\n",
       "  23.84543044140628,\n",
       "  27.061230924824486,\n",
       "  25.355405048641842,\n",
       "  23.705093073967873,\n",
       "  28.13292592540529,\n",
       "  23.801735696019023,\n",
       "  27.989394925893066,\n",
       "  26.58520135407889,\n",
       "  25.75114622283354,\n",
       "  28.178566905015032,\n",
       "  14.937836351719422,\n",
       "  26.35996271894328,\n",
       "  26.240982991977944,\n",
       "  19.748069470162136,\n",
       "  25.17609683219598,\n",
       "  25.164648318244417,\n",
       "  13.545516054720174,\n",
       "  11.778613827204722,\n",
       "  27.166003862046637,\n",
       "  24.113036444243335,\n",
       "  27.06798333792176,\n",
       "  28.088404476842697,\n",
       "  25.974344263035164,\n",
       "  23.357665996746164,\n",
       "  23.7564382134442,\n",
       "  22.954548246729246,\n",
       "  21.950059920764033,\n",
       "  25.241814204782713,\n",
       "  25.1973232581704,\n",
       "  27.023898618750536,\n",
       "  25.038060445040173,\n",
       "  3.594913567862027,\n",
       "  25.911646555556217,\n",
       "  19.154014817444022,\n",
       "  23.01729884989618],\n",
       " [283.0,\n",
       "  27.0,\n",
       "  275.0,\n",
       "  93.0,\n",
       "  18.0,\n",
       "  178.0,\n",
       "  179.0,\n",
       "  71.0,\n",
       "  179.0,\n",
       "  72.0,\n",
       "  119.0,\n",
       "  90.0,\n",
       "  486.0,\n",
       "  109.0,\n",
       "  116.0,\n",
       "  90.0,\n",
       "  167.0,\n",
       "  427.0,\n",
       "  43.0,\n",
       "  209.0,\n",
       "  139.0,\n",
       "  119.0,\n",
       "  137.0,\n",
       "  164.0,\n",
       "  260.0,\n",
       "  68.0,\n",
       "  128.0,\n",
       "  33.0,\n",
       "  112.0,\n",
       "  159.0,\n",
       "  272.0,\n",
       "  54.0,\n",
       "  221.0,\n",
       "  332.0,\n",
       "  107.0,\n",
       "  40.0,\n",
       "  126.0,\n",
       "  219.0,\n",
       "  252.0,\n",
       "  156.0,\n",
       "  78.0,\n",
       "  77.0,\n",
       "  106.0,\n",
       "  82.0,\n",
       "  182.0,\n",
       "  209.0,\n",
       "  154.0,\n",
       "  55.0,\n",
       "  162.0,\n",
       "  199.0])"
      ]
     },
     "execution_count": 5,
     "metadata": {},
     "output_type": "execute_result"
    }
   ],
   "source": [
    "env_id = 'SafetyPointGoal2-v0'\n",
    "custom_cfgs = {\n",
    "    'train_cfgs': {\n",
    "        'total_steps': 20000*30,\n",
    "        'vector_env_nums': 1,\n",
    "        'parallel': 1,\n",
    "    },\n",
    "    'algo_cfgs': {\n",
    "        'steps_per_epoch': 20000,\n",
    "    },\n",
    "    'model_cfgs': {\n",
    "        'load_actor_critic': 'exp-x\\Experiments_Final_3\\SafetyPointGoal1-v0---c646505996934bea5656d92ac0e923ffc0022a80d184a7b90c4b188d2162828c\\TRPOLag-{SafetyPointGoal1-v0}\\seed-000-2024-05-20-08-58-17\\\\torch_save\\epoch-30.pt',\n",
    "    },\n",
    "    'logger_cfgs': {\n",
    "        'use_wandb': True,\n",
    "        'use_tensorboard': True,\n",
    "        'log_dir':'exp-x\\Experiments_Final_3\\SafetyPointGoal1-v0---c646505996934bea5656d92ac0e923ffc0022a80d184a7b90c4b188d2162828c',\n",
    "    },\n",
    "}\n",
    "\n",
    "agent = omnisafe.Agent('TRPOLag', env_id, custom_cfgs=custom_cfgs)\n",
    "agent.evaluate(1)\n",
    "transferred_result = agent._evaluator.evaluate(50)\n",
    "transferred_result"
   ]
  },
  {
   "cell_type": "code",
   "execution_count": 6,
   "metadata": {},
   "outputs": [
    {
     "name": "stdout",
     "output_type": "stream",
     "text": [
      "tensor(22.3149) tensor(6.6869) tensor(152.6600) tensor(96.9451)\n"
     ]
    }
   ],
   "source": [
    "rewards, costs = torch.tensor(transferred_result[0]), torch.tensor(transferred_result[1])\n",
    "avg_rew, std_rew = rewards.mean(), rewards.std()\n",
    "avg_cost, std_cost = costs.mean(), costs.std()\n",
    "print(avg_rew, std_rew, avg_cost, std_cost)"
   ]
  },
  {
   "cell_type": "markdown",
   "metadata": {},
   "source": [
    "Button PPOLag lvl 1 to 2"
   ]
  },
  {
   "cell_type": "code",
   "execution_count": 7,
   "metadata": {},
   "outputs": [
    {
     "name": "stdout",
     "output_type": "stream",
     "text": [
      "Loading PPOLag.yaml from c:\\Users\\saisa\\omnisafe\\omnisafe\\utils\\..\\configs\\on-policy\\PPOLag.yaml\n"
     ]
    },
    {
     "data": {
      "text/html": [
       "<pre style=\"white-space:pre;overflow-x:auto;line-height:normal;font-family:Menlo,'DejaVu Sans Mono',consolas,'Courier New',monospace\"><span style=\"color: #008080; text-decoration-color: #008080; font-weight: bold\">Logging data to </span>\n",
       "<span style=\"color: #008080; text-decoration-color: #008080; font-weight: bold\">exp-x\\Exps_Final_4\\SafetyPointButton1-v0---1677e31b0363fcf8ef58e44538166b5993b805d853383e16655645ca63c52a15\\PPOLag-</span>\n",
       "<span style=\"color: #008080; text-decoration-color: #008080; font-weight: bold\">{SafetyPointButton2-v0}\\seed-</span><span style=\"color: #008080; text-decoration-color: #008080; font-weight: bold\">000</span><span style=\"color: #008080; text-decoration-color: #008080; font-weight: bold\">-</span><span style=\"color: #008080; text-decoration-color: #008080; font-weight: bold\">2024</span><span style=\"color: #008080; text-decoration-color: #008080; font-weight: bold\">-</span><span style=\"color: #008080; text-decoration-color: #008080; font-weight: bold\">05</span><span style=\"color: #008080; text-decoration-color: #008080; font-weight: bold\">-</span><span style=\"color: #008080; text-decoration-color: #008080; font-weight: bold\">20</span><span style=\"color: #008080; text-decoration-color: #008080; font-weight: bold\">-</span><span style=\"color: #008080; text-decoration-color: #008080; font-weight: bold\">21</span><span style=\"color: #008080; text-decoration-color: #008080; font-weight: bold\">-</span><span style=\"color: #008080; text-decoration-color: #008080; font-weight: bold\">31</span><span style=\"color: #008080; text-decoration-color: #008080; font-weight: bold\">-</span><span style=\"color: #008080; text-decoration-color: #008080; font-weight: bold\">12</span><span style=\"color: #008080; text-decoration-color: #008080; font-weight: bold\">\\progress.csv</span>\n",
       "</pre>\n"
      ],
      "text/plain": [
       "\u001b[1;36mLogging data to \u001b[0m\n",
       "\u001b[1;36mexp-x\\Exps_Final_4\\SafetyPointButton1-v0---1677e31b0363fcf8ef58e44538166b5993b805d853383e16655645ca63c52a15\\PPOLag-\u001b[0m\n",
       "\u001b[1;36m{\u001b[0m\u001b[1;36mSafetyPointButton2-v0\u001b[0m\u001b[1;36m}\u001b[0m\u001b[1;36m\\seed-\u001b[0m\u001b[1;36m000\u001b[0m\u001b[1;36m-\u001b[0m\u001b[1;36m2024\u001b[0m\u001b[1;36m-\u001b[0m\u001b[1;36m05\u001b[0m\u001b[1;36m-\u001b[0m\u001b[1;36m20\u001b[0m\u001b[1;36m-\u001b[0m\u001b[1;36m21\u001b[0m\u001b[1;36m-\u001b[0m\u001b[1;36m31\u001b[0m\u001b[1;36m-\u001b[0m\u001b[1;36m12\u001b[0m\u001b[1;36m\\progress.csv\u001b[0m\n"
      ]
     },
     "metadata": {},
     "output_type": "display_data"
    },
    {
     "data": {
      "text/html": [
       "<pre style=\"white-space:pre;overflow-x:auto;line-height:normal;font-family:Menlo,'DejaVu Sans Mono',consolas,'Courier New',monospace\"><span style=\"color: #808000; text-decoration-color: #808000; font-weight: bold\">Save with config in config.json</span>\n",
       "</pre>\n"
      ],
      "text/plain": [
       "\u001b[1;33mSave with config in config.json\u001b[0m\n"
      ]
     },
     "metadata": {},
     "output_type": "display_data"
    },
    {
     "data": {
      "text/html": [
       "<pre style=\"white-space:pre;overflow-x:auto;line-height:normal;font-family:Menlo,'DejaVu Sans Mono',consolas,'Courier New',monospace\">project omnisafe name PPOLag-<span style=\"font-weight: bold\">{</span>SafetyPointButton2-v0<span style=\"font-weight: bold\">}</span>-seed-<span style=\"color: #008080; text-decoration-color: #008080; font-weight: bold\">000</span>-<span style=\"color: #008080; text-decoration-color: #008080; font-weight: bold\">2024</span>-<span style=\"color: #008080; text-decoration-color: #008080; font-weight: bold\">05</span>-<span style=\"color: #008080; text-decoration-color: #008080; font-weight: bold\">20</span>-<span style=\"color: #008080; text-decoration-color: #008080; font-weight: bold\">21</span>-<span style=\"color: #008080; text-decoration-color: #008080; font-weight: bold\">31</span>-<span style=\"color: #008080; text-decoration-color: #008080; font-weight: bold\">12</span>\n",
       "</pre>\n"
      ],
      "text/plain": [
       "project omnisafe name PPOLag-\u001b[1m{\u001b[0mSafetyPointButton2-v0\u001b[1m}\u001b[0m-seed-\u001b[1;36m000\u001b[0m-\u001b[1;36m2024\u001b[0m-\u001b[1;36m05\u001b[0m-\u001b[1;36m20\u001b[0m-\u001b[1;36m21\u001b[0m-\u001b[1;36m31\u001b[0m-\u001b[1;36m12\u001b[0m\n"
      ]
     },
     "metadata": {},
     "output_type": "display_data"
    },
    {
     "data": {
      "text/html": [
       "Finishing last run (ID:sn69o2g2) before initializing another..."
      ],
      "text/plain": [
       "<IPython.core.display.HTML object>"
      ]
     },
     "metadata": {},
     "output_type": "display_data"
    },
    {
     "data": {
      "text/html": [
       " View run <strong style=\"color:#cdcd00\">TRPOLag-{SafetyPointGoal2-v0}-seed-000-2024-05-20-21-23-29</strong> at: <a href='https://wandb.ai/sasank/omnisafe/runs/sn69o2g2' target=\"_blank\">https://wandb.ai/sasank/omnisafe/runs/sn69o2g2</a><br/> View project at: <a href='https://wandb.ai/sasank/omnisafe' target=\"_blank\">https://wandb.ai/sasank/omnisafe</a><br/>Synced 5 W&B file(s), 0 media file(s), 0 artifact file(s) and 0 other file(s)"
      ],
      "text/plain": [
       "<IPython.core.display.HTML object>"
      ]
     },
     "metadata": {},
     "output_type": "display_data"
    },
    {
     "data": {
      "text/html": [
       "Find logs at: <code>exp-x\\Experiments_Final_3\\SafetyPointGoal1-v0---c646505996934bea5656d92ac0e923ffc0022a80d184a7b90c4b188d2162828c\\TRPOLag-{SafetyPointGoal2-v0}\\seed-000-2024-05-20-21-23-29\\wandb\\run-20240520_212329-sn69o2g2\\logs</code>"
      ],
      "text/plain": [
       "<IPython.core.display.HTML object>"
      ]
     },
     "metadata": {},
     "output_type": "display_data"
    },
    {
     "data": {
      "text/html": [
       "Successfully finished last run (ID:sn69o2g2). Initializing new run:<br/>"
      ],
      "text/plain": [
       "<IPython.core.display.HTML object>"
      ]
     },
     "metadata": {},
     "output_type": "display_data"
    },
    {
     "data": {
      "text/html": [
       "Tracking run with wandb version 0.17.0"
      ],
      "text/plain": [
       "<IPython.core.display.HTML object>"
      ]
     },
     "metadata": {},
     "output_type": "display_data"
    },
    {
     "data": {
      "text/html": [
       "Run data is saved locally in <code>exp-x\\Exps_Final_4\\SafetyPointButton1-v0---1677e31b0363fcf8ef58e44538166b5993b805d853383e16655645ca63c52a15\\PPOLag-{SafetyPointButton2-v0}\\seed-000-2024-05-20-21-31-12\\wandb\\run-20240520_213112-dvnehgb6</code>"
      ],
      "text/plain": [
       "<IPython.core.display.HTML object>"
      ]
     },
     "metadata": {},
     "output_type": "display_data"
    },
    {
     "data": {
      "text/html": [
       "Syncing run <strong><a href='https://wandb.ai/sasank/omnisafe/runs/dvnehgb6' target=\"_blank\">PPOLag-{SafetyPointButton2-v0}-seed-000-2024-05-20-21-31-12</a></strong> to <a href='https://wandb.ai/sasank/omnisafe' target=\"_blank\">Weights & Biases</a> (<a href='https://wandb.me/run' target=\"_blank\">docs</a>)<br/>"
      ],
      "text/plain": [
       "<IPython.core.display.HTML object>"
      ]
     },
     "metadata": {},
     "output_type": "display_data"
    },
    {
     "data": {
      "text/html": [
       " View project at <a href='https://wandb.ai/sasank/omnisafe' target=\"_blank\">https://wandb.ai/sasank/omnisafe</a>"
      ],
      "text/plain": [
       "<IPython.core.display.HTML object>"
      ]
     },
     "metadata": {},
     "output_type": "display_data"
    },
    {
     "data": {
      "text/html": [
       " View run at <a href='https://wandb.ai/sasank/omnisafe/runs/dvnehgb6' target=\"_blank\">https://wandb.ai/sasank/omnisafe/runs/dvnehgb6</a>"
      ],
      "text/plain": [
       "<IPython.core.display.HTML object>"
      ]
     },
     "metadata": {},
     "output_type": "display_data"
    },
    {
     "name": "stdout",
     "output_type": "stream",
     "text": [
      "Episode 1 results:\n",
      "Episode reward: 7.073989629626794\n",
      "Episode cost: 132.0\n",
      "Episode length: 1000.0\n",
      "\n",
      "##################################################\n",
      "\n",
      "Evaluation results:\n",
      "Average episode reward: 7.073989629626794\n",
      "Average episode cost: 132.0\n",
      "Average episode length: 1000.0\n",
      "Episode 1 results:\n",
      "Episode reward: 1.934619777210628\n",
      "Episode cost: 143.0\n",
      "Episode length: 1000.0\n",
      "Episode 2 results:\n",
      "Episode reward: 6.147478841634438\n",
      "Episode cost: 82.0\n",
      "Episode length: 1000.0\n",
      "Episode 3 results:\n",
      "Episode reward: 7.647669645628866\n",
      "Episode cost: 403.0\n",
      "Episode length: 1000.0\n",
      "Episode 4 results:\n",
      "Episode reward: 8.20673620861757\n",
      "Episode cost: 42.0\n",
      "Episode length: 1000.0\n",
      "Episode 5 results:\n",
      "Episode reward: 12.69454974645214\n",
      "Episode cost: 90.0\n",
      "Episode length: 1000.0\n",
      "Episode 6 results:\n",
      "Episode reward: 8.19040247102322\n",
      "Episode cost: 71.0\n",
      "Episode length: 1000.0\n",
      "Episode 7 results:\n",
      "Episode reward: 11.969323237721255\n",
      "Episode cost: 89.0\n",
      "Episode length: 1000.0\n",
      "Episode 8 results:\n",
      "Episode reward: 6.180812245292145\n",
      "Episode cost: 152.0\n",
      "Episode length: 1000.0\n",
      "Episode 9 results:\n",
      "Episode reward: 5.648005066001133\n",
      "Episode cost: 100.0\n",
      "Episode length: 1000.0\n",
      "Episode 10 results:\n",
      "Episode reward: 6.941736235902681\n",
      "Episode cost: 1.0\n",
      "Episode length: 1000.0\n",
      "Episode 11 results:\n",
      "Episode reward: -4.9886633330229415\n",
      "Episode cost: 23.0\n",
      "Episode length: 1000.0\n",
      "Episode 12 results:\n",
      "Episode reward: 9.869080877757114\n",
      "Episode cost: 82.0\n",
      "Episode length: 1000.0\n",
      "Episode 13 results:\n",
      "Episode reward: 5.101931482894997\n",
      "Episode cost: 76.0\n",
      "Episode length: 1000.0\n",
      "Episode 14 results:\n",
      "Episode reward: 6.477404924653456\n",
      "Episode cost: 381.0\n",
      "Episode length: 1000.0\n",
      "Episode 15 results:\n",
      "Episode reward: 14.23508370163836\n",
      "Episode cost: 148.0\n",
      "Episode length: 1000.0\n",
      "Episode 16 results:\n",
      "Episode reward: 2.313165489435505\n",
      "Episode cost: 62.0\n",
      "Episode length: 1000.0\n",
      "Episode 17 results:\n",
      "Episode reward: 11.439808693954546\n",
      "Episode cost: 148.0\n",
      "Episode length: 1000.0\n",
      "Episode 18 results:\n",
      "Episode reward: 4.396754230663646\n",
      "Episode cost: 364.0\n",
      "Episode length: 1000.0\n",
      "Episode 19 results:\n",
      "Episode reward: 12.461288211807187\n",
      "Episode cost: 128.0\n",
      "Episode length: 1000.0\n",
      "Episode 20 results:\n",
      "Episode reward: 5.859327399446613\n",
      "Episode cost: 119.0\n",
      "Episode length: 1000.0\n",
      "Episode 21 results:\n",
      "Episode reward: 7.970485733946134\n",
      "Episode cost: 202.0\n",
      "Episode length: 1000.0\n",
      "Episode 22 results:\n",
      "Episode reward: 11.70316024129238\n",
      "Episode cost: 130.0\n",
      "Episode length: 1000.0\n",
      "Episode 23 results:\n",
      "Episode reward: 7.951855072752096\n",
      "Episode cost: 263.0\n",
      "Episode length: 1000.0\n",
      "Episode 24 results:\n",
      "Episode reward: -0.32891242439006874\n",
      "Episode cost: 69.0\n",
      "Episode length: 1000.0\n",
      "Episode 25 results:\n",
      "Episode reward: 12.231221730865173\n",
      "Episode cost: 114.0\n",
      "Episode length: 1000.0\n",
      "Episode 26 results:\n",
      "Episode reward: 9.508533206134615\n",
      "Episode cost: 61.0\n",
      "Episode length: 1000.0\n",
      "Episode 27 results:\n",
      "Episode reward: 7.636576091171946\n",
      "Episode cost: 97.0\n",
      "Episode length: 1000.0\n",
      "Episode 28 results:\n",
      "Episode reward: 5.660598882769136\n",
      "Episode cost: 200.0\n",
      "Episode length: 1000.0\n",
      "Episode 29 results:\n",
      "Episode reward: 4.4200688261847745\n",
      "Episode cost: 30.0\n",
      "Episode length: 1000.0\n",
      "Episode 30 results:\n",
      "Episode reward: 16.796207858435082\n",
      "Episode cost: 218.0\n",
      "Episode length: 1000.0\n",
      "Episode 31 results:\n",
      "Episode reward: 6.054289695446187\n",
      "Episode cost: 383.0\n",
      "Episode length: 1000.0\n",
      "Episode 32 results:\n",
      "Episode reward: 4.2019626354599495\n",
      "Episode cost: 140.0\n",
      "Episode length: 1000.0\n",
      "Episode 33 results:\n",
      "Episode reward: 8.39686355095182\n",
      "Episode cost: 101.0\n",
      "Episode length: 1000.0\n",
      "Episode 34 results:\n",
      "Episode reward: 8.317105714809713\n",
      "Episode cost: 298.0\n",
      "Episode length: 1000.0\n",
      "Episode 35 results:\n",
      "Episode reward: 4.681377148342108\n",
      "Episode cost: 27.0\n",
      "Episode length: 1000.0\n",
      "Episode 36 results:\n",
      "Episode reward: 4.51768999228716\n",
      "Episode cost: 170.0\n",
      "Episode length: 1000.0\n",
      "Episode 37 results:\n",
      "Episode reward: 8.570340322332413\n",
      "Episode cost: 328.0\n",
      "Episode length: 1000.0\n",
      "Episode 38 results:\n",
      "Episode reward: 5.252088846194056\n",
      "Episode cost: 145.0\n",
      "Episode length: 1000.0\n",
      "Episode 39 results:\n",
      "Episode reward: 3.0089867341530407\n",
      "Episode cost: 154.0\n",
      "Episode length: 1000.0\n",
      "Episode 40 results:\n",
      "Episode reward: 7.276410975171984\n",
      "Episode cost: 0.0\n",
      "Episode length: 1000.0\n",
      "Episode 41 results:\n",
      "Episode reward: 5.2806796027002445\n",
      "Episode cost: 224.0\n",
      "Episode length: 1000.0\n",
      "Episode 42 results:\n",
      "Episode reward: 11.384419454788258\n",
      "Episode cost: 99.0\n",
      "Episode length: 1000.0\n",
      "Episode 43 results:\n",
      "Episode reward: 14.916368386881459\n",
      "Episode cost: 81.0\n",
      "Episode length: 1000.0\n",
      "Episode 44 results:\n",
      "Episode reward: 10.398384268708924\n",
      "Episode cost: 133.0\n",
      "Episode length: 1000.0\n",
      "Episode 45 results:\n",
      "Episode reward: 17.352564944706046\n",
      "Episode cost: 134.0\n",
      "Episode length: 1000.0\n",
      "Episode 46 results:\n",
      "Episode reward: 3.9089581542248197\n",
      "Episode cost: 84.0\n",
      "Episode length: 1000.0\n",
      "Episode 47 results:\n",
      "Episode reward: -3.9679255066730548\n",
      "Episode cost: 0.0\n",
      "Episode length: 1000.0\n",
      "Episode 48 results:\n",
      "Episode reward: 2.0659545230355434\n",
      "Episode cost: 255.0\n",
      "Episode length: 1000.0\n",
      "Episode 49 results:\n",
      "Episode reward: 5.491134453950508\n",
      "Episode cost: 88.0\n",
      "Episode length: 1000.0\n",
      "Episode 50 results:\n",
      "Episode reward: 8.587560230117333\n",
      "Episode cost: 162.0\n",
      "Episode length: 1000.0\n",
      "\n",
      "##################################################\n",
      "\n",
      "Evaluation results:\n",
      "Average episode reward: 7.239430490029247\n",
      "Average episode cost: 141.88\n",
      "Average episode length: 1000.0\n"
     ]
    },
    {
     "data": {
      "text/plain": [
       "([1.934619777210628,\n",
       "  6.147478841634438,\n",
       "  7.647669645628866,\n",
       "  8.20673620861757,\n",
       "  12.69454974645214,\n",
       "  8.19040247102322,\n",
       "  11.969323237721255,\n",
       "  6.180812245292145,\n",
       "  5.648005066001133,\n",
       "  6.941736235902681,\n",
       "  -4.9886633330229415,\n",
       "  9.869080877757114,\n",
       "  5.101931482894997,\n",
       "  6.477404924653456,\n",
       "  14.23508370163836,\n",
       "  2.313165489435505,\n",
       "  11.439808693954546,\n",
       "  4.396754230663646,\n",
       "  12.461288211807187,\n",
       "  5.859327399446613,\n",
       "  7.970485733946134,\n",
       "  11.70316024129238,\n",
       "  7.951855072752096,\n",
       "  -0.32891242439006874,\n",
       "  12.231221730865173,\n",
       "  9.508533206134615,\n",
       "  7.636576091171946,\n",
       "  5.660598882769136,\n",
       "  4.4200688261847745,\n",
       "  16.796207858435082,\n",
       "  6.054289695446187,\n",
       "  4.2019626354599495,\n",
       "  8.39686355095182,\n",
       "  8.317105714809713,\n",
       "  4.681377148342108,\n",
       "  4.51768999228716,\n",
       "  8.570340322332413,\n",
       "  5.252088846194056,\n",
       "  3.0089867341530407,\n",
       "  7.276410975171984,\n",
       "  5.2806796027002445,\n",
       "  11.384419454788258,\n",
       "  14.916368386881459,\n",
       "  10.398384268708924,\n",
       "  17.352564944706046,\n",
       "  3.9089581542248197,\n",
       "  -3.9679255066730548,\n",
       "  2.0659545230355434,\n",
       "  5.491134453950508,\n",
       "  8.587560230117333],\n",
       " [143.0,\n",
       "  82.0,\n",
       "  403.0,\n",
       "  42.0,\n",
       "  90.0,\n",
       "  71.0,\n",
       "  89.0,\n",
       "  152.0,\n",
       "  100.0,\n",
       "  1.0,\n",
       "  23.0,\n",
       "  82.0,\n",
       "  76.0,\n",
       "  381.0,\n",
       "  148.0,\n",
       "  62.0,\n",
       "  148.0,\n",
       "  364.0,\n",
       "  128.0,\n",
       "  119.0,\n",
       "  202.0,\n",
       "  130.0,\n",
       "  263.0,\n",
       "  69.0,\n",
       "  114.0,\n",
       "  61.0,\n",
       "  97.0,\n",
       "  200.0,\n",
       "  30.0,\n",
       "  218.0,\n",
       "  383.0,\n",
       "  140.0,\n",
       "  101.0,\n",
       "  298.0,\n",
       "  27.0,\n",
       "  170.0,\n",
       "  328.0,\n",
       "  145.0,\n",
       "  154.0,\n",
       "  0.0,\n",
       "  224.0,\n",
       "  99.0,\n",
       "  81.0,\n",
       "  133.0,\n",
       "  134.0,\n",
       "  84.0,\n",
       "  0.0,\n",
       "  255.0,\n",
       "  88.0,\n",
       "  162.0])"
      ]
     },
     "execution_count": 7,
     "metadata": {},
     "output_type": "execute_result"
    }
   ],
   "source": [
    "env_id = 'SafetyPointButton2-v0'\n",
    "custom_cfgs = {\n",
    "    'train_cfgs': {\n",
    "        'total_steps': 20000*30,\n",
    "        'vector_env_nums': 1,\n",
    "        'parallel': 1,\n",
    "    },\n",
    "    'algo_cfgs': {\n",
    "        'steps_per_epoch': 20000,\n",
    "    },\n",
    "    'model_cfgs': {\n",
    "        'load_actor_critic': 'exp-x\\Exps_Final_4\\SafetyPointButton1-v0---1677e31b0363fcf8ef58e44538166b5993b805d853383e16655645ca63c52a15\\PPOLag-{SafetyPointButton1-v0}\\seed-000-2024-05-20-09-55-39\\\\torch_save\\epoch-30.pt',\n",
    "    },\n",
    "    'logger_cfgs': {\n",
    "        'use_wandb': True,\n",
    "        'use_tensorboard': True,\n",
    "        'log_dir':'exp-x\\Exps_Final_4\\SafetyPointButton1-v0---1677e31b0363fcf8ef58e44538166b5993b805d853383e16655645ca63c52a15',\n",
    "    },\n",
    "}\n",
    "\n",
    "agent = omnisafe.Agent('PPOLag', env_id, custom_cfgs=custom_cfgs)\n",
    "agent.evaluate(1)\n",
    "transferred_result = agent._evaluator.evaluate(50)\n",
    "transferred_result"
   ]
  },
  {
   "cell_type": "code",
   "execution_count": 8,
   "metadata": {},
   "outputs": [
    {
     "name": "stdout",
     "output_type": "stream",
     "text": [
      "tensor(7.2394) tensor(4.5139) tensor(141.8800) tensor(101.9787)\n"
     ]
    }
   ],
   "source": [
    "rewards, costs = torch.tensor(transferred_result[0]), torch.tensor(transferred_result[1])\n",
    "avg_rew, std_rew = rewards.mean(), rewards.std()\n",
    "avg_cost, std_cost = costs.mean(), costs.std()\n",
    "print(avg_rew, std_rew, avg_cost, std_cost)"
   ]
  },
  {
   "cell_type": "markdown",
   "metadata": {},
   "source": [
    "button lvl 1 to 2 - TRPOLag"
   ]
  },
  {
   "cell_type": "code",
   "execution_count": 9,
   "metadata": {},
   "outputs": [
    {
     "name": "stdout",
     "output_type": "stream",
     "text": [
      "Loading TRPOLag.yaml from c:\\Users\\saisa\\omnisafe\\omnisafe\\utils\\..\\configs\\on-policy\\TRPOLag.yaml\n"
     ]
    },
    {
     "data": {
      "text/html": [
       "<pre style=\"white-space:pre;overflow-x:auto;line-height:normal;font-family:Menlo,'DejaVu Sans Mono',consolas,'Courier New',monospace\"><span style=\"color: #008080; text-decoration-color: #008080; font-weight: bold\">Logging data to </span>\n",
       "<span style=\"color: #008080; text-decoration-color: #008080; font-weight: bold\">exp-x\\Exps_Final_4\\SafetyPointButton1-v0---108dd5b5dbbac55097d30b868e12c46ba320a7cc38cdce6f501d2b5fc1fd7348\\TRPOLag</span>\n",
       "<span style=\"color: #008080; text-decoration-color: #008080; font-weight: bold\">-{SafetyPointButton2-v0}\\seed-</span><span style=\"color: #008080; text-decoration-color: #008080; font-weight: bold\">000</span><span style=\"color: #008080; text-decoration-color: #008080; font-weight: bold\">-</span><span style=\"color: #008080; text-decoration-color: #008080; font-weight: bold\">2024</span><span style=\"color: #008080; text-decoration-color: #008080; font-weight: bold\">-</span><span style=\"color: #008080; text-decoration-color: #008080; font-weight: bold\">05</span><span style=\"color: #008080; text-decoration-color: #008080; font-weight: bold\">-</span><span style=\"color: #008080; text-decoration-color: #008080; font-weight: bold\">20</span><span style=\"color: #008080; text-decoration-color: #008080; font-weight: bold\">-</span><span style=\"color: #008080; text-decoration-color: #008080; font-weight: bold\">21</span><span style=\"color: #008080; text-decoration-color: #008080; font-weight: bold\">-</span><span style=\"color: #008080; text-decoration-color: #008080; font-weight: bold\">36</span><span style=\"color: #008080; text-decoration-color: #008080; font-weight: bold\">-</span><span style=\"color: #008080; text-decoration-color: #008080; font-weight: bold\">09</span><span style=\"color: #008080; text-decoration-color: #008080; font-weight: bold\">\\progress.csv</span>\n",
       "</pre>\n"
      ],
      "text/plain": [
       "\u001b[1;36mLogging data to \u001b[0m\n",
       "\u001b[1;36mexp-x\\Exps_Final_4\\SafetyPointButton1-v0---108dd5b5dbbac55097d30b868e12c46ba320a7cc38cdce6f501d2b5fc1fd7348\\TRPOLag\u001b[0m\n",
       "\u001b[1;36m-\u001b[0m\u001b[1;36m{\u001b[0m\u001b[1;36mSafetyPointButton2-v0\u001b[0m\u001b[1;36m}\u001b[0m\u001b[1;36m\\seed-\u001b[0m\u001b[1;36m000\u001b[0m\u001b[1;36m-\u001b[0m\u001b[1;36m2024\u001b[0m\u001b[1;36m-\u001b[0m\u001b[1;36m05\u001b[0m\u001b[1;36m-\u001b[0m\u001b[1;36m20\u001b[0m\u001b[1;36m-\u001b[0m\u001b[1;36m21\u001b[0m\u001b[1;36m-\u001b[0m\u001b[1;36m36\u001b[0m\u001b[1;36m-\u001b[0m\u001b[1;36m09\u001b[0m\u001b[1;36m\\progress.csv\u001b[0m\n"
      ]
     },
     "metadata": {},
     "output_type": "display_data"
    },
    {
     "data": {
      "text/html": [
       "<pre style=\"white-space:pre;overflow-x:auto;line-height:normal;font-family:Menlo,'DejaVu Sans Mono',consolas,'Courier New',monospace\"><span style=\"color: #808000; text-decoration-color: #808000; font-weight: bold\">Save with config in config.json</span>\n",
       "</pre>\n"
      ],
      "text/plain": [
       "\u001b[1;33mSave with config in config.json\u001b[0m\n"
      ]
     },
     "metadata": {},
     "output_type": "display_data"
    },
    {
     "data": {
      "text/html": [
       "<pre style=\"white-space:pre;overflow-x:auto;line-height:normal;font-family:Menlo,'DejaVu Sans Mono',consolas,'Courier New',monospace\">project omnisafe name TRPOLag-<span style=\"font-weight: bold\">{</span>SafetyPointButton2-v0<span style=\"font-weight: bold\">}</span>-seed-<span style=\"color: #008080; text-decoration-color: #008080; font-weight: bold\">000</span>-<span style=\"color: #008080; text-decoration-color: #008080; font-weight: bold\">2024</span>-<span style=\"color: #008080; text-decoration-color: #008080; font-weight: bold\">05</span>-<span style=\"color: #008080; text-decoration-color: #008080; font-weight: bold\">20</span>-<span style=\"color: #008080; text-decoration-color: #008080; font-weight: bold\">21</span>-<span style=\"color: #008080; text-decoration-color: #008080; font-weight: bold\">36</span>-<span style=\"color: #008080; text-decoration-color: #008080; font-weight: bold\">09</span>\n",
       "</pre>\n"
      ],
      "text/plain": [
       "project omnisafe name TRPOLag-\u001b[1m{\u001b[0mSafetyPointButton2-v0\u001b[1m}\u001b[0m-seed-\u001b[1;36m000\u001b[0m-\u001b[1;36m2024\u001b[0m-\u001b[1;36m05\u001b[0m-\u001b[1;36m20\u001b[0m-\u001b[1;36m21\u001b[0m-\u001b[1;36m36\u001b[0m-\u001b[1;36m09\u001b[0m\n"
      ]
     },
     "metadata": {},
     "output_type": "display_data"
    },
    {
     "data": {
      "text/html": [
       "Finishing last run (ID:dvnehgb6) before initializing another..."
      ],
      "text/plain": [
       "<IPython.core.display.HTML object>"
      ]
     },
     "metadata": {},
     "output_type": "display_data"
    },
    {
     "data": {
      "text/html": [
       " View run <strong style=\"color:#cdcd00\">PPOLag-{SafetyPointButton2-v0}-seed-000-2024-05-20-21-31-12</strong> at: <a href='https://wandb.ai/sasank/omnisafe/runs/dvnehgb6' target=\"_blank\">https://wandb.ai/sasank/omnisafe/runs/dvnehgb6</a><br/> View project at: <a href='https://wandb.ai/sasank/omnisafe' target=\"_blank\">https://wandb.ai/sasank/omnisafe</a><br/>Synced 5 W&B file(s), 0 media file(s), 0 artifact file(s) and 0 other file(s)"
      ],
      "text/plain": [
       "<IPython.core.display.HTML object>"
      ]
     },
     "metadata": {},
     "output_type": "display_data"
    },
    {
     "data": {
      "text/html": [
       "Find logs at: <code>exp-x\\Exps_Final_4\\SafetyPointButton1-v0---1677e31b0363fcf8ef58e44538166b5993b805d853383e16655645ca63c52a15\\PPOLag-{SafetyPointButton2-v0}\\seed-000-2024-05-20-21-31-12\\wandb\\run-20240520_213112-dvnehgb6\\logs</code>"
      ],
      "text/plain": [
       "<IPython.core.display.HTML object>"
      ]
     },
     "metadata": {},
     "output_type": "display_data"
    },
    {
     "data": {
      "text/html": [
       "Successfully finished last run (ID:dvnehgb6). Initializing new run:<br/>"
      ],
      "text/plain": [
       "<IPython.core.display.HTML object>"
      ]
     },
     "metadata": {},
     "output_type": "display_data"
    },
    {
     "data": {
      "text/html": [
       "Tracking run with wandb version 0.17.0"
      ],
      "text/plain": [
       "<IPython.core.display.HTML object>"
      ]
     },
     "metadata": {},
     "output_type": "display_data"
    },
    {
     "data": {
      "text/html": [
       "Run data is saved locally in <code>exp-x\\Exps_Final_4\\SafetyPointButton1-v0---108dd5b5dbbac55097d30b868e12c46ba320a7cc38cdce6f501d2b5fc1fd7348\\TRPOLag-{SafetyPointButton2-v0}\\seed-000-2024-05-20-21-36-09\\wandb\\run-20240520_213609-d06rlad5</code>"
      ],
      "text/plain": [
       "<IPython.core.display.HTML object>"
      ]
     },
     "metadata": {},
     "output_type": "display_data"
    },
    {
     "data": {
      "text/html": [
       "Syncing run <strong><a href='https://wandb.ai/sasank/omnisafe/runs/d06rlad5' target=\"_blank\">TRPOLag-{SafetyPointButton2-v0}-seed-000-2024-05-20-21-36-09</a></strong> to <a href='https://wandb.ai/sasank/omnisafe' target=\"_blank\">Weights & Biases</a> (<a href='https://wandb.me/run' target=\"_blank\">docs</a>)<br/>"
      ],
      "text/plain": [
       "<IPython.core.display.HTML object>"
      ]
     },
     "metadata": {},
     "output_type": "display_data"
    },
    {
     "data": {
      "text/html": [
       " View project at <a href='https://wandb.ai/sasank/omnisafe' target=\"_blank\">https://wandb.ai/sasank/omnisafe</a>"
      ],
      "text/plain": [
       "<IPython.core.display.HTML object>"
      ]
     },
     "metadata": {},
     "output_type": "display_data"
    },
    {
     "data": {
      "text/html": [
       " View run at <a href='https://wandb.ai/sasank/omnisafe/runs/d06rlad5' target=\"_blank\">https://wandb.ai/sasank/omnisafe/runs/d06rlad5</a>"
      ],
      "text/plain": [
       "<IPython.core.display.HTML object>"
      ]
     },
     "metadata": {},
     "output_type": "display_data"
    },
    {
     "name": "stdout",
     "output_type": "stream",
     "text": [
      "Episode 1 results:\n",
      "Episode reward: 20.84557168534411\n",
      "Episode cost: 110.0\n",
      "Episode length: 1000.0\n",
      "\n",
      "##################################################\n",
      "\n",
      "Evaluation results:\n",
      "Average episode reward: 20.84557168534411\n",
      "Average episode cost: 110.0\n",
      "Average episode length: 1000.0\n",
      "Episode 1 results:\n",
      "Episode reward: 7.1933113282952945\n",
      "Episode cost: 30.0\n",
      "Episode length: 1000.0\n",
      "Episode 2 results:\n",
      "Episode reward: 11.57152900032088\n",
      "Episode cost: 44.0\n",
      "Episode length: 1000.0\n",
      "Episode 3 results:\n",
      "Episode reward: 17.87238189601021\n",
      "Episode cost: 436.0\n",
      "Episode length: 1000.0\n",
      "Episode 4 results:\n",
      "Episode reward: 6.950634995090809\n",
      "Episode cost: 47.0\n",
      "Episode length: 1000.0\n",
      "Episode 5 results:\n",
      "Episode reward: -8.107122580108012\n",
      "Episode cost: 204.0\n",
      "Episode length: 1000.0\n",
      "Episode 6 results:\n",
      "Episode reward: 16.555214958129\n",
      "Episode cost: 188.0\n",
      "Episode length: 1000.0\n",
      "Episode 7 results:\n",
      "Episode reward: 17.148253150812252\n",
      "Episode cost: 251.0\n",
      "Episode length: 1000.0\n",
      "Episode 8 results:\n",
      "Episode reward: 19.955833859389713\n",
      "Episode cost: 114.0\n",
      "Episode length: 1000.0\n",
      "Episode 9 results:\n",
      "Episode reward: 12.54816563624101\n",
      "Episode cost: 271.0\n",
      "Episode length: 1000.0\n",
      "Episode 10 results:\n",
      "Episode reward: 21.738194481335086\n",
      "Episode cost: 92.0\n",
      "Episode length: 1000.0\n",
      "Episode 11 results:\n",
      "Episode reward: -19.07525258203077\n",
      "Episode cost: 0.0\n",
      "Episode length: 1000.0\n",
      "Episode 12 results:\n",
      "Episode reward: 9.370216872209312\n",
      "Episode cost: 82.0\n",
      "Episode length: 1000.0\n",
      "Episode 13 results:\n",
      "Episode reward: -7.768603604292366\n",
      "Episode cost: 0.0\n",
      "Episode length: 1000.0\n",
      "Episode 14 results:\n",
      "Episode reward: 18.32216139047523\n",
      "Episode cost: 58.0\n",
      "Episode length: 1000.0\n",
      "Episode 15 results:\n",
      "Episode reward: 16.27435223577413\n",
      "Episode cost: 108.0\n",
      "Episode length: 1000.0\n",
      "Episode 16 results:\n",
      "Episode reward: -10.605671943550988\n",
      "Episode cost: 36.0\n",
      "Episode length: 1000.0\n",
      "Episode 17 results:\n",
      "Episode reward: 1.4616948301700177\n",
      "Episode cost: 29.0\n",
      "Episode length: 1000.0\n",
      "Episode 18 results:\n",
      "Episode reward: 22.011058483912166\n",
      "Episode cost: 101.0\n",
      "Episode length: 1000.0\n",
      "Episode 19 results:\n",
      "Episode reward: 3.5426216647224837\n",
      "Episode cost: 16.0\n",
      "Episode length: 1000.0\n",
      "Episode 20 results:\n",
      "Episode reward: 18.148859404866695\n",
      "Episode cost: 359.0\n",
      "Episode length: 1000.0\n",
      "Episode 21 results:\n",
      "Episode reward: 2.9963631665239063\n",
      "Episode cost: 493.0\n",
      "Episode length: 1000.0\n",
      "Episode 22 results:\n",
      "Episode reward: 24.325725089384264\n",
      "Episode cost: 105.0\n",
      "Episode length: 1000.0\n",
      "Episode 23 results:\n",
      "Episode reward: 23.208541825816155\n",
      "Episode cost: 77.0\n",
      "Episode length: 1000.0\n",
      "Episode 24 results:\n",
      "Episode reward: 19.839901806481222\n",
      "Episode cost: 332.0\n",
      "Episode length: 1000.0\n",
      "Episode 25 results:\n",
      "Episode reward: 14.125212128537214\n",
      "Episode cost: 256.0\n",
      "Episode length: 1000.0\n",
      "Episode 26 results:\n",
      "Episode reward: 24.697614395939127\n",
      "Episode cost: 153.0\n",
      "Episode length: 1000.0\n",
      "Episode 27 results:\n",
      "Episode reward: 8.14681162056587\n",
      "Episode cost: 105.0\n",
      "Episode length: 1000.0\n",
      "Episode 28 results:\n",
      "Episode reward: 12.043331710922658\n",
      "Episode cost: 81.0\n",
      "Episode length: 1000.0\n",
      "Episode 29 results:\n",
      "Episode reward: 21.671672475109972\n",
      "Episode cost: 140.0\n",
      "Episode length: 1000.0\n",
      "Episode 30 results:\n",
      "Episode reward: 14.454151269623253\n",
      "Episode cost: 136.0\n",
      "Episode length: 1000.0\n",
      "Episode 31 results:\n",
      "Episode reward: 12.318561066470465\n",
      "Episode cost: 62.0\n",
      "Episode length: 1000.0\n",
      "Episode 32 results:\n",
      "Episode reward: 12.287480187584606\n",
      "Episode cost: 107.0\n",
      "Episode length: 1000.0\n",
      "Episode 33 results:\n",
      "Episode reward: -0.9067448921814503\n",
      "Episode cost: 30.0\n",
      "Episode length: 1000.0\n",
      "Episode 34 results:\n",
      "Episode reward: 16.51845058404399\n",
      "Episode cost: 211.0\n",
      "Episode length: 1000.0\n",
      "Episode 35 results:\n",
      "Episode reward: 7.271351959013828\n",
      "Episode cost: 777.0\n",
      "Episode length: 1000.0\n",
      "Episode 36 results:\n",
      "Episode reward: 12.665325131837562\n",
      "Episode cost: 104.0\n",
      "Episode length: 1000.0\n",
      "Episode 37 results:\n",
      "Episode reward: 28.494529856074223\n",
      "Episode cost: 207.0\n",
      "Episode length: 1000.0\n",
      "Episode 38 results:\n",
      "Episode reward: 3.5298523217735465\n",
      "Episode cost: 98.0\n",
      "Episode length: 1000.0\n",
      "Episode 39 results:\n",
      "Episode reward: 9.206970711598842\n",
      "Episode cost: 20.0\n",
      "Episode length: 1000.0\n",
      "Episode 40 results:\n",
      "Episode reward: 18.441184600777888\n",
      "Episode cost: 163.0\n",
      "Episode length: 1000.0\n",
      "Episode 41 results:\n",
      "Episode reward: 5.709609484152679\n",
      "Episode cost: 146.0\n",
      "Episode length: 1000.0\n",
      "Episode 42 results:\n",
      "Episode reward: 8.572001591403904\n",
      "Episode cost: 101.0\n",
      "Episode length: 1000.0\n",
      "Episode 43 results:\n",
      "Episode reward: 5.777764011555064\n",
      "Episode cost: 76.0\n",
      "Episode length: 1000.0\n",
      "Episode 44 results:\n",
      "Episode reward: 18.59712571414775\n",
      "Episode cost: 103.0\n",
      "Episode length: 1000.0\n",
      "Episode 45 results:\n",
      "Episode reward: 10.228213482301726\n",
      "Episode cost: 108.0\n",
      "Episode length: 1000.0\n",
      "Episode 46 results:\n",
      "Episode reward: 3.2405489247742025\n",
      "Episode cost: 13.0\n",
      "Episode length: 1000.0\n",
      "Episode 47 results:\n",
      "Episode reward: 8.488147074498556\n",
      "Episode cost: 159.0\n",
      "Episode length: 1000.0\n",
      "Episode 48 results:\n",
      "Episode reward: 8.836153350200846\n",
      "Episode cost: 73.0\n",
      "Episode length: 1000.0\n",
      "Episode 49 results:\n",
      "Episode reward: 24.87912715784239\n",
      "Episode cost: 161.0\n",
      "Episode length: 1000.0\n",
      "Episode 50 results:\n",
      "Episode reward: 8.098855261498898\n",
      "Episode cost: 177.0\n",
      "Episode length: 1000.0\n",
      "\n",
      "##################################################\n",
      "\n",
      "Evaluation results:\n",
      "Average episode reward: 11.257433330920907\n",
      "Average episode cost: 144.8\n",
      "Average episode length: 1000.0\n"
     ]
    },
    {
     "data": {
      "text/plain": [
       "([7.1933113282952945,\n",
       "  11.57152900032088,\n",
       "  17.87238189601021,\n",
       "  6.950634995090809,\n",
       "  -8.107122580108012,\n",
       "  16.555214958129,\n",
       "  17.148253150812252,\n",
       "  19.955833859389713,\n",
       "  12.54816563624101,\n",
       "  21.738194481335086,\n",
       "  -19.07525258203077,\n",
       "  9.370216872209312,\n",
       "  -7.768603604292366,\n",
       "  18.32216139047523,\n",
       "  16.27435223577413,\n",
       "  -10.605671943550988,\n",
       "  1.4616948301700177,\n",
       "  22.011058483912166,\n",
       "  3.5426216647224837,\n",
       "  18.148859404866695,\n",
       "  2.9963631665239063,\n",
       "  24.325725089384264,\n",
       "  23.208541825816155,\n",
       "  19.839901806481222,\n",
       "  14.125212128537214,\n",
       "  24.697614395939127,\n",
       "  8.14681162056587,\n",
       "  12.043331710922658,\n",
       "  21.671672475109972,\n",
       "  14.454151269623253,\n",
       "  12.318561066470465,\n",
       "  12.287480187584606,\n",
       "  -0.9067448921814503,\n",
       "  16.51845058404399,\n",
       "  7.271351959013828,\n",
       "  12.665325131837562,\n",
       "  28.494529856074223,\n",
       "  3.5298523217735465,\n",
       "  9.206970711598842,\n",
       "  18.441184600777888,\n",
       "  5.709609484152679,\n",
       "  8.572001591403904,\n",
       "  5.777764011555064,\n",
       "  18.59712571414775,\n",
       "  10.228213482301726,\n",
       "  3.2405489247742025,\n",
       "  8.488147074498556,\n",
       "  8.836153350200846,\n",
       "  24.87912715784239,\n",
       "  8.098855261498898],\n",
       " [30.0,\n",
       "  44.0,\n",
       "  436.0,\n",
       "  47.0,\n",
       "  204.0,\n",
       "  188.0,\n",
       "  251.0,\n",
       "  114.0,\n",
       "  271.0,\n",
       "  92.0,\n",
       "  0.0,\n",
       "  82.0,\n",
       "  0.0,\n",
       "  58.0,\n",
       "  108.0,\n",
       "  36.0,\n",
       "  29.0,\n",
       "  101.0,\n",
       "  16.0,\n",
       "  359.0,\n",
       "  493.0,\n",
       "  105.0,\n",
       "  77.0,\n",
       "  332.0,\n",
       "  256.0,\n",
       "  153.0,\n",
       "  105.0,\n",
       "  81.0,\n",
       "  140.0,\n",
       "  136.0,\n",
       "  62.0,\n",
       "  107.0,\n",
       "  30.0,\n",
       "  211.0,\n",
       "  777.0,\n",
       "  104.0,\n",
       "  207.0,\n",
       "  98.0,\n",
       "  20.0,\n",
       "  163.0,\n",
       "  146.0,\n",
       "  101.0,\n",
       "  76.0,\n",
       "  103.0,\n",
       "  108.0,\n",
       "  13.0,\n",
       "  159.0,\n",
       "  73.0,\n",
       "  161.0,\n",
       "  177.0])"
      ]
     },
     "execution_count": 9,
     "metadata": {},
     "output_type": "execute_result"
    }
   ],
   "source": [
    "env_id = 'SafetyPointButton2-v0'\n",
    "custom_cfgs = {\n",
    "    'train_cfgs': {\n",
    "        'total_steps': 20000*30,\n",
    "        'vector_env_nums': 1,\n",
    "        'parallel': 1,\n",
    "    },\n",
    "    'algo_cfgs': {\n",
    "        'steps_per_epoch': 20000,\n",
    "    },\n",
    "    'model_cfgs': {\n",
    "        'load_actor_critic': 'exp-x\\Exps_Final_4\\SafetyPointButton1-v0---108dd5b5dbbac55097d30b868e12c46ba320a7cc38cdce6f501d2b5fc1fd7348\\TRPOLag-{SafetyPointButton1-v0}\\seed-000-2024-05-20-11-26-00\\\\torch_save\\epoch-30.pt',\n",
    "    },\n",
    "    'logger_cfgs': {\n",
    "        'use_wandb': True,\n",
    "        'use_tensorboard': True,\n",
    "        'log_dir':'exp-x\\Exps_Final_4\\SafetyPointButton1-v0---108dd5b5dbbac55097d30b868e12c46ba320a7cc38cdce6f501d2b5fc1fd7348',\n",
    "    },\n",
    "}\n",
    "\n",
    "agent = omnisafe.Agent('TRPOLag', env_id, custom_cfgs=custom_cfgs)\n",
    "agent.evaluate(1)\n",
    "transferred_result = agent._evaluator.evaluate(50)\n",
    "transferred_result"
   ]
  },
  {
   "cell_type": "code",
   "execution_count": 10,
   "metadata": {},
   "outputs": [
    {
     "name": "stdout",
     "output_type": "stream",
     "text": [
      "tensor(11.2574) tensor(9.7302) tensor(144.8000) tensor(140.1172)\n"
     ]
    }
   ],
   "source": [
    "rewards, costs = torch.tensor(transferred_result[0]), torch.tensor(transferred_result[1])\n",
    "avg_rew, std_rew = rewards.mean(), rewards.std()\n",
    "avg_cost, std_cost = costs.mean(), costs.std()\n",
    "print(avg_rew, std_rew, avg_cost, std_cost)"
   ]
  },
  {
   "cell_type": "code",
   "execution_count": null,
   "metadata": {},
   "outputs": [],
   "source": []
  }
 ],
 "metadata": {
  "kernelspec": {
   "display_name": "om-38",
   "language": "python",
   "name": "python3"
  },
  "language_info": {
   "codemirror_mode": {
    "name": "ipython",
    "version": 3
   },
   "file_extension": ".py",
   "mimetype": "text/x-python",
   "name": "python",
   "nbconvert_exporter": "python",
   "pygments_lexer": "ipython3",
   "version": "3.8.19"
  }
 },
 "nbformat": 4,
 "nbformat_minor": 2
}
