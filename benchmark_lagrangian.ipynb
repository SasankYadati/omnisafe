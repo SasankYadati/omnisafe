{
 "cells": [
  {
   "cell_type": "code",
   "execution_count": null,
   "metadata": {},
   "outputs": [],
   "source": [
    "import warnings\n",
    "\n",
    "import torch\n",
    "\n",
    "from omnisafe.common.experiment_grid import ExperimentGrid\n",
    "import omnisafe"
   ]
  },
  {
   "cell_type": "code",
   "execution_count": null,
   "metadata": {},
   "outputs": [],
   "source": [
    "eg = ExperimentGrid(exp_name='BM_Safety_Lagrangian')\n",
    "\n",
    "# Set the algorithms.\n",
    "# base_policy = ['TRPO', 'PPO']\n",
    "naive_lagrange_policy = ['PPOLag', 'TRPOLag']\n",
    "# second_order_policy = ['CPO']\n",
    "\n",
    "# Set the environments.\n",
    "safety_envs = [\n",
    "    'SafetyPointGoal1-v0',\n",
    "]\n",
    "eg.add('env_id', safety_envs)\n",
    "\n",
    "# Set the device.\n",
    "avaliable_gpus = list(range(torch.cuda.device_count()))\n",
    "gpu_id = [0]\n",
    "\n",
    "if gpu_id and not set(gpu_id).issubset(avaliable_gpus):\n",
    "    warnings.warn('The GPU ID is not available, use CPU instead.', stacklevel=1)\n",
    "    gpu_id = None\n",
    "\n",
    "eg.add('algo', naive_lagrange_policy)\n",
    "eg.add('logger_cfgs:use_wandb', [True])\n",
    "eg.add('logger_cfgs:wandb_project', ['Benchmark_Safety'])\n",
    "eg.add('train_cfgs:vector_env_nums', [4])\n",
    "eg.add('train_cfgs:torch_threads', [8])\n",
    "eg.add('algo_cfgs:steps_per_epoch', [20000])\n",
    "eg.add('train_cfgs:total_steps', [20000 * 30])\n",
    "eg.add('seed', [0])"
   ]
  },
  {
   "cell_type": "code",
   "execution_count": null,
   "metadata": {},
   "outputs": [],
   "source": [
    "\"\"\"Example of training a policy from exp-x config with OmniSafe.\"\"\"\n",
    "import os, sys\n",
    "from omnisafe.typing import NamedTuple, Tuple\n",
    "\n",
    "\n",
    "def train(\n",
    "    exp_id: str, algo: str, env_id: str, custom_cfgs: NamedTuple\n",
    ") -> Tuple[float, float, float]:\n",
    "    \"\"\"Train a policy from exp-x config with OmniSafe.\n",
    "\n",
    "    Args:\n",
    "        exp_id (str): Experiment ID.\n",
    "        algo (str): Algorithm to train.\n",
    "        env_id (str): The name of test environment.\n",
    "        custom_cfgs (NamedTuple): Custom configurations.\n",
    "        num_threads (int, optional): Number of threads. Defaults to 6.\n",
    "    \"\"\"\n",
    "    terminal_log_name = 'terminal.log'\n",
    "    error_log_name = 'error.log'\n",
    "    if 'seed' in custom_cfgs:\n",
    "        terminal_log_name = f'seed{custom_cfgs[\"seed\"]}_{terminal_log_name}'\n",
    "        error_log_name = f'seed{custom_cfgs[\"seed\"]}_{error_log_name}'\n",
    "    sys.stdout = sys.__stdout__\n",
    "    sys.stderr = sys.__stderr__\n",
    "    print(f'exp-x: {exp_id} is training...')\n",
    "    if not os.path.exists(custom_cfgs['logger_cfgs']['log_dir']):\n",
    "        os.makedirs(custom_cfgs['logger_cfgs']['log_dir'], exist_ok=True)\n",
    "    # pylint: disable-next=consider-using-with\n",
    "    sys.stdout = open(\n",
    "        os.path.join(f'{custom_cfgs[\"logger_cfgs\"][\"log_dir\"]}', terminal_log_name),\n",
    "        'w',\n",
    "        encoding='utf-8',\n",
    "    )\n",
    "    # pylint: disable-next=consider-using-with\n",
    "    sys.stderr = open(\n",
    "        os.path.join(f'{custom_cfgs[\"logger_cfgs\"][\"log_dir\"]}', error_log_name),\n",
    "        'w',\n",
    "        encoding='utf-8',\n",
    "    )\n",
    "    agent = omnisafe.Agent(algo, env_id, custom_cfgs=custom_cfgs)\n",
    "    reward, cost, ep_len = agent.learn()\n",
    "    return reward, cost, ep_len"
   ]
  },
  {
   "cell_type": "code",
   "execution_count": null,
   "metadata": {},
   "outputs": [],
   "source": [
    "# total experiment num must can be divided by num_pool\n",
    "# meanwhile, users should decide this value according to their machine\n",
    "eg.run(train, gpu_id=gpu_id)"
   ]
  },
  {
   "cell_type": "code",
   "execution_count": null,
   "metadata": {},
   "outputs": [],
   "source": [
    "# just fill in the name of the parameter of which value you want to compare.\n",
    "# then you can specify the value of the parameter you want to compare,\n",
    "# or you can just specify how many values you want to compare in single graph at most,\n",
    "# and the function will automatically generate all possible combinations of the graph.\n",
    "# but the two mode can not be used at the same time.\n",
    "# eg.analyze(parameter='env_id', values=None, compare_num=6, cost_limit=25)\n",
    "eg.render(num_episodes=1, render_mode='rgb_array', width=256, height=256)\n",
    "eg.evaluate(num_episodes=1)"
   ]
  }
 ],
 "metadata": {
  "kernelspec": {
   "display_name": "omnisafe-env",
   "language": "python",
   "name": "python3"
  },
  "language_info": {
   "codemirror_mode": {
    "name": "ipython",
    "version": 3
   },
   "file_extension": ".py",
   "mimetype": "text/x-python",
   "name": "python",
   "nbconvert_exporter": "python",
   "pygments_lexer": "ipython3",
   "version": "3.8.19"
  }
 },
 "nbformat": 4,
 "nbformat_minor": 2
}
