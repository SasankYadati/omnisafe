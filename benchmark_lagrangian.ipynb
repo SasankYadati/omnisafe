{
 "cells": [
  {
   "cell_type": "code",
   "execution_count": 1,
   "metadata": {},
   "outputs": [],
   "source": [
    "import warnings\n",
    "\n",
    "import torch\n",
    "\n",
    "from omnisafe.common.experiment_grid import ExperimentGrid\n",
    "import omnisafe"
   ]
  },
  {
   "cell_type": "code",
   "execution_count": 2,
   "metadata": {},
   "outputs": [],
   "source": [
    "eg = ExperimentGrid(exp_name='BM_Safety_Lagrangian')\n",
    "\n",
    "# Set the algorithms.\n",
    "# base_policy = ['TRPO', 'PPO']\n",
    "naive_lagrange_policy = ['PPOLag', 'TRPOLag']\n",
    "# second_order_policy = ['CPO']\n",
    "\n",
    "# Set the environments.\n",
    "safety_envs = [\n",
    "    'SafetyPointGoal1-v0',\n",
    "]\n",
    "eg.add('env_id', safety_envs)\n",
    "\n",
    "# Set the device.\n",
    "avaliable_gpus = list(range(torch.cuda.device_count()))\n",
    "gpu_id = [0]\n",
    "\n",
    "if gpu_id and not set(gpu_id).issubset(avaliable_gpus):\n",
    "    warnings.warn('The GPU ID is not available, use CPU instead.', stacklevel=1)\n",
    "    gpu_id = None\n",
    "\n",
    "eg.add('algo', naive_lagrange_policy)\n",
    "eg.add('logger_cfgs:use_wandb', [True])\n",
    "eg.add('logger_cfgs:wandb_project', ['Benchmark_Safety'])\n",
    "eg.add('train_cfgs:vector_env_nums', [4])\n",
    "eg.add('train_cfgs:torch_threads', [8])\n",
    "eg.add('algo_cfgs:steps_per_epoch', [20000])\n",
    "eg.add('train_cfgs:total_steps', [20000 * 30])\n",
    "eg.add('seed', [0])"
   ]
  },
  {
   "cell_type": "code",
   "execution_count": 3,
   "metadata": {},
   "outputs": [],
   "source": [
    "\"\"\"Example of training a policy from exp-x config with OmniSafe.\"\"\"\n",
    "import os, sys\n",
    "from omnisafe.typing import NamedTuple, Tuple\n",
    "\n",
    "\n",
    "def train(\n",
    "    exp_id: str, algo: str, env_id: str, custom_cfgs: NamedTuple\n",
    ") -> Tuple[float, float, float]:\n",
    "    \"\"\"Train a policy from exp-x config with OmniSafe.\n",
    "\n",
    "    Args:\n",
    "        exp_id (str): Experiment ID.\n",
    "        algo (str): Algorithm to train.\n",
    "        env_id (str): The name of test environment.\n",
    "        custom_cfgs (NamedTuple): Custom configurations.\n",
    "        num_threads (int, optional): Number of threads. Defaults to 6.\n",
    "    \"\"\"\n",
    "    terminal_log_name = 'terminal.log'\n",
    "    error_log_name = 'error.log'\n",
    "    if 'seed' in custom_cfgs:\n",
    "        terminal_log_name = f'seed{custom_cfgs[\"seed\"]}_{terminal_log_name}'\n",
    "        error_log_name = f'seed{custom_cfgs[\"seed\"]}_{error_log_name}'\n",
    "    sys.stdout = sys.__stdout__\n",
    "    sys.stderr = sys.__stderr__\n",
    "    print(f'exp-x: {exp_id} is training...')\n",
    "    if not os.path.exists(custom_cfgs['logger_cfgs']['log_dir']):\n",
    "        os.makedirs(custom_cfgs['logger_cfgs']['log_dir'], exist_ok=True)\n",
    "    # pylint: disable-next=consider-using-with\n",
    "    sys.stdout = open(\n",
    "        os.path.join(f'{custom_cfgs[\"logger_cfgs\"][\"log_dir\"]}', terminal_log_name),\n",
    "        'w',\n",
    "        encoding='utf-8',\n",
    "    )\n",
    "    # pylint: disable-next=consider-using-with\n",
    "    sys.stderr = open(\n",
    "        os.path.join(f'{custom_cfgs[\"logger_cfgs\"][\"log_dir\"]}', error_log_name),\n",
    "        'w',\n",
    "        encoding='utf-8',\n",
    "    )\n",
    "    agent = omnisafe.Agent(algo, env_id, custom_cfgs=custom_cfgs)\n",
    "    reward, cost, ep_len = agent.learn()\n",
    "    return reward, cost, ep_len"
   ]
  },
  {
   "cell_type": "code",
   "execution_count": 4,
   "metadata": {},
   "outputs": [
    {
     "data": {
      "text/html": [
       "<pre style=\"white-space:pre;overflow-x:auto;line-height:normal;font-family:Menlo,'DejaVu Sans Mono',consolas,'Courier New',monospace\"><span style=\"color: #808000; text-decoration-color: #808000; font-weight: bold\">Save with config of experiment grid in grid_config.json</span>\n",
       "</pre>\n"
      ],
      "text/plain": [
       "\u001b[1;33mSave with config of experiment grid in grid_config.json\u001b[0m\n"
      ]
     },
     "metadata": {},
     "output_type": "display_data"
    },
    {
     "name": "stdout",
     "output_type": "stream",
     "text": [
      "================================================================================\n"
     ]
    },
    {
     "data": {
      "text/html": [
       "<pre style=\"white-space:pre;overflow-x:auto;line-height:normal;font-family:Menlo,'DejaVu Sans Mono',consolas,'Courier New',monospace\"><span style=\"color: #008000; text-decoration-color: #008000; font-weight: bold\">ExperimentGrid [BM_Safety_Lagrangian] runs over parameters:</span>\n",
       "\n",
       "</pre>\n"
      ],
      "text/plain": [
       "\u001b[1;32mExperimentGrid \u001b[0m\u001b[1;32m[\u001b[0m\u001b[1;32mBM_Safety_Lagrangian\u001b[0m\u001b[1;32m]\u001b[0m\u001b[1;32m runs over parameters:\u001b[0m\n",
       "\n"
      ]
     },
     "metadata": {},
     "output_type": "display_data"
    },
    {
     "data": {
      "text/html": [
       "<pre style=\"white-space:pre;overflow-x:auto;line-height:normal;font-family:Menlo,'DejaVu Sans Mono',consolas,'Courier New',monospace\"><span style=\"color: #008080; text-decoration-color: #008080; font-weight: bold\"> env_id                                  </span></pre>\n"
      ],
      "text/plain": [
       "\u001b[1;36m env_id                                  \u001b[0m"
      ]
     },
     "metadata": {},
     "output_type": "display_data"
    },
    {
     "name": "stdout",
     "output_type": "stream",
     "text": [
      "[env] \n",
      "\n",
      "\t\"SafetyPointGoal1-v0\"\n",
      "\n"
     ]
    },
    {
     "data": {
      "text/html": [
       "<pre style=\"white-space:pre;overflow-x:auto;line-height:normal;font-family:Menlo,'DejaVu Sans Mono',consolas,'Courier New',monospace\"><span style=\"color: #008080; text-decoration-color: #008080; font-weight: bold\"> algo                                    </span></pre>\n"
      ],
      "text/plain": [
       "\u001b[1;36m algo                                    \u001b[0m"
      ]
     },
     "metadata": {},
     "output_type": "display_data"
    },
    {
     "name": "stdout",
     "output_type": "stream",
     "text": [
      "[alg] \n",
      "\n",
      "\t\"PPOLag\"\n",
      "\t\"TRPOLag\"\n",
      "\n"
     ]
    },
    {
     "data": {
      "text/html": [
       "<pre style=\"white-space:pre;overflow-x:auto;line-height:normal;font-family:Menlo,'DejaVu Sans Mono',consolas,'Courier New',monospace\"><span style=\"color: #008080; text-decoration-color: #008080; font-weight: bold\"> logger_cfgs:use_wandb                   </span></pre>\n"
      ],
      "text/plain": [
       "\u001b[1;36m logger_cfgs:use_wandb                   \u001b[0m"
      ]
     },
     "metadata": {},
     "output_type": "display_data"
    },
    {
     "name": "stdout",
     "output_type": "stream",
     "text": [
      "[log-use] \n",
      "\n",
      "\ttrue\n",
      "\n"
     ]
    },
    {
     "data": {
      "text/html": [
       "<pre style=\"white-space:pre;overflow-x:auto;line-height:normal;font-family:Menlo,'DejaVu Sans Mono',consolas,'Courier New',monospace\"><span style=\"color: #008080; text-decoration-color: #008080; font-weight: bold\"> logger_cfgs:wandb_project               </span></pre>\n"
      ],
      "text/plain": [
       "\u001b[1;36m logger_cfgs:wandb_project               \u001b[0m"
      ]
     },
     "metadata": {},
     "output_type": "display_data"
    },
    {
     "name": "stdout",
     "output_type": "stream",
     "text": [
      "[log-wan] \n",
      "\n",
      "\t\"Benchmark_Safety\"\n",
      "\n"
     ]
    },
    {
     "data": {
      "text/html": [
       "<pre style=\"white-space:pre;overflow-x:auto;line-height:normal;font-family:Menlo,'DejaVu Sans Mono',consolas,'Courier New',monospace\"><span style=\"color: #008080; text-decoration-color: #008080; font-weight: bold\"> train_cfgs:vector_env_nums              </span></pre>\n"
      ],
      "text/plain": [
       "\u001b[1;36m train_cfgs:vector_env_nums              \u001b[0m"
      ]
     },
     "metadata": {},
     "output_type": "display_data"
    },
    {
     "name": "stdout",
     "output_type": "stream",
     "text": [
      "[tra-vec] \n",
      "\n",
      "\t4\n",
      "\n"
     ]
    },
    {
     "data": {
      "text/html": [
       "<pre style=\"white-space:pre;overflow-x:auto;line-height:normal;font-family:Menlo,'DejaVu Sans Mono',consolas,'Courier New',monospace\"><span style=\"color: #008080; text-decoration-color: #008080; font-weight: bold\"> train_cfgs:torch_threads                </span></pre>\n"
      ],
      "text/plain": [
       "\u001b[1;36m train_cfgs:torch_threads                \u001b[0m"
      ]
     },
     "metadata": {},
     "output_type": "display_data"
    },
    {
     "name": "stdout",
     "output_type": "stream",
     "text": [
      "[tra-tor] \n",
      "\n",
      "\t8\n",
      "\n"
     ]
    },
    {
     "data": {
      "text/html": [
       "<pre style=\"white-space:pre;overflow-x:auto;line-height:normal;font-family:Menlo,'DejaVu Sans Mono',consolas,'Courier New',monospace\"><span style=\"color: #008080; text-decoration-color: #008080; font-weight: bold\"> algo_cfgs:steps_per_epoch               </span></pre>\n"
      ],
      "text/plain": [
       "\u001b[1;36m algo_cfgs:steps_per_epoch               \u001b[0m"
      ]
     },
     "metadata": {},
     "output_type": "display_data"
    },
    {
     "name": "stdout",
     "output_type": "stream",
     "text": [
      "[alg-ste] \n",
      "\n",
      "\t20000\n",
      "\n"
     ]
    },
    {
     "data": {
      "text/html": [
       "<pre style=\"white-space:pre;overflow-x:auto;line-height:normal;font-family:Menlo,'DejaVu Sans Mono',consolas,'Courier New',monospace\"><span style=\"color: #008080; text-decoration-color: #008080; font-weight: bold\"> train_cfgs:total_steps                  </span></pre>\n"
      ],
      "text/plain": [
       "\u001b[1;36m train_cfgs:total_steps                  \u001b[0m"
      ]
     },
     "metadata": {},
     "output_type": "display_data"
    },
    {
     "name": "stdout",
     "output_type": "stream",
     "text": [
      "[tra-tot] \n",
      "\n",
      "\t600000\n",
      "\n"
     ]
    },
    {
     "data": {
      "text/html": [
       "<pre style=\"white-space:pre;overflow-x:auto;line-height:normal;font-family:Menlo,'DejaVu Sans Mono',consolas,'Courier New',monospace\"><span style=\"color: #008080; text-decoration-color: #008080; font-weight: bold\"> seed                                    </span></pre>\n"
      ],
      "text/plain": [
       "\u001b[1;36m seed                                    \u001b[0m"
      ]
     },
     "metadata": {},
     "output_type": "display_data"
    },
    {
     "name": "stdout",
     "output_type": "stream",
     "text": [
      "[see] \n",
      "\n",
      "\t0\n",
      "\n",
      " Variants, counting seeds:               2\n",
      " Variants, not counting seeds:           2\n",
      "\n",
      "================================================================================\n",
      "value {'seed': 0, 'train_cfgs': {'total_steps': 600000, 'torch_threads': 8, 'vector_env_nums': 4}, 'algo_cfgs': {'steps_per_epoch': 20000}, 'logger_cfgs': {'wandb_project': 'Benchmark_Safety', 'use_wandb': True}, 'algo': 'PPOLag', 'env_id': 'SafetyPointGoal1-v0'} key algo\n",
      "value {'seed': 0, 'train_cfgs': {'total_steps': 600000, 'torch_threads': 8, 'vector_env_nums': 4}, 'algo_cfgs': {'steps_per_epoch': 20000}, 'logger_cfgs': {'wandb_project': 'Benchmark_Safety', 'use_wandb': True}, 'algo': 'TRPOLag', 'env_id': 'SafetyPointGoal1-v0'} key algo\n"
     ]
    },
    {
     "data": {
      "text/html": [
       "<pre style=\"white-space:pre;overflow-x:auto;line-height:normal;font-family:Menlo,'DejaVu Sans Mono',consolas,'Courier New',monospace\">\n",
       "<span style=\"color: #008000; text-decoration-color: #008000; font-weight: bold\">Preparing to run the following experiments</span><span style=\"color: #808000; text-decoration-color: #808000; font-weight: bold\">...</span>\n",
       "</pre>\n"
      ],
      "text/plain": [
       "\n",
       "\u001b[1;32mPreparing to run the following experiments\u001b[0m\u001b[1;33m...\u001b[0m\n"
      ]
     },
     "metadata": {},
     "output_type": "display_data"
    },
    {
     "name": "stdout",
     "output_type": "stream",
     "text": [
      "\n",
      "BM_Safety_Lagrangian_algppolag\n",
      "BM_Safety_Lagrangian_algtrpolag\n",
      "\n",
      "================================================================================\n",
      "current_config {'seed': 0, 'train_cfgs': {'total_steps': 600000, 'torch_threads': 8, 'vector_env_nums': 4}, 'algo_cfgs': {'steps_per_epoch': 20000}, 'logger_cfgs': {'wandb_project': 'Benchmark_Safety', 'use_wandb': True}, 'algo': 'PPOLag', 'env_id': 'SafetyPointGoal1-v0'}\n"
     ]
    },
    {
     "data": {
      "text/html": [
       "<pre style=\"white-space:pre;overflow-x:auto;line-height:normal;font-family:Menlo,'DejaVu Sans Mono',consolas,'Courier New',monospace\"><span style=\"color: #008080; text-decoration-color: #008080; font-weight: bold\">Logging data to </span>\n",
       "<span style=\"color: #008080; text-decoration-color: #008080; font-weight: bold\">.</span><span style=\"color: #800080; text-decoration-color: #800080; font-weight: bold\">/</span><span style=\"color: #ff00ff; text-decoration-color: #ff00ff; font-weight: bold\">exp-x</span><span style=\"color: #008080; text-decoration-color: #008080; font-weight: bold\">\\BM_Safety_Lagrangian\\SafetyPointGoal1-v0---47335d209c482a3ccbd6eb021625183261eac3afe3e5926d3ce1926b1403f582</span>\n",
       "<span style=\"color: #008080; text-decoration-color: #008080; font-weight: bold\">\\PPOLag-{SafetyPointGoal1-v0}\\seed-</span><span style=\"color: #008080; text-decoration-color: #008080; font-weight: bold\">000</span><span style=\"color: #008080; text-decoration-color: #008080; font-weight: bold\">-</span><span style=\"color: #008080; text-decoration-color: #008080; font-weight: bold\">2024</span><span style=\"color: #008080; text-decoration-color: #008080; font-weight: bold\">-</span><span style=\"color: #008080; text-decoration-color: #008080; font-weight: bold\">04</span><span style=\"color: #008080; text-decoration-color: #008080; font-weight: bold\">-</span><span style=\"color: #008080; text-decoration-color: #008080; font-weight: bold\">24</span><span style=\"color: #008080; text-decoration-color: #008080; font-weight: bold\">-</span><span style=\"color: #008080; text-decoration-color: #008080; font-weight: bold\">02</span><span style=\"color: #008080; text-decoration-color: #008080; font-weight: bold\">-</span><span style=\"color: #008080; text-decoration-color: #008080; font-weight: bold\">54</span><span style=\"color: #008080; text-decoration-color: #008080; font-weight: bold\">-</span><span style=\"color: #008080; text-decoration-color: #008080; font-weight: bold\">58</span><span style=\"color: #008080; text-decoration-color: #008080; font-weight: bold\">\\progress.csv</span>\n",
       "</pre>\n"
      ],
      "text/plain": [
       "\u001b[1;36mLogging data to \u001b[0m\n",
       "\u001b[1;36m.\u001b[0m\u001b[1;35m/\u001b[0m\u001b[1;95mexp-x\u001b[0m\u001b[1;36m\\BM_Safety_Lagrangian\\SafetyPointGoal1-v0---47335d209c482a3ccbd6eb021625183261eac3afe3e5926d3ce1926b1403f582\u001b[0m\n",
       "\u001b[1;36m\\PPOLag-\u001b[0m\u001b[1;36m{\u001b[0m\u001b[1;36mSafetyPointGoal1-v0\u001b[0m\u001b[1;36m}\u001b[0m\u001b[1;36m\\seed-\u001b[0m\u001b[1;36m000\u001b[0m\u001b[1;36m-\u001b[0m\u001b[1;36m2024\u001b[0m\u001b[1;36m-\u001b[0m\u001b[1;36m04\u001b[0m\u001b[1;36m-\u001b[0m\u001b[1;36m24\u001b[0m\u001b[1;36m-\u001b[0m\u001b[1;36m02\u001b[0m\u001b[1;36m-\u001b[0m\u001b[1;36m54\u001b[0m\u001b[1;36m-\u001b[0m\u001b[1;36m58\u001b[0m\u001b[1;36m\\progress.csv\u001b[0m\n"
      ]
     },
     "metadata": {},
     "output_type": "display_data"
    },
    {
     "data": {
      "text/html": [
       "<pre style=\"white-space:pre;overflow-x:auto;line-height:normal;font-family:Menlo,'DejaVu Sans Mono',consolas,'Courier New',monospace\"><span style=\"color: #808000; text-decoration-color: #808000; font-weight: bold\">Save with config in config.json</span>\n",
       "</pre>\n"
      ],
      "text/plain": [
       "\u001b[1;33mSave with config in config.json\u001b[0m\n"
      ]
     },
     "metadata": {},
     "output_type": "display_data"
    },
    {
     "data": {
      "text/html": [
       "<pre style=\"white-space:pre;overflow-x:auto;line-height:normal;font-family:Menlo,'DejaVu Sans Mono',consolas,'Courier New',monospace\">project Benchmark_Safety name PPOLag-<span style=\"font-weight: bold\">{</span>SafetyPointGoal1-v0<span style=\"font-weight: bold\">}</span>-seed-<span style=\"color: #008080; text-decoration-color: #008080; font-weight: bold\">000</span>-<span style=\"color: #008080; text-decoration-color: #008080; font-weight: bold\">2024</span>-<span style=\"color: #008080; text-decoration-color: #008080; font-weight: bold\">04</span>-<span style=\"color: #008080; text-decoration-color: #008080; font-weight: bold\">24</span>-<span style=\"color: #008080; text-decoration-color: #008080; font-weight: bold\">02</span>-<span style=\"color: #008080; text-decoration-color: #008080; font-weight: bold\">54</span>-<span style=\"color: #008080; text-decoration-color: #008080; font-weight: bold\">58</span>\n",
       "</pre>\n"
      ],
      "text/plain": [
       "project Benchmark_Safety name PPOLag-\u001b[1m{\u001b[0mSafetyPointGoal1-v0\u001b[1m}\u001b[0m-seed-\u001b[1;36m000\u001b[0m-\u001b[1;36m2024\u001b[0m-\u001b[1;36m04\u001b[0m-\u001b[1;36m24\u001b[0m-\u001b[1;36m02\u001b[0m-\u001b[1;36m54\u001b[0m-\u001b[1;36m58\u001b[0m\n"
      ]
     },
     "metadata": {},
     "output_type": "display_data"
    },
    {
     "data": {
      "text/html": [
       "Tracking run with wandb version 0.16.6"
      ],
      "text/plain": [
       "<IPython.core.display.HTML object>"
      ]
     },
     "metadata": {},
     "output_type": "display_data"
    },
    {
     "data": {
      "text/html": [
       "Run data is saved locally in <code>./exp-x\\BM_Safety_Lagrangian\\SafetyPointGoal1-v0---47335d209c482a3ccbd6eb021625183261eac3afe3e5926d3ce1926b1403f582\\PPOLag-{SafetyPointGoal1-v0}\\seed-000-2024-04-24-02-54-58\\wandb\\run-20240424_025500-knv2fogt</code>"
      ],
      "text/plain": [
       "<IPython.core.display.HTML object>"
      ]
     },
     "metadata": {},
     "output_type": "display_data"
    },
    {
     "data": {
      "text/html": [
       "Syncing run <strong><a href='https://wandb.ai/sasank/Benchmark_Safety/runs/knv2fogt' target=\"_blank\">PPOLag-{SafetyPointGoal1-v0}-seed-000-2024-04-24-02-54-58</a></strong> to <a href='https://wandb.ai/sasank/Benchmark_Safety' target=\"_blank\">Weights & Biases</a> (<a href='https://wandb.me/run' target=\"_blank\">docs</a>)<br/>"
      ],
      "text/plain": [
       "<IPython.core.display.HTML object>"
      ]
     },
     "metadata": {},
     "output_type": "display_data"
    },
    {
     "data": {
      "text/html": [
       " View project at <a href='https://wandb.ai/sasank/Benchmark_Safety' target=\"_blank\">https://wandb.ai/sasank/Benchmark_Safety</a>"
      ],
      "text/plain": [
       "<IPython.core.display.HTML object>"
      ]
     },
     "metadata": {},
     "output_type": "display_data"
    },
    {
     "data": {
      "text/html": [
       " View run at <a href='https://wandb.ai/sasank/Benchmark_Safety/runs/knv2fogt' target=\"_blank\">https://wandb.ai/sasank/Benchmark_Safety/runs/knv2fogt</a>"
      ],
      "text/plain": [
       "<IPython.core.display.HTML object>"
      ]
     },
     "metadata": {},
     "output_type": "display_data"
    },
    {
     "data": {
      "text/html": [
       "<pre style=\"white-space:pre;overflow-x:auto;line-height:normal;font-family:Menlo,'DejaVu Sans Mono',consolas,'Courier New',monospace\"><span style=\"color: #008000; text-decoration-color: #008000\">INFO: Start training</span>\n",
       "</pre>\n"
      ],
      "text/plain": [
       "\u001b[32mINFO: Start training\u001b[0m\n"
      ]
     },
     "metadata": {},
     "output_type": "display_data"
    },
    {
     "data": {
      "text/html": [
       "<pre style=\"white-space:pre;overflow-x:auto;line-height:normal;font-family:Menlo,'DejaVu Sans Mono',consolas,'Courier New',monospace\">c:\\Users\\saisa\\.conda\\envs\\omnisafe-env\\lib\\site-packages\\rich\\live.py:231: UserWarning: install \"ipywidgets\" for \n",
       "Jupyter support\n",
       "  warnings.warn('install \"ipywidgets\" for Jupyter support')\n",
       "</pre>\n"
      ],
      "text/plain": [
       "c:\\Users\\saisa\\.conda\\envs\\omnisafe-env\\lib\\site-packages\\rich\\live.py:231: UserWarning: install \"ipywidgets\" for \n",
       "Jupyter support\n",
       "  warnings.warn('install \"ipywidgets\" for Jupyter support')\n"
      ]
     },
     "metadata": {},
     "output_type": "display_data"
    },
    {
     "data": {
      "text/html": [
       "<pre style=\"white-space:pre;overflow-x:auto;line-height:normal;font-family:Menlo,'DejaVu Sans Mono',consolas,'Courier New',monospace\"><span style=\"color: #008000; text-decoration-color: #008000\">Warning: trajectory cut off when rollout by epoch at </span><span style=\"color: #008080; text-decoration-color: #008080; font-weight: bold\">1000.0</span><span style=\"color: #008000; text-decoration-color: #008000\"> steps.</span>\n",
       "</pre>\n"
      ],
      "text/plain": [
       "\u001b[32mWarning: trajectory cut off when rollout by epoch at \u001b[0m\u001b[1;36m1000.0\u001b[0m\u001b[32m steps.\u001b[0m\n"
      ]
     },
     "metadata": {},
     "output_type": "display_data"
    },
    {
     "data": {
      "text/html": [
       "<pre style=\"white-space:pre;overflow-x:auto;line-height:normal;font-family:Menlo,'DejaVu Sans Mono',consolas,'Courier New',monospace\"><span style=\"color: #008000; text-decoration-color: #008000\">Warning: trajectory cut off when rollout by epoch at </span><span style=\"color: #008080; text-decoration-color: #008080; font-weight: bold\">1000.0</span><span style=\"color: #008000; text-decoration-color: #008000\"> steps.</span>\n",
       "</pre>\n"
      ],
      "text/plain": [
       "\u001b[32mWarning: trajectory cut off when rollout by epoch at \u001b[0m\u001b[1;36m1000.0\u001b[0m\u001b[32m steps.\u001b[0m\n"
      ]
     },
     "metadata": {},
     "output_type": "display_data"
    },
    {
     "data": {
      "text/html": [
       "<pre style=\"white-space:pre;overflow-x:auto;line-height:normal;font-family:Menlo,'DejaVu Sans Mono',consolas,'Courier New',monospace\"><span style=\"color: #008000; text-decoration-color: #008000\">Warning: trajectory cut off when rollout by epoch at </span><span style=\"color: #008080; text-decoration-color: #008080; font-weight: bold\">1000.0</span><span style=\"color: #008000; text-decoration-color: #008000\"> steps.</span>\n",
       "</pre>\n"
      ],
      "text/plain": [
       "\u001b[32mWarning: trajectory cut off when rollout by epoch at \u001b[0m\u001b[1;36m1000.0\u001b[0m\u001b[32m steps.\u001b[0m\n"
      ]
     },
     "metadata": {},
     "output_type": "display_data"
    },
    {
     "data": {
      "text/html": [
       "<pre style=\"white-space:pre;overflow-x:auto;line-height:normal;font-family:Menlo,'DejaVu Sans Mono',consolas,'Courier New',monospace\"><span style=\"color: #008000; text-decoration-color: #008000\">Warning: trajectory cut off when rollout by epoch at </span><span style=\"color: #008080; text-decoration-color: #008080; font-weight: bold\">1000.0</span><span style=\"color: #008000; text-decoration-color: #008000\"> steps.</span>\n",
       "</pre>\n"
      ],
      "text/plain": [
       "\u001b[32mWarning: trajectory cut off when rollout by epoch at \u001b[0m\u001b[1;36m1000.0\u001b[0m\u001b[32m steps.\u001b[0m\n"
      ]
     },
     "metadata": {},
     "output_type": "display_data"
    },
    {
     "data": {
      "text/html": [
       "<pre style=\"white-space:pre;overflow-x:auto;line-height:normal;font-family:Menlo,'DejaVu Sans Mono',consolas,'Courier New',monospace\"></pre>\n"
      ],
      "text/plain": []
     },
     "metadata": {},
     "output_type": "display_data"
    },
    {
     "data": {
      "text/html": [
       "<pre style=\"white-space:pre;overflow-x:auto;line-height:normal;font-family:Menlo,'DejaVu Sans Mono',consolas,'Courier New',monospace\">\n",
       "</pre>\n"
      ],
      "text/plain": [
       "\n"
      ]
     },
     "metadata": {},
     "output_type": "display_data"
    },
    {
     "data": {
      "text/html": [
       "<pre style=\"white-space:pre;overflow-x:auto;line-height:normal;font-family:Menlo,'DejaVu Sans Mono',consolas,'Courier New',monospace\"></pre>\n"
      ],
      "text/plain": []
     },
     "metadata": {},
     "output_type": "display_data"
    },
    {
     "data": {
      "text/html": [
       "<pre style=\"white-space:pre;overflow-x:auto;line-height:normal;font-family:Menlo,'DejaVu Sans Mono',consolas,'Courier New',monospace\">\n",
       "</pre>\n"
      ],
      "text/plain": [
       "\n"
      ]
     },
     "metadata": {},
     "output_type": "display_data"
    },
    {
     "data": {
      "text/html": [
       "<pre style=\"white-space:pre;overflow-x:auto;line-height:normal;font-family:Menlo,'DejaVu Sans Mono',consolas,'Courier New',monospace\">┏━━━━━━━━━━━━━━━━━━━━━━━━━━━━━━━━┳━━━━━━━━━━━━━━━━━━━━━━━┓\n",
       "┃<span style=\"font-weight: bold\"> Metrics                        </span>┃<span style=\"font-weight: bold\"> Value                 </span>┃\n",
       "┡━━━━━━━━━━━━━━━━━━━━━━━━━━━━━━━━╇━━━━━━━━━━━━━━━━━━━━━━━┩\n",
       "│ Metrics/EpRet                  │ -0.6186364889144897   │\n",
       "│ Metrics/EpCost                 │ 63.150001525878906    │\n",
       "│ Metrics/EpLen                  │ 1000.0                │\n",
       "│ Train/Epoch                    │ 0.0                   │\n",
       "│ Train/Entropy                  │ 1.4062275886535645    │\n",
       "│ Train/KL                       │ 0.012599525041878223  │\n",
       "│ Train/StopIter                 │ 40.0                  │\n",
       "│ Train/PolicyRatio/Mean         │ 1.0008090734481812    │\n",
       "│ Train/PolicyRatio/Min          │ 1.0008089542388916    │\n",
       "│ Train/PolicyRatio/Max          │ 1.0008089542388916    │\n",
       "│ Train/PolicyRatio/Std          │ 0.017527617514133453  │\n",
       "│ Train/LR                       │ 0.0002899999963119626 │\n",
       "│ Train/PolicyStd                │ 0.9873753786087036    │\n",
       "│ TotalEnvSteps                  │ 20000.0               │\n",
       "│ Loss/Loss_pi                   │ -0.013435264118015766 │\n",
       "│ Loss/Loss_pi/Delta             │ -0.013435264118015766 │\n",
       "│ Value/Adv                      │ -0.04316987097263336  │\n",
       "│ Loss/Loss_reward_critic        │ 0.004342734348028898  │\n",
       "│ Loss/Loss_reward_critic/Delta  │ 0.004342734348028898  │\n",
       "│ Value/reward                   │ 0.008124573156237602  │\n",
       "│ Loss/Loss_cost_critic          │ 1.905737042427063     │\n",
       "│ Loss/Loss_cost_critic/Delta    │ 1.905737042427063     │\n",
       "│ Value/cost                     │ -0.1613626927137375   │\n",
       "│ Time/Total                     │ 220.54641723632812    │\n",
       "│ Time/Rollout                   │ 40.95946502685547     │\n",
       "│ Time/Update                    │ 179.58595275878906    │\n",
       "│ Time/Epoch                     │ 220.54541015625       │\n",
       "│ Time/FPS                       │ 90.68427276611328     │\n",
       "│ Metrics/LagrangeMultiplier/Mea │ 0.035999998450279236  │\n",
       "│ Metrics/LagrangeMultiplier/Min │ 0.035999998450279236  │\n",
       "│ Metrics/LagrangeMultiplier/Max │ 0.035999998450279236  │\n",
       "│ Metrics/LagrangeMultiplier/Std │ 0.0                   │\n",
       "└────────────────────────────────┴───────────────────────┘\n",
       "</pre>\n"
      ],
      "text/plain": [
       "┏━━━━━━━━━━━━━━━━━━━━━━━━━━━━━━━━┳━━━━━━━━━━━━━━━━━━━━━━━┓\n",
       "┃\u001b[1m \u001b[0m\u001b[1mMetrics                       \u001b[0m\u001b[1m \u001b[0m┃\u001b[1m \u001b[0m\u001b[1mValue                \u001b[0m\u001b[1m \u001b[0m┃\n",
       "┡━━━━━━━━━━━━━━━━━━━━━━━━━━━━━━━━╇━━━━━━━━━━━━━━━━━━━━━━━┩\n",
       "│ Metrics/EpRet                  │ -0.6186364889144897   │\n",
       "│ Metrics/EpCost                 │ 63.150001525878906    │\n",
       "│ Metrics/EpLen                  │ 1000.0                │\n",
       "│ Train/Epoch                    │ 0.0                   │\n",
       "│ Train/Entropy                  │ 1.4062275886535645    │\n",
       "│ Train/KL                       │ 0.012599525041878223  │\n",
       "│ Train/StopIter                 │ 40.0                  │\n",
       "│ Train/PolicyRatio/Mean         │ 1.0008090734481812    │\n",
       "│ Train/PolicyRatio/Min          │ 1.0008089542388916    │\n",
       "│ Train/PolicyRatio/Max          │ 1.0008089542388916    │\n",
       "│ Train/PolicyRatio/Std          │ 0.017527617514133453  │\n",
       "│ Train/LR                       │ 0.0002899999963119626 │\n",
       "│ Train/PolicyStd                │ 0.9873753786087036    │\n",
       "│ TotalEnvSteps                  │ 20000.0               │\n",
       "│ Loss/Loss_pi                   │ -0.013435264118015766 │\n",
       "│ Loss/Loss_pi/Delta             │ -0.013435264118015766 │\n",
       "│ Value/Adv                      │ -0.04316987097263336  │\n",
       "│ Loss/Loss_reward_critic        │ 0.004342734348028898  │\n",
       "│ Loss/Loss_reward_critic/Delta  │ 0.004342734348028898  │\n",
       "│ Value/reward                   │ 0.008124573156237602  │\n",
       "│ Loss/Loss_cost_critic          │ 1.905737042427063     │\n",
       "│ Loss/Loss_cost_critic/Delta    │ 1.905737042427063     │\n",
       "│ Value/cost                     │ -0.1613626927137375   │\n",
       "│ Time/Total                     │ 220.54641723632812    │\n",
       "│ Time/Rollout                   │ 40.95946502685547     │\n",
       "│ Time/Update                    │ 179.58595275878906    │\n",
       "│ Time/Epoch                     │ 220.54541015625       │\n",
       "│ Time/FPS                       │ 90.68427276611328     │\n",
       "│ Metrics/LagrangeMultiplier/Mea │ 0.035999998450279236  │\n",
       "│ Metrics/LagrangeMultiplier/Min │ 0.035999998450279236  │\n",
       "│ Metrics/LagrangeMultiplier/Max │ 0.035999998450279236  │\n",
       "│ Metrics/LagrangeMultiplier/Std │ 0.0                   │\n",
       "└────────────────────────────────┴───────────────────────┘\n"
      ]
     },
     "metadata": {},
     "output_type": "display_data"
    },
    {
     "data": {
      "text/html": [
       "<pre style=\"white-space:pre;overflow-x:auto;line-height:normal;font-family:Menlo,'DejaVu Sans Mono',consolas,'Courier New',monospace\"><span style=\"color: #008000; text-decoration-color: #008000\">Warning: trajectory cut off when rollout by epoch at </span><span style=\"color: #008080; text-decoration-color: #008080; font-weight: bold\">1000.0</span><span style=\"color: #008000; text-decoration-color: #008000\"> steps.</span>\n",
       "</pre>\n"
      ],
      "text/plain": [
       "\u001b[32mWarning: trajectory cut off when rollout by epoch at \u001b[0m\u001b[1;36m1000.0\u001b[0m\u001b[32m steps.\u001b[0m\n"
      ]
     },
     "metadata": {},
     "output_type": "display_data"
    },
    {
     "data": {
      "text/html": [
       "<pre style=\"white-space:pre;overflow-x:auto;line-height:normal;font-family:Menlo,'DejaVu Sans Mono',consolas,'Courier New',monospace\"><span style=\"color: #008000; text-decoration-color: #008000\">Warning: trajectory cut off when rollout by epoch at </span><span style=\"color: #008080; text-decoration-color: #008080; font-weight: bold\">1000.0</span><span style=\"color: #008000; text-decoration-color: #008000\"> steps.</span>\n",
       "</pre>\n"
      ],
      "text/plain": [
       "\u001b[32mWarning: trajectory cut off when rollout by epoch at \u001b[0m\u001b[1;36m1000.0\u001b[0m\u001b[32m steps.\u001b[0m\n"
      ]
     },
     "metadata": {},
     "output_type": "display_data"
    },
    {
     "data": {
      "text/html": [
       "<pre style=\"white-space:pre;overflow-x:auto;line-height:normal;font-family:Menlo,'DejaVu Sans Mono',consolas,'Courier New',monospace\"><span style=\"color: #008000; text-decoration-color: #008000\">Warning: trajectory cut off when rollout by epoch at </span><span style=\"color: #008080; text-decoration-color: #008080; font-weight: bold\">1000.0</span><span style=\"color: #008000; text-decoration-color: #008000\"> steps.</span>\n",
       "</pre>\n"
      ],
      "text/plain": [
       "\u001b[32mWarning: trajectory cut off when rollout by epoch at \u001b[0m\u001b[1;36m1000.0\u001b[0m\u001b[32m steps.\u001b[0m\n"
      ]
     },
     "metadata": {},
     "output_type": "display_data"
    },
    {
     "data": {
      "text/html": [
       "<pre style=\"white-space:pre;overflow-x:auto;line-height:normal;font-family:Menlo,'DejaVu Sans Mono',consolas,'Courier New',monospace\"><span style=\"color: #008000; text-decoration-color: #008000\">Warning: trajectory cut off when rollout by epoch at </span><span style=\"color: #008080; text-decoration-color: #008080; font-weight: bold\">1000.0</span><span style=\"color: #008000; text-decoration-color: #008000\"> steps.</span>\n",
       "</pre>\n"
      ],
      "text/plain": [
       "\u001b[32mWarning: trajectory cut off when rollout by epoch at \u001b[0m\u001b[1;36m1000.0\u001b[0m\u001b[32m steps.\u001b[0m\n"
      ]
     },
     "metadata": {},
     "output_type": "display_data"
    },
    {
     "data": {
      "text/html": [
       "<pre style=\"white-space:pre;overflow-x:auto;line-height:normal;font-family:Menlo,'DejaVu Sans Mono',consolas,'Courier New',monospace\"></pre>\n"
      ],
      "text/plain": []
     },
     "metadata": {},
     "output_type": "display_data"
    },
    {
     "data": {
      "text/html": [
       "<pre style=\"white-space:pre;overflow-x:auto;line-height:normal;font-family:Menlo,'DejaVu Sans Mono',consolas,'Courier New',monospace\">\n",
       "</pre>\n"
      ],
      "text/plain": [
       "\n"
      ]
     },
     "metadata": {},
     "output_type": "display_data"
    },
    {
     "data": {
      "text/html": [
       "<pre style=\"white-space:pre;overflow-x:auto;line-height:normal;font-family:Menlo,'DejaVu Sans Mono',consolas,'Courier New',monospace\"><span style=\"color: #008000; text-decoration-color: #008000\">Early stopping at iter </span><span style=\"color: #008080; text-decoration-color: #008080; font-weight: bold\">35</span><span style=\"color: #008000; text-decoration-color: #008000\"> due to reaching max kl</span>\n",
       "</pre>\n"
      ],
      "text/plain": [
       "\u001b[32mEarly stopping at iter \u001b[0m\u001b[1;36m35\u001b[0m\u001b[32m due to reaching max kl\u001b[0m\n"
      ]
     },
     "metadata": {},
     "output_type": "display_data"
    },
    {
     "data": {
      "text/html": [
       "<pre style=\"white-space:pre;overflow-x:auto;line-height:normal;font-family:Menlo,'DejaVu Sans Mono',consolas,'Courier New',monospace\"></pre>\n"
      ],
      "text/plain": []
     },
     "metadata": {},
     "output_type": "display_data"
    },
    {
     "data": {
      "text/html": [
       "<pre style=\"white-space:pre;overflow-x:auto;line-height:normal;font-family:Menlo,'DejaVu Sans Mono',consolas,'Courier New',monospace\">\n",
       "</pre>\n"
      ],
      "text/plain": [
       "\n"
      ]
     },
     "metadata": {},
     "output_type": "display_data"
    },
    {
     "data": {
      "text/html": [
       "<pre style=\"white-space:pre;overflow-x:auto;line-height:normal;font-family:Menlo,'DejaVu Sans Mono',consolas,'Courier New',monospace\">┏━━━━━━━━━━━━━━━━━━━━━━━━━━━━━━━━┳━━━━━━━━━━━━━━━━━━━━━━━━┓\n",
       "┃<span style=\"font-weight: bold\"> Metrics                        </span>┃<span style=\"font-weight: bold\"> Value                  </span>┃\n",
       "┡━━━━━━━━━━━━━━━━━━━━━━━━━━━━━━━━╇━━━━━━━━━━━━━━━━━━━━━━━━┩\n",
       "│ Metrics/EpRet                  │ -0.3469744622707367    │\n",
       "│ Metrics/EpCost                 │ 73.94999694824219      │\n",
       "│ Metrics/EpLen                  │ 1000.0                 │\n",
       "│ Train/Epoch                    │ 1.0                    │\n",
       "│ Train/Entropy                  │ 1.3837890625           │\n",
       "│ Train/KL                       │ 0.020102517679333687   │\n",
       "│ Train/StopIter                 │ 35.0                   │\n",
       "│ Train/PolicyRatio/Mean         │ 0.9970935583114624     │\n",
       "│ Train/PolicyRatio/Min          │ 0.9970935583114624     │\n",
       "│ Train/PolicyRatio/Max          │ 0.9970935583114624     │\n",
       "│ Train/PolicyRatio/Std          │ 0.021080508828163147   │\n",
       "│ Train/LR                       │ 0.0002800000074785203  │\n",
       "│ Train/PolicyStd                │ 0.9654695391654968     │\n",
       "│ TotalEnvSteps                  │ 40000.0                │\n",
       "│ Loss/Loss_pi                   │ -0.01896052248775959   │\n",
       "│ Loss/Loss_pi/Delta             │ -0.005525258369743824  │\n",
       "│ Value/Adv                      │ 0.05898574739694595    │\n",
       "│ Loss/Loss_reward_critic        │ 0.003346232231706381   │\n",
       "│ Loss/Loss_reward_critic/Delta  │ -0.0009965021163225174 │\n",
       "│ Value/reward                   │ 0.0003514756099320948  │\n",
       "│ Loss/Loss_cost_critic          │ 1.818401575088501      │\n",
       "│ Loss/Loss_cost_critic/Delta    │ -0.08733546733856201   │\n",
       "│ Value/cost                     │ 2.083576202392578      │\n",
       "│ Time/Total                     │ 406.57806396484375     │\n",
       "│ Time/Rollout                   │ 37.46977233886719      │\n",
       "│ Time/Update                    │ 148.51168823242188     │\n",
       "│ Time/Epoch                     │ 185.98146057128906     │\n",
       "│ Time/FPS                       │ 107.53760528564453     │\n",
       "│ Metrics/LagrangeMultiplier/Mea │ 0.07095853984355927    │\n",
       "│ Metrics/LagrangeMultiplier/Min │ 0.07095853984355927    │\n",
       "│ Metrics/LagrangeMultiplier/Max │ 0.07095853984355927    │\n",
       "│ Metrics/LagrangeMultiplier/Std │ 0.0                    │\n",
       "└────────────────────────────────┴────────────────────────┘\n",
       "</pre>\n"
      ],
      "text/plain": [
       "┏━━━━━━━━━━━━━━━━━━━━━━━━━━━━━━━━┳━━━━━━━━━━━━━━━━━━━━━━━━┓\n",
       "┃\u001b[1m \u001b[0m\u001b[1mMetrics                       \u001b[0m\u001b[1m \u001b[0m┃\u001b[1m \u001b[0m\u001b[1mValue                 \u001b[0m\u001b[1m \u001b[0m┃\n",
       "┡━━━━━━━━━━━━━━━━━━━━━━━━━━━━━━━━╇━━━━━━━━━━━━━━━━━━━━━━━━┩\n",
       "│ Metrics/EpRet                  │ -0.3469744622707367    │\n",
       "│ Metrics/EpCost                 │ 73.94999694824219      │\n",
       "│ Metrics/EpLen                  │ 1000.0                 │\n",
       "│ Train/Epoch                    │ 1.0                    │\n",
       "│ Train/Entropy                  │ 1.3837890625           │\n",
       "│ Train/KL                       │ 0.020102517679333687   │\n",
       "│ Train/StopIter                 │ 35.0                   │\n",
       "│ Train/PolicyRatio/Mean         │ 0.9970935583114624     │\n",
       "│ Train/PolicyRatio/Min          │ 0.9970935583114624     │\n",
       "│ Train/PolicyRatio/Max          │ 0.9970935583114624     │\n",
       "│ Train/PolicyRatio/Std          │ 0.021080508828163147   │\n",
       "│ Train/LR                       │ 0.0002800000074785203  │\n",
       "│ Train/PolicyStd                │ 0.9654695391654968     │\n",
       "│ TotalEnvSteps                  │ 40000.0                │\n",
       "│ Loss/Loss_pi                   │ -0.01896052248775959   │\n",
       "│ Loss/Loss_pi/Delta             │ -0.005525258369743824  │\n",
       "│ Value/Adv                      │ 0.05898574739694595    │\n",
       "│ Loss/Loss_reward_critic        │ 0.003346232231706381   │\n",
       "│ Loss/Loss_reward_critic/Delta  │ -0.0009965021163225174 │\n",
       "│ Value/reward                   │ 0.0003514756099320948  │\n",
       "│ Loss/Loss_cost_critic          │ 1.818401575088501      │\n",
       "│ Loss/Loss_cost_critic/Delta    │ -0.08733546733856201   │\n",
       "│ Value/cost                     │ 2.083576202392578      │\n",
       "│ Time/Total                     │ 406.57806396484375     │\n",
       "│ Time/Rollout                   │ 37.46977233886719      │\n",
       "│ Time/Update                    │ 148.51168823242188     │\n",
       "│ Time/Epoch                     │ 185.98146057128906     │\n",
       "│ Time/FPS                       │ 107.53760528564453     │\n",
       "│ Metrics/LagrangeMultiplier/Mea │ 0.07095853984355927    │\n",
       "│ Metrics/LagrangeMultiplier/Min │ 0.07095853984355927    │\n",
       "│ Metrics/LagrangeMultiplier/Max │ 0.07095853984355927    │\n",
       "│ Metrics/LagrangeMultiplier/Std │ 0.0                    │\n",
       "└────────────────────────────────┴────────────────────────┘\n"
      ]
     },
     "metadata": {},
     "output_type": "display_data"
    },
    {
     "data": {
      "text/html": [
       "<pre style=\"white-space:pre;overflow-x:auto;line-height:normal;font-family:Menlo,'DejaVu Sans Mono',consolas,'Courier New',monospace\"><span style=\"color: #008000; text-decoration-color: #008000\">Warning: trajectory cut off when rollout by epoch at </span><span style=\"color: #008080; text-decoration-color: #008080; font-weight: bold\">1000.0</span><span style=\"color: #008000; text-decoration-color: #008000\"> steps.</span>\n",
       "</pre>\n"
      ],
      "text/plain": [
       "\u001b[32mWarning: trajectory cut off when rollout by epoch at \u001b[0m\u001b[1;36m1000.0\u001b[0m\u001b[32m steps.\u001b[0m\n"
      ]
     },
     "metadata": {},
     "output_type": "display_data"
    },
    {
     "data": {
      "text/html": [
       "<pre style=\"white-space:pre;overflow-x:auto;line-height:normal;font-family:Menlo,'DejaVu Sans Mono',consolas,'Courier New',monospace\"><span style=\"color: #008000; text-decoration-color: #008000\">Warning: trajectory cut off when rollout by epoch at </span><span style=\"color: #008080; text-decoration-color: #008080; font-weight: bold\">1000.0</span><span style=\"color: #008000; text-decoration-color: #008000\"> steps.</span>\n",
       "</pre>\n"
      ],
      "text/plain": [
       "\u001b[32mWarning: trajectory cut off when rollout by epoch at \u001b[0m\u001b[1;36m1000.0\u001b[0m\u001b[32m steps.\u001b[0m\n"
      ]
     },
     "metadata": {},
     "output_type": "display_data"
    },
    {
     "data": {
      "text/html": [
       "<pre style=\"white-space:pre;overflow-x:auto;line-height:normal;font-family:Menlo,'DejaVu Sans Mono',consolas,'Courier New',monospace\"><span style=\"color: #008000; text-decoration-color: #008000\">Warning: trajectory cut off when rollout by epoch at </span><span style=\"color: #008080; text-decoration-color: #008080; font-weight: bold\">1000.0</span><span style=\"color: #008000; text-decoration-color: #008000\"> steps.</span>\n",
       "</pre>\n"
      ],
      "text/plain": [
       "\u001b[32mWarning: trajectory cut off when rollout by epoch at \u001b[0m\u001b[1;36m1000.0\u001b[0m\u001b[32m steps.\u001b[0m\n"
      ]
     },
     "metadata": {},
     "output_type": "display_data"
    },
    {
     "data": {
      "text/html": [
       "<pre style=\"white-space:pre;overflow-x:auto;line-height:normal;font-family:Menlo,'DejaVu Sans Mono',consolas,'Courier New',monospace\"><span style=\"color: #008000; text-decoration-color: #008000\">Warning: trajectory cut off when rollout by epoch at </span><span style=\"color: #008080; text-decoration-color: #008080; font-weight: bold\">1000.0</span><span style=\"color: #008000; text-decoration-color: #008000\"> steps.</span>\n",
       "</pre>\n"
      ],
      "text/plain": [
       "\u001b[32mWarning: trajectory cut off when rollout by epoch at \u001b[0m\u001b[1;36m1000.0\u001b[0m\u001b[32m steps.\u001b[0m\n"
      ]
     },
     "metadata": {},
     "output_type": "display_data"
    },
    {
     "data": {
      "text/html": [
       "<pre style=\"white-space:pre;overflow-x:auto;line-height:normal;font-family:Menlo,'DejaVu Sans Mono',consolas,'Courier New',monospace\"></pre>\n"
      ],
      "text/plain": []
     },
     "metadata": {},
     "output_type": "display_data"
    },
    {
     "data": {
      "text/html": [
       "<pre style=\"white-space:pre;overflow-x:auto;line-height:normal;font-family:Menlo,'DejaVu Sans Mono',consolas,'Courier New',monospace\">\n",
       "</pre>\n"
      ],
      "text/plain": [
       "\n"
      ]
     },
     "metadata": {},
     "output_type": "display_data"
    },
    {
     "data": {
      "text/html": [
       "<pre style=\"white-space:pre;overflow-x:auto;line-height:normal;font-family:Menlo,'DejaVu Sans Mono',consolas,'Courier New',monospace\"></pre>\n"
      ],
      "text/plain": []
     },
     "metadata": {},
     "output_type": "display_data"
    },
    {
     "data": {
      "text/html": [
       "<pre style=\"white-space:pre;overflow-x:auto;line-height:normal;font-family:Menlo,'DejaVu Sans Mono',consolas,'Courier New',monospace\">\n",
       "</pre>\n"
      ],
      "text/plain": [
       "\n"
      ]
     },
     "metadata": {},
     "output_type": "display_data"
    },
    {
     "data": {
      "text/html": [
       "<pre style=\"white-space:pre;overflow-x:auto;line-height:normal;font-family:Menlo,'DejaVu Sans Mono',consolas,'Courier New',monospace\">┏━━━━━━━━━━━━━━━━━━━━━━━━━━━━━━━━┳━━━━━━━━━━━━━━━━━━━━━━━━┓\n",
       "┃<span style=\"font-weight: bold\"> Metrics                        </span>┃<span style=\"font-weight: bold\"> Value                  </span>┃\n",
       "┡━━━━━━━━━━━━━━━━━━━━━━━━━━━━━━━━╇━━━━━━━━━━━━━━━━━━━━━━━━┩\n",
       "│ Metrics/EpRet                  │ 0.0061851670034229755  │\n",
       "│ Metrics/EpCost                 │ 104.76000213623047     │\n",
       "│ Metrics/EpLen                  │ 1000.0                 │\n",
       "│ Train/Epoch                    │ 2.0                    │\n",
       "│ Train/Entropy                  │ 1.3754608631134033     │\n",
       "│ Train/KL                       │ 0.01638006418943405    │\n",
       "│ Train/StopIter                 │ 40.0                   │\n",
       "│ Train/PolicyRatio/Mean         │ 0.9994847178459167     │\n",
       "│ Train/PolicyRatio/Min          │ 0.9994847178459167     │\n",
       "│ Train/PolicyRatio/Max          │ 0.9994847178459167     │\n",
       "│ Train/PolicyRatio/Std          │ 0.021076951175928116   │\n",
       "│ Train/LR                       │ 0.0002699999895412475  │\n",
       "│ Train/PolicyStd                │ 0.9574598073959351     │\n",
       "│ TotalEnvSteps                  │ 60000.0                │\n",
       "│ Loss/Loss_pi                   │ -0.023106571286916733  │\n",
       "│ Loss/Loss_pi/Delta             │ -0.004146048799157143  │\n",
       "│ Value/Adv                      │ 0.35801559686660767    │\n",
       "│ Loss/Loss_reward_critic        │ 0.002874918282032013   │\n",
       "│ Loss/Loss_reward_critic/Delta  │ -0.0004713139496743679 │\n",
       "│ Value/reward                   │ 0.0007714058156125247  │\n",
       "│ Loss/Loss_cost_critic          │ 2.703476905822754      │\n",
       "│ Loss/Loss_cost_critic/Delta    │ 0.8850753307342529     │\n",
       "│ Value/cost                     │ 4.3797430992126465     │\n",
       "│ Time/Total                     │ 622.08251953125        │\n",
       "│ Time/Rollout                   │ 43.471492767333984     │\n",
       "│ Time/Update                    │ 171.98646545410156     │\n",
       "│ Time/Epoch                     │ 215.45794677734375     │\n",
       "│ Time/FPS                       │ 92.8255386352539       │\n",
       "│ Metrics/LagrangeMultiplier/Mea │ 0.1051967516541481     │\n",
       "│ Metrics/LagrangeMultiplier/Min │ 0.1051967516541481     │\n",
       "│ Metrics/LagrangeMultiplier/Max │ 0.1051967516541481     │\n",
       "│ Metrics/LagrangeMultiplier/Std │ 0.0                    │\n",
       "└────────────────────────────────┴────────────────────────┘\n",
       "</pre>\n"
      ],
      "text/plain": [
       "┏━━━━━━━━━━━━━━━━━━━━━━━━━━━━━━━━┳━━━━━━━━━━━━━━━━━━━━━━━━┓\n",
       "┃\u001b[1m \u001b[0m\u001b[1mMetrics                       \u001b[0m\u001b[1m \u001b[0m┃\u001b[1m \u001b[0m\u001b[1mValue                 \u001b[0m\u001b[1m \u001b[0m┃\n",
       "┡━━━━━━━━━━━━━━━━━━━━━━━━━━━━━━━━╇━━━━━━━━━━━━━━━━━━━━━━━━┩\n",
       "│ Metrics/EpRet                  │ 0.0061851670034229755  │\n",
       "│ Metrics/EpCost                 │ 104.76000213623047     │\n",
       "│ Metrics/EpLen                  │ 1000.0                 │\n",
       "│ Train/Epoch                    │ 2.0                    │\n",
       "│ Train/Entropy                  │ 1.3754608631134033     │\n",
       "│ Train/KL                       │ 0.01638006418943405    │\n",
       "│ Train/StopIter                 │ 40.0                   │\n",
       "│ Train/PolicyRatio/Mean         │ 0.9994847178459167     │\n",
       "│ Train/PolicyRatio/Min          │ 0.9994847178459167     │\n",
       "│ Train/PolicyRatio/Max          │ 0.9994847178459167     │\n",
       "│ Train/PolicyRatio/Std          │ 0.021076951175928116   │\n",
       "│ Train/LR                       │ 0.0002699999895412475  │\n",
       "│ Train/PolicyStd                │ 0.9574598073959351     │\n",
       "│ TotalEnvSteps                  │ 60000.0                │\n",
       "│ Loss/Loss_pi                   │ -0.023106571286916733  │\n",
       "│ Loss/Loss_pi/Delta             │ -0.004146048799157143  │\n",
       "│ Value/Adv                      │ 0.35801559686660767    │\n",
       "│ Loss/Loss_reward_critic        │ 0.002874918282032013   │\n",
       "│ Loss/Loss_reward_critic/Delta  │ -0.0004713139496743679 │\n",
       "│ Value/reward                   │ 0.0007714058156125247  │\n",
       "│ Loss/Loss_cost_critic          │ 2.703476905822754      │\n",
       "│ Loss/Loss_cost_critic/Delta    │ 0.8850753307342529     │\n",
       "│ Value/cost                     │ 4.3797430992126465     │\n",
       "│ Time/Total                     │ 622.08251953125        │\n",
       "│ Time/Rollout                   │ 43.471492767333984     │\n",
       "│ Time/Update                    │ 171.98646545410156     │\n",
       "│ Time/Epoch                     │ 215.45794677734375     │\n",
       "│ Time/FPS                       │ 92.8255386352539       │\n",
       "│ Metrics/LagrangeMultiplier/Mea │ 0.1051967516541481     │\n",
       "│ Metrics/LagrangeMultiplier/Min │ 0.1051967516541481     │\n",
       "│ Metrics/LagrangeMultiplier/Max │ 0.1051967516541481     │\n",
       "│ Metrics/LagrangeMultiplier/Std │ 0.0                    │\n",
       "└────────────────────────────────┴────────────────────────┘\n"
      ]
     },
     "metadata": {},
     "output_type": "display_data"
    },
    {
     "data": {
      "text/html": [
       "<pre style=\"white-space:pre;overflow-x:auto;line-height:normal;font-family:Menlo,'DejaVu Sans Mono',consolas,'Courier New',monospace\"><span style=\"color: #008000; text-decoration-color: #008000\">Warning: trajectory cut off when rollout by epoch at </span><span style=\"color: #008080; text-decoration-color: #008080; font-weight: bold\">1000.0</span><span style=\"color: #008000; text-decoration-color: #008000\"> steps.</span>\n",
       "</pre>\n"
      ],
      "text/plain": [
       "\u001b[32mWarning: trajectory cut off when rollout by epoch at \u001b[0m\u001b[1;36m1000.0\u001b[0m\u001b[32m steps.\u001b[0m\n"
      ]
     },
     "metadata": {},
     "output_type": "display_data"
    },
    {
     "data": {
      "text/html": [
       "<pre style=\"white-space:pre;overflow-x:auto;line-height:normal;font-family:Menlo,'DejaVu Sans Mono',consolas,'Courier New',monospace\"><span style=\"color: #008000; text-decoration-color: #008000\">Warning: trajectory cut off when rollout by epoch at </span><span style=\"color: #008080; text-decoration-color: #008080; font-weight: bold\">1000.0</span><span style=\"color: #008000; text-decoration-color: #008000\"> steps.</span>\n",
       "</pre>\n"
      ],
      "text/plain": [
       "\u001b[32mWarning: trajectory cut off when rollout by epoch at \u001b[0m\u001b[1;36m1000.0\u001b[0m\u001b[32m steps.\u001b[0m\n"
      ]
     },
     "metadata": {},
     "output_type": "display_data"
    },
    {
     "data": {
      "text/html": [
       "<pre style=\"white-space:pre;overflow-x:auto;line-height:normal;font-family:Menlo,'DejaVu Sans Mono',consolas,'Courier New',monospace\"><span style=\"color: #008000; text-decoration-color: #008000\">Warning: trajectory cut off when rollout by epoch at </span><span style=\"color: #008080; text-decoration-color: #008080; font-weight: bold\">1000.0</span><span style=\"color: #008000; text-decoration-color: #008000\"> steps.</span>\n",
       "</pre>\n"
      ],
      "text/plain": [
       "\u001b[32mWarning: trajectory cut off when rollout by epoch at \u001b[0m\u001b[1;36m1000.0\u001b[0m\u001b[32m steps.\u001b[0m\n"
      ]
     },
     "metadata": {},
     "output_type": "display_data"
    },
    {
     "data": {
      "text/html": [
       "<pre style=\"white-space:pre;overflow-x:auto;line-height:normal;font-family:Menlo,'DejaVu Sans Mono',consolas,'Courier New',monospace\"><span style=\"color: #008000; text-decoration-color: #008000\">Warning: trajectory cut off when rollout by epoch at </span><span style=\"color: #008080; text-decoration-color: #008080; font-weight: bold\">1000.0</span><span style=\"color: #008000; text-decoration-color: #008000\"> steps.</span>\n",
       "</pre>\n"
      ],
      "text/plain": [
       "\u001b[32mWarning: trajectory cut off when rollout by epoch at \u001b[0m\u001b[1;36m1000.0\u001b[0m\u001b[32m steps.\u001b[0m\n"
      ]
     },
     "metadata": {},
     "output_type": "display_data"
    },
    {
     "data": {
      "text/html": [
       "<pre style=\"white-space:pre;overflow-x:auto;line-height:normal;font-family:Menlo,'DejaVu Sans Mono',consolas,'Courier New',monospace\"></pre>\n"
      ],
      "text/plain": []
     },
     "metadata": {},
     "output_type": "display_data"
    },
    {
     "data": {
      "text/html": [
       "<pre style=\"white-space:pre;overflow-x:auto;line-height:normal;font-family:Menlo,'DejaVu Sans Mono',consolas,'Courier New',monospace\">\n",
       "</pre>\n"
      ],
      "text/plain": [
       "\n"
      ]
     },
     "metadata": {},
     "output_type": "display_data"
    },
    {
     "data": {
      "text/html": [
       "<pre style=\"white-space:pre;overflow-x:auto;line-height:normal;font-family:Menlo,'DejaVu Sans Mono',consolas,'Courier New',monospace\"></pre>\n"
      ],
      "text/plain": []
     },
     "metadata": {},
     "output_type": "display_data"
    },
    {
     "data": {
      "text/html": [
       "<pre style=\"white-space:pre;overflow-x:auto;line-height:normal;font-family:Menlo,'DejaVu Sans Mono',consolas,'Courier New',monospace\">\n",
       "</pre>\n"
      ],
      "text/plain": [
       "\n"
      ]
     },
     "metadata": {},
     "output_type": "display_data"
    },
    {
     "data": {
      "text/html": [
       "<pre style=\"white-space:pre;overflow-x:auto;line-height:normal;font-family:Menlo,'DejaVu Sans Mono',consolas,'Courier New',monospace\">┏━━━━━━━━━━━━━━━━━━━━━━━━━━━━━━━━┳━━━━━━━━━━━━━━━━━━━━━━━━┓\n",
       "┃<span style=\"font-weight: bold\"> Metrics                        </span>┃<span style=\"font-weight: bold\"> Value                  </span>┃\n",
       "┡━━━━━━━━━━━━━━━━━━━━━━━━━━━━━━━━╇━━━━━━━━━━━━━━━━━━━━━━━━┩\n",
       "│ Metrics/EpRet                  │ 1.0319844484329224     │\n",
       "│ Metrics/EpCost                 │ 112.05999755859375     │\n",
       "│ Metrics/EpLen                  │ 1000.0                 │\n",
       "│ Train/Epoch                    │ 3.0                    │\n",
       "│ Train/Entropy                  │ 1.3532660007476807     │\n",
       "│ Train/KL                       │ 0.01789621263742447    │\n",
       "│ Train/StopIter                 │ 40.0                   │\n",
       "│ Train/PolicyRatio/Mean         │ 1.0010920763015747     │\n",
       "│ Train/PolicyRatio/Min          │ 1.0010920763015747     │\n",
       "│ Train/PolicyRatio/Max          │ 1.0010920763015747     │\n",
       "│ Train/PolicyRatio/Std          │ 0.02069193683564663    │\n",
       "│ Train/LR                       │ 0.00026000000070780516 │\n",
       "│ Train/PolicyStd                │ 0.9364619851112366     │\n",
       "│ TotalEnvSteps                  │ 80000.0                │\n",
       "│ Loss/Loss_pi                   │ -0.023091493174433708  │\n",
       "│ Loss/Loss_pi/Delta             │ 1.5078112483024597e-05 │\n",
       "│ Value/Adv                      │ -0.0008890107274055481 │\n",
       "│ Loss/Loss_reward_critic        │ 0.006844228599220514   │\n",
       "│ Loss/Loss_reward_critic/Delta  │ 0.003969310317188501   │\n",
       "│ Value/reward                   │ 0.04726017639040947    │\n",
       "│ Loss/Loss_cost_critic          │ 2.1845545768737793     │\n",
       "│ Loss/Loss_cost_critic/Delta    │ -0.5189223289489746    │\n",
       "│ Value/cost                     │ 4.369662284851074      │\n",
       "│ Time/Total                     │ 843.218505859375       │\n",
       "│ Time/Rollout                   │ 42.96727752685547      │\n",
       "│ Time/Update                    │ 178.13038635253906     │\n",
       "│ Time/Epoch                     │ 221.09767150878906     │\n",
       "│ Time/FPS                       │ 90.45775604248047      │\n",
       "│ Metrics/LagrangeMultiplier/Mea │ 0.13971933722496033    │\n",
       "│ Metrics/LagrangeMultiplier/Min │ 0.13971933722496033    │\n",
       "│ Metrics/LagrangeMultiplier/Max │ 0.13971933722496033    │\n",
       "│ Metrics/LagrangeMultiplier/Std │ 0.0                    │\n",
       "└────────────────────────────────┴────────────────────────┘\n",
       "</pre>\n"
      ],
      "text/plain": [
       "┏━━━━━━━━━━━━━━━━━━━━━━━━━━━━━━━━┳━━━━━━━━━━━━━━━━━━━━━━━━┓\n",
       "┃\u001b[1m \u001b[0m\u001b[1mMetrics                       \u001b[0m\u001b[1m \u001b[0m┃\u001b[1m \u001b[0m\u001b[1mValue                 \u001b[0m\u001b[1m \u001b[0m┃\n",
       "┡━━━━━━━━━━━━━━━━━━━━━━━━━━━━━━━━╇━━━━━━━━━━━━━━━━━━━━━━━━┩\n",
       "│ Metrics/EpRet                  │ 1.0319844484329224     │\n",
       "│ Metrics/EpCost                 │ 112.05999755859375     │\n",
       "│ Metrics/EpLen                  │ 1000.0                 │\n",
       "│ Train/Epoch                    │ 3.0                    │\n",
       "│ Train/Entropy                  │ 1.3532660007476807     │\n",
       "│ Train/KL                       │ 0.01789621263742447    │\n",
       "│ Train/StopIter                 │ 40.0                   │\n",
       "│ Train/PolicyRatio/Mean         │ 1.0010920763015747     │\n",
       "│ Train/PolicyRatio/Min          │ 1.0010920763015747     │\n",
       "│ Train/PolicyRatio/Max          │ 1.0010920763015747     │\n",
       "│ Train/PolicyRatio/Std          │ 0.02069193683564663    │\n",
       "│ Train/LR                       │ 0.00026000000070780516 │\n",
       "│ Train/PolicyStd                │ 0.9364619851112366     │\n",
       "│ TotalEnvSteps                  │ 80000.0                │\n",
       "│ Loss/Loss_pi                   │ -0.023091493174433708  │\n",
       "│ Loss/Loss_pi/Delta             │ 1.5078112483024597e-05 │\n",
       "│ Value/Adv                      │ -0.0008890107274055481 │\n",
       "│ Loss/Loss_reward_critic        │ 0.006844228599220514   │\n",
       "│ Loss/Loss_reward_critic/Delta  │ 0.003969310317188501   │\n",
       "│ Value/reward                   │ 0.04726017639040947    │\n",
       "│ Loss/Loss_cost_critic          │ 2.1845545768737793     │\n",
       "│ Loss/Loss_cost_critic/Delta    │ -0.5189223289489746    │\n",
       "│ Value/cost                     │ 4.369662284851074      │\n",
       "│ Time/Total                     │ 843.218505859375       │\n",
       "│ Time/Rollout                   │ 42.96727752685547      │\n",
       "│ Time/Update                    │ 178.13038635253906     │\n",
       "│ Time/Epoch                     │ 221.09767150878906     │\n",
       "│ Time/FPS                       │ 90.45775604248047      │\n",
       "│ Metrics/LagrangeMultiplier/Mea │ 0.13971933722496033    │\n",
       "│ Metrics/LagrangeMultiplier/Min │ 0.13971933722496033    │\n",
       "│ Metrics/LagrangeMultiplier/Max │ 0.13971933722496033    │\n",
       "│ Metrics/LagrangeMultiplier/Std │ 0.0                    │\n",
       "└────────────────────────────────┴────────────────────────┘\n"
      ]
     },
     "metadata": {},
     "output_type": "display_data"
    },
    {
     "data": {
      "text/html": [
       "<pre style=\"white-space:pre;overflow-x:auto;line-height:normal;font-family:Menlo,'DejaVu Sans Mono',consolas,'Courier New',monospace\"><span style=\"color: #008000; text-decoration-color: #008000\">Warning: trajectory cut off when rollout by epoch at </span><span style=\"color: #008080; text-decoration-color: #008080; font-weight: bold\">1000.0</span><span style=\"color: #008000; text-decoration-color: #008000\"> steps.</span>\n",
       "</pre>\n"
      ],
      "text/plain": [
       "\u001b[32mWarning: trajectory cut off when rollout by epoch at \u001b[0m\u001b[1;36m1000.0\u001b[0m\u001b[32m steps.\u001b[0m\n"
      ]
     },
     "metadata": {},
     "output_type": "display_data"
    },
    {
     "data": {
      "text/html": [
       "<pre style=\"white-space:pre;overflow-x:auto;line-height:normal;font-family:Menlo,'DejaVu Sans Mono',consolas,'Courier New',monospace\"><span style=\"color: #008000; text-decoration-color: #008000\">Warning: trajectory cut off when rollout by epoch at </span><span style=\"color: #008080; text-decoration-color: #008080; font-weight: bold\">1000.0</span><span style=\"color: #008000; text-decoration-color: #008000\"> steps.</span>\n",
       "</pre>\n"
      ],
      "text/plain": [
       "\u001b[32mWarning: trajectory cut off when rollout by epoch at \u001b[0m\u001b[1;36m1000.0\u001b[0m\u001b[32m steps.\u001b[0m\n"
      ]
     },
     "metadata": {},
     "output_type": "display_data"
    },
    {
     "data": {
      "text/html": [
       "<pre style=\"white-space:pre;overflow-x:auto;line-height:normal;font-family:Menlo,'DejaVu Sans Mono',consolas,'Courier New',monospace\"><span style=\"color: #008000; text-decoration-color: #008000\">Warning: trajectory cut off when rollout by epoch at </span><span style=\"color: #008080; text-decoration-color: #008080; font-weight: bold\">1000.0</span><span style=\"color: #008000; text-decoration-color: #008000\"> steps.</span>\n",
       "</pre>\n"
      ],
      "text/plain": [
       "\u001b[32mWarning: trajectory cut off when rollout by epoch at \u001b[0m\u001b[1;36m1000.0\u001b[0m\u001b[32m steps.\u001b[0m\n"
      ]
     },
     "metadata": {},
     "output_type": "display_data"
    },
    {
     "data": {
      "text/html": [
       "<pre style=\"white-space:pre;overflow-x:auto;line-height:normal;font-family:Menlo,'DejaVu Sans Mono',consolas,'Courier New',monospace\"><span style=\"color: #008000; text-decoration-color: #008000\">Warning: trajectory cut off when rollout by epoch at </span><span style=\"color: #008080; text-decoration-color: #008080; font-weight: bold\">1000.0</span><span style=\"color: #008000; text-decoration-color: #008000\"> steps.</span>\n",
       "</pre>\n"
      ],
      "text/plain": [
       "\u001b[32mWarning: trajectory cut off when rollout by epoch at \u001b[0m\u001b[1;36m1000.0\u001b[0m\u001b[32m steps.\u001b[0m\n"
      ]
     },
     "metadata": {},
     "output_type": "display_data"
    },
    {
     "data": {
      "text/html": [
       "<pre style=\"white-space:pre;overflow-x:auto;line-height:normal;font-family:Menlo,'DejaVu Sans Mono',consolas,'Courier New',monospace\"></pre>\n"
      ],
      "text/plain": []
     },
     "metadata": {},
     "output_type": "display_data"
    },
    {
     "data": {
      "text/html": [
       "<pre style=\"white-space:pre;overflow-x:auto;line-height:normal;font-family:Menlo,'DejaVu Sans Mono',consolas,'Courier New',monospace\">\n",
       "</pre>\n"
      ],
      "text/plain": [
       "\n"
      ]
     },
     "metadata": {},
     "output_type": "display_data"
    },
    {
     "data": {
      "text/html": [
       "<pre style=\"white-space:pre;overflow-x:auto;line-height:normal;font-family:Menlo,'DejaVu Sans Mono',consolas,'Courier New',monospace\"><span style=\"color: #008000; text-decoration-color: #008000\">Early stopping at iter </span><span style=\"color: #008080; text-decoration-color: #008080; font-weight: bold\">27</span><span style=\"color: #008000; text-decoration-color: #008000\"> due to reaching max kl</span>\n",
       "</pre>\n"
      ],
      "text/plain": [
       "\u001b[32mEarly stopping at iter \u001b[0m\u001b[1;36m27\u001b[0m\u001b[32m due to reaching max kl\u001b[0m\n"
      ]
     },
     "metadata": {},
     "output_type": "display_data"
    },
    {
     "data": {
      "text/html": [
       "<pre style=\"white-space:pre;overflow-x:auto;line-height:normal;font-family:Menlo,'DejaVu Sans Mono',consolas,'Courier New',monospace\"></pre>\n"
      ],
      "text/plain": []
     },
     "metadata": {},
     "output_type": "display_data"
    },
    {
     "data": {
      "text/html": [
       "<pre style=\"white-space:pre;overflow-x:auto;line-height:normal;font-family:Menlo,'DejaVu Sans Mono',consolas,'Courier New',monospace\">\n",
       "</pre>\n"
      ],
      "text/plain": [
       "\n"
      ]
     },
     "metadata": {},
     "output_type": "display_data"
    },
    {
     "data": {
      "text/html": [
       "<pre style=\"white-space:pre;overflow-x:auto;line-height:normal;font-family:Menlo,'DejaVu Sans Mono',consolas,'Courier New',monospace\">┏━━━━━━━━━━━━━━━━━━━━━━━━━━━━━━━━┳━━━━━━━━━━━━━━━━━━━━━━━┓\n",
       "┃<span style=\"font-weight: bold\"> Metrics                        </span>┃<span style=\"font-weight: bold\"> Value                 </span>┃\n",
       "┡━━━━━━━━━━━━━━━━━━━━━━━━━━━━━━━━╇━━━━━━━━━━━━━━━━━━━━━━━┩\n",
       "│ Metrics/EpRet                  │ 1.9485244750976562    │\n",
       "│ Metrics/EpCost                 │ 97.13999938964844     │\n",
       "│ Metrics/EpLen                  │ 1000.0                │\n",
       "│ Train/Epoch                    │ 4.0                   │\n",
       "│ Train/Entropy                  │ 1.3283851146697998    │\n",
       "│ Train/KL                       │ 0.021211683750152588  │\n",
       "│ Train/StopIter                 │ 27.0                  │\n",
       "│ Train/PolicyRatio/Mean         │ 1.0000238418579102    │\n",
       "│ Train/PolicyRatio/Min          │ 1.0000238418579102    │\n",
       "│ Train/PolicyRatio/Max          │ 1.0000238418579102    │\n",
       "│ Train/PolicyRatio/Std          │ 0.019875086843967438  │\n",
       "│ Train/LR                       │ 0.0002500000118743628 │\n",
       "│ Train/PolicyStd                │ 0.9134742617607117    │\n",
       "│ TotalEnvSteps                  │ 100000.0              │\n",
       "│ Loss/Loss_pi                   │ -0.02118440717458725  │\n",
       "│ Loss/Loss_pi/Delta             │ 0.0019070859998464584 │\n",
       "│ Value/Adv                      │ -0.07931020855903625  │\n",
       "│ Loss/Loss_reward_critic        │ 0.007278671022504568  │\n",
       "│ Loss/Loss_reward_critic/Delta  │ 0.0004344424232840538 │\n",
       "│ Value/reward                   │ 0.08480636775493622   │\n",
       "│ Loss/Loss_cost_critic          │ 2.044253349304199     │\n",
       "│ Loss/Loss_cost_critic/Delta    │ -0.14030122756958008  │\n",
       "│ Value/cost                     │ 5.608790397644043     │\n",
       "│ Time/Total                     │ 996.8009033203125     │\n",
       "│ Time/Rollout                   │ 36.63915252685547     │\n",
       "│ Time/Update                    │ 116.90926361083984    │\n",
       "│ Time/Epoch                     │ 153.5484161376953     │\n",
       "│ Time/FPS                       │ 130.2520751953125     │\n",
       "│ Metrics/LagrangeMultiplier/Mea │ 0.17446911334991455   │\n",
       "│ Metrics/LagrangeMultiplier/Min │ 0.17446911334991455   │\n",
       "│ Metrics/LagrangeMultiplier/Max │ 0.17446911334991455   │\n",
       "│ Metrics/LagrangeMultiplier/Std │ 0.0                   │\n",
       "└────────────────────────────────┴───────────────────────┘\n",
       "</pre>\n"
      ],
      "text/plain": [
       "┏━━━━━━━━━━━━━━━━━━━━━━━━━━━━━━━━┳━━━━━━━━━━━━━━━━━━━━━━━┓\n",
       "┃\u001b[1m \u001b[0m\u001b[1mMetrics                       \u001b[0m\u001b[1m \u001b[0m┃\u001b[1m \u001b[0m\u001b[1mValue                \u001b[0m\u001b[1m \u001b[0m┃\n",
       "┡━━━━━━━━━━━━━━━━━━━━━━━━━━━━━━━━╇━━━━━━━━━━━━━━━━━━━━━━━┩\n",
       "│ Metrics/EpRet                  │ 1.9485244750976562    │\n",
       "│ Metrics/EpCost                 │ 97.13999938964844     │\n",
       "│ Metrics/EpLen                  │ 1000.0                │\n",
       "│ Train/Epoch                    │ 4.0                   │\n",
       "│ Train/Entropy                  │ 1.3283851146697998    │\n",
       "│ Train/KL                       │ 0.021211683750152588  │\n",
       "│ Train/StopIter                 │ 27.0                  │\n",
       "│ Train/PolicyRatio/Mean         │ 1.0000238418579102    │\n",
       "│ Train/PolicyRatio/Min          │ 1.0000238418579102    │\n",
       "│ Train/PolicyRatio/Max          │ 1.0000238418579102    │\n",
       "│ Train/PolicyRatio/Std          │ 0.019875086843967438  │\n",
       "│ Train/LR                       │ 0.0002500000118743628 │\n",
       "│ Train/PolicyStd                │ 0.9134742617607117    │\n",
       "│ TotalEnvSteps                  │ 100000.0              │\n",
       "│ Loss/Loss_pi                   │ -0.02118440717458725  │\n",
       "│ Loss/Loss_pi/Delta             │ 0.0019070859998464584 │\n",
       "│ Value/Adv                      │ -0.07931020855903625  │\n",
       "│ Loss/Loss_reward_critic        │ 0.007278671022504568  │\n",
       "│ Loss/Loss_reward_critic/Delta  │ 0.0004344424232840538 │\n",
       "│ Value/reward                   │ 0.08480636775493622   │\n",
       "│ Loss/Loss_cost_critic          │ 2.044253349304199     │\n",
       "│ Loss/Loss_cost_critic/Delta    │ -0.14030122756958008  │\n",
       "│ Value/cost                     │ 5.608790397644043     │\n",
       "│ Time/Total                     │ 996.8009033203125     │\n",
       "│ Time/Rollout                   │ 36.63915252685547     │\n",
       "│ Time/Update                    │ 116.90926361083984    │\n",
       "│ Time/Epoch                     │ 153.5484161376953     │\n",
       "│ Time/FPS                       │ 130.2520751953125     │\n",
       "│ Metrics/LagrangeMultiplier/Mea │ 0.17446911334991455   │\n",
       "│ Metrics/LagrangeMultiplier/Min │ 0.17446911334991455   │\n",
       "│ Metrics/LagrangeMultiplier/Max │ 0.17446911334991455   │\n",
       "│ Metrics/LagrangeMultiplier/Std │ 0.0                   │\n",
       "└────────────────────────────────┴───────────────────────┘\n"
      ]
     },
     "metadata": {},
     "output_type": "display_data"
    },
    {
     "data": {
      "text/html": [
       "<pre style=\"white-space:pre;overflow-x:auto;line-height:normal;font-family:Menlo,'DejaVu Sans Mono',consolas,'Courier New',monospace\"><span style=\"color: #008000; text-decoration-color: #008000\">Warning: trajectory cut off when rollout by epoch at </span><span style=\"color: #008080; text-decoration-color: #008080; font-weight: bold\">1000.0</span><span style=\"color: #008000; text-decoration-color: #008000\"> steps.</span>\n",
       "</pre>\n"
      ],
      "text/plain": [
       "\u001b[32mWarning: trajectory cut off when rollout by epoch at \u001b[0m\u001b[1;36m1000.0\u001b[0m\u001b[32m steps.\u001b[0m\n"
      ]
     },
     "metadata": {},
     "output_type": "display_data"
    },
    {
     "data": {
      "text/html": [
       "<pre style=\"white-space:pre;overflow-x:auto;line-height:normal;font-family:Menlo,'DejaVu Sans Mono',consolas,'Courier New',monospace\"><span style=\"color: #008000; text-decoration-color: #008000\">Warning: trajectory cut off when rollout by epoch at </span><span style=\"color: #008080; text-decoration-color: #008080; font-weight: bold\">1000.0</span><span style=\"color: #008000; text-decoration-color: #008000\"> steps.</span>\n",
       "</pre>\n"
      ],
      "text/plain": [
       "\u001b[32mWarning: trajectory cut off when rollout by epoch at \u001b[0m\u001b[1;36m1000.0\u001b[0m\u001b[32m steps.\u001b[0m\n"
      ]
     },
     "metadata": {},
     "output_type": "display_data"
    },
    {
     "data": {
      "text/html": [
       "<pre style=\"white-space:pre;overflow-x:auto;line-height:normal;font-family:Menlo,'DejaVu Sans Mono',consolas,'Courier New',monospace\"><span style=\"color: #008000; text-decoration-color: #008000\">Warning: trajectory cut off when rollout by epoch at </span><span style=\"color: #008080; text-decoration-color: #008080; font-weight: bold\">1000.0</span><span style=\"color: #008000; text-decoration-color: #008000\"> steps.</span>\n",
       "</pre>\n"
      ],
      "text/plain": [
       "\u001b[32mWarning: trajectory cut off when rollout by epoch at \u001b[0m\u001b[1;36m1000.0\u001b[0m\u001b[32m steps.\u001b[0m\n"
      ]
     },
     "metadata": {},
     "output_type": "display_data"
    },
    {
     "data": {
      "text/html": [
       "<pre style=\"white-space:pre;overflow-x:auto;line-height:normal;font-family:Menlo,'DejaVu Sans Mono',consolas,'Courier New',monospace\"><span style=\"color: #008000; text-decoration-color: #008000\">Warning: trajectory cut off when rollout by epoch at </span><span style=\"color: #008080; text-decoration-color: #008080; font-weight: bold\">1000.0</span><span style=\"color: #008000; text-decoration-color: #008000\"> steps.</span>\n",
       "</pre>\n"
      ],
      "text/plain": [
       "\u001b[32mWarning: trajectory cut off when rollout by epoch at \u001b[0m\u001b[1;36m1000.0\u001b[0m\u001b[32m steps.\u001b[0m\n"
      ]
     },
     "metadata": {},
     "output_type": "display_data"
    },
    {
     "data": {
      "text/html": [
       "<pre style=\"white-space:pre;overflow-x:auto;line-height:normal;font-family:Menlo,'DejaVu Sans Mono',consolas,'Courier New',monospace\"></pre>\n"
      ],
      "text/plain": []
     },
     "metadata": {},
     "output_type": "display_data"
    },
    {
     "data": {
      "text/html": [
       "<pre style=\"white-space:pre;overflow-x:auto;line-height:normal;font-family:Menlo,'DejaVu Sans Mono',consolas,'Courier New',monospace\">\n",
       "</pre>\n"
      ],
      "text/plain": [
       "\n"
      ]
     },
     "metadata": {},
     "output_type": "display_data"
    },
    {
     "data": {
      "text/html": [
       "<pre style=\"white-space:pre;overflow-x:auto;line-height:normal;font-family:Menlo,'DejaVu Sans Mono',consolas,'Courier New',monospace\"><span style=\"color: #008000; text-decoration-color: #008000\">Early stopping at iter </span><span style=\"color: #008080; text-decoration-color: #008080; font-weight: bold\">26</span><span style=\"color: #008000; text-decoration-color: #008000\"> due to reaching max kl</span>\n",
       "</pre>\n"
      ],
      "text/plain": [
       "\u001b[32mEarly stopping at iter \u001b[0m\u001b[1;36m26\u001b[0m\u001b[32m due to reaching max kl\u001b[0m\n"
      ]
     },
     "metadata": {},
     "output_type": "display_data"
    },
    {
     "data": {
      "text/html": [
       "<pre style=\"white-space:pre;overflow-x:auto;line-height:normal;font-family:Menlo,'DejaVu Sans Mono',consolas,'Courier New',monospace\"></pre>\n"
      ],
      "text/plain": []
     },
     "metadata": {},
     "output_type": "display_data"
    },
    {
     "data": {
      "text/html": [
       "<pre style=\"white-space:pre;overflow-x:auto;line-height:normal;font-family:Menlo,'DejaVu Sans Mono',consolas,'Courier New',monospace\">\n",
       "</pre>\n"
      ],
      "text/plain": [
       "\n"
      ]
     },
     "metadata": {},
     "output_type": "display_data"
    },
    {
     "data": {
      "text/html": [
       "<pre style=\"white-space:pre;overflow-x:auto;line-height:normal;font-family:Menlo,'DejaVu Sans Mono',consolas,'Courier New',monospace\">┏━━━━━━━━━━━━━━━━━━━━━━━━━━━━━━━━┳━━━━━━━━━━━━━━━━━━━━━━━━┓\n",
       "┃<span style=\"font-weight: bold\"> Metrics                        </span>┃<span style=\"font-weight: bold\"> Value                  </span>┃\n",
       "┡━━━━━━━━━━━━━━━━━━━━━━━━━━━━━━━━╇━━━━━━━━━━━━━━━━━━━━━━━━┩\n",
       "│ Metrics/EpRet                  │ 2.987875461578369      │\n",
       "│ Metrics/EpCost                 │ 75.4800033569336       │\n",
       "│ Metrics/EpLen                  │ 1000.0                 │\n",
       "│ Train/Epoch                    │ 5.0                    │\n",
       "│ Train/Entropy                  │ 1.311858892440796      │\n",
       "│ Train/KL                       │ 0.020078271627426147   │\n",
       "│ Train/StopIter                 │ 26.0                   │\n",
       "│ Train/PolicyRatio/Mean         │ 1.0003042221069336     │\n",
       "│ Train/PolicyRatio/Min          │ 1.0003042221069336     │\n",
       "│ Train/PolicyRatio/Max          │ 1.0003042221069336     │\n",
       "│ Train/PolicyRatio/Std          │ 0.020222775638103485   │\n",
       "│ Train/LR                       │ 0.00023999999393709004 │\n",
       "│ Train/PolicyStd                │ 0.8985029458999634     │\n",
       "│ TotalEnvSteps                  │ 120000.0               │\n",
       "│ Loss/Loss_pi                   │ -0.023275630548596382  │\n",
       "│ Loss/Loss_pi/Delta             │ -0.0020912233740091324 │\n",
       "│ Value/Adv                      │ -0.014411412179470062  │\n",
       "│ Loss/Loss_reward_critic        │ 0.011082416400313377   │\n",
       "│ Loss/Loss_reward_critic/Delta  │ 0.0038037453778088093  │\n",
       "│ Value/reward                   │ 0.12414112687110901    │\n",
       "│ Loss/Loss_cost_critic          │ 1.7199347019195557     │\n",
       "│ Loss/Loss_cost_critic/Delta    │ -0.32431864738464355   │\n",
       "│ Value/cost                     │ 5.020663261413574      │\n",
       "│ Time/Total                     │ 1146.9681396484375     │\n",
       "│ Time/Rollout                   │ 39.111541748046875     │\n",
       "│ Time/Update                    │ 111.01313781738281     │\n",
       "│ Time/Epoch                     │ 150.1246795654297      │\n",
       "│ Time/FPS                       │ 133.22259521484375     │\n",
       "│ Metrics/LagrangeMultiplier/Mea │ 0.20866043865680695    │\n",
       "│ Metrics/LagrangeMultiplier/Min │ 0.20866043865680695    │\n",
       "│ Metrics/LagrangeMultiplier/Max │ 0.20866043865680695    │\n",
       "│ Metrics/LagrangeMultiplier/Std │ 0.0                    │\n",
       "└────────────────────────────────┴────────────────────────┘\n",
       "</pre>\n"
      ],
      "text/plain": [
       "┏━━━━━━━━━━━━━━━━━━━━━━━━━━━━━━━━┳━━━━━━━━━━━━━━━━━━━━━━━━┓\n",
       "┃\u001b[1m \u001b[0m\u001b[1mMetrics                       \u001b[0m\u001b[1m \u001b[0m┃\u001b[1m \u001b[0m\u001b[1mValue                 \u001b[0m\u001b[1m \u001b[0m┃\n",
       "┡━━━━━━━━━━━━━━━━━━━━━━━━━━━━━━━━╇━━━━━━━━━━━━━━━━━━━━━━━━┩\n",
       "│ Metrics/EpRet                  │ 2.987875461578369      │\n",
       "│ Metrics/EpCost                 │ 75.4800033569336       │\n",
       "│ Metrics/EpLen                  │ 1000.0                 │\n",
       "│ Train/Epoch                    │ 5.0                    │\n",
       "│ Train/Entropy                  │ 1.311858892440796      │\n",
       "│ Train/KL                       │ 0.020078271627426147   │\n",
       "│ Train/StopIter                 │ 26.0                   │\n",
       "│ Train/PolicyRatio/Mean         │ 1.0003042221069336     │\n",
       "│ Train/PolicyRatio/Min          │ 1.0003042221069336     │\n",
       "│ Train/PolicyRatio/Max          │ 1.0003042221069336     │\n",
       "│ Train/PolicyRatio/Std          │ 0.020222775638103485   │\n",
       "│ Train/LR                       │ 0.00023999999393709004 │\n",
       "│ Train/PolicyStd                │ 0.8985029458999634     │\n",
       "│ TotalEnvSteps                  │ 120000.0               │\n",
       "│ Loss/Loss_pi                   │ -0.023275630548596382  │\n",
       "│ Loss/Loss_pi/Delta             │ -0.0020912233740091324 │\n",
       "│ Value/Adv                      │ -0.014411412179470062  │\n",
       "│ Loss/Loss_reward_critic        │ 0.011082416400313377   │\n",
       "│ Loss/Loss_reward_critic/Delta  │ 0.0038037453778088093  │\n",
       "│ Value/reward                   │ 0.12414112687110901    │\n",
       "│ Loss/Loss_cost_critic          │ 1.7199347019195557     │\n",
       "│ Loss/Loss_cost_critic/Delta    │ -0.32431864738464355   │\n",
       "│ Value/cost                     │ 5.020663261413574      │\n",
       "│ Time/Total                     │ 1146.9681396484375     │\n",
       "│ Time/Rollout                   │ 39.111541748046875     │\n",
       "│ Time/Update                    │ 111.01313781738281     │\n",
       "│ Time/Epoch                     │ 150.1246795654297      │\n",
       "│ Time/FPS                       │ 133.22259521484375     │\n",
       "│ Metrics/LagrangeMultiplier/Mea │ 0.20866043865680695    │\n",
       "│ Metrics/LagrangeMultiplier/Min │ 0.20866043865680695    │\n",
       "│ Metrics/LagrangeMultiplier/Max │ 0.20866043865680695    │\n",
       "│ Metrics/LagrangeMultiplier/Std │ 0.0                    │\n",
       "└────────────────────────────────┴────────────────────────┘\n"
      ]
     },
     "metadata": {},
     "output_type": "display_data"
    },
    {
     "data": {
      "text/html": [
       "<pre style=\"white-space:pre;overflow-x:auto;line-height:normal;font-family:Menlo,'DejaVu Sans Mono',consolas,'Courier New',monospace\"><span style=\"color: #008000; text-decoration-color: #008000\">Warning: trajectory cut off when rollout by epoch at </span><span style=\"color: #008080; text-decoration-color: #008080; font-weight: bold\">1000.0</span><span style=\"color: #008000; text-decoration-color: #008000\"> steps.</span>\n",
       "</pre>\n"
      ],
      "text/plain": [
       "\u001b[32mWarning: trajectory cut off when rollout by epoch at \u001b[0m\u001b[1;36m1000.0\u001b[0m\u001b[32m steps.\u001b[0m\n"
      ]
     },
     "metadata": {},
     "output_type": "display_data"
    },
    {
     "data": {
      "text/html": [
       "<pre style=\"white-space:pre;overflow-x:auto;line-height:normal;font-family:Menlo,'DejaVu Sans Mono',consolas,'Courier New',monospace\"><span style=\"color: #008000; text-decoration-color: #008000\">Warning: trajectory cut off when rollout by epoch at </span><span style=\"color: #008080; text-decoration-color: #008080; font-weight: bold\">1000.0</span><span style=\"color: #008000; text-decoration-color: #008000\"> steps.</span>\n",
       "</pre>\n"
      ],
      "text/plain": [
       "\u001b[32mWarning: trajectory cut off when rollout by epoch at \u001b[0m\u001b[1;36m1000.0\u001b[0m\u001b[32m steps.\u001b[0m\n"
      ]
     },
     "metadata": {},
     "output_type": "display_data"
    },
    {
     "data": {
      "text/html": [
       "<pre style=\"white-space:pre;overflow-x:auto;line-height:normal;font-family:Menlo,'DejaVu Sans Mono',consolas,'Courier New',monospace\"><span style=\"color: #008000; text-decoration-color: #008000\">Warning: trajectory cut off when rollout by epoch at </span><span style=\"color: #008080; text-decoration-color: #008080; font-weight: bold\">1000.0</span><span style=\"color: #008000; text-decoration-color: #008000\"> steps.</span>\n",
       "</pre>\n"
      ],
      "text/plain": [
       "\u001b[32mWarning: trajectory cut off when rollout by epoch at \u001b[0m\u001b[1;36m1000.0\u001b[0m\u001b[32m steps.\u001b[0m\n"
      ]
     },
     "metadata": {},
     "output_type": "display_data"
    },
    {
     "data": {
      "text/html": [
       "<pre style=\"white-space:pre;overflow-x:auto;line-height:normal;font-family:Menlo,'DejaVu Sans Mono',consolas,'Courier New',monospace\"><span style=\"color: #008000; text-decoration-color: #008000\">Warning: trajectory cut off when rollout by epoch at </span><span style=\"color: #008080; text-decoration-color: #008080; font-weight: bold\">1000.0</span><span style=\"color: #008000; text-decoration-color: #008000\"> steps.</span>\n",
       "</pre>\n"
      ],
      "text/plain": [
       "\u001b[32mWarning: trajectory cut off when rollout by epoch at \u001b[0m\u001b[1;36m1000.0\u001b[0m\u001b[32m steps.\u001b[0m\n"
      ]
     },
     "metadata": {},
     "output_type": "display_data"
    },
    {
     "data": {
      "text/html": [
       "<pre style=\"white-space:pre;overflow-x:auto;line-height:normal;font-family:Menlo,'DejaVu Sans Mono',consolas,'Courier New',monospace\"></pre>\n"
      ],
      "text/plain": []
     },
     "metadata": {},
     "output_type": "display_data"
    },
    {
     "data": {
      "text/html": [
       "<pre style=\"white-space:pre;overflow-x:auto;line-height:normal;font-family:Menlo,'DejaVu Sans Mono',consolas,'Courier New',monospace\">\n",
       "</pre>\n"
      ],
      "text/plain": [
       "\n"
      ]
     },
     "metadata": {},
     "output_type": "display_data"
    },
    {
     "data": {
      "text/html": [
       "<pre style=\"white-space:pre;overflow-x:auto;line-height:normal;font-family:Menlo,'DejaVu Sans Mono',consolas,'Courier New',monospace\"><span style=\"color: #008000; text-decoration-color: #008000\">Early stopping at iter </span><span style=\"color: #008080; text-decoration-color: #008080; font-weight: bold\">23</span><span style=\"color: #008000; text-decoration-color: #008000\"> due to reaching max kl</span>\n",
       "</pre>\n"
      ],
      "text/plain": [
       "\u001b[32mEarly stopping at iter \u001b[0m\u001b[1;36m23\u001b[0m\u001b[32m due to reaching max kl\u001b[0m\n"
      ]
     },
     "metadata": {},
     "output_type": "display_data"
    },
    {
     "data": {
      "text/html": [
       "<pre style=\"white-space:pre;overflow-x:auto;line-height:normal;font-family:Menlo,'DejaVu Sans Mono',consolas,'Courier New',monospace\"></pre>\n"
      ],
      "text/plain": []
     },
     "metadata": {},
     "output_type": "display_data"
    },
    {
     "data": {
      "text/html": [
       "<pre style=\"white-space:pre;overflow-x:auto;line-height:normal;font-family:Menlo,'DejaVu Sans Mono',consolas,'Courier New',monospace\">\n",
       "</pre>\n"
      ],
      "text/plain": [
       "\n"
      ]
     },
     "metadata": {},
     "output_type": "display_data"
    },
    {
     "data": {
      "text/html": [
       "<pre style=\"white-space:pre;overflow-x:auto;line-height:normal;font-family:Menlo,'DejaVu Sans Mono',consolas,'Courier New',monospace\">┏━━━━━━━━━━━━━━━━━━━━━━━━━━━━━━━━┳━━━━━━━━━━━━━━━━━━━━━━━━┓\n",
       "┃<span style=\"font-weight: bold\"> Metrics                        </span>┃<span style=\"font-weight: bold\"> Value                  </span>┃\n",
       "┡━━━━━━━━━━━━━━━━━━━━━━━━━━━━━━━━╇━━━━━━━━━━━━━━━━━━━━━━━━┩\n",
       "│ Metrics/EpRet                  │ 3.9918646812438965     │\n",
       "│ Metrics/EpCost                 │ 63.81999969482422      │\n",
       "│ Metrics/EpLen                  │ 1000.0                 │\n",
       "│ Train/Epoch                    │ 6.0                    │\n",
       "│ Train/Entropy                  │ 1.2934017181396484     │\n",
       "│ Train/KL                       │ 0.020998423919081688   │\n",
       "│ Train/StopIter                 │ 23.0                   │\n",
       "│ Train/PolicyRatio/Mean         │ 0.9984597563743591     │\n",
       "│ Train/PolicyRatio/Min          │ 0.9984597563743591     │\n",
       "│ Train/PolicyRatio/Max          │ 0.9984597563743591     │\n",
       "│ Train/PolicyRatio/Std          │ 0.019920317456126213   │\n",
       "│ Train/LR                       │ 0.0002300000051036477  │\n",
       "│ Train/PolicyStd                │ 0.8821315169334412     │\n",
       "│ TotalEnvSteps                  │ 140000.0               │\n",
       "│ Loss/Loss_pi                   │ -0.02249321900308132   │\n",
       "│ Loss/Loss_pi/Delta             │ 0.0007824115455150604  │\n",
       "│ Value/Adv                      │ -0.17714448273181915   │\n",
       "│ Loss/Loss_reward_critic        │ 0.010434848256409168   │\n",
       "│ Loss/Loss_reward_critic/Delta  │ -0.0006475681439042091 │\n",
       "│ Value/reward                   │ 0.18995942175388336    │\n",
       "│ Loss/Loss_cost_critic          │ 1.3943541049957275     │\n",
       "│ Loss/Loss_cost_critic/Delta    │ -0.3255805969238281    │\n",
       "│ Value/cost                     │ 5.0510783195495605     │\n",
       "│ Time/Total                     │ 1290.5904541015625     │\n",
       "│ Time/Rollout                   │ 42.52042007446289      │\n",
       "│ Time/Update                    │ 101.06290435791016     │\n",
       "│ Time/Epoch                     │ 143.5833282470703      │\n",
       "│ Time/FPS                       │ 139.29193115234375     │\n",
       "│ Metrics/LagrangeMultiplier/Mea │ 0.24186310172080994    │\n",
       "│ Metrics/LagrangeMultiplier/Min │ 0.24186310172080994    │\n",
       "│ Metrics/LagrangeMultiplier/Max │ 0.24186310172080994    │\n",
       "│ Metrics/LagrangeMultiplier/Std │ 0.0                    │\n",
       "└────────────────────────────────┴────────────────────────┘\n",
       "</pre>\n"
      ],
      "text/plain": [
       "┏━━━━━━━━━━━━━━━━━━━━━━━━━━━━━━━━┳━━━━━━━━━━━━━━━━━━━━━━━━┓\n",
       "┃\u001b[1m \u001b[0m\u001b[1mMetrics                       \u001b[0m\u001b[1m \u001b[0m┃\u001b[1m \u001b[0m\u001b[1mValue                 \u001b[0m\u001b[1m \u001b[0m┃\n",
       "┡━━━━━━━━━━━━━━━━━━━━━━━━━━━━━━━━╇━━━━━━━━━━━━━━━━━━━━━━━━┩\n",
       "│ Metrics/EpRet                  │ 3.9918646812438965     │\n",
       "│ Metrics/EpCost                 │ 63.81999969482422      │\n",
       "│ Metrics/EpLen                  │ 1000.0                 │\n",
       "│ Train/Epoch                    │ 6.0                    │\n",
       "│ Train/Entropy                  │ 1.2934017181396484     │\n",
       "│ Train/KL                       │ 0.020998423919081688   │\n",
       "│ Train/StopIter                 │ 23.0                   │\n",
       "│ Train/PolicyRatio/Mean         │ 0.9984597563743591     │\n",
       "│ Train/PolicyRatio/Min          │ 0.9984597563743591     │\n",
       "│ Train/PolicyRatio/Max          │ 0.9984597563743591     │\n",
       "│ Train/PolicyRatio/Std          │ 0.019920317456126213   │\n",
       "│ Train/LR                       │ 0.0002300000051036477  │\n",
       "│ Train/PolicyStd                │ 0.8821315169334412     │\n",
       "│ TotalEnvSteps                  │ 140000.0               │\n",
       "│ Loss/Loss_pi                   │ -0.02249321900308132   │\n",
       "│ Loss/Loss_pi/Delta             │ 0.0007824115455150604  │\n",
       "│ Value/Adv                      │ -0.17714448273181915   │\n",
       "│ Loss/Loss_reward_critic        │ 0.010434848256409168   │\n",
       "│ Loss/Loss_reward_critic/Delta  │ -0.0006475681439042091 │\n",
       "│ Value/reward                   │ 0.18995942175388336    │\n",
       "│ Loss/Loss_cost_critic          │ 1.3943541049957275     │\n",
       "│ Loss/Loss_cost_critic/Delta    │ -0.3255805969238281    │\n",
       "│ Value/cost                     │ 5.0510783195495605     │\n",
       "│ Time/Total                     │ 1290.5904541015625     │\n",
       "│ Time/Rollout                   │ 42.52042007446289      │\n",
       "│ Time/Update                    │ 101.06290435791016     │\n",
       "│ Time/Epoch                     │ 143.5833282470703      │\n",
       "│ Time/FPS                       │ 139.29193115234375     │\n",
       "│ Metrics/LagrangeMultiplier/Mea │ 0.24186310172080994    │\n",
       "│ Metrics/LagrangeMultiplier/Min │ 0.24186310172080994    │\n",
       "│ Metrics/LagrangeMultiplier/Max │ 0.24186310172080994    │\n",
       "│ Metrics/LagrangeMultiplier/Std │ 0.0                    │\n",
       "└────────────────────────────────┴────────────────────────┘\n"
      ]
     },
     "metadata": {},
     "output_type": "display_data"
    },
    {
     "data": {
      "text/html": [
       "<pre style=\"white-space:pre;overflow-x:auto;line-height:normal;font-family:Menlo,'DejaVu Sans Mono',consolas,'Courier New',monospace\"><span style=\"color: #008000; text-decoration-color: #008000\">Warning: trajectory cut off when rollout by epoch at </span><span style=\"color: #008080; text-decoration-color: #008080; font-weight: bold\">1000.0</span><span style=\"color: #008000; text-decoration-color: #008000\"> steps.</span>\n",
       "</pre>\n"
      ],
      "text/plain": [
       "\u001b[32mWarning: trajectory cut off when rollout by epoch at \u001b[0m\u001b[1;36m1000.0\u001b[0m\u001b[32m steps.\u001b[0m\n"
      ]
     },
     "metadata": {},
     "output_type": "display_data"
    },
    {
     "data": {
      "text/html": [
       "<pre style=\"white-space:pre;overflow-x:auto;line-height:normal;font-family:Menlo,'DejaVu Sans Mono',consolas,'Courier New',monospace\"><span style=\"color: #008000; text-decoration-color: #008000\">Warning: trajectory cut off when rollout by epoch at </span><span style=\"color: #008080; text-decoration-color: #008080; font-weight: bold\">1000.0</span><span style=\"color: #008000; text-decoration-color: #008000\"> steps.</span>\n",
       "</pre>\n"
      ],
      "text/plain": [
       "\u001b[32mWarning: trajectory cut off when rollout by epoch at \u001b[0m\u001b[1;36m1000.0\u001b[0m\u001b[32m steps.\u001b[0m\n"
      ]
     },
     "metadata": {},
     "output_type": "display_data"
    },
    {
     "data": {
      "text/html": [
       "<pre style=\"white-space:pre;overflow-x:auto;line-height:normal;font-family:Menlo,'DejaVu Sans Mono',consolas,'Courier New',monospace\"><span style=\"color: #008000; text-decoration-color: #008000\">Warning: trajectory cut off when rollout by epoch at </span><span style=\"color: #008080; text-decoration-color: #008080; font-weight: bold\">1000.0</span><span style=\"color: #008000; text-decoration-color: #008000\"> steps.</span>\n",
       "</pre>\n"
      ],
      "text/plain": [
       "\u001b[32mWarning: trajectory cut off when rollout by epoch at \u001b[0m\u001b[1;36m1000.0\u001b[0m\u001b[32m steps.\u001b[0m\n"
      ]
     },
     "metadata": {},
     "output_type": "display_data"
    },
    {
     "data": {
      "text/html": [
       "<pre style=\"white-space:pre;overflow-x:auto;line-height:normal;font-family:Menlo,'DejaVu Sans Mono',consolas,'Courier New',monospace\"><span style=\"color: #008000; text-decoration-color: #008000\">Warning: trajectory cut off when rollout by epoch at </span><span style=\"color: #008080; text-decoration-color: #008080; font-weight: bold\">1000.0</span><span style=\"color: #008000; text-decoration-color: #008000\"> steps.</span>\n",
       "</pre>\n"
      ],
      "text/plain": [
       "\u001b[32mWarning: trajectory cut off when rollout by epoch at \u001b[0m\u001b[1;36m1000.0\u001b[0m\u001b[32m steps.\u001b[0m\n"
      ]
     },
     "metadata": {},
     "output_type": "display_data"
    },
    {
     "data": {
      "text/html": [
       "<pre style=\"white-space:pre;overflow-x:auto;line-height:normal;font-family:Menlo,'DejaVu Sans Mono',consolas,'Courier New',monospace\"></pre>\n"
      ],
      "text/plain": []
     },
     "metadata": {},
     "output_type": "display_data"
    },
    {
     "data": {
      "text/html": [
       "<pre style=\"white-space:pre;overflow-x:auto;line-height:normal;font-family:Menlo,'DejaVu Sans Mono',consolas,'Courier New',monospace\">\n",
       "</pre>\n"
      ],
      "text/plain": [
       "\n"
      ]
     },
     "metadata": {},
     "output_type": "display_data"
    },
    {
     "data": {
      "text/html": [
       "<pre style=\"white-space:pre;overflow-x:auto;line-height:normal;font-family:Menlo,'DejaVu Sans Mono',consolas,'Courier New',monospace\"><span style=\"color: #008000; text-decoration-color: #008000\">Early stopping at iter </span><span style=\"color: #008080; text-decoration-color: #008080; font-weight: bold\">26</span><span style=\"color: #008000; text-decoration-color: #008000\"> due to reaching max kl</span>\n",
       "</pre>\n"
      ],
      "text/plain": [
       "\u001b[32mEarly stopping at iter \u001b[0m\u001b[1;36m26\u001b[0m\u001b[32m due to reaching max kl\u001b[0m\n"
      ]
     },
     "metadata": {},
     "output_type": "display_data"
    },
    {
     "data": {
      "text/html": [
       "<pre style=\"white-space:pre;overflow-x:auto;line-height:normal;font-family:Menlo,'DejaVu Sans Mono',consolas,'Courier New',monospace\"></pre>\n"
      ],
      "text/plain": []
     },
     "metadata": {},
     "output_type": "display_data"
    },
    {
     "data": {
      "text/html": [
       "<pre style=\"white-space:pre;overflow-x:auto;line-height:normal;font-family:Menlo,'DejaVu Sans Mono',consolas,'Courier New',monospace\">\n",
       "</pre>\n"
      ],
      "text/plain": [
       "\n"
      ]
     },
     "metadata": {},
     "output_type": "display_data"
    },
    {
     "data": {
      "text/html": [
       "<pre style=\"white-space:pre;overflow-x:auto;line-height:normal;font-family:Menlo,'DejaVu Sans Mono',consolas,'Courier New',monospace\">┏━━━━━━━━━━━━━━━━━━━━━━━━━━━━━━━━┳━━━━━━━━━━━━━━━━━━━━━━━━━┓\n",
       "┃<span style=\"font-weight: bold\"> Metrics                        </span>┃<span style=\"font-weight: bold\"> Value                   </span>┃\n",
       "┡━━━━━━━━━━━━━━━━━━━━━━━━━━━━━━━━╇━━━━━━━━━━━━━━━━━━━━━━━━━┩\n",
       "│ Metrics/EpRet                  │ 4.682171821594238       │\n",
       "│ Metrics/EpCost                 │ 43.81999969482422       │\n",
       "│ Metrics/EpLen                  │ 1000.0                  │\n",
       "│ Train/Epoch                    │ 7.0                     │\n",
       "│ Train/Entropy                  │ 1.268014669418335       │\n",
       "│ Train/KL                       │ 0.020299894735217094    │\n",
       "│ Train/StopIter                 │ 26.0                    │\n",
       "│ Train/PolicyRatio/Mean         │ 1.001534342765808       │\n",
       "│ Train/PolicyRatio/Min          │ 1.001534342765808       │\n",
       "│ Train/PolicyRatio/Max          │ 1.001534342765808       │\n",
       "│ Train/PolicyRatio/Std          │ 0.02006908506155014     │\n",
       "│ Train/LR                       │ 0.00022000000171829015  │\n",
       "│ Train/PolicyStd                │ 0.8600713610649109      │\n",
       "│ TotalEnvSteps                  │ 160000.0                │\n",
       "│ Loss/Loss_pi                   │ -0.024228166788816452   │\n",
       "│ Loss/Loss_pi/Delta             │ -0.0017349477857351303  │\n",
       "│ Value/Adv                      │ 0.05367538332939148     │\n",
       "│ Loss/Loss_reward_critic        │ 0.010192280635237694    │\n",
       "│ Loss/Loss_reward_critic/Delta  │ -0.00024256762117147446 │\n",
       "│ Value/reward                   │ 0.22036884725093842     │\n",
       "│ Loss/Loss_cost_critic          │ 1.3605149984359741      │\n",
       "│ Loss/Loss_cost_critic/Delta    │ -0.03383910655975342    │\n",
       "│ Value/cost                     │ 4.3883585929870605      │\n",
       "│ Time/Total                     │ 1445.0322265625         │\n",
       "│ Time/Rollout                   │ 41.09116744995117       │\n",
       "│ Time/Update                    │ 113.31267547607422      │\n",
       "│ Time/Epoch                     │ 154.40383911132812      │\n",
       "│ Time/FPS                       │ 129.53045654296875      │\n",
       "│ Metrics/LagrangeMultiplier/Mea │ 0.2729192078113556      │\n",
       "│ Metrics/LagrangeMultiplier/Min │ 0.2729192078113556      │\n",
       "│ Metrics/LagrangeMultiplier/Max │ 0.2729192078113556      │\n",
       "│ Metrics/LagrangeMultiplier/Std │ 0.0                     │\n",
       "└────────────────────────────────┴─────────────────────────┘\n",
       "</pre>\n"
      ],
      "text/plain": [
       "┏━━━━━━━━━━━━━━━━━━━━━━━━━━━━━━━━┳━━━━━━━━━━━━━━━━━━━━━━━━━┓\n",
       "┃\u001b[1m \u001b[0m\u001b[1mMetrics                       \u001b[0m\u001b[1m \u001b[0m┃\u001b[1m \u001b[0m\u001b[1mValue                  \u001b[0m\u001b[1m \u001b[0m┃\n",
       "┡━━━━━━━━━━━━━━━━━━━━━━━━━━━━━━━━╇━━━━━━━━━━━━━━━━━━━━━━━━━┩\n",
       "│ Metrics/EpRet                  │ 4.682171821594238       │\n",
       "│ Metrics/EpCost                 │ 43.81999969482422       │\n",
       "│ Metrics/EpLen                  │ 1000.0                  │\n",
       "│ Train/Epoch                    │ 7.0                     │\n",
       "│ Train/Entropy                  │ 1.268014669418335       │\n",
       "│ Train/KL                       │ 0.020299894735217094    │\n",
       "│ Train/StopIter                 │ 26.0                    │\n",
       "│ Train/PolicyRatio/Mean         │ 1.001534342765808       │\n",
       "│ Train/PolicyRatio/Min          │ 1.001534342765808       │\n",
       "│ Train/PolicyRatio/Max          │ 1.001534342765808       │\n",
       "│ Train/PolicyRatio/Std          │ 0.02006908506155014     │\n",
       "│ Train/LR                       │ 0.00022000000171829015  │\n",
       "│ Train/PolicyStd                │ 0.8600713610649109      │\n",
       "│ TotalEnvSteps                  │ 160000.0                │\n",
       "│ Loss/Loss_pi                   │ -0.024228166788816452   │\n",
       "│ Loss/Loss_pi/Delta             │ -0.0017349477857351303  │\n",
       "│ Value/Adv                      │ 0.05367538332939148     │\n",
       "│ Loss/Loss_reward_critic        │ 0.010192280635237694    │\n",
       "│ Loss/Loss_reward_critic/Delta  │ -0.00024256762117147446 │\n",
       "│ Value/reward                   │ 0.22036884725093842     │\n",
       "│ Loss/Loss_cost_critic          │ 1.3605149984359741      │\n",
       "│ Loss/Loss_cost_critic/Delta    │ -0.03383910655975342    │\n",
       "│ Value/cost                     │ 4.3883585929870605      │\n",
       "│ Time/Total                     │ 1445.0322265625         │\n",
       "│ Time/Rollout                   │ 41.09116744995117       │\n",
       "│ Time/Update                    │ 113.31267547607422      │\n",
       "│ Time/Epoch                     │ 154.40383911132812      │\n",
       "│ Time/FPS                       │ 129.53045654296875      │\n",
       "│ Metrics/LagrangeMultiplier/Mea │ 0.2729192078113556      │\n",
       "│ Metrics/LagrangeMultiplier/Min │ 0.2729192078113556      │\n",
       "│ Metrics/LagrangeMultiplier/Max │ 0.2729192078113556      │\n",
       "│ Metrics/LagrangeMultiplier/Std │ 0.0                     │\n",
       "└────────────────────────────────┴─────────────────────────┘\n"
      ]
     },
     "metadata": {},
     "output_type": "display_data"
    },
    {
     "data": {
      "text/html": [
       "<pre style=\"white-space:pre;overflow-x:auto;line-height:normal;font-family:Menlo,'DejaVu Sans Mono',consolas,'Courier New',monospace\"><span style=\"color: #008000; text-decoration-color: #008000\">Warning: trajectory cut off when rollout by epoch at </span><span style=\"color: #008080; text-decoration-color: #008080; font-weight: bold\">1000.0</span><span style=\"color: #008000; text-decoration-color: #008000\"> steps.</span>\n",
       "</pre>\n"
      ],
      "text/plain": [
       "\u001b[32mWarning: trajectory cut off when rollout by epoch at \u001b[0m\u001b[1;36m1000.0\u001b[0m\u001b[32m steps.\u001b[0m\n"
      ]
     },
     "metadata": {},
     "output_type": "display_data"
    },
    {
     "data": {
      "text/html": [
       "<pre style=\"white-space:pre;overflow-x:auto;line-height:normal;font-family:Menlo,'DejaVu Sans Mono',consolas,'Courier New',monospace\"><span style=\"color: #008000; text-decoration-color: #008000\">Warning: trajectory cut off when rollout by epoch at </span><span style=\"color: #008080; text-decoration-color: #008080; font-weight: bold\">1000.0</span><span style=\"color: #008000; text-decoration-color: #008000\"> steps.</span>\n",
       "</pre>\n"
      ],
      "text/plain": [
       "\u001b[32mWarning: trajectory cut off when rollout by epoch at \u001b[0m\u001b[1;36m1000.0\u001b[0m\u001b[32m steps.\u001b[0m\n"
      ]
     },
     "metadata": {},
     "output_type": "display_data"
    },
    {
     "data": {
      "text/html": [
       "<pre style=\"white-space:pre;overflow-x:auto;line-height:normal;font-family:Menlo,'DejaVu Sans Mono',consolas,'Courier New',monospace\"><span style=\"color: #008000; text-decoration-color: #008000\">Warning: trajectory cut off when rollout by epoch at </span><span style=\"color: #008080; text-decoration-color: #008080; font-weight: bold\">1000.0</span><span style=\"color: #008000; text-decoration-color: #008000\"> steps.</span>\n",
       "</pre>\n"
      ],
      "text/plain": [
       "\u001b[32mWarning: trajectory cut off when rollout by epoch at \u001b[0m\u001b[1;36m1000.0\u001b[0m\u001b[32m steps.\u001b[0m\n"
      ]
     },
     "metadata": {},
     "output_type": "display_data"
    },
    {
     "data": {
      "text/html": [
       "<pre style=\"white-space:pre;overflow-x:auto;line-height:normal;font-family:Menlo,'DejaVu Sans Mono',consolas,'Courier New',monospace\"><span style=\"color: #008000; text-decoration-color: #008000\">Warning: trajectory cut off when rollout by epoch at </span><span style=\"color: #008080; text-decoration-color: #008080; font-weight: bold\">1000.0</span><span style=\"color: #008000; text-decoration-color: #008000\"> steps.</span>\n",
       "</pre>\n"
      ],
      "text/plain": [
       "\u001b[32mWarning: trajectory cut off when rollout by epoch at \u001b[0m\u001b[1;36m1000.0\u001b[0m\u001b[32m steps.\u001b[0m\n"
      ]
     },
     "metadata": {},
     "output_type": "display_data"
    },
    {
     "data": {
      "text/html": [
       "<pre style=\"white-space:pre;overflow-x:auto;line-height:normal;font-family:Menlo,'DejaVu Sans Mono',consolas,'Courier New',monospace\"></pre>\n"
      ],
      "text/plain": []
     },
     "metadata": {},
     "output_type": "display_data"
    },
    {
     "data": {
      "text/html": [
       "<pre style=\"white-space:pre;overflow-x:auto;line-height:normal;font-family:Menlo,'DejaVu Sans Mono',consolas,'Courier New',monospace\">\n",
       "</pre>\n"
      ],
      "text/plain": [
       "\n"
      ]
     },
     "metadata": {},
     "output_type": "display_data"
    },
    {
     "data": {
      "text/html": [
       "<pre style=\"white-space:pre;overflow-x:auto;line-height:normal;font-family:Menlo,'DejaVu Sans Mono',consolas,'Courier New',monospace\"><span style=\"color: #008000; text-decoration-color: #008000\">Early stopping at iter </span><span style=\"color: #008080; text-decoration-color: #008080; font-weight: bold\">24</span><span style=\"color: #008000; text-decoration-color: #008000\"> due to reaching max kl</span>\n",
       "</pre>\n"
      ],
      "text/plain": [
       "\u001b[32mEarly stopping at iter \u001b[0m\u001b[1;36m24\u001b[0m\u001b[32m due to reaching max kl\u001b[0m\n"
      ]
     },
     "metadata": {},
     "output_type": "display_data"
    },
    {
     "data": {
      "text/html": [
       "<pre style=\"white-space:pre;overflow-x:auto;line-height:normal;font-family:Menlo,'DejaVu Sans Mono',consolas,'Courier New',monospace\"></pre>\n"
      ],
      "text/plain": []
     },
     "metadata": {},
     "output_type": "display_data"
    },
    {
     "data": {
      "text/html": [
       "<pre style=\"white-space:pre;overflow-x:auto;line-height:normal;font-family:Menlo,'DejaVu Sans Mono',consolas,'Courier New',monospace\">\n",
       "</pre>\n"
      ],
      "text/plain": [
       "\n"
      ]
     },
     "metadata": {},
     "output_type": "display_data"
    },
    {
     "data": {
      "text/html": [
       "<pre style=\"white-space:pre;overflow-x:auto;line-height:normal;font-family:Menlo,'DejaVu Sans Mono',consolas,'Courier New',monospace\">┏━━━━━━━━━━━━━━━━━━━━━━━━━━━━━━━━┳━━━━━━━━━━━━━━━━━━━━━━━━┓\n",
       "┃<span style=\"font-weight: bold\"> Metrics                        </span>┃<span style=\"font-weight: bold\"> Value                  </span>┃\n",
       "┡━━━━━━━━━━━━━━━━━━━━━━━━━━━━━━━━╇━━━━━━━━━━━━━━━━━━━━━━━━┩\n",
       "│ Metrics/EpRet                  │ 5.553573131561279      │\n",
       "│ Metrics/EpCost                 │ 52.20000076293945      │\n",
       "│ Metrics/EpLen                  │ 1000.0                 │\n",
       "│ Train/Epoch                    │ 8.0                    │\n",
       "│ Train/Entropy                  │ 1.251818060874939      │\n",
       "│ Train/KL                       │ 0.020205548033118248   │\n",
       "│ Train/StopIter                 │ 24.0                   │\n",
       "│ Train/PolicyRatio/Mean         │ 1.0010281801223755     │\n",
       "│ Train/PolicyRatio/Min          │ 1.0010281801223755     │\n",
       "│ Train/PolicyRatio/Max          │ 1.0010281801223755     │\n",
       "│ Train/PolicyRatio/Std          │ 0.020157095044851303   │\n",
       "│ Train/LR                       │ 0.0002099999983329326  │\n",
       "│ Train/PolicyStd                │ 0.8462340831756592     │\n",
       "│ TotalEnvSteps                  │ 180000.0               │\n",
       "│ Loss/Loss_pi                   │ -0.02729976922273636   │\n",
       "│ Loss/Loss_pi/Delta             │ -0.0030716024339199066 │\n",
       "│ Value/Adv                      │ -0.08362899720668793   │\n",
       "│ Loss/Loss_reward_critic        │ 0.012990409508347511   │\n",
       "│ Loss/Loss_reward_critic/Delta  │ 0.0027981288731098175  │\n",
       "│ Value/reward                   │ 0.324599027633667      │\n",
       "│ Loss/Loss_cost_critic          │ 1.4291833639144897     │\n",
       "│ Loss/Loss_cost_critic/Delta    │ 0.06866836547851562    │\n",
       "│ Value/cost                     │ 4.142287731170654      │\n",
       "│ Time/Total                     │ 1593.930908203125      │\n",
       "│ Time/Rollout                   │ 42.27498245239258      │\n",
       "│ Time/Update                    │ 106.58505249023438     │\n",
       "│ Time/Epoch                     │ 148.8610382080078      │\n",
       "│ Time/FPS                       │ 134.35350036621094     │\n",
       "│ Metrics/LagrangeMultiplier/Mea │ 0.3029024600982666     │\n",
       "│ Metrics/LagrangeMultiplier/Min │ 0.3029024600982666     │\n",
       "│ Metrics/LagrangeMultiplier/Max │ 0.3029024600982666     │\n",
       "│ Metrics/LagrangeMultiplier/Std │ 0.0                    │\n",
       "└────────────────────────────────┴────────────────────────┘\n",
       "</pre>\n"
      ],
      "text/plain": [
       "┏━━━━━━━━━━━━━━━━━━━━━━━━━━━━━━━━┳━━━━━━━━━━━━━━━━━━━━━━━━┓\n",
       "┃\u001b[1m \u001b[0m\u001b[1mMetrics                       \u001b[0m\u001b[1m \u001b[0m┃\u001b[1m \u001b[0m\u001b[1mValue                 \u001b[0m\u001b[1m \u001b[0m┃\n",
       "┡━━━━━━━━━━━━━━━━━━━━━━━━━━━━━━━━╇━━━━━━━━━━━━━━━━━━━━━━━━┩\n",
       "│ Metrics/EpRet                  │ 5.553573131561279      │\n",
       "│ Metrics/EpCost                 │ 52.20000076293945      │\n",
       "│ Metrics/EpLen                  │ 1000.0                 │\n",
       "│ Train/Epoch                    │ 8.0                    │\n",
       "│ Train/Entropy                  │ 1.251818060874939      │\n",
       "│ Train/KL                       │ 0.020205548033118248   │\n",
       "│ Train/StopIter                 │ 24.0                   │\n",
       "│ Train/PolicyRatio/Mean         │ 1.0010281801223755     │\n",
       "│ Train/PolicyRatio/Min          │ 1.0010281801223755     │\n",
       "│ Train/PolicyRatio/Max          │ 1.0010281801223755     │\n",
       "│ Train/PolicyRatio/Std          │ 0.020157095044851303   │\n",
       "│ Train/LR                       │ 0.0002099999983329326  │\n",
       "│ Train/PolicyStd                │ 0.8462340831756592     │\n",
       "│ TotalEnvSteps                  │ 180000.0               │\n",
       "│ Loss/Loss_pi                   │ -0.02729976922273636   │\n",
       "│ Loss/Loss_pi/Delta             │ -0.0030716024339199066 │\n",
       "│ Value/Adv                      │ -0.08362899720668793   │\n",
       "│ Loss/Loss_reward_critic        │ 0.012990409508347511   │\n",
       "│ Loss/Loss_reward_critic/Delta  │ 0.0027981288731098175  │\n",
       "│ Value/reward                   │ 0.324599027633667      │\n",
       "│ Loss/Loss_cost_critic          │ 1.4291833639144897     │\n",
       "│ Loss/Loss_cost_critic/Delta    │ 0.06866836547851562    │\n",
       "│ Value/cost                     │ 4.142287731170654      │\n",
       "│ Time/Total                     │ 1593.930908203125      │\n",
       "│ Time/Rollout                   │ 42.27498245239258      │\n",
       "│ Time/Update                    │ 106.58505249023438     │\n",
       "│ Time/Epoch                     │ 148.8610382080078      │\n",
       "│ Time/FPS                       │ 134.35350036621094     │\n",
       "│ Metrics/LagrangeMultiplier/Mea │ 0.3029024600982666     │\n",
       "│ Metrics/LagrangeMultiplier/Min │ 0.3029024600982666     │\n",
       "│ Metrics/LagrangeMultiplier/Max │ 0.3029024600982666     │\n",
       "│ Metrics/LagrangeMultiplier/Std │ 0.0                    │\n",
       "└────────────────────────────────┴────────────────────────┘\n"
      ]
     },
     "metadata": {},
     "output_type": "display_data"
    },
    {
     "data": {
      "text/html": [
       "<pre style=\"white-space:pre;overflow-x:auto;line-height:normal;font-family:Menlo,'DejaVu Sans Mono',consolas,'Courier New',monospace\"><span style=\"color: #008000; text-decoration-color: #008000\">Warning: trajectory cut off when rollout by epoch at </span><span style=\"color: #008080; text-decoration-color: #008080; font-weight: bold\">1000.0</span><span style=\"color: #008000; text-decoration-color: #008000\"> steps.</span>\n",
       "</pre>\n"
      ],
      "text/plain": [
       "\u001b[32mWarning: trajectory cut off when rollout by epoch at \u001b[0m\u001b[1;36m1000.0\u001b[0m\u001b[32m steps.\u001b[0m\n"
      ]
     },
     "metadata": {},
     "output_type": "display_data"
    },
    {
     "data": {
      "text/html": [
       "<pre style=\"white-space:pre;overflow-x:auto;line-height:normal;font-family:Menlo,'DejaVu Sans Mono',consolas,'Courier New',monospace\"><span style=\"color: #008000; text-decoration-color: #008000\">Warning: trajectory cut off when rollout by epoch at </span><span style=\"color: #008080; text-decoration-color: #008080; font-weight: bold\">1000.0</span><span style=\"color: #008000; text-decoration-color: #008000\"> steps.</span>\n",
       "</pre>\n"
      ],
      "text/plain": [
       "\u001b[32mWarning: trajectory cut off when rollout by epoch at \u001b[0m\u001b[1;36m1000.0\u001b[0m\u001b[32m steps.\u001b[0m\n"
      ]
     },
     "metadata": {},
     "output_type": "display_data"
    },
    {
     "data": {
      "text/html": [
       "<pre style=\"white-space:pre;overflow-x:auto;line-height:normal;font-family:Menlo,'DejaVu Sans Mono',consolas,'Courier New',monospace\"><span style=\"color: #008000; text-decoration-color: #008000\">Warning: trajectory cut off when rollout by epoch at </span><span style=\"color: #008080; text-decoration-color: #008080; font-weight: bold\">1000.0</span><span style=\"color: #008000; text-decoration-color: #008000\"> steps.</span>\n",
       "</pre>\n"
      ],
      "text/plain": [
       "\u001b[32mWarning: trajectory cut off when rollout by epoch at \u001b[0m\u001b[1;36m1000.0\u001b[0m\u001b[32m steps.\u001b[0m\n"
      ]
     },
     "metadata": {},
     "output_type": "display_data"
    },
    {
     "data": {
      "text/html": [
       "<pre style=\"white-space:pre;overflow-x:auto;line-height:normal;font-family:Menlo,'DejaVu Sans Mono',consolas,'Courier New',monospace\"><span style=\"color: #008000; text-decoration-color: #008000\">Warning: trajectory cut off when rollout by epoch at </span><span style=\"color: #008080; text-decoration-color: #008080; font-weight: bold\">1000.0</span><span style=\"color: #008000; text-decoration-color: #008000\"> steps.</span>\n",
       "</pre>\n"
      ],
      "text/plain": [
       "\u001b[32mWarning: trajectory cut off when rollout by epoch at \u001b[0m\u001b[1;36m1000.0\u001b[0m\u001b[32m steps.\u001b[0m\n"
      ]
     },
     "metadata": {},
     "output_type": "display_data"
    },
    {
     "data": {
      "text/html": [
       "<pre style=\"white-space:pre;overflow-x:auto;line-height:normal;font-family:Menlo,'DejaVu Sans Mono',consolas,'Courier New',monospace\"></pre>\n"
      ],
      "text/plain": []
     },
     "metadata": {},
     "output_type": "display_data"
    },
    {
     "data": {
      "text/html": [
       "<pre style=\"white-space:pre;overflow-x:auto;line-height:normal;font-family:Menlo,'DejaVu Sans Mono',consolas,'Courier New',monospace\">\n",
       "</pre>\n"
      ],
      "text/plain": [
       "\n"
      ]
     },
     "metadata": {},
     "output_type": "display_data"
    },
    {
     "data": {
      "text/html": [
       "<pre style=\"white-space:pre;overflow-x:auto;line-height:normal;font-family:Menlo,'DejaVu Sans Mono',consolas,'Courier New',monospace\"><span style=\"color: #008000; text-decoration-color: #008000\">Early stopping at iter </span><span style=\"color: #008080; text-decoration-color: #008080; font-weight: bold\">21</span><span style=\"color: #008000; text-decoration-color: #008000\"> due to reaching max kl</span>\n",
       "</pre>\n"
      ],
      "text/plain": [
       "\u001b[32mEarly stopping at iter \u001b[0m\u001b[1;36m21\u001b[0m\u001b[32m due to reaching max kl\u001b[0m\n"
      ]
     },
     "metadata": {},
     "output_type": "display_data"
    },
    {
     "data": {
      "text/html": [
       "<pre style=\"white-space:pre;overflow-x:auto;line-height:normal;font-family:Menlo,'DejaVu Sans Mono',consolas,'Courier New',monospace\"></pre>\n"
      ],
      "text/plain": []
     },
     "metadata": {},
     "output_type": "display_data"
    },
    {
     "data": {
      "text/html": [
       "<pre style=\"white-space:pre;overflow-x:auto;line-height:normal;font-family:Menlo,'DejaVu Sans Mono',consolas,'Courier New',monospace\">\n",
       "</pre>\n"
      ],
      "text/plain": [
       "\n"
      ]
     },
     "metadata": {},
     "output_type": "display_data"
    },
    {
     "data": {
      "text/html": [
       "<pre style=\"white-space:pre;overflow-x:auto;line-height:normal;font-family:Menlo,'DejaVu Sans Mono',consolas,'Courier New',monospace\">┏━━━━━━━━━━━━━━━━━━━━━━━━━━━━━━━━┳━━━━━━━━━━━━━━━━━━━━━━━━━┓\n",
       "┃<span style=\"font-weight: bold\"> Metrics                        </span>┃<span style=\"font-weight: bold\"> Value                   </span>┃\n",
       "┡━━━━━━━━━━━━━━━━━━━━━━━━━━━━━━━━╇━━━━━━━━━━━━━━━━━━━━━━━━━┩\n",
       "│ Metrics/EpRet                  │ 6.645803451538086       │\n",
       "│ Metrics/EpCost                 │ 51.34000015258789       │\n",
       "│ Metrics/EpLen                  │ 1000.0                  │\n",
       "│ Train/Epoch                    │ 9.0                     │\n",
       "│ Train/Entropy                  │ 1.2331337928771973      │\n",
       "│ Train/KL                       │ 0.020177051424980164    │\n",
       "│ Train/StopIter                 │ 21.0                    │\n",
       "│ Train/PolicyRatio/Mean         │ 0.9983625411987305      │\n",
       "│ Train/PolicyRatio/Min          │ 0.9983625411987305      │\n",
       "│ Train/PolicyRatio/Max          │ 0.9983625411987305      │\n",
       "│ Train/PolicyRatio/Std          │ 0.01971828192472458     │\n",
       "│ Train/LR                       │ 0.00019999999494757503  │\n",
       "│ Train/PolicyStd                │ 0.8307064175605774      │\n",
       "│ TotalEnvSteps                  │ 200000.0                │\n",
       "│ Loss/Loss_pi                   │ -0.02766224555671215    │\n",
       "│ Loss/Loss_pi/Delta             │ -0.00036247633397579193 │\n",
       "│ Value/Adv                      │ 0.05240778625011444     │\n",
       "│ Loss/Loss_reward_critic        │ 0.01580333523452282     │\n",
       "│ Loss/Loss_reward_critic/Delta  │ 0.0028129257261753082   │\n",
       "│ Value/reward                   │ 0.4120422303676605      │\n",
       "│ Loss/Loss_cost_critic          │ 1.5737320184707642      │\n",
       "│ Loss/Loss_cost_critic/Delta    │ 0.14454865455627441     │\n",
       "│ Value/cost                     │ 5.138887882232666       │\n",
       "│ Time/Total                     │ 1723.4114990234375      │\n",
       "│ Time/Rollout                   │ 39.20439910888672       │\n",
       "│ Time/Update                    │ 90.23009490966797       │\n",
       "│ Time/Epoch                     │ 129.4344940185547       │\n",
       "│ Time/FPS                       │ 154.51832580566406      │\n",
       "│ Metrics/LagrangeMultiplier/Mea │ 0.3319733738899231      │\n",
       "│ Metrics/LagrangeMultiplier/Min │ 0.3319733738899231      │\n",
       "│ Metrics/LagrangeMultiplier/Max │ 0.3319733738899231      │\n",
       "│ Metrics/LagrangeMultiplier/Std │ 0.0                     │\n",
       "└────────────────────────────────┴─────────────────────────┘\n",
       "</pre>\n"
      ],
      "text/plain": [
       "┏━━━━━━━━━━━━━━━━━━━━━━━━━━━━━━━━┳━━━━━━━━━━━━━━━━━━━━━━━━━┓\n",
       "┃\u001b[1m \u001b[0m\u001b[1mMetrics                       \u001b[0m\u001b[1m \u001b[0m┃\u001b[1m \u001b[0m\u001b[1mValue                  \u001b[0m\u001b[1m \u001b[0m┃\n",
       "┡━━━━━━━━━━━━━━━━━━━━━━━━━━━━━━━━╇━━━━━━━━━━━━━━━━━━━━━━━━━┩\n",
       "│ Metrics/EpRet                  │ 6.645803451538086       │\n",
       "│ Metrics/EpCost                 │ 51.34000015258789       │\n",
       "│ Metrics/EpLen                  │ 1000.0                  │\n",
       "│ Train/Epoch                    │ 9.0                     │\n",
       "│ Train/Entropy                  │ 1.2331337928771973      │\n",
       "│ Train/KL                       │ 0.020177051424980164    │\n",
       "│ Train/StopIter                 │ 21.0                    │\n",
       "│ Train/PolicyRatio/Mean         │ 0.9983625411987305      │\n",
       "│ Train/PolicyRatio/Min          │ 0.9983625411987305      │\n",
       "│ Train/PolicyRatio/Max          │ 0.9983625411987305      │\n",
       "│ Train/PolicyRatio/Std          │ 0.01971828192472458     │\n",
       "│ Train/LR                       │ 0.00019999999494757503  │\n",
       "│ Train/PolicyStd                │ 0.8307064175605774      │\n",
       "│ TotalEnvSteps                  │ 200000.0                │\n",
       "│ Loss/Loss_pi                   │ -0.02766224555671215    │\n",
       "│ Loss/Loss_pi/Delta             │ -0.00036247633397579193 │\n",
       "│ Value/Adv                      │ 0.05240778625011444     │\n",
       "│ Loss/Loss_reward_critic        │ 0.01580333523452282     │\n",
       "│ Loss/Loss_reward_critic/Delta  │ 0.0028129257261753082   │\n",
       "│ Value/reward                   │ 0.4120422303676605      │\n",
       "│ Loss/Loss_cost_critic          │ 1.5737320184707642      │\n",
       "│ Loss/Loss_cost_critic/Delta    │ 0.14454865455627441     │\n",
       "│ Value/cost                     │ 5.138887882232666       │\n",
       "│ Time/Total                     │ 1723.4114990234375      │\n",
       "│ Time/Rollout                   │ 39.20439910888672       │\n",
       "│ Time/Update                    │ 90.23009490966797       │\n",
       "│ Time/Epoch                     │ 129.4344940185547       │\n",
       "│ Time/FPS                       │ 154.51832580566406      │\n",
       "│ Metrics/LagrangeMultiplier/Mea │ 0.3319733738899231      │\n",
       "│ Metrics/LagrangeMultiplier/Min │ 0.3319733738899231      │\n",
       "│ Metrics/LagrangeMultiplier/Max │ 0.3319733738899231      │\n",
       "│ Metrics/LagrangeMultiplier/Std │ 0.0                     │\n",
       "└────────────────────────────────┴─────────────────────────┘\n"
      ]
     },
     "metadata": {},
     "output_type": "display_data"
    },
    {
     "data": {
      "text/html": [
       "<pre style=\"white-space:pre;overflow-x:auto;line-height:normal;font-family:Menlo,'DejaVu Sans Mono',consolas,'Courier New',monospace\"><span style=\"color: #008000; text-decoration-color: #008000\">Warning: trajectory cut off when rollout by epoch at </span><span style=\"color: #008080; text-decoration-color: #008080; font-weight: bold\">1000.0</span><span style=\"color: #008000; text-decoration-color: #008000\"> steps.</span>\n",
       "</pre>\n"
      ],
      "text/plain": [
       "\u001b[32mWarning: trajectory cut off when rollout by epoch at \u001b[0m\u001b[1;36m1000.0\u001b[0m\u001b[32m steps.\u001b[0m\n"
      ]
     },
     "metadata": {},
     "output_type": "display_data"
    },
    {
     "data": {
      "text/html": [
       "<pre style=\"white-space:pre;overflow-x:auto;line-height:normal;font-family:Menlo,'DejaVu Sans Mono',consolas,'Courier New',monospace\"><span style=\"color: #008000; text-decoration-color: #008000\">Warning: trajectory cut off when rollout by epoch at </span><span style=\"color: #008080; text-decoration-color: #008080; font-weight: bold\">1000.0</span><span style=\"color: #008000; text-decoration-color: #008000\"> steps.</span>\n",
       "</pre>\n"
      ],
      "text/plain": [
       "\u001b[32mWarning: trajectory cut off when rollout by epoch at \u001b[0m\u001b[1;36m1000.0\u001b[0m\u001b[32m steps.\u001b[0m\n"
      ]
     },
     "metadata": {},
     "output_type": "display_data"
    },
    {
     "data": {
      "text/html": [
       "<pre style=\"white-space:pre;overflow-x:auto;line-height:normal;font-family:Menlo,'DejaVu Sans Mono',consolas,'Courier New',monospace\"><span style=\"color: #008000; text-decoration-color: #008000\">Warning: trajectory cut off when rollout by epoch at </span><span style=\"color: #008080; text-decoration-color: #008080; font-weight: bold\">1000.0</span><span style=\"color: #008000; text-decoration-color: #008000\"> steps.</span>\n",
       "</pre>\n"
      ],
      "text/plain": [
       "\u001b[32mWarning: trajectory cut off when rollout by epoch at \u001b[0m\u001b[1;36m1000.0\u001b[0m\u001b[32m steps.\u001b[0m\n"
      ]
     },
     "metadata": {},
     "output_type": "display_data"
    },
    {
     "data": {
      "text/html": [
       "<pre style=\"white-space:pre;overflow-x:auto;line-height:normal;font-family:Menlo,'DejaVu Sans Mono',consolas,'Courier New',monospace\"><span style=\"color: #008000; text-decoration-color: #008000\">Warning: trajectory cut off when rollout by epoch at </span><span style=\"color: #008080; text-decoration-color: #008080; font-weight: bold\">1000.0</span><span style=\"color: #008000; text-decoration-color: #008000\"> steps.</span>\n",
       "</pre>\n"
      ],
      "text/plain": [
       "\u001b[32mWarning: trajectory cut off when rollout by epoch at \u001b[0m\u001b[1;36m1000.0\u001b[0m\u001b[32m steps.\u001b[0m\n"
      ]
     },
     "metadata": {},
     "output_type": "display_data"
    },
    {
     "data": {
      "text/html": [
       "<pre style=\"white-space:pre;overflow-x:auto;line-height:normal;font-family:Menlo,'DejaVu Sans Mono',consolas,'Courier New',monospace\"></pre>\n"
      ],
      "text/plain": []
     },
     "metadata": {},
     "output_type": "display_data"
    },
    {
     "data": {
      "text/html": [
       "<pre style=\"white-space:pre;overflow-x:auto;line-height:normal;font-family:Menlo,'DejaVu Sans Mono',consolas,'Courier New',monospace\">\n",
       "</pre>\n"
      ],
      "text/plain": [
       "\n"
      ]
     },
     "metadata": {},
     "output_type": "display_data"
    },
    {
     "data": {
      "text/html": [
       "<pre style=\"white-space:pre;overflow-x:auto;line-height:normal;font-family:Menlo,'DejaVu Sans Mono',consolas,'Courier New',monospace\"><span style=\"color: #008000; text-decoration-color: #008000\">Early stopping at iter </span><span style=\"color: #008080; text-decoration-color: #008080; font-weight: bold\">28</span><span style=\"color: #008000; text-decoration-color: #008000\"> due to reaching max kl</span>\n",
       "</pre>\n"
      ],
      "text/plain": [
       "\u001b[32mEarly stopping at iter \u001b[0m\u001b[1;36m28\u001b[0m\u001b[32m due to reaching max kl\u001b[0m\n"
      ]
     },
     "metadata": {},
     "output_type": "display_data"
    },
    {
     "data": {
      "text/html": [
       "<pre style=\"white-space:pre;overflow-x:auto;line-height:normal;font-family:Menlo,'DejaVu Sans Mono',consolas,'Courier New',monospace\"></pre>\n"
      ],
      "text/plain": []
     },
     "metadata": {},
     "output_type": "display_data"
    },
    {
     "data": {
      "text/html": [
       "<pre style=\"white-space:pre;overflow-x:auto;line-height:normal;font-family:Menlo,'DejaVu Sans Mono',consolas,'Courier New',monospace\">\n",
       "</pre>\n"
      ],
      "text/plain": [
       "\n"
      ]
     },
     "metadata": {},
     "output_type": "display_data"
    },
    {
     "data": {
      "text/html": [
       "<pre style=\"white-space:pre;overflow-x:auto;line-height:normal;font-family:Menlo,'DejaVu Sans Mono',consolas,'Courier New',monospace\">┏━━━━━━━━━━━━━━━━━━━━━━━━━━━━━━━━┳━━━━━━━━━━━━━━━━━━━━━━━┓\n",
       "┃<span style=\"font-weight: bold\"> Metrics                        </span>┃<span style=\"font-weight: bold\"> Value                 </span>┃\n",
       "┡━━━━━━━━━━━━━━━━━━━━━━━━━━━━━━━━╇━━━━━━━━━━━━━━━━━━━━━━━┩\n",
       "│ Metrics/EpRet                  │ 6.506600379943848     │\n",
       "│ Metrics/EpCost                 │ 67.13999938964844     │\n",
       "│ Metrics/EpLen                  │ 1000.0                │\n",
       "│ Train/Epoch                    │ 10.0                  │\n",
       "│ Train/Entropy                  │ 1.2156262397766113    │\n",
       "│ Train/KL                       │ 0.020199552178382874  │\n",
       "│ Train/StopIter                 │ 28.0                  │\n",
       "│ Train/PolicyRatio/Mean         │ 1.0010918378829956    │\n",
       "│ Train/PolicyRatio/Min          │ 1.001091718673706     │\n",
       "│ Train/PolicyRatio/Max          │ 1.001091718673706     │\n",
       "│ Train/PolicyRatio/Std          │ 0.0206462312489748    │\n",
       "│ Train/LR                       │ 0.0001900000061141327 │\n",
       "│ Train/PolicyStd                │ 0.8163701891899109    │\n",
       "│ TotalEnvSteps                  │ 220000.0              │\n",
       "│ Loss/Loss_pi                   │ -0.034414343535900116 │\n",
       "│ Loss/Loss_pi/Delta             │ -0.006752097979187965 │\n",
       "│ Value/Adv                      │ 0.04614152014255524   │\n",
       "│ Loss/Loss_reward_critic        │ 0.011201917193830013  │\n",
       "│ Loss/Loss_reward_critic/Delta  │ -0.004601418040692806 │\n",
       "│ Value/reward                   │ 0.368121862411499     │\n",
       "│ Loss/Loss_cost_critic          │ 1.5634673833847046    │\n",
       "│ Loss/Loss_cost_critic/Delta    │ -0.01026463508605957  │\n",
       "│ Value/cost                     │ 5.509208679199219     │\n",
       "│ Time/Total                     │ 1879.9969482421875    │\n",
       "│ Time/Rollout                   │ 39.620643615722656    │\n",
       "│ Time/Update                    │ 116.93690490722656    │\n",
       "│ Time/Epoch                     │ 156.55755615234375    │\n",
       "│ Time/FPS                       │ 127.74855041503906    │\n",
       "│ Metrics/LagrangeMultiplier/Mea │ 0.3613314926624298    │\n",
       "│ Metrics/LagrangeMultiplier/Min │ 0.3613314926624298    │\n",
       "│ Metrics/LagrangeMultiplier/Max │ 0.3613314926624298    │\n",
       "│ Metrics/LagrangeMultiplier/Std │ 0.0                   │\n",
       "└────────────────────────────────┴───────────────────────┘\n",
       "</pre>\n"
      ],
      "text/plain": [
       "┏━━━━━━━━━━━━━━━━━━━━━━━━━━━━━━━━┳━━━━━━━━━━━━━━━━━━━━━━━┓\n",
       "┃\u001b[1m \u001b[0m\u001b[1mMetrics                       \u001b[0m\u001b[1m \u001b[0m┃\u001b[1m \u001b[0m\u001b[1mValue                \u001b[0m\u001b[1m \u001b[0m┃\n",
       "┡━━━━━━━━━━━━━━━━━━━━━━━━━━━━━━━━╇━━━━━━━━━━━━━━━━━━━━━━━┩\n",
       "│ Metrics/EpRet                  │ 6.506600379943848     │\n",
       "│ Metrics/EpCost                 │ 67.13999938964844     │\n",
       "│ Metrics/EpLen                  │ 1000.0                │\n",
       "│ Train/Epoch                    │ 10.0                  │\n",
       "│ Train/Entropy                  │ 1.2156262397766113    │\n",
       "│ Train/KL                       │ 0.020199552178382874  │\n",
       "│ Train/StopIter                 │ 28.0                  │\n",
       "│ Train/PolicyRatio/Mean         │ 1.0010918378829956    │\n",
       "│ Train/PolicyRatio/Min          │ 1.001091718673706     │\n",
       "│ Train/PolicyRatio/Max          │ 1.001091718673706     │\n",
       "│ Train/PolicyRatio/Std          │ 0.0206462312489748    │\n",
       "│ Train/LR                       │ 0.0001900000061141327 │\n",
       "│ Train/PolicyStd                │ 0.8163701891899109    │\n",
       "│ TotalEnvSteps                  │ 220000.0              │\n",
       "│ Loss/Loss_pi                   │ -0.034414343535900116 │\n",
       "│ Loss/Loss_pi/Delta             │ -0.006752097979187965 │\n",
       "│ Value/Adv                      │ 0.04614152014255524   │\n",
       "│ Loss/Loss_reward_critic        │ 0.011201917193830013  │\n",
       "│ Loss/Loss_reward_critic/Delta  │ -0.004601418040692806 │\n",
       "│ Value/reward                   │ 0.368121862411499     │\n",
       "│ Loss/Loss_cost_critic          │ 1.5634673833847046    │\n",
       "│ Loss/Loss_cost_critic/Delta    │ -0.01026463508605957  │\n",
       "│ Value/cost                     │ 5.509208679199219     │\n",
       "│ Time/Total                     │ 1879.9969482421875    │\n",
       "│ Time/Rollout                   │ 39.620643615722656    │\n",
       "│ Time/Update                    │ 116.93690490722656    │\n",
       "│ Time/Epoch                     │ 156.55755615234375    │\n",
       "│ Time/FPS                       │ 127.74855041503906    │\n",
       "│ Metrics/LagrangeMultiplier/Mea │ 0.3613314926624298    │\n",
       "│ Metrics/LagrangeMultiplier/Min │ 0.3613314926624298    │\n",
       "│ Metrics/LagrangeMultiplier/Max │ 0.3613314926624298    │\n",
       "│ Metrics/LagrangeMultiplier/Std │ 0.0                   │\n",
       "└────────────────────────────────┴───────────────────────┘\n"
      ]
     },
     "metadata": {},
     "output_type": "display_data"
    },
    {
     "data": {
      "text/html": [
       "<pre style=\"white-space:pre;overflow-x:auto;line-height:normal;font-family:Menlo,'DejaVu Sans Mono',consolas,'Courier New',monospace\"><span style=\"color: #008000; text-decoration-color: #008000\">Warning: trajectory cut off when rollout by epoch at </span><span style=\"color: #008080; text-decoration-color: #008080; font-weight: bold\">1000.0</span><span style=\"color: #008000; text-decoration-color: #008000\"> steps.</span>\n",
       "</pre>\n"
      ],
      "text/plain": [
       "\u001b[32mWarning: trajectory cut off when rollout by epoch at \u001b[0m\u001b[1;36m1000.0\u001b[0m\u001b[32m steps.\u001b[0m\n"
      ]
     },
     "metadata": {},
     "output_type": "display_data"
    },
    {
     "data": {
      "text/html": [
       "<pre style=\"white-space:pre;overflow-x:auto;line-height:normal;font-family:Menlo,'DejaVu Sans Mono',consolas,'Courier New',monospace\"><span style=\"color: #008000; text-decoration-color: #008000\">Warning: trajectory cut off when rollout by epoch at </span><span style=\"color: #008080; text-decoration-color: #008080; font-weight: bold\">1000.0</span><span style=\"color: #008000; text-decoration-color: #008000\"> steps.</span>\n",
       "</pre>\n"
      ],
      "text/plain": [
       "\u001b[32mWarning: trajectory cut off when rollout by epoch at \u001b[0m\u001b[1;36m1000.0\u001b[0m\u001b[32m steps.\u001b[0m\n"
      ]
     },
     "metadata": {},
     "output_type": "display_data"
    },
    {
     "data": {
      "text/html": [
       "<pre style=\"white-space:pre;overflow-x:auto;line-height:normal;font-family:Menlo,'DejaVu Sans Mono',consolas,'Courier New',monospace\"><span style=\"color: #008000; text-decoration-color: #008000\">Warning: trajectory cut off when rollout by epoch at </span><span style=\"color: #008080; text-decoration-color: #008080; font-weight: bold\">1000.0</span><span style=\"color: #008000; text-decoration-color: #008000\"> steps.</span>\n",
       "</pre>\n"
      ],
      "text/plain": [
       "\u001b[32mWarning: trajectory cut off when rollout by epoch at \u001b[0m\u001b[1;36m1000.0\u001b[0m\u001b[32m steps.\u001b[0m\n"
      ]
     },
     "metadata": {},
     "output_type": "display_data"
    },
    {
     "data": {
      "text/html": [
       "<pre style=\"white-space:pre;overflow-x:auto;line-height:normal;font-family:Menlo,'DejaVu Sans Mono',consolas,'Courier New',monospace\"><span style=\"color: #008000; text-decoration-color: #008000\">Warning: trajectory cut off when rollout by epoch at </span><span style=\"color: #008080; text-decoration-color: #008080; font-weight: bold\">1000.0</span><span style=\"color: #008000; text-decoration-color: #008000\"> steps.</span>\n",
       "</pre>\n"
      ],
      "text/plain": [
       "\u001b[32mWarning: trajectory cut off when rollout by epoch at \u001b[0m\u001b[1;36m1000.0\u001b[0m\u001b[32m steps.\u001b[0m\n"
      ]
     },
     "metadata": {},
     "output_type": "display_data"
    },
    {
     "data": {
      "text/html": [
       "<pre style=\"white-space:pre;overflow-x:auto;line-height:normal;font-family:Menlo,'DejaVu Sans Mono',consolas,'Courier New',monospace\"></pre>\n"
      ],
      "text/plain": []
     },
     "metadata": {},
     "output_type": "display_data"
    },
    {
     "data": {
      "text/html": [
       "<pre style=\"white-space:pre;overflow-x:auto;line-height:normal;font-family:Menlo,'DejaVu Sans Mono',consolas,'Courier New',monospace\">\n",
       "</pre>\n"
      ],
      "text/plain": [
       "\n"
      ]
     },
     "metadata": {},
     "output_type": "display_data"
    },
    {
     "data": {
      "text/html": [
       "<pre style=\"white-space:pre;overflow-x:auto;line-height:normal;font-family:Menlo,'DejaVu Sans Mono',consolas,'Courier New',monospace\"><span style=\"color: #008000; text-decoration-color: #008000\">Early stopping at iter </span><span style=\"color: #008080; text-decoration-color: #008080; font-weight: bold\">26</span><span style=\"color: #008000; text-decoration-color: #008000\"> due to reaching max kl</span>\n",
       "</pre>\n"
      ],
      "text/plain": [
       "\u001b[32mEarly stopping at iter \u001b[0m\u001b[1;36m26\u001b[0m\u001b[32m due to reaching max kl\u001b[0m\n"
      ]
     },
     "metadata": {},
     "output_type": "display_data"
    },
    {
     "data": {
      "text/html": [
       "<pre style=\"white-space:pre;overflow-x:auto;line-height:normal;font-family:Menlo,'DejaVu Sans Mono',consolas,'Courier New',monospace\"></pre>\n"
      ],
      "text/plain": []
     },
     "metadata": {},
     "output_type": "display_data"
    },
    {
     "data": {
      "text/html": [
       "<pre style=\"white-space:pre;overflow-x:auto;line-height:normal;font-family:Menlo,'DejaVu Sans Mono',consolas,'Courier New',monospace\">\n",
       "</pre>\n"
      ],
      "text/plain": [
       "\n"
      ]
     },
     "metadata": {},
     "output_type": "display_data"
    },
    {
     "data": {
      "text/html": [
       "<pre style=\"white-space:pre;overflow-x:auto;line-height:normal;font-family:Menlo,'DejaVu Sans Mono',consolas,'Courier New',monospace\">┏━━━━━━━━━━━━━━━━━━━━━━━━━━━━━━━━┳━━━━━━━━━━━━━━━━━━━━━━━━┓\n",
       "┃<span style=\"font-weight: bold\"> Metrics                        </span>┃<span style=\"font-weight: bold\"> Value                  </span>┃\n",
       "┡━━━━━━━━━━━━━━━━━━━━━━━━━━━━━━━━╇━━━━━━━━━━━━━━━━━━━━━━━━┩\n",
       "│ Metrics/EpRet                  │ 7.182920932769775      │\n",
       "│ Metrics/EpCost                 │ 86.18000030517578      │\n",
       "│ Metrics/EpLen                  │ 1000.0                 │\n",
       "│ Train/Epoch                    │ 11.0                   │\n",
       "│ Train/Entropy                  │ 1.1977488994598389     │\n",
       "│ Train/KL                       │ 0.020075267180800438   │\n",
       "│ Train/StopIter                 │ 26.0                   │\n",
       "│ Train/PolicyRatio/Mean         │ 1.0022366046905518     │\n",
       "│ Train/PolicyRatio/Min          │ 1.0022366046905518     │\n",
       "│ Train/PolicyRatio/Max          │ 1.0022366046905518     │\n",
       "│ Train/PolicyRatio/Std          │ 0.019913673400878906   │\n",
       "│ Train/LR                       │ 0.00018000000272877514 │\n",
       "│ Train/PolicyStd                │ 0.8020121455192566     │\n",
       "│ TotalEnvSteps                  │ 240000.0               │\n",
       "│ Loss/Loss_pi                   │ -0.03451107069849968   │\n",
       "│ Loss/Loss_pi/Delta             │ -9.67271625995636e-05  │\n",
       "│ Value/Adv                      │ -0.09924507141113281   │\n",
       "│ Loss/Loss_reward_critic        │ 0.013372977264225483   │\n",
       "│ Loss/Loss_reward_critic/Delta  │ 0.0021710600703954697  │\n",
       "│ Value/reward                   │ 0.5180668234825134     │\n",
       "│ Loss/Loss_cost_critic          │ 1.9241169691085815     │\n",
       "│ Loss/Loss_cost_critic/Delta    │ 0.36064958572387695    │\n",
       "│ Value/cost                     │ 5.173361778259277      │\n",
       "│ Time/Total                     │ 2034.0264892578125     │\n",
       "│ Time/Rollout                   │ 40.647064208984375     │\n",
       "│ Time/Update                    │ 113.35039520263672     │\n",
       "│ Time/Epoch                     │ 153.99745178222656     │\n",
       "│ Time/FPS                       │ 129.8722686767578      │\n",
       "│ Metrics/LagrangeMultiplier/Mea │ 0.3918188214302063     │\n",
       "│ Metrics/LagrangeMultiplier/Min │ 0.3918188214302063     │\n",
       "│ Metrics/LagrangeMultiplier/Max │ 0.3918188214302063     │\n",
       "│ Metrics/LagrangeMultiplier/Std │ 0.0                    │\n",
       "└────────────────────────────────┴────────────────────────┘\n",
       "</pre>\n"
      ],
      "text/plain": [
       "┏━━━━━━━━━━━━━━━━━━━━━━━━━━━━━━━━┳━━━━━━━━━━━━━━━━━━━━━━━━┓\n",
       "┃\u001b[1m \u001b[0m\u001b[1mMetrics                       \u001b[0m\u001b[1m \u001b[0m┃\u001b[1m \u001b[0m\u001b[1mValue                 \u001b[0m\u001b[1m \u001b[0m┃\n",
       "┡━━━━━━━━━━━━━━━━━━━━━━━━━━━━━━━━╇━━━━━━━━━━━━━━━━━━━━━━━━┩\n",
       "│ Metrics/EpRet                  │ 7.182920932769775      │\n",
       "│ Metrics/EpCost                 │ 86.18000030517578      │\n",
       "│ Metrics/EpLen                  │ 1000.0                 │\n",
       "│ Train/Epoch                    │ 11.0                   │\n",
       "│ Train/Entropy                  │ 1.1977488994598389     │\n",
       "│ Train/KL                       │ 0.020075267180800438   │\n",
       "│ Train/StopIter                 │ 26.0                   │\n",
       "│ Train/PolicyRatio/Mean         │ 1.0022366046905518     │\n",
       "│ Train/PolicyRatio/Min          │ 1.0022366046905518     │\n",
       "│ Train/PolicyRatio/Max          │ 1.0022366046905518     │\n",
       "│ Train/PolicyRatio/Std          │ 0.019913673400878906   │\n",
       "│ Train/LR                       │ 0.00018000000272877514 │\n",
       "│ Train/PolicyStd                │ 0.8020121455192566     │\n",
       "│ TotalEnvSteps                  │ 240000.0               │\n",
       "│ Loss/Loss_pi                   │ -0.03451107069849968   │\n",
       "│ Loss/Loss_pi/Delta             │ -9.67271625995636e-05  │\n",
       "│ Value/Adv                      │ -0.09924507141113281   │\n",
       "│ Loss/Loss_reward_critic        │ 0.013372977264225483   │\n",
       "│ Loss/Loss_reward_critic/Delta  │ 0.0021710600703954697  │\n",
       "│ Value/reward                   │ 0.5180668234825134     │\n",
       "│ Loss/Loss_cost_critic          │ 1.9241169691085815     │\n",
       "│ Loss/Loss_cost_critic/Delta    │ 0.36064958572387695    │\n",
       "│ Value/cost                     │ 5.173361778259277      │\n",
       "│ Time/Total                     │ 2034.0264892578125     │\n",
       "│ Time/Rollout                   │ 40.647064208984375     │\n",
       "│ Time/Update                    │ 113.35039520263672     │\n",
       "│ Time/Epoch                     │ 153.99745178222656     │\n",
       "│ Time/FPS                       │ 129.8722686767578      │\n",
       "│ Metrics/LagrangeMultiplier/Mea │ 0.3918188214302063     │\n",
       "│ Metrics/LagrangeMultiplier/Min │ 0.3918188214302063     │\n",
       "│ Metrics/LagrangeMultiplier/Max │ 0.3918188214302063     │\n",
       "│ Metrics/LagrangeMultiplier/Std │ 0.0                    │\n",
       "└────────────────────────────────┴────────────────────────┘\n"
      ]
     },
     "metadata": {},
     "output_type": "display_data"
    },
    {
     "data": {
      "text/html": [
       "<pre style=\"white-space:pre;overflow-x:auto;line-height:normal;font-family:Menlo,'DejaVu Sans Mono',consolas,'Courier New',monospace\"><span style=\"color: #008000; text-decoration-color: #008000\">Warning: trajectory cut off when rollout by epoch at </span><span style=\"color: #008080; text-decoration-color: #008080; font-weight: bold\">1000.0</span><span style=\"color: #008000; text-decoration-color: #008000\"> steps.</span>\n",
       "</pre>\n"
      ],
      "text/plain": [
       "\u001b[32mWarning: trajectory cut off when rollout by epoch at \u001b[0m\u001b[1;36m1000.0\u001b[0m\u001b[32m steps.\u001b[0m\n"
      ]
     },
     "metadata": {},
     "output_type": "display_data"
    },
    {
     "data": {
      "text/html": [
       "<pre style=\"white-space:pre;overflow-x:auto;line-height:normal;font-family:Menlo,'DejaVu Sans Mono',consolas,'Courier New',monospace\"><span style=\"color: #008000; text-decoration-color: #008000\">Warning: trajectory cut off when rollout by epoch at </span><span style=\"color: #008080; text-decoration-color: #008080; font-weight: bold\">1000.0</span><span style=\"color: #008000; text-decoration-color: #008000\"> steps.</span>\n",
       "</pre>\n"
      ],
      "text/plain": [
       "\u001b[32mWarning: trajectory cut off when rollout by epoch at \u001b[0m\u001b[1;36m1000.0\u001b[0m\u001b[32m steps.\u001b[0m\n"
      ]
     },
     "metadata": {},
     "output_type": "display_data"
    },
    {
     "data": {
      "text/html": [
       "<pre style=\"white-space:pre;overflow-x:auto;line-height:normal;font-family:Menlo,'DejaVu Sans Mono',consolas,'Courier New',monospace\"><span style=\"color: #008000; text-decoration-color: #008000\">Warning: trajectory cut off when rollout by epoch at </span><span style=\"color: #008080; text-decoration-color: #008080; font-weight: bold\">1000.0</span><span style=\"color: #008000; text-decoration-color: #008000\"> steps.</span>\n",
       "</pre>\n"
      ],
      "text/plain": [
       "\u001b[32mWarning: trajectory cut off when rollout by epoch at \u001b[0m\u001b[1;36m1000.0\u001b[0m\u001b[32m steps.\u001b[0m\n"
      ]
     },
     "metadata": {},
     "output_type": "display_data"
    },
    {
     "data": {
      "text/html": [
       "<pre style=\"white-space:pre;overflow-x:auto;line-height:normal;font-family:Menlo,'DejaVu Sans Mono',consolas,'Courier New',monospace\"><span style=\"color: #008000; text-decoration-color: #008000\">Warning: trajectory cut off when rollout by epoch at </span><span style=\"color: #008080; text-decoration-color: #008080; font-weight: bold\">1000.0</span><span style=\"color: #008000; text-decoration-color: #008000\"> steps.</span>\n",
       "</pre>\n"
      ],
      "text/plain": [
       "\u001b[32mWarning: trajectory cut off when rollout by epoch at \u001b[0m\u001b[1;36m1000.0\u001b[0m\u001b[32m steps.\u001b[0m\n"
      ]
     },
     "metadata": {},
     "output_type": "display_data"
    },
    {
     "data": {
      "text/html": [
       "<pre style=\"white-space:pre;overflow-x:auto;line-height:normal;font-family:Menlo,'DejaVu Sans Mono',consolas,'Courier New',monospace\"></pre>\n"
      ],
      "text/plain": []
     },
     "metadata": {},
     "output_type": "display_data"
    },
    {
     "data": {
      "text/html": [
       "<pre style=\"white-space:pre;overflow-x:auto;line-height:normal;font-family:Menlo,'DejaVu Sans Mono',consolas,'Courier New',monospace\">\n",
       "</pre>\n"
      ],
      "text/plain": [
       "\n"
      ]
     },
     "metadata": {},
     "output_type": "display_data"
    },
    {
     "data": {
      "text/html": [
       "<pre style=\"white-space:pre;overflow-x:auto;line-height:normal;font-family:Menlo,'DejaVu Sans Mono',consolas,'Courier New',monospace\"><span style=\"color: #008000; text-decoration-color: #008000\">Early stopping at iter </span><span style=\"color: #008080; text-decoration-color: #008080; font-weight: bold\">25</span><span style=\"color: #008000; text-decoration-color: #008000\"> due to reaching max kl</span>\n",
       "</pre>\n"
      ],
      "text/plain": [
       "\u001b[32mEarly stopping at iter \u001b[0m\u001b[1;36m25\u001b[0m\u001b[32m due to reaching max kl\u001b[0m\n"
      ]
     },
     "metadata": {},
     "output_type": "display_data"
    },
    {
     "data": {
      "text/html": [
       "<pre style=\"white-space:pre;overflow-x:auto;line-height:normal;font-family:Menlo,'DejaVu Sans Mono',consolas,'Courier New',monospace\"></pre>\n"
      ],
      "text/plain": []
     },
     "metadata": {},
     "output_type": "display_data"
    },
    {
     "data": {
      "text/html": [
       "<pre style=\"white-space:pre;overflow-x:auto;line-height:normal;font-family:Menlo,'DejaVu Sans Mono',consolas,'Courier New',monospace\">\n",
       "</pre>\n"
      ],
      "text/plain": [
       "\n"
      ]
     },
     "metadata": {},
     "output_type": "display_data"
    },
    {
     "data": {
      "text/html": [
       "<pre style=\"white-space:pre;overflow-x:auto;line-height:normal;font-family:Menlo,'DejaVu Sans Mono',consolas,'Courier New',monospace\">┏━━━━━━━━━━━━━━━━━━━━━━━━━━━━━━━━┳━━━━━━━━━━━━━━━━━━━━━━━━┓\n",
       "┃<span style=\"font-weight: bold\"> Metrics                        </span>┃<span style=\"font-weight: bold\"> Value                  </span>┃\n",
       "┡━━━━━━━━━━━━━━━━━━━━━━━━━━━━━━━━╇━━━━━━━━━━━━━━━━━━━━━━━━┩\n",
       "│ Metrics/EpRet                  │ 8.143265724182129      │\n",
       "│ Metrics/EpCost                 │ 93.23999786376953      │\n",
       "│ Metrics/EpLen                  │ 1000.0                 │\n",
       "│ Train/Epoch                    │ 12.0                   │\n",
       "│ Train/Entropy                  │ 1.180120825767517      │\n",
       "│ Train/KL                       │ 0.020074157044291496   │\n",
       "│ Train/StopIter                 │ 25.0                   │\n",
       "│ Train/PolicyRatio/Mean         │ 1.0000656843185425     │\n",
       "│ Train/PolicyRatio/Min          │ 1.0000656843185425     │\n",
       "│ Train/PolicyRatio/Max          │ 1.0000656843185425     │\n",
       "│ Train/PolicyRatio/Std          │ 0.019558724015951157   │\n",
       "│ Train/LR                       │ 0.00016999999934341758 │\n",
       "│ Train/PolicyStd                │ 0.7880938053131104     │\n",
       "│ TotalEnvSteps                  │ 260000.0               │\n",
       "│ Loss/Loss_pi                   │ -0.03447961434721947   │\n",
       "│ Loss/Loss_pi/Delta             │ 3.14563512802124e-05   │\n",
       "│ Value/Adv                      │ 0.29173463582992554    │\n",
       "│ Loss/Loss_reward_critic        │ 0.015091496519744396   │\n",
       "│ Loss/Loss_reward_critic/Delta  │ 0.0017185192555189133  │\n",
       "│ Value/reward                   │ 0.5767432451248169     │\n",
       "│ Loss/Loss_cost_critic          │ 1.6784749031066895     │\n",
       "│ Loss/Loss_cost_critic/Delta    │ -0.2456420660018921    │\n",
       "│ Value/cost                     │ 6.682153224945068      │\n",
       "│ Time/Total                     │ 2183.443603515625      │\n",
       "│ Time/Rollout                   │ 36.490211486816406     │\n",
       "│ Time/Update                    │ 112.88660430908203     │\n",
       "│ Time/Epoch                     │ 149.37681579589844     │\n",
       "│ Time/FPS                       │ 133.88958740234375     │\n",
       "│ Metrics/LagrangeMultiplier/Mea │ 0.42344674468040466    │\n",
       "│ Metrics/LagrangeMultiplier/Min │ 0.42344674468040466    │\n",
       "│ Metrics/LagrangeMultiplier/Max │ 0.42344674468040466    │\n",
       "│ Metrics/LagrangeMultiplier/Std │ 0.0                    │\n",
       "└────────────────────────────────┴────────────────────────┘\n",
       "</pre>\n"
      ],
      "text/plain": [
       "┏━━━━━━━━━━━━━━━━━━━━━━━━━━━━━━━━┳━━━━━━━━━━━━━━━━━━━━━━━━┓\n",
       "┃\u001b[1m \u001b[0m\u001b[1mMetrics                       \u001b[0m\u001b[1m \u001b[0m┃\u001b[1m \u001b[0m\u001b[1mValue                 \u001b[0m\u001b[1m \u001b[0m┃\n",
       "┡━━━━━━━━━━━━━━━━━━━━━━━━━━━━━━━━╇━━━━━━━━━━━━━━━━━━━━━━━━┩\n",
       "│ Metrics/EpRet                  │ 8.143265724182129      │\n",
       "│ Metrics/EpCost                 │ 93.23999786376953      │\n",
       "│ Metrics/EpLen                  │ 1000.0                 │\n",
       "│ Train/Epoch                    │ 12.0                   │\n",
       "│ Train/Entropy                  │ 1.180120825767517      │\n",
       "│ Train/KL                       │ 0.020074157044291496   │\n",
       "│ Train/StopIter                 │ 25.0                   │\n",
       "│ Train/PolicyRatio/Mean         │ 1.0000656843185425     │\n",
       "│ Train/PolicyRatio/Min          │ 1.0000656843185425     │\n",
       "│ Train/PolicyRatio/Max          │ 1.0000656843185425     │\n",
       "│ Train/PolicyRatio/Std          │ 0.019558724015951157   │\n",
       "│ Train/LR                       │ 0.00016999999934341758 │\n",
       "│ Train/PolicyStd                │ 0.7880938053131104     │\n",
       "│ TotalEnvSteps                  │ 260000.0               │\n",
       "│ Loss/Loss_pi                   │ -0.03447961434721947   │\n",
       "│ Loss/Loss_pi/Delta             │ 3.14563512802124e-05   │\n",
       "│ Value/Adv                      │ 0.29173463582992554    │\n",
       "│ Loss/Loss_reward_critic        │ 0.015091496519744396   │\n",
       "│ Loss/Loss_reward_critic/Delta  │ 0.0017185192555189133  │\n",
       "│ Value/reward                   │ 0.5767432451248169     │\n",
       "│ Loss/Loss_cost_critic          │ 1.6784749031066895     │\n",
       "│ Loss/Loss_cost_critic/Delta    │ -0.2456420660018921    │\n",
       "│ Value/cost                     │ 6.682153224945068      │\n",
       "│ Time/Total                     │ 2183.443603515625      │\n",
       "│ Time/Rollout                   │ 36.490211486816406     │\n",
       "│ Time/Update                    │ 112.88660430908203     │\n",
       "│ Time/Epoch                     │ 149.37681579589844     │\n",
       "│ Time/FPS                       │ 133.88958740234375     │\n",
       "│ Metrics/LagrangeMultiplier/Mea │ 0.42344674468040466    │\n",
       "│ Metrics/LagrangeMultiplier/Min │ 0.42344674468040466    │\n",
       "│ Metrics/LagrangeMultiplier/Max │ 0.42344674468040466    │\n",
       "│ Metrics/LagrangeMultiplier/Std │ 0.0                    │\n",
       "└────────────────────────────────┴────────────────────────┘\n"
      ]
     },
     "metadata": {},
     "output_type": "display_data"
    },
    {
     "data": {
      "text/html": [
       "<pre style=\"white-space:pre;overflow-x:auto;line-height:normal;font-family:Menlo,'DejaVu Sans Mono',consolas,'Courier New',monospace\"><span style=\"color: #008000; text-decoration-color: #008000\">Warning: trajectory cut off when rollout by epoch at </span><span style=\"color: #008080; text-decoration-color: #008080; font-weight: bold\">1000.0</span><span style=\"color: #008000; text-decoration-color: #008000\"> steps.</span>\n",
       "</pre>\n"
      ],
      "text/plain": [
       "\u001b[32mWarning: trajectory cut off when rollout by epoch at \u001b[0m\u001b[1;36m1000.0\u001b[0m\u001b[32m steps.\u001b[0m\n"
      ]
     },
     "metadata": {},
     "output_type": "display_data"
    },
    {
     "data": {
      "text/html": [
       "<pre style=\"white-space:pre;overflow-x:auto;line-height:normal;font-family:Menlo,'DejaVu Sans Mono',consolas,'Courier New',monospace\"><span style=\"color: #008000; text-decoration-color: #008000\">Warning: trajectory cut off when rollout by epoch at </span><span style=\"color: #008080; text-decoration-color: #008080; font-weight: bold\">1000.0</span><span style=\"color: #008000; text-decoration-color: #008000\"> steps.</span>\n",
       "</pre>\n"
      ],
      "text/plain": [
       "\u001b[32mWarning: trajectory cut off when rollout by epoch at \u001b[0m\u001b[1;36m1000.0\u001b[0m\u001b[32m steps.\u001b[0m\n"
      ]
     },
     "metadata": {},
     "output_type": "display_data"
    },
    {
     "data": {
      "text/html": [
       "<pre style=\"white-space:pre;overflow-x:auto;line-height:normal;font-family:Menlo,'DejaVu Sans Mono',consolas,'Courier New',monospace\"><span style=\"color: #008000; text-decoration-color: #008000\">Warning: trajectory cut off when rollout by epoch at </span><span style=\"color: #008080; text-decoration-color: #008080; font-weight: bold\">1000.0</span><span style=\"color: #008000; text-decoration-color: #008000\"> steps.</span>\n",
       "</pre>\n"
      ],
      "text/plain": [
       "\u001b[32mWarning: trajectory cut off when rollout by epoch at \u001b[0m\u001b[1;36m1000.0\u001b[0m\u001b[32m steps.\u001b[0m\n"
      ]
     },
     "metadata": {},
     "output_type": "display_data"
    },
    {
     "data": {
      "text/html": [
       "<pre style=\"white-space:pre;overflow-x:auto;line-height:normal;font-family:Menlo,'DejaVu Sans Mono',consolas,'Courier New',monospace\"><span style=\"color: #008000; text-decoration-color: #008000\">Warning: trajectory cut off when rollout by epoch at </span><span style=\"color: #008080; text-decoration-color: #008080; font-weight: bold\">1000.0</span><span style=\"color: #008000; text-decoration-color: #008000\"> steps.</span>\n",
       "</pre>\n"
      ],
      "text/plain": [
       "\u001b[32mWarning: trajectory cut off when rollout by epoch at \u001b[0m\u001b[1;36m1000.0\u001b[0m\u001b[32m steps.\u001b[0m\n"
      ]
     },
     "metadata": {},
     "output_type": "display_data"
    },
    {
     "data": {
      "text/html": [
       "<pre style=\"white-space:pre;overflow-x:auto;line-height:normal;font-family:Menlo,'DejaVu Sans Mono',consolas,'Courier New',monospace\"></pre>\n"
      ],
      "text/plain": []
     },
     "metadata": {},
     "output_type": "display_data"
    },
    {
     "data": {
      "text/html": [
       "<pre style=\"white-space:pre;overflow-x:auto;line-height:normal;font-family:Menlo,'DejaVu Sans Mono',consolas,'Courier New',monospace\">\n",
       "</pre>\n"
      ],
      "text/plain": [
       "\n"
      ]
     },
     "metadata": {},
     "output_type": "display_data"
    },
    {
     "data": {
      "text/html": [
       "<pre style=\"white-space:pre;overflow-x:auto;line-height:normal;font-family:Menlo,'DejaVu Sans Mono',consolas,'Courier New',monospace\"><span style=\"color: #008000; text-decoration-color: #008000\">Early stopping at iter </span><span style=\"color: #008080; text-decoration-color: #008080; font-weight: bold\">26</span><span style=\"color: #008000; text-decoration-color: #008000\"> due to reaching max kl</span>\n",
       "</pre>\n"
      ],
      "text/plain": [
       "\u001b[32mEarly stopping at iter \u001b[0m\u001b[1;36m26\u001b[0m\u001b[32m due to reaching max kl\u001b[0m\n"
      ]
     },
     "metadata": {},
     "output_type": "display_data"
    },
    {
     "data": {
      "text/html": [
       "<pre style=\"white-space:pre;overflow-x:auto;line-height:normal;font-family:Menlo,'DejaVu Sans Mono',consolas,'Courier New',monospace\"></pre>\n"
      ],
      "text/plain": []
     },
     "metadata": {},
     "output_type": "display_data"
    },
    {
     "data": {
      "text/html": [
       "<pre style=\"white-space:pre;overflow-x:auto;line-height:normal;font-family:Menlo,'DejaVu Sans Mono',consolas,'Courier New',monospace\">\n",
       "</pre>\n"
      ],
      "text/plain": [
       "\n"
      ]
     },
     "metadata": {},
     "output_type": "display_data"
    },
    {
     "data": {
      "text/html": [
       "<pre style=\"white-space:pre;overflow-x:auto;line-height:normal;font-family:Menlo,'DejaVu Sans Mono',consolas,'Courier New',monospace\">┏━━━━━━━━━━━━━━━━━━━━━━━━━━━━━━━━┳━━━━━━━━━━━━━━━━━━━━━━━━┓\n",
       "┃<span style=\"font-weight: bold\"> Metrics                        </span>┃<span style=\"font-weight: bold\"> Value                  </span>┃\n",
       "┡━━━━━━━━━━━━━━━━━━━━━━━━━━━━━━━━╇━━━━━━━━━━━━━━━━━━━━━━━━┩\n",
       "│ Metrics/EpRet                  │ 8.87045955657959       │\n",
       "│ Metrics/EpCost                 │ 74.87999725341797      │\n",
       "│ Metrics/EpLen                  │ 1000.0                 │\n",
       "│ Train/Epoch                    │ 13.0                   │\n",
       "│ Train/Entropy                  │ 1.1616851091384888     │\n",
       "│ Train/KL                       │ 0.02116500586271286    │\n",
       "│ Train/StopIter                 │ 26.0                   │\n",
       "│ Train/PolicyRatio/Mean         │ 0.9993970990180969     │\n",
       "│ Train/PolicyRatio/Min          │ 0.9993970990180969     │\n",
       "│ Train/PolicyRatio/Max          │ 0.9993970990180969     │\n",
       "│ Train/PolicyRatio/Std          │ 0.02012975886464119    │\n",
       "│ Train/LR                       │ 0.00015999999595806003 │\n",
       "│ Train/PolicyStd                │ 0.7737602591514587     │\n",
       "│ TotalEnvSteps                  │ 280000.0               │\n",
       "│ Loss/Loss_pi                   │ -0.03436855971813202   │\n",
       "│ Loss/Loss_pi/Delta             │ 0.00011105462908744812 │\n",
       "│ Value/Adv                      │ 0.019170574843883514   │\n",
       "│ Loss/Loss_reward_critic        │ 0.017025591805577278   │\n",
       "│ Loss/Loss_reward_critic/Delta  │ 0.001934095285832882   │\n",
       "│ Value/reward                   │ 0.6050640344619751     │\n",
       "│ Loss/Loss_cost_critic          │ 1.3629835844039917     │\n",
       "│ Loss/Loss_cost_critic/Delta    │ -0.31549131870269775   │\n",
       "│ Value/cost                     │ 7.020411014556885      │\n",
       "│ Time/Total                     │ 2347.984375            │\n",
       "│ Time/Rollout                   │ 42.65452575683594      │\n",
       "│ Time/Update                    │ 121.8531494140625      │\n",
       "│ Time/Epoch                     │ 164.50767517089844     │\n",
       "│ Time/FPS                       │ 121.57487487792969     │\n",
       "│ Metrics/LagrangeMultiplier/Mea │ 0.4553028345108032     │\n",
       "│ Metrics/LagrangeMultiplier/Min │ 0.4553028345108032     │\n",
       "│ Metrics/LagrangeMultiplier/Max │ 0.4553028345108032     │\n",
       "│ Metrics/LagrangeMultiplier/Std │ 0.0                    │\n",
       "└────────────────────────────────┴────────────────────────┘\n",
       "</pre>\n"
      ],
      "text/plain": [
       "┏━━━━━━━━━━━━━━━━━━━━━━━━━━━━━━━━┳━━━━━━━━━━━━━━━━━━━━━━━━┓\n",
       "┃\u001b[1m \u001b[0m\u001b[1mMetrics                       \u001b[0m\u001b[1m \u001b[0m┃\u001b[1m \u001b[0m\u001b[1mValue                 \u001b[0m\u001b[1m \u001b[0m┃\n",
       "┡━━━━━━━━━━━━━━━━━━━━━━━━━━━━━━━━╇━━━━━━━━━━━━━━━━━━━━━━━━┩\n",
       "│ Metrics/EpRet                  │ 8.87045955657959       │\n",
       "│ Metrics/EpCost                 │ 74.87999725341797      │\n",
       "│ Metrics/EpLen                  │ 1000.0                 │\n",
       "│ Train/Epoch                    │ 13.0                   │\n",
       "│ Train/Entropy                  │ 1.1616851091384888     │\n",
       "│ Train/KL                       │ 0.02116500586271286    │\n",
       "│ Train/StopIter                 │ 26.0                   │\n",
       "│ Train/PolicyRatio/Mean         │ 0.9993970990180969     │\n",
       "│ Train/PolicyRatio/Min          │ 0.9993970990180969     │\n",
       "│ Train/PolicyRatio/Max          │ 0.9993970990180969     │\n",
       "│ Train/PolicyRatio/Std          │ 0.02012975886464119    │\n",
       "│ Train/LR                       │ 0.00015999999595806003 │\n",
       "│ Train/PolicyStd                │ 0.7737602591514587     │\n",
       "│ TotalEnvSteps                  │ 280000.0               │\n",
       "│ Loss/Loss_pi                   │ -0.03436855971813202   │\n",
       "│ Loss/Loss_pi/Delta             │ 0.00011105462908744812 │\n",
       "│ Value/Adv                      │ 0.019170574843883514   │\n",
       "│ Loss/Loss_reward_critic        │ 0.017025591805577278   │\n",
       "│ Loss/Loss_reward_critic/Delta  │ 0.001934095285832882   │\n",
       "│ Value/reward                   │ 0.6050640344619751     │\n",
       "│ Loss/Loss_cost_critic          │ 1.3629835844039917     │\n",
       "│ Loss/Loss_cost_critic/Delta    │ -0.31549131870269775   │\n",
       "│ Value/cost                     │ 7.020411014556885      │\n",
       "│ Time/Total                     │ 2347.984375            │\n",
       "│ Time/Rollout                   │ 42.65452575683594      │\n",
       "│ Time/Update                    │ 121.8531494140625      │\n",
       "│ Time/Epoch                     │ 164.50767517089844     │\n",
       "│ Time/FPS                       │ 121.57487487792969     │\n",
       "│ Metrics/LagrangeMultiplier/Mea │ 0.4553028345108032     │\n",
       "│ Metrics/LagrangeMultiplier/Min │ 0.4553028345108032     │\n",
       "│ Metrics/LagrangeMultiplier/Max │ 0.4553028345108032     │\n",
       "│ Metrics/LagrangeMultiplier/Std │ 0.0                    │\n",
       "└────────────────────────────────┴────────────────────────┘\n"
      ]
     },
     "metadata": {},
     "output_type": "display_data"
    },
    {
     "data": {
      "text/html": [
       "<pre style=\"white-space:pre;overflow-x:auto;line-height:normal;font-family:Menlo,'DejaVu Sans Mono',consolas,'Courier New',monospace\"><span style=\"color: #008000; text-decoration-color: #008000\">Warning: trajectory cut off when rollout by epoch at </span><span style=\"color: #008080; text-decoration-color: #008080; font-weight: bold\">1000.0</span><span style=\"color: #008000; text-decoration-color: #008000\"> steps.</span>\n",
       "</pre>\n"
      ],
      "text/plain": [
       "\u001b[32mWarning: trajectory cut off when rollout by epoch at \u001b[0m\u001b[1;36m1000.0\u001b[0m\u001b[32m steps.\u001b[0m\n"
      ]
     },
     "metadata": {},
     "output_type": "display_data"
    },
    {
     "data": {
      "text/html": [
       "<pre style=\"white-space:pre;overflow-x:auto;line-height:normal;font-family:Menlo,'DejaVu Sans Mono',consolas,'Courier New',monospace\"><span style=\"color: #008000; text-decoration-color: #008000\">Warning: trajectory cut off when rollout by epoch at </span><span style=\"color: #008080; text-decoration-color: #008080; font-weight: bold\">1000.0</span><span style=\"color: #008000; text-decoration-color: #008000\"> steps.</span>\n",
       "</pre>\n"
      ],
      "text/plain": [
       "\u001b[32mWarning: trajectory cut off when rollout by epoch at \u001b[0m\u001b[1;36m1000.0\u001b[0m\u001b[32m steps.\u001b[0m\n"
      ]
     },
     "metadata": {},
     "output_type": "display_data"
    },
    {
     "data": {
      "text/html": [
       "<pre style=\"white-space:pre;overflow-x:auto;line-height:normal;font-family:Menlo,'DejaVu Sans Mono',consolas,'Courier New',monospace\"><span style=\"color: #008000; text-decoration-color: #008000\">Warning: trajectory cut off when rollout by epoch at </span><span style=\"color: #008080; text-decoration-color: #008080; font-weight: bold\">1000.0</span><span style=\"color: #008000; text-decoration-color: #008000\"> steps.</span>\n",
       "</pre>\n"
      ],
      "text/plain": [
       "\u001b[32mWarning: trajectory cut off when rollout by epoch at \u001b[0m\u001b[1;36m1000.0\u001b[0m\u001b[32m steps.\u001b[0m\n"
      ]
     },
     "metadata": {},
     "output_type": "display_data"
    },
    {
     "data": {
      "text/html": [
       "<pre style=\"white-space:pre;overflow-x:auto;line-height:normal;font-family:Menlo,'DejaVu Sans Mono',consolas,'Courier New',monospace\"><span style=\"color: #008000; text-decoration-color: #008000\">Warning: trajectory cut off when rollout by epoch at </span><span style=\"color: #008080; text-decoration-color: #008080; font-weight: bold\">1000.0</span><span style=\"color: #008000; text-decoration-color: #008000\"> steps.</span>\n",
       "</pre>\n"
      ],
      "text/plain": [
       "\u001b[32mWarning: trajectory cut off when rollout by epoch at \u001b[0m\u001b[1;36m1000.0\u001b[0m\u001b[32m steps.\u001b[0m\n"
      ]
     },
     "metadata": {},
     "output_type": "display_data"
    },
    {
     "data": {
      "text/html": [
       "<pre style=\"white-space:pre;overflow-x:auto;line-height:normal;font-family:Menlo,'DejaVu Sans Mono',consolas,'Courier New',monospace\"></pre>\n"
      ],
      "text/plain": []
     },
     "metadata": {},
     "output_type": "display_data"
    },
    {
     "data": {
      "text/html": [
       "<pre style=\"white-space:pre;overflow-x:auto;line-height:normal;font-family:Menlo,'DejaVu Sans Mono',consolas,'Courier New',monospace\">\n",
       "</pre>\n"
      ],
      "text/plain": [
       "\n"
      ]
     },
     "metadata": {},
     "output_type": "display_data"
    },
    {
     "data": {
      "text/html": [
       "<pre style=\"white-space:pre;overflow-x:auto;line-height:normal;font-family:Menlo,'DejaVu Sans Mono',consolas,'Courier New',monospace\"><span style=\"color: #008000; text-decoration-color: #008000\">Early stopping at iter </span><span style=\"color: #008080; text-decoration-color: #008080; font-weight: bold\">26</span><span style=\"color: #008000; text-decoration-color: #008000\"> due to reaching max kl</span>\n",
       "</pre>\n"
      ],
      "text/plain": [
       "\u001b[32mEarly stopping at iter \u001b[0m\u001b[1;36m26\u001b[0m\u001b[32m due to reaching max kl\u001b[0m\n"
      ]
     },
     "metadata": {},
     "output_type": "display_data"
    },
    {
     "data": {
      "text/html": [
       "<pre style=\"white-space:pre;overflow-x:auto;line-height:normal;font-family:Menlo,'DejaVu Sans Mono',consolas,'Courier New',monospace\"></pre>\n"
      ],
      "text/plain": []
     },
     "metadata": {},
     "output_type": "display_data"
    },
    {
     "data": {
      "text/html": [
       "<pre style=\"white-space:pre;overflow-x:auto;line-height:normal;font-family:Menlo,'DejaVu Sans Mono',consolas,'Courier New',monospace\">\n",
       "</pre>\n"
      ],
      "text/plain": [
       "\n"
      ]
     },
     "metadata": {},
     "output_type": "display_data"
    },
    {
     "data": {
      "text/html": [
       "<pre style=\"white-space:pre;overflow-x:auto;line-height:normal;font-family:Menlo,'DejaVu Sans Mono',consolas,'Courier New',monospace\">┏━━━━━━━━━━━━━━━━━━━━━━━━━━━━━━━━┳━━━━━━━━━━━━━━━━━━━━━━━━┓\n",
       "┃<span style=\"font-weight: bold\"> Metrics                        </span>┃<span style=\"font-weight: bold\"> Value                  </span>┃\n",
       "┡━━━━━━━━━━━━━━━━━━━━━━━━━━━━━━━━╇━━━━━━━━━━━━━━━━━━━━━━━━┩\n",
       "│ Metrics/EpRet                  │ 9.630099296569824      │\n",
       "│ Metrics/EpCost                 │ 58.119998931884766     │\n",
       "│ Metrics/EpLen                  │ 1000.0                 │\n",
       "│ Train/Epoch                    │ 14.0                   │\n",
       "│ Train/Entropy                  │ 1.1420561075210571     │\n",
       "│ Train/KL                       │ 0.020295891910791397   │\n",
       "│ Train/StopIter                 │ 26.0                   │\n",
       "│ Train/PolicyRatio/Mean         │ 1.0024441480636597     │\n",
       "│ Train/PolicyRatio/Min          │ 1.0024441480636597     │\n",
       "│ Train/PolicyRatio/Max          │ 1.0024441480636597     │\n",
       "│ Train/PolicyRatio/Std          │ 0.019805943593382835   │\n",
       "│ Train/LR                       │ 0.0001500000071246177  │\n",
       "│ Train/PolicyStd                │ 0.7588176131248474     │\n",
       "│ TotalEnvSteps                  │ 300000.0               │\n",
       "│ Loss/Loss_pi                   │ -0.034421928226947784  │\n",
       "│ Loss/Loss_pi/Delta             │ -5.336850881576538e-05 │\n",
       "│ Value/Adv                      │ -0.10216660797595978   │\n",
       "│ Loss/Loss_reward_critic        │ 0.016295326873660088   │\n",
       "│ Loss/Loss_reward_critic/Delta  │ -0.0007302649319171906 │\n",
       "│ Value/reward                   │ 0.6922169327735901     │\n",
       "│ Loss/Loss_cost_critic          │ 1.377074122428894      │\n",
       "│ Loss/Loss_cost_critic/Delta    │ 0.014090538024902344   │\n",
       "│ Value/cost                     │ 6.688960075378418      │\n",
       "│ Time/Total                     │ 2516.752197265625      │\n",
       "│ Time/Rollout                   │ 44.1826286315918       │\n",
       "│ Time/Update                    │ 124.55111694335938     │\n",
       "│ Time/Epoch                     │ 168.73374938964844     │\n",
       "│ Time/FPS                       │ 118.52993774414062     │\n",
       "│ Metrics/LagrangeMultiplier/Mea │ 0.4864957630634308     │\n",
       "│ Metrics/LagrangeMultiplier/Min │ 0.4864957630634308     │\n",
       "│ Metrics/LagrangeMultiplier/Max │ 0.4864957630634308     │\n",
       "│ Metrics/LagrangeMultiplier/Std │ 0.0                    │\n",
       "└────────────────────────────────┴────────────────────────┘\n",
       "</pre>\n"
      ],
      "text/plain": [
       "┏━━━━━━━━━━━━━━━━━━━━━━━━━━━━━━━━┳━━━━━━━━━━━━━━━━━━━━━━━━┓\n",
       "┃\u001b[1m \u001b[0m\u001b[1mMetrics                       \u001b[0m\u001b[1m \u001b[0m┃\u001b[1m \u001b[0m\u001b[1mValue                 \u001b[0m\u001b[1m \u001b[0m┃\n",
       "┡━━━━━━━━━━━━━━━━━━━━━━━━━━━━━━━━╇━━━━━━━━━━━━━━━━━━━━━━━━┩\n",
       "│ Metrics/EpRet                  │ 9.630099296569824      │\n",
       "│ Metrics/EpCost                 │ 58.119998931884766     │\n",
       "│ Metrics/EpLen                  │ 1000.0                 │\n",
       "│ Train/Epoch                    │ 14.0                   │\n",
       "│ Train/Entropy                  │ 1.1420561075210571     │\n",
       "│ Train/KL                       │ 0.020295891910791397   │\n",
       "│ Train/StopIter                 │ 26.0                   │\n",
       "│ Train/PolicyRatio/Mean         │ 1.0024441480636597     │\n",
       "│ Train/PolicyRatio/Min          │ 1.0024441480636597     │\n",
       "│ Train/PolicyRatio/Max          │ 1.0024441480636597     │\n",
       "│ Train/PolicyRatio/Std          │ 0.019805943593382835   │\n",
       "│ Train/LR                       │ 0.0001500000071246177  │\n",
       "│ Train/PolicyStd                │ 0.7588176131248474     │\n",
       "│ TotalEnvSteps                  │ 300000.0               │\n",
       "│ Loss/Loss_pi                   │ -0.034421928226947784  │\n",
       "│ Loss/Loss_pi/Delta             │ -5.336850881576538e-05 │\n",
       "│ Value/Adv                      │ -0.10216660797595978   │\n",
       "│ Loss/Loss_reward_critic        │ 0.016295326873660088   │\n",
       "│ Loss/Loss_reward_critic/Delta  │ -0.0007302649319171906 │\n",
       "│ Value/reward                   │ 0.6922169327735901     │\n",
       "│ Loss/Loss_cost_critic          │ 1.377074122428894      │\n",
       "│ Loss/Loss_cost_critic/Delta    │ 0.014090538024902344   │\n",
       "│ Value/cost                     │ 6.688960075378418      │\n",
       "│ Time/Total                     │ 2516.752197265625      │\n",
       "│ Time/Rollout                   │ 44.1826286315918       │\n",
       "│ Time/Update                    │ 124.55111694335938     │\n",
       "│ Time/Epoch                     │ 168.73374938964844     │\n",
       "│ Time/FPS                       │ 118.52993774414062     │\n",
       "│ Metrics/LagrangeMultiplier/Mea │ 0.4864957630634308     │\n",
       "│ Metrics/LagrangeMultiplier/Min │ 0.4864957630634308     │\n",
       "│ Metrics/LagrangeMultiplier/Max │ 0.4864957630634308     │\n",
       "│ Metrics/LagrangeMultiplier/Std │ 0.0                    │\n",
       "└────────────────────────────────┴────────────────────────┘\n"
      ]
     },
     "metadata": {},
     "output_type": "display_data"
    },
    {
     "data": {
      "text/html": [
       "<pre style=\"white-space:pre;overflow-x:auto;line-height:normal;font-family:Menlo,'DejaVu Sans Mono',consolas,'Courier New',monospace\"><span style=\"color: #008000; text-decoration-color: #008000\">Warning: trajectory cut off when rollout by epoch at </span><span style=\"color: #008080; text-decoration-color: #008080; font-weight: bold\">1000.0</span><span style=\"color: #008000; text-decoration-color: #008000\"> steps.</span>\n",
       "</pre>\n"
      ],
      "text/plain": [
       "\u001b[32mWarning: trajectory cut off when rollout by epoch at \u001b[0m\u001b[1;36m1000.0\u001b[0m\u001b[32m steps.\u001b[0m\n"
      ]
     },
     "metadata": {},
     "output_type": "display_data"
    },
    {
     "data": {
      "text/html": [
       "<pre style=\"white-space:pre;overflow-x:auto;line-height:normal;font-family:Menlo,'DejaVu Sans Mono',consolas,'Courier New',monospace\"><span style=\"color: #008000; text-decoration-color: #008000\">Warning: trajectory cut off when rollout by epoch at </span><span style=\"color: #008080; text-decoration-color: #008080; font-weight: bold\">1000.0</span><span style=\"color: #008000; text-decoration-color: #008000\"> steps.</span>\n",
       "</pre>\n"
      ],
      "text/plain": [
       "\u001b[32mWarning: trajectory cut off when rollout by epoch at \u001b[0m\u001b[1;36m1000.0\u001b[0m\u001b[32m steps.\u001b[0m\n"
      ]
     },
     "metadata": {},
     "output_type": "display_data"
    },
    {
     "data": {
      "text/html": [
       "<pre style=\"white-space:pre;overflow-x:auto;line-height:normal;font-family:Menlo,'DejaVu Sans Mono',consolas,'Courier New',monospace\"><span style=\"color: #008000; text-decoration-color: #008000\">Warning: trajectory cut off when rollout by epoch at </span><span style=\"color: #008080; text-decoration-color: #008080; font-weight: bold\">1000.0</span><span style=\"color: #008000; text-decoration-color: #008000\"> steps.</span>\n",
       "</pre>\n"
      ],
      "text/plain": [
       "\u001b[32mWarning: trajectory cut off when rollout by epoch at \u001b[0m\u001b[1;36m1000.0\u001b[0m\u001b[32m steps.\u001b[0m\n"
      ]
     },
     "metadata": {},
     "output_type": "display_data"
    },
    {
     "data": {
      "text/html": [
       "<pre style=\"white-space:pre;overflow-x:auto;line-height:normal;font-family:Menlo,'DejaVu Sans Mono',consolas,'Courier New',monospace\"><span style=\"color: #008000; text-decoration-color: #008000\">Warning: trajectory cut off when rollout by epoch at </span><span style=\"color: #008080; text-decoration-color: #008080; font-weight: bold\">1000.0</span><span style=\"color: #008000; text-decoration-color: #008000\"> steps.</span>\n",
       "</pre>\n"
      ],
      "text/plain": [
       "\u001b[32mWarning: trajectory cut off when rollout by epoch at \u001b[0m\u001b[1;36m1000.0\u001b[0m\u001b[32m steps.\u001b[0m\n"
      ]
     },
     "metadata": {},
     "output_type": "display_data"
    },
    {
     "data": {
      "text/html": [
       "<pre style=\"white-space:pre;overflow-x:auto;line-height:normal;font-family:Menlo,'DejaVu Sans Mono',consolas,'Courier New',monospace\"></pre>\n"
      ],
      "text/plain": []
     },
     "metadata": {},
     "output_type": "display_data"
    },
    {
     "data": {
      "text/html": [
       "<pre style=\"white-space:pre;overflow-x:auto;line-height:normal;font-family:Menlo,'DejaVu Sans Mono',consolas,'Courier New',monospace\">\n",
       "</pre>\n"
      ],
      "text/plain": [
       "\n"
      ]
     },
     "metadata": {},
     "output_type": "display_data"
    },
    {
     "data": {
      "text/html": [
       "<pre style=\"white-space:pre;overflow-x:auto;line-height:normal;font-family:Menlo,'DejaVu Sans Mono',consolas,'Courier New',monospace\"><span style=\"color: #008000; text-decoration-color: #008000\">Early stopping at iter </span><span style=\"color: #008080; text-decoration-color: #008080; font-weight: bold\">28</span><span style=\"color: #008000; text-decoration-color: #008000\"> due to reaching max kl</span>\n",
       "</pre>\n"
      ],
      "text/plain": [
       "\u001b[32mEarly stopping at iter \u001b[0m\u001b[1;36m28\u001b[0m\u001b[32m due to reaching max kl\u001b[0m\n"
      ]
     },
     "metadata": {},
     "output_type": "display_data"
    },
    {
     "data": {
      "text/html": [
       "<pre style=\"white-space:pre;overflow-x:auto;line-height:normal;font-family:Menlo,'DejaVu Sans Mono',consolas,'Courier New',monospace\"></pre>\n"
      ],
      "text/plain": []
     },
     "metadata": {},
     "output_type": "display_data"
    },
    {
     "data": {
      "text/html": [
       "<pre style=\"white-space:pre;overflow-x:auto;line-height:normal;font-family:Menlo,'DejaVu Sans Mono',consolas,'Courier New',monospace\">\n",
       "</pre>\n"
      ],
      "text/plain": [
       "\n"
      ]
     },
     "metadata": {},
     "output_type": "display_data"
    },
    {
     "data": {
      "text/html": [
       "<pre style=\"white-space:pre;overflow-x:auto;line-height:normal;font-family:Menlo,'DejaVu Sans Mono',consolas,'Courier New',monospace\">┏━━━━━━━━━━━━━━━━━━━━━━━━━━━━━━━━┳━━━━━━━━━━━━━━━━━━━━━━━━┓\n",
       "┃<span style=\"font-weight: bold\"> Metrics                        </span>┃<span style=\"font-weight: bold\"> Value                  </span>┃\n",
       "┡━━━━━━━━━━━━━━━━━━━━━━━━━━━━━━━━╇━━━━━━━━━━━━━━━━━━━━━━━━┩\n",
       "│ Metrics/EpRet                  │ 10.417585372924805     │\n",
       "│ Metrics/EpCost                 │ 56.68000030517578      │\n",
       "│ Metrics/EpLen                  │ 1000.0                 │\n",
       "│ Train/Epoch                    │ 15.0                   │\n",
       "│ Train/Entropy                  │ 1.13167142868042       │\n",
       "│ Train/KL                       │ 0.020586175844073296   │\n",
       "│ Train/StopIter                 │ 28.0                   │\n",
       "│ Train/PolicyRatio/Mean         │ 0.9984080195426941     │\n",
       "│ Train/PolicyRatio/Min          │ 0.9984079599380493     │\n",
       "│ Train/PolicyRatio/Max          │ 0.9984079599380493     │\n",
       "│ Train/PolicyRatio/Std          │ 0.020201388746500015   │\n",
       "│ Train/LR                       │ 0.00014000000373926014 │\n",
       "│ Train/PolicyStd                │ 0.750952959060669      │\n",
       "│ TotalEnvSteps                  │ 320000.0               │\n",
       "│ Loss/Loss_pi                   │ -0.03804340586066246   │\n",
       "│ Loss/Loss_pi/Delta             │ -0.003621477633714676  │\n",
       "│ Value/Adv                      │ 0.14843183755874634    │\n",
       "│ Loss/Loss_reward_critic        │ 0.017647001892328262   │\n",
       "│ Loss/Loss_reward_critic/Delta  │ 0.0013516750186681747  │\n",
       "│ Value/reward                   │ 0.7516000866889954     │\n",
       "│ Loss/Loss_cost_critic          │ 1.116248369216919      │\n",
       "│ Loss/Loss_cost_critic/Delta    │ -0.2608257532119751    │\n",
       "│ Value/cost                     │ 7.410182952880859      │\n",
       "│ Time/Total                     │ 2694.643798828125      │\n",
       "│ Time/Rollout                   │ 41.93743133544922      │\n",
       "│ Time/Update                    │ 135.92117309570312     │\n",
       "│ Time/Epoch                     │ 177.85861206054688     │\n",
       "│ Time/FPS                       │ 112.44886779785156     │\n",
       "│ Metrics/LagrangeMultiplier/Mea │ 0.5170430541038513     │\n",
       "│ Metrics/LagrangeMultiplier/Min │ 0.5170430541038513     │\n",
       "│ Metrics/LagrangeMultiplier/Max │ 0.5170430541038513     │\n",
       "│ Metrics/LagrangeMultiplier/Std │ 0.0                    │\n",
       "└────────────────────────────────┴────────────────────────┘\n",
       "</pre>\n"
      ],
      "text/plain": [
       "┏━━━━━━━━━━━━━━━━━━━━━━━━━━━━━━━━┳━━━━━━━━━━━━━━━━━━━━━━━━┓\n",
       "┃\u001b[1m \u001b[0m\u001b[1mMetrics                       \u001b[0m\u001b[1m \u001b[0m┃\u001b[1m \u001b[0m\u001b[1mValue                 \u001b[0m\u001b[1m \u001b[0m┃\n",
       "┡━━━━━━━━━━━━━━━━━━━━━━━━━━━━━━━━╇━━━━━━━━━━━━━━━━━━━━━━━━┩\n",
       "│ Metrics/EpRet                  │ 10.417585372924805     │\n",
       "│ Metrics/EpCost                 │ 56.68000030517578      │\n",
       "│ Metrics/EpLen                  │ 1000.0                 │\n",
       "│ Train/Epoch                    │ 15.0                   │\n",
       "│ Train/Entropy                  │ 1.13167142868042       │\n",
       "│ Train/KL                       │ 0.020586175844073296   │\n",
       "│ Train/StopIter                 │ 28.0                   │\n",
       "│ Train/PolicyRatio/Mean         │ 0.9984080195426941     │\n",
       "│ Train/PolicyRatio/Min          │ 0.9984079599380493     │\n",
       "│ Train/PolicyRatio/Max          │ 0.9984079599380493     │\n",
       "│ Train/PolicyRatio/Std          │ 0.020201388746500015   │\n",
       "│ Train/LR                       │ 0.00014000000373926014 │\n",
       "│ Train/PolicyStd                │ 0.750952959060669      │\n",
       "│ TotalEnvSteps                  │ 320000.0               │\n",
       "│ Loss/Loss_pi                   │ -0.03804340586066246   │\n",
       "│ Loss/Loss_pi/Delta             │ -0.003621477633714676  │\n",
       "│ Value/Adv                      │ 0.14843183755874634    │\n",
       "│ Loss/Loss_reward_critic        │ 0.017647001892328262   │\n",
       "│ Loss/Loss_reward_critic/Delta  │ 0.0013516750186681747  │\n",
       "│ Value/reward                   │ 0.7516000866889954     │\n",
       "│ Loss/Loss_cost_critic          │ 1.116248369216919      │\n",
       "│ Loss/Loss_cost_critic/Delta    │ -0.2608257532119751    │\n",
       "│ Value/cost                     │ 7.410182952880859      │\n",
       "│ Time/Total                     │ 2694.643798828125      │\n",
       "│ Time/Rollout                   │ 41.93743133544922      │\n",
       "│ Time/Update                    │ 135.92117309570312     │\n",
       "│ Time/Epoch                     │ 177.85861206054688     │\n",
       "│ Time/FPS                       │ 112.44886779785156     │\n",
       "│ Metrics/LagrangeMultiplier/Mea │ 0.5170430541038513     │\n",
       "│ Metrics/LagrangeMultiplier/Min │ 0.5170430541038513     │\n",
       "│ Metrics/LagrangeMultiplier/Max │ 0.5170430541038513     │\n",
       "│ Metrics/LagrangeMultiplier/Std │ 0.0                    │\n",
       "└────────────────────────────────┴────────────────────────┘\n"
      ]
     },
     "metadata": {},
     "output_type": "display_data"
    },
    {
     "data": {
      "text/html": [
       "<pre style=\"white-space:pre;overflow-x:auto;line-height:normal;font-family:Menlo,'DejaVu Sans Mono',consolas,'Courier New',monospace\"><span style=\"color: #008000; text-decoration-color: #008000\">Warning: trajectory cut off when rollout by epoch at </span><span style=\"color: #008080; text-decoration-color: #008080; font-weight: bold\">1000.0</span><span style=\"color: #008000; text-decoration-color: #008000\"> steps.</span>\n",
       "</pre>\n"
      ],
      "text/plain": [
       "\u001b[32mWarning: trajectory cut off when rollout by epoch at \u001b[0m\u001b[1;36m1000.0\u001b[0m\u001b[32m steps.\u001b[0m\n"
      ]
     },
     "metadata": {},
     "output_type": "display_data"
    },
    {
     "data": {
      "text/html": [
       "<pre style=\"white-space:pre;overflow-x:auto;line-height:normal;font-family:Menlo,'DejaVu Sans Mono',consolas,'Courier New',monospace\"><span style=\"color: #008000; text-decoration-color: #008000\">Warning: trajectory cut off when rollout by epoch at </span><span style=\"color: #008080; text-decoration-color: #008080; font-weight: bold\">1000.0</span><span style=\"color: #008000; text-decoration-color: #008000\"> steps.</span>\n",
       "</pre>\n"
      ],
      "text/plain": [
       "\u001b[32mWarning: trajectory cut off when rollout by epoch at \u001b[0m\u001b[1;36m1000.0\u001b[0m\u001b[32m steps.\u001b[0m\n"
      ]
     },
     "metadata": {},
     "output_type": "display_data"
    },
    {
     "data": {
      "text/html": [
       "<pre style=\"white-space:pre;overflow-x:auto;line-height:normal;font-family:Menlo,'DejaVu Sans Mono',consolas,'Courier New',monospace\"><span style=\"color: #008000; text-decoration-color: #008000\">Warning: trajectory cut off when rollout by epoch at </span><span style=\"color: #008080; text-decoration-color: #008080; font-weight: bold\">1000.0</span><span style=\"color: #008000; text-decoration-color: #008000\"> steps.</span>\n",
       "</pre>\n"
      ],
      "text/plain": [
       "\u001b[32mWarning: trajectory cut off when rollout by epoch at \u001b[0m\u001b[1;36m1000.0\u001b[0m\u001b[32m steps.\u001b[0m\n"
      ]
     },
     "metadata": {},
     "output_type": "display_data"
    },
    {
     "data": {
      "text/html": [
       "<pre style=\"white-space:pre;overflow-x:auto;line-height:normal;font-family:Menlo,'DejaVu Sans Mono',consolas,'Courier New',monospace\"><span style=\"color: #008000; text-decoration-color: #008000\">Warning: trajectory cut off when rollout by epoch at </span><span style=\"color: #008080; text-decoration-color: #008080; font-weight: bold\">1000.0</span><span style=\"color: #008000; text-decoration-color: #008000\"> steps.</span>\n",
       "</pre>\n"
      ],
      "text/plain": [
       "\u001b[32mWarning: trajectory cut off when rollout by epoch at \u001b[0m\u001b[1;36m1000.0\u001b[0m\u001b[32m steps.\u001b[0m\n"
      ]
     },
     "metadata": {},
     "output_type": "display_data"
    },
    {
     "data": {
      "text/html": [
       "<pre style=\"white-space:pre;overflow-x:auto;line-height:normal;font-family:Menlo,'DejaVu Sans Mono',consolas,'Courier New',monospace\"></pre>\n"
      ],
      "text/plain": []
     },
     "metadata": {},
     "output_type": "display_data"
    },
    {
     "data": {
      "text/html": [
       "<pre style=\"white-space:pre;overflow-x:auto;line-height:normal;font-family:Menlo,'DejaVu Sans Mono',consolas,'Courier New',monospace\">\n",
       "</pre>\n"
      ],
      "text/plain": [
       "\n"
      ]
     },
     "metadata": {},
     "output_type": "display_data"
    },
    {
     "data": {
      "text/html": [
       "<pre style=\"white-space:pre;overflow-x:auto;line-height:normal;font-family:Menlo,'DejaVu Sans Mono',consolas,'Courier New',monospace\"><span style=\"color: #008000; text-decoration-color: #008000\">Early stopping at iter </span><span style=\"color: #008080; text-decoration-color: #008080; font-weight: bold\">30</span><span style=\"color: #008000; text-decoration-color: #008000\"> due to reaching max kl</span>\n",
       "</pre>\n"
      ],
      "text/plain": [
       "\u001b[32mEarly stopping at iter \u001b[0m\u001b[1;36m30\u001b[0m\u001b[32m due to reaching max kl\u001b[0m\n"
      ]
     },
     "metadata": {},
     "output_type": "display_data"
    },
    {
     "data": {
      "text/html": [
       "<pre style=\"white-space:pre;overflow-x:auto;line-height:normal;font-family:Menlo,'DejaVu Sans Mono',consolas,'Courier New',monospace\"></pre>\n"
      ],
      "text/plain": []
     },
     "metadata": {},
     "output_type": "display_data"
    },
    {
     "data": {
      "text/html": [
       "<pre style=\"white-space:pre;overflow-x:auto;line-height:normal;font-family:Menlo,'DejaVu Sans Mono',consolas,'Courier New',monospace\">\n",
       "</pre>\n"
      ],
      "text/plain": [
       "\n"
      ]
     },
     "metadata": {},
     "output_type": "display_data"
    },
    {
     "data": {
      "text/html": [
       "<pre style=\"white-space:pre;overflow-x:auto;line-height:normal;font-family:Menlo,'DejaVu Sans Mono',consolas,'Courier New',monospace\">┏━━━━━━━━━━━━━━━━━━━━━━━━━━━━━━━━┳━━━━━━━━━━━━━━━━━━━━━━━━┓\n",
       "┃<span style=\"font-weight: bold\"> Metrics                        </span>┃<span style=\"font-weight: bold\"> Value                  </span>┃\n",
       "┡━━━━━━━━━━━━━━━━━━━━━━━━━━━━━━━━╇━━━━━━━━━━━━━━━━━━━━━━━━┩\n",
       "│ Metrics/EpRet                  │ 10.333110809326172     │\n",
       "│ Metrics/EpCost                 │ 63.119998931884766     │\n",
       "│ Metrics/EpLen                  │ 1000.0                 │\n",
       "│ Train/Epoch                    │ 16.0                   │\n",
       "│ Train/Entropy                  │ 1.1205519437789917     │\n",
       "│ Train/KL                       │ 0.021595600992441177   │\n",
       "│ Train/StopIter                 │ 30.0                   │\n",
       "│ Train/PolicyRatio/Mean         │ 1.0005961656570435     │\n",
       "│ Train/PolicyRatio/Min          │ 1.0005961656570435     │\n",
       "│ Train/PolicyRatio/Max          │ 1.0005961656570435     │\n",
       "│ Train/PolicyRatio/Std          │ 0.020556801930069923   │\n",
       "│ Train/LR                       │ 0.00013000000035390258 │\n",
       "│ Train/PolicyStd                │ 0.7426059246063232     │\n",
       "│ TotalEnvSteps                  │ 340000.0               │\n",
       "│ Loss/Loss_pi                   │ -0.03694404661655426   │\n",
       "│ Loss/Loss_pi/Delta             │ 0.0010993592441082     │\n",
       "│ Value/Adv                      │ -0.04159839451313019   │\n",
       "│ Loss/Loss_reward_critic        │ 0.01611451618373394    │\n",
       "│ Loss/Loss_reward_critic/Delta  │ -0.0015324857085943222 │\n",
       "│ Value/reward                   │ 0.7336602807044983     │\n",
       "│ Loss/Loss_cost_critic          │ 1.1907312870025635     │\n",
       "│ Loss/Loss_cost_critic/Delta    │ 0.07448291778564453    │\n",
       "│ Value/cost                     │ 6.99071741104126       │\n",
       "│ Time/Total                     │ 2867.623291015625      │\n",
       "│ Time/Rollout                   │ 46.293861389160156     │\n",
       "│ Time/Update                    │ 126.64643859863281     │\n",
       "│ Time/Epoch                     │ 172.9403076171875      │\n",
       "│ Time/FPS                       │ 115.64684295654297     │\n",
       "│ Metrics/LagrangeMultiplier/Mea │ 0.547416090965271      │\n",
       "│ Metrics/LagrangeMultiplier/Min │ 0.547416090965271      │\n",
       "│ Metrics/LagrangeMultiplier/Max │ 0.547416090965271      │\n",
       "│ Metrics/LagrangeMultiplier/Std │ 0.0                    │\n",
       "└────────────────────────────────┴────────────────────────┘\n",
       "</pre>\n"
      ],
      "text/plain": [
       "┏━━━━━━━━━━━━━━━━━━━━━━━━━━━━━━━━┳━━━━━━━━━━━━━━━━━━━━━━━━┓\n",
       "┃\u001b[1m \u001b[0m\u001b[1mMetrics                       \u001b[0m\u001b[1m \u001b[0m┃\u001b[1m \u001b[0m\u001b[1mValue                 \u001b[0m\u001b[1m \u001b[0m┃\n",
       "┡━━━━━━━━━━━━━━━━━━━━━━━━━━━━━━━━╇━━━━━━━━━━━━━━━━━━━━━━━━┩\n",
       "│ Metrics/EpRet                  │ 10.333110809326172     │\n",
       "│ Metrics/EpCost                 │ 63.119998931884766     │\n",
       "│ Metrics/EpLen                  │ 1000.0                 │\n",
       "│ Train/Epoch                    │ 16.0                   │\n",
       "│ Train/Entropy                  │ 1.1205519437789917     │\n",
       "│ Train/KL                       │ 0.021595600992441177   │\n",
       "│ Train/StopIter                 │ 30.0                   │\n",
       "│ Train/PolicyRatio/Mean         │ 1.0005961656570435     │\n",
       "│ Train/PolicyRatio/Min          │ 1.0005961656570435     │\n",
       "│ Train/PolicyRatio/Max          │ 1.0005961656570435     │\n",
       "│ Train/PolicyRatio/Std          │ 0.020556801930069923   │\n",
       "│ Train/LR                       │ 0.00013000000035390258 │\n",
       "│ Train/PolicyStd                │ 0.7426059246063232     │\n",
       "│ TotalEnvSteps                  │ 340000.0               │\n",
       "│ Loss/Loss_pi                   │ -0.03694404661655426   │\n",
       "│ Loss/Loss_pi/Delta             │ 0.0010993592441082     │\n",
       "│ Value/Adv                      │ -0.04159839451313019   │\n",
       "│ Loss/Loss_reward_critic        │ 0.01611451618373394    │\n",
       "│ Loss/Loss_reward_critic/Delta  │ -0.0015324857085943222 │\n",
       "│ Value/reward                   │ 0.7336602807044983     │\n",
       "│ Loss/Loss_cost_critic          │ 1.1907312870025635     │\n",
       "│ Loss/Loss_cost_critic/Delta    │ 0.07448291778564453    │\n",
       "│ Value/cost                     │ 6.99071741104126       │\n",
       "│ Time/Total                     │ 2867.623291015625      │\n",
       "│ Time/Rollout                   │ 46.293861389160156     │\n",
       "│ Time/Update                    │ 126.64643859863281     │\n",
       "│ Time/Epoch                     │ 172.9403076171875      │\n",
       "│ Time/FPS                       │ 115.64684295654297     │\n",
       "│ Metrics/LagrangeMultiplier/Mea │ 0.547416090965271      │\n",
       "│ Metrics/LagrangeMultiplier/Min │ 0.547416090965271      │\n",
       "│ Metrics/LagrangeMultiplier/Max │ 0.547416090965271      │\n",
       "│ Metrics/LagrangeMultiplier/Std │ 0.0                    │\n",
       "└────────────────────────────────┴────────────────────────┘\n"
      ]
     },
     "metadata": {},
     "output_type": "display_data"
    },
    {
     "data": {
      "text/html": [
       "<pre style=\"white-space:pre;overflow-x:auto;line-height:normal;font-family:Menlo,'DejaVu Sans Mono',consolas,'Courier New',monospace\"><span style=\"color: #008000; text-decoration-color: #008000\">Warning: trajectory cut off when rollout by epoch at </span><span style=\"color: #008080; text-decoration-color: #008080; font-weight: bold\">1000.0</span><span style=\"color: #008000; text-decoration-color: #008000\"> steps.</span>\n",
       "</pre>\n"
      ],
      "text/plain": [
       "\u001b[32mWarning: trajectory cut off when rollout by epoch at \u001b[0m\u001b[1;36m1000.0\u001b[0m\u001b[32m steps.\u001b[0m\n"
      ]
     },
     "metadata": {},
     "output_type": "display_data"
    },
    {
     "data": {
      "text/html": [
       "<pre style=\"white-space:pre;overflow-x:auto;line-height:normal;font-family:Menlo,'DejaVu Sans Mono',consolas,'Courier New',monospace\"><span style=\"color: #008000; text-decoration-color: #008000\">Warning: trajectory cut off when rollout by epoch at </span><span style=\"color: #008080; text-decoration-color: #008080; font-weight: bold\">1000.0</span><span style=\"color: #008000; text-decoration-color: #008000\"> steps.</span>\n",
       "</pre>\n"
      ],
      "text/plain": [
       "\u001b[32mWarning: trajectory cut off when rollout by epoch at \u001b[0m\u001b[1;36m1000.0\u001b[0m\u001b[32m steps.\u001b[0m\n"
      ]
     },
     "metadata": {},
     "output_type": "display_data"
    },
    {
     "data": {
      "text/html": [
       "<pre style=\"white-space:pre;overflow-x:auto;line-height:normal;font-family:Menlo,'DejaVu Sans Mono',consolas,'Courier New',monospace\"><span style=\"color: #008000; text-decoration-color: #008000\">Warning: trajectory cut off when rollout by epoch at </span><span style=\"color: #008080; text-decoration-color: #008080; font-weight: bold\">1000.0</span><span style=\"color: #008000; text-decoration-color: #008000\"> steps.</span>\n",
       "</pre>\n"
      ],
      "text/plain": [
       "\u001b[32mWarning: trajectory cut off when rollout by epoch at \u001b[0m\u001b[1;36m1000.0\u001b[0m\u001b[32m steps.\u001b[0m\n"
      ]
     },
     "metadata": {},
     "output_type": "display_data"
    },
    {
     "data": {
      "text/html": [
       "<pre style=\"white-space:pre;overflow-x:auto;line-height:normal;font-family:Menlo,'DejaVu Sans Mono',consolas,'Courier New',monospace\"><span style=\"color: #008000; text-decoration-color: #008000\">Warning: trajectory cut off when rollout by epoch at </span><span style=\"color: #008080; text-decoration-color: #008080; font-weight: bold\">1000.0</span><span style=\"color: #008000; text-decoration-color: #008000\"> steps.</span>\n",
       "</pre>\n"
      ],
      "text/plain": [
       "\u001b[32mWarning: trajectory cut off when rollout by epoch at \u001b[0m\u001b[1;36m1000.0\u001b[0m\u001b[32m steps.\u001b[0m\n"
      ]
     },
     "metadata": {},
     "output_type": "display_data"
    },
    {
     "data": {
      "text/html": [
       "<pre style=\"white-space:pre;overflow-x:auto;line-height:normal;font-family:Menlo,'DejaVu Sans Mono',consolas,'Courier New',monospace\"></pre>\n"
      ],
      "text/plain": []
     },
     "metadata": {},
     "output_type": "display_data"
    },
    {
     "data": {
      "text/html": [
       "<pre style=\"white-space:pre;overflow-x:auto;line-height:normal;font-family:Menlo,'DejaVu Sans Mono',consolas,'Courier New',monospace\">\n",
       "</pre>\n"
      ],
      "text/plain": [
       "\n"
      ]
     },
     "metadata": {},
     "output_type": "display_data"
    },
    {
     "data": {
      "text/html": [
       "<pre style=\"white-space:pre;overflow-x:auto;line-height:normal;font-family:Menlo,'DejaVu Sans Mono',consolas,'Courier New',monospace\"><span style=\"color: #008000; text-decoration-color: #008000\">Early stopping at iter </span><span style=\"color: #008080; text-decoration-color: #008080; font-weight: bold\">27</span><span style=\"color: #008000; text-decoration-color: #008000\"> due to reaching max kl</span>\n",
       "</pre>\n"
      ],
      "text/plain": [
       "\u001b[32mEarly stopping at iter \u001b[0m\u001b[1;36m27\u001b[0m\u001b[32m due to reaching max kl\u001b[0m\n"
      ]
     },
     "metadata": {},
     "output_type": "display_data"
    },
    {
     "data": {
      "text/html": [
       "<pre style=\"white-space:pre;overflow-x:auto;line-height:normal;font-family:Menlo,'DejaVu Sans Mono',consolas,'Courier New',monospace\"></pre>\n"
      ],
      "text/plain": []
     },
     "metadata": {},
     "output_type": "display_data"
    },
    {
     "data": {
      "text/html": [
       "<pre style=\"white-space:pre;overflow-x:auto;line-height:normal;font-family:Menlo,'DejaVu Sans Mono',consolas,'Courier New',monospace\">\n",
       "</pre>\n"
      ],
      "text/plain": [
       "\n"
      ]
     },
     "metadata": {},
     "output_type": "display_data"
    },
    {
     "data": {
      "text/html": [
       "<pre style=\"white-space:pre;overflow-x:auto;line-height:normal;font-family:Menlo,'DejaVu Sans Mono',consolas,'Courier New',monospace\">┏━━━━━━━━━━━━━━━━━━━━━━━━━━━━━━━━┳━━━━━━━━━━━━━━━━━━━━━━━━┓\n",
       "┃<span style=\"font-weight: bold\"> Metrics                        </span>┃<span style=\"font-weight: bold\"> Value                  </span>┃\n",
       "┡━━━━━━━━━━━━━━━━━━━━━━━━━━━━━━━━╇━━━━━━━━━━━━━━━━━━━━━━━━┩\n",
       "│ Metrics/EpRet                  │ 10.272136688232422     │\n",
       "│ Metrics/EpCost                 │ 64.94000244140625      │\n",
       "│ Metrics/EpLen                  │ 1000.0                 │\n",
       "│ Train/Epoch                    │ 17.0                   │\n",
       "│ Train/Entropy                  │ 1.1066763401031494     │\n",
       "│ Train/KL                       │ 0.020969141274690628   │\n",
       "│ Train/StopIter                 │ 27.0                   │\n",
       "│ Train/PolicyRatio/Mean         │ 1.0002453327178955     │\n",
       "│ Train/PolicyRatio/Min          │ 1.0002453327178955     │\n",
       "│ Train/PolicyRatio/Max          │ 1.0002453327178955     │\n",
       "│ Train/PolicyRatio/Std          │ 0.020308444276452065   │\n",
       "│ Train/LR                       │ 0.00011999999696854502 │\n",
       "│ Train/PolicyStd                │ 0.7322809100151062     │\n",
       "│ TotalEnvSteps                  │ 360000.0               │\n",
       "│ Loss/Loss_pi                   │ -0.04141074791550636   │\n",
       "│ Loss/Loss_pi/Delta             │ -0.004466701298952103  │\n",
       "│ Value/Adv                      │ -0.04249647259712219   │\n",
       "│ Loss/Loss_reward_critic        │ 0.015764543786644936   │\n",
       "│ Loss/Loss_reward_critic/Delta  │ -0.0003499723970890045 │\n",
       "│ Value/reward                   │ 0.8313273191452026     │\n",
       "│ Loss/Loss_cost_critic          │ 1.552682876586914      │\n",
       "│ Loss/Loss_cost_critic/Delta    │ 0.3619515895843506     │\n",
       "│ Value/cost                     │ 8.083243370056152      │\n",
       "│ Time/Total                     │ 3032.416015625         │\n",
       "│ Time/Rollout                   │ 47.066463470458984     │\n",
       "│ Time/Update                    │ 117.6787109375         │\n",
       "│ Time/Epoch                     │ 164.74517822265625     │\n",
       "│ Time/FPS                       │ 121.39961242675781     │\n",
       "│ Metrics/LagrangeMultiplier/Mea │ 0.5777520537376404     │\n",
       "│ Metrics/LagrangeMultiplier/Min │ 0.5777520537376404     │\n",
       "│ Metrics/LagrangeMultiplier/Max │ 0.5777520537376404     │\n",
       "│ Metrics/LagrangeMultiplier/Std │ 0.0                    │\n",
       "└────────────────────────────────┴────────────────────────┘\n",
       "</pre>\n"
      ],
      "text/plain": [
       "┏━━━━━━━━━━━━━━━━━━━━━━━━━━━━━━━━┳━━━━━━━━━━━━━━━━━━━━━━━━┓\n",
       "┃\u001b[1m \u001b[0m\u001b[1mMetrics                       \u001b[0m\u001b[1m \u001b[0m┃\u001b[1m \u001b[0m\u001b[1mValue                 \u001b[0m\u001b[1m \u001b[0m┃\n",
       "┡━━━━━━━━━━━━━━━━━━━━━━━━━━━━━━━━╇━━━━━━━━━━━━━━━━━━━━━━━━┩\n",
       "│ Metrics/EpRet                  │ 10.272136688232422     │\n",
       "│ Metrics/EpCost                 │ 64.94000244140625      │\n",
       "│ Metrics/EpLen                  │ 1000.0                 │\n",
       "│ Train/Epoch                    │ 17.0                   │\n",
       "│ Train/Entropy                  │ 1.1066763401031494     │\n",
       "│ Train/KL                       │ 0.020969141274690628   │\n",
       "│ Train/StopIter                 │ 27.0                   │\n",
       "│ Train/PolicyRatio/Mean         │ 1.0002453327178955     │\n",
       "│ Train/PolicyRatio/Min          │ 1.0002453327178955     │\n",
       "│ Train/PolicyRatio/Max          │ 1.0002453327178955     │\n",
       "│ Train/PolicyRatio/Std          │ 0.020308444276452065   │\n",
       "│ Train/LR                       │ 0.00011999999696854502 │\n",
       "│ Train/PolicyStd                │ 0.7322809100151062     │\n",
       "│ TotalEnvSteps                  │ 360000.0               │\n",
       "│ Loss/Loss_pi                   │ -0.04141074791550636   │\n",
       "│ Loss/Loss_pi/Delta             │ -0.004466701298952103  │\n",
       "│ Value/Adv                      │ -0.04249647259712219   │\n",
       "│ Loss/Loss_reward_critic        │ 0.015764543786644936   │\n",
       "│ Loss/Loss_reward_critic/Delta  │ -0.0003499723970890045 │\n",
       "│ Value/reward                   │ 0.8313273191452026     │\n",
       "│ Loss/Loss_cost_critic          │ 1.552682876586914      │\n",
       "│ Loss/Loss_cost_critic/Delta    │ 0.3619515895843506     │\n",
       "│ Value/cost                     │ 8.083243370056152      │\n",
       "│ Time/Total                     │ 3032.416015625         │\n",
       "│ Time/Rollout                   │ 47.066463470458984     │\n",
       "│ Time/Update                    │ 117.6787109375         │\n",
       "│ Time/Epoch                     │ 164.74517822265625     │\n",
       "│ Time/FPS                       │ 121.39961242675781     │\n",
       "│ Metrics/LagrangeMultiplier/Mea │ 0.5777520537376404     │\n",
       "│ Metrics/LagrangeMultiplier/Min │ 0.5777520537376404     │\n",
       "│ Metrics/LagrangeMultiplier/Max │ 0.5777520537376404     │\n",
       "│ Metrics/LagrangeMultiplier/Std │ 0.0                    │\n",
       "└────────────────────────────────┴────────────────────────┘\n"
      ]
     },
     "metadata": {},
     "output_type": "display_data"
    },
    {
     "data": {
      "text/html": [
       "<pre style=\"white-space:pre;overflow-x:auto;line-height:normal;font-family:Menlo,'DejaVu Sans Mono',consolas,'Courier New',monospace\"><span style=\"color: #008000; text-decoration-color: #008000\">Warning: trajectory cut off when rollout by epoch at </span><span style=\"color: #008080; text-decoration-color: #008080; font-weight: bold\">1000.0</span><span style=\"color: #008000; text-decoration-color: #008000\"> steps.</span>\n",
       "</pre>\n"
      ],
      "text/plain": [
       "\u001b[32mWarning: trajectory cut off when rollout by epoch at \u001b[0m\u001b[1;36m1000.0\u001b[0m\u001b[32m steps.\u001b[0m\n"
      ]
     },
     "metadata": {},
     "output_type": "display_data"
    },
    {
     "data": {
      "text/html": [
       "<pre style=\"white-space:pre;overflow-x:auto;line-height:normal;font-family:Menlo,'DejaVu Sans Mono',consolas,'Courier New',monospace\"><span style=\"color: #008000; text-decoration-color: #008000\">Warning: trajectory cut off when rollout by epoch at </span><span style=\"color: #008080; text-decoration-color: #008080; font-weight: bold\">1000.0</span><span style=\"color: #008000; text-decoration-color: #008000\"> steps.</span>\n",
       "</pre>\n"
      ],
      "text/plain": [
       "\u001b[32mWarning: trajectory cut off when rollout by epoch at \u001b[0m\u001b[1;36m1000.0\u001b[0m\u001b[32m steps.\u001b[0m\n"
      ]
     },
     "metadata": {},
     "output_type": "display_data"
    },
    {
     "data": {
      "text/html": [
       "<pre style=\"white-space:pre;overflow-x:auto;line-height:normal;font-family:Menlo,'DejaVu Sans Mono',consolas,'Courier New',monospace\"><span style=\"color: #008000; text-decoration-color: #008000\">Warning: trajectory cut off when rollout by epoch at </span><span style=\"color: #008080; text-decoration-color: #008080; font-weight: bold\">1000.0</span><span style=\"color: #008000; text-decoration-color: #008000\"> steps.</span>\n",
       "</pre>\n"
      ],
      "text/plain": [
       "\u001b[32mWarning: trajectory cut off when rollout by epoch at \u001b[0m\u001b[1;36m1000.0\u001b[0m\u001b[32m steps.\u001b[0m\n"
      ]
     },
     "metadata": {},
     "output_type": "display_data"
    },
    {
     "data": {
      "text/html": [
       "<pre style=\"white-space:pre;overflow-x:auto;line-height:normal;font-family:Menlo,'DejaVu Sans Mono',consolas,'Courier New',monospace\"><span style=\"color: #008000; text-decoration-color: #008000\">Warning: trajectory cut off when rollout by epoch at </span><span style=\"color: #008080; text-decoration-color: #008080; font-weight: bold\">1000.0</span><span style=\"color: #008000; text-decoration-color: #008000\"> steps.</span>\n",
       "</pre>\n"
      ],
      "text/plain": [
       "\u001b[32mWarning: trajectory cut off when rollout by epoch at \u001b[0m\u001b[1;36m1000.0\u001b[0m\u001b[32m steps.\u001b[0m\n"
      ]
     },
     "metadata": {},
     "output_type": "display_data"
    },
    {
     "data": {
      "text/html": [
       "<pre style=\"white-space:pre;overflow-x:auto;line-height:normal;font-family:Menlo,'DejaVu Sans Mono',consolas,'Courier New',monospace\"></pre>\n"
      ],
      "text/plain": []
     },
     "metadata": {},
     "output_type": "display_data"
    },
    {
     "data": {
      "text/html": [
       "<pre style=\"white-space:pre;overflow-x:auto;line-height:normal;font-family:Menlo,'DejaVu Sans Mono',consolas,'Courier New',monospace\">\n",
       "</pre>\n"
      ],
      "text/plain": [
       "\n"
      ]
     },
     "metadata": {},
     "output_type": "display_data"
    },
    {
     "data": {
      "text/html": [
       "<pre style=\"white-space:pre;overflow-x:auto;line-height:normal;font-family:Menlo,'DejaVu Sans Mono',consolas,'Courier New',monospace\"><span style=\"color: #008000; text-decoration-color: #008000\">Early stopping at iter </span><span style=\"color: #008080; text-decoration-color: #008080; font-weight: bold\">35</span><span style=\"color: #008000; text-decoration-color: #008000\"> due to reaching max kl</span>\n",
       "</pre>\n"
      ],
      "text/plain": [
       "\u001b[32mEarly stopping at iter \u001b[0m\u001b[1;36m35\u001b[0m\u001b[32m due to reaching max kl\u001b[0m\n"
      ]
     },
     "metadata": {},
     "output_type": "display_data"
    },
    {
     "data": {
      "text/html": [
       "<pre style=\"white-space:pre;overflow-x:auto;line-height:normal;font-family:Menlo,'DejaVu Sans Mono',consolas,'Courier New',monospace\"></pre>\n"
      ],
      "text/plain": []
     },
     "metadata": {},
     "output_type": "display_data"
    },
    {
     "data": {
      "text/html": [
       "<pre style=\"white-space:pre;overflow-x:auto;line-height:normal;font-family:Menlo,'DejaVu Sans Mono',consolas,'Courier New',monospace\">\n",
       "</pre>\n"
      ],
      "text/plain": [
       "\n"
      ]
     },
     "metadata": {},
     "output_type": "display_data"
    },
    {
     "data": {
      "text/html": [
       "<pre style=\"white-space:pre;overflow-x:auto;line-height:normal;font-family:Menlo,'DejaVu Sans Mono',consolas,'Courier New',monospace\">┏━━━━━━━━━━━━━━━━━━━━━━━━━━━━━━━━┳━━━━━━━━━━━━━━━━━━━━━━━━┓\n",
       "┃<span style=\"font-weight: bold\"> Metrics                        </span>┃<span style=\"font-weight: bold\"> Value                  </span>┃\n",
       "┡━━━━━━━━━━━━━━━━━━━━━━━━━━━━━━━━╇━━━━━━━━━━━━━━━━━━━━━━━━┩\n",
       "│ Metrics/EpRet                  │ 10.662444114685059     │\n",
       "│ Metrics/EpCost                 │ 82.16000366210938      │\n",
       "│ Metrics/EpLen                  │ 1000.0                 │\n",
       "│ Train/Epoch                    │ 18.0                   │\n",
       "│ Train/Entropy                  │ 1.0942552089691162     │\n",
       "│ Train/KL                       │ 0.021657107397913933   │\n",
       "│ Train/StopIter                 │ 35.0                   │\n",
       "│ Train/PolicyRatio/Mean         │ 1.0045610666275024     │\n",
       "│ Train/PolicyRatio/Min          │ 1.0045610666275024     │\n",
       "│ Train/PolicyRatio/Max          │ 1.0045610666275024     │\n",
       "│ Train/PolicyRatio/Std          │ 0.019721051678061485   │\n",
       "│ Train/LR                       │ 0.00011000000085914508 │\n",
       "│ Train/PolicyStd                │ 0.7231730222702026     │\n",
       "│ TotalEnvSteps                  │ 380000.0               │\n",
       "│ Loss/Loss_pi                   │ -0.04875035956501961   │\n",
       "│ Loss/Loss_pi/Delta             │ -0.007339611649513245  │\n",
       "│ Value/Adv                      │ -0.3656942844390869    │\n",
       "│ Loss/Loss_reward_critic        │ 0.015532586723566055   │\n",
       "│ Loss/Loss_reward_critic/Delta  │ -0.0002319570630788803 │\n",
       "│ Value/reward                   │ 0.8744339942932129     │\n",
       "│ Loss/Loss_cost_critic          │ 1.3843845129013062     │\n",
       "│ Loss/Loss_cost_critic/Delta    │ -0.1682983636856079    │\n",
       "│ Value/cost                     │ 7.659799098968506      │\n",
       "│ Time/Total                     │ 3222.5322265625        │\n",
       "│ Time/Rollout                   │ 37.44398880004883      │\n",
       "│ Time/Update                    │ 152.6403350830078      │\n",
       "│ Time/Epoch                     │ 190.08432006835938     │\n",
       "│ Time/FPS                       │ 105.21646118164062     │\n",
       "│ Metrics/LagrangeMultiplier/Mea │ 0.6089111566543579     │\n",
       "│ Metrics/LagrangeMultiplier/Min │ 0.6089111566543579     │\n",
       "│ Metrics/LagrangeMultiplier/Max │ 0.6089111566543579     │\n",
       "│ Metrics/LagrangeMultiplier/Std │ 0.0                    │\n",
       "└────────────────────────────────┴────────────────────────┘\n",
       "</pre>\n"
      ],
      "text/plain": [
       "┏━━━━━━━━━━━━━━━━━━━━━━━━━━━━━━━━┳━━━━━━━━━━━━━━━━━━━━━━━━┓\n",
       "┃\u001b[1m \u001b[0m\u001b[1mMetrics                       \u001b[0m\u001b[1m \u001b[0m┃\u001b[1m \u001b[0m\u001b[1mValue                 \u001b[0m\u001b[1m \u001b[0m┃\n",
       "┡━━━━━━━━━━━━━━━━━━━━━━━━━━━━━━━━╇━━━━━━━━━━━━━━━━━━━━━━━━┩\n",
       "│ Metrics/EpRet                  │ 10.662444114685059     │\n",
       "│ Metrics/EpCost                 │ 82.16000366210938      │\n",
       "│ Metrics/EpLen                  │ 1000.0                 │\n",
       "│ Train/Epoch                    │ 18.0                   │\n",
       "│ Train/Entropy                  │ 1.0942552089691162     │\n",
       "│ Train/KL                       │ 0.021657107397913933   │\n",
       "│ Train/StopIter                 │ 35.0                   │\n",
       "│ Train/PolicyRatio/Mean         │ 1.0045610666275024     │\n",
       "│ Train/PolicyRatio/Min          │ 1.0045610666275024     │\n",
       "│ Train/PolicyRatio/Max          │ 1.0045610666275024     │\n",
       "│ Train/PolicyRatio/Std          │ 0.019721051678061485   │\n",
       "│ Train/LR                       │ 0.00011000000085914508 │\n",
       "│ Train/PolicyStd                │ 0.7231730222702026     │\n",
       "│ TotalEnvSteps                  │ 380000.0               │\n",
       "│ Loss/Loss_pi                   │ -0.04875035956501961   │\n",
       "│ Loss/Loss_pi/Delta             │ -0.007339611649513245  │\n",
       "│ Value/Adv                      │ -0.3656942844390869    │\n",
       "│ Loss/Loss_reward_critic        │ 0.015532586723566055   │\n",
       "│ Loss/Loss_reward_critic/Delta  │ -0.0002319570630788803 │\n",
       "│ Value/reward                   │ 0.8744339942932129     │\n",
       "│ Loss/Loss_cost_critic          │ 1.3843845129013062     │\n",
       "│ Loss/Loss_cost_critic/Delta    │ -0.1682983636856079    │\n",
       "│ Value/cost                     │ 7.659799098968506      │\n",
       "│ Time/Total                     │ 3222.5322265625        │\n",
       "│ Time/Rollout                   │ 37.44398880004883      │\n",
       "│ Time/Update                    │ 152.6403350830078      │\n",
       "│ Time/Epoch                     │ 190.08432006835938     │\n",
       "│ Time/FPS                       │ 105.21646118164062     │\n",
       "│ Metrics/LagrangeMultiplier/Mea │ 0.6089111566543579     │\n",
       "│ Metrics/LagrangeMultiplier/Min │ 0.6089111566543579     │\n",
       "│ Metrics/LagrangeMultiplier/Max │ 0.6089111566543579     │\n",
       "│ Metrics/LagrangeMultiplier/Std │ 0.0                    │\n",
       "└────────────────────────────────┴────────────────────────┘\n"
      ]
     },
     "metadata": {},
     "output_type": "display_data"
    },
    {
     "data": {
      "text/html": [
       "<pre style=\"white-space:pre;overflow-x:auto;line-height:normal;font-family:Menlo,'DejaVu Sans Mono',consolas,'Courier New',monospace\"><span style=\"color: #008000; text-decoration-color: #008000\">Warning: trajectory cut off when rollout by epoch at </span><span style=\"color: #008080; text-decoration-color: #008080; font-weight: bold\">1000.0</span><span style=\"color: #008000; text-decoration-color: #008000\"> steps.</span>\n",
       "</pre>\n"
      ],
      "text/plain": [
       "\u001b[32mWarning: trajectory cut off when rollout by epoch at \u001b[0m\u001b[1;36m1000.0\u001b[0m\u001b[32m steps.\u001b[0m\n"
      ]
     },
     "metadata": {},
     "output_type": "display_data"
    },
    {
     "data": {
      "text/html": [
       "<pre style=\"white-space:pre;overflow-x:auto;line-height:normal;font-family:Menlo,'DejaVu Sans Mono',consolas,'Courier New',monospace\"><span style=\"color: #008000; text-decoration-color: #008000\">Warning: trajectory cut off when rollout by epoch at </span><span style=\"color: #008080; text-decoration-color: #008080; font-weight: bold\">1000.0</span><span style=\"color: #008000; text-decoration-color: #008000\"> steps.</span>\n",
       "</pre>\n"
      ],
      "text/plain": [
       "\u001b[32mWarning: trajectory cut off when rollout by epoch at \u001b[0m\u001b[1;36m1000.0\u001b[0m\u001b[32m steps.\u001b[0m\n"
      ]
     },
     "metadata": {},
     "output_type": "display_data"
    },
    {
     "data": {
      "text/html": [
       "<pre style=\"white-space:pre;overflow-x:auto;line-height:normal;font-family:Menlo,'DejaVu Sans Mono',consolas,'Courier New',monospace\"><span style=\"color: #008000; text-decoration-color: #008000\">Warning: trajectory cut off when rollout by epoch at </span><span style=\"color: #008080; text-decoration-color: #008080; font-weight: bold\">1000.0</span><span style=\"color: #008000; text-decoration-color: #008000\"> steps.</span>\n",
       "</pre>\n"
      ],
      "text/plain": [
       "\u001b[32mWarning: trajectory cut off when rollout by epoch at \u001b[0m\u001b[1;36m1000.0\u001b[0m\u001b[32m steps.\u001b[0m\n"
      ]
     },
     "metadata": {},
     "output_type": "display_data"
    },
    {
     "data": {
      "text/html": [
       "<pre style=\"white-space:pre;overflow-x:auto;line-height:normal;font-family:Menlo,'DejaVu Sans Mono',consolas,'Courier New',monospace\"><span style=\"color: #008000; text-decoration-color: #008000\">Warning: trajectory cut off when rollout by epoch at </span><span style=\"color: #008080; text-decoration-color: #008080; font-weight: bold\">1000.0</span><span style=\"color: #008000; text-decoration-color: #008000\"> steps.</span>\n",
       "</pre>\n"
      ],
      "text/plain": [
       "\u001b[32mWarning: trajectory cut off when rollout by epoch at \u001b[0m\u001b[1;36m1000.0\u001b[0m\u001b[32m steps.\u001b[0m\n"
      ]
     },
     "metadata": {},
     "output_type": "display_data"
    },
    {
     "data": {
      "text/html": [
       "<pre style=\"white-space:pre;overflow-x:auto;line-height:normal;font-family:Menlo,'DejaVu Sans Mono',consolas,'Courier New',monospace\"></pre>\n"
      ],
      "text/plain": []
     },
     "metadata": {},
     "output_type": "display_data"
    },
    {
     "data": {
      "text/html": [
       "<pre style=\"white-space:pre;overflow-x:auto;line-height:normal;font-family:Menlo,'DejaVu Sans Mono',consolas,'Courier New',monospace\">\n",
       "</pre>\n"
      ],
      "text/plain": [
       "\n"
      ]
     },
     "metadata": {},
     "output_type": "display_data"
    },
    {
     "data": {
      "text/html": [
       "<pre style=\"white-space:pre;overflow-x:auto;line-height:normal;font-family:Menlo,'DejaVu Sans Mono',consolas,'Courier New',monospace\"><span style=\"color: #008000; text-decoration-color: #008000\">Early stopping at iter </span><span style=\"color: #008080; text-decoration-color: #008080; font-weight: bold\">29</span><span style=\"color: #008000; text-decoration-color: #008000\"> due to reaching max kl</span>\n",
       "</pre>\n"
      ],
      "text/plain": [
       "\u001b[32mEarly stopping at iter \u001b[0m\u001b[1;36m29\u001b[0m\u001b[32m due to reaching max kl\u001b[0m\n"
      ]
     },
     "metadata": {},
     "output_type": "display_data"
    },
    {
     "data": {
      "text/html": [
       "<pre style=\"white-space:pre;overflow-x:auto;line-height:normal;font-family:Menlo,'DejaVu Sans Mono',consolas,'Courier New',monospace\"></pre>\n"
      ],
      "text/plain": []
     },
     "metadata": {},
     "output_type": "display_data"
    },
    {
     "data": {
      "text/html": [
       "<pre style=\"white-space:pre;overflow-x:auto;line-height:normal;font-family:Menlo,'DejaVu Sans Mono',consolas,'Courier New',monospace\">\n",
       "</pre>\n"
      ],
      "text/plain": [
       "\n"
      ]
     },
     "metadata": {},
     "output_type": "display_data"
    },
    {
     "data": {
      "text/html": [
       "<pre style=\"white-space:pre;overflow-x:auto;line-height:normal;font-family:Menlo,'DejaVu Sans Mono',consolas,'Courier New',monospace\">┏━━━━━━━━━━━━━━━━━━━━━━━━━━━━━━━━┳━━━━━━━━━━━━━━━━━━━━━━━━┓\n",
       "┃<span style=\"font-weight: bold\"> Metrics                        </span>┃<span style=\"font-weight: bold\"> Value                  </span>┃\n",
       "┡━━━━━━━━━━━━━━━━━━━━━━━━━━━━━━━━╇━━━━━━━━━━━━━━━━━━━━━━━━┩\n",
       "│ Metrics/EpRet                  │ 11.083287239074707     │\n",
       "│ Metrics/EpCost                 │ 79.08000183105469      │\n",
       "│ Metrics/EpLen                  │ 1000.0                 │\n",
       "│ Train/Epoch                    │ 19.0                   │\n",
       "│ Train/Entropy                  │ 1.0733941793441772     │\n",
       "│ Train/KL                       │ 0.020606117323040962   │\n",
       "│ Train/StopIter                 │ 29.0                   │\n",
       "│ Train/PolicyRatio/Mean         │ 1.0005278587341309     │\n",
       "│ Train/PolicyRatio/Min          │ 1.0005278587341309     │\n",
       "│ Train/PolicyRatio/Max          │ 1.0005278587341309     │\n",
       "│ Train/PolicyRatio/Std          │ 0.019420169293880463   │\n",
       "│ Train/LR                       │ 9.999999747378752e-05  │\n",
       "│ Train/PolicyStd                │ 0.7082821726799011     │\n",
       "│ TotalEnvSteps                  │ 400000.0               │\n",
       "│ Loss/Loss_pi                   │ -0.04146498441696167   │\n",
       "│ Loss/Loss_pi/Delta             │ 0.007285375148057938   │\n",
       "│ Value/Adv                      │ -0.0017235353589057922 │\n",
       "│ Loss/Loss_reward_critic        │ 0.0170564204454422     │\n",
       "│ Loss/Loss_reward_critic/Delta  │ 0.0015238337218761444  │\n",
       "│ Value/reward                   │ 0.9430364966392517     │\n",
       "│ Loss/Loss_cost_critic          │ 1.297051191329956      │\n",
       "│ Loss/Loss_cost_critic/Delta    │ -0.0873333215713501    │\n",
       "│ Value/cost                     │ 7.51000452041626       │\n",
       "│ Time/Total                     │ 3387.4814453125        │\n",
       "│ Time/Rollout                   │ 43.3513298034668       │\n",
       "│ Time/Update                    │ 121.55276489257812     │\n",
       "│ Time/Epoch                     │ 164.9051055908203      │\n",
       "│ Time/FPS                       │ 121.28187561035156     │\n",
       "│ Metrics/LagrangeMultiplier/Mea │ 0.6406380534172058     │\n",
       "│ Metrics/LagrangeMultiplier/Min │ 0.6406380534172058     │\n",
       "│ Metrics/LagrangeMultiplier/Max │ 0.6406380534172058     │\n",
       "│ Metrics/LagrangeMultiplier/Std │ 0.0                    │\n",
       "└────────────────────────────────┴────────────────────────┘\n",
       "</pre>\n"
      ],
      "text/plain": [
       "┏━━━━━━━━━━━━━━━━━━━━━━━━━━━━━━━━┳━━━━━━━━━━━━━━━━━━━━━━━━┓\n",
       "┃\u001b[1m \u001b[0m\u001b[1mMetrics                       \u001b[0m\u001b[1m \u001b[0m┃\u001b[1m \u001b[0m\u001b[1mValue                 \u001b[0m\u001b[1m \u001b[0m┃\n",
       "┡━━━━━━━━━━━━━━━━━━━━━━━━━━━━━━━━╇━━━━━━━━━━━━━━━━━━━━━━━━┩\n",
       "│ Metrics/EpRet                  │ 11.083287239074707     │\n",
       "│ Metrics/EpCost                 │ 79.08000183105469      │\n",
       "│ Metrics/EpLen                  │ 1000.0                 │\n",
       "│ Train/Epoch                    │ 19.0                   │\n",
       "│ Train/Entropy                  │ 1.0733941793441772     │\n",
       "│ Train/KL                       │ 0.020606117323040962   │\n",
       "│ Train/StopIter                 │ 29.0                   │\n",
       "│ Train/PolicyRatio/Mean         │ 1.0005278587341309     │\n",
       "│ Train/PolicyRatio/Min          │ 1.0005278587341309     │\n",
       "│ Train/PolicyRatio/Max          │ 1.0005278587341309     │\n",
       "│ Train/PolicyRatio/Std          │ 0.019420169293880463   │\n",
       "│ Train/LR                       │ 9.999999747378752e-05  │\n",
       "│ Train/PolicyStd                │ 0.7082821726799011     │\n",
       "│ TotalEnvSteps                  │ 400000.0               │\n",
       "│ Loss/Loss_pi                   │ -0.04146498441696167   │\n",
       "│ Loss/Loss_pi/Delta             │ 0.007285375148057938   │\n",
       "│ Value/Adv                      │ -0.0017235353589057922 │\n",
       "│ Loss/Loss_reward_critic        │ 0.0170564204454422     │\n",
       "│ Loss/Loss_reward_critic/Delta  │ 0.0015238337218761444  │\n",
       "│ Value/reward                   │ 0.9430364966392517     │\n",
       "│ Loss/Loss_cost_critic          │ 1.297051191329956      │\n",
       "│ Loss/Loss_cost_critic/Delta    │ -0.0873333215713501    │\n",
       "│ Value/cost                     │ 7.51000452041626       │\n",
       "│ Time/Total                     │ 3387.4814453125        │\n",
       "│ Time/Rollout                   │ 43.3513298034668       │\n",
       "│ Time/Update                    │ 121.55276489257812     │\n",
       "│ Time/Epoch                     │ 164.9051055908203      │\n",
       "│ Time/FPS                       │ 121.28187561035156     │\n",
       "│ Metrics/LagrangeMultiplier/Mea │ 0.6406380534172058     │\n",
       "│ Metrics/LagrangeMultiplier/Min │ 0.6406380534172058     │\n",
       "│ Metrics/LagrangeMultiplier/Max │ 0.6406380534172058     │\n",
       "│ Metrics/LagrangeMultiplier/Std │ 0.0                    │\n",
       "└────────────────────────────────┴────────────────────────┘\n"
      ]
     },
     "metadata": {},
     "output_type": "display_data"
    },
    {
     "data": {
      "text/html": [
       "<pre style=\"white-space:pre;overflow-x:auto;line-height:normal;font-family:Menlo,'DejaVu Sans Mono',consolas,'Courier New',monospace\"><span style=\"color: #008000; text-decoration-color: #008000\">Warning: trajectory cut off when rollout by epoch at </span><span style=\"color: #008080; text-decoration-color: #008080; font-weight: bold\">1000.0</span><span style=\"color: #008000; text-decoration-color: #008000\"> steps.</span>\n",
       "</pre>\n"
      ],
      "text/plain": [
       "\u001b[32mWarning: trajectory cut off when rollout by epoch at \u001b[0m\u001b[1;36m1000.0\u001b[0m\u001b[32m steps.\u001b[0m\n"
      ]
     },
     "metadata": {},
     "output_type": "display_data"
    },
    {
     "data": {
      "text/html": [
       "<pre style=\"white-space:pre;overflow-x:auto;line-height:normal;font-family:Menlo,'DejaVu Sans Mono',consolas,'Courier New',monospace\"><span style=\"color: #008000; text-decoration-color: #008000\">Warning: trajectory cut off when rollout by epoch at </span><span style=\"color: #008080; text-decoration-color: #008080; font-weight: bold\">1000.0</span><span style=\"color: #008000; text-decoration-color: #008000\"> steps.</span>\n",
       "</pre>\n"
      ],
      "text/plain": [
       "\u001b[32mWarning: trajectory cut off when rollout by epoch at \u001b[0m\u001b[1;36m1000.0\u001b[0m\u001b[32m steps.\u001b[0m\n"
      ]
     },
     "metadata": {},
     "output_type": "display_data"
    },
    {
     "data": {
      "text/html": [
       "<pre style=\"white-space:pre;overflow-x:auto;line-height:normal;font-family:Menlo,'DejaVu Sans Mono',consolas,'Courier New',monospace\"><span style=\"color: #008000; text-decoration-color: #008000\">Warning: trajectory cut off when rollout by epoch at </span><span style=\"color: #008080; text-decoration-color: #008080; font-weight: bold\">1000.0</span><span style=\"color: #008000; text-decoration-color: #008000\"> steps.</span>\n",
       "</pre>\n"
      ],
      "text/plain": [
       "\u001b[32mWarning: trajectory cut off when rollout by epoch at \u001b[0m\u001b[1;36m1000.0\u001b[0m\u001b[32m steps.\u001b[0m\n"
      ]
     },
     "metadata": {},
     "output_type": "display_data"
    },
    {
     "data": {
      "text/html": [
       "<pre style=\"white-space:pre;overflow-x:auto;line-height:normal;font-family:Menlo,'DejaVu Sans Mono',consolas,'Courier New',monospace\"><span style=\"color: #008000; text-decoration-color: #008000\">Warning: trajectory cut off when rollout by epoch at </span><span style=\"color: #008080; text-decoration-color: #008080; font-weight: bold\">1000.0</span><span style=\"color: #008000; text-decoration-color: #008000\"> steps.</span>\n",
       "</pre>\n"
      ],
      "text/plain": [
       "\u001b[32mWarning: trajectory cut off when rollout by epoch at \u001b[0m\u001b[1;36m1000.0\u001b[0m\u001b[32m steps.\u001b[0m\n"
      ]
     },
     "metadata": {},
     "output_type": "display_data"
    },
    {
     "data": {
      "text/html": [
       "<pre style=\"white-space:pre;overflow-x:auto;line-height:normal;font-family:Menlo,'DejaVu Sans Mono',consolas,'Courier New',monospace\"></pre>\n"
      ],
      "text/plain": []
     },
     "metadata": {},
     "output_type": "display_data"
    },
    {
     "data": {
      "text/html": [
       "<pre style=\"white-space:pre;overflow-x:auto;line-height:normal;font-family:Menlo,'DejaVu Sans Mono',consolas,'Courier New',monospace\">\n",
       "</pre>\n"
      ],
      "text/plain": [
       "\n"
      ]
     },
     "metadata": {},
     "output_type": "display_data"
    },
    {
     "data": {
      "text/html": [
       "<pre style=\"white-space:pre;overflow-x:auto;line-height:normal;font-family:Menlo,'DejaVu Sans Mono',consolas,'Courier New',monospace\"><span style=\"color: #008000; text-decoration-color: #008000\">Early stopping at iter </span><span style=\"color: #008080; text-decoration-color: #008080; font-weight: bold\">32</span><span style=\"color: #008000; text-decoration-color: #008000\"> due to reaching max kl</span>\n",
       "</pre>\n"
      ],
      "text/plain": [
       "\u001b[32mEarly stopping at iter \u001b[0m\u001b[1;36m32\u001b[0m\u001b[32m due to reaching max kl\u001b[0m\n"
      ]
     },
     "metadata": {},
     "output_type": "display_data"
    },
    {
     "data": {
      "text/html": [
       "<pre style=\"white-space:pre;overflow-x:auto;line-height:normal;font-family:Menlo,'DejaVu Sans Mono',consolas,'Courier New',monospace\"></pre>\n"
      ],
      "text/plain": []
     },
     "metadata": {},
     "output_type": "display_data"
    },
    {
     "data": {
      "text/html": [
       "<pre style=\"white-space:pre;overflow-x:auto;line-height:normal;font-family:Menlo,'DejaVu Sans Mono',consolas,'Courier New',monospace\">\n",
       "</pre>\n"
      ],
      "text/plain": [
       "\n"
      ]
     },
     "metadata": {},
     "output_type": "display_data"
    },
    {
     "data": {
      "text/html": [
       "<pre style=\"white-space:pre;overflow-x:auto;line-height:normal;font-family:Menlo,'DejaVu Sans Mono',consolas,'Courier New',monospace\">┏━━━━━━━━━━━━━━━━━━━━━━━━━━━━━━━━┳━━━━━━━━━━━━━━━━━━━━━━━┓\n",
       "┃<span style=\"font-weight: bold\"> Metrics                        </span>┃<span style=\"font-weight: bold\"> Value                 </span>┃\n",
       "┡━━━━━━━━━━━━━━━━━━━━━━━━━━━━━━━━╇━━━━━━━━━━━━━━━━━━━━━━━┩\n",
       "│ Metrics/EpRet                  │ 11.7506742477417      │\n",
       "│ Metrics/EpCost                 │ 68.94000244140625     │\n",
       "│ Metrics/EpLen                  │ 1000.0                │\n",
       "│ Train/Epoch                    │ 20.0                  │\n",
       "│ Train/Entropy                  │ 1.0602234601974487    │\n",
       "│ Train/KL                       │ 0.02070600539445877   │\n",
       "│ Train/StopIter                 │ 32.0                  │\n",
       "│ Train/PolicyRatio/Mean         │ 0.9980916976928711    │\n",
       "│ Train/PolicyRatio/Min          │ 0.9980916976928711    │\n",
       "│ Train/PolicyRatio/Max          │ 0.9980916976928711    │\n",
       "│ Train/PolicyRatio/Std          │ 0.019609712064266205  │\n",
       "│ Train/LR                       │ 9.000000136438757e-05 │\n",
       "│ Train/PolicyStd                │ 0.6990574598312378    │\n",
       "│ TotalEnvSteps                  │ 420000.0              │\n",
       "│ Loss/Loss_pi                   │ -0.0435357429087162   │\n",
       "│ Loss/Loss_pi/Delta             │ -0.002070758491754532 │\n",
       "│ Value/Adv                      │ 0.3219517767429352    │\n",
       "│ Loss/Loss_reward_critic        │ 0.017884081229567528  │\n",
       "│ Loss/Loss_reward_critic/Delta  │ 0.0008276607841253281 │\n",
       "│ Value/reward                   │ 1.0136370658874512    │\n",
       "│ Loss/Loss_cost_critic          │ 1.3426650762557983    │\n",
       "│ Loss/Loss_cost_critic/Delta    │ 0.045613884925842285  │\n",
       "│ Value/cost                     │ 8.3670015335083       │\n",
       "│ Time/Total                     │ 3567.424560546875     │\n",
       "│ Time/Rollout                   │ 42.36970901489258     │\n",
       "│ Time/Update                    │ 137.53846740722656    │\n",
       "│ Time/Epoch                     │ 179.90818786621094    │\n",
       "│ Time/FPS                       │ 111.16781616210938    │\n",
       "│ Metrics/LagrangeMultiplier/Mea │ 0.6723694205284119    │\n",
       "│ Metrics/LagrangeMultiplier/Min │ 0.6723694205284119    │\n",
       "│ Metrics/LagrangeMultiplier/Max │ 0.6723694205284119    │\n",
       "│ Metrics/LagrangeMultiplier/Std │ 0.0                   │\n",
       "└────────────────────────────────┴───────────────────────┘\n",
       "</pre>\n"
      ],
      "text/plain": [
       "┏━━━━━━━━━━━━━━━━━━━━━━━━━━━━━━━━┳━━━━━━━━━━━━━━━━━━━━━━━┓\n",
       "┃\u001b[1m \u001b[0m\u001b[1mMetrics                       \u001b[0m\u001b[1m \u001b[0m┃\u001b[1m \u001b[0m\u001b[1mValue                \u001b[0m\u001b[1m \u001b[0m┃\n",
       "┡━━━━━━━━━━━━━━━━━━━━━━━━━━━━━━━━╇━━━━━━━━━━━━━━━━━━━━━━━┩\n",
       "│ Metrics/EpRet                  │ 11.7506742477417      │\n",
       "│ Metrics/EpCost                 │ 68.94000244140625     │\n",
       "│ Metrics/EpLen                  │ 1000.0                │\n",
       "│ Train/Epoch                    │ 20.0                  │\n",
       "│ Train/Entropy                  │ 1.0602234601974487    │\n",
       "│ Train/KL                       │ 0.02070600539445877   │\n",
       "│ Train/StopIter                 │ 32.0                  │\n",
       "│ Train/PolicyRatio/Mean         │ 0.9980916976928711    │\n",
       "│ Train/PolicyRatio/Min          │ 0.9980916976928711    │\n",
       "│ Train/PolicyRatio/Max          │ 0.9980916976928711    │\n",
       "│ Train/PolicyRatio/Std          │ 0.019609712064266205  │\n",
       "│ Train/LR                       │ 9.000000136438757e-05 │\n",
       "│ Train/PolicyStd                │ 0.6990574598312378    │\n",
       "│ TotalEnvSteps                  │ 420000.0              │\n",
       "│ Loss/Loss_pi                   │ -0.0435357429087162   │\n",
       "│ Loss/Loss_pi/Delta             │ -0.002070758491754532 │\n",
       "│ Value/Adv                      │ 0.3219517767429352    │\n",
       "│ Loss/Loss_reward_critic        │ 0.017884081229567528  │\n",
       "│ Loss/Loss_reward_critic/Delta  │ 0.0008276607841253281 │\n",
       "│ Value/reward                   │ 1.0136370658874512    │\n",
       "│ Loss/Loss_cost_critic          │ 1.3426650762557983    │\n",
       "│ Loss/Loss_cost_critic/Delta    │ 0.045613884925842285  │\n",
       "│ Value/cost                     │ 8.3670015335083       │\n",
       "│ Time/Total                     │ 3567.424560546875     │\n",
       "│ Time/Rollout                   │ 42.36970901489258     │\n",
       "│ Time/Update                    │ 137.53846740722656    │\n",
       "│ Time/Epoch                     │ 179.90818786621094    │\n",
       "│ Time/FPS                       │ 111.16781616210938    │\n",
       "│ Metrics/LagrangeMultiplier/Mea │ 0.6723694205284119    │\n",
       "│ Metrics/LagrangeMultiplier/Min │ 0.6723694205284119    │\n",
       "│ Metrics/LagrangeMultiplier/Max │ 0.6723694205284119    │\n",
       "│ Metrics/LagrangeMultiplier/Std │ 0.0                   │\n",
       "└────────────────────────────────┴───────────────────────┘\n"
      ]
     },
     "metadata": {},
     "output_type": "display_data"
    },
    {
     "data": {
      "text/html": [
       "<pre style=\"white-space:pre;overflow-x:auto;line-height:normal;font-family:Menlo,'DejaVu Sans Mono',consolas,'Courier New',monospace\"><span style=\"color: #008000; text-decoration-color: #008000\">Warning: trajectory cut off when rollout by epoch at </span><span style=\"color: #008080; text-decoration-color: #008080; font-weight: bold\">1000.0</span><span style=\"color: #008000; text-decoration-color: #008000\"> steps.</span>\n",
       "</pre>\n"
      ],
      "text/plain": [
       "\u001b[32mWarning: trajectory cut off when rollout by epoch at \u001b[0m\u001b[1;36m1000.0\u001b[0m\u001b[32m steps.\u001b[0m\n"
      ]
     },
     "metadata": {},
     "output_type": "display_data"
    },
    {
     "data": {
      "text/html": [
       "<pre style=\"white-space:pre;overflow-x:auto;line-height:normal;font-family:Menlo,'DejaVu Sans Mono',consolas,'Courier New',monospace\"><span style=\"color: #008000; text-decoration-color: #008000\">Warning: trajectory cut off when rollout by epoch at </span><span style=\"color: #008080; text-decoration-color: #008080; font-weight: bold\">1000.0</span><span style=\"color: #008000; text-decoration-color: #008000\"> steps.</span>\n",
       "</pre>\n"
      ],
      "text/plain": [
       "\u001b[32mWarning: trajectory cut off when rollout by epoch at \u001b[0m\u001b[1;36m1000.0\u001b[0m\u001b[32m steps.\u001b[0m\n"
      ]
     },
     "metadata": {},
     "output_type": "display_data"
    },
    {
     "data": {
      "text/html": [
       "<pre style=\"white-space:pre;overflow-x:auto;line-height:normal;font-family:Menlo,'DejaVu Sans Mono',consolas,'Courier New',monospace\"><span style=\"color: #008000; text-decoration-color: #008000\">Warning: trajectory cut off when rollout by epoch at </span><span style=\"color: #008080; text-decoration-color: #008080; font-weight: bold\">1000.0</span><span style=\"color: #008000; text-decoration-color: #008000\"> steps.</span>\n",
       "</pre>\n"
      ],
      "text/plain": [
       "\u001b[32mWarning: trajectory cut off when rollout by epoch at \u001b[0m\u001b[1;36m1000.0\u001b[0m\u001b[32m steps.\u001b[0m\n"
      ]
     },
     "metadata": {},
     "output_type": "display_data"
    },
    {
     "data": {
      "text/html": [
       "<pre style=\"white-space:pre;overflow-x:auto;line-height:normal;font-family:Menlo,'DejaVu Sans Mono',consolas,'Courier New',monospace\"><span style=\"color: #008000; text-decoration-color: #008000\">Warning: trajectory cut off when rollout by epoch at </span><span style=\"color: #008080; text-decoration-color: #008080; font-weight: bold\">1000.0</span><span style=\"color: #008000; text-decoration-color: #008000\"> steps.</span>\n",
       "</pre>\n"
      ],
      "text/plain": [
       "\u001b[32mWarning: trajectory cut off when rollout by epoch at \u001b[0m\u001b[1;36m1000.0\u001b[0m\u001b[32m steps.\u001b[0m\n"
      ]
     },
     "metadata": {},
     "output_type": "display_data"
    },
    {
     "data": {
      "text/html": [
       "<pre style=\"white-space:pre;overflow-x:auto;line-height:normal;font-family:Menlo,'DejaVu Sans Mono',consolas,'Courier New',monospace\"></pre>\n"
      ],
      "text/plain": []
     },
     "metadata": {},
     "output_type": "display_data"
    },
    {
     "data": {
      "text/html": [
       "<pre style=\"white-space:pre;overflow-x:auto;line-height:normal;font-family:Menlo,'DejaVu Sans Mono',consolas,'Courier New',monospace\">\n",
       "</pre>\n"
      ],
      "text/plain": [
       "\n"
      ]
     },
     "metadata": {},
     "output_type": "display_data"
    },
    {
     "data": {
      "text/html": [
       "<pre style=\"white-space:pre;overflow-x:auto;line-height:normal;font-family:Menlo,'DejaVu Sans Mono',consolas,'Courier New',monospace\"><span style=\"color: #008000; text-decoration-color: #008000\">Early stopping at iter </span><span style=\"color: #008080; text-decoration-color: #008080; font-weight: bold\">34</span><span style=\"color: #008000; text-decoration-color: #008000\"> due to reaching max kl</span>\n",
       "</pre>\n"
      ],
      "text/plain": [
       "\u001b[32mEarly stopping at iter \u001b[0m\u001b[1;36m34\u001b[0m\u001b[32m due to reaching max kl\u001b[0m\n"
      ]
     },
     "metadata": {},
     "output_type": "display_data"
    },
    {
     "data": {
      "text/html": [
       "<pre style=\"white-space:pre;overflow-x:auto;line-height:normal;font-family:Menlo,'DejaVu Sans Mono',consolas,'Courier New',monospace\"></pre>\n"
      ],
      "text/plain": []
     },
     "metadata": {},
     "output_type": "display_data"
    },
    {
     "data": {
      "text/html": [
       "<pre style=\"white-space:pre;overflow-x:auto;line-height:normal;font-family:Menlo,'DejaVu Sans Mono',consolas,'Courier New',monospace\">\n",
       "</pre>\n"
      ],
      "text/plain": [
       "\n"
      ]
     },
     "metadata": {},
     "output_type": "display_data"
    },
    {
     "data": {
      "text/html": [
       "<pre style=\"white-space:pre;overflow-x:auto;line-height:normal;font-family:Menlo,'DejaVu Sans Mono',consolas,'Courier New',monospace\">┏━━━━━━━━━━━━━━━━━━━━━━━━━━━━━━━━┳━━━━━━━━━━━━━━━━━━━━━━━┓\n",
       "┃<span style=\"font-weight: bold\"> Metrics                        </span>┃<span style=\"font-weight: bold\"> Value                 </span>┃\n",
       "┡━━━━━━━━━━━━━━━━━━━━━━━━━━━━━━━━╇━━━━━━━━━━━━━━━━━━━━━━━┩\n",
       "│ Metrics/EpRet                  │ 12.325125694274902    │\n",
       "│ Metrics/EpCost                 │ 61.36000061035156     │\n",
       "│ Metrics/EpLen                  │ 1000.0                │\n",
       "│ Train/Epoch                    │ 21.0                  │\n",
       "│ Train/Entropy                  │ 1.047627329826355     │\n",
       "│ Train/KL                       │ 0.0200851671397686    │\n",
       "│ Train/StopIter                 │ 34.0                  │\n",
       "│ Train/PolicyRatio/Mean         │ 0.9996206164360046    │\n",
       "│ Train/PolicyRatio/Min          │ 0.9996206164360046    │\n",
       "│ Train/PolicyRatio/Max          │ 0.9996206164360046    │\n",
       "│ Train/PolicyRatio/Std          │ 0.01959097757935524   │\n",
       "│ Train/LR                       │ 7.999999797903001e-05 │\n",
       "│ Train/PolicyStd                │ 0.690367579460144     │\n",
       "│ TotalEnvSteps                  │ 440000.0              │\n",
       "│ Loss/Loss_pi                   │ -0.042359910905361176 │\n",
       "│ Loss/Loss_pi/Delta             │ 0.0011758320033550262 │\n",
       "│ Value/Adv                      │ 0.317518949508667     │\n",
       "│ Loss/Loss_reward_critic        │ 0.018638361245393753  │\n",
       "│ Loss/Loss_reward_critic/Delta  │ 0.0007542800158262253 │\n",
       "│ Value/reward                   │ 1.0995941162109375    │\n",
       "│ Loss/Loss_cost_critic          │ 1.053926944732666     │\n",
       "│ Loss/Loss_cost_critic/Delta    │ -0.2887381315231323   │\n",
       "│ Value/cost                     │ 7.888641357421875     │\n",
       "│ Time/Total                     │ 3755.412353515625     │\n",
       "│ Time/Rollout                   │ 45.01067352294922     │\n",
       "│ Time/Update                    │ 142.93405151367188    │\n",
       "│ Time/Epoch                     │ 187.94471740722656    │\n",
       "│ Time/FPS                       │ 106.41426849365234    │\n",
       "│ Metrics/LagrangeMultiplier/Mea │ 0.7037032842636108    │\n",
       "│ Metrics/LagrangeMultiplier/Min │ 0.7037032842636108    │\n",
       "│ Metrics/LagrangeMultiplier/Max │ 0.7037032842636108    │\n",
       "│ Metrics/LagrangeMultiplier/Std │ 0.0                   │\n",
       "└────────────────────────────────┴───────────────────────┘\n",
       "</pre>\n"
      ],
      "text/plain": [
       "┏━━━━━━━━━━━━━━━━━━━━━━━━━━━━━━━━┳━━━━━━━━━━━━━━━━━━━━━━━┓\n",
       "┃\u001b[1m \u001b[0m\u001b[1mMetrics                       \u001b[0m\u001b[1m \u001b[0m┃\u001b[1m \u001b[0m\u001b[1mValue                \u001b[0m\u001b[1m \u001b[0m┃\n",
       "┡━━━━━━━━━━━━━━━━━━━━━━━━━━━━━━━━╇━━━━━━━━━━━━━━━━━━━━━━━┩\n",
       "│ Metrics/EpRet                  │ 12.325125694274902    │\n",
       "│ Metrics/EpCost                 │ 61.36000061035156     │\n",
       "│ Metrics/EpLen                  │ 1000.0                │\n",
       "│ Train/Epoch                    │ 21.0                  │\n",
       "│ Train/Entropy                  │ 1.047627329826355     │\n",
       "│ Train/KL                       │ 0.0200851671397686    │\n",
       "│ Train/StopIter                 │ 34.0                  │\n",
       "│ Train/PolicyRatio/Mean         │ 0.9996206164360046    │\n",
       "│ Train/PolicyRatio/Min          │ 0.9996206164360046    │\n",
       "│ Train/PolicyRatio/Max          │ 0.9996206164360046    │\n",
       "│ Train/PolicyRatio/Std          │ 0.01959097757935524   │\n",
       "│ Train/LR                       │ 7.999999797903001e-05 │\n",
       "│ Train/PolicyStd                │ 0.690367579460144     │\n",
       "│ TotalEnvSteps                  │ 440000.0              │\n",
       "│ Loss/Loss_pi                   │ -0.042359910905361176 │\n",
       "│ Loss/Loss_pi/Delta             │ 0.0011758320033550262 │\n",
       "│ Value/Adv                      │ 0.317518949508667     │\n",
       "│ Loss/Loss_reward_critic        │ 0.018638361245393753  │\n",
       "│ Loss/Loss_reward_critic/Delta  │ 0.0007542800158262253 │\n",
       "│ Value/reward                   │ 1.0995941162109375    │\n",
       "│ Loss/Loss_cost_critic          │ 1.053926944732666     │\n",
       "│ Loss/Loss_cost_critic/Delta    │ -0.2887381315231323   │\n",
       "│ Value/cost                     │ 7.888641357421875     │\n",
       "│ Time/Total                     │ 3755.412353515625     │\n",
       "│ Time/Rollout                   │ 45.01067352294922     │\n",
       "│ Time/Update                    │ 142.93405151367188    │\n",
       "│ Time/Epoch                     │ 187.94471740722656    │\n",
       "│ Time/FPS                       │ 106.41426849365234    │\n",
       "│ Metrics/LagrangeMultiplier/Mea │ 0.7037032842636108    │\n",
       "│ Metrics/LagrangeMultiplier/Min │ 0.7037032842636108    │\n",
       "│ Metrics/LagrangeMultiplier/Max │ 0.7037032842636108    │\n",
       "│ Metrics/LagrangeMultiplier/Std │ 0.0                   │\n",
       "└────────────────────────────────┴───────────────────────┘\n"
      ]
     },
     "metadata": {},
     "output_type": "display_data"
    },
    {
     "data": {
      "text/html": [
       "<pre style=\"white-space:pre;overflow-x:auto;line-height:normal;font-family:Menlo,'DejaVu Sans Mono',consolas,'Courier New',monospace\"><span style=\"color: #008000; text-decoration-color: #008000\">Warning: trajectory cut off when rollout by epoch at </span><span style=\"color: #008080; text-decoration-color: #008080; font-weight: bold\">1000.0</span><span style=\"color: #008000; text-decoration-color: #008000\"> steps.</span>\n",
       "</pre>\n"
      ],
      "text/plain": [
       "\u001b[32mWarning: trajectory cut off when rollout by epoch at \u001b[0m\u001b[1;36m1000.0\u001b[0m\u001b[32m steps.\u001b[0m\n"
      ]
     },
     "metadata": {},
     "output_type": "display_data"
    },
    {
     "data": {
      "text/html": [
       "<pre style=\"white-space:pre;overflow-x:auto;line-height:normal;font-family:Menlo,'DejaVu Sans Mono',consolas,'Courier New',monospace\"><span style=\"color: #008000; text-decoration-color: #008000\">Warning: trajectory cut off when rollout by epoch at </span><span style=\"color: #008080; text-decoration-color: #008080; font-weight: bold\">1000.0</span><span style=\"color: #008000; text-decoration-color: #008000\"> steps.</span>\n",
       "</pre>\n"
      ],
      "text/plain": [
       "\u001b[32mWarning: trajectory cut off when rollout by epoch at \u001b[0m\u001b[1;36m1000.0\u001b[0m\u001b[32m steps.\u001b[0m\n"
      ]
     },
     "metadata": {},
     "output_type": "display_data"
    },
    {
     "data": {
      "text/html": [
       "<pre style=\"white-space:pre;overflow-x:auto;line-height:normal;font-family:Menlo,'DejaVu Sans Mono',consolas,'Courier New',monospace\"><span style=\"color: #008000; text-decoration-color: #008000\">Warning: trajectory cut off when rollout by epoch at </span><span style=\"color: #008080; text-decoration-color: #008080; font-weight: bold\">1000.0</span><span style=\"color: #008000; text-decoration-color: #008000\"> steps.</span>\n",
       "</pre>\n"
      ],
      "text/plain": [
       "\u001b[32mWarning: trajectory cut off when rollout by epoch at \u001b[0m\u001b[1;36m1000.0\u001b[0m\u001b[32m steps.\u001b[0m\n"
      ]
     },
     "metadata": {},
     "output_type": "display_data"
    },
    {
     "data": {
      "text/html": [
       "<pre style=\"white-space:pre;overflow-x:auto;line-height:normal;font-family:Menlo,'DejaVu Sans Mono',consolas,'Courier New',monospace\"><span style=\"color: #008000; text-decoration-color: #008000\">Warning: trajectory cut off when rollout by epoch at </span><span style=\"color: #008080; text-decoration-color: #008080; font-weight: bold\">1000.0</span><span style=\"color: #008000; text-decoration-color: #008000\"> steps.</span>\n",
       "</pre>\n"
      ],
      "text/plain": [
       "\u001b[32mWarning: trajectory cut off when rollout by epoch at \u001b[0m\u001b[1;36m1000.0\u001b[0m\u001b[32m steps.\u001b[0m\n"
      ]
     },
     "metadata": {},
     "output_type": "display_data"
    },
    {
     "data": {
      "text/html": [
       "<pre style=\"white-space:pre;overflow-x:auto;line-height:normal;font-family:Menlo,'DejaVu Sans Mono',consolas,'Courier New',monospace\"></pre>\n"
      ],
      "text/plain": []
     },
     "metadata": {},
     "output_type": "display_data"
    },
    {
     "data": {
      "text/html": [
       "<pre style=\"white-space:pre;overflow-x:auto;line-height:normal;font-family:Menlo,'DejaVu Sans Mono',consolas,'Courier New',monospace\">\n",
       "</pre>\n"
      ],
      "text/plain": [
       "\n"
      ]
     },
     "metadata": {},
     "output_type": "display_data"
    },
    {
     "data": {
      "text/html": [
       "<pre style=\"white-space:pre;overflow-x:auto;line-height:normal;font-family:Menlo,'DejaVu Sans Mono',consolas,'Courier New',monospace\"></pre>\n"
      ],
      "text/plain": []
     },
     "metadata": {},
     "output_type": "display_data"
    },
    {
     "data": {
      "text/html": [
       "<pre style=\"white-space:pre;overflow-x:auto;line-height:normal;font-family:Menlo,'DejaVu Sans Mono',consolas,'Courier New',monospace\">\n",
       "</pre>\n"
      ],
      "text/plain": [
       "\n"
      ]
     },
     "metadata": {},
     "output_type": "display_data"
    },
    {
     "data": {
      "text/html": [
       "<pre style=\"white-space:pre;overflow-x:auto;line-height:normal;font-family:Menlo,'DejaVu Sans Mono',consolas,'Courier New',monospace\">┏━━━━━━━━━━━━━━━━━━━━━━━━━━━━━━━━┳━━━━━━━━━━━━━━━━━━━━━━━┓\n",
       "┃<span style=\"font-weight: bold\"> Metrics                        </span>┃<span style=\"font-weight: bold\"> Value                 </span>┃\n",
       "┡━━━━━━━━━━━━━━━━━━━━━━━━━━━━━━━━╇━━━━━━━━━━━━━━━━━━━━━━━┩\n",
       "│ Metrics/EpRet                  │ 12.244523048400879    │\n",
       "│ Metrics/EpCost                 │ 55.119998931884766    │\n",
       "│ Metrics/EpLen                  │ 1000.0                │\n",
       "│ Train/Epoch                    │ 22.0                  │\n",
       "│ Train/Entropy                  │ 1.0421721935272217    │\n",
       "│ Train/KL                       │ 0.018926579505205154  │\n",
       "│ Train/StopIter                 │ 40.0                  │\n",
       "│ Train/PolicyRatio/Mean         │ 0.9997353553771973    │\n",
       "│ Train/PolicyRatio/Min          │ 0.9997353553771973    │\n",
       "│ Train/PolicyRatio/Max          │ 0.9997353553771973    │\n",
       "│ Train/PolicyRatio/Std          │ 0.01980222761631012   │\n",
       "│ Train/LR                       │ 7.000000186963007e-05 │\n",
       "│ Train/PolicyStd                │ 0.6865845918655396    │\n",
       "│ TotalEnvSteps                  │ 460000.0              │\n",
       "│ Loss/Loss_pi                   │ -0.041572682559490204 │\n",
       "│ Loss/Loss_pi/Delta             │ 0.0007872283458709717 │\n",
       "│ Value/Adv                      │ 0.11884114146232605   │\n",
       "│ Loss/Loss_reward_critic        │ 0.021196071058511734  │\n",
       "│ Loss/Loss_reward_critic/Delta  │ 0.002557709813117981  │\n",
       "│ Value/reward                   │ 1.1188312768936157    │\n",
       "│ Loss/Loss_cost_critic          │ 1.0625369548797607    │\n",
       "│ Loss/Loss_cost_critic/Delta    │ 0.008610010147094727  │\n",
       "│ Value/cost                     │ 8.477192878723145     │\n",
       "│ Time/Total                     │ 3966.12451171875      │\n",
       "│ Time/Rollout                   │ 42.54551315307617     │\n",
       "│ Time/Update                    │ 168.1257781982422     │\n",
       "│ Time/Epoch                     │ 210.67127990722656    │\n",
       "│ Time/FPS                       │ 94.93463134765625     │\n",
       "│ Metrics/LagrangeMultiplier/Mea │ 0.7343278527259827    │\n",
       "│ Metrics/LagrangeMultiplier/Min │ 0.7343278527259827    │\n",
       "│ Metrics/LagrangeMultiplier/Max │ 0.7343278527259827    │\n",
       "│ Metrics/LagrangeMultiplier/Std │ 0.0                   │\n",
       "└────────────────────────────────┴───────────────────────┘\n",
       "</pre>\n"
      ],
      "text/plain": [
       "┏━━━━━━━━━━━━━━━━━━━━━━━━━━━━━━━━┳━━━━━━━━━━━━━━━━━━━━━━━┓\n",
       "┃\u001b[1m \u001b[0m\u001b[1mMetrics                       \u001b[0m\u001b[1m \u001b[0m┃\u001b[1m \u001b[0m\u001b[1mValue                \u001b[0m\u001b[1m \u001b[0m┃\n",
       "┡━━━━━━━━━━━━━━━━━━━━━━━━━━━━━━━━╇━━━━━━━━━━━━━━━━━━━━━━━┩\n",
       "│ Metrics/EpRet                  │ 12.244523048400879    │\n",
       "│ Metrics/EpCost                 │ 55.119998931884766    │\n",
       "│ Metrics/EpLen                  │ 1000.0                │\n",
       "│ Train/Epoch                    │ 22.0                  │\n",
       "│ Train/Entropy                  │ 1.0421721935272217    │\n",
       "│ Train/KL                       │ 0.018926579505205154  │\n",
       "│ Train/StopIter                 │ 40.0                  │\n",
       "│ Train/PolicyRatio/Mean         │ 0.9997353553771973    │\n",
       "│ Train/PolicyRatio/Min          │ 0.9997353553771973    │\n",
       "│ Train/PolicyRatio/Max          │ 0.9997353553771973    │\n",
       "│ Train/PolicyRatio/Std          │ 0.01980222761631012   │\n",
       "│ Train/LR                       │ 7.000000186963007e-05 │\n",
       "│ Train/PolicyStd                │ 0.6865845918655396    │\n",
       "│ TotalEnvSteps                  │ 460000.0              │\n",
       "│ Loss/Loss_pi                   │ -0.041572682559490204 │\n",
       "│ Loss/Loss_pi/Delta             │ 0.0007872283458709717 │\n",
       "│ Value/Adv                      │ 0.11884114146232605   │\n",
       "│ Loss/Loss_reward_critic        │ 0.021196071058511734  │\n",
       "│ Loss/Loss_reward_critic/Delta  │ 0.002557709813117981  │\n",
       "│ Value/reward                   │ 1.1188312768936157    │\n",
       "│ Loss/Loss_cost_critic          │ 1.0625369548797607    │\n",
       "│ Loss/Loss_cost_critic/Delta    │ 0.008610010147094727  │\n",
       "│ Value/cost                     │ 8.477192878723145     │\n",
       "│ Time/Total                     │ 3966.12451171875      │\n",
       "│ Time/Rollout                   │ 42.54551315307617     │\n",
       "│ Time/Update                    │ 168.1257781982422     │\n",
       "│ Time/Epoch                     │ 210.67127990722656    │\n",
       "│ Time/FPS                       │ 94.93463134765625     │\n",
       "│ Metrics/LagrangeMultiplier/Mea │ 0.7343278527259827    │\n",
       "│ Metrics/LagrangeMultiplier/Min │ 0.7343278527259827    │\n",
       "│ Metrics/LagrangeMultiplier/Max │ 0.7343278527259827    │\n",
       "│ Metrics/LagrangeMultiplier/Std │ 0.0                   │\n",
       "└────────────────────────────────┴───────────────────────┘\n"
      ]
     },
     "metadata": {},
     "output_type": "display_data"
    },
    {
     "data": {
      "text/html": [
       "<pre style=\"white-space:pre;overflow-x:auto;line-height:normal;font-family:Menlo,'DejaVu Sans Mono',consolas,'Courier New',monospace\"><span style=\"color: #008000; text-decoration-color: #008000\">Warning: trajectory cut off when rollout by epoch at </span><span style=\"color: #008080; text-decoration-color: #008080; font-weight: bold\">1000.0</span><span style=\"color: #008000; text-decoration-color: #008000\"> steps.</span>\n",
       "</pre>\n"
      ],
      "text/plain": [
       "\u001b[32mWarning: trajectory cut off when rollout by epoch at \u001b[0m\u001b[1;36m1000.0\u001b[0m\u001b[32m steps.\u001b[0m\n"
      ]
     },
     "metadata": {},
     "output_type": "display_data"
    },
    {
     "data": {
      "text/html": [
       "<pre style=\"white-space:pre;overflow-x:auto;line-height:normal;font-family:Menlo,'DejaVu Sans Mono',consolas,'Courier New',monospace\"><span style=\"color: #008000; text-decoration-color: #008000\">Warning: trajectory cut off when rollout by epoch at </span><span style=\"color: #008080; text-decoration-color: #008080; font-weight: bold\">1000.0</span><span style=\"color: #008000; text-decoration-color: #008000\"> steps.</span>\n",
       "</pre>\n"
      ],
      "text/plain": [
       "\u001b[32mWarning: trajectory cut off when rollout by epoch at \u001b[0m\u001b[1;36m1000.0\u001b[0m\u001b[32m steps.\u001b[0m\n"
      ]
     },
     "metadata": {},
     "output_type": "display_data"
    },
    {
     "data": {
      "text/html": [
       "<pre style=\"white-space:pre;overflow-x:auto;line-height:normal;font-family:Menlo,'DejaVu Sans Mono',consolas,'Courier New',monospace\"><span style=\"color: #008000; text-decoration-color: #008000\">Warning: trajectory cut off when rollout by epoch at </span><span style=\"color: #008080; text-decoration-color: #008080; font-weight: bold\">1000.0</span><span style=\"color: #008000; text-decoration-color: #008000\"> steps.</span>\n",
       "</pre>\n"
      ],
      "text/plain": [
       "\u001b[32mWarning: trajectory cut off when rollout by epoch at \u001b[0m\u001b[1;36m1000.0\u001b[0m\u001b[32m steps.\u001b[0m\n"
      ]
     },
     "metadata": {},
     "output_type": "display_data"
    },
    {
     "data": {
      "text/html": [
       "<pre style=\"white-space:pre;overflow-x:auto;line-height:normal;font-family:Menlo,'DejaVu Sans Mono',consolas,'Courier New',monospace\"><span style=\"color: #008000; text-decoration-color: #008000\">Warning: trajectory cut off when rollout by epoch at </span><span style=\"color: #008080; text-decoration-color: #008080; font-weight: bold\">1000.0</span><span style=\"color: #008000; text-decoration-color: #008000\"> steps.</span>\n",
       "</pre>\n"
      ],
      "text/plain": [
       "\u001b[32mWarning: trajectory cut off when rollout by epoch at \u001b[0m\u001b[1;36m1000.0\u001b[0m\u001b[32m steps.\u001b[0m\n"
      ]
     },
     "metadata": {},
     "output_type": "display_data"
    },
    {
     "data": {
      "text/html": [
       "<pre style=\"white-space:pre;overflow-x:auto;line-height:normal;font-family:Menlo,'DejaVu Sans Mono',consolas,'Courier New',monospace\"></pre>\n"
      ],
      "text/plain": []
     },
     "metadata": {},
     "output_type": "display_data"
    },
    {
     "data": {
      "text/html": [
       "<pre style=\"white-space:pre;overflow-x:auto;line-height:normal;font-family:Menlo,'DejaVu Sans Mono',consolas,'Courier New',monospace\">\n",
       "</pre>\n"
      ],
      "text/plain": [
       "\n"
      ]
     },
     "metadata": {},
     "output_type": "display_data"
    },
    {
     "data": {
      "text/html": [
       "<pre style=\"white-space:pre;overflow-x:auto;line-height:normal;font-family:Menlo,'DejaVu Sans Mono',consolas,'Courier New',monospace\"></pre>\n"
      ],
      "text/plain": []
     },
     "metadata": {},
     "output_type": "display_data"
    },
    {
     "data": {
      "text/html": [
       "<pre style=\"white-space:pre;overflow-x:auto;line-height:normal;font-family:Menlo,'DejaVu Sans Mono',consolas,'Courier New',monospace\">\n",
       "</pre>\n"
      ],
      "text/plain": [
       "\n"
      ]
     },
     "metadata": {},
     "output_type": "display_data"
    },
    {
     "data": {
      "text/html": [
       "<pre style=\"white-space:pre;overflow-x:auto;line-height:normal;font-family:Menlo,'DejaVu Sans Mono',consolas,'Courier New',monospace\">┏━━━━━━━━━━━━━━━━━━━━━━━━━━━━━━━━┳━━━━━━━━━━━━━━━━━━━━━━━━┓\n",
       "┃<span style=\"font-weight: bold\"> Metrics                        </span>┃<span style=\"font-weight: bold\"> Value                  </span>┃\n",
       "┡━━━━━━━━━━━━━━━━━━━━━━━━━━━━━━━━╇━━━━━━━━━━━━━━━━━━━━━━━━┩\n",
       "│ Metrics/EpRet                  │ 12.721445083618164     │\n",
       "│ Metrics/EpCost                 │ 61.560001373291016     │\n",
       "│ Metrics/EpLen                  │ 1000.0                 │\n",
       "│ Train/Epoch                    │ 23.0                   │\n",
       "│ Train/Entropy                  │ 1.0314639806747437     │\n",
       "│ Train/KL                       │ 0.018437765538692474   │\n",
       "│ Train/StopIter                 │ 40.0                   │\n",
       "│ Train/PolicyRatio/Mean         │ 0.9999262094497681     │\n",
       "│ Train/PolicyRatio/Min          │ 0.9999262094497681     │\n",
       "│ Train/PolicyRatio/Max          │ 0.9999262094497681     │\n",
       "│ Train/PolicyRatio/Std          │ 0.01922420598566532    │\n",
       "│ Train/LR                       │ 5.999999848427251e-05  │\n",
       "│ Train/PolicyStd                │ 0.6792424321174622     │\n",
       "│ TotalEnvSteps                  │ 480000.0               │\n",
       "│ Loss/Loss_pi                   │ -0.04706745967268944   │\n",
       "│ Loss/Loss_pi/Delta             │ -0.005494777113199234  │\n",
       "│ Value/Adv                      │ 0.11359990388154984    │\n",
       "│ Loss/Loss_reward_critic        │ 0.021439358592033386   │\n",
       "│ Loss/Loss_reward_critic/Delta  │ 0.00024328753352165222 │\n",
       "│ Value/reward                   │ 1.130937099456787      │\n",
       "│ Loss/Loss_cost_critic          │ 1.1291754245758057     │\n",
       "│ Loss/Loss_cost_critic/Delta    │ 0.06663846969604492    │\n",
       "│ Value/cost                     │ 7.690720081329346      │\n",
       "│ Time/Total                     │ 4177.900390625         │\n",
       "│ Time/Rollout                   │ 43.367828369140625     │\n",
       "│ Time/Update                    │ 168.36175537109375     │\n",
       "│ Time/Epoch                     │ 211.72958374023438     │\n",
       "│ Time/FPS                       │ 94.46011352539062      │\n",
       "│ Metrics/LagrangeMultiplier/Mea │ 0.7647159695625305     │\n",
       "│ Metrics/LagrangeMultiplier/Min │ 0.7647159695625305     │\n",
       "│ Metrics/LagrangeMultiplier/Max │ 0.7647159695625305     │\n",
       "│ Metrics/LagrangeMultiplier/Std │ 0.0                    │\n",
       "└────────────────────────────────┴────────────────────────┘\n",
       "</pre>\n"
      ],
      "text/plain": [
       "┏━━━━━━━━━━━━━━━━━━━━━━━━━━━━━━━━┳━━━━━━━━━━━━━━━━━━━━━━━━┓\n",
       "┃\u001b[1m \u001b[0m\u001b[1mMetrics                       \u001b[0m\u001b[1m \u001b[0m┃\u001b[1m \u001b[0m\u001b[1mValue                 \u001b[0m\u001b[1m \u001b[0m┃\n",
       "┡━━━━━━━━━━━━━━━━━━━━━━━━━━━━━━━━╇━━━━━━━━━━━━━━━━━━━━━━━━┩\n",
       "│ Metrics/EpRet                  │ 12.721445083618164     │\n",
       "│ Metrics/EpCost                 │ 61.560001373291016     │\n",
       "│ Metrics/EpLen                  │ 1000.0                 │\n",
       "│ Train/Epoch                    │ 23.0                   │\n",
       "│ Train/Entropy                  │ 1.0314639806747437     │\n",
       "│ Train/KL                       │ 0.018437765538692474   │\n",
       "│ Train/StopIter                 │ 40.0                   │\n",
       "│ Train/PolicyRatio/Mean         │ 0.9999262094497681     │\n",
       "│ Train/PolicyRatio/Min          │ 0.9999262094497681     │\n",
       "│ Train/PolicyRatio/Max          │ 0.9999262094497681     │\n",
       "│ Train/PolicyRatio/Std          │ 0.01922420598566532    │\n",
       "│ Train/LR                       │ 5.999999848427251e-05  │\n",
       "│ Train/PolicyStd                │ 0.6792424321174622     │\n",
       "│ TotalEnvSteps                  │ 480000.0               │\n",
       "│ Loss/Loss_pi                   │ -0.04706745967268944   │\n",
       "│ Loss/Loss_pi/Delta             │ -0.005494777113199234  │\n",
       "│ Value/Adv                      │ 0.11359990388154984    │\n",
       "│ Loss/Loss_reward_critic        │ 0.021439358592033386   │\n",
       "│ Loss/Loss_reward_critic/Delta  │ 0.00024328753352165222 │\n",
       "│ Value/reward                   │ 1.130937099456787      │\n",
       "│ Loss/Loss_cost_critic          │ 1.1291754245758057     │\n",
       "│ Loss/Loss_cost_critic/Delta    │ 0.06663846969604492    │\n",
       "│ Value/cost                     │ 7.690720081329346      │\n",
       "│ Time/Total                     │ 4177.900390625         │\n",
       "│ Time/Rollout                   │ 43.367828369140625     │\n",
       "│ Time/Update                    │ 168.36175537109375     │\n",
       "│ Time/Epoch                     │ 211.72958374023438     │\n",
       "│ Time/FPS                       │ 94.46011352539062      │\n",
       "│ Metrics/LagrangeMultiplier/Mea │ 0.7647159695625305     │\n",
       "│ Metrics/LagrangeMultiplier/Min │ 0.7647159695625305     │\n",
       "│ Metrics/LagrangeMultiplier/Max │ 0.7647159695625305     │\n",
       "│ Metrics/LagrangeMultiplier/Std │ 0.0                    │\n",
       "└────────────────────────────────┴────────────────────────┘\n"
      ]
     },
     "metadata": {},
     "output_type": "display_data"
    },
    {
     "data": {
      "text/html": [
       "<pre style=\"white-space:pre;overflow-x:auto;line-height:normal;font-family:Menlo,'DejaVu Sans Mono',consolas,'Courier New',monospace\"><span style=\"color: #008000; text-decoration-color: #008000\">Warning: trajectory cut off when rollout by epoch at </span><span style=\"color: #008080; text-decoration-color: #008080; font-weight: bold\">1000.0</span><span style=\"color: #008000; text-decoration-color: #008000\"> steps.</span>\n",
       "</pre>\n"
      ],
      "text/plain": [
       "\u001b[32mWarning: trajectory cut off when rollout by epoch at \u001b[0m\u001b[1;36m1000.0\u001b[0m\u001b[32m steps.\u001b[0m\n"
      ]
     },
     "metadata": {},
     "output_type": "display_data"
    },
    {
     "data": {
      "text/html": [
       "<pre style=\"white-space:pre;overflow-x:auto;line-height:normal;font-family:Menlo,'DejaVu Sans Mono',consolas,'Courier New',monospace\"><span style=\"color: #008000; text-decoration-color: #008000\">Warning: trajectory cut off when rollout by epoch at </span><span style=\"color: #008080; text-decoration-color: #008080; font-weight: bold\">1000.0</span><span style=\"color: #008000; text-decoration-color: #008000\"> steps.</span>\n",
       "</pre>\n"
      ],
      "text/plain": [
       "\u001b[32mWarning: trajectory cut off when rollout by epoch at \u001b[0m\u001b[1;36m1000.0\u001b[0m\u001b[32m steps.\u001b[0m\n"
      ]
     },
     "metadata": {},
     "output_type": "display_data"
    },
    {
     "data": {
      "text/html": [
       "<pre style=\"white-space:pre;overflow-x:auto;line-height:normal;font-family:Menlo,'DejaVu Sans Mono',consolas,'Courier New',monospace\"><span style=\"color: #008000; text-decoration-color: #008000\">Warning: trajectory cut off when rollout by epoch at </span><span style=\"color: #008080; text-decoration-color: #008080; font-weight: bold\">1000.0</span><span style=\"color: #008000; text-decoration-color: #008000\"> steps.</span>\n",
       "</pre>\n"
      ],
      "text/plain": [
       "\u001b[32mWarning: trajectory cut off when rollout by epoch at \u001b[0m\u001b[1;36m1000.0\u001b[0m\u001b[32m steps.\u001b[0m\n"
      ]
     },
     "metadata": {},
     "output_type": "display_data"
    },
    {
     "data": {
      "text/html": [
       "<pre style=\"white-space:pre;overflow-x:auto;line-height:normal;font-family:Menlo,'DejaVu Sans Mono',consolas,'Courier New',monospace\"><span style=\"color: #008000; text-decoration-color: #008000\">Warning: trajectory cut off when rollout by epoch at </span><span style=\"color: #008080; text-decoration-color: #008080; font-weight: bold\">1000.0</span><span style=\"color: #008000; text-decoration-color: #008000\"> steps.</span>\n",
       "</pre>\n"
      ],
      "text/plain": [
       "\u001b[32mWarning: trajectory cut off when rollout by epoch at \u001b[0m\u001b[1;36m1000.0\u001b[0m\u001b[32m steps.\u001b[0m\n"
      ]
     },
     "metadata": {},
     "output_type": "display_data"
    },
    {
     "data": {
      "text/html": [
       "<pre style=\"white-space:pre;overflow-x:auto;line-height:normal;font-family:Menlo,'DejaVu Sans Mono',consolas,'Courier New',monospace\"></pre>\n"
      ],
      "text/plain": []
     },
     "metadata": {},
     "output_type": "display_data"
    },
    {
     "data": {
      "text/html": [
       "<pre style=\"white-space:pre;overflow-x:auto;line-height:normal;font-family:Menlo,'DejaVu Sans Mono',consolas,'Courier New',monospace\">\n",
       "</pre>\n"
      ],
      "text/plain": [
       "\n"
      ]
     },
     "metadata": {},
     "output_type": "display_data"
    },
    {
     "data": {
      "text/html": [
       "<pre style=\"white-space:pre;overflow-x:auto;line-height:normal;font-family:Menlo,'DejaVu Sans Mono',consolas,'Courier New',monospace\"></pre>\n"
      ],
      "text/plain": []
     },
     "metadata": {},
     "output_type": "display_data"
    },
    {
     "data": {
      "text/html": [
       "<pre style=\"white-space:pre;overflow-x:auto;line-height:normal;font-family:Menlo,'DejaVu Sans Mono',consolas,'Courier New',monospace\">\n",
       "</pre>\n"
      ],
      "text/plain": [
       "\n"
      ]
     },
     "metadata": {},
     "output_type": "display_data"
    },
    {
     "data": {
      "text/html": [
       "<pre style=\"white-space:pre;overflow-x:auto;line-height:normal;font-family:Menlo,'DejaVu Sans Mono',consolas,'Courier New',monospace\">┏━━━━━━━━━━━━━━━━━━━━━━━━━━━━━━━━┳━━━━━━━━━━━━━━━━━━━━━━━━┓\n",
       "┃<span style=\"font-weight: bold\"> Metrics                        </span>┃<span style=\"font-weight: bold\"> Value                  </span>┃\n",
       "┡━━━━━━━━━━━━━━━━━━━━━━━━━━━━━━━━╇━━━━━━━━━━━━━━━━━━━━━━━━┩\n",
       "│ Metrics/EpRet                  │ 12.794580459594727     │\n",
       "│ Metrics/EpCost                 │ 65.23999786376953      │\n",
       "│ Metrics/EpLen                  │ 1000.0                 │\n",
       "│ Train/Epoch                    │ 24.0                   │\n",
       "│ Train/Entropy                  │ 1.0200133323669434     │\n",
       "│ Train/KL                       │ 0.017868569120764732   │\n",
       "│ Train/StopIter                 │ 40.0                   │\n",
       "│ Train/PolicyRatio/Mean         │ 1.0012190341949463     │\n",
       "│ Train/PolicyRatio/Min          │ 1.0012189149856567     │\n",
       "│ Train/PolicyRatio/Max          │ 1.0012189149856567     │\n",
       "│ Train/PolicyRatio/Std          │ 0.01830076426267624    │\n",
       "│ Train/LR                       │ 4.999999873689376e-05  │\n",
       "│ Train/PolicyStd                │ 0.6714627742767334     │\n",
       "│ TotalEnvSteps                  │ 500000.0               │\n",
       "│ Loss/Loss_pi                   │ -0.0449451319873333    │\n",
       "│ Loss/Loss_pi/Delta             │ 0.00212232768535614    │\n",
       "│ Value/Adv                      │ -0.04957091435790062   │\n",
       "│ Loss/Loss_reward_critic        │ 0.019530894234776497   │\n",
       "│ Loss/Loss_reward_critic/Delta  │ -0.0019084643572568893 │\n",
       "│ Value/reward                   │ 1.1551697254180908     │\n",
       "│ Loss/Loss_cost_critic          │ 1.054366111755371      │\n",
       "│ Loss/Loss_cost_critic/Delta    │ -0.07480931282043457   │\n",
       "│ Value/cost                     │ 7.57059383392334       │\n",
       "│ Time/Total                     │ 4388.1552734375        │\n",
       "│ Time/Rollout                   │ 42.648624420166016     │\n",
       "│ Time/Update                    │ 167.5618438720703      │\n",
       "│ Time/Epoch                     │ 210.21046447753906     │\n",
       "│ Time/FPS                       │ 95.14273834228516      │\n",
       "│ Metrics/LagrangeMultiplier/Mea │ 0.7951161861419678     │\n",
       "│ Metrics/LagrangeMultiplier/Min │ 0.7951161861419678     │\n",
       "│ Metrics/LagrangeMultiplier/Max │ 0.7951161861419678     │\n",
       "│ Metrics/LagrangeMultiplier/Std │ 0.0                    │\n",
       "└────────────────────────────────┴────────────────────────┘\n",
       "</pre>\n"
      ],
      "text/plain": [
       "┏━━━━━━━━━━━━━━━━━━━━━━━━━━━━━━━━┳━━━━━━━━━━━━━━━━━━━━━━━━┓\n",
       "┃\u001b[1m \u001b[0m\u001b[1mMetrics                       \u001b[0m\u001b[1m \u001b[0m┃\u001b[1m \u001b[0m\u001b[1mValue                 \u001b[0m\u001b[1m \u001b[0m┃\n",
       "┡━━━━━━━━━━━━━━━━━━━━━━━━━━━━━━━━╇━━━━━━━━━━━━━━━━━━━━━━━━┩\n",
       "│ Metrics/EpRet                  │ 12.794580459594727     │\n",
       "│ Metrics/EpCost                 │ 65.23999786376953      │\n",
       "│ Metrics/EpLen                  │ 1000.0                 │\n",
       "│ Train/Epoch                    │ 24.0                   │\n",
       "│ Train/Entropy                  │ 1.0200133323669434     │\n",
       "│ Train/KL                       │ 0.017868569120764732   │\n",
       "│ Train/StopIter                 │ 40.0                   │\n",
       "│ Train/PolicyRatio/Mean         │ 1.0012190341949463     │\n",
       "│ Train/PolicyRatio/Min          │ 1.0012189149856567     │\n",
       "│ Train/PolicyRatio/Max          │ 1.0012189149856567     │\n",
       "│ Train/PolicyRatio/Std          │ 0.01830076426267624    │\n",
       "│ Train/LR                       │ 4.999999873689376e-05  │\n",
       "│ Train/PolicyStd                │ 0.6714627742767334     │\n",
       "│ TotalEnvSteps                  │ 500000.0               │\n",
       "│ Loss/Loss_pi                   │ -0.0449451319873333    │\n",
       "│ Loss/Loss_pi/Delta             │ 0.00212232768535614    │\n",
       "│ Value/Adv                      │ -0.04957091435790062   │\n",
       "│ Loss/Loss_reward_critic        │ 0.019530894234776497   │\n",
       "│ Loss/Loss_reward_critic/Delta  │ -0.0019084643572568893 │\n",
       "│ Value/reward                   │ 1.1551697254180908     │\n",
       "│ Loss/Loss_cost_critic          │ 1.054366111755371      │\n",
       "│ Loss/Loss_cost_critic/Delta    │ -0.07480931282043457   │\n",
       "│ Value/cost                     │ 7.57059383392334       │\n",
       "│ Time/Total                     │ 4388.1552734375        │\n",
       "│ Time/Rollout                   │ 42.648624420166016     │\n",
       "│ Time/Update                    │ 167.5618438720703      │\n",
       "│ Time/Epoch                     │ 210.21046447753906     │\n",
       "│ Time/FPS                       │ 95.14273834228516      │\n",
       "│ Metrics/LagrangeMultiplier/Mea │ 0.7951161861419678     │\n",
       "│ Metrics/LagrangeMultiplier/Min │ 0.7951161861419678     │\n",
       "│ Metrics/LagrangeMultiplier/Max │ 0.7951161861419678     │\n",
       "│ Metrics/LagrangeMultiplier/Std │ 0.0                    │\n",
       "└────────────────────────────────┴────────────────────────┘\n"
      ]
     },
     "metadata": {},
     "output_type": "display_data"
    },
    {
     "data": {
      "text/html": [
       "<pre style=\"white-space:pre;overflow-x:auto;line-height:normal;font-family:Menlo,'DejaVu Sans Mono',consolas,'Courier New',monospace\"><span style=\"color: #008000; text-decoration-color: #008000\">Warning: trajectory cut off when rollout by epoch at </span><span style=\"color: #008080; text-decoration-color: #008080; font-weight: bold\">1000.0</span><span style=\"color: #008000; text-decoration-color: #008000\"> steps.</span>\n",
       "</pre>\n"
      ],
      "text/plain": [
       "\u001b[32mWarning: trajectory cut off when rollout by epoch at \u001b[0m\u001b[1;36m1000.0\u001b[0m\u001b[32m steps.\u001b[0m\n"
      ]
     },
     "metadata": {},
     "output_type": "display_data"
    },
    {
     "data": {
      "text/html": [
       "<pre style=\"white-space:pre;overflow-x:auto;line-height:normal;font-family:Menlo,'DejaVu Sans Mono',consolas,'Courier New',monospace\"><span style=\"color: #008000; text-decoration-color: #008000\">Warning: trajectory cut off when rollout by epoch at </span><span style=\"color: #008080; text-decoration-color: #008080; font-weight: bold\">1000.0</span><span style=\"color: #008000; text-decoration-color: #008000\"> steps.</span>\n",
       "</pre>\n"
      ],
      "text/plain": [
       "\u001b[32mWarning: trajectory cut off when rollout by epoch at \u001b[0m\u001b[1;36m1000.0\u001b[0m\u001b[32m steps.\u001b[0m\n"
      ]
     },
     "metadata": {},
     "output_type": "display_data"
    },
    {
     "data": {
      "text/html": [
       "<pre style=\"white-space:pre;overflow-x:auto;line-height:normal;font-family:Menlo,'DejaVu Sans Mono',consolas,'Courier New',monospace\"><span style=\"color: #008000; text-decoration-color: #008000\">Warning: trajectory cut off when rollout by epoch at </span><span style=\"color: #008080; text-decoration-color: #008080; font-weight: bold\">1000.0</span><span style=\"color: #008000; text-decoration-color: #008000\"> steps.</span>\n",
       "</pre>\n"
      ],
      "text/plain": [
       "\u001b[32mWarning: trajectory cut off when rollout by epoch at \u001b[0m\u001b[1;36m1000.0\u001b[0m\u001b[32m steps.\u001b[0m\n"
      ]
     },
     "metadata": {},
     "output_type": "display_data"
    },
    {
     "data": {
      "text/html": [
       "<pre style=\"white-space:pre;overflow-x:auto;line-height:normal;font-family:Menlo,'DejaVu Sans Mono',consolas,'Courier New',monospace\"><span style=\"color: #008000; text-decoration-color: #008000\">Warning: trajectory cut off when rollout by epoch at </span><span style=\"color: #008080; text-decoration-color: #008080; font-weight: bold\">1000.0</span><span style=\"color: #008000; text-decoration-color: #008000\"> steps.</span>\n",
       "</pre>\n"
      ],
      "text/plain": [
       "\u001b[32mWarning: trajectory cut off when rollout by epoch at \u001b[0m\u001b[1;36m1000.0\u001b[0m\u001b[32m steps.\u001b[0m\n"
      ]
     },
     "metadata": {},
     "output_type": "display_data"
    },
    {
     "data": {
      "text/html": [
       "<pre style=\"white-space:pre;overflow-x:auto;line-height:normal;font-family:Menlo,'DejaVu Sans Mono',consolas,'Courier New',monospace\"></pre>\n"
      ],
      "text/plain": []
     },
     "metadata": {},
     "output_type": "display_data"
    },
    {
     "data": {
      "text/html": [
       "<pre style=\"white-space:pre;overflow-x:auto;line-height:normal;font-family:Menlo,'DejaVu Sans Mono',consolas,'Courier New',monospace\">\n",
       "</pre>\n"
      ],
      "text/plain": [
       "\n"
      ]
     },
     "metadata": {},
     "output_type": "display_data"
    },
    {
     "data": {
      "text/html": [
       "<pre style=\"white-space:pre;overflow-x:auto;line-height:normal;font-family:Menlo,'DejaVu Sans Mono',consolas,'Courier New',monospace\"></pre>\n"
      ],
      "text/plain": []
     },
     "metadata": {},
     "output_type": "display_data"
    },
    {
     "data": {
      "text/html": [
       "<pre style=\"white-space:pre;overflow-x:auto;line-height:normal;font-family:Menlo,'DejaVu Sans Mono',consolas,'Courier New',monospace\">\n",
       "</pre>\n"
      ],
      "text/plain": [
       "\n"
      ]
     },
     "metadata": {},
     "output_type": "display_data"
    },
    {
     "data": {
      "text/html": [
       "<pre style=\"white-space:pre;overflow-x:auto;line-height:normal;font-family:Menlo,'DejaVu Sans Mono',consolas,'Courier New',monospace\">┏━━━━━━━━━━━━━━━━━━━━━━━━━━━━━━━━┳━━━━━━━━━━━━━━━━━━━━━━━━━┓\n",
       "┃<span style=\"font-weight: bold\"> Metrics                        </span>┃<span style=\"font-weight: bold\"> Value                   </span>┃\n",
       "┡━━━━━━━━━━━━━━━━━━━━━━━━━━━━━━━━╇━━━━━━━━━━━━━━━━━━━━━━━━━┩\n",
       "│ Metrics/EpRet                  │ 12.53964614868164       │\n",
       "│ Metrics/EpCost                 │ 66.08000183105469       │\n",
       "│ Metrics/EpLen                  │ 1000.0                  │\n",
       "│ Train/Epoch                    │ 25.0                    │\n",
       "│ Train/Entropy                  │ 1.007225513458252       │\n",
       "│ Train/KL                       │ 0.015188143588602543    │\n",
       "│ Train/StopIter                 │ 40.0                    │\n",
       "│ Train/PolicyRatio/Mean         │ 1.0020601749420166      │\n",
       "│ Train/PolicyRatio/Min          │ 1.0020601749420166      │\n",
       "│ Train/PolicyRatio/Max          │ 1.0020601749420166      │\n",
       "│ Train/PolicyRatio/Std          │ 0.017531653866171837    │\n",
       "│ Train/LR                       │ 3.9999998989515007e-05  │\n",
       "│ Train/PolicyStd                │ 0.662883460521698       │\n",
       "│ TotalEnvSteps                  │ 520000.0                │\n",
       "│ Loss/Loss_pi                   │ -0.04533308371901512    │\n",
       "│ Loss/Loss_pi/Delta             │ -0.00038795173168182373 │\n",
       "│ Value/Adv                      │ -0.013949107378721237   │\n",
       "│ Loss/Loss_reward_critic        │ 0.019409803673624992    │\n",
       "│ Loss/Loss_reward_critic/Delta  │ -0.00012109056115150452 │\n",
       "│ Value/reward                   │ 1.1644673347473145      │\n",
       "│ Loss/Loss_cost_critic          │ 1.0591789484024048      │\n",
       "│ Loss/Loss_cost_critic/Delta    │ 0.004812836647033691    │\n",
       "│ Value/cost                     │ 8.052026748657227       │\n",
       "│ Time/Total                     │ 4597.55712890625        │\n",
       "│ Time/Rollout                   │ 42.656410217285156      │\n",
       "│ Time/Update                    │ 166.70724487304688      │\n",
       "│ Time/Epoch                     │ 209.36366271972656      │\n",
       "│ Time/FPS                       │ 95.5275650024414        │\n",
       "│ Metrics/LagrangeMultiplier/Mea │ 0.825583815574646       │\n",
       "│ Metrics/LagrangeMultiplier/Min │ 0.825583815574646       │\n",
       "│ Metrics/LagrangeMultiplier/Max │ 0.825583815574646       │\n",
       "│ Metrics/LagrangeMultiplier/Std │ 0.0                     │\n",
       "└────────────────────────────────┴─────────────────────────┘\n",
       "</pre>\n"
      ],
      "text/plain": [
       "┏━━━━━━━━━━━━━━━━━━━━━━━━━━━━━━━━┳━━━━━━━━━━━━━━━━━━━━━━━━━┓\n",
       "┃\u001b[1m \u001b[0m\u001b[1mMetrics                       \u001b[0m\u001b[1m \u001b[0m┃\u001b[1m \u001b[0m\u001b[1mValue                  \u001b[0m\u001b[1m \u001b[0m┃\n",
       "┡━━━━━━━━━━━━━━━━━━━━━━━━━━━━━━━━╇━━━━━━━━━━━━━━━━━━━━━━━━━┩\n",
       "│ Metrics/EpRet                  │ 12.53964614868164       │\n",
       "│ Metrics/EpCost                 │ 66.08000183105469       │\n",
       "│ Metrics/EpLen                  │ 1000.0                  │\n",
       "│ Train/Epoch                    │ 25.0                    │\n",
       "│ Train/Entropy                  │ 1.007225513458252       │\n",
       "│ Train/KL                       │ 0.015188143588602543    │\n",
       "│ Train/StopIter                 │ 40.0                    │\n",
       "│ Train/PolicyRatio/Mean         │ 1.0020601749420166      │\n",
       "│ Train/PolicyRatio/Min          │ 1.0020601749420166      │\n",
       "│ Train/PolicyRatio/Max          │ 1.0020601749420166      │\n",
       "│ Train/PolicyRatio/Std          │ 0.017531653866171837    │\n",
       "│ Train/LR                       │ 3.9999998989515007e-05  │\n",
       "│ Train/PolicyStd                │ 0.662883460521698       │\n",
       "│ TotalEnvSteps                  │ 520000.0                │\n",
       "│ Loss/Loss_pi                   │ -0.04533308371901512    │\n",
       "│ Loss/Loss_pi/Delta             │ -0.00038795173168182373 │\n",
       "│ Value/Adv                      │ -0.013949107378721237   │\n",
       "│ Loss/Loss_reward_critic        │ 0.019409803673624992    │\n",
       "│ Loss/Loss_reward_critic/Delta  │ -0.00012109056115150452 │\n",
       "│ Value/reward                   │ 1.1644673347473145      │\n",
       "│ Loss/Loss_cost_critic          │ 1.0591789484024048      │\n",
       "│ Loss/Loss_cost_critic/Delta    │ 0.004812836647033691    │\n",
       "│ Value/cost                     │ 8.052026748657227       │\n",
       "│ Time/Total                     │ 4597.55712890625        │\n",
       "│ Time/Rollout                   │ 42.656410217285156      │\n",
       "│ Time/Update                    │ 166.70724487304688      │\n",
       "│ Time/Epoch                     │ 209.36366271972656      │\n",
       "│ Time/FPS                       │ 95.5275650024414        │\n",
       "│ Metrics/LagrangeMultiplier/Mea │ 0.825583815574646       │\n",
       "│ Metrics/LagrangeMultiplier/Min │ 0.825583815574646       │\n",
       "│ Metrics/LagrangeMultiplier/Max │ 0.825583815574646       │\n",
       "│ Metrics/LagrangeMultiplier/Std │ 0.0                     │\n",
       "└────────────────────────────────┴─────────────────────────┘\n"
      ]
     },
     "metadata": {},
     "output_type": "display_data"
    },
    {
     "data": {
      "text/html": [
       "<pre style=\"white-space:pre;overflow-x:auto;line-height:normal;font-family:Menlo,'DejaVu Sans Mono',consolas,'Courier New',monospace\"><span style=\"color: #008000; text-decoration-color: #008000\">Warning: trajectory cut off when rollout by epoch at </span><span style=\"color: #008080; text-decoration-color: #008080; font-weight: bold\">1000.0</span><span style=\"color: #008000; text-decoration-color: #008000\"> steps.</span>\n",
       "</pre>\n"
      ],
      "text/plain": [
       "\u001b[32mWarning: trajectory cut off when rollout by epoch at \u001b[0m\u001b[1;36m1000.0\u001b[0m\u001b[32m steps.\u001b[0m\n"
      ]
     },
     "metadata": {},
     "output_type": "display_data"
    },
    {
     "data": {
      "text/html": [
       "<pre style=\"white-space:pre;overflow-x:auto;line-height:normal;font-family:Menlo,'DejaVu Sans Mono',consolas,'Courier New',monospace\"><span style=\"color: #008000; text-decoration-color: #008000\">Warning: trajectory cut off when rollout by epoch at </span><span style=\"color: #008080; text-decoration-color: #008080; font-weight: bold\">1000.0</span><span style=\"color: #008000; text-decoration-color: #008000\"> steps.</span>\n",
       "</pre>\n"
      ],
      "text/plain": [
       "\u001b[32mWarning: trajectory cut off when rollout by epoch at \u001b[0m\u001b[1;36m1000.0\u001b[0m\u001b[32m steps.\u001b[0m\n"
      ]
     },
     "metadata": {},
     "output_type": "display_data"
    },
    {
     "data": {
      "text/html": [
       "<pre style=\"white-space:pre;overflow-x:auto;line-height:normal;font-family:Menlo,'DejaVu Sans Mono',consolas,'Courier New',monospace\"><span style=\"color: #008000; text-decoration-color: #008000\">Warning: trajectory cut off when rollout by epoch at </span><span style=\"color: #008080; text-decoration-color: #008080; font-weight: bold\">1000.0</span><span style=\"color: #008000; text-decoration-color: #008000\"> steps.</span>\n",
       "</pre>\n"
      ],
      "text/plain": [
       "\u001b[32mWarning: trajectory cut off when rollout by epoch at \u001b[0m\u001b[1;36m1000.0\u001b[0m\u001b[32m steps.\u001b[0m\n"
      ]
     },
     "metadata": {},
     "output_type": "display_data"
    },
    {
     "data": {
      "text/html": [
       "<pre style=\"white-space:pre;overflow-x:auto;line-height:normal;font-family:Menlo,'DejaVu Sans Mono',consolas,'Courier New',monospace\"><span style=\"color: #008000; text-decoration-color: #008000\">Warning: trajectory cut off when rollout by epoch at </span><span style=\"color: #008080; text-decoration-color: #008080; font-weight: bold\">1000.0</span><span style=\"color: #008000; text-decoration-color: #008000\"> steps.</span>\n",
       "</pre>\n"
      ],
      "text/plain": [
       "\u001b[32mWarning: trajectory cut off when rollout by epoch at \u001b[0m\u001b[1;36m1000.0\u001b[0m\u001b[32m steps.\u001b[0m\n"
      ]
     },
     "metadata": {},
     "output_type": "display_data"
    },
    {
     "data": {
      "text/html": [
       "<pre style=\"white-space:pre;overflow-x:auto;line-height:normal;font-family:Menlo,'DejaVu Sans Mono',consolas,'Courier New',monospace\"></pre>\n"
      ],
      "text/plain": []
     },
     "metadata": {},
     "output_type": "display_data"
    },
    {
     "data": {
      "text/html": [
       "<pre style=\"white-space:pre;overflow-x:auto;line-height:normal;font-family:Menlo,'DejaVu Sans Mono',consolas,'Courier New',monospace\">\n",
       "</pre>\n"
      ],
      "text/plain": [
       "\n"
      ]
     },
     "metadata": {},
     "output_type": "display_data"
    },
    {
     "data": {
      "text/html": [
       "<pre style=\"white-space:pre;overflow-x:auto;line-height:normal;font-family:Menlo,'DejaVu Sans Mono',consolas,'Courier New',monospace\"></pre>\n"
      ],
      "text/plain": []
     },
     "metadata": {},
     "output_type": "display_data"
    },
    {
     "data": {
      "text/html": [
       "<pre style=\"white-space:pre;overflow-x:auto;line-height:normal;font-family:Menlo,'DejaVu Sans Mono',consolas,'Courier New',monospace\">\n",
       "</pre>\n"
      ],
      "text/plain": [
       "\n"
      ]
     },
     "metadata": {},
     "output_type": "display_data"
    },
    {
     "data": {
      "text/html": [
       "<pre style=\"white-space:pre;overflow-x:auto;line-height:normal;font-family:Menlo,'DejaVu Sans Mono',consolas,'Courier New',monospace\">┏━━━━━━━━━━━━━━━━━━━━━━━━━━━━━━━━┳━━━━━━━━━━━━━━━━━━━━━━━━┓\n",
       "┃<span style=\"font-weight: bold\"> Metrics                        </span>┃<span style=\"font-weight: bold\"> Value                  </span>┃\n",
       "┡━━━━━━━━━━━━━━━━━━━━━━━━━━━━━━━━╇━━━━━━━━━━━━━━━━━━━━━━━━┩\n",
       "│ Metrics/EpRet                  │ 11.695115089416504     │\n",
       "│ Metrics/EpCost                 │ 65.76000213623047      │\n",
       "│ Metrics/EpLen                  │ 1000.0                 │\n",
       "│ Train/Epoch                    │ 26.0                   │\n",
       "│ Train/Entropy                  │ 0.9967018365859985     │\n",
       "│ Train/KL                       │ 0.013290993869304657   │\n",
       "│ Train/StopIter                 │ 40.0                   │\n",
       "│ Train/PolicyRatio/Mean         │ 1.0011544227600098     │\n",
       "│ Train/PolicyRatio/Min          │ 1.0011544227600098     │\n",
       "│ Train/PolicyRatio/Max          │ 1.0011544227600098     │\n",
       "│ Train/PolicyRatio/Std          │ 0.01655483990907669    │\n",
       "│ Train/LR                       │ 2.9999999242136255e-05 │\n",
       "│ Train/PolicyStd                │ 0.6558751463890076     │\n",
       "│ TotalEnvSteps                  │ 540000.0               │\n",
       "│ Loss/Loss_pi                   │ -0.03837544098496437   │\n",
       "│ Loss/Loss_pi/Delta             │ 0.006957642734050751   │\n",
       "│ Value/Adv                      │ -0.3647456169128418    │\n",
       "│ Loss/Loss_reward_critic        │ 0.018240388482809067   │\n",
       "│ Loss/Loss_reward_critic/Delta  │ -0.0011694151908159256 │\n",
       "│ Value/reward                   │ 1.150884985923767      │\n",
       "│ Loss/Loss_cost_critic          │ 0.9058757424354553     │\n",
       "│ Loss/Loss_cost_critic/Delta    │ -0.15330320596694946   │\n",
       "│ Value/cost                     │ 7.388105392456055      │\n",
       "│ Time/Total                     │ 4807.71875             │\n",
       "│ Time/Rollout                   │ 43.11149215698242      │\n",
       "│ Time/Update                    │ 167.00830078125        │\n",
       "│ Time/Epoch                     │ 210.1197967529297      │\n",
       "│ Time/FPS                       │ 95.18379974365234      │\n",
       "│ Metrics/LagrangeMultiplier/Mea │ 0.8561015725135803     │\n",
       "│ Metrics/LagrangeMultiplier/Min │ 0.8561015725135803     │\n",
       "│ Metrics/LagrangeMultiplier/Max │ 0.8561015725135803     │\n",
       "│ Metrics/LagrangeMultiplier/Std │ 0.0                    │\n",
       "└────────────────────────────────┴────────────────────────┘\n",
       "</pre>\n"
      ],
      "text/plain": [
       "┏━━━━━━━━━━━━━━━━━━━━━━━━━━━━━━━━┳━━━━━━━━━━━━━━━━━━━━━━━━┓\n",
       "┃\u001b[1m \u001b[0m\u001b[1mMetrics                       \u001b[0m\u001b[1m \u001b[0m┃\u001b[1m \u001b[0m\u001b[1mValue                 \u001b[0m\u001b[1m \u001b[0m┃\n",
       "┡━━━━━━━━━━━━━━━━━━━━━━━━━━━━━━━━╇━━━━━━━━━━━━━━━━━━━━━━━━┩\n",
       "│ Metrics/EpRet                  │ 11.695115089416504     │\n",
       "│ Metrics/EpCost                 │ 65.76000213623047      │\n",
       "│ Metrics/EpLen                  │ 1000.0                 │\n",
       "│ Train/Epoch                    │ 26.0                   │\n",
       "│ Train/Entropy                  │ 0.9967018365859985     │\n",
       "│ Train/KL                       │ 0.013290993869304657   │\n",
       "│ Train/StopIter                 │ 40.0                   │\n",
       "│ Train/PolicyRatio/Mean         │ 1.0011544227600098     │\n",
       "│ Train/PolicyRatio/Min          │ 1.0011544227600098     │\n",
       "│ Train/PolicyRatio/Max          │ 1.0011544227600098     │\n",
       "│ Train/PolicyRatio/Std          │ 0.01655483990907669    │\n",
       "│ Train/LR                       │ 2.9999999242136255e-05 │\n",
       "│ Train/PolicyStd                │ 0.6558751463890076     │\n",
       "│ TotalEnvSteps                  │ 540000.0               │\n",
       "│ Loss/Loss_pi                   │ -0.03837544098496437   │\n",
       "│ Loss/Loss_pi/Delta             │ 0.006957642734050751   │\n",
       "│ Value/Adv                      │ -0.3647456169128418    │\n",
       "│ Loss/Loss_reward_critic        │ 0.018240388482809067   │\n",
       "│ Loss/Loss_reward_critic/Delta  │ -0.0011694151908159256 │\n",
       "│ Value/reward                   │ 1.150884985923767      │\n",
       "│ Loss/Loss_cost_critic          │ 0.9058757424354553     │\n",
       "│ Loss/Loss_cost_critic/Delta    │ -0.15330320596694946   │\n",
       "│ Value/cost                     │ 7.388105392456055      │\n",
       "│ Time/Total                     │ 4807.71875             │\n",
       "│ Time/Rollout                   │ 43.11149215698242      │\n",
       "│ Time/Update                    │ 167.00830078125        │\n",
       "│ Time/Epoch                     │ 210.1197967529297      │\n",
       "│ Time/FPS                       │ 95.18379974365234      │\n",
       "│ Metrics/LagrangeMultiplier/Mea │ 0.8561015725135803     │\n",
       "│ Metrics/LagrangeMultiplier/Min │ 0.8561015725135803     │\n",
       "│ Metrics/LagrangeMultiplier/Max │ 0.8561015725135803     │\n",
       "│ Metrics/LagrangeMultiplier/Std │ 0.0                    │\n",
       "└────────────────────────────────┴────────────────────────┘\n"
      ]
     },
     "metadata": {},
     "output_type": "display_data"
    },
    {
     "data": {
      "text/html": [
       "<pre style=\"white-space:pre;overflow-x:auto;line-height:normal;font-family:Menlo,'DejaVu Sans Mono',consolas,'Courier New',monospace\"><span style=\"color: #008000; text-decoration-color: #008000\">Warning: trajectory cut off when rollout by epoch at </span><span style=\"color: #008080; text-decoration-color: #008080; font-weight: bold\">1000.0</span><span style=\"color: #008000; text-decoration-color: #008000\"> steps.</span>\n",
       "</pre>\n"
      ],
      "text/plain": [
       "\u001b[32mWarning: trajectory cut off when rollout by epoch at \u001b[0m\u001b[1;36m1000.0\u001b[0m\u001b[32m steps.\u001b[0m\n"
      ]
     },
     "metadata": {},
     "output_type": "display_data"
    },
    {
     "data": {
      "text/html": [
       "<pre style=\"white-space:pre;overflow-x:auto;line-height:normal;font-family:Menlo,'DejaVu Sans Mono',consolas,'Courier New',monospace\"><span style=\"color: #008000; text-decoration-color: #008000\">Warning: trajectory cut off when rollout by epoch at </span><span style=\"color: #008080; text-decoration-color: #008080; font-weight: bold\">1000.0</span><span style=\"color: #008000; text-decoration-color: #008000\"> steps.</span>\n",
       "</pre>\n"
      ],
      "text/plain": [
       "\u001b[32mWarning: trajectory cut off when rollout by epoch at \u001b[0m\u001b[1;36m1000.0\u001b[0m\u001b[32m steps.\u001b[0m\n"
      ]
     },
     "metadata": {},
     "output_type": "display_data"
    },
    {
     "data": {
      "text/html": [
       "<pre style=\"white-space:pre;overflow-x:auto;line-height:normal;font-family:Menlo,'DejaVu Sans Mono',consolas,'Courier New',monospace\"><span style=\"color: #008000; text-decoration-color: #008000\">Warning: trajectory cut off when rollout by epoch at </span><span style=\"color: #008080; text-decoration-color: #008080; font-weight: bold\">1000.0</span><span style=\"color: #008000; text-decoration-color: #008000\"> steps.</span>\n",
       "</pre>\n"
      ],
      "text/plain": [
       "\u001b[32mWarning: trajectory cut off when rollout by epoch at \u001b[0m\u001b[1;36m1000.0\u001b[0m\u001b[32m steps.\u001b[0m\n"
      ]
     },
     "metadata": {},
     "output_type": "display_data"
    },
    {
     "data": {
      "text/html": [
       "<pre style=\"white-space:pre;overflow-x:auto;line-height:normal;font-family:Menlo,'DejaVu Sans Mono',consolas,'Courier New',monospace\"><span style=\"color: #008000; text-decoration-color: #008000\">Warning: trajectory cut off when rollout by epoch at </span><span style=\"color: #008080; text-decoration-color: #008080; font-weight: bold\">1000.0</span><span style=\"color: #008000; text-decoration-color: #008000\"> steps.</span>\n",
       "</pre>\n"
      ],
      "text/plain": [
       "\u001b[32mWarning: trajectory cut off when rollout by epoch at \u001b[0m\u001b[1;36m1000.0\u001b[0m\u001b[32m steps.\u001b[0m\n"
      ]
     },
     "metadata": {},
     "output_type": "display_data"
    },
    {
     "data": {
      "text/html": [
       "<pre style=\"white-space:pre;overflow-x:auto;line-height:normal;font-family:Menlo,'DejaVu Sans Mono',consolas,'Courier New',monospace\"></pre>\n"
      ],
      "text/plain": []
     },
     "metadata": {},
     "output_type": "display_data"
    },
    {
     "data": {
      "text/html": [
       "<pre style=\"white-space:pre;overflow-x:auto;line-height:normal;font-family:Menlo,'DejaVu Sans Mono',consolas,'Courier New',monospace\">\n",
       "</pre>\n"
      ],
      "text/plain": [
       "\n"
      ]
     },
     "metadata": {},
     "output_type": "display_data"
    },
    {
     "data": {
      "text/html": [
       "<pre style=\"white-space:pre;overflow-x:auto;line-height:normal;font-family:Menlo,'DejaVu Sans Mono',consolas,'Courier New',monospace\"></pre>\n"
      ],
      "text/plain": []
     },
     "metadata": {},
     "output_type": "display_data"
    },
    {
     "data": {
      "text/html": [
       "<pre style=\"white-space:pre;overflow-x:auto;line-height:normal;font-family:Menlo,'DejaVu Sans Mono',consolas,'Courier New',monospace\">\n",
       "</pre>\n"
      ],
      "text/plain": [
       "\n"
      ]
     },
     "metadata": {},
     "output_type": "display_data"
    },
    {
     "data": {
      "text/html": [
       "<pre style=\"white-space:pre;overflow-x:auto;line-height:normal;font-family:Menlo,'DejaVu Sans Mono',consolas,'Courier New',monospace\">┏━━━━━━━━━━━━━━━━━━━━━━━━━━━━━━━━┳━━━━━━━━━━━━━━━━━━━━━━━━━┓\n",
       "┃<span style=\"font-weight: bold\"> Metrics                        </span>┃<span style=\"font-weight: bold\"> Value                   </span>┃\n",
       "┡━━━━━━━━━━━━━━━━━━━━━━━━━━━━━━━━╇━━━━━━━━━━━━━━━━━━━━━━━━━┩\n",
       "│ Metrics/EpRet                  │ 11.953486442565918      │\n",
       "│ Metrics/EpCost                 │ 60.63999938964844       │\n",
       "│ Metrics/EpLen                  │ 1000.0                  │\n",
       "│ Train/Epoch                    │ 27.0                    │\n",
       "│ Train/Entropy                  │ 0.9846611618995667      │\n",
       "│ Train/KL                       │ 0.011140824295580387    │\n",
       "│ Train/StopIter                 │ 40.0                    │\n",
       "│ Train/PolicyRatio/Mean         │ 0.9997727870941162      │\n",
       "│ Train/PolicyRatio/Min          │ 0.9997727870941162      │\n",
       "│ Train/PolicyRatio/Max          │ 0.9997727870941162      │\n",
       "│ Train/PolicyRatio/Std          │ 0.015185615979135036    │\n",
       "│ Train/LR                       │ 1.9999999494757503e-05  │\n",
       "│ Train/PolicyStd                │ 0.6481256484985352      │\n",
       "│ TotalEnvSteps                  │ 560000.0                │\n",
       "│ Loss/Loss_pi                   │ -0.029597366228699684   │\n",
       "│ Loss/Loss_pi/Delta             │ 0.008778074756264687    │\n",
       "│ Value/Adv                      │ 0.13517653942108154     │\n",
       "│ Loss/Loss_reward_critic        │ 0.018002735450863838    │\n",
       "│ Loss/Loss_reward_critic/Delta  │ -0.00023765303194522858 │\n",
       "│ Value/reward                   │ 1.2363694906234741      │\n",
       "│ Loss/Loss_cost_critic          │ 0.7524128556251526      │\n",
       "│ Loss/Loss_cost_critic/Delta    │ -0.15346288681030273    │\n",
       "│ Value/cost                     │ 7.241378307342529       │\n",
       "│ Time/Total                     │ 5019.87646484375        │\n",
       "│ Time/Rollout                   │ 41.94599914550781       │\n",
       "│ Time/Update                    │ 170.1715545654297       │\n",
       "│ Time/Epoch                     │ 212.11756896972656      │\n",
       "│ Time/FPS                       │ 94.28733825683594       │\n",
       "│ Metrics/LagrangeMultiplier/Mea │ 0.886371910572052       │\n",
       "│ Metrics/LagrangeMultiplier/Min │ 0.886371910572052       │\n",
       "│ Metrics/LagrangeMultiplier/Max │ 0.886371910572052       │\n",
       "│ Metrics/LagrangeMultiplier/Std │ 0.0                     │\n",
       "└────────────────────────────────┴─────────────────────────┘\n",
       "</pre>\n"
      ],
      "text/plain": [
       "┏━━━━━━━━━━━━━━━━━━━━━━━━━━━━━━━━┳━━━━━━━━━━━━━━━━━━━━━━━━━┓\n",
       "┃\u001b[1m \u001b[0m\u001b[1mMetrics                       \u001b[0m\u001b[1m \u001b[0m┃\u001b[1m \u001b[0m\u001b[1mValue                  \u001b[0m\u001b[1m \u001b[0m┃\n",
       "┡━━━━━━━━━━━━━━━━━━━━━━━━━━━━━━━━╇━━━━━━━━━━━━━━━━━━━━━━━━━┩\n",
       "│ Metrics/EpRet                  │ 11.953486442565918      │\n",
       "│ Metrics/EpCost                 │ 60.63999938964844       │\n",
       "│ Metrics/EpLen                  │ 1000.0                  │\n",
       "│ Train/Epoch                    │ 27.0                    │\n",
       "│ Train/Entropy                  │ 0.9846611618995667      │\n",
       "│ Train/KL                       │ 0.011140824295580387    │\n",
       "│ Train/StopIter                 │ 40.0                    │\n",
       "│ Train/PolicyRatio/Mean         │ 0.9997727870941162      │\n",
       "│ Train/PolicyRatio/Min          │ 0.9997727870941162      │\n",
       "│ Train/PolicyRatio/Max          │ 0.9997727870941162      │\n",
       "│ Train/PolicyRatio/Std          │ 0.015185615979135036    │\n",
       "│ Train/LR                       │ 1.9999999494757503e-05  │\n",
       "│ Train/PolicyStd                │ 0.6481256484985352      │\n",
       "│ TotalEnvSteps                  │ 560000.0                │\n",
       "│ Loss/Loss_pi                   │ -0.029597366228699684   │\n",
       "│ Loss/Loss_pi/Delta             │ 0.008778074756264687    │\n",
       "│ Value/Adv                      │ 0.13517653942108154     │\n",
       "│ Loss/Loss_reward_critic        │ 0.018002735450863838    │\n",
       "│ Loss/Loss_reward_critic/Delta  │ -0.00023765303194522858 │\n",
       "│ Value/reward                   │ 1.2363694906234741      │\n",
       "│ Loss/Loss_cost_critic          │ 0.7524128556251526      │\n",
       "│ Loss/Loss_cost_critic/Delta    │ -0.15346288681030273    │\n",
       "│ Value/cost                     │ 7.241378307342529       │\n",
       "│ Time/Total                     │ 5019.87646484375        │\n",
       "│ Time/Rollout                   │ 41.94599914550781       │\n",
       "│ Time/Update                    │ 170.1715545654297       │\n",
       "│ Time/Epoch                     │ 212.11756896972656      │\n",
       "│ Time/FPS                       │ 94.28733825683594       │\n",
       "│ Metrics/LagrangeMultiplier/Mea │ 0.886371910572052       │\n",
       "│ Metrics/LagrangeMultiplier/Min │ 0.886371910572052       │\n",
       "│ Metrics/LagrangeMultiplier/Max │ 0.886371910572052       │\n",
       "│ Metrics/LagrangeMultiplier/Std │ 0.0                     │\n",
       "└────────────────────────────────┴─────────────────────────┘\n"
      ]
     },
     "metadata": {},
     "output_type": "display_data"
    },
    {
     "data": {
      "text/html": [
       "<pre style=\"white-space:pre;overflow-x:auto;line-height:normal;font-family:Menlo,'DejaVu Sans Mono',consolas,'Courier New',monospace\"><span style=\"color: #008000; text-decoration-color: #008000\">Warning: trajectory cut off when rollout by epoch at </span><span style=\"color: #008080; text-decoration-color: #008080; font-weight: bold\">1000.0</span><span style=\"color: #008000; text-decoration-color: #008000\"> steps.</span>\n",
       "</pre>\n"
      ],
      "text/plain": [
       "\u001b[32mWarning: trajectory cut off when rollout by epoch at \u001b[0m\u001b[1;36m1000.0\u001b[0m\u001b[32m steps.\u001b[0m\n"
      ]
     },
     "metadata": {},
     "output_type": "display_data"
    },
    {
     "data": {
      "text/html": [
       "<pre style=\"white-space:pre;overflow-x:auto;line-height:normal;font-family:Menlo,'DejaVu Sans Mono',consolas,'Courier New',monospace\"><span style=\"color: #008000; text-decoration-color: #008000\">Warning: trajectory cut off when rollout by epoch at </span><span style=\"color: #008080; text-decoration-color: #008080; font-weight: bold\">1000.0</span><span style=\"color: #008000; text-decoration-color: #008000\"> steps.</span>\n",
       "</pre>\n"
      ],
      "text/plain": [
       "\u001b[32mWarning: trajectory cut off when rollout by epoch at \u001b[0m\u001b[1;36m1000.0\u001b[0m\u001b[32m steps.\u001b[0m\n"
      ]
     },
     "metadata": {},
     "output_type": "display_data"
    },
    {
     "data": {
      "text/html": [
       "<pre style=\"white-space:pre;overflow-x:auto;line-height:normal;font-family:Menlo,'DejaVu Sans Mono',consolas,'Courier New',monospace\"><span style=\"color: #008000; text-decoration-color: #008000\">Warning: trajectory cut off when rollout by epoch at </span><span style=\"color: #008080; text-decoration-color: #008080; font-weight: bold\">1000.0</span><span style=\"color: #008000; text-decoration-color: #008000\"> steps.</span>\n",
       "</pre>\n"
      ],
      "text/plain": [
       "\u001b[32mWarning: trajectory cut off when rollout by epoch at \u001b[0m\u001b[1;36m1000.0\u001b[0m\u001b[32m steps.\u001b[0m\n"
      ]
     },
     "metadata": {},
     "output_type": "display_data"
    },
    {
     "data": {
      "text/html": [
       "<pre style=\"white-space:pre;overflow-x:auto;line-height:normal;font-family:Menlo,'DejaVu Sans Mono',consolas,'Courier New',monospace\"><span style=\"color: #008000; text-decoration-color: #008000\">Warning: trajectory cut off when rollout by epoch at </span><span style=\"color: #008080; text-decoration-color: #008080; font-weight: bold\">1000.0</span><span style=\"color: #008000; text-decoration-color: #008000\"> steps.</span>\n",
       "</pre>\n"
      ],
      "text/plain": [
       "\u001b[32mWarning: trajectory cut off when rollout by epoch at \u001b[0m\u001b[1;36m1000.0\u001b[0m\u001b[32m steps.\u001b[0m\n"
      ]
     },
     "metadata": {},
     "output_type": "display_data"
    },
    {
     "data": {
      "text/html": [
       "<pre style=\"white-space:pre;overflow-x:auto;line-height:normal;font-family:Menlo,'DejaVu Sans Mono',consolas,'Courier New',monospace\"></pre>\n"
      ],
      "text/plain": []
     },
     "metadata": {},
     "output_type": "display_data"
    },
    {
     "data": {
      "text/html": [
       "<pre style=\"white-space:pre;overflow-x:auto;line-height:normal;font-family:Menlo,'DejaVu Sans Mono',consolas,'Courier New',monospace\">\n",
       "</pre>\n"
      ],
      "text/plain": [
       "\n"
      ]
     },
     "metadata": {},
     "output_type": "display_data"
    },
    {
     "data": {
      "text/html": [
       "<pre style=\"white-space:pre;overflow-x:auto;line-height:normal;font-family:Menlo,'DejaVu Sans Mono',consolas,'Courier New',monospace\"></pre>\n"
      ],
      "text/plain": []
     },
     "metadata": {},
     "output_type": "display_data"
    },
    {
     "data": {
      "text/html": [
       "<pre style=\"white-space:pre;overflow-x:auto;line-height:normal;font-family:Menlo,'DejaVu Sans Mono',consolas,'Courier New',monospace\">\n",
       "</pre>\n"
      ],
      "text/plain": [
       "\n"
      ]
     },
     "metadata": {},
     "output_type": "display_data"
    },
    {
     "data": {
      "text/html": [
       "<pre style=\"white-space:pre;overflow-x:auto;line-height:normal;font-family:Menlo,'DejaVu Sans Mono',consolas,'Courier New',monospace\">┏━━━━━━━━━━━━━━━━━━━━━━━━━━━━━━━━┳━━━━━━━━━━━━━━━━━━━━━━━┓\n",
       "┃<span style=\"font-weight: bold\"> Metrics                        </span>┃<span style=\"font-weight: bold\"> Value                 </span>┃\n",
       "┡━━━━━━━━━━━━━━━━━━━━━━━━━━━━━━━━╇━━━━━━━━━━━━━━━━━━━━━━━┩\n",
       "│ Metrics/EpRet                  │ 13.17614459991455     │\n",
       "│ Metrics/EpCost                 │ 54.880001068115234    │\n",
       "│ Metrics/EpLen                  │ 1000.0                │\n",
       "│ Train/Epoch                    │ 28.0                  │\n",
       "│ Train/Entropy                  │ 0.9827859997749329    │\n",
       "│ Train/KL                       │ 0.008869437500834465  │\n",
       "│ Train/StopIter                 │ 40.0                  │\n",
       "│ Train/PolicyRatio/Mean         │ 0.9993681907653809    │\n",
       "│ Train/PolicyRatio/Min          │ 0.9993681907653809    │\n",
       "│ Train/PolicyRatio/Max          │ 0.9993681907653809    │\n",
       "│ Train/PolicyRatio/Std          │ 0.013700110837817192  │\n",
       "│ Train/LR                       │ 9.999999747378752e-06 │\n",
       "│ Train/PolicyStd                │ 0.6469564437866211    │\n",
       "│ TotalEnvSteps                  │ 580000.0              │\n",
       "│ Loss/Loss_pi                   │ -0.03262639045715332  │\n",
       "│ Loss/Loss_pi/Delta             │ -0.003029024228453636 │\n",
       "│ Value/Adv                      │ -0.16681095957756042  │\n",
       "│ Loss/Loss_reward_critic        │ 0.018341895192861557  │\n",
       "│ Loss/Loss_reward_critic/Delta  │ 0.0003391597419977188 │\n",
       "│ Value/reward                   │ 1.2861562967300415    │\n",
       "│ Loss/Loss_cost_critic          │ 1.0032531023025513    │\n",
       "│ Loss/Loss_cost_critic/Delta    │ 0.2508402466773987    │\n",
       "│ Value/cost                     │ 7.013843536376953     │\n",
       "│ Time/Total                     │ 5229.87255859375      │\n",
       "│ Time/Rollout                   │ 42.7294921875         │\n",
       "│ Time/Update                    │ 167.2296600341797     │\n",
       "│ Time/Epoch                     │ 209.9591522216797     │\n",
       "│ Time/FPS                       │ 95.25662231445312     │\n",
       "│ Metrics/LagrangeMultiplier/Mea │ 0.9160731434822083    │\n",
       "│ Metrics/LagrangeMultiplier/Min │ 0.9160731434822083    │\n",
       "│ Metrics/LagrangeMultiplier/Max │ 0.9160731434822083    │\n",
       "│ Metrics/LagrangeMultiplier/Std │ 0.0                   │\n",
       "└────────────────────────────────┴───────────────────────┘\n",
       "</pre>\n"
      ],
      "text/plain": [
       "┏━━━━━━━━━━━━━━━━━━━━━━━━━━━━━━━━┳━━━━━━━━━━━━━━━━━━━━━━━┓\n",
       "┃\u001b[1m \u001b[0m\u001b[1mMetrics                       \u001b[0m\u001b[1m \u001b[0m┃\u001b[1m \u001b[0m\u001b[1mValue                \u001b[0m\u001b[1m \u001b[0m┃\n",
       "┡━━━━━━━━━━━━━━━━━━━━━━━━━━━━━━━━╇━━━━━━━━━━━━━━━━━━━━━━━┩\n",
       "│ Metrics/EpRet                  │ 13.17614459991455     │\n",
       "│ Metrics/EpCost                 │ 54.880001068115234    │\n",
       "│ Metrics/EpLen                  │ 1000.0                │\n",
       "│ Train/Epoch                    │ 28.0                  │\n",
       "│ Train/Entropy                  │ 0.9827859997749329    │\n",
       "│ Train/KL                       │ 0.008869437500834465  │\n",
       "│ Train/StopIter                 │ 40.0                  │\n",
       "│ Train/PolicyRatio/Mean         │ 0.9993681907653809    │\n",
       "│ Train/PolicyRatio/Min          │ 0.9993681907653809    │\n",
       "│ Train/PolicyRatio/Max          │ 0.9993681907653809    │\n",
       "│ Train/PolicyRatio/Std          │ 0.013700110837817192  │\n",
       "│ Train/LR                       │ 9.999999747378752e-06 │\n",
       "│ Train/PolicyStd                │ 0.6469564437866211    │\n",
       "│ TotalEnvSteps                  │ 580000.0              │\n",
       "│ Loss/Loss_pi                   │ -0.03262639045715332  │\n",
       "│ Loss/Loss_pi/Delta             │ -0.003029024228453636 │\n",
       "│ Value/Adv                      │ -0.16681095957756042  │\n",
       "│ Loss/Loss_reward_critic        │ 0.018341895192861557  │\n",
       "│ Loss/Loss_reward_critic/Delta  │ 0.0003391597419977188 │\n",
       "│ Value/reward                   │ 1.2861562967300415    │\n",
       "│ Loss/Loss_cost_critic          │ 1.0032531023025513    │\n",
       "│ Loss/Loss_cost_critic/Delta    │ 0.2508402466773987    │\n",
       "│ Value/cost                     │ 7.013843536376953     │\n",
       "│ Time/Total                     │ 5229.87255859375      │\n",
       "│ Time/Rollout                   │ 42.7294921875         │\n",
       "│ Time/Update                    │ 167.2296600341797     │\n",
       "│ Time/Epoch                     │ 209.9591522216797     │\n",
       "│ Time/FPS                       │ 95.25662231445312     │\n",
       "│ Metrics/LagrangeMultiplier/Mea │ 0.9160731434822083    │\n",
       "│ Metrics/LagrangeMultiplier/Min │ 0.9160731434822083    │\n",
       "│ Metrics/LagrangeMultiplier/Max │ 0.9160731434822083    │\n",
       "│ Metrics/LagrangeMultiplier/Std │ 0.0                   │\n",
       "└────────────────────────────────┴───────────────────────┘\n"
      ]
     },
     "metadata": {},
     "output_type": "display_data"
    },
    {
     "data": {
      "text/html": [
       "<pre style=\"white-space:pre;overflow-x:auto;line-height:normal;font-family:Menlo,'DejaVu Sans Mono',consolas,'Courier New',monospace\"><span style=\"color: #008000; text-decoration-color: #008000\">Warning: trajectory cut off when rollout by epoch at </span><span style=\"color: #008080; text-decoration-color: #008080; font-weight: bold\">1000.0</span><span style=\"color: #008000; text-decoration-color: #008000\"> steps.</span>\n",
       "</pre>\n"
      ],
      "text/plain": [
       "\u001b[32mWarning: trajectory cut off when rollout by epoch at \u001b[0m\u001b[1;36m1000.0\u001b[0m\u001b[32m steps.\u001b[0m\n"
      ]
     },
     "metadata": {},
     "output_type": "display_data"
    },
    {
     "data": {
      "text/html": [
       "<pre style=\"white-space:pre;overflow-x:auto;line-height:normal;font-family:Menlo,'DejaVu Sans Mono',consolas,'Courier New',monospace\"><span style=\"color: #008000; text-decoration-color: #008000\">Warning: trajectory cut off when rollout by epoch at </span><span style=\"color: #008080; text-decoration-color: #008080; font-weight: bold\">1000.0</span><span style=\"color: #008000; text-decoration-color: #008000\"> steps.</span>\n",
       "</pre>\n"
      ],
      "text/plain": [
       "\u001b[32mWarning: trajectory cut off when rollout by epoch at \u001b[0m\u001b[1;36m1000.0\u001b[0m\u001b[32m steps.\u001b[0m\n"
      ]
     },
     "metadata": {},
     "output_type": "display_data"
    },
    {
     "data": {
      "text/html": [
       "<pre style=\"white-space:pre;overflow-x:auto;line-height:normal;font-family:Menlo,'DejaVu Sans Mono',consolas,'Courier New',monospace\"><span style=\"color: #008000; text-decoration-color: #008000\">Warning: trajectory cut off when rollout by epoch at </span><span style=\"color: #008080; text-decoration-color: #008080; font-weight: bold\">1000.0</span><span style=\"color: #008000; text-decoration-color: #008000\"> steps.</span>\n",
       "</pre>\n"
      ],
      "text/plain": [
       "\u001b[32mWarning: trajectory cut off when rollout by epoch at \u001b[0m\u001b[1;36m1000.0\u001b[0m\u001b[32m steps.\u001b[0m\n"
      ]
     },
     "metadata": {},
     "output_type": "display_data"
    },
    {
     "data": {
      "text/html": [
       "<pre style=\"white-space:pre;overflow-x:auto;line-height:normal;font-family:Menlo,'DejaVu Sans Mono',consolas,'Courier New',monospace\"><span style=\"color: #008000; text-decoration-color: #008000\">Warning: trajectory cut off when rollout by epoch at </span><span style=\"color: #008080; text-decoration-color: #008080; font-weight: bold\">1000.0</span><span style=\"color: #008000; text-decoration-color: #008000\"> steps.</span>\n",
       "</pre>\n"
      ],
      "text/plain": [
       "\u001b[32mWarning: trajectory cut off when rollout by epoch at \u001b[0m\u001b[1;36m1000.0\u001b[0m\u001b[32m steps.\u001b[0m\n"
      ]
     },
     "metadata": {},
     "output_type": "display_data"
    },
    {
     "data": {
      "text/html": [
       "<pre style=\"white-space:pre;overflow-x:auto;line-height:normal;font-family:Menlo,'DejaVu Sans Mono',consolas,'Courier New',monospace\"></pre>\n"
      ],
      "text/plain": []
     },
     "metadata": {},
     "output_type": "display_data"
    },
    {
     "data": {
      "text/html": [
       "<pre style=\"white-space:pre;overflow-x:auto;line-height:normal;font-family:Menlo,'DejaVu Sans Mono',consolas,'Courier New',monospace\">\n",
       "</pre>\n"
      ],
      "text/plain": [
       "\n"
      ]
     },
     "metadata": {},
     "output_type": "display_data"
    },
    {
     "data": {
      "text/html": [
       "<pre style=\"white-space:pre;overflow-x:auto;line-height:normal;font-family:Menlo,'DejaVu Sans Mono',consolas,'Courier New',monospace\"></pre>\n"
      ],
      "text/plain": []
     },
     "metadata": {},
     "output_type": "display_data"
    },
    {
     "data": {
      "text/html": [
       "<pre style=\"white-space:pre;overflow-x:auto;line-height:normal;font-family:Menlo,'DejaVu Sans Mono',consolas,'Courier New',monospace\">\n",
       "</pre>\n"
      ],
      "text/plain": [
       "\n"
      ]
     },
     "metadata": {},
     "output_type": "display_data"
    },
    {
     "data": {
      "text/html": [
       "<pre style=\"white-space:pre;overflow-x:auto;line-height:normal;font-family:Menlo,'DejaVu Sans Mono',consolas,'Courier New',monospace\">┏━━━━━━━━━━━━━━━━━━━━━━━━━━━━━━━━┳━━━━━━━━━━━━━━━━━━━━━━━┓\n",
       "┃<span style=\"font-weight: bold\"> Metrics                        </span>┃<span style=\"font-weight: bold\"> Value                 </span>┃\n",
       "┡━━━━━━━━━━━━━━━━━━━━━━━━━━━━━━━━╇━━━━━━━━━━━━━━━━━━━━━━━┩\n",
       "│ Metrics/EpRet                  │ 13.84655475616455     │\n",
       "│ Metrics/EpCost                 │ 56.68000030517578     │\n",
       "│ Metrics/EpLen                  │ 1000.0                │\n",
       "│ Train/Epoch                    │ 29.0                  │\n",
       "│ Train/Entropy                  │ 0.9833647608757019    │\n",
       "│ Train/KL                       │ 0.005611852742731571  │\n",
       "│ Train/StopIter                 │ 40.0                  │\n",
       "│ Train/PolicyRatio/Mean         │ 1.0008225440979004    │\n",
       "│ Train/PolicyRatio/Min          │ 1.0008225440979004    │\n",
       "│ Train/PolicyRatio/Max          │ 1.0008225440979004    │\n",
       "│ Train/PolicyRatio/Std          │ 0.011212348937988281  │\n",
       "│ Train/LR                       │ 0.0                   │\n",
       "│ Train/PolicyStd                │ 0.6474517583847046    │\n",
       "│ TotalEnvSteps                  │ 600000.0              │\n",
       "│ Loss/Loss_pi                   │ -0.02260175719857216  │\n",
       "│ Loss/Loss_pi/Delta             │ 0.010024633258581161  │\n",
       "│ Value/Adv                      │ -0.41420891880989075  │\n",
       "│ Loss/Loss_reward_critic        │ 0.018639037385582924  │\n",
       "│ Loss/Loss_reward_critic/Delta  │ 0.0002971421927213669 │\n",
       "│ Value/reward                   │ 1.2612248659133911    │\n",
       "│ Loss/Loss_cost_critic          │ 0.8872036933898926    │\n",
       "│ Loss/Loss_cost_critic/Delta    │ -0.11604940891265869  │\n",
       "│ Value/cost                     │ 7.414437294006348     │\n",
       "│ Time/Total                     │ 5447.98974609375      │\n",
       "│ Time/Rollout                   │ 43.34267044067383     │\n",
       "│ Time/Update                    │ 174.7374267578125     │\n",
       "│ Time/Epoch                     │ 218.08009338378906    │\n",
       "│ Time/FPS                       │ 91.70942687988281     │\n",
       "│ Metrics/LagrangeMultiplier/Mea │ 0.9453890323638916    │\n",
       "│ Metrics/LagrangeMultiplier/Min │ 0.9453890323638916    │\n",
       "│ Metrics/LagrangeMultiplier/Max │ 0.9453890323638916    │\n",
       "│ Metrics/LagrangeMultiplier/Std │ 0.0                   │\n",
       "└────────────────────────────────┴───────────────────────┘\n",
       "</pre>\n"
      ],
      "text/plain": [
       "┏━━━━━━━━━━━━━━━━━━━━━━━━━━━━━━━━┳━━━━━━━━━━━━━━━━━━━━━━━┓\n",
       "┃\u001b[1m \u001b[0m\u001b[1mMetrics                       \u001b[0m\u001b[1m \u001b[0m┃\u001b[1m \u001b[0m\u001b[1mValue                \u001b[0m\u001b[1m \u001b[0m┃\n",
       "┡━━━━━━━━━━━━━━━━━━━━━━━━━━━━━━━━╇━━━━━━━━━━━━━━━━━━━━━━━┩\n",
       "│ Metrics/EpRet                  │ 13.84655475616455     │\n",
       "│ Metrics/EpCost                 │ 56.68000030517578     │\n",
       "│ Metrics/EpLen                  │ 1000.0                │\n",
       "│ Train/Epoch                    │ 29.0                  │\n",
       "│ Train/Entropy                  │ 0.9833647608757019    │\n",
       "│ Train/KL                       │ 0.005611852742731571  │\n",
       "│ Train/StopIter                 │ 40.0                  │\n",
       "│ Train/PolicyRatio/Mean         │ 1.0008225440979004    │\n",
       "│ Train/PolicyRatio/Min          │ 1.0008225440979004    │\n",
       "│ Train/PolicyRatio/Max          │ 1.0008225440979004    │\n",
       "│ Train/PolicyRatio/Std          │ 0.011212348937988281  │\n",
       "│ Train/LR                       │ 0.0                   │\n",
       "│ Train/PolicyStd                │ 0.6474517583847046    │\n",
       "│ TotalEnvSteps                  │ 600000.0              │\n",
       "│ Loss/Loss_pi                   │ -0.02260175719857216  │\n",
       "│ Loss/Loss_pi/Delta             │ 0.010024633258581161  │\n",
       "│ Value/Adv                      │ -0.41420891880989075  │\n",
       "│ Loss/Loss_reward_critic        │ 0.018639037385582924  │\n",
       "│ Loss/Loss_reward_critic/Delta  │ 0.0002971421927213669 │\n",
       "│ Value/reward                   │ 1.2612248659133911    │\n",
       "│ Loss/Loss_cost_critic          │ 0.8872036933898926    │\n",
       "│ Loss/Loss_cost_critic/Delta    │ -0.11604940891265869  │\n",
       "│ Value/cost                     │ 7.414437294006348     │\n",
       "│ Time/Total                     │ 5447.98974609375      │\n",
       "│ Time/Rollout                   │ 43.34267044067383     │\n",
       "│ Time/Update                    │ 174.7374267578125     │\n",
       "│ Time/Epoch                     │ 218.08009338378906    │\n",
       "│ Time/FPS                       │ 91.70942687988281     │\n",
       "│ Metrics/LagrangeMultiplier/Mea │ 0.9453890323638916    │\n",
       "│ Metrics/LagrangeMultiplier/Min │ 0.9453890323638916    │\n",
       "│ Metrics/LagrangeMultiplier/Max │ 0.9453890323638916    │\n",
       "│ Metrics/LagrangeMultiplier/Std │ 0.0                   │\n",
       "└────────────────────────────────┴───────────────────────┘\n"
      ]
     },
     "metadata": {},
     "output_type": "display_data"
    },
    {
     "data": {
      "text/html": [
       "<pre style=\"white-space:pre;overflow-x:auto;line-height:normal;font-family:Menlo,'DejaVu Sans Mono',consolas,'Courier New',monospace\"><span style=\"color: #008080; text-decoration-color: #008080; font-weight: bold\">Logging data to </span>\n",
       "<span style=\"color: #008080; text-decoration-color: #008080; font-weight: bold\">.</span><span style=\"color: #800080; text-decoration-color: #800080; font-weight: bold\">/</span><span style=\"color: #ff00ff; text-decoration-color: #ff00ff; font-weight: bold\">exp-x</span><span style=\"color: #008080; text-decoration-color: #008080; font-weight: bold\">\\BM_Safety_Lagrangian\\SafetyPointGoal1-v0---b139ee2e886e92ed9936723eb2b2a096596d8bd77629da1d6e785f1b3f09e6bd</span>\n",
       "<span style=\"color: #008080; text-decoration-color: #008080; font-weight: bold\">\\TRPOLag-{SafetyPointGoal1-v0}\\seed-</span><span style=\"color: #008080; text-decoration-color: #008080; font-weight: bold\">000</span><span style=\"color: #008080; text-decoration-color: #008080; font-weight: bold\">-</span><span style=\"color: #008080; text-decoration-color: #008080; font-weight: bold\">2024</span><span style=\"color: #008080; text-decoration-color: #008080; font-weight: bold\">-</span><span style=\"color: #008080; text-decoration-color: #008080; font-weight: bold\">04</span><span style=\"color: #008080; text-decoration-color: #008080; font-weight: bold\">-</span><span style=\"color: #008080; text-decoration-color: #008080; font-weight: bold\">24</span><span style=\"color: #008080; text-decoration-color: #008080; font-weight: bold\">-</span><span style=\"color: #008080; text-decoration-color: #008080; font-weight: bold\">04</span><span style=\"color: #008080; text-decoration-color: #008080; font-weight: bold\">-</span><span style=\"color: #008080; text-decoration-color: #008080; font-weight: bold\">25</span><span style=\"color: #008080; text-decoration-color: #008080; font-weight: bold\">-</span><span style=\"color: #008080; text-decoration-color: #008080; font-weight: bold\">54</span><span style=\"color: #008080; text-decoration-color: #008080; font-weight: bold\">\\progress.csv</span>\n",
       "</pre>\n"
      ],
      "text/plain": [
       "\u001b[1;36mLogging data to \u001b[0m\n",
       "\u001b[1;36m.\u001b[0m\u001b[1;35m/\u001b[0m\u001b[1;95mexp-x\u001b[0m\u001b[1;36m\\BM_Safety_Lagrangian\\SafetyPointGoal1-v0---b139ee2e886e92ed9936723eb2b2a096596d8bd77629da1d6e785f1b3f09e6bd\u001b[0m\n",
       "\u001b[1;36m\\TRPOLag-\u001b[0m\u001b[1;36m{\u001b[0m\u001b[1;36mSafetyPointGoal1-v0\u001b[0m\u001b[1;36m}\u001b[0m\u001b[1;36m\\seed-\u001b[0m\u001b[1;36m000\u001b[0m\u001b[1;36m-\u001b[0m\u001b[1;36m2024\u001b[0m\u001b[1;36m-\u001b[0m\u001b[1;36m04\u001b[0m\u001b[1;36m-\u001b[0m\u001b[1;36m24\u001b[0m\u001b[1;36m-\u001b[0m\u001b[1;36m04\u001b[0m\u001b[1;36m-\u001b[0m\u001b[1;36m25\u001b[0m\u001b[1;36m-\u001b[0m\u001b[1;36m54\u001b[0m\u001b[1;36m\\progress.csv\u001b[0m\n"
      ]
     },
     "metadata": {},
     "output_type": "display_data"
    },
    {
     "data": {
      "text/html": [
       "<pre style=\"white-space:pre;overflow-x:auto;line-height:normal;font-family:Menlo,'DejaVu Sans Mono',consolas,'Courier New',monospace\"><span style=\"color: #808000; text-decoration-color: #808000; font-weight: bold\">Save with config in config.json</span>\n",
       "</pre>\n"
      ],
      "text/plain": [
       "\u001b[1;33mSave with config in config.json\u001b[0m\n"
      ]
     },
     "metadata": {},
     "output_type": "display_data"
    },
    {
     "data": {
      "text/html": [
       "<pre style=\"white-space:pre;overflow-x:auto;line-height:normal;font-family:Menlo,'DejaVu Sans Mono',consolas,'Courier New',monospace\">project Benchmark_Safety name TRPOLag-<span style=\"font-weight: bold\">{</span>SafetyPointGoal1-v0<span style=\"font-weight: bold\">}</span>-seed-<span style=\"color: #008080; text-decoration-color: #008080; font-weight: bold\">000</span>-<span style=\"color: #008080; text-decoration-color: #008080; font-weight: bold\">2024</span>-<span style=\"color: #008080; text-decoration-color: #008080; font-weight: bold\">04</span>-<span style=\"color: #008080; text-decoration-color: #008080; font-weight: bold\">24</span>-<span style=\"color: #008080; text-decoration-color: #008080; font-weight: bold\">04</span>-<span style=\"color: #008080; text-decoration-color: #008080; font-weight: bold\">25</span>-<span style=\"color: #008080; text-decoration-color: #008080; font-weight: bold\">54</span>\n",
       "</pre>\n"
      ],
      "text/plain": [
       "project Benchmark_Safety name TRPOLag-\u001b[1m{\u001b[0mSafetyPointGoal1-v0\u001b[1m}\u001b[0m-seed-\u001b[1;36m000\u001b[0m-\u001b[1;36m2024\u001b[0m-\u001b[1;36m04\u001b[0m-\u001b[1;36m24\u001b[0m-\u001b[1;36m04\u001b[0m-\u001b[1;36m25\u001b[0m-\u001b[1;36m54\u001b[0m\n"
      ]
     },
     "metadata": {},
     "output_type": "display_data"
    },
    {
     "data": {
      "text/html": [
       "Finishing last run (ID:knv2fogt) before initializing another..."
      ],
      "text/plain": [
       "<IPython.core.display.HTML object>"
      ]
     },
     "metadata": {},
     "output_type": "display_data"
    },
    {
     "data": {
      "text/html": [
       "<style>\n",
       "    table.wandb td:nth-child(1) { padding: 0 10px; text-align: left ; width: auto;} td:nth-child(2) {text-align: left ; width: 100%}\n",
       "    .wandb-row { display: flex; flex-direction: row; flex-wrap: wrap; justify-content: flex-start; width: 100% }\n",
       "    .wandb-col { display: flex; flex-direction: column; flex-basis: 100%; flex: 1; padding: 10px; }\n",
       "    </style>\n",
       "<div class=\"wandb-row\"><div class=\"wandb-col\"><h3>Run history:</h3><br/><table class=\"wandb\"><tr><td>Loss/Loss_cost_critic</td><td>▅▅█▆▆▄▃▃▃▄▄▅▄▃▃▂▃▄▃▃▃▂▂▂▂▂▂▁▂▁</td></tr><tr><td>Loss/Loss_cost_critic/Delta</td><td>█▂▅▁▂▂▂▂▃▃▂▄▂▂▃▂▃▄▂▂▃▂▃▃▂▃▂▂▃▂</td></tr><tr><td>Loss/Loss_pi</td><td>█▇▆▆▆▆▆▆▅▅▄▄▄▄▄▃▃▂▁▂▂▂▂▁▂▂▃▅▄▆</td></tr><tr><td>Loss/Loss_pi/Delta</td><td>▁▃▄▅▆▄▅▄▄▅▃▅▅▅▅▄▅▄▃▇▄▅▅▃▆▅▇█▄█</td></tr><tr><td>Loss/Loss_reward_critic</td><td>▂▁▁▂▃▄▄▄▅▆▄▅▆▆▆▇▆▆▆▆▇▇██▇▇▇▇▇▇</td></tr><tr><td>Loss/Loss_reward_critic/Delta</td><td>█▄▄█▅█▄▄▇▇▁▆▆▆▄▆▃▄▄▆▅▅▇▅▃▅▄▄▅▅</td></tr><tr><td>Metrics/EpCost</td><td>▃▄▇█▆▄▃▁▂▂▃▅▆▄▂▂▃▃▅▅▄▃▂▃▃▃▃▃▂▂</td></tr><tr><td>Metrics/EpLen</td><td>▁▁▁▁▁▁▁▁▁▁▁▁▁▁▁▁▁▁▁▁▁▁▁▁▁▁▁▁▁▁</td></tr><tr><td>Metrics/EpRet</td><td>▁▁▁▂▂▃▃▄▄▅▄▅▅▆▆▆▆▆▆▇▇▇▇▇▇▇▇▇██</td></tr><tr><td>Metrics/LagrangeMultiplier</td><td>▁▁▂▂▂▂▃▃▃▃▄▄▄▄▄▅▅▅▅▆▆▆▆▇▇▇▇███</td></tr><tr><td>Metrics/LagrangeMultiplier/Max</td><td>▁▁▂▂▂▂▃▃▃▃▄▄▄▄▄▅▅▅▅▆▆▆▆▇▇▇▇███</td></tr><tr><td>Metrics/LagrangeMultiplier/Min</td><td>▁▁▂▂▂▂▃▃▃▃▄▄▄▄▄▅▅▅▅▆▆▆▆▇▇▇▇███</td></tr><tr><td>Metrics/LagrangeMultiplier/Std</td><td>▁▁▁▁▁▁▁▁▁▁▁▁▁▁▁▁▁▁▁▁▁▁▁▁▁▁▁▁▁▁</td></tr><tr><td>Time/Epoch</td><td>█▅██▃▃▂▃▂▁▃▃▃▄▄▅▄▄▆▄▅▅▇▇▇▇▇▇▇█</td></tr><tr><td>Time/FPS</td><td>▁▃▁▁▅▆▆▅▆█▅▅▆▄▄▃▄▄▃▄▃▃▁▁▂▂▂▁▂▁</td></tr><tr><td>Time/Rollout</td><td>▄▂▆▅▁▃▅▄▅▃▃▄▁▅▆▅▇█▂▆▅▇▅▆▅▅▅▅▅▆</td></tr><tr><td>Time/Total</td><td>▁▁▂▂▂▂▂▃▃▃▃▃▄▄▄▄▅▅▅▅▅▆▆▆▇▇▇▇██</td></tr><tr><td>Time/Update</td><td>█▆▇█▃▃▂▃▂▁▃▃▃▃▄▅▄▃▆▃▅▅▇▇▇▇▇▇▇█</td></tr><tr><td>TotalEnvSteps</td><td>▁▁▁▂▂▂▂▃▃▃▃▄▄▄▄▅▅▅▅▆▆▆▆▇▇▇▇███</td></tr><tr><td>Train/Entropy</td><td>██▇▇▇▆▆▆▅▅▅▅▄▄▄▃▃▃▃▂▂▂▂▂▂▁▁▁▁▁</td></tr><tr><td>Train/Epoch</td><td>▁▁▁▂▂▂▂▃▃▃▃▄▄▄▄▅▅▅▅▆▆▆▆▇▇▇▇███</td></tr><tr><td>Train/KL</td><td>▄▇▆▆█▇█▇▇▇▇▇▇█▇██████▇▇▇▆▅▄▃▂▁</td></tr><tr><td>Train/LR</td><td>███▇▇▇▇▆▆▆▆▅▅▅▅▄▄▄▄▃▃▃▃▂▂▂▂▁▁▁</td></tr><tr><td>Train/PolicyRatio</td><td>▄▁▃▅▄▄▂▅▅▂▅▆▄▃▆▂▄▄█▄▂▃▃▄▅▆▅▄▃▄</td></tr><tr><td>Train/PolicyRatio/Max</td><td>▄▁▃▅▄▄▂▅▅▂▅▆▄▃▆▂▄▄█▄▂▃▃▄▅▆▅▄▃▄</td></tr><tr><td>Train/PolicyRatio/Min</td><td>▄▁▃▅▄▄▂▅▅▂▅▆▄▃▆▂▄▄█▄▂▃▃▄▅▆▅▄▃▄</td></tr><tr><td>Train/PolicyRatio/Std</td><td>▅███▇▇▇▇▇▇█▇▇▇▇▇█▇▇▇▇▇▇▇▆▅▅▄▃▁</td></tr><tr><td>Train/PolicyStd</td><td>██▇▇▆▆▆▅▅▅▄▄▄▄▃▃▃▃▃▂▂▂▂▂▂▁▁▁▁▁</td></tr><tr><td>Train/StopIter</td><td>█▆██▃▃▂▃▂▁▄▃▂▃▃▄▄▃▆▄▅▆████████</td></tr><tr><td>Value/Adv</td><td>▄▅█▅▄▅▃▅▄▅▅▄▇▅▄▆▄▄▁▅██▆▆▄▅▁▆▃▁</td></tr><tr><td>Value/cost</td><td>▁▃▅▅▆▅▅▅▄▅▆▅▇▇▇▇▇█▇▇███▇▇█▇▇▇▇</td></tr><tr><td>Value/reward</td><td>▁▁▁▁▁▂▂▂▃▃▃▄▄▄▅▅▅▆▆▆▇▇▇▇▇▇▇███</td></tr></table><br/></div><div class=\"wandb-col\"><h3>Run summary:</h3><br/><table class=\"wandb\"><tr><td>Loss/Loss_cost_critic</td><td>0.8872</td></tr><tr><td>Loss/Loss_cost_critic/Delta</td><td>-0.11605</td></tr><tr><td>Loss/Loss_pi</td><td>-0.0226</td></tr><tr><td>Loss/Loss_pi/Delta</td><td>0.01002</td></tr><tr><td>Loss/Loss_reward_critic</td><td>0.01864</td></tr><tr><td>Loss/Loss_reward_critic/Delta</td><td>0.0003</td></tr><tr><td>Metrics/EpCost</td><td>56.68</td></tr><tr><td>Metrics/EpLen</td><td>1000.0</td></tr><tr><td>Metrics/EpRet</td><td>13.84655</td></tr><tr><td>Metrics/LagrangeMultiplier</td><td>0.94539</td></tr><tr><td>Metrics/LagrangeMultiplier/Max</td><td>0.94539</td></tr><tr><td>Metrics/LagrangeMultiplier/Min</td><td>0.94539</td></tr><tr><td>Metrics/LagrangeMultiplier/Std</td><td>0.0</td></tr><tr><td>Time/Epoch</td><td>218.08009</td></tr><tr><td>Time/FPS</td><td>91.70943</td></tr><tr><td>Time/Rollout</td><td>43.34267</td></tr><tr><td>Time/Total</td><td>5447.98975</td></tr><tr><td>Time/Update</td><td>174.73743</td></tr><tr><td>TotalEnvSteps</td><td>600000.0</td></tr><tr><td>Train/Entropy</td><td>0.98336</td></tr><tr><td>Train/Epoch</td><td>29.0</td></tr><tr><td>Train/KL</td><td>0.00561</td></tr><tr><td>Train/LR</td><td>0.0</td></tr><tr><td>Train/PolicyRatio</td><td>1.00082</td></tr><tr><td>Train/PolicyRatio/Max</td><td>1.00082</td></tr><tr><td>Train/PolicyRatio/Min</td><td>1.00082</td></tr><tr><td>Train/PolicyRatio/Std</td><td>0.01121</td></tr><tr><td>Train/PolicyStd</td><td>0.64745</td></tr><tr><td>Train/StopIter</td><td>40.0</td></tr><tr><td>Value/Adv</td><td>-0.41421</td></tr><tr><td>Value/cost</td><td>7.41444</td></tr><tr><td>Value/reward</td><td>1.26122</td></tr></table><br/></div></div>"
      ],
      "text/plain": [
       "<IPython.core.display.HTML object>"
      ]
     },
     "metadata": {},
     "output_type": "display_data"
    },
    {
     "data": {
      "text/html": [
       " View run <strong style=\"color:#cdcd00\">PPOLag-{SafetyPointGoal1-v0}-seed-000-2024-04-24-02-54-58</strong> at: <a href='https://wandb.ai/sasank/Benchmark_Safety/runs/knv2fogt' target=\"_blank\">https://wandb.ai/sasank/Benchmark_Safety/runs/knv2fogt</a><br/> View project at: <a href='https://wandb.ai/sasank/Benchmark_Safety' target=\"_blank\">https://wandb.ai/sasank/Benchmark_Safety</a><br/>Synced 5 W&B file(s), 0 media file(s), 0 artifact file(s) and 0 other file(s)"
      ],
      "text/plain": [
       "<IPython.core.display.HTML object>"
      ]
     },
     "metadata": {},
     "output_type": "display_data"
    },
    {
     "data": {
      "text/html": [
       "Find logs at: <code>./exp-x\\BM_Safety_Lagrangian\\SafetyPointGoal1-v0---47335d209c482a3ccbd6eb021625183261eac3afe3e5926d3ce1926b1403f582\\PPOLag-{SafetyPointGoal1-v0}\\seed-000-2024-04-24-02-54-58\\wandb\\run-20240424_025500-knv2fogt\\logs</code>"
      ],
      "text/plain": [
       "<IPython.core.display.HTML object>"
      ]
     },
     "metadata": {},
     "output_type": "display_data"
    },
    {
     "data": {
      "text/html": [
       "Successfully finished last run (ID:knv2fogt). Initializing new run:<br/>"
      ],
      "text/plain": [
       "<IPython.core.display.HTML object>"
      ]
     },
     "metadata": {},
     "output_type": "display_data"
    },
    {
     "data": {
      "text/html": [
       "Tracking run with wandb version 0.16.6"
      ],
      "text/plain": [
       "<IPython.core.display.HTML object>"
      ]
     },
     "metadata": {},
     "output_type": "display_data"
    },
    {
     "data": {
      "text/html": [
       "Run data is saved locally in <code>./exp-x\\BM_Safety_Lagrangian\\SafetyPointGoal1-v0---b139ee2e886e92ed9936723eb2b2a096596d8bd77629da1d6e785f1b3f09e6bd\\TRPOLag-{SafetyPointGoal1-v0}\\seed-000-2024-04-24-04-25-54\\wandb\\run-20240424_042554-t2g5wrrp</code>"
      ],
      "text/plain": [
       "<IPython.core.display.HTML object>"
      ]
     },
     "metadata": {},
     "output_type": "display_data"
    },
    {
     "data": {
      "text/html": [
       "Syncing run <strong><a href='https://wandb.ai/sasank/Benchmark_Safety/runs/t2g5wrrp' target=\"_blank\">TRPOLag-{SafetyPointGoal1-v0}-seed-000-2024-04-24-04-25-54</a></strong> to <a href='https://wandb.ai/sasank/Benchmark_Safety' target=\"_blank\">Weights & Biases</a> (<a href='https://wandb.me/run' target=\"_blank\">docs</a>)<br/>"
      ],
      "text/plain": [
       "<IPython.core.display.HTML object>"
      ]
     },
     "metadata": {},
     "output_type": "display_data"
    },
    {
     "data": {
      "text/html": [
       " View project at <a href='https://wandb.ai/sasank/Benchmark_Safety' target=\"_blank\">https://wandb.ai/sasank/Benchmark_Safety</a>"
      ],
      "text/plain": [
       "<IPython.core.display.HTML object>"
      ]
     },
     "metadata": {},
     "output_type": "display_data"
    },
    {
     "data": {
      "text/html": [
       " View run at <a href='https://wandb.ai/sasank/Benchmark_Safety/runs/t2g5wrrp' target=\"_blank\">https://wandb.ai/sasank/Benchmark_Safety/runs/t2g5wrrp</a>"
      ],
      "text/plain": [
       "<IPython.core.display.HTML object>"
      ]
     },
     "metadata": {},
     "output_type": "display_data"
    },
    {
     "data": {
      "text/html": [
       "<pre style=\"white-space:pre;overflow-x:auto;line-height:normal;font-family:Menlo,'DejaVu Sans Mono',consolas,'Courier New',monospace\"><span style=\"color: #008000; text-decoration-color: #008000\">INFO: Start training</span>\n",
       "</pre>\n"
      ],
      "text/plain": [
       "\u001b[32mINFO: Start training\u001b[0m\n"
      ]
     },
     "metadata": {},
     "output_type": "display_data"
    },
    {
     "data": {
      "text/html": [
       "<pre style=\"white-space:pre;overflow-x:auto;line-height:normal;font-family:Menlo,'DejaVu Sans Mono',consolas,'Courier New',monospace\">c:\\Users\\saisa\\.conda\\envs\\omnisafe-env\\lib\\site-packages\\rich\\live.py:231: UserWarning: install \"ipywidgets\" for \n",
       "Jupyter support\n",
       "  warnings.warn('install \"ipywidgets\" for Jupyter support')\n",
       "</pre>\n"
      ],
      "text/plain": [
       "c:\\Users\\saisa\\.conda\\envs\\omnisafe-env\\lib\\site-packages\\rich\\live.py:231: UserWarning: install \"ipywidgets\" for \n",
       "Jupyter support\n",
       "  warnings.warn('install \"ipywidgets\" for Jupyter support')\n"
      ]
     },
     "metadata": {},
     "output_type": "display_data"
    },
    {
     "data": {
      "text/html": [
       "<pre style=\"white-space:pre;overflow-x:auto;line-height:normal;font-family:Menlo,'DejaVu Sans Mono',consolas,'Courier New',monospace\"><span style=\"color: #008000; text-decoration-color: #008000\">Warning: trajectory cut off when rollout by epoch at </span><span style=\"color: #008080; text-decoration-color: #008080; font-weight: bold\">1000.0</span><span style=\"color: #008000; text-decoration-color: #008000\"> steps.</span>\n",
       "</pre>\n"
      ],
      "text/plain": [
       "\u001b[32mWarning: trajectory cut off when rollout by epoch at \u001b[0m\u001b[1;36m1000.0\u001b[0m\u001b[32m steps.\u001b[0m\n"
      ]
     },
     "metadata": {},
     "output_type": "display_data"
    },
    {
     "data": {
      "text/html": [
       "<pre style=\"white-space:pre;overflow-x:auto;line-height:normal;font-family:Menlo,'DejaVu Sans Mono',consolas,'Courier New',monospace\"><span style=\"color: #008000; text-decoration-color: #008000\">Warning: trajectory cut off when rollout by epoch at </span><span style=\"color: #008080; text-decoration-color: #008080; font-weight: bold\">1000.0</span><span style=\"color: #008000; text-decoration-color: #008000\"> steps.</span>\n",
       "</pre>\n"
      ],
      "text/plain": [
       "\u001b[32mWarning: trajectory cut off when rollout by epoch at \u001b[0m\u001b[1;36m1000.0\u001b[0m\u001b[32m steps.\u001b[0m\n"
      ]
     },
     "metadata": {},
     "output_type": "display_data"
    },
    {
     "data": {
      "text/html": [
       "<pre style=\"white-space:pre;overflow-x:auto;line-height:normal;font-family:Menlo,'DejaVu Sans Mono',consolas,'Courier New',monospace\"><span style=\"color: #008000; text-decoration-color: #008000\">Warning: trajectory cut off when rollout by epoch at </span><span style=\"color: #008080; text-decoration-color: #008080; font-weight: bold\">1000.0</span><span style=\"color: #008000; text-decoration-color: #008000\"> steps.</span>\n",
       "</pre>\n"
      ],
      "text/plain": [
       "\u001b[32mWarning: trajectory cut off when rollout by epoch at \u001b[0m\u001b[1;36m1000.0\u001b[0m\u001b[32m steps.\u001b[0m\n"
      ]
     },
     "metadata": {},
     "output_type": "display_data"
    },
    {
     "data": {
      "text/html": [
       "<pre style=\"white-space:pre;overflow-x:auto;line-height:normal;font-family:Menlo,'DejaVu Sans Mono',consolas,'Courier New',monospace\"><span style=\"color: #008000; text-decoration-color: #008000\">Warning: trajectory cut off when rollout by epoch at </span><span style=\"color: #008080; text-decoration-color: #008080; font-weight: bold\">1000.0</span><span style=\"color: #008000; text-decoration-color: #008000\"> steps.</span>\n",
       "</pre>\n"
      ],
      "text/plain": [
       "\u001b[32mWarning: trajectory cut off when rollout by epoch at \u001b[0m\u001b[1;36m1000.0\u001b[0m\u001b[32m steps.\u001b[0m\n"
      ]
     },
     "metadata": {},
     "output_type": "display_data"
    },
    {
     "data": {
      "text/html": [
       "<pre style=\"white-space:pre;overflow-x:auto;line-height:normal;font-family:Menlo,'DejaVu Sans Mono',consolas,'Courier New',monospace\"></pre>\n"
      ],
      "text/plain": []
     },
     "metadata": {},
     "output_type": "display_data"
    },
    {
     "data": {
      "text/html": [
       "<pre style=\"white-space:pre;overflow-x:auto;line-height:normal;font-family:Menlo,'DejaVu Sans Mono',consolas,'Courier New',monospace\">\n",
       "</pre>\n"
      ],
      "text/plain": [
       "\n"
      ]
     },
     "metadata": {},
     "output_type": "display_data"
    },
    {
     "data": {
      "text/html": [
       "<pre style=\"white-space:pre;overflow-x:auto;line-height:normal;font-family:Menlo,'DejaVu Sans Mono',consolas,'Courier New',monospace\"><span style=\"color: #008000; text-decoration-color: #008000\">Expected Improvement: </span><span style=\"color: #008080; text-decoration-color: #008080; font-weight: bold\">0.018578749150037766</span><span style=\"color: #008000; text-decoration-color: #008000\"> Actual: </span><span style=\"color: #008080; text-decoration-color: #008080; font-weight: bold\">0.01976299099624157</span>\n",
       "</pre>\n"
      ],
      "text/plain": [
       "\u001b[32mExpected Improvement: \u001b[0m\u001b[1;36m0.018578749150037766\u001b[0m\u001b[32m Actual: \u001b[0m\u001b[1;36m0.01976299099624157\u001b[0m\n"
      ]
     },
     "metadata": {},
     "output_type": "display_data"
    },
    {
     "data": {
      "text/html": [
       "<pre style=\"white-space:pre;overflow-x:auto;line-height:normal;font-family:Menlo,'DejaVu Sans Mono',consolas,'Courier New',monospace\"><span style=\"color: #008000; text-decoration-color: #008000\">Accept step at </span><span style=\"color: #808000; text-decoration-color: #808000\">i</span><span style=\"color: #008000; text-decoration-color: #008000\">=</span><span style=\"color: #008080; text-decoration-color: #008080; font-weight: bold\">1</span>\n",
       "</pre>\n"
      ],
      "text/plain": [
       "\u001b[32mAccept step at \u001b[0m\u001b[33mi\u001b[0m\u001b[32m=\u001b[0m\u001b[1;36m1\u001b[0m\n"
      ]
     },
     "metadata": {},
     "output_type": "display_data"
    },
    {
     "data": {
      "text/html": [
       "<pre style=\"white-space:pre;overflow-x:auto;line-height:normal;font-family:Menlo,'DejaVu Sans Mono',consolas,'Courier New',monospace\">┏━━━━━━━━━━━━━━━━━━━━━━━━━━━━━━━━┳━━━━━━━━━━━━━━━━━━━━━━━━┓\n",
       "┃<span style=\"font-weight: bold\"> Metrics                        </span>┃<span style=\"font-weight: bold\"> Value                  </span>┃\n",
       "┡━━━━━━━━━━━━━━━━━━━━━━━━━━━━━━━━╇━━━━━━━━━━━━━━━━━━━━━━━━┩\n",
       "│ Metrics/EpRet                  │ -0.6186364889144897    │\n",
       "│ Metrics/EpCost                 │ 63.150001525878906     │\n",
       "│ Metrics/EpLen                  │ 1000.0                 │\n",
       "│ Train/Epoch                    │ 0.0                    │\n",
       "│ Train/Entropy                  │ 1.414262294769287      │\n",
       "│ Train/KL                       │ 0.0003654983011074364  │\n",
       "│ Train/StopIter                 │ 10.0                   │\n",
       "│ Train/PolicyRatio/Mean         │ 1.000515341758728      │\n",
       "│ Train/PolicyRatio/Min          │ 1.000515341758728      │\n",
       "│ Train/PolicyRatio/Max          │ 1.000515341758728      │\n",
       "│ Train/PolicyRatio/Std          │ 0.000364429724868387   │\n",
       "│ Train/LR                       │ 0.0                    │\n",
       "│ Train/PolicyStd                │ 0.9953405261039734     │\n",
       "│ TotalEnvSteps                  │ 20000.0                │\n",
       "│ Loss/Loss_pi                   │ -0.01317531242966652   │\n",
       "│ Loss/Loss_pi/Delta             │ -0.01317531242966652   │\n",
       "│ Value/Adv                      │ -1.678466787780053e-08 │\n",
       "│ Loss/Loss_reward_critic        │ 0.005614597350358963   │\n",
       "│ Loss/Loss_reward_critic/Delta  │ 0.005614597350358963   │\n",
       "│ Value/reward                   │ 0.008124573156237602   │\n",
       "│ Loss/Loss_cost_critic          │ 3.17067289352417       │\n",
       "│ Loss/Loss_cost_critic/Delta    │ 3.17067289352417       │\n",
       "│ Value/cost                     │ -0.1613626927137375    │\n",
       "│ Time/Total                     │ 55.98773956298828      │\n",
       "│ Time/Rollout                   │ 42.80591583251953      │\n",
       "│ Time/Update                    │ 13.180825233459473     │\n",
       "│ Time/Epoch                     │ 55.98674392700195      │\n",
       "│ Time/FPS                       │ 357.2274169921875      │\n",
       "│ Misc/Alpha                     │ 1.0779681205749512     │\n",
       "│ Misc/FinalStepNorm             │ 0.28084397315979004    │\n",
       "│ Misc/gradient_norm             │ 0.08301921933889389    │\n",
       "│ Misc/xHx                       │ 0.017211467027664185   │\n",
       "│ Misc/H_inv_g                   │ 0.26053088903427124    │\n",
       "│ Misc/AcceptanceStep            │ 1.0                    │\n",
       "│ Metrics/LagrangeMultiplier/Mea │ 0.035999998450279236   │\n",
       "│ Metrics/LagrangeMultiplier/Min │ 0.035999998450279236   │\n",
       "│ Metrics/LagrangeMultiplier/Max │ 0.035999998450279236   │\n",
       "│ Metrics/LagrangeMultiplier/Std │ 0.0                    │\n",
       "└────────────────────────────────┴────────────────────────┘\n",
       "</pre>\n"
      ],
      "text/plain": [
       "┏━━━━━━━━━━━━━━━━━━━━━━━━━━━━━━━━┳━━━━━━━━━━━━━━━━━━━━━━━━┓\n",
       "┃\u001b[1m \u001b[0m\u001b[1mMetrics                       \u001b[0m\u001b[1m \u001b[0m┃\u001b[1m \u001b[0m\u001b[1mValue                 \u001b[0m\u001b[1m \u001b[0m┃\n",
       "┡━━━━━━━━━━━━━━━━━━━━━━━━━━━━━━━━╇━━━━━━━━━━━━━━━━━━━━━━━━┩\n",
       "│ Metrics/EpRet                  │ -0.6186364889144897    │\n",
       "│ Metrics/EpCost                 │ 63.150001525878906     │\n",
       "│ Metrics/EpLen                  │ 1000.0                 │\n",
       "│ Train/Epoch                    │ 0.0                    │\n",
       "│ Train/Entropy                  │ 1.414262294769287      │\n",
       "│ Train/KL                       │ 0.0003654983011074364  │\n",
       "│ Train/StopIter                 │ 10.0                   │\n",
       "│ Train/PolicyRatio/Mean         │ 1.000515341758728      │\n",
       "│ Train/PolicyRatio/Min          │ 1.000515341758728      │\n",
       "│ Train/PolicyRatio/Max          │ 1.000515341758728      │\n",
       "│ Train/PolicyRatio/Std          │ 0.000364429724868387   │\n",
       "│ Train/LR                       │ 0.0                    │\n",
       "│ Train/PolicyStd                │ 0.9953405261039734     │\n",
       "│ TotalEnvSteps                  │ 20000.0                │\n",
       "│ Loss/Loss_pi                   │ -0.01317531242966652   │\n",
       "│ Loss/Loss_pi/Delta             │ -0.01317531242966652   │\n",
       "│ Value/Adv                      │ -1.678466787780053e-08 │\n",
       "│ Loss/Loss_reward_critic        │ 0.005614597350358963   │\n",
       "│ Loss/Loss_reward_critic/Delta  │ 0.005614597350358963   │\n",
       "│ Value/reward                   │ 0.008124573156237602   │\n",
       "│ Loss/Loss_cost_critic          │ 3.17067289352417       │\n",
       "│ Loss/Loss_cost_critic/Delta    │ 3.17067289352417       │\n",
       "│ Value/cost                     │ -0.1613626927137375    │\n",
       "│ Time/Total                     │ 55.98773956298828      │\n",
       "│ Time/Rollout                   │ 42.80591583251953      │\n",
       "│ Time/Update                    │ 13.180825233459473     │\n",
       "│ Time/Epoch                     │ 55.98674392700195      │\n",
       "│ Time/FPS                       │ 357.2274169921875      │\n",
       "│ Misc/Alpha                     │ 1.0779681205749512     │\n",
       "│ Misc/FinalStepNorm             │ 0.28084397315979004    │\n",
       "│ Misc/gradient_norm             │ 0.08301921933889389    │\n",
       "│ Misc/xHx                       │ 0.017211467027664185   │\n",
       "│ Misc/H_inv_g                   │ 0.26053088903427124    │\n",
       "│ Misc/AcceptanceStep            │ 1.0                    │\n",
       "│ Metrics/LagrangeMultiplier/Mea │ 0.035999998450279236   │\n",
       "│ Metrics/LagrangeMultiplier/Min │ 0.035999998450279236   │\n",
       "│ Metrics/LagrangeMultiplier/Max │ 0.035999998450279236   │\n",
       "│ Metrics/LagrangeMultiplier/Std │ 0.0                    │\n",
       "└────────────────────────────────┴────────────────────────┘\n"
      ]
     },
     "metadata": {},
     "output_type": "display_data"
    },
    {
     "data": {
      "text/html": [
       "<pre style=\"white-space:pre;overflow-x:auto;line-height:normal;font-family:Menlo,'DejaVu Sans Mono',consolas,'Courier New',monospace\"><span style=\"color: #008000; text-decoration-color: #008000\">Warning: trajectory cut off when rollout by epoch at </span><span style=\"color: #008080; text-decoration-color: #008080; font-weight: bold\">1000.0</span><span style=\"color: #008000; text-decoration-color: #008000\"> steps.</span>\n",
       "</pre>\n"
      ],
      "text/plain": [
       "\u001b[32mWarning: trajectory cut off when rollout by epoch at \u001b[0m\u001b[1;36m1000.0\u001b[0m\u001b[32m steps.\u001b[0m\n"
      ]
     },
     "metadata": {},
     "output_type": "display_data"
    },
    {
     "data": {
      "text/html": [
       "<pre style=\"white-space:pre;overflow-x:auto;line-height:normal;font-family:Menlo,'DejaVu Sans Mono',consolas,'Courier New',monospace\"><span style=\"color: #008000; text-decoration-color: #008000\">Warning: trajectory cut off when rollout by epoch at </span><span style=\"color: #008080; text-decoration-color: #008080; font-weight: bold\">1000.0</span><span style=\"color: #008000; text-decoration-color: #008000\"> steps.</span>\n",
       "</pre>\n"
      ],
      "text/plain": [
       "\u001b[32mWarning: trajectory cut off when rollout by epoch at \u001b[0m\u001b[1;36m1000.0\u001b[0m\u001b[32m steps.\u001b[0m\n"
      ]
     },
     "metadata": {},
     "output_type": "display_data"
    },
    {
     "data": {
      "text/html": [
       "<pre style=\"white-space:pre;overflow-x:auto;line-height:normal;font-family:Menlo,'DejaVu Sans Mono',consolas,'Courier New',monospace\"><span style=\"color: #008000; text-decoration-color: #008000\">Warning: trajectory cut off when rollout by epoch at </span><span style=\"color: #008080; text-decoration-color: #008080; font-weight: bold\">1000.0</span><span style=\"color: #008000; text-decoration-color: #008000\"> steps.</span>\n",
       "</pre>\n"
      ],
      "text/plain": [
       "\u001b[32mWarning: trajectory cut off when rollout by epoch at \u001b[0m\u001b[1;36m1000.0\u001b[0m\u001b[32m steps.\u001b[0m\n"
      ]
     },
     "metadata": {},
     "output_type": "display_data"
    },
    {
     "data": {
      "text/html": [
       "<pre style=\"white-space:pre;overflow-x:auto;line-height:normal;font-family:Menlo,'DejaVu Sans Mono',consolas,'Courier New',monospace\"><span style=\"color: #008000; text-decoration-color: #008000\">Warning: trajectory cut off when rollout by epoch at </span><span style=\"color: #008080; text-decoration-color: #008080; font-weight: bold\">1000.0</span><span style=\"color: #008000; text-decoration-color: #008000\"> steps.</span>\n",
       "</pre>\n"
      ],
      "text/plain": [
       "\u001b[32mWarning: trajectory cut off when rollout by epoch at \u001b[0m\u001b[1;36m1000.0\u001b[0m\u001b[32m steps.\u001b[0m\n"
      ]
     },
     "metadata": {},
     "output_type": "display_data"
    },
    {
     "data": {
      "text/html": [
       "<pre style=\"white-space:pre;overflow-x:auto;line-height:normal;font-family:Menlo,'DejaVu Sans Mono',consolas,'Courier New',monospace\"></pre>\n"
      ],
      "text/plain": []
     },
     "metadata": {},
     "output_type": "display_data"
    },
    {
     "data": {
      "text/html": [
       "<pre style=\"white-space:pre;overflow-x:auto;line-height:normal;font-family:Menlo,'DejaVu Sans Mono',consolas,'Courier New',monospace\">\n",
       "</pre>\n"
      ],
      "text/plain": [
       "\n"
      ]
     },
     "metadata": {},
     "output_type": "display_data"
    },
    {
     "data": {
      "text/html": [
       "<pre style=\"white-space:pre;overflow-x:auto;line-height:normal;font-family:Menlo,'DejaVu Sans Mono',consolas,'Courier New',monospace\"><span style=\"color: #008000; text-decoration-color: #008000\">Expected Improvement: </span><span style=\"color: #008080; text-decoration-color: #008080; font-weight: bold\">0.020851340144872665</span><span style=\"color: #008000; text-decoration-color: #008000\"> Actual: </span><span style=\"color: #008080; text-decoration-color: #008080; font-weight: bold\">0.020489465445280075</span>\n",
       "</pre>\n"
      ],
      "text/plain": [
       "\u001b[32mExpected Improvement: \u001b[0m\u001b[1;36m0.020851340144872665\u001b[0m\u001b[32m Actual: \u001b[0m\u001b[1;36m0.020489465445280075\u001b[0m\n"
      ]
     },
     "metadata": {},
     "output_type": "display_data"
    },
    {
     "data": {
      "text/html": [
       "<pre style=\"white-space:pre;overflow-x:auto;line-height:normal;font-family:Menlo,'DejaVu Sans Mono',consolas,'Courier New',monospace\"><span style=\"color: #008000; text-decoration-color: #008000\">Accept step at </span><span style=\"color: #808000; text-decoration-color: #808000\">i</span><span style=\"color: #008000; text-decoration-color: #008000\">=</span><span style=\"color: #008080; text-decoration-color: #008080; font-weight: bold\">1</span>\n",
       "</pre>\n"
      ],
      "text/plain": [
       "\u001b[32mAccept step at \u001b[0m\u001b[33mi\u001b[0m\u001b[32m=\u001b[0m\u001b[1;36m1\u001b[0m\n"
      ]
     },
     "metadata": {},
     "output_type": "display_data"
    },
    {
     "data": {
      "text/html": [
       "<pre style=\"white-space:pre;overflow-x:auto;line-height:normal;font-family:Menlo,'DejaVu Sans Mono',consolas,'Courier New',monospace\">┏━━━━━━━━━━━━━━━━━━━━━━━━━━━━━━━━┳━━━━━━━━━━━━━━━━━━━━━━━━━┓\n",
       "┃<span style=\"font-weight: bold\"> Metrics                        </span>┃<span style=\"font-weight: bold\"> Value                   </span>┃\n",
       "┡━━━━━━━━━━━━━━━━━━━━━━━━━━━━━━━━╇━━━━━━━━━━━━━━━━━━━━━━━━━┩\n",
       "│ Metrics/EpRet                  │ 0.05562581866979599     │\n",
       "│ Metrics/EpCost                 │ 96.375                  │\n",
       "│ Metrics/EpLen                  │ 1000.0                  │\n",
       "│ Train/Epoch                    │ 1.0                     │\n",
       "│ Train/Entropy                  │ 1.4036630392074585      │\n",
       "│ Train/KL                       │ 0.00040825933683663607  │\n",
       "│ Train/StopIter                 │ 10.0                    │\n",
       "│ Train/PolicyRatio/Mean         │ 1.0001834630966187      │\n",
       "│ Train/PolicyRatio/Min          │ 1.0001834630966187      │\n",
       "│ Train/PolicyRatio/Max          │ 1.0001834630966187      │\n",
       "│ Train/PolicyRatio/Std          │ 0.00012964375491719693  │\n",
       "│ Train/LR                       │ 0.0                     │\n",
       "│ Train/PolicyStd                │ 0.9848577976226807      │\n",
       "│ TotalEnvSteps                  │ 40000.0                 │\n",
       "│ Loss/Loss_pi                   │ -0.013659636490046978   │\n",
       "│ Loss/Loss_pi/Delta             │ -0.00048432406038045883 │\n",
       "│ Value/Adv                      │ -7.629394005448376e-09  │\n",
       "│ Loss/Loss_reward_critic        │ 0.004894860554486513    │\n",
       "│ Loss/Loss_reward_critic/Delta  │ -0.0007197367958724499  │\n",
       "│ Value/reward                   │ 0.00856337696313858     │\n",
       "│ Loss/Loss_cost_critic          │ 2.6846725940704346      │\n",
       "│ Loss/Loss_cost_critic/Delta    │ -0.48600029945373535    │\n",
       "│ Value/cost                     │ 2.332768678665161       │\n",
       "│ Time/Total                     │ 111.78724670410156      │\n",
       "│ Time/Rollout                   │ 42.67226791381836       │\n",
       "│ Time/Update                    │ 13.091117858886719      │\n",
       "│ Time/Epoch                     │ 55.76338577270508       │\n",
       "│ Time/FPS                       │ 358.6582946777344       │\n",
       "│ Misc/Alpha                     │ 0.9602219462394714      │\n",
       "│ Misc/FinalStepNorm             │ 0.2440153807401657      │\n",
       "│ Misc/gradient_norm             │ 0.10867734253406525     │\n",
       "│ Misc/xHx                       │ 0.021691348403692245    │\n",
       "│ Misc/H_inv_g                   │ 0.2541239559650421      │\n",
       "│ Misc/AcceptanceStep            │ 1.0                     │\n",
       "│ Metrics/LagrangeMultiplier/Mea │ 0.07002285122871399     │\n",
       "│ Metrics/LagrangeMultiplier/Min │ 0.07002285122871399     │\n",
       "│ Metrics/LagrangeMultiplier/Max │ 0.07002285122871399     │\n",
       "│ Metrics/LagrangeMultiplier/Std │ 0.0                     │\n",
       "└────────────────────────────────┴─────────────────────────┘\n",
       "</pre>\n"
      ],
      "text/plain": [
       "┏━━━━━━━━━━━━━━━━━━━━━━━━━━━━━━━━┳━━━━━━━━━━━━━━━━━━━━━━━━━┓\n",
       "┃\u001b[1m \u001b[0m\u001b[1mMetrics                       \u001b[0m\u001b[1m \u001b[0m┃\u001b[1m \u001b[0m\u001b[1mValue                  \u001b[0m\u001b[1m \u001b[0m┃\n",
       "┡━━━━━━━━━━━━━━━━━━━━━━━━━━━━━━━━╇━━━━━━━━━━━━━━━━━━━━━━━━━┩\n",
       "│ Metrics/EpRet                  │ 0.05562581866979599     │\n",
       "│ Metrics/EpCost                 │ 96.375                  │\n",
       "│ Metrics/EpLen                  │ 1000.0                  │\n",
       "│ Train/Epoch                    │ 1.0                     │\n",
       "│ Train/Entropy                  │ 1.4036630392074585      │\n",
       "│ Train/KL                       │ 0.00040825933683663607  │\n",
       "│ Train/StopIter                 │ 10.0                    │\n",
       "│ Train/PolicyRatio/Mean         │ 1.0001834630966187      │\n",
       "│ Train/PolicyRatio/Min          │ 1.0001834630966187      │\n",
       "│ Train/PolicyRatio/Max          │ 1.0001834630966187      │\n",
       "│ Train/PolicyRatio/Std          │ 0.00012964375491719693  │\n",
       "│ Train/LR                       │ 0.0                     │\n",
       "│ Train/PolicyStd                │ 0.9848577976226807      │\n",
       "│ TotalEnvSteps                  │ 40000.0                 │\n",
       "│ Loss/Loss_pi                   │ -0.013659636490046978   │\n",
       "│ Loss/Loss_pi/Delta             │ -0.00048432406038045883 │\n",
       "│ Value/Adv                      │ -7.629394005448376e-09  │\n",
       "│ Loss/Loss_reward_critic        │ 0.004894860554486513    │\n",
       "│ Loss/Loss_reward_critic/Delta  │ -0.0007197367958724499  │\n",
       "│ Value/reward                   │ 0.00856337696313858     │\n",
       "│ Loss/Loss_cost_critic          │ 2.6846725940704346      │\n",
       "│ Loss/Loss_cost_critic/Delta    │ -0.48600029945373535    │\n",
       "│ Value/cost                     │ 2.332768678665161       │\n",
       "│ Time/Total                     │ 111.78724670410156      │\n",
       "│ Time/Rollout                   │ 42.67226791381836       │\n",
       "│ Time/Update                    │ 13.091117858886719      │\n",
       "│ Time/Epoch                     │ 55.76338577270508       │\n",
       "│ Time/FPS                       │ 358.6582946777344       │\n",
       "│ Misc/Alpha                     │ 0.9602219462394714      │\n",
       "│ Misc/FinalStepNorm             │ 0.2440153807401657      │\n",
       "│ Misc/gradient_norm             │ 0.10867734253406525     │\n",
       "│ Misc/xHx                       │ 0.021691348403692245    │\n",
       "│ Misc/H_inv_g                   │ 0.2541239559650421      │\n",
       "│ Misc/AcceptanceStep            │ 1.0                     │\n",
       "│ Metrics/LagrangeMultiplier/Mea │ 0.07002285122871399     │\n",
       "│ Metrics/LagrangeMultiplier/Min │ 0.07002285122871399     │\n",
       "│ Metrics/LagrangeMultiplier/Max │ 0.07002285122871399     │\n",
       "│ Metrics/LagrangeMultiplier/Std │ 0.0                     │\n",
       "└────────────────────────────────┴─────────────────────────┘\n"
      ]
     },
     "metadata": {},
     "output_type": "display_data"
    },
    {
     "data": {
      "text/html": [
       "<pre style=\"white-space:pre;overflow-x:auto;line-height:normal;font-family:Menlo,'DejaVu Sans Mono',consolas,'Courier New',monospace\"><span style=\"color: #008000; text-decoration-color: #008000\">Warning: trajectory cut off when rollout by epoch at </span><span style=\"color: #008080; text-decoration-color: #008080; font-weight: bold\">1000.0</span><span style=\"color: #008000; text-decoration-color: #008000\"> steps.</span>\n",
       "</pre>\n"
      ],
      "text/plain": [
       "\u001b[32mWarning: trajectory cut off when rollout by epoch at \u001b[0m\u001b[1;36m1000.0\u001b[0m\u001b[32m steps.\u001b[0m\n"
      ]
     },
     "metadata": {},
     "output_type": "display_data"
    },
    {
     "data": {
      "text/html": [
       "<pre style=\"white-space:pre;overflow-x:auto;line-height:normal;font-family:Menlo,'DejaVu Sans Mono',consolas,'Courier New',monospace\"><span style=\"color: #008000; text-decoration-color: #008000\">Warning: trajectory cut off when rollout by epoch at </span><span style=\"color: #008080; text-decoration-color: #008080; font-weight: bold\">1000.0</span><span style=\"color: #008000; text-decoration-color: #008000\"> steps.</span>\n",
       "</pre>\n"
      ],
      "text/plain": [
       "\u001b[32mWarning: trajectory cut off when rollout by epoch at \u001b[0m\u001b[1;36m1000.0\u001b[0m\u001b[32m steps.\u001b[0m\n"
      ]
     },
     "metadata": {},
     "output_type": "display_data"
    },
    {
     "data": {
      "text/html": [
       "<pre style=\"white-space:pre;overflow-x:auto;line-height:normal;font-family:Menlo,'DejaVu Sans Mono',consolas,'Courier New',monospace\"><span style=\"color: #008000; text-decoration-color: #008000\">Warning: trajectory cut off when rollout by epoch at </span><span style=\"color: #008080; text-decoration-color: #008080; font-weight: bold\">1000.0</span><span style=\"color: #008000; text-decoration-color: #008000\"> steps.</span>\n",
       "</pre>\n"
      ],
      "text/plain": [
       "\u001b[32mWarning: trajectory cut off when rollout by epoch at \u001b[0m\u001b[1;36m1000.0\u001b[0m\u001b[32m steps.\u001b[0m\n"
      ]
     },
     "metadata": {},
     "output_type": "display_data"
    },
    {
     "data": {
      "text/html": [
       "<pre style=\"white-space:pre;overflow-x:auto;line-height:normal;font-family:Menlo,'DejaVu Sans Mono',consolas,'Courier New',monospace\"><span style=\"color: #008000; text-decoration-color: #008000\">Warning: trajectory cut off when rollout by epoch at </span><span style=\"color: #008080; text-decoration-color: #008080; font-weight: bold\">1000.0</span><span style=\"color: #008000; text-decoration-color: #008000\"> steps.</span>\n",
       "</pre>\n"
      ],
      "text/plain": [
       "\u001b[32mWarning: trajectory cut off when rollout by epoch at \u001b[0m\u001b[1;36m1000.0\u001b[0m\u001b[32m steps.\u001b[0m\n"
      ]
     },
     "metadata": {},
     "output_type": "display_data"
    },
    {
     "data": {
      "text/html": [
       "<pre style=\"white-space:pre;overflow-x:auto;line-height:normal;font-family:Menlo,'DejaVu Sans Mono',consolas,'Courier New',monospace\"></pre>\n"
      ],
      "text/plain": []
     },
     "metadata": {},
     "output_type": "display_data"
    },
    {
     "data": {
      "text/html": [
       "<pre style=\"white-space:pre;overflow-x:auto;line-height:normal;font-family:Menlo,'DejaVu Sans Mono',consolas,'Courier New',monospace\">\n",
       "</pre>\n"
      ],
      "text/plain": [
       "\n"
      ]
     },
     "metadata": {},
     "output_type": "display_data"
    },
    {
     "data": {
      "text/html": [
       "<pre style=\"white-space:pre;overflow-x:auto;line-height:normal;font-family:Menlo,'DejaVu Sans Mono',consolas,'Courier New',monospace\"><span style=\"color: #008000; text-decoration-color: #008000\">Expected Improvement: </span><span style=\"color: #008080; text-decoration-color: #008080; font-weight: bold\">0.019780468195676804</span><span style=\"color: #008000; text-decoration-color: #008000\"> Actual: </span><span style=\"color: #008080; text-decoration-color: #008080; font-weight: bold\">0.020639635622501373</span>\n",
       "</pre>\n"
      ],
      "text/plain": [
       "\u001b[32mExpected Improvement: \u001b[0m\u001b[1;36m0.019780468195676804\u001b[0m\u001b[32m Actual: \u001b[0m\u001b[1;36m0.020639635622501373\u001b[0m\n"
      ]
     },
     "metadata": {},
     "output_type": "display_data"
    },
    {
     "data": {
      "text/html": [
       "<pre style=\"white-space:pre;overflow-x:auto;line-height:normal;font-family:Menlo,'DejaVu Sans Mono',consolas,'Courier New',monospace\"><span style=\"color: #008000; text-decoration-color: #008000\">Accept step at </span><span style=\"color: #808000; text-decoration-color: #808000\">i</span><span style=\"color: #008000; text-decoration-color: #008000\">=</span><span style=\"color: #008080; text-decoration-color: #008080; font-weight: bold\">1</span>\n",
       "</pre>\n"
      ],
      "text/plain": [
       "\u001b[32mAccept step at \u001b[0m\u001b[33mi\u001b[0m\u001b[32m=\u001b[0m\u001b[1;36m1\u001b[0m\n"
      ]
     },
     "metadata": {},
     "output_type": "display_data"
    },
    {
     "data": {
      "text/html": [
       "<pre style=\"white-space:pre;overflow-x:auto;line-height:normal;font-family:Menlo,'DejaVu Sans Mono',consolas,'Courier New',monospace\">┏━━━━━━━━━━━━━━━━━━━━━━━━━━━━━━━━┳━━━━━━━━━━━━━━━━━━━━━━━━━┓\n",
       "┃<span style=\"font-weight: bold\"> Metrics                        </span>┃<span style=\"font-weight: bold\"> Value                   </span>┃\n",
       "┡━━━━━━━━━━━━━━━━━━━━━━━━━━━━━━━━╇━━━━━━━━━━━━━━━━━━━━━━━━━┩\n",
       "│ Metrics/EpRet                  │ 1.0728249549865723      │\n",
       "│ Metrics/EpCost                 │ 107.86000061035156      │\n",
       "│ Metrics/EpLen                  │ 1000.0                  │\n",
       "│ Train/Epoch                    │ 2.0                     │\n",
       "│ Train/Entropy                  │ 1.3999568223953247      │\n",
       "│ Train/KL                       │ 0.00040963475476019084  │\n",
       "│ Train/StopIter                 │ 10.0                    │\n",
       "│ Train/PolicyRatio/Mean         │ 0.9981720447540283      │\n",
       "│ Train/PolicyRatio/Min          │ 0.9981720447540283      │\n",
       "│ Train/PolicyRatio/Max          │ 0.9981720447540283      │\n",
       "│ Train/PolicyRatio/Std          │ 0.001292559551075101    │\n",
       "│ Train/LR                       │ 0.0                     │\n",
       "│ Train/PolicyStd                │ 0.9812292456626892      │\n",
       "│ TotalEnvSteps                  │ 60000.0                 │\n",
       "│ Loss/Loss_pi                   │ -0.013759753666818142   │\n",
       "│ Loss/Loss_pi/Delta             │ -0.00010011717677116394 │\n",
       "│ Value/Adv                      │ 3.8146971692576415e-10  │\n",
       "│ Loss/Loss_reward_critic        │ 0.0076053026132285595   │\n",
       "│ Loss/Loss_reward_critic/Delta  │ 0.0027104420587420464   │\n",
       "│ Value/reward                   │ 0.04975859448313713     │\n",
       "│ Loss/Loss_cost_critic          │ 3.075900077819824       │\n",
       "│ Loss/Loss_cost_critic/Delta    │ 0.39122748374938965     │\n",
       "│ Value/cost                     │ 3.2552430629730225      │\n",
       "│ Time/Total                     │ 167.78187561035156      │\n",
       "│ Time/Rollout                   │ 42.61138916015625       │\n",
       "│ Time/Update                    │ 13.344693183898926      │\n",
       "│ Time/Epoch                     │ 55.956085205078125      │\n",
       "│ Time/FPS                       │ 357.42315673828125      │\n",
       "│ Misc/Alpha                     │ 1.0123584270477295      │\n",
       "│ Misc/FinalStepNorm             │ 0.24646520614624023     │\n",
       "│ Misc/gradient_norm             │ 0.0969846323132515      │\n",
       "│ Misc/xHx                       │ 0.019514668732881546    │\n",
       "│ Misc/H_inv_g                   │ 0.24345646798610687     │\n",
       "│ Misc/AcceptanceStep            │ 1.0                     │\n",
       "│ Metrics/LagrangeMultiplier/Mea │ 0.10439322888851166     │\n",
       "│ Metrics/LagrangeMultiplier/Min │ 0.10439322888851166     │\n",
       "│ Metrics/LagrangeMultiplier/Max │ 0.10439322888851166     │\n",
       "│ Metrics/LagrangeMultiplier/Std │ 0.0                     │\n",
       "└────────────────────────────────┴─────────────────────────┘\n",
       "</pre>\n"
      ],
      "text/plain": [
       "┏━━━━━━━━━━━━━━━━━━━━━━━━━━━━━━━━┳━━━━━━━━━━━━━━━━━━━━━━━━━┓\n",
       "┃\u001b[1m \u001b[0m\u001b[1mMetrics                       \u001b[0m\u001b[1m \u001b[0m┃\u001b[1m \u001b[0m\u001b[1mValue                  \u001b[0m\u001b[1m \u001b[0m┃\n",
       "┡━━━━━━━━━━━━━━━━━━━━━━━━━━━━━━━━╇━━━━━━━━━━━━━━━━━━━━━━━━━┩\n",
       "│ Metrics/EpRet                  │ 1.0728249549865723      │\n",
       "│ Metrics/EpCost                 │ 107.86000061035156      │\n",
       "│ Metrics/EpLen                  │ 1000.0                  │\n",
       "│ Train/Epoch                    │ 2.0                     │\n",
       "│ Train/Entropy                  │ 1.3999568223953247      │\n",
       "│ Train/KL                       │ 0.00040963475476019084  │\n",
       "│ Train/StopIter                 │ 10.0                    │\n",
       "│ Train/PolicyRatio/Mean         │ 0.9981720447540283      │\n",
       "│ Train/PolicyRatio/Min          │ 0.9981720447540283      │\n",
       "│ Train/PolicyRatio/Max          │ 0.9981720447540283      │\n",
       "│ Train/PolicyRatio/Std          │ 0.001292559551075101    │\n",
       "│ Train/LR                       │ 0.0                     │\n",
       "│ Train/PolicyStd                │ 0.9812292456626892      │\n",
       "│ TotalEnvSteps                  │ 60000.0                 │\n",
       "│ Loss/Loss_pi                   │ -0.013759753666818142   │\n",
       "│ Loss/Loss_pi/Delta             │ -0.00010011717677116394 │\n",
       "│ Value/Adv                      │ 3.8146971692576415e-10  │\n",
       "│ Loss/Loss_reward_critic        │ 0.0076053026132285595   │\n",
       "│ Loss/Loss_reward_critic/Delta  │ 0.0027104420587420464   │\n",
       "│ Value/reward                   │ 0.04975859448313713     │\n",
       "│ Loss/Loss_cost_critic          │ 3.075900077819824       │\n",
       "│ Loss/Loss_cost_critic/Delta    │ 0.39122748374938965     │\n",
       "│ Value/cost                     │ 3.2552430629730225      │\n",
       "│ Time/Total                     │ 167.78187561035156      │\n",
       "│ Time/Rollout                   │ 42.61138916015625       │\n",
       "│ Time/Update                    │ 13.344693183898926      │\n",
       "│ Time/Epoch                     │ 55.956085205078125      │\n",
       "│ Time/FPS                       │ 357.42315673828125      │\n",
       "│ Misc/Alpha                     │ 1.0123584270477295      │\n",
       "│ Misc/FinalStepNorm             │ 0.24646520614624023     │\n",
       "│ Misc/gradient_norm             │ 0.0969846323132515      │\n",
       "│ Misc/xHx                       │ 0.019514668732881546    │\n",
       "│ Misc/H_inv_g                   │ 0.24345646798610687     │\n",
       "│ Misc/AcceptanceStep            │ 1.0                     │\n",
       "│ Metrics/LagrangeMultiplier/Mea │ 0.10439322888851166     │\n",
       "│ Metrics/LagrangeMultiplier/Min │ 0.10439322888851166     │\n",
       "│ Metrics/LagrangeMultiplier/Max │ 0.10439322888851166     │\n",
       "│ Metrics/LagrangeMultiplier/Std │ 0.0                     │\n",
       "└────────────────────────────────┴─────────────────────────┘\n"
      ]
     },
     "metadata": {},
     "output_type": "display_data"
    },
    {
     "data": {
      "text/html": [
       "<pre style=\"white-space:pre;overflow-x:auto;line-height:normal;font-family:Menlo,'DejaVu Sans Mono',consolas,'Courier New',monospace\"><span style=\"color: #008000; text-decoration-color: #008000\">Warning: trajectory cut off when rollout by epoch at </span><span style=\"color: #008080; text-decoration-color: #008080; font-weight: bold\">1000.0</span><span style=\"color: #008000; text-decoration-color: #008000\"> steps.</span>\n",
       "</pre>\n"
      ],
      "text/plain": [
       "\u001b[32mWarning: trajectory cut off when rollout by epoch at \u001b[0m\u001b[1;36m1000.0\u001b[0m\u001b[32m steps.\u001b[0m\n"
      ]
     },
     "metadata": {},
     "output_type": "display_data"
    },
    {
     "data": {
      "text/html": [
       "<pre style=\"white-space:pre;overflow-x:auto;line-height:normal;font-family:Menlo,'DejaVu Sans Mono',consolas,'Courier New',monospace\"><span style=\"color: #008000; text-decoration-color: #008000\">Warning: trajectory cut off when rollout by epoch at </span><span style=\"color: #008080; text-decoration-color: #008080; font-weight: bold\">1000.0</span><span style=\"color: #008000; text-decoration-color: #008000\"> steps.</span>\n",
       "</pre>\n"
      ],
      "text/plain": [
       "\u001b[32mWarning: trajectory cut off when rollout by epoch at \u001b[0m\u001b[1;36m1000.0\u001b[0m\u001b[32m steps.\u001b[0m\n"
      ]
     },
     "metadata": {},
     "output_type": "display_data"
    },
    {
     "data": {
      "text/html": [
       "<pre style=\"white-space:pre;overflow-x:auto;line-height:normal;font-family:Menlo,'DejaVu Sans Mono',consolas,'Courier New',monospace\"><span style=\"color: #008000; text-decoration-color: #008000\">Warning: trajectory cut off when rollout by epoch at </span><span style=\"color: #008080; text-decoration-color: #008080; font-weight: bold\">1000.0</span><span style=\"color: #008000; text-decoration-color: #008000\"> steps.</span>\n",
       "</pre>\n"
      ],
      "text/plain": [
       "\u001b[32mWarning: trajectory cut off when rollout by epoch at \u001b[0m\u001b[1;36m1000.0\u001b[0m\u001b[32m steps.\u001b[0m\n"
      ]
     },
     "metadata": {},
     "output_type": "display_data"
    },
    {
     "data": {
      "text/html": [
       "<pre style=\"white-space:pre;overflow-x:auto;line-height:normal;font-family:Menlo,'DejaVu Sans Mono',consolas,'Courier New',monospace\"><span style=\"color: #008000; text-decoration-color: #008000\">Warning: trajectory cut off when rollout by epoch at </span><span style=\"color: #008080; text-decoration-color: #008080; font-weight: bold\">1000.0</span><span style=\"color: #008000; text-decoration-color: #008000\"> steps.</span>\n",
       "</pre>\n"
      ],
      "text/plain": [
       "\u001b[32mWarning: trajectory cut off when rollout by epoch at \u001b[0m\u001b[1;36m1000.0\u001b[0m\u001b[32m steps.\u001b[0m\n"
      ]
     },
     "metadata": {},
     "output_type": "display_data"
    },
    {
     "data": {
      "text/html": [
       "<pre style=\"white-space:pre;overflow-x:auto;line-height:normal;font-family:Menlo,'DejaVu Sans Mono',consolas,'Courier New',monospace\"></pre>\n"
      ],
      "text/plain": []
     },
     "metadata": {},
     "output_type": "display_data"
    },
    {
     "data": {
      "text/html": [
       "<pre style=\"white-space:pre;overflow-x:auto;line-height:normal;font-family:Menlo,'DejaVu Sans Mono',consolas,'Courier New',monospace\">\n",
       "</pre>\n"
      ],
      "text/plain": [
       "\n"
      ]
     },
     "metadata": {},
     "output_type": "display_data"
    },
    {
     "data": {
      "text/html": [
       "<pre style=\"white-space:pre;overflow-x:auto;line-height:normal;font-family:Menlo,'DejaVu Sans Mono',consolas,'Courier New',monospace\"><span style=\"color: #008000; text-decoration-color: #008000\">Expected Improvement: </span><span style=\"color: #008080; text-decoration-color: #008080; font-weight: bold\">0.01475181058049202</span><span style=\"color: #008000; text-decoration-color: #008000\"> Actual: </span><span style=\"color: #008080; text-decoration-color: #008080; font-weight: bold\">0.014603231102228165</span>\n",
       "</pre>\n"
      ],
      "text/plain": [
       "\u001b[32mExpected Improvement: \u001b[0m\u001b[1;36m0.01475181058049202\u001b[0m\u001b[32m Actual: \u001b[0m\u001b[1;36m0.014603231102228165\u001b[0m\n"
      ]
     },
     "metadata": {},
     "output_type": "display_data"
    },
    {
     "data": {
      "text/html": [
       "<pre style=\"white-space:pre;overflow-x:auto;line-height:normal;font-family:Menlo,'DejaVu Sans Mono',consolas,'Courier New',monospace\"><span style=\"color: #008000; text-decoration-color: #008000\">Accept step at </span><span style=\"color: #808000; text-decoration-color: #808000\">i</span><span style=\"color: #008000; text-decoration-color: #008000\">=</span><span style=\"color: #008080; text-decoration-color: #008080; font-weight: bold\">1</span>\n",
       "</pre>\n"
      ],
      "text/plain": [
       "\u001b[32mAccept step at \u001b[0m\u001b[33mi\u001b[0m\u001b[32m=\u001b[0m\u001b[1;36m1\u001b[0m\n"
      ]
     },
     "metadata": {},
     "output_type": "display_data"
    },
    {
     "data": {
      "text/html": [
       "<pre style=\"white-space:pre;overflow-x:auto;line-height:normal;font-family:Menlo,'DejaVu Sans Mono',consolas,'Courier New',monospace\">┏━━━━━━━━━━━━━━━━━━━━━━━━━━━━━━━━┳━━━━━━━━━━━━━━━━━━━━━━━┓\n",
       "┃<span style=\"font-weight: bold\"> Metrics                        </span>┃<span style=\"font-weight: bold\"> Value                 </span>┃\n",
       "┡━━━━━━━━━━━━━━━━━━━━━━━━━━━━━━━━╇━━━━━━━━━━━━━━━━━━━━━━━┩\n",
       "│ Metrics/EpRet                  │ 2.8120410442352295    │\n",
       "│ Metrics/EpCost                 │ 86.5199966430664      │\n",
       "│ Metrics/EpLen                  │ 1000.0                │\n",
       "│ Train/Epoch                    │ 3.0                   │\n",
       "│ Train/Entropy                  │ 1.3966883420944214    │\n",
       "│ Train/KL                       │ 0.0003636039327830076 │\n",
       "│ Train/StopIter                 │ 10.0                  │\n",
       "│ Train/PolicyRatio/Mean         │ 1.0005502700805664    │\n",
       "│ Train/PolicyRatio/Min          │ 1.0005502700805664    │\n",
       "│ Train/PolicyRatio/Max          │ 1.0005502700805664    │\n",
       "│ Train/PolicyRatio/Std          │ 0.0003891559026669711 │\n",
       "│ Train/LR                       │ 0.0                   │\n",
       "│ Train/PolicyStd                │ 0.9780537486076355    │\n",
       "│ TotalEnvSteps                  │ 80000.0               │\n",
       "│ Loss/Loss_pi                   │ -0.009735498577356339 │\n",
       "│ Loss/Loss_pi/Delta             │ 0.0040242550894618034 │\n",
       "│ Value/Adv                      │ 8.583068478174027e-09 │\n",
       "│ Loss/Loss_reward_critic        │ 0.011058731935918331  │\n",
       "│ Loss/Loss_reward_critic/Delta  │ 0.0034534293226897717 │\n",
       "│ Value/reward                   │ 0.07942451536655426   │\n",
       "│ Loss/Loss_cost_critic          │ 2.305337905883789     │\n",
       "│ Loss/Loss_cost_critic/Delta    │ -0.7705621719360352   │\n",
       "│ Value/cost                     │ 4.039559364318848     │\n",
       "│ Time/Total                     │ 224.70603942871094    │\n",
       "│ Time/Rollout                   │ 43.70033645629883     │\n",
       "│ Time/Update                    │ 13.18482780456543     │\n",
       "│ Time/Epoch                     │ 56.885162353515625    │\n",
       "│ Time/FPS                       │ 351.5855407714844     │\n",
       "│ Misc/Alpha                     │ 1.3585450649261475    │\n",
       "│ Misc/FinalStepNorm             │ 0.277486115694046     │\n",
       "│ Misc/gradient_norm             │ 0.06463153660297394   │\n",
       "│ Misc/xHx                       │ 0.010836310684680939  │\n",
       "│ Misc/H_inv_g                   │ 0.20425240695476532   │\n",
       "│ Misc/AcceptanceStep            │ 1.0                   │\n",
       "│ Metrics/LagrangeMultiplier/Mea │ 0.13880014419555664   │\n",
       "│ Metrics/LagrangeMultiplier/Min │ 0.13880014419555664   │\n",
       "│ Metrics/LagrangeMultiplier/Max │ 0.13880014419555664   │\n",
       "│ Metrics/LagrangeMultiplier/Std │ 0.0                   │\n",
       "└────────────────────────────────┴───────────────────────┘\n",
       "</pre>\n"
      ],
      "text/plain": [
       "┏━━━━━━━━━━━━━━━━━━━━━━━━━━━━━━━━┳━━━━━━━━━━━━━━━━━━━━━━━┓\n",
       "┃\u001b[1m \u001b[0m\u001b[1mMetrics                       \u001b[0m\u001b[1m \u001b[0m┃\u001b[1m \u001b[0m\u001b[1mValue                \u001b[0m\u001b[1m \u001b[0m┃\n",
       "┡━━━━━━━━━━━━━━━━━━━━━━━━━━━━━━━━╇━━━━━━━━━━━━━━━━━━━━━━━┩\n",
       "│ Metrics/EpRet                  │ 2.8120410442352295    │\n",
       "│ Metrics/EpCost                 │ 86.5199966430664      │\n",
       "│ Metrics/EpLen                  │ 1000.0                │\n",
       "│ Train/Epoch                    │ 3.0                   │\n",
       "│ Train/Entropy                  │ 1.3966883420944214    │\n",
       "│ Train/KL                       │ 0.0003636039327830076 │\n",
       "│ Train/StopIter                 │ 10.0                  │\n",
       "│ Train/PolicyRatio/Mean         │ 1.0005502700805664    │\n",
       "│ Train/PolicyRatio/Min          │ 1.0005502700805664    │\n",
       "│ Train/PolicyRatio/Max          │ 1.0005502700805664    │\n",
       "│ Train/PolicyRatio/Std          │ 0.0003891559026669711 │\n",
       "│ Train/LR                       │ 0.0                   │\n",
       "│ Train/PolicyStd                │ 0.9780537486076355    │\n",
       "│ TotalEnvSteps                  │ 80000.0               │\n",
       "│ Loss/Loss_pi                   │ -0.009735498577356339 │\n",
       "│ Loss/Loss_pi/Delta             │ 0.0040242550894618034 │\n",
       "│ Value/Adv                      │ 8.583068478174027e-09 │\n",
       "│ Loss/Loss_reward_critic        │ 0.011058731935918331  │\n",
       "│ Loss/Loss_reward_critic/Delta  │ 0.0034534293226897717 │\n",
       "│ Value/reward                   │ 0.07942451536655426   │\n",
       "│ Loss/Loss_cost_critic          │ 2.305337905883789     │\n",
       "│ Loss/Loss_cost_critic/Delta    │ -0.7705621719360352   │\n",
       "│ Value/cost                     │ 4.039559364318848     │\n",
       "│ Time/Total                     │ 224.70603942871094    │\n",
       "│ Time/Rollout                   │ 43.70033645629883     │\n",
       "│ Time/Update                    │ 13.18482780456543     │\n",
       "│ Time/Epoch                     │ 56.885162353515625    │\n",
       "│ Time/FPS                       │ 351.5855407714844     │\n",
       "│ Misc/Alpha                     │ 1.3585450649261475    │\n",
       "│ Misc/FinalStepNorm             │ 0.277486115694046     │\n",
       "│ Misc/gradient_norm             │ 0.06463153660297394   │\n",
       "│ Misc/xHx                       │ 0.010836310684680939  │\n",
       "│ Misc/H_inv_g                   │ 0.20425240695476532   │\n",
       "│ Misc/AcceptanceStep            │ 1.0                   │\n",
       "│ Metrics/LagrangeMultiplier/Mea │ 0.13880014419555664   │\n",
       "│ Metrics/LagrangeMultiplier/Min │ 0.13880014419555664   │\n",
       "│ Metrics/LagrangeMultiplier/Max │ 0.13880014419555664   │\n",
       "│ Metrics/LagrangeMultiplier/Std │ 0.0                   │\n",
       "└────────────────────────────────┴───────────────────────┘\n"
      ]
     },
     "metadata": {},
     "output_type": "display_data"
    },
    {
     "data": {
      "text/html": [
       "<pre style=\"white-space:pre;overflow-x:auto;line-height:normal;font-family:Menlo,'DejaVu Sans Mono',consolas,'Courier New',monospace\"><span style=\"color: #008000; text-decoration-color: #008000\">Warning: trajectory cut off when rollout by epoch at </span><span style=\"color: #008080; text-decoration-color: #008080; font-weight: bold\">1000.0</span><span style=\"color: #008000; text-decoration-color: #008000\"> steps.</span>\n",
       "</pre>\n"
      ],
      "text/plain": [
       "\u001b[32mWarning: trajectory cut off when rollout by epoch at \u001b[0m\u001b[1;36m1000.0\u001b[0m\u001b[32m steps.\u001b[0m\n"
      ]
     },
     "metadata": {},
     "output_type": "display_data"
    },
    {
     "data": {
      "text/html": [
       "<pre style=\"white-space:pre;overflow-x:auto;line-height:normal;font-family:Menlo,'DejaVu Sans Mono',consolas,'Courier New',monospace\"><span style=\"color: #008000; text-decoration-color: #008000\">Warning: trajectory cut off when rollout by epoch at </span><span style=\"color: #008080; text-decoration-color: #008080; font-weight: bold\">1000.0</span><span style=\"color: #008000; text-decoration-color: #008000\"> steps.</span>\n",
       "</pre>\n"
      ],
      "text/plain": [
       "\u001b[32mWarning: trajectory cut off when rollout by epoch at \u001b[0m\u001b[1;36m1000.0\u001b[0m\u001b[32m steps.\u001b[0m\n"
      ]
     },
     "metadata": {},
     "output_type": "display_data"
    },
    {
     "data": {
      "text/html": [
       "<pre style=\"white-space:pre;overflow-x:auto;line-height:normal;font-family:Menlo,'DejaVu Sans Mono',consolas,'Courier New',monospace\"><span style=\"color: #008000; text-decoration-color: #008000\">Warning: trajectory cut off when rollout by epoch at </span><span style=\"color: #008080; text-decoration-color: #008080; font-weight: bold\">1000.0</span><span style=\"color: #008000; text-decoration-color: #008000\"> steps.</span>\n",
       "</pre>\n"
      ],
      "text/plain": [
       "\u001b[32mWarning: trajectory cut off when rollout by epoch at \u001b[0m\u001b[1;36m1000.0\u001b[0m\u001b[32m steps.\u001b[0m\n"
      ]
     },
     "metadata": {},
     "output_type": "display_data"
    },
    {
     "data": {
      "text/html": [
       "<pre style=\"white-space:pre;overflow-x:auto;line-height:normal;font-family:Menlo,'DejaVu Sans Mono',consolas,'Courier New',monospace\"><span style=\"color: #008000; text-decoration-color: #008000\">Warning: trajectory cut off when rollout by epoch at </span><span style=\"color: #008080; text-decoration-color: #008080; font-weight: bold\">1000.0</span><span style=\"color: #008000; text-decoration-color: #008000\"> steps.</span>\n",
       "</pre>\n"
      ],
      "text/plain": [
       "\u001b[32mWarning: trajectory cut off when rollout by epoch at \u001b[0m\u001b[1;36m1000.0\u001b[0m\u001b[32m steps.\u001b[0m\n"
      ]
     },
     "metadata": {},
     "output_type": "display_data"
    },
    {
     "data": {
      "text/html": [
       "<pre style=\"white-space:pre;overflow-x:auto;line-height:normal;font-family:Menlo,'DejaVu Sans Mono',consolas,'Courier New',monospace\"></pre>\n"
      ],
      "text/plain": []
     },
     "metadata": {},
     "output_type": "display_data"
    },
    {
     "data": {
      "text/html": [
       "<pre style=\"white-space:pre;overflow-x:auto;line-height:normal;font-family:Menlo,'DejaVu Sans Mono',consolas,'Courier New',monospace\">\n",
       "</pre>\n"
      ],
      "text/plain": [
       "\n"
      ]
     },
     "metadata": {},
     "output_type": "display_data"
    },
    {
     "data": {
      "text/html": [
       "<pre style=\"white-space:pre;overflow-x:auto;line-height:normal;font-family:Menlo,'DejaVu Sans Mono',consolas,'Courier New',monospace\"><span style=\"color: #008000; text-decoration-color: #008000\">Expected Improvement: </span><span style=\"color: #008080; text-decoration-color: #008080; font-weight: bold\">0.019542623311281204</span><span style=\"color: #008000; text-decoration-color: #008000\"> Actual: </span><span style=\"color: #008080; text-decoration-color: #008080; font-weight: bold\">0.021159635856747627</span>\n",
       "</pre>\n"
      ],
      "text/plain": [
       "\u001b[32mExpected Improvement: \u001b[0m\u001b[1;36m0.019542623311281204\u001b[0m\u001b[32m Actual: \u001b[0m\u001b[1;36m0.021159635856747627\u001b[0m\n"
      ]
     },
     "metadata": {},
     "output_type": "display_data"
    },
    {
     "data": {
      "text/html": [
       "<pre style=\"white-space:pre;overflow-x:auto;line-height:normal;font-family:Menlo,'DejaVu Sans Mono',consolas,'Courier New',monospace\"><span style=\"color: #008000; text-decoration-color: #008000\">Accept step at </span><span style=\"color: #808000; text-decoration-color: #808000\">i</span><span style=\"color: #008000; text-decoration-color: #008000\">=</span><span style=\"color: #008080; text-decoration-color: #008080; font-weight: bold\">1</span>\n",
       "</pre>\n"
      ],
      "text/plain": [
       "\u001b[32mAccept step at \u001b[0m\u001b[33mi\u001b[0m\u001b[32m=\u001b[0m\u001b[1;36m1\u001b[0m\n"
      ]
     },
     "metadata": {},
     "output_type": "display_data"
    },
    {
     "data": {
      "text/html": [
       "<pre style=\"white-space:pre;overflow-x:auto;line-height:normal;font-family:Menlo,'DejaVu Sans Mono',consolas,'Courier New',monospace\">┏━━━━━━━━━━━━━━━━━━━━━━━━━━━━━━━━┳━━━━━━━━━━━━━━━━━━━━━━━━┓\n",
       "┃<span style=\"font-weight: bold\"> Metrics                        </span>┃<span style=\"font-weight: bold\"> Value                  </span>┃\n",
       "┡━━━━━━━━━━━━━━━━━━━━━━━━━━━━━━━━╇━━━━━━━━━━━━━━━━━━━━━━━━┩\n",
       "│ Metrics/EpRet                  │ 4.552299499511719      │\n",
       "│ Metrics/EpCost                 │ 67.77999877929688      │\n",
       "│ Metrics/EpLen                  │ 1000.0                 │\n",
       "│ Train/Epoch                    │ 4.0                    │\n",
       "│ Train/Entropy                  │ 1.3962408304214478     │\n",
       "│ Train/KL                       │ 0.00040727664600126445 │\n",
       "│ Train/StopIter                 │ 10.0                   │\n",
       "│ Train/PolicyRatio/Mean         │ 0.9988970756530762     │\n",
       "│ Train/PolicyRatio/Min          │ 0.9988970756530762     │\n",
       "│ Train/PolicyRatio/Max          │ 0.9988970756530762     │\n",
       "│ Train/PolicyRatio/Std          │ 0.0007798571605235338  │\n",
       "│ Train/LR                       │ 0.0                    │\n",
       "│ Train/PolicyStd                │ 0.9776962399482727     │\n",
       "│ TotalEnvSteps                  │ 100000.0               │\n",
       "│ Loss/Loss_pi                   │ -0.014106432907283306  │\n",
       "│ Loss/Loss_pi/Delta             │ -0.004370934329926968  │\n",
       "│ Value/Adv                      │ 9.918212917625624e-09  │\n",
       "│ Loss/Loss_reward_critic        │ 0.010637123137712479   │\n",
       "│ Loss/Loss_reward_critic/Delta  │ -0.0004216087982058525 │\n",
       "│ Value/reward                   │ 0.16050688922405243    │\n",
       "│ Loss/Loss_cost_critic          │ 2.0223512649536133     │\n",
       "│ Loss/Loss_cost_critic/Delta    │ -0.2829866409301758    │\n",
       "│ Value/cost                     │ 3.846493721008301      │\n",
       "│ Time/Total                     │ 279.9316711425781      │\n",
       "│ Time/Rollout                   │ 42.05009460449219      │\n",
       "│ Time/Update                    │ 13.142541885375977     │\n",
       "│ Time/Epoch                     │ 55.19263458251953      │\n",
       "│ Time/FPS                       │ 362.3671875            │\n",
       "│ Misc/Alpha                     │ 1.0247628688812256     │\n",
       "│ Misc/FinalStepNorm             │ 0.2513485848903656     │\n",
       "│ Misc/gradient_norm             │ 0.09538621455430984    │\n",
       "│ Misc/xHx                       │ 0.019045088440179825   │\n",
       "│ Misc/H_inv_g                   │ 0.2452748566865921     │\n",
       "│ Misc/AcceptanceStep            │ 1.0                    │\n",
       "│ Metrics/LagrangeMultiplier/Mea │ 0.17237180471420288    │\n",
       "│ Metrics/LagrangeMultiplier/Min │ 0.17237180471420288    │\n",
       "│ Metrics/LagrangeMultiplier/Max │ 0.17237180471420288    │\n",
       "│ Metrics/LagrangeMultiplier/Std │ 0.0                    │\n",
       "└────────────────────────────────┴────────────────────────┘\n",
       "</pre>\n"
      ],
      "text/plain": [
       "┏━━━━━━━━━━━━━━━━━━━━━━━━━━━━━━━━┳━━━━━━━━━━━━━━━━━━━━━━━━┓\n",
       "┃\u001b[1m \u001b[0m\u001b[1mMetrics                       \u001b[0m\u001b[1m \u001b[0m┃\u001b[1m \u001b[0m\u001b[1mValue                 \u001b[0m\u001b[1m \u001b[0m┃\n",
       "┡━━━━━━━━━━━━━━━━━━━━━━━━━━━━━━━━╇━━━━━━━━━━━━━━━━━━━━━━━━┩\n",
       "│ Metrics/EpRet                  │ 4.552299499511719      │\n",
       "│ Metrics/EpCost                 │ 67.77999877929688      │\n",
       "│ Metrics/EpLen                  │ 1000.0                 │\n",
       "│ Train/Epoch                    │ 4.0                    │\n",
       "│ Train/Entropy                  │ 1.3962408304214478     │\n",
       "│ Train/KL                       │ 0.00040727664600126445 │\n",
       "│ Train/StopIter                 │ 10.0                   │\n",
       "│ Train/PolicyRatio/Mean         │ 0.9988970756530762     │\n",
       "│ Train/PolicyRatio/Min          │ 0.9988970756530762     │\n",
       "│ Train/PolicyRatio/Max          │ 0.9988970756530762     │\n",
       "│ Train/PolicyRatio/Std          │ 0.0007798571605235338  │\n",
       "│ Train/LR                       │ 0.0                    │\n",
       "│ Train/PolicyStd                │ 0.9776962399482727     │\n",
       "│ TotalEnvSteps                  │ 100000.0               │\n",
       "│ Loss/Loss_pi                   │ -0.014106432907283306  │\n",
       "│ Loss/Loss_pi/Delta             │ -0.004370934329926968  │\n",
       "│ Value/Adv                      │ 9.918212917625624e-09  │\n",
       "│ Loss/Loss_reward_critic        │ 0.010637123137712479   │\n",
       "│ Loss/Loss_reward_critic/Delta  │ -0.0004216087982058525 │\n",
       "│ Value/reward                   │ 0.16050688922405243    │\n",
       "│ Loss/Loss_cost_critic          │ 2.0223512649536133     │\n",
       "│ Loss/Loss_cost_critic/Delta    │ -0.2829866409301758    │\n",
       "│ Value/cost                     │ 3.846493721008301      │\n",
       "│ Time/Total                     │ 279.9316711425781      │\n",
       "│ Time/Rollout                   │ 42.05009460449219      │\n",
       "│ Time/Update                    │ 13.142541885375977     │\n",
       "│ Time/Epoch                     │ 55.19263458251953      │\n",
       "│ Time/FPS                       │ 362.3671875            │\n",
       "│ Misc/Alpha                     │ 1.0247628688812256     │\n",
       "│ Misc/FinalStepNorm             │ 0.2513485848903656     │\n",
       "│ Misc/gradient_norm             │ 0.09538621455430984    │\n",
       "│ Misc/xHx                       │ 0.019045088440179825   │\n",
       "│ Misc/H_inv_g                   │ 0.2452748566865921     │\n",
       "│ Misc/AcceptanceStep            │ 1.0                    │\n",
       "│ Metrics/LagrangeMultiplier/Mea │ 0.17237180471420288    │\n",
       "│ Metrics/LagrangeMultiplier/Min │ 0.17237180471420288    │\n",
       "│ Metrics/LagrangeMultiplier/Max │ 0.17237180471420288    │\n",
       "│ Metrics/LagrangeMultiplier/Std │ 0.0                    │\n",
       "└────────────────────────────────┴────────────────────────┘\n"
      ]
     },
     "metadata": {},
     "output_type": "display_data"
    },
    {
     "data": {
      "text/html": [
       "<pre style=\"white-space:pre;overflow-x:auto;line-height:normal;font-family:Menlo,'DejaVu Sans Mono',consolas,'Courier New',monospace\"><span style=\"color: #008000; text-decoration-color: #008000\">Warning: trajectory cut off when rollout by epoch at </span><span style=\"color: #008080; text-decoration-color: #008080; font-weight: bold\">1000.0</span><span style=\"color: #008000; text-decoration-color: #008000\"> steps.</span>\n",
       "</pre>\n"
      ],
      "text/plain": [
       "\u001b[32mWarning: trajectory cut off when rollout by epoch at \u001b[0m\u001b[1;36m1000.0\u001b[0m\u001b[32m steps.\u001b[0m\n"
      ]
     },
     "metadata": {},
     "output_type": "display_data"
    },
    {
     "data": {
      "text/html": [
       "<pre style=\"white-space:pre;overflow-x:auto;line-height:normal;font-family:Menlo,'DejaVu Sans Mono',consolas,'Courier New',monospace\"><span style=\"color: #008000; text-decoration-color: #008000\">Warning: trajectory cut off when rollout by epoch at </span><span style=\"color: #008080; text-decoration-color: #008080; font-weight: bold\">1000.0</span><span style=\"color: #008000; text-decoration-color: #008000\"> steps.</span>\n",
       "</pre>\n"
      ],
      "text/plain": [
       "\u001b[32mWarning: trajectory cut off when rollout by epoch at \u001b[0m\u001b[1;36m1000.0\u001b[0m\u001b[32m steps.\u001b[0m\n"
      ]
     },
     "metadata": {},
     "output_type": "display_data"
    },
    {
     "data": {
      "text/html": [
       "<pre style=\"white-space:pre;overflow-x:auto;line-height:normal;font-family:Menlo,'DejaVu Sans Mono',consolas,'Courier New',monospace\"><span style=\"color: #008000; text-decoration-color: #008000\">Warning: trajectory cut off when rollout by epoch at </span><span style=\"color: #008080; text-decoration-color: #008080; font-weight: bold\">1000.0</span><span style=\"color: #008000; text-decoration-color: #008000\"> steps.</span>\n",
       "</pre>\n"
      ],
      "text/plain": [
       "\u001b[32mWarning: trajectory cut off when rollout by epoch at \u001b[0m\u001b[1;36m1000.0\u001b[0m\u001b[32m steps.\u001b[0m\n"
      ]
     },
     "metadata": {},
     "output_type": "display_data"
    },
    {
     "data": {
      "text/html": [
       "<pre style=\"white-space:pre;overflow-x:auto;line-height:normal;font-family:Menlo,'DejaVu Sans Mono',consolas,'Courier New',monospace\"><span style=\"color: #008000; text-decoration-color: #008000\">Warning: trajectory cut off when rollout by epoch at </span><span style=\"color: #008080; text-decoration-color: #008080; font-weight: bold\">1000.0</span><span style=\"color: #008000; text-decoration-color: #008000\"> steps.</span>\n",
       "</pre>\n"
      ],
      "text/plain": [
       "\u001b[32mWarning: trajectory cut off when rollout by epoch at \u001b[0m\u001b[1;36m1000.0\u001b[0m\u001b[32m steps.\u001b[0m\n"
      ]
     },
     "metadata": {},
     "output_type": "display_data"
    },
    {
     "data": {
      "text/html": [
       "<pre style=\"white-space:pre;overflow-x:auto;line-height:normal;font-family:Menlo,'DejaVu Sans Mono',consolas,'Courier New',monospace\"></pre>\n"
      ],
      "text/plain": []
     },
     "metadata": {},
     "output_type": "display_data"
    },
    {
     "data": {
      "text/html": [
       "<pre style=\"white-space:pre;overflow-x:auto;line-height:normal;font-family:Menlo,'DejaVu Sans Mono',consolas,'Courier New',monospace\">\n",
       "</pre>\n"
      ],
      "text/plain": [
       "\n"
      ]
     },
     "metadata": {},
     "output_type": "display_data"
    },
    {
     "data": {
      "text/html": [
       "<pre style=\"white-space:pre;overflow-x:auto;line-height:normal;font-family:Menlo,'DejaVu Sans Mono',consolas,'Courier New',monospace\"><span style=\"color: #008000; text-decoration-color: #008000\">Expected Improvement: </span><span style=\"color: #008080; text-decoration-color: #008080; font-weight: bold\">0.01712913252413273</span><span style=\"color: #008000; text-decoration-color: #008000\"> Actual: </span><span style=\"color: #008080; text-decoration-color: #008080; font-weight: bold\">0.017297841608524323</span>\n",
       "</pre>\n"
      ],
      "text/plain": [
       "\u001b[32mExpected Improvement: \u001b[0m\u001b[1;36m0.01712913252413273\u001b[0m\u001b[32m Actual: \u001b[0m\u001b[1;36m0.017297841608524323\u001b[0m\n"
      ]
     },
     "metadata": {},
     "output_type": "display_data"
    },
    {
     "data": {
      "text/html": [
       "<pre style=\"white-space:pre;overflow-x:auto;line-height:normal;font-family:Menlo,'DejaVu Sans Mono',consolas,'Courier New',monospace\"><span style=\"color: #008000; text-decoration-color: #008000\">Accept step at </span><span style=\"color: #808000; text-decoration-color: #808000\">i</span><span style=\"color: #008000; text-decoration-color: #008000\">=</span><span style=\"color: #008080; text-decoration-color: #008080; font-weight: bold\">1</span>\n",
       "</pre>\n"
      ],
      "text/plain": [
       "\u001b[32mAccept step at \u001b[0m\u001b[33mi\u001b[0m\u001b[32m=\u001b[0m\u001b[1;36m1\u001b[0m\n"
      ]
     },
     "metadata": {},
     "output_type": "display_data"
    },
    {
     "data": {
      "text/html": [
       "<pre style=\"white-space:pre;overflow-x:auto;line-height:normal;font-family:Menlo,'DejaVu Sans Mono',consolas,'Courier New',monospace\">┏━━━━━━━━━━━━━━━━━━━━━━━━━━━━━━━━┳━━━━━━━━━━━━━━━━━━━━━━━━┓\n",
       "┃<span style=\"font-weight: bold\"> Metrics                        </span>┃<span style=\"font-weight: bold\"> Value                  </span>┃\n",
       "┡━━━━━━━━━━━━━━━━━━━━━━━━━━━━━━━━╇━━━━━━━━━━━━━━━━━━━━━━━━┩\n",
       "│ Metrics/EpRet                  │ 6.530781269073486      │\n",
       "│ Metrics/EpCost                 │ 52.18000030517578      │\n",
       "│ Metrics/EpLen                  │ 1000.0                 │\n",
       "│ Train/Epoch                    │ 5.0                    │\n",
       "│ Train/Entropy                  │ 1.389567494392395      │\n",
       "│ Train/KL                       │ 0.0004219038237351924  │\n",
       "│ Train/StopIter                 │ 10.0                   │\n",
       "│ Train/PolicyRatio/Mean         │ 0.9988692402839661     │\n",
       "│ Train/PolicyRatio/Min          │ 0.9988692998886108     │\n",
       "│ Train/PolicyRatio/Max          │ 0.9988692998886108     │\n",
       "│ Train/PolicyRatio/Std          │ 0.0007995538180693984  │\n",
       "│ Train/LR                       │ 0.0                    │\n",
       "│ Train/PolicyStd                │ 0.9713422656059265     │\n",
       "│ TotalEnvSteps                  │ 120000.0               │\n",
       "│ Loss/Loss_pi                   │ -0.011531907133758068  │\n",
       "│ Loss/Loss_pi/Delta             │ 0.002574525773525238   │\n",
       "│ Value/Adv                      │ 1.831054596834747e-08  │\n",
       "│ Loss/Loss_reward_critic        │ 0.009711392223834991   │\n",
       "│ Loss/Loss_reward_critic/Delta  │ -0.0009257309138774872 │\n",
       "│ Value/reward                   │ 0.26528429985046387    │\n",
       "│ Loss/Loss_cost_critic          │ 1.4162647724151611     │\n",
       "│ Loss/Loss_cost_critic/Delta    │ -0.6060864925384521    │\n",
       "│ Value/cost                     │ 4.490743160247803      │\n",
       "│ Time/Total                     │ 335.3917236328125      │\n",
       "│ Time/Rollout                   │ 42.25667190551758      │\n",
       "│ Time/Update                    │ 13.170374870300293     │\n",
       "│ Time/Epoch                     │ 55.42704391479492      │\n",
       "│ Time/FPS                       │ 360.8346862792969      │\n",
       "│ Misc/Alpha                     │ 1.1694139242172241     │\n",
       "│ Misc/FinalStepNorm             │ 0.2520926296710968     │\n",
       "│ Misc/gradient_norm             │ 0.09212833642959595    │\n",
       "│ Misc/xHx                       │ 0.014624908566474915   │\n",
       "│ Misc/H_inv_g                   │ 0.21557174623012543    │\n",
       "│ Misc/AcceptanceStep            │ 1.0                    │\n",
       "│ Metrics/LagrangeMultiplier/Mea │ 0.20429658889770508    │\n",
       "│ Metrics/LagrangeMultiplier/Min │ 0.20429658889770508    │\n",
       "│ Metrics/LagrangeMultiplier/Max │ 0.20429658889770508    │\n",
       "│ Metrics/LagrangeMultiplier/Std │ 0.0                    │\n",
       "└────────────────────────────────┴────────────────────────┘\n",
       "</pre>\n"
      ],
      "text/plain": [
       "┏━━━━━━━━━━━━━━━━━━━━━━━━━━━━━━━━┳━━━━━━━━━━━━━━━━━━━━━━━━┓\n",
       "┃\u001b[1m \u001b[0m\u001b[1mMetrics                       \u001b[0m\u001b[1m \u001b[0m┃\u001b[1m \u001b[0m\u001b[1mValue                 \u001b[0m\u001b[1m \u001b[0m┃\n",
       "┡━━━━━━━━━━━━━━━━━━━━━━━━━━━━━━━━╇━━━━━━━━━━━━━━━━━━━━━━━━┩\n",
       "│ Metrics/EpRet                  │ 6.530781269073486      │\n",
       "│ Metrics/EpCost                 │ 52.18000030517578      │\n",
       "│ Metrics/EpLen                  │ 1000.0                 │\n",
       "│ Train/Epoch                    │ 5.0                    │\n",
       "│ Train/Entropy                  │ 1.389567494392395      │\n",
       "│ Train/KL                       │ 0.0004219038237351924  │\n",
       "│ Train/StopIter                 │ 10.0                   │\n",
       "│ Train/PolicyRatio/Mean         │ 0.9988692402839661     │\n",
       "│ Train/PolicyRatio/Min          │ 0.9988692998886108     │\n",
       "│ Train/PolicyRatio/Max          │ 0.9988692998886108     │\n",
       "│ Train/PolicyRatio/Std          │ 0.0007995538180693984  │\n",
       "│ Train/LR                       │ 0.0                    │\n",
       "│ Train/PolicyStd                │ 0.9713422656059265     │\n",
       "│ TotalEnvSteps                  │ 120000.0               │\n",
       "│ Loss/Loss_pi                   │ -0.011531907133758068  │\n",
       "│ Loss/Loss_pi/Delta             │ 0.002574525773525238   │\n",
       "│ Value/Adv                      │ 1.831054596834747e-08  │\n",
       "│ Loss/Loss_reward_critic        │ 0.009711392223834991   │\n",
       "│ Loss/Loss_reward_critic/Delta  │ -0.0009257309138774872 │\n",
       "│ Value/reward                   │ 0.26528429985046387    │\n",
       "│ Loss/Loss_cost_critic          │ 1.4162647724151611     │\n",
       "│ Loss/Loss_cost_critic/Delta    │ -0.6060864925384521    │\n",
       "│ Value/cost                     │ 4.490743160247803      │\n",
       "│ Time/Total                     │ 335.3917236328125      │\n",
       "│ Time/Rollout                   │ 42.25667190551758      │\n",
       "│ Time/Update                    │ 13.170374870300293     │\n",
       "│ Time/Epoch                     │ 55.42704391479492      │\n",
       "│ Time/FPS                       │ 360.8346862792969      │\n",
       "│ Misc/Alpha                     │ 1.1694139242172241     │\n",
       "│ Misc/FinalStepNorm             │ 0.2520926296710968     │\n",
       "│ Misc/gradient_norm             │ 0.09212833642959595    │\n",
       "│ Misc/xHx                       │ 0.014624908566474915   │\n",
       "│ Misc/H_inv_g                   │ 0.21557174623012543    │\n",
       "│ Misc/AcceptanceStep            │ 1.0                    │\n",
       "│ Metrics/LagrangeMultiplier/Mea │ 0.20429658889770508    │\n",
       "│ Metrics/LagrangeMultiplier/Min │ 0.20429658889770508    │\n",
       "│ Metrics/LagrangeMultiplier/Max │ 0.20429658889770508    │\n",
       "│ Metrics/LagrangeMultiplier/Std │ 0.0                    │\n",
       "└────────────────────────────────┴────────────────────────┘\n"
      ]
     },
     "metadata": {},
     "output_type": "display_data"
    },
    {
     "data": {
      "text/html": [
       "<pre style=\"white-space:pre;overflow-x:auto;line-height:normal;font-family:Menlo,'DejaVu Sans Mono',consolas,'Courier New',monospace\"><span style=\"color: #008000; text-decoration-color: #008000\">Warning: trajectory cut off when rollout by epoch at </span><span style=\"color: #008080; text-decoration-color: #008080; font-weight: bold\">1000.0</span><span style=\"color: #008000; text-decoration-color: #008000\"> steps.</span>\n",
       "</pre>\n"
      ],
      "text/plain": [
       "\u001b[32mWarning: trajectory cut off when rollout by epoch at \u001b[0m\u001b[1;36m1000.0\u001b[0m\u001b[32m steps.\u001b[0m\n"
      ]
     },
     "metadata": {},
     "output_type": "display_data"
    },
    {
     "data": {
      "text/html": [
       "<pre style=\"white-space:pre;overflow-x:auto;line-height:normal;font-family:Menlo,'DejaVu Sans Mono',consolas,'Courier New',monospace\"><span style=\"color: #008000; text-decoration-color: #008000\">Warning: trajectory cut off when rollout by epoch at </span><span style=\"color: #008080; text-decoration-color: #008080; font-weight: bold\">1000.0</span><span style=\"color: #008000; text-decoration-color: #008000\"> steps.</span>\n",
       "</pre>\n"
      ],
      "text/plain": [
       "\u001b[32mWarning: trajectory cut off when rollout by epoch at \u001b[0m\u001b[1;36m1000.0\u001b[0m\u001b[32m steps.\u001b[0m\n"
      ]
     },
     "metadata": {},
     "output_type": "display_data"
    },
    {
     "data": {
      "text/html": [
       "<pre style=\"white-space:pre;overflow-x:auto;line-height:normal;font-family:Menlo,'DejaVu Sans Mono',consolas,'Courier New',monospace\"><span style=\"color: #008000; text-decoration-color: #008000\">Warning: trajectory cut off when rollout by epoch at </span><span style=\"color: #008080; text-decoration-color: #008080; font-weight: bold\">1000.0</span><span style=\"color: #008000; text-decoration-color: #008000\"> steps.</span>\n",
       "</pre>\n"
      ],
      "text/plain": [
       "\u001b[32mWarning: trajectory cut off when rollout by epoch at \u001b[0m\u001b[1;36m1000.0\u001b[0m\u001b[32m steps.\u001b[0m\n"
      ]
     },
     "metadata": {},
     "output_type": "display_data"
    },
    {
     "data": {
      "text/html": [
       "<pre style=\"white-space:pre;overflow-x:auto;line-height:normal;font-family:Menlo,'DejaVu Sans Mono',consolas,'Courier New',monospace\"><span style=\"color: #008000; text-decoration-color: #008000\">Warning: trajectory cut off when rollout by epoch at </span><span style=\"color: #008080; text-decoration-color: #008080; font-weight: bold\">1000.0</span><span style=\"color: #008000; text-decoration-color: #008000\"> steps.</span>\n",
       "</pre>\n"
      ],
      "text/plain": [
       "\u001b[32mWarning: trajectory cut off when rollout by epoch at \u001b[0m\u001b[1;36m1000.0\u001b[0m\u001b[32m steps.\u001b[0m\n"
      ]
     },
     "metadata": {},
     "output_type": "display_data"
    },
    {
     "data": {
      "text/html": [
       "<pre style=\"white-space:pre;overflow-x:auto;line-height:normal;font-family:Menlo,'DejaVu Sans Mono',consolas,'Courier New',monospace\"></pre>\n"
      ],
      "text/plain": []
     },
     "metadata": {},
     "output_type": "display_data"
    },
    {
     "data": {
      "text/html": [
       "<pre style=\"white-space:pre;overflow-x:auto;line-height:normal;font-family:Menlo,'DejaVu Sans Mono',consolas,'Courier New',monospace\">\n",
       "</pre>\n"
      ],
      "text/plain": [
       "\n"
      ]
     },
     "metadata": {},
     "output_type": "display_data"
    },
    {
     "data": {
      "text/html": [
       "<pre style=\"white-space:pre;overflow-x:auto;line-height:normal;font-family:Menlo,'DejaVu Sans Mono',consolas,'Courier New',monospace\"><span style=\"color: #008000; text-decoration-color: #008000\">Expected Improvement: </span><span style=\"color: #008080; text-decoration-color: #008080; font-weight: bold\">0.01799027994275093</span><span style=\"color: #008000; text-decoration-color: #008000\"> Actual: </span><span style=\"color: #008080; text-decoration-color: #008080; font-weight: bold\">0.018865041434764862</span>\n",
       "</pre>\n"
      ],
      "text/plain": [
       "\u001b[32mExpected Improvement: \u001b[0m\u001b[1;36m0.01799027994275093\u001b[0m\u001b[32m Actual: \u001b[0m\u001b[1;36m0.018865041434764862\u001b[0m\n"
      ]
     },
     "metadata": {},
     "output_type": "display_data"
    },
    {
     "data": {
      "text/html": [
       "<pre style=\"white-space:pre;overflow-x:auto;line-height:normal;font-family:Menlo,'DejaVu Sans Mono',consolas,'Courier New',monospace\"><span style=\"color: #008000; text-decoration-color: #008000\">Accept step at </span><span style=\"color: #808000; text-decoration-color: #808000\">i</span><span style=\"color: #008000; text-decoration-color: #008000\">=</span><span style=\"color: #008080; text-decoration-color: #008080; font-weight: bold\">1</span>\n",
       "</pre>\n"
      ],
      "text/plain": [
       "\u001b[32mAccept step at \u001b[0m\u001b[33mi\u001b[0m\u001b[32m=\u001b[0m\u001b[1;36m1\u001b[0m\n"
      ]
     },
     "metadata": {},
     "output_type": "display_data"
    },
    {
     "data": {
      "text/html": [
       "<pre style=\"white-space:pre;overflow-x:auto;line-height:normal;font-family:Menlo,'DejaVu Sans Mono',consolas,'Courier New',monospace\">┏━━━━━━━━━━━━━━━━━━━━━━━━━━━━━━━━┳━━━━━━━━━━━━━━━━━━━━━━━━━┓\n",
       "┃<span style=\"font-weight: bold\"> Metrics                        </span>┃<span style=\"font-weight: bold\"> Value                   </span>┃\n",
       "┡━━━━━━━━━━━━━━━━━━━━━━━━━━━━━━━━╇━━━━━━━━━━━━━━━━━━━━━━━━━┩\n",
       "│ Metrics/EpRet                  │ 9.038951873779297       │\n",
       "│ Metrics/EpCost                 │ 59.779998779296875      │\n",
       "│ Metrics/EpLen                  │ 1000.0                  │\n",
       "│ Train/Epoch                    │ 6.0                     │\n",
       "│ Train/Entropy                  │ 1.377531886100769       │\n",
       "│ Train/KL                       │ 0.0004264295566827059   │\n",
       "│ Train/StopIter                 │ 10.0                    │\n",
       "│ Train/PolicyRatio/Mean         │ 1.0011310577392578      │\n",
       "│ Train/PolicyRatio/Min          │ 1.0011310577392578      │\n",
       "│ Train/PolicyRatio/Max          │ 1.0011310577392578      │\n",
       "│ Train/PolicyRatio/Std          │ 0.0007997223874554038   │\n",
       "│ Train/LR                       │ 0.0                     │\n",
       "│ Train/PolicyStd                │ 0.9599272608757019      │\n",
       "│ TotalEnvSteps                  │ 140000.0                │\n",
       "│ Loss/Loss_pi                   │ -0.012576683424413204   │\n",
       "│ Loss/Loss_pi/Delta             │ -0.001044776290655136   │\n",
       "│ Value/Adv                      │ -1.1444091896350983e-08 │\n",
       "│ Loss/Loss_reward_critic        │ 0.012574917636811733    │\n",
       "│ Loss/Loss_reward_critic/Delta  │ 0.002863525412976742    │\n",
       "│ Value/reward                   │ 0.39926284551620483     │\n",
       "│ Loss/Loss_cost_critic          │ 1.749301791191101       │\n",
       "│ Loss/Loss_cost_critic/Delta    │ 0.33303701877593994     │\n",
       "│ Value/cost                     │ 4.748755931854248       │\n",
       "│ Time/Total                     │ 391.0186462402344       │\n",
       "│ Time/Rollout                   │ 42.43214797973633       │\n",
       "│ Time/Update                    │ 13.1627836227417        │\n",
       "│ Time/Epoch                     │ 55.594932556152344      │\n",
       "│ Time/FPS                       │ 359.7450256347656       │\n",
       "│ Misc/Alpha                     │ 1.1133809089660645      │\n",
       "│ Misc/FinalStepNorm             │ 0.2572893500328064      │\n",
       "│ Misc/gradient_norm             │ 0.09209121763706207     │\n",
       "│ Misc/xHx                       │ 0.016134005039930344    │\n",
       "│ Misc/H_inv_g                   │ 0.23108834028244019     │\n",
       "│ Misc/AcceptanceStep            │ 1.0                     │\n",
       "│ Metrics/LagrangeMultiplier/Mea │ 0.23562151193618774     │\n",
       "│ Metrics/LagrangeMultiplier/Min │ 0.23562151193618774     │\n",
       "│ Metrics/LagrangeMultiplier/Max │ 0.23562151193618774     │\n",
       "│ Metrics/LagrangeMultiplier/Std │ 0.0                     │\n",
       "└────────────────────────────────┴─────────────────────────┘\n",
       "</pre>\n"
      ],
      "text/plain": [
       "┏━━━━━━━━━━━━━━━━━━━━━━━━━━━━━━━━┳━━━━━━━━━━━━━━━━━━━━━━━━━┓\n",
       "┃\u001b[1m \u001b[0m\u001b[1mMetrics                       \u001b[0m\u001b[1m \u001b[0m┃\u001b[1m \u001b[0m\u001b[1mValue                  \u001b[0m\u001b[1m \u001b[0m┃\n",
       "┡━━━━━━━━━━━━━━━━━━━━━━━━━━━━━━━━╇━━━━━━━━━━━━━━━━━━━━━━━━━┩\n",
       "│ Metrics/EpRet                  │ 9.038951873779297       │\n",
       "│ Metrics/EpCost                 │ 59.779998779296875      │\n",
       "│ Metrics/EpLen                  │ 1000.0                  │\n",
       "│ Train/Epoch                    │ 6.0                     │\n",
       "│ Train/Entropy                  │ 1.377531886100769       │\n",
       "│ Train/KL                       │ 0.0004264295566827059   │\n",
       "│ Train/StopIter                 │ 10.0                    │\n",
       "│ Train/PolicyRatio/Mean         │ 1.0011310577392578      │\n",
       "│ Train/PolicyRatio/Min          │ 1.0011310577392578      │\n",
       "│ Train/PolicyRatio/Max          │ 1.0011310577392578      │\n",
       "│ Train/PolicyRatio/Std          │ 0.0007997223874554038   │\n",
       "│ Train/LR                       │ 0.0                     │\n",
       "│ Train/PolicyStd                │ 0.9599272608757019      │\n",
       "│ TotalEnvSteps                  │ 140000.0                │\n",
       "│ Loss/Loss_pi                   │ -0.012576683424413204   │\n",
       "│ Loss/Loss_pi/Delta             │ -0.001044776290655136   │\n",
       "│ Value/Adv                      │ -1.1444091896350983e-08 │\n",
       "│ Loss/Loss_reward_critic        │ 0.012574917636811733    │\n",
       "│ Loss/Loss_reward_critic/Delta  │ 0.002863525412976742    │\n",
       "│ Value/reward                   │ 0.39926284551620483     │\n",
       "│ Loss/Loss_cost_critic          │ 1.749301791191101       │\n",
       "│ Loss/Loss_cost_critic/Delta    │ 0.33303701877593994     │\n",
       "│ Value/cost                     │ 4.748755931854248       │\n",
       "│ Time/Total                     │ 391.0186462402344       │\n",
       "│ Time/Rollout                   │ 42.43214797973633       │\n",
       "│ Time/Update                    │ 13.1627836227417        │\n",
       "│ Time/Epoch                     │ 55.594932556152344      │\n",
       "│ Time/FPS                       │ 359.7450256347656       │\n",
       "│ Misc/Alpha                     │ 1.1133809089660645      │\n",
       "│ Misc/FinalStepNorm             │ 0.2572893500328064      │\n",
       "│ Misc/gradient_norm             │ 0.09209121763706207     │\n",
       "│ Misc/xHx                       │ 0.016134005039930344    │\n",
       "│ Misc/H_inv_g                   │ 0.23108834028244019     │\n",
       "│ Misc/AcceptanceStep            │ 1.0                     │\n",
       "│ Metrics/LagrangeMultiplier/Mea │ 0.23562151193618774     │\n",
       "│ Metrics/LagrangeMultiplier/Min │ 0.23562151193618774     │\n",
       "│ Metrics/LagrangeMultiplier/Max │ 0.23562151193618774     │\n",
       "│ Metrics/LagrangeMultiplier/Std │ 0.0                     │\n",
       "└────────────────────────────────┴─────────────────────────┘\n"
      ]
     },
     "metadata": {},
     "output_type": "display_data"
    },
    {
     "data": {
      "text/html": [
       "<pre style=\"white-space:pre;overflow-x:auto;line-height:normal;font-family:Menlo,'DejaVu Sans Mono',consolas,'Courier New',monospace\"><span style=\"color: #008000; text-decoration-color: #008000\">Warning: trajectory cut off when rollout by epoch at </span><span style=\"color: #008080; text-decoration-color: #008080; font-weight: bold\">1000.0</span><span style=\"color: #008000; text-decoration-color: #008000\"> steps.</span>\n",
       "</pre>\n"
      ],
      "text/plain": [
       "\u001b[32mWarning: trajectory cut off when rollout by epoch at \u001b[0m\u001b[1;36m1000.0\u001b[0m\u001b[32m steps.\u001b[0m\n"
      ]
     },
     "metadata": {},
     "output_type": "display_data"
    },
    {
     "data": {
      "text/html": [
       "<pre style=\"white-space:pre;overflow-x:auto;line-height:normal;font-family:Menlo,'DejaVu Sans Mono',consolas,'Courier New',monospace\"><span style=\"color: #008000; text-decoration-color: #008000\">Warning: trajectory cut off when rollout by epoch at </span><span style=\"color: #008080; text-decoration-color: #008080; font-weight: bold\">1000.0</span><span style=\"color: #008000; text-decoration-color: #008000\"> steps.</span>\n",
       "</pre>\n"
      ],
      "text/plain": [
       "\u001b[32mWarning: trajectory cut off when rollout by epoch at \u001b[0m\u001b[1;36m1000.0\u001b[0m\u001b[32m steps.\u001b[0m\n"
      ]
     },
     "metadata": {},
     "output_type": "display_data"
    },
    {
     "data": {
      "text/html": [
       "<pre style=\"white-space:pre;overflow-x:auto;line-height:normal;font-family:Menlo,'DejaVu Sans Mono',consolas,'Courier New',monospace\"><span style=\"color: #008000; text-decoration-color: #008000\">Warning: trajectory cut off when rollout by epoch at </span><span style=\"color: #008080; text-decoration-color: #008080; font-weight: bold\">1000.0</span><span style=\"color: #008000; text-decoration-color: #008000\"> steps.</span>\n",
       "</pre>\n"
      ],
      "text/plain": [
       "\u001b[32mWarning: trajectory cut off when rollout by epoch at \u001b[0m\u001b[1;36m1000.0\u001b[0m\u001b[32m steps.\u001b[0m\n"
      ]
     },
     "metadata": {},
     "output_type": "display_data"
    },
    {
     "data": {
      "text/html": [
       "<pre style=\"white-space:pre;overflow-x:auto;line-height:normal;font-family:Menlo,'DejaVu Sans Mono',consolas,'Courier New',monospace\"><span style=\"color: #008000; text-decoration-color: #008000\">Warning: trajectory cut off when rollout by epoch at </span><span style=\"color: #008080; text-decoration-color: #008080; font-weight: bold\">1000.0</span><span style=\"color: #008000; text-decoration-color: #008000\"> steps.</span>\n",
       "</pre>\n"
      ],
      "text/plain": [
       "\u001b[32mWarning: trajectory cut off when rollout by epoch at \u001b[0m\u001b[1;36m1000.0\u001b[0m\u001b[32m steps.\u001b[0m\n"
      ]
     },
     "metadata": {},
     "output_type": "display_data"
    },
    {
     "data": {
      "text/html": [
       "<pre style=\"white-space:pre;overflow-x:auto;line-height:normal;font-family:Menlo,'DejaVu Sans Mono',consolas,'Courier New',monospace\"></pre>\n"
      ],
      "text/plain": []
     },
     "metadata": {},
     "output_type": "display_data"
    },
    {
     "data": {
      "text/html": [
       "<pre style=\"white-space:pre;overflow-x:auto;line-height:normal;font-family:Menlo,'DejaVu Sans Mono',consolas,'Courier New',monospace\">\n",
       "</pre>\n"
      ],
      "text/plain": [
       "\n"
      ]
     },
     "metadata": {},
     "output_type": "display_data"
    },
    {
     "data": {
      "text/html": [
       "<pre style=\"white-space:pre;overflow-x:auto;line-height:normal;font-family:Menlo,'DejaVu Sans Mono',consolas,'Courier New',monospace\"><span style=\"color: #008000; text-decoration-color: #008000\">Expected Improvement: </span><span style=\"color: #008080; text-decoration-color: #008080; font-weight: bold\">0.019275981932878494</span><span style=\"color: #008000; text-decoration-color: #008000\"> Actual: </span><span style=\"color: #008080; text-decoration-color: #008080; font-weight: bold\">0.01928948424756527</span>\n",
       "</pre>\n"
      ],
      "text/plain": [
       "\u001b[32mExpected Improvement: \u001b[0m\u001b[1;36m0.019275981932878494\u001b[0m\u001b[32m Actual: \u001b[0m\u001b[1;36m0.01928948424756527\u001b[0m\n"
      ]
     },
     "metadata": {},
     "output_type": "display_data"
    },
    {
     "data": {
      "text/html": [
       "<pre style=\"white-space:pre;overflow-x:auto;line-height:normal;font-family:Menlo,'DejaVu Sans Mono',consolas,'Courier New',monospace\"><span style=\"color: #008000; text-decoration-color: #008000\">Accept step at </span><span style=\"color: #808000; text-decoration-color: #808000\">i</span><span style=\"color: #008000; text-decoration-color: #008000\">=</span><span style=\"color: #008080; text-decoration-color: #008080; font-weight: bold\">1</span>\n",
       "</pre>\n"
      ],
      "text/plain": [
       "\u001b[32mAccept step at \u001b[0m\u001b[33mi\u001b[0m\u001b[32m=\u001b[0m\u001b[1;36m1\u001b[0m\n"
      ]
     },
     "metadata": {},
     "output_type": "display_data"
    },
    {
     "data": {
      "text/html": [
       "<pre style=\"white-space:pre;overflow-x:auto;line-height:normal;font-family:Menlo,'DejaVu Sans Mono',consolas,'Courier New',monospace\">┏━━━━━━━━━━━━━━━━━━━━━━━━━━━━━━━━┳━━━━━━━━━━━━━━━━━━━━━━━━━┓\n",
       "┃<span style=\"font-weight: bold\"> Metrics                        </span>┃<span style=\"font-weight: bold\"> Value                   </span>┃\n",
       "┡━━━━━━━━━━━━━━━━━━━━━━━━━━━━━━━━╇━━━━━━━━━━━━━━━━━━━━━━━━━┩\n",
       "│ Metrics/EpRet                  │ 11.350546836853027      │\n",
       "│ Metrics/EpCost                 │ 56.099998474121094      │\n",
       "│ Metrics/EpLen                  │ 1000.0                  │\n",
       "│ Train/Epoch                    │ 7.0                     │\n",
       "│ Train/Entropy                  │ 1.3501745462417603      │\n",
       "│ Train/KL                       │ 0.0004401574842631817   │\n",
       "│ Train/StopIter                 │ 10.0                    │\n",
       "│ Train/PolicyRatio/Mean         │ 1.0007120370864868      │\n",
       "│ Train/PolicyRatio/Min          │ 1.0007121562957764      │\n",
       "│ Train/PolicyRatio/Max          │ 1.0007121562957764      │\n",
       "│ Train/PolicyRatio/Std          │ 0.0005035143112763762   │\n",
       "│ Train/LR                       │ 0.0                     │\n",
       "│ Train/PolicyStd                │ 0.934205949306488       │\n",
       "│ TotalEnvSteps                  │ 160000.0                │\n",
       "│ Loss/Loss_pi                   │ -0.012859645299613476   │\n",
       "│ Loss/Loss_pi/Delta             │ -0.0002829618752002716  │\n",
       "│ Value/Adv                      │ -1.2969969986897922e-08 │\n",
       "│ Loss/Loss_reward_critic        │ 0.013308651745319366    │\n",
       "│ Loss/Loss_reward_critic/Delta  │ 0.0007337341085076332   │\n",
       "│ Value/reward                   │ 0.5271811485290527      │\n",
       "│ Loss/Loss_cost_critic          │ 1.339449405670166       │\n",
       "│ Loss/Loss_cost_critic/Delta    │ -0.40985238552093506    │\n",
       "│ Value/cost                     │ 4.167207717895508       │\n",
       "│ Time/Total                     │ 447.3457336425781       │\n",
       "│ Time/Rollout                   │ 42.880409240722656      │\n",
       "│ Time/Update                    │ 13.403630256652832      │\n",
       "│ Time/Epoch                     │ 56.28403854370117       │\n",
       "│ Time/FPS                       │ 355.34051513671875      │\n",
       "│ Misc/Alpha                     │ 1.038822889328003       │\n",
       "│ Misc/FinalStepNorm             │ 0.24262735247612        │\n",
       "│ Misc/gradient_norm             │ 0.12790930271148682     │\n",
       "│ Misc/xHx                       │ 0.018533043563365936    │\n",
       "│ Misc/H_inv_g                   │ 0.23355987668037415     │\n",
       "│ Misc/AcceptanceStep            │ 1.0                     │\n",
       "│ Metrics/LagrangeMultiplier/Mea │ 0.2662689685821533      │\n",
       "│ Metrics/LagrangeMultiplier/Min │ 0.2662689685821533      │\n",
       "│ Metrics/LagrangeMultiplier/Max │ 0.2662689685821533      │\n",
       "│ Metrics/LagrangeMultiplier/Std │ 0.0                     │\n",
       "└────────────────────────────────┴─────────────────────────┘\n",
       "</pre>\n"
      ],
      "text/plain": [
       "┏━━━━━━━━━━━━━━━━━━━━━━━━━━━━━━━━┳━━━━━━━━━━━━━━━━━━━━━━━━━┓\n",
       "┃\u001b[1m \u001b[0m\u001b[1mMetrics                       \u001b[0m\u001b[1m \u001b[0m┃\u001b[1m \u001b[0m\u001b[1mValue                  \u001b[0m\u001b[1m \u001b[0m┃\n",
       "┡━━━━━━━━━━━━━━━━━━━━━━━━━━━━━━━━╇━━━━━━━━━━━━━━━━━━━━━━━━━┩\n",
       "│ Metrics/EpRet                  │ 11.350546836853027      │\n",
       "│ Metrics/EpCost                 │ 56.099998474121094      │\n",
       "│ Metrics/EpLen                  │ 1000.0                  │\n",
       "│ Train/Epoch                    │ 7.0                     │\n",
       "│ Train/Entropy                  │ 1.3501745462417603      │\n",
       "│ Train/KL                       │ 0.0004401574842631817   │\n",
       "│ Train/StopIter                 │ 10.0                    │\n",
       "│ Train/PolicyRatio/Mean         │ 1.0007120370864868      │\n",
       "│ Train/PolicyRatio/Min          │ 1.0007121562957764      │\n",
       "│ Train/PolicyRatio/Max          │ 1.0007121562957764      │\n",
       "│ Train/PolicyRatio/Std          │ 0.0005035143112763762   │\n",
       "│ Train/LR                       │ 0.0                     │\n",
       "│ Train/PolicyStd                │ 0.934205949306488       │\n",
       "│ TotalEnvSteps                  │ 160000.0                │\n",
       "│ Loss/Loss_pi                   │ -0.012859645299613476   │\n",
       "│ Loss/Loss_pi/Delta             │ -0.0002829618752002716  │\n",
       "│ Value/Adv                      │ -1.2969969986897922e-08 │\n",
       "│ Loss/Loss_reward_critic        │ 0.013308651745319366    │\n",
       "│ Loss/Loss_reward_critic/Delta  │ 0.0007337341085076332   │\n",
       "│ Value/reward                   │ 0.5271811485290527      │\n",
       "│ Loss/Loss_cost_critic          │ 1.339449405670166       │\n",
       "│ Loss/Loss_cost_critic/Delta    │ -0.40985238552093506    │\n",
       "│ Value/cost                     │ 4.167207717895508       │\n",
       "│ Time/Total                     │ 447.3457336425781       │\n",
       "│ Time/Rollout                   │ 42.880409240722656      │\n",
       "│ Time/Update                    │ 13.403630256652832      │\n",
       "│ Time/Epoch                     │ 56.28403854370117       │\n",
       "│ Time/FPS                       │ 355.34051513671875      │\n",
       "│ Misc/Alpha                     │ 1.038822889328003       │\n",
       "│ Misc/FinalStepNorm             │ 0.24262735247612        │\n",
       "│ Misc/gradient_norm             │ 0.12790930271148682     │\n",
       "│ Misc/xHx                       │ 0.018533043563365936    │\n",
       "│ Misc/H_inv_g                   │ 0.23355987668037415     │\n",
       "│ Misc/AcceptanceStep            │ 1.0                     │\n",
       "│ Metrics/LagrangeMultiplier/Mea │ 0.2662689685821533      │\n",
       "│ Metrics/LagrangeMultiplier/Min │ 0.2662689685821533      │\n",
       "│ Metrics/LagrangeMultiplier/Max │ 0.2662689685821533      │\n",
       "│ Metrics/LagrangeMultiplier/Std │ 0.0                     │\n",
       "└────────────────────────────────┴─────────────────────────┘\n"
      ]
     },
     "metadata": {},
     "output_type": "display_data"
    },
    {
     "data": {
      "text/html": [
       "<pre style=\"white-space:pre;overflow-x:auto;line-height:normal;font-family:Menlo,'DejaVu Sans Mono',consolas,'Courier New',monospace\"><span style=\"color: #008000; text-decoration-color: #008000\">Warning: trajectory cut off when rollout by epoch at </span><span style=\"color: #008080; text-decoration-color: #008080; font-weight: bold\">1000.0</span><span style=\"color: #008000; text-decoration-color: #008000\"> steps.</span>\n",
       "</pre>\n"
      ],
      "text/plain": [
       "\u001b[32mWarning: trajectory cut off when rollout by epoch at \u001b[0m\u001b[1;36m1000.0\u001b[0m\u001b[32m steps.\u001b[0m\n"
      ]
     },
     "metadata": {},
     "output_type": "display_data"
    },
    {
     "data": {
      "text/html": [
       "<pre style=\"white-space:pre;overflow-x:auto;line-height:normal;font-family:Menlo,'DejaVu Sans Mono',consolas,'Courier New',monospace\"><span style=\"color: #008000; text-decoration-color: #008000\">Warning: trajectory cut off when rollout by epoch at </span><span style=\"color: #008080; text-decoration-color: #008080; font-weight: bold\">1000.0</span><span style=\"color: #008000; text-decoration-color: #008000\"> steps.</span>\n",
       "</pre>\n"
      ],
      "text/plain": [
       "\u001b[32mWarning: trajectory cut off when rollout by epoch at \u001b[0m\u001b[1;36m1000.0\u001b[0m\u001b[32m steps.\u001b[0m\n"
      ]
     },
     "metadata": {},
     "output_type": "display_data"
    },
    {
     "data": {
      "text/html": [
       "<pre style=\"white-space:pre;overflow-x:auto;line-height:normal;font-family:Menlo,'DejaVu Sans Mono',consolas,'Courier New',monospace\"><span style=\"color: #008000; text-decoration-color: #008000\">Warning: trajectory cut off when rollout by epoch at </span><span style=\"color: #008080; text-decoration-color: #008080; font-weight: bold\">1000.0</span><span style=\"color: #008000; text-decoration-color: #008000\"> steps.</span>\n",
       "</pre>\n"
      ],
      "text/plain": [
       "\u001b[32mWarning: trajectory cut off when rollout by epoch at \u001b[0m\u001b[1;36m1000.0\u001b[0m\u001b[32m steps.\u001b[0m\n"
      ]
     },
     "metadata": {},
     "output_type": "display_data"
    },
    {
     "data": {
      "text/html": [
       "<pre style=\"white-space:pre;overflow-x:auto;line-height:normal;font-family:Menlo,'DejaVu Sans Mono',consolas,'Courier New',monospace\"><span style=\"color: #008000; text-decoration-color: #008000\">Warning: trajectory cut off when rollout by epoch at </span><span style=\"color: #008080; text-decoration-color: #008080; font-weight: bold\">1000.0</span><span style=\"color: #008000; text-decoration-color: #008000\"> steps.</span>\n",
       "</pre>\n"
      ],
      "text/plain": [
       "\u001b[32mWarning: trajectory cut off when rollout by epoch at \u001b[0m\u001b[1;36m1000.0\u001b[0m\u001b[32m steps.\u001b[0m\n"
      ]
     },
     "metadata": {},
     "output_type": "display_data"
    },
    {
     "data": {
      "text/html": [
       "<pre style=\"white-space:pre;overflow-x:auto;line-height:normal;font-family:Menlo,'DejaVu Sans Mono',consolas,'Courier New',monospace\"></pre>\n"
      ],
      "text/plain": []
     },
     "metadata": {},
     "output_type": "display_data"
    },
    {
     "data": {
      "text/html": [
       "<pre style=\"white-space:pre;overflow-x:auto;line-height:normal;font-family:Menlo,'DejaVu Sans Mono',consolas,'Courier New',monospace\">\n",
       "</pre>\n"
      ],
      "text/plain": [
       "\n"
      ]
     },
     "metadata": {},
     "output_type": "display_data"
    },
    {
     "data": {
      "text/html": [
       "<pre style=\"white-space:pre;overflow-x:auto;line-height:normal;font-family:Menlo,'DejaVu Sans Mono',consolas,'Courier New',monospace\"><span style=\"color: #008000; text-decoration-color: #008000\">Expected Improvement: </span><span style=\"color: #008080; text-decoration-color: #008080; font-weight: bold\">0.017627451568841934</span><span style=\"color: #008000; text-decoration-color: #008000\"> Actual: </span><span style=\"color: #008080; text-decoration-color: #008080; font-weight: bold\">0.017720051109790802</span>\n",
       "</pre>\n"
      ],
      "text/plain": [
       "\u001b[32mExpected Improvement: \u001b[0m\u001b[1;36m0.017627451568841934\u001b[0m\u001b[32m Actual: \u001b[0m\u001b[1;36m0.017720051109790802\u001b[0m\n"
      ]
     },
     "metadata": {},
     "output_type": "display_data"
    },
    {
     "data": {
      "text/html": [
       "<pre style=\"white-space:pre;overflow-x:auto;line-height:normal;font-family:Menlo,'DejaVu Sans Mono',consolas,'Courier New',monospace\"><span style=\"color: #008000; text-decoration-color: #008000\">Accept step at </span><span style=\"color: #808000; text-decoration-color: #808000\">i</span><span style=\"color: #008000; text-decoration-color: #008000\">=</span><span style=\"color: #008080; text-decoration-color: #008080; font-weight: bold\">1</span>\n",
       "</pre>\n"
      ],
      "text/plain": [
       "\u001b[32mAccept step at \u001b[0m\u001b[33mi\u001b[0m\u001b[32m=\u001b[0m\u001b[1;36m1\u001b[0m\n"
      ]
     },
     "metadata": {},
     "output_type": "display_data"
    },
    {
     "data": {
      "text/html": [
       "<pre style=\"white-space:pre;overflow-x:auto;line-height:normal;font-family:Menlo,'DejaVu Sans Mono',consolas,'Courier New',monospace\">┏━━━━━━━━━━━━━━━━━━━━━━━━━━━━━━━━┳━━━━━━━━━━━━━━━━━━━━━━━━┓\n",
       "┃<span style=\"font-weight: bold\"> Metrics                        </span>┃<span style=\"font-weight: bold\"> Value                  </span>┃\n",
       "┡━━━━━━━━━━━━━━━━━━━━━━━━━━━━━━━━╇━━━━━━━━━━━━━━━━━━━━━━━━┩\n",
       "│ Metrics/EpRet                  │ 13.626731872558594     │\n",
       "│ Metrics/EpCost                 │ 51.380001068115234     │\n",
       "│ Metrics/EpLen                  │ 1000.0                 │\n",
       "│ Train/Epoch                    │ 8.0                    │\n",
       "│ Train/Entropy                  │ 1.322180151939392      │\n",
       "│ Train/KL                       │ 0.00041083121323026717 │\n",
       "│ Train/StopIter                 │ 10.0                   │\n",
       "│ Train/PolicyRatio/Mean         │ 1.0004342794418335     │\n",
       "│ Train/PolicyRatio/Min          │ 1.0004342794418335     │\n",
       "│ Train/PolicyRatio/Max          │ 1.0004342794418335     │\n",
       "│ Train/PolicyRatio/Std          │ 0.000307053851429373   │\n",
       "│ Train/LR                       │ 0.0                    │\n",
       "│ Train/PolicyStd                │ 0.9089142680168152     │\n",
       "│ TotalEnvSteps                  │ 180000.0               │\n",
       "│ Loss/Loss_pi                   │ -0.011813308112323284  │\n",
       "│ Loss/Loss_pi/Delta             │ 0.0010463371872901917  │\n",
       "│ Value/Adv                      │ -7.572173643666247e-08 │\n",
       "│ Loss/Loss_reward_critic        │ 0.01451805979013443    │\n",
       "│ Loss/Loss_reward_critic/Delta  │ 0.0012094080448150635  │\n",
       "│ Value/reward                   │ 0.6942253112792969     │\n",
       "│ Loss/Loss_cost_critic          │ 1.3714501857757568     │\n",
       "│ Loss/Loss_cost_critic/Delta    │ 0.03200078010559082    │\n",
       "│ Value/cost                     │ 4.24688720703125       │\n",
       "│ Time/Total                     │ 503.885498046875       │\n",
       "│ Time/Rollout                   │ 43.13496398925781      │\n",
       "│ Time/Update                    │ 13.36478042602539      │\n",
       "│ Time/Epoch                     │ 56.4997444152832       │\n",
       "│ Time/FPS                       │ 353.9839172363281      │\n",
       "│ Misc/Alpha                     │ 1.136147141456604      │\n",
       "│ Misc/FinalStepNorm             │ 0.25315234065055847    │\n",
       "│ Misc/gradient_norm             │ 0.11710178107023239    │\n",
       "│ Misc/xHx                       │ 0.015493892133235931   │\n",
       "│ Misc/H_inv_g                   │ 0.22281651198863983    │\n",
       "│ Misc/AcceptanceStep            │ 1.0                    │\n",
       "│ Metrics/LagrangeMultiplier/Mea │ 0.29605916142463684    │\n",
       "│ Metrics/LagrangeMultiplier/Min │ 0.29605916142463684    │\n",
       "│ Metrics/LagrangeMultiplier/Max │ 0.29605916142463684    │\n",
       "│ Metrics/LagrangeMultiplier/Std │ 0.0                    │\n",
       "└────────────────────────────────┴────────────────────────┘\n",
       "</pre>\n"
      ],
      "text/plain": [
       "┏━━━━━━━━━━━━━━━━━━━━━━━━━━━━━━━━┳━━━━━━━━━━━━━━━━━━━━━━━━┓\n",
       "┃\u001b[1m \u001b[0m\u001b[1mMetrics                       \u001b[0m\u001b[1m \u001b[0m┃\u001b[1m \u001b[0m\u001b[1mValue                 \u001b[0m\u001b[1m \u001b[0m┃\n",
       "┡━━━━━━━━━━━━━━━━━━━━━━━━━━━━━━━━╇━━━━━━━━━━━━━━━━━━━━━━━━┩\n",
       "│ Metrics/EpRet                  │ 13.626731872558594     │\n",
       "│ Metrics/EpCost                 │ 51.380001068115234     │\n",
       "│ Metrics/EpLen                  │ 1000.0                 │\n",
       "│ Train/Epoch                    │ 8.0                    │\n",
       "│ Train/Entropy                  │ 1.322180151939392      │\n",
       "│ Train/KL                       │ 0.00041083121323026717 │\n",
       "│ Train/StopIter                 │ 10.0                   │\n",
       "│ Train/PolicyRatio/Mean         │ 1.0004342794418335     │\n",
       "│ Train/PolicyRatio/Min          │ 1.0004342794418335     │\n",
       "│ Train/PolicyRatio/Max          │ 1.0004342794418335     │\n",
       "│ Train/PolicyRatio/Std          │ 0.000307053851429373   │\n",
       "│ Train/LR                       │ 0.0                    │\n",
       "│ Train/PolicyStd                │ 0.9089142680168152     │\n",
       "│ TotalEnvSteps                  │ 180000.0               │\n",
       "│ Loss/Loss_pi                   │ -0.011813308112323284  │\n",
       "│ Loss/Loss_pi/Delta             │ 0.0010463371872901917  │\n",
       "│ Value/Adv                      │ -7.572173643666247e-08 │\n",
       "│ Loss/Loss_reward_critic        │ 0.01451805979013443    │\n",
       "│ Loss/Loss_reward_critic/Delta  │ 0.0012094080448150635  │\n",
       "│ Value/reward                   │ 0.6942253112792969     │\n",
       "│ Loss/Loss_cost_critic          │ 1.3714501857757568     │\n",
       "│ Loss/Loss_cost_critic/Delta    │ 0.03200078010559082    │\n",
       "│ Value/cost                     │ 4.24688720703125       │\n",
       "│ Time/Total                     │ 503.885498046875       │\n",
       "│ Time/Rollout                   │ 43.13496398925781      │\n",
       "│ Time/Update                    │ 13.36478042602539      │\n",
       "│ Time/Epoch                     │ 56.4997444152832       │\n",
       "│ Time/FPS                       │ 353.9839172363281      │\n",
       "│ Misc/Alpha                     │ 1.136147141456604      │\n",
       "│ Misc/FinalStepNorm             │ 0.25315234065055847    │\n",
       "│ Misc/gradient_norm             │ 0.11710178107023239    │\n",
       "│ Misc/xHx                       │ 0.015493892133235931   │\n",
       "│ Misc/H_inv_g                   │ 0.22281651198863983    │\n",
       "│ Misc/AcceptanceStep            │ 1.0                    │\n",
       "│ Metrics/LagrangeMultiplier/Mea │ 0.29605916142463684    │\n",
       "│ Metrics/LagrangeMultiplier/Min │ 0.29605916142463684    │\n",
       "│ Metrics/LagrangeMultiplier/Max │ 0.29605916142463684    │\n",
       "│ Metrics/LagrangeMultiplier/Std │ 0.0                    │\n",
       "└────────────────────────────────┴────────────────────────┘\n"
      ]
     },
     "metadata": {},
     "output_type": "display_data"
    },
    {
     "data": {
      "text/html": [
       "<pre style=\"white-space:pre;overflow-x:auto;line-height:normal;font-family:Menlo,'DejaVu Sans Mono',consolas,'Courier New',monospace\"><span style=\"color: #008000; text-decoration-color: #008000\">Warning: trajectory cut off when rollout by epoch at </span><span style=\"color: #008080; text-decoration-color: #008080; font-weight: bold\">1000.0</span><span style=\"color: #008000; text-decoration-color: #008000\"> steps.</span>\n",
       "</pre>\n"
      ],
      "text/plain": [
       "\u001b[32mWarning: trajectory cut off when rollout by epoch at \u001b[0m\u001b[1;36m1000.0\u001b[0m\u001b[32m steps.\u001b[0m\n"
      ]
     },
     "metadata": {},
     "output_type": "display_data"
    },
    {
     "data": {
      "text/html": [
       "<pre style=\"white-space:pre;overflow-x:auto;line-height:normal;font-family:Menlo,'DejaVu Sans Mono',consolas,'Courier New',monospace\"><span style=\"color: #008000; text-decoration-color: #008000\">Warning: trajectory cut off when rollout by epoch at </span><span style=\"color: #008080; text-decoration-color: #008080; font-weight: bold\">1000.0</span><span style=\"color: #008000; text-decoration-color: #008000\"> steps.</span>\n",
       "</pre>\n"
      ],
      "text/plain": [
       "\u001b[32mWarning: trajectory cut off when rollout by epoch at \u001b[0m\u001b[1;36m1000.0\u001b[0m\u001b[32m steps.\u001b[0m\n"
      ]
     },
     "metadata": {},
     "output_type": "display_data"
    },
    {
     "data": {
      "text/html": [
       "<pre style=\"white-space:pre;overflow-x:auto;line-height:normal;font-family:Menlo,'DejaVu Sans Mono',consolas,'Courier New',monospace\"><span style=\"color: #008000; text-decoration-color: #008000\">Warning: trajectory cut off when rollout by epoch at </span><span style=\"color: #008080; text-decoration-color: #008080; font-weight: bold\">1000.0</span><span style=\"color: #008000; text-decoration-color: #008000\"> steps.</span>\n",
       "</pre>\n"
      ],
      "text/plain": [
       "\u001b[32mWarning: trajectory cut off when rollout by epoch at \u001b[0m\u001b[1;36m1000.0\u001b[0m\u001b[32m steps.\u001b[0m\n"
      ]
     },
     "metadata": {},
     "output_type": "display_data"
    },
    {
     "data": {
      "text/html": [
       "<pre style=\"white-space:pre;overflow-x:auto;line-height:normal;font-family:Menlo,'DejaVu Sans Mono',consolas,'Courier New',monospace\"><span style=\"color: #008000; text-decoration-color: #008000\">Warning: trajectory cut off when rollout by epoch at </span><span style=\"color: #008080; text-decoration-color: #008080; font-weight: bold\">1000.0</span><span style=\"color: #008000; text-decoration-color: #008000\"> steps.</span>\n",
       "</pre>\n"
      ],
      "text/plain": [
       "\u001b[32mWarning: trajectory cut off when rollout by epoch at \u001b[0m\u001b[1;36m1000.0\u001b[0m\u001b[32m steps.\u001b[0m\n"
      ]
     },
     "metadata": {},
     "output_type": "display_data"
    },
    {
     "data": {
      "text/html": [
       "<pre style=\"white-space:pre;overflow-x:auto;line-height:normal;font-family:Menlo,'DejaVu Sans Mono',consolas,'Courier New',monospace\"></pre>\n"
      ],
      "text/plain": []
     },
     "metadata": {},
     "output_type": "display_data"
    },
    {
     "data": {
      "text/html": [
       "<pre style=\"white-space:pre;overflow-x:auto;line-height:normal;font-family:Menlo,'DejaVu Sans Mono',consolas,'Courier New',monospace\">\n",
       "</pre>\n"
      ],
      "text/plain": [
       "\n"
      ]
     },
     "metadata": {},
     "output_type": "display_data"
    },
    {
     "data": {
      "text/html": [
       "<pre style=\"white-space:pre;overflow-x:auto;line-height:normal;font-family:Menlo,'DejaVu Sans Mono',consolas,'Courier New',monospace\"><span style=\"color: #008000; text-decoration-color: #008000\">Expected Improvement: </span><span style=\"color: #008080; text-decoration-color: #008080; font-weight: bold\">0.01715206168591976</span><span style=\"color: #008000; text-decoration-color: #008000\"> Actual: </span><span style=\"color: #008080; text-decoration-color: #008080; font-weight: bold\">0.01706055924296379</span>\n",
       "</pre>\n"
      ],
      "text/plain": [
       "\u001b[32mExpected Improvement: \u001b[0m\u001b[1;36m0.01715206168591976\u001b[0m\u001b[32m Actual: \u001b[0m\u001b[1;36m0.01706055924296379\u001b[0m\n"
      ]
     },
     "metadata": {},
     "output_type": "display_data"
    },
    {
     "data": {
      "text/html": [
       "<pre style=\"white-space:pre;overflow-x:auto;line-height:normal;font-family:Menlo,'DejaVu Sans Mono',consolas,'Courier New',monospace\"><span style=\"color: #008000; text-decoration-color: #008000\">Accept step at </span><span style=\"color: #808000; text-decoration-color: #808000\">i</span><span style=\"color: #008000; text-decoration-color: #008000\">=</span><span style=\"color: #008080; text-decoration-color: #008080; font-weight: bold\">1</span>\n",
       "</pre>\n"
      ],
      "text/plain": [
       "\u001b[32mAccept step at \u001b[0m\u001b[33mi\u001b[0m\u001b[32m=\u001b[0m\u001b[1;36m1\u001b[0m\n"
      ]
     },
     "metadata": {},
     "output_type": "display_data"
    },
    {
     "data": {
      "text/html": [
       "<pre style=\"white-space:pre;overflow-x:auto;line-height:normal;font-family:Menlo,'DejaVu Sans Mono',consolas,'Courier New',monospace\">┏━━━━━━━━━━━━━━━━━━━━━━━━━━━━━━━━┳━━━━━━━━━━━━━━━━━━━━━━━━┓\n",
       "┃<span style=\"font-weight: bold\"> Metrics                        </span>┃<span style=\"font-weight: bold\"> Value                  </span>┃\n",
       "┡━━━━━━━━━━━━━━━━━━━━━━━━━━━━━━━━╇━━━━━━━━━━━━━━━━━━━━━━━━┩\n",
       "│ Metrics/EpRet                  │ 15.575145721435547     │\n",
       "│ Metrics/EpCost                 │ 61.459999084472656     │\n",
       "│ Metrics/EpLen                  │ 1000.0                 │\n",
       "│ Train/Epoch                    │ 9.0                    │\n",
       "│ Train/Entropy                  │ 1.2969036102294922     │\n",
       "│ Train/KL                       │ 0.00038590613985434175 │\n",
       "│ Train/StopIter                 │ 10.0                   │\n",
       "│ Train/PolicyRatio/Mean         │ 0.9995787739753723     │\n",
       "│ Train/PolicyRatio/Min          │ 0.9995788335800171     │\n",
       "│ Train/PolicyRatio/Max          │ 0.9995788335800171     │\n",
       "│ Train/PolicyRatio/Std          │ 0.0002978658303618431  │\n",
       "│ Train/LR                       │ 0.0                    │\n",
       "│ Train/PolicyStd                │ 0.8872773051261902     │\n",
       "│ TotalEnvSteps                  │ 200000.0               │\n",
       "│ Loss/Loss_pi                   │ -0.011373702436685562  │\n",
       "│ Loss/Loss_pi/Delta             │ 0.000439605675637722   │\n",
       "│ Value/Adv                      │ -3.051757735406113e-09 │\n",
       "│ Loss/Loss_reward_critic        │ 0.016322987154126167   │\n",
       "│ Loss/Loss_reward_critic/Delta  │ 0.0018049273639917374  │\n",
       "│ Value/reward                   │ 0.8299757838249207     │\n",
       "│ Loss/Loss_cost_critic          │ 1.5495685338974        │\n",
       "│ Loss/Loss_cost_critic/Delta    │ 0.17811834812164307    │\n",
       "│ Value/cost                     │ 4.89901065826416       │\n",
       "│ Time/Total                     │ 559.6248779296875      │\n",
       "│ Time/Rollout                   │ 42.49665069580078      │\n",
       "│ Time/Update                    │ 13.210758209228516     │\n",
       "│ Time/Epoch                     │ 55.7074089050293       │\n",
       "│ Time/FPS                       │ 359.0186767578125      │\n",
       "│ Misc/Alpha                     │ 1.1677212715148926     │\n",
       "│ Misc/FinalStepNorm             │ 0.2622185945510864     │\n",
       "│ Misc/gradient_norm             │ 0.11348230391740799    │\n",
       "│ Misc/xHx                       │ 0.014667337760329247   │\n",
       "│ Misc/H_inv_g                   │ 0.22455579042434692    │\n",
       "│ Misc/AcceptanceStep            │ 1.0                    │\n",
       "│ Metrics/LagrangeMultiplier/Mea │ 0.3258986175060272     │\n",
       "│ Metrics/LagrangeMultiplier/Min │ 0.3258986175060272     │\n",
       "│ Metrics/LagrangeMultiplier/Max │ 0.3258986175060272     │\n",
       "│ Metrics/LagrangeMultiplier/Std │ 0.0                    │\n",
       "└────────────────────────────────┴────────────────────────┘\n",
       "</pre>\n"
      ],
      "text/plain": [
       "┏━━━━━━━━━━━━━━━━━━━━━━━━━━━━━━━━┳━━━━━━━━━━━━━━━━━━━━━━━━┓\n",
       "┃\u001b[1m \u001b[0m\u001b[1mMetrics                       \u001b[0m\u001b[1m \u001b[0m┃\u001b[1m \u001b[0m\u001b[1mValue                 \u001b[0m\u001b[1m \u001b[0m┃\n",
       "┡━━━━━━━━━━━━━━━━━━━━━━━━━━━━━━━━╇━━━━━━━━━━━━━━━━━━━━━━━━┩\n",
       "│ Metrics/EpRet                  │ 15.575145721435547     │\n",
       "│ Metrics/EpCost                 │ 61.459999084472656     │\n",
       "│ Metrics/EpLen                  │ 1000.0                 │\n",
       "│ Train/Epoch                    │ 9.0                    │\n",
       "│ Train/Entropy                  │ 1.2969036102294922     │\n",
       "│ Train/KL                       │ 0.00038590613985434175 │\n",
       "│ Train/StopIter                 │ 10.0                   │\n",
       "│ Train/PolicyRatio/Mean         │ 0.9995787739753723     │\n",
       "│ Train/PolicyRatio/Min          │ 0.9995788335800171     │\n",
       "│ Train/PolicyRatio/Max          │ 0.9995788335800171     │\n",
       "│ Train/PolicyRatio/Std          │ 0.0002978658303618431  │\n",
       "│ Train/LR                       │ 0.0                    │\n",
       "│ Train/PolicyStd                │ 0.8872773051261902     │\n",
       "│ TotalEnvSteps                  │ 200000.0               │\n",
       "│ Loss/Loss_pi                   │ -0.011373702436685562  │\n",
       "│ Loss/Loss_pi/Delta             │ 0.000439605675637722   │\n",
       "│ Value/Adv                      │ -3.051757735406113e-09 │\n",
       "│ Loss/Loss_reward_critic        │ 0.016322987154126167   │\n",
       "│ Loss/Loss_reward_critic/Delta  │ 0.0018049273639917374  │\n",
       "│ Value/reward                   │ 0.8299757838249207     │\n",
       "│ Loss/Loss_cost_critic          │ 1.5495685338974        │\n",
       "│ Loss/Loss_cost_critic/Delta    │ 0.17811834812164307    │\n",
       "│ Value/cost                     │ 4.89901065826416       │\n",
       "│ Time/Total                     │ 559.6248779296875      │\n",
       "│ Time/Rollout                   │ 42.49665069580078      │\n",
       "│ Time/Update                    │ 13.210758209228516     │\n",
       "│ Time/Epoch                     │ 55.7074089050293       │\n",
       "│ Time/FPS                       │ 359.0186767578125      │\n",
       "│ Misc/Alpha                     │ 1.1677212715148926     │\n",
       "│ Misc/FinalStepNorm             │ 0.2622185945510864     │\n",
       "│ Misc/gradient_norm             │ 0.11348230391740799    │\n",
       "│ Misc/xHx                       │ 0.014667337760329247   │\n",
       "│ Misc/H_inv_g                   │ 0.22455579042434692    │\n",
       "│ Misc/AcceptanceStep            │ 1.0                    │\n",
       "│ Metrics/LagrangeMultiplier/Mea │ 0.3258986175060272     │\n",
       "│ Metrics/LagrangeMultiplier/Min │ 0.3258986175060272     │\n",
       "│ Metrics/LagrangeMultiplier/Max │ 0.3258986175060272     │\n",
       "│ Metrics/LagrangeMultiplier/Std │ 0.0                    │\n",
       "└────────────────────────────────┴────────────────────────┘\n"
      ]
     },
     "metadata": {},
     "output_type": "display_data"
    },
    {
     "data": {
      "text/html": [
       "<pre style=\"white-space:pre;overflow-x:auto;line-height:normal;font-family:Menlo,'DejaVu Sans Mono',consolas,'Courier New',monospace\"><span style=\"color: #008000; text-decoration-color: #008000\">Warning: trajectory cut off when rollout by epoch at </span><span style=\"color: #008080; text-decoration-color: #008080; font-weight: bold\">1000.0</span><span style=\"color: #008000; text-decoration-color: #008000\"> steps.</span>\n",
       "</pre>\n"
      ],
      "text/plain": [
       "\u001b[32mWarning: trajectory cut off when rollout by epoch at \u001b[0m\u001b[1;36m1000.0\u001b[0m\u001b[32m steps.\u001b[0m\n"
      ]
     },
     "metadata": {},
     "output_type": "display_data"
    },
    {
     "data": {
      "text/html": [
       "<pre style=\"white-space:pre;overflow-x:auto;line-height:normal;font-family:Menlo,'DejaVu Sans Mono',consolas,'Courier New',monospace\"><span style=\"color: #008000; text-decoration-color: #008000\">Warning: trajectory cut off when rollout by epoch at </span><span style=\"color: #008080; text-decoration-color: #008080; font-weight: bold\">1000.0</span><span style=\"color: #008000; text-decoration-color: #008000\"> steps.</span>\n",
       "</pre>\n"
      ],
      "text/plain": [
       "\u001b[32mWarning: trajectory cut off when rollout by epoch at \u001b[0m\u001b[1;36m1000.0\u001b[0m\u001b[32m steps.\u001b[0m\n"
      ]
     },
     "metadata": {},
     "output_type": "display_data"
    },
    {
     "data": {
      "text/html": [
       "<pre style=\"white-space:pre;overflow-x:auto;line-height:normal;font-family:Menlo,'DejaVu Sans Mono',consolas,'Courier New',monospace\"><span style=\"color: #008000; text-decoration-color: #008000\">Warning: trajectory cut off when rollout by epoch at </span><span style=\"color: #008080; text-decoration-color: #008080; font-weight: bold\">1000.0</span><span style=\"color: #008000; text-decoration-color: #008000\"> steps.</span>\n",
       "</pre>\n"
      ],
      "text/plain": [
       "\u001b[32mWarning: trajectory cut off when rollout by epoch at \u001b[0m\u001b[1;36m1000.0\u001b[0m\u001b[32m steps.\u001b[0m\n"
      ]
     },
     "metadata": {},
     "output_type": "display_data"
    },
    {
     "data": {
      "text/html": [
       "<pre style=\"white-space:pre;overflow-x:auto;line-height:normal;font-family:Menlo,'DejaVu Sans Mono',consolas,'Courier New',monospace\"><span style=\"color: #008000; text-decoration-color: #008000\">Warning: trajectory cut off when rollout by epoch at </span><span style=\"color: #008080; text-decoration-color: #008080; font-weight: bold\">1000.0</span><span style=\"color: #008000; text-decoration-color: #008000\"> steps.</span>\n",
       "</pre>\n"
      ],
      "text/plain": [
       "\u001b[32mWarning: trajectory cut off when rollout by epoch at \u001b[0m\u001b[1;36m1000.0\u001b[0m\u001b[32m steps.\u001b[0m\n"
      ]
     },
     "metadata": {},
     "output_type": "display_data"
    },
    {
     "data": {
      "text/html": [
       "<pre style=\"white-space:pre;overflow-x:auto;line-height:normal;font-family:Menlo,'DejaVu Sans Mono',consolas,'Courier New',monospace\"></pre>\n"
      ],
      "text/plain": []
     },
     "metadata": {},
     "output_type": "display_data"
    },
    {
     "data": {
      "text/html": [
       "<pre style=\"white-space:pre;overflow-x:auto;line-height:normal;font-family:Menlo,'DejaVu Sans Mono',consolas,'Courier New',monospace\">\n",
       "</pre>\n"
      ],
      "text/plain": [
       "\n"
      ]
     },
     "metadata": {},
     "output_type": "display_data"
    },
    {
     "data": {
      "text/html": [
       "<pre style=\"white-space:pre;overflow-x:auto;line-height:normal;font-family:Menlo,'DejaVu Sans Mono',consolas,'Courier New',monospace\"><span style=\"color: #008000; text-decoration-color: #008000\">Expected Improvement: </span><span style=\"color: #008080; text-decoration-color: #008080; font-weight: bold\">0.01763181947171688</span><span style=\"color: #008000; text-decoration-color: #008000\"> Actual: </span><span style=\"color: #008080; text-decoration-color: #008080; font-weight: bold\">0.01676693558692932</span>\n",
       "</pre>\n"
      ],
      "text/plain": [
       "\u001b[32mExpected Improvement: \u001b[0m\u001b[1;36m0.01763181947171688\u001b[0m\u001b[32m Actual: \u001b[0m\u001b[1;36m0.01676693558692932\u001b[0m\n"
      ]
     },
     "metadata": {},
     "output_type": "display_data"
    },
    {
     "data": {
      "text/html": [
       "<pre style=\"white-space:pre;overflow-x:auto;line-height:normal;font-family:Menlo,'DejaVu Sans Mono',consolas,'Courier New',monospace\"><span style=\"color: #008000; text-decoration-color: #008000\">Accept step at </span><span style=\"color: #808000; text-decoration-color: #808000\">i</span><span style=\"color: #008000; text-decoration-color: #008000\">=</span><span style=\"color: #008080; text-decoration-color: #008080; font-weight: bold\">1</span>\n",
       "</pre>\n"
      ],
      "text/plain": [
       "\u001b[32mAccept step at \u001b[0m\u001b[33mi\u001b[0m\u001b[32m=\u001b[0m\u001b[1;36m1\u001b[0m\n"
      ]
     },
     "metadata": {},
     "output_type": "display_data"
    },
    {
     "data": {
      "text/html": [
       "<pre style=\"white-space:pre;overflow-x:auto;line-height:normal;font-family:Menlo,'DejaVu Sans Mono',consolas,'Courier New',monospace\">┏━━━━━━━━━━━━━━━━━━━━━━━━━━━━━━━━┳━━━━━━━━━━━━━━━━━━━━━━━━┓\n",
       "┃<span style=\"font-weight: bold\"> Metrics                        </span>┃<span style=\"font-weight: bold\"> Value                  </span>┃\n",
       "┡━━━━━━━━━━━━━━━━━━━━━━━━━━━━━━━━╇━━━━━━━━━━━━━━━━━━━━━━━━┩\n",
       "│ Metrics/EpRet                  │ 16.880126953125        │\n",
       "│ Metrics/EpCost                 │ 63.70000076293945      │\n",
       "│ Metrics/EpLen                  │ 1000.0                 │\n",
       "│ Train/Epoch                    │ 10.0                   │\n",
       "│ Train/Entropy                  │ 1.2695423364639282     │\n",
       "│ Train/KL                       │ 0.00039880312397144735 │\n",
       "│ Train/StopIter                 │ 10.0                   │\n",
       "│ Train/PolicyRatio/Mean         │ 0.9999052882194519     │\n",
       "│ Train/PolicyRatio/Min          │ 0.9999052882194519     │\n",
       "│ Train/PolicyRatio/Max          │ 0.9999052882194519     │\n",
       "│ Train/PolicyRatio/Std          │ 6.695729825878516e-05  │\n",
       "│ Train/LR                       │ 0.0                    │\n",
       "│ Train/PolicyStd                │ 0.8644158840179443     │\n",
       "│ TotalEnvSteps                  │ 220000.0               │\n",
       "│ Loss/Loss_pi                   │ -0.011177894659340382  │\n",
       "│ Loss/Loss_pi/Delta             │ 0.0001958077773451805  │\n",
       "│ Value/Adv                      │ -8.31604012319076e-08  │\n",
       "│ Loss/Loss_reward_critic        │ 0.0165933258831501     │\n",
       "│ Loss/Loss_reward_critic/Delta  │ 0.0002703387290239334  │\n",
       "│ Value/reward                   │ 0.9109693169593811     │\n",
       "│ Loss/Loss_cost_critic          │ 1.5893621444702148     │\n",
       "│ Loss/Loss_cost_critic/Delta    │ 0.03979361057281494    │\n",
       "│ Value/cost                     │ 4.908458709716797      │\n",
       "│ Time/Total                     │ 620.658203125          │\n",
       "│ Time/Rollout                   │ 45.42205810546875      │\n",
       "│ Time/Update                    │ 15.576221466064453     │\n",
       "│ Time/Epoch                     │ 60.9982795715332       │\n",
       "│ Time/FPS                       │ 327.87811279296875     │\n",
       "│ Misc/Alpha                     │ 1.1358096599578857     │\n",
       "│ Misc/FinalStepNorm             │ 0.2522280514240265     │\n",
       "│ Misc/gradient_norm             │ 0.12454697489738464    │\n",
       "│ Misc/xHx                       │ 0.015503102913498878   │\n",
       "│ Misc/H_inv_g                   │ 0.22206895053386688    │\n",
       "│ Misc/AcceptanceStep            │ 1.0                    │\n",
       "│ Metrics/LagrangeMultiplier/Mea │ 0.35594233870506287    │\n",
       "│ Metrics/LagrangeMultiplier/Min │ 0.35594233870506287    │\n",
       "│ Metrics/LagrangeMultiplier/Max │ 0.35594233870506287    │\n",
       "│ Metrics/LagrangeMultiplier/Std │ 0.0                    │\n",
       "└────────────────────────────────┴────────────────────────┘\n",
       "</pre>\n"
      ],
      "text/plain": [
       "┏━━━━━━━━━━━━━━━━━━━━━━━━━━━━━━━━┳━━━━━━━━━━━━━━━━━━━━━━━━┓\n",
       "┃\u001b[1m \u001b[0m\u001b[1mMetrics                       \u001b[0m\u001b[1m \u001b[0m┃\u001b[1m \u001b[0m\u001b[1mValue                 \u001b[0m\u001b[1m \u001b[0m┃\n",
       "┡━━━━━━━━━━━━━━━━━━━━━━━━━━━━━━━━╇━━━━━━━━━━━━━━━━━━━━━━━━┩\n",
       "│ Metrics/EpRet                  │ 16.880126953125        │\n",
       "│ Metrics/EpCost                 │ 63.70000076293945      │\n",
       "│ Metrics/EpLen                  │ 1000.0                 │\n",
       "│ Train/Epoch                    │ 10.0                   │\n",
       "│ Train/Entropy                  │ 1.2695423364639282     │\n",
       "│ Train/KL                       │ 0.00039880312397144735 │\n",
       "│ Train/StopIter                 │ 10.0                   │\n",
       "│ Train/PolicyRatio/Mean         │ 0.9999052882194519     │\n",
       "│ Train/PolicyRatio/Min          │ 0.9999052882194519     │\n",
       "│ Train/PolicyRatio/Max          │ 0.9999052882194519     │\n",
       "│ Train/PolicyRatio/Std          │ 6.695729825878516e-05  │\n",
       "│ Train/LR                       │ 0.0                    │\n",
       "│ Train/PolicyStd                │ 0.8644158840179443     │\n",
       "│ TotalEnvSteps                  │ 220000.0               │\n",
       "│ Loss/Loss_pi                   │ -0.011177894659340382  │\n",
       "│ Loss/Loss_pi/Delta             │ 0.0001958077773451805  │\n",
       "│ Value/Adv                      │ -8.31604012319076e-08  │\n",
       "│ Loss/Loss_reward_critic        │ 0.0165933258831501     │\n",
       "│ Loss/Loss_reward_critic/Delta  │ 0.0002703387290239334  │\n",
       "│ Value/reward                   │ 0.9109693169593811     │\n",
       "│ Loss/Loss_cost_critic          │ 1.5893621444702148     │\n",
       "│ Loss/Loss_cost_critic/Delta    │ 0.03979361057281494    │\n",
       "│ Value/cost                     │ 4.908458709716797      │\n",
       "│ Time/Total                     │ 620.658203125          │\n",
       "│ Time/Rollout                   │ 45.42205810546875      │\n",
       "│ Time/Update                    │ 15.576221466064453     │\n",
       "│ Time/Epoch                     │ 60.9982795715332       │\n",
       "│ Time/FPS                       │ 327.87811279296875     │\n",
       "│ Misc/Alpha                     │ 1.1358096599578857     │\n",
       "│ Misc/FinalStepNorm             │ 0.2522280514240265     │\n",
       "│ Misc/gradient_norm             │ 0.12454697489738464    │\n",
       "│ Misc/xHx                       │ 0.015503102913498878   │\n",
       "│ Misc/H_inv_g                   │ 0.22206895053386688    │\n",
       "│ Misc/AcceptanceStep            │ 1.0                    │\n",
       "│ Metrics/LagrangeMultiplier/Mea │ 0.35594233870506287    │\n",
       "│ Metrics/LagrangeMultiplier/Min │ 0.35594233870506287    │\n",
       "│ Metrics/LagrangeMultiplier/Max │ 0.35594233870506287    │\n",
       "│ Metrics/LagrangeMultiplier/Std │ 0.0                    │\n",
       "└────────────────────────────────┴────────────────────────┘\n"
      ]
     },
     "metadata": {},
     "output_type": "display_data"
    },
    {
     "data": {
      "text/html": [
       "<pre style=\"white-space:pre;overflow-x:auto;line-height:normal;font-family:Menlo,'DejaVu Sans Mono',consolas,'Courier New',monospace\"><span style=\"color: #008000; text-decoration-color: #008000\">Warning: trajectory cut off when rollout by epoch at </span><span style=\"color: #008080; text-decoration-color: #008080; font-weight: bold\">1000.0</span><span style=\"color: #008000; text-decoration-color: #008000\"> steps.</span>\n",
       "</pre>\n"
      ],
      "text/plain": [
       "\u001b[32mWarning: trajectory cut off when rollout by epoch at \u001b[0m\u001b[1;36m1000.0\u001b[0m\u001b[32m steps.\u001b[0m\n"
      ]
     },
     "metadata": {},
     "output_type": "display_data"
    },
    {
     "data": {
      "text/html": [
       "<pre style=\"white-space:pre;overflow-x:auto;line-height:normal;font-family:Menlo,'DejaVu Sans Mono',consolas,'Courier New',monospace\"><span style=\"color: #008000; text-decoration-color: #008000\">Warning: trajectory cut off when rollout by epoch at </span><span style=\"color: #008080; text-decoration-color: #008080; font-weight: bold\">1000.0</span><span style=\"color: #008000; text-decoration-color: #008000\"> steps.</span>\n",
       "</pre>\n"
      ],
      "text/plain": [
       "\u001b[32mWarning: trajectory cut off when rollout by epoch at \u001b[0m\u001b[1;36m1000.0\u001b[0m\u001b[32m steps.\u001b[0m\n"
      ]
     },
     "metadata": {},
     "output_type": "display_data"
    },
    {
     "data": {
      "text/html": [
       "<pre style=\"white-space:pre;overflow-x:auto;line-height:normal;font-family:Menlo,'DejaVu Sans Mono',consolas,'Courier New',monospace\"><span style=\"color: #008000; text-decoration-color: #008000\">Warning: trajectory cut off when rollout by epoch at </span><span style=\"color: #008080; text-decoration-color: #008080; font-weight: bold\">1000.0</span><span style=\"color: #008000; text-decoration-color: #008000\"> steps.</span>\n",
       "</pre>\n"
      ],
      "text/plain": [
       "\u001b[32mWarning: trajectory cut off when rollout by epoch at \u001b[0m\u001b[1;36m1000.0\u001b[0m\u001b[32m steps.\u001b[0m\n"
      ]
     },
     "metadata": {},
     "output_type": "display_data"
    },
    {
     "data": {
      "text/html": [
       "<pre style=\"white-space:pre;overflow-x:auto;line-height:normal;font-family:Menlo,'DejaVu Sans Mono',consolas,'Courier New',monospace\"><span style=\"color: #008000; text-decoration-color: #008000\">Warning: trajectory cut off when rollout by epoch at </span><span style=\"color: #008080; text-decoration-color: #008080; font-weight: bold\">1000.0</span><span style=\"color: #008000; text-decoration-color: #008000\"> steps.</span>\n",
       "</pre>\n"
      ],
      "text/plain": [
       "\u001b[32mWarning: trajectory cut off when rollout by epoch at \u001b[0m\u001b[1;36m1000.0\u001b[0m\u001b[32m steps.\u001b[0m\n"
      ]
     },
     "metadata": {},
     "output_type": "display_data"
    },
    {
     "data": {
      "text/html": [
       "<pre style=\"white-space:pre;overflow-x:auto;line-height:normal;font-family:Menlo,'DejaVu Sans Mono',consolas,'Courier New',monospace\"></pre>\n"
      ],
      "text/plain": []
     },
     "metadata": {},
     "output_type": "display_data"
    },
    {
     "data": {
      "text/html": [
       "<pre style=\"white-space:pre;overflow-x:auto;line-height:normal;font-family:Menlo,'DejaVu Sans Mono',consolas,'Courier New',monospace\">\n",
       "</pre>\n"
      ],
      "text/plain": [
       "\n"
      ]
     },
     "metadata": {},
     "output_type": "display_data"
    },
    {
     "data": {
      "text/html": [
       "<pre style=\"white-space:pre;overflow-x:auto;line-height:normal;font-family:Menlo,'DejaVu Sans Mono',consolas,'Courier New',monospace\"><span style=\"color: #008000; text-decoration-color: #008000\">Expected Improvement: </span><span style=\"color: #008080; text-decoration-color: #008080; font-weight: bold\">0.016951188445091248</span><span style=\"color: #008000; text-decoration-color: #008000\"> Actual: </span><span style=\"color: #008080; text-decoration-color: #008080; font-weight: bold\">0.016648460179567337</span>\n",
       "</pre>\n"
      ],
      "text/plain": [
       "\u001b[32mExpected Improvement: \u001b[0m\u001b[1;36m0.016951188445091248\u001b[0m\u001b[32m Actual: \u001b[0m\u001b[1;36m0.016648460179567337\u001b[0m\n"
      ]
     },
     "metadata": {},
     "output_type": "display_data"
    },
    {
     "data": {
      "text/html": [
       "<pre style=\"white-space:pre;overflow-x:auto;line-height:normal;font-family:Menlo,'DejaVu Sans Mono',consolas,'Courier New',monospace\"><span style=\"color: #008000; text-decoration-color: #008000\">Accept step at </span><span style=\"color: #808000; text-decoration-color: #808000\">i</span><span style=\"color: #008000; text-decoration-color: #008000\">=</span><span style=\"color: #008080; text-decoration-color: #008080; font-weight: bold\">1</span>\n",
       "</pre>\n"
      ],
      "text/plain": [
       "\u001b[32mAccept step at \u001b[0m\u001b[33mi\u001b[0m\u001b[32m=\u001b[0m\u001b[1;36m1\u001b[0m\n"
      ]
     },
     "metadata": {},
     "output_type": "display_data"
    },
    {
     "data": {
      "text/html": [
       "<pre style=\"white-space:pre;overflow-x:auto;line-height:normal;font-family:Menlo,'DejaVu Sans Mono',consolas,'Courier New',monospace\">┏━━━━━━━━━━━━━━━━━━━━━━━━━━━━━━━━┳━━━━━━━━━━━━━━━━━━━━━━━━━┓\n",
       "┃<span style=\"font-weight: bold\"> Metrics                        </span>┃<span style=\"font-weight: bold\"> Value                   </span>┃\n",
       "┡━━━━━━━━━━━━━━━━━━━━━━━━━━━━━━━━╇━━━━━━━━━━━━━━━━━━━━━━━━━┩\n",
       "│ Metrics/EpRet                  │ 18.441566467285156      │\n",
       "│ Metrics/EpCost                 │ 58.2599983215332        │\n",
       "│ Metrics/EpLen                  │ 1000.0                  │\n",
       "│ Train/Epoch                    │ 11.0                    │\n",
       "│ Train/Entropy                  │ 1.2453819513320923      │\n",
       "│ Train/KL                       │ 0.00037846193299628794  │\n",
       "│ Train/StopIter                 │ 10.0                    │\n",
       "│ Train/PolicyRatio/Mean         │ 1.0000381469726562      │\n",
       "│ Train/PolicyRatio/Min          │ 1.0000381469726562      │\n",
       "│ Train/PolicyRatio/Max          │ 1.0000381469726562      │\n",
       "│ Train/PolicyRatio/Std          │ 2.7030295314034447e-05  │\n",
       "│ Train/LR                       │ 0.0                     │\n",
       "│ Train/PolicyStd                │ 0.8452010750770569      │\n",
       "│ TotalEnvSteps                  │ 240000.0                │\n",
       "│ Loss/Loss_pi                   │ -0.011098953895270824   │\n",
       "│ Loss/Loss_pi/Delta             │ 7.894076406955719e-05   │\n",
       "│ Value/Adv                      │ -4.0435789827597546e-08 │\n",
       "│ Loss/Loss_reward_critic        │ 0.021863719448447227    │\n",
       "│ Loss/Loss_reward_critic/Delta  │ 0.005270393565297127    │\n",
       "│ Value/reward                   │ 1.1052097082138062      │\n",
       "│ Loss/Loss_cost_critic          │ 1.3321056365966797      │\n",
       "│ Loss/Loss_cost_critic/Delta    │ -0.25725650787353516    │\n",
       "│ Value/cost                     │ 5.2280778884887695      │\n",
       "│ Time/Total                     │ 678.9883422851562       │\n",
       "│ Time/Rollout                   │ 45.07914733886719       │\n",
       "│ Time/Update                    │ 13.204614639282227      │\n",
       "│ Time/Epoch                     │ 58.28376388549805       │\n",
       "│ Time/FPS                       │ 343.14874267578125      │\n",
       "│ Misc/Alpha                     │ 1.1816027164459229      │\n",
       "│ Misc/FinalStepNorm             │ 0.26430433988571167     │\n",
       "│ Misc/gradient_norm             │ 0.12470085918903351     │\n",
       "│ Misc/xHx                       │ 0.014324739575386047    │\n",
       "│ Misc/H_inv_g                   │ 0.22368289530277252     │\n",
       "│ Misc/AcceptanceStep            │ 1.0                     │\n",
       "│ Metrics/LagrangeMultiplier/Mea │ 0.38583362102508545     │\n",
       "│ Metrics/LagrangeMultiplier/Min │ 0.38583362102508545     │\n",
       "│ Metrics/LagrangeMultiplier/Max │ 0.38583362102508545     │\n",
       "│ Metrics/LagrangeMultiplier/Std │ 0.0                     │\n",
       "└────────────────────────────────┴─────────────────────────┘\n",
       "</pre>\n"
      ],
      "text/plain": [
       "┏━━━━━━━━━━━━━━━━━━━━━━━━━━━━━━━━┳━━━━━━━━━━━━━━━━━━━━━━━━━┓\n",
       "┃\u001b[1m \u001b[0m\u001b[1mMetrics                       \u001b[0m\u001b[1m \u001b[0m┃\u001b[1m \u001b[0m\u001b[1mValue                  \u001b[0m\u001b[1m \u001b[0m┃\n",
       "┡━━━━━━━━━━━━━━━━━━━━━━━━━━━━━━━━╇━━━━━━━━━━━━━━━━━━━━━━━━━┩\n",
       "│ Metrics/EpRet                  │ 18.441566467285156      │\n",
       "│ Metrics/EpCost                 │ 58.2599983215332        │\n",
       "│ Metrics/EpLen                  │ 1000.0                  │\n",
       "│ Train/Epoch                    │ 11.0                    │\n",
       "│ Train/Entropy                  │ 1.2453819513320923      │\n",
       "│ Train/KL                       │ 0.00037846193299628794  │\n",
       "│ Train/StopIter                 │ 10.0                    │\n",
       "│ Train/PolicyRatio/Mean         │ 1.0000381469726562      │\n",
       "│ Train/PolicyRatio/Min          │ 1.0000381469726562      │\n",
       "│ Train/PolicyRatio/Max          │ 1.0000381469726562      │\n",
       "│ Train/PolicyRatio/Std          │ 2.7030295314034447e-05  │\n",
       "│ Train/LR                       │ 0.0                     │\n",
       "│ Train/PolicyStd                │ 0.8452010750770569      │\n",
       "│ TotalEnvSteps                  │ 240000.0                │\n",
       "│ Loss/Loss_pi                   │ -0.011098953895270824   │\n",
       "│ Loss/Loss_pi/Delta             │ 7.894076406955719e-05   │\n",
       "│ Value/Adv                      │ -4.0435789827597546e-08 │\n",
       "│ Loss/Loss_reward_critic        │ 0.021863719448447227    │\n",
       "│ Loss/Loss_reward_critic/Delta  │ 0.005270393565297127    │\n",
       "│ Value/reward                   │ 1.1052097082138062      │\n",
       "│ Loss/Loss_cost_critic          │ 1.3321056365966797      │\n",
       "│ Loss/Loss_cost_critic/Delta    │ -0.25725650787353516    │\n",
       "│ Value/cost                     │ 5.2280778884887695      │\n",
       "│ Time/Total                     │ 678.9883422851562       │\n",
       "│ Time/Rollout                   │ 45.07914733886719       │\n",
       "│ Time/Update                    │ 13.204614639282227      │\n",
       "│ Time/Epoch                     │ 58.28376388549805       │\n",
       "│ Time/FPS                       │ 343.14874267578125      │\n",
       "│ Misc/Alpha                     │ 1.1816027164459229      │\n",
       "│ Misc/FinalStepNorm             │ 0.26430433988571167     │\n",
       "│ Misc/gradient_norm             │ 0.12470085918903351     │\n",
       "│ Misc/xHx                       │ 0.014324739575386047    │\n",
       "│ Misc/H_inv_g                   │ 0.22368289530277252     │\n",
       "│ Misc/AcceptanceStep            │ 1.0                     │\n",
       "│ Metrics/LagrangeMultiplier/Mea │ 0.38583362102508545     │\n",
       "│ Metrics/LagrangeMultiplier/Min │ 0.38583362102508545     │\n",
       "│ Metrics/LagrangeMultiplier/Max │ 0.38583362102508545     │\n",
       "│ Metrics/LagrangeMultiplier/Std │ 0.0                     │\n",
       "└────────────────────────────────┴─────────────────────────┘\n"
      ]
     },
     "metadata": {},
     "output_type": "display_data"
    },
    {
     "data": {
      "text/html": [
       "<pre style=\"white-space:pre;overflow-x:auto;line-height:normal;font-family:Menlo,'DejaVu Sans Mono',consolas,'Courier New',monospace\"><span style=\"color: #008000; text-decoration-color: #008000\">Warning: trajectory cut off when rollout by epoch at </span><span style=\"color: #008080; text-decoration-color: #008080; font-weight: bold\">1000.0</span><span style=\"color: #008000; text-decoration-color: #008000\"> steps.</span>\n",
       "</pre>\n"
      ],
      "text/plain": [
       "\u001b[32mWarning: trajectory cut off when rollout by epoch at \u001b[0m\u001b[1;36m1000.0\u001b[0m\u001b[32m steps.\u001b[0m\n"
      ]
     },
     "metadata": {},
     "output_type": "display_data"
    },
    {
     "data": {
      "text/html": [
       "<pre style=\"white-space:pre;overflow-x:auto;line-height:normal;font-family:Menlo,'DejaVu Sans Mono',consolas,'Courier New',monospace\"><span style=\"color: #008000; text-decoration-color: #008000\">Warning: trajectory cut off when rollout by epoch at </span><span style=\"color: #008080; text-decoration-color: #008080; font-weight: bold\">1000.0</span><span style=\"color: #008000; text-decoration-color: #008000\"> steps.</span>\n",
       "</pre>\n"
      ],
      "text/plain": [
       "\u001b[32mWarning: trajectory cut off when rollout by epoch at \u001b[0m\u001b[1;36m1000.0\u001b[0m\u001b[32m steps.\u001b[0m\n"
      ]
     },
     "metadata": {},
     "output_type": "display_data"
    },
    {
     "data": {
      "text/html": [
       "<pre style=\"white-space:pre;overflow-x:auto;line-height:normal;font-family:Menlo,'DejaVu Sans Mono',consolas,'Courier New',monospace\"><span style=\"color: #008000; text-decoration-color: #008000\">Warning: trajectory cut off when rollout by epoch at </span><span style=\"color: #008080; text-decoration-color: #008080; font-weight: bold\">1000.0</span><span style=\"color: #008000; text-decoration-color: #008000\"> steps.</span>\n",
       "</pre>\n"
      ],
      "text/plain": [
       "\u001b[32mWarning: trajectory cut off when rollout by epoch at \u001b[0m\u001b[1;36m1000.0\u001b[0m\u001b[32m steps.\u001b[0m\n"
      ]
     },
     "metadata": {},
     "output_type": "display_data"
    },
    {
     "data": {
      "text/html": [
       "<pre style=\"white-space:pre;overflow-x:auto;line-height:normal;font-family:Menlo,'DejaVu Sans Mono',consolas,'Courier New',monospace\"><span style=\"color: #008000; text-decoration-color: #008000\">Warning: trajectory cut off when rollout by epoch at </span><span style=\"color: #008080; text-decoration-color: #008080; font-weight: bold\">1000.0</span><span style=\"color: #008000; text-decoration-color: #008000\"> steps.</span>\n",
       "</pre>\n"
      ],
      "text/plain": [
       "\u001b[32mWarning: trajectory cut off when rollout by epoch at \u001b[0m\u001b[1;36m1000.0\u001b[0m\u001b[32m steps.\u001b[0m\n"
      ]
     },
     "metadata": {},
     "output_type": "display_data"
    },
    {
     "data": {
      "text/html": [
       "<pre style=\"white-space:pre;overflow-x:auto;line-height:normal;font-family:Menlo,'DejaVu Sans Mono',consolas,'Courier New',monospace\"></pre>\n"
      ],
      "text/plain": []
     },
     "metadata": {},
     "output_type": "display_data"
    },
    {
     "data": {
      "text/html": [
       "<pre style=\"white-space:pre;overflow-x:auto;line-height:normal;font-family:Menlo,'DejaVu Sans Mono',consolas,'Courier New',monospace\">\n",
       "</pre>\n"
      ],
      "text/plain": [
       "\n"
      ]
     },
     "metadata": {},
     "output_type": "display_data"
    },
    {
     "data": {
      "text/html": [
       "<pre style=\"white-space:pre;overflow-x:auto;line-height:normal;font-family:Menlo,'DejaVu Sans Mono',consolas,'Courier New',monospace\"><span style=\"color: #008000; text-decoration-color: #008000\">Expected Improvement: </span><span style=\"color: #008080; text-decoration-color: #008080; font-weight: bold\">0.01754007115960121</span><span style=\"color: #008000; text-decoration-color: #008000\"> Actual: </span><span style=\"color: #008080; text-decoration-color: #008080; font-weight: bold\">0.017145922407507896</span>\n",
       "</pre>\n"
      ],
      "text/plain": [
       "\u001b[32mExpected Improvement: \u001b[0m\u001b[1;36m0.01754007115960121\u001b[0m\u001b[32m Actual: \u001b[0m\u001b[1;36m0.017145922407507896\u001b[0m\n"
      ]
     },
     "metadata": {},
     "output_type": "display_data"
    },
    {
     "data": {
      "text/html": [
       "<pre style=\"white-space:pre;overflow-x:auto;line-height:normal;font-family:Menlo,'DejaVu Sans Mono',consolas,'Courier New',monospace\"><span style=\"color: #008000; text-decoration-color: #008000\">Accept step at </span><span style=\"color: #808000; text-decoration-color: #808000\">i</span><span style=\"color: #008000; text-decoration-color: #008000\">=</span><span style=\"color: #008080; text-decoration-color: #008080; font-weight: bold\">1</span>\n",
       "</pre>\n"
      ],
      "text/plain": [
       "\u001b[32mAccept step at \u001b[0m\u001b[33mi\u001b[0m\u001b[32m=\u001b[0m\u001b[1;36m1\u001b[0m\n"
      ]
     },
     "metadata": {},
     "output_type": "display_data"
    },
    {
     "data": {
      "text/html": [
       "<pre style=\"white-space:pre;overflow-x:auto;line-height:normal;font-family:Menlo,'DejaVu Sans Mono',consolas,'Courier New',monospace\">┏━━━━━━━━━━━━━━━━━━━━━━━━━━━━━━━━┳━━━━━━━━━━━━━━━━━━━━━━━━━┓\n",
       "┃<span style=\"font-weight: bold\"> Metrics                        </span>┃<span style=\"font-weight: bold\"> Value                   </span>┃\n",
       "┡━━━━━━━━━━━━━━━━━━━━━━━━━━━━━━━━╇━━━━━━━━━━━━━━━━━━━━━━━━━┩\n",
       "│ Metrics/EpRet                  │ 19.397096633911133      │\n",
       "│ Metrics/EpCost                 │ 56.2400016784668        │\n",
       "│ Metrics/EpLen                  │ 1000.0                  │\n",
       "│ Train/Epoch                    │ 12.0                    │\n",
       "│ Train/Entropy                  │ 1.2294284105300903      │\n",
       "│ Train/KL                       │ 0.00040012263343669474  │\n",
       "│ Train/StopIter                 │ 10.0                    │\n",
       "│ Train/PolicyRatio/Mean         │ 1.0003989934921265      │\n",
       "│ Train/PolicyRatio/Min          │ 1.0003989934921265      │\n",
       "│ Train/PolicyRatio/Max          │ 1.0003989934921265      │\n",
       "│ Train/PolicyRatio/Std          │ 0.00028204673435539007  │\n",
       "│ Train/LR                       │ 0.0                     │\n",
       "│ Train/PolicyStd                │ 0.8320832252502441      │\n",
       "│ TotalEnvSteps                  │ 260000.0                │\n",
       "│ Loss/Loss_pi                   │ -0.011430591344833374   │\n",
       "│ Loss/Loss_pi/Delta             │ -0.0003316374495625496  │\n",
       "│ Value/Adv                      │ -2.7465819840699623e-08 │\n",
       "│ Loss/Loss_reward_critic        │ 0.022964591160416603    │\n",
       "│ Loss/Loss_reward_critic/Delta  │ 0.0011008717119693756   │\n",
       "│ Value/reward                   │ 1.2239699363708496      │\n",
       "│ Loss/Loss_cost_critic          │ 1.2412890195846558      │\n",
       "│ Loss/Loss_cost_critic/Delta    │ -0.09081661701202393    │\n",
       "│ Value/cost                     │ 5.448607921600342       │\n",
       "│ Time/Total                     │ 736.3172607421875       │\n",
       "│ Time/Rollout                   │ 43.03087615966797       │\n",
       "│ Time/Update                    │ 14.260286331176758      │\n",
       "│ Time/Epoch                     │ 57.291160583496094      │\n",
       "│ Time/FPS                       │ 349.093994140625        │\n",
       "│ Misc/Alpha                     │ 1.1415859460830688      │\n",
       "│ Misc/FinalStepNorm             │ 0.24466601014137268     │\n",
       "│ Misc/gradient_norm             │ 0.15662772953510284     │\n",
       "│ Misc/xHx                       │ 0.015346609055995941    │\n",
       "│ Misc/H_inv_g                   │ 0.21432116627693176     │\n",
       "│ Misc/AcceptanceStep            │ 1.0                     │\n",
       "│ Metrics/LagrangeMultiplier/Mea │ 0.41548290848731995     │\n",
       "│ Metrics/LagrangeMultiplier/Min │ 0.41548290848731995     │\n",
       "│ Metrics/LagrangeMultiplier/Max │ 0.41548290848731995     │\n",
       "│ Metrics/LagrangeMultiplier/Std │ 0.0                     │\n",
       "└────────────────────────────────┴─────────────────────────┘\n",
       "</pre>\n"
      ],
      "text/plain": [
       "┏━━━━━━━━━━━━━━━━━━━━━━━━━━━━━━━━┳━━━━━━━━━━━━━━━━━━━━━━━━━┓\n",
       "┃\u001b[1m \u001b[0m\u001b[1mMetrics                       \u001b[0m\u001b[1m \u001b[0m┃\u001b[1m \u001b[0m\u001b[1mValue                  \u001b[0m\u001b[1m \u001b[0m┃\n",
       "┡━━━━━━━━━━━━━━━━━━━━━━━━━━━━━━━━╇━━━━━━━━━━━━━━━━━━━━━━━━━┩\n",
       "│ Metrics/EpRet                  │ 19.397096633911133      │\n",
       "│ Metrics/EpCost                 │ 56.2400016784668        │\n",
       "│ Metrics/EpLen                  │ 1000.0                  │\n",
       "│ Train/Epoch                    │ 12.0                    │\n",
       "│ Train/Entropy                  │ 1.2294284105300903      │\n",
       "│ Train/KL                       │ 0.00040012263343669474  │\n",
       "│ Train/StopIter                 │ 10.0                    │\n",
       "│ Train/PolicyRatio/Mean         │ 1.0003989934921265      │\n",
       "│ Train/PolicyRatio/Min          │ 1.0003989934921265      │\n",
       "│ Train/PolicyRatio/Max          │ 1.0003989934921265      │\n",
       "│ Train/PolicyRatio/Std          │ 0.00028204673435539007  │\n",
       "│ Train/LR                       │ 0.0                     │\n",
       "│ Train/PolicyStd                │ 0.8320832252502441      │\n",
       "│ TotalEnvSteps                  │ 260000.0                │\n",
       "│ Loss/Loss_pi                   │ -0.011430591344833374   │\n",
       "│ Loss/Loss_pi/Delta             │ -0.0003316374495625496  │\n",
       "│ Value/Adv                      │ -2.7465819840699623e-08 │\n",
       "│ Loss/Loss_reward_critic        │ 0.022964591160416603    │\n",
       "│ Loss/Loss_reward_critic/Delta  │ 0.0011008717119693756   │\n",
       "│ Value/reward                   │ 1.2239699363708496      │\n",
       "│ Loss/Loss_cost_critic          │ 1.2412890195846558      │\n",
       "│ Loss/Loss_cost_critic/Delta    │ -0.09081661701202393    │\n",
       "│ Value/cost                     │ 5.448607921600342       │\n",
       "│ Time/Total                     │ 736.3172607421875       │\n",
       "│ Time/Rollout                   │ 43.03087615966797       │\n",
       "│ Time/Update                    │ 14.260286331176758      │\n",
       "│ Time/Epoch                     │ 57.291160583496094      │\n",
       "│ Time/FPS                       │ 349.093994140625        │\n",
       "│ Misc/Alpha                     │ 1.1415859460830688      │\n",
       "│ Misc/FinalStepNorm             │ 0.24466601014137268     │\n",
       "│ Misc/gradient_norm             │ 0.15662772953510284     │\n",
       "│ Misc/xHx                       │ 0.015346609055995941    │\n",
       "│ Misc/H_inv_g                   │ 0.21432116627693176     │\n",
       "│ Misc/AcceptanceStep            │ 1.0                     │\n",
       "│ Metrics/LagrangeMultiplier/Mea │ 0.41548290848731995     │\n",
       "│ Metrics/LagrangeMultiplier/Min │ 0.41548290848731995     │\n",
       "│ Metrics/LagrangeMultiplier/Max │ 0.41548290848731995     │\n",
       "│ Metrics/LagrangeMultiplier/Std │ 0.0                     │\n",
       "└────────────────────────────────┴─────────────────────────┘\n"
      ]
     },
     "metadata": {},
     "output_type": "display_data"
    },
    {
     "data": {
      "text/html": [
       "<pre style=\"white-space:pre;overflow-x:auto;line-height:normal;font-family:Menlo,'DejaVu Sans Mono',consolas,'Courier New',monospace\"><span style=\"color: #008000; text-decoration-color: #008000\">Warning: trajectory cut off when rollout by epoch at </span><span style=\"color: #008080; text-decoration-color: #008080; font-weight: bold\">1000.0</span><span style=\"color: #008000; text-decoration-color: #008000\"> steps.</span>\n",
       "</pre>\n"
      ],
      "text/plain": [
       "\u001b[32mWarning: trajectory cut off when rollout by epoch at \u001b[0m\u001b[1;36m1000.0\u001b[0m\u001b[32m steps.\u001b[0m\n"
      ]
     },
     "metadata": {},
     "output_type": "display_data"
    },
    {
     "data": {
      "text/html": [
       "<pre style=\"white-space:pre;overflow-x:auto;line-height:normal;font-family:Menlo,'DejaVu Sans Mono',consolas,'Courier New',monospace\"><span style=\"color: #008000; text-decoration-color: #008000\">Warning: trajectory cut off when rollout by epoch at </span><span style=\"color: #008080; text-decoration-color: #008080; font-weight: bold\">1000.0</span><span style=\"color: #008000; text-decoration-color: #008000\"> steps.</span>\n",
       "</pre>\n"
      ],
      "text/plain": [
       "\u001b[32mWarning: trajectory cut off when rollout by epoch at \u001b[0m\u001b[1;36m1000.0\u001b[0m\u001b[32m steps.\u001b[0m\n"
      ]
     },
     "metadata": {},
     "output_type": "display_data"
    },
    {
     "data": {
      "text/html": [
       "<pre style=\"white-space:pre;overflow-x:auto;line-height:normal;font-family:Menlo,'DejaVu Sans Mono',consolas,'Courier New',monospace\"><span style=\"color: #008000; text-decoration-color: #008000\">Warning: trajectory cut off when rollout by epoch at </span><span style=\"color: #008080; text-decoration-color: #008080; font-weight: bold\">1000.0</span><span style=\"color: #008000; text-decoration-color: #008000\"> steps.</span>\n",
       "</pre>\n"
      ],
      "text/plain": [
       "\u001b[32mWarning: trajectory cut off when rollout by epoch at \u001b[0m\u001b[1;36m1000.0\u001b[0m\u001b[32m steps.\u001b[0m\n"
      ]
     },
     "metadata": {},
     "output_type": "display_data"
    },
    {
     "data": {
      "text/html": [
       "<pre style=\"white-space:pre;overflow-x:auto;line-height:normal;font-family:Menlo,'DejaVu Sans Mono',consolas,'Courier New',monospace\"><span style=\"color: #008000; text-decoration-color: #008000\">Warning: trajectory cut off when rollout by epoch at </span><span style=\"color: #008080; text-decoration-color: #008080; font-weight: bold\">1000.0</span><span style=\"color: #008000; text-decoration-color: #008000\"> steps.</span>\n",
       "</pre>\n"
      ],
      "text/plain": [
       "\u001b[32mWarning: trajectory cut off when rollout by epoch at \u001b[0m\u001b[1;36m1000.0\u001b[0m\u001b[32m steps.\u001b[0m\n"
      ]
     },
     "metadata": {},
     "output_type": "display_data"
    },
    {
     "data": {
      "text/html": [
       "<pre style=\"white-space:pre;overflow-x:auto;line-height:normal;font-family:Menlo,'DejaVu Sans Mono',consolas,'Courier New',monospace\"></pre>\n"
      ],
      "text/plain": []
     },
     "metadata": {},
     "output_type": "display_data"
    },
    {
     "data": {
      "text/html": [
       "<pre style=\"white-space:pre;overflow-x:auto;line-height:normal;font-family:Menlo,'DejaVu Sans Mono',consolas,'Courier New',monospace\">\n",
       "</pre>\n"
      ],
      "text/plain": [
       "\n"
      ]
     },
     "metadata": {},
     "output_type": "display_data"
    },
    {
     "data": {
      "text/html": [
       "<pre style=\"white-space:pre;overflow-x:auto;line-height:normal;font-family:Menlo,'DejaVu Sans Mono',consolas,'Courier New',monospace\"><span style=\"color: #008000; text-decoration-color: #008000\">Expected Improvement: </span><span style=\"color: #008080; text-decoration-color: #008080; font-weight: bold\">0.017151275649666786</span><span style=\"color: #008000; text-decoration-color: #008000\"> Actual: </span><span style=\"color: #008080; text-decoration-color: #008080; font-weight: bold\">0.01661701127886772</span>\n",
       "</pre>\n"
      ],
      "text/plain": [
       "\u001b[32mExpected Improvement: \u001b[0m\u001b[1;36m0.017151275649666786\u001b[0m\u001b[32m Actual: \u001b[0m\u001b[1;36m0.01661701127886772\u001b[0m\n"
      ]
     },
     "metadata": {},
     "output_type": "display_data"
    },
    {
     "data": {
      "text/html": [
       "<pre style=\"white-space:pre;overflow-x:auto;line-height:normal;font-family:Menlo,'DejaVu Sans Mono',consolas,'Courier New',monospace\"><span style=\"color: #008000; text-decoration-color: #008000\">Accept step at </span><span style=\"color: #808000; text-decoration-color: #808000\">i</span><span style=\"color: #008000; text-decoration-color: #008000\">=</span><span style=\"color: #008080; text-decoration-color: #008080; font-weight: bold\">1</span>\n",
       "</pre>\n"
      ],
      "text/plain": [
       "\u001b[32mAccept step at \u001b[0m\u001b[33mi\u001b[0m\u001b[32m=\u001b[0m\u001b[1;36m1\u001b[0m\n"
      ]
     },
     "metadata": {},
     "output_type": "display_data"
    },
    {
     "data": {
      "text/html": [
       "<pre style=\"white-space:pre;overflow-x:auto;line-height:normal;font-family:Menlo,'DejaVu Sans Mono',consolas,'Courier New',monospace\">┏━━━━━━━━━━━━━━━━━━━━━━━━━━━━━━━━┳━━━━━━━━━━━━━━━━━━━━━━━━━┓\n",
       "┃<span style=\"font-weight: bold\"> Metrics                        </span>┃<span style=\"font-weight: bold\"> Value                   </span>┃\n",
       "┡━━━━━━━━━━━━━━━━━━━━━━━━━━━━━━━━╇━━━━━━━━━━━━━━━━━━━━━━━━━┩\n",
       "│ Metrics/EpRet                  │ 20.196243286132812      │\n",
       "│ Metrics/EpCost                 │ 52.2400016784668        │\n",
       "│ Metrics/EpLen                  │ 1000.0                  │\n",
       "│ Train/Epoch                    │ 13.0                    │\n",
       "│ Train/Entropy                  │ 1.2064112424850464      │\n",
       "│ Train/KL                       │ 0.0003720012027770281   │\n",
       "│ Train/StopIter                 │ 10.0                    │\n",
       "│ Train/PolicyRatio/Mean         │ 0.9990978837013245      │\n",
       "│ Train/PolicyRatio/Min          │ 0.9990979433059692      │\n",
       "│ Train/PolicyRatio/Max          │ 0.9990979433059692      │\n",
       "│ Train/PolicyRatio/Std          │ 0.000637878489214927    │\n",
       "│ Train/LR                       │ 0.0                     │\n",
       "│ Train/PolicyStd                │ 0.8134951591491699      │\n",
       "│ TotalEnvSteps                  │ 280000.0                │\n",
       "│ Loss/Loss_pi                   │ -0.011078004725277424   │\n",
       "│ Loss/Loss_pi/Delta             │ 0.00035258661955595016  │\n",
       "│ Value/Adv                      │ -1.3351439953623867e-08 │\n",
       "│ Loss/Loss_reward_critic        │ 0.021620703861117363    │\n",
       "│ Loss/Loss_reward_critic/Delta  │ -0.0013438872992992401  │\n",
       "│ Value/reward                   │ 1.3684250116348267      │\n",
       "│ Loss/Loss_cost_critic          │ 1.1354519128799438      │\n",
       "│ Loss/Loss_cost_critic/Delta    │ -0.10583710670471191    │\n",
       "│ Value/cost                     │ 5.532819747924805       │\n",
       "│ Time/Total                     │ 792.1701049804688       │\n",
       "│ Time/Rollout                   │ 41.53792190551758       │\n",
       "│ Time/Update                    │ 14.278096199035645      │\n",
       "│ Time/Epoch                     │ 55.81602096557617       │\n",
       "│ Time/FPS                       │ 358.320068359375        │\n",
       "│ Misc/Alpha                     │ 1.167425513267517       │\n",
       "│ Misc/FinalStepNorm             │ 0.2699948251247406      │\n",
       "│ Misc/gradient_norm             │ 0.11143779009580612     │\n",
       "│ Misc/xHx                       │ 0.014674769714474678    │\n",
       "│ Misc/H_inv_g                   │ 0.23127371072769165     │\n",
       "│ Misc/AcceptanceStep            │ 1.0                     │\n",
       "│ Metrics/LagrangeMultiplier/Mea │ 0.4446648359298706      │\n",
       "│ Metrics/LagrangeMultiplier/Min │ 0.4446648359298706      │\n",
       "│ Metrics/LagrangeMultiplier/Max │ 0.4446648359298706      │\n",
       "│ Metrics/LagrangeMultiplier/Std │ 0.0                     │\n",
       "└────────────────────────────────┴─────────────────────────┘\n",
       "</pre>\n"
      ],
      "text/plain": [
       "┏━━━━━━━━━━━━━━━━━━━━━━━━━━━━━━━━┳━━━━━━━━━━━━━━━━━━━━━━━━━┓\n",
       "┃\u001b[1m \u001b[0m\u001b[1mMetrics                       \u001b[0m\u001b[1m \u001b[0m┃\u001b[1m \u001b[0m\u001b[1mValue                  \u001b[0m\u001b[1m \u001b[0m┃\n",
       "┡━━━━━━━━━━━━━━━━━━━━━━━━━━━━━━━━╇━━━━━━━━━━━━━━━━━━━━━━━━━┩\n",
       "│ Metrics/EpRet                  │ 20.196243286132812      │\n",
       "│ Metrics/EpCost                 │ 52.2400016784668        │\n",
       "│ Metrics/EpLen                  │ 1000.0                  │\n",
       "│ Train/Epoch                    │ 13.0                    │\n",
       "│ Train/Entropy                  │ 1.2064112424850464      │\n",
       "│ Train/KL                       │ 0.0003720012027770281   │\n",
       "│ Train/StopIter                 │ 10.0                    │\n",
       "│ Train/PolicyRatio/Mean         │ 0.9990978837013245      │\n",
       "│ Train/PolicyRatio/Min          │ 0.9990979433059692      │\n",
       "│ Train/PolicyRatio/Max          │ 0.9990979433059692      │\n",
       "│ Train/PolicyRatio/Std          │ 0.000637878489214927    │\n",
       "│ Train/LR                       │ 0.0                     │\n",
       "│ Train/PolicyStd                │ 0.8134951591491699      │\n",
       "│ TotalEnvSteps                  │ 280000.0                │\n",
       "│ Loss/Loss_pi                   │ -0.011078004725277424   │\n",
       "│ Loss/Loss_pi/Delta             │ 0.00035258661955595016  │\n",
       "│ Value/Adv                      │ -1.3351439953623867e-08 │\n",
       "│ Loss/Loss_reward_critic        │ 0.021620703861117363    │\n",
       "│ Loss/Loss_reward_critic/Delta  │ -0.0013438872992992401  │\n",
       "│ Value/reward                   │ 1.3684250116348267      │\n",
       "│ Loss/Loss_cost_critic          │ 1.1354519128799438      │\n",
       "│ Loss/Loss_cost_critic/Delta    │ -0.10583710670471191    │\n",
       "│ Value/cost                     │ 5.532819747924805       │\n",
       "│ Time/Total                     │ 792.1701049804688       │\n",
       "│ Time/Rollout                   │ 41.53792190551758       │\n",
       "│ Time/Update                    │ 14.278096199035645      │\n",
       "│ Time/Epoch                     │ 55.81602096557617       │\n",
       "│ Time/FPS                       │ 358.320068359375        │\n",
       "│ Misc/Alpha                     │ 1.167425513267517       │\n",
       "│ Misc/FinalStepNorm             │ 0.2699948251247406      │\n",
       "│ Misc/gradient_norm             │ 0.11143779009580612     │\n",
       "│ Misc/xHx                       │ 0.014674769714474678    │\n",
       "│ Misc/H_inv_g                   │ 0.23127371072769165     │\n",
       "│ Misc/AcceptanceStep            │ 1.0                     │\n",
       "│ Metrics/LagrangeMultiplier/Mea │ 0.4446648359298706      │\n",
       "│ Metrics/LagrangeMultiplier/Min │ 0.4446648359298706      │\n",
       "│ Metrics/LagrangeMultiplier/Max │ 0.4446648359298706      │\n",
       "│ Metrics/LagrangeMultiplier/Std │ 0.0                     │\n",
       "└────────────────────────────────┴─────────────────────────┘\n"
      ]
     },
     "metadata": {},
     "output_type": "display_data"
    },
    {
     "data": {
      "text/html": [
       "<pre style=\"white-space:pre;overflow-x:auto;line-height:normal;font-family:Menlo,'DejaVu Sans Mono',consolas,'Courier New',monospace\"><span style=\"color: #008000; text-decoration-color: #008000\">Warning: trajectory cut off when rollout by epoch at </span><span style=\"color: #008080; text-decoration-color: #008080; font-weight: bold\">1000.0</span><span style=\"color: #008000; text-decoration-color: #008000\"> steps.</span>\n",
       "</pre>\n"
      ],
      "text/plain": [
       "\u001b[32mWarning: trajectory cut off when rollout by epoch at \u001b[0m\u001b[1;36m1000.0\u001b[0m\u001b[32m steps.\u001b[0m\n"
      ]
     },
     "metadata": {},
     "output_type": "display_data"
    },
    {
     "data": {
      "text/html": [
       "<pre style=\"white-space:pre;overflow-x:auto;line-height:normal;font-family:Menlo,'DejaVu Sans Mono',consolas,'Courier New',monospace\"><span style=\"color: #008000; text-decoration-color: #008000\">Warning: trajectory cut off when rollout by epoch at </span><span style=\"color: #008080; text-decoration-color: #008080; font-weight: bold\">1000.0</span><span style=\"color: #008000; text-decoration-color: #008000\"> steps.</span>\n",
       "</pre>\n"
      ],
      "text/plain": [
       "\u001b[32mWarning: trajectory cut off when rollout by epoch at \u001b[0m\u001b[1;36m1000.0\u001b[0m\u001b[32m steps.\u001b[0m\n"
      ]
     },
     "metadata": {},
     "output_type": "display_data"
    },
    {
     "data": {
      "text/html": [
       "<pre style=\"white-space:pre;overflow-x:auto;line-height:normal;font-family:Menlo,'DejaVu Sans Mono',consolas,'Courier New',monospace\"><span style=\"color: #008000; text-decoration-color: #008000\">Warning: trajectory cut off when rollout by epoch at </span><span style=\"color: #008080; text-decoration-color: #008080; font-weight: bold\">1000.0</span><span style=\"color: #008000; text-decoration-color: #008000\"> steps.</span>\n",
       "</pre>\n"
      ],
      "text/plain": [
       "\u001b[32mWarning: trajectory cut off when rollout by epoch at \u001b[0m\u001b[1;36m1000.0\u001b[0m\u001b[32m steps.\u001b[0m\n"
      ]
     },
     "metadata": {},
     "output_type": "display_data"
    },
    {
     "data": {
      "text/html": [
       "<pre style=\"white-space:pre;overflow-x:auto;line-height:normal;font-family:Menlo,'DejaVu Sans Mono',consolas,'Courier New',monospace\"><span style=\"color: #008000; text-decoration-color: #008000\">Warning: trajectory cut off when rollout by epoch at </span><span style=\"color: #008080; text-decoration-color: #008080; font-weight: bold\">1000.0</span><span style=\"color: #008000; text-decoration-color: #008000\"> steps.</span>\n",
       "</pre>\n"
      ],
      "text/plain": [
       "\u001b[32mWarning: trajectory cut off when rollout by epoch at \u001b[0m\u001b[1;36m1000.0\u001b[0m\u001b[32m steps.\u001b[0m\n"
      ]
     },
     "metadata": {},
     "output_type": "display_data"
    },
    {
     "data": {
      "text/html": [
       "<pre style=\"white-space:pre;overflow-x:auto;line-height:normal;font-family:Menlo,'DejaVu Sans Mono',consolas,'Courier New',monospace\"></pre>\n"
      ],
      "text/plain": []
     },
     "metadata": {},
     "output_type": "display_data"
    },
    {
     "data": {
      "text/html": [
       "<pre style=\"white-space:pre;overflow-x:auto;line-height:normal;font-family:Menlo,'DejaVu Sans Mono',consolas,'Courier New',monospace\">\n",
       "</pre>\n"
      ],
      "text/plain": [
       "\n"
      ]
     },
     "metadata": {},
     "output_type": "display_data"
    },
    {
     "data": {
      "text/html": [
       "<pre style=\"white-space:pre;overflow-x:auto;line-height:normal;font-family:Menlo,'DejaVu Sans Mono',consolas,'Courier New',monospace\"><span style=\"color: #008000; text-decoration-color: #008000\">Expected Improvement: </span><span style=\"color: #008080; text-decoration-color: #008080; font-weight: bold\">0.016432708129286766</span><span style=\"color: #008000; text-decoration-color: #008000\"> Actual: </span><span style=\"color: #008080; text-decoration-color: #008080; font-weight: bold\">0.015947580337524414</span>\n",
       "</pre>\n"
      ],
      "text/plain": [
       "\u001b[32mExpected Improvement: \u001b[0m\u001b[1;36m0.016432708129286766\u001b[0m\u001b[32m Actual: \u001b[0m\u001b[1;36m0.015947580337524414\u001b[0m\n"
      ]
     },
     "metadata": {},
     "output_type": "display_data"
    },
    {
     "data": {
      "text/html": [
       "<pre style=\"white-space:pre;overflow-x:auto;line-height:normal;font-family:Menlo,'DejaVu Sans Mono',consolas,'Courier New',monospace\"><span style=\"color: #008000; text-decoration-color: #008000\">Accept step at </span><span style=\"color: #808000; text-decoration-color: #808000\">i</span><span style=\"color: #008000; text-decoration-color: #008000\">=</span><span style=\"color: #008080; text-decoration-color: #008080; font-weight: bold\">1</span>\n",
       "</pre>\n"
      ],
      "text/plain": [
       "\u001b[32mAccept step at \u001b[0m\u001b[33mi\u001b[0m\u001b[32m=\u001b[0m\u001b[1;36m1\u001b[0m\n"
      ]
     },
     "metadata": {},
     "output_type": "display_data"
    },
    {
     "data": {
      "text/html": [
       "<pre style=\"white-space:pre;overflow-x:auto;line-height:normal;font-family:Menlo,'DejaVu Sans Mono',consolas,'Courier New',monospace\">┏━━━━━━━━━━━━━━━━━━━━━━━━━━━━━━━━┳━━━━━━━━━━━━━━━━━━━━━━━━┓\n",
       "┃<span style=\"font-weight: bold\"> Metrics                        </span>┃<span style=\"font-weight: bold\"> Value                  </span>┃\n",
       "┡━━━━━━━━━━━━━━━━━━━━━━━━━━━━━━━━╇━━━━━━━━━━━━━━━━━━━━━━━━┩\n",
       "│ Metrics/EpRet                  │ 21.34253692626953      │\n",
       "│ Metrics/EpCost                 │ 47.619998931884766     │\n",
       "│ Metrics/EpLen                  │ 1000.0                 │\n",
       "│ Train/Epoch                    │ 14.0                   │\n",
       "│ Train/Entropy                  │ 1.1771584749221802     │\n",
       "│ Train/KL                       │ 0.00031142233638092875 │\n",
       "│ Train/StopIter                 │ 10.0                   │\n",
       "│ Train/PolicyRatio/Mean         │ 0.9985518455505371     │\n",
       "│ Train/PolicyRatio/Min          │ 0.9985518455505371     │\n",
       "│ Train/PolicyRatio/Max          │ 0.9985518455505371     │\n",
       "│ Train/PolicyRatio/Std          │ 0.001024027937091887   │\n",
       "│ Train/LR                       │ 0.0                    │\n",
       "│ Train/PolicyStd                │ 0.7908883094787598     │\n",
       "│ TotalEnvSteps                  │ 300000.0               │\n",
       "│ Loss/Loss_pi                   │ -0.010631677694618702  │\n",
       "│ Loss/Loss_pi/Delta             │ 0.0004463270306587219  │\n",
       "│ Value/Adv                      │ -7.324218387338988e-08 │\n",
       "│ Loss/Loss_reward_critic        │ 0.021588051691651344   │\n",
       "│ Loss/Loss_reward_critic/Delta  │ -3.265216946601868e-05 │\n",
       "│ Value/reward                   │ 1.4899030923843384     │\n",
       "│ Loss/Loss_cost_critic          │ 1.1893882751464844     │\n",
       "│ Loss/Loss_cost_critic/Delta    │ 0.05393636226654053    │\n",
       "│ Value/cost                     │ 5.581109046936035      │\n",
       "│ Time/Total                     │ 847.3536376953125      │\n",
       "│ Time/Rollout                   │ 41.94184112548828      │\n",
       "│ Time/Update                    │ 13.196545600891113     │\n",
       "│ Time/Epoch                     │ 55.13838577270508      │\n",
       "│ Time/FPS                       │ 362.7237243652344      │\n",
       "│ Misc/Alpha                     │ 1.2185430526733398     │\n",
       "│ Misc/FinalStepNorm             │ 0.30319297313690186    │\n",
       "│ Misc/gradient_norm             │ 0.09006760269403458    │\n",
       "│ Misc/xHx                       │ 0.013469388708472252   │\n",
       "│ Misc/H_inv_g                   │ 0.24881596863269806    │\n",
       "│ Misc/AcceptanceStep            │ 1.0                    │\n",
       "│ Metrics/LagrangeMultiplier/Mea │ 0.4731139540672302     │\n",
       "│ Metrics/LagrangeMultiplier/Min │ 0.4731139540672302     │\n",
       "│ Metrics/LagrangeMultiplier/Max │ 0.4731139540672302     │\n",
       "│ Metrics/LagrangeMultiplier/Std │ 0.0                    │\n",
       "└────────────────────────────────┴────────────────────────┘\n",
       "</pre>\n"
      ],
      "text/plain": [
       "┏━━━━━━━━━━━━━━━━━━━━━━━━━━━━━━━━┳━━━━━━━━━━━━━━━━━━━━━━━━┓\n",
       "┃\u001b[1m \u001b[0m\u001b[1mMetrics                       \u001b[0m\u001b[1m \u001b[0m┃\u001b[1m \u001b[0m\u001b[1mValue                 \u001b[0m\u001b[1m \u001b[0m┃\n",
       "┡━━━━━━━━━━━━━━━━━━━━━━━━━━━━━━━━╇━━━━━━━━━━━━━━━━━━━━━━━━┩\n",
       "│ Metrics/EpRet                  │ 21.34253692626953      │\n",
       "│ Metrics/EpCost                 │ 47.619998931884766     │\n",
       "│ Metrics/EpLen                  │ 1000.0                 │\n",
       "│ Train/Epoch                    │ 14.0                   │\n",
       "│ Train/Entropy                  │ 1.1771584749221802     │\n",
       "│ Train/KL                       │ 0.00031142233638092875 │\n",
       "│ Train/StopIter                 │ 10.0                   │\n",
       "│ Train/PolicyRatio/Mean         │ 0.9985518455505371     │\n",
       "│ Train/PolicyRatio/Min          │ 0.9985518455505371     │\n",
       "│ Train/PolicyRatio/Max          │ 0.9985518455505371     │\n",
       "│ Train/PolicyRatio/Std          │ 0.001024027937091887   │\n",
       "│ Train/LR                       │ 0.0                    │\n",
       "│ Train/PolicyStd                │ 0.7908883094787598     │\n",
       "│ TotalEnvSteps                  │ 300000.0               │\n",
       "│ Loss/Loss_pi                   │ -0.010631677694618702  │\n",
       "│ Loss/Loss_pi/Delta             │ 0.0004463270306587219  │\n",
       "│ Value/Adv                      │ -7.324218387338988e-08 │\n",
       "│ Loss/Loss_reward_critic        │ 0.021588051691651344   │\n",
       "│ Loss/Loss_reward_critic/Delta  │ -3.265216946601868e-05 │\n",
       "│ Value/reward                   │ 1.4899030923843384     │\n",
       "│ Loss/Loss_cost_critic          │ 1.1893882751464844     │\n",
       "│ Loss/Loss_cost_critic/Delta    │ 0.05393636226654053    │\n",
       "│ Value/cost                     │ 5.581109046936035      │\n",
       "│ Time/Total                     │ 847.3536376953125      │\n",
       "│ Time/Rollout                   │ 41.94184112548828      │\n",
       "│ Time/Update                    │ 13.196545600891113     │\n",
       "│ Time/Epoch                     │ 55.13838577270508      │\n",
       "│ Time/FPS                       │ 362.7237243652344      │\n",
       "│ Misc/Alpha                     │ 1.2185430526733398     │\n",
       "│ Misc/FinalStepNorm             │ 0.30319297313690186    │\n",
       "│ Misc/gradient_norm             │ 0.09006760269403458    │\n",
       "│ Misc/xHx                       │ 0.013469388708472252   │\n",
       "│ Misc/H_inv_g                   │ 0.24881596863269806    │\n",
       "│ Misc/AcceptanceStep            │ 1.0                    │\n",
       "│ Metrics/LagrangeMultiplier/Mea │ 0.4731139540672302     │\n",
       "│ Metrics/LagrangeMultiplier/Min │ 0.4731139540672302     │\n",
       "│ Metrics/LagrangeMultiplier/Max │ 0.4731139540672302     │\n",
       "│ Metrics/LagrangeMultiplier/Std │ 0.0                    │\n",
       "└────────────────────────────────┴────────────────────────┘\n"
      ]
     },
     "metadata": {},
     "output_type": "display_data"
    },
    {
     "data": {
      "text/html": [
       "<pre style=\"white-space:pre;overflow-x:auto;line-height:normal;font-family:Menlo,'DejaVu Sans Mono',consolas,'Courier New',monospace\"><span style=\"color: #008000; text-decoration-color: #008000\">Warning: trajectory cut off when rollout by epoch at </span><span style=\"color: #008080; text-decoration-color: #008080; font-weight: bold\">1000.0</span><span style=\"color: #008000; text-decoration-color: #008000\"> steps.</span>\n",
       "</pre>\n"
      ],
      "text/plain": [
       "\u001b[32mWarning: trajectory cut off when rollout by epoch at \u001b[0m\u001b[1;36m1000.0\u001b[0m\u001b[32m steps.\u001b[0m\n"
      ]
     },
     "metadata": {},
     "output_type": "display_data"
    },
    {
     "data": {
      "text/html": [
       "<pre style=\"white-space:pre;overflow-x:auto;line-height:normal;font-family:Menlo,'DejaVu Sans Mono',consolas,'Courier New',monospace\"><span style=\"color: #008000; text-decoration-color: #008000\">Warning: trajectory cut off when rollout by epoch at </span><span style=\"color: #008080; text-decoration-color: #008080; font-weight: bold\">1000.0</span><span style=\"color: #008000; text-decoration-color: #008000\"> steps.</span>\n",
       "</pre>\n"
      ],
      "text/plain": [
       "\u001b[32mWarning: trajectory cut off when rollout by epoch at \u001b[0m\u001b[1;36m1000.0\u001b[0m\u001b[32m steps.\u001b[0m\n"
      ]
     },
     "metadata": {},
     "output_type": "display_data"
    },
    {
     "data": {
      "text/html": [
       "<pre style=\"white-space:pre;overflow-x:auto;line-height:normal;font-family:Menlo,'DejaVu Sans Mono',consolas,'Courier New',monospace\"><span style=\"color: #008000; text-decoration-color: #008000\">Warning: trajectory cut off when rollout by epoch at </span><span style=\"color: #008080; text-decoration-color: #008080; font-weight: bold\">1000.0</span><span style=\"color: #008000; text-decoration-color: #008000\"> steps.</span>\n",
       "</pre>\n"
      ],
      "text/plain": [
       "\u001b[32mWarning: trajectory cut off when rollout by epoch at \u001b[0m\u001b[1;36m1000.0\u001b[0m\u001b[32m steps.\u001b[0m\n"
      ]
     },
     "metadata": {},
     "output_type": "display_data"
    },
    {
     "data": {
      "text/html": [
       "<pre style=\"white-space:pre;overflow-x:auto;line-height:normal;font-family:Menlo,'DejaVu Sans Mono',consolas,'Courier New',monospace\"><span style=\"color: #008000; text-decoration-color: #008000\">Warning: trajectory cut off when rollout by epoch at </span><span style=\"color: #008080; text-decoration-color: #008080; font-weight: bold\">1000.0</span><span style=\"color: #008000; text-decoration-color: #008000\"> steps.</span>\n",
       "</pre>\n"
      ],
      "text/plain": [
       "\u001b[32mWarning: trajectory cut off when rollout by epoch at \u001b[0m\u001b[1;36m1000.0\u001b[0m\u001b[32m steps.\u001b[0m\n"
      ]
     },
     "metadata": {},
     "output_type": "display_data"
    },
    {
     "data": {
      "text/html": [
       "<pre style=\"white-space:pre;overflow-x:auto;line-height:normal;font-family:Menlo,'DejaVu Sans Mono',consolas,'Courier New',monospace\"></pre>\n"
      ],
      "text/plain": []
     },
     "metadata": {},
     "output_type": "display_data"
    },
    {
     "data": {
      "text/html": [
       "<pre style=\"white-space:pre;overflow-x:auto;line-height:normal;font-family:Menlo,'DejaVu Sans Mono',consolas,'Courier New',monospace\">\n",
       "</pre>\n"
      ],
      "text/plain": [
       "\n"
      ]
     },
     "metadata": {},
     "output_type": "display_data"
    },
    {
     "data": {
      "text/html": [
       "<pre style=\"white-space:pre;overflow-x:auto;line-height:normal;font-family:Menlo,'DejaVu Sans Mono',consolas,'Courier New',monospace\"><span style=\"color: #008000; text-decoration-color: #008000\">Expected Improvement: </span><span style=\"color: #008080; text-decoration-color: #008080; font-weight: bold\">0.015518469735980034</span><span style=\"color: #008000; text-decoration-color: #008000\"> Actual: </span><span style=\"color: #008080; text-decoration-color: #008080; font-weight: bold\">0.015183798968791962</span>\n",
       "</pre>\n"
      ],
      "text/plain": [
       "\u001b[32mExpected Improvement: \u001b[0m\u001b[1;36m0.015518469735980034\u001b[0m\u001b[32m Actual: \u001b[0m\u001b[1;36m0.015183798968791962\u001b[0m\n"
      ]
     },
     "metadata": {},
     "output_type": "display_data"
    },
    {
     "data": {
      "text/html": [
       "<pre style=\"white-space:pre;overflow-x:auto;line-height:normal;font-family:Menlo,'DejaVu Sans Mono',consolas,'Courier New',monospace\"><span style=\"color: #008000; text-decoration-color: #008000\">Accept step at </span><span style=\"color: #808000; text-decoration-color: #808000\">i</span><span style=\"color: #008000; text-decoration-color: #008000\">=</span><span style=\"color: #008080; text-decoration-color: #008080; font-weight: bold\">1</span>\n",
       "</pre>\n"
      ],
      "text/plain": [
       "\u001b[32mAccept step at \u001b[0m\u001b[33mi\u001b[0m\u001b[32m=\u001b[0m\u001b[1;36m1\u001b[0m\n"
      ]
     },
     "metadata": {},
     "output_type": "display_data"
    },
    {
     "data": {
      "text/html": [
       "<pre style=\"white-space:pre;overflow-x:auto;line-height:normal;font-family:Menlo,'DejaVu Sans Mono',consolas,'Courier New',monospace\">┏━━━━━━━━━━━━━━━━━━━━━━━━━━━━━━━━┳━━━━━━━━━━━━━━━━━━━━━━━━┓\n",
       "┃<span style=\"font-weight: bold\"> Metrics                        </span>┃<span style=\"font-weight: bold\"> Value                  </span>┃\n",
       "┡━━━━━━━━━━━━━━━━━━━━━━━━━━━━━━━━╇━━━━━━━━━━━━━━━━━━━━━━━━┩\n",
       "│ Metrics/EpRet                  │ 21.523252487182617     │\n",
       "│ Metrics/EpCost                 │ 46.439998626708984     │\n",
       "│ Metrics/EpLen                  │ 1000.0                 │\n",
       "│ Train/Epoch                    │ 15.0                   │\n",
       "│ Train/Entropy                  │ 1.1568623781204224     │\n",
       "│ Train/KL                       │ 0.0003209533169865608  │\n",
       "│ Train/StopIter                 │ 10.0                   │\n",
       "│ Train/PolicyRatio/Mean         │ 1.00027334690094       │\n",
       "│ Train/PolicyRatio/Min          │ 1.0002734661102295     │\n",
       "│ Train/PolicyRatio/Max          │ 1.0002734661102295     │\n",
       "│ Train/PolicyRatio/Std          │ 0.00019325735047459602 │\n",
       "│ Train/LR                       │ 0.0                    │\n",
       "│ Train/PolicyStd                │ 0.775944709777832      │\n",
       "│ TotalEnvSteps                  │ 320000.0               │\n",
       "│ Loss/Loss_pi                   │ -0.010122531093657017  │\n",
       "│ Loss/Loss_pi/Delta             │ 0.0005091466009616852  │\n",
       "│ Value/Adv                      │ -3.051757735406113e-09 │\n",
       "│ Loss/Loss_reward_critic        │ 0.020146269351243973   │\n",
       "│ Loss/Loss_reward_critic/Delta  │ -0.0014417823404073715 │\n",
       "│ Value/reward                   │ 1.6163302659988403     │\n",
       "│ Loss/Loss_cost_critic          │ 1.1545270681381226     │\n",
       "│ Loss/Loss_cost_critic/Delta    │ -0.034861207008361816  │\n",
       "│ Value/cost                     │ 5.930196762084961      │\n",
       "│ Time/Total                     │ 904.3595581054688      │\n",
       "│ Time/Rollout                   │ 43.39607238769531      │\n",
       "│ Time/Update                    │ 13.57082748413086      │\n",
       "│ Time/Epoch                     │ 56.96690368652344      │\n",
       "│ Time/FPS                       │ 351.0810546875         │\n",
       "│ Misc/Alpha                     │ 1.2902321815490723     │\n",
       "│ Misc/FinalStepNorm             │ 0.28993481397628784    │\n",
       "│ Misc/gradient_norm             │ 0.11176204681396484    │\n",
       "│ Misc/xHx                       │ 0.012014172971248627   │\n",
       "│ Misc/H_inv_g                   │ 0.2247152477502823     │\n",
       "│ Misc/AcceptanceStep            │ 1.0                    │\n",
       "│ Metrics/LagrangeMultiplier/Mea │ 0.5008473992347717     │\n",
       "│ Metrics/LagrangeMultiplier/Min │ 0.5008473992347717     │\n",
       "│ Metrics/LagrangeMultiplier/Max │ 0.5008473992347717     │\n",
       "│ Metrics/LagrangeMultiplier/Std │ 0.0                    │\n",
       "└────────────────────────────────┴────────────────────────┘\n",
       "</pre>\n"
      ],
      "text/plain": [
       "┏━━━━━━━━━━━━━━━━━━━━━━━━━━━━━━━━┳━━━━━━━━━━━━━━━━━━━━━━━━┓\n",
       "┃\u001b[1m \u001b[0m\u001b[1mMetrics                       \u001b[0m\u001b[1m \u001b[0m┃\u001b[1m \u001b[0m\u001b[1mValue                 \u001b[0m\u001b[1m \u001b[0m┃\n",
       "┡━━━━━━━━━━━━━━━━━━━━━━━━━━━━━━━━╇━━━━━━━━━━━━━━━━━━━━━━━━┩\n",
       "│ Metrics/EpRet                  │ 21.523252487182617     │\n",
       "│ Metrics/EpCost                 │ 46.439998626708984     │\n",
       "│ Metrics/EpLen                  │ 1000.0                 │\n",
       "│ Train/Epoch                    │ 15.0                   │\n",
       "│ Train/Entropy                  │ 1.1568623781204224     │\n",
       "│ Train/KL                       │ 0.0003209533169865608  │\n",
       "│ Train/StopIter                 │ 10.0                   │\n",
       "│ Train/PolicyRatio/Mean         │ 1.00027334690094       │\n",
       "│ Train/PolicyRatio/Min          │ 1.0002734661102295     │\n",
       "│ Train/PolicyRatio/Max          │ 1.0002734661102295     │\n",
       "│ Train/PolicyRatio/Std          │ 0.00019325735047459602 │\n",
       "│ Train/LR                       │ 0.0                    │\n",
       "│ Train/PolicyStd                │ 0.775944709777832      │\n",
       "│ TotalEnvSteps                  │ 320000.0               │\n",
       "│ Loss/Loss_pi                   │ -0.010122531093657017  │\n",
       "│ Loss/Loss_pi/Delta             │ 0.0005091466009616852  │\n",
       "│ Value/Adv                      │ -3.051757735406113e-09 │\n",
       "│ Loss/Loss_reward_critic        │ 0.020146269351243973   │\n",
       "│ Loss/Loss_reward_critic/Delta  │ -0.0014417823404073715 │\n",
       "│ Value/reward                   │ 1.6163302659988403     │\n",
       "│ Loss/Loss_cost_critic          │ 1.1545270681381226     │\n",
       "│ Loss/Loss_cost_critic/Delta    │ -0.034861207008361816  │\n",
       "│ Value/cost                     │ 5.930196762084961      │\n",
       "│ Time/Total                     │ 904.3595581054688      │\n",
       "│ Time/Rollout                   │ 43.39607238769531      │\n",
       "│ Time/Update                    │ 13.57082748413086      │\n",
       "│ Time/Epoch                     │ 56.96690368652344      │\n",
       "│ Time/FPS                       │ 351.0810546875         │\n",
       "│ Misc/Alpha                     │ 1.2902321815490723     │\n",
       "│ Misc/FinalStepNorm             │ 0.28993481397628784    │\n",
       "│ Misc/gradient_norm             │ 0.11176204681396484    │\n",
       "│ Misc/xHx                       │ 0.012014172971248627   │\n",
       "│ Misc/H_inv_g                   │ 0.2247152477502823     │\n",
       "│ Misc/AcceptanceStep            │ 1.0                    │\n",
       "│ Metrics/LagrangeMultiplier/Mea │ 0.5008473992347717     │\n",
       "│ Metrics/LagrangeMultiplier/Min │ 0.5008473992347717     │\n",
       "│ Metrics/LagrangeMultiplier/Max │ 0.5008473992347717     │\n",
       "│ Metrics/LagrangeMultiplier/Std │ 0.0                    │\n",
       "└────────────────────────────────┴────────────────────────┘\n"
      ]
     },
     "metadata": {},
     "output_type": "display_data"
    },
    {
     "data": {
      "text/html": [
       "<pre style=\"white-space:pre;overflow-x:auto;line-height:normal;font-family:Menlo,'DejaVu Sans Mono',consolas,'Courier New',monospace\"><span style=\"color: #008000; text-decoration-color: #008000\">Warning: trajectory cut off when rollout by epoch at </span><span style=\"color: #008080; text-decoration-color: #008080; font-weight: bold\">1000.0</span><span style=\"color: #008000; text-decoration-color: #008000\"> steps.</span>\n",
       "</pre>\n"
      ],
      "text/plain": [
       "\u001b[32mWarning: trajectory cut off when rollout by epoch at \u001b[0m\u001b[1;36m1000.0\u001b[0m\u001b[32m steps.\u001b[0m\n"
      ]
     },
     "metadata": {},
     "output_type": "display_data"
    },
    {
     "data": {
      "text/html": [
       "<pre style=\"white-space:pre;overflow-x:auto;line-height:normal;font-family:Menlo,'DejaVu Sans Mono',consolas,'Courier New',monospace\"><span style=\"color: #008000; text-decoration-color: #008000\">Warning: trajectory cut off when rollout by epoch at </span><span style=\"color: #008080; text-decoration-color: #008080; font-weight: bold\">1000.0</span><span style=\"color: #008000; text-decoration-color: #008000\"> steps.</span>\n",
       "</pre>\n"
      ],
      "text/plain": [
       "\u001b[32mWarning: trajectory cut off when rollout by epoch at \u001b[0m\u001b[1;36m1000.0\u001b[0m\u001b[32m steps.\u001b[0m\n"
      ]
     },
     "metadata": {},
     "output_type": "display_data"
    },
    {
     "data": {
      "text/html": [
       "<pre style=\"white-space:pre;overflow-x:auto;line-height:normal;font-family:Menlo,'DejaVu Sans Mono',consolas,'Courier New',monospace\"><span style=\"color: #008000; text-decoration-color: #008000\">Warning: trajectory cut off when rollout by epoch at </span><span style=\"color: #008080; text-decoration-color: #008080; font-weight: bold\">1000.0</span><span style=\"color: #008000; text-decoration-color: #008000\"> steps.</span>\n",
       "</pre>\n"
      ],
      "text/plain": [
       "\u001b[32mWarning: trajectory cut off when rollout by epoch at \u001b[0m\u001b[1;36m1000.0\u001b[0m\u001b[32m steps.\u001b[0m\n"
      ]
     },
     "metadata": {},
     "output_type": "display_data"
    },
    {
     "data": {
      "text/html": [
       "<pre style=\"white-space:pre;overflow-x:auto;line-height:normal;font-family:Menlo,'DejaVu Sans Mono',consolas,'Courier New',monospace\"><span style=\"color: #008000; text-decoration-color: #008000\">Warning: trajectory cut off when rollout by epoch at </span><span style=\"color: #008080; text-decoration-color: #008080; font-weight: bold\">1000.0</span><span style=\"color: #008000; text-decoration-color: #008000\"> steps.</span>\n",
       "</pre>\n"
      ],
      "text/plain": [
       "\u001b[32mWarning: trajectory cut off when rollout by epoch at \u001b[0m\u001b[1;36m1000.0\u001b[0m\u001b[32m steps.\u001b[0m\n"
      ]
     },
     "metadata": {},
     "output_type": "display_data"
    },
    {
     "data": {
      "text/html": [
       "<pre style=\"white-space:pre;overflow-x:auto;line-height:normal;font-family:Menlo,'DejaVu Sans Mono',consolas,'Courier New',monospace\"></pre>\n"
      ],
      "text/plain": []
     },
     "metadata": {},
     "output_type": "display_data"
    },
    {
     "data": {
      "text/html": [
       "<pre style=\"white-space:pre;overflow-x:auto;line-height:normal;font-family:Menlo,'DejaVu Sans Mono',consolas,'Courier New',monospace\">\n",
       "</pre>\n"
      ],
      "text/plain": [
       "\n"
      ]
     },
     "metadata": {},
     "output_type": "display_data"
    },
    {
     "data": {
      "text/html": [
       "<pre style=\"white-space:pre;overflow-x:auto;line-height:normal;font-family:Menlo,'DejaVu Sans Mono',consolas,'Courier New',monospace\"><span style=\"color: #008000; text-decoration-color: #008000\">Expected Improvement: </span><span style=\"color: #008080; text-decoration-color: #008080; font-weight: bold\">0.016996778547763824</span><span style=\"color: #008000; text-decoration-color: #008000\"> Actual: </span><span style=\"color: #008080; text-decoration-color: #008080; font-weight: bold\">0.01645735837519169</span>\n",
       "</pre>\n"
      ],
      "text/plain": [
       "\u001b[32mExpected Improvement: \u001b[0m\u001b[1;36m0.016996778547763824\u001b[0m\u001b[32m Actual: \u001b[0m\u001b[1;36m0.01645735837519169\u001b[0m\n"
      ]
     },
     "metadata": {},
     "output_type": "display_data"
    },
    {
     "data": {
      "text/html": [
       "<pre style=\"white-space:pre;overflow-x:auto;line-height:normal;font-family:Menlo,'DejaVu Sans Mono',consolas,'Courier New',monospace\"><span style=\"color: #008000; text-decoration-color: #008000\">Accept step at </span><span style=\"color: #808000; text-decoration-color: #808000\">i</span><span style=\"color: #008000; text-decoration-color: #008000\">=</span><span style=\"color: #008080; text-decoration-color: #008080; font-weight: bold\">1</span>\n",
       "</pre>\n"
      ],
      "text/plain": [
       "\u001b[32mAccept step at \u001b[0m\u001b[33mi\u001b[0m\u001b[32m=\u001b[0m\u001b[1;36m1\u001b[0m\n"
      ]
     },
     "metadata": {},
     "output_type": "display_data"
    },
    {
     "data": {
      "text/html": [
       "<pre style=\"white-space:pre;overflow-x:auto;line-height:normal;font-family:Menlo,'DejaVu Sans Mono',consolas,'Courier New',monospace\">┏━━━━━━━━━━━━━━━━━━━━━━━━━━━━━━━━┳━━━━━━━━━━━━━━━━━━━━━━━━┓\n",
       "┃<span style=\"font-weight: bold\"> Metrics                        </span>┃<span style=\"font-weight: bold\"> Value                  </span>┃\n",
       "┡━━━━━━━━━━━━━━━━━━━━━━━━━━━━━━━━╇━━━━━━━━━━━━━━━━━━━━━━━━┩\n",
       "│ Metrics/EpRet                  │ 22.057361602783203     │\n",
       "│ Metrics/EpCost                 │ 52.18000030517578      │\n",
       "│ Metrics/EpLen                  │ 1000.0                 │\n",
       "│ Train/Epoch                    │ 16.0                   │\n",
       "│ Train/Entropy                  │ 1.1475368738174438     │\n",
       "│ Train/KL                       │ 0.00033466119202785194 │\n",
       "│ Train/StopIter                 │ 10.0                   │\n",
       "│ Train/PolicyRatio/Mean         │ 1.00015389919281       │\n",
       "│ Train/PolicyRatio/Min          │ 1.00015389919281       │\n",
       "│ Train/PolicyRatio/Max          │ 1.00015389919281       │\n",
       "│ Train/PolicyRatio/Std          │ 0.00010885126539506018 │\n",
       "│ Train/LR                       │ 0.0                    │\n",
       "│ Train/PolicyStd                │ 0.770662784576416      │\n",
       "│ TotalEnvSteps                  │ 340000.0               │\n",
       "│ Loss/Loss_pi                   │ -0.010971580632030964  │\n",
       "│ Loss/Loss_pi/Delta             │ -0.0008490495383739471 │\n",
       "│ Value/Adv                      │ 2.7465819840699623e-08 │\n",
       "│ Loss/Loss_reward_critic        │ 0.02138795703649521    │\n",
       "│ Loss/Loss_reward_critic/Delta  │ 0.001241687685251236   │\n",
       "│ Value/reward                   │ 1.7153748273849487     │\n",
       "│ Loss/Loss_cost_critic          │ 1.2077099084854126     │\n",
       "│ Loss/Loss_cost_critic/Delta    │ 0.05318284034729004    │\n",
       "│ Value/cost                     │ 6.039986610412598      │\n",
       "│ Time/Total                     │ 960.3050537109375      │\n",
       "│ Time/Rollout                   │ 42.4691162109375       │\n",
       "│ Time/Update                    │ 13.43244743347168      │\n",
       "│ Time/Epoch                     │ 55.90156555175781      │\n",
       "│ Time/FPS                       │ 357.771728515625       │\n",
       "│ Misc/Alpha                     │ 1.1776940822601318     │\n",
       "│ Misc/FinalStepNorm             │ 0.2810797691345215     │\n",
       "│ Misc/gradient_norm             │ 0.1262679100036621     │\n",
       "│ Misc/xHx                       │ 0.0144199812784791     │\n",
       "│ Misc/H_inv_g                   │ 0.23866958916187286    │\n",
       "│ Misc/AcceptanceStep            │ 1.0                    │\n",
       "│ Metrics/LagrangeMultiplier/Mea │ 0.5284165143966675     │\n",
       "│ Metrics/LagrangeMultiplier/Min │ 0.5284165143966675     │\n",
       "│ Metrics/LagrangeMultiplier/Max │ 0.5284165143966675     │\n",
       "│ Metrics/LagrangeMultiplier/Std │ 0.0                    │\n",
       "└────────────────────────────────┴────────────────────────┘\n",
       "</pre>\n"
      ],
      "text/plain": [
       "┏━━━━━━━━━━━━━━━━━━━━━━━━━━━━━━━━┳━━━━━━━━━━━━━━━━━━━━━━━━┓\n",
       "┃\u001b[1m \u001b[0m\u001b[1mMetrics                       \u001b[0m\u001b[1m \u001b[0m┃\u001b[1m \u001b[0m\u001b[1mValue                 \u001b[0m\u001b[1m \u001b[0m┃\n",
       "┡━━━━━━━━━━━━━━━━━━━━━━━━━━━━━━━━╇━━━━━━━━━━━━━━━━━━━━━━━━┩\n",
       "│ Metrics/EpRet                  │ 22.057361602783203     │\n",
       "│ Metrics/EpCost                 │ 52.18000030517578      │\n",
       "│ Metrics/EpLen                  │ 1000.0                 │\n",
       "│ Train/Epoch                    │ 16.0                   │\n",
       "│ Train/Entropy                  │ 1.1475368738174438     │\n",
       "│ Train/KL                       │ 0.00033466119202785194 │\n",
       "│ Train/StopIter                 │ 10.0                   │\n",
       "│ Train/PolicyRatio/Mean         │ 1.00015389919281       │\n",
       "│ Train/PolicyRatio/Min          │ 1.00015389919281       │\n",
       "│ Train/PolicyRatio/Max          │ 1.00015389919281       │\n",
       "│ Train/PolicyRatio/Std          │ 0.00010885126539506018 │\n",
       "│ Train/LR                       │ 0.0                    │\n",
       "│ Train/PolicyStd                │ 0.770662784576416      │\n",
       "│ TotalEnvSteps                  │ 340000.0               │\n",
       "│ Loss/Loss_pi                   │ -0.010971580632030964  │\n",
       "│ Loss/Loss_pi/Delta             │ -0.0008490495383739471 │\n",
       "│ Value/Adv                      │ 2.7465819840699623e-08 │\n",
       "│ Loss/Loss_reward_critic        │ 0.02138795703649521    │\n",
       "│ Loss/Loss_reward_critic/Delta  │ 0.001241687685251236   │\n",
       "│ Value/reward                   │ 1.7153748273849487     │\n",
       "│ Loss/Loss_cost_critic          │ 1.2077099084854126     │\n",
       "│ Loss/Loss_cost_critic/Delta    │ 0.05318284034729004    │\n",
       "│ Value/cost                     │ 6.039986610412598      │\n",
       "│ Time/Total                     │ 960.3050537109375      │\n",
       "│ Time/Rollout                   │ 42.4691162109375       │\n",
       "│ Time/Update                    │ 13.43244743347168      │\n",
       "│ Time/Epoch                     │ 55.90156555175781      │\n",
       "│ Time/FPS                       │ 357.771728515625       │\n",
       "│ Misc/Alpha                     │ 1.1776940822601318     │\n",
       "│ Misc/FinalStepNorm             │ 0.2810797691345215     │\n",
       "│ Misc/gradient_norm             │ 0.1262679100036621     │\n",
       "│ Misc/xHx                       │ 0.0144199812784791     │\n",
       "│ Misc/H_inv_g                   │ 0.23866958916187286    │\n",
       "│ Misc/AcceptanceStep            │ 1.0                    │\n",
       "│ Metrics/LagrangeMultiplier/Mea │ 0.5284165143966675     │\n",
       "│ Metrics/LagrangeMultiplier/Min │ 0.5284165143966675     │\n",
       "│ Metrics/LagrangeMultiplier/Max │ 0.5284165143966675     │\n",
       "│ Metrics/LagrangeMultiplier/Std │ 0.0                    │\n",
       "└────────────────────────────────┴────────────────────────┘\n"
      ]
     },
     "metadata": {},
     "output_type": "display_data"
    },
    {
     "data": {
      "text/html": [
       "<pre style=\"white-space:pre;overflow-x:auto;line-height:normal;font-family:Menlo,'DejaVu Sans Mono',consolas,'Courier New',monospace\"><span style=\"color: #008000; text-decoration-color: #008000\">Warning: trajectory cut off when rollout by epoch at </span><span style=\"color: #008080; text-decoration-color: #008080; font-weight: bold\">1000.0</span><span style=\"color: #008000; text-decoration-color: #008000\"> steps.</span>\n",
       "</pre>\n"
      ],
      "text/plain": [
       "\u001b[32mWarning: trajectory cut off when rollout by epoch at \u001b[0m\u001b[1;36m1000.0\u001b[0m\u001b[32m steps.\u001b[0m\n"
      ]
     },
     "metadata": {},
     "output_type": "display_data"
    },
    {
     "data": {
      "text/html": [
       "<pre style=\"white-space:pre;overflow-x:auto;line-height:normal;font-family:Menlo,'DejaVu Sans Mono',consolas,'Courier New',monospace\"><span style=\"color: #008000; text-decoration-color: #008000\">Warning: trajectory cut off when rollout by epoch at </span><span style=\"color: #008080; text-decoration-color: #008080; font-weight: bold\">1000.0</span><span style=\"color: #008000; text-decoration-color: #008000\"> steps.</span>\n",
       "</pre>\n"
      ],
      "text/plain": [
       "\u001b[32mWarning: trajectory cut off when rollout by epoch at \u001b[0m\u001b[1;36m1000.0\u001b[0m\u001b[32m steps.\u001b[0m\n"
      ]
     },
     "metadata": {},
     "output_type": "display_data"
    },
    {
     "data": {
      "text/html": [
       "<pre style=\"white-space:pre;overflow-x:auto;line-height:normal;font-family:Menlo,'DejaVu Sans Mono',consolas,'Courier New',monospace\"><span style=\"color: #008000; text-decoration-color: #008000\">Warning: trajectory cut off when rollout by epoch at </span><span style=\"color: #008080; text-decoration-color: #008080; font-weight: bold\">1000.0</span><span style=\"color: #008000; text-decoration-color: #008000\"> steps.</span>\n",
       "</pre>\n"
      ],
      "text/plain": [
       "\u001b[32mWarning: trajectory cut off when rollout by epoch at \u001b[0m\u001b[1;36m1000.0\u001b[0m\u001b[32m steps.\u001b[0m\n"
      ]
     },
     "metadata": {},
     "output_type": "display_data"
    },
    {
     "data": {
      "text/html": [
       "<pre style=\"white-space:pre;overflow-x:auto;line-height:normal;font-family:Menlo,'DejaVu Sans Mono',consolas,'Courier New',monospace\"><span style=\"color: #008000; text-decoration-color: #008000\">Warning: trajectory cut off when rollout by epoch at </span><span style=\"color: #008080; text-decoration-color: #008080; font-weight: bold\">1000.0</span><span style=\"color: #008000; text-decoration-color: #008000\"> steps.</span>\n",
       "</pre>\n"
      ],
      "text/plain": [
       "\u001b[32mWarning: trajectory cut off when rollout by epoch at \u001b[0m\u001b[1;36m1000.0\u001b[0m\u001b[32m steps.\u001b[0m\n"
      ]
     },
     "metadata": {},
     "output_type": "display_data"
    },
    {
     "data": {
      "text/html": [
       "<pre style=\"white-space:pre;overflow-x:auto;line-height:normal;font-family:Menlo,'DejaVu Sans Mono',consolas,'Courier New',monospace\"></pre>\n"
      ],
      "text/plain": []
     },
     "metadata": {},
     "output_type": "display_data"
    },
    {
     "data": {
      "text/html": [
       "<pre style=\"white-space:pre;overflow-x:auto;line-height:normal;font-family:Menlo,'DejaVu Sans Mono',consolas,'Courier New',monospace\">\n",
       "</pre>\n"
      ],
      "text/plain": [
       "\n"
      ]
     },
     "metadata": {},
     "output_type": "display_data"
    },
    {
     "data": {
      "text/html": [
       "<pre style=\"white-space:pre;overflow-x:auto;line-height:normal;font-family:Menlo,'DejaVu Sans Mono',consolas,'Courier New',monospace\"><span style=\"color: #008000; text-decoration-color: #008000\">Expected Improvement: </span><span style=\"color: #008080; text-decoration-color: #008080; font-weight: bold\">0.01529769878834486</span><span style=\"color: #008000; text-decoration-color: #008000\"> Actual: </span><span style=\"color: #008080; text-decoration-color: #008080; font-weight: bold\">0.014895530417561531</span>\n",
       "</pre>\n"
      ],
      "text/plain": [
       "\u001b[32mExpected Improvement: \u001b[0m\u001b[1;36m0.01529769878834486\u001b[0m\u001b[32m Actual: \u001b[0m\u001b[1;36m0.014895530417561531\u001b[0m\n"
      ]
     },
     "metadata": {},
     "output_type": "display_data"
    },
    {
     "data": {
      "text/html": [
       "<pre style=\"white-space:pre;overflow-x:auto;line-height:normal;font-family:Menlo,'DejaVu Sans Mono',consolas,'Courier New',monospace\"><span style=\"color: #008000; text-decoration-color: #008000\">Accept step at </span><span style=\"color: #808000; text-decoration-color: #808000\">i</span><span style=\"color: #008000; text-decoration-color: #008000\">=</span><span style=\"color: #008080; text-decoration-color: #008080; font-weight: bold\">1</span>\n",
       "</pre>\n"
      ],
      "text/plain": [
       "\u001b[32mAccept step at \u001b[0m\u001b[33mi\u001b[0m\u001b[32m=\u001b[0m\u001b[1;36m1\u001b[0m\n"
      ]
     },
     "metadata": {},
     "output_type": "display_data"
    },
    {
     "data": {
      "text/html": [
       "<pre style=\"white-space:pre;overflow-x:auto;line-height:normal;font-family:Menlo,'DejaVu Sans Mono',consolas,'Courier New',monospace\">┏━━━━━━━━━━━━━━━━━━━━━━━━━━━━━━━━┳━━━━━━━━━━━━━━━━━━━━━━━━┓\n",
       "┃<span style=\"font-weight: bold\"> Metrics                        </span>┃<span style=\"font-weight: bold\"> Value                  </span>┃\n",
       "┡━━━━━━━━━━━━━━━━━━━━━━━━━━━━━━━━╇━━━━━━━━━━━━━━━━━━━━━━━━┩\n",
       "│ Metrics/EpRet                  │ 21.961280822753906     │\n",
       "│ Metrics/EpCost                 │ 52.720001220703125     │\n",
       "│ Metrics/EpLen                  │ 1000.0                 │\n",
       "│ Train/Epoch                    │ 17.0                   │\n",
       "│ Train/Entropy                  │ 1.146852970123291      │\n",
       "│ Train/KL                       │ 0.00030712189618498087 │\n",
       "│ Train/StopIter                 │ 10.0                   │\n",
       "│ Train/PolicyRatio/Mean         │ 0.9999188780784607     │\n",
       "│ Train/PolicyRatio/Min          │ 0.9999188780784607     │\n",
       "│ Train/PolicyRatio/Max          │ 0.9999188780784607     │\n",
       "│ Train/PolicyRatio/Std          │ 5.7375913456780836e-05 │\n",
       "│ Train/LR                       │ 0.0                    │\n",
       "│ Train/PolicyStd                │ 0.7715247273445129     │\n",
       "│ TotalEnvSteps                  │ 360000.0               │\n",
       "│ Loss/Loss_pi                   │ -0.009930332191288471  │\n",
       "│ Loss/Loss_pi/Delta             │ 0.0010412484407424927  │\n",
       "│ Value/Adv                      │ -3.662109193669494e-08 │\n",
       "│ Loss/Loss_reward_critic        │ 0.021868301555514336   │\n",
       "│ Loss/Loss_reward_critic/Delta  │ 0.0004803445190191269  │\n",
       "│ Value/reward                   │ 1.7791800498962402     │\n",
       "│ Loss/Loss_cost_critic          │ 1.0653034448623657     │\n",
       "│ Loss/Loss_cost_critic/Delta    │ -0.14240646362304688   │\n",
       "│ Value/cost                     │ 5.878599166870117      │\n",
       "│ Time/Total                     │ 1016.2830810546875     │\n",
       "│ Time/Rollout                   │ 42.46283721923828      │\n",
       "│ Time/Update                    │ 13.479178428649902     │\n",
       "│ Time/Epoch                     │ 55.9420166015625       │\n",
       "│ Time/FPS                       │ 357.5130310058594      │\n",
       "│ Misc/Alpha                     │ 1.3089691400527954     │\n",
       "│ Misc/FinalStepNorm             │ 0.2981836795806885     │\n",
       "│ Misc/gradient_norm             │ 0.08706961572170258    │\n",
       "│ Misc/xHx                       │ 0.01167268492281437    │\n",
       "│ Misc/H_inv_g                   │ 0.2278004139661789     │\n",
       "│ Misc/AcceptanceStep            │ 1.0                    │\n",
       "│ Metrics/LagrangeMultiplier/Mea │ 0.5559004545211792     │\n",
       "│ Metrics/LagrangeMultiplier/Min │ 0.5559004545211792     │\n",
       "│ Metrics/LagrangeMultiplier/Max │ 0.5559004545211792     │\n",
       "│ Metrics/LagrangeMultiplier/Std │ 0.0                    │\n",
       "└────────────────────────────────┴────────────────────────┘\n",
       "</pre>\n"
      ],
      "text/plain": [
       "┏━━━━━━━━━━━━━━━━━━━━━━━━━━━━━━━━┳━━━━━━━━━━━━━━━━━━━━━━━━┓\n",
       "┃\u001b[1m \u001b[0m\u001b[1mMetrics                       \u001b[0m\u001b[1m \u001b[0m┃\u001b[1m \u001b[0m\u001b[1mValue                 \u001b[0m\u001b[1m \u001b[0m┃\n",
       "┡━━━━━━━━━━━━━━━━━━━━━━━━━━━━━━━━╇━━━━━━━━━━━━━━━━━━━━━━━━┩\n",
       "│ Metrics/EpRet                  │ 21.961280822753906     │\n",
       "│ Metrics/EpCost                 │ 52.720001220703125     │\n",
       "│ Metrics/EpLen                  │ 1000.0                 │\n",
       "│ Train/Epoch                    │ 17.0                   │\n",
       "│ Train/Entropy                  │ 1.146852970123291      │\n",
       "│ Train/KL                       │ 0.00030712189618498087 │\n",
       "│ Train/StopIter                 │ 10.0                   │\n",
       "│ Train/PolicyRatio/Mean         │ 0.9999188780784607     │\n",
       "│ Train/PolicyRatio/Min          │ 0.9999188780784607     │\n",
       "│ Train/PolicyRatio/Max          │ 0.9999188780784607     │\n",
       "│ Train/PolicyRatio/Std          │ 5.7375913456780836e-05 │\n",
       "│ Train/LR                       │ 0.0                    │\n",
       "│ Train/PolicyStd                │ 0.7715247273445129     │\n",
       "│ TotalEnvSteps                  │ 360000.0               │\n",
       "│ Loss/Loss_pi                   │ -0.009930332191288471  │\n",
       "│ Loss/Loss_pi/Delta             │ 0.0010412484407424927  │\n",
       "│ Value/Adv                      │ -3.662109193669494e-08 │\n",
       "│ Loss/Loss_reward_critic        │ 0.021868301555514336   │\n",
       "│ Loss/Loss_reward_critic/Delta  │ 0.0004803445190191269  │\n",
       "│ Value/reward                   │ 1.7791800498962402     │\n",
       "│ Loss/Loss_cost_critic          │ 1.0653034448623657     │\n",
       "│ Loss/Loss_cost_critic/Delta    │ -0.14240646362304688   │\n",
       "│ Value/cost                     │ 5.878599166870117      │\n",
       "│ Time/Total                     │ 1016.2830810546875     │\n",
       "│ Time/Rollout                   │ 42.46283721923828      │\n",
       "│ Time/Update                    │ 13.479178428649902     │\n",
       "│ Time/Epoch                     │ 55.9420166015625       │\n",
       "│ Time/FPS                       │ 357.5130310058594      │\n",
       "│ Misc/Alpha                     │ 1.3089691400527954     │\n",
       "│ Misc/FinalStepNorm             │ 0.2981836795806885     │\n",
       "│ Misc/gradient_norm             │ 0.08706961572170258    │\n",
       "│ Misc/xHx                       │ 0.01167268492281437    │\n",
       "│ Misc/H_inv_g                   │ 0.2278004139661789     │\n",
       "│ Misc/AcceptanceStep            │ 1.0                    │\n",
       "│ Metrics/LagrangeMultiplier/Mea │ 0.5559004545211792     │\n",
       "│ Metrics/LagrangeMultiplier/Min │ 0.5559004545211792     │\n",
       "│ Metrics/LagrangeMultiplier/Max │ 0.5559004545211792     │\n",
       "│ Metrics/LagrangeMultiplier/Std │ 0.0                    │\n",
       "└────────────────────────────────┴────────────────────────┘\n"
      ]
     },
     "metadata": {},
     "output_type": "display_data"
    },
    {
     "data": {
      "text/html": [
       "<pre style=\"white-space:pre;overflow-x:auto;line-height:normal;font-family:Menlo,'DejaVu Sans Mono',consolas,'Courier New',monospace\"><span style=\"color: #008000; text-decoration-color: #008000\">Warning: trajectory cut off when rollout by epoch at </span><span style=\"color: #008080; text-decoration-color: #008080; font-weight: bold\">1000.0</span><span style=\"color: #008000; text-decoration-color: #008000\"> steps.</span>\n",
       "</pre>\n"
      ],
      "text/plain": [
       "\u001b[32mWarning: trajectory cut off when rollout by epoch at \u001b[0m\u001b[1;36m1000.0\u001b[0m\u001b[32m steps.\u001b[0m\n"
      ]
     },
     "metadata": {},
     "output_type": "display_data"
    },
    {
     "data": {
      "text/html": [
       "<pre style=\"white-space:pre;overflow-x:auto;line-height:normal;font-family:Menlo,'DejaVu Sans Mono',consolas,'Courier New',monospace\"><span style=\"color: #008000; text-decoration-color: #008000\">Warning: trajectory cut off when rollout by epoch at </span><span style=\"color: #008080; text-decoration-color: #008080; font-weight: bold\">1000.0</span><span style=\"color: #008000; text-decoration-color: #008000\"> steps.</span>\n",
       "</pre>\n"
      ],
      "text/plain": [
       "\u001b[32mWarning: trajectory cut off when rollout by epoch at \u001b[0m\u001b[1;36m1000.0\u001b[0m\u001b[32m steps.\u001b[0m\n"
      ]
     },
     "metadata": {},
     "output_type": "display_data"
    },
    {
     "data": {
      "text/html": [
       "<pre style=\"white-space:pre;overflow-x:auto;line-height:normal;font-family:Menlo,'DejaVu Sans Mono',consolas,'Courier New',monospace\"><span style=\"color: #008000; text-decoration-color: #008000\">Warning: trajectory cut off when rollout by epoch at </span><span style=\"color: #008080; text-decoration-color: #008080; font-weight: bold\">1000.0</span><span style=\"color: #008000; text-decoration-color: #008000\"> steps.</span>\n",
       "</pre>\n"
      ],
      "text/plain": [
       "\u001b[32mWarning: trajectory cut off when rollout by epoch at \u001b[0m\u001b[1;36m1000.0\u001b[0m\u001b[32m steps.\u001b[0m\n"
      ]
     },
     "metadata": {},
     "output_type": "display_data"
    },
    {
     "data": {
      "text/html": [
       "<pre style=\"white-space:pre;overflow-x:auto;line-height:normal;font-family:Menlo,'DejaVu Sans Mono',consolas,'Courier New',monospace\"><span style=\"color: #008000; text-decoration-color: #008000\">Warning: trajectory cut off when rollout by epoch at </span><span style=\"color: #008080; text-decoration-color: #008080; font-weight: bold\">1000.0</span><span style=\"color: #008000; text-decoration-color: #008000\"> steps.</span>\n",
       "</pre>\n"
      ],
      "text/plain": [
       "\u001b[32mWarning: trajectory cut off when rollout by epoch at \u001b[0m\u001b[1;36m1000.0\u001b[0m\u001b[32m steps.\u001b[0m\n"
      ]
     },
     "metadata": {},
     "output_type": "display_data"
    },
    {
     "data": {
      "text/html": [
       "<pre style=\"white-space:pre;overflow-x:auto;line-height:normal;font-family:Menlo,'DejaVu Sans Mono',consolas,'Courier New',monospace\"></pre>\n"
      ],
      "text/plain": []
     },
     "metadata": {},
     "output_type": "display_data"
    },
    {
     "data": {
      "text/html": [
       "<pre style=\"white-space:pre;overflow-x:auto;line-height:normal;font-family:Menlo,'DejaVu Sans Mono',consolas,'Courier New',monospace\">\n",
       "</pre>\n"
      ],
      "text/plain": [
       "\n"
      ]
     },
     "metadata": {},
     "output_type": "display_data"
    },
    {
     "data": {
      "text/html": [
       "<pre style=\"white-space:pre;overflow-x:auto;line-height:normal;font-family:Menlo,'DejaVu Sans Mono',consolas,'Courier New',monospace\"><span style=\"color: #008000; text-decoration-color: #008000\">Expected Improvement: </span><span style=\"color: #008080; text-decoration-color: #008080; font-weight: bold\">0.015484499745070934</span><span style=\"color: #008000; text-decoration-color: #008000\"> Actual: </span><span style=\"color: #008080; text-decoration-color: #008080; font-weight: bold\">0.015038952231407166</span>\n",
       "</pre>\n"
      ],
      "text/plain": [
       "\u001b[32mExpected Improvement: \u001b[0m\u001b[1;36m0.015484499745070934\u001b[0m\u001b[32m Actual: \u001b[0m\u001b[1;36m0.015038952231407166\u001b[0m\n"
      ]
     },
     "metadata": {},
     "output_type": "display_data"
    },
    {
     "data": {
      "text/html": [
       "<pre style=\"white-space:pre;overflow-x:auto;line-height:normal;font-family:Menlo,'DejaVu Sans Mono',consolas,'Courier New',monospace\"><span style=\"color: #008000; text-decoration-color: #008000\">Accept step at </span><span style=\"color: #808000; text-decoration-color: #808000\">i</span><span style=\"color: #008000; text-decoration-color: #008000\">=</span><span style=\"color: #008080; text-decoration-color: #008080; font-weight: bold\">1</span>\n",
       "</pre>\n"
      ],
      "text/plain": [
       "\u001b[32mAccept step at \u001b[0m\u001b[33mi\u001b[0m\u001b[32m=\u001b[0m\u001b[1;36m1\u001b[0m\n"
      ]
     },
     "metadata": {},
     "output_type": "display_data"
    },
    {
     "data": {
      "text/html": [
       "<pre style=\"white-space:pre;overflow-x:auto;line-height:normal;font-family:Menlo,'DejaVu Sans Mono',consolas,'Courier New',monospace\">┏━━━━━━━━━━━━━━━━━━━━━━━━━━━━━━━━┳━━━━━━━━━━━━━━━━━━━━━━━━┓\n",
       "┃<span style=\"font-weight: bold\"> Metrics                        </span>┃<span style=\"font-weight: bold\"> Value                  </span>┃\n",
       "┡━━━━━━━━━━━━━━━━━━━━━━━━━━━━━━━━╇━━━━━━━━━━━━━━━━━━━━━━━━┩\n",
       "│ Metrics/EpRet                  │ 22.108261108398438     │\n",
       "│ Metrics/EpCost                 │ 52.58000183105469      │\n",
       "│ Metrics/EpLen                  │ 1000.0                 │\n",
       "│ Train/Epoch                    │ 18.0                   │\n",
       "│ Train/Entropy                  │ 1.1387313604354858     │\n",
       "│ Train/KL                       │ 0.00031589483842253685 │\n",
       "│ Train/StopIter                 │ 10.0                   │\n",
       "│ Train/PolicyRatio/Mean         │ 0.999616801738739      │\n",
       "│ Train/PolicyRatio/Min          │ 0.999616801738739      │\n",
       "│ Train/PolicyRatio/Max          │ 0.999616801738739      │\n",
       "│ Train/PolicyRatio/Std          │ 0.00027097613201476634 │\n",
       "│ Train/LR                       │ 0.0                    │\n",
       "│ Train/PolicyStd                │ 0.766620397567749      │\n",
       "│ TotalEnvSteps                  │ 380000.0               │\n",
       "│ Loss/Loss_pi                   │ -0.01002598088234663   │\n",
       "│ Loss/Loss_pi/Delta             │ -9.564869105815887e-05 │\n",
       "│ Value/Adv                      │ 1.1444091896350983e-08 │\n",
       "│ Loss/Loss_reward_critic        │ 0.02253294363617897    │\n",
       "│ Loss/Loss_reward_critic/Delta  │ 0.0006646420806646347  │\n",
       "│ Value/reward                   │ 1.8967859745025635     │\n",
       "│ Loss/Loss_cost_critic          │ 1.0504357814788818     │\n",
       "│ Loss/Loss_cost_critic/Delta    │ -0.014867663383483887  │\n",
       "│ Value/cost                     │ 5.973743915557861      │\n",
       "│ Time/Total                     │ 1071.957763671875      │\n",
       "│ Time/Rollout                   │ 42.20516586303711      │\n",
       "│ Time/Update                    │ 13.428556442260742     │\n",
       "│ Time/Epoch                     │ 55.633724212646484     │\n",
       "│ Time/FPS                       │ 359.4941711425781      │\n",
       "│ Misc/Alpha                     │ 1.293226957321167      │\n",
       "│ Misc/FinalStepNorm             │ 0.2919050455093384     │\n",
       "│ Misc/gradient_norm             │ 0.10181833803653717    │\n",
       "│ Misc/xHx                       │ 0.011958593502640724   │\n",
       "│ Misc/H_inv_g                   │ 0.22571833431720734    │\n",
       "│ Misc/AcceptanceStep            │ 1.0                    │\n",
       "│ Metrics/LagrangeMultiplier/Mea │ 0.5833165049552917     │\n",
       "│ Metrics/LagrangeMultiplier/Min │ 0.5833165049552917     │\n",
       "│ Metrics/LagrangeMultiplier/Max │ 0.5833165049552917     │\n",
       "│ Metrics/LagrangeMultiplier/Std │ 0.0                    │\n",
       "└────────────────────────────────┴────────────────────────┘\n",
       "</pre>\n"
      ],
      "text/plain": [
       "┏━━━━━━━━━━━━━━━━━━━━━━━━━━━━━━━━┳━━━━━━━━━━━━━━━━━━━━━━━━┓\n",
       "┃\u001b[1m \u001b[0m\u001b[1mMetrics                       \u001b[0m\u001b[1m \u001b[0m┃\u001b[1m \u001b[0m\u001b[1mValue                 \u001b[0m\u001b[1m \u001b[0m┃\n",
       "┡━━━━━━━━━━━━━━━━━━━━━━━━━━━━━━━━╇━━━━━━━━━━━━━━━━━━━━━━━━┩\n",
       "│ Metrics/EpRet                  │ 22.108261108398438     │\n",
       "│ Metrics/EpCost                 │ 52.58000183105469      │\n",
       "│ Metrics/EpLen                  │ 1000.0                 │\n",
       "│ Train/Epoch                    │ 18.0                   │\n",
       "│ Train/Entropy                  │ 1.1387313604354858     │\n",
       "│ Train/KL                       │ 0.00031589483842253685 │\n",
       "│ Train/StopIter                 │ 10.0                   │\n",
       "│ Train/PolicyRatio/Mean         │ 0.999616801738739      │\n",
       "│ Train/PolicyRatio/Min          │ 0.999616801738739      │\n",
       "│ Train/PolicyRatio/Max          │ 0.999616801738739      │\n",
       "│ Train/PolicyRatio/Std          │ 0.00027097613201476634 │\n",
       "│ Train/LR                       │ 0.0                    │\n",
       "│ Train/PolicyStd                │ 0.766620397567749      │\n",
       "│ TotalEnvSteps                  │ 380000.0               │\n",
       "│ Loss/Loss_pi                   │ -0.01002598088234663   │\n",
       "│ Loss/Loss_pi/Delta             │ -9.564869105815887e-05 │\n",
       "│ Value/Adv                      │ 1.1444091896350983e-08 │\n",
       "│ Loss/Loss_reward_critic        │ 0.02253294363617897    │\n",
       "│ Loss/Loss_reward_critic/Delta  │ 0.0006646420806646347  │\n",
       "│ Value/reward                   │ 1.8967859745025635     │\n",
       "│ Loss/Loss_cost_critic          │ 1.0504357814788818     │\n",
       "│ Loss/Loss_cost_critic/Delta    │ -0.014867663383483887  │\n",
       "│ Value/cost                     │ 5.973743915557861      │\n",
       "│ Time/Total                     │ 1071.957763671875      │\n",
       "│ Time/Rollout                   │ 42.20516586303711      │\n",
       "│ Time/Update                    │ 13.428556442260742     │\n",
       "│ Time/Epoch                     │ 55.633724212646484     │\n",
       "│ Time/FPS                       │ 359.4941711425781      │\n",
       "│ Misc/Alpha                     │ 1.293226957321167      │\n",
       "│ Misc/FinalStepNorm             │ 0.2919050455093384     │\n",
       "│ Misc/gradient_norm             │ 0.10181833803653717    │\n",
       "│ Misc/xHx                       │ 0.011958593502640724   │\n",
       "│ Misc/H_inv_g                   │ 0.22571833431720734    │\n",
       "│ Misc/AcceptanceStep            │ 1.0                    │\n",
       "│ Metrics/LagrangeMultiplier/Mea │ 0.5833165049552917     │\n",
       "│ Metrics/LagrangeMultiplier/Min │ 0.5833165049552917     │\n",
       "│ Metrics/LagrangeMultiplier/Max │ 0.5833165049552917     │\n",
       "│ Metrics/LagrangeMultiplier/Std │ 0.0                    │\n",
       "└────────────────────────────────┴────────────────────────┘\n"
      ]
     },
     "metadata": {},
     "output_type": "display_data"
    },
    {
     "data": {
      "text/html": [
       "<pre style=\"white-space:pre;overflow-x:auto;line-height:normal;font-family:Menlo,'DejaVu Sans Mono',consolas,'Courier New',monospace\"><span style=\"color: #008000; text-decoration-color: #008000\">Warning: trajectory cut off when rollout by epoch at </span><span style=\"color: #008080; text-decoration-color: #008080; font-weight: bold\">1000.0</span><span style=\"color: #008000; text-decoration-color: #008000\"> steps.</span>\n",
       "</pre>\n"
      ],
      "text/plain": [
       "\u001b[32mWarning: trajectory cut off when rollout by epoch at \u001b[0m\u001b[1;36m1000.0\u001b[0m\u001b[32m steps.\u001b[0m\n"
      ]
     },
     "metadata": {},
     "output_type": "display_data"
    },
    {
     "data": {
      "text/html": [
       "<pre style=\"white-space:pre;overflow-x:auto;line-height:normal;font-family:Menlo,'DejaVu Sans Mono',consolas,'Courier New',monospace\"><span style=\"color: #008000; text-decoration-color: #008000\">Warning: trajectory cut off when rollout by epoch at </span><span style=\"color: #008080; text-decoration-color: #008080; font-weight: bold\">1000.0</span><span style=\"color: #008000; text-decoration-color: #008000\"> steps.</span>\n",
       "</pre>\n"
      ],
      "text/plain": [
       "\u001b[32mWarning: trajectory cut off when rollout by epoch at \u001b[0m\u001b[1;36m1000.0\u001b[0m\u001b[32m steps.\u001b[0m\n"
      ]
     },
     "metadata": {},
     "output_type": "display_data"
    },
    {
     "data": {
      "text/html": [
       "<pre style=\"white-space:pre;overflow-x:auto;line-height:normal;font-family:Menlo,'DejaVu Sans Mono',consolas,'Courier New',monospace\"><span style=\"color: #008000; text-decoration-color: #008000\">Warning: trajectory cut off when rollout by epoch at </span><span style=\"color: #008080; text-decoration-color: #008080; font-weight: bold\">1000.0</span><span style=\"color: #008000; text-decoration-color: #008000\"> steps.</span>\n",
       "</pre>\n"
      ],
      "text/plain": [
       "\u001b[32mWarning: trajectory cut off when rollout by epoch at \u001b[0m\u001b[1;36m1000.0\u001b[0m\u001b[32m steps.\u001b[0m\n"
      ]
     },
     "metadata": {},
     "output_type": "display_data"
    },
    {
     "data": {
      "text/html": [
       "<pre style=\"white-space:pre;overflow-x:auto;line-height:normal;font-family:Menlo,'DejaVu Sans Mono',consolas,'Courier New',monospace\"><span style=\"color: #008000; text-decoration-color: #008000\">Warning: trajectory cut off when rollout by epoch at </span><span style=\"color: #008080; text-decoration-color: #008080; font-weight: bold\">1000.0</span><span style=\"color: #008000; text-decoration-color: #008000\"> steps.</span>\n",
       "</pre>\n"
      ],
      "text/plain": [
       "\u001b[32mWarning: trajectory cut off when rollout by epoch at \u001b[0m\u001b[1;36m1000.0\u001b[0m\u001b[32m steps.\u001b[0m\n"
      ]
     },
     "metadata": {},
     "output_type": "display_data"
    },
    {
     "data": {
      "text/html": [
       "<pre style=\"white-space:pre;overflow-x:auto;line-height:normal;font-family:Menlo,'DejaVu Sans Mono',consolas,'Courier New',monospace\"></pre>\n"
      ],
      "text/plain": []
     },
     "metadata": {},
     "output_type": "display_data"
    },
    {
     "data": {
      "text/html": [
       "<pre style=\"white-space:pre;overflow-x:auto;line-height:normal;font-family:Menlo,'DejaVu Sans Mono',consolas,'Courier New',monospace\">\n",
       "</pre>\n"
      ],
      "text/plain": [
       "\n"
      ]
     },
     "metadata": {},
     "output_type": "display_data"
    },
    {
     "data": {
      "text/html": [
       "<pre style=\"white-space:pre;overflow-x:auto;line-height:normal;font-family:Menlo,'DejaVu Sans Mono',consolas,'Courier New',monospace\"><span style=\"color: #008000; text-decoration-color: #008000\">Expected Improvement: </span><span style=\"color: #008080; text-decoration-color: #008080; font-weight: bold\">0.01491905190050602</span><span style=\"color: #008000; text-decoration-color: #008000\"> Actual: </span><span style=\"color: #008080; text-decoration-color: #008080; font-weight: bold\">0.014079811051487923</span>\n",
       "</pre>\n"
      ],
      "text/plain": [
       "\u001b[32mExpected Improvement: \u001b[0m\u001b[1;36m0.01491905190050602\u001b[0m\u001b[32m Actual: \u001b[0m\u001b[1;36m0.014079811051487923\u001b[0m\n"
      ]
     },
     "metadata": {},
     "output_type": "display_data"
    },
    {
     "data": {
      "text/html": [
       "<pre style=\"white-space:pre;overflow-x:auto;line-height:normal;font-family:Menlo,'DejaVu Sans Mono',consolas,'Courier New',monospace\"><span style=\"color: #008000; text-decoration-color: #008000\">Accept step at </span><span style=\"color: #808000; text-decoration-color: #808000\">i</span><span style=\"color: #008000; text-decoration-color: #008000\">=</span><span style=\"color: #008080; text-decoration-color: #008080; font-weight: bold\">1</span>\n",
       "</pre>\n"
      ],
      "text/plain": [
       "\u001b[32mAccept step at \u001b[0m\u001b[33mi\u001b[0m\u001b[32m=\u001b[0m\u001b[1;36m1\u001b[0m\n"
      ]
     },
     "metadata": {},
     "output_type": "display_data"
    },
    {
     "data": {
      "text/html": [
       "<pre style=\"white-space:pre;overflow-x:auto;line-height:normal;font-family:Menlo,'DejaVu Sans Mono',consolas,'Courier New',monospace\">┏━━━━━━━━━━━━━━━━━━━━━━━━━━━━━━━━┳━━━━━━━━━━━━━━━━━━━━━━━━━┓\n",
       "┃<span style=\"font-weight: bold\"> Metrics                        </span>┃<span style=\"font-weight: bold\"> Value                   </span>┃\n",
       "┡━━━━━━━━━━━━━━━━━━━━━━━━━━━━━━━━╇━━━━━━━━━━━━━━━━━━━━━━━━━┩\n",
       "│ Metrics/EpRet                  │ 22.463394165039062      │\n",
       "│ Metrics/EpCost                 │ 44.2400016784668        │\n",
       "│ Metrics/EpLen                  │ 1000.0                  │\n",
       "│ Train/Epoch                    │ 19.0                    │\n",
       "│ Train/Entropy                  │ 1.1300452947616577      │\n",
       "│ Train/KL                       │ 0.00028813330573029816  │\n",
       "│ Train/StopIter                 │ 10.0                    │\n",
       "│ Train/PolicyRatio/Mean         │ 0.9995711445808411      │\n",
       "│ Train/PolicyRatio/Min          │ 0.9995712041854858      │\n",
       "│ Train/PolicyRatio/Max          │ 0.9995712041854858      │\n",
       "│ Train/PolicyRatio/Std          │ 0.00030320443329401314  │\n",
       "│ Train/LR                       │ 0.0                     │\n",
       "│ Train/PolicyStd                │ 0.7620248794555664      │\n",
       "│ TotalEnvSteps                  │ 400000.0                │\n",
       "│ Loss/Loss_pi                   │ -0.009386535733938217   │\n",
       "│ Loss/Loss_pi/Delta             │ 0.0006394451484084129   │\n",
       "│ Value/Adv                      │ -1.9836425835251248e-08 │\n",
       "│ Loss/Loss_reward_critic        │ 0.019628798589110374    │\n",
       "│ Loss/Loss_reward_critic/Delta  │ -0.002904145047068596   │\n",
       "│ Value/reward                   │ 1.99783456325531        │\n",
       "│ Loss/Loss_cost_critic          │ 0.954868495464325       │\n",
       "│ Loss/Loss_cost_critic/Delta    │ -0.09556728601455688    │\n",
       "│ Value/cost                     │ 5.748630523681641       │\n",
       "│ Time/Total                     │ 1128.09228515625        │\n",
       "│ Time/Rollout                   │ 43.28584289550781       │\n",
       "│ Time/Update                    │ 12.811781883239746      │\n",
       "│ Time/Epoch                     │ 56.097625732421875      │\n",
       "│ Time/FPS                       │ 356.5213317871094       │\n",
       "│ Misc/Alpha                     │ 1.3427374362945557      │\n",
       "│ Misc/FinalStepNorm             │ 0.30216288566589355     │\n",
       "│ Misc/gradient_norm             │ 0.0903083011507988      │\n",
       "│ Misc/xHx                       │ 0.011092958971858025    │\n",
       "│ Misc/H_inv_g                   │ 0.22503499686717987     │\n",
       "│ Misc/AcceptanceStep            │ 1.0                     │\n",
       "│ Metrics/LagrangeMultiplier/Mea │ 0.6100249886512756      │\n",
       "│ Metrics/LagrangeMultiplier/Min │ 0.6100249886512756      │\n",
       "│ Metrics/LagrangeMultiplier/Max │ 0.6100249886512756      │\n",
       "│ Metrics/LagrangeMultiplier/Std │ 0.0                     │\n",
       "└────────────────────────────────┴─────────────────────────┘\n",
       "</pre>\n"
      ],
      "text/plain": [
       "┏━━━━━━━━━━━━━━━━━━━━━━━━━━━━━━━━┳━━━━━━━━━━━━━━━━━━━━━━━━━┓\n",
       "┃\u001b[1m \u001b[0m\u001b[1mMetrics                       \u001b[0m\u001b[1m \u001b[0m┃\u001b[1m \u001b[0m\u001b[1mValue                  \u001b[0m\u001b[1m \u001b[0m┃\n",
       "┡━━━━━━━━━━━━━━━━━━━━━━━━━━━━━━━━╇━━━━━━━━━━━━━━━━━━━━━━━━━┩\n",
       "│ Metrics/EpRet                  │ 22.463394165039062      │\n",
       "│ Metrics/EpCost                 │ 44.2400016784668        │\n",
       "│ Metrics/EpLen                  │ 1000.0                  │\n",
       "│ Train/Epoch                    │ 19.0                    │\n",
       "│ Train/Entropy                  │ 1.1300452947616577      │\n",
       "│ Train/KL                       │ 0.00028813330573029816  │\n",
       "│ Train/StopIter                 │ 10.0                    │\n",
       "│ Train/PolicyRatio/Mean         │ 0.9995711445808411      │\n",
       "│ Train/PolicyRatio/Min          │ 0.9995712041854858      │\n",
       "│ Train/PolicyRatio/Max          │ 0.9995712041854858      │\n",
       "│ Train/PolicyRatio/Std          │ 0.00030320443329401314  │\n",
       "│ Train/LR                       │ 0.0                     │\n",
       "│ Train/PolicyStd                │ 0.7620248794555664      │\n",
       "│ TotalEnvSteps                  │ 400000.0                │\n",
       "│ Loss/Loss_pi                   │ -0.009386535733938217   │\n",
       "│ Loss/Loss_pi/Delta             │ 0.0006394451484084129   │\n",
       "│ Value/Adv                      │ -1.9836425835251248e-08 │\n",
       "│ Loss/Loss_reward_critic        │ 0.019628798589110374    │\n",
       "│ Loss/Loss_reward_critic/Delta  │ -0.002904145047068596   │\n",
       "│ Value/reward                   │ 1.99783456325531        │\n",
       "│ Loss/Loss_cost_critic          │ 0.954868495464325       │\n",
       "│ Loss/Loss_cost_critic/Delta    │ -0.09556728601455688    │\n",
       "│ Value/cost                     │ 5.748630523681641       │\n",
       "│ Time/Total                     │ 1128.09228515625        │\n",
       "│ Time/Rollout                   │ 43.28584289550781       │\n",
       "│ Time/Update                    │ 12.811781883239746      │\n",
       "│ Time/Epoch                     │ 56.097625732421875      │\n",
       "│ Time/FPS                       │ 356.5213317871094       │\n",
       "│ Misc/Alpha                     │ 1.3427374362945557      │\n",
       "│ Misc/FinalStepNorm             │ 0.30216288566589355     │\n",
       "│ Misc/gradient_norm             │ 0.0903083011507988      │\n",
       "│ Misc/xHx                       │ 0.011092958971858025    │\n",
       "│ Misc/H_inv_g                   │ 0.22503499686717987     │\n",
       "│ Misc/AcceptanceStep            │ 1.0                     │\n",
       "│ Metrics/LagrangeMultiplier/Mea │ 0.6100249886512756      │\n",
       "│ Metrics/LagrangeMultiplier/Min │ 0.6100249886512756      │\n",
       "│ Metrics/LagrangeMultiplier/Max │ 0.6100249886512756      │\n",
       "│ Metrics/LagrangeMultiplier/Std │ 0.0                     │\n",
       "└────────────────────────────────┴─────────────────────────┘\n"
      ]
     },
     "metadata": {},
     "output_type": "display_data"
    },
    {
     "data": {
      "text/html": [
       "<pre style=\"white-space:pre;overflow-x:auto;line-height:normal;font-family:Menlo,'DejaVu Sans Mono',consolas,'Courier New',monospace\"><span style=\"color: #008000; text-decoration-color: #008000\">Warning: trajectory cut off when rollout by epoch at </span><span style=\"color: #008080; text-decoration-color: #008080; font-weight: bold\">1000.0</span><span style=\"color: #008000; text-decoration-color: #008000\"> steps.</span>\n",
       "</pre>\n"
      ],
      "text/plain": [
       "\u001b[32mWarning: trajectory cut off when rollout by epoch at \u001b[0m\u001b[1;36m1000.0\u001b[0m\u001b[32m steps.\u001b[0m\n"
      ]
     },
     "metadata": {},
     "output_type": "display_data"
    },
    {
     "data": {
      "text/html": [
       "<pre style=\"white-space:pre;overflow-x:auto;line-height:normal;font-family:Menlo,'DejaVu Sans Mono',consolas,'Courier New',monospace\"><span style=\"color: #008000; text-decoration-color: #008000\">Warning: trajectory cut off when rollout by epoch at </span><span style=\"color: #008080; text-decoration-color: #008080; font-weight: bold\">1000.0</span><span style=\"color: #008000; text-decoration-color: #008000\"> steps.</span>\n",
       "</pre>\n"
      ],
      "text/plain": [
       "\u001b[32mWarning: trajectory cut off when rollout by epoch at \u001b[0m\u001b[1;36m1000.0\u001b[0m\u001b[32m steps.\u001b[0m\n"
      ]
     },
     "metadata": {},
     "output_type": "display_data"
    },
    {
     "data": {
      "text/html": [
       "<pre style=\"white-space:pre;overflow-x:auto;line-height:normal;font-family:Menlo,'DejaVu Sans Mono',consolas,'Courier New',monospace\"><span style=\"color: #008000; text-decoration-color: #008000\">Warning: trajectory cut off when rollout by epoch at </span><span style=\"color: #008080; text-decoration-color: #008080; font-weight: bold\">1000.0</span><span style=\"color: #008000; text-decoration-color: #008000\"> steps.</span>\n",
       "</pre>\n"
      ],
      "text/plain": [
       "\u001b[32mWarning: trajectory cut off when rollout by epoch at \u001b[0m\u001b[1;36m1000.0\u001b[0m\u001b[32m steps.\u001b[0m\n"
      ]
     },
     "metadata": {},
     "output_type": "display_data"
    },
    {
     "data": {
      "text/html": [
       "<pre style=\"white-space:pre;overflow-x:auto;line-height:normal;font-family:Menlo,'DejaVu Sans Mono',consolas,'Courier New',monospace\"><span style=\"color: #008000; text-decoration-color: #008000\">Warning: trajectory cut off when rollout by epoch at </span><span style=\"color: #008080; text-decoration-color: #008080; font-weight: bold\">1000.0</span><span style=\"color: #008000; text-decoration-color: #008000\"> steps.</span>\n",
       "</pre>\n"
      ],
      "text/plain": [
       "\u001b[32mWarning: trajectory cut off when rollout by epoch at \u001b[0m\u001b[1;36m1000.0\u001b[0m\u001b[32m steps.\u001b[0m\n"
      ]
     },
     "metadata": {},
     "output_type": "display_data"
    },
    {
     "data": {
      "text/html": [
       "<pre style=\"white-space:pre;overflow-x:auto;line-height:normal;font-family:Menlo,'DejaVu Sans Mono',consolas,'Courier New',monospace\"></pre>\n"
      ],
      "text/plain": []
     },
     "metadata": {},
     "output_type": "display_data"
    },
    {
     "data": {
      "text/html": [
       "<pre style=\"white-space:pre;overflow-x:auto;line-height:normal;font-family:Menlo,'DejaVu Sans Mono',consolas,'Courier New',monospace\">\n",
       "</pre>\n"
      ],
      "text/plain": [
       "\n"
      ]
     },
     "metadata": {},
     "output_type": "display_data"
    },
    {
     "data": {
      "text/html": [
       "<pre style=\"white-space:pre;overflow-x:auto;line-height:normal;font-family:Menlo,'DejaVu Sans Mono',consolas,'Courier New',monospace\"><span style=\"color: #008000; text-decoration-color: #008000\">Expected Improvement: </span><span style=\"color: #008080; text-decoration-color: #008080; font-weight: bold\">0.01534714363515377</span><span style=\"color: #008000; text-decoration-color: #008000\"> Actual: </span><span style=\"color: #008080; text-decoration-color: #008080; font-weight: bold\">0.0151633620262146</span>\n",
       "</pre>\n"
      ],
      "text/plain": [
       "\u001b[32mExpected Improvement: \u001b[0m\u001b[1;36m0.01534714363515377\u001b[0m\u001b[32m Actual: \u001b[0m\u001b[1;36m0.0151633620262146\u001b[0m\n"
      ]
     },
     "metadata": {},
     "output_type": "display_data"
    },
    {
     "data": {
      "text/html": [
       "<pre style=\"white-space:pre;overflow-x:auto;line-height:normal;font-family:Menlo,'DejaVu Sans Mono',consolas,'Courier New',monospace\"><span style=\"color: #008000; text-decoration-color: #008000\">Accept step at </span><span style=\"color: #808000; text-decoration-color: #808000\">i</span><span style=\"color: #008000; text-decoration-color: #008000\">=</span><span style=\"color: #008080; text-decoration-color: #008080; font-weight: bold\">1</span>\n",
       "</pre>\n"
      ],
      "text/plain": [
       "\u001b[32mAccept step at \u001b[0m\u001b[33mi\u001b[0m\u001b[32m=\u001b[0m\u001b[1;36m1\u001b[0m\n"
      ]
     },
     "metadata": {},
     "output_type": "display_data"
    },
    {
     "data": {
      "text/html": [
       "<pre style=\"white-space:pre;overflow-x:auto;line-height:normal;font-family:Menlo,'DejaVu Sans Mono',consolas,'Courier New',monospace\">┏━━━━━━━━━━━━━━━━━━━━━━━━━━━━━━━━┳━━━━━━━━━━━━━━━━━━━━━━━━┓\n",
       "┃<span style=\"font-weight: bold\"> Metrics                        </span>┃<span style=\"font-weight: bold\"> Value                  </span>┃\n",
       "┡━━━━━━━━━━━━━━━━━━━━━━━━━━━━━━━━╇━━━━━━━━━━━━━━━━━━━━━━━━┩\n",
       "│ Metrics/EpRet                  │ 23.1833438873291       │\n",
       "│ Metrics/EpCost                 │ 38.34000015258789      │\n",
       "│ Metrics/EpLen                  │ 1000.0                 │\n",
       "│ Train/Epoch                    │ 20.0                   │\n",
       "│ Train/Entropy                  │ 1.1276397705078125     │\n",
       "│ Train/KL                       │ 0.0003462679742369801  │\n",
       "│ Train/StopIter                 │ 10.0                   │\n",
       "│ Train/PolicyRatio/Mean         │ 0.9999677538871765     │\n",
       "│ Train/PolicyRatio/Min          │ 0.9999677538871765     │\n",
       "│ Train/PolicyRatio/Max          │ 0.9999677538871765     │\n",
       "│ Train/PolicyRatio/Std          │ 2.2843669285066426e-05 │\n",
       "│ Train/LR                       │ 0.0                    │\n",
       "│ Train/PolicyStd                │ 0.7616148591041565     │\n",
       "│ TotalEnvSteps                  │ 420000.0               │\n",
       "│ Loss/Loss_pi                   │ -0.010108920745551586  │\n",
       "│ Loss/Loss_pi/Delta             │ -0.000722385011613369  │\n",
       "│ Value/Adv                      │ 7.629394338515283e-10  │\n",
       "│ Loss/Loss_reward_critic        │ 0.02160065248608589    │\n",
       "│ Loss/Loss_reward_critic/Delta  │ 0.0019718538969755173  │\n",
       "│ Value/reward                   │ 2.0027832984924316     │\n",
       "│ Loss/Loss_cost_critic          │ 0.9266761541366577     │\n",
       "│ Loss/Loss_cost_critic/Delta    │ -0.028192341327667236  │\n",
       "│ Value/cost                     │ 5.366926670074463      │\n",
       "│ Time/Total                     │ 1183.55810546875       │\n",
       "│ Time/Rollout                   │ 42.5322151184082       │\n",
       "│ Time/Update                    │ 12.898555755615234     │\n",
       "│ Time/Epoch                     │ 55.43077087402344      │\n",
       "│ Time/FPS                       │ 360.8104248046875      │\n",
       "│ Misc/Alpha                     │ 1.305009126663208      │\n",
       "│ Misc/FinalStepNorm             │ 0.2795449495315552     │\n",
       "│ Misc/gradient_norm             │ 0.09069299697875977    │\n",
       "│ Misc/xHx                       │ 0.011743634939193726   │\n",
       "│ Misc/H_inv_g                   │ 0.21420921385288239    │\n",
       "│ Misc/AcceptanceStep            │ 1.0                    │\n",
       "│ Metrics/LagrangeMultiplier/Mea │ 0.635601818561554      │\n",
       "│ Metrics/LagrangeMultiplier/Min │ 0.635601818561554      │\n",
       "│ Metrics/LagrangeMultiplier/Max │ 0.635601818561554      │\n",
       "│ Metrics/LagrangeMultiplier/Std │ 0.0                    │\n",
       "└────────────────────────────────┴────────────────────────┘\n",
       "</pre>\n"
      ],
      "text/plain": [
       "┏━━━━━━━━━━━━━━━━━━━━━━━━━━━━━━━━┳━━━━━━━━━━━━━━━━━━━━━━━━┓\n",
       "┃\u001b[1m \u001b[0m\u001b[1mMetrics                       \u001b[0m\u001b[1m \u001b[0m┃\u001b[1m \u001b[0m\u001b[1mValue                 \u001b[0m\u001b[1m \u001b[0m┃\n",
       "┡━━━━━━━━━━━━━━━━━━━━━━━━━━━━━━━━╇━━━━━━━━━━━━━━━━━━━━━━━━┩\n",
       "│ Metrics/EpRet                  │ 23.1833438873291       │\n",
       "│ Metrics/EpCost                 │ 38.34000015258789      │\n",
       "│ Metrics/EpLen                  │ 1000.0                 │\n",
       "│ Train/Epoch                    │ 20.0                   │\n",
       "│ Train/Entropy                  │ 1.1276397705078125     │\n",
       "│ Train/KL                       │ 0.0003462679742369801  │\n",
       "│ Train/StopIter                 │ 10.0                   │\n",
       "│ Train/PolicyRatio/Mean         │ 0.9999677538871765     │\n",
       "│ Train/PolicyRatio/Min          │ 0.9999677538871765     │\n",
       "│ Train/PolicyRatio/Max          │ 0.9999677538871765     │\n",
       "│ Train/PolicyRatio/Std          │ 2.2843669285066426e-05 │\n",
       "│ Train/LR                       │ 0.0                    │\n",
       "│ Train/PolicyStd                │ 0.7616148591041565     │\n",
       "│ TotalEnvSteps                  │ 420000.0               │\n",
       "│ Loss/Loss_pi                   │ -0.010108920745551586  │\n",
       "│ Loss/Loss_pi/Delta             │ -0.000722385011613369  │\n",
       "│ Value/Adv                      │ 7.629394338515283e-10  │\n",
       "│ Loss/Loss_reward_critic        │ 0.02160065248608589    │\n",
       "│ Loss/Loss_reward_critic/Delta  │ 0.0019718538969755173  │\n",
       "│ Value/reward                   │ 2.0027832984924316     │\n",
       "│ Loss/Loss_cost_critic          │ 0.9266761541366577     │\n",
       "│ Loss/Loss_cost_critic/Delta    │ -0.028192341327667236  │\n",
       "│ Value/cost                     │ 5.366926670074463      │\n",
       "│ Time/Total                     │ 1183.55810546875       │\n",
       "│ Time/Rollout                   │ 42.5322151184082       │\n",
       "│ Time/Update                    │ 12.898555755615234     │\n",
       "│ Time/Epoch                     │ 55.43077087402344      │\n",
       "│ Time/FPS                       │ 360.8104248046875      │\n",
       "│ Misc/Alpha                     │ 1.305009126663208      │\n",
       "│ Misc/FinalStepNorm             │ 0.2795449495315552     │\n",
       "│ Misc/gradient_norm             │ 0.09069299697875977    │\n",
       "│ Misc/xHx                       │ 0.011743634939193726   │\n",
       "│ Misc/H_inv_g                   │ 0.21420921385288239    │\n",
       "│ Misc/AcceptanceStep            │ 1.0                    │\n",
       "│ Metrics/LagrangeMultiplier/Mea │ 0.635601818561554      │\n",
       "│ Metrics/LagrangeMultiplier/Min │ 0.635601818561554      │\n",
       "│ Metrics/LagrangeMultiplier/Max │ 0.635601818561554      │\n",
       "│ Metrics/LagrangeMultiplier/Std │ 0.0                    │\n",
       "└────────────────────────────────┴────────────────────────┘\n"
      ]
     },
     "metadata": {},
     "output_type": "display_data"
    },
    {
     "data": {
      "text/html": [
       "<pre style=\"white-space:pre;overflow-x:auto;line-height:normal;font-family:Menlo,'DejaVu Sans Mono',consolas,'Courier New',monospace\"><span style=\"color: #008000; text-decoration-color: #008000\">Warning: trajectory cut off when rollout by epoch at </span><span style=\"color: #008080; text-decoration-color: #008080; font-weight: bold\">1000.0</span><span style=\"color: #008000; text-decoration-color: #008000\"> steps.</span>\n",
       "</pre>\n"
      ],
      "text/plain": [
       "\u001b[32mWarning: trajectory cut off when rollout by epoch at \u001b[0m\u001b[1;36m1000.0\u001b[0m\u001b[32m steps.\u001b[0m\n"
      ]
     },
     "metadata": {},
     "output_type": "display_data"
    },
    {
     "data": {
      "text/html": [
       "<pre style=\"white-space:pre;overflow-x:auto;line-height:normal;font-family:Menlo,'DejaVu Sans Mono',consolas,'Courier New',monospace\"><span style=\"color: #008000; text-decoration-color: #008000\">Warning: trajectory cut off when rollout by epoch at </span><span style=\"color: #008080; text-decoration-color: #008080; font-weight: bold\">1000.0</span><span style=\"color: #008000; text-decoration-color: #008000\"> steps.</span>\n",
       "</pre>\n"
      ],
      "text/plain": [
       "\u001b[32mWarning: trajectory cut off when rollout by epoch at \u001b[0m\u001b[1;36m1000.0\u001b[0m\u001b[32m steps.\u001b[0m\n"
      ]
     },
     "metadata": {},
     "output_type": "display_data"
    },
    {
     "data": {
      "text/html": [
       "<pre style=\"white-space:pre;overflow-x:auto;line-height:normal;font-family:Menlo,'DejaVu Sans Mono',consolas,'Courier New',monospace\"><span style=\"color: #008000; text-decoration-color: #008000\">Warning: trajectory cut off when rollout by epoch at </span><span style=\"color: #008080; text-decoration-color: #008080; font-weight: bold\">1000.0</span><span style=\"color: #008000; text-decoration-color: #008000\"> steps.</span>\n",
       "</pre>\n"
      ],
      "text/plain": [
       "\u001b[32mWarning: trajectory cut off when rollout by epoch at \u001b[0m\u001b[1;36m1000.0\u001b[0m\u001b[32m steps.\u001b[0m\n"
      ]
     },
     "metadata": {},
     "output_type": "display_data"
    },
    {
     "data": {
      "text/html": [
       "<pre style=\"white-space:pre;overflow-x:auto;line-height:normal;font-family:Menlo,'DejaVu Sans Mono',consolas,'Courier New',monospace\"><span style=\"color: #008000; text-decoration-color: #008000\">Warning: trajectory cut off when rollout by epoch at </span><span style=\"color: #008080; text-decoration-color: #008080; font-weight: bold\">1000.0</span><span style=\"color: #008000; text-decoration-color: #008000\"> steps.</span>\n",
       "</pre>\n"
      ],
      "text/plain": [
       "\u001b[32mWarning: trajectory cut off when rollout by epoch at \u001b[0m\u001b[1;36m1000.0\u001b[0m\u001b[32m steps.\u001b[0m\n"
      ]
     },
     "metadata": {},
     "output_type": "display_data"
    },
    {
     "data": {
      "text/html": [
       "<pre style=\"white-space:pre;overflow-x:auto;line-height:normal;font-family:Menlo,'DejaVu Sans Mono',consolas,'Courier New',monospace\"></pre>\n"
      ],
      "text/plain": []
     },
     "metadata": {},
     "output_type": "display_data"
    },
    {
     "data": {
      "text/html": [
       "<pre style=\"white-space:pre;overflow-x:auto;line-height:normal;font-family:Menlo,'DejaVu Sans Mono',consolas,'Courier New',monospace\">\n",
       "</pre>\n"
      ],
      "text/plain": [
       "\n"
      ]
     },
     "metadata": {},
     "output_type": "display_data"
    },
    {
     "data": {
      "text/html": [
       "<pre style=\"white-space:pre;overflow-x:auto;line-height:normal;font-family:Menlo,'DejaVu Sans Mono',consolas,'Courier New',monospace\"><span style=\"color: #008000; text-decoration-color: #008000\">Expected Improvement: </span><span style=\"color: #008080; text-decoration-color: #008080; font-weight: bold\">0.017400646582245827</span><span style=\"color: #008000; text-decoration-color: #008000\"> Actual: </span><span style=\"color: #008080; text-decoration-color: #008080; font-weight: bold\">0.01749843917787075</span>\n",
       "</pre>\n"
      ],
      "text/plain": [
       "\u001b[32mExpected Improvement: \u001b[0m\u001b[1;36m0.017400646582245827\u001b[0m\u001b[32m Actual: \u001b[0m\u001b[1;36m0.01749843917787075\u001b[0m\n"
      ]
     },
     "metadata": {},
     "output_type": "display_data"
    },
    {
     "data": {
      "text/html": [
       "<pre style=\"white-space:pre;overflow-x:auto;line-height:normal;font-family:Menlo,'DejaVu Sans Mono',consolas,'Courier New',monospace\"><span style=\"color: #008000; text-decoration-color: #008000\">Accept step at </span><span style=\"color: #808000; text-decoration-color: #808000\">i</span><span style=\"color: #008000; text-decoration-color: #008000\">=</span><span style=\"color: #008080; text-decoration-color: #008080; font-weight: bold\">1</span>\n",
       "</pre>\n"
      ],
      "text/plain": [
       "\u001b[32mAccept step at \u001b[0m\u001b[33mi\u001b[0m\u001b[32m=\u001b[0m\u001b[1;36m1\u001b[0m\n"
      ]
     },
     "metadata": {},
     "output_type": "display_data"
    },
    {
     "data": {
      "text/html": [
       "<pre style=\"white-space:pre;overflow-x:auto;line-height:normal;font-family:Menlo,'DejaVu Sans Mono',consolas,'Courier New',monospace\">┏━━━━━━━━━━━━━━━━━━━━━━━━━━━━━━━━┳━━━━━━━━━━━━━━━━━━━━━━━━━┓\n",
       "┃<span style=\"font-weight: bold\"> Metrics                        </span>┃<span style=\"font-weight: bold\"> Value                   </span>┃\n",
       "┡━━━━━━━━━━━━━━━━━━━━━━━━━━━━━━━━╇━━━━━━━━━━━━━━━━━━━━━━━━━┩\n",
       "│ Metrics/EpRet                  │ 23.48316192626953       │\n",
       "│ Metrics/EpCost                 │ 35.36000061035156       │\n",
       "│ Metrics/EpLen                  │ 1000.0                  │\n",
       "│ Train/Epoch                    │ 21.0                    │\n",
       "│ Train/Entropy                  │ 1.1209707260131836      │\n",
       "│ Train/KL                       │ 0.00034166895784437656  │\n",
       "│ Train/StopIter                 │ 10.0                    │\n",
       "│ Train/PolicyRatio/Mean         │ 0.9995597004890442      │\n",
       "│ Train/PolicyRatio/Min          │ 0.999559760093689       │\n",
       "│ Train/PolicyRatio/Max          │ 0.999559760093689       │\n",
       "│ Train/PolicyRatio/Std          │ 0.0003112966369371861   │\n",
       "│ Train/LR                       │ 0.0                     │\n",
       "│ Train/PolicyStd                │ 0.7570075988769531      │\n",
       "│ TotalEnvSteps                  │ 440000.0                │\n",
       "│ Loss/Loss_pi                   │ -0.01166561245918274    │\n",
       "│ Loss/Loss_pi/Delta             │ -0.001556691713631153   │\n",
       "│ Value/Adv                      │ -2.8991697931246563e-08 │\n",
       "│ Loss/Loss_reward_critic        │ 0.019709791988134384    │\n",
       "│ Loss/Loss_reward_critic/Delta  │ -0.0018908604979515076  │\n",
       "│ Value/reward                   │ 2.0735177993774414      │\n",
       "│ Loss/Loss_cost_critic          │ 0.9808127284049988      │\n",
       "│ Loss/Loss_cost_critic/Delta    │ 0.054136574268341064    │\n",
       "│ Value/cost                     │ 5.6042327880859375      │\n",
       "│ Time/Total                     │ 1239.3194580078125      │\n",
       "│ Time/Rollout                   │ 42.713924407958984      │\n",
       "│ Time/Update                    │ 12.999444961547852      │\n",
       "│ Time/Epoch                     │ 55.71337127685547       │\n",
       "│ Time/FPS                       │ 358.9802551269531       │\n",
       "│ Misc/Alpha                     │ 1.151059865951538       │\n",
       "│ Misc/FinalStepNorm             │ 0.2855985164642334      │\n",
       "│ Misc/gradient_norm             │ 0.10770037770271301     │\n",
       "│ Misc/xHx                       │ 0.015095027163624763    │\n",
       "│ Misc/H_inv_g                   │ 0.24811787903308868     │\n",
       "│ Misc/AcceptanceStep            │ 1.0                     │\n",
       "│ Metrics/LagrangeMultiplier/Mea │ 0.6598970890045166      │\n",
       "│ Metrics/LagrangeMultiplier/Min │ 0.6598970890045166      │\n",
       "│ Metrics/LagrangeMultiplier/Max │ 0.6598970890045166      │\n",
       "│ Metrics/LagrangeMultiplier/Std │ 0.0                     │\n",
       "└────────────────────────────────┴─────────────────────────┘\n",
       "</pre>\n"
      ],
      "text/plain": [
       "┏━━━━━━━━━━━━━━━━━━━━━━━━━━━━━━━━┳━━━━━━━━━━━━━━━━━━━━━━━━━┓\n",
       "┃\u001b[1m \u001b[0m\u001b[1mMetrics                       \u001b[0m\u001b[1m \u001b[0m┃\u001b[1m \u001b[0m\u001b[1mValue                  \u001b[0m\u001b[1m \u001b[0m┃\n",
       "┡━━━━━━━━━━━━━━━━━━━━━━━━━━━━━━━━╇━━━━━━━━━━━━━━━━━━━━━━━━━┩\n",
       "│ Metrics/EpRet                  │ 23.48316192626953       │\n",
       "│ Metrics/EpCost                 │ 35.36000061035156       │\n",
       "│ Metrics/EpLen                  │ 1000.0                  │\n",
       "│ Train/Epoch                    │ 21.0                    │\n",
       "│ Train/Entropy                  │ 1.1209707260131836      │\n",
       "│ Train/KL                       │ 0.00034166895784437656  │\n",
       "│ Train/StopIter                 │ 10.0                    │\n",
       "│ Train/PolicyRatio/Mean         │ 0.9995597004890442      │\n",
       "│ Train/PolicyRatio/Min          │ 0.999559760093689       │\n",
       "│ Train/PolicyRatio/Max          │ 0.999559760093689       │\n",
       "│ Train/PolicyRatio/Std          │ 0.0003112966369371861   │\n",
       "│ Train/LR                       │ 0.0                     │\n",
       "│ Train/PolicyStd                │ 0.7570075988769531      │\n",
       "│ TotalEnvSteps                  │ 440000.0                │\n",
       "│ Loss/Loss_pi                   │ -0.01166561245918274    │\n",
       "│ Loss/Loss_pi/Delta             │ -0.001556691713631153   │\n",
       "│ Value/Adv                      │ -2.8991697931246563e-08 │\n",
       "│ Loss/Loss_reward_critic        │ 0.019709791988134384    │\n",
       "│ Loss/Loss_reward_critic/Delta  │ -0.0018908604979515076  │\n",
       "│ Value/reward                   │ 2.0735177993774414      │\n",
       "│ Loss/Loss_cost_critic          │ 0.9808127284049988      │\n",
       "│ Loss/Loss_cost_critic/Delta    │ 0.054136574268341064    │\n",
       "│ Value/cost                     │ 5.6042327880859375      │\n",
       "│ Time/Total                     │ 1239.3194580078125      │\n",
       "│ Time/Rollout                   │ 42.713924407958984      │\n",
       "│ Time/Update                    │ 12.999444961547852      │\n",
       "│ Time/Epoch                     │ 55.71337127685547       │\n",
       "│ Time/FPS                       │ 358.9802551269531       │\n",
       "│ Misc/Alpha                     │ 1.151059865951538       │\n",
       "│ Misc/FinalStepNorm             │ 0.2855985164642334      │\n",
       "│ Misc/gradient_norm             │ 0.10770037770271301     │\n",
       "│ Misc/xHx                       │ 0.015095027163624763    │\n",
       "│ Misc/H_inv_g                   │ 0.24811787903308868     │\n",
       "│ Misc/AcceptanceStep            │ 1.0                     │\n",
       "│ Metrics/LagrangeMultiplier/Mea │ 0.6598970890045166      │\n",
       "│ Metrics/LagrangeMultiplier/Min │ 0.6598970890045166      │\n",
       "│ Metrics/LagrangeMultiplier/Max │ 0.6598970890045166      │\n",
       "│ Metrics/LagrangeMultiplier/Std │ 0.0                     │\n",
       "└────────────────────────────────┴─────────────────────────┘\n"
      ]
     },
     "metadata": {},
     "output_type": "display_data"
    },
    {
     "data": {
      "text/html": [
       "<pre style=\"white-space:pre;overflow-x:auto;line-height:normal;font-family:Menlo,'DejaVu Sans Mono',consolas,'Courier New',monospace\"><span style=\"color: #008000; text-decoration-color: #008000\">Warning: trajectory cut off when rollout by epoch at </span><span style=\"color: #008080; text-decoration-color: #008080; font-weight: bold\">1000.0</span><span style=\"color: #008000; text-decoration-color: #008000\"> steps.</span>\n",
       "</pre>\n"
      ],
      "text/plain": [
       "\u001b[32mWarning: trajectory cut off when rollout by epoch at \u001b[0m\u001b[1;36m1000.0\u001b[0m\u001b[32m steps.\u001b[0m\n"
      ]
     },
     "metadata": {},
     "output_type": "display_data"
    },
    {
     "data": {
      "text/html": [
       "<pre style=\"white-space:pre;overflow-x:auto;line-height:normal;font-family:Menlo,'DejaVu Sans Mono',consolas,'Courier New',monospace\"><span style=\"color: #008000; text-decoration-color: #008000\">Warning: trajectory cut off when rollout by epoch at </span><span style=\"color: #008080; text-decoration-color: #008080; font-weight: bold\">1000.0</span><span style=\"color: #008000; text-decoration-color: #008000\"> steps.</span>\n",
       "</pre>\n"
      ],
      "text/plain": [
       "\u001b[32mWarning: trajectory cut off when rollout by epoch at \u001b[0m\u001b[1;36m1000.0\u001b[0m\u001b[32m steps.\u001b[0m\n"
      ]
     },
     "metadata": {},
     "output_type": "display_data"
    },
    {
     "data": {
      "text/html": [
       "<pre style=\"white-space:pre;overflow-x:auto;line-height:normal;font-family:Menlo,'DejaVu Sans Mono',consolas,'Courier New',monospace\"><span style=\"color: #008000; text-decoration-color: #008000\">Warning: trajectory cut off when rollout by epoch at </span><span style=\"color: #008080; text-decoration-color: #008080; font-weight: bold\">1000.0</span><span style=\"color: #008000; text-decoration-color: #008000\"> steps.</span>\n",
       "</pre>\n"
      ],
      "text/plain": [
       "\u001b[32mWarning: trajectory cut off when rollout by epoch at \u001b[0m\u001b[1;36m1000.0\u001b[0m\u001b[32m steps.\u001b[0m\n"
      ]
     },
     "metadata": {},
     "output_type": "display_data"
    },
    {
     "data": {
      "text/html": [
       "<pre style=\"white-space:pre;overflow-x:auto;line-height:normal;font-family:Menlo,'DejaVu Sans Mono',consolas,'Courier New',monospace\"><span style=\"color: #008000; text-decoration-color: #008000\">Warning: trajectory cut off when rollout by epoch at </span><span style=\"color: #008080; text-decoration-color: #008080; font-weight: bold\">1000.0</span><span style=\"color: #008000; text-decoration-color: #008000\"> steps.</span>\n",
       "</pre>\n"
      ],
      "text/plain": [
       "\u001b[32mWarning: trajectory cut off when rollout by epoch at \u001b[0m\u001b[1;36m1000.0\u001b[0m\u001b[32m steps.\u001b[0m\n"
      ]
     },
     "metadata": {},
     "output_type": "display_data"
    },
    {
     "data": {
      "text/html": [
       "<pre style=\"white-space:pre;overflow-x:auto;line-height:normal;font-family:Menlo,'DejaVu Sans Mono',consolas,'Courier New',monospace\"></pre>\n"
      ],
      "text/plain": []
     },
     "metadata": {},
     "output_type": "display_data"
    },
    {
     "data": {
      "text/html": [
       "<pre style=\"white-space:pre;overflow-x:auto;line-height:normal;font-family:Menlo,'DejaVu Sans Mono',consolas,'Courier New',monospace\">\n",
       "</pre>\n"
      ],
      "text/plain": [
       "\n"
      ]
     },
     "metadata": {},
     "output_type": "display_data"
    },
    {
     "data": {
      "text/html": [
       "<pre style=\"white-space:pre;overflow-x:auto;line-height:normal;font-family:Menlo,'DejaVu Sans Mono',consolas,'Courier New',monospace\"><span style=\"color: #008000; text-decoration-color: #008000\">Expected Improvement: </span><span style=\"color: #008080; text-decoration-color: #008080; font-weight: bold\">0.01656418852508068</span><span style=\"color: #008000; text-decoration-color: #008000\"> Actual: </span><span style=\"color: #008080; text-decoration-color: #008080; font-weight: bold\">0.016627052798867226</span>\n",
       "</pre>\n"
      ],
      "text/plain": [
       "\u001b[32mExpected Improvement: \u001b[0m\u001b[1;36m0.01656418852508068\u001b[0m\u001b[32m Actual: \u001b[0m\u001b[1;36m0.016627052798867226\u001b[0m\n"
      ]
     },
     "metadata": {},
     "output_type": "display_data"
    },
    {
     "data": {
      "text/html": [
       "<pre style=\"white-space:pre;overflow-x:auto;line-height:normal;font-family:Menlo,'DejaVu Sans Mono',consolas,'Courier New',monospace\"><span style=\"color: #008000; text-decoration-color: #008000\">Accept step at </span><span style=\"color: #808000; text-decoration-color: #808000\">i</span><span style=\"color: #008000; text-decoration-color: #008000\">=</span><span style=\"color: #008080; text-decoration-color: #008080; font-weight: bold\">1</span>\n",
       "</pre>\n"
      ],
      "text/plain": [
       "\u001b[32mAccept step at \u001b[0m\u001b[33mi\u001b[0m\u001b[32m=\u001b[0m\u001b[1;36m1\u001b[0m\n"
      ]
     },
     "metadata": {},
     "output_type": "display_data"
    },
    {
     "data": {
      "text/html": [
       "<pre style=\"white-space:pre;overflow-x:auto;line-height:normal;font-family:Menlo,'DejaVu Sans Mono',consolas,'Courier New',monospace\">┏━━━━━━━━━━━━━━━━━━━━━━━━━━━━━━━━┳━━━━━━━━━━━━━━━━━━━━━━━━━┓\n",
       "┃<span style=\"font-weight: bold\"> Metrics                        </span>┃<span style=\"font-weight: bold\"> Value                   </span>┃\n",
       "┡━━━━━━━━━━━━━━━━━━━━━━━━━━━━━━━━╇━━━━━━━━━━━━━━━━━━━━━━━━━┩\n",
       "│ Metrics/EpRet                  │ 23.437837600708008      │\n",
       "│ Metrics/EpCost                 │ 41.86000061035156       │\n",
       "│ Metrics/EpLen                  │ 1000.0                  │\n",
       "│ Train/Epoch                    │ 22.0                    │\n",
       "│ Train/Entropy                  │ 1.1187129020690918      │\n",
       "│ Train/KL                       │ 0.00031080489861778915  │\n",
       "│ Train/StopIter                 │ 10.0                    │\n",
       "│ Train/PolicyRatio/Mean         │ 0.9992914199829102      │\n",
       "│ Train/PolicyRatio/Min          │ 0.9992914199829102      │\n",
       "│ Train/PolicyRatio/Max          │ 0.9992914199829102      │\n",
       "│ Train/PolicyRatio/Std          │ 0.0005010698223486543   │\n",
       "│ Train/LR                       │ 0.0                     │\n",
       "│ Train/PolicyStd                │ 0.7553513646125793      │\n",
       "│ TotalEnvSteps                  │ 460000.0                │\n",
       "│ Loss/Loss_pi                   │ -0.01108468696475029    │\n",
       "│ Loss/Loss_pi/Delta             │ 0.0005809254944324493   │\n",
       "│ Value/Adv                      │ -1.2207030941624453e-08 │\n",
       "│ Loss/Loss_reward_critic        │ 0.020209670066833496    │\n",
       "│ Loss/Loss_reward_critic/Delta  │ 0.0004998780786991119   │\n",
       "│ Value/reward                   │ 2.090585947036743       │\n",
       "│ Loss/Loss_cost_critic          │ 1.0561763048171997      │\n",
       "│ Loss/Loss_cost_critic/Delta    │ 0.07536357641220093     │\n",
       "│ Value/cost                     │ 5.46234130859375        │\n",
       "│ Time/Total                     │ 1294.99560546875        │\n",
       "│ Time/Rollout                   │ 42.57782745361328       │\n",
       "│ Time/Update                    │ 13.067279815673828      │\n",
       "│ Time/Epoch                     │ 55.645103454589844      │\n",
       "│ Time/FPS                       │ 359.420654296875        │\n",
       "│ Misc/Alpha                     │ 1.2089879512786865      │\n",
       "│ Misc/FinalStepNorm             │ 0.2994548976421356      │\n",
       "│ Misc/gradient_norm             │ 0.09857199341058731     │\n",
       "│ Misc/xHx                       │ 0.0136831384152174      │\n",
       "│ Misc/H_inv_g                   │ 0.24769055843353271     │\n",
       "│ Misc/AcceptanceStep            │ 1.0                     │\n",
       "│ Metrics/LagrangeMultiplier/Mea │ 0.6836472153663635      │\n",
       "│ Metrics/LagrangeMultiplier/Min │ 0.6836472153663635      │\n",
       "│ Metrics/LagrangeMultiplier/Max │ 0.6836472153663635      │\n",
       "│ Metrics/LagrangeMultiplier/Std │ 0.0                     │\n",
       "└────────────────────────────────┴─────────────────────────┘\n",
       "</pre>\n"
      ],
      "text/plain": [
       "┏━━━━━━━━━━━━━━━━━━━━━━━━━━━━━━━━┳━━━━━━━━━━━━━━━━━━━━━━━━━┓\n",
       "┃\u001b[1m \u001b[0m\u001b[1mMetrics                       \u001b[0m\u001b[1m \u001b[0m┃\u001b[1m \u001b[0m\u001b[1mValue                  \u001b[0m\u001b[1m \u001b[0m┃\n",
       "┡━━━━━━━━━━━━━━━━━━━━━━━━━━━━━━━━╇━━━━━━━━━━━━━━━━━━━━━━━━━┩\n",
       "│ Metrics/EpRet                  │ 23.437837600708008      │\n",
       "│ Metrics/EpCost                 │ 41.86000061035156       │\n",
       "│ Metrics/EpLen                  │ 1000.0                  │\n",
       "│ Train/Epoch                    │ 22.0                    │\n",
       "│ Train/Entropy                  │ 1.1187129020690918      │\n",
       "│ Train/KL                       │ 0.00031080489861778915  │\n",
       "│ Train/StopIter                 │ 10.0                    │\n",
       "│ Train/PolicyRatio/Mean         │ 0.9992914199829102      │\n",
       "│ Train/PolicyRatio/Min          │ 0.9992914199829102      │\n",
       "│ Train/PolicyRatio/Max          │ 0.9992914199829102      │\n",
       "│ Train/PolicyRatio/Std          │ 0.0005010698223486543   │\n",
       "│ Train/LR                       │ 0.0                     │\n",
       "│ Train/PolicyStd                │ 0.7553513646125793      │\n",
       "│ TotalEnvSteps                  │ 460000.0                │\n",
       "│ Loss/Loss_pi                   │ -0.01108468696475029    │\n",
       "│ Loss/Loss_pi/Delta             │ 0.0005809254944324493   │\n",
       "│ Value/Adv                      │ -1.2207030941624453e-08 │\n",
       "│ Loss/Loss_reward_critic        │ 0.020209670066833496    │\n",
       "│ Loss/Loss_reward_critic/Delta  │ 0.0004998780786991119   │\n",
       "│ Value/reward                   │ 2.090585947036743       │\n",
       "│ Loss/Loss_cost_critic          │ 1.0561763048171997      │\n",
       "│ Loss/Loss_cost_critic/Delta    │ 0.07536357641220093     │\n",
       "│ Value/cost                     │ 5.46234130859375        │\n",
       "│ Time/Total                     │ 1294.99560546875        │\n",
       "│ Time/Rollout                   │ 42.57782745361328       │\n",
       "│ Time/Update                    │ 13.067279815673828      │\n",
       "│ Time/Epoch                     │ 55.645103454589844      │\n",
       "│ Time/FPS                       │ 359.420654296875        │\n",
       "│ Misc/Alpha                     │ 1.2089879512786865      │\n",
       "│ Misc/FinalStepNorm             │ 0.2994548976421356      │\n",
       "│ Misc/gradient_norm             │ 0.09857199341058731     │\n",
       "│ Misc/xHx                       │ 0.0136831384152174      │\n",
       "│ Misc/H_inv_g                   │ 0.24769055843353271     │\n",
       "│ Misc/AcceptanceStep            │ 1.0                     │\n",
       "│ Metrics/LagrangeMultiplier/Mea │ 0.6836472153663635      │\n",
       "│ Metrics/LagrangeMultiplier/Min │ 0.6836472153663635      │\n",
       "│ Metrics/LagrangeMultiplier/Max │ 0.6836472153663635      │\n",
       "│ Metrics/LagrangeMultiplier/Std │ 0.0                     │\n",
       "└────────────────────────────────┴─────────────────────────┘\n"
      ]
     },
     "metadata": {},
     "output_type": "display_data"
    },
    {
     "data": {
      "text/html": [
       "<pre style=\"white-space:pre;overflow-x:auto;line-height:normal;font-family:Menlo,'DejaVu Sans Mono',consolas,'Courier New',monospace\"><span style=\"color: #008000; text-decoration-color: #008000\">Warning: trajectory cut off when rollout by epoch at </span><span style=\"color: #008080; text-decoration-color: #008080; font-weight: bold\">1000.0</span><span style=\"color: #008000; text-decoration-color: #008000\"> steps.</span>\n",
       "</pre>\n"
      ],
      "text/plain": [
       "\u001b[32mWarning: trajectory cut off when rollout by epoch at \u001b[0m\u001b[1;36m1000.0\u001b[0m\u001b[32m steps.\u001b[0m\n"
      ]
     },
     "metadata": {},
     "output_type": "display_data"
    },
    {
     "data": {
      "text/html": [
       "<pre style=\"white-space:pre;overflow-x:auto;line-height:normal;font-family:Menlo,'DejaVu Sans Mono',consolas,'Courier New',monospace\"><span style=\"color: #008000; text-decoration-color: #008000\">Warning: trajectory cut off when rollout by epoch at </span><span style=\"color: #008080; text-decoration-color: #008080; font-weight: bold\">1000.0</span><span style=\"color: #008000; text-decoration-color: #008000\"> steps.</span>\n",
       "</pre>\n"
      ],
      "text/plain": [
       "\u001b[32mWarning: trajectory cut off when rollout by epoch at \u001b[0m\u001b[1;36m1000.0\u001b[0m\u001b[32m steps.\u001b[0m\n"
      ]
     },
     "metadata": {},
     "output_type": "display_data"
    },
    {
     "data": {
      "text/html": [
       "<pre style=\"white-space:pre;overflow-x:auto;line-height:normal;font-family:Menlo,'DejaVu Sans Mono',consolas,'Courier New',monospace\"><span style=\"color: #008000; text-decoration-color: #008000\">Warning: trajectory cut off when rollout by epoch at </span><span style=\"color: #008080; text-decoration-color: #008080; font-weight: bold\">1000.0</span><span style=\"color: #008000; text-decoration-color: #008000\"> steps.</span>\n",
       "</pre>\n"
      ],
      "text/plain": [
       "\u001b[32mWarning: trajectory cut off when rollout by epoch at \u001b[0m\u001b[1;36m1000.0\u001b[0m\u001b[32m steps.\u001b[0m\n"
      ]
     },
     "metadata": {},
     "output_type": "display_data"
    },
    {
     "data": {
      "text/html": [
       "<pre style=\"white-space:pre;overflow-x:auto;line-height:normal;font-family:Menlo,'DejaVu Sans Mono',consolas,'Courier New',monospace\"><span style=\"color: #008000; text-decoration-color: #008000\">Warning: trajectory cut off when rollout by epoch at </span><span style=\"color: #008080; text-decoration-color: #008080; font-weight: bold\">1000.0</span><span style=\"color: #008000; text-decoration-color: #008000\"> steps.</span>\n",
       "</pre>\n"
      ],
      "text/plain": [
       "\u001b[32mWarning: trajectory cut off when rollout by epoch at \u001b[0m\u001b[1;36m1000.0\u001b[0m\u001b[32m steps.\u001b[0m\n"
      ]
     },
     "metadata": {},
     "output_type": "display_data"
    },
    {
     "data": {
      "text/html": [
       "<pre style=\"white-space:pre;overflow-x:auto;line-height:normal;font-family:Menlo,'DejaVu Sans Mono',consolas,'Courier New',monospace\"></pre>\n"
      ],
      "text/plain": []
     },
     "metadata": {},
     "output_type": "display_data"
    },
    {
     "data": {
      "text/html": [
       "<pre style=\"white-space:pre;overflow-x:auto;line-height:normal;font-family:Menlo,'DejaVu Sans Mono',consolas,'Courier New',monospace\">\n",
       "</pre>\n"
      ],
      "text/plain": [
       "\n"
      ]
     },
     "metadata": {},
     "output_type": "display_data"
    },
    {
     "data": {
      "text/html": [
       "<pre style=\"white-space:pre;overflow-x:auto;line-height:normal;font-family:Menlo,'DejaVu Sans Mono',consolas,'Courier New',monospace\"><span style=\"color: #008000; text-decoration-color: #008000\">Expected Improvement: </span><span style=\"color: #008080; text-decoration-color: #008080; font-weight: bold\">0.01674966886639595</span><span style=\"color: #008000; text-decoration-color: #008000\"> Actual: </span><span style=\"color: #008080; text-decoration-color: #008080; font-weight: bold\">0.016651581972837448</span>\n",
       "</pre>\n"
      ],
      "text/plain": [
       "\u001b[32mExpected Improvement: \u001b[0m\u001b[1;36m0.01674966886639595\u001b[0m\u001b[32m Actual: \u001b[0m\u001b[1;36m0.016651581972837448\u001b[0m\n"
      ]
     },
     "metadata": {},
     "output_type": "display_data"
    },
    {
     "data": {
      "text/html": [
       "<pre style=\"white-space:pre;overflow-x:auto;line-height:normal;font-family:Menlo,'DejaVu Sans Mono',consolas,'Courier New',monospace\"><span style=\"color: #008000; text-decoration-color: #008000\">Accept step at </span><span style=\"color: #808000; text-decoration-color: #808000\">i</span><span style=\"color: #008000; text-decoration-color: #008000\">=</span><span style=\"color: #008080; text-decoration-color: #008080; font-weight: bold\">1</span>\n",
       "</pre>\n"
      ],
      "text/plain": [
       "\u001b[32mAccept step at \u001b[0m\u001b[33mi\u001b[0m\u001b[32m=\u001b[0m\u001b[1;36m1\u001b[0m\n"
      ]
     },
     "metadata": {},
     "output_type": "display_data"
    },
    {
     "data": {
      "text/html": [
       "<pre style=\"white-space:pre;overflow-x:auto;line-height:normal;font-family:Menlo,'DejaVu Sans Mono',consolas,'Courier New',monospace\">┏━━━━━━━━━━━━━━━━━━━━━━━━━━━━━━━━┳━━━━━━━━━━━━━━━━━━━━━━━━━┓\n",
       "┃<span style=\"font-weight: bold\"> Metrics                        </span>┃<span style=\"font-weight: bold\"> Value                   </span>┃\n",
       "┡━━━━━━━━━━━━━━━━━━━━━━━━━━━━━━━━╇━━━━━━━━━━━━━━━━━━━━━━━━━┩\n",
       "│ Metrics/EpRet                  │ 23.510757446289062      │\n",
       "│ Metrics/EpCost                 │ 51.29999923706055       │\n",
       "│ Metrics/EpLen                  │ 1000.0                  │\n",
       "│ Train/Epoch                    │ 23.0                    │\n",
       "│ Train/Entropy                  │ 1.1106799840927124      │\n",
       "│ Train/KL                       │ 0.00030836398946121335  │\n",
       "│ Train/StopIter                 │ 10.0                    │\n",
       "│ Train/PolicyRatio/Mean         │ 1.001116156578064       │\n",
       "│ Train/PolicyRatio/Min          │ 1.001116156578064       │\n",
       "│ Train/PolicyRatio/Max          │ 1.001116156578064       │\n",
       "│ Train/PolicyRatio/Std          │ 0.0007891575805842876   │\n",
       "│ Train/LR                       │ 0.0                     │\n",
       "│ Train/PolicyStd                │ 0.7498302459716797      │\n",
       "│ TotalEnvSteps                  │ 480000.0                │\n",
       "│ Loss/Loss_pi                   │ -0.011101067066192627   │\n",
       "│ Loss/Loss_pi/Delta             │ -1.6380101442337036e-05 │\n",
       "│ Value/Adv                      │ 0.0                     │\n",
       "│ Loss/Loss_reward_critic        │ 0.017631644383072853    │\n",
       "│ Loss/Loss_reward_critic/Delta  │ -0.002578025683760643   │\n",
       "│ Value/reward                   │ 2.1407744884490967      │\n",
       "│ Loss/Loss_cost_critic          │ 1.2077503204345703      │\n",
       "│ Loss/Loss_cost_critic/Delta    │ 0.1515740156173706      │\n",
       "│ Value/cost                     │ 5.298035144805908       │\n",
       "│ Time/Total                     │ 1350.2039794921875      │\n",
       "│ Time/Rollout                   │ 42.1234245300293        │\n",
       "│ Time/Update                    │ 13.052982330322266      │\n",
       "│ Time/Epoch                     │ 55.17641067504883       │\n",
       "│ Time/FPS                       │ 362.4737548828125       │\n",
       "│ Misc/Alpha                     │ 1.1953527927398682      │\n",
       "│ Misc/FinalStepNorm             │ 0.31013235449790955     │\n",
       "│ Misc/gradient_norm             │ 0.08699242770671844     │\n",
       "│ Misc/xHx                       │ 0.01399708166718483     │\n",
       "│ Misc/H_inv_g                   │ 0.259448379278183       │\n",
       "│ Misc/AcceptanceStep            │ 1.0                     │\n",
       "│ Metrics/LagrangeMultiplier/Mea │ 0.7077445387840271      │\n",
       "│ Metrics/LagrangeMultiplier/Min │ 0.7077445387840271      │\n",
       "│ Metrics/LagrangeMultiplier/Max │ 0.7077445387840271      │\n",
       "│ Metrics/LagrangeMultiplier/Std │ 0.0                     │\n",
       "└────────────────────────────────┴─────────────────────────┘\n",
       "</pre>\n"
      ],
      "text/plain": [
       "┏━━━━━━━━━━━━━━━━━━━━━━━━━━━━━━━━┳━━━━━━━━━━━━━━━━━━━━━━━━━┓\n",
       "┃\u001b[1m \u001b[0m\u001b[1mMetrics                       \u001b[0m\u001b[1m \u001b[0m┃\u001b[1m \u001b[0m\u001b[1mValue                  \u001b[0m\u001b[1m \u001b[0m┃\n",
       "┡━━━━━━━━━━━━━━━━━━━━━━━━━━━━━━━━╇━━━━━━━━━━━━━━━━━━━━━━━━━┩\n",
       "│ Metrics/EpRet                  │ 23.510757446289062      │\n",
       "│ Metrics/EpCost                 │ 51.29999923706055       │\n",
       "│ Metrics/EpLen                  │ 1000.0                  │\n",
       "│ Train/Epoch                    │ 23.0                    │\n",
       "│ Train/Entropy                  │ 1.1106799840927124      │\n",
       "│ Train/KL                       │ 0.00030836398946121335  │\n",
       "│ Train/StopIter                 │ 10.0                    │\n",
       "│ Train/PolicyRatio/Mean         │ 1.001116156578064       │\n",
       "│ Train/PolicyRatio/Min          │ 1.001116156578064       │\n",
       "│ Train/PolicyRatio/Max          │ 1.001116156578064       │\n",
       "│ Train/PolicyRatio/Std          │ 0.0007891575805842876   │\n",
       "│ Train/LR                       │ 0.0                     │\n",
       "│ Train/PolicyStd                │ 0.7498302459716797      │\n",
       "│ TotalEnvSteps                  │ 480000.0                │\n",
       "│ Loss/Loss_pi                   │ -0.011101067066192627   │\n",
       "│ Loss/Loss_pi/Delta             │ -1.6380101442337036e-05 │\n",
       "│ Value/Adv                      │ 0.0                     │\n",
       "│ Loss/Loss_reward_critic        │ 0.017631644383072853    │\n",
       "│ Loss/Loss_reward_critic/Delta  │ -0.002578025683760643   │\n",
       "│ Value/reward                   │ 2.1407744884490967      │\n",
       "│ Loss/Loss_cost_critic          │ 1.2077503204345703      │\n",
       "│ Loss/Loss_cost_critic/Delta    │ 0.1515740156173706      │\n",
       "│ Value/cost                     │ 5.298035144805908       │\n",
       "│ Time/Total                     │ 1350.2039794921875      │\n",
       "│ Time/Rollout                   │ 42.1234245300293        │\n",
       "│ Time/Update                    │ 13.052982330322266      │\n",
       "│ Time/Epoch                     │ 55.17641067504883       │\n",
       "│ Time/FPS                       │ 362.4737548828125       │\n",
       "│ Misc/Alpha                     │ 1.1953527927398682      │\n",
       "│ Misc/FinalStepNorm             │ 0.31013235449790955     │\n",
       "│ Misc/gradient_norm             │ 0.08699242770671844     │\n",
       "│ Misc/xHx                       │ 0.01399708166718483     │\n",
       "│ Misc/H_inv_g                   │ 0.259448379278183       │\n",
       "│ Misc/AcceptanceStep            │ 1.0                     │\n",
       "│ Metrics/LagrangeMultiplier/Mea │ 0.7077445387840271      │\n",
       "│ Metrics/LagrangeMultiplier/Min │ 0.7077445387840271      │\n",
       "│ Metrics/LagrangeMultiplier/Max │ 0.7077445387840271      │\n",
       "│ Metrics/LagrangeMultiplier/Std │ 0.0                     │\n",
       "└────────────────────────────────┴─────────────────────────┘\n"
      ]
     },
     "metadata": {},
     "output_type": "display_data"
    },
    {
     "data": {
      "text/html": [
       "<pre style=\"white-space:pre;overflow-x:auto;line-height:normal;font-family:Menlo,'DejaVu Sans Mono',consolas,'Courier New',monospace\"><span style=\"color: #008000; text-decoration-color: #008000\">Warning: trajectory cut off when rollout by epoch at </span><span style=\"color: #008080; text-decoration-color: #008080; font-weight: bold\">1000.0</span><span style=\"color: #008000; text-decoration-color: #008000\"> steps.</span>\n",
       "</pre>\n"
      ],
      "text/plain": [
       "\u001b[32mWarning: trajectory cut off when rollout by epoch at \u001b[0m\u001b[1;36m1000.0\u001b[0m\u001b[32m steps.\u001b[0m\n"
      ]
     },
     "metadata": {},
     "output_type": "display_data"
    },
    {
     "data": {
      "text/html": [
       "<pre style=\"white-space:pre;overflow-x:auto;line-height:normal;font-family:Menlo,'DejaVu Sans Mono',consolas,'Courier New',monospace\"><span style=\"color: #008000; text-decoration-color: #008000\">Warning: trajectory cut off when rollout by epoch at </span><span style=\"color: #008080; text-decoration-color: #008080; font-weight: bold\">1000.0</span><span style=\"color: #008000; text-decoration-color: #008000\"> steps.</span>\n",
       "</pre>\n"
      ],
      "text/plain": [
       "\u001b[32mWarning: trajectory cut off when rollout by epoch at \u001b[0m\u001b[1;36m1000.0\u001b[0m\u001b[32m steps.\u001b[0m\n"
      ]
     },
     "metadata": {},
     "output_type": "display_data"
    },
    {
     "data": {
      "text/html": [
       "<pre style=\"white-space:pre;overflow-x:auto;line-height:normal;font-family:Menlo,'DejaVu Sans Mono',consolas,'Courier New',monospace\"><span style=\"color: #008000; text-decoration-color: #008000\">Warning: trajectory cut off when rollout by epoch at </span><span style=\"color: #008080; text-decoration-color: #008080; font-weight: bold\">1000.0</span><span style=\"color: #008000; text-decoration-color: #008000\"> steps.</span>\n",
       "</pre>\n"
      ],
      "text/plain": [
       "\u001b[32mWarning: trajectory cut off when rollout by epoch at \u001b[0m\u001b[1;36m1000.0\u001b[0m\u001b[32m steps.\u001b[0m\n"
      ]
     },
     "metadata": {},
     "output_type": "display_data"
    },
    {
     "data": {
      "text/html": [
       "<pre style=\"white-space:pre;overflow-x:auto;line-height:normal;font-family:Menlo,'DejaVu Sans Mono',consolas,'Courier New',monospace\"><span style=\"color: #008000; text-decoration-color: #008000\">Warning: trajectory cut off when rollout by epoch at </span><span style=\"color: #008080; text-decoration-color: #008080; font-weight: bold\">1000.0</span><span style=\"color: #008000; text-decoration-color: #008000\"> steps.</span>\n",
       "</pre>\n"
      ],
      "text/plain": [
       "\u001b[32mWarning: trajectory cut off when rollout by epoch at \u001b[0m\u001b[1;36m1000.0\u001b[0m\u001b[32m steps.\u001b[0m\n"
      ]
     },
     "metadata": {},
     "output_type": "display_data"
    },
    {
     "data": {
      "text/html": [
       "<pre style=\"white-space:pre;overflow-x:auto;line-height:normal;font-family:Menlo,'DejaVu Sans Mono',consolas,'Courier New',monospace\"></pre>\n"
      ],
      "text/plain": []
     },
     "metadata": {},
     "output_type": "display_data"
    },
    {
     "data": {
      "text/html": [
       "<pre style=\"white-space:pre;overflow-x:auto;line-height:normal;font-family:Menlo,'DejaVu Sans Mono',consolas,'Courier New',monospace\">\n",
       "</pre>\n"
      ],
      "text/plain": [
       "\n"
      ]
     },
     "metadata": {},
     "output_type": "display_data"
    },
    {
     "data": {
      "text/html": [
       "<pre style=\"white-space:pre;overflow-x:auto;line-height:normal;font-family:Menlo,'DejaVu Sans Mono',consolas,'Courier New',monospace\"><span style=\"color: #008000; text-decoration-color: #008000\">Expected Improvement: </span><span style=\"color: #008080; text-decoration-color: #008080; font-weight: bold\">0.017699290066957474</span><span style=\"color: #008000; text-decoration-color: #008000\"> Actual: </span><span style=\"color: #008080; text-decoration-color: #008080; font-weight: bold\">0.017567161470651627</span>\n",
       "</pre>\n"
      ],
      "text/plain": [
       "\u001b[32mExpected Improvement: \u001b[0m\u001b[1;36m0.017699290066957474\u001b[0m\u001b[32m Actual: \u001b[0m\u001b[1;36m0.017567161470651627\u001b[0m\n"
      ]
     },
     "metadata": {},
     "output_type": "display_data"
    },
    {
     "data": {
      "text/html": [
       "<pre style=\"white-space:pre;overflow-x:auto;line-height:normal;font-family:Menlo,'DejaVu Sans Mono',consolas,'Courier New',monospace\"><span style=\"color: #008000; text-decoration-color: #008000\">Accept step at </span><span style=\"color: #808000; text-decoration-color: #808000\">i</span><span style=\"color: #008000; text-decoration-color: #008000\">=</span><span style=\"color: #008080; text-decoration-color: #008080; font-weight: bold\">1</span>\n",
       "</pre>\n"
      ],
      "text/plain": [
       "\u001b[32mAccept step at \u001b[0m\u001b[33mi\u001b[0m\u001b[32m=\u001b[0m\u001b[1;36m1\u001b[0m\n"
      ]
     },
     "metadata": {},
     "output_type": "display_data"
    },
    {
     "data": {
      "text/html": [
       "<pre style=\"white-space:pre;overflow-x:auto;line-height:normal;font-family:Menlo,'DejaVu Sans Mono',consolas,'Courier New',monospace\">┏━━━━━━━━━━━━━━━━━━━━━━━━━━━━━━━━┳━━━━━━━━━━━━━━━━━━━━━━━━┓\n",
       "┃<span style=\"font-weight: bold\"> Metrics                        </span>┃<span style=\"font-weight: bold\"> Value                  </span>┃\n",
       "┡━━━━━━━━━━━━━━━━━━━━━━━━━━━━━━━━╇━━━━━━━━━━━━━━━━━━━━━━━━┩\n",
       "│ Metrics/EpRet                  │ 23.62116241455078      │\n",
       "│ Metrics/EpCost                 │ 48.13999938964844      │\n",
       "│ Metrics/EpLen                  │ 1000.0                 │\n",
       "│ Train/Epoch                    │ 24.0                   │\n",
       "│ Train/Entropy                  │ 1.0943137407302856     │\n",
       "│ Train/KL                       │ 0.0003285118436906487  │\n",
       "│ Train/StopIter                 │ 10.0                   │\n",
       "│ Train/PolicyRatio/Mean         │ 0.999028205871582      │\n",
       "│ Train/PolicyRatio/Min          │ 0.999028205871582      │\n",
       "│ Train/PolicyRatio/Max          │ 0.999028205871582      │\n",
       "│ Train/PolicyRatio/Std          │ 0.0006871341029182076  │\n",
       "│ Train/LR                       │ 0.0                    │\n",
       "│ Train/PolicyStd                │ 0.7377297282218933     │\n",
       "│ TotalEnvSteps                  │ 500000.0               │\n",
       "│ Loss/Loss_pi                   │ -0.011711444705724716  │\n",
       "│ Loss/Loss_pi/Delta             │ -0.0006103776395320892 │\n",
       "│ Value/Adv                      │ 1.2207030941624453e-08 │\n",
       "│ Loss/Loss_reward_critic        │ 0.0172274112701416     │\n",
       "│ Loss/Loss_reward_critic/Delta  │ -0.0004042331129312515 │\n",
       "│ Value/reward                   │ 2.193849563598633      │\n",
       "│ Loss/Loss_cost_critic          │ 1.0815242528915405     │\n",
       "│ Loss/Loss_cost_critic/Delta    │ -0.12622606754302979   │\n",
       "│ Value/cost                     │ 5.156821250915527      │\n",
       "│ Time/Total                     │ 1405.218017578125      │\n",
       "│ Time/Rollout                   │ 41.6251106262207       │\n",
       "│ Time/Update                    │ 13.35190200805664      │\n",
       "│ Time/Epoch                     │ 54.977012634277344     │\n",
       "│ Time/FPS                       │ 363.78839111328125     │\n",
       "│ Misc/Alpha                     │ 1.1317499876022339     │\n",
       "│ Misc/FinalStepNorm             │ 0.29614192247390747    │\n",
       "│ Misc/gradient_norm             │ 0.1138870045542717     │\n",
       "│ Misc/xHx                       │ 0.015614522621035576   │\n",
       "│ Misc/H_inv_g                   │ 0.26166728138923645    │\n",
       "│ Misc/AcceptanceStep            │ 1.0                    │\n",
       "│ Metrics/LagrangeMultiplier/Mea │ 0.7318994998931885     │\n",
       "│ Metrics/LagrangeMultiplier/Min │ 0.7318994998931885     │\n",
       "│ Metrics/LagrangeMultiplier/Max │ 0.7318994998931885     │\n",
       "│ Metrics/LagrangeMultiplier/Std │ 0.0                    │\n",
       "└────────────────────────────────┴────────────────────────┘\n",
       "</pre>\n"
      ],
      "text/plain": [
       "┏━━━━━━━━━━━━━━━━━━━━━━━━━━━━━━━━┳━━━━━━━━━━━━━━━━━━━━━━━━┓\n",
       "┃\u001b[1m \u001b[0m\u001b[1mMetrics                       \u001b[0m\u001b[1m \u001b[0m┃\u001b[1m \u001b[0m\u001b[1mValue                 \u001b[0m\u001b[1m \u001b[0m┃\n",
       "┡━━━━━━━━━━━━━━━━━━━━━━━━━━━━━━━━╇━━━━━━━━━━━━━━━━━━━━━━━━┩\n",
       "│ Metrics/EpRet                  │ 23.62116241455078      │\n",
       "│ Metrics/EpCost                 │ 48.13999938964844      │\n",
       "│ Metrics/EpLen                  │ 1000.0                 │\n",
       "│ Train/Epoch                    │ 24.0                   │\n",
       "│ Train/Entropy                  │ 1.0943137407302856     │\n",
       "│ Train/KL                       │ 0.0003285118436906487  │\n",
       "│ Train/StopIter                 │ 10.0                   │\n",
       "│ Train/PolicyRatio/Mean         │ 0.999028205871582      │\n",
       "│ Train/PolicyRatio/Min          │ 0.999028205871582      │\n",
       "│ Train/PolicyRatio/Max          │ 0.999028205871582      │\n",
       "│ Train/PolicyRatio/Std          │ 0.0006871341029182076  │\n",
       "│ Train/LR                       │ 0.0                    │\n",
       "│ Train/PolicyStd                │ 0.7377297282218933     │\n",
       "│ TotalEnvSteps                  │ 500000.0               │\n",
       "│ Loss/Loss_pi                   │ -0.011711444705724716  │\n",
       "│ Loss/Loss_pi/Delta             │ -0.0006103776395320892 │\n",
       "│ Value/Adv                      │ 1.2207030941624453e-08 │\n",
       "│ Loss/Loss_reward_critic        │ 0.0172274112701416     │\n",
       "│ Loss/Loss_reward_critic/Delta  │ -0.0004042331129312515 │\n",
       "│ Value/reward                   │ 2.193849563598633      │\n",
       "│ Loss/Loss_cost_critic          │ 1.0815242528915405     │\n",
       "│ Loss/Loss_cost_critic/Delta    │ -0.12622606754302979   │\n",
       "│ Value/cost                     │ 5.156821250915527      │\n",
       "│ Time/Total                     │ 1405.218017578125      │\n",
       "│ Time/Rollout                   │ 41.6251106262207       │\n",
       "│ Time/Update                    │ 13.35190200805664      │\n",
       "│ Time/Epoch                     │ 54.977012634277344     │\n",
       "│ Time/FPS                       │ 363.78839111328125     │\n",
       "│ Misc/Alpha                     │ 1.1317499876022339     │\n",
       "│ Misc/FinalStepNorm             │ 0.29614192247390747    │\n",
       "│ Misc/gradient_norm             │ 0.1138870045542717     │\n",
       "│ Misc/xHx                       │ 0.015614522621035576   │\n",
       "│ Misc/H_inv_g                   │ 0.26166728138923645    │\n",
       "│ Misc/AcceptanceStep            │ 1.0                    │\n",
       "│ Metrics/LagrangeMultiplier/Mea │ 0.7318994998931885     │\n",
       "│ Metrics/LagrangeMultiplier/Min │ 0.7318994998931885     │\n",
       "│ Metrics/LagrangeMultiplier/Max │ 0.7318994998931885     │\n",
       "│ Metrics/LagrangeMultiplier/Std │ 0.0                    │\n",
       "└────────────────────────────────┴────────────────────────┘\n"
      ]
     },
     "metadata": {},
     "output_type": "display_data"
    },
    {
     "data": {
      "text/html": [
       "<pre style=\"white-space:pre;overflow-x:auto;line-height:normal;font-family:Menlo,'DejaVu Sans Mono',consolas,'Courier New',monospace\"><span style=\"color: #008000; text-decoration-color: #008000\">Warning: trajectory cut off when rollout by epoch at </span><span style=\"color: #008080; text-decoration-color: #008080; font-weight: bold\">1000.0</span><span style=\"color: #008000; text-decoration-color: #008000\"> steps.</span>\n",
       "</pre>\n"
      ],
      "text/plain": [
       "\u001b[32mWarning: trajectory cut off when rollout by epoch at \u001b[0m\u001b[1;36m1000.0\u001b[0m\u001b[32m steps.\u001b[0m\n"
      ]
     },
     "metadata": {},
     "output_type": "display_data"
    },
    {
     "data": {
      "text/html": [
       "<pre style=\"white-space:pre;overflow-x:auto;line-height:normal;font-family:Menlo,'DejaVu Sans Mono',consolas,'Courier New',monospace\"><span style=\"color: #008000; text-decoration-color: #008000\">Warning: trajectory cut off when rollout by epoch at </span><span style=\"color: #008080; text-decoration-color: #008080; font-weight: bold\">1000.0</span><span style=\"color: #008000; text-decoration-color: #008000\"> steps.</span>\n",
       "</pre>\n"
      ],
      "text/plain": [
       "\u001b[32mWarning: trajectory cut off when rollout by epoch at \u001b[0m\u001b[1;36m1000.0\u001b[0m\u001b[32m steps.\u001b[0m\n"
      ]
     },
     "metadata": {},
     "output_type": "display_data"
    },
    {
     "data": {
      "text/html": [
       "<pre style=\"white-space:pre;overflow-x:auto;line-height:normal;font-family:Menlo,'DejaVu Sans Mono',consolas,'Courier New',monospace\"><span style=\"color: #008000; text-decoration-color: #008000\">Warning: trajectory cut off when rollout by epoch at </span><span style=\"color: #008080; text-decoration-color: #008080; font-weight: bold\">1000.0</span><span style=\"color: #008000; text-decoration-color: #008000\"> steps.</span>\n",
       "</pre>\n"
      ],
      "text/plain": [
       "\u001b[32mWarning: trajectory cut off when rollout by epoch at \u001b[0m\u001b[1;36m1000.0\u001b[0m\u001b[32m steps.\u001b[0m\n"
      ]
     },
     "metadata": {},
     "output_type": "display_data"
    },
    {
     "data": {
      "text/html": [
       "<pre style=\"white-space:pre;overflow-x:auto;line-height:normal;font-family:Menlo,'DejaVu Sans Mono',consolas,'Courier New',monospace\"><span style=\"color: #008000; text-decoration-color: #008000\">Warning: trajectory cut off when rollout by epoch at </span><span style=\"color: #008080; text-decoration-color: #008080; font-weight: bold\">1000.0</span><span style=\"color: #008000; text-decoration-color: #008000\"> steps.</span>\n",
       "</pre>\n"
      ],
      "text/plain": [
       "\u001b[32mWarning: trajectory cut off when rollout by epoch at \u001b[0m\u001b[1;36m1000.0\u001b[0m\u001b[32m steps.\u001b[0m\n"
      ]
     },
     "metadata": {},
     "output_type": "display_data"
    },
    {
     "data": {
      "text/html": [
       "<pre style=\"white-space:pre;overflow-x:auto;line-height:normal;font-family:Menlo,'DejaVu Sans Mono',consolas,'Courier New',monospace\"></pre>\n"
      ],
      "text/plain": []
     },
     "metadata": {},
     "output_type": "display_data"
    },
    {
     "data": {
      "text/html": [
       "<pre style=\"white-space:pre;overflow-x:auto;line-height:normal;font-family:Menlo,'DejaVu Sans Mono',consolas,'Courier New',monospace\">\n",
       "</pre>\n"
      ],
      "text/plain": [
       "\n"
      ]
     },
     "metadata": {},
     "output_type": "display_data"
    },
    {
     "data": {
      "text/html": [
       "<pre style=\"white-space:pre;overflow-x:auto;line-height:normal;font-family:Menlo,'DejaVu Sans Mono',consolas,'Courier New',monospace\"><span style=\"color: #008000; text-decoration-color: #008000\">Expected Improvement: </span><span style=\"color: #008080; text-decoration-color: #008080; font-weight: bold\">0.019358893856406212</span><span style=\"color: #008000; text-decoration-color: #008000\"> Actual: </span><span style=\"color: #008080; text-decoration-color: #008080; font-weight: bold\">0.018809178844094276</span>\n",
       "</pre>\n"
      ],
      "text/plain": [
       "\u001b[32mExpected Improvement: \u001b[0m\u001b[1;36m0.019358893856406212\u001b[0m\u001b[32m Actual: \u001b[0m\u001b[1;36m0.018809178844094276\u001b[0m\n"
      ]
     },
     "metadata": {},
     "output_type": "display_data"
    },
    {
     "data": {
      "text/html": [
       "<pre style=\"white-space:pre;overflow-x:auto;line-height:normal;font-family:Menlo,'DejaVu Sans Mono',consolas,'Courier New',monospace\"><span style=\"color: #008000; text-decoration-color: #008000\">Accept step at </span><span style=\"color: #808000; text-decoration-color: #808000\">i</span><span style=\"color: #008000; text-decoration-color: #008000\">=</span><span style=\"color: #008080; text-decoration-color: #008080; font-weight: bold\">1</span>\n",
       "</pre>\n"
      ],
      "text/plain": [
       "\u001b[32mAccept step at \u001b[0m\u001b[33mi\u001b[0m\u001b[32m=\u001b[0m\u001b[1;36m1\u001b[0m\n"
      ]
     },
     "metadata": {},
     "output_type": "display_data"
    },
    {
     "data": {
      "text/html": [
       "<pre style=\"white-space:pre;overflow-x:auto;line-height:normal;font-family:Menlo,'DejaVu Sans Mono',consolas,'Courier New',monospace\">┏━━━━━━━━━━━━━━━━━━━━━━━━━━━━━━━━┳━━━━━━━━━━━━━━━━━━━━━━━━┓\n",
       "┃<span style=\"font-weight: bold\"> Metrics                        </span>┃<span style=\"font-weight: bold\"> Value                  </span>┃\n",
       "┡━━━━━━━━━━━━━━━━━━━━━━━━━━━━━━━━╇━━━━━━━━━━━━━━━━━━━━━━━━┩\n",
       "│ Metrics/EpRet                  │ 23.886953353881836     │\n",
       "│ Metrics/EpCost                 │ 47.31999969482422      │\n",
       "│ Metrics/EpLen                  │ 1000.0                 │\n",
       "│ Train/Epoch                    │ 25.0                   │\n",
       "│ Train/Entropy                  │ 1.0908241271972656     │\n",
       "│ Train/KL                       │ 0.0003433847159612924  │\n",
       "│ Train/StopIter                 │ 10.0                   │\n",
       "│ Train/PolicyRatio/Mean         │ 1.0000568628311157     │\n",
       "│ Train/PolicyRatio/Min          │ 1.0000569820404053     │\n",
       "│ Train/PolicyRatio/Max          │ 1.0000569820404053     │\n",
       "│ Train/PolicyRatio/Std          │ 4.029256524518132e-05  │\n",
       "│ Train/LR                       │ 0.0                    │\n",
       "│ Train/PolicyStd                │ 0.7342500686645508     │\n",
       "│ TotalEnvSteps                  │ 520000.0               │\n",
       "│ Loss/Loss_pi                   │ -0.012539456598460674  │\n",
       "│ Loss/Loss_pi/Delta             │ -0.0008280118927359581 │\n",
       "│ Value/Adv                      │ 6.103515470812226e-09  │\n",
       "│ Loss/Loss_reward_critic        │ 0.018202530220150948   │\n",
       "│ Loss/Loss_reward_critic/Delta  │ 0.000975118950009346   │\n",
       "│ Value/reward                   │ 2.2325210571289062     │\n",
       "│ Loss/Loss_cost_critic          │ 1.0999728441238403     │\n",
       "│ Loss/Loss_cost_critic/Delta    │ 0.018448591232299805   │\n",
       "│ Value/cost                     │ 5.171586513519287      │\n",
       "│ Time/Total                     │ 1460.1251220703125     │\n",
       "│ Time/Rollout                   │ 41.6457405090332       │\n",
       "│ Time/Update                    │ 13.229742050170898     │\n",
       "│ Time/Epoch                     │ 54.87548065185547      │\n",
       "│ Time/FPS                       │ 364.46148681640625     │\n",
       "│ Misc/Alpha                     │ 1.034134864807129      │\n",
       "│ Misc/FinalStepNorm             │ 0.27945318818092346    │\n",
       "│ Misc/gradient_norm             │ 0.13108055293560028    │\n",
       "│ Misc/xHx                       │ 0.018701454624533653   │\n",
       "│ Misc/H_inv_g                   │ 0.27022895216941833    │\n",
       "│ Misc/AcceptanceStep            │ 1.0                    │\n",
       "│ Metrics/LagrangeMultiplier/Mea │ 0.7560503482818604     │\n",
       "│ Metrics/LagrangeMultiplier/Min │ 0.7560503482818604     │\n",
       "│ Metrics/LagrangeMultiplier/Max │ 0.7560503482818604     │\n",
       "│ Metrics/LagrangeMultiplier/Std │ 0.0                    │\n",
       "└────────────────────────────────┴────────────────────────┘\n",
       "</pre>\n"
      ],
      "text/plain": [
       "┏━━━━━━━━━━━━━━━━━━━━━━━━━━━━━━━━┳━━━━━━━━━━━━━━━━━━━━━━━━┓\n",
       "┃\u001b[1m \u001b[0m\u001b[1mMetrics                       \u001b[0m\u001b[1m \u001b[0m┃\u001b[1m \u001b[0m\u001b[1mValue                 \u001b[0m\u001b[1m \u001b[0m┃\n",
       "┡━━━━━━━━━━━━━━━━━━━━━━━━━━━━━━━━╇━━━━━━━━━━━━━━━━━━━━━━━━┩\n",
       "│ Metrics/EpRet                  │ 23.886953353881836     │\n",
       "│ Metrics/EpCost                 │ 47.31999969482422      │\n",
       "│ Metrics/EpLen                  │ 1000.0                 │\n",
       "│ Train/Epoch                    │ 25.0                   │\n",
       "│ Train/Entropy                  │ 1.0908241271972656     │\n",
       "│ Train/KL                       │ 0.0003433847159612924  │\n",
       "│ Train/StopIter                 │ 10.0                   │\n",
       "│ Train/PolicyRatio/Mean         │ 1.0000568628311157     │\n",
       "│ Train/PolicyRatio/Min          │ 1.0000569820404053     │\n",
       "│ Train/PolicyRatio/Max          │ 1.0000569820404053     │\n",
       "│ Train/PolicyRatio/Std          │ 4.029256524518132e-05  │\n",
       "│ Train/LR                       │ 0.0                    │\n",
       "│ Train/PolicyStd                │ 0.7342500686645508     │\n",
       "│ TotalEnvSteps                  │ 520000.0               │\n",
       "│ Loss/Loss_pi                   │ -0.012539456598460674  │\n",
       "│ Loss/Loss_pi/Delta             │ -0.0008280118927359581 │\n",
       "│ Value/Adv                      │ 6.103515470812226e-09  │\n",
       "│ Loss/Loss_reward_critic        │ 0.018202530220150948   │\n",
       "│ Loss/Loss_reward_critic/Delta  │ 0.000975118950009346   │\n",
       "│ Value/reward                   │ 2.2325210571289062     │\n",
       "│ Loss/Loss_cost_critic          │ 1.0999728441238403     │\n",
       "│ Loss/Loss_cost_critic/Delta    │ 0.018448591232299805   │\n",
       "│ Value/cost                     │ 5.171586513519287      │\n",
       "│ Time/Total                     │ 1460.1251220703125     │\n",
       "│ Time/Rollout                   │ 41.6457405090332       │\n",
       "│ Time/Update                    │ 13.229742050170898     │\n",
       "│ Time/Epoch                     │ 54.87548065185547      │\n",
       "│ Time/FPS                       │ 364.46148681640625     │\n",
       "│ Misc/Alpha                     │ 1.034134864807129      │\n",
       "│ Misc/FinalStepNorm             │ 0.27945318818092346    │\n",
       "│ Misc/gradient_norm             │ 0.13108055293560028    │\n",
       "│ Misc/xHx                       │ 0.018701454624533653   │\n",
       "│ Misc/H_inv_g                   │ 0.27022895216941833    │\n",
       "│ Misc/AcceptanceStep            │ 1.0                    │\n",
       "│ Metrics/LagrangeMultiplier/Mea │ 0.7560503482818604     │\n",
       "│ Metrics/LagrangeMultiplier/Min │ 0.7560503482818604     │\n",
       "│ Metrics/LagrangeMultiplier/Max │ 0.7560503482818604     │\n",
       "│ Metrics/LagrangeMultiplier/Std │ 0.0                    │\n",
       "└────────────────────────────────┴────────────────────────┘\n"
      ]
     },
     "metadata": {},
     "output_type": "display_data"
    },
    {
     "data": {
      "text/html": [
       "<pre style=\"white-space:pre;overflow-x:auto;line-height:normal;font-family:Menlo,'DejaVu Sans Mono',consolas,'Courier New',monospace\"><span style=\"color: #008000; text-decoration-color: #008000\">Warning: trajectory cut off when rollout by epoch at </span><span style=\"color: #008080; text-decoration-color: #008080; font-weight: bold\">1000.0</span><span style=\"color: #008000; text-decoration-color: #008000\"> steps.</span>\n",
       "</pre>\n"
      ],
      "text/plain": [
       "\u001b[32mWarning: trajectory cut off when rollout by epoch at \u001b[0m\u001b[1;36m1000.0\u001b[0m\u001b[32m steps.\u001b[0m\n"
      ]
     },
     "metadata": {},
     "output_type": "display_data"
    },
    {
     "data": {
      "text/html": [
       "<pre style=\"white-space:pre;overflow-x:auto;line-height:normal;font-family:Menlo,'DejaVu Sans Mono',consolas,'Courier New',monospace\"><span style=\"color: #008000; text-decoration-color: #008000\">Warning: trajectory cut off when rollout by epoch at </span><span style=\"color: #008080; text-decoration-color: #008080; font-weight: bold\">1000.0</span><span style=\"color: #008000; text-decoration-color: #008000\"> steps.</span>\n",
       "</pre>\n"
      ],
      "text/plain": [
       "\u001b[32mWarning: trajectory cut off when rollout by epoch at \u001b[0m\u001b[1;36m1000.0\u001b[0m\u001b[32m steps.\u001b[0m\n"
      ]
     },
     "metadata": {},
     "output_type": "display_data"
    },
    {
     "data": {
      "text/html": [
       "<pre style=\"white-space:pre;overflow-x:auto;line-height:normal;font-family:Menlo,'DejaVu Sans Mono',consolas,'Courier New',monospace\"><span style=\"color: #008000; text-decoration-color: #008000\">Warning: trajectory cut off when rollout by epoch at </span><span style=\"color: #008080; text-decoration-color: #008080; font-weight: bold\">1000.0</span><span style=\"color: #008000; text-decoration-color: #008000\"> steps.</span>\n",
       "</pre>\n"
      ],
      "text/plain": [
       "\u001b[32mWarning: trajectory cut off when rollout by epoch at \u001b[0m\u001b[1;36m1000.0\u001b[0m\u001b[32m steps.\u001b[0m\n"
      ]
     },
     "metadata": {},
     "output_type": "display_data"
    },
    {
     "data": {
      "text/html": [
       "<pre style=\"white-space:pre;overflow-x:auto;line-height:normal;font-family:Menlo,'DejaVu Sans Mono',consolas,'Courier New',monospace\"><span style=\"color: #008000; text-decoration-color: #008000\">Warning: trajectory cut off when rollout by epoch at </span><span style=\"color: #008080; text-decoration-color: #008080; font-weight: bold\">1000.0</span><span style=\"color: #008000; text-decoration-color: #008000\"> steps.</span>\n",
       "</pre>\n"
      ],
      "text/plain": [
       "\u001b[32mWarning: trajectory cut off when rollout by epoch at \u001b[0m\u001b[1;36m1000.0\u001b[0m\u001b[32m steps.\u001b[0m\n"
      ]
     },
     "metadata": {},
     "output_type": "display_data"
    },
    {
     "data": {
      "text/html": [
       "<pre style=\"white-space:pre;overflow-x:auto;line-height:normal;font-family:Menlo,'DejaVu Sans Mono',consolas,'Courier New',monospace\"></pre>\n"
      ],
      "text/plain": []
     },
     "metadata": {},
     "output_type": "display_data"
    },
    {
     "data": {
      "text/html": [
       "<pre style=\"white-space:pre;overflow-x:auto;line-height:normal;font-family:Menlo,'DejaVu Sans Mono',consolas,'Courier New',monospace\">\n",
       "</pre>\n"
      ],
      "text/plain": [
       "\n"
      ]
     },
     "metadata": {},
     "output_type": "display_data"
    },
    {
     "data": {
      "text/html": [
       "<pre style=\"white-space:pre;overflow-x:auto;line-height:normal;font-family:Menlo,'DejaVu Sans Mono',consolas,'Courier New',monospace\"><span style=\"color: #008000; text-decoration-color: #008000\">Expected Improvement: </span><span style=\"color: #008080; text-decoration-color: #008080; font-weight: bold\">0.018691830337047577</span><span style=\"color: #008000; text-decoration-color: #008000\"> Actual: </span><span style=\"color: #008080; text-decoration-color: #008080; font-weight: bold\">0.018131690099835396</span>\n",
       "</pre>\n"
      ],
      "text/plain": [
       "\u001b[32mExpected Improvement: \u001b[0m\u001b[1;36m0.018691830337047577\u001b[0m\u001b[32m Actual: \u001b[0m\u001b[1;36m0.018131690099835396\u001b[0m\n"
      ]
     },
     "metadata": {},
     "output_type": "display_data"
    },
    {
     "data": {
      "text/html": [
       "<pre style=\"white-space:pre;overflow-x:auto;line-height:normal;font-family:Menlo,'DejaVu Sans Mono',consolas,'Courier New',monospace\"><span style=\"color: #008000; text-decoration-color: #008000\">Accept step at </span><span style=\"color: #808000; text-decoration-color: #808000\">i</span><span style=\"color: #008000; text-decoration-color: #008000\">=</span><span style=\"color: #008080; text-decoration-color: #008080; font-weight: bold\">1</span>\n",
       "</pre>\n"
      ],
      "text/plain": [
       "\u001b[32mAccept step at \u001b[0m\u001b[33mi\u001b[0m\u001b[32m=\u001b[0m\u001b[1;36m1\u001b[0m\n"
      ]
     },
     "metadata": {},
     "output_type": "display_data"
    },
    {
     "data": {
      "text/html": [
       "<pre style=\"white-space:pre;overflow-x:auto;line-height:normal;font-family:Menlo,'DejaVu Sans Mono',consolas,'Courier New',monospace\">┏━━━━━━━━━━━━━━━━━━━━━━━━━━━━━━━━┳━━━━━━━━━━━━━━━━━━━━━━━━┓\n",
       "┃<span style=\"font-weight: bold\"> Metrics                        </span>┃<span style=\"font-weight: bold\"> Value                  </span>┃\n",
       "┡━━━━━━━━━━━━━━━━━━━━━━━━━━━━━━━━╇━━━━━━━━━━━━━━━━━━━━━━━━┩\n",
       "│ Metrics/EpRet                  │ 23.939287185668945     │\n",
       "│ Metrics/EpCost                 │ 43.599998474121094     │\n",
       "│ Metrics/EpLen                  │ 1000.0                 │\n",
       "│ Train/Epoch                    │ 26.0                   │\n",
       "│ Train/Entropy                  │ 1.082243800163269      │\n",
       "│ Train/KL                       │ 0.00033488988992758095 │\n",
       "│ Train/StopIter                 │ 10.0                   │\n",
       "│ Train/PolicyRatio/Mean         │ 0.9996366500854492     │\n",
       "│ Train/PolicyRatio/Min          │ 0.9996366500854492     │\n",
       "│ Train/PolicyRatio/Max          │ 0.9996366500854492     │\n",
       "│ Train/PolicyRatio/Std          │ 0.00025689907488413155 │\n",
       "│ Train/LR                       │ 0.0                    │\n",
       "│ Train/PolicyStd                │ 0.7275009751319885     │\n",
       "│ TotalEnvSteps                  │ 540000.0               │\n",
       "│ Loss/Loss_pi                   │ -0.012087799608707428  │\n",
       "│ Loss/Loss_pi/Delta             │ 0.0004516569897532463  │\n",
       "│ Value/Adv                      │ 4.577636492086867e-09  │\n",
       "│ Loss/Loss_reward_critic        │ 0.016468318179249763   │\n",
       "│ Loss/Loss_reward_critic/Delta  │ -0.001734212040901184  │\n",
       "│ Value/reward                   │ 2.281174421310425      │\n",
       "│ Loss/Loss_cost_critic          │ 1.1028810739517212     │\n",
       "│ Loss/Loss_cost_critic/Delta    │ 0.0029082298278808594  │\n",
       "│ Value/cost                     │ 5.2455644607543945     │\n",
       "│ Time/Total                     │ 1515.72412109375       │\n",
       "│ Time/Rollout                   │ 42.25548553466797      │\n",
       "│ Time/Update                    │ 13.304661750793457     │\n",
       "│ Time/Epoch                     │ 55.56014633178711      │\n",
       "│ Time/FPS                       │ 359.9702453613281      │\n",
       "│ Misc/Alpha                     │ 1.0706274509429932     │\n",
       "│ Misc/FinalStepNorm             │ 0.2818770706653595     │\n",
       "│ Misc/gradient_norm             │ 0.13031356036663055    │\n",
       "│ Misc/xHx                       │ 0.017448294907808304   │\n",
       "│ Misc/H_inv_g                   │ 0.2632821202278137     │\n",
       "│ Misc/AcceptanceStep            │ 1.0                    │\n",
       "│ Metrics/LagrangeMultiplier/Mea │ 0.7798793315887451     │\n",
       "│ Metrics/LagrangeMultiplier/Min │ 0.7798793315887451     │\n",
       "│ Metrics/LagrangeMultiplier/Max │ 0.7798793315887451     │\n",
       "│ Metrics/LagrangeMultiplier/Std │ 0.0                    │\n",
       "└────────────────────────────────┴────────────────────────┘\n",
       "</pre>\n"
      ],
      "text/plain": [
       "┏━━━━━━━━━━━━━━━━━━━━━━━━━━━━━━━━┳━━━━━━━━━━━━━━━━━━━━━━━━┓\n",
       "┃\u001b[1m \u001b[0m\u001b[1mMetrics                       \u001b[0m\u001b[1m \u001b[0m┃\u001b[1m \u001b[0m\u001b[1mValue                 \u001b[0m\u001b[1m \u001b[0m┃\n",
       "┡━━━━━━━━━━━━━━━━━━━━━━━━━━━━━━━━╇━━━━━━━━━━━━━━━━━━━━━━━━┩\n",
       "│ Metrics/EpRet                  │ 23.939287185668945     │\n",
       "│ Metrics/EpCost                 │ 43.599998474121094     │\n",
       "│ Metrics/EpLen                  │ 1000.0                 │\n",
       "│ Train/Epoch                    │ 26.0                   │\n",
       "│ Train/Entropy                  │ 1.082243800163269      │\n",
       "│ Train/KL                       │ 0.00033488988992758095 │\n",
       "│ Train/StopIter                 │ 10.0                   │\n",
       "│ Train/PolicyRatio/Mean         │ 0.9996366500854492     │\n",
       "│ Train/PolicyRatio/Min          │ 0.9996366500854492     │\n",
       "│ Train/PolicyRatio/Max          │ 0.9996366500854492     │\n",
       "│ Train/PolicyRatio/Std          │ 0.00025689907488413155 │\n",
       "│ Train/LR                       │ 0.0                    │\n",
       "│ Train/PolicyStd                │ 0.7275009751319885     │\n",
       "│ TotalEnvSteps                  │ 540000.0               │\n",
       "│ Loss/Loss_pi                   │ -0.012087799608707428  │\n",
       "│ Loss/Loss_pi/Delta             │ 0.0004516569897532463  │\n",
       "│ Value/Adv                      │ 4.577636492086867e-09  │\n",
       "│ Loss/Loss_reward_critic        │ 0.016468318179249763   │\n",
       "│ Loss/Loss_reward_critic/Delta  │ -0.001734212040901184  │\n",
       "│ Value/reward                   │ 2.281174421310425      │\n",
       "│ Loss/Loss_cost_critic          │ 1.1028810739517212     │\n",
       "│ Loss/Loss_cost_critic/Delta    │ 0.0029082298278808594  │\n",
       "│ Value/cost                     │ 5.2455644607543945     │\n",
       "│ Time/Total                     │ 1515.72412109375       │\n",
       "│ Time/Rollout                   │ 42.25548553466797      │\n",
       "│ Time/Update                    │ 13.304661750793457     │\n",
       "│ Time/Epoch                     │ 55.56014633178711      │\n",
       "│ Time/FPS                       │ 359.9702453613281      │\n",
       "│ Misc/Alpha                     │ 1.0706274509429932     │\n",
       "│ Misc/FinalStepNorm             │ 0.2818770706653595     │\n",
       "│ Misc/gradient_norm             │ 0.13031356036663055    │\n",
       "│ Misc/xHx                       │ 0.017448294907808304   │\n",
       "│ Misc/H_inv_g                   │ 0.2632821202278137     │\n",
       "│ Misc/AcceptanceStep            │ 1.0                    │\n",
       "│ Metrics/LagrangeMultiplier/Mea │ 0.7798793315887451     │\n",
       "│ Metrics/LagrangeMultiplier/Min │ 0.7798793315887451     │\n",
       "│ Metrics/LagrangeMultiplier/Max │ 0.7798793315887451     │\n",
       "│ Metrics/LagrangeMultiplier/Std │ 0.0                    │\n",
       "└────────────────────────────────┴────────────────────────┘\n"
      ]
     },
     "metadata": {},
     "output_type": "display_data"
    },
    {
     "data": {
      "text/html": [
       "<pre style=\"white-space:pre;overflow-x:auto;line-height:normal;font-family:Menlo,'DejaVu Sans Mono',consolas,'Courier New',monospace\"><span style=\"color: #008000; text-decoration-color: #008000\">Warning: trajectory cut off when rollout by epoch at </span><span style=\"color: #008080; text-decoration-color: #008080; font-weight: bold\">1000.0</span><span style=\"color: #008000; text-decoration-color: #008000\"> steps.</span>\n",
       "</pre>\n"
      ],
      "text/plain": [
       "\u001b[32mWarning: trajectory cut off when rollout by epoch at \u001b[0m\u001b[1;36m1000.0\u001b[0m\u001b[32m steps.\u001b[0m\n"
      ]
     },
     "metadata": {},
     "output_type": "display_data"
    },
    {
     "data": {
      "text/html": [
       "<pre style=\"white-space:pre;overflow-x:auto;line-height:normal;font-family:Menlo,'DejaVu Sans Mono',consolas,'Courier New',monospace\"><span style=\"color: #008000; text-decoration-color: #008000\">Warning: trajectory cut off when rollout by epoch at </span><span style=\"color: #008080; text-decoration-color: #008080; font-weight: bold\">1000.0</span><span style=\"color: #008000; text-decoration-color: #008000\"> steps.</span>\n",
       "</pre>\n"
      ],
      "text/plain": [
       "\u001b[32mWarning: trajectory cut off when rollout by epoch at \u001b[0m\u001b[1;36m1000.0\u001b[0m\u001b[32m steps.\u001b[0m\n"
      ]
     },
     "metadata": {},
     "output_type": "display_data"
    },
    {
     "data": {
      "text/html": [
       "<pre style=\"white-space:pre;overflow-x:auto;line-height:normal;font-family:Menlo,'DejaVu Sans Mono',consolas,'Courier New',monospace\"><span style=\"color: #008000; text-decoration-color: #008000\">Warning: trajectory cut off when rollout by epoch at </span><span style=\"color: #008080; text-decoration-color: #008080; font-weight: bold\">1000.0</span><span style=\"color: #008000; text-decoration-color: #008000\"> steps.</span>\n",
       "</pre>\n"
      ],
      "text/plain": [
       "\u001b[32mWarning: trajectory cut off when rollout by epoch at \u001b[0m\u001b[1;36m1000.0\u001b[0m\u001b[32m steps.\u001b[0m\n"
      ]
     },
     "metadata": {},
     "output_type": "display_data"
    },
    {
     "data": {
      "text/html": [
       "<pre style=\"white-space:pre;overflow-x:auto;line-height:normal;font-family:Menlo,'DejaVu Sans Mono',consolas,'Courier New',monospace\"><span style=\"color: #008000; text-decoration-color: #008000\">Warning: trajectory cut off when rollout by epoch at </span><span style=\"color: #008080; text-decoration-color: #008080; font-weight: bold\">1000.0</span><span style=\"color: #008000; text-decoration-color: #008000\"> steps.</span>\n",
       "</pre>\n"
      ],
      "text/plain": [
       "\u001b[32mWarning: trajectory cut off when rollout by epoch at \u001b[0m\u001b[1;36m1000.0\u001b[0m\u001b[32m steps.\u001b[0m\n"
      ]
     },
     "metadata": {},
     "output_type": "display_data"
    },
    {
     "data": {
      "text/html": [
       "<pre style=\"white-space:pre;overflow-x:auto;line-height:normal;font-family:Menlo,'DejaVu Sans Mono',consolas,'Courier New',monospace\"></pre>\n"
      ],
      "text/plain": []
     },
     "metadata": {},
     "output_type": "display_data"
    },
    {
     "data": {
      "text/html": [
       "<pre style=\"white-space:pre;overflow-x:auto;line-height:normal;font-family:Menlo,'DejaVu Sans Mono',consolas,'Courier New',monospace\">\n",
       "</pre>\n"
      ],
      "text/plain": [
       "\n"
      ]
     },
     "metadata": {},
     "output_type": "display_data"
    },
    {
     "data": {
      "text/html": [
       "<pre style=\"white-space:pre;overflow-x:auto;line-height:normal;font-family:Menlo,'DejaVu Sans Mono',consolas,'Courier New',monospace\"><span style=\"color: #008000; text-decoration-color: #008000\">Expected Improvement: </span><span style=\"color: #008080; text-decoration-color: #008080; font-weight: bold\">0.01845303177833557</span><span style=\"color: #008000; text-decoration-color: #008000\"> Actual: </span><span style=\"color: #008080; text-decoration-color: #008080; font-weight: bold\">0.017763059586286545</span>\n",
       "</pre>\n"
      ],
      "text/plain": [
       "\u001b[32mExpected Improvement: \u001b[0m\u001b[1;36m0.01845303177833557\u001b[0m\u001b[32m Actual: \u001b[0m\u001b[1;36m0.017763059586286545\u001b[0m\n"
      ]
     },
     "metadata": {},
     "output_type": "display_data"
    },
    {
     "data": {
      "text/html": [
       "<pre style=\"white-space:pre;overflow-x:auto;line-height:normal;font-family:Menlo,'DejaVu Sans Mono',consolas,'Courier New',monospace\"><span style=\"color: #008000; text-decoration-color: #008000\">Accept step at </span><span style=\"color: #808000; text-decoration-color: #808000\">i</span><span style=\"color: #008000; text-decoration-color: #008000\">=</span><span style=\"color: #008080; text-decoration-color: #008080; font-weight: bold\">1</span>\n",
       "</pre>\n"
      ],
      "text/plain": [
       "\u001b[32mAccept step at \u001b[0m\u001b[33mi\u001b[0m\u001b[32m=\u001b[0m\u001b[1;36m1\u001b[0m\n"
      ]
     },
     "metadata": {},
     "output_type": "display_data"
    },
    {
     "data": {
      "text/html": [
       "<pre style=\"white-space:pre;overflow-x:auto;line-height:normal;font-family:Menlo,'DejaVu Sans Mono',consolas,'Courier New',monospace\">┏━━━━━━━━━━━━━━━━━━━━━━━━━━━━━━━━┳━━━━━━━━━━━━━━━━━━━━━━━━━┓\n",
       "┃<span style=\"font-weight: bold\"> Metrics                        </span>┃<span style=\"font-weight: bold\"> Value                   </span>┃\n",
       "┡━━━━━━━━━━━━━━━━━━━━━━━━━━━━━━━━╇━━━━━━━━━━━━━━━━━━━━━━━━━┩\n",
       "│ Metrics/EpRet                  │ 24.33637237548828       │\n",
       "│ Metrics/EpCost                 │ 46.47999954223633       │\n",
       "│ Metrics/EpLen                  │ 1000.0                  │\n",
       "│ Train/Epoch                    │ 27.0                    │\n",
       "│ Train/Entropy                  │ 1.066989779472351       │\n",
       "│ Train/KL                       │ 0.00030944516765885055  │\n",
       "│ Train/StopIter                 │ 10.0                    │\n",
       "│ Train/PolicyRatio/Mean         │ 1.00156831741333        │\n",
       "│ Train/PolicyRatio/Min          │ 1.00156831741333        │\n",
       "│ Train/PolicyRatio/Max          │ 1.00156831741333        │\n",
       "│ Train/PolicyRatio/Std          │ 0.0011089679319411516   │\n",
       "│ Train/LR                       │ 0.0                     │\n",
       "│ Train/PolicyStd                │ 0.7159264087677002      │\n",
       "│ TotalEnvSteps                  │ 560000.0                │\n",
       "│ Loss/Loss_pi                   │ -0.011842028237879276   │\n",
       "│ Loss/Loss_pi/Delta             │ 0.0002457713708281517   │\n",
       "│ Value/Adv                      │ -1.0299681996173149e-08 │\n",
       "│ Loss/Loss_reward_critic        │ 0.018240105360746384    │\n",
       "│ Loss/Loss_reward_critic/Delta  │ 0.0017717871814966202   │\n",
       "│ Value/reward                   │ 2.3165194988250732      │\n",
       "│ Loss/Loss_cost_critic          │ 1.1915314197540283      │\n",
       "│ Loss/Loss_cost_critic/Delta    │ 0.08865034580230713     │\n",
       "│ Value/cost                     │ 5.687694549560547       │\n",
       "│ Time/Total                     │ 1572.01416015625        │\n",
       "│ Time/Rollout                   │ 42.91915512084961       │\n",
       "│ Time/Update                    │ 13.324888229370117      │\n",
       "│ Time/Epoch                     │ 56.24404525756836       │\n",
       "│ Time/FPS                       │ 355.59320068359375      │\n",
       "│ Misc/Alpha                     │ 1.0847276449203491      │\n",
       "│ Misc/FinalStepNorm             │ 0.30375295877456665     │\n",
       "│ Misc/gradient_norm             │ 0.1066969782114029      │\n",
       "│ Misc/xHx                       │ 0.016997627913951874    │\n",
       "│ Misc/H_inv_g                   │ 0.28002694249153137     │\n",
       "│ Misc/AcceptanceStep            │ 1.0                     │\n",
       "│ Metrics/LagrangeMultiplier/Mea │ 0.8036946654319763      │\n",
       "│ Metrics/LagrangeMultiplier/Min │ 0.8036946654319763      │\n",
       "│ Metrics/LagrangeMultiplier/Max │ 0.8036946654319763      │\n",
       "│ Metrics/LagrangeMultiplier/Std │ 0.0                     │\n",
       "└────────────────────────────────┴─────────────────────────┘\n",
       "</pre>\n"
      ],
      "text/plain": [
       "┏━━━━━━━━━━━━━━━━━━━━━━━━━━━━━━━━┳━━━━━━━━━━━━━━━━━━━━━━━━━┓\n",
       "┃\u001b[1m \u001b[0m\u001b[1mMetrics                       \u001b[0m\u001b[1m \u001b[0m┃\u001b[1m \u001b[0m\u001b[1mValue                  \u001b[0m\u001b[1m \u001b[0m┃\n",
       "┡━━━━━━━━━━━━━━━━━━━━━━━━━━━━━━━━╇━━━━━━━━━━━━━━━━━━━━━━━━━┩\n",
       "│ Metrics/EpRet                  │ 24.33637237548828       │\n",
       "│ Metrics/EpCost                 │ 46.47999954223633       │\n",
       "│ Metrics/EpLen                  │ 1000.0                  │\n",
       "│ Train/Epoch                    │ 27.0                    │\n",
       "│ Train/Entropy                  │ 1.066989779472351       │\n",
       "│ Train/KL                       │ 0.00030944516765885055  │\n",
       "│ Train/StopIter                 │ 10.0                    │\n",
       "│ Train/PolicyRatio/Mean         │ 1.00156831741333        │\n",
       "│ Train/PolicyRatio/Min          │ 1.00156831741333        │\n",
       "│ Train/PolicyRatio/Max          │ 1.00156831741333        │\n",
       "│ Train/PolicyRatio/Std          │ 0.0011089679319411516   │\n",
       "│ Train/LR                       │ 0.0                     │\n",
       "│ Train/PolicyStd                │ 0.7159264087677002      │\n",
       "│ TotalEnvSteps                  │ 560000.0                │\n",
       "│ Loss/Loss_pi                   │ -0.011842028237879276   │\n",
       "│ Loss/Loss_pi/Delta             │ 0.0002457713708281517   │\n",
       "│ Value/Adv                      │ -1.0299681996173149e-08 │\n",
       "│ Loss/Loss_reward_critic        │ 0.018240105360746384    │\n",
       "│ Loss/Loss_reward_critic/Delta  │ 0.0017717871814966202   │\n",
       "│ Value/reward                   │ 2.3165194988250732      │\n",
       "│ Loss/Loss_cost_critic          │ 1.1915314197540283      │\n",
       "│ Loss/Loss_cost_critic/Delta    │ 0.08865034580230713     │\n",
       "│ Value/cost                     │ 5.687694549560547       │\n",
       "│ Time/Total                     │ 1572.01416015625        │\n",
       "│ Time/Rollout                   │ 42.91915512084961       │\n",
       "│ Time/Update                    │ 13.324888229370117      │\n",
       "│ Time/Epoch                     │ 56.24404525756836       │\n",
       "│ Time/FPS                       │ 355.59320068359375      │\n",
       "│ Misc/Alpha                     │ 1.0847276449203491      │\n",
       "│ Misc/FinalStepNorm             │ 0.30375295877456665     │\n",
       "│ Misc/gradient_norm             │ 0.1066969782114029      │\n",
       "│ Misc/xHx                       │ 0.016997627913951874    │\n",
       "│ Misc/H_inv_g                   │ 0.28002694249153137     │\n",
       "│ Misc/AcceptanceStep            │ 1.0                     │\n",
       "│ Metrics/LagrangeMultiplier/Mea │ 0.8036946654319763      │\n",
       "│ Metrics/LagrangeMultiplier/Min │ 0.8036946654319763      │\n",
       "│ Metrics/LagrangeMultiplier/Max │ 0.8036946654319763      │\n",
       "│ Metrics/LagrangeMultiplier/Std │ 0.0                     │\n",
       "└────────────────────────────────┴─────────────────────────┘\n"
      ]
     },
     "metadata": {},
     "output_type": "display_data"
    },
    {
     "data": {
      "text/html": [
       "<pre style=\"white-space:pre;overflow-x:auto;line-height:normal;font-family:Menlo,'DejaVu Sans Mono',consolas,'Courier New',monospace\"><span style=\"color: #008000; text-decoration-color: #008000\">Warning: trajectory cut off when rollout by epoch at </span><span style=\"color: #008080; text-decoration-color: #008080; font-weight: bold\">1000.0</span><span style=\"color: #008000; text-decoration-color: #008000\"> steps.</span>\n",
       "</pre>\n"
      ],
      "text/plain": [
       "\u001b[32mWarning: trajectory cut off when rollout by epoch at \u001b[0m\u001b[1;36m1000.0\u001b[0m\u001b[32m steps.\u001b[0m\n"
      ]
     },
     "metadata": {},
     "output_type": "display_data"
    },
    {
     "data": {
      "text/html": [
       "<pre style=\"white-space:pre;overflow-x:auto;line-height:normal;font-family:Menlo,'DejaVu Sans Mono',consolas,'Courier New',monospace\"><span style=\"color: #008000; text-decoration-color: #008000\">Warning: trajectory cut off when rollout by epoch at </span><span style=\"color: #008080; text-decoration-color: #008080; font-weight: bold\">1000.0</span><span style=\"color: #008000; text-decoration-color: #008000\"> steps.</span>\n",
       "</pre>\n"
      ],
      "text/plain": [
       "\u001b[32mWarning: trajectory cut off when rollout by epoch at \u001b[0m\u001b[1;36m1000.0\u001b[0m\u001b[32m steps.\u001b[0m\n"
      ]
     },
     "metadata": {},
     "output_type": "display_data"
    },
    {
     "data": {
      "text/html": [
       "<pre style=\"white-space:pre;overflow-x:auto;line-height:normal;font-family:Menlo,'DejaVu Sans Mono',consolas,'Courier New',monospace\"><span style=\"color: #008000; text-decoration-color: #008000\">Warning: trajectory cut off when rollout by epoch at </span><span style=\"color: #008080; text-decoration-color: #008080; font-weight: bold\">1000.0</span><span style=\"color: #008000; text-decoration-color: #008000\"> steps.</span>\n",
       "</pre>\n"
      ],
      "text/plain": [
       "\u001b[32mWarning: trajectory cut off when rollout by epoch at \u001b[0m\u001b[1;36m1000.0\u001b[0m\u001b[32m steps.\u001b[0m\n"
      ]
     },
     "metadata": {},
     "output_type": "display_data"
    },
    {
     "data": {
      "text/html": [
       "<pre style=\"white-space:pre;overflow-x:auto;line-height:normal;font-family:Menlo,'DejaVu Sans Mono',consolas,'Courier New',monospace\"><span style=\"color: #008000; text-decoration-color: #008000\">Warning: trajectory cut off when rollout by epoch at </span><span style=\"color: #008080; text-decoration-color: #008080; font-weight: bold\">1000.0</span><span style=\"color: #008000; text-decoration-color: #008000\"> steps.</span>\n",
       "</pre>\n"
      ],
      "text/plain": [
       "\u001b[32mWarning: trajectory cut off when rollout by epoch at \u001b[0m\u001b[1;36m1000.0\u001b[0m\u001b[32m steps.\u001b[0m\n"
      ]
     },
     "metadata": {},
     "output_type": "display_data"
    },
    {
     "data": {
      "text/html": [
       "<pre style=\"white-space:pre;overflow-x:auto;line-height:normal;font-family:Menlo,'DejaVu Sans Mono',consolas,'Courier New',monospace\"></pre>\n"
      ],
      "text/plain": []
     },
     "metadata": {},
     "output_type": "display_data"
    },
    {
     "data": {
      "text/html": [
       "<pre style=\"white-space:pre;overflow-x:auto;line-height:normal;font-family:Menlo,'DejaVu Sans Mono',consolas,'Courier New',monospace\">\n",
       "</pre>\n"
      ],
      "text/plain": [
       "\n"
      ]
     },
     "metadata": {},
     "output_type": "display_data"
    },
    {
     "data": {
      "text/html": [
       "<pre style=\"white-space:pre;overflow-x:auto;line-height:normal;font-family:Menlo,'DejaVu Sans Mono',consolas,'Courier New',monospace\"><span style=\"color: #008000; text-decoration-color: #008000\">Expected Improvement: </span><span style=\"color: #008080; text-decoration-color: #008080; font-weight: bold\">0.016557298600673676</span><span style=\"color: #008000; text-decoration-color: #008000\"> Actual: </span><span style=\"color: #008080; text-decoration-color: #008080; font-weight: bold\">0.016640646383166313</span>\n",
       "</pre>\n"
      ],
      "text/plain": [
       "\u001b[32mExpected Improvement: \u001b[0m\u001b[1;36m0.016557298600673676\u001b[0m\u001b[32m Actual: \u001b[0m\u001b[1;36m0.016640646383166313\u001b[0m\n"
      ]
     },
     "metadata": {},
     "output_type": "display_data"
    },
    {
     "data": {
      "text/html": [
       "<pre style=\"white-space:pre;overflow-x:auto;line-height:normal;font-family:Menlo,'DejaVu Sans Mono',consolas,'Courier New',monospace\"><span style=\"color: #008000; text-decoration-color: #008000\">Accept step at </span><span style=\"color: #808000; text-decoration-color: #808000\">i</span><span style=\"color: #008000; text-decoration-color: #008000\">=</span><span style=\"color: #008080; text-decoration-color: #008080; font-weight: bold\">1</span>\n",
       "</pre>\n"
      ],
      "text/plain": [
       "\u001b[32mAccept step at \u001b[0m\u001b[33mi\u001b[0m\u001b[32m=\u001b[0m\u001b[1;36m1\u001b[0m\n"
      ]
     },
     "metadata": {},
     "output_type": "display_data"
    },
    {
     "data": {
      "text/html": [
       "<pre style=\"white-space:pre;overflow-x:auto;line-height:normal;font-family:Menlo,'DejaVu Sans Mono',consolas,'Courier New',monospace\">┏━━━━━━━━━━━━━━━━━━━━━━━━━━━━━━━━┳━━━━━━━━━━━━━━━━━━━━━━━━━┓\n",
       "┃<span style=\"font-weight: bold\"> Metrics                        </span>┃<span style=\"font-weight: bold\"> Value                   </span>┃\n",
       "┡━━━━━━━━━━━━━━━━━━━━━━━━━━━━━━━━╇━━━━━━━━━━━━━━━━━━━━━━━━━┩\n",
       "│ Metrics/EpRet                  │ 24.713083267211914      │\n",
       "│ Metrics/EpCost                 │ 45.099998474121094      │\n",
       "│ Metrics/EpLen                  │ 1000.0                  │\n",
       "│ Train/Epoch                    │ 28.0                    │\n",
       "│ Train/Entropy                  │ 1.0527793169021606      │\n",
       "│ Train/KL                       │ 0.0002990331267938018   │\n",
       "│ Train/StopIter                 │ 10.0                    │\n",
       "│ Train/PolicyRatio/Mean         │ 0.9998071789741516      │\n",
       "│ Train/PolicyRatio/Min          │ 0.9998072385787964      │\n",
       "│ Train/PolicyRatio/Max          │ 0.9998072385787964      │\n",
       "│ Train/PolicyRatio/Std          │ 0.00013635909999720752  │\n",
       "│ Train/LR                       │ 0.0                     │\n",
       "│ Train/PolicyStd                │ 0.7053911089897156      │\n",
       "│ TotalEnvSteps                  │ 580000.0                │\n",
       "│ Loss/Loss_pi                   │ -0.01109375711530447    │\n",
       "│ Loss/Loss_pi/Delta             │ 0.0007482711225748062   │\n",
       "│ Value/Adv                      │ 1.5258788677030566e-09  │\n",
       "│ Loss/Loss_reward_critic        │ 0.01809367723762989     │\n",
       "│ Loss/Loss_reward_critic/Delta  │ -0.00014642812311649323 │\n",
       "│ Value/reward                   │ 2.3435702323913574      │\n",
       "│ Loss/Loss_cost_critic          │ 1.0719574689865112      │\n",
       "│ Loss/Loss_cost_critic/Delta    │ -0.11957395076751709    │\n",
       "│ Value/cost                     │ 5.51959753036499        │\n",
       "│ Time/Total                     │ 1627.795654296875       │\n",
       "│ Time/Rollout                   │ 42.73114776611328       │\n",
       "│ Time/Update                    │ 13.000411987304688      │\n",
       "│ Time/Epoch                     │ 55.731563568115234      │\n",
       "│ Time/FPS                       │ 358.8630676269531       │\n",
       "│ Misc/Alpha                     │ 1.2091655731201172      │\n",
       "│ Misc/FinalStepNorm             │ 0.3132755756378174      │\n",
       "│ Misc/gradient_norm             │ 0.08652875572443008     │\n",
       "│ Misc/xHx                       │ 0.01367911882698536     │\n",
       "│ Misc/H_inv_g                   │ 0.2590841054916382      │\n",
       "│ Misc/AcceptanceStep            │ 1.0                     │\n",
       "│ Metrics/LagrangeMultiplier/Mea │ 0.8273864388465881      │\n",
       "│ Metrics/LagrangeMultiplier/Min │ 0.8273864388465881      │\n",
       "│ Metrics/LagrangeMultiplier/Max │ 0.8273864388465881      │\n",
       "│ Metrics/LagrangeMultiplier/Std │ 0.0                     │\n",
       "└────────────────────────────────┴─────────────────────────┘\n",
       "</pre>\n"
      ],
      "text/plain": [
       "┏━━━━━━━━━━━━━━━━━━━━━━━━━━━━━━━━┳━━━━━━━━━━━━━━━━━━━━━━━━━┓\n",
       "┃\u001b[1m \u001b[0m\u001b[1mMetrics                       \u001b[0m\u001b[1m \u001b[0m┃\u001b[1m \u001b[0m\u001b[1mValue                  \u001b[0m\u001b[1m \u001b[0m┃\n",
       "┡━━━━━━━━━━━━━━━━━━━━━━━━━━━━━━━━╇━━━━━━━━━━━━━━━━━━━━━━━━━┩\n",
       "│ Metrics/EpRet                  │ 24.713083267211914      │\n",
       "│ Metrics/EpCost                 │ 45.099998474121094      │\n",
       "│ Metrics/EpLen                  │ 1000.0                  │\n",
       "│ Train/Epoch                    │ 28.0                    │\n",
       "│ Train/Entropy                  │ 1.0527793169021606      │\n",
       "│ Train/KL                       │ 0.0002990331267938018   │\n",
       "│ Train/StopIter                 │ 10.0                    │\n",
       "│ Train/PolicyRatio/Mean         │ 0.9998071789741516      │\n",
       "│ Train/PolicyRatio/Min          │ 0.9998072385787964      │\n",
       "│ Train/PolicyRatio/Max          │ 0.9998072385787964      │\n",
       "│ Train/PolicyRatio/Std          │ 0.00013635909999720752  │\n",
       "│ Train/LR                       │ 0.0                     │\n",
       "│ Train/PolicyStd                │ 0.7053911089897156      │\n",
       "│ TotalEnvSteps                  │ 580000.0                │\n",
       "│ Loss/Loss_pi                   │ -0.01109375711530447    │\n",
       "│ Loss/Loss_pi/Delta             │ 0.0007482711225748062   │\n",
       "│ Value/Adv                      │ 1.5258788677030566e-09  │\n",
       "│ Loss/Loss_reward_critic        │ 0.01809367723762989     │\n",
       "│ Loss/Loss_reward_critic/Delta  │ -0.00014642812311649323 │\n",
       "│ Value/reward                   │ 2.3435702323913574      │\n",
       "│ Loss/Loss_cost_critic          │ 1.0719574689865112      │\n",
       "│ Loss/Loss_cost_critic/Delta    │ -0.11957395076751709    │\n",
       "│ Value/cost                     │ 5.51959753036499        │\n",
       "│ Time/Total                     │ 1627.795654296875       │\n",
       "│ Time/Rollout                   │ 42.73114776611328       │\n",
       "│ Time/Update                    │ 13.000411987304688      │\n",
       "│ Time/Epoch                     │ 55.731563568115234      │\n",
       "│ Time/FPS                       │ 358.8630676269531       │\n",
       "│ Misc/Alpha                     │ 1.2091655731201172      │\n",
       "│ Misc/FinalStepNorm             │ 0.3132755756378174      │\n",
       "│ Misc/gradient_norm             │ 0.08652875572443008     │\n",
       "│ Misc/xHx                       │ 0.01367911882698536     │\n",
       "│ Misc/H_inv_g                   │ 0.2590841054916382      │\n",
       "│ Misc/AcceptanceStep            │ 1.0                     │\n",
       "│ Metrics/LagrangeMultiplier/Mea │ 0.8273864388465881      │\n",
       "│ Metrics/LagrangeMultiplier/Min │ 0.8273864388465881      │\n",
       "│ Metrics/LagrangeMultiplier/Max │ 0.8273864388465881      │\n",
       "│ Metrics/LagrangeMultiplier/Std │ 0.0                     │\n",
       "└────────────────────────────────┴─────────────────────────┘\n"
      ]
     },
     "metadata": {},
     "output_type": "display_data"
    },
    {
     "data": {
      "text/html": [
       "<pre style=\"white-space:pre;overflow-x:auto;line-height:normal;font-family:Menlo,'DejaVu Sans Mono',consolas,'Courier New',monospace\"><span style=\"color: #008000; text-decoration-color: #008000\">Warning: trajectory cut off when rollout by epoch at </span><span style=\"color: #008080; text-decoration-color: #008080; font-weight: bold\">1000.0</span><span style=\"color: #008000; text-decoration-color: #008000\"> steps.</span>\n",
       "</pre>\n"
      ],
      "text/plain": [
       "\u001b[32mWarning: trajectory cut off when rollout by epoch at \u001b[0m\u001b[1;36m1000.0\u001b[0m\u001b[32m steps.\u001b[0m\n"
      ]
     },
     "metadata": {},
     "output_type": "display_data"
    },
    {
     "data": {
      "text/html": [
       "<pre style=\"white-space:pre;overflow-x:auto;line-height:normal;font-family:Menlo,'DejaVu Sans Mono',consolas,'Courier New',monospace\"><span style=\"color: #008000; text-decoration-color: #008000\">Warning: trajectory cut off when rollout by epoch at </span><span style=\"color: #008080; text-decoration-color: #008080; font-weight: bold\">1000.0</span><span style=\"color: #008000; text-decoration-color: #008000\"> steps.</span>\n",
       "</pre>\n"
      ],
      "text/plain": [
       "\u001b[32mWarning: trajectory cut off when rollout by epoch at \u001b[0m\u001b[1;36m1000.0\u001b[0m\u001b[32m steps.\u001b[0m\n"
      ]
     },
     "metadata": {},
     "output_type": "display_data"
    },
    {
     "data": {
      "text/html": [
       "<pre style=\"white-space:pre;overflow-x:auto;line-height:normal;font-family:Menlo,'DejaVu Sans Mono',consolas,'Courier New',monospace\"><span style=\"color: #008000; text-decoration-color: #008000\">Warning: trajectory cut off when rollout by epoch at </span><span style=\"color: #008080; text-decoration-color: #008080; font-weight: bold\">1000.0</span><span style=\"color: #008000; text-decoration-color: #008000\"> steps.</span>\n",
       "</pre>\n"
      ],
      "text/plain": [
       "\u001b[32mWarning: trajectory cut off when rollout by epoch at \u001b[0m\u001b[1;36m1000.0\u001b[0m\u001b[32m steps.\u001b[0m\n"
      ]
     },
     "metadata": {},
     "output_type": "display_data"
    },
    {
     "data": {
      "text/html": [
       "<pre style=\"white-space:pre;overflow-x:auto;line-height:normal;font-family:Menlo,'DejaVu Sans Mono',consolas,'Courier New',monospace\"><span style=\"color: #008000; text-decoration-color: #008000\">Warning: trajectory cut off when rollout by epoch at </span><span style=\"color: #008080; text-decoration-color: #008080; font-weight: bold\">1000.0</span><span style=\"color: #008000; text-decoration-color: #008000\"> steps.</span>\n",
       "</pre>\n"
      ],
      "text/plain": [
       "\u001b[32mWarning: trajectory cut off when rollout by epoch at \u001b[0m\u001b[1;36m1000.0\u001b[0m\u001b[32m steps.\u001b[0m\n"
      ]
     },
     "metadata": {},
     "output_type": "display_data"
    },
    {
     "data": {
      "text/html": [
       "<pre style=\"white-space:pre;overflow-x:auto;line-height:normal;font-family:Menlo,'DejaVu Sans Mono',consolas,'Courier New',monospace\"></pre>\n"
      ],
      "text/plain": []
     },
     "metadata": {},
     "output_type": "display_data"
    },
    {
     "data": {
      "text/html": [
       "<pre style=\"white-space:pre;overflow-x:auto;line-height:normal;font-family:Menlo,'DejaVu Sans Mono',consolas,'Courier New',monospace\">\n",
       "</pre>\n"
      ],
      "text/plain": [
       "\n"
      ]
     },
     "metadata": {},
     "output_type": "display_data"
    },
    {
     "data": {
      "text/html": [
       "<pre style=\"white-space:pre;overflow-x:auto;line-height:normal;font-family:Menlo,'DejaVu Sans Mono',consolas,'Courier New',monospace\"><span style=\"color: #008000; text-decoration-color: #008000\">Expected Improvement: </span><span style=\"color: #008080; text-decoration-color: #008080; font-weight: bold\">0.019028395414352417</span><span style=\"color: #008000; text-decoration-color: #008000\"> Actual: </span><span style=\"color: #008080; text-decoration-color: #008080; font-weight: bold\">0.018519317731261253</span>\n",
       "</pre>\n"
      ],
      "text/plain": [
       "\u001b[32mExpected Improvement: \u001b[0m\u001b[1;36m0.019028395414352417\u001b[0m\u001b[32m Actual: \u001b[0m\u001b[1;36m0.018519317731261253\u001b[0m\n"
      ]
     },
     "metadata": {},
     "output_type": "display_data"
    },
    {
     "data": {
      "text/html": [
       "<pre style=\"white-space:pre;overflow-x:auto;line-height:normal;font-family:Menlo,'DejaVu Sans Mono',consolas,'Courier New',monospace\"><span style=\"color: #008000; text-decoration-color: #008000\">Accept step at </span><span style=\"color: #808000; text-decoration-color: #808000\">i</span><span style=\"color: #008000; text-decoration-color: #008000\">=</span><span style=\"color: #008080; text-decoration-color: #008080; font-weight: bold\">1</span>\n",
       "</pre>\n"
      ],
      "text/plain": [
       "\u001b[32mAccept step at \u001b[0m\u001b[33mi\u001b[0m\u001b[32m=\u001b[0m\u001b[1;36m1\u001b[0m\n"
      ]
     },
     "metadata": {},
     "output_type": "display_data"
    },
    {
     "data": {
      "text/html": [
       "<pre style=\"white-space:pre;overflow-x:auto;line-height:normal;font-family:Menlo,'DejaVu Sans Mono',consolas,'Courier New',monospace\">┏━━━━━━━━━━━━━━━━━━━━━━━━━━━━━━━━┳━━━━━━━━━━━━━━━━━━━━━━━━━┓\n",
       "┃<span style=\"font-weight: bold\"> Metrics                        </span>┃<span style=\"font-weight: bold\"> Value                   </span>┃\n",
       "┡━━━━━━━━━━━━━━━━━━━━━━━━━━━━━━━━╇━━━━━━━━━━━━━━━━━━━━━━━━━┩\n",
       "│ Metrics/EpRet                  │ 25.17022705078125       │\n",
       "│ Metrics/EpCost                 │ 51.29999923706055       │\n",
       "│ Metrics/EpLen                  │ 1000.0                  │\n",
       "│ Train/Epoch                    │ 29.0                    │\n",
       "│ Train/Entropy                  │ 1.0377870798110962      │\n",
       "│ Train/KL                       │ 0.0003244770923629403   │\n",
       "│ Train/StopIter                 │ 10.0                    │\n",
       "│ Train/PolicyRatio/Mean         │ 0.9994621276855469      │\n",
       "│ Train/PolicyRatio/Min          │ 0.9994621276855469      │\n",
       "│ Train/PolicyRatio/Max          │ 0.9994621276855469      │\n",
       "│ Train/PolicyRatio/Std          │ 0.0003803612489718944   │\n",
       "│ Train/LR                       │ 0.0                     │\n",
       "│ Train/PolicyStd                │ 0.6939499974250793      │\n",
       "│ TotalEnvSteps                  │ 600000.0                │\n",
       "│ Loss/Loss_pi                   │ -0.012346208095550537   │\n",
       "│ Loss/Loss_pi/Delta             │ -0.001252450980246067   │\n",
       "│ Value/Adv                      │ -6.866454960174906e-09  │\n",
       "│ Loss/Loss_reward_critic        │ 0.017853161320090294    │\n",
       "│ Loss/Loss_reward_critic/Delta  │ -0.00024051591753959656 │\n",
       "│ Value/reward                   │ 2.4103338718414307      │\n",
       "│ Loss/Loss_cost_critic          │ 1.1947695016860962      │\n",
       "│ Loss/Loss_cost_critic/Delta    │ 0.12281203269958496     │\n",
       "│ Value/cost                     │ 5.474118709564209       │\n",
       "│ Time/Total                     │ 1683.3253173828125      │\n",
       "│ Time/Rollout                   │ 42.370147705078125      │\n",
       "│ Time/Update                    │ 13.121404647827148      │\n",
       "│ Time/Epoch                     │ 55.491554260253906      │\n",
       "│ Time/FPS                       │ 360.41522216796875      │\n",
       "│ Misc/Alpha                     │ 1.0518617630004883      │\n",
       "│ Misc/FinalStepNorm             │ 0.2970248758792877      │\n",
       "│ Misc/gradient_norm             │ 0.12116410583257675     │\n",
       "│ Misc/xHx                       │ 0.018076419830322266    │\n",
       "│ Misc/H_inv_g                   │ 0.2823801338672638      │\n",
       "│ Misc/AcceptanceStep            │ 1.0                     │\n",
       "│ Metrics/LagrangeMultiplier/Mea │ 0.851540207862854       │\n",
       "│ Metrics/LagrangeMultiplier/Min │ 0.851540207862854       │\n",
       "│ Metrics/LagrangeMultiplier/Max │ 0.851540207862854       │\n",
       "│ Metrics/LagrangeMultiplier/Std │ 0.0                     │\n",
       "└────────────────────────────────┴─────────────────────────┘\n",
       "</pre>\n"
      ],
      "text/plain": [
       "┏━━━━━━━━━━━━━━━━━━━━━━━━━━━━━━━━┳━━━━━━━━━━━━━━━━━━━━━━━━━┓\n",
       "┃\u001b[1m \u001b[0m\u001b[1mMetrics                       \u001b[0m\u001b[1m \u001b[0m┃\u001b[1m \u001b[0m\u001b[1mValue                  \u001b[0m\u001b[1m \u001b[0m┃\n",
       "┡━━━━━━━━━━━━━━━━━━━━━━━━━━━━━━━━╇━━━━━━━━━━━━━━━━━━━━━━━━━┩\n",
       "│ Metrics/EpRet                  │ 25.17022705078125       │\n",
       "│ Metrics/EpCost                 │ 51.29999923706055       │\n",
       "│ Metrics/EpLen                  │ 1000.0                  │\n",
       "│ Train/Epoch                    │ 29.0                    │\n",
       "│ Train/Entropy                  │ 1.0377870798110962      │\n",
       "│ Train/KL                       │ 0.0003244770923629403   │\n",
       "│ Train/StopIter                 │ 10.0                    │\n",
       "│ Train/PolicyRatio/Mean         │ 0.9994621276855469      │\n",
       "│ Train/PolicyRatio/Min          │ 0.9994621276855469      │\n",
       "│ Train/PolicyRatio/Max          │ 0.9994621276855469      │\n",
       "│ Train/PolicyRatio/Std          │ 0.0003803612489718944   │\n",
       "│ Train/LR                       │ 0.0                     │\n",
       "│ Train/PolicyStd                │ 0.6939499974250793      │\n",
       "│ TotalEnvSteps                  │ 600000.0                │\n",
       "│ Loss/Loss_pi                   │ -0.012346208095550537   │\n",
       "│ Loss/Loss_pi/Delta             │ -0.001252450980246067   │\n",
       "│ Value/Adv                      │ -6.866454960174906e-09  │\n",
       "│ Loss/Loss_reward_critic        │ 0.017853161320090294    │\n",
       "│ Loss/Loss_reward_critic/Delta  │ -0.00024051591753959656 │\n",
       "│ Value/reward                   │ 2.4103338718414307      │\n",
       "│ Loss/Loss_cost_critic          │ 1.1947695016860962      │\n",
       "│ Loss/Loss_cost_critic/Delta    │ 0.12281203269958496     │\n",
       "│ Value/cost                     │ 5.474118709564209       │\n",
       "│ Time/Total                     │ 1683.3253173828125      │\n",
       "│ Time/Rollout                   │ 42.370147705078125      │\n",
       "│ Time/Update                    │ 13.121404647827148      │\n",
       "│ Time/Epoch                     │ 55.491554260253906      │\n",
       "│ Time/FPS                       │ 360.41522216796875      │\n",
       "│ Misc/Alpha                     │ 1.0518617630004883      │\n",
       "│ Misc/FinalStepNorm             │ 0.2970248758792877      │\n",
       "│ Misc/gradient_norm             │ 0.12116410583257675     │\n",
       "│ Misc/xHx                       │ 0.018076419830322266    │\n",
       "│ Misc/H_inv_g                   │ 0.2823801338672638      │\n",
       "│ Misc/AcceptanceStep            │ 1.0                     │\n",
       "│ Metrics/LagrangeMultiplier/Mea │ 0.851540207862854       │\n",
       "│ Metrics/LagrangeMultiplier/Min │ 0.851540207862854       │\n",
       "│ Metrics/LagrangeMultiplier/Max │ 0.851540207862854       │\n",
       "│ Metrics/LagrangeMultiplier/Std │ 0.0                     │\n",
       "└────────────────────────────────┴─────────────────────────┘\n"
      ]
     },
     "metadata": {},
     "output_type": "display_data"
    }
   ],
   "source": [
    "# total experiment num must can be divided by num_pool\n",
    "# meanwhile, users should decide this value according to their machine\n",
    "eg.run(train, gpu_id=gpu_id)"
   ]
  },
  {
   "cell_type": "code",
   "execution_count": 5,
   "metadata": {},
   "outputs": [],
   "source": [
    "LOG_DIR = 'exp-x\\BM_Safety_Lagrangian\\SafetyPointGoal1-v0---47335d209c482a3ccbd6eb021625183261eac3afe3e5926d3ce1926b1403f582\\PPOLag-{SafetyPointGoal1-v0}\\seed-000-2024-04-24-02-54-58'\n",
    "\n",
    "evaluator = omnisafe.Evaluator()\n",
    "for item in os.scandir(os.path.join(LOG_DIR, 'torch_save')):\n",
    "    if item.is_file() and item.name.split('.')[-1] == 'pt':\n",
    "        evaluator.load_saved(\n",
    "            save_dir=LOG_DIR, model_name=item.name, camera_name='track', width=256, height=256\n",
    "        )\n",
    "        evaluator.render(num_episodes=5)\n",
    "        evaluator.evaluate(num_episodes=5)"
   ]
  },
  {
   "cell_type": "code",
   "execution_count": 6,
   "metadata": {},
   "outputs": [],
   "source": [
    "LOG_DIR = 'exp-x\\BM_Safety_Lagrangian\\SafetyPointGoal1-v0---b139ee2e886e92ed9936723eb2b2a096596d8bd77629da1d6e785f1b3f09e6bd\\TRPOLag-{SafetyPointGoal1-v0}\\seed-000-2024-04-24-04-25-54'\n",
    "\n",
    "evaluator = omnisafe.Evaluator()\n",
    "for item in os.scandir(os.path.join(LOG_DIR, 'torch_save')):\n",
    "    if item.is_file() and item.name.split('.')[-1] == 'pt':\n",
    "        evaluator.load_saved(\n",
    "            save_dir=LOG_DIR, model_name=item.name, camera_name='track', width=256, height=256\n",
    "        )\n",
    "        evaluator.render(num_episodes=5)\n",
    "        evaluator.evaluate(num_episodes=5)"
   ]
  },
  {
   "cell_type": "code",
   "execution_count": null,
   "metadata": {},
   "outputs": [],
   "source": []
  }
 ],
 "metadata": {
  "kernelspec": {
   "display_name": "omnisafe-env",
   "language": "python",
   "name": "python3"
  },
  "language_info": {
   "codemirror_mode": {
    "name": "ipython",
    "version": 3
   },
   "file_extension": ".py",
   "mimetype": "text/x-python",
   "name": "python",
   "nbconvert_exporter": "python",
   "pygments_lexer": "ipython3",
   "version": "3.8.19"
  }
 },
 "nbformat": 4,
 "nbformat_minor": 2
}
