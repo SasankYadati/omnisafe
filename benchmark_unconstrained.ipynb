{
 "cells": [
  {
   "cell_type": "code",
   "execution_count": 1,
   "metadata": {},
   "outputs": [],
   "source": [
    "import warnings\n",
    "\n",
    "import torch\n",
    "\n",
    "from omnisafe.common.experiment_grid import ExperimentGrid\n",
    "import omnisafe"
   ]
  },
  {
   "cell_type": "code",
   "execution_count": 2,
   "metadata": {},
   "outputs": [],
   "source": [
    "eg = ExperimentGrid(exp_name='BM_Safety_Unconstrained')\n",
    "\n",
    "base_policy = ['TRPO', 'PPO']\n",
    "\n",
    "safety_envs = [\n",
    "    'SafetyPointGoal1-v0',\n",
    "]\n",
    "eg.add('env_id', safety_envs)\n",
    "\n",
    "avaliable_gpus = list(range(torch.cuda.device_count()))\n",
    "gpu_id = [0]\n",
    "\n",
    "if gpu_id and not set(gpu_id).issubset(avaliable_gpus):\n",
    "    warnings.warn('The GPU ID is not available, use CPU instead.', stacklevel=1)\n",
    "    gpu_id = None\n",
    "\n",
    "eg.add('algo', base_policy)\n",
    "eg.add('logger_cfgs:use_wandb', [True])\n",
    "eg.add('logger_cfgs:wandb_project', ['Benchmark_Safety'])\n",
    "eg.add('train_cfgs:vector_env_nums', [4])\n",
    "eg.add('train_cfgs:torch_threads', [8])\n",
    "eg.add('algo_cfgs:steps_per_epoch', [20000])\n",
    "eg.add('train_cfgs:total_steps', [20000 * 30])\n",
    "eg.add('seed', [0])"
   ]
  },
  {
   "cell_type": "code",
   "execution_count": 3,
   "metadata": {},
   "outputs": [],
   "source": [
    "\"\"\"Example of training a policy from exp-x config with OmniSafe.\"\"\"\n",
    "import os, sys\n",
    "from omnisafe.typing import NamedTuple, Tuple\n",
    "\n",
    "\n",
    "def train(\n",
    "    exp_id: str, algo: str, env_id: str, custom_cfgs: NamedTuple\n",
    ") -> Tuple[float, float, float]:\n",
    "    \"\"\"Train a policy from exp-x config with OmniSafe.\n",
    "\n",
    "    Args:\n",
    "        exp_id (str): Experiment ID.\n",
    "        algo (str): Algorithm to train.\n",
    "        env_id (str): The name of test environment.\n",
    "        custom_cfgs (NamedTuple): Custom configurations.\n",
    "        num_threads (int, optional): Number of threads. Defaults to 6.\n",
    "    \"\"\"\n",
    "    terminal_log_name = 'terminal.log'\n",
    "    error_log_name = 'error.log'\n",
    "    if 'seed' in custom_cfgs:\n",
    "        terminal_log_name = f'seed{custom_cfgs[\"seed\"]}_{terminal_log_name}'\n",
    "        error_log_name = f'seed{custom_cfgs[\"seed\"]}_{error_log_name}'\n",
    "    sys.stdout = sys.__stdout__\n",
    "    sys.stderr = sys.__stderr__\n",
    "    print(f'exp-x: {exp_id} is training...')\n",
    "    if not os.path.exists(custom_cfgs['logger_cfgs']['log_dir']):\n",
    "        os.makedirs(custom_cfgs['logger_cfgs']['log_dir'], exist_ok=True)\n",
    "    # pylint: disable-next=consider-using-with\n",
    "    sys.stdout = open(\n",
    "        os.path.join(f'{custom_cfgs[\"logger_cfgs\"][\"log_dir\"]}', terminal_log_name),\n",
    "        'w',\n",
    "        encoding='utf-8',\n",
    "    )\n",
    "    # pylint: disable-next=consider-using-with\n",
    "    sys.stderr = open(\n",
    "        os.path.join(f'{custom_cfgs[\"logger_cfgs\"][\"log_dir\"]}', error_log_name),\n",
    "        'w',\n",
    "        encoding='utf-8',\n",
    "    )\n",
    "    agent = omnisafe.Agent(algo, env_id, custom_cfgs=custom_cfgs)\n",
    "    reward, cost, ep_len = agent.learn()\n",
    "    return reward, cost, ep_len"
   ]
  },
  {
   "cell_type": "code",
   "execution_count": 4,
   "metadata": {},
   "outputs": [
    {
     "data": {
      "text/html": [
       "<pre style=\"white-space:pre;overflow-x:auto;line-height:normal;font-family:Menlo,'DejaVu Sans Mono',consolas,'Courier New',monospace\"><span style=\"color: #808000; text-decoration-color: #808000; font-weight: bold\">Save with config of experiment grid in grid_config.json</span>\n",
       "</pre>\n"
      ],
      "text/plain": [
       "\u001b[1;33mSave with config of experiment grid in grid_config.json\u001b[0m\n"
      ]
     },
     "metadata": {},
     "output_type": "display_data"
    },
    {
     "name": "stdout",
     "output_type": "stream",
     "text": [
      "================================================================================\n"
     ]
    },
    {
     "data": {
      "text/html": [
       "<pre style=\"white-space:pre;overflow-x:auto;line-height:normal;font-family:Menlo,'DejaVu Sans Mono',consolas,'Courier New',monospace\"><span style=\"color: #008000; text-decoration-color: #008000; font-weight: bold\">ExperimentGrid [BM_Safety_Unconstrained] runs over parameters:</span>\n",
       "\n",
       "</pre>\n"
      ],
      "text/plain": [
       "\u001b[1;32mExperimentGrid \u001b[0m\u001b[1;32m[\u001b[0m\u001b[1;32mBM_Safety_Unconstrained\u001b[0m\u001b[1;32m]\u001b[0m\u001b[1;32m runs over parameters:\u001b[0m\n",
       "\n"
      ]
     },
     "metadata": {},
     "output_type": "display_data"
    },
    {
     "data": {
      "text/html": [
       "<pre style=\"white-space:pre;overflow-x:auto;line-height:normal;font-family:Menlo,'DejaVu Sans Mono',consolas,'Courier New',monospace\"><span style=\"color: #008080; text-decoration-color: #008080; font-weight: bold\"> env_id                                  </span></pre>\n"
      ],
      "text/plain": [
       "\u001b[1;36m env_id                                  \u001b[0m"
      ]
     },
     "metadata": {},
     "output_type": "display_data"
    },
    {
     "name": "stdout",
     "output_type": "stream",
     "text": [
      "[env] \n",
      "\n",
      "\t\"SafetyPointGoal1-v0\"\n",
      "\n"
     ]
    },
    {
     "data": {
      "text/html": [
       "<pre style=\"white-space:pre;overflow-x:auto;line-height:normal;font-family:Menlo,'DejaVu Sans Mono',consolas,'Courier New',monospace\"><span style=\"color: #008080; text-decoration-color: #008080; font-weight: bold\"> algo                                    </span></pre>\n"
      ],
      "text/plain": [
       "\u001b[1;36m algo                                    \u001b[0m"
      ]
     },
     "metadata": {},
     "output_type": "display_data"
    },
    {
     "name": "stdout",
     "output_type": "stream",
     "text": [
      "[alg] \n",
      "\n",
      "\t\"TRPO\"\n",
      "\t\"PPO\"\n",
      "\n"
     ]
    },
    {
     "data": {
      "text/html": [
       "<pre style=\"white-space:pre;overflow-x:auto;line-height:normal;font-family:Menlo,'DejaVu Sans Mono',consolas,'Courier New',monospace\"><span style=\"color: #008080; text-decoration-color: #008080; font-weight: bold\"> logger_cfgs:use_wandb                   </span></pre>\n"
      ],
      "text/plain": [
       "\u001b[1;36m logger_cfgs:use_wandb                   \u001b[0m"
      ]
     },
     "metadata": {},
     "output_type": "display_data"
    },
    {
     "name": "stdout",
     "output_type": "stream",
     "text": [
      "[log-use] \n",
      "\n",
      "\ttrue\n",
      "\n"
     ]
    },
    {
     "data": {
      "text/html": [
       "<pre style=\"white-space:pre;overflow-x:auto;line-height:normal;font-family:Menlo,'DejaVu Sans Mono',consolas,'Courier New',monospace\"><span style=\"color: #008080; text-decoration-color: #008080; font-weight: bold\"> logger_cfgs:wandb_project               </span></pre>\n"
      ],
      "text/plain": [
       "\u001b[1;36m logger_cfgs:wandb_project               \u001b[0m"
      ]
     },
     "metadata": {},
     "output_type": "display_data"
    },
    {
     "name": "stdout",
     "output_type": "stream",
     "text": [
      "[log-wan] \n",
      "\n",
      "\t\"Benchmark_Safety\"\n",
      "\n"
     ]
    },
    {
     "data": {
      "text/html": [
       "<pre style=\"white-space:pre;overflow-x:auto;line-height:normal;font-family:Menlo,'DejaVu Sans Mono',consolas,'Courier New',monospace\"><span style=\"color: #008080; text-decoration-color: #008080; font-weight: bold\"> train_cfgs:vector_env_nums              </span></pre>\n"
      ],
      "text/plain": [
       "\u001b[1;36m train_cfgs:vector_env_nums              \u001b[0m"
      ]
     },
     "metadata": {},
     "output_type": "display_data"
    },
    {
     "name": "stdout",
     "output_type": "stream",
     "text": [
      "[tra-vec] \n",
      "\n",
      "\t4\n",
      "\n"
     ]
    },
    {
     "data": {
      "text/html": [
       "<pre style=\"white-space:pre;overflow-x:auto;line-height:normal;font-family:Menlo,'DejaVu Sans Mono',consolas,'Courier New',monospace\"><span style=\"color: #008080; text-decoration-color: #008080; font-weight: bold\"> train_cfgs:torch_threads                </span></pre>\n"
      ],
      "text/plain": [
       "\u001b[1;36m train_cfgs:torch_threads                \u001b[0m"
      ]
     },
     "metadata": {},
     "output_type": "display_data"
    },
    {
     "name": "stdout",
     "output_type": "stream",
     "text": [
      "[tra-tor] \n",
      "\n",
      "\t8\n",
      "\n"
     ]
    },
    {
     "data": {
      "text/html": [
       "<pre style=\"white-space:pre;overflow-x:auto;line-height:normal;font-family:Menlo,'DejaVu Sans Mono',consolas,'Courier New',monospace\"><span style=\"color: #008080; text-decoration-color: #008080; font-weight: bold\"> algo_cfgs:steps_per_epoch               </span></pre>\n"
      ],
      "text/plain": [
       "\u001b[1;36m algo_cfgs:steps_per_epoch               \u001b[0m"
      ]
     },
     "metadata": {},
     "output_type": "display_data"
    },
    {
     "name": "stdout",
     "output_type": "stream",
     "text": [
      "[alg-ste] \n",
      "\n",
      "\t20000\n",
      "\n"
     ]
    },
    {
     "data": {
      "text/html": [
       "<pre style=\"white-space:pre;overflow-x:auto;line-height:normal;font-family:Menlo,'DejaVu Sans Mono',consolas,'Courier New',monospace\"><span style=\"color: #008080; text-decoration-color: #008080; font-weight: bold\"> train_cfgs:total_steps                  </span></pre>\n"
      ],
      "text/plain": [
       "\u001b[1;36m train_cfgs:total_steps                  \u001b[0m"
      ]
     },
     "metadata": {},
     "output_type": "display_data"
    },
    {
     "name": "stdout",
     "output_type": "stream",
     "text": [
      "[tra-tot] \n",
      "\n",
      "\t600000\n",
      "\n"
     ]
    },
    {
     "data": {
      "text/html": [
       "<pre style=\"white-space:pre;overflow-x:auto;line-height:normal;font-family:Menlo,'DejaVu Sans Mono',consolas,'Courier New',monospace\"><span style=\"color: #008080; text-decoration-color: #008080; font-weight: bold\"> seed                                    </span></pre>\n"
      ],
      "text/plain": [
       "\u001b[1;36m seed                                    \u001b[0m"
      ]
     },
     "metadata": {},
     "output_type": "display_data"
    },
    {
     "name": "stdout",
     "output_type": "stream",
     "text": [
      "[see] \n",
      "\n",
      "\t0\n",
      "\n",
      " Variants, counting seeds:               2\n",
      " Variants, not counting seeds:           2\n",
      "\n",
      "================================================================================\n",
      "value {'seed': 0, 'train_cfgs': {'total_steps': 600000, 'torch_threads': 8, 'vector_env_nums': 4}, 'algo_cfgs': {'steps_per_epoch': 20000}, 'logger_cfgs': {'wandb_project': 'Benchmark_Safety', 'use_wandb': True}, 'algo': 'TRPO', 'env_id': 'SafetyPointGoal1-v0'} key algo\n",
      "value {'seed': 0, 'train_cfgs': {'total_steps': 600000, 'torch_threads': 8, 'vector_env_nums': 4}, 'algo_cfgs': {'steps_per_epoch': 20000}, 'logger_cfgs': {'wandb_project': 'Benchmark_Safety', 'use_wandb': True}, 'algo': 'PPO', 'env_id': 'SafetyPointGoal1-v0'} key algo\n"
     ]
    },
    {
     "data": {
      "text/html": [
       "<pre style=\"white-space:pre;overflow-x:auto;line-height:normal;font-family:Menlo,'DejaVu Sans Mono',consolas,'Courier New',monospace\">\n",
       "<span style=\"color: #008000; text-decoration-color: #008000; font-weight: bold\">Preparing to run the following experiments</span><span style=\"color: #808000; text-decoration-color: #808000; font-weight: bold\">...</span>\n",
       "</pre>\n"
      ],
      "text/plain": [
       "\n",
       "\u001b[1;32mPreparing to run the following experiments\u001b[0m\u001b[1;33m...\u001b[0m\n"
      ]
     },
     "metadata": {},
     "output_type": "display_data"
    },
    {
     "name": "stdout",
     "output_type": "stream",
     "text": [
      "\n",
      "BM_Safety_Unconstrained_algppo\n",
      "BM_Safety_Unconstrained_algtrpo\n",
      "\n",
      "================================================================================\n",
      "current_config {'seed': 0, 'train_cfgs': {'total_steps': 600000, 'torch_threads': 8, 'vector_env_nums': 4}, 'algo_cfgs': {'steps_per_epoch': 20000}, 'logger_cfgs': {'wandb_project': 'Benchmark_Safety', 'use_wandb': True}, 'algo': 'TRPO', 'env_id': 'SafetyPointGoal1-v0'}\n"
     ]
    },
    {
     "data": {
      "text/html": [
       "<pre style=\"white-space:pre;overflow-x:auto;line-height:normal;font-family:Menlo,'DejaVu Sans Mono',consolas,'Courier New',monospace\"><span style=\"color: #008080; text-decoration-color: #008080; font-weight: bold\">Logging data to </span>\n",
       "<span style=\"color: #008080; text-decoration-color: #008080; font-weight: bold\">.</span><span style=\"color: #800080; text-decoration-color: #800080; font-weight: bold\">/</span><span style=\"color: #ff00ff; text-decoration-color: #ff00ff; font-weight: bold\">exp-x</span><span style=\"color: #008080; text-decoration-color: #008080; font-weight: bold\">\\BM_Safety_Unconstrained\\SafetyPointGoal1-v0---dce575ce051f34bfb10e125b56a70286d41d91307da1cacad37e9d43f2725</span>\n",
       "<span style=\"color: #008080; text-decoration-color: #008080; font-weight: bold\">ea0\\TRPO-{SafetyPointGoal1-v0}\\seed-</span><span style=\"color: #008080; text-decoration-color: #008080; font-weight: bold\">000</span><span style=\"color: #008080; text-decoration-color: #008080; font-weight: bold\">-</span><span style=\"color: #008080; text-decoration-color: #008080; font-weight: bold\">2024</span><span style=\"color: #008080; text-decoration-color: #008080; font-weight: bold\">-</span><span style=\"color: #008080; text-decoration-color: #008080; font-weight: bold\">04</span><span style=\"color: #008080; text-decoration-color: #008080; font-weight: bold\">-</span><span style=\"color: #008080; text-decoration-color: #008080; font-weight: bold\">24</span><span style=\"color: #008080; text-decoration-color: #008080; font-weight: bold\">-</span><span style=\"color: #008080; text-decoration-color: #008080; font-weight: bold\">01</span><span style=\"color: #008080; text-decoration-color: #008080; font-weight: bold\">-</span><span style=\"color: #008080; text-decoration-color: #008080; font-weight: bold\">04</span><span style=\"color: #008080; text-decoration-color: #008080; font-weight: bold\">-</span><span style=\"color: #008080; text-decoration-color: #008080; font-weight: bold\">38</span><span style=\"color: #008080; text-decoration-color: #008080; font-weight: bold\">\\progress.csv</span>\n",
       "</pre>\n"
      ],
      "text/plain": [
       "\u001b[1;36mLogging data to \u001b[0m\n",
       "\u001b[1;36m.\u001b[0m\u001b[1;35m/\u001b[0m\u001b[1;95mexp-x\u001b[0m\u001b[1;36m\\BM_Safety_Unconstrained\\SafetyPointGoal1-v0---dce575ce051f34bfb10e125b56a70286d41d91307da1cacad37e9d43f2725\u001b[0m\n",
       "\u001b[1;36mea0\\TRPO-\u001b[0m\u001b[1;36m{\u001b[0m\u001b[1;36mSafetyPointGoal1-v0\u001b[0m\u001b[1;36m}\u001b[0m\u001b[1;36m\\seed-\u001b[0m\u001b[1;36m000\u001b[0m\u001b[1;36m-\u001b[0m\u001b[1;36m2024\u001b[0m\u001b[1;36m-\u001b[0m\u001b[1;36m04\u001b[0m\u001b[1;36m-\u001b[0m\u001b[1;36m24\u001b[0m\u001b[1;36m-\u001b[0m\u001b[1;36m01\u001b[0m\u001b[1;36m-\u001b[0m\u001b[1;36m04\u001b[0m\u001b[1;36m-\u001b[0m\u001b[1;36m38\u001b[0m\u001b[1;36m\\progress.csv\u001b[0m\n"
      ]
     },
     "metadata": {},
     "output_type": "display_data"
    },
    {
     "data": {
      "text/html": [
       "<pre style=\"white-space:pre;overflow-x:auto;line-height:normal;font-family:Menlo,'DejaVu Sans Mono',consolas,'Courier New',monospace\"><span style=\"color: #808000; text-decoration-color: #808000; font-weight: bold\">Save with config in config.json</span>\n",
       "</pre>\n"
      ],
      "text/plain": [
       "\u001b[1;33mSave with config in config.json\u001b[0m\n"
      ]
     },
     "metadata": {},
     "output_type": "display_data"
    },
    {
     "data": {
      "text/html": [
       "<pre style=\"white-space:pre;overflow-x:auto;line-height:normal;font-family:Menlo,'DejaVu Sans Mono',consolas,'Courier New',monospace\">project Benchmark_Safety name TRPO-<span style=\"font-weight: bold\">{</span>SafetyPointGoal1-v0<span style=\"font-weight: bold\">}</span>-seed-<span style=\"color: #008080; text-decoration-color: #008080; font-weight: bold\">000</span>-<span style=\"color: #008080; text-decoration-color: #008080; font-weight: bold\">2024</span>-<span style=\"color: #008080; text-decoration-color: #008080; font-weight: bold\">04</span>-<span style=\"color: #008080; text-decoration-color: #008080; font-weight: bold\">24</span>-<span style=\"color: #008080; text-decoration-color: #008080; font-weight: bold\">01</span>-<span style=\"color: #008080; text-decoration-color: #008080; font-weight: bold\">04</span>-<span style=\"color: #008080; text-decoration-color: #008080; font-weight: bold\">38</span>\n",
       "</pre>\n"
      ],
      "text/plain": [
       "project Benchmark_Safety name TRPO-\u001b[1m{\u001b[0mSafetyPointGoal1-v0\u001b[1m}\u001b[0m-seed-\u001b[1;36m000\u001b[0m-\u001b[1;36m2024\u001b[0m-\u001b[1;36m04\u001b[0m-\u001b[1;36m24\u001b[0m-\u001b[1;36m01\u001b[0m-\u001b[1;36m04\u001b[0m-\u001b[1;36m38\u001b[0m\n"
      ]
     },
     "metadata": {},
     "output_type": "display_data"
    },
    {
     "data": {
      "text/html": [
       "Tracking run with wandb version 0.16.6"
      ],
      "text/plain": [
       "<IPython.core.display.HTML object>"
      ]
     },
     "metadata": {},
     "output_type": "display_data"
    },
    {
     "data": {
      "text/html": [
       "Run data is saved locally in <code>./exp-x\\BM_Safety_Unconstrained\\SafetyPointGoal1-v0---dce575ce051f34bfb10e125b56a70286d41d91307da1cacad37e9d43f2725ea0\\TRPO-{SafetyPointGoal1-v0}\\seed-000-2024-04-24-01-04-38\\wandb\\run-20240424_010441-lqco2clu</code>"
      ],
      "text/plain": [
       "<IPython.core.display.HTML object>"
      ]
     },
     "metadata": {},
     "output_type": "display_data"
    },
    {
     "data": {
      "text/html": [
       "Syncing run <strong><a href='https://wandb.ai/sasank/Benchmark_Safety/runs/lqco2clu' target=\"_blank\">TRPO-{SafetyPointGoal1-v0}-seed-000-2024-04-24-01-04-38</a></strong> to <a href='https://wandb.ai/sasank/Benchmark_Safety' target=\"_blank\">Weights & Biases</a> (<a href='https://wandb.me/run' target=\"_blank\">docs</a>)<br/>"
      ],
      "text/plain": [
       "<IPython.core.display.HTML object>"
      ]
     },
     "metadata": {},
     "output_type": "display_data"
    },
    {
     "data": {
      "text/html": [
       " View project at <a href='https://wandb.ai/sasank/Benchmark_Safety' target=\"_blank\">https://wandb.ai/sasank/Benchmark_Safety</a>"
      ],
      "text/plain": [
       "<IPython.core.display.HTML object>"
      ]
     },
     "metadata": {},
     "output_type": "display_data"
    },
    {
     "data": {
      "text/html": [
       " View run at <a href='https://wandb.ai/sasank/Benchmark_Safety/runs/lqco2clu' target=\"_blank\">https://wandb.ai/sasank/Benchmark_Safety/runs/lqco2clu</a>"
      ],
      "text/plain": [
       "<IPython.core.display.HTML object>"
      ]
     },
     "metadata": {},
     "output_type": "display_data"
    },
    {
     "data": {
      "text/html": [
       "<pre style=\"white-space:pre;overflow-x:auto;line-height:normal;font-family:Menlo,'DejaVu Sans Mono',consolas,'Courier New',monospace\"><span style=\"color: #008000; text-decoration-color: #008000\">INFO: Start training</span>\n",
       "</pre>\n"
      ],
      "text/plain": [
       "\u001b[32mINFO: Start training\u001b[0m\n"
      ]
     },
     "metadata": {},
     "output_type": "display_data"
    },
    {
     "data": {
      "text/html": [
       "<pre style=\"white-space:pre;overflow-x:auto;line-height:normal;font-family:Menlo,'DejaVu Sans Mono',consolas,'Courier New',monospace\">c:\\Users\\saisa\\.conda\\envs\\omnisafe-env\\lib\\site-packages\\rich\\live.py:231: UserWarning: install \"ipywidgets\" for \n",
       "Jupyter support\n",
       "  warnings.warn('install \"ipywidgets\" for Jupyter support')\n",
       "</pre>\n"
      ],
      "text/plain": [
       "c:\\Users\\saisa\\.conda\\envs\\omnisafe-env\\lib\\site-packages\\rich\\live.py:231: UserWarning: install \"ipywidgets\" for \n",
       "Jupyter support\n",
       "  warnings.warn('install \"ipywidgets\" for Jupyter support')\n"
      ]
     },
     "metadata": {},
     "output_type": "display_data"
    },
    {
     "data": {
      "text/html": [
       "<pre style=\"white-space:pre;overflow-x:auto;line-height:normal;font-family:Menlo,'DejaVu Sans Mono',consolas,'Courier New',monospace\"><span style=\"color: #008000; text-decoration-color: #008000\">Warning: trajectory cut off when rollout by epoch at </span><span style=\"color: #008080; text-decoration-color: #008080; font-weight: bold\">1000.0</span><span style=\"color: #008000; text-decoration-color: #008000\"> steps.</span>\n",
       "</pre>\n"
      ],
      "text/plain": [
       "\u001b[32mWarning: trajectory cut off when rollout by epoch at \u001b[0m\u001b[1;36m1000.0\u001b[0m\u001b[32m steps.\u001b[0m\n"
      ]
     },
     "metadata": {},
     "output_type": "display_data"
    },
    {
     "data": {
      "text/html": [
       "<pre style=\"white-space:pre;overflow-x:auto;line-height:normal;font-family:Menlo,'DejaVu Sans Mono',consolas,'Courier New',monospace\"><span style=\"color: #008000; text-decoration-color: #008000\">Warning: trajectory cut off when rollout by epoch at </span><span style=\"color: #008080; text-decoration-color: #008080; font-weight: bold\">1000.0</span><span style=\"color: #008000; text-decoration-color: #008000\"> steps.</span>\n",
       "</pre>\n"
      ],
      "text/plain": [
       "\u001b[32mWarning: trajectory cut off when rollout by epoch at \u001b[0m\u001b[1;36m1000.0\u001b[0m\u001b[32m steps.\u001b[0m\n"
      ]
     },
     "metadata": {},
     "output_type": "display_data"
    },
    {
     "data": {
      "text/html": [
       "<pre style=\"white-space:pre;overflow-x:auto;line-height:normal;font-family:Menlo,'DejaVu Sans Mono',consolas,'Courier New',monospace\"><span style=\"color: #008000; text-decoration-color: #008000\">Warning: trajectory cut off when rollout by epoch at </span><span style=\"color: #008080; text-decoration-color: #008080; font-weight: bold\">1000.0</span><span style=\"color: #008000; text-decoration-color: #008000\"> steps.</span>\n",
       "</pre>\n"
      ],
      "text/plain": [
       "\u001b[32mWarning: trajectory cut off when rollout by epoch at \u001b[0m\u001b[1;36m1000.0\u001b[0m\u001b[32m steps.\u001b[0m\n"
      ]
     },
     "metadata": {},
     "output_type": "display_data"
    },
    {
     "data": {
      "text/html": [
       "<pre style=\"white-space:pre;overflow-x:auto;line-height:normal;font-family:Menlo,'DejaVu Sans Mono',consolas,'Courier New',monospace\"><span style=\"color: #008000; text-decoration-color: #008000\">Warning: trajectory cut off when rollout by epoch at </span><span style=\"color: #008080; text-decoration-color: #008080; font-weight: bold\">1000.0</span><span style=\"color: #008000; text-decoration-color: #008000\"> steps.</span>\n",
       "</pre>\n"
      ],
      "text/plain": [
       "\u001b[32mWarning: trajectory cut off when rollout by epoch at \u001b[0m\u001b[1;36m1000.0\u001b[0m\u001b[32m steps.\u001b[0m\n"
      ]
     },
     "metadata": {},
     "output_type": "display_data"
    },
    {
     "data": {
      "text/html": [
       "<pre style=\"white-space:pre;overflow-x:auto;line-height:normal;font-family:Menlo,'DejaVu Sans Mono',consolas,'Courier New',monospace\"></pre>\n"
      ],
      "text/plain": []
     },
     "metadata": {},
     "output_type": "display_data"
    },
    {
     "data": {
      "text/html": [
       "<pre style=\"white-space:pre;overflow-x:auto;line-height:normal;font-family:Menlo,'DejaVu Sans Mono',consolas,'Courier New',monospace\">\n",
       "</pre>\n"
      ],
      "text/plain": [
       "\n"
      ]
     },
     "metadata": {},
     "output_type": "display_data"
    },
    {
     "data": {
      "text/html": [
       "<pre style=\"white-space:pre;overflow-x:auto;line-height:normal;font-family:Menlo,'DejaVu Sans Mono',consolas,'Courier New',monospace\"><span style=\"color: #008000; text-decoration-color: #008000\">Expected Improvement: </span><span style=\"color: #008080; text-decoration-color: #008080; font-weight: bold\">0.019440464675426483</span><span style=\"color: #008000; text-decoration-color: #008000\"> Actual: </span><span style=\"color: #008080; text-decoration-color: #008080; font-weight: bold\">0.02065933868288994</span>\n",
       "</pre>\n"
      ],
      "text/plain": [
       "\u001b[32mExpected Improvement: \u001b[0m\u001b[1;36m0.019440464675426483\u001b[0m\u001b[32m Actual: \u001b[0m\u001b[1;36m0.02065933868288994\u001b[0m\n"
      ]
     },
     "metadata": {},
     "output_type": "display_data"
    },
    {
     "data": {
      "text/html": [
       "<pre style=\"white-space:pre;overflow-x:auto;line-height:normal;font-family:Menlo,'DejaVu Sans Mono',consolas,'Courier New',monospace\"><span style=\"color: #008000; text-decoration-color: #008000\">Accept step at </span><span style=\"color: #808000; text-decoration-color: #808000\">i</span><span style=\"color: #008000; text-decoration-color: #008000\">=</span><span style=\"color: #008080; text-decoration-color: #008080; font-weight: bold\">1</span>\n",
       "</pre>\n"
      ],
      "text/plain": [
       "\u001b[32mAccept step at \u001b[0m\u001b[33mi\u001b[0m\u001b[32m=\u001b[0m\u001b[1;36m1\u001b[0m\n"
      ]
     },
     "metadata": {},
     "output_type": "display_data"
    },
    {
     "data": {
      "text/html": [
       "<pre style=\"white-space:pre;overflow-x:auto;line-height:normal;font-family:Menlo,'DejaVu Sans Mono',consolas,'Courier New',monospace\">┏━━━━━━━━━━━━━━━━━━━━━━━━━━━━━━━┳━━━━━━━━━━━━━━━━━━━━━━━━┓\n",
       "┃<span style=\"font-weight: bold\"> Metrics                       </span>┃<span style=\"font-weight: bold\"> Value                  </span>┃\n",
       "┡━━━━━━━━━━━━━━━━━━━━━━━━━━━━━━━╇━━━━━━━━━━━━━━━━━━━━━━━━┩\n",
       "│ Metrics/EpRet                 │ -0.6186364889144897    │\n",
       "│ Metrics/EpCost                │ 63.150001525878906     │\n",
       "│ Metrics/EpLen                 │ 1000.0                 │\n",
       "│ Train/Epoch                   │ 0.0                    │\n",
       "│ Train/Entropy                 │ 1.4143208265304565     │\n",
       "│ Train/KL                      │ 0.0003661760129034519  │\n",
       "│ Train/StopIter                │ 10.0                   │\n",
       "│ Train/PolicyRatio/Mean        │ 1.0004968643188477     │\n",
       "│ Train/PolicyRatio/Min         │ 1.0004968643188477     │\n",
       "│ Train/PolicyRatio/Max         │ 1.0004968643188477     │\n",
       "│ Train/PolicyRatio/Std         │ 0.00035127991577610373 │\n",
       "│ Train/LR                      │ 0.0                    │\n",
       "│ Train/PolicyStd               │ 0.9953987002372742     │\n",
       "│ TotalEnvSteps                 │ 20000.0                │\n",
       "│ Loss/Loss_pi                  │ -0.0137728750705719    │\n",
       "│ Loss/Loss_pi/Delta            │ -0.0137728750705719    │\n",
       "│ Value/Adv                     │ -1.678466787780053e-08 │\n",
       "│ Loss/Loss_reward_critic       │ 0.005614597350358963   │\n",
       "│ Loss/Loss_reward_critic/Delta │ 0.005614597350358963   │\n",
       "│ Value/reward                  │ 0.008124573156237602   │\n",
       "│ Time/Total                    │ 47.93138122558594      │\n",
       "│ Time/Rollout                  │ 39.664546966552734     │\n",
       "│ Time/Update                   │ 8.26583480834961       │\n",
       "│ Time/Epoch                    │ 47.930381774902344     │\n",
       "│ Time/FPS                      │ 417.2718505859375      │\n",
       "│ Misc/Alpha                    │ 1.030076503753662      │\n",
       "│ Misc/FinalStepNorm            │ 0.2801249027252197     │\n",
       "│ Misc/gradient_norm            │ 0.08716051280498505    │\n",
       "│ Misc/xHx                      │ 0.01884910836815834    │\n",
       "│ Misc/H_inv_g                  │ 0.2719457149505615     │\n",
       "│ Misc/AcceptanceStep           │ 1.0                    │\n",
       "└───────────────────────────────┴────────────────────────┘\n",
       "</pre>\n"
      ],
      "text/plain": [
       "┏━━━━━━━━━━━━━━━━━━━━━━━━━━━━━━━┳━━━━━━━━━━━━━━━━━━━━━━━━┓\n",
       "┃\u001b[1m \u001b[0m\u001b[1mMetrics                      \u001b[0m\u001b[1m \u001b[0m┃\u001b[1m \u001b[0m\u001b[1mValue                 \u001b[0m\u001b[1m \u001b[0m┃\n",
       "┡━━━━━━━━━━━━━━━━━━━━━━━━━━━━━━━╇━━━━━━━━━━━━━━━━━━━━━━━━┩\n",
       "│ Metrics/EpRet                 │ -0.6186364889144897    │\n",
       "│ Metrics/EpCost                │ 63.150001525878906     │\n",
       "│ Metrics/EpLen                 │ 1000.0                 │\n",
       "│ Train/Epoch                   │ 0.0                    │\n",
       "│ Train/Entropy                 │ 1.4143208265304565     │\n",
       "│ Train/KL                      │ 0.0003661760129034519  │\n",
       "│ Train/StopIter                │ 10.0                   │\n",
       "│ Train/PolicyRatio/Mean        │ 1.0004968643188477     │\n",
       "│ Train/PolicyRatio/Min         │ 1.0004968643188477     │\n",
       "│ Train/PolicyRatio/Max         │ 1.0004968643188477     │\n",
       "│ Train/PolicyRatio/Std         │ 0.00035127991577610373 │\n",
       "│ Train/LR                      │ 0.0                    │\n",
       "│ Train/PolicyStd               │ 0.9953987002372742     │\n",
       "│ TotalEnvSteps                 │ 20000.0                │\n",
       "│ Loss/Loss_pi                  │ -0.0137728750705719    │\n",
       "│ Loss/Loss_pi/Delta            │ -0.0137728750705719    │\n",
       "│ Value/Adv                     │ -1.678466787780053e-08 │\n",
       "│ Loss/Loss_reward_critic       │ 0.005614597350358963   │\n",
       "│ Loss/Loss_reward_critic/Delta │ 0.005614597350358963   │\n",
       "│ Value/reward                  │ 0.008124573156237602   │\n",
       "│ Time/Total                    │ 47.93138122558594      │\n",
       "│ Time/Rollout                  │ 39.664546966552734     │\n",
       "│ Time/Update                   │ 8.26583480834961       │\n",
       "│ Time/Epoch                    │ 47.930381774902344     │\n",
       "│ Time/FPS                      │ 417.2718505859375      │\n",
       "│ Misc/Alpha                    │ 1.030076503753662      │\n",
       "│ Misc/FinalStepNorm            │ 0.2801249027252197     │\n",
       "│ Misc/gradient_norm            │ 0.08716051280498505    │\n",
       "│ Misc/xHx                      │ 0.01884910836815834    │\n",
       "│ Misc/H_inv_g                  │ 0.2719457149505615     │\n",
       "│ Misc/AcceptanceStep           │ 1.0                    │\n",
       "└───────────────────────────────┴────────────────────────┘\n"
      ]
     },
     "metadata": {},
     "output_type": "display_data"
    },
    {
     "data": {
      "text/html": [
       "<pre style=\"white-space:pre;overflow-x:auto;line-height:normal;font-family:Menlo,'DejaVu Sans Mono',consolas,'Courier New',monospace\"><span style=\"color: #008000; text-decoration-color: #008000\">Warning: trajectory cut off when rollout by epoch at </span><span style=\"color: #008080; text-decoration-color: #008080; font-weight: bold\">1000.0</span><span style=\"color: #008000; text-decoration-color: #008000\"> steps.</span>\n",
       "</pre>\n"
      ],
      "text/plain": [
       "\u001b[32mWarning: trajectory cut off when rollout by epoch at \u001b[0m\u001b[1;36m1000.0\u001b[0m\u001b[32m steps.\u001b[0m\n"
      ]
     },
     "metadata": {},
     "output_type": "display_data"
    },
    {
     "data": {
      "text/html": [
       "<pre style=\"white-space:pre;overflow-x:auto;line-height:normal;font-family:Menlo,'DejaVu Sans Mono',consolas,'Courier New',monospace\"><span style=\"color: #008000; text-decoration-color: #008000\">Warning: trajectory cut off when rollout by epoch at </span><span style=\"color: #008080; text-decoration-color: #008080; font-weight: bold\">1000.0</span><span style=\"color: #008000; text-decoration-color: #008000\"> steps.</span>\n",
       "</pre>\n"
      ],
      "text/plain": [
       "\u001b[32mWarning: trajectory cut off when rollout by epoch at \u001b[0m\u001b[1;36m1000.0\u001b[0m\u001b[32m steps.\u001b[0m\n"
      ]
     },
     "metadata": {},
     "output_type": "display_data"
    },
    {
     "data": {
      "text/html": [
       "<pre style=\"white-space:pre;overflow-x:auto;line-height:normal;font-family:Menlo,'DejaVu Sans Mono',consolas,'Courier New',monospace\"><span style=\"color: #008000; text-decoration-color: #008000\">Warning: trajectory cut off when rollout by epoch at </span><span style=\"color: #008080; text-decoration-color: #008080; font-weight: bold\">1000.0</span><span style=\"color: #008000; text-decoration-color: #008000\"> steps.</span>\n",
       "</pre>\n"
      ],
      "text/plain": [
       "\u001b[32mWarning: trajectory cut off when rollout by epoch at \u001b[0m\u001b[1;36m1000.0\u001b[0m\u001b[32m steps.\u001b[0m\n"
      ]
     },
     "metadata": {},
     "output_type": "display_data"
    },
    {
     "data": {
      "text/html": [
       "<pre style=\"white-space:pre;overflow-x:auto;line-height:normal;font-family:Menlo,'DejaVu Sans Mono',consolas,'Courier New',monospace\"><span style=\"color: #008000; text-decoration-color: #008000\">Warning: trajectory cut off when rollout by epoch at </span><span style=\"color: #008080; text-decoration-color: #008080; font-weight: bold\">1000.0</span><span style=\"color: #008000; text-decoration-color: #008000\"> steps.</span>\n",
       "</pre>\n"
      ],
      "text/plain": [
       "\u001b[32mWarning: trajectory cut off when rollout by epoch at \u001b[0m\u001b[1;36m1000.0\u001b[0m\u001b[32m steps.\u001b[0m\n"
      ]
     },
     "metadata": {},
     "output_type": "display_data"
    },
    {
     "data": {
      "text/html": [
       "<pre style=\"white-space:pre;overflow-x:auto;line-height:normal;font-family:Menlo,'DejaVu Sans Mono',consolas,'Courier New',monospace\"></pre>\n"
      ],
      "text/plain": []
     },
     "metadata": {},
     "output_type": "display_data"
    },
    {
     "data": {
      "text/html": [
       "<pre style=\"white-space:pre;overflow-x:auto;line-height:normal;font-family:Menlo,'DejaVu Sans Mono',consolas,'Courier New',monospace\">\n",
       "</pre>\n"
      ],
      "text/plain": [
       "\n"
      ]
     },
     "metadata": {},
     "output_type": "display_data"
    },
    {
     "data": {
      "text/html": [
       "<pre style=\"white-space:pre;overflow-x:auto;line-height:normal;font-family:Menlo,'DejaVu Sans Mono',consolas,'Courier New',monospace\"><span style=\"color: #008000; text-decoration-color: #008000\">Expected Improvement: </span><span style=\"color: #008080; text-decoration-color: #008080; font-weight: bold\">0.023309990763664246</span><span style=\"color: #008000; text-decoration-color: #008000\"> Actual: </span><span style=\"color: #008080; text-decoration-color: #008080; font-weight: bold\">0.023397549986839294</span>\n",
       "</pre>\n"
      ],
      "text/plain": [
       "\u001b[32mExpected Improvement: \u001b[0m\u001b[1;36m0.023309990763664246\u001b[0m\u001b[32m Actual: \u001b[0m\u001b[1;36m0.023397549986839294\u001b[0m\n"
      ]
     },
     "metadata": {},
     "output_type": "display_data"
    },
    {
     "data": {
      "text/html": [
       "<pre style=\"white-space:pre;overflow-x:auto;line-height:normal;font-family:Menlo,'DejaVu Sans Mono',consolas,'Courier New',monospace\"><span style=\"color: #008000; text-decoration-color: #008000\">Accept step at </span><span style=\"color: #808000; text-decoration-color: #808000\">i</span><span style=\"color: #008000; text-decoration-color: #008000\">=</span><span style=\"color: #008080; text-decoration-color: #008080; font-weight: bold\">1</span>\n",
       "</pre>\n"
      ],
      "text/plain": [
       "\u001b[32mAccept step at \u001b[0m\u001b[33mi\u001b[0m\u001b[32m=\u001b[0m\u001b[1;36m1\u001b[0m\n"
      ]
     },
     "metadata": {},
     "output_type": "display_data"
    },
    {
     "data": {
      "text/html": [
       "<pre style=\"white-space:pre;overflow-x:auto;line-height:normal;font-family:Menlo,'DejaVu Sans Mono',consolas,'Courier New',monospace\">┏━━━━━━━━━━━━━━━━━━━━━━━━━━━━━━━┳━━━━━━━━━━━━━━━━━━━━━━━━┓\n",
       "┃<span style=\"font-weight: bold\"> Metrics                       </span>┃<span style=\"font-weight: bold\"> Value                  </span>┃\n",
       "┡━━━━━━━━━━━━━━━━━━━━━━━━━━━━━━━╇━━━━━━━━━━━━━━━━━━━━━━━━┩\n",
       "│ Metrics/EpRet                 │ 0.00013265013694763184 │\n",
       "│ Metrics/EpCost                │ 87.8499984741211       │\n",
       "│ Metrics/EpLen                 │ 1000.0                 │\n",
       "│ Train/Epoch                   │ 1.0                    │\n",
       "│ Train/Entropy                 │ 1.4050458669662476     │\n",
       "│ Train/KL                      │ 0.0004128727305214852  │\n",
       "│ Train/StopIter                │ 10.0                   │\n",
       "│ Train/PolicyRatio/Mean        │ 0.9997218251228333     │\n",
       "│ Train/PolicyRatio/Min         │ 0.999721884727478      │\n",
       "│ Train/PolicyRatio/Max         │ 0.999721884727478      │\n",
       "│ Train/PolicyRatio/Std         │ 0.00019671338668558747 │\n",
       "│ Train/LR                      │ 0.0                    │\n",
       "│ Train/PolicyStd               │ 0.9862244129180908     │\n",
       "│ TotalEnvSteps                 │ 40000.0                │\n",
       "│ Loss/Loss_pi                  │ -0.01559836883097887   │\n",
       "│ Loss/Loss_pi/Delta            │ -0.001825493760406971  │\n",
       "│ Value/Adv                     │ 3.051757735406113e-09  │\n",
       "│ Loss/Loss_reward_critic       │ 0.0039384858682751656  │\n",
       "│ Loss/Loss_reward_critic/Delta │ -0.0016761114820837975 │\n",
       "│ Value/reward                  │ 0.007775569334626198   │\n",
       "│ Time/Total                    │ 94.02232360839844      │\n",
       "│ Time/Rollout                  │ 37.53558349609375      │\n",
       "│ Time/Update                   │ 8.517351150512695      │\n",
       "│ Time/Epoch                    │ 46.05293655395508      │\n",
       "│ Time/FPS                      │ 434.2828369140625      │\n",
       "│ Misc/Alpha                    │ 0.8587619066238403     │\n",
       "│ Misc/FinalStepNorm            │ 0.24295927584171295    │\n",
       "│ Misc/gradient_norm            │ 0.13131140172481537    │\n",
       "│ Misc/xHx                      │ 0.02711966075003147    │\n",
       "│ Misc/H_inv_g                  │ 0.2829180955886841     │\n",
       "│ Misc/AcceptanceStep           │ 1.0                    │\n",
       "└───────────────────────────────┴────────────────────────┘\n",
       "</pre>\n"
      ],
      "text/plain": [
       "┏━━━━━━━━━━━━━━━━━━━━━━━━━━━━━━━┳━━━━━━━━━━━━━━━━━━━━━━━━┓\n",
       "┃\u001b[1m \u001b[0m\u001b[1mMetrics                      \u001b[0m\u001b[1m \u001b[0m┃\u001b[1m \u001b[0m\u001b[1mValue                 \u001b[0m\u001b[1m \u001b[0m┃\n",
       "┡━━━━━━━━━━━━━━━━━━━━━━━━━━━━━━━╇━━━━━━━━━━━━━━━━━━━━━━━━┩\n",
       "│ Metrics/EpRet                 │ 0.00013265013694763184 │\n",
       "│ Metrics/EpCost                │ 87.8499984741211       │\n",
       "│ Metrics/EpLen                 │ 1000.0                 │\n",
       "│ Train/Epoch                   │ 1.0                    │\n",
       "│ Train/Entropy                 │ 1.4050458669662476     │\n",
       "│ Train/KL                      │ 0.0004128727305214852  │\n",
       "│ Train/StopIter                │ 10.0                   │\n",
       "│ Train/PolicyRatio/Mean        │ 0.9997218251228333     │\n",
       "│ Train/PolicyRatio/Min         │ 0.999721884727478      │\n",
       "│ Train/PolicyRatio/Max         │ 0.999721884727478      │\n",
       "│ Train/PolicyRatio/Std         │ 0.00019671338668558747 │\n",
       "│ Train/LR                      │ 0.0                    │\n",
       "│ Train/PolicyStd               │ 0.9862244129180908     │\n",
       "│ TotalEnvSteps                 │ 40000.0                │\n",
       "│ Loss/Loss_pi                  │ -0.01559836883097887   │\n",
       "│ Loss/Loss_pi/Delta            │ -0.001825493760406971  │\n",
       "│ Value/Adv                     │ 3.051757735406113e-09  │\n",
       "│ Loss/Loss_reward_critic       │ 0.0039384858682751656  │\n",
       "│ Loss/Loss_reward_critic/Delta │ -0.0016761114820837975 │\n",
       "│ Value/reward                  │ 0.007775569334626198   │\n",
       "│ Time/Total                    │ 94.02232360839844      │\n",
       "│ Time/Rollout                  │ 37.53558349609375      │\n",
       "│ Time/Update                   │ 8.517351150512695      │\n",
       "│ Time/Epoch                    │ 46.05293655395508      │\n",
       "│ Time/FPS                      │ 434.2828369140625      │\n",
       "│ Misc/Alpha                    │ 0.8587619066238403     │\n",
       "│ Misc/FinalStepNorm            │ 0.24295927584171295    │\n",
       "│ Misc/gradient_norm            │ 0.13131140172481537    │\n",
       "│ Misc/xHx                      │ 0.02711966075003147    │\n",
       "│ Misc/H_inv_g                  │ 0.2829180955886841     │\n",
       "│ Misc/AcceptanceStep           │ 1.0                    │\n",
       "└───────────────────────────────┴────────────────────────┘\n"
      ]
     },
     "metadata": {},
     "output_type": "display_data"
    },
    {
     "data": {
      "text/html": [
       "<pre style=\"white-space:pre;overflow-x:auto;line-height:normal;font-family:Menlo,'DejaVu Sans Mono',consolas,'Courier New',monospace\"><span style=\"color: #008000; text-decoration-color: #008000\">Warning: trajectory cut off when rollout by epoch at </span><span style=\"color: #008080; text-decoration-color: #008080; font-weight: bold\">1000.0</span><span style=\"color: #008000; text-decoration-color: #008000\"> steps.</span>\n",
       "</pre>\n"
      ],
      "text/plain": [
       "\u001b[32mWarning: trajectory cut off when rollout by epoch at \u001b[0m\u001b[1;36m1000.0\u001b[0m\u001b[32m steps.\u001b[0m\n"
      ]
     },
     "metadata": {},
     "output_type": "display_data"
    },
    {
     "data": {
      "text/html": [
       "<pre style=\"white-space:pre;overflow-x:auto;line-height:normal;font-family:Menlo,'DejaVu Sans Mono',consolas,'Courier New',monospace\"><span style=\"color: #008000; text-decoration-color: #008000\">Warning: trajectory cut off when rollout by epoch at </span><span style=\"color: #008080; text-decoration-color: #008080; font-weight: bold\">1000.0</span><span style=\"color: #008000; text-decoration-color: #008000\"> steps.</span>\n",
       "</pre>\n"
      ],
      "text/plain": [
       "\u001b[32mWarning: trajectory cut off when rollout by epoch at \u001b[0m\u001b[1;36m1000.0\u001b[0m\u001b[32m steps.\u001b[0m\n"
      ]
     },
     "metadata": {},
     "output_type": "display_data"
    },
    {
     "data": {
      "text/html": [
       "<pre style=\"white-space:pre;overflow-x:auto;line-height:normal;font-family:Menlo,'DejaVu Sans Mono',consolas,'Courier New',monospace\"><span style=\"color: #008000; text-decoration-color: #008000\">Warning: trajectory cut off when rollout by epoch at </span><span style=\"color: #008080; text-decoration-color: #008080; font-weight: bold\">1000.0</span><span style=\"color: #008000; text-decoration-color: #008000\"> steps.</span>\n",
       "</pre>\n"
      ],
      "text/plain": [
       "\u001b[32mWarning: trajectory cut off when rollout by epoch at \u001b[0m\u001b[1;36m1000.0\u001b[0m\u001b[32m steps.\u001b[0m\n"
      ]
     },
     "metadata": {},
     "output_type": "display_data"
    },
    {
     "data": {
      "text/html": [
       "<pre style=\"white-space:pre;overflow-x:auto;line-height:normal;font-family:Menlo,'DejaVu Sans Mono',consolas,'Courier New',monospace\"><span style=\"color: #008000; text-decoration-color: #008000\">Warning: trajectory cut off when rollout by epoch at </span><span style=\"color: #008080; text-decoration-color: #008080; font-weight: bold\">1000.0</span><span style=\"color: #008000; text-decoration-color: #008000\"> steps.</span>\n",
       "</pre>\n"
      ],
      "text/plain": [
       "\u001b[32mWarning: trajectory cut off when rollout by epoch at \u001b[0m\u001b[1;36m1000.0\u001b[0m\u001b[32m steps.\u001b[0m\n"
      ]
     },
     "metadata": {},
     "output_type": "display_data"
    },
    {
     "data": {
      "text/html": [
       "<pre style=\"white-space:pre;overflow-x:auto;line-height:normal;font-family:Menlo,'DejaVu Sans Mono',consolas,'Courier New',monospace\"></pre>\n"
      ],
      "text/plain": []
     },
     "metadata": {},
     "output_type": "display_data"
    },
    {
     "data": {
      "text/html": [
       "<pre style=\"white-space:pre;overflow-x:auto;line-height:normal;font-family:Menlo,'DejaVu Sans Mono',consolas,'Courier New',monospace\">\n",
       "</pre>\n"
      ],
      "text/plain": [
       "\n"
      ]
     },
     "metadata": {},
     "output_type": "display_data"
    },
    {
     "data": {
      "text/html": [
       "<pre style=\"white-space:pre;overflow-x:auto;line-height:normal;font-family:Menlo,'DejaVu Sans Mono',consolas,'Courier New',monospace\"><span style=\"color: #008000; text-decoration-color: #008000\">Expected Improvement: </span><span style=\"color: #008080; text-decoration-color: #008080; font-weight: bold\">0.01949791982769966</span><span style=\"color: #008000; text-decoration-color: #008000\"> Actual: </span><span style=\"color: #008080; text-decoration-color: #008080; font-weight: bold\">0.02240443229675293</span>\n",
       "</pre>\n"
      ],
      "text/plain": [
       "\u001b[32mExpected Improvement: \u001b[0m\u001b[1;36m0.01949791982769966\u001b[0m\u001b[32m Actual: \u001b[0m\u001b[1;36m0.02240443229675293\u001b[0m\n"
      ]
     },
     "metadata": {},
     "output_type": "display_data"
    },
    {
     "data": {
      "text/html": [
       "<pre style=\"white-space:pre;overflow-x:auto;line-height:normal;font-family:Menlo,'DejaVu Sans Mono',consolas,'Courier New',monospace\"><span style=\"color: #008000; text-decoration-color: #008000\">Accept step at </span><span style=\"color: #808000; text-decoration-color: #808000\">i</span><span style=\"color: #008000; text-decoration-color: #008000\">=</span><span style=\"color: #008080; text-decoration-color: #008080; font-weight: bold\">1</span>\n",
       "</pre>\n"
      ],
      "text/plain": [
       "\u001b[32mAccept step at \u001b[0m\u001b[33mi\u001b[0m\u001b[32m=\u001b[0m\u001b[1;36m1\u001b[0m\n"
      ]
     },
     "metadata": {},
     "output_type": "display_data"
    },
    {
     "data": {
      "text/html": [
       "<pre style=\"white-space:pre;overflow-x:auto;line-height:normal;font-family:Menlo,'DejaVu Sans Mono',consolas,'Courier New',monospace\">┏━━━━━━━━━━━━━━━━━━━━━━━━━━━━━━━┳━━━━━━━━━━━━━━━━━━━━━━━━┓\n",
       "┃<span style=\"font-weight: bold\"> Metrics                       </span>┃<span style=\"font-weight: bold\"> Value                  </span>┃\n",
       "┡━━━━━━━━━━━━━━━━━━━━━━━━━━━━━━━╇━━━━━━━━━━━━━━━━━━━━━━━━┩\n",
       "│ Metrics/EpRet                 │ 1.1483163833618164     │\n",
       "│ Metrics/EpCost                │ 102.66000366210938     │\n",
       "│ Metrics/EpLen                 │ 1000.0                 │\n",
       "│ Train/Epoch                   │ 2.0                    │\n",
       "│ Train/Entropy                 │ 1.4040008783340454     │\n",
       "│ Train/KL                      │ 0.0004244667652528733  │\n",
       "│ Train/StopIter                │ 10.0                   │\n",
       "│ Train/PolicyRatio/Mean        │ 1.0002599954605103     │\n",
       "│ Train/PolicyRatio/Min         │ 1.0002601146697998     │\n",
       "│ Train/PolicyRatio/Max         │ 1.0002601146697998     │\n",
       "│ Train/PolicyRatio/Std         │ 0.00018392888887319714 │\n",
       "│ Train/LR                      │ 0.0                    │\n",
       "│ Train/PolicyStd               │ 0.9851897358894348     │\n",
       "│ TotalEnvSteps                 │ 60000.0                │\n",
       "│ Loss/Loss_pi                  │ -0.014936293475329876  │\n",
       "│ Loss/Loss_pi/Delta            │ 0.0006620753556489944  │\n",
       "│ Value/Adv                     │ 7.629394005448376e-09  │\n",
       "│ Loss/Loss_reward_critic       │ 0.007999910973012447   │\n",
       "│ Loss/Loss_reward_critic/Delta │ 0.004061425104737282   │\n",
       "│ Value/reward                  │ 0.03946874290704727    │\n",
       "│ Time/Total                    │ 143.17886352539062     │\n",
       "│ Time/Rollout                  │ 41.24666213989258      │\n",
       "│ Time/Update                   │ 7.885337829589844      │\n",
       "│ Time/Epoch                    │ 49.13199996948242      │\n",
       "│ Time/FPS                      │ 407.0666809082031      │\n",
       "│ Misc/Alpha                    │ 1.0270298719406128     │\n",
       "│ Misc/FinalStepNorm            │ 0.24991938471794128    │\n",
       "│ Misc/gradient_norm            │ 0.09790060669183731    │\n",
       "│ Misc/xHx                      │ 0.01896110363304615    │\n",
       "│ Misc/H_inv_g                  │ 0.24334189295768738    │\n",
       "│ Misc/AcceptanceStep           │ 1.0                    │\n",
       "└───────────────────────────────┴────────────────────────┘\n",
       "</pre>\n"
      ],
      "text/plain": [
       "┏━━━━━━━━━━━━━━━━━━━━━━━━━━━━━━━┳━━━━━━━━━━━━━━━━━━━━━━━━┓\n",
       "┃\u001b[1m \u001b[0m\u001b[1mMetrics                      \u001b[0m\u001b[1m \u001b[0m┃\u001b[1m \u001b[0m\u001b[1mValue                 \u001b[0m\u001b[1m \u001b[0m┃\n",
       "┡━━━━━━━━━━━━━━━━━━━━━━━━━━━━━━━╇━━━━━━━━━━━━━━━━━━━━━━━━┩\n",
       "│ Metrics/EpRet                 │ 1.1483163833618164     │\n",
       "│ Metrics/EpCost                │ 102.66000366210938     │\n",
       "│ Metrics/EpLen                 │ 1000.0                 │\n",
       "│ Train/Epoch                   │ 2.0                    │\n",
       "│ Train/Entropy                 │ 1.4040008783340454     │\n",
       "│ Train/KL                      │ 0.0004244667652528733  │\n",
       "│ Train/StopIter                │ 10.0                   │\n",
       "│ Train/PolicyRatio/Mean        │ 1.0002599954605103     │\n",
       "│ Train/PolicyRatio/Min         │ 1.0002601146697998     │\n",
       "│ Train/PolicyRatio/Max         │ 1.0002601146697998     │\n",
       "│ Train/PolicyRatio/Std         │ 0.00018392888887319714 │\n",
       "│ Train/LR                      │ 0.0                    │\n",
       "│ Train/PolicyStd               │ 0.9851897358894348     │\n",
       "│ TotalEnvSteps                 │ 60000.0                │\n",
       "│ Loss/Loss_pi                  │ -0.014936293475329876  │\n",
       "│ Loss/Loss_pi/Delta            │ 0.0006620753556489944  │\n",
       "│ Value/Adv                     │ 7.629394005448376e-09  │\n",
       "│ Loss/Loss_reward_critic       │ 0.007999910973012447   │\n",
       "│ Loss/Loss_reward_critic/Delta │ 0.004061425104737282   │\n",
       "│ Value/reward                  │ 0.03946874290704727    │\n",
       "│ Time/Total                    │ 143.17886352539062     │\n",
       "│ Time/Rollout                  │ 41.24666213989258      │\n",
       "│ Time/Update                   │ 7.885337829589844      │\n",
       "│ Time/Epoch                    │ 49.13199996948242      │\n",
       "│ Time/FPS                      │ 407.0666809082031      │\n",
       "│ Misc/Alpha                    │ 1.0270298719406128     │\n",
       "│ Misc/FinalStepNorm            │ 0.24991938471794128    │\n",
       "│ Misc/gradient_norm            │ 0.09790060669183731    │\n",
       "│ Misc/xHx                      │ 0.01896110363304615    │\n",
       "│ Misc/H_inv_g                  │ 0.24334189295768738    │\n",
       "│ Misc/AcceptanceStep           │ 1.0                    │\n",
       "└───────────────────────────────┴────────────────────────┘\n"
      ]
     },
     "metadata": {},
     "output_type": "display_data"
    },
    {
     "data": {
      "text/html": [
       "<pre style=\"white-space:pre;overflow-x:auto;line-height:normal;font-family:Menlo,'DejaVu Sans Mono',consolas,'Courier New',monospace\"><span style=\"color: #008000; text-decoration-color: #008000\">Warning: trajectory cut off when rollout by epoch at </span><span style=\"color: #008080; text-decoration-color: #008080; font-weight: bold\">1000.0</span><span style=\"color: #008000; text-decoration-color: #008000\"> steps.</span>\n",
       "</pre>\n"
      ],
      "text/plain": [
       "\u001b[32mWarning: trajectory cut off when rollout by epoch at \u001b[0m\u001b[1;36m1000.0\u001b[0m\u001b[32m steps.\u001b[0m\n"
      ]
     },
     "metadata": {},
     "output_type": "display_data"
    },
    {
     "data": {
      "text/html": [
       "<pre style=\"white-space:pre;overflow-x:auto;line-height:normal;font-family:Menlo,'DejaVu Sans Mono',consolas,'Courier New',monospace\"><span style=\"color: #008000; text-decoration-color: #008000\">Warning: trajectory cut off when rollout by epoch at </span><span style=\"color: #008080; text-decoration-color: #008080; font-weight: bold\">1000.0</span><span style=\"color: #008000; text-decoration-color: #008000\"> steps.</span>\n",
       "</pre>\n"
      ],
      "text/plain": [
       "\u001b[32mWarning: trajectory cut off when rollout by epoch at \u001b[0m\u001b[1;36m1000.0\u001b[0m\u001b[32m steps.\u001b[0m\n"
      ]
     },
     "metadata": {},
     "output_type": "display_data"
    },
    {
     "data": {
      "text/html": [
       "<pre style=\"white-space:pre;overflow-x:auto;line-height:normal;font-family:Menlo,'DejaVu Sans Mono',consolas,'Courier New',monospace\"><span style=\"color: #008000; text-decoration-color: #008000\">Warning: trajectory cut off when rollout by epoch at </span><span style=\"color: #008080; text-decoration-color: #008080; font-weight: bold\">1000.0</span><span style=\"color: #008000; text-decoration-color: #008000\"> steps.</span>\n",
       "</pre>\n"
      ],
      "text/plain": [
       "\u001b[32mWarning: trajectory cut off when rollout by epoch at \u001b[0m\u001b[1;36m1000.0\u001b[0m\u001b[32m steps.\u001b[0m\n"
      ]
     },
     "metadata": {},
     "output_type": "display_data"
    },
    {
     "data": {
      "text/html": [
       "<pre style=\"white-space:pre;overflow-x:auto;line-height:normal;font-family:Menlo,'DejaVu Sans Mono',consolas,'Courier New',monospace\"><span style=\"color: #008000; text-decoration-color: #008000\">Warning: trajectory cut off when rollout by epoch at </span><span style=\"color: #008080; text-decoration-color: #008080; font-weight: bold\">1000.0</span><span style=\"color: #008000; text-decoration-color: #008000\"> steps.</span>\n",
       "</pre>\n"
      ],
      "text/plain": [
       "\u001b[32mWarning: trajectory cut off when rollout by epoch at \u001b[0m\u001b[1;36m1000.0\u001b[0m\u001b[32m steps.\u001b[0m\n"
      ]
     },
     "metadata": {},
     "output_type": "display_data"
    },
    {
     "data": {
      "text/html": [
       "<pre style=\"white-space:pre;overflow-x:auto;line-height:normal;font-family:Menlo,'DejaVu Sans Mono',consolas,'Courier New',monospace\"></pre>\n"
      ],
      "text/plain": []
     },
     "metadata": {},
     "output_type": "display_data"
    },
    {
     "data": {
      "text/html": [
       "<pre style=\"white-space:pre;overflow-x:auto;line-height:normal;font-family:Menlo,'DejaVu Sans Mono',consolas,'Courier New',monospace\">\n",
       "</pre>\n"
      ],
      "text/plain": [
       "\n"
      ]
     },
     "metadata": {},
     "output_type": "display_data"
    },
    {
     "data": {
      "text/html": [
       "<pre style=\"white-space:pre;overflow-x:auto;line-height:normal;font-family:Menlo,'DejaVu Sans Mono',consolas,'Courier New',monospace\"><span style=\"color: #008000; text-decoration-color: #008000\">Expected Improvement: </span><span style=\"color: #008080; text-decoration-color: #008080; font-weight: bold\">0.018781274557113647</span><span style=\"color: #008000; text-decoration-color: #008000\"> Actual: </span><span style=\"color: #008080; text-decoration-color: #008080; font-weight: bold\">0.020036885514855385</span>\n",
       "</pre>\n"
      ],
      "text/plain": [
       "\u001b[32mExpected Improvement: \u001b[0m\u001b[1;36m0.018781274557113647\u001b[0m\u001b[32m Actual: \u001b[0m\u001b[1;36m0.020036885514855385\u001b[0m\n"
      ]
     },
     "metadata": {},
     "output_type": "display_data"
    },
    {
     "data": {
      "text/html": [
       "<pre style=\"white-space:pre;overflow-x:auto;line-height:normal;font-family:Menlo,'DejaVu Sans Mono',consolas,'Courier New',monospace\"><span style=\"color: #008000; text-decoration-color: #008000\">Accept step at </span><span style=\"color: #808000; text-decoration-color: #808000\">i</span><span style=\"color: #008000; text-decoration-color: #008000\">=</span><span style=\"color: #008080; text-decoration-color: #008080; font-weight: bold\">1</span>\n",
       "</pre>\n"
      ],
      "text/plain": [
       "\u001b[32mAccept step at \u001b[0m\u001b[33mi\u001b[0m\u001b[32m=\u001b[0m\u001b[1;36m1\u001b[0m\n"
      ]
     },
     "metadata": {},
     "output_type": "display_data"
    },
    {
     "data": {
      "text/html": [
       "<pre style=\"white-space:pre;overflow-x:auto;line-height:normal;font-family:Menlo,'DejaVu Sans Mono',consolas,'Courier New',monospace\">┏━━━━━━━━━━━━━━━━━━━━━━━━━━━━━━━┳━━━━━━━━━━━━━━━━━━━━━━━━┓\n",
       "┃<span style=\"font-weight: bold\"> Metrics                       </span>┃<span style=\"font-weight: bold\"> Value                  </span>┃\n",
       "┡━━━━━━━━━━━━━━━━━━━━━━━━━━━━━━━╇━━━━━━━━━━━━━━━━━━━━━━━━┩\n",
       "│ Metrics/EpRet                 │ 2.654716730117798      │\n",
       "│ Metrics/EpCost                │ 99.22000122070312      │\n",
       "│ Metrics/EpLen                 │ 1000.0                 │\n",
       "│ Train/Epoch                   │ 3.0                    │\n",
       "│ Train/Entropy                 │ 1.3972028493881226     │\n",
       "│ Train/KL                      │ 0.00044131383765488863 │\n",
       "│ Train/StopIter                │ 10.0                   │\n",
       "│ Train/PolicyRatio/Mean        │ 0.9997665286064148     │\n",
       "│ Train/PolicyRatio/Min         │ 0.9997665286064148     │\n",
       "│ Train/PolicyRatio/Max         │ 0.9997665286064148     │\n",
       "│ Train/PolicyRatio/Std         │ 0.00016510325076524168 │\n",
       "│ Train/LR                      │ 0.0                    │\n",
       "│ Train/PolicyStd               │ 0.9785836338996887     │\n",
       "│ TotalEnvSteps                 │ 80000.0                │\n",
       "│ Loss/Loss_pi                  │ -0.013357922434806824  │\n",
       "│ Loss/Loss_pi/Delta            │ 0.0015783710405230522  │\n",
       "│ Value/Adv                     │ -3.051757735406113e-09 │\n",
       "│ Loss/Loss_reward_critic       │ 0.009094097651541233   │\n",
       "│ Loss/Loss_reward_critic/Delta │ 0.0010941866785287857  │\n",
       "│ Value/reward                  │ 0.09276454150676727    │\n",
       "│ Time/Total                    │ 193.5540313720703      │\n",
       "│ Time/Rollout                  │ 42.00790023803711      │\n",
       "│ Time/Update                   │ 8.339274406433105      │\n",
       "│ Time/Epoch                    │ 50.34717559814453      │\n",
       "│ Time/FPS                      │ 397.2417297363281      │\n",
       "│ Misc/Alpha                    │ 1.0663714408874512     │\n",
       "│ Misc/FinalStepNorm            │ 0.24759022891521454    │\n",
       "│ Misc/gradient_norm            │ 0.09265939891338348    │\n",
       "│ Misc/xHx                      │ 0.017587848007678986   │\n",
       "│ Misc/H_inv_g                  │ 0.23218008875846863    │\n",
       "│ Misc/AcceptanceStep           │ 1.0                    │\n",
       "└───────────────────────────────┴────────────────────────┘\n",
       "</pre>\n"
      ],
      "text/plain": [
       "┏━━━━━━━━━━━━━━━━━━━━━━━━━━━━━━━┳━━━━━━━━━━━━━━━━━━━━━━━━┓\n",
       "┃\u001b[1m \u001b[0m\u001b[1mMetrics                      \u001b[0m\u001b[1m \u001b[0m┃\u001b[1m \u001b[0m\u001b[1mValue                 \u001b[0m\u001b[1m \u001b[0m┃\n",
       "┡━━━━━━━━━━━━━━━━━━━━━━━━━━━━━━━╇━━━━━━━━━━━━━━━━━━━━━━━━┩\n",
       "│ Metrics/EpRet                 │ 2.654716730117798      │\n",
       "│ Metrics/EpCost                │ 99.22000122070312      │\n",
       "│ Metrics/EpLen                 │ 1000.0                 │\n",
       "│ Train/Epoch                   │ 3.0                    │\n",
       "│ Train/Entropy                 │ 1.3972028493881226     │\n",
       "│ Train/KL                      │ 0.00044131383765488863 │\n",
       "│ Train/StopIter                │ 10.0                   │\n",
       "│ Train/PolicyRatio/Mean        │ 0.9997665286064148     │\n",
       "│ Train/PolicyRatio/Min         │ 0.9997665286064148     │\n",
       "│ Train/PolicyRatio/Max         │ 0.9997665286064148     │\n",
       "│ Train/PolicyRatio/Std         │ 0.00016510325076524168 │\n",
       "│ Train/LR                      │ 0.0                    │\n",
       "│ Train/PolicyStd               │ 0.9785836338996887     │\n",
       "│ TotalEnvSteps                 │ 80000.0                │\n",
       "│ Loss/Loss_pi                  │ -0.013357922434806824  │\n",
       "│ Loss/Loss_pi/Delta            │ 0.0015783710405230522  │\n",
       "│ Value/Adv                     │ -3.051757735406113e-09 │\n",
       "│ Loss/Loss_reward_critic       │ 0.009094097651541233   │\n",
       "│ Loss/Loss_reward_critic/Delta │ 0.0010941866785287857  │\n",
       "│ Value/reward                  │ 0.09276454150676727    │\n",
       "│ Time/Total                    │ 193.5540313720703      │\n",
       "│ Time/Rollout                  │ 42.00790023803711      │\n",
       "│ Time/Update                   │ 8.339274406433105      │\n",
       "│ Time/Epoch                    │ 50.34717559814453      │\n",
       "│ Time/FPS                      │ 397.2417297363281      │\n",
       "│ Misc/Alpha                    │ 1.0663714408874512     │\n",
       "│ Misc/FinalStepNorm            │ 0.24759022891521454    │\n",
       "│ Misc/gradient_norm            │ 0.09265939891338348    │\n",
       "│ Misc/xHx                      │ 0.017587848007678986   │\n",
       "│ Misc/H_inv_g                  │ 0.23218008875846863    │\n",
       "│ Misc/AcceptanceStep           │ 1.0                    │\n",
       "└───────────────────────────────┴────────────────────────┘\n"
      ]
     },
     "metadata": {},
     "output_type": "display_data"
    },
    {
     "data": {
      "text/html": [
       "<pre style=\"white-space:pre;overflow-x:auto;line-height:normal;font-family:Menlo,'DejaVu Sans Mono',consolas,'Courier New',monospace\"><span style=\"color: #008000; text-decoration-color: #008000\">Warning: trajectory cut off when rollout by epoch at </span><span style=\"color: #008080; text-decoration-color: #008080; font-weight: bold\">1000.0</span><span style=\"color: #008000; text-decoration-color: #008000\"> steps.</span>\n",
       "</pre>\n"
      ],
      "text/plain": [
       "\u001b[32mWarning: trajectory cut off when rollout by epoch at \u001b[0m\u001b[1;36m1000.0\u001b[0m\u001b[32m steps.\u001b[0m\n"
      ]
     },
     "metadata": {},
     "output_type": "display_data"
    },
    {
     "data": {
      "text/html": [
       "<pre style=\"white-space:pre;overflow-x:auto;line-height:normal;font-family:Menlo,'DejaVu Sans Mono',consolas,'Courier New',monospace\"><span style=\"color: #008000; text-decoration-color: #008000\">Warning: trajectory cut off when rollout by epoch at </span><span style=\"color: #008080; text-decoration-color: #008080; font-weight: bold\">1000.0</span><span style=\"color: #008000; text-decoration-color: #008000\"> steps.</span>\n",
       "</pre>\n"
      ],
      "text/plain": [
       "\u001b[32mWarning: trajectory cut off when rollout by epoch at \u001b[0m\u001b[1;36m1000.0\u001b[0m\u001b[32m steps.\u001b[0m\n"
      ]
     },
     "metadata": {},
     "output_type": "display_data"
    },
    {
     "data": {
      "text/html": [
       "<pre style=\"white-space:pre;overflow-x:auto;line-height:normal;font-family:Menlo,'DejaVu Sans Mono',consolas,'Courier New',monospace\"><span style=\"color: #008000; text-decoration-color: #008000\">Warning: trajectory cut off when rollout by epoch at </span><span style=\"color: #008080; text-decoration-color: #008080; font-weight: bold\">1000.0</span><span style=\"color: #008000; text-decoration-color: #008000\"> steps.</span>\n",
       "</pre>\n"
      ],
      "text/plain": [
       "\u001b[32mWarning: trajectory cut off when rollout by epoch at \u001b[0m\u001b[1;36m1000.0\u001b[0m\u001b[32m steps.\u001b[0m\n"
      ]
     },
     "metadata": {},
     "output_type": "display_data"
    },
    {
     "data": {
      "text/html": [
       "<pre style=\"white-space:pre;overflow-x:auto;line-height:normal;font-family:Menlo,'DejaVu Sans Mono',consolas,'Courier New',monospace\"><span style=\"color: #008000; text-decoration-color: #008000\">Warning: trajectory cut off when rollout by epoch at </span><span style=\"color: #008080; text-decoration-color: #008080; font-weight: bold\">1000.0</span><span style=\"color: #008000; text-decoration-color: #008000\"> steps.</span>\n",
       "</pre>\n"
      ],
      "text/plain": [
       "\u001b[32mWarning: trajectory cut off when rollout by epoch at \u001b[0m\u001b[1;36m1000.0\u001b[0m\u001b[32m steps.\u001b[0m\n"
      ]
     },
     "metadata": {},
     "output_type": "display_data"
    },
    {
     "data": {
      "text/html": [
       "<pre style=\"white-space:pre;overflow-x:auto;line-height:normal;font-family:Menlo,'DejaVu Sans Mono',consolas,'Courier New',monospace\"></pre>\n"
      ],
      "text/plain": []
     },
     "metadata": {},
     "output_type": "display_data"
    },
    {
     "data": {
      "text/html": [
       "<pre style=\"white-space:pre;overflow-x:auto;line-height:normal;font-family:Menlo,'DejaVu Sans Mono',consolas,'Courier New',monospace\">\n",
       "</pre>\n"
      ],
      "text/plain": [
       "\n"
      ]
     },
     "metadata": {},
     "output_type": "display_data"
    },
    {
     "data": {
      "text/html": [
       "<pre style=\"white-space:pre;overflow-x:auto;line-height:normal;font-family:Menlo,'DejaVu Sans Mono',consolas,'Courier New',monospace\"><span style=\"color: #008000; text-decoration-color: #008000\">Expected Improvement: </span><span style=\"color: #008080; text-decoration-color: #008080; font-weight: bold\">0.017786122858524323</span><span style=\"color: #008000; text-decoration-color: #008000\"> Actual: </span><span style=\"color: #008080; text-decoration-color: #008080; font-weight: bold\">0.018405066803097725</span>\n",
       "</pre>\n"
      ],
      "text/plain": [
       "\u001b[32mExpected Improvement: \u001b[0m\u001b[1;36m0.017786122858524323\u001b[0m\u001b[32m Actual: \u001b[0m\u001b[1;36m0.018405066803097725\u001b[0m\n"
      ]
     },
     "metadata": {},
     "output_type": "display_data"
    },
    {
     "data": {
      "text/html": [
       "<pre style=\"white-space:pre;overflow-x:auto;line-height:normal;font-family:Menlo,'DejaVu Sans Mono',consolas,'Courier New',monospace\"><span style=\"color: #008000; text-decoration-color: #008000\">Accept step at </span><span style=\"color: #808000; text-decoration-color: #808000\">i</span><span style=\"color: #008000; text-decoration-color: #008000\">=</span><span style=\"color: #008080; text-decoration-color: #008080; font-weight: bold\">1</span>\n",
       "</pre>\n"
      ],
      "text/plain": [
       "\u001b[32mAccept step at \u001b[0m\u001b[33mi\u001b[0m\u001b[32m=\u001b[0m\u001b[1;36m1\u001b[0m\n"
      ]
     },
     "metadata": {},
     "output_type": "display_data"
    },
    {
     "data": {
      "text/html": [
       "<pre style=\"white-space:pre;overflow-x:auto;line-height:normal;font-family:Menlo,'DejaVu Sans Mono',consolas,'Courier New',monospace\">┏━━━━━━━━━━━━━━━━━━━━━━━━━━━━━━━┳━━━━━━━━━━━━━━━━━━━━━━━━┓\n",
       "┃<span style=\"font-weight: bold\"> Metrics                       </span>┃<span style=\"font-weight: bold\"> Value                  </span>┃\n",
       "┡━━━━━━━━━━━━━━━━━━━━━━━━━━━━━━━╇━━━━━━━━━━━━━━━━━━━━━━━━┩\n",
       "│ Metrics/EpRet                 │ 4.5273332595825195     │\n",
       "│ Metrics/EpCost                │ 91.5999984741211       │\n",
       "│ Metrics/EpLen                 │ 1000.0                 │\n",
       "│ Train/Epoch                   │ 4.0                    │\n",
       "│ Train/Entropy                 │ 1.3872489929199219     │\n",
       "│ Train/KL                      │ 0.0004478661867324263  │\n",
       "│ Train/StopIter                │ 10.0                   │\n",
       "│ Train/PolicyRatio/Mean        │ 1.0009711980819702     │\n",
       "│ Train/PolicyRatio/Min         │ 1.0009711980819702     │\n",
       "│ Train/PolicyRatio/Max         │ 1.0009711980819702     │\n",
       "│ Train/PolicyRatio/Std         │ 0.0006867688498459756  │\n",
       "│ Train/LR                      │ 0.0                    │\n",
       "│ Train/PolicyStd               │ 0.9689245223999023     │\n",
       "│ TotalEnvSteps                 │ 100000.0               │\n",
       "│ Loss/Loss_pi                  │ -0.012270045466721058  │\n",
       "│ Loss/Loss_pi/Delta            │ 0.0010878769680857658  │\n",
       "│ Value/Adv                     │ 1.1444091230217168e-09 │\n",
       "│ Loss/Loss_reward_critic       │ 0.013760644011199474   │\n",
       "│ Loss/Loss_reward_critic/Delta │ 0.004666546359658241   │\n",
       "│ Value/reward                  │ 0.17291414737701416    │\n",
       "│ Time/Total                    │ 247.01161193847656     │\n",
       "│ Time/Rollout                  │ 45.5484619140625       │\n",
       "│ Time/Update                   │ 7.872102737426758      │\n",
       "│ Time/Epoch                    │ 53.420562744140625     │\n",
       "│ Time/FPS                      │ 374.3876647949219      │\n",
       "│ Misc/Alpha                    │ 1.1262215375900269     │\n",
       "│ Misc/FinalStepNorm            │ 0.23798877000808716    │\n",
       "│ Misc/gradient_norm            │ 0.10193535685539246    │\n",
       "│ Misc/xHx                      │ 0.015768198296427727   │\n",
       "│ Misc/H_inv_g                  │ 0.21131612360477448    │\n",
       "│ Misc/AcceptanceStep           │ 1.0                    │\n",
       "└───────────────────────────────┴────────────────────────┘\n",
       "</pre>\n"
      ],
      "text/plain": [
       "┏━━━━━━━━━━━━━━━━━━━━━━━━━━━━━━━┳━━━━━━━━━━━━━━━━━━━━━━━━┓\n",
       "┃\u001b[1m \u001b[0m\u001b[1mMetrics                      \u001b[0m\u001b[1m \u001b[0m┃\u001b[1m \u001b[0m\u001b[1mValue                 \u001b[0m\u001b[1m \u001b[0m┃\n",
       "┡━━━━━━━━━━━━━━━━━━━━━━━━━━━━━━━╇━━━━━━━━━━━━━━━━━━━━━━━━┩\n",
       "│ Metrics/EpRet                 │ 4.5273332595825195     │\n",
       "│ Metrics/EpCost                │ 91.5999984741211       │\n",
       "│ Metrics/EpLen                 │ 1000.0                 │\n",
       "│ Train/Epoch                   │ 4.0                    │\n",
       "│ Train/Entropy                 │ 1.3872489929199219     │\n",
       "│ Train/KL                      │ 0.0004478661867324263  │\n",
       "│ Train/StopIter                │ 10.0                   │\n",
       "│ Train/PolicyRatio/Mean        │ 1.0009711980819702     │\n",
       "│ Train/PolicyRatio/Min         │ 1.0009711980819702     │\n",
       "│ Train/PolicyRatio/Max         │ 1.0009711980819702     │\n",
       "│ Train/PolicyRatio/Std         │ 0.0006867688498459756  │\n",
       "│ Train/LR                      │ 0.0                    │\n",
       "│ Train/PolicyStd               │ 0.9689245223999023     │\n",
       "│ TotalEnvSteps                 │ 100000.0               │\n",
       "│ Loss/Loss_pi                  │ -0.012270045466721058  │\n",
       "│ Loss/Loss_pi/Delta            │ 0.0010878769680857658  │\n",
       "│ Value/Adv                     │ 1.1444091230217168e-09 │\n",
       "│ Loss/Loss_reward_critic       │ 0.013760644011199474   │\n",
       "│ Loss/Loss_reward_critic/Delta │ 0.004666546359658241   │\n",
       "│ Value/reward                  │ 0.17291414737701416    │\n",
       "│ Time/Total                    │ 247.01161193847656     │\n",
       "│ Time/Rollout                  │ 45.5484619140625       │\n",
       "│ Time/Update                   │ 7.872102737426758      │\n",
       "│ Time/Epoch                    │ 53.420562744140625     │\n",
       "│ Time/FPS                      │ 374.3876647949219      │\n",
       "│ Misc/Alpha                    │ 1.1262215375900269     │\n",
       "│ Misc/FinalStepNorm            │ 0.23798877000808716    │\n",
       "│ Misc/gradient_norm            │ 0.10193535685539246    │\n",
       "│ Misc/xHx                      │ 0.015768198296427727   │\n",
       "│ Misc/H_inv_g                  │ 0.21131612360477448    │\n",
       "│ Misc/AcceptanceStep           │ 1.0                    │\n",
       "└───────────────────────────────┴────────────────────────┘\n"
      ]
     },
     "metadata": {},
     "output_type": "display_data"
    },
    {
     "data": {
      "text/html": [
       "<pre style=\"white-space:pre;overflow-x:auto;line-height:normal;font-family:Menlo,'DejaVu Sans Mono',consolas,'Courier New',monospace\"><span style=\"color: #008000; text-decoration-color: #008000\">Warning: trajectory cut off when rollout by epoch at </span><span style=\"color: #008080; text-decoration-color: #008080; font-weight: bold\">1000.0</span><span style=\"color: #008000; text-decoration-color: #008000\"> steps.</span>\n",
       "</pre>\n"
      ],
      "text/plain": [
       "\u001b[32mWarning: trajectory cut off when rollout by epoch at \u001b[0m\u001b[1;36m1000.0\u001b[0m\u001b[32m steps.\u001b[0m\n"
      ]
     },
     "metadata": {},
     "output_type": "display_data"
    },
    {
     "data": {
      "text/html": [
       "<pre style=\"white-space:pre;overflow-x:auto;line-height:normal;font-family:Menlo,'DejaVu Sans Mono',consolas,'Courier New',monospace\"><span style=\"color: #008000; text-decoration-color: #008000\">Warning: trajectory cut off when rollout by epoch at </span><span style=\"color: #008080; text-decoration-color: #008080; font-weight: bold\">1000.0</span><span style=\"color: #008000; text-decoration-color: #008000\"> steps.</span>\n",
       "</pre>\n"
      ],
      "text/plain": [
       "\u001b[32mWarning: trajectory cut off when rollout by epoch at \u001b[0m\u001b[1;36m1000.0\u001b[0m\u001b[32m steps.\u001b[0m\n"
      ]
     },
     "metadata": {},
     "output_type": "display_data"
    },
    {
     "data": {
      "text/html": [
       "<pre style=\"white-space:pre;overflow-x:auto;line-height:normal;font-family:Menlo,'DejaVu Sans Mono',consolas,'Courier New',monospace\"><span style=\"color: #008000; text-decoration-color: #008000\">Warning: trajectory cut off when rollout by epoch at </span><span style=\"color: #008080; text-decoration-color: #008080; font-weight: bold\">1000.0</span><span style=\"color: #008000; text-decoration-color: #008000\"> steps.</span>\n",
       "</pre>\n"
      ],
      "text/plain": [
       "\u001b[32mWarning: trajectory cut off when rollout by epoch at \u001b[0m\u001b[1;36m1000.0\u001b[0m\u001b[32m steps.\u001b[0m\n"
      ]
     },
     "metadata": {},
     "output_type": "display_data"
    },
    {
     "data": {
      "text/html": [
       "<pre style=\"white-space:pre;overflow-x:auto;line-height:normal;font-family:Menlo,'DejaVu Sans Mono',consolas,'Courier New',monospace\"><span style=\"color: #008000; text-decoration-color: #008000\">Warning: trajectory cut off when rollout by epoch at </span><span style=\"color: #008080; text-decoration-color: #008080; font-weight: bold\">1000.0</span><span style=\"color: #008000; text-decoration-color: #008000\"> steps.</span>\n",
       "</pre>\n"
      ],
      "text/plain": [
       "\u001b[32mWarning: trajectory cut off when rollout by epoch at \u001b[0m\u001b[1;36m1000.0\u001b[0m\u001b[32m steps.\u001b[0m\n"
      ]
     },
     "metadata": {},
     "output_type": "display_data"
    },
    {
     "data": {
      "text/html": [
       "<pre style=\"white-space:pre;overflow-x:auto;line-height:normal;font-family:Menlo,'DejaVu Sans Mono',consolas,'Courier New',monospace\"></pre>\n"
      ],
      "text/plain": []
     },
     "metadata": {},
     "output_type": "display_data"
    },
    {
     "data": {
      "text/html": [
       "<pre style=\"white-space:pre;overflow-x:auto;line-height:normal;font-family:Menlo,'DejaVu Sans Mono',consolas,'Courier New',monospace\">\n",
       "</pre>\n"
      ],
      "text/plain": [
       "\n"
      ]
     },
     "metadata": {},
     "output_type": "display_data"
    },
    {
     "data": {
      "text/html": [
       "<pre style=\"white-space:pre;overflow-x:auto;line-height:normal;font-family:Menlo,'DejaVu Sans Mono',consolas,'Courier New',monospace\"><span style=\"color: #008000; text-decoration-color: #008000\">Expected Improvement: </span><span style=\"color: #008080; text-decoration-color: #008080; font-weight: bold\">0.02010798081755638</span><span style=\"color: #008000; text-decoration-color: #008000\"> Actual: </span><span style=\"color: #008080; text-decoration-color: #008080; font-weight: bold\">0.02128170244395733</span>\n",
       "</pre>\n"
      ],
      "text/plain": [
       "\u001b[32mExpected Improvement: \u001b[0m\u001b[1;36m0.02010798081755638\u001b[0m\u001b[32m Actual: \u001b[0m\u001b[1;36m0.02128170244395733\u001b[0m\n"
      ]
     },
     "metadata": {},
     "output_type": "display_data"
    },
    {
     "data": {
      "text/html": [
       "<pre style=\"white-space:pre;overflow-x:auto;line-height:normal;font-family:Menlo,'DejaVu Sans Mono',consolas,'Courier New',monospace\"><span style=\"color: #008000; text-decoration-color: #008000\">Accept step at </span><span style=\"color: #808000; text-decoration-color: #808000\">i</span><span style=\"color: #008000; text-decoration-color: #008000\">=</span><span style=\"color: #008080; text-decoration-color: #008080; font-weight: bold\">1</span>\n",
       "</pre>\n"
      ],
      "text/plain": [
       "\u001b[32mAccept step at \u001b[0m\u001b[33mi\u001b[0m\u001b[32m=\u001b[0m\u001b[1;36m1\u001b[0m\n"
      ]
     },
     "metadata": {},
     "output_type": "display_data"
    },
    {
     "data": {
      "text/html": [
       "<pre style=\"white-space:pre;overflow-x:auto;line-height:normal;font-family:Menlo,'DejaVu Sans Mono',consolas,'Courier New',monospace\">┏━━━━━━━━━━━━━━━━━━━━━━━━━━━━━━━┳━━━━━━━━━━━━━━━━━━━━━━━━┓\n",
       "┃<span style=\"font-weight: bold\"> Metrics                       </span>┃<span style=\"font-weight: bold\"> Value                  </span>┃\n",
       "┡━━━━━━━━━━━━━━━━━━━━━━━━━━━━━━━╇━━━━━━━━━━━━━━━━━━━━━━━━┩\n",
       "│ Metrics/EpRet                 │ 6.752406597137451      │\n",
       "│ Metrics/EpCost                │ 80.91999816894531      │\n",
       "│ Metrics/EpLen                 │ 1000.0                 │\n",
       "│ Train/Epoch                   │ 5.0                    │\n",
       "│ Train/Entropy                 │ 1.379452109336853      │\n",
       "│ Train/KL                      │ 0.0004500800569076091  │\n",
       "│ Train/StopIter                │ 10.0                   │\n",
       "│ Train/PolicyRatio/Mean        │ 1.0003280639648438     │\n",
       "│ Train/PolicyRatio/Min         │ 1.0003280639648438     │\n",
       "│ Train/PolicyRatio/Max         │ 1.0003280639648438     │\n",
       "│ Train/PolicyRatio/Std         │ 0.0002319200721103698  │\n",
       "│ Train/LR                      │ 0.0                    │\n",
       "│ Train/PolicyStd               │ 0.9617709517478943     │\n",
       "│ TotalEnvSteps                 │ 120000.0               │\n",
       "│ Loss/Loss_pi                  │ -0.01418787520378828   │\n",
       "│ Loss/Loss_pi/Delta            │ -0.0019178297370672226 │\n",
       "│ Value/Adv                     │ 7.171630755919978e-08  │\n",
       "│ Loss/Loss_reward_critic       │ 0.012866786681115627   │\n",
       "│ Loss/Loss_reward_critic/Delta │ -0.000893857330083847  │\n",
       "│ Value/reward                  │ 0.2764071226119995     │\n",
       "│ Time/Total                    │ 303.28936767578125     │\n",
       "│ Time/Rollout                  │ 48.62028503417969      │\n",
       "│ Time/Update                   │ 7.62546443939209       │\n",
       "│ Time/Epoch                    │ 56.245750427246094     │\n",
       "│ Time/FPS                      │ 355.5824279785156      │\n",
       "│ Misc/Alpha                    │ 0.9957680702209473     │\n",
       "│ Misc/FinalStepNorm            │ 0.22335615754127502    │\n",
       "│ Misc/gradient_norm            │ 0.12472045421600342    │\n",
       "│ Misc/xHx                      │ 0.02017034962773323    │\n",
       "│ Misc/H_inv_g                  │ 0.2243054062128067     │\n",
       "│ Misc/AcceptanceStep           │ 1.0                    │\n",
       "└───────────────────────────────┴────────────────────────┘\n",
       "</pre>\n"
      ],
      "text/plain": [
       "┏━━━━━━━━━━━━━━━━━━━━━━━━━━━━━━━┳━━━━━━━━━━━━━━━━━━━━━━━━┓\n",
       "┃\u001b[1m \u001b[0m\u001b[1mMetrics                      \u001b[0m\u001b[1m \u001b[0m┃\u001b[1m \u001b[0m\u001b[1mValue                 \u001b[0m\u001b[1m \u001b[0m┃\n",
       "┡━━━━━━━━━━━━━━━━━━━━━━━━━━━━━━━╇━━━━━━━━━━━━━━━━━━━━━━━━┩\n",
       "│ Metrics/EpRet                 │ 6.752406597137451      │\n",
       "│ Metrics/EpCost                │ 80.91999816894531      │\n",
       "│ Metrics/EpLen                 │ 1000.0                 │\n",
       "│ Train/Epoch                   │ 5.0                    │\n",
       "│ Train/Entropy                 │ 1.379452109336853      │\n",
       "│ Train/KL                      │ 0.0004500800569076091  │\n",
       "│ Train/StopIter                │ 10.0                   │\n",
       "│ Train/PolicyRatio/Mean        │ 1.0003280639648438     │\n",
       "│ Train/PolicyRatio/Min         │ 1.0003280639648438     │\n",
       "│ Train/PolicyRatio/Max         │ 1.0003280639648438     │\n",
       "│ Train/PolicyRatio/Std         │ 0.0002319200721103698  │\n",
       "│ Train/LR                      │ 0.0                    │\n",
       "│ Train/PolicyStd               │ 0.9617709517478943     │\n",
       "│ TotalEnvSteps                 │ 120000.0               │\n",
       "│ Loss/Loss_pi                  │ -0.01418787520378828   │\n",
       "│ Loss/Loss_pi/Delta            │ -0.0019178297370672226 │\n",
       "│ Value/Adv                     │ 7.171630755919978e-08  │\n",
       "│ Loss/Loss_reward_critic       │ 0.012866786681115627   │\n",
       "│ Loss/Loss_reward_critic/Delta │ -0.000893857330083847  │\n",
       "│ Value/reward                  │ 0.2764071226119995     │\n",
       "│ Time/Total                    │ 303.28936767578125     │\n",
       "│ Time/Rollout                  │ 48.62028503417969      │\n",
       "│ Time/Update                   │ 7.62546443939209       │\n",
       "│ Time/Epoch                    │ 56.245750427246094     │\n",
       "│ Time/FPS                      │ 355.5824279785156      │\n",
       "│ Misc/Alpha                    │ 0.9957680702209473     │\n",
       "│ Misc/FinalStepNorm            │ 0.22335615754127502    │\n",
       "│ Misc/gradient_norm            │ 0.12472045421600342    │\n",
       "│ Misc/xHx                      │ 0.02017034962773323    │\n",
       "│ Misc/H_inv_g                  │ 0.2243054062128067     │\n",
       "│ Misc/AcceptanceStep           │ 1.0                    │\n",
       "└───────────────────────────────┴────────────────────────┘\n"
      ]
     },
     "metadata": {},
     "output_type": "display_data"
    },
    {
     "data": {
      "text/html": [
       "<pre style=\"white-space:pre;overflow-x:auto;line-height:normal;font-family:Menlo,'DejaVu Sans Mono',consolas,'Courier New',monospace\"><span style=\"color: #008000; text-decoration-color: #008000\">Warning: trajectory cut off when rollout by epoch at </span><span style=\"color: #008080; text-decoration-color: #008080; font-weight: bold\">1000.0</span><span style=\"color: #008000; text-decoration-color: #008000\"> steps.</span>\n",
       "</pre>\n"
      ],
      "text/plain": [
       "\u001b[32mWarning: trajectory cut off when rollout by epoch at \u001b[0m\u001b[1;36m1000.0\u001b[0m\u001b[32m steps.\u001b[0m\n"
      ]
     },
     "metadata": {},
     "output_type": "display_data"
    },
    {
     "data": {
      "text/html": [
       "<pre style=\"white-space:pre;overflow-x:auto;line-height:normal;font-family:Menlo,'DejaVu Sans Mono',consolas,'Courier New',monospace\"><span style=\"color: #008000; text-decoration-color: #008000\">Warning: trajectory cut off when rollout by epoch at </span><span style=\"color: #008080; text-decoration-color: #008080; font-weight: bold\">1000.0</span><span style=\"color: #008000; text-decoration-color: #008000\"> steps.</span>\n",
       "</pre>\n"
      ],
      "text/plain": [
       "\u001b[32mWarning: trajectory cut off when rollout by epoch at \u001b[0m\u001b[1;36m1000.0\u001b[0m\u001b[32m steps.\u001b[0m\n"
      ]
     },
     "metadata": {},
     "output_type": "display_data"
    },
    {
     "data": {
      "text/html": [
       "<pre style=\"white-space:pre;overflow-x:auto;line-height:normal;font-family:Menlo,'DejaVu Sans Mono',consolas,'Courier New',monospace\"><span style=\"color: #008000; text-decoration-color: #008000\">Warning: trajectory cut off when rollout by epoch at </span><span style=\"color: #008080; text-decoration-color: #008080; font-weight: bold\">1000.0</span><span style=\"color: #008000; text-decoration-color: #008000\"> steps.</span>\n",
       "</pre>\n"
      ],
      "text/plain": [
       "\u001b[32mWarning: trajectory cut off when rollout by epoch at \u001b[0m\u001b[1;36m1000.0\u001b[0m\u001b[32m steps.\u001b[0m\n"
      ]
     },
     "metadata": {},
     "output_type": "display_data"
    },
    {
     "data": {
      "text/html": [
       "<pre style=\"white-space:pre;overflow-x:auto;line-height:normal;font-family:Menlo,'DejaVu Sans Mono',consolas,'Courier New',monospace\"><span style=\"color: #008000; text-decoration-color: #008000\">Warning: trajectory cut off when rollout by epoch at </span><span style=\"color: #008080; text-decoration-color: #008080; font-weight: bold\">1000.0</span><span style=\"color: #008000; text-decoration-color: #008000\"> steps.</span>\n",
       "</pre>\n"
      ],
      "text/plain": [
       "\u001b[32mWarning: trajectory cut off when rollout by epoch at \u001b[0m\u001b[1;36m1000.0\u001b[0m\u001b[32m steps.\u001b[0m\n"
      ]
     },
     "metadata": {},
     "output_type": "display_data"
    },
    {
     "data": {
      "text/html": [
       "<pre style=\"white-space:pre;overflow-x:auto;line-height:normal;font-family:Menlo,'DejaVu Sans Mono',consolas,'Courier New',monospace\"></pre>\n"
      ],
      "text/plain": []
     },
     "metadata": {},
     "output_type": "display_data"
    },
    {
     "data": {
      "text/html": [
       "<pre style=\"white-space:pre;overflow-x:auto;line-height:normal;font-family:Menlo,'DejaVu Sans Mono',consolas,'Courier New',monospace\">\n",
       "</pre>\n"
      ],
      "text/plain": [
       "\n"
      ]
     },
     "metadata": {},
     "output_type": "display_data"
    },
    {
     "data": {
      "text/html": [
       "<pre style=\"white-space:pre;overflow-x:auto;line-height:normal;font-family:Menlo,'DejaVu Sans Mono',consolas,'Courier New',monospace\"><span style=\"color: #008000; text-decoration-color: #008000\">Expected Improvement: </span><span style=\"color: #008080; text-decoration-color: #008080; font-weight: bold\">0.018815742805600166</span><span style=\"color: #008000; text-decoration-color: #008000\"> Actual: </span><span style=\"color: #008080; text-decoration-color: #008080; font-weight: bold\">0.01927465945482254</span>\n",
       "</pre>\n"
      ],
      "text/plain": [
       "\u001b[32mExpected Improvement: \u001b[0m\u001b[1;36m0.018815742805600166\u001b[0m\u001b[32m Actual: \u001b[0m\u001b[1;36m0.01927465945482254\u001b[0m\n"
      ]
     },
     "metadata": {},
     "output_type": "display_data"
    },
    {
     "data": {
      "text/html": [
       "<pre style=\"white-space:pre;overflow-x:auto;line-height:normal;font-family:Menlo,'DejaVu Sans Mono',consolas,'Courier New',monospace\"><span style=\"color: #008000; text-decoration-color: #008000\">Accept step at </span><span style=\"color: #808000; text-decoration-color: #808000\">i</span><span style=\"color: #008000; text-decoration-color: #008000\">=</span><span style=\"color: #008080; text-decoration-color: #008080; font-weight: bold\">1</span>\n",
       "</pre>\n"
      ],
      "text/plain": [
       "\u001b[32mAccept step at \u001b[0m\u001b[33mi\u001b[0m\u001b[32m=\u001b[0m\u001b[1;36m1\u001b[0m\n"
      ]
     },
     "metadata": {},
     "output_type": "display_data"
    },
    {
     "data": {
      "text/html": [
       "<pre style=\"white-space:pre;overflow-x:auto;line-height:normal;font-family:Menlo,'DejaVu Sans Mono',consolas,'Courier New',monospace\">┏━━━━━━━━━━━━━━━━━━━━━━━━━━━━━━━┳━━━━━━━━━━━━━━━━━━━━━━━━┓\n",
       "┃<span style=\"font-weight: bold\"> Metrics                       </span>┃<span style=\"font-weight: bold\"> Value                  </span>┃\n",
       "┡━━━━━━━━━━━━━━━━━━━━━━━━━━━━━━━╇━━━━━━━━━━━━━━━━━━━━━━━━┩\n",
       "│ Metrics/EpRet                 │ 9.684684753417969      │\n",
       "│ Metrics/EpCost                │ 80.23999786376953      │\n",
       "│ Metrics/EpLen                 │ 1000.0                 │\n",
       "│ Train/Epoch                   │ 6.0                    │\n",
       "│ Train/Entropy                 │ 1.363561987876892      │\n",
       "│ Train/KL                      │ 0.0004447728570085019  │\n",
       "│ Train/StopIter                │ 10.0                   │\n",
       "│ Train/PolicyRatio/Mean        │ 1.000272274017334      │\n",
       "│ Train/PolicyRatio/Min         │ 1.000272274017334      │\n",
       "│ Train/PolicyRatio/Max         │ 1.000272274017334      │\n",
       "│ Train/PolicyRatio/Std         │ 0.00019252680067438632 │\n",
       "│ Train/LR                      │ 0.0                    │\n",
       "│ Train/PolicyStd               │ 0.9467865824699402     │\n",
       "│ TotalEnvSteps                 │ 140000.0               │\n",
       "│ Loss/Loss_pi                  │ -0.01284982729703188   │\n",
       "│ Loss/Loss_pi/Delta            │ 0.001338047906756401   │\n",
       "│ Value/Adv                     │ 5.340575981449547e-08  │\n",
       "│ Loss/Loss_reward_critic       │ 0.013755334541201591   │\n",
       "│ Loss/Loss_reward_critic/Delta │ 0.0008885478600859642  │\n",
       "│ Value/reward                  │ 0.4285164177417755     │\n",
       "│ Time/Total                    │ 358.9591369628906      │\n",
       "│ Time/Rollout                  │ 47.900821685791016     │\n",
       "│ Time/Update                   │ 7.734952926635742      │\n",
       "│ Time/Epoch                    │ 55.63577651977539      │\n",
       "│ Time/FPS                      │ 359.4809265136719      │\n",
       "│ Misc/Alpha                    │ 1.064305067062378      │\n",
       "│ Misc/FinalStepNorm            │ 0.23292818665504456    │\n",
       "│ Misc/gradient_norm            │ 0.12057773023843765    │\n",
       "│ Misc/xHx                      │ 0.01765620894730091    │\n",
       "│ Misc/H_inv_g                  │ 0.21885472536087036    │\n",
       "│ Misc/AcceptanceStep           │ 1.0                    │\n",
       "└───────────────────────────────┴────────────────────────┘\n",
       "</pre>\n"
      ],
      "text/plain": [
       "┏━━━━━━━━━━━━━━━━━━━━━━━━━━━━━━━┳━━━━━━━━━━━━━━━━━━━━━━━━┓\n",
       "┃\u001b[1m \u001b[0m\u001b[1mMetrics                      \u001b[0m\u001b[1m \u001b[0m┃\u001b[1m \u001b[0m\u001b[1mValue                 \u001b[0m\u001b[1m \u001b[0m┃\n",
       "┡━━━━━━━━━━━━━━━━━━━━━━━━━━━━━━━╇━━━━━━━━━━━━━━━━━━━━━━━━┩\n",
       "│ Metrics/EpRet                 │ 9.684684753417969      │\n",
       "│ Metrics/EpCost                │ 80.23999786376953      │\n",
       "│ Metrics/EpLen                 │ 1000.0                 │\n",
       "│ Train/Epoch                   │ 6.0                    │\n",
       "│ Train/Entropy                 │ 1.363561987876892      │\n",
       "│ Train/KL                      │ 0.0004447728570085019  │\n",
       "│ Train/StopIter                │ 10.0                   │\n",
       "│ Train/PolicyRatio/Mean        │ 1.000272274017334      │\n",
       "│ Train/PolicyRatio/Min         │ 1.000272274017334      │\n",
       "│ Train/PolicyRatio/Max         │ 1.000272274017334      │\n",
       "│ Train/PolicyRatio/Std         │ 0.00019252680067438632 │\n",
       "│ Train/LR                      │ 0.0                    │\n",
       "│ Train/PolicyStd               │ 0.9467865824699402     │\n",
       "│ TotalEnvSteps                 │ 140000.0               │\n",
       "│ Loss/Loss_pi                  │ -0.01284982729703188   │\n",
       "│ Loss/Loss_pi/Delta            │ 0.001338047906756401   │\n",
       "│ Value/Adv                     │ 5.340575981449547e-08  │\n",
       "│ Loss/Loss_reward_critic       │ 0.013755334541201591   │\n",
       "│ Loss/Loss_reward_critic/Delta │ 0.0008885478600859642  │\n",
       "│ Value/reward                  │ 0.4285164177417755     │\n",
       "│ Time/Total                    │ 358.9591369628906      │\n",
       "│ Time/Rollout                  │ 47.900821685791016     │\n",
       "│ Time/Update                   │ 7.734952926635742      │\n",
       "│ Time/Epoch                    │ 55.63577651977539      │\n",
       "│ Time/FPS                      │ 359.4809265136719      │\n",
       "│ Misc/Alpha                    │ 1.064305067062378      │\n",
       "│ Misc/FinalStepNorm            │ 0.23292818665504456    │\n",
       "│ Misc/gradient_norm            │ 0.12057773023843765    │\n",
       "│ Misc/xHx                      │ 0.01765620894730091    │\n",
       "│ Misc/H_inv_g                  │ 0.21885472536087036    │\n",
       "│ Misc/AcceptanceStep           │ 1.0                    │\n",
       "└───────────────────────────────┴────────────────────────┘\n"
      ]
     },
     "metadata": {},
     "output_type": "display_data"
    },
    {
     "data": {
      "text/html": [
       "<pre style=\"white-space:pre;overflow-x:auto;line-height:normal;font-family:Menlo,'DejaVu Sans Mono',consolas,'Courier New',monospace\"><span style=\"color: #008000; text-decoration-color: #008000\">Warning: trajectory cut off when rollout by epoch at </span><span style=\"color: #008080; text-decoration-color: #008080; font-weight: bold\">1000.0</span><span style=\"color: #008000; text-decoration-color: #008000\"> steps.</span>\n",
       "</pre>\n"
      ],
      "text/plain": [
       "\u001b[32mWarning: trajectory cut off when rollout by epoch at \u001b[0m\u001b[1;36m1000.0\u001b[0m\u001b[32m steps.\u001b[0m\n"
      ]
     },
     "metadata": {},
     "output_type": "display_data"
    },
    {
     "data": {
      "text/html": [
       "<pre style=\"white-space:pre;overflow-x:auto;line-height:normal;font-family:Menlo,'DejaVu Sans Mono',consolas,'Courier New',monospace\"><span style=\"color: #008000; text-decoration-color: #008000\">Warning: trajectory cut off when rollout by epoch at </span><span style=\"color: #008080; text-decoration-color: #008080; font-weight: bold\">1000.0</span><span style=\"color: #008000; text-decoration-color: #008000\"> steps.</span>\n",
       "</pre>\n"
      ],
      "text/plain": [
       "\u001b[32mWarning: trajectory cut off when rollout by epoch at \u001b[0m\u001b[1;36m1000.0\u001b[0m\u001b[32m steps.\u001b[0m\n"
      ]
     },
     "metadata": {},
     "output_type": "display_data"
    },
    {
     "data": {
      "text/html": [
       "<pre style=\"white-space:pre;overflow-x:auto;line-height:normal;font-family:Menlo,'DejaVu Sans Mono',consolas,'Courier New',monospace\"><span style=\"color: #008000; text-decoration-color: #008000\">Warning: trajectory cut off when rollout by epoch at </span><span style=\"color: #008080; text-decoration-color: #008080; font-weight: bold\">1000.0</span><span style=\"color: #008000; text-decoration-color: #008000\"> steps.</span>\n",
       "</pre>\n"
      ],
      "text/plain": [
       "\u001b[32mWarning: trajectory cut off when rollout by epoch at \u001b[0m\u001b[1;36m1000.0\u001b[0m\u001b[32m steps.\u001b[0m\n"
      ]
     },
     "metadata": {},
     "output_type": "display_data"
    },
    {
     "data": {
      "text/html": [
       "<pre style=\"white-space:pre;overflow-x:auto;line-height:normal;font-family:Menlo,'DejaVu Sans Mono',consolas,'Courier New',monospace\"><span style=\"color: #008000; text-decoration-color: #008000\">Warning: trajectory cut off when rollout by epoch at </span><span style=\"color: #008080; text-decoration-color: #008080; font-weight: bold\">1000.0</span><span style=\"color: #008000; text-decoration-color: #008000\"> steps.</span>\n",
       "</pre>\n"
      ],
      "text/plain": [
       "\u001b[32mWarning: trajectory cut off when rollout by epoch at \u001b[0m\u001b[1;36m1000.0\u001b[0m\u001b[32m steps.\u001b[0m\n"
      ]
     },
     "metadata": {},
     "output_type": "display_data"
    },
    {
     "data": {
      "text/html": [
       "<pre style=\"white-space:pre;overflow-x:auto;line-height:normal;font-family:Menlo,'DejaVu Sans Mono',consolas,'Courier New',monospace\"></pre>\n"
      ],
      "text/plain": []
     },
     "metadata": {},
     "output_type": "display_data"
    },
    {
     "data": {
      "text/html": [
       "<pre style=\"white-space:pre;overflow-x:auto;line-height:normal;font-family:Menlo,'DejaVu Sans Mono',consolas,'Courier New',monospace\">\n",
       "</pre>\n"
      ],
      "text/plain": [
       "\n"
      ]
     },
     "metadata": {},
     "output_type": "display_data"
    },
    {
     "data": {
      "text/html": [
       "<pre style=\"white-space:pre;overflow-x:auto;line-height:normal;font-family:Menlo,'DejaVu Sans Mono',consolas,'Courier New',monospace\"><span style=\"color: #008000; text-decoration-color: #008000\">Expected Improvement: </span><span style=\"color: #008080; text-decoration-color: #008080; font-weight: bold\">0.021374879404902458</span><span style=\"color: #008000; text-decoration-color: #008000\"> Actual: </span><span style=\"color: #008080; text-decoration-color: #008080; font-weight: bold\">0.02156028151512146</span>\n",
       "</pre>\n"
      ],
      "text/plain": [
       "\u001b[32mExpected Improvement: \u001b[0m\u001b[1;36m0.021374879404902458\u001b[0m\u001b[32m Actual: \u001b[0m\u001b[1;36m0.02156028151512146\u001b[0m\n"
      ]
     },
     "metadata": {},
     "output_type": "display_data"
    },
    {
     "data": {
      "text/html": [
       "<pre style=\"white-space:pre;overflow-x:auto;line-height:normal;font-family:Menlo,'DejaVu Sans Mono',consolas,'Courier New',monospace\"><span style=\"color: #008000; text-decoration-color: #008000\">Accept step at </span><span style=\"color: #808000; text-decoration-color: #808000\">i</span><span style=\"color: #008000; text-decoration-color: #008000\">=</span><span style=\"color: #008080; text-decoration-color: #008080; font-weight: bold\">1</span>\n",
       "</pre>\n"
      ],
      "text/plain": [
       "\u001b[32mAccept step at \u001b[0m\u001b[33mi\u001b[0m\u001b[32m=\u001b[0m\u001b[1;36m1\u001b[0m\n"
      ]
     },
     "metadata": {},
     "output_type": "display_data"
    },
    {
     "data": {
      "text/html": [
       "<pre style=\"white-space:pre;overflow-x:auto;line-height:normal;font-family:Menlo,'DejaVu Sans Mono',consolas,'Courier New',monospace\">┏━━━━━━━━━━━━━━━━━━━━━━━━━━━━━━━┳━━━━━━━━━━━━━━━━━━━━━━━━┓\n",
       "┃<span style=\"font-weight: bold\"> Metrics                       </span>┃<span style=\"font-weight: bold\"> Value                  </span>┃\n",
       "┡━━━━━━━━━━━━━━━━━━━━━━━━━━━━━━━╇━━━━━━━━━━━━━━━━━━━━━━━━┩\n",
       "│ Metrics/EpRet                 │ 11.972870826721191     │\n",
       "│ Metrics/EpCost                │ 74.31999969482422      │\n",
       "│ Metrics/EpLen                 │ 1000.0                 │\n",
       "│ Train/Epoch                   │ 7.0                    │\n",
       "│ Train/Entropy                 │ 1.336290955543518      │\n",
       "│ Train/KL                      │ 0.000465935911051929   │\n",
       "│ Train/StopIter                │ 10.0                   │\n",
       "│ Train/PolicyRatio/Mean        │ 0.9995129704475403     │\n",
       "│ Train/PolicyRatio/Min         │ 0.9995130300521851     │\n",
       "│ Train/PolicyRatio/Max         │ 0.9995130300521851     │\n",
       "│ Train/PolicyRatio/Std         │ 0.00034439595765434206 │\n",
       "│ Train/LR                      │ 0.0                    │\n",
       "│ Train/PolicyStd               │ 0.9214891791343689     │\n",
       "│ TotalEnvSteps                 │ 160000.0               │\n",
       "│ Loss/Loss_pi                  │ -0.01437351107597351   │\n",
       "│ Loss/Loss_pi/Delta            │ -0.0015236837789416313 │\n",
       "│ Value/Adv                     │ -5.340575981449547e-09 │\n",
       "│ Loss/Loss_reward_critic       │ 0.014757752418518066   │\n",
       "│ Loss/Loss_reward_critic/Delta │ 0.001002417877316475   │\n",
       "│ Value/reward                  │ 0.5321381092071533     │\n",
       "│ Time/Total                    │ 410.3563232421875      │\n",
       "│ Time/Rollout                  │ 44.21043395996094      │\n",
       "│ Time/Update                   │ 7.1392598152160645     │\n",
       "│ Time/Epoch                    │ 51.349693298339844     │\n",
       "│ Time/FPS                      │ 389.48626708984375     │\n",
       "│ Misc/Alpha                    │ 0.9366418123245239     │\n",
       "│ Misc/FinalStepNorm            │ 0.2203027307987213     │\n",
       "│ Misc/gradient_norm            │ 0.1436043232679367     │\n",
       "│ Misc/xHx                      │ 0.02279726229608059    │\n",
       "│ Misc/H_inv_g                  │ 0.23520487546920776    │\n",
       "│ Misc/AcceptanceStep           │ 1.0                    │\n",
       "└───────────────────────────────┴────────────────────────┘\n",
       "</pre>\n"
      ],
      "text/plain": [
       "┏━━━━━━━━━━━━━━━━━━━━━━━━━━━━━━━┳━━━━━━━━━━━━━━━━━━━━━━━━┓\n",
       "┃\u001b[1m \u001b[0m\u001b[1mMetrics                      \u001b[0m\u001b[1m \u001b[0m┃\u001b[1m \u001b[0m\u001b[1mValue                 \u001b[0m\u001b[1m \u001b[0m┃\n",
       "┡━━━━━━━━━━━━━━━━━━━━━━━━━━━━━━━╇━━━━━━━━━━━━━━━━━━━━━━━━┩\n",
       "│ Metrics/EpRet                 │ 11.972870826721191     │\n",
       "│ Metrics/EpCost                │ 74.31999969482422      │\n",
       "│ Metrics/EpLen                 │ 1000.0                 │\n",
       "│ Train/Epoch                   │ 7.0                    │\n",
       "│ Train/Entropy                 │ 1.336290955543518      │\n",
       "│ Train/KL                      │ 0.000465935911051929   │\n",
       "│ Train/StopIter                │ 10.0                   │\n",
       "│ Train/PolicyRatio/Mean        │ 0.9995129704475403     │\n",
       "│ Train/PolicyRatio/Min         │ 0.9995130300521851     │\n",
       "│ Train/PolicyRatio/Max         │ 0.9995130300521851     │\n",
       "│ Train/PolicyRatio/Std         │ 0.00034439595765434206 │\n",
       "│ Train/LR                      │ 0.0                    │\n",
       "│ Train/PolicyStd               │ 0.9214891791343689     │\n",
       "│ TotalEnvSteps                 │ 160000.0               │\n",
       "│ Loss/Loss_pi                  │ -0.01437351107597351   │\n",
       "│ Loss/Loss_pi/Delta            │ -0.0015236837789416313 │\n",
       "│ Value/Adv                     │ -5.340575981449547e-09 │\n",
       "│ Loss/Loss_reward_critic       │ 0.014757752418518066   │\n",
       "│ Loss/Loss_reward_critic/Delta │ 0.001002417877316475   │\n",
       "│ Value/reward                  │ 0.5321381092071533     │\n",
       "│ Time/Total                    │ 410.3563232421875      │\n",
       "│ Time/Rollout                  │ 44.21043395996094      │\n",
       "│ Time/Update                   │ 7.1392598152160645     │\n",
       "│ Time/Epoch                    │ 51.349693298339844     │\n",
       "│ Time/FPS                      │ 389.48626708984375     │\n",
       "│ Misc/Alpha                    │ 0.9366418123245239     │\n",
       "│ Misc/FinalStepNorm            │ 0.2203027307987213     │\n",
       "│ Misc/gradient_norm            │ 0.1436043232679367     │\n",
       "│ Misc/xHx                      │ 0.02279726229608059    │\n",
       "│ Misc/H_inv_g                  │ 0.23520487546920776    │\n",
       "│ Misc/AcceptanceStep           │ 1.0                    │\n",
       "└───────────────────────────────┴────────────────────────┘\n"
      ]
     },
     "metadata": {},
     "output_type": "display_data"
    },
    {
     "data": {
      "text/html": [
       "<pre style=\"white-space:pre;overflow-x:auto;line-height:normal;font-family:Menlo,'DejaVu Sans Mono',consolas,'Courier New',monospace\"><span style=\"color: #008000; text-decoration-color: #008000\">Warning: trajectory cut off when rollout by epoch at </span><span style=\"color: #008080; text-decoration-color: #008080; font-weight: bold\">1000.0</span><span style=\"color: #008000; text-decoration-color: #008000\"> steps.</span>\n",
       "</pre>\n"
      ],
      "text/plain": [
       "\u001b[32mWarning: trajectory cut off when rollout by epoch at \u001b[0m\u001b[1;36m1000.0\u001b[0m\u001b[32m steps.\u001b[0m\n"
      ]
     },
     "metadata": {},
     "output_type": "display_data"
    },
    {
     "data": {
      "text/html": [
       "<pre style=\"white-space:pre;overflow-x:auto;line-height:normal;font-family:Menlo,'DejaVu Sans Mono',consolas,'Courier New',monospace\"><span style=\"color: #008000; text-decoration-color: #008000\">Warning: trajectory cut off when rollout by epoch at </span><span style=\"color: #008080; text-decoration-color: #008080; font-weight: bold\">1000.0</span><span style=\"color: #008000; text-decoration-color: #008000\"> steps.</span>\n",
       "</pre>\n"
      ],
      "text/plain": [
       "\u001b[32mWarning: trajectory cut off when rollout by epoch at \u001b[0m\u001b[1;36m1000.0\u001b[0m\u001b[32m steps.\u001b[0m\n"
      ]
     },
     "metadata": {},
     "output_type": "display_data"
    },
    {
     "data": {
      "text/html": [
       "<pre style=\"white-space:pre;overflow-x:auto;line-height:normal;font-family:Menlo,'DejaVu Sans Mono',consolas,'Courier New',monospace\"><span style=\"color: #008000; text-decoration-color: #008000\">Warning: trajectory cut off when rollout by epoch at </span><span style=\"color: #008080; text-decoration-color: #008080; font-weight: bold\">1000.0</span><span style=\"color: #008000; text-decoration-color: #008000\"> steps.</span>\n",
       "</pre>\n"
      ],
      "text/plain": [
       "\u001b[32mWarning: trajectory cut off when rollout by epoch at \u001b[0m\u001b[1;36m1000.0\u001b[0m\u001b[32m steps.\u001b[0m\n"
      ]
     },
     "metadata": {},
     "output_type": "display_data"
    },
    {
     "data": {
      "text/html": [
       "<pre style=\"white-space:pre;overflow-x:auto;line-height:normal;font-family:Menlo,'DejaVu Sans Mono',consolas,'Courier New',monospace\"><span style=\"color: #008000; text-decoration-color: #008000\">Warning: trajectory cut off when rollout by epoch at </span><span style=\"color: #008080; text-decoration-color: #008080; font-weight: bold\">1000.0</span><span style=\"color: #008000; text-decoration-color: #008000\"> steps.</span>\n",
       "</pre>\n"
      ],
      "text/plain": [
       "\u001b[32mWarning: trajectory cut off when rollout by epoch at \u001b[0m\u001b[1;36m1000.0\u001b[0m\u001b[32m steps.\u001b[0m\n"
      ]
     },
     "metadata": {},
     "output_type": "display_data"
    },
    {
     "data": {
      "text/html": [
       "<pre style=\"white-space:pre;overflow-x:auto;line-height:normal;font-family:Menlo,'DejaVu Sans Mono',consolas,'Courier New',monospace\"></pre>\n"
      ],
      "text/plain": []
     },
     "metadata": {},
     "output_type": "display_data"
    },
    {
     "data": {
      "text/html": [
       "<pre style=\"white-space:pre;overflow-x:auto;line-height:normal;font-family:Menlo,'DejaVu Sans Mono',consolas,'Courier New',monospace\">\n",
       "</pre>\n"
      ],
      "text/plain": [
       "\n"
      ]
     },
     "metadata": {},
     "output_type": "display_data"
    },
    {
     "data": {
      "text/html": [
       "<pre style=\"white-space:pre;overflow-x:auto;line-height:normal;font-family:Menlo,'DejaVu Sans Mono',consolas,'Courier New',monospace\"><span style=\"color: #008000; text-decoration-color: #008000\">Expected Improvement: </span><span style=\"color: #008080; text-decoration-color: #008080; font-weight: bold\">0.020714476704597473</span><span style=\"color: #008000; text-decoration-color: #008000\"> Actual: </span><span style=\"color: #008080; text-decoration-color: #008080; font-weight: bold\">0.020773692056536674</span>\n",
       "</pre>\n"
      ],
      "text/plain": [
       "\u001b[32mExpected Improvement: \u001b[0m\u001b[1;36m0.020714476704597473\u001b[0m\u001b[32m Actual: \u001b[0m\u001b[1;36m0.020773692056536674\u001b[0m\n"
      ]
     },
     "metadata": {},
     "output_type": "display_data"
    },
    {
     "data": {
      "text/html": [
       "<pre style=\"white-space:pre;overflow-x:auto;line-height:normal;font-family:Menlo,'DejaVu Sans Mono',consolas,'Courier New',monospace\"><span style=\"color: #008000; text-decoration-color: #008000\">Accept step at </span><span style=\"color: #808000; text-decoration-color: #808000\">i</span><span style=\"color: #008000; text-decoration-color: #008000\">=</span><span style=\"color: #008080; text-decoration-color: #008080; font-weight: bold\">1</span>\n",
       "</pre>\n"
      ],
      "text/plain": [
       "\u001b[32mAccept step at \u001b[0m\u001b[33mi\u001b[0m\u001b[32m=\u001b[0m\u001b[1;36m1\u001b[0m\n"
      ]
     },
     "metadata": {},
     "output_type": "display_data"
    },
    {
     "data": {
      "text/html": [
       "<pre style=\"white-space:pre;overflow-x:auto;line-height:normal;font-family:Menlo,'DejaVu Sans Mono',consolas,'Courier New',monospace\">┏━━━━━━━━━━━━━━━━━━━━━━━━━━━━━━━┳━━━━━━━━━━━━━━━━━━━━━━━━┓\n",
       "┃<span style=\"font-weight: bold\"> Metrics                       </span>┃<span style=\"font-weight: bold\"> Value                  </span>┃\n",
       "┡━━━━━━━━━━━━━━━━━━━━━━━━━━━━━━━╇━━━━━━━━━━━━━━━━━━━━━━━━┩\n",
       "│ Metrics/EpRet                 │ 14.597931861877441     │\n",
       "│ Metrics/EpCost                │ 64.54000091552734      │\n",
       "│ Metrics/EpLen                 │ 1000.0                 │\n",
       "│ Train/Epoch                   │ 8.0                    │\n",
       "│ Train/Entropy                 │ 1.308836817741394      │\n",
       "│ Train/KL                      │ 0.0004736801201943308  │\n",
       "│ Train/StopIter                │ 10.0                   │\n",
       "│ Train/PolicyRatio/Mean        │ 0.9999997019767761     │\n",
       "│ Train/PolicyRatio/Min         │ 0.9999997019767761     │\n",
       "│ Train/PolicyRatio/Max         │ 0.9999997019767761     │\n",
       "│ Train/PolicyRatio/Std         │ 1.9768624781590916e-07 │\n",
       "│ Train/LR                      │ 0.0                    │\n",
       "│ Train/PolicyStd               │ 0.8968427777290344     │\n",
       "│ TotalEnvSteps                 │ 180000.0               │\n",
       "│ Loss/Loss_pi                  │ -0.013849075883626938  │\n",
       "│ Loss/Loss_pi/Delta            │ 0.0005244351923465729  │\n",
       "│ Value/Adv                     │ -5.035400363340159e-08 │\n",
       "│ Loss/Loss_reward_critic       │ 0.01381485816091299    │\n",
       "│ Loss/Loss_reward_critic/Delta │ -0.0009428942576050758 │\n",
       "│ Value/reward                  │ 0.6813177466392517     │\n",
       "│ Time/Total                    │ 466.35784912109375     │\n",
       "│ Time/Rollout                  │ 48.42500686645508      │\n",
       "│ Time/Update                   │ 7.54252815246582       │\n",
       "│ Time/Epoch                    │ 55.967533111572266     │\n",
       "│ Time/FPS                      │ 357.35003662109375     │\n",
       "│ Misc/Alpha                    │ 0.9664730429649353     │\n",
       "│ Misc/FinalStepNorm            │ 0.2134418934583664     │\n",
       "│ Misc/gradient_norm            │ 0.1701372265815735     │\n",
       "│ Misc/xHx                      │ 0.021411657333374023   │\n",
       "│ Misc/H_inv_g                  │ 0.22084619104862213    │\n",
       "│ Misc/AcceptanceStep           │ 1.0                    │\n",
       "└───────────────────────────────┴────────────────────────┘\n",
       "</pre>\n"
      ],
      "text/plain": [
       "┏━━━━━━━━━━━━━━━━━━━━━━━━━━━━━━━┳━━━━━━━━━━━━━━━━━━━━━━━━┓\n",
       "┃\u001b[1m \u001b[0m\u001b[1mMetrics                      \u001b[0m\u001b[1m \u001b[0m┃\u001b[1m \u001b[0m\u001b[1mValue                 \u001b[0m\u001b[1m \u001b[0m┃\n",
       "┡━━━━━━━━━━━━━━━━━━━━━━━━━━━━━━━╇━━━━━━━━━━━━━━━━━━━━━━━━┩\n",
       "│ Metrics/EpRet                 │ 14.597931861877441     │\n",
       "│ Metrics/EpCost                │ 64.54000091552734      │\n",
       "│ Metrics/EpLen                 │ 1000.0                 │\n",
       "│ Train/Epoch                   │ 8.0                    │\n",
       "│ Train/Entropy                 │ 1.308836817741394      │\n",
       "│ Train/KL                      │ 0.0004736801201943308  │\n",
       "│ Train/StopIter                │ 10.0                   │\n",
       "│ Train/PolicyRatio/Mean        │ 0.9999997019767761     │\n",
       "│ Train/PolicyRatio/Min         │ 0.9999997019767761     │\n",
       "│ Train/PolicyRatio/Max         │ 0.9999997019767761     │\n",
       "│ Train/PolicyRatio/Std         │ 1.9768624781590916e-07 │\n",
       "│ Train/LR                      │ 0.0                    │\n",
       "│ Train/PolicyStd               │ 0.8968427777290344     │\n",
       "│ TotalEnvSteps                 │ 180000.0               │\n",
       "│ Loss/Loss_pi                  │ -0.013849075883626938  │\n",
       "│ Loss/Loss_pi/Delta            │ 0.0005244351923465729  │\n",
       "│ Value/Adv                     │ -5.035400363340159e-08 │\n",
       "│ Loss/Loss_reward_critic       │ 0.01381485816091299    │\n",
       "│ Loss/Loss_reward_critic/Delta │ -0.0009428942576050758 │\n",
       "│ Value/reward                  │ 0.6813177466392517     │\n",
       "│ Time/Total                    │ 466.35784912109375     │\n",
       "│ Time/Rollout                  │ 48.42500686645508      │\n",
       "│ Time/Update                   │ 7.54252815246582       │\n",
       "│ Time/Epoch                    │ 55.967533111572266     │\n",
       "│ Time/FPS                      │ 357.35003662109375     │\n",
       "│ Misc/Alpha                    │ 0.9664730429649353     │\n",
       "│ Misc/FinalStepNorm            │ 0.2134418934583664     │\n",
       "│ Misc/gradient_norm            │ 0.1701372265815735     │\n",
       "│ Misc/xHx                      │ 0.021411657333374023   │\n",
       "│ Misc/H_inv_g                  │ 0.22084619104862213    │\n",
       "│ Misc/AcceptanceStep           │ 1.0                    │\n",
       "└───────────────────────────────┴────────────────────────┘\n"
      ]
     },
     "metadata": {},
     "output_type": "display_data"
    },
    {
     "data": {
      "text/html": [
       "<pre style=\"white-space:pre;overflow-x:auto;line-height:normal;font-family:Menlo,'DejaVu Sans Mono',consolas,'Courier New',monospace\"><span style=\"color: #008000; text-decoration-color: #008000\">Warning: trajectory cut off when rollout by epoch at </span><span style=\"color: #008080; text-decoration-color: #008080; font-weight: bold\">1000.0</span><span style=\"color: #008000; text-decoration-color: #008000\"> steps.</span>\n",
       "</pre>\n"
      ],
      "text/plain": [
       "\u001b[32mWarning: trajectory cut off when rollout by epoch at \u001b[0m\u001b[1;36m1000.0\u001b[0m\u001b[32m steps.\u001b[0m\n"
      ]
     },
     "metadata": {},
     "output_type": "display_data"
    },
    {
     "data": {
      "text/html": [
       "<pre style=\"white-space:pre;overflow-x:auto;line-height:normal;font-family:Menlo,'DejaVu Sans Mono',consolas,'Courier New',monospace\"><span style=\"color: #008000; text-decoration-color: #008000\">Warning: trajectory cut off when rollout by epoch at </span><span style=\"color: #008080; text-decoration-color: #008080; font-weight: bold\">1000.0</span><span style=\"color: #008000; text-decoration-color: #008000\"> steps.</span>\n",
       "</pre>\n"
      ],
      "text/plain": [
       "\u001b[32mWarning: trajectory cut off when rollout by epoch at \u001b[0m\u001b[1;36m1000.0\u001b[0m\u001b[32m steps.\u001b[0m\n"
      ]
     },
     "metadata": {},
     "output_type": "display_data"
    },
    {
     "data": {
      "text/html": [
       "<pre style=\"white-space:pre;overflow-x:auto;line-height:normal;font-family:Menlo,'DejaVu Sans Mono',consolas,'Courier New',monospace\"><span style=\"color: #008000; text-decoration-color: #008000\">Warning: trajectory cut off when rollout by epoch at </span><span style=\"color: #008080; text-decoration-color: #008080; font-weight: bold\">1000.0</span><span style=\"color: #008000; text-decoration-color: #008000\"> steps.</span>\n",
       "</pre>\n"
      ],
      "text/plain": [
       "\u001b[32mWarning: trajectory cut off when rollout by epoch at \u001b[0m\u001b[1;36m1000.0\u001b[0m\u001b[32m steps.\u001b[0m\n"
      ]
     },
     "metadata": {},
     "output_type": "display_data"
    },
    {
     "data": {
      "text/html": [
       "<pre style=\"white-space:pre;overflow-x:auto;line-height:normal;font-family:Menlo,'DejaVu Sans Mono',consolas,'Courier New',monospace\"><span style=\"color: #008000; text-decoration-color: #008000\">Warning: trajectory cut off when rollout by epoch at </span><span style=\"color: #008080; text-decoration-color: #008080; font-weight: bold\">1000.0</span><span style=\"color: #008000; text-decoration-color: #008000\"> steps.</span>\n",
       "</pre>\n"
      ],
      "text/plain": [
       "\u001b[32mWarning: trajectory cut off when rollout by epoch at \u001b[0m\u001b[1;36m1000.0\u001b[0m\u001b[32m steps.\u001b[0m\n"
      ]
     },
     "metadata": {},
     "output_type": "display_data"
    },
    {
     "data": {
      "text/html": [
       "<pre style=\"white-space:pre;overflow-x:auto;line-height:normal;font-family:Menlo,'DejaVu Sans Mono',consolas,'Courier New',monospace\"></pre>\n"
      ],
      "text/plain": []
     },
     "metadata": {},
     "output_type": "display_data"
    },
    {
     "data": {
      "text/html": [
       "<pre style=\"white-space:pre;overflow-x:auto;line-height:normal;font-family:Menlo,'DejaVu Sans Mono',consolas,'Courier New',monospace\">\n",
       "</pre>\n"
      ],
      "text/plain": [
       "\n"
      ]
     },
     "metadata": {},
     "output_type": "display_data"
    },
    {
     "data": {
      "text/html": [
       "<pre style=\"white-space:pre;overflow-x:auto;line-height:normal;font-family:Menlo,'DejaVu Sans Mono',consolas,'Courier New',monospace\"><span style=\"color: #008000; text-decoration-color: #008000\">Expected Improvement: </span><span style=\"color: #008080; text-decoration-color: #008080; font-weight: bold\">0.01837635040283203</span><span style=\"color: #008000; text-decoration-color: #008000\"> Actual: </span><span style=\"color: #008080; text-decoration-color: #008080; font-weight: bold\">0.018205031752586365</span>\n",
       "</pre>\n"
      ],
      "text/plain": [
       "\u001b[32mExpected Improvement: \u001b[0m\u001b[1;36m0.01837635040283203\u001b[0m\u001b[32m Actual: \u001b[0m\u001b[1;36m0.018205031752586365\u001b[0m\n"
      ]
     },
     "metadata": {},
     "output_type": "display_data"
    },
    {
     "data": {
      "text/html": [
       "<pre style=\"white-space:pre;overflow-x:auto;line-height:normal;font-family:Menlo,'DejaVu Sans Mono',consolas,'Courier New',monospace\"><span style=\"color: #008000; text-decoration-color: #008000\">Accept step at </span><span style=\"color: #808000; text-decoration-color: #808000\">i</span><span style=\"color: #008000; text-decoration-color: #008000\">=</span><span style=\"color: #008080; text-decoration-color: #008080; font-weight: bold\">1</span>\n",
       "</pre>\n"
      ],
      "text/plain": [
       "\u001b[32mAccept step at \u001b[0m\u001b[33mi\u001b[0m\u001b[32m=\u001b[0m\u001b[1;36m1\u001b[0m\n"
      ]
     },
     "metadata": {},
     "output_type": "display_data"
    },
    {
     "data": {
      "text/html": [
       "<pre style=\"white-space:pre;overflow-x:auto;line-height:normal;font-family:Menlo,'DejaVu Sans Mono',consolas,'Courier New',monospace\">┏━━━━━━━━━━━━━━━━━━━━━━━━━━━━━━━┳━━━━━━━━━━━━━━━━━━━━━━━┓\n",
       "┃<span style=\"font-weight: bold\"> Metrics                       </span>┃<span style=\"font-weight: bold\"> Value                 </span>┃\n",
       "┡━━━━━━━━━━━━━━━━━━━━━━━━━━━━━━━╇━━━━━━━━━━━━━━━━━━━━━━━┩\n",
       "│ Metrics/EpRet                 │ 16.551572799682617    │\n",
       "│ Metrics/EpCost                │ 56.29999923706055     │\n",
       "│ Metrics/EpLen                 │ 1000.0                │\n",
       "│ Train/Epoch                   │ 9.0                   │\n",
       "│ Train/Entropy                 │ 1.2793099880218506    │\n",
       "│ Train/KL                      │ 0.0004239808185957372 │\n",
       "│ Train/StopIter                │ 10.0                  │\n",
       "│ Train/PolicyRatio/Mean        │ 0.9992416501045227    │\n",
       "│ Train/PolicyRatio/Min         │ 0.9992417097091675    │\n",
       "│ Train/PolicyRatio/Max         │ 0.9992417097091675    │\n",
       "│ Train/PolicyRatio/Std         │ 0.0005362484371289611 │\n",
       "│ Train/LR                      │ 0.0                   │\n",
       "│ Train/PolicyStd               │ 0.8714873790740967    │\n",
       "│ TotalEnvSteps                 │ 200000.0              │\n",
       "│ Loss/Loss_pi                  │ -0.012136600911617279 │\n",
       "│ Loss/Loss_pi/Delta            │ 0.0017124749720096588 │\n",
       "│ Value/Adv                     │ -8.46862775460977e-08 │\n",
       "│ Loss/Loss_reward_critic       │ 0.017060058191418648  │\n",
       "│ Loss/Loss_reward_critic/Delta │ 0.003245200030505657  │\n",
       "│ Value/reward                  │ 0.8125696778297424    │\n",
       "│ Time/Total                    │ 521.3201904296875     │\n",
       "│ Time/Rollout                  │ 47.60352325439453     │\n",
       "│ Time/Update                   │ 7.325544357299805     │\n",
       "│ Time/Epoch                    │ 54.92906951904297     │\n",
       "│ Time/FPS                      │ 364.1059265136719     │\n",
       "│ Misc/Alpha                    │ 1.0896756649017334    │\n",
       "│ Misc/FinalStepNorm            │ 0.24252475798130035   │\n",
       "│ Misc/gradient_norm            │ 0.13387100398540497   │\n",
       "│ Misc/xHx                      │ 0.016843613237142563  │\n",
       "│ Misc/H_inv_g                  │ 0.22256599366664886   │\n",
       "│ Misc/AcceptanceStep           │ 1.0                   │\n",
       "└───────────────────────────────┴───────────────────────┘\n",
       "</pre>\n"
      ],
      "text/plain": [
       "┏━━━━━━━━━━━━━━━━━━━━━━━━━━━━━━━┳━━━━━━━━━━━━━━━━━━━━━━━┓\n",
       "┃\u001b[1m \u001b[0m\u001b[1mMetrics                      \u001b[0m\u001b[1m \u001b[0m┃\u001b[1m \u001b[0m\u001b[1mValue                \u001b[0m\u001b[1m \u001b[0m┃\n",
       "┡━━━━━━━━━━━━━━━━━━━━━━━━━━━━━━━╇━━━━━━━━━━━━━━━━━━━━━━━┩\n",
       "│ Metrics/EpRet                 │ 16.551572799682617    │\n",
       "│ Metrics/EpCost                │ 56.29999923706055     │\n",
       "│ Metrics/EpLen                 │ 1000.0                │\n",
       "│ Train/Epoch                   │ 9.0                   │\n",
       "│ Train/Entropy                 │ 1.2793099880218506    │\n",
       "│ Train/KL                      │ 0.0004239808185957372 │\n",
       "│ Train/StopIter                │ 10.0                  │\n",
       "│ Train/PolicyRatio/Mean        │ 0.9992416501045227    │\n",
       "│ Train/PolicyRatio/Min         │ 0.9992417097091675    │\n",
       "│ Train/PolicyRatio/Max         │ 0.9992417097091675    │\n",
       "│ Train/PolicyRatio/Std         │ 0.0005362484371289611 │\n",
       "│ Train/LR                      │ 0.0                   │\n",
       "│ Train/PolicyStd               │ 0.8714873790740967    │\n",
       "│ TotalEnvSteps                 │ 200000.0              │\n",
       "│ Loss/Loss_pi                  │ -0.012136600911617279 │\n",
       "│ Loss/Loss_pi/Delta            │ 0.0017124749720096588 │\n",
       "│ Value/Adv                     │ -8.46862775460977e-08 │\n",
       "│ Loss/Loss_reward_critic       │ 0.017060058191418648  │\n",
       "│ Loss/Loss_reward_critic/Delta │ 0.003245200030505657  │\n",
       "│ Value/reward                  │ 0.8125696778297424    │\n",
       "│ Time/Total                    │ 521.3201904296875     │\n",
       "│ Time/Rollout                  │ 47.60352325439453     │\n",
       "│ Time/Update                   │ 7.325544357299805     │\n",
       "│ Time/Epoch                    │ 54.92906951904297     │\n",
       "│ Time/FPS                      │ 364.1059265136719     │\n",
       "│ Misc/Alpha                    │ 1.0896756649017334    │\n",
       "│ Misc/FinalStepNorm            │ 0.24252475798130035   │\n",
       "│ Misc/gradient_norm            │ 0.13387100398540497   │\n",
       "│ Misc/xHx                      │ 0.016843613237142563  │\n",
       "│ Misc/H_inv_g                  │ 0.22256599366664886   │\n",
       "│ Misc/AcceptanceStep           │ 1.0                   │\n",
       "└───────────────────────────────┴───────────────────────┘\n"
      ]
     },
     "metadata": {},
     "output_type": "display_data"
    },
    {
     "data": {
      "text/html": [
       "<pre style=\"white-space:pre;overflow-x:auto;line-height:normal;font-family:Menlo,'DejaVu Sans Mono',consolas,'Courier New',monospace\"><span style=\"color: #008000; text-decoration-color: #008000\">Warning: trajectory cut off when rollout by epoch at </span><span style=\"color: #008080; text-decoration-color: #008080; font-weight: bold\">1000.0</span><span style=\"color: #008000; text-decoration-color: #008000\"> steps.</span>\n",
       "</pre>\n"
      ],
      "text/plain": [
       "\u001b[32mWarning: trajectory cut off when rollout by epoch at \u001b[0m\u001b[1;36m1000.0\u001b[0m\u001b[32m steps.\u001b[0m\n"
      ]
     },
     "metadata": {},
     "output_type": "display_data"
    },
    {
     "data": {
      "text/html": [
       "<pre style=\"white-space:pre;overflow-x:auto;line-height:normal;font-family:Menlo,'DejaVu Sans Mono',consolas,'Courier New',monospace\"><span style=\"color: #008000; text-decoration-color: #008000\">Warning: trajectory cut off when rollout by epoch at </span><span style=\"color: #008080; text-decoration-color: #008080; font-weight: bold\">1000.0</span><span style=\"color: #008000; text-decoration-color: #008000\"> steps.</span>\n",
       "</pre>\n"
      ],
      "text/plain": [
       "\u001b[32mWarning: trajectory cut off when rollout by epoch at \u001b[0m\u001b[1;36m1000.0\u001b[0m\u001b[32m steps.\u001b[0m\n"
      ]
     },
     "metadata": {},
     "output_type": "display_data"
    },
    {
     "data": {
      "text/html": [
       "<pre style=\"white-space:pre;overflow-x:auto;line-height:normal;font-family:Menlo,'DejaVu Sans Mono',consolas,'Courier New',monospace\"><span style=\"color: #008000; text-decoration-color: #008000\">Warning: trajectory cut off when rollout by epoch at </span><span style=\"color: #008080; text-decoration-color: #008080; font-weight: bold\">1000.0</span><span style=\"color: #008000; text-decoration-color: #008000\"> steps.</span>\n",
       "</pre>\n"
      ],
      "text/plain": [
       "\u001b[32mWarning: trajectory cut off when rollout by epoch at \u001b[0m\u001b[1;36m1000.0\u001b[0m\u001b[32m steps.\u001b[0m\n"
      ]
     },
     "metadata": {},
     "output_type": "display_data"
    },
    {
     "data": {
      "text/html": [
       "<pre style=\"white-space:pre;overflow-x:auto;line-height:normal;font-family:Menlo,'DejaVu Sans Mono',consolas,'Courier New',monospace\"><span style=\"color: #008000; text-decoration-color: #008000\">Warning: trajectory cut off when rollout by epoch at </span><span style=\"color: #008080; text-decoration-color: #008080; font-weight: bold\">1000.0</span><span style=\"color: #008000; text-decoration-color: #008000\"> steps.</span>\n",
       "</pre>\n"
      ],
      "text/plain": [
       "\u001b[32mWarning: trajectory cut off when rollout by epoch at \u001b[0m\u001b[1;36m1000.0\u001b[0m\u001b[32m steps.\u001b[0m\n"
      ]
     },
     "metadata": {},
     "output_type": "display_data"
    },
    {
     "data": {
      "text/html": [
       "<pre style=\"white-space:pre;overflow-x:auto;line-height:normal;font-family:Menlo,'DejaVu Sans Mono',consolas,'Courier New',monospace\"></pre>\n"
      ],
      "text/plain": []
     },
     "metadata": {},
     "output_type": "display_data"
    },
    {
     "data": {
      "text/html": [
       "<pre style=\"white-space:pre;overflow-x:auto;line-height:normal;font-family:Menlo,'DejaVu Sans Mono',consolas,'Courier New',monospace\">\n",
       "</pre>\n"
      ],
      "text/plain": [
       "\n"
      ]
     },
     "metadata": {},
     "output_type": "display_data"
    },
    {
     "data": {
      "text/html": [
       "<pre style=\"white-space:pre;overflow-x:auto;line-height:normal;font-family:Menlo,'DejaVu Sans Mono',consolas,'Courier New',monospace\"><span style=\"color: #008000; text-decoration-color: #008000\">Expected Improvement: </span><span style=\"color: #008080; text-decoration-color: #008080; font-weight: bold\">0.01823122799396515</span><span style=\"color: #008000; text-decoration-color: #008000\"> Actual: </span><span style=\"color: #008080; text-decoration-color: #008080; font-weight: bold\">0.018183808773756027</span>\n",
       "</pre>\n"
      ],
      "text/plain": [
       "\u001b[32mExpected Improvement: \u001b[0m\u001b[1;36m0.01823122799396515\u001b[0m\u001b[32m Actual: \u001b[0m\u001b[1;36m0.018183808773756027\u001b[0m\n"
      ]
     },
     "metadata": {},
     "output_type": "display_data"
    },
    {
     "data": {
      "text/html": [
       "<pre style=\"white-space:pre;overflow-x:auto;line-height:normal;font-family:Menlo,'DejaVu Sans Mono',consolas,'Courier New',monospace\"><span style=\"color: #008000; text-decoration-color: #008000\">Accept step at </span><span style=\"color: #808000; text-decoration-color: #808000\">i</span><span style=\"color: #008000; text-decoration-color: #008000\">=</span><span style=\"color: #008080; text-decoration-color: #008080; font-weight: bold\">1</span>\n",
       "</pre>\n"
      ],
      "text/plain": [
       "\u001b[32mAccept step at \u001b[0m\u001b[33mi\u001b[0m\u001b[32m=\u001b[0m\u001b[1;36m1\u001b[0m\n"
      ]
     },
     "metadata": {},
     "output_type": "display_data"
    },
    {
     "data": {
      "text/html": [
       "<pre style=\"white-space:pre;overflow-x:auto;line-height:normal;font-family:Menlo,'DejaVu Sans Mono',consolas,'Courier New',monospace\">┏━━━━━━━━━━━━━━━━━━━━━━━━━━━━━━━┳━━━━━━━━━━━━━━━━━━━━━━━━┓\n",
       "┃<span style=\"font-weight: bold\"> Metrics                       </span>┃<span style=\"font-weight: bold\"> Value                  </span>┃\n",
       "┡━━━━━━━━━━━━━━━━━━━━━━━━━━━━━━━╇━━━━━━━━━━━━━━━━━━━━━━━━┩\n",
       "│ Metrics/EpRet                 │ 18.125343322753906     │\n",
       "│ Metrics/EpCost                │ 61.02000045776367      │\n",
       "│ Metrics/EpLen                 │ 1000.0                 │\n",
       "│ Train/Epoch                   │ 10.0                   │\n",
       "│ Train/Entropy                 │ 1.2477985620498657     │\n",
       "│ Train/KL                      │ 0.0004182633711025119  │\n",
       "│ Train/StopIter                │ 10.0                   │\n",
       "│ Train/PolicyRatio/Mean        │ 0.9981480240821838     │\n",
       "│ Train/PolicyRatio/Min         │ 0.9981480836868286     │\n",
       "│ Train/PolicyRatio/Max         │ 0.9981480836868286     │\n",
       "│ Train/PolicyRatio/Std         │ 0.0013095306931063533  │\n",
       "│ Train/LR                      │ 0.0                    │\n",
       "│ Train/PolicyStd               │ 0.8454329371452332     │\n",
       "│ TotalEnvSteps                 │ 220000.0               │\n",
       "│ Loss/Loss_pi                  │ -0.012122576124966145  │\n",
       "│ Loss/Loss_pi/Delta            │ 1.4024786651134491e-05 │\n",
       "│ Value/Adv                     │ 3.814697180359872e-08  │\n",
       "│ Loss/Loss_reward_critic       │ 0.017499510198831558   │\n",
       "│ Loss/Loss_reward_critic/Delta │ 0.00043945200741291046 │\n",
       "│ Value/reward                  │ 0.9618374109268188     │\n",
       "│ Time/Total                    │ 576.9144897460938      │\n",
       "│ Time/Rollout                  │ 47.78362274169922      │\n",
       "│ Time/Update                   │ 7.776671409606934      │\n",
       "│ Time/Epoch                    │ 55.56029510498047      │\n",
       "│ Time/FPS                      │ 359.96929931640625     │\n",
       "│ Misc/Alpha                    │ 1.0983153581619263     │\n",
       "│ Misc/FinalStepNorm            │ 0.249980166554451      │\n",
       "│ Misc/gradient_norm            │ 0.12245307117700577    │\n",
       "│ Misc/xHx                      │ 0.016579661518335342   │\n",
       "│ Misc/H_inv_g                  │ 0.2276032716035843     │\n",
       "│ Misc/AcceptanceStep           │ 1.0                    │\n",
       "└───────────────────────────────┴────────────────────────┘\n",
       "</pre>\n"
      ],
      "text/plain": [
       "┏━━━━━━━━━━━━━━━━━━━━━━━━━━━━━━━┳━━━━━━━━━━━━━━━━━━━━━━━━┓\n",
       "┃\u001b[1m \u001b[0m\u001b[1mMetrics                      \u001b[0m\u001b[1m \u001b[0m┃\u001b[1m \u001b[0m\u001b[1mValue                 \u001b[0m\u001b[1m \u001b[0m┃\n",
       "┡━━━━━━━━━━━━━━━━━━━━━━━━━━━━━━━╇━━━━━━━━━━━━━━━━━━━━━━━━┩\n",
       "│ Metrics/EpRet                 │ 18.125343322753906     │\n",
       "│ Metrics/EpCost                │ 61.02000045776367      │\n",
       "│ Metrics/EpLen                 │ 1000.0                 │\n",
       "│ Train/Epoch                   │ 10.0                   │\n",
       "│ Train/Entropy                 │ 1.2477985620498657     │\n",
       "│ Train/KL                      │ 0.0004182633711025119  │\n",
       "│ Train/StopIter                │ 10.0                   │\n",
       "│ Train/PolicyRatio/Mean        │ 0.9981480240821838     │\n",
       "│ Train/PolicyRatio/Min         │ 0.9981480836868286     │\n",
       "│ Train/PolicyRatio/Max         │ 0.9981480836868286     │\n",
       "│ Train/PolicyRatio/Std         │ 0.0013095306931063533  │\n",
       "│ Train/LR                      │ 0.0                    │\n",
       "│ Train/PolicyStd               │ 0.8454329371452332     │\n",
       "│ TotalEnvSteps                 │ 220000.0               │\n",
       "│ Loss/Loss_pi                  │ -0.012122576124966145  │\n",
       "│ Loss/Loss_pi/Delta            │ 1.4024786651134491e-05 │\n",
       "│ Value/Adv                     │ 3.814697180359872e-08  │\n",
       "│ Loss/Loss_reward_critic       │ 0.017499510198831558   │\n",
       "│ Loss/Loss_reward_critic/Delta │ 0.00043945200741291046 │\n",
       "│ Value/reward                  │ 0.9618374109268188     │\n",
       "│ Time/Total                    │ 576.9144897460938      │\n",
       "│ Time/Rollout                  │ 47.78362274169922      │\n",
       "│ Time/Update                   │ 7.776671409606934      │\n",
       "│ Time/Epoch                    │ 55.56029510498047      │\n",
       "│ Time/FPS                      │ 359.96929931640625     │\n",
       "│ Misc/Alpha                    │ 1.0983153581619263     │\n",
       "│ Misc/FinalStepNorm            │ 0.249980166554451      │\n",
       "│ Misc/gradient_norm            │ 0.12245307117700577    │\n",
       "│ Misc/xHx                      │ 0.016579661518335342   │\n",
       "│ Misc/H_inv_g                  │ 0.2276032716035843     │\n",
       "│ Misc/AcceptanceStep           │ 1.0                    │\n",
       "└───────────────────────────────┴────────────────────────┘\n"
      ]
     },
     "metadata": {},
     "output_type": "display_data"
    },
    {
     "data": {
      "text/html": [
       "<pre style=\"white-space:pre;overflow-x:auto;line-height:normal;font-family:Menlo,'DejaVu Sans Mono',consolas,'Courier New',monospace\"><span style=\"color: #008000; text-decoration-color: #008000\">Warning: trajectory cut off when rollout by epoch at </span><span style=\"color: #008080; text-decoration-color: #008080; font-weight: bold\">1000.0</span><span style=\"color: #008000; text-decoration-color: #008000\"> steps.</span>\n",
       "</pre>\n"
      ],
      "text/plain": [
       "\u001b[32mWarning: trajectory cut off when rollout by epoch at \u001b[0m\u001b[1;36m1000.0\u001b[0m\u001b[32m steps.\u001b[0m\n"
      ]
     },
     "metadata": {},
     "output_type": "display_data"
    },
    {
     "data": {
      "text/html": [
       "<pre style=\"white-space:pre;overflow-x:auto;line-height:normal;font-family:Menlo,'DejaVu Sans Mono',consolas,'Courier New',monospace\"><span style=\"color: #008000; text-decoration-color: #008000\">Warning: trajectory cut off when rollout by epoch at </span><span style=\"color: #008080; text-decoration-color: #008080; font-weight: bold\">1000.0</span><span style=\"color: #008000; text-decoration-color: #008000\"> steps.</span>\n",
       "</pre>\n"
      ],
      "text/plain": [
       "\u001b[32mWarning: trajectory cut off when rollout by epoch at \u001b[0m\u001b[1;36m1000.0\u001b[0m\u001b[32m steps.\u001b[0m\n"
      ]
     },
     "metadata": {},
     "output_type": "display_data"
    },
    {
     "data": {
      "text/html": [
       "<pre style=\"white-space:pre;overflow-x:auto;line-height:normal;font-family:Menlo,'DejaVu Sans Mono',consolas,'Courier New',monospace\"><span style=\"color: #008000; text-decoration-color: #008000\">Warning: trajectory cut off when rollout by epoch at </span><span style=\"color: #008080; text-decoration-color: #008080; font-weight: bold\">1000.0</span><span style=\"color: #008000; text-decoration-color: #008000\"> steps.</span>\n",
       "</pre>\n"
      ],
      "text/plain": [
       "\u001b[32mWarning: trajectory cut off when rollout by epoch at \u001b[0m\u001b[1;36m1000.0\u001b[0m\u001b[32m steps.\u001b[0m\n"
      ]
     },
     "metadata": {},
     "output_type": "display_data"
    },
    {
     "data": {
      "text/html": [
       "<pre style=\"white-space:pre;overflow-x:auto;line-height:normal;font-family:Menlo,'DejaVu Sans Mono',consolas,'Courier New',monospace\"><span style=\"color: #008000; text-decoration-color: #008000\">Warning: trajectory cut off when rollout by epoch at </span><span style=\"color: #008080; text-decoration-color: #008080; font-weight: bold\">1000.0</span><span style=\"color: #008000; text-decoration-color: #008000\"> steps.</span>\n",
       "</pre>\n"
      ],
      "text/plain": [
       "\u001b[32mWarning: trajectory cut off when rollout by epoch at \u001b[0m\u001b[1;36m1000.0\u001b[0m\u001b[32m steps.\u001b[0m\n"
      ]
     },
     "metadata": {},
     "output_type": "display_data"
    },
    {
     "data": {
      "text/html": [
       "<pre style=\"white-space:pre;overflow-x:auto;line-height:normal;font-family:Menlo,'DejaVu Sans Mono',consolas,'Courier New',monospace\"></pre>\n"
      ],
      "text/plain": []
     },
     "metadata": {},
     "output_type": "display_data"
    },
    {
     "data": {
      "text/html": [
       "<pre style=\"white-space:pre;overflow-x:auto;line-height:normal;font-family:Menlo,'DejaVu Sans Mono',consolas,'Courier New',monospace\">\n",
       "</pre>\n"
      ],
      "text/plain": [
       "\n"
      ]
     },
     "metadata": {},
     "output_type": "display_data"
    },
    {
     "data": {
      "text/html": [
       "<pre style=\"white-space:pre;overflow-x:auto;line-height:normal;font-family:Menlo,'DejaVu Sans Mono',consolas,'Courier New',monospace\"><span style=\"color: #008000; text-decoration-color: #008000\">Expected Improvement: </span><span style=\"color: #008080; text-decoration-color: #008080; font-weight: bold\">0.017945466563105583</span><span style=\"color: #008000; text-decoration-color: #008000\"> Actual: </span><span style=\"color: #008080; text-decoration-color: #008080; font-weight: bold\">0.017093762755393982</span>\n",
       "</pre>\n"
      ],
      "text/plain": [
       "\u001b[32mExpected Improvement: \u001b[0m\u001b[1;36m0.017945466563105583\u001b[0m\u001b[32m Actual: \u001b[0m\u001b[1;36m0.017093762755393982\u001b[0m\n"
      ]
     },
     "metadata": {},
     "output_type": "display_data"
    },
    {
     "data": {
      "text/html": [
       "<pre style=\"white-space:pre;overflow-x:auto;line-height:normal;font-family:Menlo,'DejaVu Sans Mono',consolas,'Courier New',monospace\"><span style=\"color: #008000; text-decoration-color: #008000\">Accept step at </span><span style=\"color: #808000; text-decoration-color: #808000\">i</span><span style=\"color: #008000; text-decoration-color: #008000\">=</span><span style=\"color: #008080; text-decoration-color: #008080; font-weight: bold\">1</span>\n",
       "</pre>\n"
      ],
      "text/plain": [
       "\u001b[32mAccept step at \u001b[0m\u001b[33mi\u001b[0m\u001b[32m=\u001b[0m\u001b[1;36m1\u001b[0m\n"
      ]
     },
     "metadata": {},
     "output_type": "display_data"
    },
    {
     "data": {
      "text/html": [
       "<pre style=\"white-space:pre;overflow-x:auto;line-height:normal;font-family:Menlo,'DejaVu Sans Mono',consolas,'Courier New',monospace\">┏━━━━━━━━━━━━━━━━━━━━━━━━━━━━━━━┳━━━━━━━━━━━━━━━━━━━━━━━━┓\n",
       "┃<span style=\"font-weight: bold\"> Metrics                       </span>┃<span style=\"font-weight: bold\"> Value                  </span>┃\n",
       "┡━━━━━━━━━━━━━━━━━━━━━━━━━━━━━━━╇━━━━━━━━━━━━━━━━━━━━━━━━┩\n",
       "│ Metrics/EpRet                 │ 19.82425308227539      │\n",
       "│ Metrics/EpCost                │ 60.86000061035156      │\n",
       "│ Metrics/EpLen                 │ 1000.0                 │\n",
       "│ Train/Epoch                   │ 11.0                   │\n",
       "│ Train/Entropy                 │ 1.2230782508850098     │\n",
       "│ Train/KL                      │ 0.00039879741962067783 │\n",
       "│ Train/StopIter                │ 10.0                   │\n",
       "│ Train/PolicyRatio/Mean        │ 0.9998617172241211     │\n",
       "│ Train/PolicyRatio/Min         │ 0.9998617172241211     │\n",
       "│ Train/PolicyRatio/Max         │ 0.9998617172241211     │\n",
       "│ Train/PolicyRatio/Std         │ 9.77806921582669e-05   │\n",
       "│ Train/LR                      │ 0.0                    │\n",
       "│ Train/PolicyStd               │ 0.8266132473945618     │\n",
       "│ TotalEnvSteps                 │ 240000.0               │\n",
       "│ Loss/Loss_pi                  │ -0.011395972222089767  │\n",
       "│ Loss/Loss_pi/Delta            │ 0.0007266039028763771  │\n",
       "│ Value/Adv                     │ 1.2969969986897922e-07 │\n",
       "│ Loss/Loss_reward_critic       │ 0.018022719770669937   │\n",
       "│ Loss/Loss_reward_critic/Delta │ 0.0005232095718383789  │\n",
       "│ Value/reward                  │ 1.0822484493255615     │\n",
       "│ Time/Total                    │ 631.8873291015625      │\n",
       "│ Time/Rollout                  │ 47.31844711303711      │\n",
       "│ Time/Update                   │ 7.61612606048584       │\n",
       "│ Time/Epoch                    │ 54.934574127197266     │\n",
       "│ Time/FPS                      │ 364.0694580078125      │\n",
       "│ Misc/Alpha                    │ 1.1156716346740723     │\n",
       "│ Misc/FinalStepNorm            │ 0.2542608380317688     │\n",
       "│ Misc/gradient_norm            │ 0.14218685030937195    │\n",
       "│ Misc/xHx                      │ 0.01606781780719757    │\n",
       "│ Misc/H_inv_g                  │ 0.22789934277534485    │\n",
       "│ Misc/AcceptanceStep           │ 1.0                    │\n",
       "└───────────────────────────────┴────────────────────────┘\n",
       "</pre>\n"
      ],
      "text/plain": [
       "┏━━━━━━━━━━━━━━━━━━━━━━━━━━━━━━━┳━━━━━━━━━━━━━━━━━━━━━━━━┓\n",
       "┃\u001b[1m \u001b[0m\u001b[1mMetrics                      \u001b[0m\u001b[1m \u001b[0m┃\u001b[1m \u001b[0m\u001b[1mValue                 \u001b[0m\u001b[1m \u001b[0m┃\n",
       "┡━━━━━━━━━━━━━━━━━━━━━━━━━━━━━━━╇━━━━━━━━━━━━━━━━━━━━━━━━┩\n",
       "│ Metrics/EpRet                 │ 19.82425308227539      │\n",
       "│ Metrics/EpCost                │ 60.86000061035156      │\n",
       "│ Metrics/EpLen                 │ 1000.0                 │\n",
       "│ Train/Epoch                   │ 11.0                   │\n",
       "│ Train/Entropy                 │ 1.2230782508850098     │\n",
       "│ Train/KL                      │ 0.00039879741962067783 │\n",
       "│ Train/StopIter                │ 10.0                   │\n",
       "│ Train/PolicyRatio/Mean        │ 0.9998617172241211     │\n",
       "│ Train/PolicyRatio/Min         │ 0.9998617172241211     │\n",
       "│ Train/PolicyRatio/Max         │ 0.9998617172241211     │\n",
       "│ Train/PolicyRatio/Std         │ 9.77806921582669e-05   │\n",
       "│ Train/LR                      │ 0.0                    │\n",
       "│ Train/PolicyStd               │ 0.8266132473945618     │\n",
       "│ TotalEnvSteps                 │ 240000.0               │\n",
       "│ Loss/Loss_pi                  │ -0.011395972222089767  │\n",
       "│ Loss/Loss_pi/Delta            │ 0.0007266039028763771  │\n",
       "│ Value/Adv                     │ 1.2969969986897922e-07 │\n",
       "│ Loss/Loss_reward_critic       │ 0.018022719770669937   │\n",
       "│ Loss/Loss_reward_critic/Delta │ 0.0005232095718383789  │\n",
       "│ Value/reward                  │ 1.0822484493255615     │\n",
       "│ Time/Total                    │ 631.8873291015625      │\n",
       "│ Time/Rollout                  │ 47.31844711303711      │\n",
       "│ Time/Update                   │ 7.61612606048584       │\n",
       "│ Time/Epoch                    │ 54.934574127197266     │\n",
       "│ Time/FPS                      │ 364.0694580078125      │\n",
       "│ Misc/Alpha                    │ 1.1156716346740723     │\n",
       "│ Misc/FinalStepNorm            │ 0.2542608380317688     │\n",
       "│ Misc/gradient_norm            │ 0.14218685030937195    │\n",
       "│ Misc/xHx                      │ 0.01606781780719757    │\n",
       "│ Misc/H_inv_g                  │ 0.22789934277534485    │\n",
       "│ Misc/AcceptanceStep           │ 1.0                    │\n",
       "└───────────────────────────────┴────────────────────────┘\n"
      ]
     },
     "metadata": {},
     "output_type": "display_data"
    },
    {
     "data": {
      "text/html": [
       "<pre style=\"white-space:pre;overflow-x:auto;line-height:normal;font-family:Menlo,'DejaVu Sans Mono',consolas,'Courier New',monospace\"><span style=\"color: #008000; text-decoration-color: #008000\">Warning: trajectory cut off when rollout by epoch at </span><span style=\"color: #008080; text-decoration-color: #008080; font-weight: bold\">1000.0</span><span style=\"color: #008000; text-decoration-color: #008000\"> steps.</span>\n",
       "</pre>\n"
      ],
      "text/plain": [
       "\u001b[32mWarning: trajectory cut off when rollout by epoch at \u001b[0m\u001b[1;36m1000.0\u001b[0m\u001b[32m steps.\u001b[0m\n"
      ]
     },
     "metadata": {},
     "output_type": "display_data"
    },
    {
     "data": {
      "text/html": [
       "<pre style=\"white-space:pre;overflow-x:auto;line-height:normal;font-family:Menlo,'DejaVu Sans Mono',consolas,'Courier New',monospace\"><span style=\"color: #008000; text-decoration-color: #008000\">Warning: trajectory cut off when rollout by epoch at </span><span style=\"color: #008080; text-decoration-color: #008080; font-weight: bold\">1000.0</span><span style=\"color: #008000; text-decoration-color: #008000\"> steps.</span>\n",
       "</pre>\n"
      ],
      "text/plain": [
       "\u001b[32mWarning: trajectory cut off when rollout by epoch at \u001b[0m\u001b[1;36m1000.0\u001b[0m\u001b[32m steps.\u001b[0m\n"
      ]
     },
     "metadata": {},
     "output_type": "display_data"
    },
    {
     "data": {
      "text/html": [
       "<pre style=\"white-space:pre;overflow-x:auto;line-height:normal;font-family:Menlo,'DejaVu Sans Mono',consolas,'Courier New',monospace\"><span style=\"color: #008000; text-decoration-color: #008000\">Warning: trajectory cut off when rollout by epoch at </span><span style=\"color: #008080; text-decoration-color: #008080; font-weight: bold\">1000.0</span><span style=\"color: #008000; text-decoration-color: #008000\"> steps.</span>\n",
       "</pre>\n"
      ],
      "text/plain": [
       "\u001b[32mWarning: trajectory cut off when rollout by epoch at \u001b[0m\u001b[1;36m1000.0\u001b[0m\u001b[32m steps.\u001b[0m\n"
      ]
     },
     "metadata": {},
     "output_type": "display_data"
    },
    {
     "data": {
      "text/html": [
       "<pre style=\"white-space:pre;overflow-x:auto;line-height:normal;font-family:Menlo,'DejaVu Sans Mono',consolas,'Courier New',monospace\"><span style=\"color: #008000; text-decoration-color: #008000\">Warning: trajectory cut off when rollout by epoch at </span><span style=\"color: #008080; text-decoration-color: #008080; font-weight: bold\">1000.0</span><span style=\"color: #008000; text-decoration-color: #008000\"> steps.</span>\n",
       "</pre>\n"
      ],
      "text/plain": [
       "\u001b[32mWarning: trajectory cut off when rollout by epoch at \u001b[0m\u001b[1;36m1000.0\u001b[0m\u001b[32m steps.\u001b[0m\n"
      ]
     },
     "metadata": {},
     "output_type": "display_data"
    },
    {
     "data": {
      "text/html": [
       "<pre style=\"white-space:pre;overflow-x:auto;line-height:normal;font-family:Menlo,'DejaVu Sans Mono',consolas,'Courier New',monospace\"></pre>\n"
      ],
      "text/plain": []
     },
     "metadata": {},
     "output_type": "display_data"
    },
    {
     "data": {
      "text/html": [
       "<pre style=\"white-space:pre;overflow-x:auto;line-height:normal;font-family:Menlo,'DejaVu Sans Mono',consolas,'Courier New',monospace\">\n",
       "</pre>\n"
      ],
      "text/plain": [
       "\n"
      ]
     },
     "metadata": {},
     "output_type": "display_data"
    },
    {
     "data": {
      "text/html": [
       "<pre style=\"white-space:pre;overflow-x:auto;line-height:normal;font-family:Menlo,'DejaVu Sans Mono',consolas,'Courier New',monospace\"><span style=\"color: #008000; text-decoration-color: #008000\">Expected Improvement: </span><span style=\"color: #008080; text-decoration-color: #008080; font-weight: bold\">0.018161986023187637</span><span style=\"color: #008000; text-decoration-color: #008000\"> Actual: </span><span style=\"color: #008080; text-decoration-color: #008080; font-weight: bold\">0.017661450430750847</span>\n",
       "</pre>\n"
      ],
      "text/plain": [
       "\u001b[32mExpected Improvement: \u001b[0m\u001b[1;36m0.018161986023187637\u001b[0m\u001b[32m Actual: \u001b[0m\u001b[1;36m0.017661450430750847\u001b[0m\n"
      ]
     },
     "metadata": {},
     "output_type": "display_data"
    },
    {
     "data": {
      "text/html": [
       "<pre style=\"white-space:pre;overflow-x:auto;line-height:normal;font-family:Menlo,'DejaVu Sans Mono',consolas,'Courier New',monospace\"><span style=\"color: #008000; text-decoration-color: #008000\">Accept step at </span><span style=\"color: #808000; text-decoration-color: #808000\">i</span><span style=\"color: #008000; text-decoration-color: #008000\">=</span><span style=\"color: #008080; text-decoration-color: #008080; font-weight: bold\">1</span>\n",
       "</pre>\n"
      ],
      "text/plain": [
       "\u001b[32mAccept step at \u001b[0m\u001b[33mi\u001b[0m\u001b[32m=\u001b[0m\u001b[1;36m1\u001b[0m\n"
      ]
     },
     "metadata": {},
     "output_type": "display_data"
    },
    {
     "data": {
      "text/html": [
       "<pre style=\"white-space:pre;overflow-x:auto;line-height:normal;font-family:Menlo,'DejaVu Sans Mono',consolas,'Courier New',monospace\">┏━━━━━━━━━━━━━━━━━━━━━━━━━━━━━━━┳━━━━━━━━━━━━━━━━━━━━━━━━━┓\n",
       "┃<span style=\"font-weight: bold\"> Metrics                       </span>┃<span style=\"font-weight: bold\"> Value                   </span>┃\n",
       "┡━━━━━━━━━━━━━━━━━━━━━━━━━━━━━━━╇━━━━━━━━━━━━━━━━━━━━━━━━━┩\n",
       "│ Metrics/EpRet                 │ 20.794178009033203      │\n",
       "│ Metrics/EpCost                │ 62.900001525878906      │\n",
       "│ Metrics/EpLen                 │ 1000.0                  │\n",
       "│ Train/Epoch                   │ 12.0                    │\n",
       "│ Train/Entropy                 │ 1.2024283409118652      │\n",
       "│ Train/KL                      │ 0.00039462896529585123  │\n",
       "│ Train/StopIter                │ 10.0                    │\n",
       "│ Train/PolicyRatio/Mean        │ 0.9983270764350891      │\n",
       "│ Train/PolicyRatio/Min         │ 0.9983271360397339      │\n",
       "│ Train/PolicyRatio/Max         │ 0.9983271360397339      │\n",
       "│ Train/PolicyRatio/Std         │ 0.0011828935239464045   │\n",
       "│ Train/LR                      │ 0.0                     │\n",
       "│ Train/PolicyStd               │ 0.8125826716423035      │\n",
       "│ TotalEnvSteps                 │ 260000.0                │\n",
       "│ Loss/Loss_pi                  │ -0.011774239130318165   │\n",
       "│ Loss/Loss_pi/Delta            │ -0.00037826690822839737 │\n",
       "│ Value/Adv                     │ -6.256103546320446e-08  │\n",
       "│ Loss/Loss_reward_critic       │ 0.01655510812997818     │\n",
       "│ Loss/Loss_reward_critic/Delta │ -0.0014676116406917572  │\n",
       "│ Value/reward                  │ 1.267297625541687       │\n",
       "│ Time/Total                    │ 687.3392333984375       │\n",
       "│ Time/Rollout                  │ 47.96099090576172       │\n",
       "│ Time/Update                   │ 7.453945159912109       │\n",
       "│ Time/Epoch                    │ 55.41493606567383       │\n",
       "│ Time/FPS                      │ 360.91351318359375      │\n",
       "│ Misc/Alpha                    │ 1.1022592782974243      │\n",
       "│ Misc/FinalStepNorm            │ 0.2509816586971283      │\n",
       "│ Misc/gradient_norm            │ 0.1163463220000267      │\n",
       "│ Misc/xHx                      │ 0.01646122708916664     │\n",
       "│ Misc/H_inv_g                  │ 0.227697491645813       │\n",
       "│ Misc/AcceptanceStep           │ 1.0                     │\n",
       "└───────────────────────────────┴─────────────────────────┘\n",
       "</pre>\n"
      ],
      "text/plain": [
       "┏━━━━━━━━━━━━━━━━━━━━━━━━━━━━━━━┳━━━━━━━━━━━━━━━━━━━━━━━━━┓\n",
       "┃\u001b[1m \u001b[0m\u001b[1mMetrics                      \u001b[0m\u001b[1m \u001b[0m┃\u001b[1m \u001b[0m\u001b[1mValue                  \u001b[0m\u001b[1m \u001b[0m┃\n",
       "┡━━━━━━━━━━━━━━━━━━━━━━━━━━━━━━━╇━━━━━━━━━━━━━━━━━━━━━━━━━┩\n",
       "│ Metrics/EpRet                 │ 20.794178009033203      │\n",
       "│ Metrics/EpCost                │ 62.900001525878906      │\n",
       "│ Metrics/EpLen                 │ 1000.0                  │\n",
       "│ Train/Epoch                   │ 12.0                    │\n",
       "│ Train/Entropy                 │ 1.2024283409118652      │\n",
       "│ Train/KL                      │ 0.00039462896529585123  │\n",
       "│ Train/StopIter                │ 10.0                    │\n",
       "│ Train/PolicyRatio/Mean        │ 0.9983270764350891      │\n",
       "│ Train/PolicyRatio/Min         │ 0.9983271360397339      │\n",
       "│ Train/PolicyRatio/Max         │ 0.9983271360397339      │\n",
       "│ Train/PolicyRatio/Std         │ 0.0011828935239464045   │\n",
       "│ Train/LR                      │ 0.0                     │\n",
       "│ Train/PolicyStd               │ 0.8125826716423035      │\n",
       "│ TotalEnvSteps                 │ 260000.0                │\n",
       "│ Loss/Loss_pi                  │ -0.011774239130318165   │\n",
       "│ Loss/Loss_pi/Delta            │ -0.00037826690822839737 │\n",
       "│ Value/Adv                     │ -6.256103546320446e-08  │\n",
       "│ Loss/Loss_reward_critic       │ 0.01655510812997818     │\n",
       "│ Loss/Loss_reward_critic/Delta │ -0.0014676116406917572  │\n",
       "│ Value/reward                  │ 1.267297625541687       │\n",
       "│ Time/Total                    │ 687.3392333984375       │\n",
       "│ Time/Rollout                  │ 47.96099090576172       │\n",
       "│ Time/Update                   │ 7.453945159912109       │\n",
       "│ Time/Epoch                    │ 55.41493606567383       │\n",
       "│ Time/FPS                      │ 360.91351318359375      │\n",
       "│ Misc/Alpha                    │ 1.1022592782974243      │\n",
       "│ Misc/FinalStepNorm            │ 0.2509816586971283      │\n",
       "│ Misc/gradient_norm            │ 0.1163463220000267      │\n",
       "│ Misc/xHx                      │ 0.01646122708916664     │\n",
       "│ Misc/H_inv_g                  │ 0.227697491645813       │\n",
       "│ Misc/AcceptanceStep           │ 1.0                     │\n",
       "└───────────────────────────────┴─────────────────────────┘\n"
      ]
     },
     "metadata": {},
     "output_type": "display_data"
    },
    {
     "data": {
      "text/html": [
       "<pre style=\"white-space:pre;overflow-x:auto;line-height:normal;font-family:Menlo,'DejaVu Sans Mono',consolas,'Courier New',monospace\"><span style=\"color: #008000; text-decoration-color: #008000\">Warning: trajectory cut off when rollout by epoch at </span><span style=\"color: #008080; text-decoration-color: #008080; font-weight: bold\">1000.0</span><span style=\"color: #008000; text-decoration-color: #008000\"> steps.</span>\n",
       "</pre>\n"
      ],
      "text/plain": [
       "\u001b[32mWarning: trajectory cut off when rollout by epoch at \u001b[0m\u001b[1;36m1000.0\u001b[0m\u001b[32m steps.\u001b[0m\n"
      ]
     },
     "metadata": {},
     "output_type": "display_data"
    },
    {
     "data": {
      "text/html": [
       "<pre style=\"white-space:pre;overflow-x:auto;line-height:normal;font-family:Menlo,'DejaVu Sans Mono',consolas,'Courier New',monospace\"><span style=\"color: #008000; text-decoration-color: #008000\">Warning: trajectory cut off when rollout by epoch at </span><span style=\"color: #008080; text-decoration-color: #008080; font-weight: bold\">1000.0</span><span style=\"color: #008000; text-decoration-color: #008000\"> steps.</span>\n",
       "</pre>\n"
      ],
      "text/plain": [
       "\u001b[32mWarning: trajectory cut off when rollout by epoch at \u001b[0m\u001b[1;36m1000.0\u001b[0m\u001b[32m steps.\u001b[0m\n"
      ]
     },
     "metadata": {},
     "output_type": "display_data"
    },
    {
     "data": {
      "text/html": [
       "<pre style=\"white-space:pre;overflow-x:auto;line-height:normal;font-family:Menlo,'DejaVu Sans Mono',consolas,'Courier New',monospace\"><span style=\"color: #008000; text-decoration-color: #008000\">Warning: trajectory cut off when rollout by epoch at </span><span style=\"color: #008080; text-decoration-color: #008080; font-weight: bold\">1000.0</span><span style=\"color: #008000; text-decoration-color: #008000\"> steps.</span>\n",
       "</pre>\n"
      ],
      "text/plain": [
       "\u001b[32mWarning: trajectory cut off when rollout by epoch at \u001b[0m\u001b[1;36m1000.0\u001b[0m\u001b[32m steps.\u001b[0m\n"
      ]
     },
     "metadata": {},
     "output_type": "display_data"
    },
    {
     "data": {
      "text/html": [
       "<pre style=\"white-space:pre;overflow-x:auto;line-height:normal;font-family:Menlo,'DejaVu Sans Mono',consolas,'Courier New',monospace\"><span style=\"color: #008000; text-decoration-color: #008000\">Warning: trajectory cut off when rollout by epoch at </span><span style=\"color: #008080; text-decoration-color: #008080; font-weight: bold\">1000.0</span><span style=\"color: #008000; text-decoration-color: #008000\"> steps.</span>\n",
       "</pre>\n"
      ],
      "text/plain": [
       "\u001b[32mWarning: trajectory cut off when rollout by epoch at \u001b[0m\u001b[1;36m1000.0\u001b[0m\u001b[32m steps.\u001b[0m\n"
      ]
     },
     "metadata": {},
     "output_type": "display_data"
    },
    {
     "data": {
      "text/html": [
       "<pre style=\"white-space:pre;overflow-x:auto;line-height:normal;font-family:Menlo,'DejaVu Sans Mono',consolas,'Courier New',monospace\"></pre>\n"
      ],
      "text/plain": []
     },
     "metadata": {},
     "output_type": "display_data"
    },
    {
     "data": {
      "text/html": [
       "<pre style=\"white-space:pre;overflow-x:auto;line-height:normal;font-family:Menlo,'DejaVu Sans Mono',consolas,'Courier New',monospace\">\n",
       "</pre>\n"
      ],
      "text/plain": [
       "\n"
      ]
     },
     "metadata": {},
     "output_type": "display_data"
    },
    {
     "data": {
      "text/html": [
       "<pre style=\"white-space:pre;overflow-x:auto;line-height:normal;font-family:Menlo,'DejaVu Sans Mono',consolas,'Courier New',monospace\"><span style=\"color: #008000; text-decoration-color: #008000\">Expected Improvement: </span><span style=\"color: #008080; text-decoration-color: #008080; font-weight: bold\">0.01640627160668373</span><span style=\"color: #008000; text-decoration-color: #008000\"> Actual: </span><span style=\"color: #008080; text-decoration-color: #008080; font-weight: bold\">0.01605689339339733</span>\n",
       "</pre>\n"
      ],
      "text/plain": [
       "\u001b[32mExpected Improvement: \u001b[0m\u001b[1;36m0.01640627160668373\u001b[0m\u001b[32m Actual: \u001b[0m\u001b[1;36m0.01605689339339733\u001b[0m\n"
      ]
     },
     "metadata": {},
     "output_type": "display_data"
    },
    {
     "data": {
      "text/html": [
       "<pre style=\"white-space:pre;overflow-x:auto;line-height:normal;font-family:Menlo,'DejaVu Sans Mono',consolas,'Courier New',monospace\"><span style=\"color: #008000; text-decoration-color: #008000\">Accept step at </span><span style=\"color: #808000; text-decoration-color: #808000\">i</span><span style=\"color: #008000; text-decoration-color: #008000\">=</span><span style=\"color: #008080; text-decoration-color: #008080; font-weight: bold\">1</span>\n",
       "</pre>\n"
      ],
      "text/plain": [
       "\u001b[32mAccept step at \u001b[0m\u001b[33mi\u001b[0m\u001b[32m=\u001b[0m\u001b[1;36m1\u001b[0m\n"
      ]
     },
     "metadata": {},
     "output_type": "display_data"
    },
    {
     "data": {
      "text/html": [
       "<pre style=\"white-space:pre;overflow-x:auto;line-height:normal;font-family:Menlo,'DejaVu Sans Mono',consolas,'Courier New',monospace\">┏━━━━━━━━━━━━━━━━━━━━━━━━━━━━━━━┳━━━━━━━━━━━━━━━━━━━━━━━━┓\n",
       "┃<span style=\"font-weight: bold\"> Metrics                       </span>┃<span style=\"font-weight: bold\"> Value                  </span>┃\n",
       "┡━━━━━━━━━━━━━━━━━━━━━━━━━━━━━━━╇━━━━━━━━━━━━━━━━━━━━━━━━┩\n",
       "│ Metrics/EpRet                 │ 21.83535385131836      │\n",
       "│ Metrics/EpCost                │ 49.619998931884766     │\n",
       "│ Metrics/EpLen                 │ 1000.0                 │\n",
       "│ Train/Epoch                   │ 13.0                   │\n",
       "│ Train/Entropy                 │ 1.1802936792373657     │\n",
       "│ Train/KL                      │ 0.0003748146118596196  │\n",
       "│ Train/StopIter                │ 10.0                   │\n",
       "│ Train/PolicyRatio/Mean        │ 0.9997348785400391     │\n",
       "│ Train/PolicyRatio/Min         │ 0.9997348785400391     │\n",
       "│ Train/PolicyRatio/Max         │ 0.9997348785400391     │\n",
       "│ Train/PolicyRatio/Std         │ 0.00018746918067336082 │\n",
       "│ Train/LR                      │ 0.0                    │\n",
       "│ Train/PolicyStd               │ 0.7965652346611023     │\n",
       "│ TotalEnvSteps                 │ 280000.0               │\n",
       "│ Loss/Loss_pi                  │ -0.010704658925533295  │\n",
       "│ Loss/Loss_pi/Delta            │ 0.0010695802047848701  │\n",
       "│ Value/Adv                     │ 6.561278809158466e-08  │\n",
       "│ Loss/Loss_reward_critic       │ 0.01896442100405693    │\n",
       "│ Loss/Loss_reward_critic/Delta │ 0.0024093128740787506  │\n",
       "│ Value/reward                  │ 1.418673038482666      │\n",
       "│ Time/Total                    │ 742.9591674804688      │\n",
       "│ Time/Rollout                  │ 47.72931671142578      │\n",
       "│ Time/Update                   │ 7.859635829925537      │\n",
       "│ Time/Epoch                    │ 55.588951110839844     │\n",
       "│ Time/FPS                      │ 359.7837219238281      │\n",
       "│ Misc/Alpha                    │ 1.2198737859725952     │\n",
       "│ Misc/FinalStepNorm            │ 0.264701247215271      │\n",
       "│ Misc/gradient_norm            │ 0.14715056121349335    │\n",
       "│ Misc/xHx                      │ 0.013440016657114029   │\n",
       "│ Misc/H_inv_g                  │ 0.21699070930480957    │\n",
       "│ Misc/AcceptanceStep           │ 1.0                    │\n",
       "└───────────────────────────────┴────────────────────────┘\n",
       "</pre>\n"
      ],
      "text/plain": [
       "┏━━━━━━━━━━━━━━━━━━━━━━━━━━━━━━━┳━━━━━━━━━━━━━━━━━━━━━━━━┓\n",
       "┃\u001b[1m \u001b[0m\u001b[1mMetrics                      \u001b[0m\u001b[1m \u001b[0m┃\u001b[1m \u001b[0m\u001b[1mValue                 \u001b[0m\u001b[1m \u001b[0m┃\n",
       "┡━━━━━━━━━━━━━━━━━━━━━━━━━━━━━━━╇━━━━━━━━━━━━━━━━━━━━━━━━┩\n",
       "│ Metrics/EpRet                 │ 21.83535385131836      │\n",
       "│ Metrics/EpCost                │ 49.619998931884766     │\n",
       "│ Metrics/EpLen                 │ 1000.0                 │\n",
       "│ Train/Epoch                   │ 13.0                   │\n",
       "│ Train/Entropy                 │ 1.1802936792373657     │\n",
       "│ Train/KL                      │ 0.0003748146118596196  │\n",
       "│ Train/StopIter                │ 10.0                   │\n",
       "│ Train/PolicyRatio/Mean        │ 0.9997348785400391     │\n",
       "│ Train/PolicyRatio/Min         │ 0.9997348785400391     │\n",
       "│ Train/PolicyRatio/Max         │ 0.9997348785400391     │\n",
       "│ Train/PolicyRatio/Std         │ 0.00018746918067336082 │\n",
       "│ Train/LR                      │ 0.0                    │\n",
       "│ Train/PolicyStd               │ 0.7965652346611023     │\n",
       "│ TotalEnvSteps                 │ 280000.0               │\n",
       "│ Loss/Loss_pi                  │ -0.010704658925533295  │\n",
       "│ Loss/Loss_pi/Delta            │ 0.0010695802047848701  │\n",
       "│ Value/Adv                     │ 6.561278809158466e-08  │\n",
       "│ Loss/Loss_reward_critic       │ 0.01896442100405693    │\n",
       "│ Loss/Loss_reward_critic/Delta │ 0.0024093128740787506  │\n",
       "│ Value/reward                  │ 1.418673038482666      │\n",
       "│ Time/Total                    │ 742.9591674804688      │\n",
       "│ Time/Rollout                  │ 47.72931671142578      │\n",
       "│ Time/Update                   │ 7.859635829925537      │\n",
       "│ Time/Epoch                    │ 55.588951110839844     │\n",
       "│ Time/FPS                      │ 359.7837219238281      │\n",
       "│ Misc/Alpha                    │ 1.2198737859725952     │\n",
       "│ Misc/FinalStepNorm            │ 0.264701247215271      │\n",
       "│ Misc/gradient_norm            │ 0.14715056121349335    │\n",
       "│ Misc/xHx                      │ 0.013440016657114029   │\n",
       "│ Misc/H_inv_g                  │ 0.21699070930480957    │\n",
       "│ Misc/AcceptanceStep           │ 1.0                    │\n",
       "└───────────────────────────────┴────────────────────────┘\n"
      ]
     },
     "metadata": {},
     "output_type": "display_data"
    },
    {
     "data": {
      "text/html": [
       "<pre style=\"white-space:pre;overflow-x:auto;line-height:normal;font-family:Menlo,'DejaVu Sans Mono',consolas,'Courier New',monospace\"><span style=\"color: #008000; text-decoration-color: #008000\">Warning: trajectory cut off when rollout by epoch at </span><span style=\"color: #008080; text-decoration-color: #008080; font-weight: bold\">1000.0</span><span style=\"color: #008000; text-decoration-color: #008000\"> steps.</span>\n",
       "</pre>\n"
      ],
      "text/plain": [
       "\u001b[32mWarning: trajectory cut off when rollout by epoch at \u001b[0m\u001b[1;36m1000.0\u001b[0m\u001b[32m steps.\u001b[0m\n"
      ]
     },
     "metadata": {},
     "output_type": "display_data"
    },
    {
     "data": {
      "text/html": [
       "<pre style=\"white-space:pre;overflow-x:auto;line-height:normal;font-family:Menlo,'DejaVu Sans Mono',consolas,'Courier New',monospace\"><span style=\"color: #008000; text-decoration-color: #008000\">Warning: trajectory cut off when rollout by epoch at </span><span style=\"color: #008080; text-decoration-color: #008080; font-weight: bold\">1000.0</span><span style=\"color: #008000; text-decoration-color: #008000\"> steps.</span>\n",
       "</pre>\n"
      ],
      "text/plain": [
       "\u001b[32mWarning: trajectory cut off when rollout by epoch at \u001b[0m\u001b[1;36m1000.0\u001b[0m\u001b[32m steps.\u001b[0m\n"
      ]
     },
     "metadata": {},
     "output_type": "display_data"
    },
    {
     "data": {
      "text/html": [
       "<pre style=\"white-space:pre;overflow-x:auto;line-height:normal;font-family:Menlo,'DejaVu Sans Mono',consolas,'Courier New',monospace\"><span style=\"color: #008000; text-decoration-color: #008000\">Warning: trajectory cut off when rollout by epoch at </span><span style=\"color: #008080; text-decoration-color: #008080; font-weight: bold\">1000.0</span><span style=\"color: #008000; text-decoration-color: #008000\"> steps.</span>\n",
       "</pre>\n"
      ],
      "text/plain": [
       "\u001b[32mWarning: trajectory cut off when rollout by epoch at \u001b[0m\u001b[1;36m1000.0\u001b[0m\u001b[32m steps.\u001b[0m\n"
      ]
     },
     "metadata": {},
     "output_type": "display_data"
    },
    {
     "data": {
      "text/html": [
       "<pre style=\"white-space:pre;overflow-x:auto;line-height:normal;font-family:Menlo,'DejaVu Sans Mono',consolas,'Courier New',monospace\"><span style=\"color: #008000; text-decoration-color: #008000\">Warning: trajectory cut off when rollout by epoch at </span><span style=\"color: #008080; text-decoration-color: #008080; font-weight: bold\">1000.0</span><span style=\"color: #008000; text-decoration-color: #008000\"> steps.</span>\n",
       "</pre>\n"
      ],
      "text/plain": [
       "\u001b[32mWarning: trajectory cut off when rollout by epoch at \u001b[0m\u001b[1;36m1000.0\u001b[0m\u001b[32m steps.\u001b[0m\n"
      ]
     },
     "metadata": {},
     "output_type": "display_data"
    },
    {
     "data": {
      "text/html": [
       "<pre style=\"white-space:pre;overflow-x:auto;line-height:normal;font-family:Menlo,'DejaVu Sans Mono',consolas,'Courier New',monospace\"></pre>\n"
      ],
      "text/plain": []
     },
     "metadata": {},
     "output_type": "display_data"
    },
    {
     "data": {
      "text/html": [
       "<pre style=\"white-space:pre;overflow-x:auto;line-height:normal;font-family:Menlo,'DejaVu Sans Mono',consolas,'Courier New',monospace\">\n",
       "</pre>\n"
      ],
      "text/plain": [
       "\n"
      ]
     },
     "metadata": {},
     "output_type": "display_data"
    },
    {
     "data": {
      "text/html": [
       "<pre style=\"white-space:pre;overflow-x:auto;line-height:normal;font-family:Menlo,'DejaVu Sans Mono',consolas,'Courier New',monospace\"><span style=\"color: #008000; text-decoration-color: #008000\">Expected Improvement: </span><span style=\"color: #008080; text-decoration-color: #008080; font-weight: bold\">0.01836543343961239</span><span style=\"color: #008000; text-decoration-color: #008000\"> Actual: </span><span style=\"color: #008080; text-decoration-color: #008080; font-weight: bold\">0.017627818509936333</span>\n",
       "</pre>\n"
      ],
      "text/plain": [
       "\u001b[32mExpected Improvement: \u001b[0m\u001b[1;36m0.01836543343961239\u001b[0m\u001b[32m Actual: \u001b[0m\u001b[1;36m0.017627818509936333\u001b[0m\n"
      ]
     },
     "metadata": {},
     "output_type": "display_data"
    },
    {
     "data": {
      "text/html": [
       "<pre style=\"white-space:pre;overflow-x:auto;line-height:normal;font-family:Menlo,'DejaVu Sans Mono',consolas,'Courier New',monospace\"><span style=\"color: #008000; text-decoration-color: #008000\">Accept step at </span><span style=\"color: #808000; text-decoration-color: #808000\">i</span><span style=\"color: #008000; text-decoration-color: #008000\">=</span><span style=\"color: #008080; text-decoration-color: #008080; font-weight: bold\">1</span>\n",
       "</pre>\n"
      ],
      "text/plain": [
       "\u001b[32mAccept step at \u001b[0m\u001b[33mi\u001b[0m\u001b[32m=\u001b[0m\u001b[1;36m1\u001b[0m\n"
      ]
     },
     "metadata": {},
     "output_type": "display_data"
    },
    {
     "data": {
      "text/html": [
       "<pre style=\"white-space:pre;overflow-x:auto;line-height:normal;font-family:Menlo,'DejaVu Sans Mono',consolas,'Courier New',monospace\">┏━━━━━━━━━━━━━━━━━━━━━━━━━━━━━━━┳━━━━━━━━━━━━━━━━━━━━━━━━┓\n",
       "┃<span style=\"font-weight: bold\"> Metrics                       </span>┃<span style=\"font-weight: bold\"> Value                  </span>┃\n",
       "┡━━━━━━━━━━━━━━━━━━━━━━━━━━━━━━━╇━━━━━━━━━━━━━━━━━━━━━━━━┩\n",
       "│ Metrics/EpRet                 │ 22.945423126220703     │\n",
       "│ Metrics/EpCost                │ 45.52000045776367      │\n",
       "│ Metrics/EpLen                 │ 1000.0                 │\n",
       "│ Train/Epoch                   │ 14.0                   │\n",
       "│ Train/Entropy                 │ 1.147494912147522      │\n",
       "│ Train/KL                      │ 0.00039064057637006044 │\n",
       "│ Train/StopIter                │ 10.0                   │\n",
       "│ Train/PolicyRatio/Mean        │ 1.0007972717285156     │\n",
       "│ Train/PolicyRatio/Min         │ 1.0007972717285156     │\n",
       "│ Train/PolicyRatio/Max         │ 1.0007972717285156     │\n",
       "│ Train/PolicyRatio/Std         │ 0.0005637562717311084  │\n",
       "│ Train/LR                      │ 0.0                    │\n",
       "│ Train/PolicyStd               │ 0.7729619145393372     │\n",
       "│ TotalEnvSteps                 │ 300000.0               │\n",
       "│ Loss/Loss_pi                  │ -0.011751927435398102  │\n",
       "│ Loss/Loss_pi/Delta            │ -0.0010472685098648071 │\n",
       "│ Value/Adv                     │ 4.8446654687950286e-08 │\n",
       "│ Loss/Loss_reward_critic       │ 0.016535388305783272   │\n",
       "│ Loss/Loss_reward_critic/Delta │ -0.0024290326982736588 │\n",
       "│ Value/reward                  │ 1.5675337314605713     │\n",
       "│ Time/Total                    │ 798.3926391601562      │\n",
       "│ Time/Rollout                  │ 47.45501708984375      │\n",
       "│ Time/Update                   │ 7.937933921813965      │\n",
       "│ Time/Epoch                    │ 55.39396286010742      │\n",
       "│ Time/FPS                      │ 361.0501708984375      │\n",
       "│ Misc/Alpha                    │ 1.0893548727035522     │\n",
       "│ Misc/FinalStepNorm            │ 0.2606164813041687     │\n",
       "│ Misc/gradient_norm            │ 0.1475607454776764     │\n",
       "│ Misc/xHx                      │ 0.016853533685207367   │\n",
       "│ Misc/H_inv_g                  │ 0.23923929035663605    │\n",
       "│ Misc/AcceptanceStep           │ 1.0                    │\n",
       "└───────────────────────────────┴────────────────────────┘\n",
       "</pre>\n"
      ],
      "text/plain": [
       "┏━━━━━━━━━━━━━━━━━━━━━━━━━━━━━━━┳━━━━━━━━━━━━━━━━━━━━━━━━┓\n",
       "┃\u001b[1m \u001b[0m\u001b[1mMetrics                      \u001b[0m\u001b[1m \u001b[0m┃\u001b[1m \u001b[0m\u001b[1mValue                 \u001b[0m\u001b[1m \u001b[0m┃\n",
       "┡━━━━━━━━━━━━━━━━━━━━━━━━━━━━━━━╇━━━━━━━━━━━━━━━━━━━━━━━━┩\n",
       "│ Metrics/EpRet                 │ 22.945423126220703     │\n",
       "│ Metrics/EpCost                │ 45.52000045776367      │\n",
       "│ Metrics/EpLen                 │ 1000.0                 │\n",
       "│ Train/Epoch                   │ 14.0                   │\n",
       "│ Train/Entropy                 │ 1.147494912147522      │\n",
       "│ Train/KL                      │ 0.00039064057637006044 │\n",
       "│ Train/StopIter                │ 10.0                   │\n",
       "│ Train/PolicyRatio/Mean        │ 1.0007972717285156     │\n",
       "│ Train/PolicyRatio/Min         │ 1.0007972717285156     │\n",
       "│ Train/PolicyRatio/Max         │ 1.0007972717285156     │\n",
       "│ Train/PolicyRatio/Std         │ 0.0005637562717311084  │\n",
       "│ Train/LR                      │ 0.0                    │\n",
       "│ Train/PolicyStd               │ 0.7729619145393372     │\n",
       "│ TotalEnvSteps                 │ 300000.0               │\n",
       "│ Loss/Loss_pi                  │ -0.011751927435398102  │\n",
       "│ Loss/Loss_pi/Delta            │ -0.0010472685098648071 │\n",
       "│ Value/Adv                     │ 4.8446654687950286e-08 │\n",
       "│ Loss/Loss_reward_critic       │ 0.016535388305783272   │\n",
       "│ Loss/Loss_reward_critic/Delta │ -0.0024290326982736588 │\n",
       "│ Value/reward                  │ 1.5675337314605713     │\n",
       "│ Time/Total                    │ 798.3926391601562      │\n",
       "│ Time/Rollout                  │ 47.45501708984375      │\n",
       "│ Time/Update                   │ 7.937933921813965      │\n",
       "│ Time/Epoch                    │ 55.39396286010742      │\n",
       "│ Time/FPS                      │ 361.0501708984375      │\n",
       "│ Misc/Alpha                    │ 1.0893548727035522     │\n",
       "│ Misc/FinalStepNorm            │ 0.2606164813041687     │\n",
       "│ Misc/gradient_norm            │ 0.1475607454776764     │\n",
       "│ Misc/xHx                      │ 0.016853533685207367   │\n",
       "│ Misc/H_inv_g                  │ 0.23923929035663605    │\n",
       "│ Misc/AcceptanceStep           │ 1.0                    │\n",
       "└───────────────────────────────┴────────────────────────┘\n"
      ]
     },
     "metadata": {},
     "output_type": "display_data"
    },
    {
     "data": {
      "text/html": [
       "<pre style=\"white-space:pre;overflow-x:auto;line-height:normal;font-family:Menlo,'DejaVu Sans Mono',consolas,'Courier New',monospace\"><span style=\"color: #008000; text-decoration-color: #008000\">Warning: trajectory cut off when rollout by epoch at </span><span style=\"color: #008080; text-decoration-color: #008080; font-weight: bold\">1000.0</span><span style=\"color: #008000; text-decoration-color: #008000\"> steps.</span>\n",
       "</pre>\n"
      ],
      "text/plain": [
       "\u001b[32mWarning: trajectory cut off when rollout by epoch at \u001b[0m\u001b[1;36m1000.0\u001b[0m\u001b[32m steps.\u001b[0m\n"
      ]
     },
     "metadata": {},
     "output_type": "display_data"
    },
    {
     "data": {
      "text/html": [
       "<pre style=\"white-space:pre;overflow-x:auto;line-height:normal;font-family:Menlo,'DejaVu Sans Mono',consolas,'Courier New',monospace\"><span style=\"color: #008000; text-decoration-color: #008000\">Warning: trajectory cut off when rollout by epoch at </span><span style=\"color: #008080; text-decoration-color: #008080; font-weight: bold\">1000.0</span><span style=\"color: #008000; text-decoration-color: #008000\"> steps.</span>\n",
       "</pre>\n"
      ],
      "text/plain": [
       "\u001b[32mWarning: trajectory cut off when rollout by epoch at \u001b[0m\u001b[1;36m1000.0\u001b[0m\u001b[32m steps.\u001b[0m\n"
      ]
     },
     "metadata": {},
     "output_type": "display_data"
    },
    {
     "data": {
      "text/html": [
       "<pre style=\"white-space:pre;overflow-x:auto;line-height:normal;font-family:Menlo,'DejaVu Sans Mono',consolas,'Courier New',monospace\"><span style=\"color: #008000; text-decoration-color: #008000\">Warning: trajectory cut off when rollout by epoch at </span><span style=\"color: #008080; text-decoration-color: #008080; font-weight: bold\">1000.0</span><span style=\"color: #008000; text-decoration-color: #008000\"> steps.</span>\n",
       "</pre>\n"
      ],
      "text/plain": [
       "\u001b[32mWarning: trajectory cut off when rollout by epoch at \u001b[0m\u001b[1;36m1000.0\u001b[0m\u001b[32m steps.\u001b[0m\n"
      ]
     },
     "metadata": {},
     "output_type": "display_data"
    },
    {
     "data": {
      "text/html": [
       "<pre style=\"white-space:pre;overflow-x:auto;line-height:normal;font-family:Menlo,'DejaVu Sans Mono',consolas,'Courier New',monospace\"><span style=\"color: #008000; text-decoration-color: #008000\">Warning: trajectory cut off when rollout by epoch at </span><span style=\"color: #008080; text-decoration-color: #008080; font-weight: bold\">1000.0</span><span style=\"color: #008000; text-decoration-color: #008000\"> steps.</span>\n",
       "</pre>\n"
      ],
      "text/plain": [
       "\u001b[32mWarning: trajectory cut off when rollout by epoch at \u001b[0m\u001b[1;36m1000.0\u001b[0m\u001b[32m steps.\u001b[0m\n"
      ]
     },
     "metadata": {},
     "output_type": "display_data"
    },
    {
     "data": {
      "text/html": [
       "<pre style=\"white-space:pre;overflow-x:auto;line-height:normal;font-family:Menlo,'DejaVu Sans Mono',consolas,'Courier New',monospace\"></pre>\n"
      ],
      "text/plain": []
     },
     "metadata": {},
     "output_type": "display_data"
    },
    {
     "data": {
      "text/html": [
       "<pre style=\"white-space:pre;overflow-x:auto;line-height:normal;font-family:Menlo,'DejaVu Sans Mono',consolas,'Courier New',monospace\">\n",
       "</pre>\n"
      ],
      "text/plain": [
       "\n"
      ]
     },
     "metadata": {},
     "output_type": "display_data"
    },
    {
     "data": {
      "text/html": [
       "<pre style=\"white-space:pre;overflow-x:auto;line-height:normal;font-family:Menlo,'DejaVu Sans Mono',consolas,'Courier New',monospace\"><span style=\"color: #008000; text-decoration-color: #008000\">Expected Improvement: </span><span style=\"color: #008080; text-decoration-color: #008080; font-weight: bold\">0.01660945825278759</span><span style=\"color: #008000; text-decoration-color: #008000\"> Actual: </span><span style=\"color: #008080; text-decoration-color: #008080; font-weight: bold\">0.016632914543151855</span>\n",
       "</pre>\n"
      ],
      "text/plain": [
       "\u001b[32mExpected Improvement: \u001b[0m\u001b[1;36m0.01660945825278759\u001b[0m\u001b[32m Actual: \u001b[0m\u001b[1;36m0.016632914543151855\u001b[0m\n"
      ]
     },
     "metadata": {},
     "output_type": "display_data"
    },
    {
     "data": {
      "text/html": [
       "<pre style=\"white-space:pre;overflow-x:auto;line-height:normal;font-family:Menlo,'DejaVu Sans Mono',consolas,'Courier New',monospace\"><span style=\"color: #008000; text-decoration-color: #008000\">Accept step at </span><span style=\"color: #808000; text-decoration-color: #808000\">i</span><span style=\"color: #008000; text-decoration-color: #008000\">=</span><span style=\"color: #008080; text-decoration-color: #008080; font-weight: bold\">1</span>\n",
       "</pre>\n"
      ],
      "text/plain": [
       "\u001b[32mAccept step at \u001b[0m\u001b[33mi\u001b[0m\u001b[32m=\u001b[0m\u001b[1;36m1\u001b[0m\n"
      ]
     },
     "metadata": {},
     "output_type": "display_data"
    },
    {
     "data": {
      "text/html": [
       "<pre style=\"white-space:pre;overflow-x:auto;line-height:normal;font-family:Menlo,'DejaVu Sans Mono',consolas,'Courier New',monospace\">┏━━━━━━━━━━━━━━━━━━━━━━━━━━━━━━━┳━━━━━━━━━━━━━━━━━━━━━━━━┓\n",
       "┃<span style=\"font-weight: bold\"> Metrics                       </span>┃<span style=\"font-weight: bold\"> Value                  </span>┃\n",
       "┡━━━━━━━━━━━━━━━━━━━━━━━━━━━━━━━╇━━━━━━━━━━━━━━━━━━━━━━━━┩\n",
       "│ Metrics/EpRet                 │ 23.185829162597656     │\n",
       "│ Metrics/EpCost                │ 49.81999969482422      │\n",
       "│ Metrics/EpLen                 │ 1000.0                 │\n",
       "│ Train/Epoch                   │ 15.0                   │\n",
       "│ Train/Entropy                 │ 1.1184301376342773     │\n",
       "│ Train/KL                      │ 0.0003639677888713777  │\n",
       "│ Train/StopIter                │ 10.0                   │\n",
       "│ Train/PolicyRatio/Mean        │ 0.9994128346443176     │\n",
       "│ Train/PolicyRatio/Min         │ 0.9994128942489624     │\n",
       "│ Train/PolicyRatio/Max         │ 0.9994128942489624     │\n",
       "│ Train/PolicyRatio/Std         │ 0.0004151745233684778  │\n",
       "│ Train/LR                      │ 0.0                    │\n",
       "│ Train/PolicyStd               │ 0.7524309158325195     │\n",
       "│ TotalEnvSteps                 │ 320000.0               │\n",
       "│ Loss/Loss_pi                  │ -0.0110885389149189    │\n",
       "│ Loss/Loss_pi/Delta            │ 0.0006633885204792023  │\n",
       "│ Value/Adv                     │ -7.247924571629483e-08 │\n",
       "│ Loss/Loss_reward_critic       │ 0.017039911821484566   │\n",
       "│ Loss/Loss_reward_critic/Delta │ 0.0005045235157012939  │\n",
       "│ Value/reward                  │ 1.6460374593734741     │\n",
       "│ Time/Total                    │ 852.75048828125        │\n",
       "│ Time/Rollout                  │ 46.66727828979492      │\n",
       "│ Time/Update                   │ 7.652743339538574      │\n",
       "│ Time/Epoch                    │ 54.32001876831055      │\n",
       "│ Time/FPS                      │ 368.1883850097656      │\n",
       "│ Misc/Alpha                    │ 1.2050621509552002     │\n",
       "│ Misc/FinalStepNorm            │ 0.2764899730682373     │\n",
       "│ Misc/gradient_norm            │ 0.11599580943584442    │\n",
       "│ Misc/xHx                      │ 0.01377243734896183    │\n",
       "│ Misc/H_inv_g                  │ 0.22944042086601257    │\n",
       "│ Misc/AcceptanceStep           │ 1.0                    │\n",
       "└───────────────────────────────┴────────────────────────┘\n",
       "</pre>\n"
      ],
      "text/plain": [
       "┏━━━━━━━━━━━━━━━━━━━━━━━━━━━━━━━┳━━━━━━━━━━━━━━━━━━━━━━━━┓\n",
       "┃\u001b[1m \u001b[0m\u001b[1mMetrics                      \u001b[0m\u001b[1m \u001b[0m┃\u001b[1m \u001b[0m\u001b[1mValue                 \u001b[0m\u001b[1m \u001b[0m┃\n",
       "┡━━━━━━━━━━━━━━━━━━━━━━━━━━━━━━━╇━━━━━━━━━━━━━━━━━━━━━━━━┩\n",
       "│ Metrics/EpRet                 │ 23.185829162597656     │\n",
       "│ Metrics/EpCost                │ 49.81999969482422      │\n",
       "│ Metrics/EpLen                 │ 1000.0                 │\n",
       "│ Train/Epoch                   │ 15.0                   │\n",
       "│ Train/Entropy                 │ 1.1184301376342773     │\n",
       "│ Train/KL                      │ 0.0003639677888713777  │\n",
       "│ Train/StopIter                │ 10.0                   │\n",
       "│ Train/PolicyRatio/Mean        │ 0.9994128346443176     │\n",
       "│ Train/PolicyRatio/Min         │ 0.9994128942489624     │\n",
       "│ Train/PolicyRatio/Max         │ 0.9994128942489624     │\n",
       "│ Train/PolicyRatio/Std         │ 0.0004151745233684778  │\n",
       "│ Train/LR                      │ 0.0                    │\n",
       "│ Train/PolicyStd               │ 0.7524309158325195     │\n",
       "│ TotalEnvSteps                 │ 320000.0               │\n",
       "│ Loss/Loss_pi                  │ -0.0110885389149189    │\n",
       "│ Loss/Loss_pi/Delta            │ 0.0006633885204792023  │\n",
       "│ Value/Adv                     │ -7.247924571629483e-08 │\n",
       "│ Loss/Loss_reward_critic       │ 0.017039911821484566   │\n",
       "│ Loss/Loss_reward_critic/Delta │ 0.0005045235157012939  │\n",
       "│ Value/reward                  │ 1.6460374593734741     │\n",
       "│ Time/Total                    │ 852.75048828125        │\n",
       "│ Time/Rollout                  │ 46.66727828979492      │\n",
       "│ Time/Update                   │ 7.652743339538574      │\n",
       "│ Time/Epoch                    │ 54.32001876831055      │\n",
       "│ Time/FPS                      │ 368.1883850097656      │\n",
       "│ Misc/Alpha                    │ 1.2050621509552002     │\n",
       "│ Misc/FinalStepNorm            │ 0.2764899730682373     │\n",
       "│ Misc/gradient_norm            │ 0.11599580943584442    │\n",
       "│ Misc/xHx                      │ 0.01377243734896183    │\n",
       "│ Misc/H_inv_g                  │ 0.22944042086601257    │\n",
       "│ Misc/AcceptanceStep           │ 1.0                    │\n",
       "└───────────────────────────────┴────────────────────────┘\n"
      ]
     },
     "metadata": {},
     "output_type": "display_data"
    },
    {
     "data": {
      "text/html": [
       "<pre style=\"white-space:pre;overflow-x:auto;line-height:normal;font-family:Menlo,'DejaVu Sans Mono',consolas,'Courier New',monospace\"><span style=\"color: #008000; text-decoration-color: #008000\">Warning: trajectory cut off when rollout by epoch at </span><span style=\"color: #008080; text-decoration-color: #008080; font-weight: bold\">1000.0</span><span style=\"color: #008000; text-decoration-color: #008000\"> steps.</span>\n",
       "</pre>\n"
      ],
      "text/plain": [
       "\u001b[32mWarning: trajectory cut off when rollout by epoch at \u001b[0m\u001b[1;36m1000.0\u001b[0m\u001b[32m steps.\u001b[0m\n"
      ]
     },
     "metadata": {},
     "output_type": "display_data"
    },
    {
     "data": {
      "text/html": [
       "<pre style=\"white-space:pre;overflow-x:auto;line-height:normal;font-family:Menlo,'DejaVu Sans Mono',consolas,'Courier New',monospace\"><span style=\"color: #008000; text-decoration-color: #008000\">Warning: trajectory cut off when rollout by epoch at </span><span style=\"color: #008080; text-decoration-color: #008080; font-weight: bold\">1000.0</span><span style=\"color: #008000; text-decoration-color: #008000\"> steps.</span>\n",
       "</pre>\n"
      ],
      "text/plain": [
       "\u001b[32mWarning: trajectory cut off when rollout by epoch at \u001b[0m\u001b[1;36m1000.0\u001b[0m\u001b[32m steps.\u001b[0m\n"
      ]
     },
     "metadata": {},
     "output_type": "display_data"
    },
    {
     "data": {
      "text/html": [
       "<pre style=\"white-space:pre;overflow-x:auto;line-height:normal;font-family:Menlo,'DejaVu Sans Mono',consolas,'Courier New',monospace\"><span style=\"color: #008000; text-decoration-color: #008000\">Warning: trajectory cut off when rollout by epoch at </span><span style=\"color: #008080; text-decoration-color: #008080; font-weight: bold\">1000.0</span><span style=\"color: #008000; text-decoration-color: #008000\"> steps.</span>\n",
       "</pre>\n"
      ],
      "text/plain": [
       "\u001b[32mWarning: trajectory cut off when rollout by epoch at \u001b[0m\u001b[1;36m1000.0\u001b[0m\u001b[32m steps.\u001b[0m\n"
      ]
     },
     "metadata": {},
     "output_type": "display_data"
    },
    {
     "data": {
      "text/html": [
       "<pre style=\"white-space:pre;overflow-x:auto;line-height:normal;font-family:Menlo,'DejaVu Sans Mono',consolas,'Courier New',monospace\"><span style=\"color: #008000; text-decoration-color: #008000\">Warning: trajectory cut off when rollout by epoch at </span><span style=\"color: #008080; text-decoration-color: #008080; font-weight: bold\">1000.0</span><span style=\"color: #008000; text-decoration-color: #008000\"> steps.</span>\n",
       "</pre>\n"
      ],
      "text/plain": [
       "\u001b[32mWarning: trajectory cut off when rollout by epoch at \u001b[0m\u001b[1;36m1000.0\u001b[0m\u001b[32m steps.\u001b[0m\n"
      ]
     },
     "metadata": {},
     "output_type": "display_data"
    },
    {
     "data": {
      "text/html": [
       "<pre style=\"white-space:pre;overflow-x:auto;line-height:normal;font-family:Menlo,'DejaVu Sans Mono',consolas,'Courier New',monospace\"></pre>\n"
      ],
      "text/plain": []
     },
     "metadata": {},
     "output_type": "display_data"
    },
    {
     "data": {
      "text/html": [
       "<pre style=\"white-space:pre;overflow-x:auto;line-height:normal;font-family:Menlo,'DejaVu Sans Mono',consolas,'Courier New',monospace\">\n",
       "</pre>\n"
      ],
      "text/plain": [
       "\n"
      ]
     },
     "metadata": {},
     "output_type": "display_data"
    },
    {
     "data": {
      "text/html": [
       "<pre style=\"white-space:pre;overflow-x:auto;line-height:normal;font-family:Menlo,'DejaVu Sans Mono',consolas,'Courier New',monospace\"><span style=\"color: #008000; text-decoration-color: #008000\">Expected Improvement: </span><span style=\"color: #008080; text-decoration-color: #008080; font-weight: bold\">0.01744052954018116</span><span style=\"color: #008000; text-decoration-color: #008000\"> Actual: </span><span style=\"color: #008080; text-decoration-color: #008080; font-weight: bold\">0.0168430358171463</span>\n",
       "</pre>\n"
      ],
      "text/plain": [
       "\u001b[32mExpected Improvement: \u001b[0m\u001b[1;36m0.01744052954018116\u001b[0m\u001b[32m Actual: \u001b[0m\u001b[1;36m0.0168430358171463\u001b[0m\n"
      ]
     },
     "metadata": {},
     "output_type": "display_data"
    },
    {
     "data": {
      "text/html": [
       "<pre style=\"white-space:pre;overflow-x:auto;line-height:normal;font-family:Menlo,'DejaVu Sans Mono',consolas,'Courier New',monospace\"><span style=\"color: #008000; text-decoration-color: #008000\">Accept step at </span><span style=\"color: #808000; text-decoration-color: #808000\">i</span><span style=\"color: #008000; text-decoration-color: #008000\">=</span><span style=\"color: #008080; text-decoration-color: #008080; font-weight: bold\">1</span>\n",
       "</pre>\n"
      ],
      "text/plain": [
       "\u001b[32mAccept step at \u001b[0m\u001b[33mi\u001b[0m\u001b[32m=\u001b[0m\u001b[1;36m1\u001b[0m\n"
      ]
     },
     "metadata": {},
     "output_type": "display_data"
    },
    {
     "data": {
      "text/html": [
       "<pre style=\"white-space:pre;overflow-x:auto;line-height:normal;font-family:Menlo,'DejaVu Sans Mono',consolas,'Courier New',monospace\">┏━━━━━━━━━━━━━━━━━━━━━━━━━━━━━━━┳━━━━━━━━━━━━━━━━━━━━━━━━━┓\n",
       "┃<span style=\"font-weight: bold\"> Metrics                       </span>┃<span style=\"font-weight: bold\"> Value                   </span>┃\n",
       "┡━━━━━━━━━━━━━━━━━━━━━━━━━━━━━━━╇━━━━━━━━━━━━━━━━━━━━━━━━━┩\n",
       "│ Metrics/EpRet                 │ 23.267126083374023      │\n",
       "│ Metrics/EpCost                │ 59.119998931884766      │\n",
       "│ Metrics/EpLen                 │ 1000.0                  │\n",
       "│ Train/Epoch                   │ 16.0                    │\n",
       "│ Train/Entropy                 │ 1.1023722887039185      │\n",
       "│ Train/KL                      │ 0.0003174229641444981   │\n",
       "│ Train/StopIter                │ 10.0                    │\n",
       "│ Train/PolicyRatio/Mean        │ 0.9979828000068665      │\n",
       "│ Train/PolicyRatio/Min         │ 0.9979828596115112      │\n",
       "│ Train/PolicyRatio/Max         │ 0.9979828596115112      │\n",
       "│ Train/PolicyRatio/Std         │ 0.00142633356153965     │\n",
       "│ Train/LR                      │ 0.0                     │\n",
       "│ Train/PolicyStd               │ 0.741827666759491       │\n",
       "│ TotalEnvSteps                 │ 340000.0                │\n",
       "│ Loss/Loss_pi                  │ -0.011228675954043865   │\n",
       "│ Loss/Loss_pi/Delta            │ -0.00014013703912496567 │\n",
       "│ Value/Adv                     │ -1.678466787780053e-08  │\n",
       "│ Loss/Loss_reward_critic       │ 0.018498888239264488    │\n",
       "│ Loss/Loss_reward_critic/Delta │ 0.0014589764177799225   │\n",
       "│ Value/reward                  │ 1.773299217224121       │\n",
       "│ Time/Total                    │ 908.6182861328125       │\n",
       "│ Time/Rollout                  │ 48.37726974487305       │\n",
       "│ Time/Update                   │ 7.457181930541992       │\n",
       "│ Time/Epoch                    │ 55.834449768066406      │\n",
       "│ Time/FPS                      │ 358.2017822265625       │\n",
       "│ Misc/Alpha                    │ 1.1470941305160522      │\n",
       "│ Misc/FinalStepNorm            │ 0.2974245250225067      │\n",
       "│ Misc/gradient_norm            │ 0.10843703895807266     │\n",
       "│ Misc/xHx                      │ 0.015199580229818821    │\n",
       "│ Misc/H_inv_g                  │ 0.25928518176078796     │\n",
       "│ Misc/AcceptanceStep           │ 1.0                     │\n",
       "└───────────────────────────────┴─────────────────────────┘\n",
       "</pre>\n"
      ],
      "text/plain": [
       "┏━━━━━━━━━━━━━━━━━━━━━━━━━━━━━━━┳━━━━━━━━━━━━━━━━━━━━━━━━━┓\n",
       "┃\u001b[1m \u001b[0m\u001b[1mMetrics                      \u001b[0m\u001b[1m \u001b[0m┃\u001b[1m \u001b[0m\u001b[1mValue                  \u001b[0m\u001b[1m \u001b[0m┃\n",
       "┡━━━━━━━━━━━━━━━━━━━━━━━━━━━━━━━╇━━━━━━━━━━━━━━━━━━━━━━━━━┩\n",
       "│ Metrics/EpRet                 │ 23.267126083374023      │\n",
       "│ Metrics/EpCost                │ 59.119998931884766      │\n",
       "│ Metrics/EpLen                 │ 1000.0                  │\n",
       "│ Train/Epoch                   │ 16.0                    │\n",
       "│ Train/Entropy                 │ 1.1023722887039185      │\n",
       "│ Train/KL                      │ 0.0003174229641444981   │\n",
       "│ Train/StopIter                │ 10.0                    │\n",
       "│ Train/PolicyRatio/Mean        │ 0.9979828000068665      │\n",
       "│ Train/PolicyRatio/Min         │ 0.9979828596115112      │\n",
       "│ Train/PolicyRatio/Max         │ 0.9979828596115112      │\n",
       "│ Train/PolicyRatio/Std         │ 0.00142633356153965     │\n",
       "│ Train/LR                      │ 0.0                     │\n",
       "│ Train/PolicyStd               │ 0.741827666759491       │\n",
       "│ TotalEnvSteps                 │ 340000.0                │\n",
       "│ Loss/Loss_pi                  │ -0.011228675954043865   │\n",
       "│ Loss/Loss_pi/Delta            │ -0.00014013703912496567 │\n",
       "│ Value/Adv                     │ -1.678466787780053e-08  │\n",
       "│ Loss/Loss_reward_critic       │ 0.018498888239264488    │\n",
       "│ Loss/Loss_reward_critic/Delta │ 0.0014589764177799225   │\n",
       "│ Value/reward                  │ 1.773299217224121       │\n",
       "│ Time/Total                    │ 908.6182861328125       │\n",
       "│ Time/Rollout                  │ 48.37726974487305       │\n",
       "│ Time/Update                   │ 7.457181930541992       │\n",
       "│ Time/Epoch                    │ 55.834449768066406      │\n",
       "│ Time/FPS                      │ 358.2017822265625       │\n",
       "│ Misc/Alpha                    │ 1.1470941305160522      │\n",
       "│ Misc/FinalStepNorm            │ 0.2974245250225067      │\n",
       "│ Misc/gradient_norm            │ 0.10843703895807266     │\n",
       "│ Misc/xHx                      │ 0.015199580229818821    │\n",
       "│ Misc/H_inv_g                  │ 0.25928518176078796     │\n",
       "│ Misc/AcceptanceStep           │ 1.0                     │\n",
       "└───────────────────────────────┴─────────────────────────┘\n"
      ]
     },
     "metadata": {},
     "output_type": "display_data"
    },
    {
     "data": {
      "text/html": [
       "<pre style=\"white-space:pre;overflow-x:auto;line-height:normal;font-family:Menlo,'DejaVu Sans Mono',consolas,'Courier New',monospace\"><span style=\"color: #008000; text-decoration-color: #008000\">Warning: trajectory cut off when rollout by epoch at </span><span style=\"color: #008080; text-decoration-color: #008080; font-weight: bold\">1000.0</span><span style=\"color: #008000; text-decoration-color: #008000\"> steps.</span>\n",
       "</pre>\n"
      ],
      "text/plain": [
       "\u001b[32mWarning: trajectory cut off when rollout by epoch at \u001b[0m\u001b[1;36m1000.0\u001b[0m\u001b[32m steps.\u001b[0m\n"
      ]
     },
     "metadata": {},
     "output_type": "display_data"
    },
    {
     "data": {
      "text/html": [
       "<pre style=\"white-space:pre;overflow-x:auto;line-height:normal;font-family:Menlo,'DejaVu Sans Mono',consolas,'Courier New',monospace\"><span style=\"color: #008000; text-decoration-color: #008000\">Warning: trajectory cut off when rollout by epoch at </span><span style=\"color: #008080; text-decoration-color: #008080; font-weight: bold\">1000.0</span><span style=\"color: #008000; text-decoration-color: #008000\"> steps.</span>\n",
       "</pre>\n"
      ],
      "text/plain": [
       "\u001b[32mWarning: trajectory cut off when rollout by epoch at \u001b[0m\u001b[1;36m1000.0\u001b[0m\u001b[32m steps.\u001b[0m\n"
      ]
     },
     "metadata": {},
     "output_type": "display_data"
    },
    {
     "data": {
      "text/html": [
       "<pre style=\"white-space:pre;overflow-x:auto;line-height:normal;font-family:Menlo,'DejaVu Sans Mono',consolas,'Courier New',monospace\"><span style=\"color: #008000; text-decoration-color: #008000\">Warning: trajectory cut off when rollout by epoch at </span><span style=\"color: #008080; text-decoration-color: #008080; font-weight: bold\">1000.0</span><span style=\"color: #008000; text-decoration-color: #008000\"> steps.</span>\n",
       "</pre>\n"
      ],
      "text/plain": [
       "\u001b[32mWarning: trajectory cut off when rollout by epoch at \u001b[0m\u001b[1;36m1000.0\u001b[0m\u001b[32m steps.\u001b[0m\n"
      ]
     },
     "metadata": {},
     "output_type": "display_data"
    },
    {
     "data": {
      "text/html": [
       "<pre style=\"white-space:pre;overflow-x:auto;line-height:normal;font-family:Menlo,'DejaVu Sans Mono',consolas,'Courier New',monospace\"><span style=\"color: #008000; text-decoration-color: #008000\">Warning: trajectory cut off when rollout by epoch at </span><span style=\"color: #008080; text-decoration-color: #008080; font-weight: bold\">1000.0</span><span style=\"color: #008000; text-decoration-color: #008000\"> steps.</span>\n",
       "</pre>\n"
      ],
      "text/plain": [
       "\u001b[32mWarning: trajectory cut off when rollout by epoch at \u001b[0m\u001b[1;36m1000.0\u001b[0m\u001b[32m steps.\u001b[0m\n"
      ]
     },
     "metadata": {},
     "output_type": "display_data"
    },
    {
     "data": {
      "text/html": [
       "<pre style=\"white-space:pre;overflow-x:auto;line-height:normal;font-family:Menlo,'DejaVu Sans Mono',consolas,'Courier New',monospace\"></pre>\n"
      ],
      "text/plain": []
     },
     "metadata": {},
     "output_type": "display_data"
    },
    {
     "data": {
      "text/html": [
       "<pre style=\"white-space:pre;overflow-x:auto;line-height:normal;font-family:Menlo,'DejaVu Sans Mono',consolas,'Courier New',monospace\">\n",
       "</pre>\n"
      ],
      "text/plain": [
       "\n"
      ]
     },
     "metadata": {},
     "output_type": "display_data"
    },
    {
     "data": {
      "text/html": [
       "<pre style=\"white-space:pre;overflow-x:auto;line-height:normal;font-family:Menlo,'DejaVu Sans Mono',consolas,'Courier New',monospace\"><span style=\"color: #008000; text-decoration-color: #008000\">Expected Improvement: </span><span style=\"color: #008080; text-decoration-color: #008080; font-weight: bold\">0.017819594591856003</span><span style=\"color: #008000; text-decoration-color: #008000\"> Actual: </span><span style=\"color: #008080; text-decoration-color: #008080; font-weight: bold\">0.017900696024298668</span>\n",
       "</pre>\n"
      ],
      "text/plain": [
       "\u001b[32mExpected Improvement: \u001b[0m\u001b[1;36m0.017819594591856003\u001b[0m\u001b[32m Actual: \u001b[0m\u001b[1;36m0.017900696024298668\u001b[0m\n"
      ]
     },
     "metadata": {},
     "output_type": "display_data"
    },
    {
     "data": {
      "text/html": [
       "<pre style=\"white-space:pre;overflow-x:auto;line-height:normal;font-family:Menlo,'DejaVu Sans Mono',consolas,'Courier New',monospace\"><span style=\"color: #008000; text-decoration-color: #008000\">Accept step at </span><span style=\"color: #808000; text-decoration-color: #808000\">i</span><span style=\"color: #008000; text-decoration-color: #008000\">=</span><span style=\"color: #008080; text-decoration-color: #008080; font-weight: bold\">1</span>\n",
       "</pre>\n"
      ],
      "text/plain": [
       "\u001b[32mAccept step at \u001b[0m\u001b[33mi\u001b[0m\u001b[32m=\u001b[0m\u001b[1;36m1\u001b[0m\n"
      ]
     },
     "metadata": {},
     "output_type": "display_data"
    },
    {
     "data": {
      "text/html": [
       "<pre style=\"white-space:pre;overflow-x:auto;line-height:normal;font-family:Menlo,'DejaVu Sans Mono',consolas,'Courier New',monospace\">┏━━━━━━━━━━━━━━━━━━━━━━━━━━━━━━━┳━━━━━━━━━━━━━━━━━━━━━━━━┓\n",
       "┃<span style=\"font-weight: bold\"> Metrics                       </span>┃<span style=\"font-weight: bold\"> Value                  </span>┃\n",
       "┡━━━━━━━━━━━━━━━━━━━━━━━━━━━━━━━╇━━━━━━━━━━━━━━━━━━━━━━━━┩\n",
       "│ Metrics/EpRet                 │ 23.393701553344727     │\n",
       "│ Metrics/EpCost                │ 60.7599983215332       │\n",
       "│ Metrics/EpLen                 │ 1000.0                 │\n",
       "│ Train/Epoch                   │ 17.0                   │\n",
       "│ Train/Entropy                 │ 1.0890001058578491     │\n",
       "│ Train/KL                      │ 0.00035535881761461496 │\n",
       "│ Train/StopIter                │ 10.0                   │\n",
       "│ Train/PolicyRatio/Mean        │ 1.0001336336135864     │\n",
       "│ Train/PolicyRatio/Min         │ 1.000133752822876      │\n",
       "│ Train/PolicyRatio/Max         │ 1.000133752822876      │\n",
       "│ Train/PolicyRatio/Std         │ 9.452133963350207e-05  │\n",
       "│ Train/LR                      │ 0.0                    │\n",
       "│ Train/PolicyStd               │ 0.7337899208068848     │\n",
       "│ TotalEnvSteps                 │ 360000.0               │\n",
       "│ Loss/Loss_pi                  │ -0.011933781206607819  │\n",
       "│ Loss/Loss_pi/Delta            │ -0.0007051052525639534 │\n",
       "│ Value/Adv                     │ -1.831054596834747e-08 │\n",
       "│ Loss/Loss_reward_critic       │ 0.019523100927472115   │\n",
       "│ Loss/Loss_reward_critic/Delta │ 0.0010242126882076263  │\n",
       "│ Value/reward                  │ 1.8418484926223755     │\n",
       "│ Time/Total                    │ 963.2374267578125      │\n",
       "│ Time/Rollout                  │ 46.380001068115234     │\n",
       "│ Time/Update                   │ 8.202423095703125      │\n",
       "│ Time/Epoch                    │ 54.58242416381836      │\n",
       "│ Time/FPS                      │ 366.4183044433594      │\n",
       "│ Misc/Alpha                    │ 1.1233500242233276     │\n",
       "│ Misc/FinalStepNorm            │ 0.27793702483177185    │\n",
       "│ Misc/gradient_norm            │ 0.1314394176006317     │\n",
       "│ Misc/xHx                      │ 0.01584891602396965    │\n",
       "│ Misc/H_inv_g                  │ 0.24741800129413605    │\n",
       "│ Misc/AcceptanceStep           │ 1.0                    │\n",
       "└───────────────────────────────┴────────────────────────┘\n",
       "</pre>\n"
      ],
      "text/plain": [
       "┏━━━━━━━━━━━━━━━━━━━━━━━━━━━━━━━┳━━━━━━━━━━━━━━━━━━━━━━━━┓\n",
       "┃\u001b[1m \u001b[0m\u001b[1mMetrics                      \u001b[0m\u001b[1m \u001b[0m┃\u001b[1m \u001b[0m\u001b[1mValue                 \u001b[0m\u001b[1m \u001b[0m┃\n",
       "┡━━━━━━━━━━━━━━━━━━━━━━━━━━━━━━━╇━━━━━━━━━━━━━━━━━━━━━━━━┩\n",
       "│ Metrics/EpRet                 │ 23.393701553344727     │\n",
       "│ Metrics/EpCost                │ 60.7599983215332       │\n",
       "│ Metrics/EpLen                 │ 1000.0                 │\n",
       "│ Train/Epoch                   │ 17.0                   │\n",
       "│ Train/Entropy                 │ 1.0890001058578491     │\n",
       "│ Train/KL                      │ 0.00035535881761461496 │\n",
       "│ Train/StopIter                │ 10.0                   │\n",
       "│ Train/PolicyRatio/Mean        │ 1.0001336336135864     │\n",
       "│ Train/PolicyRatio/Min         │ 1.000133752822876      │\n",
       "│ Train/PolicyRatio/Max         │ 1.000133752822876      │\n",
       "│ Train/PolicyRatio/Std         │ 9.452133963350207e-05  │\n",
       "│ Train/LR                      │ 0.0                    │\n",
       "│ Train/PolicyStd               │ 0.7337899208068848     │\n",
       "│ TotalEnvSteps                 │ 360000.0               │\n",
       "│ Loss/Loss_pi                  │ -0.011933781206607819  │\n",
       "│ Loss/Loss_pi/Delta            │ -0.0007051052525639534 │\n",
       "│ Value/Adv                     │ -1.831054596834747e-08 │\n",
       "│ Loss/Loss_reward_critic       │ 0.019523100927472115   │\n",
       "│ Loss/Loss_reward_critic/Delta │ 0.0010242126882076263  │\n",
       "│ Value/reward                  │ 1.8418484926223755     │\n",
       "│ Time/Total                    │ 963.2374267578125      │\n",
       "│ Time/Rollout                  │ 46.380001068115234     │\n",
       "│ Time/Update                   │ 8.202423095703125      │\n",
       "│ Time/Epoch                    │ 54.58242416381836      │\n",
       "│ Time/FPS                      │ 366.4183044433594      │\n",
       "│ Misc/Alpha                    │ 1.1233500242233276     │\n",
       "│ Misc/FinalStepNorm            │ 0.27793702483177185    │\n",
       "│ Misc/gradient_norm            │ 0.1314394176006317     │\n",
       "│ Misc/xHx                      │ 0.01584891602396965    │\n",
       "│ Misc/H_inv_g                  │ 0.24741800129413605    │\n",
       "│ Misc/AcceptanceStep           │ 1.0                    │\n",
       "└───────────────────────────────┴────────────────────────┘\n"
      ]
     },
     "metadata": {},
     "output_type": "display_data"
    },
    {
     "data": {
      "text/html": [
       "<pre style=\"white-space:pre;overflow-x:auto;line-height:normal;font-family:Menlo,'DejaVu Sans Mono',consolas,'Courier New',monospace\"><span style=\"color: #008000; text-decoration-color: #008000\">Warning: trajectory cut off when rollout by epoch at </span><span style=\"color: #008080; text-decoration-color: #008080; font-weight: bold\">1000.0</span><span style=\"color: #008000; text-decoration-color: #008000\"> steps.</span>\n",
       "</pre>\n"
      ],
      "text/plain": [
       "\u001b[32mWarning: trajectory cut off when rollout by epoch at \u001b[0m\u001b[1;36m1000.0\u001b[0m\u001b[32m steps.\u001b[0m\n"
      ]
     },
     "metadata": {},
     "output_type": "display_data"
    },
    {
     "data": {
      "text/html": [
       "<pre style=\"white-space:pre;overflow-x:auto;line-height:normal;font-family:Menlo,'DejaVu Sans Mono',consolas,'Courier New',monospace\"><span style=\"color: #008000; text-decoration-color: #008000\">Warning: trajectory cut off when rollout by epoch at </span><span style=\"color: #008080; text-decoration-color: #008080; font-weight: bold\">1000.0</span><span style=\"color: #008000; text-decoration-color: #008000\"> steps.</span>\n",
       "</pre>\n"
      ],
      "text/plain": [
       "\u001b[32mWarning: trajectory cut off when rollout by epoch at \u001b[0m\u001b[1;36m1000.0\u001b[0m\u001b[32m steps.\u001b[0m\n"
      ]
     },
     "metadata": {},
     "output_type": "display_data"
    },
    {
     "data": {
      "text/html": [
       "<pre style=\"white-space:pre;overflow-x:auto;line-height:normal;font-family:Menlo,'DejaVu Sans Mono',consolas,'Courier New',monospace\"><span style=\"color: #008000; text-decoration-color: #008000\">Warning: trajectory cut off when rollout by epoch at </span><span style=\"color: #008080; text-decoration-color: #008080; font-weight: bold\">1000.0</span><span style=\"color: #008000; text-decoration-color: #008000\"> steps.</span>\n",
       "</pre>\n"
      ],
      "text/plain": [
       "\u001b[32mWarning: trajectory cut off when rollout by epoch at \u001b[0m\u001b[1;36m1000.0\u001b[0m\u001b[32m steps.\u001b[0m\n"
      ]
     },
     "metadata": {},
     "output_type": "display_data"
    },
    {
     "data": {
      "text/html": [
       "<pre style=\"white-space:pre;overflow-x:auto;line-height:normal;font-family:Menlo,'DejaVu Sans Mono',consolas,'Courier New',monospace\"><span style=\"color: #008000; text-decoration-color: #008000\">Warning: trajectory cut off when rollout by epoch at </span><span style=\"color: #008080; text-decoration-color: #008080; font-weight: bold\">1000.0</span><span style=\"color: #008000; text-decoration-color: #008000\"> steps.</span>\n",
       "</pre>\n"
      ],
      "text/plain": [
       "\u001b[32mWarning: trajectory cut off when rollout by epoch at \u001b[0m\u001b[1;36m1000.0\u001b[0m\u001b[32m steps.\u001b[0m\n"
      ]
     },
     "metadata": {},
     "output_type": "display_data"
    },
    {
     "data": {
      "text/html": [
       "<pre style=\"white-space:pre;overflow-x:auto;line-height:normal;font-family:Menlo,'DejaVu Sans Mono',consolas,'Courier New',monospace\"></pre>\n"
      ],
      "text/plain": []
     },
     "metadata": {},
     "output_type": "display_data"
    },
    {
     "data": {
      "text/html": [
       "<pre style=\"white-space:pre;overflow-x:auto;line-height:normal;font-family:Menlo,'DejaVu Sans Mono',consolas,'Courier New',monospace\">\n",
       "</pre>\n"
      ],
      "text/plain": [
       "\n"
      ]
     },
     "metadata": {},
     "output_type": "display_data"
    },
    {
     "data": {
      "text/html": [
       "<pre style=\"white-space:pre;overflow-x:auto;line-height:normal;font-family:Menlo,'DejaVu Sans Mono',consolas,'Courier New',monospace\"><span style=\"color: #008000; text-decoration-color: #008000\">Expected Improvement: </span><span style=\"color: #008080; text-decoration-color: #008080; font-weight: bold\">0.01439882256090641</span><span style=\"color: #008000; text-decoration-color: #008000\"> Actual: </span><span style=\"color: #008080; text-decoration-color: #008080; font-weight: bold\">0.014222352765500546</span>\n",
       "</pre>\n"
      ],
      "text/plain": [
       "\u001b[32mExpected Improvement: \u001b[0m\u001b[1;36m0.01439882256090641\u001b[0m\u001b[32m Actual: \u001b[0m\u001b[1;36m0.014222352765500546\u001b[0m\n"
      ]
     },
     "metadata": {},
     "output_type": "display_data"
    },
    {
     "data": {
      "text/html": [
       "<pre style=\"white-space:pre;overflow-x:auto;line-height:normal;font-family:Menlo,'DejaVu Sans Mono',consolas,'Courier New',monospace\"><span style=\"color: #008000; text-decoration-color: #008000\">Accept step at </span><span style=\"color: #808000; text-decoration-color: #808000\">i</span><span style=\"color: #008000; text-decoration-color: #008000\">=</span><span style=\"color: #008080; text-decoration-color: #008080; font-weight: bold\">1</span>\n",
       "</pre>\n"
      ],
      "text/plain": [
       "\u001b[32mAccept step at \u001b[0m\u001b[33mi\u001b[0m\u001b[32m=\u001b[0m\u001b[1;36m1\u001b[0m\n"
      ]
     },
     "metadata": {},
     "output_type": "display_data"
    },
    {
     "data": {
      "text/html": [
       "<pre style=\"white-space:pre;overflow-x:auto;line-height:normal;font-family:Menlo,'DejaVu Sans Mono',consolas,'Courier New',monospace\">┏━━━━━━━━━━━━━━━━━━━━━━━━━━━━━━━┳━━━━━━━━━━━━━━━━━━━━━━━━┓\n",
       "┃<span style=\"font-weight: bold\"> Metrics                       </span>┃<span style=\"font-weight: bold\"> Value                  </span>┃\n",
       "┡━━━━━━━━━━━━━━━━━━━━━━━━━━━━━━━╇━━━━━━━━━━━━━━━━━━━━━━━━┩\n",
       "│ Metrics/EpRet                 │ 24.387401580810547     │\n",
       "│ Metrics/EpCost                │ 54.15999984741211      │\n",
       "│ Metrics/EpLen                 │ 1000.0                 │\n",
       "│ Train/Epoch                   │ 18.0                   │\n",
       "│ Train/Entropy                 │ 1.0736002922058105     │\n",
       "│ Train/KL                      │ 0.0002838793152477592  │\n",
       "│ Train/StopIter                │ 10.0                   │\n",
       "│ Train/PolicyRatio/Mean        │ 0.9995258450508118     │\n",
       "│ Train/PolicyRatio/Min         │ 0.9995259046554565     │\n",
       "│ Train/PolicyRatio/Max         │ 0.9995259046554565     │\n",
       "│ Train/PolicyRatio/Std         │ 0.0003352360217832029  │\n",
       "│ Train/LR                      │ 0.0                    │\n",
       "│ Train/PolicyStd               │ 0.7235763669013977     │\n",
       "│ TotalEnvSteps                 │ 380000.0               │\n",
       "│ Loss/Loss_pi                  │ -0.00948150921612978   │\n",
       "│ Loss/Loss_pi/Delta            │ 0.002452271990478039   │\n",
       "│ Value/Adv                     │ -6.1035152043587e-08   │\n",
       "│ Loss/Loss_reward_critic       │ 0.01797632686793804    │\n",
       "│ Loss/Loss_reward_critic/Delta │ -0.0015467740595340729 │\n",
       "│ Value/reward                  │ 1.9690316915512085     │\n",
       "│ Time/Total                    │ 1017.69287109375       │\n",
       "│ Time/Rollout                  │ 46.923133850097656     │\n",
       "│ Time/Update                   │ 7.500309944152832      │\n",
       "│ Time/Epoch                    │ 54.42344665527344      │\n",
       "│ Time/FPS                      │ 367.4886779785156      │\n",
       "│ Misc/Alpha                    │ 1.3914679288864136     │\n",
       "│ Misc/FinalStepNorm            │ 0.3133559823036194     │\n",
       "│ Misc/gradient_norm            │ 0.10154832154512405    │\n",
       "│ Misc/xHx                      │ 0.010329591110348701   │\n",
       "│ Misc/H_inv_g                  │ 0.22519811987876892    │\n",
       "│ Misc/AcceptanceStep           │ 1.0                    │\n",
       "└───────────────────────────────┴────────────────────────┘\n",
       "</pre>\n"
      ],
      "text/plain": [
       "┏━━━━━━━━━━━━━━━━━━━━━━━━━━━━━━━┳━━━━━━━━━━━━━━━━━━━━━━━━┓\n",
       "┃\u001b[1m \u001b[0m\u001b[1mMetrics                      \u001b[0m\u001b[1m \u001b[0m┃\u001b[1m \u001b[0m\u001b[1mValue                 \u001b[0m\u001b[1m \u001b[0m┃\n",
       "┡━━━━━━━━━━━━━━━━━━━━━━━━━━━━━━━╇━━━━━━━━━━━━━━━━━━━━━━━━┩\n",
       "│ Metrics/EpRet                 │ 24.387401580810547     │\n",
       "│ Metrics/EpCost                │ 54.15999984741211      │\n",
       "│ Metrics/EpLen                 │ 1000.0                 │\n",
       "│ Train/Epoch                   │ 18.0                   │\n",
       "│ Train/Entropy                 │ 1.0736002922058105     │\n",
       "│ Train/KL                      │ 0.0002838793152477592  │\n",
       "│ Train/StopIter                │ 10.0                   │\n",
       "│ Train/PolicyRatio/Mean        │ 0.9995258450508118     │\n",
       "│ Train/PolicyRatio/Min         │ 0.9995259046554565     │\n",
       "│ Train/PolicyRatio/Max         │ 0.9995259046554565     │\n",
       "│ Train/PolicyRatio/Std         │ 0.0003352360217832029  │\n",
       "│ Train/LR                      │ 0.0                    │\n",
       "│ Train/PolicyStd               │ 0.7235763669013977     │\n",
       "│ TotalEnvSteps                 │ 380000.0               │\n",
       "│ Loss/Loss_pi                  │ -0.00948150921612978   │\n",
       "│ Loss/Loss_pi/Delta            │ 0.002452271990478039   │\n",
       "│ Value/Adv                     │ -6.1035152043587e-08   │\n",
       "│ Loss/Loss_reward_critic       │ 0.01797632686793804    │\n",
       "│ Loss/Loss_reward_critic/Delta │ -0.0015467740595340729 │\n",
       "│ Value/reward                  │ 1.9690316915512085     │\n",
       "│ Time/Total                    │ 1017.69287109375       │\n",
       "│ Time/Rollout                  │ 46.923133850097656     │\n",
       "│ Time/Update                   │ 7.500309944152832      │\n",
       "│ Time/Epoch                    │ 54.42344665527344      │\n",
       "│ Time/FPS                      │ 367.4886779785156      │\n",
       "│ Misc/Alpha                    │ 1.3914679288864136     │\n",
       "│ Misc/FinalStepNorm            │ 0.3133559823036194     │\n",
       "│ Misc/gradient_norm            │ 0.10154832154512405    │\n",
       "│ Misc/xHx                      │ 0.010329591110348701   │\n",
       "│ Misc/H_inv_g                  │ 0.22519811987876892    │\n",
       "│ Misc/AcceptanceStep           │ 1.0                    │\n",
       "└───────────────────────────────┴────────────────────────┘\n"
      ]
     },
     "metadata": {},
     "output_type": "display_data"
    },
    {
     "data": {
      "text/html": [
       "<pre style=\"white-space:pre;overflow-x:auto;line-height:normal;font-family:Menlo,'DejaVu Sans Mono',consolas,'Courier New',monospace\"><span style=\"color: #008000; text-decoration-color: #008000\">Warning: trajectory cut off when rollout by epoch at </span><span style=\"color: #008080; text-decoration-color: #008080; font-weight: bold\">1000.0</span><span style=\"color: #008000; text-decoration-color: #008000\"> steps.</span>\n",
       "</pre>\n"
      ],
      "text/plain": [
       "\u001b[32mWarning: trajectory cut off when rollout by epoch at \u001b[0m\u001b[1;36m1000.0\u001b[0m\u001b[32m steps.\u001b[0m\n"
      ]
     },
     "metadata": {},
     "output_type": "display_data"
    },
    {
     "data": {
      "text/html": [
       "<pre style=\"white-space:pre;overflow-x:auto;line-height:normal;font-family:Menlo,'DejaVu Sans Mono',consolas,'Courier New',monospace\"><span style=\"color: #008000; text-decoration-color: #008000\">Warning: trajectory cut off when rollout by epoch at </span><span style=\"color: #008080; text-decoration-color: #008080; font-weight: bold\">1000.0</span><span style=\"color: #008000; text-decoration-color: #008000\"> steps.</span>\n",
       "</pre>\n"
      ],
      "text/plain": [
       "\u001b[32mWarning: trajectory cut off when rollout by epoch at \u001b[0m\u001b[1;36m1000.0\u001b[0m\u001b[32m steps.\u001b[0m\n"
      ]
     },
     "metadata": {},
     "output_type": "display_data"
    },
    {
     "data": {
      "text/html": [
       "<pre style=\"white-space:pre;overflow-x:auto;line-height:normal;font-family:Menlo,'DejaVu Sans Mono',consolas,'Courier New',monospace\"><span style=\"color: #008000; text-decoration-color: #008000\">Warning: trajectory cut off when rollout by epoch at </span><span style=\"color: #008080; text-decoration-color: #008080; font-weight: bold\">1000.0</span><span style=\"color: #008000; text-decoration-color: #008000\"> steps.</span>\n",
       "</pre>\n"
      ],
      "text/plain": [
       "\u001b[32mWarning: trajectory cut off when rollout by epoch at \u001b[0m\u001b[1;36m1000.0\u001b[0m\u001b[32m steps.\u001b[0m\n"
      ]
     },
     "metadata": {},
     "output_type": "display_data"
    },
    {
     "data": {
      "text/html": [
       "<pre style=\"white-space:pre;overflow-x:auto;line-height:normal;font-family:Menlo,'DejaVu Sans Mono',consolas,'Courier New',monospace\"><span style=\"color: #008000; text-decoration-color: #008000\">Warning: trajectory cut off when rollout by epoch at </span><span style=\"color: #008080; text-decoration-color: #008080; font-weight: bold\">1000.0</span><span style=\"color: #008000; text-decoration-color: #008000\"> steps.</span>\n",
       "</pre>\n"
      ],
      "text/plain": [
       "\u001b[32mWarning: trajectory cut off when rollout by epoch at \u001b[0m\u001b[1;36m1000.0\u001b[0m\u001b[32m steps.\u001b[0m\n"
      ]
     },
     "metadata": {},
     "output_type": "display_data"
    },
    {
     "data": {
      "text/html": [
       "<pre style=\"white-space:pre;overflow-x:auto;line-height:normal;font-family:Menlo,'DejaVu Sans Mono',consolas,'Courier New',monospace\"></pre>\n"
      ],
      "text/plain": []
     },
     "metadata": {},
     "output_type": "display_data"
    },
    {
     "data": {
      "text/html": [
       "<pre style=\"white-space:pre;overflow-x:auto;line-height:normal;font-family:Menlo,'DejaVu Sans Mono',consolas,'Courier New',monospace\">\n",
       "</pre>\n"
      ],
      "text/plain": [
       "\n"
      ]
     },
     "metadata": {},
     "output_type": "display_data"
    },
    {
     "data": {
      "text/html": [
       "<pre style=\"white-space:pre;overflow-x:auto;line-height:normal;font-family:Menlo,'DejaVu Sans Mono',consolas,'Courier New',monospace\"><span style=\"color: #008000; text-decoration-color: #008000\">Expected Improvement: </span><span style=\"color: #008080; text-decoration-color: #008080; font-weight: bold\">0.014836530201137066</span><span style=\"color: #008000; text-decoration-color: #008000\"> Actual: </span><span style=\"color: #008080; text-decoration-color: #008080; font-weight: bold\">0.014884845353662968</span>\n",
       "</pre>\n"
      ],
      "text/plain": [
       "\u001b[32mExpected Improvement: \u001b[0m\u001b[1;36m0.014836530201137066\u001b[0m\u001b[32m Actual: \u001b[0m\u001b[1;36m0.014884845353662968\u001b[0m\n"
      ]
     },
     "metadata": {},
     "output_type": "display_data"
    },
    {
     "data": {
      "text/html": [
       "<pre style=\"white-space:pre;overflow-x:auto;line-height:normal;font-family:Menlo,'DejaVu Sans Mono',consolas,'Courier New',monospace\"><span style=\"color: #008000; text-decoration-color: #008000\">Accept step at </span><span style=\"color: #808000; text-decoration-color: #808000\">i</span><span style=\"color: #008000; text-decoration-color: #008000\">=</span><span style=\"color: #008080; text-decoration-color: #008080; font-weight: bold\">1</span>\n",
       "</pre>\n"
      ],
      "text/plain": [
       "\u001b[32mAccept step at \u001b[0m\u001b[33mi\u001b[0m\u001b[32m=\u001b[0m\u001b[1;36m1\u001b[0m\n"
      ]
     },
     "metadata": {},
     "output_type": "display_data"
    },
    {
     "data": {
      "text/html": [
       "<pre style=\"white-space:pre;overflow-x:auto;line-height:normal;font-family:Menlo,'DejaVu Sans Mono',consolas,'Courier New',monospace\">┏━━━━━━━━━━━━━━━━━━━━━━━━━━━━━━━┳━━━━━━━━━━━━━━━━━━━━━━━━┓\n",
       "┃<span style=\"font-weight: bold\"> Metrics                       </span>┃<span style=\"font-weight: bold\"> Value                  </span>┃\n",
       "┡━━━━━━━━━━━━━━━━━━━━━━━━━━━━━━━╇━━━━━━━━━━━━━━━━━━━━━━━━┩\n",
       "│ Metrics/EpRet                 │ 24.887269973754883     │\n",
       "│ Metrics/EpCost                │ 51.15999984741211      │\n",
       "│ Metrics/EpLen                 │ 1000.0                 │\n",
       "│ Train/Epoch                   │ 19.0                   │\n",
       "│ Train/Entropy                 │ 1.0676010847091675     │\n",
       "│ Train/KL                      │ 0.00029313427512533963 │\n",
       "│ Train/StopIter                │ 10.0                   │\n",
       "│ Train/PolicyRatio/Mean        │ 1.0005931854248047     │\n",
       "│ Train/PolicyRatio/Min         │ 1.0005931854248047     │\n",
       "│ Train/PolicyRatio/Max         │ 1.0005931854248047     │\n",
       "│ Train/PolicyRatio/Std         │ 0.0004194454231765121  │\n",
       "│ Train/LR                      │ 0.0                    │\n",
       "│ Train/PolicyStd               │ 0.7194564342498779     │\n",
       "│ TotalEnvSteps                 │ 400000.0               │\n",
       "│ Loss/Loss_pi                  │ -0.009923231787979603  │\n",
       "│ Loss/Loss_pi/Delta            │ -0.000441722571849823  │\n",
       "│ Value/Adv                     │ -7.629394338515283e-10 │\n",
       "│ Loss/Loss_reward_critic       │ 0.017282025888562202   │\n",
       "│ Loss/Loss_reward_critic/Delta │ -0.0006943009793758392 │\n",
       "│ Value/reward                  │ 2.078537940979004      │\n",
       "│ Time/Total                    │ 1072.5250244140625     │\n",
       "│ Time/Rollout                  │ 46.86293029785156      │\n",
       "│ Time/Update                   │ 7.9341630935668945     │\n",
       "│ Time/Epoch                    │ 54.797096252441406     │\n",
       "│ Time/FPS                      │ 364.98284912109375     │\n",
       "│ Misc/Alpha                    │ 1.3501458168029785     │\n",
       "│ Misc/FinalStepNorm            │ 0.3049278259277344     │\n",
       "│ Misc/gradient_norm            │ 0.1054813489317894     │\n",
       "│ Misc/xHx                      │ 0.01097155548632145    │\n",
       "│ Misc/H_inv_g                  │ 0.22584807872772217    │\n",
       "│ Misc/AcceptanceStep           │ 1.0                    │\n",
       "└───────────────────────────────┴────────────────────────┘\n",
       "</pre>\n"
      ],
      "text/plain": [
       "┏━━━━━━━━━━━━━━━━━━━━━━━━━━━━━━━┳━━━━━━━━━━━━━━━━━━━━━━━━┓\n",
       "┃\u001b[1m \u001b[0m\u001b[1mMetrics                      \u001b[0m\u001b[1m \u001b[0m┃\u001b[1m \u001b[0m\u001b[1mValue                 \u001b[0m\u001b[1m \u001b[0m┃\n",
       "┡━━━━━━━━━━━━━━━━━━━━━━━━━━━━━━━╇━━━━━━━━━━━━━━━━━━━━━━━━┩\n",
       "│ Metrics/EpRet                 │ 24.887269973754883     │\n",
       "│ Metrics/EpCost                │ 51.15999984741211      │\n",
       "│ Metrics/EpLen                 │ 1000.0                 │\n",
       "│ Train/Epoch                   │ 19.0                   │\n",
       "│ Train/Entropy                 │ 1.0676010847091675     │\n",
       "│ Train/KL                      │ 0.00029313427512533963 │\n",
       "│ Train/StopIter                │ 10.0                   │\n",
       "│ Train/PolicyRatio/Mean        │ 1.0005931854248047     │\n",
       "│ Train/PolicyRatio/Min         │ 1.0005931854248047     │\n",
       "│ Train/PolicyRatio/Max         │ 1.0005931854248047     │\n",
       "│ Train/PolicyRatio/Std         │ 0.0004194454231765121  │\n",
       "│ Train/LR                      │ 0.0                    │\n",
       "│ Train/PolicyStd               │ 0.7194564342498779     │\n",
       "│ TotalEnvSteps                 │ 400000.0               │\n",
       "│ Loss/Loss_pi                  │ -0.009923231787979603  │\n",
       "│ Loss/Loss_pi/Delta            │ -0.000441722571849823  │\n",
       "│ Value/Adv                     │ -7.629394338515283e-10 │\n",
       "│ Loss/Loss_reward_critic       │ 0.017282025888562202   │\n",
       "│ Loss/Loss_reward_critic/Delta │ -0.0006943009793758392 │\n",
       "│ Value/reward                  │ 2.078537940979004      │\n",
       "│ Time/Total                    │ 1072.5250244140625     │\n",
       "│ Time/Rollout                  │ 46.86293029785156      │\n",
       "│ Time/Update                   │ 7.9341630935668945     │\n",
       "│ Time/Epoch                    │ 54.797096252441406     │\n",
       "│ Time/FPS                      │ 364.98284912109375     │\n",
       "│ Misc/Alpha                    │ 1.3501458168029785     │\n",
       "│ Misc/FinalStepNorm            │ 0.3049278259277344     │\n",
       "│ Misc/gradient_norm            │ 0.1054813489317894     │\n",
       "│ Misc/xHx                      │ 0.01097155548632145    │\n",
       "│ Misc/H_inv_g                  │ 0.22584807872772217    │\n",
       "│ Misc/AcceptanceStep           │ 1.0                    │\n",
       "└───────────────────────────────┴────────────────────────┘\n"
      ]
     },
     "metadata": {},
     "output_type": "display_data"
    },
    {
     "data": {
      "text/html": [
       "<pre style=\"white-space:pre;overflow-x:auto;line-height:normal;font-family:Menlo,'DejaVu Sans Mono',consolas,'Courier New',monospace\"><span style=\"color: #008000; text-decoration-color: #008000\">Warning: trajectory cut off when rollout by epoch at </span><span style=\"color: #008080; text-decoration-color: #008080; font-weight: bold\">1000.0</span><span style=\"color: #008000; text-decoration-color: #008000\"> steps.</span>\n",
       "</pre>\n"
      ],
      "text/plain": [
       "\u001b[32mWarning: trajectory cut off when rollout by epoch at \u001b[0m\u001b[1;36m1000.0\u001b[0m\u001b[32m steps.\u001b[0m\n"
      ]
     },
     "metadata": {},
     "output_type": "display_data"
    },
    {
     "data": {
      "text/html": [
       "<pre style=\"white-space:pre;overflow-x:auto;line-height:normal;font-family:Menlo,'DejaVu Sans Mono',consolas,'Courier New',monospace\"><span style=\"color: #008000; text-decoration-color: #008000\">Warning: trajectory cut off when rollout by epoch at </span><span style=\"color: #008080; text-decoration-color: #008080; font-weight: bold\">1000.0</span><span style=\"color: #008000; text-decoration-color: #008000\"> steps.</span>\n",
       "</pre>\n"
      ],
      "text/plain": [
       "\u001b[32mWarning: trajectory cut off when rollout by epoch at \u001b[0m\u001b[1;36m1000.0\u001b[0m\u001b[32m steps.\u001b[0m\n"
      ]
     },
     "metadata": {},
     "output_type": "display_data"
    },
    {
     "data": {
      "text/html": [
       "<pre style=\"white-space:pre;overflow-x:auto;line-height:normal;font-family:Menlo,'DejaVu Sans Mono',consolas,'Courier New',monospace\"><span style=\"color: #008000; text-decoration-color: #008000\">Warning: trajectory cut off when rollout by epoch at </span><span style=\"color: #008080; text-decoration-color: #008080; font-weight: bold\">1000.0</span><span style=\"color: #008000; text-decoration-color: #008000\"> steps.</span>\n",
       "</pre>\n"
      ],
      "text/plain": [
       "\u001b[32mWarning: trajectory cut off when rollout by epoch at \u001b[0m\u001b[1;36m1000.0\u001b[0m\u001b[32m steps.\u001b[0m\n"
      ]
     },
     "metadata": {},
     "output_type": "display_data"
    },
    {
     "data": {
      "text/html": [
       "<pre style=\"white-space:pre;overflow-x:auto;line-height:normal;font-family:Menlo,'DejaVu Sans Mono',consolas,'Courier New',monospace\"><span style=\"color: #008000; text-decoration-color: #008000\">Warning: trajectory cut off when rollout by epoch at </span><span style=\"color: #008080; text-decoration-color: #008080; font-weight: bold\">1000.0</span><span style=\"color: #008000; text-decoration-color: #008000\"> steps.</span>\n",
       "</pre>\n"
      ],
      "text/plain": [
       "\u001b[32mWarning: trajectory cut off when rollout by epoch at \u001b[0m\u001b[1;36m1000.0\u001b[0m\u001b[32m steps.\u001b[0m\n"
      ]
     },
     "metadata": {},
     "output_type": "display_data"
    },
    {
     "data": {
      "text/html": [
       "<pre style=\"white-space:pre;overflow-x:auto;line-height:normal;font-family:Menlo,'DejaVu Sans Mono',consolas,'Courier New',monospace\"></pre>\n"
      ],
      "text/plain": []
     },
     "metadata": {},
     "output_type": "display_data"
    },
    {
     "data": {
      "text/html": [
       "<pre style=\"white-space:pre;overflow-x:auto;line-height:normal;font-family:Menlo,'DejaVu Sans Mono',consolas,'Courier New',monospace\">\n",
       "</pre>\n"
      ],
      "text/plain": [
       "\n"
      ]
     },
     "metadata": {},
     "output_type": "display_data"
    },
    {
     "data": {
      "text/html": [
       "<pre style=\"white-space:pre;overflow-x:auto;line-height:normal;font-family:Menlo,'DejaVu Sans Mono',consolas,'Courier New',monospace\"><span style=\"color: #008000; text-decoration-color: #008000\">Expected Improvement: </span><span style=\"color: #008080; text-decoration-color: #008080; font-weight: bold\">0.01801757887005806</span><span style=\"color: #008000; text-decoration-color: #008000\"> Actual: </span><span style=\"color: #008080; text-decoration-color: #008080; font-weight: bold\">0.018476316705346107</span>\n",
       "</pre>\n"
      ],
      "text/plain": [
       "\u001b[32mExpected Improvement: \u001b[0m\u001b[1;36m0.01801757887005806\u001b[0m\u001b[32m Actual: \u001b[0m\u001b[1;36m0.018476316705346107\u001b[0m\n"
      ]
     },
     "metadata": {},
     "output_type": "display_data"
    },
    {
     "data": {
      "text/html": [
       "<pre style=\"white-space:pre;overflow-x:auto;line-height:normal;font-family:Menlo,'DejaVu Sans Mono',consolas,'Courier New',monospace\"><span style=\"color: #008000; text-decoration-color: #008000\">Accept step at </span><span style=\"color: #808000; text-decoration-color: #808000\">i</span><span style=\"color: #008000; text-decoration-color: #008000\">=</span><span style=\"color: #008080; text-decoration-color: #008080; font-weight: bold\">1</span>\n",
       "</pre>\n"
      ],
      "text/plain": [
       "\u001b[32mAccept step at \u001b[0m\u001b[33mi\u001b[0m\u001b[32m=\u001b[0m\u001b[1;36m1\u001b[0m\n"
      ]
     },
     "metadata": {},
     "output_type": "display_data"
    },
    {
     "data": {
      "text/html": [
       "<pre style=\"white-space:pre;overflow-x:auto;line-height:normal;font-family:Menlo,'DejaVu Sans Mono',consolas,'Courier New',monospace\">┏━━━━━━━━━━━━━━━━━━━━━━━━━━━━━━━┳━━━━━━━━━━━━━━━━━━━━━━━━┓\n",
       "┃<span style=\"font-weight: bold\"> Metrics                       </span>┃<span style=\"font-weight: bold\"> Value                  </span>┃\n",
       "┡━━━━━━━━━━━━━━━━━━━━━━━━━━━━━━━╇━━━━━━━━━━━━━━━━━━━━━━━━┩\n",
       "│ Metrics/EpRet                 │ 24.9381103515625       │\n",
       "│ Metrics/EpCost                │ 46.84000015258789      │\n",
       "│ Metrics/EpLen                 │ 1000.0                 │\n",
       "│ Train/Epoch                   │ 20.0                   │\n",
       "│ Train/Entropy                 │ 1.0598326921463013     │\n",
       "│ Train/KL                      │ 0.00035724262124858797 │\n",
       "│ Train/StopIter                │ 10.0                   │\n",
       "│ Train/PolicyRatio/Mean        │ 0.9984790682792664     │\n",
       "│ Train/PolicyRatio/Min         │ 0.9984790682792664     │\n",
       "│ Train/PolicyRatio/Max         │ 0.9984790682792664     │\n",
       "│ Train/PolicyRatio/Std         │ 0.0010755032999441028  │\n",
       "│ Train/LR                      │ 0.0                    │\n",
       "│ Train/PolicyStd               │ 0.715155303478241      │\n",
       "│ TotalEnvSteps                 │ 420000.0               │\n",
       "│ Loss/Loss_pi                  │ -0.012317542918026447  │\n",
       "│ Loss/Loss_pi/Delta            │ -0.0023943111300468445 │\n",
       "│ Value/Adv                     │ -3.051757735406113e-09 │\n",
       "│ Loss/Loss_reward_critic       │ 0.015581764280796051   │\n",
       "│ Loss/Loss_reward_critic/Delta │ -0.0017002616077661514 │\n",
       "│ Value/reward                  │ 2.106006145477295      │\n",
       "│ Time/Total                    │ 1127.4091796875        │\n",
       "│ Time/Rollout                  │ 47.2347526550293       │\n",
       "│ Time/Update                   │ 7.61649227142334       │\n",
       "│ Time/Epoch                    │ 54.85124206542969      │\n",
       "│ Time/FPS                      │ 364.6225280761719      │\n",
       "│ Misc/Alpha                    │ 1.1109002828598022     │\n",
       "│ Misc/FinalStepNorm            │ 0.27600687742233276    │\n",
       "│ Misc/gradient_norm            │ 0.126103013753891      │\n",
       "│ Misc/xHx                      │ 0.01620613969862461    │\n",
       "│ Misc/H_inv_g                  │ 0.24845333397388458    │\n",
       "│ Misc/AcceptanceStep           │ 1.0                    │\n",
       "└───────────────────────────────┴────────────────────────┘\n",
       "</pre>\n"
      ],
      "text/plain": [
       "┏━━━━━━━━━━━━━━━━━━━━━━━━━━━━━━━┳━━━━━━━━━━━━━━━━━━━━━━━━┓\n",
       "┃\u001b[1m \u001b[0m\u001b[1mMetrics                      \u001b[0m\u001b[1m \u001b[0m┃\u001b[1m \u001b[0m\u001b[1mValue                 \u001b[0m\u001b[1m \u001b[0m┃\n",
       "┡━━━━━━━━━━━━━━━━━━━━━━━━━━━━━━━╇━━━━━━━━━━━━━━━━━━━━━━━━┩\n",
       "│ Metrics/EpRet                 │ 24.9381103515625       │\n",
       "│ Metrics/EpCost                │ 46.84000015258789      │\n",
       "│ Metrics/EpLen                 │ 1000.0                 │\n",
       "│ Train/Epoch                   │ 20.0                   │\n",
       "│ Train/Entropy                 │ 1.0598326921463013     │\n",
       "│ Train/KL                      │ 0.00035724262124858797 │\n",
       "│ Train/StopIter                │ 10.0                   │\n",
       "│ Train/PolicyRatio/Mean        │ 0.9984790682792664     │\n",
       "│ Train/PolicyRatio/Min         │ 0.9984790682792664     │\n",
       "│ Train/PolicyRatio/Max         │ 0.9984790682792664     │\n",
       "│ Train/PolicyRatio/Std         │ 0.0010755032999441028  │\n",
       "│ Train/LR                      │ 0.0                    │\n",
       "│ Train/PolicyStd               │ 0.715155303478241      │\n",
       "│ TotalEnvSteps                 │ 420000.0               │\n",
       "│ Loss/Loss_pi                  │ -0.012317542918026447  │\n",
       "│ Loss/Loss_pi/Delta            │ -0.0023943111300468445 │\n",
       "│ Value/Adv                     │ -3.051757735406113e-09 │\n",
       "│ Loss/Loss_reward_critic       │ 0.015581764280796051   │\n",
       "│ Loss/Loss_reward_critic/Delta │ -0.0017002616077661514 │\n",
       "│ Value/reward                  │ 2.106006145477295      │\n",
       "│ Time/Total                    │ 1127.4091796875        │\n",
       "│ Time/Rollout                  │ 47.2347526550293       │\n",
       "│ Time/Update                   │ 7.61649227142334       │\n",
       "│ Time/Epoch                    │ 54.85124206542969      │\n",
       "│ Time/FPS                      │ 364.6225280761719      │\n",
       "│ Misc/Alpha                    │ 1.1109002828598022     │\n",
       "│ Misc/FinalStepNorm            │ 0.27600687742233276    │\n",
       "│ Misc/gradient_norm            │ 0.126103013753891      │\n",
       "│ Misc/xHx                      │ 0.01620613969862461    │\n",
       "│ Misc/H_inv_g                  │ 0.24845333397388458    │\n",
       "│ Misc/AcceptanceStep           │ 1.0                    │\n",
       "└───────────────────────────────┴────────────────────────┘\n"
      ]
     },
     "metadata": {},
     "output_type": "display_data"
    },
    {
     "data": {
      "text/html": [
       "<pre style=\"white-space:pre;overflow-x:auto;line-height:normal;font-family:Menlo,'DejaVu Sans Mono',consolas,'Courier New',monospace\"><span style=\"color: #008000; text-decoration-color: #008000\">Warning: trajectory cut off when rollout by epoch at </span><span style=\"color: #008080; text-decoration-color: #008080; font-weight: bold\">1000.0</span><span style=\"color: #008000; text-decoration-color: #008000\"> steps.</span>\n",
       "</pre>\n"
      ],
      "text/plain": [
       "\u001b[32mWarning: trajectory cut off when rollout by epoch at \u001b[0m\u001b[1;36m1000.0\u001b[0m\u001b[32m steps.\u001b[0m\n"
      ]
     },
     "metadata": {},
     "output_type": "display_data"
    },
    {
     "data": {
      "text/html": [
       "<pre style=\"white-space:pre;overflow-x:auto;line-height:normal;font-family:Menlo,'DejaVu Sans Mono',consolas,'Courier New',monospace\"><span style=\"color: #008000; text-decoration-color: #008000\">Warning: trajectory cut off when rollout by epoch at </span><span style=\"color: #008080; text-decoration-color: #008080; font-weight: bold\">1000.0</span><span style=\"color: #008000; text-decoration-color: #008000\"> steps.</span>\n",
       "</pre>\n"
      ],
      "text/plain": [
       "\u001b[32mWarning: trajectory cut off when rollout by epoch at \u001b[0m\u001b[1;36m1000.0\u001b[0m\u001b[32m steps.\u001b[0m\n"
      ]
     },
     "metadata": {},
     "output_type": "display_data"
    },
    {
     "data": {
      "text/html": [
       "<pre style=\"white-space:pre;overflow-x:auto;line-height:normal;font-family:Menlo,'DejaVu Sans Mono',consolas,'Courier New',monospace\"><span style=\"color: #008000; text-decoration-color: #008000\">Warning: trajectory cut off when rollout by epoch at </span><span style=\"color: #008080; text-decoration-color: #008080; font-weight: bold\">1000.0</span><span style=\"color: #008000; text-decoration-color: #008000\"> steps.</span>\n",
       "</pre>\n"
      ],
      "text/plain": [
       "\u001b[32mWarning: trajectory cut off when rollout by epoch at \u001b[0m\u001b[1;36m1000.0\u001b[0m\u001b[32m steps.\u001b[0m\n"
      ]
     },
     "metadata": {},
     "output_type": "display_data"
    },
    {
     "data": {
      "text/html": [
       "<pre style=\"white-space:pre;overflow-x:auto;line-height:normal;font-family:Menlo,'DejaVu Sans Mono',consolas,'Courier New',monospace\"><span style=\"color: #008000; text-decoration-color: #008000\">Warning: trajectory cut off when rollout by epoch at </span><span style=\"color: #008080; text-decoration-color: #008080; font-weight: bold\">1000.0</span><span style=\"color: #008000; text-decoration-color: #008000\"> steps.</span>\n",
       "</pre>\n"
      ],
      "text/plain": [
       "\u001b[32mWarning: trajectory cut off when rollout by epoch at \u001b[0m\u001b[1;36m1000.0\u001b[0m\u001b[32m steps.\u001b[0m\n"
      ]
     },
     "metadata": {},
     "output_type": "display_data"
    },
    {
     "data": {
      "text/html": [
       "<pre style=\"white-space:pre;overflow-x:auto;line-height:normal;font-family:Menlo,'DejaVu Sans Mono',consolas,'Courier New',monospace\"></pre>\n"
      ],
      "text/plain": []
     },
     "metadata": {},
     "output_type": "display_data"
    },
    {
     "data": {
      "text/html": [
       "<pre style=\"white-space:pre;overflow-x:auto;line-height:normal;font-family:Menlo,'DejaVu Sans Mono',consolas,'Courier New',monospace\">\n",
       "</pre>\n"
      ],
      "text/plain": [
       "\n"
      ]
     },
     "metadata": {},
     "output_type": "display_data"
    },
    {
     "data": {
      "text/html": [
       "<pre style=\"white-space:pre;overflow-x:auto;line-height:normal;font-family:Menlo,'DejaVu Sans Mono',consolas,'Courier New',monospace\"><span style=\"color: #008000; text-decoration-color: #008000\">Expected Improvement: </span><span style=\"color: #008080; text-decoration-color: #008080; font-weight: bold\">0.01690324768424034</span><span style=\"color: #008000; text-decoration-color: #008000\"> Actual: </span><span style=\"color: #008080; text-decoration-color: #008080; font-weight: bold\">0.016795532777905464</span>\n",
       "</pre>\n"
      ],
      "text/plain": [
       "\u001b[32mExpected Improvement: \u001b[0m\u001b[1;36m0.01690324768424034\u001b[0m\u001b[32m Actual: \u001b[0m\u001b[1;36m0.016795532777905464\u001b[0m\n"
      ]
     },
     "metadata": {},
     "output_type": "display_data"
    },
    {
     "data": {
      "text/html": [
       "<pre style=\"white-space:pre;overflow-x:auto;line-height:normal;font-family:Menlo,'DejaVu Sans Mono',consolas,'Courier New',monospace\"><span style=\"color: #008000; text-decoration-color: #008000\">Accept step at </span><span style=\"color: #808000; text-decoration-color: #808000\">i</span><span style=\"color: #008000; text-decoration-color: #008000\">=</span><span style=\"color: #008080; text-decoration-color: #008080; font-weight: bold\">1</span>\n",
       "</pre>\n"
      ],
      "text/plain": [
       "\u001b[32mAccept step at \u001b[0m\u001b[33mi\u001b[0m\u001b[32m=\u001b[0m\u001b[1;36m1\u001b[0m\n"
      ]
     },
     "metadata": {},
     "output_type": "display_data"
    },
    {
     "data": {
      "text/html": [
       "<pre style=\"white-space:pre;overflow-x:auto;line-height:normal;font-family:Menlo,'DejaVu Sans Mono',consolas,'Courier New',monospace\">┏━━━━━━━━━━━━━━━━━━━━━━━━━━━━━━━┳━━━━━━━━━━━━━━━━━━━━━━━━┓\n",
       "┃<span style=\"font-weight: bold\"> Metrics                       </span>┃<span style=\"font-weight: bold\"> Value                  </span>┃\n",
       "┡━━━━━━━━━━━━━━━━━━━━━━━━━━━━━━━╇━━━━━━━━━━━━━━━━━━━━━━━━┩\n",
       "│ Metrics/EpRet                 │ 25.050153732299805     │\n",
       "│ Metrics/EpCost                │ 60.459999084472656     │\n",
       "│ Metrics/EpLen                 │ 1000.0                 │\n",
       "│ Train/Epoch                   │ 21.0                   │\n",
       "│ Train/Entropy                 │ 1.0438770055770874     │\n",
       "│ Train/KL                      │ 0.000353996641933918   │\n",
       "│ Train/StopIter                │ 10.0                   │\n",
       "│ Train/PolicyRatio/Mean        │ 0.999065101146698      │\n",
       "│ Train/PolicyRatio/Min         │ 0.999065101146698      │\n",
       "│ Train/PolicyRatio/Max         │ 0.999065101146698      │\n",
       "│ Train/PolicyRatio/Std         │ 0.0006611154531128705  │\n",
       "│ Train/LR                      │ 0.0                    │\n",
       "│ Train/PolicyStd               │ 0.7052122950553894     │\n",
       "│ TotalEnvSteps                 │ 440000.0               │\n",
       "│ Loss/Loss_pi                  │ -0.0111970454454422    │\n",
       "│ Loss/Loss_pi/Delta            │ 0.0011204974725842476  │\n",
       "│ Value/Adv                     │ 2.4414061883248905e-08 │\n",
       "│ Loss/Loss_reward_critic       │ 0.017688997089862823   │\n",
       "│ Loss/Loss_reward_critic/Delta │ 0.0021072328090667725  │\n",
       "│ Value/reward                  │ 2.201514959335327      │\n",
       "│ Time/Total                    │ 1181.7996826171875     │\n",
       "│ Time/Rollout                  │ 46.268402099609375     │\n",
       "│ Time/Update                   │ 8.089092254638672      │\n",
       "│ Time/Epoch                    │ 54.35749435424805      │\n",
       "│ Time/FPS                      │ 367.9345397949219      │\n",
       "│ Misc/Alpha                    │ 1.1833951473236084     │\n",
       "│ Misc/FinalStepNorm            │ 0.27716049551963806    │\n",
       "│ Misc/gradient_norm            │ 0.1619863212108612     │\n",
       "│ Misc/xHx                      │ 0.0142813790589571     │\n",
       "│ Misc/H_inv_g                  │ 0.2342078983783722     │\n",
       "│ Misc/AcceptanceStep           │ 1.0                    │\n",
       "└───────────────────────────────┴────────────────────────┘\n",
       "</pre>\n"
      ],
      "text/plain": [
       "┏━━━━━━━━━━━━━━━━━━━━━━━━━━━━━━━┳━━━━━━━━━━━━━━━━━━━━━━━━┓\n",
       "┃\u001b[1m \u001b[0m\u001b[1mMetrics                      \u001b[0m\u001b[1m \u001b[0m┃\u001b[1m \u001b[0m\u001b[1mValue                 \u001b[0m\u001b[1m \u001b[0m┃\n",
       "┡━━━━━━━━━━━━━━━━━━━━━━━━━━━━━━━╇━━━━━━━━━━━━━━━━━━━━━━━━┩\n",
       "│ Metrics/EpRet                 │ 25.050153732299805     │\n",
       "│ Metrics/EpCost                │ 60.459999084472656     │\n",
       "│ Metrics/EpLen                 │ 1000.0                 │\n",
       "│ Train/Epoch                   │ 21.0                   │\n",
       "│ Train/Entropy                 │ 1.0438770055770874     │\n",
       "│ Train/KL                      │ 0.000353996641933918   │\n",
       "│ Train/StopIter                │ 10.0                   │\n",
       "│ Train/PolicyRatio/Mean        │ 0.999065101146698      │\n",
       "│ Train/PolicyRatio/Min         │ 0.999065101146698      │\n",
       "│ Train/PolicyRatio/Max         │ 0.999065101146698      │\n",
       "│ Train/PolicyRatio/Std         │ 0.0006611154531128705  │\n",
       "│ Train/LR                      │ 0.0                    │\n",
       "│ Train/PolicyStd               │ 0.7052122950553894     │\n",
       "│ TotalEnvSteps                 │ 440000.0               │\n",
       "│ Loss/Loss_pi                  │ -0.0111970454454422    │\n",
       "│ Loss/Loss_pi/Delta            │ 0.0011204974725842476  │\n",
       "│ Value/Adv                     │ 2.4414061883248905e-08 │\n",
       "│ Loss/Loss_reward_critic       │ 0.017688997089862823   │\n",
       "│ Loss/Loss_reward_critic/Delta │ 0.0021072328090667725  │\n",
       "│ Value/reward                  │ 2.201514959335327      │\n",
       "│ Time/Total                    │ 1181.7996826171875     │\n",
       "│ Time/Rollout                  │ 46.268402099609375     │\n",
       "│ Time/Update                   │ 8.089092254638672      │\n",
       "│ Time/Epoch                    │ 54.35749435424805      │\n",
       "│ Time/FPS                      │ 367.9345397949219      │\n",
       "│ Misc/Alpha                    │ 1.1833951473236084     │\n",
       "│ Misc/FinalStepNorm            │ 0.27716049551963806    │\n",
       "│ Misc/gradient_norm            │ 0.1619863212108612     │\n",
       "│ Misc/xHx                      │ 0.0142813790589571     │\n",
       "│ Misc/H_inv_g                  │ 0.2342078983783722     │\n",
       "│ Misc/AcceptanceStep           │ 1.0                    │\n",
       "└───────────────────────────────┴────────────────────────┘\n"
      ]
     },
     "metadata": {},
     "output_type": "display_data"
    },
    {
     "data": {
      "text/html": [
       "<pre style=\"white-space:pre;overflow-x:auto;line-height:normal;font-family:Menlo,'DejaVu Sans Mono',consolas,'Courier New',monospace\"><span style=\"color: #008000; text-decoration-color: #008000\">Warning: trajectory cut off when rollout by epoch at </span><span style=\"color: #008080; text-decoration-color: #008080; font-weight: bold\">1000.0</span><span style=\"color: #008000; text-decoration-color: #008000\"> steps.</span>\n",
       "</pre>\n"
      ],
      "text/plain": [
       "\u001b[32mWarning: trajectory cut off when rollout by epoch at \u001b[0m\u001b[1;36m1000.0\u001b[0m\u001b[32m steps.\u001b[0m\n"
      ]
     },
     "metadata": {},
     "output_type": "display_data"
    },
    {
     "data": {
      "text/html": [
       "<pre style=\"white-space:pre;overflow-x:auto;line-height:normal;font-family:Menlo,'DejaVu Sans Mono',consolas,'Courier New',monospace\"><span style=\"color: #008000; text-decoration-color: #008000\">Warning: trajectory cut off when rollout by epoch at </span><span style=\"color: #008080; text-decoration-color: #008080; font-weight: bold\">1000.0</span><span style=\"color: #008000; text-decoration-color: #008000\"> steps.</span>\n",
       "</pre>\n"
      ],
      "text/plain": [
       "\u001b[32mWarning: trajectory cut off when rollout by epoch at \u001b[0m\u001b[1;36m1000.0\u001b[0m\u001b[32m steps.\u001b[0m\n"
      ]
     },
     "metadata": {},
     "output_type": "display_data"
    },
    {
     "data": {
      "text/html": [
       "<pre style=\"white-space:pre;overflow-x:auto;line-height:normal;font-family:Menlo,'DejaVu Sans Mono',consolas,'Courier New',monospace\"><span style=\"color: #008000; text-decoration-color: #008000\">Warning: trajectory cut off when rollout by epoch at </span><span style=\"color: #008080; text-decoration-color: #008080; font-weight: bold\">1000.0</span><span style=\"color: #008000; text-decoration-color: #008000\"> steps.</span>\n",
       "</pre>\n"
      ],
      "text/plain": [
       "\u001b[32mWarning: trajectory cut off when rollout by epoch at \u001b[0m\u001b[1;36m1000.0\u001b[0m\u001b[32m steps.\u001b[0m\n"
      ]
     },
     "metadata": {},
     "output_type": "display_data"
    },
    {
     "data": {
      "text/html": [
       "<pre style=\"white-space:pre;overflow-x:auto;line-height:normal;font-family:Menlo,'DejaVu Sans Mono',consolas,'Courier New',monospace\"><span style=\"color: #008000; text-decoration-color: #008000\">Warning: trajectory cut off when rollout by epoch at </span><span style=\"color: #008080; text-decoration-color: #008080; font-weight: bold\">1000.0</span><span style=\"color: #008000; text-decoration-color: #008000\"> steps.</span>\n",
       "</pre>\n"
      ],
      "text/plain": [
       "\u001b[32mWarning: trajectory cut off when rollout by epoch at \u001b[0m\u001b[1;36m1000.0\u001b[0m\u001b[32m steps.\u001b[0m\n"
      ]
     },
     "metadata": {},
     "output_type": "display_data"
    },
    {
     "data": {
      "text/html": [
       "<pre style=\"white-space:pre;overflow-x:auto;line-height:normal;font-family:Menlo,'DejaVu Sans Mono',consolas,'Courier New',monospace\"></pre>\n"
      ],
      "text/plain": []
     },
     "metadata": {},
     "output_type": "display_data"
    },
    {
     "data": {
      "text/html": [
       "<pre style=\"white-space:pre;overflow-x:auto;line-height:normal;font-family:Menlo,'DejaVu Sans Mono',consolas,'Courier New',monospace\">\n",
       "</pre>\n"
      ],
      "text/plain": [
       "\n"
      ]
     },
     "metadata": {},
     "output_type": "display_data"
    },
    {
     "data": {
      "text/html": [
       "<pre style=\"white-space:pre;overflow-x:auto;line-height:normal;font-family:Menlo,'DejaVu Sans Mono',consolas,'Courier New',monospace\"><span style=\"color: #008000; text-decoration-color: #008000\">Expected Improvement: </span><span style=\"color: #008080; text-decoration-color: #008080; font-weight: bold\">0.017986081540584564</span><span style=\"color: #008000; text-decoration-color: #008000\"> Actual: </span><span style=\"color: #008080; text-decoration-color: #008080; font-weight: bold\">0.017936311662197113</span>\n",
       "</pre>\n"
      ],
      "text/plain": [
       "\u001b[32mExpected Improvement: \u001b[0m\u001b[1;36m0.017986081540584564\u001b[0m\u001b[32m Actual: \u001b[0m\u001b[1;36m0.017936311662197113\u001b[0m\n"
      ]
     },
     "metadata": {},
     "output_type": "display_data"
    },
    {
     "data": {
      "text/html": [
       "<pre style=\"white-space:pre;overflow-x:auto;line-height:normal;font-family:Menlo,'DejaVu Sans Mono',consolas,'Courier New',monospace\"><span style=\"color: #008000; text-decoration-color: #008000\">Accept step at </span><span style=\"color: #808000; text-decoration-color: #808000\">i</span><span style=\"color: #008000; text-decoration-color: #008000\">=</span><span style=\"color: #008080; text-decoration-color: #008080; font-weight: bold\">1</span>\n",
       "</pre>\n"
      ],
      "text/plain": [
       "\u001b[32mAccept step at \u001b[0m\u001b[33mi\u001b[0m\u001b[32m=\u001b[0m\u001b[1;36m1\u001b[0m\n"
      ]
     },
     "metadata": {},
     "output_type": "display_data"
    },
    {
     "data": {
      "text/html": [
       "<pre style=\"white-space:pre;overflow-x:auto;line-height:normal;font-family:Menlo,'DejaVu Sans Mono',consolas,'Courier New',monospace\">┏━━━━━━━━━━━━━━━━━━━━━━━━━━━━━━━┳━━━━━━━━━━━━━━━━━━━━━━━━┓\n",
       "┃<span style=\"font-weight: bold\"> Metrics                       </span>┃<span style=\"font-weight: bold\"> Value                  </span>┃\n",
       "┡━━━━━━━━━━━━━━━━━━━━━━━━━━━━━━━╇━━━━━━━━━━━━━━━━━━━━━━━━┩\n",
       "│ Metrics/EpRet                 │ 25.05392074584961      │\n",
       "│ Metrics/EpCost                │ 71.80000305175781      │\n",
       "│ Metrics/EpLen                 │ 1000.0                 │\n",
       "│ Train/Epoch                   │ 22.0                   │\n",
       "│ Train/Entropy                 │ 1.0315746068954468     │\n",
       "│ Train/KL                      │ 0.0003310760948807001  │\n",
       "│ Train/StopIter                │ 10.0                   │\n",
       "│ Train/PolicyRatio/Mean        │ 0.9991707801818848     │\n",
       "│ Train/PolicyRatio/Min         │ 0.9991707801818848     │\n",
       "│ Train/PolicyRatio/Max         │ 0.9991707801818848     │\n",
       "│ Train/PolicyRatio/Std         │ 0.0005863750702701509  │\n",
       "│ Train/LR                      │ 0.0                    │\n",
       "│ Train/PolicyStd               │ 0.6975669264793396     │\n",
       "│ TotalEnvSteps                 │ 460000.0               │\n",
       "│ Loss/Loss_pi                  │ -0.01195755135267973   │\n",
       "│ Loss/Loss_pi/Delta            │ -0.0007605059072375298 │\n",
       "│ Value/Adv                     │ 9.155272984173735e-09  │\n",
       "│ Loss/Loss_reward_critic       │ 0.015934765338897705   │\n",
       "│ Loss/Loss_reward_critic/Delta │ -0.0017542317509651184 │\n",
       "│ Value/reward                  │ 2.238863229751587      │\n",
       "│ Time/Total                    │ 1236.734375            │\n",
       "│ Time/Rollout                  │ 47.44161605834961      │\n",
       "│ Time/Update                   │ 7.4192047119140625     │\n",
       "│ Time/Epoch                    │ 54.86082077026367      │\n",
       "│ Time/FPS                      │ 364.55889892578125     │\n",
       "│ Misc/Alpha                    │ 1.112520694732666      │\n",
       "│ Misc/FinalStepNorm            │ 0.2866482436656952     │\n",
       "│ Misc/gradient_norm            │ 0.12575480341911316    │\n",
       "│ Misc/xHx                      │ 0.01615896448493004    │\n",
       "│ Misc/H_inv_g                  │ 0.2576565444469452     │\n",
       "│ Misc/AcceptanceStep           │ 1.0                    │\n",
       "└───────────────────────────────┴────────────────────────┘\n",
       "</pre>\n"
      ],
      "text/plain": [
       "┏━━━━━━━━━━━━━━━━━━━━━━━━━━━━━━━┳━━━━━━━━━━━━━━━━━━━━━━━━┓\n",
       "┃\u001b[1m \u001b[0m\u001b[1mMetrics                      \u001b[0m\u001b[1m \u001b[0m┃\u001b[1m \u001b[0m\u001b[1mValue                 \u001b[0m\u001b[1m \u001b[0m┃\n",
       "┡━━━━━━━━━━━━━━━━━━━━━━━━━━━━━━━╇━━━━━━━━━━━━━━━━━━━━━━━━┩\n",
       "│ Metrics/EpRet                 │ 25.05392074584961      │\n",
       "│ Metrics/EpCost                │ 71.80000305175781      │\n",
       "│ Metrics/EpLen                 │ 1000.0                 │\n",
       "│ Train/Epoch                   │ 22.0                   │\n",
       "│ Train/Entropy                 │ 1.0315746068954468     │\n",
       "│ Train/KL                      │ 0.0003310760948807001  │\n",
       "│ Train/StopIter                │ 10.0                   │\n",
       "│ Train/PolicyRatio/Mean        │ 0.9991707801818848     │\n",
       "│ Train/PolicyRatio/Min         │ 0.9991707801818848     │\n",
       "│ Train/PolicyRatio/Max         │ 0.9991707801818848     │\n",
       "│ Train/PolicyRatio/Std         │ 0.0005863750702701509  │\n",
       "│ Train/LR                      │ 0.0                    │\n",
       "│ Train/PolicyStd               │ 0.6975669264793396     │\n",
       "│ TotalEnvSteps                 │ 460000.0               │\n",
       "│ Loss/Loss_pi                  │ -0.01195755135267973   │\n",
       "│ Loss/Loss_pi/Delta            │ -0.0007605059072375298 │\n",
       "│ Value/Adv                     │ 9.155272984173735e-09  │\n",
       "│ Loss/Loss_reward_critic       │ 0.015934765338897705   │\n",
       "│ Loss/Loss_reward_critic/Delta │ -0.0017542317509651184 │\n",
       "│ Value/reward                  │ 2.238863229751587      │\n",
       "│ Time/Total                    │ 1236.734375            │\n",
       "│ Time/Rollout                  │ 47.44161605834961      │\n",
       "│ Time/Update                   │ 7.4192047119140625     │\n",
       "│ Time/Epoch                    │ 54.86082077026367      │\n",
       "│ Time/FPS                      │ 364.55889892578125     │\n",
       "│ Misc/Alpha                    │ 1.112520694732666      │\n",
       "│ Misc/FinalStepNorm            │ 0.2866482436656952     │\n",
       "│ Misc/gradient_norm            │ 0.12575480341911316    │\n",
       "│ Misc/xHx                      │ 0.01615896448493004    │\n",
       "│ Misc/H_inv_g                  │ 0.2576565444469452     │\n",
       "│ Misc/AcceptanceStep           │ 1.0                    │\n",
       "└───────────────────────────────┴────────────────────────┘\n"
      ]
     },
     "metadata": {},
     "output_type": "display_data"
    },
    {
     "data": {
      "text/html": [
       "<pre style=\"white-space:pre;overflow-x:auto;line-height:normal;font-family:Menlo,'DejaVu Sans Mono',consolas,'Courier New',monospace\"><span style=\"color: #008000; text-decoration-color: #008000\">Warning: trajectory cut off when rollout by epoch at </span><span style=\"color: #008080; text-decoration-color: #008080; font-weight: bold\">1000.0</span><span style=\"color: #008000; text-decoration-color: #008000\"> steps.</span>\n",
       "</pre>\n"
      ],
      "text/plain": [
       "\u001b[32mWarning: trajectory cut off when rollout by epoch at \u001b[0m\u001b[1;36m1000.0\u001b[0m\u001b[32m steps.\u001b[0m\n"
      ]
     },
     "metadata": {},
     "output_type": "display_data"
    },
    {
     "data": {
      "text/html": [
       "<pre style=\"white-space:pre;overflow-x:auto;line-height:normal;font-family:Menlo,'DejaVu Sans Mono',consolas,'Courier New',monospace\"><span style=\"color: #008000; text-decoration-color: #008000\">Warning: trajectory cut off when rollout by epoch at </span><span style=\"color: #008080; text-decoration-color: #008080; font-weight: bold\">1000.0</span><span style=\"color: #008000; text-decoration-color: #008000\"> steps.</span>\n",
       "</pre>\n"
      ],
      "text/plain": [
       "\u001b[32mWarning: trajectory cut off when rollout by epoch at \u001b[0m\u001b[1;36m1000.0\u001b[0m\u001b[32m steps.\u001b[0m\n"
      ]
     },
     "metadata": {},
     "output_type": "display_data"
    },
    {
     "data": {
      "text/html": [
       "<pre style=\"white-space:pre;overflow-x:auto;line-height:normal;font-family:Menlo,'DejaVu Sans Mono',consolas,'Courier New',monospace\"><span style=\"color: #008000; text-decoration-color: #008000\">Warning: trajectory cut off when rollout by epoch at </span><span style=\"color: #008080; text-decoration-color: #008080; font-weight: bold\">1000.0</span><span style=\"color: #008000; text-decoration-color: #008000\"> steps.</span>\n",
       "</pre>\n"
      ],
      "text/plain": [
       "\u001b[32mWarning: trajectory cut off when rollout by epoch at \u001b[0m\u001b[1;36m1000.0\u001b[0m\u001b[32m steps.\u001b[0m\n"
      ]
     },
     "metadata": {},
     "output_type": "display_data"
    },
    {
     "data": {
      "text/html": [
       "<pre style=\"white-space:pre;overflow-x:auto;line-height:normal;font-family:Menlo,'DejaVu Sans Mono',consolas,'Courier New',monospace\"><span style=\"color: #008000; text-decoration-color: #008000\">Warning: trajectory cut off when rollout by epoch at </span><span style=\"color: #008080; text-decoration-color: #008080; font-weight: bold\">1000.0</span><span style=\"color: #008000; text-decoration-color: #008000\"> steps.</span>\n",
       "</pre>\n"
      ],
      "text/plain": [
       "\u001b[32mWarning: trajectory cut off when rollout by epoch at \u001b[0m\u001b[1;36m1000.0\u001b[0m\u001b[32m steps.\u001b[0m\n"
      ]
     },
     "metadata": {},
     "output_type": "display_data"
    },
    {
     "data": {
      "text/html": [
       "<pre style=\"white-space:pre;overflow-x:auto;line-height:normal;font-family:Menlo,'DejaVu Sans Mono',consolas,'Courier New',monospace\"></pre>\n"
      ],
      "text/plain": []
     },
     "metadata": {},
     "output_type": "display_data"
    },
    {
     "data": {
      "text/html": [
       "<pre style=\"white-space:pre;overflow-x:auto;line-height:normal;font-family:Menlo,'DejaVu Sans Mono',consolas,'Courier New',monospace\">\n",
       "</pre>\n"
      ],
      "text/plain": [
       "\n"
      ]
     },
     "metadata": {},
     "output_type": "display_data"
    },
    {
     "data": {
      "text/html": [
       "<pre style=\"white-space:pre;overflow-x:auto;line-height:normal;font-family:Menlo,'DejaVu Sans Mono',consolas,'Courier New',monospace\"><span style=\"color: #008000; text-decoration-color: #008000\">Expected Improvement: </span><span style=\"color: #008080; text-decoration-color: #008080; font-weight: bold\">0.01709762029349804</span><span style=\"color: #008000; text-decoration-color: #008000\"> Actual: </span><span style=\"color: #008080; text-decoration-color: #008080; font-weight: bold\">0.01764087565243244</span>\n",
       "</pre>\n"
      ],
      "text/plain": [
       "\u001b[32mExpected Improvement: \u001b[0m\u001b[1;36m0.01709762029349804\u001b[0m\u001b[32m Actual: \u001b[0m\u001b[1;36m0.01764087565243244\u001b[0m\n"
      ]
     },
     "metadata": {},
     "output_type": "display_data"
    },
    {
     "data": {
      "text/html": [
       "<pre style=\"white-space:pre;overflow-x:auto;line-height:normal;font-family:Menlo,'DejaVu Sans Mono',consolas,'Courier New',monospace\"><span style=\"color: #008000; text-decoration-color: #008000\">Accept step at </span><span style=\"color: #808000; text-decoration-color: #808000\">i</span><span style=\"color: #008000; text-decoration-color: #008000\">=</span><span style=\"color: #008080; text-decoration-color: #008080; font-weight: bold\">1</span>\n",
       "</pre>\n"
      ],
      "text/plain": [
       "\u001b[32mAccept step at \u001b[0m\u001b[33mi\u001b[0m\u001b[32m=\u001b[0m\u001b[1;36m1\u001b[0m\n"
      ]
     },
     "metadata": {},
     "output_type": "display_data"
    },
    {
     "data": {
      "text/html": [
       "<pre style=\"white-space:pre;overflow-x:auto;line-height:normal;font-family:Menlo,'DejaVu Sans Mono',consolas,'Courier New',monospace\">┏━━━━━━━━━━━━━━━━━━━━━━━━━━━━━━━┳━━━━━━━━━━━━━━━━━━━━━━━━┓\n",
       "┃<span style=\"font-weight: bold\"> Metrics                       </span>┃<span style=\"font-weight: bold\"> Value                  </span>┃\n",
       "┡━━━━━━━━━━━━━━━━━━━━━━━━━━━━━━━╇━━━━━━━━━━━━━━━━━━━━━━━━┩\n",
       "│ Metrics/EpRet                 │ 25.727672576904297     │\n",
       "│ Metrics/EpCost                │ 68.81999969482422      │\n",
       "│ Metrics/EpLen                 │ 1000.0                 │\n",
       "│ Train/Epoch                   │ 23.0                   │\n",
       "│ Train/Entropy                 │ 1.0210238695144653     │\n",
       "│ Train/KL                      │ 0.0003311642212793231  │\n",
       "│ Train/StopIter                │ 10.0                   │\n",
       "│ Train/PolicyRatio/Mean        │ 1.001307487487793      │\n",
       "│ Train/PolicyRatio/Min         │ 1.001307487487793      │\n",
       "│ Train/PolicyRatio/Max         │ 1.001307487487793      │\n",
       "│ Train/PolicyRatio/Std         │ 0.0009244771208614111  │\n",
       "│ Train/LR                      │ 0.0                    │\n",
       "│ Train/PolicyStd               │ 0.6917181611061096     │\n",
       "│ TotalEnvSteps                 │ 480000.0               │\n",
       "│ Loss/Loss_pi                  │ -0.011760552413761616  │\n",
       "│ Loss/Loss_pi/Delta            │ 0.0001969989389181137  │\n",
       "│ Value/Adv                     │ -3.204345588869728e-08 │\n",
       "│ Loss/Loss_reward_critic       │ 0.016189241781830788   │\n",
       "│ Loss/Loss_reward_critic/Delta │ 0.0002544764429330826  │\n",
       "│ Value/reward                  │ 2.306717872619629      │\n",
       "│ Time/Total                    │ 1292.845458984375      │\n",
       "│ Time/Rollout                  │ 47.59519577026367      │\n",
       "│ Time/Update                   │ 8.483870506286621      │\n",
       "│ Time/Epoch                    │ 56.079063415527344     │\n",
       "│ Time/FPS                      │ 356.6393127441406      │\n",
       "│ Misc/Alpha                    │ 1.17046058177948       │\n",
       "│ Misc/FinalStepNorm            │ 0.28922900557518005    │\n",
       "│ Misc/gradient_norm            │ 0.1265861839056015     │\n",
       "│ Misc/xHx                      │ 0.014598764479160309   │\n",
       "│ Misc/H_inv_g                  │ 0.24710701406002045    │\n",
       "│ Misc/AcceptanceStep           │ 1.0                    │\n",
       "└───────────────────────────────┴────────────────────────┘\n",
       "</pre>\n"
      ],
      "text/plain": [
       "┏━━━━━━━━━━━━━━━━━━━━━━━━━━━━━━━┳━━━━━━━━━━━━━━━━━━━━━━━━┓\n",
       "┃\u001b[1m \u001b[0m\u001b[1mMetrics                      \u001b[0m\u001b[1m \u001b[0m┃\u001b[1m \u001b[0m\u001b[1mValue                 \u001b[0m\u001b[1m \u001b[0m┃\n",
       "┡━━━━━━━━━━━━━━━━━━━━━━━━━━━━━━━╇━━━━━━━━━━━━━━━━━━━━━━━━┩\n",
       "│ Metrics/EpRet                 │ 25.727672576904297     │\n",
       "│ Metrics/EpCost                │ 68.81999969482422      │\n",
       "│ Metrics/EpLen                 │ 1000.0                 │\n",
       "│ Train/Epoch                   │ 23.0                   │\n",
       "│ Train/Entropy                 │ 1.0210238695144653     │\n",
       "│ Train/KL                      │ 0.0003311642212793231  │\n",
       "│ Train/StopIter                │ 10.0                   │\n",
       "│ Train/PolicyRatio/Mean        │ 1.001307487487793      │\n",
       "│ Train/PolicyRatio/Min         │ 1.001307487487793      │\n",
       "│ Train/PolicyRatio/Max         │ 1.001307487487793      │\n",
       "│ Train/PolicyRatio/Std         │ 0.0009244771208614111  │\n",
       "│ Train/LR                      │ 0.0                    │\n",
       "│ Train/PolicyStd               │ 0.6917181611061096     │\n",
       "│ TotalEnvSteps                 │ 480000.0               │\n",
       "│ Loss/Loss_pi                  │ -0.011760552413761616  │\n",
       "│ Loss/Loss_pi/Delta            │ 0.0001969989389181137  │\n",
       "│ Value/Adv                     │ -3.204345588869728e-08 │\n",
       "│ Loss/Loss_reward_critic       │ 0.016189241781830788   │\n",
       "│ Loss/Loss_reward_critic/Delta │ 0.0002544764429330826  │\n",
       "│ Value/reward                  │ 2.306717872619629      │\n",
       "│ Time/Total                    │ 1292.845458984375      │\n",
       "│ Time/Rollout                  │ 47.59519577026367      │\n",
       "│ Time/Update                   │ 8.483870506286621      │\n",
       "│ Time/Epoch                    │ 56.079063415527344     │\n",
       "│ Time/FPS                      │ 356.6393127441406      │\n",
       "│ Misc/Alpha                    │ 1.17046058177948       │\n",
       "│ Misc/FinalStepNorm            │ 0.28922900557518005    │\n",
       "│ Misc/gradient_norm            │ 0.1265861839056015     │\n",
       "│ Misc/xHx                      │ 0.014598764479160309   │\n",
       "│ Misc/H_inv_g                  │ 0.24710701406002045    │\n",
       "│ Misc/AcceptanceStep           │ 1.0                    │\n",
       "└───────────────────────────────┴────────────────────────┘\n"
      ]
     },
     "metadata": {},
     "output_type": "display_data"
    },
    {
     "data": {
      "text/html": [
       "<pre style=\"white-space:pre;overflow-x:auto;line-height:normal;font-family:Menlo,'DejaVu Sans Mono',consolas,'Courier New',monospace\"><span style=\"color: #008000; text-decoration-color: #008000\">Warning: trajectory cut off when rollout by epoch at </span><span style=\"color: #008080; text-decoration-color: #008080; font-weight: bold\">1000.0</span><span style=\"color: #008000; text-decoration-color: #008000\"> steps.</span>\n",
       "</pre>\n"
      ],
      "text/plain": [
       "\u001b[32mWarning: trajectory cut off when rollout by epoch at \u001b[0m\u001b[1;36m1000.0\u001b[0m\u001b[32m steps.\u001b[0m\n"
      ]
     },
     "metadata": {},
     "output_type": "display_data"
    },
    {
     "data": {
      "text/html": [
       "<pre style=\"white-space:pre;overflow-x:auto;line-height:normal;font-family:Menlo,'DejaVu Sans Mono',consolas,'Courier New',monospace\"><span style=\"color: #008000; text-decoration-color: #008000\">Warning: trajectory cut off when rollout by epoch at </span><span style=\"color: #008080; text-decoration-color: #008080; font-weight: bold\">1000.0</span><span style=\"color: #008000; text-decoration-color: #008000\"> steps.</span>\n",
       "</pre>\n"
      ],
      "text/plain": [
       "\u001b[32mWarning: trajectory cut off when rollout by epoch at \u001b[0m\u001b[1;36m1000.0\u001b[0m\u001b[32m steps.\u001b[0m\n"
      ]
     },
     "metadata": {},
     "output_type": "display_data"
    },
    {
     "data": {
      "text/html": [
       "<pre style=\"white-space:pre;overflow-x:auto;line-height:normal;font-family:Menlo,'DejaVu Sans Mono',consolas,'Courier New',monospace\"><span style=\"color: #008000; text-decoration-color: #008000\">Warning: trajectory cut off when rollout by epoch at </span><span style=\"color: #008080; text-decoration-color: #008080; font-weight: bold\">1000.0</span><span style=\"color: #008000; text-decoration-color: #008000\"> steps.</span>\n",
       "</pre>\n"
      ],
      "text/plain": [
       "\u001b[32mWarning: trajectory cut off when rollout by epoch at \u001b[0m\u001b[1;36m1000.0\u001b[0m\u001b[32m steps.\u001b[0m\n"
      ]
     },
     "metadata": {},
     "output_type": "display_data"
    },
    {
     "data": {
      "text/html": [
       "<pre style=\"white-space:pre;overflow-x:auto;line-height:normal;font-family:Menlo,'DejaVu Sans Mono',consolas,'Courier New',monospace\"><span style=\"color: #008000; text-decoration-color: #008000\">Warning: trajectory cut off when rollout by epoch at </span><span style=\"color: #008080; text-decoration-color: #008080; font-weight: bold\">1000.0</span><span style=\"color: #008000; text-decoration-color: #008000\"> steps.</span>\n",
       "</pre>\n"
      ],
      "text/plain": [
       "\u001b[32mWarning: trajectory cut off when rollout by epoch at \u001b[0m\u001b[1;36m1000.0\u001b[0m\u001b[32m steps.\u001b[0m\n"
      ]
     },
     "metadata": {},
     "output_type": "display_data"
    },
    {
     "data": {
      "text/html": [
       "<pre style=\"white-space:pre;overflow-x:auto;line-height:normal;font-family:Menlo,'DejaVu Sans Mono',consolas,'Courier New',monospace\"></pre>\n"
      ],
      "text/plain": []
     },
     "metadata": {},
     "output_type": "display_data"
    },
    {
     "data": {
      "text/html": [
       "<pre style=\"white-space:pre;overflow-x:auto;line-height:normal;font-family:Menlo,'DejaVu Sans Mono',consolas,'Courier New',monospace\">\n",
       "</pre>\n"
      ],
      "text/plain": [
       "\n"
      ]
     },
     "metadata": {},
     "output_type": "display_data"
    },
    {
     "data": {
      "text/html": [
       "<pre style=\"white-space:pre;overflow-x:auto;line-height:normal;font-family:Menlo,'DejaVu Sans Mono',consolas,'Courier New',monospace\"><span style=\"color: #008000; text-decoration-color: #008000\">Expected Improvement: </span><span style=\"color: #008080; text-decoration-color: #008080; font-weight: bold\">0.018110254779458046</span><span style=\"color: #008000; text-decoration-color: #008000\"> Actual: </span><span style=\"color: #008080; text-decoration-color: #008080; font-weight: bold\">0.01828392781317234</span>\n",
       "</pre>\n"
      ],
      "text/plain": [
       "\u001b[32mExpected Improvement: \u001b[0m\u001b[1;36m0.018110254779458046\u001b[0m\u001b[32m Actual: \u001b[0m\u001b[1;36m0.01828392781317234\u001b[0m\n"
      ]
     },
     "metadata": {},
     "output_type": "display_data"
    },
    {
     "data": {
      "text/html": [
       "<pre style=\"white-space:pre;overflow-x:auto;line-height:normal;font-family:Menlo,'DejaVu Sans Mono',consolas,'Courier New',monospace\"><span style=\"color: #008000; text-decoration-color: #008000\">Accept step at </span><span style=\"color: #808000; text-decoration-color: #808000\">i</span><span style=\"color: #008000; text-decoration-color: #008000\">=</span><span style=\"color: #008080; text-decoration-color: #008080; font-weight: bold\">1</span>\n",
       "</pre>\n"
      ],
      "text/plain": [
       "\u001b[32mAccept step at \u001b[0m\u001b[33mi\u001b[0m\u001b[32m=\u001b[0m\u001b[1;36m1\u001b[0m\n"
      ]
     },
     "metadata": {},
     "output_type": "display_data"
    },
    {
     "data": {
      "text/html": [
       "<pre style=\"white-space:pre;overflow-x:auto;line-height:normal;font-family:Menlo,'DejaVu Sans Mono',consolas,'Courier New',monospace\">┏━━━━━━━━━━━━━━━━━━━━━━━━━━━━━━━┳━━━━━━━━━━━━━━━━━━━━━━━━┓\n",
       "┃<span style=\"font-weight: bold\"> Metrics                       </span>┃<span style=\"font-weight: bold\"> Value                  </span>┃\n",
       "┡━━━━━━━━━━━━━━━━━━━━━━━━━━━━━━━╇━━━━━━━━━━━━━━━━━━━━━━━━┩\n",
       "│ Metrics/EpRet                 │ 25.89861488342285      │\n",
       "│ Metrics/EpCost                │ 64.77999877929688      │\n",
       "│ Metrics/EpLen                 │ 1000.0                 │\n",
       "│ Train/Epoch                   │ 24.0                   │\n",
       "│ Train/Entropy                 │ 1.001932978630066      │\n",
       "│ Train/KL                      │ 0.0003304796409793198  │\n",
       "│ Train/StopIter                │ 10.0                   │\n",
       "│ Train/PolicyRatio/Mean        │ 1.0007365942001343     │\n",
       "│ Train/PolicyRatio/Min         │ 1.0007365942001343     │\n",
       "│ Train/PolicyRatio/Max         │ 1.0007365942001343     │\n",
       "│ Train/PolicyRatio/Std         │ 0.0005208226502873003  │\n",
       "│ Train/LR                      │ 0.0                    │\n",
       "│ Train/PolicyStd               │ 0.680394172668457      │\n",
       "│ TotalEnvSteps                 │ 500000.0               │\n",
       "│ Loss/Loss_pi                  │ -0.012189309112727642  │\n",
       "│ Loss/Loss_pi/Delta            │ -0.0004287566989660263 │\n",
       "│ Value/Adv                     │ 1.831054596834747e-08  │\n",
       "│ Loss/Loss_reward_critic       │ 0.017958100885152817   │\n",
       "│ Loss/Loss_reward_critic/Delta │ 0.0017688591033220291  │\n",
       "│ Value/reward                  │ 2.3557329177856445     │\n",
       "│ Time/Total                    │ 1348.5301513671875     │\n",
       "│ Time/Rollout                  │ 47.986568450927734     │\n",
       "│ Time/Update                   │ 7.661191940307617      │\n",
       "│ Time/Epoch                    │ 55.64775848388672      │\n",
       "│ Time/FPS                      │ 359.40350341796875     │\n",
       "│ Misc/Alpha                    │ 1.1045523881912231     │\n",
       "│ Misc/FinalStepNorm            │ 0.29475706815719604    │\n",
       "│ Misc/gradient_norm            │ 0.11424818634986877    │\n",
       "│ Misc/xHx                      │ 0.01639294996857643    │\n",
       "│ Misc/H_inv_g                  │ 0.2668565809726715     │\n",
       "│ Misc/AcceptanceStep           │ 1.0                    │\n",
       "└───────────────────────────────┴────────────────────────┘\n",
       "</pre>\n"
      ],
      "text/plain": [
       "┏━━━━━━━━━━━━━━━━━━━━━━━━━━━━━━━┳━━━━━━━━━━━━━━━━━━━━━━━━┓\n",
       "┃\u001b[1m \u001b[0m\u001b[1mMetrics                      \u001b[0m\u001b[1m \u001b[0m┃\u001b[1m \u001b[0m\u001b[1mValue                 \u001b[0m\u001b[1m \u001b[0m┃\n",
       "┡━━━━━━━━━━━━━━━━━━━━━━━━━━━━━━━╇━━━━━━━━━━━━━━━━━━━━━━━━┩\n",
       "│ Metrics/EpRet                 │ 25.89861488342285      │\n",
       "│ Metrics/EpCost                │ 64.77999877929688      │\n",
       "│ Metrics/EpLen                 │ 1000.0                 │\n",
       "│ Train/Epoch                   │ 24.0                   │\n",
       "│ Train/Entropy                 │ 1.001932978630066      │\n",
       "│ Train/KL                      │ 0.0003304796409793198  │\n",
       "│ Train/StopIter                │ 10.0                   │\n",
       "│ Train/PolicyRatio/Mean        │ 1.0007365942001343     │\n",
       "│ Train/PolicyRatio/Min         │ 1.0007365942001343     │\n",
       "│ Train/PolicyRatio/Max         │ 1.0007365942001343     │\n",
       "│ Train/PolicyRatio/Std         │ 0.0005208226502873003  │\n",
       "│ Train/LR                      │ 0.0                    │\n",
       "│ Train/PolicyStd               │ 0.680394172668457      │\n",
       "│ TotalEnvSteps                 │ 500000.0               │\n",
       "│ Loss/Loss_pi                  │ -0.012189309112727642  │\n",
       "│ Loss/Loss_pi/Delta            │ -0.0004287566989660263 │\n",
       "│ Value/Adv                     │ 1.831054596834747e-08  │\n",
       "│ Loss/Loss_reward_critic       │ 0.017958100885152817   │\n",
       "│ Loss/Loss_reward_critic/Delta │ 0.0017688591033220291  │\n",
       "│ Value/reward                  │ 2.3557329177856445     │\n",
       "│ Time/Total                    │ 1348.5301513671875     │\n",
       "│ Time/Rollout                  │ 47.986568450927734     │\n",
       "│ Time/Update                   │ 7.661191940307617      │\n",
       "│ Time/Epoch                    │ 55.64775848388672      │\n",
       "│ Time/FPS                      │ 359.40350341796875     │\n",
       "│ Misc/Alpha                    │ 1.1045523881912231     │\n",
       "│ Misc/FinalStepNorm            │ 0.29475706815719604    │\n",
       "│ Misc/gradient_norm            │ 0.11424818634986877    │\n",
       "│ Misc/xHx                      │ 0.01639294996857643    │\n",
       "│ Misc/H_inv_g                  │ 0.2668565809726715     │\n",
       "│ Misc/AcceptanceStep           │ 1.0                    │\n",
       "└───────────────────────────────┴────────────────────────┘\n"
      ]
     },
     "metadata": {},
     "output_type": "display_data"
    },
    {
     "data": {
      "text/html": [
       "<pre style=\"white-space:pre;overflow-x:auto;line-height:normal;font-family:Menlo,'DejaVu Sans Mono',consolas,'Courier New',monospace\"><span style=\"color: #008000; text-decoration-color: #008000\">Warning: trajectory cut off when rollout by epoch at </span><span style=\"color: #008080; text-decoration-color: #008080; font-weight: bold\">1000.0</span><span style=\"color: #008000; text-decoration-color: #008000\"> steps.</span>\n",
       "</pre>\n"
      ],
      "text/plain": [
       "\u001b[32mWarning: trajectory cut off when rollout by epoch at \u001b[0m\u001b[1;36m1000.0\u001b[0m\u001b[32m steps.\u001b[0m\n"
      ]
     },
     "metadata": {},
     "output_type": "display_data"
    },
    {
     "data": {
      "text/html": [
       "<pre style=\"white-space:pre;overflow-x:auto;line-height:normal;font-family:Menlo,'DejaVu Sans Mono',consolas,'Courier New',monospace\"><span style=\"color: #008000; text-decoration-color: #008000\">Warning: trajectory cut off when rollout by epoch at </span><span style=\"color: #008080; text-decoration-color: #008080; font-weight: bold\">1000.0</span><span style=\"color: #008000; text-decoration-color: #008000\"> steps.</span>\n",
       "</pre>\n"
      ],
      "text/plain": [
       "\u001b[32mWarning: trajectory cut off when rollout by epoch at \u001b[0m\u001b[1;36m1000.0\u001b[0m\u001b[32m steps.\u001b[0m\n"
      ]
     },
     "metadata": {},
     "output_type": "display_data"
    },
    {
     "data": {
      "text/html": [
       "<pre style=\"white-space:pre;overflow-x:auto;line-height:normal;font-family:Menlo,'DejaVu Sans Mono',consolas,'Courier New',monospace\"><span style=\"color: #008000; text-decoration-color: #008000\">Warning: trajectory cut off when rollout by epoch at </span><span style=\"color: #008080; text-decoration-color: #008080; font-weight: bold\">1000.0</span><span style=\"color: #008000; text-decoration-color: #008000\"> steps.</span>\n",
       "</pre>\n"
      ],
      "text/plain": [
       "\u001b[32mWarning: trajectory cut off when rollout by epoch at \u001b[0m\u001b[1;36m1000.0\u001b[0m\u001b[32m steps.\u001b[0m\n"
      ]
     },
     "metadata": {},
     "output_type": "display_data"
    },
    {
     "data": {
      "text/html": [
       "<pre style=\"white-space:pre;overflow-x:auto;line-height:normal;font-family:Menlo,'DejaVu Sans Mono',consolas,'Courier New',monospace\"><span style=\"color: #008000; text-decoration-color: #008000\">Warning: trajectory cut off when rollout by epoch at </span><span style=\"color: #008080; text-decoration-color: #008080; font-weight: bold\">1000.0</span><span style=\"color: #008000; text-decoration-color: #008000\"> steps.</span>\n",
       "</pre>\n"
      ],
      "text/plain": [
       "\u001b[32mWarning: trajectory cut off when rollout by epoch at \u001b[0m\u001b[1;36m1000.0\u001b[0m\u001b[32m steps.\u001b[0m\n"
      ]
     },
     "metadata": {},
     "output_type": "display_data"
    },
    {
     "data": {
      "text/html": [
       "<pre style=\"white-space:pre;overflow-x:auto;line-height:normal;font-family:Menlo,'DejaVu Sans Mono',consolas,'Courier New',monospace\"></pre>\n"
      ],
      "text/plain": []
     },
     "metadata": {},
     "output_type": "display_data"
    },
    {
     "data": {
      "text/html": [
       "<pre style=\"white-space:pre;overflow-x:auto;line-height:normal;font-family:Menlo,'DejaVu Sans Mono',consolas,'Courier New',monospace\">\n",
       "</pre>\n"
      ],
      "text/plain": [
       "\n"
      ]
     },
     "metadata": {},
     "output_type": "display_data"
    },
    {
     "data": {
      "text/html": [
       "<pre style=\"white-space:pre;overflow-x:auto;line-height:normal;font-family:Menlo,'DejaVu Sans Mono',consolas,'Courier New',monospace\"><span style=\"color: #008000; text-decoration-color: #008000\">Expected Improvement: </span><span style=\"color: #008080; text-decoration-color: #008080; font-weight: bold\">0.017564214766025543</span><span style=\"color: #008000; text-decoration-color: #008000\"> Actual: </span><span style=\"color: #008080; text-decoration-color: #008080; font-weight: bold\">0.016255974769592285</span>\n",
       "</pre>\n"
      ],
      "text/plain": [
       "\u001b[32mExpected Improvement: \u001b[0m\u001b[1;36m0.017564214766025543\u001b[0m\u001b[32m Actual: \u001b[0m\u001b[1;36m0.016255974769592285\u001b[0m\n"
      ]
     },
     "metadata": {},
     "output_type": "display_data"
    },
    {
     "data": {
      "text/html": [
       "<pre style=\"white-space:pre;overflow-x:auto;line-height:normal;font-family:Menlo,'DejaVu Sans Mono',consolas,'Courier New',monospace\"><span style=\"color: #008000; text-decoration-color: #008000\">Accept step at </span><span style=\"color: #808000; text-decoration-color: #808000\">i</span><span style=\"color: #008000; text-decoration-color: #008000\">=</span><span style=\"color: #008080; text-decoration-color: #008080; font-weight: bold\">1</span>\n",
       "</pre>\n"
      ],
      "text/plain": [
       "\u001b[32mAccept step at \u001b[0m\u001b[33mi\u001b[0m\u001b[32m=\u001b[0m\u001b[1;36m1\u001b[0m\n"
      ]
     },
     "metadata": {},
     "output_type": "display_data"
    },
    {
     "data": {
      "text/html": [
       "<pre style=\"white-space:pre;overflow-x:auto;line-height:normal;font-family:Menlo,'DejaVu Sans Mono',consolas,'Courier New',monospace\">┏━━━━━━━━━━━━━━━━━━━━━━━━━━━━━━━┳━━━━━━━━━━━━━━━━━━━━━━━━┓\n",
       "┃<span style=\"font-weight: bold\"> Metrics                       </span>┃<span style=\"font-weight: bold\"> Value                  </span>┃\n",
       "┡━━━━━━━━━━━━━━━━━━━━━━━━━━━━━━━╇━━━━━━━━━━━━━━━━━━━━━━━━┩\n",
       "│ Metrics/EpRet                 │ 25.745532989501953     │\n",
       "│ Metrics/EpCost                │ 51.18000030517578      │\n",
       "│ Metrics/EpLen                 │ 1000.0                 │\n",
       "│ Train/Epoch                   │ 25.0                   │\n",
       "│ Train/Entropy                 │ 0.9877951741218567     │\n",
       "│ Train/KL                      │ 0.00030659843469038606 │\n",
       "│ Train/StopIter                │ 10.0                   │\n",
       "│ Train/PolicyRatio/Mean        │ 0.9984545707702637     │\n",
       "│ Train/PolicyRatio/Min         │ 0.9984545707702637     │\n",
       "│ Train/PolicyRatio/Max         │ 0.9984545707702637     │\n",
       "│ Train/PolicyRatio/Std         │ 0.001092811580747366   │\n",
       "│ Train/LR                      │ 0.0                    │\n",
       "│ Train/PolicyStd               │ 0.672208845615387      │\n",
       "│ TotalEnvSteps                 │ 520000.0               │\n",
       "│ Loss/Loss_pi                  │ -0.010837328620254993  │\n",
       "│ Loss/Loss_pi/Delta            │ 0.0013519804924726486  │\n",
       "│ Value/Adv                     │ 1.2969969986897922e-08 │\n",
       "│ Loss/Loss_reward_critic       │ 0.015164346434175968   │\n",
       "│ Loss/Loss_reward_critic/Delta │ -0.0027937544509768486 │\n",
       "│ Value/reward                  │ 2.397714376449585      │\n",
       "│ Time/Total                    │ 1403.5723876953125     │\n",
       "│ Time/Rollout                  │ 47.454654693603516     │\n",
       "│ Time/Update                   │ 7.553540229797363      │\n",
       "│ Time/Epoch                    │ 55.00819396972656      │\n",
       "│ Time/FPS                      │ 363.58221435546875     │\n",
       "│ Misc/Alpha                    │ 1.1392072439193726     │\n",
       "│ Misc/FinalStepNorm            │ 0.2946670949459076     │\n",
       "│ Misc/gradient_norm            │ 0.1278344690799713     │\n",
       "│ Misc/xHx                      │ 0.015410766936838627   │\n",
       "│ Misc/H_inv_g                  │ 0.2586597800254822     │\n",
       "│ Misc/AcceptanceStep           │ 1.0                    │\n",
       "└───────────────────────────────┴────────────────────────┘\n",
       "</pre>\n"
      ],
      "text/plain": [
       "┏━━━━━━━━━━━━━━━━━━━━━━━━━━━━━━━┳━━━━━━━━━━━━━━━━━━━━━━━━┓\n",
       "┃\u001b[1m \u001b[0m\u001b[1mMetrics                      \u001b[0m\u001b[1m \u001b[0m┃\u001b[1m \u001b[0m\u001b[1mValue                 \u001b[0m\u001b[1m \u001b[0m┃\n",
       "┡━━━━━━━━━━━━━━━━━━━━━━━━━━━━━━━╇━━━━━━━━━━━━━━━━━━━━━━━━┩\n",
       "│ Metrics/EpRet                 │ 25.745532989501953     │\n",
       "│ Metrics/EpCost                │ 51.18000030517578      │\n",
       "│ Metrics/EpLen                 │ 1000.0                 │\n",
       "│ Train/Epoch                   │ 25.0                   │\n",
       "│ Train/Entropy                 │ 0.9877951741218567     │\n",
       "│ Train/KL                      │ 0.00030659843469038606 │\n",
       "│ Train/StopIter                │ 10.0                   │\n",
       "│ Train/PolicyRatio/Mean        │ 0.9984545707702637     │\n",
       "│ Train/PolicyRatio/Min         │ 0.9984545707702637     │\n",
       "│ Train/PolicyRatio/Max         │ 0.9984545707702637     │\n",
       "│ Train/PolicyRatio/Std         │ 0.001092811580747366   │\n",
       "│ Train/LR                      │ 0.0                    │\n",
       "│ Train/PolicyStd               │ 0.672208845615387      │\n",
       "│ TotalEnvSteps                 │ 520000.0               │\n",
       "│ Loss/Loss_pi                  │ -0.010837328620254993  │\n",
       "│ Loss/Loss_pi/Delta            │ 0.0013519804924726486  │\n",
       "│ Value/Adv                     │ 1.2969969986897922e-08 │\n",
       "│ Loss/Loss_reward_critic       │ 0.015164346434175968   │\n",
       "│ Loss/Loss_reward_critic/Delta │ -0.0027937544509768486 │\n",
       "│ Value/reward                  │ 2.397714376449585      │\n",
       "│ Time/Total                    │ 1403.5723876953125     │\n",
       "│ Time/Rollout                  │ 47.454654693603516     │\n",
       "│ Time/Update                   │ 7.553540229797363      │\n",
       "│ Time/Epoch                    │ 55.00819396972656      │\n",
       "│ Time/FPS                      │ 363.58221435546875     │\n",
       "│ Misc/Alpha                    │ 1.1392072439193726     │\n",
       "│ Misc/FinalStepNorm            │ 0.2946670949459076     │\n",
       "│ Misc/gradient_norm            │ 0.1278344690799713     │\n",
       "│ Misc/xHx                      │ 0.015410766936838627   │\n",
       "│ Misc/H_inv_g                  │ 0.2586597800254822     │\n",
       "│ Misc/AcceptanceStep           │ 1.0                    │\n",
       "└───────────────────────────────┴────────────────────────┘\n"
      ]
     },
     "metadata": {},
     "output_type": "display_data"
    },
    {
     "data": {
      "text/html": [
       "<pre style=\"white-space:pre;overflow-x:auto;line-height:normal;font-family:Menlo,'DejaVu Sans Mono',consolas,'Courier New',monospace\"><span style=\"color: #008000; text-decoration-color: #008000\">Warning: trajectory cut off when rollout by epoch at </span><span style=\"color: #008080; text-decoration-color: #008080; font-weight: bold\">1000.0</span><span style=\"color: #008000; text-decoration-color: #008000\"> steps.</span>\n",
       "</pre>\n"
      ],
      "text/plain": [
       "\u001b[32mWarning: trajectory cut off when rollout by epoch at \u001b[0m\u001b[1;36m1000.0\u001b[0m\u001b[32m steps.\u001b[0m\n"
      ]
     },
     "metadata": {},
     "output_type": "display_data"
    },
    {
     "data": {
      "text/html": [
       "<pre style=\"white-space:pre;overflow-x:auto;line-height:normal;font-family:Menlo,'DejaVu Sans Mono',consolas,'Courier New',monospace\"><span style=\"color: #008000; text-decoration-color: #008000\">Warning: trajectory cut off when rollout by epoch at </span><span style=\"color: #008080; text-decoration-color: #008080; font-weight: bold\">1000.0</span><span style=\"color: #008000; text-decoration-color: #008000\"> steps.</span>\n",
       "</pre>\n"
      ],
      "text/plain": [
       "\u001b[32mWarning: trajectory cut off when rollout by epoch at \u001b[0m\u001b[1;36m1000.0\u001b[0m\u001b[32m steps.\u001b[0m\n"
      ]
     },
     "metadata": {},
     "output_type": "display_data"
    },
    {
     "data": {
      "text/html": [
       "<pre style=\"white-space:pre;overflow-x:auto;line-height:normal;font-family:Menlo,'DejaVu Sans Mono',consolas,'Courier New',monospace\"><span style=\"color: #008000; text-decoration-color: #008000\">Warning: trajectory cut off when rollout by epoch at </span><span style=\"color: #008080; text-decoration-color: #008080; font-weight: bold\">1000.0</span><span style=\"color: #008000; text-decoration-color: #008000\"> steps.</span>\n",
       "</pre>\n"
      ],
      "text/plain": [
       "\u001b[32mWarning: trajectory cut off when rollout by epoch at \u001b[0m\u001b[1;36m1000.0\u001b[0m\u001b[32m steps.\u001b[0m\n"
      ]
     },
     "metadata": {},
     "output_type": "display_data"
    },
    {
     "data": {
      "text/html": [
       "<pre style=\"white-space:pre;overflow-x:auto;line-height:normal;font-family:Menlo,'DejaVu Sans Mono',consolas,'Courier New',monospace\"><span style=\"color: #008000; text-decoration-color: #008000\">Warning: trajectory cut off when rollout by epoch at </span><span style=\"color: #008080; text-decoration-color: #008080; font-weight: bold\">1000.0</span><span style=\"color: #008000; text-decoration-color: #008000\"> steps.</span>\n",
       "</pre>\n"
      ],
      "text/plain": [
       "\u001b[32mWarning: trajectory cut off when rollout by epoch at \u001b[0m\u001b[1;36m1000.0\u001b[0m\u001b[32m steps.\u001b[0m\n"
      ]
     },
     "metadata": {},
     "output_type": "display_data"
    },
    {
     "data": {
      "text/html": [
       "<pre style=\"white-space:pre;overflow-x:auto;line-height:normal;font-family:Menlo,'DejaVu Sans Mono',consolas,'Courier New',monospace\"></pre>\n"
      ],
      "text/plain": []
     },
     "metadata": {},
     "output_type": "display_data"
    },
    {
     "data": {
      "text/html": [
       "<pre style=\"white-space:pre;overflow-x:auto;line-height:normal;font-family:Menlo,'DejaVu Sans Mono',consolas,'Courier New',monospace\">\n",
       "</pre>\n"
      ],
      "text/plain": [
       "\n"
      ]
     },
     "metadata": {},
     "output_type": "display_data"
    },
    {
     "data": {
      "text/html": [
       "<pre style=\"white-space:pre;overflow-x:auto;line-height:normal;font-family:Menlo,'DejaVu Sans Mono',consolas,'Courier New',monospace\"><span style=\"color: #008000; text-decoration-color: #008000\">Expected Improvement: </span><span style=\"color: #008080; text-decoration-color: #008080; font-weight: bold\">0.01721661165356636</span><span style=\"color: #008000; text-decoration-color: #008000\"> Actual: </span><span style=\"color: #008080; text-decoration-color: #008080; font-weight: bold\">0.016887091100215912</span>\n",
       "</pre>\n"
      ],
      "text/plain": [
       "\u001b[32mExpected Improvement: \u001b[0m\u001b[1;36m0.01721661165356636\u001b[0m\u001b[32m Actual: \u001b[0m\u001b[1;36m0.016887091100215912\u001b[0m\n"
      ]
     },
     "metadata": {},
     "output_type": "display_data"
    },
    {
     "data": {
      "text/html": [
       "<pre style=\"white-space:pre;overflow-x:auto;line-height:normal;font-family:Menlo,'DejaVu Sans Mono',consolas,'Courier New',monospace\"><span style=\"color: #008000; text-decoration-color: #008000\">Accept step at </span><span style=\"color: #808000; text-decoration-color: #808000\">i</span><span style=\"color: #008000; text-decoration-color: #008000\">=</span><span style=\"color: #008080; text-decoration-color: #008080; font-weight: bold\">1</span>\n",
       "</pre>\n"
      ],
      "text/plain": [
       "\u001b[32mAccept step at \u001b[0m\u001b[33mi\u001b[0m\u001b[32m=\u001b[0m\u001b[1;36m1\u001b[0m\n"
      ]
     },
     "metadata": {},
     "output_type": "display_data"
    },
    {
     "data": {
      "text/html": [
       "<pre style=\"white-space:pre;overflow-x:auto;line-height:normal;font-family:Menlo,'DejaVu Sans Mono',consolas,'Courier New',monospace\">┏━━━━━━━━━━━━━━━━━━━━━━━━━━━━━━━┳━━━━━━━━━━━━━━━━━━━━━━━━━┓\n",
       "┃<span style=\"font-weight: bold\"> Metrics                       </span>┃<span style=\"font-weight: bold\"> Value                   </span>┃\n",
       "┡━━━━━━━━━━━━━━━━━━━━━━━━━━━━━━━╇━━━━━━━━━━━━━━━━━━━━━━━━━┩\n",
       "│ Metrics/EpRet                 │ 25.680091857910156      │\n",
       "│ Metrics/EpCost                │ 46.459999084472656      │\n",
       "│ Metrics/EpLen                 │ 1000.0                  │\n",
       "│ Train/Epoch                   │ 26.0                    │\n",
       "│ Train/Entropy                 │ 0.9791946411132812      │\n",
       "│ Train/KL                      │ 0.0002832412428688258   │\n",
       "│ Train/StopIter                │ 10.0                    │\n",
       "│ Train/PolicyRatio/Mean        │ 0.9992181658744812      │\n",
       "│ Train/PolicyRatio/Min         │ 0.9992181658744812      │\n",
       "│ Train/PolicyRatio/Max         │ 0.9992181658744812      │\n",
       "│ Train/PolicyRatio/Std         │ 0.0005528542678803205   │\n",
       "│ Train/LR                      │ 0.0                     │\n",
       "│ Train/PolicyStd               │ 0.6679266095161438      │\n",
       "│ TotalEnvSteps                 │ 540000.0                │\n",
       "│ Loss/Loss_pi                  │ -0.011258079670369625   │\n",
       "│ Loss/Loss_pi/Delta            │ -0.00042075105011463165 │\n",
       "│ Value/Adv                     │ 2.1362303925798187e-08  │\n",
       "│ Loss/Loss_reward_critic       │ 0.015529644675552845    │\n",
       "│ Loss/Loss_reward_critic/Delta │ 0.00036529824137687683  │\n",
       "│ Value/reward                  │ 2.4320473670959473      │\n",
       "│ Time/Total                    │ 1454.6337890625         │\n",
       "│ Time/Rollout                  │ 42.8642692565918        │\n",
       "│ Time/Update                   │ 8.161158561706543       │\n",
       "│ Time/Epoch                    │ 51.025428771972656      │\n",
       "│ Time/FPS                      │ 391.9614562988281       │\n",
       "│ Misc/Alpha                    │ 1.1627156734466553      │\n",
       "│ Misc/FinalStepNorm            │ 0.317464679479599       │\n",
       "│ Misc/gradient_norm            │ 0.13393063843250275     │\n",
       "│ Misc/xHx                      │ 0.014793898910284042    │\n",
       "│ Misc/H_inv_g                  │ 0.27303722500801086     │\n",
       "│ Misc/AcceptanceStep           │ 1.0                     │\n",
       "└───────────────────────────────┴─────────────────────────┘\n",
       "</pre>\n"
      ],
      "text/plain": [
       "┏━━━━━━━━━━━━━━━━━━━━━━━━━━━━━━━┳━━━━━━━━━━━━━━━━━━━━━━━━━┓\n",
       "┃\u001b[1m \u001b[0m\u001b[1mMetrics                      \u001b[0m\u001b[1m \u001b[0m┃\u001b[1m \u001b[0m\u001b[1mValue                  \u001b[0m\u001b[1m \u001b[0m┃\n",
       "┡━━━━━━━━━━━━━━━━━━━━━━━━━━━━━━━╇━━━━━━━━━━━━━━━━━━━━━━━━━┩\n",
       "│ Metrics/EpRet                 │ 25.680091857910156      │\n",
       "│ Metrics/EpCost                │ 46.459999084472656      │\n",
       "│ Metrics/EpLen                 │ 1000.0                  │\n",
       "│ Train/Epoch                   │ 26.0                    │\n",
       "│ Train/Entropy                 │ 0.9791946411132812      │\n",
       "│ Train/KL                      │ 0.0002832412428688258   │\n",
       "│ Train/StopIter                │ 10.0                    │\n",
       "│ Train/PolicyRatio/Mean        │ 0.9992181658744812      │\n",
       "│ Train/PolicyRatio/Min         │ 0.9992181658744812      │\n",
       "│ Train/PolicyRatio/Max         │ 0.9992181658744812      │\n",
       "│ Train/PolicyRatio/Std         │ 0.0005528542678803205   │\n",
       "│ Train/LR                      │ 0.0                     │\n",
       "│ Train/PolicyStd               │ 0.6679266095161438      │\n",
       "│ TotalEnvSteps                 │ 540000.0                │\n",
       "│ Loss/Loss_pi                  │ -0.011258079670369625   │\n",
       "│ Loss/Loss_pi/Delta            │ -0.00042075105011463165 │\n",
       "│ Value/Adv                     │ 2.1362303925798187e-08  │\n",
       "│ Loss/Loss_reward_critic       │ 0.015529644675552845    │\n",
       "│ Loss/Loss_reward_critic/Delta │ 0.00036529824137687683  │\n",
       "│ Value/reward                  │ 2.4320473670959473      │\n",
       "│ Time/Total                    │ 1454.6337890625         │\n",
       "│ Time/Rollout                  │ 42.8642692565918        │\n",
       "│ Time/Update                   │ 8.161158561706543       │\n",
       "│ Time/Epoch                    │ 51.025428771972656      │\n",
       "│ Time/FPS                      │ 391.9614562988281       │\n",
       "│ Misc/Alpha                    │ 1.1627156734466553      │\n",
       "│ Misc/FinalStepNorm            │ 0.317464679479599       │\n",
       "│ Misc/gradient_norm            │ 0.13393063843250275     │\n",
       "│ Misc/xHx                      │ 0.014793898910284042    │\n",
       "│ Misc/H_inv_g                  │ 0.27303722500801086     │\n",
       "│ Misc/AcceptanceStep           │ 1.0                     │\n",
       "└───────────────────────────────┴─────────────────────────┘\n"
      ]
     },
     "metadata": {},
     "output_type": "display_data"
    },
    {
     "data": {
      "text/html": [
       "<pre style=\"white-space:pre;overflow-x:auto;line-height:normal;font-family:Menlo,'DejaVu Sans Mono',consolas,'Courier New',monospace\"><span style=\"color: #008000; text-decoration-color: #008000\">Warning: trajectory cut off when rollout by epoch at </span><span style=\"color: #008080; text-decoration-color: #008080; font-weight: bold\">1000.0</span><span style=\"color: #008000; text-decoration-color: #008000\"> steps.</span>\n",
       "</pre>\n"
      ],
      "text/plain": [
       "\u001b[32mWarning: trajectory cut off when rollout by epoch at \u001b[0m\u001b[1;36m1000.0\u001b[0m\u001b[32m steps.\u001b[0m\n"
      ]
     },
     "metadata": {},
     "output_type": "display_data"
    },
    {
     "data": {
      "text/html": [
       "<pre style=\"white-space:pre;overflow-x:auto;line-height:normal;font-family:Menlo,'DejaVu Sans Mono',consolas,'Courier New',monospace\"><span style=\"color: #008000; text-decoration-color: #008000\">Warning: trajectory cut off when rollout by epoch at </span><span style=\"color: #008080; text-decoration-color: #008080; font-weight: bold\">1000.0</span><span style=\"color: #008000; text-decoration-color: #008000\"> steps.</span>\n",
       "</pre>\n"
      ],
      "text/plain": [
       "\u001b[32mWarning: trajectory cut off when rollout by epoch at \u001b[0m\u001b[1;36m1000.0\u001b[0m\u001b[32m steps.\u001b[0m\n"
      ]
     },
     "metadata": {},
     "output_type": "display_data"
    },
    {
     "data": {
      "text/html": [
       "<pre style=\"white-space:pre;overflow-x:auto;line-height:normal;font-family:Menlo,'DejaVu Sans Mono',consolas,'Courier New',monospace\"><span style=\"color: #008000; text-decoration-color: #008000\">Warning: trajectory cut off when rollout by epoch at </span><span style=\"color: #008080; text-decoration-color: #008080; font-weight: bold\">1000.0</span><span style=\"color: #008000; text-decoration-color: #008000\"> steps.</span>\n",
       "</pre>\n"
      ],
      "text/plain": [
       "\u001b[32mWarning: trajectory cut off when rollout by epoch at \u001b[0m\u001b[1;36m1000.0\u001b[0m\u001b[32m steps.\u001b[0m\n"
      ]
     },
     "metadata": {},
     "output_type": "display_data"
    },
    {
     "data": {
      "text/html": [
       "<pre style=\"white-space:pre;overflow-x:auto;line-height:normal;font-family:Menlo,'DejaVu Sans Mono',consolas,'Courier New',monospace\"><span style=\"color: #008000; text-decoration-color: #008000\">Warning: trajectory cut off when rollout by epoch at </span><span style=\"color: #008080; text-decoration-color: #008080; font-weight: bold\">1000.0</span><span style=\"color: #008000; text-decoration-color: #008000\"> steps.</span>\n",
       "</pre>\n"
      ],
      "text/plain": [
       "\u001b[32mWarning: trajectory cut off when rollout by epoch at \u001b[0m\u001b[1;36m1000.0\u001b[0m\u001b[32m steps.\u001b[0m\n"
      ]
     },
     "metadata": {},
     "output_type": "display_data"
    },
    {
     "data": {
      "text/html": [
       "<pre style=\"white-space:pre;overflow-x:auto;line-height:normal;font-family:Menlo,'DejaVu Sans Mono',consolas,'Courier New',monospace\"></pre>\n"
      ],
      "text/plain": []
     },
     "metadata": {},
     "output_type": "display_data"
    },
    {
     "data": {
      "text/html": [
       "<pre style=\"white-space:pre;overflow-x:auto;line-height:normal;font-family:Menlo,'DejaVu Sans Mono',consolas,'Courier New',monospace\">\n",
       "</pre>\n"
      ],
      "text/plain": [
       "\n"
      ]
     },
     "metadata": {},
     "output_type": "display_data"
    },
    {
     "data": {
      "text/html": [
       "<pre style=\"white-space:pre;overflow-x:auto;line-height:normal;font-family:Menlo,'DejaVu Sans Mono',consolas,'Courier New',monospace\"><span style=\"color: #008000; text-decoration-color: #008000\">Expected Improvement: </span><span style=\"color: #008080; text-decoration-color: #008080; font-weight: bold\">0.0165399182587862</span><span style=\"color: #008000; text-decoration-color: #008000\"> Actual: </span><span style=\"color: #008080; text-decoration-color: #008080; font-weight: bold\">0.016682976856827736</span>\n",
       "</pre>\n"
      ],
      "text/plain": [
       "\u001b[32mExpected Improvement: \u001b[0m\u001b[1;36m0.0165399182587862\u001b[0m\u001b[32m Actual: \u001b[0m\u001b[1;36m0.016682976856827736\u001b[0m\n"
      ]
     },
     "metadata": {},
     "output_type": "display_data"
    },
    {
     "data": {
      "text/html": [
       "<pre style=\"white-space:pre;overflow-x:auto;line-height:normal;font-family:Menlo,'DejaVu Sans Mono',consolas,'Courier New',monospace\"><span style=\"color: #008000; text-decoration-color: #008000\">Accept step at </span><span style=\"color: #808000; text-decoration-color: #808000\">i</span><span style=\"color: #008000; text-decoration-color: #008000\">=</span><span style=\"color: #008080; text-decoration-color: #008080; font-weight: bold\">1</span>\n",
       "</pre>\n"
      ],
      "text/plain": [
       "\u001b[32mAccept step at \u001b[0m\u001b[33mi\u001b[0m\u001b[32m=\u001b[0m\u001b[1;36m1\u001b[0m\n"
      ]
     },
     "metadata": {},
     "output_type": "display_data"
    },
    {
     "data": {
      "text/html": [
       "<pre style=\"white-space:pre;overflow-x:auto;line-height:normal;font-family:Menlo,'DejaVu Sans Mono',consolas,'Courier New',monospace\">┏━━━━━━━━━━━━━━━━━━━━━━━━━━━━━━━┳━━━━━━━━━━━━━━━━━━━━━━━┓\n",
       "┃<span style=\"font-weight: bold\"> Metrics                       </span>┃<span style=\"font-weight: bold\"> Value                 </span>┃\n",
       "┡━━━━━━━━━━━━━━━━━━━━━━━━━━━━━━━╇━━━━━━━━━━━━━━━━━━━━━━━┩\n",
       "│ Metrics/EpRet                 │ 25.98528289794922     │\n",
       "│ Metrics/EpCost                │ 41.459999084472656    │\n",
       "│ Metrics/EpLen                 │ 1000.0                │\n",
       "│ Train/Epoch                   │ 27.0                  │\n",
       "│ Train/Entropy                 │ 0.9713060855865479    │\n",
       "│ Train/KL                      │ 0.0002884285931941122 │\n",
       "│ Train/StopIter                │ 10.0                  │\n",
       "│ Train/PolicyRatio/Mean        │ 0.9995730519294739    │\n",
       "│ Train/PolicyRatio/Min         │ 0.9995731115341187    │\n",
       "│ Train/PolicyRatio/Max         │ 0.9995731115341187    │\n",
       "│ Train/PolicyRatio/Std         │ 0.0003019119321834296 │\n",
       "│ Train/LR                      │ 0.0                   │\n",
       "│ Train/PolicyStd               │ 0.6637507677078247    │\n",
       "│ TotalEnvSteps                 │ 560000.0              │\n",
       "│ Loss/Loss_pi                  │ -0.01112198457121849  │\n",
       "│ Loss/Loss_pi/Delta            │ 0.0001360950991511345 │\n",
       "│ Value/Adv                     │ 0.0                   │\n",
       "│ Loss/Loss_reward_critic       │ 0.01734912395477295   │\n",
       "│ Loss/Loss_reward_critic/Delta │ 0.0018194792792201042 │\n",
       "│ Value/reward                  │ 2.461000442504883     │\n",
       "│ Time/Total                    │ 1505.303466796875     │\n",
       "│ Time/Rollout                  │ 42.56733703613281     │\n",
       "│ Time/Update                   │ 8.063362121582031     │\n",
       "│ Time/Epoch                    │ 50.630699157714844    │\n",
       "│ Time/FPS                      │ 395.01727294921875    │\n",
       "│ Misc/Alpha                    │ 1.210331916809082     │\n",
       "│ Misc/FinalStepNorm            │ 0.30986711382865906   │\n",
       "│ Misc/gradient_norm            │ 0.09588403254747391   │\n",
       "│ Misc/xHx                      │ 0.013652767986059189  │\n",
       "│ Misc/H_inv_g                  │ 0.2560183107852936    │\n",
       "│ Misc/AcceptanceStep           │ 1.0                   │\n",
       "└───────────────────────────────┴───────────────────────┘\n",
       "</pre>\n"
      ],
      "text/plain": [
       "┏━━━━━━━━━━━━━━━━━━━━━━━━━━━━━━━┳━━━━━━━━━━━━━━━━━━━━━━━┓\n",
       "┃\u001b[1m \u001b[0m\u001b[1mMetrics                      \u001b[0m\u001b[1m \u001b[0m┃\u001b[1m \u001b[0m\u001b[1mValue                \u001b[0m\u001b[1m \u001b[0m┃\n",
       "┡━━━━━━━━━━━━━━━━━━━━━━━━━━━━━━━╇━━━━━━━━━━━━━━━━━━━━━━━┩\n",
       "│ Metrics/EpRet                 │ 25.98528289794922     │\n",
       "│ Metrics/EpCost                │ 41.459999084472656    │\n",
       "│ Metrics/EpLen                 │ 1000.0                │\n",
       "│ Train/Epoch                   │ 27.0                  │\n",
       "│ Train/Entropy                 │ 0.9713060855865479    │\n",
       "│ Train/KL                      │ 0.0002884285931941122 │\n",
       "│ Train/StopIter                │ 10.0                  │\n",
       "│ Train/PolicyRatio/Mean        │ 0.9995730519294739    │\n",
       "│ Train/PolicyRatio/Min         │ 0.9995731115341187    │\n",
       "│ Train/PolicyRatio/Max         │ 0.9995731115341187    │\n",
       "│ Train/PolicyRatio/Std         │ 0.0003019119321834296 │\n",
       "│ Train/LR                      │ 0.0                   │\n",
       "│ Train/PolicyStd               │ 0.6637507677078247    │\n",
       "│ TotalEnvSteps                 │ 560000.0              │\n",
       "│ Loss/Loss_pi                  │ -0.01112198457121849  │\n",
       "│ Loss/Loss_pi/Delta            │ 0.0001360950991511345 │\n",
       "│ Value/Adv                     │ 0.0                   │\n",
       "│ Loss/Loss_reward_critic       │ 0.01734912395477295   │\n",
       "│ Loss/Loss_reward_critic/Delta │ 0.0018194792792201042 │\n",
       "│ Value/reward                  │ 2.461000442504883     │\n",
       "│ Time/Total                    │ 1505.303466796875     │\n",
       "│ Time/Rollout                  │ 42.56733703613281     │\n",
       "│ Time/Update                   │ 8.063362121582031     │\n",
       "│ Time/Epoch                    │ 50.630699157714844    │\n",
       "│ Time/FPS                      │ 395.01727294921875    │\n",
       "│ Misc/Alpha                    │ 1.210331916809082     │\n",
       "│ Misc/FinalStepNorm            │ 0.30986711382865906   │\n",
       "│ Misc/gradient_norm            │ 0.09588403254747391   │\n",
       "│ Misc/xHx                      │ 0.013652767986059189  │\n",
       "│ Misc/H_inv_g                  │ 0.2560183107852936    │\n",
       "│ Misc/AcceptanceStep           │ 1.0                   │\n",
       "└───────────────────────────────┴───────────────────────┘\n"
      ]
     },
     "metadata": {},
     "output_type": "display_data"
    },
    {
     "data": {
      "text/html": [
       "<pre style=\"white-space:pre;overflow-x:auto;line-height:normal;font-family:Menlo,'DejaVu Sans Mono',consolas,'Courier New',monospace\"><span style=\"color: #008000; text-decoration-color: #008000\">Warning: trajectory cut off when rollout by epoch at </span><span style=\"color: #008080; text-decoration-color: #008080; font-weight: bold\">1000.0</span><span style=\"color: #008000; text-decoration-color: #008000\"> steps.</span>\n",
       "</pre>\n"
      ],
      "text/plain": [
       "\u001b[32mWarning: trajectory cut off when rollout by epoch at \u001b[0m\u001b[1;36m1000.0\u001b[0m\u001b[32m steps.\u001b[0m\n"
      ]
     },
     "metadata": {},
     "output_type": "display_data"
    },
    {
     "data": {
      "text/html": [
       "<pre style=\"white-space:pre;overflow-x:auto;line-height:normal;font-family:Menlo,'DejaVu Sans Mono',consolas,'Courier New',monospace\"><span style=\"color: #008000; text-decoration-color: #008000\">Warning: trajectory cut off when rollout by epoch at </span><span style=\"color: #008080; text-decoration-color: #008080; font-weight: bold\">1000.0</span><span style=\"color: #008000; text-decoration-color: #008000\"> steps.</span>\n",
       "</pre>\n"
      ],
      "text/plain": [
       "\u001b[32mWarning: trajectory cut off when rollout by epoch at \u001b[0m\u001b[1;36m1000.0\u001b[0m\u001b[32m steps.\u001b[0m\n"
      ]
     },
     "metadata": {},
     "output_type": "display_data"
    },
    {
     "data": {
      "text/html": [
       "<pre style=\"white-space:pre;overflow-x:auto;line-height:normal;font-family:Menlo,'DejaVu Sans Mono',consolas,'Courier New',monospace\"><span style=\"color: #008000; text-decoration-color: #008000\">Warning: trajectory cut off when rollout by epoch at </span><span style=\"color: #008080; text-decoration-color: #008080; font-weight: bold\">1000.0</span><span style=\"color: #008000; text-decoration-color: #008000\"> steps.</span>\n",
       "</pre>\n"
      ],
      "text/plain": [
       "\u001b[32mWarning: trajectory cut off when rollout by epoch at \u001b[0m\u001b[1;36m1000.0\u001b[0m\u001b[32m steps.\u001b[0m\n"
      ]
     },
     "metadata": {},
     "output_type": "display_data"
    },
    {
     "data": {
      "text/html": [
       "<pre style=\"white-space:pre;overflow-x:auto;line-height:normal;font-family:Menlo,'DejaVu Sans Mono',consolas,'Courier New',monospace\"><span style=\"color: #008000; text-decoration-color: #008000\">Warning: trajectory cut off when rollout by epoch at </span><span style=\"color: #008080; text-decoration-color: #008080; font-weight: bold\">1000.0</span><span style=\"color: #008000; text-decoration-color: #008000\"> steps.</span>\n",
       "</pre>\n"
      ],
      "text/plain": [
       "\u001b[32mWarning: trajectory cut off when rollout by epoch at \u001b[0m\u001b[1;36m1000.0\u001b[0m\u001b[32m steps.\u001b[0m\n"
      ]
     },
     "metadata": {},
     "output_type": "display_data"
    },
    {
     "data": {
      "text/html": [
       "<pre style=\"white-space:pre;overflow-x:auto;line-height:normal;font-family:Menlo,'DejaVu Sans Mono',consolas,'Courier New',monospace\"></pre>\n"
      ],
      "text/plain": []
     },
     "metadata": {},
     "output_type": "display_data"
    },
    {
     "data": {
      "text/html": [
       "<pre style=\"white-space:pre;overflow-x:auto;line-height:normal;font-family:Menlo,'DejaVu Sans Mono',consolas,'Courier New',monospace\">\n",
       "</pre>\n"
      ],
      "text/plain": [
       "\n"
      ]
     },
     "metadata": {},
     "output_type": "display_data"
    },
    {
     "data": {
      "text/html": [
       "<pre style=\"white-space:pre;overflow-x:auto;line-height:normal;font-family:Menlo,'DejaVu Sans Mono',consolas,'Courier New',monospace\"><span style=\"color: #008000; text-decoration-color: #008000\">Expected Improvement: </span><span style=\"color: #008080; text-decoration-color: #008080; font-weight: bold\">0.016927029937505722</span><span style=\"color: #008000; text-decoration-color: #008000\"> Actual: </span><span style=\"color: #008080; text-decoration-color: #008080; font-weight: bold\">0.01649693213403225</span>\n",
       "</pre>\n"
      ],
      "text/plain": [
       "\u001b[32mExpected Improvement: \u001b[0m\u001b[1;36m0.016927029937505722\u001b[0m\u001b[32m Actual: \u001b[0m\u001b[1;36m0.01649693213403225\u001b[0m\n"
      ]
     },
     "metadata": {},
     "output_type": "display_data"
    },
    {
     "data": {
      "text/html": [
       "<pre style=\"white-space:pre;overflow-x:auto;line-height:normal;font-family:Menlo,'DejaVu Sans Mono',consolas,'Courier New',monospace\"><span style=\"color: #008000; text-decoration-color: #008000\">Accept step at </span><span style=\"color: #808000; text-decoration-color: #808000\">i</span><span style=\"color: #008000; text-decoration-color: #008000\">=</span><span style=\"color: #008080; text-decoration-color: #008080; font-weight: bold\">1</span>\n",
       "</pre>\n"
      ],
      "text/plain": [
       "\u001b[32mAccept step at \u001b[0m\u001b[33mi\u001b[0m\u001b[32m=\u001b[0m\u001b[1;36m1\u001b[0m\n"
      ]
     },
     "metadata": {},
     "output_type": "display_data"
    },
    {
     "data": {
      "text/html": [
       "<pre style=\"white-space:pre;overflow-x:auto;line-height:normal;font-family:Menlo,'DejaVu Sans Mono',consolas,'Courier New',monospace\">┏━━━━━━━━━━━━━━━━━━━━━━━━━━━━━━━┳━━━━━━━━━━━━━━━━━━━━━━━━━┓\n",
       "┃<span style=\"font-weight: bold\"> Metrics                       </span>┃<span style=\"font-weight: bold\"> Value                   </span>┃\n",
       "┡━━━━━━━━━━━━━━━━━━━━━━━━━━━━━━━╇━━━━━━━━━━━━━━━━━━━━━━━━━┩\n",
       "│ Metrics/EpRet                 │ 25.978504180908203      │\n",
       "│ Metrics/EpCost                │ 49.560001373291016      │\n",
       "│ Metrics/EpLen                 │ 1000.0                  │\n",
       "│ Train/Epoch                   │ 28.0                    │\n",
       "│ Train/Entropy                 │ 0.9600942730903625      │\n",
       "│ Train/KL                      │ 0.000289455201709643    │\n",
       "│ Train/StopIter                │ 10.0                    │\n",
       "│ Train/PolicyRatio/Mean        │ 1.0000463724136353      │\n",
       "│ Train/PolicyRatio/Min         │ 1.0000464916229248      │\n",
       "│ Train/PolicyRatio/Max         │ 1.0000464916229248      │\n",
       "│ Train/PolicyRatio/Std         │ 3.2762174669187516e-05  │\n",
       "│ Train/LR                      │ 0.0                     │\n",
       "│ Train/PolicyStd               │ 0.6581891179084778      │\n",
       "│ TotalEnvSteps                 │ 580000.0                │\n",
       "│ Loss/Loss_pi                  │ -0.010997936129570007   │\n",
       "│ Loss/Loss_pi/Delta            │ 0.00012404844164848328  │\n",
       "│ Value/Adv                     │ -1.0681151962899094e-08 │\n",
       "│ Loss/Loss_reward_critic       │ 0.014386549592018127    │\n",
       "│ Loss/Loss_reward_critic/Delta │ -0.0029625743627548218  │\n",
       "│ Value/reward                  │ 2.4763989448547363      │\n",
       "│ Time/Total                    │ 1556.6265869140625      │\n",
       "│ Time/Rollout                  │ 42.970367431640625      │\n",
       "│ Time/Update                   │ 8.324103355407715       │\n",
       "│ Time/Epoch                    │ 51.294471740722656      │\n",
       "│ Time/FPS                      │ 389.90557861328125      │\n",
       "│ Misc/Alpha                    │ 1.1823769807815552      │\n",
       "│ Misc/FinalStepNorm            │ 0.3165654242038727      │\n",
       "│ Misc/gradient_norm            │ 0.09628187865018845     │\n",
       "│ Misc/xHx                      │ 0.01430598460137844     │\n",
       "│ Misc/H_inv_g                  │ 0.26773643493652344     │\n",
       "│ Misc/AcceptanceStep           │ 1.0                     │\n",
       "└───────────────────────────────┴─────────────────────────┘\n",
       "</pre>\n"
      ],
      "text/plain": [
       "┏━━━━━━━━━━━━━━━━━━━━━━━━━━━━━━━┳━━━━━━━━━━━━━━━━━━━━━━━━━┓\n",
       "┃\u001b[1m \u001b[0m\u001b[1mMetrics                      \u001b[0m\u001b[1m \u001b[0m┃\u001b[1m \u001b[0m\u001b[1mValue                  \u001b[0m\u001b[1m \u001b[0m┃\n",
       "┡━━━━━━━━━━━━━━━━━━━━━━━━━━━━━━━╇━━━━━━━━━━━━━━━━━━━━━━━━━┩\n",
       "│ Metrics/EpRet                 │ 25.978504180908203      │\n",
       "│ Metrics/EpCost                │ 49.560001373291016      │\n",
       "│ Metrics/EpLen                 │ 1000.0                  │\n",
       "│ Train/Epoch                   │ 28.0                    │\n",
       "│ Train/Entropy                 │ 0.9600942730903625      │\n",
       "│ Train/KL                      │ 0.000289455201709643    │\n",
       "│ Train/StopIter                │ 10.0                    │\n",
       "│ Train/PolicyRatio/Mean        │ 1.0000463724136353      │\n",
       "│ Train/PolicyRatio/Min         │ 1.0000464916229248      │\n",
       "│ Train/PolicyRatio/Max         │ 1.0000464916229248      │\n",
       "│ Train/PolicyRatio/Std         │ 3.2762174669187516e-05  │\n",
       "│ Train/LR                      │ 0.0                     │\n",
       "│ Train/PolicyStd               │ 0.6581891179084778      │\n",
       "│ TotalEnvSteps                 │ 580000.0                │\n",
       "│ Loss/Loss_pi                  │ -0.010997936129570007   │\n",
       "│ Loss/Loss_pi/Delta            │ 0.00012404844164848328  │\n",
       "│ Value/Adv                     │ -1.0681151962899094e-08 │\n",
       "│ Loss/Loss_reward_critic       │ 0.014386549592018127    │\n",
       "│ Loss/Loss_reward_critic/Delta │ -0.0029625743627548218  │\n",
       "│ Value/reward                  │ 2.4763989448547363      │\n",
       "│ Time/Total                    │ 1556.6265869140625      │\n",
       "│ Time/Rollout                  │ 42.970367431640625      │\n",
       "│ Time/Update                   │ 8.324103355407715       │\n",
       "│ Time/Epoch                    │ 51.294471740722656      │\n",
       "│ Time/FPS                      │ 389.90557861328125      │\n",
       "│ Misc/Alpha                    │ 1.1823769807815552      │\n",
       "│ Misc/FinalStepNorm            │ 0.3165654242038727      │\n",
       "│ Misc/gradient_norm            │ 0.09628187865018845     │\n",
       "│ Misc/xHx                      │ 0.01430598460137844     │\n",
       "│ Misc/H_inv_g                  │ 0.26773643493652344     │\n",
       "│ Misc/AcceptanceStep           │ 1.0                     │\n",
       "└───────────────────────────────┴─────────────────────────┘\n"
      ]
     },
     "metadata": {},
     "output_type": "display_data"
    },
    {
     "data": {
      "text/html": [
       "<pre style=\"white-space:pre;overflow-x:auto;line-height:normal;font-family:Menlo,'DejaVu Sans Mono',consolas,'Courier New',monospace\"><span style=\"color: #008000; text-decoration-color: #008000\">Warning: trajectory cut off when rollout by epoch at </span><span style=\"color: #008080; text-decoration-color: #008080; font-weight: bold\">1000.0</span><span style=\"color: #008000; text-decoration-color: #008000\"> steps.</span>\n",
       "</pre>\n"
      ],
      "text/plain": [
       "\u001b[32mWarning: trajectory cut off when rollout by epoch at \u001b[0m\u001b[1;36m1000.0\u001b[0m\u001b[32m steps.\u001b[0m\n"
      ]
     },
     "metadata": {},
     "output_type": "display_data"
    },
    {
     "data": {
      "text/html": [
       "<pre style=\"white-space:pre;overflow-x:auto;line-height:normal;font-family:Menlo,'DejaVu Sans Mono',consolas,'Courier New',monospace\"><span style=\"color: #008000; text-decoration-color: #008000\">Warning: trajectory cut off when rollout by epoch at </span><span style=\"color: #008080; text-decoration-color: #008080; font-weight: bold\">1000.0</span><span style=\"color: #008000; text-decoration-color: #008000\"> steps.</span>\n",
       "</pre>\n"
      ],
      "text/plain": [
       "\u001b[32mWarning: trajectory cut off when rollout by epoch at \u001b[0m\u001b[1;36m1000.0\u001b[0m\u001b[32m steps.\u001b[0m\n"
      ]
     },
     "metadata": {},
     "output_type": "display_data"
    },
    {
     "data": {
      "text/html": [
       "<pre style=\"white-space:pre;overflow-x:auto;line-height:normal;font-family:Menlo,'DejaVu Sans Mono',consolas,'Courier New',monospace\"><span style=\"color: #008000; text-decoration-color: #008000\">Warning: trajectory cut off when rollout by epoch at </span><span style=\"color: #008080; text-decoration-color: #008080; font-weight: bold\">1000.0</span><span style=\"color: #008000; text-decoration-color: #008000\"> steps.</span>\n",
       "</pre>\n"
      ],
      "text/plain": [
       "\u001b[32mWarning: trajectory cut off when rollout by epoch at \u001b[0m\u001b[1;36m1000.0\u001b[0m\u001b[32m steps.\u001b[0m\n"
      ]
     },
     "metadata": {},
     "output_type": "display_data"
    },
    {
     "data": {
      "text/html": [
       "<pre style=\"white-space:pre;overflow-x:auto;line-height:normal;font-family:Menlo,'DejaVu Sans Mono',consolas,'Courier New',monospace\"><span style=\"color: #008000; text-decoration-color: #008000\">Warning: trajectory cut off when rollout by epoch at </span><span style=\"color: #008080; text-decoration-color: #008080; font-weight: bold\">1000.0</span><span style=\"color: #008000; text-decoration-color: #008000\"> steps.</span>\n",
       "</pre>\n"
      ],
      "text/plain": [
       "\u001b[32mWarning: trajectory cut off when rollout by epoch at \u001b[0m\u001b[1;36m1000.0\u001b[0m\u001b[32m steps.\u001b[0m\n"
      ]
     },
     "metadata": {},
     "output_type": "display_data"
    },
    {
     "data": {
      "text/html": [
       "<pre style=\"white-space:pre;overflow-x:auto;line-height:normal;font-family:Menlo,'DejaVu Sans Mono',consolas,'Courier New',monospace\"></pre>\n"
      ],
      "text/plain": []
     },
     "metadata": {},
     "output_type": "display_data"
    },
    {
     "data": {
      "text/html": [
       "<pre style=\"white-space:pre;overflow-x:auto;line-height:normal;font-family:Menlo,'DejaVu Sans Mono',consolas,'Courier New',monospace\">\n",
       "</pre>\n"
      ],
      "text/plain": [
       "\n"
      ]
     },
     "metadata": {},
     "output_type": "display_data"
    },
    {
     "data": {
      "text/html": [
       "<pre style=\"white-space:pre;overflow-x:auto;line-height:normal;font-family:Menlo,'DejaVu Sans Mono',consolas,'Courier New',monospace\"><span style=\"color: #008000; text-decoration-color: #008000\">Expected Improvement: </span><span style=\"color: #008080; text-decoration-color: #008080; font-weight: bold\">0.017968203872442245</span><span style=\"color: #008000; text-decoration-color: #008000\"> Actual: </span><span style=\"color: #008080; text-decoration-color: #008080; font-weight: bold\">0.01803917996585369</span>\n",
       "</pre>\n"
      ],
      "text/plain": [
       "\u001b[32mExpected Improvement: \u001b[0m\u001b[1;36m0.017968203872442245\u001b[0m\u001b[32m Actual: \u001b[0m\u001b[1;36m0.01803917996585369\u001b[0m\n"
      ]
     },
     "metadata": {},
     "output_type": "display_data"
    },
    {
     "data": {
      "text/html": [
       "<pre style=\"white-space:pre;overflow-x:auto;line-height:normal;font-family:Menlo,'DejaVu Sans Mono',consolas,'Courier New',monospace\"><span style=\"color: #008000; text-decoration-color: #008000\">Accept step at </span><span style=\"color: #808000; text-decoration-color: #808000\">i</span><span style=\"color: #008000; text-decoration-color: #008000\">=</span><span style=\"color: #008080; text-decoration-color: #008080; font-weight: bold\">1</span>\n",
       "</pre>\n"
      ],
      "text/plain": [
       "\u001b[32mAccept step at \u001b[0m\u001b[33mi\u001b[0m\u001b[32m=\u001b[0m\u001b[1;36m1\u001b[0m\n"
      ]
     },
     "metadata": {},
     "output_type": "display_data"
    },
    {
     "data": {
      "text/html": [
       "<pre style=\"white-space:pre;overflow-x:auto;line-height:normal;font-family:Menlo,'DejaVu Sans Mono',consolas,'Courier New',monospace\">┏━━━━━━━━━━━━━━━━━━━━━━━━━━━━━━━┳━━━━━━━━━━━━━━━━━━━━━━━━┓\n",
       "┃<span style=\"font-weight: bold\"> Metrics                       </span>┃<span style=\"font-weight: bold\"> Value                  </span>┃\n",
       "┡━━━━━━━━━━━━━━━━━━━━━━━━━━━━━━━╇━━━━━━━━━━━━━━━━━━━━━━━━┩\n",
       "│ Metrics/EpRet                 │ 26.23552703857422      │\n",
       "│ Metrics/EpCost                │ 54.34000015258789      │\n",
       "│ Metrics/EpLen                 │ 1000.0                 │\n",
       "│ Train/Epoch                   │ 29.0                   │\n",
       "│ Train/Entropy                 │ 0.9603052735328674     │\n",
       "│ Train/KL                      │ 0.0002739510382525623  │\n",
       "│ Train/StopIter                │ 10.0                   │\n",
       "│ Train/PolicyRatio/Mean        │ 0.9998107552528381     │\n",
       "│ Train/PolicyRatio/Min         │ 0.9998108148574829     │\n",
       "│ Train/PolicyRatio/Max         │ 0.9998108148574829     │\n",
       "│ Train/PolicyRatio/Std         │ 0.0001338021975243464  │\n",
       "│ Train/LR                      │ 0.0                    │\n",
       "│ Train/PolicyStd               │ 0.6589363813400269     │\n",
       "│ TotalEnvSteps                 │ 600000.0               │\n",
       "│ Loss/Loss_pi                  │ -0.012026116251945496  │\n",
       "│ Loss/Loss_pi/Delta            │ -0.0010281801223754883 │\n",
       "│ Value/Adv                     │ -7.629394005448376e-09 │\n",
       "│ Loss/Loss_reward_critic       │ 0.016523452475667      │\n",
       "│ Loss/Loss_reward_critic/Delta │ 0.0021369028836488724  │\n",
       "│ Value/reward                  │ 2.5529022216796875     │\n",
       "│ Time/Total                    │ 1607.9383544921875     │\n",
       "│ Time/Rollout                  │ 43.3415641784668       │\n",
       "│ Time/Update                   │ 7.936118125915527      │\n",
       "│ Time/Epoch                    │ 51.27768325805664      │\n",
       "│ Time/FPS                      │ 390.0332336425781      │\n",
       "│ Misc/Alpha                    │ 1.113976001739502      │\n",
       "│ Misc/FinalStepNorm            │ 0.3136454224586487     │\n",
       "│ Misc/gradient_norm            │ 0.11043958365917206    │\n",
       "│ Misc/xHx                      │ 0.01611677184700966    │\n",
       "│ Misc/H_inv_g                  │ 0.2815549373626709     │\n",
       "│ Misc/AcceptanceStep           │ 1.0                    │\n",
       "└───────────────────────────────┴────────────────────────┘\n",
       "</pre>\n"
      ],
      "text/plain": [
       "┏━━━━━━━━━━━━━━━━━━━━━━━━━━━━━━━┳━━━━━━━━━━━━━━━━━━━━━━━━┓\n",
       "┃\u001b[1m \u001b[0m\u001b[1mMetrics                      \u001b[0m\u001b[1m \u001b[0m┃\u001b[1m \u001b[0m\u001b[1mValue                 \u001b[0m\u001b[1m \u001b[0m┃\n",
       "┡━━━━━━━━━━━━━━━━━━━━━━━━━━━━━━━╇━━━━━━━━━━━━━━━━━━━━━━━━┩\n",
       "│ Metrics/EpRet                 │ 26.23552703857422      │\n",
       "│ Metrics/EpCost                │ 54.34000015258789      │\n",
       "│ Metrics/EpLen                 │ 1000.0                 │\n",
       "│ Train/Epoch                   │ 29.0                   │\n",
       "│ Train/Entropy                 │ 0.9603052735328674     │\n",
       "│ Train/KL                      │ 0.0002739510382525623  │\n",
       "│ Train/StopIter                │ 10.0                   │\n",
       "│ Train/PolicyRatio/Mean        │ 0.9998107552528381     │\n",
       "│ Train/PolicyRatio/Min         │ 0.9998108148574829     │\n",
       "│ Train/PolicyRatio/Max         │ 0.9998108148574829     │\n",
       "│ Train/PolicyRatio/Std         │ 0.0001338021975243464  │\n",
       "│ Train/LR                      │ 0.0                    │\n",
       "│ Train/PolicyStd               │ 0.6589363813400269     │\n",
       "│ TotalEnvSteps                 │ 600000.0               │\n",
       "│ Loss/Loss_pi                  │ -0.012026116251945496  │\n",
       "│ Loss/Loss_pi/Delta            │ -0.0010281801223754883 │\n",
       "│ Value/Adv                     │ -7.629394005448376e-09 │\n",
       "│ Loss/Loss_reward_critic       │ 0.016523452475667      │\n",
       "│ Loss/Loss_reward_critic/Delta │ 0.0021369028836488724  │\n",
       "│ Value/reward                  │ 2.5529022216796875     │\n",
       "│ Time/Total                    │ 1607.9383544921875     │\n",
       "│ Time/Rollout                  │ 43.3415641784668       │\n",
       "│ Time/Update                   │ 7.936118125915527      │\n",
       "│ Time/Epoch                    │ 51.27768325805664      │\n",
       "│ Time/FPS                      │ 390.0332336425781      │\n",
       "│ Misc/Alpha                    │ 1.113976001739502      │\n",
       "│ Misc/FinalStepNorm            │ 0.3136454224586487     │\n",
       "│ Misc/gradient_norm            │ 0.11043958365917206    │\n",
       "│ Misc/xHx                      │ 0.01611677184700966    │\n",
       "│ Misc/H_inv_g                  │ 0.2815549373626709     │\n",
       "│ Misc/AcceptanceStep           │ 1.0                    │\n",
       "└───────────────────────────────┴────────────────────────┘\n"
      ]
     },
     "metadata": {},
     "output_type": "display_data"
    },
    {
     "data": {
      "text/html": [
       "<pre style=\"white-space:pre;overflow-x:auto;line-height:normal;font-family:Menlo,'DejaVu Sans Mono',consolas,'Courier New',monospace\"><span style=\"color: #008080; text-decoration-color: #008080; font-weight: bold\">Logging data to </span>\n",
       "<span style=\"color: #008080; text-decoration-color: #008080; font-weight: bold\">.</span><span style=\"color: #800080; text-decoration-color: #800080; font-weight: bold\">/</span><span style=\"color: #ff00ff; text-decoration-color: #ff00ff; font-weight: bold\">exp-x</span><span style=\"color: #008080; text-decoration-color: #008080; font-weight: bold\">\\BM_Safety_Unconstrained\\SafetyPointGoal1-v0---999237c8a579096ba86ab3adcf0f9920f8c8e50b5e4a8f222ceb30613ecc9</span>\n",
       "<span style=\"color: #008080; text-decoration-color: #008080; font-weight: bold\">2ca\\PPO-{SafetyPointGoal1-v0}\\seed-</span><span style=\"color: #008080; text-decoration-color: #008080; font-weight: bold\">000</span><span style=\"color: #008080; text-decoration-color: #008080; font-weight: bold\">-</span><span style=\"color: #008080; text-decoration-color: #008080; font-weight: bold\">2024</span><span style=\"color: #008080; text-decoration-color: #008080; font-weight: bold\">-</span><span style=\"color: #008080; text-decoration-color: #008080; font-weight: bold\">04</span><span style=\"color: #008080; text-decoration-color: #008080; font-weight: bold\">-</span><span style=\"color: #008080; text-decoration-color: #008080; font-weight: bold\">24</span><span style=\"color: #008080; text-decoration-color: #008080; font-weight: bold\">-</span><span style=\"color: #008080; text-decoration-color: #008080; font-weight: bold\">01</span><span style=\"color: #008080; text-decoration-color: #008080; font-weight: bold\">-</span><span style=\"color: #008080; text-decoration-color: #008080; font-weight: bold\">31</span><span style=\"color: #008080; text-decoration-color: #008080; font-weight: bold\">-</span><span style=\"color: #008080; text-decoration-color: #008080; font-weight: bold\">35</span><span style=\"color: #008080; text-decoration-color: #008080; font-weight: bold\">\\progress.csv</span>\n",
       "</pre>\n"
      ],
      "text/plain": [
       "\u001b[1;36mLogging data to \u001b[0m\n",
       "\u001b[1;36m.\u001b[0m\u001b[1;35m/\u001b[0m\u001b[1;95mexp-x\u001b[0m\u001b[1;36m\\BM_Safety_Unconstrained\\SafetyPointGoal1-v0---999237c8a579096ba86ab3adcf0f9920f8c8e50b5e4a8f222ceb30613ecc9\u001b[0m\n",
       "\u001b[1;36m2ca\\PPO-\u001b[0m\u001b[1;36m{\u001b[0m\u001b[1;36mSafetyPointGoal1-v0\u001b[0m\u001b[1;36m}\u001b[0m\u001b[1;36m\\seed-\u001b[0m\u001b[1;36m000\u001b[0m\u001b[1;36m-\u001b[0m\u001b[1;36m2024\u001b[0m\u001b[1;36m-\u001b[0m\u001b[1;36m04\u001b[0m\u001b[1;36m-\u001b[0m\u001b[1;36m24\u001b[0m\u001b[1;36m-\u001b[0m\u001b[1;36m01\u001b[0m\u001b[1;36m-\u001b[0m\u001b[1;36m31\u001b[0m\u001b[1;36m-\u001b[0m\u001b[1;36m35\u001b[0m\u001b[1;36m\\progress.csv\u001b[0m\n"
      ]
     },
     "metadata": {},
     "output_type": "display_data"
    },
    {
     "data": {
      "text/html": [
       "<pre style=\"white-space:pre;overflow-x:auto;line-height:normal;font-family:Menlo,'DejaVu Sans Mono',consolas,'Courier New',monospace\"><span style=\"color: #808000; text-decoration-color: #808000; font-weight: bold\">Save with config in config.json</span>\n",
       "</pre>\n"
      ],
      "text/plain": [
       "\u001b[1;33mSave with config in config.json\u001b[0m\n"
      ]
     },
     "metadata": {},
     "output_type": "display_data"
    },
    {
     "data": {
      "text/html": [
       "<pre style=\"white-space:pre;overflow-x:auto;line-height:normal;font-family:Menlo,'DejaVu Sans Mono',consolas,'Courier New',monospace\">project Benchmark_Safety name PPO-<span style=\"font-weight: bold\">{</span>SafetyPointGoal1-v0<span style=\"font-weight: bold\">}</span>-seed-<span style=\"color: #008080; text-decoration-color: #008080; font-weight: bold\">000</span>-<span style=\"color: #008080; text-decoration-color: #008080; font-weight: bold\">2024</span>-<span style=\"color: #008080; text-decoration-color: #008080; font-weight: bold\">04</span>-<span style=\"color: #008080; text-decoration-color: #008080; font-weight: bold\">24</span>-<span style=\"color: #008080; text-decoration-color: #008080; font-weight: bold\">01</span>-<span style=\"color: #008080; text-decoration-color: #008080; font-weight: bold\">31</span>-<span style=\"color: #008080; text-decoration-color: #008080; font-weight: bold\">35</span>\n",
       "</pre>\n"
      ],
      "text/plain": [
       "project Benchmark_Safety name PPO-\u001b[1m{\u001b[0mSafetyPointGoal1-v0\u001b[1m}\u001b[0m-seed-\u001b[1;36m000\u001b[0m-\u001b[1;36m2024\u001b[0m-\u001b[1;36m04\u001b[0m-\u001b[1;36m24\u001b[0m-\u001b[1;36m01\u001b[0m-\u001b[1;36m31\u001b[0m-\u001b[1;36m35\u001b[0m\n"
      ]
     },
     "metadata": {},
     "output_type": "display_data"
    },
    {
     "data": {
      "text/html": [
       "Finishing last run (ID:lqco2clu) before initializing another..."
      ],
      "text/plain": [
       "<IPython.core.display.HTML object>"
      ]
     },
     "metadata": {},
     "output_type": "display_data"
    },
    {
     "data": {
      "text/html": [
       "<style>\n",
       "    table.wandb td:nth-child(1) { padding: 0 10px; text-align: left ; width: auto;} td:nth-child(2) {text-align: left ; width: 100%}\n",
       "    .wandb-row { display: flex; flex-direction: row; flex-wrap: wrap; justify-content: flex-start; width: 100% }\n",
       "    .wandb-col { display: flex; flex-direction: column; flex-basis: 100%; flex: 1; padding: 10px; }\n",
       "    </style>\n",
       "<div class=\"wandb-row\"><div class=\"wandb-col\"><h3>Run history:</h3><br/><table class=\"wandb\"><tr><td>Loss/Loss_pi</td><td>▃▁▂▄▅▃▄▂▃▅▅▆▅▇▅▆▆▅█▇▅▆▅▅▅▆▆▆▆▅</td></tr><tr><td>Loss/Loss_pi/Delta</td><td>▁▆▇█▇▆█▆▇█▇▇▇▇▆▇▇▇█▇▆▇▇▇▇█▇▇▇▆</td></tr><tr><td>Loss/Loss_reward_critic</td><td>▂▁▃▃▅▅▅▆▅▇▇▇▇█▇▇██▇▇▆▇▆▇▇▆▆▇▆▇</td></tr><tr><td>Loss/Loss_reward_critic/Delta</td><td>█▂▇▄▇▃▄▄▃▆▄▄▂▅▁▄▅▄▂▃▂▅▂▄▅▁▄▅▁▅</td></tr><tr><td>Metrics/EpCost</td><td>▃▆██▇▆▅▅▄▃▃▃▃▂▁▂▃▃▂▂▂▃▄▄▄▂▂▁▂▂</td></tr><tr><td>Metrics/EpLen</td><td>▁▁▁▁▁▁▁▁▁▁▁▁▁▁▁▁▁▁▁▁▁▁▁▁▁▁▁▁▁▁</td></tr><tr><td>Metrics/EpRet</td><td>▁▁▁▂▂▃▄▄▅▅▆▆▇▇▇▇▇▇████████████</td></tr><tr><td>Misc/AcceptanceStep</td><td>▁▁▁▁▁▁▁▁▁▁▁▁▁▁▁▁▁▁▁▁▁▁▁▁▁▁▁▁▁▁</td></tr><tr><td>Misc/Alpha</td><td>▃▁▃▄▅▃▄▂▂▄▄▄▄▆▄▆▅▄█▇▄▅▄▅▄▅▅▆▅▄</td></tr><tr><td>Misc/FinalStepNorm</td><td>▅▃▃▃▃▂▂▁▁▃▃▄▄▄▄▅▇▅█▇▅▅▆▆▆▆█▇██</td></tr><tr><td>Misc/H_inv_g</td><td>▇█▄▃▁▂▂▃▂▂▃▃▃▂▄▃▆▅▂▂▅▃▆▄▆▆▇▅▇█</td></tr><tr><td>Misc/gradient_norm</td><td>▁▅▂▁▂▄▄▆█▅▄▆▃▆▆▃▃▅▂▃▄▇▄▄▃▄▅▂▂▃</td></tr><tr><td>Misc/xHx</td><td>▅█▅▄▃▅▄▆▆▄▄▃▄▂▄▂▃▃▁▁▃▃▃▃▄▃▃▂▃▃</td></tr><tr><td>Time/Epoch</td><td>▂▁▃▄▆██▅█▇█▇▇█▇▇█▇▇▇▇▇▇██▇▄▄▅▅</td></tr><tr><td>Time/FPS</td><td>▆█▆▅▃▁▁▄▁▂▁▂▁▁▁▂▁▂▂▂▂▂▂▁▁▂▄▅▄▄</td></tr><tr><td>Time/Rollout</td><td>▂▁▃▄▆██▅█▇▇▇█▇▇▇█▇▇▇▇▇▇▇█▇▄▄▄▅</td></tr><tr><td>Time/Total</td><td>▁▁▁▂▂▂▂▃▃▃▃▄▄▄▄▅▅▅▅▆▆▆▆▇▇▇▇███</td></tr><tr><td>Time/Update</td><td>▇█▅▇▅▃▄▁▃▂▄▃▃▅▅▄▃▆▃▅▃▆▂█▄▃▆▆▇▅</td></tr><tr><td>TotalEnvSteps</td><td>▁▁▁▂▂▂▂▃▃▃▃▄▄▄▄▅▅▅▅▆▆▆▆▇▇▇▇███</td></tr><tr><td>Train/Entropy</td><td>█████▇▇▇▆▆▅▅▅▄▄▃▃▃▃▃▃▂▂▂▂▁▁▁▁▁</td></tr><tr><td>Train/Epoch</td><td>▁▁▁▂▂▂▂▃▃▃▃▄▄▄▄▅▅▅▅▆▆▆▆▇▇▇▇███</td></tr><tr><td>Train/KL</td><td>▄▆▆▇▇▇▇██▆▆▅▅▅▅▄▃▄▁▂▄▄▃▃▃▂▁▂▂▁</td></tr><tr><td>Train/LR</td><td>▁▁▁▁▁▁▁▁▁▁▁▁▁▁▁▁▁▁▁▁▁▁▁▁▁▁▁▁▁▁</td></tr><tr><td>Train/PolicyRatio</td><td>▆▅▆▅▇▆▆▄▅▄▁▅▂▅▇▄▁▆▄▆▂▃▄█▇▂▄▄▅▅</td></tr><tr><td>Train/PolicyRatio/Max</td><td>▆▅▆▅▇▆▆▄▅▄▁▅▂▅▇▄▁▆▄▆▂▃▄█▇▂▄▄▅▅</td></tr><tr><td>Train/PolicyRatio/Min</td><td>▆▅▆▅▇▆▆▄▅▄▁▅▂▅▇▄▁▆▄▆▂▃▄█▇▂▄▄▅▅</td></tr><tr><td>Train/PolicyRatio/Std</td><td>▃▂▂▂▄▂▂▃▁▄▇▁▇▂▄▃█▁▃▃▆▄▄▆▄▆▄▂▁▂</td></tr><tr><td>Train/PolicyStd</td><td>████▇▇▇▆▆▅▅▄▄▄▃▃▃▃▂▂▂▂▂▂▁▁▁▁▁▁</td></tr><tr><td>Train/StopIter</td><td>▁▁▁▁▁▁▁▁▁▁▁▁▁▁▁▁▁▁▁▁▁▁▁▁▁▁▁▁▁▁</td></tr><tr><td>Value/Adv</td><td>▃▄▄▄▄▆▆▄▂▁▅█▂▆▅▁▃▃▂▄▄▅▄▃▄▄▄▄▃▄</td></tr><tr><td>Value/reward</td><td>▁▁▁▁▁▂▂▂▃▃▄▄▄▅▅▆▆▆▆▇▇▇▇▇▇█████</td></tr></table><br/></div><div class=\"wandb-col\"><h3>Run summary:</h3><br/><table class=\"wandb\"><tr><td>Loss/Loss_pi</td><td>-0.01203</td></tr><tr><td>Loss/Loss_pi/Delta</td><td>-0.00103</td></tr><tr><td>Loss/Loss_reward_critic</td><td>0.01652</td></tr><tr><td>Loss/Loss_reward_critic/Delta</td><td>0.00214</td></tr><tr><td>Metrics/EpCost</td><td>54.34</td></tr><tr><td>Metrics/EpLen</td><td>1000.0</td></tr><tr><td>Metrics/EpRet</td><td>26.23553</td></tr><tr><td>Misc/AcceptanceStep</td><td>1.0</td></tr><tr><td>Misc/Alpha</td><td>1.11398</td></tr><tr><td>Misc/FinalStepNorm</td><td>0.31365</td></tr><tr><td>Misc/H_inv_g</td><td>0.28155</td></tr><tr><td>Misc/gradient_norm</td><td>0.11044</td></tr><tr><td>Misc/xHx</td><td>0.01612</td></tr><tr><td>Time/Epoch</td><td>51.27768</td></tr><tr><td>Time/FPS</td><td>390.03323</td></tr><tr><td>Time/Rollout</td><td>43.34156</td></tr><tr><td>Time/Total</td><td>1607.93835</td></tr><tr><td>Time/Update</td><td>7.93612</td></tr><tr><td>TotalEnvSteps</td><td>600000.0</td></tr><tr><td>Train/Entropy</td><td>0.96031</td></tr><tr><td>Train/Epoch</td><td>29.0</td></tr><tr><td>Train/KL</td><td>0.00027</td></tr><tr><td>Train/LR</td><td>0.0</td></tr><tr><td>Train/PolicyRatio</td><td>0.99981</td></tr><tr><td>Train/PolicyRatio/Max</td><td>0.99981</td></tr><tr><td>Train/PolicyRatio/Min</td><td>0.99981</td></tr><tr><td>Train/PolicyRatio/Std</td><td>0.00013</td></tr><tr><td>Train/PolicyStd</td><td>0.65894</td></tr><tr><td>Train/StopIter</td><td>10.0</td></tr><tr><td>Value/Adv</td><td>-0.0</td></tr><tr><td>Value/reward</td><td>2.5529</td></tr></table><br/></div></div>"
      ],
      "text/plain": [
       "<IPython.core.display.HTML object>"
      ]
     },
     "metadata": {},
     "output_type": "display_data"
    },
    {
     "data": {
      "text/html": [
       " View run <strong style=\"color:#cdcd00\">TRPO-{SafetyPointGoal1-v0}-seed-000-2024-04-24-01-04-38</strong> at: <a href='https://wandb.ai/sasank/Benchmark_Safety/runs/lqco2clu' target=\"_blank\">https://wandb.ai/sasank/Benchmark_Safety/runs/lqco2clu</a><br/> View project at: <a href='https://wandb.ai/sasank/Benchmark_Safety' target=\"_blank\">https://wandb.ai/sasank/Benchmark_Safety</a><br/>Synced 5 W&B file(s), 0 media file(s), 0 artifact file(s) and 0 other file(s)"
      ],
      "text/plain": [
       "<IPython.core.display.HTML object>"
      ]
     },
     "metadata": {},
     "output_type": "display_data"
    },
    {
     "data": {
      "text/html": [
       "Find logs at: <code>./exp-x\\BM_Safety_Unconstrained\\SafetyPointGoal1-v0---dce575ce051f34bfb10e125b56a70286d41d91307da1cacad37e9d43f2725ea0\\TRPO-{SafetyPointGoal1-v0}\\seed-000-2024-04-24-01-04-38\\wandb\\run-20240424_010441-lqco2clu\\logs</code>"
      ],
      "text/plain": [
       "<IPython.core.display.HTML object>"
      ]
     },
     "metadata": {},
     "output_type": "display_data"
    },
    {
     "data": {
      "text/html": [
       "Successfully finished last run (ID:lqco2clu). Initializing new run:<br/>"
      ],
      "text/plain": [
       "<IPython.core.display.HTML object>"
      ]
     },
     "metadata": {},
     "output_type": "display_data"
    },
    {
     "data": {
      "text/html": [
       "Tracking run with wandb version 0.16.6"
      ],
      "text/plain": [
       "<IPython.core.display.HTML object>"
      ]
     },
     "metadata": {},
     "output_type": "display_data"
    },
    {
     "data": {
      "text/html": [
       "Run data is saved locally in <code>./exp-x\\BM_Safety_Unconstrained\\SafetyPointGoal1-v0---999237c8a579096ba86ab3adcf0f9920f8c8e50b5e4a8f222ceb30613ecc92ca\\PPO-{SafetyPointGoal1-v0}\\seed-000-2024-04-24-01-31-35\\wandb\\run-20240424_013135-32lfpafv</code>"
      ],
      "text/plain": [
       "<IPython.core.display.HTML object>"
      ]
     },
     "metadata": {},
     "output_type": "display_data"
    },
    {
     "data": {
      "text/html": [
       "Syncing run <strong><a href='https://wandb.ai/sasank/Benchmark_Safety/runs/32lfpafv' target=\"_blank\">PPO-{SafetyPointGoal1-v0}-seed-000-2024-04-24-01-31-35</a></strong> to <a href='https://wandb.ai/sasank/Benchmark_Safety' target=\"_blank\">Weights & Biases</a> (<a href='https://wandb.me/run' target=\"_blank\">docs</a>)<br/>"
      ],
      "text/plain": [
       "<IPython.core.display.HTML object>"
      ]
     },
     "metadata": {},
     "output_type": "display_data"
    },
    {
     "data": {
      "text/html": [
       " View project at <a href='https://wandb.ai/sasank/Benchmark_Safety' target=\"_blank\">https://wandb.ai/sasank/Benchmark_Safety</a>"
      ],
      "text/plain": [
       "<IPython.core.display.HTML object>"
      ]
     },
     "metadata": {},
     "output_type": "display_data"
    },
    {
     "data": {
      "text/html": [
       " View run at <a href='https://wandb.ai/sasank/Benchmark_Safety/runs/32lfpafv' target=\"_blank\">https://wandb.ai/sasank/Benchmark_Safety/runs/32lfpafv</a>"
      ],
      "text/plain": [
       "<IPython.core.display.HTML object>"
      ]
     },
     "metadata": {},
     "output_type": "display_data"
    },
    {
     "data": {
      "text/html": [
       "<pre style=\"white-space:pre;overflow-x:auto;line-height:normal;font-family:Menlo,'DejaVu Sans Mono',consolas,'Courier New',monospace\"><span style=\"color: #008000; text-decoration-color: #008000\">INFO: Start training</span>\n",
       "</pre>\n"
      ],
      "text/plain": [
       "\u001b[32mINFO: Start training\u001b[0m\n"
      ]
     },
     "metadata": {},
     "output_type": "display_data"
    },
    {
     "data": {
      "text/html": [
       "<pre style=\"white-space:pre;overflow-x:auto;line-height:normal;font-family:Menlo,'DejaVu Sans Mono',consolas,'Courier New',monospace\">c:\\Users\\saisa\\.conda\\envs\\omnisafe-env\\lib\\site-packages\\rich\\live.py:231: UserWarning: install \"ipywidgets\" for \n",
       "Jupyter support\n",
       "  warnings.warn('install \"ipywidgets\" for Jupyter support')\n",
       "</pre>\n"
      ],
      "text/plain": [
       "c:\\Users\\saisa\\.conda\\envs\\omnisafe-env\\lib\\site-packages\\rich\\live.py:231: UserWarning: install \"ipywidgets\" for \n",
       "Jupyter support\n",
       "  warnings.warn('install \"ipywidgets\" for Jupyter support')\n"
      ]
     },
     "metadata": {},
     "output_type": "display_data"
    },
    {
     "data": {
      "text/html": [
       "<pre style=\"white-space:pre;overflow-x:auto;line-height:normal;font-family:Menlo,'DejaVu Sans Mono',consolas,'Courier New',monospace\"><span style=\"color: #008000; text-decoration-color: #008000\">Warning: trajectory cut off when rollout by epoch at </span><span style=\"color: #008080; text-decoration-color: #008080; font-weight: bold\">1000.0</span><span style=\"color: #008000; text-decoration-color: #008000\"> steps.</span>\n",
       "</pre>\n"
      ],
      "text/plain": [
       "\u001b[32mWarning: trajectory cut off when rollout by epoch at \u001b[0m\u001b[1;36m1000.0\u001b[0m\u001b[32m steps.\u001b[0m\n"
      ]
     },
     "metadata": {},
     "output_type": "display_data"
    },
    {
     "data": {
      "text/html": [
       "<pre style=\"white-space:pre;overflow-x:auto;line-height:normal;font-family:Menlo,'DejaVu Sans Mono',consolas,'Courier New',monospace\"><span style=\"color: #008000; text-decoration-color: #008000\">Warning: trajectory cut off when rollout by epoch at </span><span style=\"color: #008080; text-decoration-color: #008080; font-weight: bold\">1000.0</span><span style=\"color: #008000; text-decoration-color: #008000\"> steps.</span>\n",
       "</pre>\n"
      ],
      "text/plain": [
       "\u001b[32mWarning: trajectory cut off when rollout by epoch at \u001b[0m\u001b[1;36m1000.0\u001b[0m\u001b[32m steps.\u001b[0m\n"
      ]
     },
     "metadata": {},
     "output_type": "display_data"
    },
    {
     "data": {
      "text/html": [
       "<pre style=\"white-space:pre;overflow-x:auto;line-height:normal;font-family:Menlo,'DejaVu Sans Mono',consolas,'Courier New',monospace\"><span style=\"color: #008000; text-decoration-color: #008000\">Warning: trajectory cut off when rollout by epoch at </span><span style=\"color: #008080; text-decoration-color: #008080; font-weight: bold\">1000.0</span><span style=\"color: #008000; text-decoration-color: #008000\"> steps.</span>\n",
       "</pre>\n"
      ],
      "text/plain": [
       "\u001b[32mWarning: trajectory cut off when rollout by epoch at \u001b[0m\u001b[1;36m1000.0\u001b[0m\u001b[32m steps.\u001b[0m\n"
      ]
     },
     "metadata": {},
     "output_type": "display_data"
    },
    {
     "data": {
      "text/html": [
       "<pre style=\"white-space:pre;overflow-x:auto;line-height:normal;font-family:Menlo,'DejaVu Sans Mono',consolas,'Courier New',monospace\"><span style=\"color: #008000; text-decoration-color: #008000\">Warning: trajectory cut off when rollout by epoch at </span><span style=\"color: #008080; text-decoration-color: #008080; font-weight: bold\">1000.0</span><span style=\"color: #008000; text-decoration-color: #008000\"> steps.</span>\n",
       "</pre>\n"
      ],
      "text/plain": [
       "\u001b[32mWarning: trajectory cut off when rollout by epoch at \u001b[0m\u001b[1;36m1000.0\u001b[0m\u001b[32m steps.\u001b[0m\n"
      ]
     },
     "metadata": {},
     "output_type": "display_data"
    },
    {
     "data": {
      "text/html": [
       "<pre style=\"white-space:pre;overflow-x:auto;line-height:normal;font-family:Menlo,'DejaVu Sans Mono',consolas,'Courier New',monospace\"></pre>\n"
      ],
      "text/plain": []
     },
     "metadata": {},
     "output_type": "display_data"
    },
    {
     "data": {
      "text/html": [
       "<pre style=\"white-space:pre;overflow-x:auto;line-height:normal;font-family:Menlo,'DejaVu Sans Mono',consolas,'Courier New',monospace\">\n",
       "</pre>\n"
      ],
      "text/plain": [
       "\n"
      ]
     },
     "metadata": {},
     "output_type": "display_data"
    },
    {
     "data": {
      "text/html": [
       "<pre style=\"white-space:pre;overflow-x:auto;line-height:normal;font-family:Menlo,'DejaVu Sans Mono',consolas,'Courier New',monospace\"></pre>\n"
      ],
      "text/plain": []
     },
     "metadata": {},
     "output_type": "display_data"
    },
    {
     "data": {
      "text/html": [
       "<pre style=\"white-space:pre;overflow-x:auto;line-height:normal;font-family:Menlo,'DejaVu Sans Mono',consolas,'Courier New',monospace\">\n",
       "</pre>\n"
      ],
      "text/plain": [
       "\n"
      ]
     },
     "metadata": {},
     "output_type": "display_data"
    },
    {
     "data": {
      "text/html": [
       "<pre style=\"white-space:pre;overflow-x:auto;line-height:normal;font-family:Menlo,'DejaVu Sans Mono',consolas,'Courier New',monospace\">┏━━━━━━━━━━━━━━━━━━━━━━━━━━━━━━━┳━━━━━━━━━━━━━━━━━━━━━━━┓\n",
       "┃<span style=\"font-weight: bold\"> Metrics                       </span>┃<span style=\"font-weight: bold\"> Value                 </span>┃\n",
       "┡━━━━━━━━━━━━━━━━━━━━━━━━━━━━━━━╇━━━━━━━━━━━━━━━━━━━━━━━┩\n",
       "│ Metrics/EpRet                 │ -0.6186364889144897   │\n",
       "│ Metrics/EpCost                │ 63.150001525878906    │\n",
       "│ Metrics/EpLen                 │ 1000.0                │\n",
       "│ Train/Epoch                   │ 0.0                   │\n",
       "│ Train/Entropy                 │ 1.4062575101852417    │\n",
       "│ Train/KL                      │ 0.012556595727801323  │\n",
       "│ Train/StopIter                │ 40.0                  │\n",
       "│ Train/PolicyRatio/Mean        │ 1.0009379386901855    │\n",
       "│ Train/PolicyRatio/Min         │ 1.0009379386901855    │\n",
       "│ Train/PolicyRatio/Max         │ 1.0009379386901855    │\n",
       "│ Train/PolicyRatio/Std         │ 0.01757177896797657   │\n",
       "│ Train/LR                      │ 0.0002899999963119626 │\n",
       "│ Train/PolicyStd               │ 0.9874053597450256    │\n",
       "│ TotalEnvSteps                 │ 20000.0               │\n",
       "│ Loss/Loss_pi                  │ -0.013987178914248943 │\n",
       "│ Loss/Loss_pi/Delta            │ -0.013987178914248943 │\n",
       "│ Value/Adv                     │ -0.04316987097263336  │\n",
       "│ Loss/Loss_reward_critic       │ 0.004342734348028898  │\n",
       "│ Loss/Loss_reward_critic/Delta │ 0.004342734348028898  │\n",
       "│ Value/reward                  │ 0.008124573156237602  │\n",
       "│ Time/Total                    │ 161.50987243652344    │\n",
       "│ Time/Rollout                  │ 38.18334197998047     │\n",
       "│ Time/Update                   │ 123.32551574707031    │\n",
       "│ Time/Epoch                    │ 161.5088653564453     │\n",
       "│ Time/FPS                      │ 123.83221435546875    │\n",
       "└───────────────────────────────┴───────────────────────┘\n",
       "</pre>\n"
      ],
      "text/plain": [
       "┏━━━━━━━━━━━━━━━━━━━━━━━━━━━━━━━┳━━━━━━━━━━━━━━━━━━━━━━━┓\n",
       "┃\u001b[1m \u001b[0m\u001b[1mMetrics                      \u001b[0m\u001b[1m \u001b[0m┃\u001b[1m \u001b[0m\u001b[1mValue                \u001b[0m\u001b[1m \u001b[0m┃\n",
       "┡━━━━━━━━━━━━━━━━━━━━━━━━━━━━━━━╇━━━━━━━━━━━━━━━━━━━━━━━┩\n",
       "│ Metrics/EpRet                 │ -0.6186364889144897   │\n",
       "│ Metrics/EpCost                │ 63.150001525878906    │\n",
       "│ Metrics/EpLen                 │ 1000.0                │\n",
       "│ Train/Epoch                   │ 0.0                   │\n",
       "│ Train/Entropy                 │ 1.4062575101852417    │\n",
       "│ Train/KL                      │ 0.012556595727801323  │\n",
       "│ Train/StopIter                │ 40.0                  │\n",
       "│ Train/PolicyRatio/Mean        │ 1.0009379386901855    │\n",
       "│ Train/PolicyRatio/Min         │ 1.0009379386901855    │\n",
       "│ Train/PolicyRatio/Max         │ 1.0009379386901855    │\n",
       "│ Train/PolicyRatio/Std         │ 0.01757177896797657   │\n",
       "│ Train/LR                      │ 0.0002899999963119626 │\n",
       "│ Train/PolicyStd               │ 0.9874053597450256    │\n",
       "│ TotalEnvSteps                 │ 20000.0               │\n",
       "│ Loss/Loss_pi                  │ -0.013987178914248943 │\n",
       "│ Loss/Loss_pi/Delta            │ -0.013987178914248943 │\n",
       "│ Value/Adv                     │ -0.04316987097263336  │\n",
       "│ Loss/Loss_reward_critic       │ 0.004342734348028898  │\n",
       "│ Loss/Loss_reward_critic/Delta │ 0.004342734348028898  │\n",
       "│ Value/reward                  │ 0.008124573156237602  │\n",
       "│ Time/Total                    │ 161.50987243652344    │\n",
       "│ Time/Rollout                  │ 38.18334197998047     │\n",
       "│ Time/Update                   │ 123.32551574707031    │\n",
       "│ Time/Epoch                    │ 161.5088653564453     │\n",
       "│ Time/FPS                      │ 123.83221435546875    │\n",
       "└───────────────────────────────┴───────────────────────┘\n"
      ]
     },
     "metadata": {},
     "output_type": "display_data"
    },
    {
     "data": {
      "text/html": [
       "<pre style=\"white-space:pre;overflow-x:auto;line-height:normal;font-family:Menlo,'DejaVu Sans Mono',consolas,'Courier New',monospace\"><span style=\"color: #008000; text-decoration-color: #008000\">Warning: trajectory cut off when rollout by epoch at </span><span style=\"color: #008080; text-decoration-color: #008080; font-weight: bold\">1000.0</span><span style=\"color: #008000; text-decoration-color: #008000\"> steps.</span>\n",
       "</pre>\n"
      ],
      "text/plain": [
       "\u001b[32mWarning: trajectory cut off when rollout by epoch at \u001b[0m\u001b[1;36m1000.0\u001b[0m\u001b[32m steps.\u001b[0m\n"
      ]
     },
     "metadata": {},
     "output_type": "display_data"
    },
    {
     "data": {
      "text/html": [
       "<pre style=\"white-space:pre;overflow-x:auto;line-height:normal;font-family:Menlo,'DejaVu Sans Mono',consolas,'Courier New',monospace\"><span style=\"color: #008000; text-decoration-color: #008000\">Warning: trajectory cut off when rollout by epoch at </span><span style=\"color: #008080; text-decoration-color: #008080; font-weight: bold\">1000.0</span><span style=\"color: #008000; text-decoration-color: #008000\"> steps.</span>\n",
       "</pre>\n"
      ],
      "text/plain": [
       "\u001b[32mWarning: trajectory cut off when rollout by epoch at \u001b[0m\u001b[1;36m1000.0\u001b[0m\u001b[32m steps.\u001b[0m\n"
      ]
     },
     "metadata": {},
     "output_type": "display_data"
    },
    {
     "data": {
      "text/html": [
       "<pre style=\"white-space:pre;overflow-x:auto;line-height:normal;font-family:Menlo,'DejaVu Sans Mono',consolas,'Courier New',monospace\"><span style=\"color: #008000; text-decoration-color: #008000\">Warning: trajectory cut off when rollout by epoch at </span><span style=\"color: #008080; text-decoration-color: #008080; font-weight: bold\">1000.0</span><span style=\"color: #008000; text-decoration-color: #008000\"> steps.</span>\n",
       "</pre>\n"
      ],
      "text/plain": [
       "\u001b[32mWarning: trajectory cut off when rollout by epoch at \u001b[0m\u001b[1;36m1000.0\u001b[0m\u001b[32m steps.\u001b[0m\n"
      ]
     },
     "metadata": {},
     "output_type": "display_data"
    },
    {
     "data": {
      "text/html": [
       "<pre style=\"white-space:pre;overflow-x:auto;line-height:normal;font-family:Menlo,'DejaVu Sans Mono',consolas,'Courier New',monospace\"><span style=\"color: #008000; text-decoration-color: #008000\">Warning: trajectory cut off when rollout by epoch at </span><span style=\"color: #008080; text-decoration-color: #008080; font-weight: bold\">1000.0</span><span style=\"color: #008000; text-decoration-color: #008000\"> steps.</span>\n",
       "</pre>\n"
      ],
      "text/plain": [
       "\u001b[32mWarning: trajectory cut off when rollout by epoch at \u001b[0m\u001b[1;36m1000.0\u001b[0m\u001b[32m steps.\u001b[0m\n"
      ]
     },
     "metadata": {},
     "output_type": "display_data"
    },
    {
     "data": {
      "text/html": [
       "<pre style=\"white-space:pre;overflow-x:auto;line-height:normal;font-family:Menlo,'DejaVu Sans Mono',consolas,'Courier New',monospace\"></pre>\n"
      ],
      "text/plain": []
     },
     "metadata": {},
     "output_type": "display_data"
    },
    {
     "data": {
      "text/html": [
       "<pre style=\"white-space:pre;overflow-x:auto;line-height:normal;font-family:Menlo,'DejaVu Sans Mono',consolas,'Courier New',monospace\">\n",
       "</pre>\n"
      ],
      "text/plain": [
       "\n"
      ]
     },
     "metadata": {},
     "output_type": "display_data"
    },
    {
     "data": {
      "text/html": [
       "<pre style=\"white-space:pre;overflow-x:auto;line-height:normal;font-family:Menlo,'DejaVu Sans Mono',consolas,'Courier New',monospace\"><span style=\"color: #008000; text-decoration-color: #008000\">Early stopping at iter </span><span style=\"color: #008080; text-decoration-color: #008080; font-weight: bold\">35</span><span style=\"color: #008000; text-decoration-color: #008000\"> due to reaching max kl</span>\n",
       "</pre>\n"
      ],
      "text/plain": [
       "\u001b[32mEarly stopping at iter \u001b[0m\u001b[1;36m35\u001b[0m\u001b[32m due to reaching max kl\u001b[0m\n"
      ]
     },
     "metadata": {},
     "output_type": "display_data"
    },
    {
     "data": {
      "text/html": [
       "<pre style=\"white-space:pre;overflow-x:auto;line-height:normal;font-family:Menlo,'DejaVu Sans Mono',consolas,'Courier New',monospace\"></pre>\n"
      ],
      "text/plain": []
     },
     "metadata": {},
     "output_type": "display_data"
    },
    {
     "data": {
      "text/html": [
       "<pre style=\"white-space:pre;overflow-x:auto;line-height:normal;font-family:Menlo,'DejaVu Sans Mono',consolas,'Courier New',monospace\">\n",
       "</pre>\n"
      ],
      "text/plain": [
       "\n"
      ]
     },
     "metadata": {},
     "output_type": "display_data"
    },
    {
     "data": {
      "text/html": [
       "<pre style=\"white-space:pre;overflow-x:auto;line-height:normal;font-family:Menlo,'DejaVu Sans Mono',consolas,'Courier New',monospace\">┏━━━━━━━━━━━━━━━━━━━━━━━━━━━━━━━┳━━━━━━━━━━━━━━━━━━━━━━━━┓\n",
       "┃<span style=\"font-weight: bold\"> Metrics                       </span>┃<span style=\"font-weight: bold\"> Value                  </span>┃\n",
       "┡━━━━━━━━━━━━━━━━━━━━━━━━━━━━━━━╇━━━━━━━━━━━━━━━━━━━━━━━━┩\n",
       "│ Metrics/EpRet                 │ -0.29656919836997986   │\n",
       "│ Metrics/EpCost                │ 62.849998474121094     │\n",
       "│ Metrics/EpLen                 │ 1000.0                 │\n",
       "│ Train/Epoch                   │ 1.0                    │\n",
       "│ Train/Entropy                 │ 1.3864049911499023     │\n",
       "│ Train/KL                      │ 0.020895039662718773   │\n",
       "│ Train/StopIter                │ 35.0                   │\n",
       "│ Train/PolicyRatio/Mean        │ 0.9978679418563843     │\n",
       "│ Train/PolicyRatio/Min         │ 0.9978679418563843     │\n",
       "│ Train/PolicyRatio/Max         │ 0.9978679418563843     │\n",
       "│ Train/PolicyRatio/Std         │ 0.02135325036942959    │\n",
       "│ Train/LR                      │ 0.0002800000074785203  │\n",
       "│ Train/PolicyStd               │ 0.96799635887146       │\n",
       "│ TotalEnvSteps                 │ 40000.0                │\n",
       "│ Loss/Loss_pi                  │ -0.020730717107653618  │\n",
       "│ Loss/Loss_pi/Delta            │ -0.0067435381934046745 │\n",
       "│ Value/Adv                     │ 0.05718689411878586    │\n",
       "│ Loss/Loss_reward_critic       │ 0.0030590395908802748  │\n",
       "│ Loss/Loss_reward_critic/Delta │ -0.0012836947571486235 │\n",
       "│ Value/reward                  │ 0.001568953855894506   │\n",
       "│ Time/Total                    │ 313.6102600097656      │\n",
       "│ Time/Rollout                  │ 43.18916320800781      │\n",
       "│ Time/Update                   │ 108.87922668457031     │\n",
       "│ Time/Epoch                    │ 152.06838989257812     │\n",
       "│ Time/FPS                      │ 131.519775390625       │\n",
       "└───────────────────────────────┴────────────────────────┘\n",
       "</pre>\n"
      ],
      "text/plain": [
       "┏━━━━━━━━━━━━━━━━━━━━━━━━━━━━━━━┳━━━━━━━━━━━━━━━━━━━━━━━━┓\n",
       "┃\u001b[1m \u001b[0m\u001b[1mMetrics                      \u001b[0m\u001b[1m \u001b[0m┃\u001b[1m \u001b[0m\u001b[1mValue                 \u001b[0m\u001b[1m \u001b[0m┃\n",
       "┡━━━━━━━━━━━━━━━━━━━━━━━━━━━━━━━╇━━━━━━━━━━━━━━━━━━━━━━━━┩\n",
       "│ Metrics/EpRet                 │ -0.29656919836997986   │\n",
       "│ Metrics/EpCost                │ 62.849998474121094     │\n",
       "│ Metrics/EpLen                 │ 1000.0                 │\n",
       "│ Train/Epoch                   │ 1.0                    │\n",
       "│ Train/Entropy                 │ 1.3864049911499023     │\n",
       "│ Train/KL                      │ 0.020895039662718773   │\n",
       "│ Train/StopIter                │ 35.0                   │\n",
       "│ Train/PolicyRatio/Mean        │ 0.9978679418563843     │\n",
       "│ Train/PolicyRatio/Min         │ 0.9978679418563843     │\n",
       "│ Train/PolicyRatio/Max         │ 0.9978679418563843     │\n",
       "│ Train/PolicyRatio/Std         │ 0.02135325036942959    │\n",
       "│ Train/LR                      │ 0.0002800000074785203  │\n",
       "│ Train/PolicyStd               │ 0.96799635887146       │\n",
       "│ TotalEnvSteps                 │ 40000.0                │\n",
       "│ Loss/Loss_pi                  │ -0.020730717107653618  │\n",
       "│ Loss/Loss_pi/Delta            │ -0.0067435381934046745 │\n",
       "│ Value/Adv                     │ 0.05718689411878586    │\n",
       "│ Loss/Loss_reward_critic       │ 0.0030590395908802748  │\n",
       "│ Loss/Loss_reward_critic/Delta │ -0.0012836947571486235 │\n",
       "│ Value/reward                  │ 0.001568953855894506   │\n",
       "│ Time/Total                    │ 313.6102600097656      │\n",
       "│ Time/Rollout                  │ 43.18916320800781      │\n",
       "│ Time/Update                   │ 108.87922668457031     │\n",
       "│ Time/Epoch                    │ 152.06838989257812     │\n",
       "│ Time/FPS                      │ 131.519775390625       │\n",
       "└───────────────────────────────┴────────────────────────┘\n"
      ]
     },
     "metadata": {},
     "output_type": "display_data"
    },
    {
     "data": {
      "text/html": [
       "<pre style=\"white-space:pre;overflow-x:auto;line-height:normal;font-family:Menlo,'DejaVu Sans Mono',consolas,'Courier New',monospace\"><span style=\"color: #008000; text-decoration-color: #008000\">Warning: trajectory cut off when rollout by epoch at </span><span style=\"color: #008080; text-decoration-color: #008080; font-weight: bold\">1000.0</span><span style=\"color: #008000; text-decoration-color: #008000\"> steps.</span>\n",
       "</pre>\n"
      ],
      "text/plain": [
       "\u001b[32mWarning: trajectory cut off when rollout by epoch at \u001b[0m\u001b[1;36m1000.0\u001b[0m\u001b[32m steps.\u001b[0m\n"
      ]
     },
     "metadata": {},
     "output_type": "display_data"
    },
    {
     "data": {
      "text/html": [
       "<pre style=\"white-space:pre;overflow-x:auto;line-height:normal;font-family:Menlo,'DejaVu Sans Mono',consolas,'Courier New',monospace\"><span style=\"color: #008000; text-decoration-color: #008000\">Warning: trajectory cut off when rollout by epoch at </span><span style=\"color: #008080; text-decoration-color: #008080; font-weight: bold\">1000.0</span><span style=\"color: #008000; text-decoration-color: #008000\"> steps.</span>\n",
       "</pre>\n"
      ],
      "text/plain": [
       "\u001b[32mWarning: trajectory cut off when rollout by epoch at \u001b[0m\u001b[1;36m1000.0\u001b[0m\u001b[32m steps.\u001b[0m\n"
      ]
     },
     "metadata": {},
     "output_type": "display_data"
    },
    {
     "data": {
      "text/html": [
       "<pre style=\"white-space:pre;overflow-x:auto;line-height:normal;font-family:Menlo,'DejaVu Sans Mono',consolas,'Courier New',monospace\"><span style=\"color: #008000; text-decoration-color: #008000\">Warning: trajectory cut off when rollout by epoch at </span><span style=\"color: #008080; text-decoration-color: #008080; font-weight: bold\">1000.0</span><span style=\"color: #008000; text-decoration-color: #008000\"> steps.</span>\n",
       "</pre>\n"
      ],
      "text/plain": [
       "\u001b[32mWarning: trajectory cut off when rollout by epoch at \u001b[0m\u001b[1;36m1000.0\u001b[0m\u001b[32m steps.\u001b[0m\n"
      ]
     },
     "metadata": {},
     "output_type": "display_data"
    },
    {
     "data": {
      "text/html": [
       "<pre style=\"white-space:pre;overflow-x:auto;line-height:normal;font-family:Menlo,'DejaVu Sans Mono',consolas,'Courier New',monospace\"><span style=\"color: #008000; text-decoration-color: #008000\">Warning: trajectory cut off when rollout by epoch at </span><span style=\"color: #008080; text-decoration-color: #008080; font-weight: bold\">1000.0</span><span style=\"color: #008000; text-decoration-color: #008000\"> steps.</span>\n",
       "</pre>\n"
      ],
      "text/plain": [
       "\u001b[32mWarning: trajectory cut off when rollout by epoch at \u001b[0m\u001b[1;36m1000.0\u001b[0m\u001b[32m steps.\u001b[0m\n"
      ]
     },
     "metadata": {},
     "output_type": "display_data"
    },
    {
     "data": {
      "text/html": [
       "<pre style=\"white-space:pre;overflow-x:auto;line-height:normal;font-family:Menlo,'DejaVu Sans Mono',consolas,'Courier New',monospace\"></pre>\n"
      ],
      "text/plain": []
     },
     "metadata": {},
     "output_type": "display_data"
    },
    {
     "data": {
      "text/html": [
       "<pre style=\"white-space:pre;overflow-x:auto;line-height:normal;font-family:Menlo,'DejaVu Sans Mono',consolas,'Courier New',monospace\">\n",
       "</pre>\n"
      ],
      "text/plain": [
       "\n"
      ]
     },
     "metadata": {},
     "output_type": "display_data"
    },
    {
     "data": {
      "text/html": [
       "<pre style=\"white-space:pre;overflow-x:auto;line-height:normal;font-family:Menlo,'DejaVu Sans Mono',consolas,'Courier New',monospace\"><span style=\"color: #008000; text-decoration-color: #008000\">Early stopping at iter </span><span style=\"color: #008080; text-decoration-color: #008080; font-weight: bold\">14</span><span style=\"color: #008000; text-decoration-color: #008000\"> due to reaching max kl</span>\n",
       "</pre>\n"
      ],
      "text/plain": [
       "\u001b[32mEarly stopping at iter \u001b[0m\u001b[1;36m14\u001b[0m\u001b[32m due to reaching max kl\u001b[0m\n"
      ]
     },
     "metadata": {},
     "output_type": "display_data"
    },
    {
     "data": {
      "text/html": [
       "<pre style=\"white-space:pre;overflow-x:auto;line-height:normal;font-family:Menlo,'DejaVu Sans Mono',consolas,'Courier New',monospace\"></pre>\n"
      ],
      "text/plain": []
     },
     "metadata": {},
     "output_type": "display_data"
    },
    {
     "data": {
      "text/html": [
       "<pre style=\"white-space:pre;overflow-x:auto;line-height:normal;font-family:Menlo,'DejaVu Sans Mono',consolas,'Courier New',monospace\">\n",
       "</pre>\n"
      ],
      "text/plain": [
       "\n"
      ]
     },
     "metadata": {},
     "output_type": "display_data"
    },
    {
     "data": {
      "text/html": [
       "<pre style=\"white-space:pre;overflow-x:auto;line-height:normal;font-family:Menlo,'DejaVu Sans Mono',consolas,'Courier New',monospace\">┏━━━━━━━━━━━━━━━━━━━━━━━━━━━━━━━┳━━━━━━━━━━━━━━━━━━━━━━━┓\n",
       "┃<span style=\"font-weight: bold\"> Metrics                       </span>┃<span style=\"font-weight: bold\"> Value                 </span>┃\n",
       "┡━━━━━━━━━━━━━━━━━━━━━━━━━━━━━━━╇━━━━━━━━━━━━━━━━━━━━━━━┩\n",
       "│ Metrics/EpRet                 │ 0.37877216935157776   │\n",
       "│ Metrics/EpCost                │ 79.23999786376953     │\n",
       "│ Metrics/EpLen                 │ 1000.0                │\n",
       "│ Train/Epoch                   │ 2.0                   │\n",
       "│ Train/Entropy                 │ 1.364654302597046     │\n",
       "│ Train/KL                      │ 0.02042592130601406   │\n",
       "│ Train/StopIter                │ 14.0                  │\n",
       "│ Train/PolicyRatio/Mean        │ 0.9984123706817627    │\n",
       "│ Train/PolicyRatio/Min         │ 0.9984123110771179    │\n",
       "│ Train/PolicyRatio/Max         │ 0.9984123110771179    │\n",
       "│ Train/PolicyRatio/Std         │ 0.020553676411509514  │\n",
       "│ Train/LR                      │ 0.0002699999895412475 │\n",
       "│ Train/PolicyStd               │ 0.9472034573554993    │\n",
       "│ TotalEnvSteps                 │ 60000.0               │\n",
       "│ Loss/Loss_pi                  │ -0.013238458894193172 │\n",
       "│ Loss/Loss_pi/Delta            │ 0.007492258213460445  │\n",
       "│ Value/Adv                     │ 0.17558756470680237   │\n",
       "│ Loss/Loss_reward_critic       │ 0.006494530942291021  │\n",
       "│ Loss/Loss_reward_critic/Delta │ 0.0034354913514107466 │\n",
       "│ Value/reward                  │ 0.023884659633040428  │\n",
       "│ Time/Total                    │ 399.6939392089844     │\n",
       "│ Time/Rollout                  │ 42.58050537109375     │\n",
       "│ Time/Update                   │ 43.469173431396484    │\n",
       "│ Time/Epoch                    │ 86.0496826171875      │\n",
       "│ Time/FPS                      │ 232.4238739013672     │\n",
       "└───────────────────────────────┴───────────────────────┘\n",
       "</pre>\n"
      ],
      "text/plain": [
       "┏━━━━━━━━━━━━━━━━━━━━━━━━━━━━━━━┳━━━━━━━━━━━━━━━━━━━━━━━┓\n",
       "┃\u001b[1m \u001b[0m\u001b[1mMetrics                      \u001b[0m\u001b[1m \u001b[0m┃\u001b[1m \u001b[0m\u001b[1mValue                \u001b[0m\u001b[1m \u001b[0m┃\n",
       "┡━━━━━━━━━━━━━━━━━━━━━━━━━━━━━━━╇━━━━━━━━━━━━━━━━━━━━━━━┩\n",
       "│ Metrics/EpRet                 │ 0.37877216935157776   │\n",
       "│ Metrics/EpCost                │ 79.23999786376953     │\n",
       "│ Metrics/EpLen                 │ 1000.0                │\n",
       "│ Train/Epoch                   │ 2.0                   │\n",
       "│ Train/Entropy                 │ 1.364654302597046     │\n",
       "│ Train/KL                      │ 0.02042592130601406   │\n",
       "│ Train/StopIter                │ 14.0                  │\n",
       "│ Train/PolicyRatio/Mean        │ 0.9984123706817627    │\n",
       "│ Train/PolicyRatio/Min         │ 0.9984123110771179    │\n",
       "│ Train/PolicyRatio/Max         │ 0.9984123110771179    │\n",
       "│ Train/PolicyRatio/Std         │ 0.020553676411509514  │\n",
       "│ Train/LR                      │ 0.0002699999895412475 │\n",
       "│ Train/PolicyStd               │ 0.9472034573554993    │\n",
       "│ TotalEnvSteps                 │ 60000.0               │\n",
       "│ Loss/Loss_pi                  │ -0.013238458894193172 │\n",
       "│ Loss/Loss_pi/Delta            │ 0.007492258213460445  │\n",
       "│ Value/Adv                     │ 0.17558756470680237   │\n",
       "│ Loss/Loss_reward_critic       │ 0.006494530942291021  │\n",
       "│ Loss/Loss_reward_critic/Delta │ 0.0034354913514107466 │\n",
       "│ Value/reward                  │ 0.023884659633040428  │\n",
       "│ Time/Total                    │ 399.6939392089844     │\n",
       "│ Time/Rollout                  │ 42.58050537109375     │\n",
       "│ Time/Update                   │ 43.469173431396484    │\n",
       "│ Time/Epoch                    │ 86.0496826171875      │\n",
       "│ Time/FPS                      │ 232.4238739013672     │\n",
       "└───────────────────────────────┴───────────────────────┘\n"
      ]
     },
     "metadata": {},
     "output_type": "display_data"
    },
    {
     "data": {
      "text/html": [
       "<pre style=\"white-space:pre;overflow-x:auto;line-height:normal;font-family:Menlo,'DejaVu Sans Mono',consolas,'Courier New',monospace\"><span style=\"color: #008000; text-decoration-color: #008000\">Warning: trajectory cut off when rollout by epoch at </span><span style=\"color: #008080; text-decoration-color: #008080; font-weight: bold\">1000.0</span><span style=\"color: #008000; text-decoration-color: #008000\"> steps.</span>\n",
       "</pre>\n"
      ],
      "text/plain": [
       "\u001b[32mWarning: trajectory cut off when rollout by epoch at \u001b[0m\u001b[1;36m1000.0\u001b[0m\u001b[32m steps.\u001b[0m\n"
      ]
     },
     "metadata": {},
     "output_type": "display_data"
    },
    {
     "data": {
      "text/html": [
       "<pre style=\"white-space:pre;overflow-x:auto;line-height:normal;font-family:Menlo,'DejaVu Sans Mono',consolas,'Courier New',monospace\"><span style=\"color: #008000; text-decoration-color: #008000\">Warning: trajectory cut off when rollout by epoch at </span><span style=\"color: #008080; text-decoration-color: #008080; font-weight: bold\">1000.0</span><span style=\"color: #008000; text-decoration-color: #008000\"> steps.</span>\n",
       "</pre>\n"
      ],
      "text/plain": [
       "\u001b[32mWarning: trajectory cut off when rollout by epoch at \u001b[0m\u001b[1;36m1000.0\u001b[0m\u001b[32m steps.\u001b[0m\n"
      ]
     },
     "metadata": {},
     "output_type": "display_data"
    },
    {
     "data": {
      "text/html": [
       "<pre style=\"white-space:pre;overflow-x:auto;line-height:normal;font-family:Menlo,'DejaVu Sans Mono',consolas,'Courier New',monospace\"><span style=\"color: #008000; text-decoration-color: #008000\">Warning: trajectory cut off when rollout by epoch at </span><span style=\"color: #008080; text-decoration-color: #008080; font-weight: bold\">1000.0</span><span style=\"color: #008000; text-decoration-color: #008000\"> steps.</span>\n",
       "</pre>\n"
      ],
      "text/plain": [
       "\u001b[32mWarning: trajectory cut off when rollout by epoch at \u001b[0m\u001b[1;36m1000.0\u001b[0m\u001b[32m steps.\u001b[0m\n"
      ]
     },
     "metadata": {},
     "output_type": "display_data"
    },
    {
     "data": {
      "text/html": [
       "<pre style=\"white-space:pre;overflow-x:auto;line-height:normal;font-family:Menlo,'DejaVu Sans Mono',consolas,'Courier New',monospace\"><span style=\"color: #008000; text-decoration-color: #008000\">Warning: trajectory cut off when rollout by epoch at </span><span style=\"color: #008080; text-decoration-color: #008080; font-weight: bold\">1000.0</span><span style=\"color: #008000; text-decoration-color: #008000\"> steps.</span>\n",
       "</pre>\n"
      ],
      "text/plain": [
       "\u001b[32mWarning: trajectory cut off when rollout by epoch at \u001b[0m\u001b[1;36m1000.0\u001b[0m\u001b[32m steps.\u001b[0m\n"
      ]
     },
     "metadata": {},
     "output_type": "display_data"
    },
    {
     "data": {
      "text/html": [
       "<pre style=\"white-space:pre;overflow-x:auto;line-height:normal;font-family:Menlo,'DejaVu Sans Mono',consolas,'Courier New',monospace\"></pre>\n"
      ],
      "text/plain": []
     },
     "metadata": {},
     "output_type": "display_data"
    },
    {
     "data": {
      "text/html": [
       "<pre style=\"white-space:pre;overflow-x:auto;line-height:normal;font-family:Menlo,'DejaVu Sans Mono',consolas,'Courier New',monospace\">\n",
       "</pre>\n"
      ],
      "text/plain": [
       "\n"
      ]
     },
     "metadata": {},
     "output_type": "display_data"
    },
    {
     "data": {
      "text/html": [
       "<pre style=\"white-space:pre;overflow-x:auto;line-height:normal;font-family:Menlo,'DejaVu Sans Mono',consolas,'Courier New',monospace\"><span style=\"color: #008000; text-decoration-color: #008000\">Early stopping at iter </span><span style=\"color: #008080; text-decoration-color: #008080; font-weight: bold\">39</span><span style=\"color: #008000; text-decoration-color: #008000\"> due to reaching max kl</span>\n",
       "</pre>\n"
      ],
      "text/plain": [
       "\u001b[32mEarly stopping at iter \u001b[0m\u001b[1;36m39\u001b[0m\u001b[32m due to reaching max kl\u001b[0m\n"
      ]
     },
     "metadata": {},
     "output_type": "display_data"
    },
    {
     "data": {
      "text/html": [
       "<pre style=\"white-space:pre;overflow-x:auto;line-height:normal;font-family:Menlo,'DejaVu Sans Mono',consolas,'Courier New',monospace\"></pre>\n"
      ],
      "text/plain": []
     },
     "metadata": {},
     "output_type": "display_data"
    },
    {
     "data": {
      "text/html": [
       "<pre style=\"white-space:pre;overflow-x:auto;line-height:normal;font-family:Menlo,'DejaVu Sans Mono',consolas,'Courier New',monospace\">\n",
       "</pre>\n"
      ],
      "text/plain": [
       "\n"
      ]
     },
     "metadata": {},
     "output_type": "display_data"
    },
    {
     "data": {
      "text/html": [
       "<pre style=\"white-space:pre;overflow-x:auto;line-height:normal;font-family:Menlo,'DejaVu Sans Mono',consolas,'Courier New',monospace\">┏━━━━━━━━━━━━━━━━━━━━━━━━━━━━━━━┳━━━━━━━━━━━━━━━━━━━━━━━━┓\n",
       "┃<span style=\"font-weight: bold\"> Metrics                       </span>┃<span style=\"font-weight: bold\"> Value                  </span>┃\n",
       "┡━━━━━━━━━━━━━━━━━━━━━━━━━━━━━━━╇━━━━━━━━━━━━━━━━━━━━━━━━┩\n",
       "│ Metrics/EpRet                 │ 1.4425197839736938     │\n",
       "│ Metrics/EpCost                │ 96.73999786376953      │\n",
       "│ Metrics/EpLen                 │ 1000.0                 │\n",
       "│ Train/Epoch                   │ 3.0                    │\n",
       "│ Train/Entropy                 │ 1.3348647356033325     │\n",
       "│ Train/KL                      │ 0.02036411128938198    │\n",
       "│ Train/StopIter                │ 39.0                   │\n",
       "│ Train/PolicyRatio/Mean        │ 0.9973400831222534     │\n",
       "│ Train/PolicyRatio/Min         │ 0.9973400831222534     │\n",
       "│ Train/PolicyRatio/Max         │ 0.9973400831222534     │\n",
       "│ Train/PolicyRatio/Std         │ 0.02060452662408352    │\n",
       "│ Train/LR                      │ 0.00026000000070780516 │\n",
       "│ Train/PolicyStd               │ 0.9194129705429077     │\n",
       "│ TotalEnvSteps                 │ 80000.0                │\n",
       "│ Loss/Loss_pi                  │ -0.01887640915811062   │\n",
       "│ Loss/Loss_pi/Delta            │ -0.005637950263917446  │\n",
       "│ Value/Adv                     │ 0.24010644853115082    │\n",
       "│ Loss/Loss_reward_critic       │ 0.006775425281375647   │\n",
       "│ Loss/Loss_reward_critic/Delta │ 0.00028089433908462524 │\n",
       "│ Value/reward                  │ 0.05952984467148781    │\n",
       "│ Time/Total                    │ 567.3741455078125      │\n",
       "│ Time/Rollout                  │ 42.26376724243164      │\n",
       "│ Time/Update                   │ 125.38746643066406     │\n",
       "│ Time/Epoch                    │ 167.6522216796875      │\n",
       "│ Time/FPS                      │ 119.2945785522461      │\n",
       "└───────────────────────────────┴────────────────────────┘\n",
       "</pre>\n"
      ],
      "text/plain": [
       "┏━━━━━━━━━━━━━━━━━━━━━━━━━━━━━━━┳━━━━━━━━━━━━━━━━━━━━━━━━┓\n",
       "┃\u001b[1m \u001b[0m\u001b[1mMetrics                      \u001b[0m\u001b[1m \u001b[0m┃\u001b[1m \u001b[0m\u001b[1mValue                 \u001b[0m\u001b[1m \u001b[0m┃\n",
       "┡━━━━━━━━━━━━━━━━━━━━━━━━━━━━━━━╇━━━━━━━━━━━━━━━━━━━━━━━━┩\n",
       "│ Metrics/EpRet                 │ 1.4425197839736938     │\n",
       "│ Metrics/EpCost                │ 96.73999786376953      │\n",
       "│ Metrics/EpLen                 │ 1000.0                 │\n",
       "│ Train/Epoch                   │ 3.0                    │\n",
       "│ Train/Entropy                 │ 1.3348647356033325     │\n",
       "│ Train/KL                      │ 0.02036411128938198    │\n",
       "│ Train/StopIter                │ 39.0                   │\n",
       "│ Train/PolicyRatio/Mean        │ 0.9973400831222534     │\n",
       "│ Train/PolicyRatio/Min         │ 0.9973400831222534     │\n",
       "│ Train/PolicyRatio/Max         │ 0.9973400831222534     │\n",
       "│ Train/PolicyRatio/Std         │ 0.02060452662408352    │\n",
       "│ Train/LR                      │ 0.00026000000070780516 │\n",
       "│ Train/PolicyStd               │ 0.9194129705429077     │\n",
       "│ TotalEnvSteps                 │ 80000.0                │\n",
       "│ Loss/Loss_pi                  │ -0.01887640915811062   │\n",
       "│ Loss/Loss_pi/Delta            │ -0.005637950263917446  │\n",
       "│ Value/Adv                     │ 0.24010644853115082    │\n",
       "│ Loss/Loss_reward_critic       │ 0.006775425281375647   │\n",
       "│ Loss/Loss_reward_critic/Delta │ 0.00028089433908462524 │\n",
       "│ Value/reward                  │ 0.05952984467148781    │\n",
       "│ Time/Total                    │ 567.3741455078125      │\n",
       "│ Time/Rollout                  │ 42.26376724243164      │\n",
       "│ Time/Update                   │ 125.38746643066406     │\n",
       "│ Time/Epoch                    │ 167.6522216796875      │\n",
       "│ Time/FPS                      │ 119.2945785522461      │\n",
       "└───────────────────────────────┴────────────────────────┘\n"
      ]
     },
     "metadata": {},
     "output_type": "display_data"
    },
    {
     "data": {
      "text/html": [
       "<pre style=\"white-space:pre;overflow-x:auto;line-height:normal;font-family:Menlo,'DejaVu Sans Mono',consolas,'Courier New',monospace\"><span style=\"color: #008000; text-decoration-color: #008000\">Warning: trajectory cut off when rollout by epoch at </span><span style=\"color: #008080; text-decoration-color: #008080; font-weight: bold\">1000.0</span><span style=\"color: #008000; text-decoration-color: #008000\"> steps.</span>\n",
       "</pre>\n"
      ],
      "text/plain": [
       "\u001b[32mWarning: trajectory cut off when rollout by epoch at \u001b[0m\u001b[1;36m1000.0\u001b[0m\u001b[32m steps.\u001b[0m\n"
      ]
     },
     "metadata": {},
     "output_type": "display_data"
    },
    {
     "data": {
      "text/html": [
       "<pre style=\"white-space:pre;overflow-x:auto;line-height:normal;font-family:Menlo,'DejaVu Sans Mono',consolas,'Courier New',monospace\"><span style=\"color: #008000; text-decoration-color: #008000\">Warning: trajectory cut off when rollout by epoch at </span><span style=\"color: #008080; text-decoration-color: #008080; font-weight: bold\">1000.0</span><span style=\"color: #008000; text-decoration-color: #008000\"> steps.</span>\n",
       "</pre>\n"
      ],
      "text/plain": [
       "\u001b[32mWarning: trajectory cut off when rollout by epoch at \u001b[0m\u001b[1;36m1000.0\u001b[0m\u001b[32m steps.\u001b[0m\n"
      ]
     },
     "metadata": {},
     "output_type": "display_data"
    },
    {
     "data": {
      "text/html": [
       "<pre style=\"white-space:pre;overflow-x:auto;line-height:normal;font-family:Menlo,'DejaVu Sans Mono',consolas,'Courier New',monospace\"><span style=\"color: #008000; text-decoration-color: #008000\">Warning: trajectory cut off when rollout by epoch at </span><span style=\"color: #008080; text-decoration-color: #008080; font-weight: bold\">1000.0</span><span style=\"color: #008000; text-decoration-color: #008000\"> steps.</span>\n",
       "</pre>\n"
      ],
      "text/plain": [
       "\u001b[32mWarning: trajectory cut off when rollout by epoch at \u001b[0m\u001b[1;36m1000.0\u001b[0m\u001b[32m steps.\u001b[0m\n"
      ]
     },
     "metadata": {},
     "output_type": "display_data"
    },
    {
     "data": {
      "text/html": [
       "<pre style=\"white-space:pre;overflow-x:auto;line-height:normal;font-family:Menlo,'DejaVu Sans Mono',consolas,'Courier New',monospace\"><span style=\"color: #008000; text-decoration-color: #008000\">Warning: trajectory cut off when rollout by epoch at </span><span style=\"color: #008080; text-decoration-color: #008080; font-weight: bold\">1000.0</span><span style=\"color: #008000; text-decoration-color: #008000\"> steps.</span>\n",
       "</pre>\n"
      ],
      "text/plain": [
       "\u001b[32mWarning: trajectory cut off when rollout by epoch at \u001b[0m\u001b[1;36m1000.0\u001b[0m\u001b[32m steps.\u001b[0m\n"
      ]
     },
     "metadata": {},
     "output_type": "display_data"
    },
    {
     "data": {
      "text/html": [
       "<pre style=\"white-space:pre;overflow-x:auto;line-height:normal;font-family:Menlo,'DejaVu Sans Mono',consolas,'Courier New',monospace\"></pre>\n"
      ],
      "text/plain": []
     },
     "metadata": {},
     "output_type": "display_data"
    },
    {
     "data": {
      "text/html": [
       "<pre style=\"white-space:pre;overflow-x:auto;line-height:normal;font-family:Menlo,'DejaVu Sans Mono',consolas,'Courier New',monospace\">\n",
       "</pre>\n"
      ],
      "text/plain": [
       "\n"
      ]
     },
     "metadata": {},
     "output_type": "display_data"
    },
    {
     "data": {
      "text/html": [
       "<pre style=\"white-space:pre;overflow-x:auto;line-height:normal;font-family:Menlo,'DejaVu Sans Mono',consolas,'Courier New',monospace\"><span style=\"color: #008000; text-decoration-color: #008000\">Early stopping at iter </span><span style=\"color: #008080; text-decoration-color: #008080; font-weight: bold\">27</span><span style=\"color: #008000; text-decoration-color: #008000\"> due to reaching max kl</span>\n",
       "</pre>\n"
      ],
      "text/plain": [
       "\u001b[32mEarly stopping at iter \u001b[0m\u001b[1;36m27\u001b[0m\u001b[32m due to reaching max kl\u001b[0m\n"
      ]
     },
     "metadata": {},
     "output_type": "display_data"
    },
    {
     "data": {
      "text/html": [
       "<pre style=\"white-space:pre;overflow-x:auto;line-height:normal;font-family:Menlo,'DejaVu Sans Mono',consolas,'Courier New',monospace\"></pre>\n"
      ],
      "text/plain": []
     },
     "metadata": {},
     "output_type": "display_data"
    },
    {
     "data": {
      "text/html": [
       "<pre style=\"white-space:pre;overflow-x:auto;line-height:normal;font-family:Menlo,'DejaVu Sans Mono',consolas,'Courier New',monospace\">\n",
       "</pre>\n"
      ],
      "text/plain": [
       "\n"
      ]
     },
     "metadata": {},
     "output_type": "display_data"
    },
    {
     "data": {
      "text/html": [
       "<pre style=\"white-space:pre;overflow-x:auto;line-height:normal;font-family:Menlo,'DejaVu Sans Mono',consolas,'Courier New',monospace\">┏━━━━━━━━━━━━━━━━━━━━━━━━━━━━━━━┳━━━━━━━━━━━━━━━━━━━━━━━┓\n",
       "┃<span style=\"font-weight: bold\"> Metrics                       </span>┃<span style=\"font-weight: bold\"> Value                 </span>┃\n",
       "┡━━━━━━━━━━━━━━━━━━━━━━━━━━━━━━━╇━━━━━━━━━━━━━━━━━━━━━━━┩\n",
       "│ Metrics/EpRet                 │ 2.4791200160980225    │\n",
       "│ Metrics/EpCost                │ 117.81999969482422    │\n",
       "│ Metrics/EpLen                 │ 1000.0                │\n",
       "│ Train/Epoch                   │ 4.0                   │\n",
       "│ Train/Entropy                 │ 1.307458758354187     │\n",
       "│ Train/KL                      │ 0.021953975781798363  │\n",
       "│ Train/StopIter                │ 27.0                  │\n",
       "│ Train/PolicyRatio/Mean        │ 0.9987922310829163    │\n",
       "│ Train/PolicyRatio/Min         │ 0.9987921714782715    │\n",
       "│ Train/PolicyRatio/Max         │ 0.9987921714782715    │\n",
       "│ Train/PolicyRatio/Std         │ 0.020907584577798843  │\n",
       "│ Train/LR                      │ 0.0002500000118743628 │\n",
       "│ Train/PolicyStd               │ 0.894535481929779     │\n",
       "│ TotalEnvSteps                 │ 100000.0              │\n",
       "│ Loss/Loss_pi                  │ -0.017886359244585037 │\n",
       "│ Loss/Loss_pi/Delta            │ 0.0009900499135255814 │\n",
       "│ Value/Adv                     │ 0.2935274839401245    │\n",
       "│ Loss/Loss_reward_critic       │ 0.008117890916764736  │\n",
       "│ Loss/Loss_reward_critic/Delta │ 0.0013424656353890896 │\n",
       "│ Value/reward                  │ 0.11367949098348618   │\n",
       "│ Time/Total                    │ 695.11328125          │\n",
       "│ Time/Rollout                  │ 41.87859344482422     │\n",
       "│ Time/Update                   │ 85.8265380859375      │\n",
       "│ Time/Epoch                    │ 127.70613098144531    │\n",
       "│ Time/FPS                      │ 156.6095428466797     │\n",
       "└───────────────────────────────┴───────────────────────┘\n",
       "</pre>\n"
      ],
      "text/plain": [
       "┏━━━━━━━━━━━━━━━━━━━━━━━━━━━━━━━┳━━━━━━━━━━━━━━━━━━━━━━━┓\n",
       "┃\u001b[1m \u001b[0m\u001b[1mMetrics                      \u001b[0m\u001b[1m \u001b[0m┃\u001b[1m \u001b[0m\u001b[1mValue                \u001b[0m\u001b[1m \u001b[0m┃\n",
       "┡━━━━━━━━━━━━━━━━━━━━━━━━━━━━━━━╇━━━━━━━━━━━━━━━━━━━━━━━┩\n",
       "│ Metrics/EpRet                 │ 2.4791200160980225    │\n",
       "│ Metrics/EpCost                │ 117.81999969482422    │\n",
       "│ Metrics/EpLen                 │ 1000.0                │\n",
       "│ Train/Epoch                   │ 4.0                   │\n",
       "│ Train/Entropy                 │ 1.307458758354187     │\n",
       "│ Train/KL                      │ 0.021953975781798363  │\n",
       "│ Train/StopIter                │ 27.0                  │\n",
       "│ Train/PolicyRatio/Mean        │ 0.9987922310829163    │\n",
       "│ Train/PolicyRatio/Min         │ 0.9987921714782715    │\n",
       "│ Train/PolicyRatio/Max         │ 0.9987921714782715    │\n",
       "│ Train/PolicyRatio/Std         │ 0.020907584577798843  │\n",
       "│ Train/LR                      │ 0.0002500000118743628 │\n",
       "│ Train/PolicyStd               │ 0.894535481929779     │\n",
       "│ TotalEnvSteps                 │ 100000.0              │\n",
       "│ Loss/Loss_pi                  │ -0.017886359244585037 │\n",
       "│ Loss/Loss_pi/Delta            │ 0.0009900499135255814 │\n",
       "│ Value/Adv                     │ 0.2935274839401245    │\n",
       "│ Loss/Loss_reward_critic       │ 0.008117890916764736  │\n",
       "│ Loss/Loss_reward_critic/Delta │ 0.0013424656353890896 │\n",
       "│ Value/reward                  │ 0.11367949098348618   │\n",
       "│ Time/Total                    │ 695.11328125          │\n",
       "│ Time/Rollout                  │ 41.87859344482422     │\n",
       "│ Time/Update                   │ 85.8265380859375      │\n",
       "│ Time/Epoch                    │ 127.70613098144531    │\n",
       "│ Time/FPS                      │ 156.6095428466797     │\n",
       "└───────────────────────────────┴───────────────────────┘\n"
      ]
     },
     "metadata": {},
     "output_type": "display_data"
    },
    {
     "data": {
      "text/html": [
       "<pre style=\"white-space:pre;overflow-x:auto;line-height:normal;font-family:Menlo,'DejaVu Sans Mono',consolas,'Courier New',monospace\"><span style=\"color: #008000; text-decoration-color: #008000\">Warning: trajectory cut off when rollout by epoch at </span><span style=\"color: #008080; text-decoration-color: #008080; font-weight: bold\">1000.0</span><span style=\"color: #008000; text-decoration-color: #008000\"> steps.</span>\n",
       "</pre>\n"
      ],
      "text/plain": [
       "\u001b[32mWarning: trajectory cut off when rollout by epoch at \u001b[0m\u001b[1;36m1000.0\u001b[0m\u001b[32m steps.\u001b[0m\n"
      ]
     },
     "metadata": {},
     "output_type": "display_data"
    },
    {
     "data": {
      "text/html": [
       "<pre style=\"white-space:pre;overflow-x:auto;line-height:normal;font-family:Menlo,'DejaVu Sans Mono',consolas,'Courier New',monospace\"><span style=\"color: #008000; text-decoration-color: #008000\">Warning: trajectory cut off when rollout by epoch at </span><span style=\"color: #008080; text-decoration-color: #008080; font-weight: bold\">1000.0</span><span style=\"color: #008000; text-decoration-color: #008000\"> steps.</span>\n",
       "</pre>\n"
      ],
      "text/plain": [
       "\u001b[32mWarning: trajectory cut off when rollout by epoch at \u001b[0m\u001b[1;36m1000.0\u001b[0m\u001b[32m steps.\u001b[0m\n"
      ]
     },
     "metadata": {},
     "output_type": "display_data"
    },
    {
     "data": {
      "text/html": [
       "<pre style=\"white-space:pre;overflow-x:auto;line-height:normal;font-family:Menlo,'DejaVu Sans Mono',consolas,'Courier New',monospace\"><span style=\"color: #008000; text-decoration-color: #008000\">Warning: trajectory cut off when rollout by epoch at </span><span style=\"color: #008080; text-decoration-color: #008080; font-weight: bold\">1000.0</span><span style=\"color: #008000; text-decoration-color: #008000\"> steps.</span>\n",
       "</pre>\n"
      ],
      "text/plain": [
       "\u001b[32mWarning: trajectory cut off when rollout by epoch at \u001b[0m\u001b[1;36m1000.0\u001b[0m\u001b[32m steps.\u001b[0m\n"
      ]
     },
     "metadata": {},
     "output_type": "display_data"
    },
    {
     "data": {
      "text/html": [
       "<pre style=\"white-space:pre;overflow-x:auto;line-height:normal;font-family:Menlo,'DejaVu Sans Mono',consolas,'Courier New',monospace\"><span style=\"color: #008000; text-decoration-color: #008000\">Warning: trajectory cut off when rollout by epoch at </span><span style=\"color: #008080; text-decoration-color: #008080; font-weight: bold\">1000.0</span><span style=\"color: #008000; text-decoration-color: #008000\"> steps.</span>\n",
       "</pre>\n"
      ],
      "text/plain": [
       "\u001b[32mWarning: trajectory cut off when rollout by epoch at \u001b[0m\u001b[1;36m1000.0\u001b[0m\u001b[32m steps.\u001b[0m\n"
      ]
     },
     "metadata": {},
     "output_type": "display_data"
    },
    {
     "data": {
      "text/html": [
       "<pre style=\"white-space:pre;overflow-x:auto;line-height:normal;font-family:Menlo,'DejaVu Sans Mono',consolas,'Courier New',monospace\"></pre>\n"
      ],
      "text/plain": []
     },
     "metadata": {},
     "output_type": "display_data"
    },
    {
     "data": {
      "text/html": [
       "<pre style=\"white-space:pre;overflow-x:auto;line-height:normal;font-family:Menlo,'DejaVu Sans Mono',consolas,'Courier New',monospace\">\n",
       "</pre>\n"
      ],
      "text/plain": [
       "\n"
      ]
     },
     "metadata": {},
     "output_type": "display_data"
    },
    {
     "data": {
      "text/html": [
       "<pre style=\"white-space:pre;overflow-x:auto;line-height:normal;font-family:Menlo,'DejaVu Sans Mono',consolas,'Courier New',monospace\"><span style=\"color: #008000; text-decoration-color: #008000\">Early stopping at iter </span><span style=\"color: #008080; text-decoration-color: #008080; font-weight: bold\">32</span><span style=\"color: #008000; text-decoration-color: #008000\"> due to reaching max kl</span>\n",
       "</pre>\n"
      ],
      "text/plain": [
       "\u001b[32mEarly stopping at iter \u001b[0m\u001b[1;36m32\u001b[0m\u001b[32m due to reaching max kl\u001b[0m\n"
      ]
     },
     "metadata": {},
     "output_type": "display_data"
    },
    {
     "data": {
      "text/html": [
       "<pre style=\"white-space:pre;overflow-x:auto;line-height:normal;font-family:Menlo,'DejaVu Sans Mono',consolas,'Courier New',monospace\"></pre>\n"
      ],
      "text/plain": []
     },
     "metadata": {},
     "output_type": "display_data"
    },
    {
     "data": {
      "text/html": [
       "<pre style=\"white-space:pre;overflow-x:auto;line-height:normal;font-family:Menlo,'DejaVu Sans Mono',consolas,'Courier New',monospace\">\n",
       "</pre>\n"
      ],
      "text/plain": [
       "\n"
      ]
     },
     "metadata": {},
     "output_type": "display_data"
    },
    {
     "data": {
      "text/html": [
       "<pre style=\"white-space:pre;overflow-x:auto;line-height:normal;font-family:Menlo,'DejaVu Sans Mono',consolas,'Courier New',monospace\">┏━━━━━━━━━━━━━━━━━━━━━━━━━━━━━━━┳━━━━━━━━━━━━━━━━━━━━━━━━┓\n",
       "┃<span style=\"font-weight: bold\"> Metrics                       </span>┃<span style=\"font-weight: bold\"> Value                  </span>┃\n",
       "┡━━━━━━━━━━━━━━━━━━━━━━━━━━━━━━━╇━━━━━━━━━━━━━━━━━━━━━━━━┩\n",
       "│ Metrics/EpRet                 │ 3.8658928871154785     │\n",
       "│ Metrics/EpCost                │ 91.16000366210938      │\n",
       "│ Metrics/EpLen                 │ 1000.0                 │\n",
       "│ Train/Epoch                   │ 5.0                    │\n",
       "│ Train/Entropy                 │ 1.2757360935211182     │\n",
       "│ Train/KL                      │ 0.0217165295034647     │\n",
       "│ Train/StopIter                │ 32.0                   │\n",
       "│ Train/PolicyRatio/Mean        │ 0.9999815821647644     │\n",
       "│ Train/PolicyRatio/Min         │ 0.9999815821647644     │\n",
       "│ Train/PolicyRatio/Max         │ 0.9999815821647644     │\n",
       "│ Train/PolicyRatio/Std         │ 0.02047649398446083    │\n",
       "│ Train/LR                      │ 0.00023999999393709004 │\n",
       "│ Train/PolicyStd               │ 0.8666012287139893     │\n",
       "│ TotalEnvSteps                 │ 120000.0               │\n",
       "│ Loss/Loss_pi                  │ -0.021075503900647163  │\n",
       "│ Loss/Loss_pi/Delta            │ -0.003189144656062126  │\n",
       "│ Value/Adv                     │ -0.3059958517551422    │\n",
       "│ Loss/Loss_reward_critic       │ 0.01006714440882206    │\n",
       "│ Loss/Loss_reward_critic/Delta │ 0.0019492534920573235  │\n",
       "│ Value/reward                  │ 0.17380616068840027    │\n",
       "│ Time/Total                    │ 833.5614624023438      │\n",
       "│ Time/Rollout                  │ 35.475120544433594     │\n",
       "│ Time/Update                   │ 102.94500732421875     │\n",
       "│ Time/Epoch                    │ 138.4201202392578      │\n",
       "│ Time/FPS                      │ 144.48765563964844     │\n",
       "└───────────────────────────────┴────────────────────────┘\n",
       "</pre>\n"
      ],
      "text/plain": [
       "┏━━━━━━━━━━━━━━━━━━━━━━━━━━━━━━━┳━━━━━━━━━━━━━━━━━━━━━━━━┓\n",
       "┃\u001b[1m \u001b[0m\u001b[1mMetrics                      \u001b[0m\u001b[1m \u001b[0m┃\u001b[1m \u001b[0m\u001b[1mValue                 \u001b[0m\u001b[1m \u001b[0m┃\n",
       "┡━━━━━━━━━━━━━━━━━━━━━━━━━━━━━━━╇━━━━━━━━━━━━━━━━━━━━━━━━┩\n",
       "│ Metrics/EpRet                 │ 3.8658928871154785     │\n",
       "│ Metrics/EpCost                │ 91.16000366210938      │\n",
       "│ Metrics/EpLen                 │ 1000.0                 │\n",
       "│ Train/Epoch                   │ 5.0                    │\n",
       "│ Train/Entropy                 │ 1.2757360935211182     │\n",
       "│ Train/KL                      │ 0.0217165295034647     │\n",
       "│ Train/StopIter                │ 32.0                   │\n",
       "│ Train/PolicyRatio/Mean        │ 0.9999815821647644     │\n",
       "│ Train/PolicyRatio/Min         │ 0.9999815821647644     │\n",
       "│ Train/PolicyRatio/Max         │ 0.9999815821647644     │\n",
       "│ Train/PolicyRatio/Std         │ 0.02047649398446083    │\n",
       "│ Train/LR                      │ 0.00023999999393709004 │\n",
       "│ Train/PolicyStd               │ 0.8666012287139893     │\n",
       "│ TotalEnvSteps                 │ 120000.0               │\n",
       "│ Loss/Loss_pi                  │ -0.021075503900647163  │\n",
       "│ Loss/Loss_pi/Delta            │ -0.003189144656062126  │\n",
       "│ Value/Adv                     │ -0.3059958517551422    │\n",
       "│ Loss/Loss_reward_critic       │ 0.01006714440882206    │\n",
       "│ Loss/Loss_reward_critic/Delta │ 0.0019492534920573235  │\n",
       "│ Value/reward                  │ 0.17380616068840027    │\n",
       "│ Time/Total                    │ 833.5614624023438      │\n",
       "│ Time/Rollout                  │ 35.475120544433594     │\n",
       "│ Time/Update                   │ 102.94500732421875     │\n",
       "│ Time/Epoch                    │ 138.4201202392578      │\n",
       "│ Time/FPS                      │ 144.48765563964844     │\n",
       "└───────────────────────────────┴────────────────────────┘\n"
      ]
     },
     "metadata": {},
     "output_type": "display_data"
    },
    {
     "data": {
      "text/html": [
       "<pre style=\"white-space:pre;overflow-x:auto;line-height:normal;font-family:Menlo,'DejaVu Sans Mono',consolas,'Courier New',monospace\"><span style=\"color: #008000; text-decoration-color: #008000\">Warning: trajectory cut off when rollout by epoch at </span><span style=\"color: #008080; text-decoration-color: #008080; font-weight: bold\">1000.0</span><span style=\"color: #008000; text-decoration-color: #008000\"> steps.</span>\n",
       "</pre>\n"
      ],
      "text/plain": [
       "\u001b[32mWarning: trajectory cut off when rollout by epoch at \u001b[0m\u001b[1;36m1000.0\u001b[0m\u001b[32m steps.\u001b[0m\n"
      ]
     },
     "metadata": {},
     "output_type": "display_data"
    },
    {
     "data": {
      "text/html": [
       "<pre style=\"white-space:pre;overflow-x:auto;line-height:normal;font-family:Menlo,'DejaVu Sans Mono',consolas,'Courier New',monospace\"><span style=\"color: #008000; text-decoration-color: #008000\">Warning: trajectory cut off when rollout by epoch at </span><span style=\"color: #008080; text-decoration-color: #008080; font-weight: bold\">1000.0</span><span style=\"color: #008000; text-decoration-color: #008000\"> steps.</span>\n",
       "</pre>\n"
      ],
      "text/plain": [
       "\u001b[32mWarning: trajectory cut off when rollout by epoch at \u001b[0m\u001b[1;36m1000.0\u001b[0m\u001b[32m steps.\u001b[0m\n"
      ]
     },
     "metadata": {},
     "output_type": "display_data"
    },
    {
     "data": {
      "text/html": [
       "<pre style=\"white-space:pre;overflow-x:auto;line-height:normal;font-family:Menlo,'DejaVu Sans Mono',consolas,'Courier New',monospace\"><span style=\"color: #008000; text-decoration-color: #008000\">Warning: trajectory cut off when rollout by epoch at </span><span style=\"color: #008080; text-decoration-color: #008080; font-weight: bold\">1000.0</span><span style=\"color: #008000; text-decoration-color: #008000\"> steps.</span>\n",
       "</pre>\n"
      ],
      "text/plain": [
       "\u001b[32mWarning: trajectory cut off when rollout by epoch at \u001b[0m\u001b[1;36m1000.0\u001b[0m\u001b[32m steps.\u001b[0m\n"
      ]
     },
     "metadata": {},
     "output_type": "display_data"
    },
    {
     "data": {
      "text/html": [
       "<pre style=\"white-space:pre;overflow-x:auto;line-height:normal;font-family:Menlo,'DejaVu Sans Mono',consolas,'Courier New',monospace\"><span style=\"color: #008000; text-decoration-color: #008000\">Warning: trajectory cut off when rollout by epoch at </span><span style=\"color: #008080; text-decoration-color: #008080; font-weight: bold\">1000.0</span><span style=\"color: #008000; text-decoration-color: #008000\"> steps.</span>\n",
       "</pre>\n"
      ],
      "text/plain": [
       "\u001b[32mWarning: trajectory cut off when rollout by epoch at \u001b[0m\u001b[1;36m1000.0\u001b[0m\u001b[32m steps.\u001b[0m\n"
      ]
     },
     "metadata": {},
     "output_type": "display_data"
    },
    {
     "data": {
      "text/html": [
       "<pre style=\"white-space:pre;overflow-x:auto;line-height:normal;font-family:Menlo,'DejaVu Sans Mono',consolas,'Courier New',monospace\"></pre>\n"
      ],
      "text/plain": []
     },
     "metadata": {},
     "output_type": "display_data"
    },
    {
     "data": {
      "text/html": [
       "<pre style=\"white-space:pre;overflow-x:auto;line-height:normal;font-family:Menlo,'DejaVu Sans Mono',consolas,'Courier New',monospace\">\n",
       "</pre>\n"
      ],
      "text/plain": [
       "\n"
      ]
     },
     "metadata": {},
     "output_type": "display_data"
    },
    {
     "data": {
      "text/html": [
       "<pre style=\"white-space:pre;overflow-x:auto;line-height:normal;font-family:Menlo,'DejaVu Sans Mono',consolas,'Courier New',monospace\"><span style=\"color: #008000; text-decoration-color: #008000\">Early stopping at iter </span><span style=\"color: #008080; text-decoration-color: #008080; font-weight: bold\">27</span><span style=\"color: #008000; text-decoration-color: #008000\"> due to reaching max kl</span>\n",
       "</pre>\n"
      ],
      "text/plain": [
       "\u001b[32mEarly stopping at iter \u001b[0m\u001b[1;36m27\u001b[0m\u001b[32m due to reaching max kl\u001b[0m\n"
      ]
     },
     "metadata": {},
     "output_type": "display_data"
    },
    {
     "data": {
      "text/html": [
       "<pre style=\"white-space:pre;overflow-x:auto;line-height:normal;font-family:Menlo,'DejaVu Sans Mono',consolas,'Courier New',monospace\"></pre>\n"
      ],
      "text/plain": []
     },
     "metadata": {},
     "output_type": "display_data"
    },
    {
     "data": {
      "text/html": [
       "<pre style=\"white-space:pre;overflow-x:auto;line-height:normal;font-family:Menlo,'DejaVu Sans Mono',consolas,'Courier New',monospace\">\n",
       "</pre>\n"
      ],
      "text/plain": [
       "\n"
      ]
     },
     "metadata": {},
     "output_type": "display_data"
    },
    {
     "data": {
      "text/html": [
       "<pre style=\"white-space:pre;overflow-x:auto;line-height:normal;font-family:Menlo,'DejaVu Sans Mono',consolas,'Courier New',monospace\">┏━━━━━━━━━━━━━━━━━━━━━━━━━━━━━━━┳━━━━━━━━━━━━━━━━━━━━━━━━┓\n",
       "┃<span style=\"font-weight: bold\"> Metrics                       </span>┃<span style=\"font-weight: bold\"> Value                  </span>┃\n",
       "┡━━━━━━━━━━━━━━━━━━━━━━━━━━━━━━━╇━━━━━━━━━━━━━━━━━━━━━━━━┩\n",
       "│ Metrics/EpRet                 │ 5.910550117492676      │\n",
       "│ Metrics/EpCost                │ 65.16000366210938      │\n",
       "│ Metrics/EpLen                 │ 1000.0                 │\n",
       "│ Train/Epoch                   │ 6.0                    │\n",
       "│ Train/Entropy                 │ 1.258487582206726      │\n",
       "│ Train/KL                      │ 0.021084100008010864   │\n",
       "│ Train/StopIter                │ 27.0                   │\n",
       "│ Train/PolicyRatio/Mean        │ 0.9978721737861633     │\n",
       "│ Train/PolicyRatio/Min         │ 0.9978721141815186     │\n",
       "│ Train/PolicyRatio/Max         │ 0.9978721141815186     │\n",
       "│ Train/PolicyRatio/Std         │ 0.019782856106758118   │\n",
       "│ Train/LR                      │ 0.0002300000051036477  │\n",
       "│ Train/PolicyStd               │ 0.8517763018608093     │\n",
       "│ TotalEnvSteps                 │ 140000.0               │\n",
       "│ Loss/Loss_pi                  │ -0.020873229950666428  │\n",
       "│ Loss/Loss_pi/Delta            │ 0.00020227394998073578 │\n",
       "│ Value/Adv                     │ 0.23412615060806274    │\n",
       "│ Loss/Loss_reward_critic       │ 0.014698412269353867   │\n",
       "│ Loss/Loss_reward_critic/Delta │ 0.004631267860531807   │\n",
       "│ Value/reward                  │ 0.3403795063495636     │\n",
       "│ Time/Total                    │ 954.2903442382812      │\n",
       "│ Time/Rollout                  │ 35.56795883178711      │\n",
       "│ Time/Update                   │ 85.13296508789062      │\n",
       "│ Time/Epoch                    │ 120.70092010498047     │\n",
       "│ Time/FPS                      │ 165.69882202148438     │\n",
       "└───────────────────────────────┴────────────────────────┘\n",
       "</pre>\n"
      ],
      "text/plain": [
       "┏━━━━━━━━━━━━━━━━━━━━━━━━━━━━━━━┳━━━━━━━━━━━━━━━━━━━━━━━━┓\n",
       "┃\u001b[1m \u001b[0m\u001b[1mMetrics                      \u001b[0m\u001b[1m \u001b[0m┃\u001b[1m \u001b[0m\u001b[1mValue                 \u001b[0m\u001b[1m \u001b[0m┃\n",
       "┡━━━━━━━━━━━━━━━━━━━━━━━━━━━━━━━╇━━━━━━━━━━━━━━━━━━━━━━━━┩\n",
       "│ Metrics/EpRet                 │ 5.910550117492676      │\n",
       "│ Metrics/EpCost                │ 65.16000366210938      │\n",
       "│ Metrics/EpLen                 │ 1000.0                 │\n",
       "│ Train/Epoch                   │ 6.0                    │\n",
       "│ Train/Entropy                 │ 1.258487582206726      │\n",
       "│ Train/KL                      │ 0.021084100008010864   │\n",
       "│ Train/StopIter                │ 27.0                   │\n",
       "│ Train/PolicyRatio/Mean        │ 0.9978721737861633     │\n",
       "│ Train/PolicyRatio/Min         │ 0.9978721141815186     │\n",
       "│ Train/PolicyRatio/Max         │ 0.9978721141815186     │\n",
       "│ Train/PolicyRatio/Std         │ 0.019782856106758118   │\n",
       "│ Train/LR                      │ 0.0002300000051036477  │\n",
       "│ Train/PolicyStd               │ 0.8517763018608093     │\n",
       "│ TotalEnvSteps                 │ 140000.0               │\n",
       "│ Loss/Loss_pi                  │ -0.020873229950666428  │\n",
       "│ Loss/Loss_pi/Delta            │ 0.00020227394998073578 │\n",
       "│ Value/Adv                     │ 0.23412615060806274    │\n",
       "│ Loss/Loss_reward_critic       │ 0.014698412269353867   │\n",
       "│ Loss/Loss_reward_critic/Delta │ 0.004631267860531807   │\n",
       "│ Value/reward                  │ 0.3403795063495636     │\n",
       "│ Time/Total                    │ 954.2903442382812      │\n",
       "│ Time/Rollout                  │ 35.56795883178711      │\n",
       "│ Time/Update                   │ 85.13296508789062      │\n",
       "│ Time/Epoch                    │ 120.70092010498047     │\n",
       "│ Time/FPS                      │ 165.69882202148438     │\n",
       "└───────────────────────────────┴────────────────────────┘\n"
      ]
     },
     "metadata": {},
     "output_type": "display_data"
    },
    {
     "data": {
      "text/html": [
       "<pre style=\"white-space:pre;overflow-x:auto;line-height:normal;font-family:Menlo,'DejaVu Sans Mono',consolas,'Courier New',monospace\"><span style=\"color: #008000; text-decoration-color: #008000\">Warning: trajectory cut off when rollout by epoch at </span><span style=\"color: #008080; text-decoration-color: #008080; font-weight: bold\">1000.0</span><span style=\"color: #008000; text-decoration-color: #008000\"> steps.</span>\n",
       "</pre>\n"
      ],
      "text/plain": [
       "\u001b[32mWarning: trajectory cut off when rollout by epoch at \u001b[0m\u001b[1;36m1000.0\u001b[0m\u001b[32m steps.\u001b[0m\n"
      ]
     },
     "metadata": {},
     "output_type": "display_data"
    },
    {
     "data": {
      "text/html": [
       "<pre style=\"white-space:pre;overflow-x:auto;line-height:normal;font-family:Menlo,'DejaVu Sans Mono',consolas,'Courier New',monospace\"><span style=\"color: #008000; text-decoration-color: #008000\">Warning: trajectory cut off when rollout by epoch at </span><span style=\"color: #008080; text-decoration-color: #008080; font-weight: bold\">1000.0</span><span style=\"color: #008000; text-decoration-color: #008000\"> steps.</span>\n",
       "</pre>\n"
      ],
      "text/plain": [
       "\u001b[32mWarning: trajectory cut off when rollout by epoch at \u001b[0m\u001b[1;36m1000.0\u001b[0m\u001b[32m steps.\u001b[0m\n"
      ]
     },
     "metadata": {},
     "output_type": "display_data"
    },
    {
     "data": {
      "text/html": [
       "<pre style=\"white-space:pre;overflow-x:auto;line-height:normal;font-family:Menlo,'DejaVu Sans Mono',consolas,'Courier New',monospace\"><span style=\"color: #008000; text-decoration-color: #008000\">Warning: trajectory cut off when rollout by epoch at </span><span style=\"color: #008080; text-decoration-color: #008080; font-weight: bold\">1000.0</span><span style=\"color: #008000; text-decoration-color: #008000\"> steps.</span>\n",
       "</pre>\n"
      ],
      "text/plain": [
       "\u001b[32mWarning: trajectory cut off when rollout by epoch at \u001b[0m\u001b[1;36m1000.0\u001b[0m\u001b[32m steps.\u001b[0m\n"
      ]
     },
     "metadata": {},
     "output_type": "display_data"
    },
    {
     "data": {
      "text/html": [
       "<pre style=\"white-space:pre;overflow-x:auto;line-height:normal;font-family:Menlo,'DejaVu Sans Mono',consolas,'Courier New',monospace\"><span style=\"color: #008000; text-decoration-color: #008000\">Warning: trajectory cut off when rollout by epoch at </span><span style=\"color: #008080; text-decoration-color: #008080; font-weight: bold\">1000.0</span><span style=\"color: #008000; text-decoration-color: #008000\"> steps.</span>\n",
       "</pre>\n"
      ],
      "text/plain": [
       "\u001b[32mWarning: trajectory cut off when rollout by epoch at \u001b[0m\u001b[1;36m1000.0\u001b[0m\u001b[32m steps.\u001b[0m\n"
      ]
     },
     "metadata": {},
     "output_type": "display_data"
    },
    {
     "data": {
      "text/html": [
       "<pre style=\"white-space:pre;overflow-x:auto;line-height:normal;font-family:Menlo,'DejaVu Sans Mono',consolas,'Courier New',monospace\"></pre>\n"
      ],
      "text/plain": []
     },
     "metadata": {},
     "output_type": "display_data"
    },
    {
     "data": {
      "text/html": [
       "<pre style=\"white-space:pre;overflow-x:auto;line-height:normal;font-family:Menlo,'DejaVu Sans Mono',consolas,'Courier New',monospace\">\n",
       "</pre>\n"
      ],
      "text/plain": [
       "\n"
      ]
     },
     "metadata": {},
     "output_type": "display_data"
    },
    {
     "data": {
      "text/html": [
       "<pre style=\"white-space:pre;overflow-x:auto;line-height:normal;font-family:Menlo,'DejaVu Sans Mono',consolas,'Courier New',monospace\"><span style=\"color: #008000; text-decoration-color: #008000\">Early stopping at iter </span><span style=\"color: #008080; text-decoration-color: #008080; font-weight: bold\">24</span><span style=\"color: #008000; text-decoration-color: #008000\"> due to reaching max kl</span>\n",
       "</pre>\n"
      ],
      "text/plain": [
       "\u001b[32mEarly stopping at iter \u001b[0m\u001b[1;36m24\u001b[0m\u001b[32m due to reaching max kl\u001b[0m\n"
      ]
     },
     "metadata": {},
     "output_type": "display_data"
    },
    {
     "data": {
      "text/html": [
       "<pre style=\"white-space:pre;overflow-x:auto;line-height:normal;font-family:Menlo,'DejaVu Sans Mono',consolas,'Courier New',monospace\"></pre>\n"
      ],
      "text/plain": []
     },
     "metadata": {},
     "output_type": "display_data"
    },
    {
     "data": {
      "text/html": [
       "<pre style=\"white-space:pre;overflow-x:auto;line-height:normal;font-family:Menlo,'DejaVu Sans Mono',consolas,'Courier New',monospace\">\n",
       "</pre>\n"
      ],
      "text/plain": [
       "\n"
      ]
     },
     "metadata": {},
     "output_type": "display_data"
    },
    {
     "data": {
      "text/html": [
       "<pre style=\"white-space:pre;overflow-x:auto;line-height:normal;font-family:Menlo,'DejaVu Sans Mono',consolas,'Courier New',monospace\">┏━━━━━━━━━━━━━━━━━━━━━━━━━━━━━━━┳━━━━━━━━━━━━━━━━━━━━━━━━━┓\n",
       "┃<span style=\"font-weight: bold\"> Metrics                       </span>┃<span style=\"font-weight: bold\"> Value                   </span>┃\n",
       "┡━━━━━━━━━━━━━━━━━━━━━━━━━━━━━━━╇━━━━━━━━━━━━━━━━━━━━━━━━━┩\n",
       "│ Metrics/EpRet                 │ 8.851441383361816       │\n",
       "│ Metrics/EpCost                │ 58.380001068115234      │\n",
       "│ Metrics/EpLen                 │ 1000.0                  │\n",
       "│ Train/Epoch                   │ 7.0                     │\n",
       "│ Train/Entropy                 │ 1.2271254062652588      │\n",
       "│ Train/KL                      │ 0.020631160587072372    │\n",
       "│ Train/StopIter                │ 24.0                    │\n",
       "│ Train/PolicyRatio/Mean        │ 1.0010231733322144      │\n",
       "│ Train/PolicyRatio/Min         │ 1.0010231733322144      │\n",
       "│ Train/PolicyRatio/Max         │ 1.0010231733322144      │\n",
       "│ Train/PolicyRatio/Std         │ 0.020645907148718834    │\n",
       "│ Train/LR                      │ 0.00022000000171829015  │\n",
       "│ Train/PolicyStd               │ 0.8254823684692383      │\n",
       "│ TotalEnvSteps                 │ 160000.0                │\n",
       "│ Loss/Loss_pi                  │ -0.022038964554667473   │\n",
       "│ Loss/Loss_pi/Delta            │ -0.0011657346040010452  │\n",
       "│ Value/Adv                     │ 0.2840091586112976      │\n",
       "│ Loss/Loss_reward_critic       │ 0.014425364322960377    │\n",
       "│ Loss/Loss_reward_critic/Delta │ -0.00027304794639348984 │\n",
       "│ Value/reward                  │ 0.3968469500541687      │\n",
       "│ Time/Total                    │ 1069.29345703125        │\n",
       "│ Time/Rollout                  │ 38.39167785644531       │\n",
       "│ Time/Update                   │ 76.58546447753906       │\n",
       "│ Time/Epoch                    │ 114.9771499633789       │\n",
       "│ Time/FPS                      │ 173.94761657714844      │\n",
       "└───────────────────────────────┴─────────────────────────┘\n",
       "</pre>\n"
      ],
      "text/plain": [
       "┏━━━━━━━━━━━━━━━━━━━━━━━━━━━━━━━┳━━━━━━━━━━━━━━━━━━━━━━━━━┓\n",
       "┃\u001b[1m \u001b[0m\u001b[1mMetrics                      \u001b[0m\u001b[1m \u001b[0m┃\u001b[1m \u001b[0m\u001b[1mValue                  \u001b[0m\u001b[1m \u001b[0m┃\n",
       "┡━━━━━━━━━━━━━━━━━━━━━━━━━━━━━━━╇━━━━━━━━━━━━━━━━━━━━━━━━━┩\n",
       "│ Metrics/EpRet                 │ 8.851441383361816       │\n",
       "│ Metrics/EpCost                │ 58.380001068115234      │\n",
       "│ Metrics/EpLen                 │ 1000.0                  │\n",
       "│ Train/Epoch                   │ 7.0                     │\n",
       "│ Train/Entropy                 │ 1.2271254062652588      │\n",
       "│ Train/KL                      │ 0.020631160587072372    │\n",
       "│ Train/StopIter                │ 24.0                    │\n",
       "│ Train/PolicyRatio/Mean        │ 1.0010231733322144      │\n",
       "│ Train/PolicyRatio/Min         │ 1.0010231733322144      │\n",
       "│ Train/PolicyRatio/Max         │ 1.0010231733322144      │\n",
       "│ Train/PolicyRatio/Std         │ 0.020645907148718834    │\n",
       "│ Train/LR                      │ 0.00022000000171829015  │\n",
       "│ Train/PolicyStd               │ 0.8254823684692383      │\n",
       "│ TotalEnvSteps                 │ 160000.0                │\n",
       "│ Loss/Loss_pi                  │ -0.022038964554667473   │\n",
       "│ Loss/Loss_pi/Delta            │ -0.0011657346040010452  │\n",
       "│ Value/Adv                     │ 0.2840091586112976      │\n",
       "│ Loss/Loss_reward_critic       │ 0.014425364322960377    │\n",
       "│ Loss/Loss_reward_critic/Delta │ -0.00027304794639348984 │\n",
       "│ Value/reward                  │ 0.3968469500541687      │\n",
       "│ Time/Total                    │ 1069.29345703125        │\n",
       "│ Time/Rollout                  │ 38.39167785644531       │\n",
       "│ Time/Update                   │ 76.58546447753906       │\n",
       "│ Time/Epoch                    │ 114.9771499633789       │\n",
       "│ Time/FPS                      │ 173.94761657714844      │\n",
       "└───────────────────────────────┴─────────────────────────┘\n"
      ]
     },
     "metadata": {},
     "output_type": "display_data"
    },
    {
     "data": {
      "text/html": [
       "<pre style=\"white-space:pre;overflow-x:auto;line-height:normal;font-family:Menlo,'DejaVu Sans Mono',consolas,'Courier New',monospace\"><span style=\"color: #008000; text-decoration-color: #008000\">Warning: trajectory cut off when rollout by epoch at </span><span style=\"color: #008080; text-decoration-color: #008080; font-weight: bold\">1000.0</span><span style=\"color: #008000; text-decoration-color: #008000\"> steps.</span>\n",
       "</pre>\n"
      ],
      "text/plain": [
       "\u001b[32mWarning: trajectory cut off when rollout by epoch at \u001b[0m\u001b[1;36m1000.0\u001b[0m\u001b[32m steps.\u001b[0m\n"
      ]
     },
     "metadata": {},
     "output_type": "display_data"
    },
    {
     "data": {
      "text/html": [
       "<pre style=\"white-space:pre;overflow-x:auto;line-height:normal;font-family:Menlo,'DejaVu Sans Mono',consolas,'Courier New',monospace\"><span style=\"color: #008000; text-decoration-color: #008000\">Warning: trajectory cut off when rollout by epoch at </span><span style=\"color: #008080; text-decoration-color: #008080; font-weight: bold\">1000.0</span><span style=\"color: #008000; text-decoration-color: #008000\"> steps.</span>\n",
       "</pre>\n"
      ],
      "text/plain": [
       "\u001b[32mWarning: trajectory cut off when rollout by epoch at \u001b[0m\u001b[1;36m1000.0\u001b[0m\u001b[32m steps.\u001b[0m\n"
      ]
     },
     "metadata": {},
     "output_type": "display_data"
    },
    {
     "data": {
      "text/html": [
       "<pre style=\"white-space:pre;overflow-x:auto;line-height:normal;font-family:Menlo,'DejaVu Sans Mono',consolas,'Courier New',monospace\"><span style=\"color: #008000; text-decoration-color: #008000\">Warning: trajectory cut off when rollout by epoch at </span><span style=\"color: #008080; text-decoration-color: #008080; font-weight: bold\">1000.0</span><span style=\"color: #008000; text-decoration-color: #008000\"> steps.</span>\n",
       "</pre>\n"
      ],
      "text/plain": [
       "\u001b[32mWarning: trajectory cut off when rollout by epoch at \u001b[0m\u001b[1;36m1000.0\u001b[0m\u001b[32m steps.\u001b[0m\n"
      ]
     },
     "metadata": {},
     "output_type": "display_data"
    },
    {
     "data": {
      "text/html": [
       "<pre style=\"white-space:pre;overflow-x:auto;line-height:normal;font-family:Menlo,'DejaVu Sans Mono',consolas,'Courier New',monospace\"><span style=\"color: #008000; text-decoration-color: #008000\">Warning: trajectory cut off when rollout by epoch at </span><span style=\"color: #008080; text-decoration-color: #008080; font-weight: bold\">1000.0</span><span style=\"color: #008000; text-decoration-color: #008000\"> steps.</span>\n",
       "</pre>\n"
      ],
      "text/plain": [
       "\u001b[32mWarning: trajectory cut off when rollout by epoch at \u001b[0m\u001b[1;36m1000.0\u001b[0m\u001b[32m steps.\u001b[0m\n"
      ]
     },
     "metadata": {},
     "output_type": "display_data"
    },
    {
     "data": {
      "text/html": [
       "<pre style=\"white-space:pre;overflow-x:auto;line-height:normal;font-family:Menlo,'DejaVu Sans Mono',consolas,'Courier New',monospace\"></pre>\n"
      ],
      "text/plain": []
     },
     "metadata": {},
     "output_type": "display_data"
    },
    {
     "data": {
      "text/html": [
       "<pre style=\"white-space:pre;overflow-x:auto;line-height:normal;font-family:Menlo,'DejaVu Sans Mono',consolas,'Courier New',monospace\">\n",
       "</pre>\n"
      ],
      "text/plain": [
       "\n"
      ]
     },
     "metadata": {},
     "output_type": "display_data"
    },
    {
     "data": {
      "text/html": [
       "<pre style=\"white-space:pre;overflow-x:auto;line-height:normal;font-family:Menlo,'DejaVu Sans Mono',consolas,'Courier New',monospace\"><span style=\"color: #008000; text-decoration-color: #008000\">Early stopping at iter </span><span style=\"color: #008080; text-decoration-color: #008080; font-weight: bold\">27</span><span style=\"color: #008000; text-decoration-color: #008000\"> due to reaching max kl</span>\n",
       "</pre>\n"
      ],
      "text/plain": [
       "\u001b[32mEarly stopping at iter \u001b[0m\u001b[1;36m27\u001b[0m\u001b[32m due to reaching max kl\u001b[0m\n"
      ]
     },
     "metadata": {},
     "output_type": "display_data"
    },
    {
     "data": {
      "text/html": [
       "<pre style=\"white-space:pre;overflow-x:auto;line-height:normal;font-family:Menlo,'DejaVu Sans Mono',consolas,'Courier New',monospace\"></pre>\n"
      ],
      "text/plain": []
     },
     "metadata": {},
     "output_type": "display_data"
    },
    {
     "data": {
      "text/html": [
       "<pre style=\"white-space:pre;overflow-x:auto;line-height:normal;font-family:Menlo,'DejaVu Sans Mono',consolas,'Courier New',monospace\">\n",
       "</pre>\n"
      ],
      "text/plain": [
       "\n"
      ]
     },
     "metadata": {},
     "output_type": "display_data"
    },
    {
     "data": {
      "text/html": [
       "<pre style=\"white-space:pre;overflow-x:auto;line-height:normal;font-family:Menlo,'DejaVu Sans Mono',consolas,'Courier New',monospace\">┏━━━━━━━━━━━━━━━━━━━━━━━━━━━━━━━┳━━━━━━━━━━━━━━━━━━━━━━━━┓\n",
       "┃<span style=\"font-weight: bold\"> Metrics                       </span>┃<span style=\"font-weight: bold\"> Value                  </span>┃\n",
       "┡━━━━━━━━━━━━━━━━━━━━━━━━━━━━━━━╇━━━━━━━━━━━━━━━━━━━━━━━━┩\n",
       "│ Metrics/EpRet                 │ 9.655069351196289      │\n",
       "│ Metrics/EpCost                │ 56.119998931884766     │\n",
       "│ Metrics/EpLen                 │ 1000.0                 │\n",
       "│ Train/Epoch                   │ 8.0                    │\n",
       "│ Train/Entropy                 │ 1.2024011611938477     │\n",
       "│ Train/KL                      │ 0.02048955298960209    │\n",
       "│ Train/StopIter                │ 27.0                   │\n",
       "│ Train/PolicyRatio/Mean        │ 0.9994876384735107     │\n",
       "│ Train/PolicyRatio/Min         │ 0.999487578868866      │\n",
       "│ Train/PolicyRatio/Max         │ 0.999487578868866      │\n",
       "│ Train/PolicyRatio/Std         │ 0.020254436880350113   │\n",
       "│ Train/LR                      │ 0.0002099999983329326  │\n",
       "│ Train/PolicyStd               │ 0.8053335547447205     │\n",
       "│ TotalEnvSteps                 │ 180000.0               │\n",
       "│ Loss/Loss_pi                  │ -0.022819651290774345  │\n",
       "│ Loss/Loss_pi/Delta            │ -0.0007806867361068726 │\n",
       "│ Value/Adv                     │ -0.25024235248565674   │\n",
       "│ Loss/Loss_reward_critic       │ 0.01627718098461628    │\n",
       "│ Loss/Loss_reward_critic/Delta │ 0.0018518166616559029  │\n",
       "│ Value/reward                  │ 0.444240540266037      │\n",
       "│ Time/Total                    │ 1189.139892578125      │\n",
       "│ Time/Rollout                  │ 36.51055908203125      │\n",
       "│ Time/Update                   │ 83.31009674072266      │\n",
       "│ Time/Epoch                    │ 119.82066345214844     │\n",
       "│ Time/FPS                      │ 166.91612243652344     │\n",
       "└───────────────────────────────┴────────────────────────┘\n",
       "</pre>\n"
      ],
      "text/plain": [
       "┏━━━━━━━━━━━━━━━━━━━━━━━━━━━━━━━┳━━━━━━━━━━━━━━━━━━━━━━━━┓\n",
       "┃\u001b[1m \u001b[0m\u001b[1mMetrics                      \u001b[0m\u001b[1m \u001b[0m┃\u001b[1m \u001b[0m\u001b[1mValue                 \u001b[0m\u001b[1m \u001b[0m┃\n",
       "┡━━━━━━━━━━━━━━━━━━━━━━━━━━━━━━━╇━━━━━━━━━━━━━━━━━━━━━━━━┩\n",
       "│ Metrics/EpRet                 │ 9.655069351196289      │\n",
       "│ Metrics/EpCost                │ 56.119998931884766     │\n",
       "│ Metrics/EpLen                 │ 1000.0                 │\n",
       "│ Train/Epoch                   │ 8.0                    │\n",
       "│ Train/Entropy                 │ 1.2024011611938477     │\n",
       "│ Train/KL                      │ 0.02048955298960209    │\n",
       "│ Train/StopIter                │ 27.0                   │\n",
       "│ Train/PolicyRatio/Mean        │ 0.9994876384735107     │\n",
       "│ Train/PolicyRatio/Min         │ 0.999487578868866      │\n",
       "│ Train/PolicyRatio/Max         │ 0.999487578868866      │\n",
       "│ Train/PolicyRatio/Std         │ 0.020254436880350113   │\n",
       "│ Train/LR                      │ 0.0002099999983329326  │\n",
       "│ Train/PolicyStd               │ 0.8053335547447205     │\n",
       "│ TotalEnvSteps                 │ 180000.0               │\n",
       "│ Loss/Loss_pi                  │ -0.022819651290774345  │\n",
       "│ Loss/Loss_pi/Delta            │ -0.0007806867361068726 │\n",
       "│ Value/Adv                     │ -0.25024235248565674   │\n",
       "│ Loss/Loss_reward_critic       │ 0.01627718098461628    │\n",
       "│ Loss/Loss_reward_critic/Delta │ 0.0018518166616559029  │\n",
       "│ Value/reward                  │ 0.444240540266037      │\n",
       "│ Time/Total                    │ 1189.139892578125      │\n",
       "│ Time/Rollout                  │ 36.51055908203125      │\n",
       "│ Time/Update                   │ 83.31009674072266      │\n",
       "│ Time/Epoch                    │ 119.82066345214844     │\n",
       "│ Time/FPS                      │ 166.91612243652344     │\n",
       "└───────────────────────────────┴────────────────────────┘\n"
      ]
     },
     "metadata": {},
     "output_type": "display_data"
    },
    {
     "data": {
      "text/html": [
       "<pre style=\"white-space:pre;overflow-x:auto;line-height:normal;font-family:Menlo,'DejaVu Sans Mono',consolas,'Courier New',monospace\"><span style=\"color: #008000; text-decoration-color: #008000\">Warning: trajectory cut off when rollout by epoch at </span><span style=\"color: #008080; text-decoration-color: #008080; font-weight: bold\">1000.0</span><span style=\"color: #008000; text-decoration-color: #008000\"> steps.</span>\n",
       "</pre>\n"
      ],
      "text/plain": [
       "\u001b[32mWarning: trajectory cut off when rollout by epoch at \u001b[0m\u001b[1;36m1000.0\u001b[0m\u001b[32m steps.\u001b[0m\n"
      ]
     },
     "metadata": {},
     "output_type": "display_data"
    },
    {
     "data": {
      "text/html": [
       "<pre style=\"white-space:pre;overflow-x:auto;line-height:normal;font-family:Menlo,'DejaVu Sans Mono',consolas,'Courier New',monospace\"><span style=\"color: #008000; text-decoration-color: #008000\">Warning: trajectory cut off when rollout by epoch at </span><span style=\"color: #008080; text-decoration-color: #008080; font-weight: bold\">1000.0</span><span style=\"color: #008000; text-decoration-color: #008000\"> steps.</span>\n",
       "</pre>\n"
      ],
      "text/plain": [
       "\u001b[32mWarning: trajectory cut off when rollout by epoch at \u001b[0m\u001b[1;36m1000.0\u001b[0m\u001b[32m steps.\u001b[0m\n"
      ]
     },
     "metadata": {},
     "output_type": "display_data"
    },
    {
     "data": {
      "text/html": [
       "<pre style=\"white-space:pre;overflow-x:auto;line-height:normal;font-family:Menlo,'DejaVu Sans Mono',consolas,'Courier New',monospace\"><span style=\"color: #008000; text-decoration-color: #008000\">Warning: trajectory cut off when rollout by epoch at </span><span style=\"color: #008080; text-decoration-color: #008080; font-weight: bold\">1000.0</span><span style=\"color: #008000; text-decoration-color: #008000\"> steps.</span>\n",
       "</pre>\n"
      ],
      "text/plain": [
       "\u001b[32mWarning: trajectory cut off when rollout by epoch at \u001b[0m\u001b[1;36m1000.0\u001b[0m\u001b[32m steps.\u001b[0m\n"
      ]
     },
     "metadata": {},
     "output_type": "display_data"
    },
    {
     "data": {
      "text/html": [
       "<pre style=\"white-space:pre;overflow-x:auto;line-height:normal;font-family:Menlo,'DejaVu Sans Mono',consolas,'Courier New',monospace\"><span style=\"color: #008000; text-decoration-color: #008000\">Warning: trajectory cut off when rollout by epoch at </span><span style=\"color: #008080; text-decoration-color: #008080; font-weight: bold\">1000.0</span><span style=\"color: #008000; text-decoration-color: #008000\"> steps.</span>\n",
       "</pre>\n"
      ],
      "text/plain": [
       "\u001b[32mWarning: trajectory cut off when rollout by epoch at \u001b[0m\u001b[1;36m1000.0\u001b[0m\u001b[32m steps.\u001b[0m\n"
      ]
     },
     "metadata": {},
     "output_type": "display_data"
    },
    {
     "data": {
      "text/html": [
       "<pre style=\"white-space:pre;overflow-x:auto;line-height:normal;font-family:Menlo,'DejaVu Sans Mono',consolas,'Courier New',monospace\"></pre>\n"
      ],
      "text/plain": []
     },
     "metadata": {},
     "output_type": "display_data"
    },
    {
     "data": {
      "text/html": [
       "<pre style=\"white-space:pre;overflow-x:auto;line-height:normal;font-family:Menlo,'DejaVu Sans Mono',consolas,'Courier New',monospace\">\n",
       "</pre>\n"
      ],
      "text/plain": [
       "\n"
      ]
     },
     "metadata": {},
     "output_type": "display_data"
    },
    {
     "data": {
      "text/html": [
       "<pre style=\"white-space:pre;overflow-x:auto;line-height:normal;font-family:Menlo,'DejaVu Sans Mono',consolas,'Courier New',monospace\"><span style=\"color: #008000; text-decoration-color: #008000\">Early stopping at iter </span><span style=\"color: #008080; text-decoration-color: #008080; font-weight: bold\">26</span><span style=\"color: #008000; text-decoration-color: #008000\"> due to reaching max kl</span>\n",
       "</pre>\n"
      ],
      "text/plain": [
       "\u001b[32mEarly stopping at iter \u001b[0m\u001b[1;36m26\u001b[0m\u001b[32m due to reaching max kl\u001b[0m\n"
      ]
     },
     "metadata": {},
     "output_type": "display_data"
    },
    {
     "data": {
      "text/html": [
       "<pre style=\"white-space:pre;overflow-x:auto;line-height:normal;font-family:Menlo,'DejaVu Sans Mono',consolas,'Courier New',monospace\"></pre>\n"
      ],
      "text/plain": []
     },
     "metadata": {},
     "output_type": "display_data"
    },
    {
     "data": {
      "text/html": [
       "<pre style=\"white-space:pre;overflow-x:auto;line-height:normal;font-family:Menlo,'DejaVu Sans Mono',consolas,'Courier New',monospace\">\n",
       "</pre>\n"
      ],
      "text/plain": [
       "\n"
      ]
     },
     "metadata": {},
     "output_type": "display_data"
    },
    {
     "data": {
      "text/html": [
       "<pre style=\"white-space:pre;overflow-x:auto;line-height:normal;font-family:Menlo,'DejaVu Sans Mono',consolas,'Courier New',monospace\">┏━━━━━━━━━━━━━━━━━━━━━━━━━━━━━━━┳━━━━━━━━━━━━━━━━━━━━━━━━━┓\n",
       "┃<span style=\"font-weight: bold\"> Metrics                       </span>┃<span style=\"font-weight: bold\"> Value                   </span>┃\n",
       "┡━━━━━━━━━━━━━━━━━━━━━━━━━━━━━━━╇━━━━━━━━━━━━━━━━━━━━━━━━━┩\n",
       "│ Metrics/EpRet                 │ 10.401294708251953      │\n",
       "│ Metrics/EpCost                │ 67.18000030517578       │\n",
       "│ Metrics/EpLen                 │ 1000.0                  │\n",
       "│ Train/Epoch                   │ 9.0                     │\n",
       "│ Train/Entropy                 │ 1.1713913679122925      │\n",
       "│ Train/KL                      │ 0.02067003957927227     │\n",
       "│ Train/StopIter                │ 26.0                    │\n",
       "│ Train/PolicyRatio/Mean        │ 0.9983676075935364      │\n",
       "│ Train/PolicyRatio/Min         │ 0.9983676671981812      │\n",
       "│ Train/PolicyRatio/Max         │ 0.9983676671981812      │\n",
       "│ Train/PolicyRatio/Std         │ 0.020302385091781616    │\n",
       "│ Train/LR                      │ 0.00019999999494757503  │\n",
       "│ Train/PolicyStd               │ 0.7807692885398865      │\n",
       "│ TotalEnvSteps                 │ 200000.0                │\n",
       "│ Loss/Loss_pi                  │ -0.022992795333266258   │\n",
       "│ Loss/Loss_pi/Delta            │ -0.00017314404249191284 │\n",
       "│ Value/Adv                     │ -0.11442926526069641    │\n",
       "│ Loss/Loss_reward_critic       │ 0.016781432554125786    │\n",
       "│ Loss/Loss_reward_critic/Delta │ 0.0005042515695095062   │\n",
       "│ Value/reward                  │ 0.525486409664154       │\n",
       "│ Time/Total                    │ 1314.874755859375       │\n",
       "│ Time/Rollout                  │ 47.41293716430664       │\n",
       "│ Time/Update                   │ 78.28694915771484       │\n",
       "│ Time/Epoch                    │ 125.69989013671875      │\n",
       "│ Time/FPS                      │ 159.109130859375        │\n",
       "└───────────────────────────────┴─────────────────────────┘\n",
       "</pre>\n"
      ],
      "text/plain": [
       "┏━━━━━━━━━━━━━━━━━━━━━━━━━━━━━━━┳━━━━━━━━━━━━━━━━━━━━━━━━━┓\n",
       "┃\u001b[1m \u001b[0m\u001b[1mMetrics                      \u001b[0m\u001b[1m \u001b[0m┃\u001b[1m \u001b[0m\u001b[1mValue                  \u001b[0m\u001b[1m \u001b[0m┃\n",
       "┡━━━━━━━━━━━━━━━━━━━━━━━━━━━━━━━╇━━━━━━━━━━━━━━━━━━━━━━━━━┩\n",
       "│ Metrics/EpRet                 │ 10.401294708251953      │\n",
       "│ Metrics/EpCost                │ 67.18000030517578       │\n",
       "│ Metrics/EpLen                 │ 1000.0                  │\n",
       "│ Train/Epoch                   │ 9.0                     │\n",
       "│ Train/Entropy                 │ 1.1713913679122925      │\n",
       "│ Train/KL                      │ 0.02067003957927227     │\n",
       "│ Train/StopIter                │ 26.0                    │\n",
       "│ Train/PolicyRatio/Mean        │ 0.9983676075935364      │\n",
       "│ Train/PolicyRatio/Min         │ 0.9983676671981812      │\n",
       "│ Train/PolicyRatio/Max         │ 0.9983676671981812      │\n",
       "│ Train/PolicyRatio/Std         │ 0.020302385091781616    │\n",
       "│ Train/LR                      │ 0.00019999999494757503  │\n",
       "│ Train/PolicyStd               │ 0.7807692885398865      │\n",
       "│ TotalEnvSteps                 │ 200000.0                │\n",
       "│ Loss/Loss_pi                  │ -0.022992795333266258   │\n",
       "│ Loss/Loss_pi/Delta            │ -0.00017314404249191284 │\n",
       "│ Value/Adv                     │ -0.11442926526069641    │\n",
       "│ Loss/Loss_reward_critic       │ 0.016781432554125786    │\n",
       "│ Loss/Loss_reward_critic/Delta │ 0.0005042515695095062   │\n",
       "│ Value/reward                  │ 0.525486409664154       │\n",
       "│ Time/Total                    │ 1314.874755859375       │\n",
       "│ Time/Rollout                  │ 47.41293716430664       │\n",
       "│ Time/Update                   │ 78.28694915771484       │\n",
       "│ Time/Epoch                    │ 125.69989013671875      │\n",
       "│ Time/FPS                      │ 159.109130859375        │\n",
       "└───────────────────────────────┴─────────────────────────┘\n"
      ]
     },
     "metadata": {},
     "output_type": "display_data"
    },
    {
     "data": {
      "text/html": [
       "<pre style=\"white-space:pre;overflow-x:auto;line-height:normal;font-family:Menlo,'DejaVu Sans Mono',consolas,'Courier New',monospace\"><span style=\"color: #008000; text-decoration-color: #008000\">Warning: trajectory cut off when rollout by epoch at </span><span style=\"color: #008080; text-decoration-color: #008080; font-weight: bold\">1000.0</span><span style=\"color: #008000; text-decoration-color: #008000\"> steps.</span>\n",
       "</pre>\n"
      ],
      "text/plain": [
       "\u001b[32mWarning: trajectory cut off when rollout by epoch at \u001b[0m\u001b[1;36m1000.0\u001b[0m\u001b[32m steps.\u001b[0m\n"
      ]
     },
     "metadata": {},
     "output_type": "display_data"
    },
    {
     "data": {
      "text/html": [
       "<pre style=\"white-space:pre;overflow-x:auto;line-height:normal;font-family:Menlo,'DejaVu Sans Mono',consolas,'Courier New',monospace\"><span style=\"color: #008000; text-decoration-color: #008000\">Warning: trajectory cut off when rollout by epoch at </span><span style=\"color: #008080; text-decoration-color: #008080; font-weight: bold\">1000.0</span><span style=\"color: #008000; text-decoration-color: #008000\"> steps.</span>\n",
       "</pre>\n"
      ],
      "text/plain": [
       "\u001b[32mWarning: trajectory cut off when rollout by epoch at \u001b[0m\u001b[1;36m1000.0\u001b[0m\u001b[32m steps.\u001b[0m\n"
      ]
     },
     "metadata": {},
     "output_type": "display_data"
    },
    {
     "data": {
      "text/html": [
       "<pre style=\"white-space:pre;overflow-x:auto;line-height:normal;font-family:Menlo,'DejaVu Sans Mono',consolas,'Courier New',monospace\"><span style=\"color: #008000; text-decoration-color: #008000\">Warning: trajectory cut off when rollout by epoch at </span><span style=\"color: #008080; text-decoration-color: #008080; font-weight: bold\">1000.0</span><span style=\"color: #008000; text-decoration-color: #008000\"> steps.</span>\n",
       "</pre>\n"
      ],
      "text/plain": [
       "\u001b[32mWarning: trajectory cut off when rollout by epoch at \u001b[0m\u001b[1;36m1000.0\u001b[0m\u001b[32m steps.\u001b[0m\n"
      ]
     },
     "metadata": {},
     "output_type": "display_data"
    },
    {
     "data": {
      "text/html": [
       "<pre style=\"white-space:pre;overflow-x:auto;line-height:normal;font-family:Menlo,'DejaVu Sans Mono',consolas,'Courier New',monospace\"><span style=\"color: #008000; text-decoration-color: #008000\">Warning: trajectory cut off when rollout by epoch at </span><span style=\"color: #008080; text-decoration-color: #008080; font-weight: bold\">1000.0</span><span style=\"color: #008000; text-decoration-color: #008000\"> steps.</span>\n",
       "</pre>\n"
      ],
      "text/plain": [
       "\u001b[32mWarning: trajectory cut off when rollout by epoch at \u001b[0m\u001b[1;36m1000.0\u001b[0m\u001b[32m steps.\u001b[0m\n"
      ]
     },
     "metadata": {},
     "output_type": "display_data"
    },
    {
     "data": {
      "text/html": [
       "<pre style=\"white-space:pre;overflow-x:auto;line-height:normal;font-family:Menlo,'DejaVu Sans Mono',consolas,'Courier New',monospace\"></pre>\n"
      ],
      "text/plain": []
     },
     "metadata": {},
     "output_type": "display_data"
    },
    {
     "data": {
      "text/html": [
       "<pre style=\"white-space:pre;overflow-x:auto;line-height:normal;font-family:Menlo,'DejaVu Sans Mono',consolas,'Courier New',monospace\">\n",
       "</pre>\n"
      ],
      "text/plain": [
       "\n"
      ]
     },
     "metadata": {},
     "output_type": "display_data"
    },
    {
     "data": {
      "text/html": [
       "<pre style=\"white-space:pre;overflow-x:auto;line-height:normal;font-family:Menlo,'DejaVu Sans Mono',consolas,'Courier New',monospace\"><span style=\"color: #008000; text-decoration-color: #008000\">Early stopping at iter </span><span style=\"color: #008080; text-decoration-color: #008080; font-weight: bold\">24</span><span style=\"color: #008000; text-decoration-color: #008000\"> due to reaching max kl</span>\n",
       "</pre>\n"
      ],
      "text/plain": [
       "\u001b[32mEarly stopping at iter \u001b[0m\u001b[1;36m24\u001b[0m\u001b[32m due to reaching max kl\u001b[0m\n"
      ]
     },
     "metadata": {},
     "output_type": "display_data"
    },
    {
     "data": {
      "text/html": [
       "<pre style=\"white-space:pre;overflow-x:auto;line-height:normal;font-family:Menlo,'DejaVu Sans Mono',consolas,'Courier New',monospace\"></pre>\n"
      ],
      "text/plain": []
     },
     "metadata": {},
     "output_type": "display_data"
    },
    {
     "data": {
      "text/html": [
       "<pre style=\"white-space:pre;overflow-x:auto;line-height:normal;font-family:Menlo,'DejaVu Sans Mono',consolas,'Courier New',monospace\">\n",
       "</pre>\n"
      ],
      "text/plain": [
       "\n"
      ]
     },
     "metadata": {},
     "output_type": "display_data"
    },
    {
     "data": {
      "text/html": [
       "<pre style=\"white-space:pre;overflow-x:auto;line-height:normal;font-family:Menlo,'DejaVu Sans Mono',consolas,'Courier New',monospace\">┏━━━━━━━━━━━━━━━━━━━━━━━━━━━━━━━┳━━━━━━━━━━━━━━━━━━━━━━━━━┓\n",
       "┃<span style=\"font-weight: bold\"> Metrics                       </span>┃<span style=\"font-weight: bold\"> Value                   </span>┃\n",
       "┡━━━━━━━━━━━━━━━━━━━━━━━━━━━━━━━╇━━━━━━━━━━━━━━━━━━━━━━━━━┩\n",
       "│ Metrics/EpRet                 │ 10.84564208984375       │\n",
       "│ Metrics/EpCost                │ 65.44000244140625       │\n",
       "│ Metrics/EpLen                 │ 1000.0                  │\n",
       "│ Train/Epoch                   │ 10.0                    │\n",
       "│ Train/Entropy                 │ 1.1514804363250732      │\n",
       "│ Train/KL                      │ 0.0202346071600914      │\n",
       "│ Train/StopIter                │ 24.0                    │\n",
       "│ Train/PolicyRatio/Mean        │ 0.9979071021080017      │\n",
       "│ Train/PolicyRatio/Min         │ 0.9979071021080017      │\n",
       "│ Train/PolicyRatio/Max         │ 0.9979071021080017      │\n",
       "│ Train/PolicyRatio/Std         │ 0.019578879699110985    │\n",
       "│ Train/LR                      │ 0.0001900000061141327   │\n",
       "│ Train/PolicyStd               │ 0.7654200792312622      │\n",
       "│ TotalEnvSteps                 │ 220000.0                │\n",
       "│ Loss/Loss_pi                  │ -0.023291805759072304   │\n",
       "│ Loss/Loss_pi/Delta            │ -0.00029901042580604553 │\n",
       "│ Value/Adv                     │ -0.27097854018211365    │\n",
       "│ Loss/Loss_reward_critic       │ 0.014739134348928928    │\n",
       "│ Loss/Loss_reward_critic/Delta │ -0.0020422982051968575  │\n",
       "│ Value/reward                  │ 0.6340566277503967      │\n",
       "│ Time/Total                    │ 1434.615234375          │\n",
       "│ Time/Rollout                  │ 47.235591888427734      │\n",
       "│ Time/Update                   │ 72.47521209716797       │\n",
       "│ Time/Epoch                    │ 119.71080017089844      │\n",
       "│ Time/FPS                      │ 167.06930541992188      │\n",
       "└───────────────────────────────┴─────────────────────────┘\n",
       "</pre>\n"
      ],
      "text/plain": [
       "┏━━━━━━━━━━━━━━━━━━━━━━━━━━━━━━━┳━━━━━━━━━━━━━━━━━━━━━━━━━┓\n",
       "┃\u001b[1m \u001b[0m\u001b[1mMetrics                      \u001b[0m\u001b[1m \u001b[0m┃\u001b[1m \u001b[0m\u001b[1mValue                  \u001b[0m\u001b[1m \u001b[0m┃\n",
       "┡━━━━━━━━━━━━━━━━━━━━━━━━━━━━━━━╇━━━━━━━━━━━━━━━━━━━━━━━━━┩\n",
       "│ Metrics/EpRet                 │ 10.84564208984375       │\n",
       "│ Metrics/EpCost                │ 65.44000244140625       │\n",
       "│ Metrics/EpLen                 │ 1000.0                  │\n",
       "│ Train/Epoch                   │ 10.0                    │\n",
       "│ Train/Entropy                 │ 1.1514804363250732      │\n",
       "│ Train/KL                      │ 0.0202346071600914      │\n",
       "│ Train/StopIter                │ 24.0                    │\n",
       "│ Train/PolicyRatio/Mean        │ 0.9979071021080017      │\n",
       "│ Train/PolicyRatio/Min         │ 0.9979071021080017      │\n",
       "│ Train/PolicyRatio/Max         │ 0.9979071021080017      │\n",
       "│ Train/PolicyRatio/Std         │ 0.019578879699110985    │\n",
       "│ Train/LR                      │ 0.0001900000061141327   │\n",
       "│ Train/PolicyStd               │ 0.7654200792312622      │\n",
       "│ TotalEnvSteps                 │ 220000.0                │\n",
       "│ Loss/Loss_pi                  │ -0.023291805759072304   │\n",
       "│ Loss/Loss_pi/Delta            │ -0.00029901042580604553 │\n",
       "│ Value/Adv                     │ -0.27097854018211365    │\n",
       "│ Loss/Loss_reward_critic       │ 0.014739134348928928    │\n",
       "│ Loss/Loss_reward_critic/Delta │ -0.0020422982051968575  │\n",
       "│ Value/reward                  │ 0.6340566277503967      │\n",
       "│ Time/Total                    │ 1434.615234375          │\n",
       "│ Time/Rollout                  │ 47.235591888427734      │\n",
       "│ Time/Update                   │ 72.47521209716797       │\n",
       "│ Time/Epoch                    │ 119.71080017089844      │\n",
       "│ Time/FPS                      │ 167.06930541992188      │\n",
       "└───────────────────────────────┴─────────────────────────┘\n"
      ]
     },
     "metadata": {},
     "output_type": "display_data"
    },
    {
     "data": {
      "text/html": [
       "<pre style=\"white-space:pre;overflow-x:auto;line-height:normal;font-family:Menlo,'DejaVu Sans Mono',consolas,'Courier New',monospace\"><span style=\"color: #008000; text-decoration-color: #008000\">Warning: trajectory cut off when rollout by epoch at </span><span style=\"color: #008080; text-decoration-color: #008080; font-weight: bold\">1000.0</span><span style=\"color: #008000; text-decoration-color: #008000\"> steps.</span>\n",
       "</pre>\n"
      ],
      "text/plain": [
       "\u001b[32mWarning: trajectory cut off when rollout by epoch at \u001b[0m\u001b[1;36m1000.0\u001b[0m\u001b[32m steps.\u001b[0m\n"
      ]
     },
     "metadata": {},
     "output_type": "display_data"
    },
    {
     "data": {
      "text/html": [
       "<pre style=\"white-space:pre;overflow-x:auto;line-height:normal;font-family:Menlo,'DejaVu Sans Mono',consolas,'Courier New',monospace\"><span style=\"color: #008000; text-decoration-color: #008000\">Warning: trajectory cut off when rollout by epoch at </span><span style=\"color: #008080; text-decoration-color: #008080; font-weight: bold\">1000.0</span><span style=\"color: #008000; text-decoration-color: #008000\"> steps.</span>\n",
       "</pre>\n"
      ],
      "text/plain": [
       "\u001b[32mWarning: trajectory cut off when rollout by epoch at \u001b[0m\u001b[1;36m1000.0\u001b[0m\u001b[32m steps.\u001b[0m\n"
      ]
     },
     "metadata": {},
     "output_type": "display_data"
    },
    {
     "data": {
      "text/html": [
       "<pre style=\"white-space:pre;overflow-x:auto;line-height:normal;font-family:Menlo,'DejaVu Sans Mono',consolas,'Courier New',monospace\"><span style=\"color: #008000; text-decoration-color: #008000\">Warning: trajectory cut off when rollout by epoch at </span><span style=\"color: #008080; text-decoration-color: #008080; font-weight: bold\">1000.0</span><span style=\"color: #008000; text-decoration-color: #008000\"> steps.</span>\n",
       "</pre>\n"
      ],
      "text/plain": [
       "\u001b[32mWarning: trajectory cut off when rollout by epoch at \u001b[0m\u001b[1;36m1000.0\u001b[0m\u001b[32m steps.\u001b[0m\n"
      ]
     },
     "metadata": {},
     "output_type": "display_data"
    },
    {
     "data": {
      "text/html": [
       "<pre style=\"white-space:pre;overflow-x:auto;line-height:normal;font-family:Menlo,'DejaVu Sans Mono',consolas,'Courier New',monospace\"><span style=\"color: #008000; text-decoration-color: #008000\">Warning: trajectory cut off when rollout by epoch at </span><span style=\"color: #008080; text-decoration-color: #008080; font-weight: bold\">1000.0</span><span style=\"color: #008000; text-decoration-color: #008000\"> steps.</span>\n",
       "</pre>\n"
      ],
      "text/plain": [
       "\u001b[32mWarning: trajectory cut off when rollout by epoch at \u001b[0m\u001b[1;36m1000.0\u001b[0m\u001b[32m steps.\u001b[0m\n"
      ]
     },
     "metadata": {},
     "output_type": "display_data"
    },
    {
     "data": {
      "text/html": [
       "<pre style=\"white-space:pre;overflow-x:auto;line-height:normal;font-family:Menlo,'DejaVu Sans Mono',consolas,'Courier New',monospace\"></pre>\n"
      ],
      "text/plain": []
     },
     "metadata": {},
     "output_type": "display_data"
    },
    {
     "data": {
      "text/html": [
       "<pre style=\"white-space:pre;overflow-x:auto;line-height:normal;font-family:Menlo,'DejaVu Sans Mono',consolas,'Courier New',monospace\">\n",
       "</pre>\n"
      ],
      "text/plain": [
       "\n"
      ]
     },
     "metadata": {},
     "output_type": "display_data"
    },
    {
     "data": {
      "text/html": [
       "<pre style=\"white-space:pre;overflow-x:auto;line-height:normal;font-family:Menlo,'DejaVu Sans Mono',consolas,'Courier New',monospace\"><span style=\"color: #008000; text-decoration-color: #008000\">Early stopping at iter </span><span style=\"color: #008080; text-decoration-color: #008080; font-weight: bold\">21</span><span style=\"color: #008000; text-decoration-color: #008000\"> due to reaching max kl</span>\n",
       "</pre>\n"
      ],
      "text/plain": [
       "\u001b[32mEarly stopping at iter \u001b[0m\u001b[1;36m21\u001b[0m\u001b[32m due to reaching max kl\u001b[0m\n"
      ]
     },
     "metadata": {},
     "output_type": "display_data"
    },
    {
     "data": {
      "text/html": [
       "<pre style=\"white-space:pre;overflow-x:auto;line-height:normal;font-family:Menlo,'DejaVu Sans Mono',consolas,'Courier New',monospace\"></pre>\n"
      ],
      "text/plain": []
     },
     "metadata": {},
     "output_type": "display_data"
    },
    {
     "data": {
      "text/html": [
       "<pre style=\"white-space:pre;overflow-x:auto;line-height:normal;font-family:Menlo,'DejaVu Sans Mono',consolas,'Courier New',monospace\">\n",
       "</pre>\n"
      ],
      "text/plain": [
       "\n"
      ]
     },
     "metadata": {},
     "output_type": "display_data"
    },
    {
     "data": {
      "text/html": [
       "<pre style=\"white-space:pre;overflow-x:auto;line-height:normal;font-family:Menlo,'DejaVu Sans Mono',consolas,'Courier New',monospace\">┏━━━━━━━━━━━━━━━━━━━━━━━━━━━━━━━┳━━━━━━━━━━━━━━━━━━━━━━━━┓\n",
       "┃<span style=\"font-weight: bold\"> Metrics                       </span>┃<span style=\"font-weight: bold\"> Value                  </span>┃\n",
       "┡━━━━━━━━━━━━━━━━━━━━━━━━━━━━━━━╇━━━━━━━━━━━━━━━━━━━━━━━━┩\n",
       "│ Metrics/EpRet                 │ 12.728906631469727     │\n",
       "│ Metrics/EpCost                │ 63.52000045776367      │\n",
       "│ Metrics/EpLen                 │ 1000.0                 │\n",
       "│ Train/Epoch                   │ 11.0                   │\n",
       "│ Train/Entropy                 │ 1.1328285932540894     │\n",
       "│ Train/KL                      │ 0.020037639886140823   │\n",
       "│ Train/StopIter                │ 21.0                   │\n",
       "│ Train/PolicyRatio/Mean        │ 0.9962237477302551     │\n",
       "│ Train/PolicyRatio/Min         │ 0.9962238073348999     │\n",
       "│ Train/PolicyRatio/Max         │ 0.9962238073348999     │\n",
       "│ Train/PolicyRatio/Std         │ 0.018970854580402374   │\n",
       "│ Train/LR                      │ 0.00018000000272877514 │\n",
       "│ Train/PolicyStd               │ 0.7513568997383118     │\n",
       "│ TotalEnvSteps                 │ 240000.0               │\n",
       "│ Loss/Loss_pi                  │ -0.021343590691685677  │\n",
       "│ Loss/Loss_pi/Delta            │ 0.0019482150673866272  │\n",
       "│ Value/Adv                     │ -0.20967057347297668   │\n",
       "│ Loss/Loss_reward_critic       │ 0.0183121245354414     │\n",
       "│ Loss/Loss_reward_critic/Delta │ 0.0035729901865124702  │\n",
       "│ Value/reward                  │ 0.8350414037704468     │\n",
       "│ Time/Total                    │ 1546.1348876953125     │\n",
       "│ Time/Rollout                  │ 47.424983978271484     │\n",
       "│ Time/Update                   │ 64.05883026123047      │\n",
       "│ Time/Epoch                    │ 111.48381042480469     │\n",
       "│ Time/FPS                      │ 179.3982391357422      │\n",
       "└───────────────────────────────┴────────────────────────┘\n",
       "</pre>\n"
      ],
      "text/plain": [
       "┏━━━━━━━━━━━━━━━━━━━━━━━━━━━━━━━┳━━━━━━━━━━━━━━━━━━━━━━━━┓\n",
       "┃\u001b[1m \u001b[0m\u001b[1mMetrics                      \u001b[0m\u001b[1m \u001b[0m┃\u001b[1m \u001b[0m\u001b[1mValue                 \u001b[0m\u001b[1m \u001b[0m┃\n",
       "┡━━━━━━━━━━━━━━━━━━━━━━━━━━━━━━━╇━━━━━━━━━━━━━━━━━━━━━━━━┩\n",
       "│ Metrics/EpRet                 │ 12.728906631469727     │\n",
       "│ Metrics/EpCost                │ 63.52000045776367      │\n",
       "│ Metrics/EpLen                 │ 1000.0                 │\n",
       "│ Train/Epoch                   │ 11.0                   │\n",
       "│ Train/Entropy                 │ 1.1328285932540894     │\n",
       "│ Train/KL                      │ 0.020037639886140823   │\n",
       "│ Train/StopIter                │ 21.0                   │\n",
       "│ Train/PolicyRatio/Mean        │ 0.9962237477302551     │\n",
       "│ Train/PolicyRatio/Min         │ 0.9962238073348999     │\n",
       "│ Train/PolicyRatio/Max         │ 0.9962238073348999     │\n",
       "│ Train/PolicyRatio/Std         │ 0.018970854580402374   │\n",
       "│ Train/LR                      │ 0.00018000000272877514 │\n",
       "│ Train/PolicyStd               │ 0.7513568997383118     │\n",
       "│ TotalEnvSteps                 │ 240000.0               │\n",
       "│ Loss/Loss_pi                  │ -0.021343590691685677  │\n",
       "│ Loss/Loss_pi/Delta            │ 0.0019482150673866272  │\n",
       "│ Value/Adv                     │ -0.20967057347297668   │\n",
       "│ Loss/Loss_reward_critic       │ 0.0183121245354414     │\n",
       "│ Loss/Loss_reward_critic/Delta │ 0.0035729901865124702  │\n",
       "│ Value/reward                  │ 0.8350414037704468     │\n",
       "│ Time/Total                    │ 1546.1348876953125     │\n",
       "│ Time/Rollout                  │ 47.424983978271484     │\n",
       "│ Time/Update                   │ 64.05883026123047      │\n",
       "│ Time/Epoch                    │ 111.48381042480469     │\n",
       "│ Time/FPS                      │ 179.3982391357422      │\n",
       "└───────────────────────────────┴────────────────────────┘\n"
      ]
     },
     "metadata": {},
     "output_type": "display_data"
    },
    {
     "data": {
      "text/html": [
       "<pre style=\"white-space:pre;overflow-x:auto;line-height:normal;font-family:Menlo,'DejaVu Sans Mono',consolas,'Courier New',monospace\"><span style=\"color: #008000; text-decoration-color: #008000\">Warning: trajectory cut off when rollout by epoch at </span><span style=\"color: #008080; text-decoration-color: #008080; font-weight: bold\">1000.0</span><span style=\"color: #008000; text-decoration-color: #008000\"> steps.</span>\n",
       "</pre>\n"
      ],
      "text/plain": [
       "\u001b[32mWarning: trajectory cut off when rollout by epoch at \u001b[0m\u001b[1;36m1000.0\u001b[0m\u001b[32m steps.\u001b[0m\n"
      ]
     },
     "metadata": {},
     "output_type": "display_data"
    },
    {
     "data": {
      "text/html": [
       "<pre style=\"white-space:pre;overflow-x:auto;line-height:normal;font-family:Menlo,'DejaVu Sans Mono',consolas,'Courier New',monospace\"><span style=\"color: #008000; text-decoration-color: #008000\">Warning: trajectory cut off when rollout by epoch at </span><span style=\"color: #008080; text-decoration-color: #008080; font-weight: bold\">1000.0</span><span style=\"color: #008000; text-decoration-color: #008000\"> steps.</span>\n",
       "</pre>\n"
      ],
      "text/plain": [
       "\u001b[32mWarning: trajectory cut off when rollout by epoch at \u001b[0m\u001b[1;36m1000.0\u001b[0m\u001b[32m steps.\u001b[0m\n"
      ]
     },
     "metadata": {},
     "output_type": "display_data"
    },
    {
     "data": {
      "text/html": [
       "<pre style=\"white-space:pre;overflow-x:auto;line-height:normal;font-family:Menlo,'DejaVu Sans Mono',consolas,'Courier New',monospace\"><span style=\"color: #008000; text-decoration-color: #008000\">Warning: trajectory cut off when rollout by epoch at </span><span style=\"color: #008080; text-decoration-color: #008080; font-weight: bold\">1000.0</span><span style=\"color: #008000; text-decoration-color: #008000\"> steps.</span>\n",
       "</pre>\n"
      ],
      "text/plain": [
       "\u001b[32mWarning: trajectory cut off when rollout by epoch at \u001b[0m\u001b[1;36m1000.0\u001b[0m\u001b[32m steps.\u001b[0m\n"
      ]
     },
     "metadata": {},
     "output_type": "display_data"
    },
    {
     "data": {
      "text/html": [
       "<pre style=\"white-space:pre;overflow-x:auto;line-height:normal;font-family:Menlo,'DejaVu Sans Mono',consolas,'Courier New',monospace\"><span style=\"color: #008000; text-decoration-color: #008000\">Warning: trajectory cut off when rollout by epoch at </span><span style=\"color: #008080; text-decoration-color: #008080; font-weight: bold\">1000.0</span><span style=\"color: #008000; text-decoration-color: #008000\"> steps.</span>\n",
       "</pre>\n"
      ],
      "text/plain": [
       "\u001b[32mWarning: trajectory cut off when rollout by epoch at \u001b[0m\u001b[1;36m1000.0\u001b[0m\u001b[32m steps.\u001b[0m\n"
      ]
     },
     "metadata": {},
     "output_type": "display_data"
    },
    {
     "data": {
      "text/html": [
       "<pre style=\"white-space:pre;overflow-x:auto;line-height:normal;font-family:Menlo,'DejaVu Sans Mono',consolas,'Courier New',monospace\"></pre>\n"
      ],
      "text/plain": []
     },
     "metadata": {},
     "output_type": "display_data"
    },
    {
     "data": {
      "text/html": [
       "<pre style=\"white-space:pre;overflow-x:auto;line-height:normal;font-family:Menlo,'DejaVu Sans Mono',consolas,'Courier New',monospace\">\n",
       "</pre>\n"
      ],
      "text/plain": [
       "\n"
      ]
     },
     "metadata": {},
     "output_type": "display_data"
    },
    {
     "data": {
      "text/html": [
       "<pre style=\"white-space:pre;overflow-x:auto;line-height:normal;font-family:Menlo,'DejaVu Sans Mono',consolas,'Courier New',monospace\"><span style=\"color: #008000; text-decoration-color: #008000\">Early stopping at iter </span><span style=\"color: #008080; text-decoration-color: #008080; font-weight: bold\">24</span><span style=\"color: #008000; text-decoration-color: #008000\"> due to reaching max kl</span>\n",
       "</pre>\n"
      ],
      "text/plain": [
       "\u001b[32mEarly stopping at iter \u001b[0m\u001b[1;36m24\u001b[0m\u001b[32m due to reaching max kl\u001b[0m\n"
      ]
     },
     "metadata": {},
     "output_type": "display_data"
    },
    {
     "data": {
      "text/html": [
       "<pre style=\"white-space:pre;overflow-x:auto;line-height:normal;font-family:Menlo,'DejaVu Sans Mono',consolas,'Courier New',monospace\"></pre>\n"
      ],
      "text/plain": []
     },
     "metadata": {},
     "output_type": "display_data"
    },
    {
     "data": {
      "text/html": [
       "<pre style=\"white-space:pre;overflow-x:auto;line-height:normal;font-family:Menlo,'DejaVu Sans Mono',consolas,'Courier New',monospace\">\n",
       "</pre>\n"
      ],
      "text/plain": [
       "\n"
      ]
     },
     "metadata": {},
     "output_type": "display_data"
    },
    {
     "data": {
      "text/html": [
       "<pre style=\"white-space:pre;overflow-x:auto;line-height:normal;font-family:Menlo,'DejaVu Sans Mono',consolas,'Courier New',monospace\">┏━━━━━━━━━━━━━━━━━━━━━━━━━━━━━━━┳━━━━━━━━━━━━━━━━━━━━━━━━┓\n",
       "┃<span style=\"font-weight: bold\"> Metrics                       </span>┃<span style=\"font-weight: bold\"> Value                  </span>┃\n",
       "┡━━━━━━━━━━━━━━━━━━━━━━━━━━━━━━━╇━━━━━━━━━━━━━━━━━━━━━━━━┩\n",
       "│ Metrics/EpRet                 │ 14.278093338012695     │\n",
       "│ Metrics/EpCost                │ 72.9000015258789       │\n",
       "│ Metrics/EpLen                 │ 1000.0                 │\n",
       "│ Train/Epoch                   │ 12.0                   │\n",
       "│ Train/Entropy                 │ 1.103733777999878      │\n",
       "│ Train/KL                      │ 0.02025669440627098    │\n",
       "│ Train/StopIter                │ 24.0                   │\n",
       "│ Train/PolicyRatio/Mean        │ 0.9966862797737122     │\n",
       "│ Train/PolicyRatio/Min         │ 0.9966862797737122     │\n",
       "│ Train/PolicyRatio/Max         │ 0.9966862797737122     │\n",
       "│ Train/PolicyRatio/Std         │ 0.019671890884637833   │\n",
       "│ Train/LR                      │ 0.00016999999934341758 │\n",
       "│ Train/PolicyStd               │ 0.729830265045166      │\n",
       "│ TotalEnvSteps                 │ 260000.0               │\n",
       "│ Loss/Loss_pi                  │ -0.023003846406936646  │\n",
       "│ Loss/Loss_pi/Delta            │ -0.001660255715250969  │\n",
       "│ Value/Adv                     │ 0.06018723547458649    │\n",
       "│ Loss/Loss_reward_critic       │ 0.01800622045993805    │\n",
       "│ Loss/Loss_reward_critic/Delta │ -0.0003059040755033493 │\n",
       "│ Value/reward                  │ 0.900463879108429      │\n",
       "│ Time/Total                    │ 1664.7840576171875     │\n",
       "│ Time/Rollout                  │ 46.54772186279297      │\n",
       "│ Time/Update                   │ 72.06746673583984      │\n",
       "│ Time/Epoch                    │ 118.61518859863281     │\n",
       "│ Time/FPS                      │ 168.6124725341797      │\n",
       "└───────────────────────────────┴────────────────────────┘\n",
       "</pre>\n"
      ],
      "text/plain": [
       "┏━━━━━━━━━━━━━━━━━━━━━━━━━━━━━━━┳━━━━━━━━━━━━━━━━━━━━━━━━┓\n",
       "┃\u001b[1m \u001b[0m\u001b[1mMetrics                      \u001b[0m\u001b[1m \u001b[0m┃\u001b[1m \u001b[0m\u001b[1mValue                 \u001b[0m\u001b[1m \u001b[0m┃\n",
       "┡━━━━━━━━━━━━━━━━━━━━━━━━━━━━━━━╇━━━━━━━━━━━━━━━━━━━━━━━━┩\n",
       "│ Metrics/EpRet                 │ 14.278093338012695     │\n",
       "│ Metrics/EpCost                │ 72.9000015258789       │\n",
       "│ Metrics/EpLen                 │ 1000.0                 │\n",
       "│ Train/Epoch                   │ 12.0                   │\n",
       "│ Train/Entropy                 │ 1.103733777999878      │\n",
       "│ Train/KL                      │ 0.02025669440627098    │\n",
       "│ Train/StopIter                │ 24.0                   │\n",
       "│ Train/PolicyRatio/Mean        │ 0.9966862797737122     │\n",
       "│ Train/PolicyRatio/Min         │ 0.9966862797737122     │\n",
       "│ Train/PolicyRatio/Max         │ 0.9966862797737122     │\n",
       "│ Train/PolicyRatio/Std         │ 0.019671890884637833   │\n",
       "│ Train/LR                      │ 0.00016999999934341758 │\n",
       "│ Train/PolicyStd               │ 0.729830265045166      │\n",
       "│ TotalEnvSteps                 │ 260000.0               │\n",
       "│ Loss/Loss_pi                  │ -0.023003846406936646  │\n",
       "│ Loss/Loss_pi/Delta            │ -0.001660255715250969  │\n",
       "│ Value/Adv                     │ 0.06018723547458649    │\n",
       "│ Loss/Loss_reward_critic       │ 0.01800622045993805    │\n",
       "│ Loss/Loss_reward_critic/Delta │ -0.0003059040755033493 │\n",
       "│ Value/reward                  │ 0.900463879108429      │\n",
       "│ Time/Total                    │ 1664.7840576171875     │\n",
       "│ Time/Rollout                  │ 46.54772186279297      │\n",
       "│ Time/Update                   │ 72.06746673583984      │\n",
       "│ Time/Epoch                    │ 118.61518859863281     │\n",
       "│ Time/FPS                      │ 168.6124725341797      │\n",
       "└───────────────────────────────┴────────────────────────┘\n"
      ]
     },
     "metadata": {},
     "output_type": "display_data"
    },
    {
     "data": {
      "text/html": [
       "<pre style=\"white-space:pre;overflow-x:auto;line-height:normal;font-family:Menlo,'DejaVu Sans Mono',consolas,'Courier New',monospace\"><span style=\"color: #008000; text-decoration-color: #008000\">Warning: trajectory cut off when rollout by epoch at </span><span style=\"color: #008080; text-decoration-color: #008080; font-weight: bold\">1000.0</span><span style=\"color: #008000; text-decoration-color: #008000\"> steps.</span>\n",
       "</pre>\n"
      ],
      "text/plain": [
       "\u001b[32mWarning: trajectory cut off when rollout by epoch at \u001b[0m\u001b[1;36m1000.0\u001b[0m\u001b[32m steps.\u001b[0m\n"
      ]
     },
     "metadata": {},
     "output_type": "display_data"
    },
    {
     "data": {
      "text/html": [
       "<pre style=\"white-space:pre;overflow-x:auto;line-height:normal;font-family:Menlo,'DejaVu Sans Mono',consolas,'Courier New',monospace\"><span style=\"color: #008000; text-decoration-color: #008000\">Warning: trajectory cut off when rollout by epoch at </span><span style=\"color: #008080; text-decoration-color: #008080; font-weight: bold\">1000.0</span><span style=\"color: #008000; text-decoration-color: #008000\"> steps.</span>\n",
       "</pre>\n"
      ],
      "text/plain": [
       "\u001b[32mWarning: trajectory cut off when rollout by epoch at \u001b[0m\u001b[1;36m1000.0\u001b[0m\u001b[32m steps.\u001b[0m\n"
      ]
     },
     "metadata": {},
     "output_type": "display_data"
    },
    {
     "data": {
      "text/html": [
       "<pre style=\"white-space:pre;overflow-x:auto;line-height:normal;font-family:Menlo,'DejaVu Sans Mono',consolas,'Courier New',monospace\"><span style=\"color: #008000; text-decoration-color: #008000\">Warning: trajectory cut off when rollout by epoch at </span><span style=\"color: #008080; text-decoration-color: #008080; font-weight: bold\">1000.0</span><span style=\"color: #008000; text-decoration-color: #008000\"> steps.</span>\n",
       "</pre>\n"
      ],
      "text/plain": [
       "\u001b[32mWarning: trajectory cut off when rollout by epoch at \u001b[0m\u001b[1;36m1000.0\u001b[0m\u001b[32m steps.\u001b[0m\n"
      ]
     },
     "metadata": {},
     "output_type": "display_data"
    },
    {
     "data": {
      "text/html": [
       "<pre style=\"white-space:pre;overflow-x:auto;line-height:normal;font-family:Menlo,'DejaVu Sans Mono',consolas,'Courier New',monospace\"><span style=\"color: #008000; text-decoration-color: #008000\">Warning: trajectory cut off when rollout by epoch at </span><span style=\"color: #008080; text-decoration-color: #008080; font-weight: bold\">1000.0</span><span style=\"color: #008000; text-decoration-color: #008000\"> steps.</span>\n",
       "</pre>\n"
      ],
      "text/plain": [
       "\u001b[32mWarning: trajectory cut off when rollout by epoch at \u001b[0m\u001b[1;36m1000.0\u001b[0m\u001b[32m steps.\u001b[0m\n"
      ]
     },
     "metadata": {},
     "output_type": "display_data"
    },
    {
     "data": {
      "text/html": [
       "<pre style=\"white-space:pre;overflow-x:auto;line-height:normal;font-family:Menlo,'DejaVu Sans Mono',consolas,'Courier New',monospace\"></pre>\n"
      ],
      "text/plain": []
     },
     "metadata": {},
     "output_type": "display_data"
    },
    {
     "data": {
      "text/html": [
       "<pre style=\"white-space:pre;overflow-x:auto;line-height:normal;font-family:Menlo,'DejaVu Sans Mono',consolas,'Courier New',monospace\">\n",
       "</pre>\n"
      ],
      "text/plain": [
       "\n"
      ]
     },
     "metadata": {},
     "output_type": "display_data"
    },
    {
     "data": {
      "text/html": [
       "<pre style=\"white-space:pre;overflow-x:auto;line-height:normal;font-family:Menlo,'DejaVu Sans Mono',consolas,'Courier New',monospace\"><span style=\"color: #008000; text-decoration-color: #008000\">Early stopping at iter </span><span style=\"color: #008080; text-decoration-color: #008080; font-weight: bold\">26</span><span style=\"color: #008000; text-decoration-color: #008000\"> due to reaching max kl</span>\n",
       "</pre>\n"
      ],
      "text/plain": [
       "\u001b[32mEarly stopping at iter \u001b[0m\u001b[1;36m26\u001b[0m\u001b[32m due to reaching max kl\u001b[0m\n"
      ]
     },
     "metadata": {},
     "output_type": "display_data"
    },
    {
     "data": {
      "text/html": [
       "<pre style=\"white-space:pre;overflow-x:auto;line-height:normal;font-family:Menlo,'DejaVu Sans Mono',consolas,'Courier New',monospace\"></pre>\n"
      ],
      "text/plain": []
     },
     "metadata": {},
     "output_type": "display_data"
    },
    {
     "data": {
      "text/html": [
       "<pre style=\"white-space:pre;overflow-x:auto;line-height:normal;font-family:Menlo,'DejaVu Sans Mono',consolas,'Courier New',monospace\">\n",
       "</pre>\n"
      ],
      "text/plain": [
       "\n"
      ]
     },
     "metadata": {},
     "output_type": "display_data"
    },
    {
     "data": {
      "text/html": [
       "<pre style=\"white-space:pre;overflow-x:auto;line-height:normal;font-family:Menlo,'DejaVu Sans Mono',consolas,'Courier New',monospace\">┏━━━━━━━━━━━━━━━━━━━━━━━━━━━━━━━┳━━━━━━━━━━━━━━━━━━━━━━━━┓\n",
       "┃<span style=\"font-weight: bold\"> Metrics                       </span>┃<span style=\"font-weight: bold\"> Value                  </span>┃\n",
       "┡━━━━━━━━━━━━━━━━━━━━━━━━━━━━━━━╇━━━━━━━━━━━━━━━━━━━━━━━━┩\n",
       "│ Metrics/EpRet                 │ 15.425965309143066     │\n",
       "│ Metrics/EpCost                │ 63.040000915527344     │\n",
       "│ Metrics/EpLen                 │ 1000.0                 │\n",
       "│ Train/Epoch                   │ 13.0                   │\n",
       "│ Train/Entropy                 │ 1.081613302230835      │\n",
       "│ Train/KL                      │ 0.020053807646036148   │\n",
       "│ Train/StopIter                │ 26.0                   │\n",
       "│ Train/PolicyRatio/Mean        │ 0.9959452152252197     │\n",
       "│ Train/PolicyRatio/Min         │ 0.9959452152252197     │\n",
       "│ Train/PolicyRatio/Max         │ 0.9959452152252197     │\n",
       "│ Train/PolicyRatio/Std         │ 0.019811032339930534   │\n",
       "│ Train/LR                      │ 0.00015999999595806003 │\n",
       "│ Train/PolicyStd               │ 0.7139341831207275     │\n",
       "│ TotalEnvSteps                 │ 280000.0               │\n",
       "│ Loss/Loss_pi                  │ -0.02520778402686119   │\n",
       "│ Loss/Loss_pi/Delta            │ -0.0022039376199245453 │\n",
       "│ Value/Adv                     │ -0.005654308944940567  │\n",
       "│ Loss/Loss_reward_critic       │ 0.019628221169114113   │\n",
       "│ Loss/Loss_reward_critic/Delta │ 0.0016220007091760635  │\n",
       "│ Value/reward                  │ 1.0420563220977783     │\n",
       "│ Time/Total                    │ 1789.17529296875       │\n",
       "│ Time/Rollout                  │ 46.27323913574219      │\n",
       "│ Time/Update                   │ 78.07205963134766      │\n",
       "│ Time/Epoch                    │ 124.34529876708984     │\n",
       "│ Time/FPS                      │ 160.84242248535156     │\n",
       "└───────────────────────────────┴────────────────────────┘\n",
       "</pre>\n"
      ],
      "text/plain": [
       "┏━━━━━━━━━━━━━━━━━━━━━━━━━━━━━━━┳━━━━━━━━━━━━━━━━━━━━━━━━┓\n",
       "┃\u001b[1m \u001b[0m\u001b[1mMetrics                      \u001b[0m\u001b[1m \u001b[0m┃\u001b[1m \u001b[0m\u001b[1mValue                 \u001b[0m\u001b[1m \u001b[0m┃\n",
       "┡━━━━━━━━━━━━━━━━━━━━━━━━━━━━━━━╇━━━━━━━━━━━━━━━━━━━━━━━━┩\n",
       "│ Metrics/EpRet                 │ 15.425965309143066     │\n",
       "│ Metrics/EpCost                │ 63.040000915527344     │\n",
       "│ Metrics/EpLen                 │ 1000.0                 │\n",
       "│ Train/Epoch                   │ 13.0                   │\n",
       "│ Train/Entropy                 │ 1.081613302230835      │\n",
       "│ Train/KL                      │ 0.020053807646036148   │\n",
       "│ Train/StopIter                │ 26.0                   │\n",
       "│ Train/PolicyRatio/Mean        │ 0.9959452152252197     │\n",
       "│ Train/PolicyRatio/Min         │ 0.9959452152252197     │\n",
       "│ Train/PolicyRatio/Max         │ 0.9959452152252197     │\n",
       "│ Train/PolicyRatio/Std         │ 0.019811032339930534   │\n",
       "│ Train/LR                      │ 0.00015999999595806003 │\n",
       "│ Train/PolicyStd               │ 0.7139341831207275     │\n",
       "│ TotalEnvSteps                 │ 280000.0               │\n",
       "│ Loss/Loss_pi                  │ -0.02520778402686119   │\n",
       "│ Loss/Loss_pi/Delta            │ -0.0022039376199245453 │\n",
       "│ Value/Adv                     │ -0.005654308944940567  │\n",
       "│ Loss/Loss_reward_critic       │ 0.019628221169114113   │\n",
       "│ Loss/Loss_reward_critic/Delta │ 0.0016220007091760635  │\n",
       "│ Value/reward                  │ 1.0420563220977783     │\n",
       "│ Time/Total                    │ 1789.17529296875       │\n",
       "│ Time/Rollout                  │ 46.27323913574219      │\n",
       "│ Time/Update                   │ 78.07205963134766      │\n",
       "│ Time/Epoch                    │ 124.34529876708984     │\n",
       "│ Time/FPS                      │ 160.84242248535156     │\n",
       "└───────────────────────────────┴────────────────────────┘\n"
      ]
     },
     "metadata": {},
     "output_type": "display_data"
    },
    {
     "data": {
      "text/html": [
       "<pre style=\"white-space:pre;overflow-x:auto;line-height:normal;font-family:Menlo,'DejaVu Sans Mono',consolas,'Courier New',monospace\"><span style=\"color: #008000; text-decoration-color: #008000\">Warning: trajectory cut off when rollout by epoch at </span><span style=\"color: #008080; text-decoration-color: #008080; font-weight: bold\">1000.0</span><span style=\"color: #008000; text-decoration-color: #008000\"> steps.</span>\n",
       "</pre>\n"
      ],
      "text/plain": [
       "\u001b[32mWarning: trajectory cut off when rollout by epoch at \u001b[0m\u001b[1;36m1000.0\u001b[0m\u001b[32m steps.\u001b[0m\n"
      ]
     },
     "metadata": {},
     "output_type": "display_data"
    },
    {
     "data": {
      "text/html": [
       "<pre style=\"white-space:pre;overflow-x:auto;line-height:normal;font-family:Menlo,'DejaVu Sans Mono',consolas,'Courier New',monospace\"><span style=\"color: #008000; text-decoration-color: #008000\">Warning: trajectory cut off when rollout by epoch at </span><span style=\"color: #008080; text-decoration-color: #008080; font-weight: bold\">1000.0</span><span style=\"color: #008000; text-decoration-color: #008000\"> steps.</span>\n",
       "</pre>\n"
      ],
      "text/plain": [
       "\u001b[32mWarning: trajectory cut off when rollout by epoch at \u001b[0m\u001b[1;36m1000.0\u001b[0m\u001b[32m steps.\u001b[0m\n"
      ]
     },
     "metadata": {},
     "output_type": "display_data"
    },
    {
     "data": {
      "text/html": [
       "<pre style=\"white-space:pre;overflow-x:auto;line-height:normal;font-family:Menlo,'DejaVu Sans Mono',consolas,'Courier New',monospace\"><span style=\"color: #008000; text-decoration-color: #008000\">Warning: trajectory cut off when rollout by epoch at </span><span style=\"color: #008080; text-decoration-color: #008080; font-weight: bold\">1000.0</span><span style=\"color: #008000; text-decoration-color: #008000\"> steps.</span>\n",
       "</pre>\n"
      ],
      "text/plain": [
       "\u001b[32mWarning: trajectory cut off when rollout by epoch at \u001b[0m\u001b[1;36m1000.0\u001b[0m\u001b[32m steps.\u001b[0m\n"
      ]
     },
     "metadata": {},
     "output_type": "display_data"
    },
    {
     "data": {
      "text/html": [
       "<pre style=\"white-space:pre;overflow-x:auto;line-height:normal;font-family:Menlo,'DejaVu Sans Mono',consolas,'Courier New',monospace\"><span style=\"color: #008000; text-decoration-color: #008000\">Warning: trajectory cut off when rollout by epoch at </span><span style=\"color: #008080; text-decoration-color: #008080; font-weight: bold\">1000.0</span><span style=\"color: #008000; text-decoration-color: #008000\"> steps.</span>\n",
       "</pre>\n"
      ],
      "text/plain": [
       "\u001b[32mWarning: trajectory cut off when rollout by epoch at \u001b[0m\u001b[1;36m1000.0\u001b[0m\u001b[32m steps.\u001b[0m\n"
      ]
     },
     "metadata": {},
     "output_type": "display_data"
    },
    {
     "data": {
      "text/html": [
       "<pre style=\"white-space:pre;overflow-x:auto;line-height:normal;font-family:Menlo,'DejaVu Sans Mono',consolas,'Courier New',monospace\"></pre>\n"
      ],
      "text/plain": []
     },
     "metadata": {},
     "output_type": "display_data"
    },
    {
     "data": {
      "text/html": [
       "<pre style=\"white-space:pre;overflow-x:auto;line-height:normal;font-family:Menlo,'DejaVu Sans Mono',consolas,'Courier New',monospace\">\n",
       "</pre>\n"
      ],
      "text/plain": [
       "\n"
      ]
     },
     "metadata": {},
     "output_type": "display_data"
    },
    {
     "data": {
      "text/html": [
       "<pre style=\"white-space:pre;overflow-x:auto;line-height:normal;font-family:Menlo,'DejaVu Sans Mono',consolas,'Courier New',monospace\"><span style=\"color: #008000; text-decoration-color: #008000\">Early stopping at iter </span><span style=\"color: #008080; text-decoration-color: #008080; font-weight: bold\">25</span><span style=\"color: #008000; text-decoration-color: #008000\"> due to reaching max kl</span>\n",
       "</pre>\n"
      ],
      "text/plain": [
       "\u001b[32mEarly stopping at iter \u001b[0m\u001b[1;36m25\u001b[0m\u001b[32m due to reaching max kl\u001b[0m\n"
      ]
     },
     "metadata": {},
     "output_type": "display_data"
    },
    {
     "data": {
      "text/html": [
       "<pre style=\"white-space:pre;overflow-x:auto;line-height:normal;font-family:Menlo,'DejaVu Sans Mono',consolas,'Courier New',monospace\"></pre>\n"
      ],
      "text/plain": []
     },
     "metadata": {},
     "output_type": "display_data"
    },
    {
     "data": {
      "text/html": [
       "<pre style=\"white-space:pre;overflow-x:auto;line-height:normal;font-family:Menlo,'DejaVu Sans Mono',consolas,'Courier New',monospace\">\n",
       "</pre>\n"
      ],
      "text/plain": [
       "\n"
      ]
     },
     "metadata": {},
     "output_type": "display_data"
    },
    {
     "data": {
      "text/html": [
       "<pre style=\"white-space:pre;overflow-x:auto;line-height:normal;font-family:Menlo,'DejaVu Sans Mono',consolas,'Courier New',monospace\">┏━━━━━━━━━━━━━━━━━━━━━━━━━━━━━━━┳━━━━━━━━━━━━━━━━━━━━━━━━┓\n",
       "┃<span style=\"font-weight: bold\"> Metrics                       </span>┃<span style=\"font-weight: bold\"> Value                  </span>┃\n",
       "┡━━━━━━━━━━━━━━━━━━━━━━━━━━━━━━━╇━━━━━━━━━━━━━━━━━━━━━━━━┩\n",
       "│ Metrics/EpRet                 │ 15.558684349060059     │\n",
       "│ Metrics/EpCost                │ 51.439998626708984     │\n",
       "│ Metrics/EpLen                 │ 1000.0                 │\n",
       "│ Train/Epoch                   │ 14.0                   │\n",
       "│ Train/Entropy                 │ 1.0588281154632568     │\n",
       "│ Train/KL                      │ 0.020355259999632835   │\n",
       "│ Train/StopIter                │ 25.0                   │\n",
       "│ Train/PolicyRatio/Mean        │ 1.0002057552337646     │\n",
       "│ Train/PolicyRatio/Min         │ 1.0002058744430542     │\n",
       "│ Train/PolicyRatio/Max         │ 1.0002058744430542     │\n",
       "│ Train/PolicyRatio/Std         │ 0.02001377008855343    │\n",
       "│ Train/LR                      │ 0.0001500000071246177  │\n",
       "│ Train/PolicyStd               │ 0.6979495286941528     │\n",
       "│ TotalEnvSteps                 │ 300000.0               │\n",
       "│ Loss/Loss_pi                  │ -0.024754883721470833  │\n",
       "│ Loss/Loss_pi/Delta            │ 0.00045290030539035797 │\n",
       "│ Value/Adv                     │ 0.19853061437606812    │\n",
       "│ Loss/Loss_reward_critic       │ 0.01804671436548233    │\n",
       "│ Loss/Loss_reward_critic/Delta │ -0.0015815068036317825 │\n",
       "│ Value/reward                  │ 1.0591998100280762     │\n",
       "│ Time/Total                    │ 1920.843505859375      │\n",
       "│ Time/Rollout                  │ 47.443634033203125     │\n",
       "│ Time/Update                   │ 84.19752502441406      │\n",
       "│ Time/Epoch                    │ 131.6411590576172      │\n",
       "│ Time/FPS                      │ 151.92816162109375     │\n",
       "└───────────────────────────────┴────────────────────────┘\n",
       "</pre>\n"
      ],
      "text/plain": [
       "┏━━━━━━━━━━━━━━━━━━━━━━━━━━━━━━━┳━━━━━━━━━━━━━━━━━━━━━━━━┓\n",
       "┃\u001b[1m \u001b[0m\u001b[1mMetrics                      \u001b[0m\u001b[1m \u001b[0m┃\u001b[1m \u001b[0m\u001b[1mValue                 \u001b[0m\u001b[1m \u001b[0m┃\n",
       "┡━━━━━━━━━━━━━━━━━━━━━━━━━━━━━━━╇━━━━━━━━━━━━━━━━━━━━━━━━┩\n",
       "│ Metrics/EpRet                 │ 15.558684349060059     │\n",
       "│ Metrics/EpCost                │ 51.439998626708984     │\n",
       "│ Metrics/EpLen                 │ 1000.0                 │\n",
       "│ Train/Epoch                   │ 14.0                   │\n",
       "│ Train/Entropy                 │ 1.0588281154632568     │\n",
       "│ Train/KL                      │ 0.020355259999632835   │\n",
       "│ Train/StopIter                │ 25.0                   │\n",
       "│ Train/PolicyRatio/Mean        │ 1.0002057552337646     │\n",
       "│ Train/PolicyRatio/Min         │ 1.0002058744430542     │\n",
       "│ Train/PolicyRatio/Max         │ 1.0002058744430542     │\n",
       "│ Train/PolicyRatio/Std         │ 0.02001377008855343    │\n",
       "│ Train/LR                      │ 0.0001500000071246177  │\n",
       "│ Train/PolicyStd               │ 0.6979495286941528     │\n",
       "│ TotalEnvSteps                 │ 300000.0               │\n",
       "│ Loss/Loss_pi                  │ -0.024754883721470833  │\n",
       "│ Loss/Loss_pi/Delta            │ 0.00045290030539035797 │\n",
       "│ Value/Adv                     │ 0.19853061437606812    │\n",
       "│ Loss/Loss_reward_critic       │ 0.01804671436548233    │\n",
       "│ Loss/Loss_reward_critic/Delta │ -0.0015815068036317825 │\n",
       "│ Value/reward                  │ 1.0591998100280762     │\n",
       "│ Time/Total                    │ 1920.843505859375      │\n",
       "│ Time/Rollout                  │ 47.443634033203125     │\n",
       "│ Time/Update                   │ 84.19752502441406      │\n",
       "│ Time/Epoch                    │ 131.6411590576172      │\n",
       "│ Time/FPS                      │ 151.92816162109375     │\n",
       "└───────────────────────────────┴────────────────────────┘\n"
      ]
     },
     "metadata": {},
     "output_type": "display_data"
    },
    {
     "data": {
      "text/html": [
       "<pre style=\"white-space:pre;overflow-x:auto;line-height:normal;font-family:Menlo,'DejaVu Sans Mono',consolas,'Courier New',monospace\"><span style=\"color: #008000; text-decoration-color: #008000\">Warning: trajectory cut off when rollout by epoch at </span><span style=\"color: #008080; text-decoration-color: #008080; font-weight: bold\">1000.0</span><span style=\"color: #008000; text-decoration-color: #008000\"> steps.</span>\n",
       "</pre>\n"
      ],
      "text/plain": [
       "\u001b[32mWarning: trajectory cut off when rollout by epoch at \u001b[0m\u001b[1;36m1000.0\u001b[0m\u001b[32m steps.\u001b[0m\n"
      ]
     },
     "metadata": {},
     "output_type": "display_data"
    },
    {
     "data": {
      "text/html": [
       "<pre style=\"white-space:pre;overflow-x:auto;line-height:normal;font-family:Menlo,'DejaVu Sans Mono',consolas,'Courier New',monospace\"><span style=\"color: #008000; text-decoration-color: #008000\">Warning: trajectory cut off when rollout by epoch at </span><span style=\"color: #008080; text-decoration-color: #008080; font-weight: bold\">1000.0</span><span style=\"color: #008000; text-decoration-color: #008000\"> steps.</span>\n",
       "</pre>\n"
      ],
      "text/plain": [
       "\u001b[32mWarning: trajectory cut off when rollout by epoch at \u001b[0m\u001b[1;36m1000.0\u001b[0m\u001b[32m steps.\u001b[0m\n"
      ]
     },
     "metadata": {},
     "output_type": "display_data"
    },
    {
     "data": {
      "text/html": [
       "<pre style=\"white-space:pre;overflow-x:auto;line-height:normal;font-family:Menlo,'DejaVu Sans Mono',consolas,'Courier New',monospace\"><span style=\"color: #008000; text-decoration-color: #008000\">Warning: trajectory cut off when rollout by epoch at </span><span style=\"color: #008080; text-decoration-color: #008080; font-weight: bold\">1000.0</span><span style=\"color: #008000; text-decoration-color: #008000\"> steps.</span>\n",
       "</pre>\n"
      ],
      "text/plain": [
       "\u001b[32mWarning: trajectory cut off when rollout by epoch at \u001b[0m\u001b[1;36m1000.0\u001b[0m\u001b[32m steps.\u001b[0m\n"
      ]
     },
     "metadata": {},
     "output_type": "display_data"
    },
    {
     "data": {
      "text/html": [
       "<pre style=\"white-space:pre;overflow-x:auto;line-height:normal;font-family:Menlo,'DejaVu Sans Mono',consolas,'Courier New',monospace\"><span style=\"color: #008000; text-decoration-color: #008000\">Warning: trajectory cut off when rollout by epoch at </span><span style=\"color: #008080; text-decoration-color: #008080; font-weight: bold\">1000.0</span><span style=\"color: #008000; text-decoration-color: #008000\"> steps.</span>\n",
       "</pre>\n"
      ],
      "text/plain": [
       "\u001b[32mWarning: trajectory cut off when rollout by epoch at \u001b[0m\u001b[1;36m1000.0\u001b[0m\u001b[32m steps.\u001b[0m\n"
      ]
     },
     "metadata": {},
     "output_type": "display_data"
    },
    {
     "data": {
      "text/html": [
       "<pre style=\"white-space:pre;overflow-x:auto;line-height:normal;font-family:Menlo,'DejaVu Sans Mono',consolas,'Courier New',monospace\"></pre>\n"
      ],
      "text/plain": []
     },
     "metadata": {},
     "output_type": "display_data"
    },
    {
     "data": {
      "text/html": [
       "<pre style=\"white-space:pre;overflow-x:auto;line-height:normal;font-family:Menlo,'DejaVu Sans Mono',consolas,'Courier New',monospace\">\n",
       "</pre>\n"
      ],
      "text/plain": [
       "\n"
      ]
     },
     "metadata": {},
     "output_type": "display_data"
    },
    {
     "data": {
      "text/html": [
       "<pre style=\"white-space:pre;overflow-x:auto;line-height:normal;font-family:Menlo,'DejaVu Sans Mono',consolas,'Courier New',monospace\"><span style=\"color: #008000; text-decoration-color: #008000\">Early stopping at iter </span><span style=\"color: #008080; text-decoration-color: #008080; font-weight: bold\">30</span><span style=\"color: #008000; text-decoration-color: #008000\"> due to reaching max kl</span>\n",
       "</pre>\n"
      ],
      "text/plain": [
       "\u001b[32mEarly stopping at iter \u001b[0m\u001b[1;36m30\u001b[0m\u001b[32m due to reaching max kl\u001b[0m\n"
      ]
     },
     "metadata": {},
     "output_type": "display_data"
    },
    {
     "data": {
      "text/html": [
       "<pre style=\"white-space:pre;overflow-x:auto;line-height:normal;font-family:Menlo,'DejaVu Sans Mono',consolas,'Courier New',monospace\"></pre>\n"
      ],
      "text/plain": []
     },
     "metadata": {},
     "output_type": "display_data"
    },
    {
     "data": {
      "text/html": [
       "<pre style=\"white-space:pre;overflow-x:auto;line-height:normal;font-family:Menlo,'DejaVu Sans Mono',consolas,'Courier New',monospace\">\n",
       "</pre>\n"
      ],
      "text/plain": [
       "\n"
      ]
     },
     "metadata": {},
     "output_type": "display_data"
    },
    {
     "data": {
      "text/html": [
       "<pre style=\"white-space:pre;overflow-x:auto;line-height:normal;font-family:Menlo,'DejaVu Sans Mono',consolas,'Courier New',monospace\">┏━━━━━━━━━━━━━━━━━━━━━━━━━━━━━━━┳━━━━━━━━━━━━━━━━━━━━━━━━┓\n",
       "┃<span style=\"font-weight: bold\"> Metrics                       </span>┃<span style=\"font-weight: bold\"> Value                  </span>┃\n",
       "┡━━━━━━━━━━━━━━━━━━━━━━━━━━━━━━━╇━━━━━━━━━━━━━━━━━━━━━━━━┩\n",
       "│ Metrics/EpRet                 │ 16.0321102142334       │\n",
       "│ Metrics/EpCost                │ 63.7400016784668       │\n",
       "│ Metrics/EpLen                 │ 1000.0                 │\n",
       "│ Train/Epoch                   │ 15.0                   │\n",
       "│ Train/Entropy                 │ 1.0379382371902466     │\n",
       "│ Train/KL                      │ 0.020669640973210335   │\n",
       "│ Train/StopIter                │ 30.0                   │\n",
       "│ Train/PolicyRatio/Mean        │ 0.9971435070037842     │\n",
       "│ Train/PolicyRatio/Min         │ 0.9971435070037842     │\n",
       "│ Train/PolicyRatio/Max         │ 0.9971435070037842     │\n",
       "│ Train/PolicyRatio/Std         │ 0.020744454115629196   │\n",
       "│ Train/LR                      │ 0.00014000000373926014 │\n",
       "│ Train/PolicyStd               │ 0.6835662722587585     │\n",
       "│ TotalEnvSteps                 │ 320000.0               │\n",
       "│ Loss/Loss_pi                  │ -0.027386721223592758  │\n",
       "│ Loss/Loss_pi/Delta            │ -0.0026318375021219254 │\n",
       "│ Value/Adv                     │ -0.20654228329658508   │\n",
       "│ Loss/Loss_reward_critic       │ 0.018530599772930145   │\n",
       "│ Loss/Loss_reward_critic/Delta │ 0.00048388540744781494 │\n",
       "│ Value/reward                  │ 1.2300043106079102     │\n",
       "│ Time/Total                    │ 2056.214111328125      │\n",
       "│ Time/Rollout                  │ 47.005470275878906     │\n",
       "│ Time/Update                   │ 88.32717895507812      │\n",
       "│ Time/Epoch                    │ 135.3326416015625      │\n",
       "│ Time/FPS                      │ 147.78399658203125     │\n",
       "└───────────────────────────────┴────────────────────────┘\n",
       "</pre>\n"
      ],
      "text/plain": [
       "┏━━━━━━━━━━━━━━━━━━━━━━━━━━━━━━━┳━━━━━━━━━━━━━━━━━━━━━━━━┓\n",
       "┃\u001b[1m \u001b[0m\u001b[1mMetrics                      \u001b[0m\u001b[1m \u001b[0m┃\u001b[1m \u001b[0m\u001b[1mValue                 \u001b[0m\u001b[1m \u001b[0m┃\n",
       "┡━━━━━━━━━━━━━━━━━━━━━━━━━━━━━━━╇━━━━━━━━━━━━━━━━━━━━━━━━┩\n",
       "│ Metrics/EpRet                 │ 16.0321102142334       │\n",
       "│ Metrics/EpCost                │ 63.7400016784668       │\n",
       "│ Metrics/EpLen                 │ 1000.0                 │\n",
       "│ Train/Epoch                   │ 15.0                   │\n",
       "│ Train/Entropy                 │ 1.0379382371902466     │\n",
       "│ Train/KL                      │ 0.020669640973210335   │\n",
       "│ Train/StopIter                │ 30.0                   │\n",
       "│ Train/PolicyRatio/Mean        │ 0.9971435070037842     │\n",
       "│ Train/PolicyRatio/Min         │ 0.9971435070037842     │\n",
       "│ Train/PolicyRatio/Max         │ 0.9971435070037842     │\n",
       "│ Train/PolicyRatio/Std         │ 0.020744454115629196   │\n",
       "│ Train/LR                      │ 0.00014000000373926014 │\n",
       "│ Train/PolicyStd               │ 0.6835662722587585     │\n",
       "│ TotalEnvSteps                 │ 320000.0               │\n",
       "│ Loss/Loss_pi                  │ -0.027386721223592758  │\n",
       "│ Loss/Loss_pi/Delta            │ -0.0026318375021219254 │\n",
       "│ Value/Adv                     │ -0.20654228329658508   │\n",
       "│ Loss/Loss_reward_critic       │ 0.018530599772930145   │\n",
       "│ Loss/Loss_reward_critic/Delta │ 0.00048388540744781494 │\n",
       "│ Value/reward                  │ 1.2300043106079102     │\n",
       "│ Time/Total                    │ 2056.214111328125      │\n",
       "│ Time/Rollout                  │ 47.005470275878906     │\n",
       "│ Time/Update                   │ 88.32717895507812      │\n",
       "│ Time/Epoch                    │ 135.3326416015625      │\n",
       "│ Time/FPS                      │ 147.78399658203125     │\n",
       "└───────────────────────────────┴────────────────────────┘\n"
      ]
     },
     "metadata": {},
     "output_type": "display_data"
    },
    {
     "data": {
      "text/html": [
       "<pre style=\"white-space:pre;overflow-x:auto;line-height:normal;font-family:Menlo,'DejaVu Sans Mono',consolas,'Courier New',monospace\"><span style=\"color: #008000; text-decoration-color: #008000\">Warning: trajectory cut off when rollout by epoch at </span><span style=\"color: #008080; text-decoration-color: #008080; font-weight: bold\">1000.0</span><span style=\"color: #008000; text-decoration-color: #008000\"> steps.</span>\n",
       "</pre>\n"
      ],
      "text/plain": [
       "\u001b[32mWarning: trajectory cut off when rollout by epoch at \u001b[0m\u001b[1;36m1000.0\u001b[0m\u001b[32m steps.\u001b[0m\n"
      ]
     },
     "metadata": {},
     "output_type": "display_data"
    },
    {
     "data": {
      "text/html": [
       "<pre style=\"white-space:pre;overflow-x:auto;line-height:normal;font-family:Menlo,'DejaVu Sans Mono',consolas,'Courier New',monospace\"><span style=\"color: #008000; text-decoration-color: #008000\">Warning: trajectory cut off when rollout by epoch at </span><span style=\"color: #008080; text-decoration-color: #008080; font-weight: bold\">1000.0</span><span style=\"color: #008000; text-decoration-color: #008000\"> steps.</span>\n",
       "</pre>\n"
      ],
      "text/plain": [
       "\u001b[32mWarning: trajectory cut off when rollout by epoch at \u001b[0m\u001b[1;36m1000.0\u001b[0m\u001b[32m steps.\u001b[0m\n"
      ]
     },
     "metadata": {},
     "output_type": "display_data"
    },
    {
     "data": {
      "text/html": [
       "<pre style=\"white-space:pre;overflow-x:auto;line-height:normal;font-family:Menlo,'DejaVu Sans Mono',consolas,'Courier New',monospace\"><span style=\"color: #008000; text-decoration-color: #008000\">Warning: trajectory cut off when rollout by epoch at </span><span style=\"color: #008080; text-decoration-color: #008080; font-weight: bold\">1000.0</span><span style=\"color: #008000; text-decoration-color: #008000\"> steps.</span>\n",
       "</pre>\n"
      ],
      "text/plain": [
       "\u001b[32mWarning: trajectory cut off when rollout by epoch at \u001b[0m\u001b[1;36m1000.0\u001b[0m\u001b[32m steps.\u001b[0m\n"
      ]
     },
     "metadata": {},
     "output_type": "display_data"
    },
    {
     "data": {
      "text/html": [
       "<pre style=\"white-space:pre;overflow-x:auto;line-height:normal;font-family:Menlo,'DejaVu Sans Mono',consolas,'Courier New',monospace\"><span style=\"color: #008000; text-decoration-color: #008000\">Warning: trajectory cut off when rollout by epoch at </span><span style=\"color: #008080; text-decoration-color: #008080; font-weight: bold\">1000.0</span><span style=\"color: #008000; text-decoration-color: #008000\"> steps.</span>\n",
       "</pre>\n"
      ],
      "text/plain": [
       "\u001b[32mWarning: trajectory cut off when rollout by epoch at \u001b[0m\u001b[1;36m1000.0\u001b[0m\u001b[32m steps.\u001b[0m\n"
      ]
     },
     "metadata": {},
     "output_type": "display_data"
    },
    {
     "data": {
      "text/html": [
       "<pre style=\"white-space:pre;overflow-x:auto;line-height:normal;font-family:Menlo,'DejaVu Sans Mono',consolas,'Courier New',monospace\"></pre>\n"
      ],
      "text/plain": []
     },
     "metadata": {},
     "output_type": "display_data"
    },
    {
     "data": {
      "text/html": [
       "<pre style=\"white-space:pre;overflow-x:auto;line-height:normal;font-family:Menlo,'DejaVu Sans Mono',consolas,'Courier New',monospace\">\n",
       "</pre>\n"
      ],
      "text/plain": [
       "\n"
      ]
     },
     "metadata": {},
     "output_type": "display_data"
    },
    {
     "data": {
      "text/html": [
       "<pre style=\"white-space:pre;overflow-x:auto;line-height:normal;font-family:Menlo,'DejaVu Sans Mono',consolas,'Courier New',monospace\"><span style=\"color: #008000; text-decoration-color: #008000\">Early stopping at iter </span><span style=\"color: #008080; text-decoration-color: #008080; font-weight: bold\">24</span><span style=\"color: #008000; text-decoration-color: #008000\"> due to reaching max kl</span>\n",
       "</pre>\n"
      ],
      "text/plain": [
       "\u001b[32mEarly stopping at iter \u001b[0m\u001b[1;36m24\u001b[0m\u001b[32m due to reaching max kl\u001b[0m\n"
      ]
     },
     "metadata": {},
     "output_type": "display_data"
    },
    {
     "data": {
      "text/html": [
       "<pre style=\"white-space:pre;overflow-x:auto;line-height:normal;font-family:Menlo,'DejaVu Sans Mono',consolas,'Courier New',monospace\"></pre>\n"
      ],
      "text/plain": []
     },
     "metadata": {},
     "output_type": "display_data"
    },
    {
     "data": {
      "text/html": [
       "<pre style=\"white-space:pre;overflow-x:auto;line-height:normal;font-family:Menlo,'DejaVu Sans Mono',consolas,'Courier New',monospace\">\n",
       "</pre>\n"
      ],
      "text/plain": [
       "\n"
      ]
     },
     "metadata": {},
     "output_type": "display_data"
    },
    {
     "data": {
      "text/html": [
       "<pre style=\"white-space:pre;overflow-x:auto;line-height:normal;font-family:Menlo,'DejaVu Sans Mono',consolas,'Courier New',monospace\">┏━━━━━━━━━━━━━━━━━━━━━━━━━━━━━━━┳━━━━━━━━━━━━━━━━━━━━━━━━━┓\n",
       "┃<span style=\"font-weight: bold\"> Metrics                       </span>┃<span style=\"font-weight: bold\"> Value                   </span>┃\n",
       "┡━━━━━━━━━━━━━━━━━━━━━━━━━━━━━━━╇━━━━━━━━━━━━━━━━━━━━━━━━━┩\n",
       "│ Metrics/EpRet                 │ 17.330841064453125      │\n",
       "│ Metrics/EpCost                │ 61.040000915527344      │\n",
       "│ Metrics/EpLen                 │ 1000.0                  │\n",
       "│ Train/Epoch                   │ 16.0                    │\n",
       "│ Train/Entropy                 │ 1.0202704668045044      │\n",
       "│ Train/KL                      │ 0.021060867235064507    │\n",
       "│ Train/StopIter                │ 24.0                    │\n",
       "│ Train/PolicyRatio/Mean        │ 0.9978835582733154      │\n",
       "│ Train/PolicyRatio/Min         │ 0.9978834986686707      │\n",
       "│ Train/PolicyRatio/Max         │ 0.9978834986686707      │\n",
       "│ Train/PolicyRatio/Std         │ 0.01892831176519394     │\n",
       "│ Train/LR                      │ 0.00013000000035390258  │\n",
       "│ Train/PolicyStd               │ 0.6717082262039185      │\n",
       "│ TotalEnvSteps                 │ 340000.0                │\n",
       "│ Loss/Loss_pi                  │ -0.023880984634160995   │\n",
       "│ Loss/Loss_pi/Delta            │ 0.0035057365894317627   │\n",
       "│ Value/Adv                     │ -0.09153466671705246    │\n",
       "│ Loss/Loss_reward_critic       │ 0.01825874298810959     │\n",
       "│ Loss/Loss_reward_critic/Delta │ -0.00027185678482055664 │\n",
       "│ Value/reward                  │ 1.3907819986343384      │\n",
       "│ Time/Total                    │ 2174.79296875           │\n",
       "│ Time/Rollout                  │ 47.00508499145508       │\n",
       "│ Time/Update                   │ 71.54967498779297       │\n",
       "│ Time/Epoch                    │ 118.55476379394531      │\n",
       "│ Time/FPS                      │ 168.6984100341797       │\n",
       "└───────────────────────────────┴─────────────────────────┘\n",
       "</pre>\n"
      ],
      "text/plain": [
       "┏━━━━━━━━━━━━━━━━━━━━━━━━━━━━━━━┳━━━━━━━━━━━━━━━━━━━━━━━━━┓\n",
       "┃\u001b[1m \u001b[0m\u001b[1mMetrics                      \u001b[0m\u001b[1m \u001b[0m┃\u001b[1m \u001b[0m\u001b[1mValue                  \u001b[0m\u001b[1m \u001b[0m┃\n",
       "┡━━━━━━━━━━━━━━━━━━━━━━━━━━━━━━━╇━━━━━━━━━━━━━━━━━━━━━━━━━┩\n",
       "│ Metrics/EpRet                 │ 17.330841064453125      │\n",
       "│ Metrics/EpCost                │ 61.040000915527344      │\n",
       "│ Metrics/EpLen                 │ 1000.0                  │\n",
       "│ Train/Epoch                   │ 16.0                    │\n",
       "│ Train/Entropy                 │ 1.0202704668045044      │\n",
       "│ Train/KL                      │ 0.021060867235064507    │\n",
       "│ Train/StopIter                │ 24.0                    │\n",
       "│ Train/PolicyRatio/Mean        │ 0.9978835582733154      │\n",
       "│ Train/PolicyRatio/Min         │ 0.9978834986686707      │\n",
       "│ Train/PolicyRatio/Max         │ 0.9978834986686707      │\n",
       "│ Train/PolicyRatio/Std         │ 0.01892831176519394     │\n",
       "│ Train/LR                      │ 0.00013000000035390258  │\n",
       "│ Train/PolicyStd               │ 0.6717082262039185      │\n",
       "│ TotalEnvSteps                 │ 340000.0                │\n",
       "│ Loss/Loss_pi                  │ -0.023880984634160995   │\n",
       "│ Loss/Loss_pi/Delta            │ 0.0035057365894317627   │\n",
       "│ Value/Adv                     │ -0.09153466671705246    │\n",
       "│ Loss/Loss_reward_critic       │ 0.01825874298810959     │\n",
       "│ Loss/Loss_reward_critic/Delta │ -0.00027185678482055664 │\n",
       "│ Value/reward                  │ 1.3907819986343384      │\n",
       "│ Time/Total                    │ 2174.79296875           │\n",
       "│ Time/Rollout                  │ 47.00508499145508       │\n",
       "│ Time/Update                   │ 71.54967498779297       │\n",
       "│ Time/Epoch                    │ 118.55476379394531      │\n",
       "│ Time/FPS                      │ 168.6984100341797       │\n",
       "└───────────────────────────────┴─────────────────────────┘\n"
      ]
     },
     "metadata": {},
     "output_type": "display_data"
    },
    {
     "data": {
      "text/html": [
       "<pre style=\"white-space:pre;overflow-x:auto;line-height:normal;font-family:Menlo,'DejaVu Sans Mono',consolas,'Courier New',monospace\"><span style=\"color: #008000; text-decoration-color: #008000\">Warning: trajectory cut off when rollout by epoch at </span><span style=\"color: #008080; text-decoration-color: #008080; font-weight: bold\">1000.0</span><span style=\"color: #008000; text-decoration-color: #008000\"> steps.</span>\n",
       "</pre>\n"
      ],
      "text/plain": [
       "\u001b[32mWarning: trajectory cut off when rollout by epoch at \u001b[0m\u001b[1;36m1000.0\u001b[0m\u001b[32m steps.\u001b[0m\n"
      ]
     },
     "metadata": {},
     "output_type": "display_data"
    },
    {
     "data": {
      "text/html": [
       "<pre style=\"white-space:pre;overflow-x:auto;line-height:normal;font-family:Menlo,'DejaVu Sans Mono',consolas,'Courier New',monospace\"><span style=\"color: #008000; text-decoration-color: #008000\">Warning: trajectory cut off when rollout by epoch at </span><span style=\"color: #008080; text-decoration-color: #008080; font-weight: bold\">1000.0</span><span style=\"color: #008000; text-decoration-color: #008000\"> steps.</span>\n",
       "</pre>\n"
      ],
      "text/plain": [
       "\u001b[32mWarning: trajectory cut off when rollout by epoch at \u001b[0m\u001b[1;36m1000.0\u001b[0m\u001b[32m steps.\u001b[0m\n"
      ]
     },
     "metadata": {},
     "output_type": "display_data"
    },
    {
     "data": {
      "text/html": [
       "<pre style=\"white-space:pre;overflow-x:auto;line-height:normal;font-family:Menlo,'DejaVu Sans Mono',consolas,'Courier New',monospace\"><span style=\"color: #008000; text-decoration-color: #008000\">Warning: trajectory cut off when rollout by epoch at </span><span style=\"color: #008080; text-decoration-color: #008080; font-weight: bold\">1000.0</span><span style=\"color: #008000; text-decoration-color: #008000\"> steps.</span>\n",
       "</pre>\n"
      ],
      "text/plain": [
       "\u001b[32mWarning: trajectory cut off when rollout by epoch at \u001b[0m\u001b[1;36m1000.0\u001b[0m\u001b[32m steps.\u001b[0m\n"
      ]
     },
     "metadata": {},
     "output_type": "display_data"
    },
    {
     "data": {
      "text/html": [
       "<pre style=\"white-space:pre;overflow-x:auto;line-height:normal;font-family:Menlo,'DejaVu Sans Mono',consolas,'Courier New',monospace\"><span style=\"color: #008000; text-decoration-color: #008000\">Warning: trajectory cut off when rollout by epoch at </span><span style=\"color: #008080; text-decoration-color: #008080; font-weight: bold\">1000.0</span><span style=\"color: #008000; text-decoration-color: #008000\"> steps.</span>\n",
       "</pre>\n"
      ],
      "text/plain": [
       "\u001b[32mWarning: trajectory cut off when rollout by epoch at \u001b[0m\u001b[1;36m1000.0\u001b[0m\u001b[32m steps.\u001b[0m\n"
      ]
     },
     "metadata": {},
     "output_type": "display_data"
    },
    {
     "data": {
      "text/html": [
       "<pre style=\"white-space:pre;overflow-x:auto;line-height:normal;font-family:Menlo,'DejaVu Sans Mono',consolas,'Courier New',monospace\"></pre>\n"
      ],
      "text/plain": []
     },
     "metadata": {},
     "output_type": "display_data"
    },
    {
     "data": {
      "text/html": [
       "<pre style=\"white-space:pre;overflow-x:auto;line-height:normal;font-family:Menlo,'DejaVu Sans Mono',consolas,'Courier New',monospace\">\n",
       "</pre>\n"
      ],
      "text/plain": [
       "\n"
      ]
     },
     "metadata": {},
     "output_type": "display_data"
    },
    {
     "data": {
      "text/html": [
       "<pre style=\"white-space:pre;overflow-x:auto;line-height:normal;font-family:Menlo,'DejaVu Sans Mono',consolas,'Courier New',monospace\"><span style=\"color: #008000; text-decoration-color: #008000\">Early stopping at iter </span><span style=\"color: #008080; text-decoration-color: #008080; font-weight: bold\">30</span><span style=\"color: #008000; text-decoration-color: #008000\"> due to reaching max kl</span>\n",
       "</pre>\n"
      ],
      "text/plain": [
       "\u001b[32mEarly stopping at iter \u001b[0m\u001b[1;36m30\u001b[0m\u001b[32m due to reaching max kl\u001b[0m\n"
      ]
     },
     "metadata": {},
     "output_type": "display_data"
    },
    {
     "data": {
      "text/html": [
       "<pre style=\"white-space:pre;overflow-x:auto;line-height:normal;font-family:Menlo,'DejaVu Sans Mono',consolas,'Courier New',monospace\"></pre>\n"
      ],
      "text/plain": []
     },
     "metadata": {},
     "output_type": "display_data"
    },
    {
     "data": {
      "text/html": [
       "<pre style=\"white-space:pre;overflow-x:auto;line-height:normal;font-family:Menlo,'DejaVu Sans Mono',consolas,'Courier New',monospace\">\n",
       "</pre>\n"
      ],
      "text/plain": [
       "\n"
      ]
     },
     "metadata": {},
     "output_type": "display_data"
    },
    {
     "data": {
      "text/html": [
       "<pre style=\"white-space:pre;overflow-x:auto;line-height:normal;font-family:Menlo,'DejaVu Sans Mono',consolas,'Courier New',monospace\">┏━━━━━━━━━━━━━━━━━━━━━━━━━━━━━━━┳━━━━━━━━━━━━━━━━━━━━━━━━┓\n",
       "┃<span style=\"font-weight: bold\"> Metrics                       </span>┃<span style=\"font-weight: bold\"> Value                  </span>┃\n",
       "┡━━━━━━━━━━━━━━━━━━━━━━━━━━━━━━━╇━━━━━━━━━━━━━━━━━━━━━━━━┩\n",
       "│ Metrics/EpRet                 │ 17.93816566467285      │\n",
       "│ Metrics/EpCost                │ 61.36000061035156      │\n",
       "│ Metrics/EpLen                 │ 1000.0                 │\n",
       "│ Train/Epoch                   │ 17.0                   │\n",
       "│ Train/Entropy                 │ 0.9986807703971863     │\n",
       "│ Train/KL                      │ 0.021448824554681778   │\n",
       "│ Train/StopIter                │ 30.0                   │\n",
       "│ Train/PolicyRatio/Mean        │ 0.9981985092163086     │\n",
       "│ Train/PolicyRatio/Min         │ 0.9981985092163086     │\n",
       "│ Train/PolicyRatio/Max         │ 0.9981985092163086     │\n",
       "│ Train/PolicyRatio/Std         │ 0.019502270966768265   │\n",
       "│ Train/LR                      │ 0.00011999999696854502 │\n",
       "│ Train/PolicyStd               │ 0.6575077772140503     │\n",
       "│ TotalEnvSteps                 │ 360000.0               │\n",
       "│ Loss/Loss_pi                  │ -0.02524133026599884   │\n",
       "│ Loss/Loss_pi/Delta            │ -0.0013603456318378448 │\n",
       "│ Value/Adv                     │ -0.2430262416601181    │\n",
       "│ Loss/Loss_reward_critic       │ 0.017777850851416588   │\n",
       "│ Loss/Loss_reward_critic/Delta │ -0.0004808921366930008 │\n",
       "│ Value/reward                  │ 1.339487075805664      │\n",
       "│ Time/Total                    │ 2311.453369140625      │\n",
       "│ Time/Rollout                  │ 46.95843505859375      │\n",
       "│ Time/Update                   │ 89.67816925048828      │\n",
       "│ Time/Epoch                    │ 136.6365966796875      │\n",
       "│ Time/FPS                      │ 146.3736572265625      │\n",
       "└───────────────────────────────┴────────────────────────┘\n",
       "</pre>\n"
      ],
      "text/plain": [
       "┏━━━━━━━━━━━━━━━━━━━━━━━━━━━━━━━┳━━━━━━━━━━━━━━━━━━━━━━━━┓\n",
       "┃\u001b[1m \u001b[0m\u001b[1mMetrics                      \u001b[0m\u001b[1m \u001b[0m┃\u001b[1m \u001b[0m\u001b[1mValue                 \u001b[0m\u001b[1m \u001b[0m┃\n",
       "┡━━━━━━━━━━━━━━━━━━━━━━━━━━━━━━━╇━━━━━━━━━━━━━━━━━━━━━━━━┩\n",
       "│ Metrics/EpRet                 │ 17.93816566467285      │\n",
       "│ Metrics/EpCost                │ 61.36000061035156      │\n",
       "│ Metrics/EpLen                 │ 1000.0                 │\n",
       "│ Train/Epoch                   │ 17.0                   │\n",
       "│ Train/Entropy                 │ 0.9986807703971863     │\n",
       "│ Train/KL                      │ 0.021448824554681778   │\n",
       "│ Train/StopIter                │ 30.0                   │\n",
       "│ Train/PolicyRatio/Mean        │ 0.9981985092163086     │\n",
       "│ Train/PolicyRatio/Min         │ 0.9981985092163086     │\n",
       "│ Train/PolicyRatio/Max         │ 0.9981985092163086     │\n",
       "│ Train/PolicyRatio/Std         │ 0.019502270966768265   │\n",
       "│ Train/LR                      │ 0.00011999999696854502 │\n",
       "│ Train/PolicyStd               │ 0.6575077772140503     │\n",
       "│ TotalEnvSteps                 │ 360000.0               │\n",
       "│ Loss/Loss_pi                  │ -0.02524133026599884   │\n",
       "│ Loss/Loss_pi/Delta            │ -0.0013603456318378448 │\n",
       "│ Value/Adv                     │ -0.2430262416601181    │\n",
       "│ Loss/Loss_reward_critic       │ 0.017777850851416588   │\n",
       "│ Loss/Loss_reward_critic/Delta │ -0.0004808921366930008 │\n",
       "│ Value/reward                  │ 1.339487075805664      │\n",
       "│ Time/Total                    │ 2311.453369140625      │\n",
       "│ Time/Rollout                  │ 46.95843505859375      │\n",
       "│ Time/Update                   │ 89.67816925048828      │\n",
       "│ Time/Epoch                    │ 136.6365966796875      │\n",
       "│ Time/FPS                      │ 146.3736572265625      │\n",
       "└───────────────────────────────┴────────────────────────┘\n"
      ]
     },
     "metadata": {},
     "output_type": "display_data"
    },
    {
     "data": {
      "text/html": [
       "<pre style=\"white-space:pre;overflow-x:auto;line-height:normal;font-family:Menlo,'DejaVu Sans Mono',consolas,'Courier New',monospace\"><span style=\"color: #008000; text-decoration-color: #008000\">Warning: trajectory cut off when rollout by epoch at </span><span style=\"color: #008080; text-decoration-color: #008080; font-weight: bold\">1000.0</span><span style=\"color: #008000; text-decoration-color: #008000\"> steps.</span>\n",
       "</pre>\n"
      ],
      "text/plain": [
       "\u001b[32mWarning: trajectory cut off when rollout by epoch at \u001b[0m\u001b[1;36m1000.0\u001b[0m\u001b[32m steps.\u001b[0m\n"
      ]
     },
     "metadata": {},
     "output_type": "display_data"
    },
    {
     "data": {
      "text/html": [
       "<pre style=\"white-space:pre;overflow-x:auto;line-height:normal;font-family:Menlo,'DejaVu Sans Mono',consolas,'Courier New',monospace\"><span style=\"color: #008000; text-decoration-color: #008000\">Warning: trajectory cut off when rollout by epoch at </span><span style=\"color: #008080; text-decoration-color: #008080; font-weight: bold\">1000.0</span><span style=\"color: #008000; text-decoration-color: #008000\"> steps.</span>\n",
       "</pre>\n"
      ],
      "text/plain": [
       "\u001b[32mWarning: trajectory cut off when rollout by epoch at \u001b[0m\u001b[1;36m1000.0\u001b[0m\u001b[32m steps.\u001b[0m\n"
      ]
     },
     "metadata": {},
     "output_type": "display_data"
    },
    {
     "data": {
      "text/html": [
       "<pre style=\"white-space:pre;overflow-x:auto;line-height:normal;font-family:Menlo,'DejaVu Sans Mono',consolas,'Courier New',monospace\"><span style=\"color: #008000; text-decoration-color: #008000\">Warning: trajectory cut off when rollout by epoch at </span><span style=\"color: #008080; text-decoration-color: #008080; font-weight: bold\">1000.0</span><span style=\"color: #008000; text-decoration-color: #008000\"> steps.</span>\n",
       "</pre>\n"
      ],
      "text/plain": [
       "\u001b[32mWarning: trajectory cut off when rollout by epoch at \u001b[0m\u001b[1;36m1000.0\u001b[0m\u001b[32m steps.\u001b[0m\n"
      ]
     },
     "metadata": {},
     "output_type": "display_data"
    },
    {
     "data": {
      "text/html": [
       "<pre style=\"white-space:pre;overflow-x:auto;line-height:normal;font-family:Menlo,'DejaVu Sans Mono',consolas,'Courier New',monospace\"><span style=\"color: #008000; text-decoration-color: #008000\">Warning: trajectory cut off when rollout by epoch at </span><span style=\"color: #008080; text-decoration-color: #008080; font-weight: bold\">1000.0</span><span style=\"color: #008000; text-decoration-color: #008000\"> steps.</span>\n",
       "</pre>\n"
      ],
      "text/plain": [
       "\u001b[32mWarning: trajectory cut off when rollout by epoch at \u001b[0m\u001b[1;36m1000.0\u001b[0m\u001b[32m steps.\u001b[0m\n"
      ]
     },
     "metadata": {},
     "output_type": "display_data"
    },
    {
     "data": {
      "text/html": [
       "<pre style=\"white-space:pre;overflow-x:auto;line-height:normal;font-family:Menlo,'DejaVu Sans Mono',consolas,'Courier New',monospace\"></pre>\n"
      ],
      "text/plain": []
     },
     "metadata": {},
     "output_type": "display_data"
    },
    {
     "data": {
      "text/html": [
       "<pre style=\"white-space:pre;overflow-x:auto;line-height:normal;font-family:Menlo,'DejaVu Sans Mono',consolas,'Courier New',monospace\">\n",
       "</pre>\n"
      ],
      "text/plain": [
       "\n"
      ]
     },
     "metadata": {},
     "output_type": "display_data"
    },
    {
     "data": {
      "text/html": [
       "<pre style=\"white-space:pre;overflow-x:auto;line-height:normal;font-family:Menlo,'DejaVu Sans Mono',consolas,'Courier New',monospace\"><span style=\"color: #008000; text-decoration-color: #008000\">Early stopping at iter </span><span style=\"color: #008080; text-decoration-color: #008080; font-weight: bold\">32</span><span style=\"color: #008000; text-decoration-color: #008000\"> due to reaching max kl</span>\n",
       "</pre>\n"
      ],
      "text/plain": [
       "\u001b[32mEarly stopping at iter \u001b[0m\u001b[1;36m32\u001b[0m\u001b[32m due to reaching max kl\u001b[0m\n"
      ]
     },
     "metadata": {},
     "output_type": "display_data"
    },
    {
     "data": {
      "text/html": [
       "<pre style=\"white-space:pre;overflow-x:auto;line-height:normal;font-family:Menlo,'DejaVu Sans Mono',consolas,'Courier New',monospace\"></pre>\n"
      ],
      "text/plain": []
     },
     "metadata": {},
     "output_type": "display_data"
    },
    {
     "data": {
      "text/html": [
       "<pre style=\"white-space:pre;overflow-x:auto;line-height:normal;font-family:Menlo,'DejaVu Sans Mono',consolas,'Courier New',monospace\">\n",
       "</pre>\n"
      ],
      "text/plain": [
       "\n"
      ]
     },
     "metadata": {},
     "output_type": "display_data"
    },
    {
     "data": {
      "text/html": [
       "<pre style=\"white-space:pre;overflow-x:auto;line-height:normal;font-family:Menlo,'DejaVu Sans Mono',consolas,'Courier New',monospace\">┏━━━━━━━━━━━━━━━━━━━━━━━━━━━━━━━┳━━━━━━━━━━━━━━━━━━━━━━━━┓\n",
       "┃<span style=\"font-weight: bold\"> Metrics                       </span>┃<span style=\"font-weight: bold\"> Value                  </span>┃\n",
       "┡━━━━━━━━━━━━━━━━━━━━━━━━━━━━━━━╇━━━━━━━━━━━━━━━━━━━━━━━━┩\n",
       "│ Metrics/EpRet                 │ 18.596027374267578     │\n",
       "│ Metrics/EpCost                │ 61.439998626708984     │\n",
       "│ Metrics/EpLen                 │ 1000.0                 │\n",
       "│ Train/Epoch                   │ 18.0                   │\n",
       "│ Train/Entropy                 │ 0.9771225452423096     │\n",
       "│ Train/KL                      │ 0.02138955518603325    │\n",
       "│ Train/StopIter                │ 32.0                   │\n",
       "│ Train/PolicyRatio/Mean        │ 0.9970560669898987     │\n",
       "│ Train/PolicyRatio/Min         │ 0.9970560669898987     │\n",
       "│ Train/PolicyRatio/Max         │ 0.9970560669898987     │\n",
       "│ Train/PolicyRatio/Std         │ 0.019777512177824974   │\n",
       "│ Train/LR                      │ 0.00011000000085914508 │\n",
       "│ Train/PolicyStd               │ 0.643655002117157      │\n",
       "│ TotalEnvSteps                 │ 380000.0               │\n",
       "│ Loss/Loss_pi                  │ -0.026145868003368378  │\n",
       "│ Loss/Loss_pi/Delta            │ -0.0009045377373695374 │\n",
       "│ Value/Adv                     │ 0.16754287481307983    │\n",
       "│ Loss/Loss_reward_critic       │ 0.017875444144010544   │\n",
       "│ Loss/Loss_reward_critic/Delta │ 9.7593292593956e-05    │\n",
       "│ Value/reward                  │ 1.490623950958252      │\n",
       "│ Time/Total                    │ 2454.744140625         │\n",
       "│ Time/Rollout                  │ 46.0572624206543       │\n",
       "│ Time/Update                   │ 97.20653533935547      │\n",
       "│ Time/Epoch                    │ 143.2637939453125      │\n",
       "│ Time/FPS                      │ 139.6026153564453      │\n",
       "└───────────────────────────────┴────────────────────────┘\n",
       "</pre>\n"
      ],
      "text/plain": [
       "┏━━━━━━━━━━━━━━━━━━━━━━━━━━━━━━━┳━━━━━━━━━━━━━━━━━━━━━━━━┓\n",
       "┃\u001b[1m \u001b[0m\u001b[1mMetrics                      \u001b[0m\u001b[1m \u001b[0m┃\u001b[1m \u001b[0m\u001b[1mValue                 \u001b[0m\u001b[1m \u001b[0m┃\n",
       "┡━━━━━━━━━━━━━━━━━━━━━━━━━━━━━━━╇━━━━━━━━━━━━━━━━━━━━━━━━┩\n",
       "│ Metrics/EpRet                 │ 18.596027374267578     │\n",
       "│ Metrics/EpCost                │ 61.439998626708984     │\n",
       "│ Metrics/EpLen                 │ 1000.0                 │\n",
       "│ Train/Epoch                   │ 18.0                   │\n",
       "│ Train/Entropy                 │ 0.9771225452423096     │\n",
       "│ Train/KL                      │ 0.02138955518603325    │\n",
       "│ Train/StopIter                │ 32.0                   │\n",
       "│ Train/PolicyRatio/Mean        │ 0.9970560669898987     │\n",
       "│ Train/PolicyRatio/Min         │ 0.9970560669898987     │\n",
       "│ Train/PolicyRatio/Max         │ 0.9970560669898987     │\n",
       "│ Train/PolicyRatio/Std         │ 0.019777512177824974   │\n",
       "│ Train/LR                      │ 0.00011000000085914508 │\n",
       "│ Train/PolicyStd               │ 0.643655002117157      │\n",
       "│ TotalEnvSteps                 │ 380000.0               │\n",
       "│ Loss/Loss_pi                  │ -0.026145868003368378  │\n",
       "│ Loss/Loss_pi/Delta            │ -0.0009045377373695374 │\n",
       "│ Value/Adv                     │ 0.16754287481307983    │\n",
       "│ Loss/Loss_reward_critic       │ 0.017875444144010544   │\n",
       "│ Loss/Loss_reward_critic/Delta │ 9.7593292593956e-05    │\n",
       "│ Value/reward                  │ 1.490623950958252      │\n",
       "│ Time/Total                    │ 2454.744140625         │\n",
       "│ Time/Rollout                  │ 46.0572624206543       │\n",
       "│ Time/Update                   │ 97.20653533935547      │\n",
       "│ Time/Epoch                    │ 143.2637939453125      │\n",
       "│ Time/FPS                      │ 139.6026153564453      │\n",
       "└───────────────────────────────┴────────────────────────┘\n"
      ]
     },
     "metadata": {},
     "output_type": "display_data"
    },
    {
     "data": {
      "text/html": [
       "<pre style=\"white-space:pre;overflow-x:auto;line-height:normal;font-family:Menlo,'DejaVu Sans Mono',consolas,'Courier New',monospace\"><span style=\"color: #008000; text-decoration-color: #008000\">Warning: trajectory cut off when rollout by epoch at </span><span style=\"color: #008080; text-decoration-color: #008080; font-weight: bold\">1000.0</span><span style=\"color: #008000; text-decoration-color: #008000\"> steps.</span>\n",
       "</pre>\n"
      ],
      "text/plain": [
       "\u001b[32mWarning: trajectory cut off when rollout by epoch at \u001b[0m\u001b[1;36m1000.0\u001b[0m\u001b[32m steps.\u001b[0m\n"
      ]
     },
     "metadata": {},
     "output_type": "display_data"
    },
    {
     "data": {
      "text/html": [
       "<pre style=\"white-space:pre;overflow-x:auto;line-height:normal;font-family:Menlo,'DejaVu Sans Mono',consolas,'Courier New',monospace\"><span style=\"color: #008000; text-decoration-color: #008000\">Warning: trajectory cut off when rollout by epoch at </span><span style=\"color: #008080; text-decoration-color: #008080; font-weight: bold\">1000.0</span><span style=\"color: #008000; text-decoration-color: #008000\"> steps.</span>\n",
       "</pre>\n"
      ],
      "text/plain": [
       "\u001b[32mWarning: trajectory cut off when rollout by epoch at \u001b[0m\u001b[1;36m1000.0\u001b[0m\u001b[32m steps.\u001b[0m\n"
      ]
     },
     "metadata": {},
     "output_type": "display_data"
    },
    {
     "data": {
      "text/html": [
       "<pre style=\"white-space:pre;overflow-x:auto;line-height:normal;font-family:Menlo,'DejaVu Sans Mono',consolas,'Courier New',monospace\"><span style=\"color: #008000; text-decoration-color: #008000\">Warning: trajectory cut off when rollout by epoch at </span><span style=\"color: #008080; text-decoration-color: #008080; font-weight: bold\">1000.0</span><span style=\"color: #008000; text-decoration-color: #008000\"> steps.</span>\n",
       "</pre>\n"
      ],
      "text/plain": [
       "\u001b[32mWarning: trajectory cut off when rollout by epoch at \u001b[0m\u001b[1;36m1000.0\u001b[0m\u001b[32m steps.\u001b[0m\n"
      ]
     },
     "metadata": {},
     "output_type": "display_data"
    },
    {
     "data": {
      "text/html": [
       "<pre style=\"white-space:pre;overflow-x:auto;line-height:normal;font-family:Menlo,'DejaVu Sans Mono',consolas,'Courier New',monospace\"><span style=\"color: #008000; text-decoration-color: #008000\">Warning: trajectory cut off when rollout by epoch at </span><span style=\"color: #008080; text-decoration-color: #008080; font-weight: bold\">1000.0</span><span style=\"color: #008000; text-decoration-color: #008000\"> steps.</span>\n",
       "</pre>\n"
      ],
      "text/plain": [
       "\u001b[32mWarning: trajectory cut off when rollout by epoch at \u001b[0m\u001b[1;36m1000.0\u001b[0m\u001b[32m steps.\u001b[0m\n"
      ]
     },
     "metadata": {},
     "output_type": "display_data"
    },
    {
     "data": {
      "text/html": [
       "<pre style=\"white-space:pre;overflow-x:auto;line-height:normal;font-family:Menlo,'DejaVu Sans Mono',consolas,'Courier New',monospace\"></pre>\n"
      ],
      "text/plain": []
     },
     "metadata": {},
     "output_type": "display_data"
    },
    {
     "data": {
      "text/html": [
       "<pre style=\"white-space:pre;overflow-x:auto;line-height:normal;font-family:Menlo,'DejaVu Sans Mono',consolas,'Courier New',monospace\">\n",
       "</pre>\n"
      ],
      "text/plain": [
       "\n"
      ]
     },
     "metadata": {},
     "output_type": "display_data"
    },
    {
     "data": {
      "text/html": [
       "<pre style=\"white-space:pre;overflow-x:auto;line-height:normal;font-family:Menlo,'DejaVu Sans Mono',consolas,'Courier New',monospace\"><span style=\"color: #008000; text-decoration-color: #008000\">Early stopping at iter </span><span style=\"color: #008080; text-decoration-color: #008080; font-weight: bold\">32</span><span style=\"color: #008000; text-decoration-color: #008000\"> due to reaching max kl</span>\n",
       "</pre>\n"
      ],
      "text/plain": [
       "\u001b[32mEarly stopping at iter \u001b[0m\u001b[1;36m32\u001b[0m\u001b[32m due to reaching max kl\u001b[0m\n"
      ]
     },
     "metadata": {},
     "output_type": "display_data"
    },
    {
     "data": {
      "text/html": [
       "<pre style=\"white-space:pre;overflow-x:auto;line-height:normal;font-family:Menlo,'DejaVu Sans Mono',consolas,'Courier New',monospace\"></pre>\n"
      ],
      "text/plain": []
     },
     "metadata": {},
     "output_type": "display_data"
    },
    {
     "data": {
      "text/html": [
       "<pre style=\"white-space:pre;overflow-x:auto;line-height:normal;font-family:Menlo,'DejaVu Sans Mono',consolas,'Courier New',monospace\">\n",
       "</pre>\n"
      ],
      "text/plain": [
       "\n"
      ]
     },
     "metadata": {},
     "output_type": "display_data"
    },
    {
     "data": {
      "text/html": [
       "<pre style=\"white-space:pre;overflow-x:auto;line-height:normal;font-family:Menlo,'DejaVu Sans Mono',consolas,'Courier New',monospace\">┏━━━━━━━━━━━━━━━━━━━━━━━━━━━━━━━┳━━━━━━━━━━━━━━━━━━━━━━━━┓\n",
       "┃<span style=\"font-weight: bold\"> Metrics                       </span>┃<span style=\"font-weight: bold\"> Value                  </span>┃\n",
       "┡━━━━━━━━━━━━━━━━━━━━━━━━━━━━━━━╇━━━━━━━━━━━━━━━━━━━━━━━━┩\n",
       "│ Metrics/EpRet                 │ 19.37702751159668      │\n",
       "│ Metrics/EpCost                │ 62.31999969482422      │\n",
       "│ Metrics/EpLen                 │ 1000.0                 │\n",
       "│ Train/Epoch                   │ 19.0                   │\n",
       "│ Train/Entropy                 │ 0.9508512020111084     │\n",
       "│ Train/KL                      │ 0.020084448158740997   │\n",
       "│ Train/StopIter                │ 32.0                   │\n",
       "│ Train/PolicyRatio/Mean        │ 0.9977707266807556     │\n",
       "│ Train/PolicyRatio/Min         │ 0.9977707266807556     │\n",
       "│ Train/PolicyRatio/Max         │ 0.9977707266807556     │\n",
       "│ Train/PolicyRatio/Std         │ 0.01947505585849285    │\n",
       "│ Train/LR                      │ 9.999999747378752e-05  │\n",
       "│ Train/PolicyStd               │ 0.6271359920501709     │\n",
       "│ TotalEnvSteps                 │ 400000.0               │\n",
       "│ Loss/Loss_pi                  │ -0.025664977729320526  │\n",
       "│ Loss/Loss_pi/Delta            │ 0.00048089027404785156 │\n",
       "│ Value/Adv                     │ 0.254121333360672      │\n",
       "│ Loss/Loss_reward_critic       │ 0.016943106427788734   │\n",
       "│ Loss/Loss_reward_critic/Delta │ -0.0009323377162218094 │\n",
       "│ Value/reward                  │ 1.5682557821273804     │\n",
       "│ Time/Total                    │ 2597.9765625           │\n",
       "│ Time/Rollout                  │ 46.08055114746094      │\n",
       "│ Time/Update                   │ 97.11872863769531      │\n",
       "│ Time/Epoch                    │ 143.19927978515625     │\n",
       "│ Time/FPS                      │ 139.66551208496094     │\n",
       "└───────────────────────────────┴────────────────────────┘\n",
       "</pre>\n"
      ],
      "text/plain": [
       "┏━━━━━━━━━━━━━━━━━━━━━━━━━━━━━━━┳━━━━━━━━━━━━━━━━━━━━━━━━┓\n",
       "┃\u001b[1m \u001b[0m\u001b[1mMetrics                      \u001b[0m\u001b[1m \u001b[0m┃\u001b[1m \u001b[0m\u001b[1mValue                 \u001b[0m\u001b[1m \u001b[0m┃\n",
       "┡━━━━━━━━━━━━━━━━━━━━━━━━━━━━━━━╇━━━━━━━━━━━━━━━━━━━━━━━━┩\n",
       "│ Metrics/EpRet                 │ 19.37702751159668      │\n",
       "│ Metrics/EpCost                │ 62.31999969482422      │\n",
       "│ Metrics/EpLen                 │ 1000.0                 │\n",
       "│ Train/Epoch                   │ 19.0                   │\n",
       "│ Train/Entropy                 │ 0.9508512020111084     │\n",
       "│ Train/KL                      │ 0.020084448158740997   │\n",
       "│ Train/StopIter                │ 32.0                   │\n",
       "│ Train/PolicyRatio/Mean        │ 0.9977707266807556     │\n",
       "│ Train/PolicyRatio/Min         │ 0.9977707266807556     │\n",
       "│ Train/PolicyRatio/Max         │ 0.9977707266807556     │\n",
       "│ Train/PolicyRatio/Std         │ 0.01947505585849285    │\n",
       "│ Train/LR                      │ 9.999999747378752e-05  │\n",
       "│ Train/PolicyStd               │ 0.6271359920501709     │\n",
       "│ TotalEnvSteps                 │ 400000.0               │\n",
       "│ Loss/Loss_pi                  │ -0.025664977729320526  │\n",
       "│ Loss/Loss_pi/Delta            │ 0.00048089027404785156 │\n",
       "│ Value/Adv                     │ 0.254121333360672      │\n",
       "│ Loss/Loss_reward_critic       │ 0.016943106427788734   │\n",
       "│ Loss/Loss_reward_critic/Delta │ -0.0009323377162218094 │\n",
       "│ Value/reward                  │ 1.5682557821273804     │\n",
       "│ Time/Total                    │ 2597.9765625           │\n",
       "│ Time/Rollout                  │ 46.08055114746094      │\n",
       "│ Time/Update                   │ 97.11872863769531      │\n",
       "│ Time/Epoch                    │ 143.19927978515625     │\n",
       "│ Time/FPS                      │ 139.66551208496094     │\n",
       "└───────────────────────────────┴────────────────────────┘\n"
      ]
     },
     "metadata": {},
     "output_type": "display_data"
    },
    {
     "data": {
      "text/html": [
       "<pre style=\"white-space:pre;overflow-x:auto;line-height:normal;font-family:Menlo,'DejaVu Sans Mono',consolas,'Courier New',monospace\"><span style=\"color: #008000; text-decoration-color: #008000\">Warning: trajectory cut off when rollout by epoch at </span><span style=\"color: #008080; text-decoration-color: #008080; font-weight: bold\">1000.0</span><span style=\"color: #008000; text-decoration-color: #008000\"> steps.</span>\n",
       "</pre>\n"
      ],
      "text/plain": [
       "\u001b[32mWarning: trajectory cut off when rollout by epoch at \u001b[0m\u001b[1;36m1000.0\u001b[0m\u001b[32m steps.\u001b[0m\n"
      ]
     },
     "metadata": {},
     "output_type": "display_data"
    },
    {
     "data": {
      "text/html": [
       "<pre style=\"white-space:pre;overflow-x:auto;line-height:normal;font-family:Menlo,'DejaVu Sans Mono',consolas,'Courier New',monospace\"><span style=\"color: #008000; text-decoration-color: #008000\">Warning: trajectory cut off when rollout by epoch at </span><span style=\"color: #008080; text-decoration-color: #008080; font-weight: bold\">1000.0</span><span style=\"color: #008000; text-decoration-color: #008000\"> steps.</span>\n",
       "</pre>\n"
      ],
      "text/plain": [
       "\u001b[32mWarning: trajectory cut off when rollout by epoch at \u001b[0m\u001b[1;36m1000.0\u001b[0m\u001b[32m steps.\u001b[0m\n"
      ]
     },
     "metadata": {},
     "output_type": "display_data"
    },
    {
     "data": {
      "text/html": [
       "<pre style=\"white-space:pre;overflow-x:auto;line-height:normal;font-family:Menlo,'DejaVu Sans Mono',consolas,'Courier New',monospace\"><span style=\"color: #008000; text-decoration-color: #008000\">Warning: trajectory cut off when rollout by epoch at </span><span style=\"color: #008080; text-decoration-color: #008080; font-weight: bold\">1000.0</span><span style=\"color: #008000; text-decoration-color: #008000\"> steps.</span>\n",
       "</pre>\n"
      ],
      "text/plain": [
       "\u001b[32mWarning: trajectory cut off when rollout by epoch at \u001b[0m\u001b[1;36m1000.0\u001b[0m\u001b[32m steps.\u001b[0m\n"
      ]
     },
     "metadata": {},
     "output_type": "display_data"
    },
    {
     "data": {
      "text/html": [
       "<pre style=\"white-space:pre;overflow-x:auto;line-height:normal;font-family:Menlo,'DejaVu Sans Mono',consolas,'Courier New',monospace\"><span style=\"color: #008000; text-decoration-color: #008000\">Warning: trajectory cut off when rollout by epoch at </span><span style=\"color: #008080; text-decoration-color: #008080; font-weight: bold\">1000.0</span><span style=\"color: #008000; text-decoration-color: #008000\"> steps.</span>\n",
       "</pre>\n"
      ],
      "text/plain": [
       "\u001b[32mWarning: trajectory cut off when rollout by epoch at \u001b[0m\u001b[1;36m1000.0\u001b[0m\u001b[32m steps.\u001b[0m\n"
      ]
     },
     "metadata": {},
     "output_type": "display_data"
    },
    {
     "data": {
      "text/html": [
       "<pre style=\"white-space:pre;overflow-x:auto;line-height:normal;font-family:Menlo,'DejaVu Sans Mono',consolas,'Courier New',monospace\"></pre>\n"
      ],
      "text/plain": []
     },
     "metadata": {},
     "output_type": "display_data"
    },
    {
     "data": {
      "text/html": [
       "<pre style=\"white-space:pre;overflow-x:auto;line-height:normal;font-family:Menlo,'DejaVu Sans Mono',consolas,'Courier New',monospace\">\n",
       "</pre>\n"
      ],
      "text/plain": [
       "\n"
      ]
     },
     "metadata": {},
     "output_type": "display_data"
    },
    {
     "data": {
      "text/html": [
       "<pre style=\"white-space:pre;overflow-x:auto;line-height:normal;font-family:Menlo,'DejaVu Sans Mono',consolas,'Courier New',monospace\"><span style=\"color: #008000; text-decoration-color: #008000\">Early stopping at iter </span><span style=\"color: #008080; text-decoration-color: #008080; font-weight: bold\">27</span><span style=\"color: #008000; text-decoration-color: #008000\"> due to reaching max kl</span>\n",
       "</pre>\n"
      ],
      "text/plain": [
       "\u001b[32mEarly stopping at iter \u001b[0m\u001b[1;36m27\u001b[0m\u001b[32m due to reaching max kl\u001b[0m\n"
      ]
     },
     "metadata": {},
     "output_type": "display_data"
    },
    {
     "data": {
      "text/html": [
       "<pre style=\"white-space:pre;overflow-x:auto;line-height:normal;font-family:Menlo,'DejaVu Sans Mono',consolas,'Courier New',monospace\"></pre>\n"
      ],
      "text/plain": []
     },
     "metadata": {},
     "output_type": "display_data"
    },
    {
     "data": {
      "text/html": [
       "<pre style=\"white-space:pre;overflow-x:auto;line-height:normal;font-family:Menlo,'DejaVu Sans Mono',consolas,'Courier New',monospace\">\n",
       "</pre>\n"
      ],
      "text/plain": [
       "\n"
      ]
     },
     "metadata": {},
     "output_type": "display_data"
    },
    {
     "data": {
      "text/html": [
       "<pre style=\"white-space:pre;overflow-x:auto;line-height:normal;font-family:Menlo,'DejaVu Sans Mono',consolas,'Courier New',monospace\">┏━━━━━━━━━━━━━━━━━━━━━━━━━━━━━━━┳━━━━━━━━━━━━━━━━━━━━━━━┓\n",
       "┃<span style=\"font-weight: bold\"> Metrics                       </span>┃<span style=\"font-weight: bold\"> Value                 </span>┃\n",
       "┡━━━━━━━━━━━━━━━━━━━━━━━━━━━━━━━╇━━━━━━━━━━━━━━━━━━━━━━━┩\n",
       "│ Metrics/EpRet                 │ 20.2158260345459      │\n",
       "│ Metrics/EpCost                │ 53.880001068115234    │\n",
       "│ Metrics/EpLen                 │ 1000.0                │\n",
       "│ Train/Epoch                   │ 20.0                  │\n",
       "│ Train/Entropy                 │ 0.924100399017334     │\n",
       "│ Train/KL                      │ 0.020601322874426842  │\n",
       "│ Train/StopIter                │ 27.0                  │\n",
       "│ Train/PolicyRatio/Mean        │ 1.0006263256072998    │\n",
       "│ Train/PolicyRatio/Min         │ 1.0006263256072998    │\n",
       "│ Train/PolicyRatio/Max         │ 1.0006263256072998    │\n",
       "│ Train/PolicyRatio/Std         │ 0.01893799379467964   │\n",
       "│ Train/LR                      │ 9.000000136438757e-05 │\n",
       "│ Train/PolicyStd               │ 0.6109014749526978    │\n",
       "│ TotalEnvSteps                 │ 420000.0              │\n",
       "│ Loss/Loss_pi                  │ -0.024101747199892998 │\n",
       "│ Loss/Loss_pi/Delta            │ 0.0015632305294275284 │\n",
       "│ Value/Adv                     │ 0.027061454951763153  │\n",
       "│ Loss/Loss_reward_critic       │ 0.01849331334233284   │\n",
       "│ Loss/Loss_reward_critic/Delta │ 0.0015502069145441055 │\n",
       "│ Value/reward                  │ 1.6121150255203247    │\n",
       "│ Time/Total                    │ 2725.746337890625     │\n",
       "│ Time/Rollout                  │ 46.44879150390625     │\n",
       "│ Time/Update                   │ 81.28614044189453     │\n",
       "│ Time/Epoch                    │ 127.73493194580078    │\n",
       "│ Time/FPS                      │ 156.57424926757812    │\n",
       "└───────────────────────────────┴───────────────────────┘\n",
       "</pre>\n"
      ],
      "text/plain": [
       "┏━━━━━━━━━━━━━━━━━━━━━━━━━━━━━━━┳━━━━━━━━━━━━━━━━━━━━━━━┓\n",
       "┃\u001b[1m \u001b[0m\u001b[1mMetrics                      \u001b[0m\u001b[1m \u001b[0m┃\u001b[1m \u001b[0m\u001b[1mValue                \u001b[0m\u001b[1m \u001b[0m┃\n",
       "┡━━━━━━━━━━━━━━━━━━━━━━━━━━━━━━━╇━━━━━━━━━━━━━━━━━━━━━━━┩\n",
       "│ Metrics/EpRet                 │ 20.2158260345459      │\n",
       "│ Metrics/EpCost                │ 53.880001068115234    │\n",
       "│ Metrics/EpLen                 │ 1000.0                │\n",
       "│ Train/Epoch                   │ 20.0                  │\n",
       "│ Train/Entropy                 │ 0.924100399017334     │\n",
       "│ Train/KL                      │ 0.020601322874426842  │\n",
       "│ Train/StopIter                │ 27.0                  │\n",
       "│ Train/PolicyRatio/Mean        │ 1.0006263256072998    │\n",
       "│ Train/PolicyRatio/Min         │ 1.0006263256072998    │\n",
       "│ Train/PolicyRatio/Max         │ 1.0006263256072998    │\n",
       "│ Train/PolicyRatio/Std         │ 0.01893799379467964   │\n",
       "│ Train/LR                      │ 9.000000136438757e-05 │\n",
       "│ Train/PolicyStd               │ 0.6109014749526978    │\n",
       "│ TotalEnvSteps                 │ 420000.0              │\n",
       "│ Loss/Loss_pi                  │ -0.024101747199892998 │\n",
       "│ Loss/Loss_pi/Delta            │ 0.0015632305294275284 │\n",
       "│ Value/Adv                     │ 0.027061454951763153  │\n",
       "│ Loss/Loss_reward_critic       │ 0.01849331334233284   │\n",
       "│ Loss/Loss_reward_critic/Delta │ 0.0015502069145441055 │\n",
       "│ Value/reward                  │ 1.6121150255203247    │\n",
       "│ Time/Total                    │ 2725.746337890625     │\n",
       "│ Time/Rollout                  │ 46.44879150390625     │\n",
       "│ Time/Update                   │ 81.28614044189453     │\n",
       "│ Time/Epoch                    │ 127.73493194580078    │\n",
       "│ Time/FPS                      │ 156.57424926757812    │\n",
       "└───────────────────────────────┴───────────────────────┘\n"
      ]
     },
     "metadata": {},
     "output_type": "display_data"
    },
    {
     "data": {
      "text/html": [
       "<pre style=\"white-space:pre;overflow-x:auto;line-height:normal;font-family:Menlo,'DejaVu Sans Mono',consolas,'Courier New',monospace\"><span style=\"color: #008000; text-decoration-color: #008000\">Warning: trajectory cut off when rollout by epoch at </span><span style=\"color: #008080; text-decoration-color: #008080; font-weight: bold\">1000.0</span><span style=\"color: #008000; text-decoration-color: #008000\"> steps.</span>\n",
       "</pre>\n"
      ],
      "text/plain": [
       "\u001b[32mWarning: trajectory cut off when rollout by epoch at \u001b[0m\u001b[1;36m1000.0\u001b[0m\u001b[32m steps.\u001b[0m\n"
      ]
     },
     "metadata": {},
     "output_type": "display_data"
    },
    {
     "data": {
      "text/html": [
       "<pre style=\"white-space:pre;overflow-x:auto;line-height:normal;font-family:Menlo,'DejaVu Sans Mono',consolas,'Courier New',monospace\"><span style=\"color: #008000; text-decoration-color: #008000\">Warning: trajectory cut off when rollout by epoch at </span><span style=\"color: #008080; text-decoration-color: #008080; font-weight: bold\">1000.0</span><span style=\"color: #008000; text-decoration-color: #008000\"> steps.</span>\n",
       "</pre>\n"
      ],
      "text/plain": [
       "\u001b[32mWarning: trajectory cut off when rollout by epoch at \u001b[0m\u001b[1;36m1000.0\u001b[0m\u001b[32m steps.\u001b[0m\n"
      ]
     },
     "metadata": {},
     "output_type": "display_data"
    },
    {
     "data": {
      "text/html": [
       "<pre style=\"white-space:pre;overflow-x:auto;line-height:normal;font-family:Menlo,'DejaVu Sans Mono',consolas,'Courier New',monospace\"><span style=\"color: #008000; text-decoration-color: #008000\">Warning: trajectory cut off when rollout by epoch at </span><span style=\"color: #008080; text-decoration-color: #008080; font-weight: bold\">1000.0</span><span style=\"color: #008000; text-decoration-color: #008000\"> steps.</span>\n",
       "</pre>\n"
      ],
      "text/plain": [
       "\u001b[32mWarning: trajectory cut off when rollout by epoch at \u001b[0m\u001b[1;36m1000.0\u001b[0m\u001b[32m steps.\u001b[0m\n"
      ]
     },
     "metadata": {},
     "output_type": "display_data"
    },
    {
     "data": {
      "text/html": [
       "<pre style=\"white-space:pre;overflow-x:auto;line-height:normal;font-family:Menlo,'DejaVu Sans Mono',consolas,'Courier New',monospace\"><span style=\"color: #008000; text-decoration-color: #008000\">Warning: trajectory cut off when rollout by epoch at </span><span style=\"color: #008080; text-decoration-color: #008080; font-weight: bold\">1000.0</span><span style=\"color: #008000; text-decoration-color: #008000\"> steps.</span>\n",
       "</pre>\n"
      ],
      "text/plain": [
       "\u001b[32mWarning: trajectory cut off when rollout by epoch at \u001b[0m\u001b[1;36m1000.0\u001b[0m\u001b[32m steps.\u001b[0m\n"
      ]
     },
     "metadata": {},
     "output_type": "display_data"
    },
    {
     "data": {
      "text/html": [
       "<pre style=\"white-space:pre;overflow-x:auto;line-height:normal;font-family:Menlo,'DejaVu Sans Mono',consolas,'Courier New',monospace\"></pre>\n"
      ],
      "text/plain": []
     },
     "metadata": {},
     "output_type": "display_data"
    },
    {
     "data": {
      "text/html": [
       "<pre style=\"white-space:pre;overflow-x:auto;line-height:normal;font-family:Menlo,'DejaVu Sans Mono',consolas,'Courier New',monospace\">\n",
       "</pre>\n"
      ],
      "text/plain": [
       "\n"
      ]
     },
     "metadata": {},
     "output_type": "display_data"
    },
    {
     "data": {
      "text/html": [
       "<pre style=\"white-space:pre;overflow-x:auto;line-height:normal;font-family:Menlo,'DejaVu Sans Mono',consolas,'Courier New',monospace\"><span style=\"color: #008000; text-decoration-color: #008000\">Early stopping at iter </span><span style=\"color: #008080; text-decoration-color: #008080; font-weight: bold\">38</span><span style=\"color: #008000; text-decoration-color: #008000\"> due to reaching max kl</span>\n",
       "</pre>\n"
      ],
      "text/plain": [
       "\u001b[32mEarly stopping at iter \u001b[0m\u001b[1;36m38\u001b[0m\u001b[32m due to reaching max kl\u001b[0m\n"
      ]
     },
     "metadata": {},
     "output_type": "display_data"
    },
    {
     "data": {
      "text/html": [
       "<pre style=\"white-space:pre;overflow-x:auto;line-height:normal;font-family:Menlo,'DejaVu Sans Mono',consolas,'Courier New',monospace\"></pre>\n"
      ],
      "text/plain": []
     },
     "metadata": {},
     "output_type": "display_data"
    },
    {
     "data": {
      "text/html": [
       "<pre style=\"white-space:pre;overflow-x:auto;line-height:normal;font-family:Menlo,'DejaVu Sans Mono',consolas,'Courier New',monospace\">\n",
       "</pre>\n"
      ],
      "text/plain": [
       "\n"
      ]
     },
     "metadata": {},
     "output_type": "display_data"
    },
    {
     "data": {
      "text/html": [
       "<pre style=\"white-space:pre;overflow-x:auto;line-height:normal;font-family:Menlo,'DejaVu Sans Mono',consolas,'Courier New',monospace\">┏━━━━━━━━━━━━━━━━━━━━━━━━━━━━━━━┳━━━━━━━━━━━━━━━━━━━━━━━━┓\n",
       "┃<span style=\"font-weight: bold\"> Metrics                       </span>┃<span style=\"font-weight: bold\"> Value                  </span>┃\n",
       "┡━━━━━━━━━━━━━━━━━━━━━━━━━━━━━━━╇━━━━━━━━━━━━━━━━━━━━━━━━┩\n",
       "│ Metrics/EpRet                 │ 19.458234786987305     │\n",
       "│ Metrics/EpCost                │ 57.29999923706055      │\n",
       "│ Metrics/EpLen                 │ 1000.0                 │\n",
       "│ Train/Epoch                   │ 21.0                   │\n",
       "│ Train/Entropy                 │ 0.9072043895721436     │\n",
       "│ Train/KL                      │ 0.020436879247426987   │\n",
       "│ Train/StopIter                │ 38.0                   │\n",
       "│ Train/PolicyRatio/Mean        │ 0.9983207583427429     │\n",
       "│ Train/PolicyRatio/Min         │ 0.9983207583427429     │\n",
       "│ Train/PolicyRatio/Max         │ 0.9983207583427429     │\n",
       "│ Train/PolicyRatio/Std         │ 0.0196662787348032     │\n",
       "│ Train/LR                      │ 7.999999797903001e-05  │\n",
       "│ Train/PolicyStd               │ 0.6008228063583374     │\n",
       "│ TotalEnvSteps                 │ 440000.0               │\n",
       "│ Loss/Loss_pi                  │ -0.027618156746029854  │\n",
       "│ Loss/Loss_pi/Delta            │ -0.003516409546136856  │\n",
       "│ Value/Adv                     │ 0.1811656951904297     │\n",
       "│ Loss/Loss_reward_critic       │ 0.01774432137608528    │\n",
       "│ Loss/Loss_reward_critic/Delta │ -0.0007489919662475586 │\n",
       "│ Value/reward                  │ 1.6163171529769897     │\n",
       "│ Time/Total                    │ 2887.5673828125        │\n",
       "│ Time/Rollout                  │ 47.83958435058594      │\n",
       "│ Time/Update                   │ 113.95155334472656     │\n",
       "│ Time/Epoch                    │ 161.7911376953125      │\n",
       "│ Time/FPS                      │ 123.61616516113281     │\n",
       "└───────────────────────────────┴────────────────────────┘\n",
       "</pre>\n"
      ],
      "text/plain": [
       "┏━━━━━━━━━━━━━━━━━━━━━━━━━━━━━━━┳━━━━━━━━━━━━━━━━━━━━━━━━┓\n",
       "┃\u001b[1m \u001b[0m\u001b[1mMetrics                      \u001b[0m\u001b[1m \u001b[0m┃\u001b[1m \u001b[0m\u001b[1mValue                 \u001b[0m\u001b[1m \u001b[0m┃\n",
       "┡━━━━━━━━━━━━━━━━━━━━━━━━━━━━━━━╇━━━━━━━━━━━━━━━━━━━━━━━━┩\n",
       "│ Metrics/EpRet                 │ 19.458234786987305     │\n",
       "│ Metrics/EpCost                │ 57.29999923706055      │\n",
       "│ Metrics/EpLen                 │ 1000.0                 │\n",
       "│ Train/Epoch                   │ 21.0                   │\n",
       "│ Train/Entropy                 │ 0.9072043895721436     │\n",
       "│ Train/KL                      │ 0.020436879247426987   │\n",
       "│ Train/StopIter                │ 38.0                   │\n",
       "│ Train/PolicyRatio/Mean        │ 0.9983207583427429     │\n",
       "│ Train/PolicyRatio/Min         │ 0.9983207583427429     │\n",
       "│ Train/PolicyRatio/Max         │ 0.9983207583427429     │\n",
       "│ Train/PolicyRatio/Std         │ 0.0196662787348032     │\n",
       "│ Train/LR                      │ 7.999999797903001e-05  │\n",
       "│ Train/PolicyStd               │ 0.6008228063583374     │\n",
       "│ TotalEnvSteps                 │ 440000.0               │\n",
       "│ Loss/Loss_pi                  │ -0.027618156746029854  │\n",
       "│ Loss/Loss_pi/Delta            │ -0.003516409546136856  │\n",
       "│ Value/Adv                     │ 0.1811656951904297     │\n",
       "│ Loss/Loss_reward_critic       │ 0.01774432137608528    │\n",
       "│ Loss/Loss_reward_critic/Delta │ -0.0007489919662475586 │\n",
       "│ Value/reward                  │ 1.6163171529769897     │\n",
       "│ Time/Total                    │ 2887.5673828125        │\n",
       "│ Time/Rollout                  │ 47.83958435058594      │\n",
       "│ Time/Update                   │ 113.95155334472656     │\n",
       "│ Time/Epoch                    │ 161.7911376953125      │\n",
       "│ Time/FPS                      │ 123.61616516113281     │\n",
       "└───────────────────────────────┴────────────────────────┘\n"
      ]
     },
     "metadata": {},
     "output_type": "display_data"
    },
    {
     "data": {
      "text/html": [
       "<pre style=\"white-space:pre;overflow-x:auto;line-height:normal;font-family:Menlo,'DejaVu Sans Mono',consolas,'Courier New',monospace\"><span style=\"color: #008000; text-decoration-color: #008000\">Warning: trajectory cut off when rollout by epoch at </span><span style=\"color: #008080; text-decoration-color: #008080; font-weight: bold\">1000.0</span><span style=\"color: #008000; text-decoration-color: #008000\"> steps.</span>\n",
       "</pre>\n"
      ],
      "text/plain": [
       "\u001b[32mWarning: trajectory cut off when rollout by epoch at \u001b[0m\u001b[1;36m1000.0\u001b[0m\u001b[32m steps.\u001b[0m\n"
      ]
     },
     "metadata": {},
     "output_type": "display_data"
    },
    {
     "data": {
      "text/html": [
       "<pre style=\"white-space:pre;overflow-x:auto;line-height:normal;font-family:Menlo,'DejaVu Sans Mono',consolas,'Courier New',monospace\"><span style=\"color: #008000; text-decoration-color: #008000\">Warning: trajectory cut off when rollout by epoch at </span><span style=\"color: #008080; text-decoration-color: #008080; font-weight: bold\">1000.0</span><span style=\"color: #008000; text-decoration-color: #008000\"> steps.</span>\n",
       "</pre>\n"
      ],
      "text/plain": [
       "\u001b[32mWarning: trajectory cut off when rollout by epoch at \u001b[0m\u001b[1;36m1000.0\u001b[0m\u001b[32m steps.\u001b[0m\n"
      ]
     },
     "metadata": {},
     "output_type": "display_data"
    },
    {
     "data": {
      "text/html": [
       "<pre style=\"white-space:pre;overflow-x:auto;line-height:normal;font-family:Menlo,'DejaVu Sans Mono',consolas,'Courier New',monospace\"><span style=\"color: #008000; text-decoration-color: #008000\">Warning: trajectory cut off when rollout by epoch at </span><span style=\"color: #008080; text-decoration-color: #008080; font-weight: bold\">1000.0</span><span style=\"color: #008000; text-decoration-color: #008000\"> steps.</span>\n",
       "</pre>\n"
      ],
      "text/plain": [
       "\u001b[32mWarning: trajectory cut off when rollout by epoch at \u001b[0m\u001b[1;36m1000.0\u001b[0m\u001b[32m steps.\u001b[0m\n"
      ]
     },
     "metadata": {},
     "output_type": "display_data"
    },
    {
     "data": {
      "text/html": [
       "<pre style=\"white-space:pre;overflow-x:auto;line-height:normal;font-family:Menlo,'DejaVu Sans Mono',consolas,'Courier New',monospace\"><span style=\"color: #008000; text-decoration-color: #008000\">Warning: trajectory cut off when rollout by epoch at </span><span style=\"color: #008080; text-decoration-color: #008080; font-weight: bold\">1000.0</span><span style=\"color: #008000; text-decoration-color: #008000\"> steps.</span>\n",
       "</pre>\n"
      ],
      "text/plain": [
       "\u001b[32mWarning: trajectory cut off when rollout by epoch at \u001b[0m\u001b[1;36m1000.0\u001b[0m\u001b[32m steps.\u001b[0m\n"
      ]
     },
     "metadata": {},
     "output_type": "display_data"
    },
    {
     "data": {
      "text/html": [
       "<pre style=\"white-space:pre;overflow-x:auto;line-height:normal;font-family:Menlo,'DejaVu Sans Mono',consolas,'Courier New',monospace\"></pre>\n"
      ],
      "text/plain": []
     },
     "metadata": {},
     "output_type": "display_data"
    },
    {
     "data": {
      "text/html": [
       "<pre style=\"white-space:pre;overflow-x:auto;line-height:normal;font-family:Menlo,'DejaVu Sans Mono',consolas,'Courier New',monospace\">\n",
       "</pre>\n"
      ],
      "text/plain": [
       "\n"
      ]
     },
     "metadata": {},
     "output_type": "display_data"
    },
    {
     "data": {
      "text/html": [
       "<pre style=\"white-space:pre;overflow-x:auto;line-height:normal;font-family:Menlo,'DejaVu Sans Mono',consolas,'Courier New',monospace\"><span style=\"color: #008000; text-decoration-color: #008000\">Early stopping at iter </span><span style=\"color: #008080; text-decoration-color: #008080; font-weight: bold\">38</span><span style=\"color: #008000; text-decoration-color: #008000\"> due to reaching max kl</span>\n",
       "</pre>\n"
      ],
      "text/plain": [
       "\u001b[32mEarly stopping at iter \u001b[0m\u001b[1;36m38\u001b[0m\u001b[32m due to reaching max kl\u001b[0m\n"
      ]
     },
     "metadata": {},
     "output_type": "display_data"
    },
    {
     "data": {
      "text/html": [
       "<pre style=\"white-space:pre;overflow-x:auto;line-height:normal;font-family:Menlo,'DejaVu Sans Mono',consolas,'Courier New',monospace\"></pre>\n"
      ],
      "text/plain": []
     },
     "metadata": {},
     "output_type": "display_data"
    },
    {
     "data": {
      "text/html": [
       "<pre style=\"white-space:pre;overflow-x:auto;line-height:normal;font-family:Menlo,'DejaVu Sans Mono',consolas,'Courier New',monospace\">\n",
       "</pre>\n"
      ],
      "text/plain": [
       "\n"
      ]
     },
     "metadata": {},
     "output_type": "display_data"
    },
    {
     "data": {
      "text/html": [
       "<pre style=\"white-space:pre;overflow-x:auto;line-height:normal;font-family:Menlo,'DejaVu Sans Mono',consolas,'Courier New',monospace\">┏━━━━━━━━━━━━━━━━━━━━━━━━━━━━━━━┳━━━━━━━━━━━━━━━━━━━━━━━━┓\n",
       "┃<span style=\"font-weight: bold\"> Metrics                       </span>┃<span style=\"font-weight: bold\"> Value                  </span>┃\n",
       "┡━━━━━━━━━━━━━━━━━━━━━━━━━━━━━━━╇━━━━━━━━━━━━━━━━━━━━━━━━┩\n",
       "│ Metrics/EpRet                 │ 19.9289493560791       │\n",
       "│ Metrics/EpCost                │ 56.91999816894531      │\n",
       "│ Metrics/EpLen                 │ 1000.0                 │\n",
       "│ Train/Epoch                   │ 22.0                   │\n",
       "│ Train/Entropy                 │ 0.8772895932197571     │\n",
       "│ Train/KL                      │ 0.020013565197587013   │\n",
       "│ Train/StopIter                │ 38.0                   │\n",
       "│ Train/PolicyRatio/Mean        │ 0.9981229901313782     │\n",
       "│ Train/PolicyRatio/Min         │ 0.9981229901313782     │\n",
       "│ Train/PolicyRatio/Max         │ 0.9981229901313782     │\n",
       "│ Train/PolicyRatio/Std         │ 0.019513729959726334   │\n",
       "│ Train/LR                      │ 7.000000186963007e-05  │\n",
       "│ Train/PolicyStd               │ 0.5832276344299316     │\n",
       "│ TotalEnvSteps                 │ 460000.0               │\n",
       "│ Loss/Loss_pi                  │ -0.028021370992064476  │\n",
       "│ Loss/Loss_pi/Delta            │ -0.0004032142460346222 │\n",
       "│ Value/Adv                     │ 0.18456241488456726    │\n",
       "│ Loss/Loss_reward_critic       │ 0.018409883603453636   │\n",
       "│ Loss/Loss_reward_critic/Delta │ 0.0006655622273683548  │\n",
       "│ Value/reward                  │ 1.7636079788208008     │\n",
       "│ Time/Total                    │ 3048.695068359375      │\n",
       "│ Time/Rollout                  │ 46.51116943359375      │\n",
       "│ Time/Update                   │ 114.57926940917969     │\n",
       "│ Time/Epoch                    │ 161.09043884277344     │\n",
       "│ Time/FPS                      │ 124.15386199951172     │\n",
       "└───────────────────────────────┴────────────────────────┘\n",
       "</pre>\n"
      ],
      "text/plain": [
       "┏━━━━━━━━━━━━━━━━━━━━━━━━━━━━━━━┳━━━━━━━━━━━━━━━━━━━━━━━━┓\n",
       "┃\u001b[1m \u001b[0m\u001b[1mMetrics                      \u001b[0m\u001b[1m \u001b[0m┃\u001b[1m \u001b[0m\u001b[1mValue                 \u001b[0m\u001b[1m \u001b[0m┃\n",
       "┡━━━━━━━━━━━━━━━━━━━━━━━━━━━━━━━╇━━━━━━━━━━━━━━━━━━━━━━━━┩\n",
       "│ Metrics/EpRet                 │ 19.9289493560791       │\n",
       "│ Metrics/EpCost                │ 56.91999816894531      │\n",
       "│ Metrics/EpLen                 │ 1000.0                 │\n",
       "│ Train/Epoch                   │ 22.0                   │\n",
       "│ Train/Entropy                 │ 0.8772895932197571     │\n",
       "│ Train/KL                      │ 0.020013565197587013   │\n",
       "│ Train/StopIter                │ 38.0                   │\n",
       "│ Train/PolicyRatio/Mean        │ 0.9981229901313782     │\n",
       "│ Train/PolicyRatio/Min         │ 0.9981229901313782     │\n",
       "│ Train/PolicyRatio/Max         │ 0.9981229901313782     │\n",
       "│ Train/PolicyRatio/Std         │ 0.019513729959726334   │\n",
       "│ Train/LR                      │ 7.000000186963007e-05  │\n",
       "│ Train/PolicyStd               │ 0.5832276344299316     │\n",
       "│ TotalEnvSteps                 │ 460000.0               │\n",
       "│ Loss/Loss_pi                  │ -0.028021370992064476  │\n",
       "│ Loss/Loss_pi/Delta            │ -0.0004032142460346222 │\n",
       "│ Value/Adv                     │ 0.18456241488456726    │\n",
       "│ Loss/Loss_reward_critic       │ 0.018409883603453636   │\n",
       "│ Loss/Loss_reward_critic/Delta │ 0.0006655622273683548  │\n",
       "│ Value/reward                  │ 1.7636079788208008     │\n",
       "│ Time/Total                    │ 3048.695068359375      │\n",
       "│ Time/Rollout                  │ 46.51116943359375      │\n",
       "│ Time/Update                   │ 114.57926940917969     │\n",
       "│ Time/Epoch                    │ 161.09043884277344     │\n",
       "│ Time/FPS                      │ 124.15386199951172     │\n",
       "└───────────────────────────────┴────────────────────────┘\n"
      ]
     },
     "metadata": {},
     "output_type": "display_data"
    },
    {
     "data": {
      "text/html": [
       "<pre style=\"white-space:pre;overflow-x:auto;line-height:normal;font-family:Menlo,'DejaVu Sans Mono',consolas,'Courier New',monospace\"><span style=\"color: #008000; text-decoration-color: #008000\">Warning: trajectory cut off when rollout by epoch at </span><span style=\"color: #008080; text-decoration-color: #008080; font-weight: bold\">1000.0</span><span style=\"color: #008000; text-decoration-color: #008000\"> steps.</span>\n",
       "</pre>\n"
      ],
      "text/plain": [
       "\u001b[32mWarning: trajectory cut off when rollout by epoch at \u001b[0m\u001b[1;36m1000.0\u001b[0m\u001b[32m steps.\u001b[0m\n"
      ]
     },
     "metadata": {},
     "output_type": "display_data"
    },
    {
     "data": {
      "text/html": [
       "<pre style=\"white-space:pre;overflow-x:auto;line-height:normal;font-family:Menlo,'DejaVu Sans Mono',consolas,'Courier New',monospace\"><span style=\"color: #008000; text-decoration-color: #008000\">Warning: trajectory cut off when rollout by epoch at </span><span style=\"color: #008080; text-decoration-color: #008080; font-weight: bold\">1000.0</span><span style=\"color: #008000; text-decoration-color: #008000\"> steps.</span>\n",
       "</pre>\n"
      ],
      "text/plain": [
       "\u001b[32mWarning: trajectory cut off when rollout by epoch at \u001b[0m\u001b[1;36m1000.0\u001b[0m\u001b[32m steps.\u001b[0m\n"
      ]
     },
     "metadata": {},
     "output_type": "display_data"
    },
    {
     "data": {
      "text/html": [
       "<pre style=\"white-space:pre;overflow-x:auto;line-height:normal;font-family:Menlo,'DejaVu Sans Mono',consolas,'Courier New',monospace\"><span style=\"color: #008000; text-decoration-color: #008000\">Warning: trajectory cut off when rollout by epoch at </span><span style=\"color: #008080; text-decoration-color: #008080; font-weight: bold\">1000.0</span><span style=\"color: #008000; text-decoration-color: #008000\"> steps.</span>\n",
       "</pre>\n"
      ],
      "text/plain": [
       "\u001b[32mWarning: trajectory cut off when rollout by epoch at \u001b[0m\u001b[1;36m1000.0\u001b[0m\u001b[32m steps.\u001b[0m\n"
      ]
     },
     "metadata": {},
     "output_type": "display_data"
    },
    {
     "data": {
      "text/html": [
       "<pre style=\"white-space:pre;overflow-x:auto;line-height:normal;font-family:Menlo,'DejaVu Sans Mono',consolas,'Courier New',monospace\"><span style=\"color: #008000; text-decoration-color: #008000\">Warning: trajectory cut off when rollout by epoch at </span><span style=\"color: #008080; text-decoration-color: #008080; font-weight: bold\">1000.0</span><span style=\"color: #008000; text-decoration-color: #008000\"> steps.</span>\n",
       "</pre>\n"
      ],
      "text/plain": [
       "\u001b[32mWarning: trajectory cut off when rollout by epoch at \u001b[0m\u001b[1;36m1000.0\u001b[0m\u001b[32m steps.\u001b[0m\n"
      ]
     },
     "metadata": {},
     "output_type": "display_data"
    },
    {
     "data": {
      "text/html": [
       "<pre style=\"white-space:pre;overflow-x:auto;line-height:normal;font-family:Menlo,'DejaVu Sans Mono',consolas,'Courier New',monospace\"></pre>\n"
      ],
      "text/plain": []
     },
     "metadata": {},
     "output_type": "display_data"
    },
    {
     "data": {
      "text/html": [
       "<pre style=\"white-space:pre;overflow-x:auto;line-height:normal;font-family:Menlo,'DejaVu Sans Mono',consolas,'Courier New',monospace\">\n",
       "</pre>\n"
      ],
      "text/plain": [
       "\n"
      ]
     },
     "metadata": {},
     "output_type": "display_data"
    },
    {
     "data": {
      "text/html": [
       "<pre style=\"white-space:pre;overflow-x:auto;line-height:normal;font-family:Menlo,'DejaVu Sans Mono',consolas,'Courier New',monospace\"></pre>\n"
      ],
      "text/plain": []
     },
     "metadata": {},
     "output_type": "display_data"
    },
    {
     "data": {
      "text/html": [
       "<pre style=\"white-space:pre;overflow-x:auto;line-height:normal;font-family:Menlo,'DejaVu Sans Mono',consolas,'Courier New',monospace\">\n",
       "</pre>\n"
      ],
      "text/plain": [
       "\n"
      ]
     },
     "metadata": {},
     "output_type": "display_data"
    },
    {
     "data": {
      "text/html": [
       "<pre style=\"white-space:pre;overflow-x:auto;line-height:normal;font-family:Menlo,'DejaVu Sans Mono',consolas,'Courier New',monospace\">┏━━━━━━━━━━━━━━━━━━━━━━━━━━━━━━━┳━━━━━━━━━━━━━━━━━━━━━━━━┓\n",
       "┃<span style=\"font-weight: bold\"> Metrics                       </span>┃<span style=\"font-weight: bold\"> Value                  </span>┃\n",
       "┡━━━━━━━━━━━━━━━━━━━━━━━━━━━━━━━╇━━━━━━━━━━━━━━━━━━━━━━━━┩\n",
       "│ Metrics/EpRet                 │ 20.946632385253906     │\n",
       "│ Metrics/EpCost                │ 52.47999954223633      │\n",
       "│ Metrics/EpLen                 │ 1000.0                 │\n",
       "│ Train/Epoch                   │ 23.0                   │\n",
       "│ Train/Entropy                 │ 0.8521692752838135     │\n",
       "│ Train/KL                      │ 0.019402163103222847   │\n",
       "│ Train/StopIter                │ 40.0                   │\n",
       "│ Train/PolicyRatio/Mean        │ 0.9979915022850037     │\n",
       "│ Train/PolicyRatio/Min         │ 0.9979915022850037     │\n",
       "│ Train/PolicyRatio/Max         │ 0.9979915022850037     │\n",
       "│ Train/PolicyRatio/Std         │ 0.018755506724119186   │\n",
       "│ Train/LR                      │ 5.999999848427251e-05  │\n",
       "│ Train/PolicyStd               │ 0.5688948035240173     │\n",
       "│ TotalEnvSteps                 │ 480000.0               │\n",
       "│ Loss/Loss_pi                  │ -0.0264036376029253    │\n",
       "│ Loss/Loss_pi/Delta            │ 0.0016177333891391754  │\n",
       "│ Value/Adv                     │ -0.299507200717926     │\n",
       "│ Loss/Loss_reward_critic       │ 0.018627217039465904   │\n",
       "│ Loss/Loss_reward_critic/Delta │ 0.00021733343601226807 │\n",
       "│ Value/reward                  │ 1.8102341890335083     │\n",
       "│ Time/Total                    │ 3215.879150390625      │\n",
       "│ Time/Rollout                  │ 46.56126022338867      │\n",
       "│ Time/Update                   │ 120.58980560302734     │\n",
       "│ Time/Epoch                    │ 167.15106201171875     │\n",
       "│ Time/FPS                      │ 119.6522445678711      │\n",
       "└───────────────────────────────┴────────────────────────┘\n",
       "</pre>\n"
      ],
      "text/plain": [
       "┏━━━━━━━━━━━━━━━━━━━━━━━━━━━━━━━┳━━━━━━━━━━━━━━━━━━━━━━━━┓\n",
       "┃\u001b[1m \u001b[0m\u001b[1mMetrics                      \u001b[0m\u001b[1m \u001b[0m┃\u001b[1m \u001b[0m\u001b[1mValue                 \u001b[0m\u001b[1m \u001b[0m┃\n",
       "┡━━━━━━━━━━━━━━━━━━━━━━━━━━━━━━━╇━━━━━━━━━━━━━━━━━━━━━━━━┩\n",
       "│ Metrics/EpRet                 │ 20.946632385253906     │\n",
       "│ Metrics/EpCost                │ 52.47999954223633      │\n",
       "│ Metrics/EpLen                 │ 1000.0                 │\n",
       "│ Train/Epoch                   │ 23.0                   │\n",
       "│ Train/Entropy                 │ 0.8521692752838135     │\n",
       "│ Train/KL                      │ 0.019402163103222847   │\n",
       "│ Train/StopIter                │ 40.0                   │\n",
       "│ Train/PolicyRatio/Mean        │ 0.9979915022850037     │\n",
       "│ Train/PolicyRatio/Min         │ 0.9979915022850037     │\n",
       "│ Train/PolicyRatio/Max         │ 0.9979915022850037     │\n",
       "│ Train/PolicyRatio/Std         │ 0.018755506724119186   │\n",
       "│ Train/LR                      │ 5.999999848427251e-05  │\n",
       "│ Train/PolicyStd               │ 0.5688948035240173     │\n",
       "│ TotalEnvSteps                 │ 480000.0               │\n",
       "│ Loss/Loss_pi                  │ -0.0264036376029253    │\n",
       "│ Loss/Loss_pi/Delta            │ 0.0016177333891391754  │\n",
       "│ Value/Adv                     │ -0.299507200717926     │\n",
       "│ Loss/Loss_reward_critic       │ 0.018627217039465904   │\n",
       "│ Loss/Loss_reward_critic/Delta │ 0.00021733343601226807 │\n",
       "│ Value/reward                  │ 1.8102341890335083     │\n",
       "│ Time/Total                    │ 3215.879150390625      │\n",
       "│ Time/Rollout                  │ 46.56126022338867      │\n",
       "│ Time/Update                   │ 120.58980560302734     │\n",
       "│ Time/Epoch                    │ 167.15106201171875     │\n",
       "│ Time/FPS                      │ 119.6522445678711      │\n",
       "└───────────────────────────────┴────────────────────────┘\n"
      ]
     },
     "metadata": {},
     "output_type": "display_data"
    },
    {
     "data": {
      "text/html": [
       "<pre style=\"white-space:pre;overflow-x:auto;line-height:normal;font-family:Menlo,'DejaVu Sans Mono',consolas,'Courier New',monospace\"><span style=\"color: #008000; text-decoration-color: #008000\">Warning: trajectory cut off when rollout by epoch at </span><span style=\"color: #008080; text-decoration-color: #008080; font-weight: bold\">1000.0</span><span style=\"color: #008000; text-decoration-color: #008000\"> steps.</span>\n",
       "</pre>\n"
      ],
      "text/plain": [
       "\u001b[32mWarning: trajectory cut off when rollout by epoch at \u001b[0m\u001b[1;36m1000.0\u001b[0m\u001b[32m steps.\u001b[0m\n"
      ]
     },
     "metadata": {},
     "output_type": "display_data"
    },
    {
     "data": {
      "text/html": [
       "<pre style=\"white-space:pre;overflow-x:auto;line-height:normal;font-family:Menlo,'DejaVu Sans Mono',consolas,'Courier New',monospace\"><span style=\"color: #008000; text-decoration-color: #008000\">Warning: trajectory cut off when rollout by epoch at </span><span style=\"color: #008080; text-decoration-color: #008080; font-weight: bold\">1000.0</span><span style=\"color: #008000; text-decoration-color: #008000\"> steps.</span>\n",
       "</pre>\n"
      ],
      "text/plain": [
       "\u001b[32mWarning: trajectory cut off when rollout by epoch at \u001b[0m\u001b[1;36m1000.0\u001b[0m\u001b[32m steps.\u001b[0m\n"
      ]
     },
     "metadata": {},
     "output_type": "display_data"
    },
    {
     "data": {
      "text/html": [
       "<pre style=\"white-space:pre;overflow-x:auto;line-height:normal;font-family:Menlo,'DejaVu Sans Mono',consolas,'Courier New',monospace\"><span style=\"color: #008000; text-decoration-color: #008000\">Warning: trajectory cut off when rollout by epoch at </span><span style=\"color: #008080; text-decoration-color: #008080; font-weight: bold\">1000.0</span><span style=\"color: #008000; text-decoration-color: #008000\"> steps.</span>\n",
       "</pre>\n"
      ],
      "text/plain": [
       "\u001b[32mWarning: trajectory cut off when rollout by epoch at \u001b[0m\u001b[1;36m1000.0\u001b[0m\u001b[32m steps.\u001b[0m\n"
      ]
     },
     "metadata": {},
     "output_type": "display_data"
    },
    {
     "data": {
      "text/html": [
       "<pre style=\"white-space:pre;overflow-x:auto;line-height:normal;font-family:Menlo,'DejaVu Sans Mono',consolas,'Courier New',monospace\"><span style=\"color: #008000; text-decoration-color: #008000\">Warning: trajectory cut off when rollout by epoch at </span><span style=\"color: #008080; text-decoration-color: #008080; font-weight: bold\">1000.0</span><span style=\"color: #008000; text-decoration-color: #008000\"> steps.</span>\n",
       "</pre>\n"
      ],
      "text/plain": [
       "\u001b[32mWarning: trajectory cut off when rollout by epoch at \u001b[0m\u001b[1;36m1000.0\u001b[0m\u001b[32m steps.\u001b[0m\n"
      ]
     },
     "metadata": {},
     "output_type": "display_data"
    },
    {
     "data": {
      "text/html": [
       "<pre style=\"white-space:pre;overflow-x:auto;line-height:normal;font-family:Menlo,'DejaVu Sans Mono',consolas,'Courier New',monospace\"></pre>\n"
      ],
      "text/plain": []
     },
     "metadata": {},
     "output_type": "display_data"
    },
    {
     "data": {
      "text/html": [
       "<pre style=\"white-space:pre;overflow-x:auto;line-height:normal;font-family:Menlo,'DejaVu Sans Mono',consolas,'Courier New',monospace\">\n",
       "</pre>\n"
      ],
      "text/plain": [
       "\n"
      ]
     },
     "metadata": {},
     "output_type": "display_data"
    },
    {
     "data": {
      "text/html": [
       "<pre style=\"white-space:pre;overflow-x:auto;line-height:normal;font-family:Menlo,'DejaVu Sans Mono',consolas,'Courier New',monospace\"></pre>\n"
      ],
      "text/plain": []
     },
     "metadata": {},
     "output_type": "display_data"
    },
    {
     "data": {
      "text/html": [
       "<pre style=\"white-space:pre;overflow-x:auto;line-height:normal;font-family:Menlo,'DejaVu Sans Mono',consolas,'Courier New',monospace\">\n",
       "</pre>\n"
      ],
      "text/plain": [
       "\n"
      ]
     },
     "metadata": {},
     "output_type": "display_data"
    },
    {
     "data": {
      "text/html": [
       "<pre style=\"white-space:pre;overflow-x:auto;line-height:normal;font-family:Menlo,'DejaVu Sans Mono',consolas,'Courier New',monospace\">┏━━━━━━━━━━━━━━━━━━━━━━━━━━━━━━━┳━━━━━━━━━━━━━━━━━━━━━━━┓\n",
       "┃<span style=\"font-weight: bold\"> Metrics                       </span>┃<span style=\"font-weight: bold\"> Value                 </span>┃\n",
       "┡━━━━━━━━━━━━━━━━━━━━━━━━━━━━━━━╇━━━━━━━━━━━━━━━━━━━━━━━┩\n",
       "│ Metrics/EpRet                 │ 21.339773178100586    │\n",
       "│ Metrics/EpCost                │ 60.68000030517578     │\n",
       "│ Metrics/EpLen                 │ 1000.0                │\n",
       "│ Train/Epoch                   │ 24.0                  │\n",
       "│ Train/Entropy                 │ 0.827610194683075     │\n",
       "│ Train/KL                      │ 0.016567140817642212  │\n",
       "│ Train/StopIter                │ 40.0                  │\n",
       "│ Train/PolicyRatio/Mean        │ 0.9966334104537964    │\n",
       "│ Train/PolicyRatio/Min         │ 0.9966334104537964    │\n",
       "│ Train/PolicyRatio/Max         │ 0.9966334104537964    │\n",
       "│ Train/PolicyRatio/Std         │ 0.017841560766100883  │\n",
       "│ Train/LR                      │ 4.999999873689376e-05 │\n",
       "│ Train/PolicyStd               │ 0.5549527406692505    │\n",
       "│ TotalEnvSteps                 │ 500000.0              │\n",
       "│ Loss/Loss_pi                  │ -0.0263067539781332   │\n",
       "│ Loss/Loss_pi/Delta            │ 9.6883624792099e-05   │\n",
       "│ Value/Adv                     │ 0.09432113170623779   │\n",
       "│ Loss/Loss_reward_critic       │ 0.01888452097773552   │\n",
       "│ Loss/Loss_reward_critic/Delta │ 0.0002573039382696152 │\n",
       "│ Value/reward                  │ 1.8533482551574707    │\n",
       "│ Time/Total                    │ 3383.972900390625     │\n",
       "│ Time/Rollout                  │ 47.71647644042969     │\n",
       "│ Time/Update                   │ 120.32830810546875    │\n",
       "│ Time/Epoch                    │ 168.04478454589844    │\n",
       "│ Time/FPS                      │ 119.0158920288086     │\n",
       "└───────────────────────────────┴───────────────────────┘\n",
       "</pre>\n"
      ],
      "text/plain": [
       "┏━━━━━━━━━━━━━━━━━━━━━━━━━━━━━━━┳━━━━━━━━━━━━━━━━━━━━━━━┓\n",
       "┃\u001b[1m \u001b[0m\u001b[1mMetrics                      \u001b[0m\u001b[1m \u001b[0m┃\u001b[1m \u001b[0m\u001b[1mValue                \u001b[0m\u001b[1m \u001b[0m┃\n",
       "┡━━━━━━━━━━━━━━━━━━━━━━━━━━━━━━━╇━━━━━━━━━━━━━━━━━━━━━━━┩\n",
       "│ Metrics/EpRet                 │ 21.339773178100586    │\n",
       "│ Metrics/EpCost                │ 60.68000030517578     │\n",
       "│ Metrics/EpLen                 │ 1000.0                │\n",
       "│ Train/Epoch                   │ 24.0                  │\n",
       "│ Train/Entropy                 │ 0.827610194683075     │\n",
       "│ Train/KL                      │ 0.016567140817642212  │\n",
       "│ Train/StopIter                │ 40.0                  │\n",
       "│ Train/PolicyRatio/Mean        │ 0.9966334104537964    │\n",
       "│ Train/PolicyRatio/Min         │ 0.9966334104537964    │\n",
       "│ Train/PolicyRatio/Max         │ 0.9966334104537964    │\n",
       "│ Train/PolicyRatio/Std         │ 0.017841560766100883  │\n",
       "│ Train/LR                      │ 4.999999873689376e-05 │\n",
       "│ Train/PolicyStd               │ 0.5549527406692505    │\n",
       "│ TotalEnvSteps                 │ 500000.0              │\n",
       "│ Loss/Loss_pi                  │ -0.0263067539781332   │\n",
       "│ Loss/Loss_pi/Delta            │ 9.6883624792099e-05   │\n",
       "│ Value/Adv                     │ 0.09432113170623779   │\n",
       "│ Loss/Loss_reward_critic       │ 0.01888452097773552   │\n",
       "│ Loss/Loss_reward_critic/Delta │ 0.0002573039382696152 │\n",
       "│ Value/reward                  │ 1.8533482551574707    │\n",
       "│ Time/Total                    │ 3383.972900390625     │\n",
       "│ Time/Rollout                  │ 47.71647644042969     │\n",
       "│ Time/Update                   │ 120.32830810546875    │\n",
       "│ Time/Epoch                    │ 168.04478454589844    │\n",
       "│ Time/FPS                      │ 119.0158920288086     │\n",
       "└───────────────────────────────┴───────────────────────┘\n"
      ]
     },
     "metadata": {},
     "output_type": "display_data"
    },
    {
     "data": {
      "text/html": [
       "<pre style=\"white-space:pre;overflow-x:auto;line-height:normal;font-family:Menlo,'DejaVu Sans Mono',consolas,'Courier New',monospace\"><span style=\"color: #008000; text-decoration-color: #008000\">Warning: trajectory cut off when rollout by epoch at </span><span style=\"color: #008080; text-decoration-color: #008080; font-weight: bold\">1000.0</span><span style=\"color: #008000; text-decoration-color: #008000\"> steps.</span>\n",
       "</pre>\n"
      ],
      "text/plain": [
       "\u001b[32mWarning: trajectory cut off when rollout by epoch at \u001b[0m\u001b[1;36m1000.0\u001b[0m\u001b[32m steps.\u001b[0m\n"
      ]
     },
     "metadata": {},
     "output_type": "display_data"
    },
    {
     "data": {
      "text/html": [
       "<pre style=\"white-space:pre;overflow-x:auto;line-height:normal;font-family:Menlo,'DejaVu Sans Mono',consolas,'Courier New',monospace\"><span style=\"color: #008000; text-decoration-color: #008000\">Warning: trajectory cut off when rollout by epoch at </span><span style=\"color: #008080; text-decoration-color: #008080; font-weight: bold\">1000.0</span><span style=\"color: #008000; text-decoration-color: #008000\"> steps.</span>\n",
       "</pre>\n"
      ],
      "text/plain": [
       "\u001b[32mWarning: trajectory cut off when rollout by epoch at \u001b[0m\u001b[1;36m1000.0\u001b[0m\u001b[32m steps.\u001b[0m\n"
      ]
     },
     "metadata": {},
     "output_type": "display_data"
    },
    {
     "data": {
      "text/html": [
       "<pre style=\"white-space:pre;overflow-x:auto;line-height:normal;font-family:Menlo,'DejaVu Sans Mono',consolas,'Courier New',monospace\"><span style=\"color: #008000; text-decoration-color: #008000\">Warning: trajectory cut off when rollout by epoch at </span><span style=\"color: #008080; text-decoration-color: #008080; font-weight: bold\">1000.0</span><span style=\"color: #008000; text-decoration-color: #008000\"> steps.</span>\n",
       "</pre>\n"
      ],
      "text/plain": [
       "\u001b[32mWarning: trajectory cut off when rollout by epoch at \u001b[0m\u001b[1;36m1000.0\u001b[0m\u001b[32m steps.\u001b[0m\n"
      ]
     },
     "metadata": {},
     "output_type": "display_data"
    },
    {
     "data": {
      "text/html": [
       "<pre style=\"white-space:pre;overflow-x:auto;line-height:normal;font-family:Menlo,'DejaVu Sans Mono',consolas,'Courier New',monospace\"><span style=\"color: #008000; text-decoration-color: #008000\">Warning: trajectory cut off when rollout by epoch at </span><span style=\"color: #008080; text-decoration-color: #008080; font-weight: bold\">1000.0</span><span style=\"color: #008000; text-decoration-color: #008000\"> steps.</span>\n",
       "</pre>\n"
      ],
      "text/plain": [
       "\u001b[32mWarning: trajectory cut off when rollout by epoch at \u001b[0m\u001b[1;36m1000.0\u001b[0m\u001b[32m steps.\u001b[0m\n"
      ]
     },
     "metadata": {},
     "output_type": "display_data"
    },
    {
     "data": {
      "text/html": [
       "<pre style=\"white-space:pre;overflow-x:auto;line-height:normal;font-family:Menlo,'DejaVu Sans Mono',consolas,'Courier New',monospace\"></pre>\n"
      ],
      "text/plain": []
     },
     "metadata": {},
     "output_type": "display_data"
    },
    {
     "data": {
      "text/html": [
       "<pre style=\"white-space:pre;overflow-x:auto;line-height:normal;font-family:Menlo,'DejaVu Sans Mono',consolas,'Courier New',monospace\">\n",
       "</pre>\n"
      ],
      "text/plain": [
       "\n"
      ]
     },
     "metadata": {},
     "output_type": "display_data"
    },
    {
     "data": {
      "text/html": [
       "<pre style=\"white-space:pre;overflow-x:auto;line-height:normal;font-family:Menlo,'DejaVu Sans Mono',consolas,'Courier New',monospace\"></pre>\n"
      ],
      "text/plain": []
     },
     "metadata": {},
     "output_type": "display_data"
    },
    {
     "data": {
      "text/html": [
       "<pre style=\"white-space:pre;overflow-x:auto;line-height:normal;font-family:Menlo,'DejaVu Sans Mono',consolas,'Courier New',monospace\">\n",
       "</pre>\n"
      ],
      "text/plain": [
       "\n"
      ]
     },
     "metadata": {},
     "output_type": "display_data"
    },
    {
     "data": {
      "text/html": [
       "<pre style=\"white-space:pre;overflow-x:auto;line-height:normal;font-family:Menlo,'DejaVu Sans Mono',consolas,'Courier New',monospace\">┏━━━━━━━━━━━━━━━━━━━━━━━━━━━━━━━┳━━━━━━━━━━━━━━━━━━━━━━━━┓\n",
       "┃<span style=\"font-weight: bold\"> Metrics                       </span>┃<span style=\"font-weight: bold\"> Value                  </span>┃\n",
       "┡━━━━━━━━━━━━━━━━━━━━━━━━━━━━━━━╇━━━━━━━━━━━━━━━━━━━━━━━━┩\n",
       "│ Metrics/EpRet                 │ 22.06732177734375      │\n",
       "│ Metrics/EpCost                │ 61.13999938964844      │\n",
       "│ Metrics/EpLen                 │ 1000.0                 │\n",
       "│ Train/Epoch                   │ 25.0                   │\n",
       "│ Train/Entropy                 │ 0.8117407560348511     │\n",
       "│ Train/KL                      │ 0.0131448395550251     │\n",
       "│ Train/StopIter                │ 40.0                   │\n",
       "│ Train/PolicyRatio/Mean        │ 0.9990997314453125     │\n",
       "│ Train/PolicyRatio/Min         │ 0.9990997314453125     │\n",
       "│ Train/PolicyRatio/Max         │ 0.9990997314453125     │\n",
       "│ Train/PolicyRatio/Std         │ 0.016096290200948715   │\n",
       "│ Train/LR                      │ 3.9999998989515007e-05 │\n",
       "│ Train/PolicyStd               │ 0.5463758111000061     │\n",
       "│ TotalEnvSteps                 │ 520000.0               │\n",
       "│ Loss/Loss_pi                  │ -0.02340950258076191   │\n",
       "│ Loss/Loss_pi/Delta            │ 0.002897251397371292   │\n",
       "│ Value/Adv                     │ 0.12491671741008759    │\n",
       "│ Loss/Loss_reward_critic       │ 0.01553697045892477    │\n",
       "│ Loss/Loss_reward_critic/Delta │ -0.003347550518810749  │\n",
       "│ Value/reward                  │ 1.9444931745529175     │\n",
       "│ Time/Total                    │ 3553.302001953125      │\n",
       "│ Time/Rollout                  │ 46.71711349487305      │\n",
       "│ Time/Update                   │ 122.57302856445312     │\n",
       "│ Time/Epoch                    │ 169.29014587402344     │\n",
       "│ Time/FPS                      │ 118.14036560058594     │\n",
       "└───────────────────────────────┴────────────────────────┘\n",
       "</pre>\n"
      ],
      "text/plain": [
       "┏━━━━━━━━━━━━━━━━━━━━━━━━━━━━━━━┳━━━━━━━━━━━━━━━━━━━━━━━━┓\n",
       "┃\u001b[1m \u001b[0m\u001b[1mMetrics                      \u001b[0m\u001b[1m \u001b[0m┃\u001b[1m \u001b[0m\u001b[1mValue                 \u001b[0m\u001b[1m \u001b[0m┃\n",
       "┡━━━━━━━━━━━━━━━━━━━━━━━━━━━━━━━╇━━━━━━━━━━━━━━━━━━━━━━━━┩\n",
       "│ Metrics/EpRet                 │ 22.06732177734375      │\n",
       "│ Metrics/EpCost                │ 61.13999938964844      │\n",
       "│ Metrics/EpLen                 │ 1000.0                 │\n",
       "│ Train/Epoch                   │ 25.0                   │\n",
       "│ Train/Entropy                 │ 0.8117407560348511     │\n",
       "│ Train/KL                      │ 0.0131448395550251     │\n",
       "│ Train/StopIter                │ 40.0                   │\n",
       "│ Train/PolicyRatio/Mean        │ 0.9990997314453125     │\n",
       "│ Train/PolicyRatio/Min         │ 0.9990997314453125     │\n",
       "│ Train/PolicyRatio/Max         │ 0.9990997314453125     │\n",
       "│ Train/PolicyRatio/Std         │ 0.016096290200948715   │\n",
       "│ Train/LR                      │ 3.9999998989515007e-05 │\n",
       "│ Train/PolicyStd               │ 0.5463758111000061     │\n",
       "│ TotalEnvSteps                 │ 520000.0               │\n",
       "│ Loss/Loss_pi                  │ -0.02340950258076191   │\n",
       "│ Loss/Loss_pi/Delta            │ 0.002897251397371292   │\n",
       "│ Value/Adv                     │ 0.12491671741008759    │\n",
       "│ Loss/Loss_reward_critic       │ 0.01553697045892477    │\n",
       "│ Loss/Loss_reward_critic/Delta │ -0.003347550518810749  │\n",
       "│ Value/reward                  │ 1.9444931745529175     │\n",
       "│ Time/Total                    │ 3553.302001953125      │\n",
       "│ Time/Rollout                  │ 46.71711349487305      │\n",
       "│ Time/Update                   │ 122.57302856445312     │\n",
       "│ Time/Epoch                    │ 169.29014587402344     │\n",
       "│ Time/FPS                      │ 118.14036560058594     │\n",
       "└───────────────────────────────┴────────────────────────┘\n"
      ]
     },
     "metadata": {},
     "output_type": "display_data"
    },
    {
     "data": {
      "text/html": [
       "<pre style=\"white-space:pre;overflow-x:auto;line-height:normal;font-family:Menlo,'DejaVu Sans Mono',consolas,'Courier New',monospace\"><span style=\"color: #008000; text-decoration-color: #008000\">Warning: trajectory cut off when rollout by epoch at </span><span style=\"color: #008080; text-decoration-color: #008080; font-weight: bold\">1000.0</span><span style=\"color: #008000; text-decoration-color: #008000\"> steps.</span>\n",
       "</pre>\n"
      ],
      "text/plain": [
       "\u001b[32mWarning: trajectory cut off when rollout by epoch at \u001b[0m\u001b[1;36m1000.0\u001b[0m\u001b[32m steps.\u001b[0m\n"
      ]
     },
     "metadata": {},
     "output_type": "display_data"
    },
    {
     "data": {
      "text/html": [
       "<pre style=\"white-space:pre;overflow-x:auto;line-height:normal;font-family:Menlo,'DejaVu Sans Mono',consolas,'Courier New',monospace\"><span style=\"color: #008000; text-decoration-color: #008000\">Warning: trajectory cut off when rollout by epoch at </span><span style=\"color: #008080; text-decoration-color: #008080; font-weight: bold\">1000.0</span><span style=\"color: #008000; text-decoration-color: #008000\"> steps.</span>\n",
       "</pre>\n"
      ],
      "text/plain": [
       "\u001b[32mWarning: trajectory cut off when rollout by epoch at \u001b[0m\u001b[1;36m1000.0\u001b[0m\u001b[32m steps.\u001b[0m\n"
      ]
     },
     "metadata": {},
     "output_type": "display_data"
    },
    {
     "data": {
      "text/html": [
       "<pre style=\"white-space:pre;overflow-x:auto;line-height:normal;font-family:Menlo,'DejaVu Sans Mono',consolas,'Courier New',monospace\"><span style=\"color: #008000; text-decoration-color: #008000\">Warning: trajectory cut off when rollout by epoch at </span><span style=\"color: #008080; text-decoration-color: #008080; font-weight: bold\">1000.0</span><span style=\"color: #008000; text-decoration-color: #008000\"> steps.</span>\n",
       "</pre>\n"
      ],
      "text/plain": [
       "\u001b[32mWarning: trajectory cut off when rollout by epoch at \u001b[0m\u001b[1;36m1000.0\u001b[0m\u001b[32m steps.\u001b[0m\n"
      ]
     },
     "metadata": {},
     "output_type": "display_data"
    },
    {
     "data": {
      "text/html": [
       "<pre style=\"white-space:pre;overflow-x:auto;line-height:normal;font-family:Menlo,'DejaVu Sans Mono',consolas,'Courier New',monospace\"><span style=\"color: #008000; text-decoration-color: #008000\">Warning: trajectory cut off when rollout by epoch at </span><span style=\"color: #008080; text-decoration-color: #008080; font-weight: bold\">1000.0</span><span style=\"color: #008000; text-decoration-color: #008000\"> steps.</span>\n",
       "</pre>\n"
      ],
      "text/plain": [
       "\u001b[32mWarning: trajectory cut off when rollout by epoch at \u001b[0m\u001b[1;36m1000.0\u001b[0m\u001b[32m steps.\u001b[0m\n"
      ]
     },
     "metadata": {},
     "output_type": "display_data"
    },
    {
     "data": {
      "text/html": [
       "<pre style=\"white-space:pre;overflow-x:auto;line-height:normal;font-family:Menlo,'DejaVu Sans Mono',consolas,'Courier New',monospace\"></pre>\n"
      ],
      "text/plain": []
     },
     "metadata": {},
     "output_type": "display_data"
    },
    {
     "data": {
      "text/html": [
       "<pre style=\"white-space:pre;overflow-x:auto;line-height:normal;font-family:Menlo,'DejaVu Sans Mono',consolas,'Courier New',monospace\">\n",
       "</pre>\n"
      ],
      "text/plain": [
       "\n"
      ]
     },
     "metadata": {},
     "output_type": "display_data"
    },
    {
     "data": {
      "text/html": [
       "<pre style=\"white-space:pre;overflow-x:auto;line-height:normal;font-family:Menlo,'DejaVu Sans Mono',consolas,'Courier New',monospace\"></pre>\n"
      ],
      "text/plain": []
     },
     "metadata": {},
     "output_type": "display_data"
    },
    {
     "data": {
      "text/html": [
       "<pre style=\"white-space:pre;overflow-x:auto;line-height:normal;font-family:Menlo,'DejaVu Sans Mono',consolas,'Courier New',monospace\">\n",
       "</pre>\n"
      ],
      "text/plain": [
       "\n"
      ]
     },
     "metadata": {},
     "output_type": "display_data"
    },
    {
     "data": {
      "text/html": [
       "<pre style=\"white-space:pre;overflow-x:auto;line-height:normal;font-family:Menlo,'DejaVu Sans Mono',consolas,'Courier New',monospace\">┏━━━━━━━━━━━━━━━━━━━━━━━━━━━━━━━┳━━━━━━━━━━━━━━━━━━━━━━━━┓\n",
       "┃<span style=\"font-weight: bold\"> Metrics                       </span>┃<span style=\"font-weight: bold\"> Value                  </span>┃\n",
       "┡━━━━━━━━━━━━━━━━━━━━━━━━━━━━━━━╇━━━━━━━━━━━━━━━━━━━━━━━━┩\n",
       "│ Metrics/EpRet                 │ 22.499832153320312     │\n",
       "│ Metrics/EpCost                │ 59.63999938964844      │\n",
       "│ Metrics/EpLen                 │ 1000.0                 │\n",
       "│ Train/Epoch                   │ 26.0                   │\n",
       "│ Train/Entropy                 │ 0.795823872089386      │\n",
       "│ Train/KL                      │ 0.013653906062245369   │\n",
       "│ Train/StopIter                │ 40.0                   │\n",
       "│ Train/PolicyRatio/Mean        │ 0.997733473777771      │\n",
       "│ Train/PolicyRatio/Min         │ 0.997733473777771      │\n",
       "│ Train/PolicyRatio/Max         │ 0.997733473777771      │\n",
       "│ Train/PolicyRatio/Std         │ 0.01638605259358883    │\n",
       "│ Train/LR                      │ 2.9999999242136255e-05 │\n",
       "│ Train/PolicyStd               │ 0.5378788709640503     │\n",
       "│ TotalEnvSteps                 │ 540000.0               │\n",
       "│ Loss/Loss_pi                  │ -0.024892402812838554  │\n",
       "│ Loss/Loss_pi/Delta            │ -0.001482900232076645  │\n",
       "│ Value/Adv                     │ 0.12144133448600769    │\n",
       "│ Loss/Loss_reward_critic       │ 0.020273417234420776   │\n",
       "│ Loss/Loss_reward_critic/Delta │ 0.004736446775496006   │\n",
       "│ Value/reward                  │ 2.006680965423584      │\n",
       "│ Time/Total                    │ 3722.544677734375      │\n",
       "│ Time/Rollout                  │ 46.97013854980469      │\n",
       "│ Time/Update                   │ 122.24386596679688     │\n",
       "│ Time/Epoch                    │ 169.21400451660156     │\n",
       "│ Time/FPS                      │ 118.19352722167969     │\n",
       "└───────────────────────────────┴────────────────────────┘\n",
       "</pre>\n"
      ],
      "text/plain": [
       "┏━━━━━━━━━━━━━━━━━━━━━━━━━━━━━━━┳━━━━━━━━━━━━━━━━━━━━━━━━┓\n",
       "┃\u001b[1m \u001b[0m\u001b[1mMetrics                      \u001b[0m\u001b[1m \u001b[0m┃\u001b[1m \u001b[0m\u001b[1mValue                 \u001b[0m\u001b[1m \u001b[0m┃\n",
       "┡━━━━━━━━━━━━━━━━━━━━━━━━━━━━━━━╇━━━━━━━━━━━━━━━━━━━━━━━━┩\n",
       "│ Metrics/EpRet                 │ 22.499832153320312     │\n",
       "│ Metrics/EpCost                │ 59.63999938964844      │\n",
       "│ Metrics/EpLen                 │ 1000.0                 │\n",
       "│ Train/Epoch                   │ 26.0                   │\n",
       "│ Train/Entropy                 │ 0.795823872089386      │\n",
       "│ Train/KL                      │ 0.013653906062245369   │\n",
       "│ Train/StopIter                │ 40.0                   │\n",
       "│ Train/PolicyRatio/Mean        │ 0.997733473777771      │\n",
       "│ Train/PolicyRatio/Min         │ 0.997733473777771      │\n",
       "│ Train/PolicyRatio/Max         │ 0.997733473777771      │\n",
       "│ Train/PolicyRatio/Std         │ 0.01638605259358883    │\n",
       "│ Train/LR                      │ 2.9999999242136255e-05 │\n",
       "│ Train/PolicyStd               │ 0.5378788709640503     │\n",
       "│ TotalEnvSteps                 │ 540000.0               │\n",
       "│ Loss/Loss_pi                  │ -0.024892402812838554  │\n",
       "│ Loss/Loss_pi/Delta            │ -0.001482900232076645  │\n",
       "│ Value/Adv                     │ 0.12144133448600769    │\n",
       "│ Loss/Loss_reward_critic       │ 0.020273417234420776   │\n",
       "│ Loss/Loss_reward_critic/Delta │ 0.004736446775496006   │\n",
       "│ Value/reward                  │ 2.006680965423584      │\n",
       "│ Time/Total                    │ 3722.544677734375      │\n",
       "│ Time/Rollout                  │ 46.97013854980469      │\n",
       "│ Time/Update                   │ 122.24386596679688     │\n",
       "│ Time/Epoch                    │ 169.21400451660156     │\n",
       "│ Time/FPS                      │ 118.19352722167969     │\n",
       "└───────────────────────────────┴────────────────────────┘\n"
      ]
     },
     "metadata": {},
     "output_type": "display_data"
    },
    {
     "data": {
      "text/html": [
       "<pre style=\"white-space:pre;overflow-x:auto;line-height:normal;font-family:Menlo,'DejaVu Sans Mono',consolas,'Courier New',monospace\"><span style=\"color: #008000; text-decoration-color: #008000\">Warning: trajectory cut off when rollout by epoch at </span><span style=\"color: #008080; text-decoration-color: #008080; font-weight: bold\">1000.0</span><span style=\"color: #008000; text-decoration-color: #008000\"> steps.</span>\n",
       "</pre>\n"
      ],
      "text/plain": [
       "\u001b[32mWarning: trajectory cut off when rollout by epoch at \u001b[0m\u001b[1;36m1000.0\u001b[0m\u001b[32m steps.\u001b[0m\n"
      ]
     },
     "metadata": {},
     "output_type": "display_data"
    },
    {
     "data": {
      "text/html": [
       "<pre style=\"white-space:pre;overflow-x:auto;line-height:normal;font-family:Menlo,'DejaVu Sans Mono',consolas,'Courier New',monospace\"><span style=\"color: #008000; text-decoration-color: #008000\">Warning: trajectory cut off when rollout by epoch at </span><span style=\"color: #008080; text-decoration-color: #008080; font-weight: bold\">1000.0</span><span style=\"color: #008000; text-decoration-color: #008000\"> steps.</span>\n",
       "</pre>\n"
      ],
      "text/plain": [
       "\u001b[32mWarning: trajectory cut off when rollout by epoch at \u001b[0m\u001b[1;36m1000.0\u001b[0m\u001b[32m steps.\u001b[0m\n"
      ]
     },
     "metadata": {},
     "output_type": "display_data"
    },
    {
     "data": {
      "text/html": [
       "<pre style=\"white-space:pre;overflow-x:auto;line-height:normal;font-family:Menlo,'DejaVu Sans Mono',consolas,'Courier New',monospace\"><span style=\"color: #008000; text-decoration-color: #008000\">Warning: trajectory cut off when rollout by epoch at </span><span style=\"color: #008080; text-decoration-color: #008080; font-weight: bold\">1000.0</span><span style=\"color: #008000; text-decoration-color: #008000\"> steps.</span>\n",
       "</pre>\n"
      ],
      "text/plain": [
       "\u001b[32mWarning: trajectory cut off when rollout by epoch at \u001b[0m\u001b[1;36m1000.0\u001b[0m\u001b[32m steps.\u001b[0m\n"
      ]
     },
     "metadata": {},
     "output_type": "display_data"
    },
    {
     "data": {
      "text/html": [
       "<pre style=\"white-space:pre;overflow-x:auto;line-height:normal;font-family:Menlo,'DejaVu Sans Mono',consolas,'Courier New',monospace\"><span style=\"color: #008000; text-decoration-color: #008000\">Warning: trajectory cut off when rollout by epoch at </span><span style=\"color: #008080; text-decoration-color: #008080; font-weight: bold\">1000.0</span><span style=\"color: #008000; text-decoration-color: #008000\"> steps.</span>\n",
       "</pre>\n"
      ],
      "text/plain": [
       "\u001b[32mWarning: trajectory cut off when rollout by epoch at \u001b[0m\u001b[1;36m1000.0\u001b[0m\u001b[32m steps.\u001b[0m\n"
      ]
     },
     "metadata": {},
     "output_type": "display_data"
    },
    {
     "data": {
      "text/html": [
       "<pre style=\"white-space:pre;overflow-x:auto;line-height:normal;font-family:Menlo,'DejaVu Sans Mono',consolas,'Courier New',monospace\"></pre>\n"
      ],
      "text/plain": []
     },
     "metadata": {},
     "output_type": "display_data"
    },
    {
     "data": {
      "text/html": [
       "<pre style=\"white-space:pre;overflow-x:auto;line-height:normal;font-family:Menlo,'DejaVu Sans Mono',consolas,'Courier New',monospace\">\n",
       "</pre>\n"
      ],
      "text/plain": [
       "\n"
      ]
     },
     "metadata": {},
     "output_type": "display_data"
    },
    {
     "data": {
      "text/html": [
       "<pre style=\"white-space:pre;overflow-x:auto;line-height:normal;font-family:Menlo,'DejaVu Sans Mono',consolas,'Courier New',monospace\"></pre>\n"
      ],
      "text/plain": []
     },
     "metadata": {},
     "output_type": "display_data"
    },
    {
     "data": {
      "text/html": [
       "<pre style=\"white-space:pre;overflow-x:auto;line-height:normal;font-family:Menlo,'DejaVu Sans Mono',consolas,'Courier New',monospace\">\n",
       "</pre>\n"
      ],
      "text/plain": [
       "\n"
      ]
     },
     "metadata": {},
     "output_type": "display_data"
    },
    {
     "data": {
      "text/html": [
       "<pre style=\"white-space:pre;overflow-x:auto;line-height:normal;font-family:Menlo,'DejaVu Sans Mono',consolas,'Courier New',monospace\">┏━━━━━━━━━━━━━━━━━━━━━━━━━━━━━━━┳━━━━━━━━━━━━━━━━━━━━━━━━┓\n",
       "┃<span style=\"font-weight: bold\"> Metrics                       </span>┃<span style=\"font-weight: bold\"> Value                  </span>┃\n",
       "┡━━━━━━━━━━━━━━━━━━━━━━━━━━━━━━━╇━━━━━━━━━━━━━━━━━━━━━━━━┩\n",
       "│ Metrics/EpRet                 │ 22.324472427368164     │\n",
       "│ Metrics/EpCost                │ 49.119998931884766     │\n",
       "│ Metrics/EpLen                 │ 1000.0                 │\n",
       "│ Train/Epoch                   │ 27.0                   │\n",
       "│ Train/Entropy                 │ 0.781924843788147      │\n",
       "│ Train/KL                      │ 0.011143584735691547   │\n",
       "│ Train/StopIter                │ 40.0                   │\n",
       "│ Train/PolicyRatio/Mean        │ 0.999872088432312      │\n",
       "│ Train/PolicyRatio/Min         │ 0.999872088432312      │\n",
       "│ Train/PolicyRatio/Max         │ 0.999872088432312      │\n",
       "│ Train/PolicyRatio/Std         │ 0.015110624022781849   │\n",
       "│ Train/LR                      │ 1.9999999494757503e-05 │\n",
       "│ Train/PolicyStd               │ 0.5304442644119263     │\n",
       "│ TotalEnvSteps                 │ 560000.0               │\n",
       "│ Loss/Loss_pi                  │ -0.020859887823462486  │\n",
       "│ Loss/Loss_pi/Delta            │ 0.004032514989376068   │\n",
       "│ Value/Adv                     │ 0.02327338233590126    │\n",
       "│ Loss/Loss_reward_critic       │ 0.017774086445569992   │\n",
       "│ Loss/Loss_reward_critic/Delta │ -0.0024993307888507843 │\n",
       "│ Value/reward                  │ 2.046196460723877      │\n",
       "│ Time/Total                    │ 3890.7119140625        │\n",
       "│ Time/Rollout                  │ 46.75739669799805      │\n",
       "│ Time/Update                   │ 121.37322998046875     │\n",
       "│ Time/Epoch                    │ 168.13063049316406     │\n",
       "│ Time/FPS                      │ 118.95512390136719     │\n",
       "└───────────────────────────────┴────────────────────────┘\n",
       "</pre>\n"
      ],
      "text/plain": [
       "┏━━━━━━━━━━━━━━━━━━━━━━━━━━━━━━━┳━━━━━━━━━━━━━━━━━━━━━━━━┓\n",
       "┃\u001b[1m \u001b[0m\u001b[1mMetrics                      \u001b[0m\u001b[1m \u001b[0m┃\u001b[1m \u001b[0m\u001b[1mValue                 \u001b[0m\u001b[1m \u001b[0m┃\n",
       "┡━━━━━━━━━━━━━━━━━━━━━━━━━━━━━━━╇━━━━━━━━━━━━━━━━━━━━━━━━┩\n",
       "│ Metrics/EpRet                 │ 22.324472427368164     │\n",
       "│ Metrics/EpCost                │ 49.119998931884766     │\n",
       "│ Metrics/EpLen                 │ 1000.0                 │\n",
       "│ Train/Epoch                   │ 27.0                   │\n",
       "│ Train/Entropy                 │ 0.781924843788147      │\n",
       "│ Train/KL                      │ 0.011143584735691547   │\n",
       "│ Train/StopIter                │ 40.0                   │\n",
       "│ Train/PolicyRatio/Mean        │ 0.999872088432312      │\n",
       "│ Train/PolicyRatio/Min         │ 0.999872088432312      │\n",
       "│ Train/PolicyRatio/Max         │ 0.999872088432312      │\n",
       "│ Train/PolicyRatio/Std         │ 0.015110624022781849   │\n",
       "│ Train/LR                      │ 1.9999999494757503e-05 │\n",
       "│ Train/PolicyStd               │ 0.5304442644119263     │\n",
       "│ TotalEnvSteps                 │ 560000.0               │\n",
       "│ Loss/Loss_pi                  │ -0.020859887823462486  │\n",
       "│ Loss/Loss_pi/Delta            │ 0.004032514989376068   │\n",
       "│ Value/Adv                     │ 0.02327338233590126    │\n",
       "│ Loss/Loss_reward_critic       │ 0.017774086445569992   │\n",
       "│ Loss/Loss_reward_critic/Delta │ -0.0024993307888507843 │\n",
       "│ Value/reward                  │ 2.046196460723877      │\n",
       "│ Time/Total                    │ 3890.7119140625        │\n",
       "│ Time/Rollout                  │ 46.75739669799805      │\n",
       "│ Time/Update                   │ 121.37322998046875     │\n",
       "│ Time/Epoch                    │ 168.13063049316406     │\n",
       "│ Time/FPS                      │ 118.95512390136719     │\n",
       "└───────────────────────────────┴────────────────────────┘\n"
      ]
     },
     "metadata": {},
     "output_type": "display_data"
    },
    {
     "data": {
      "text/html": [
       "<pre style=\"white-space:pre;overflow-x:auto;line-height:normal;font-family:Menlo,'DejaVu Sans Mono',consolas,'Courier New',monospace\"><span style=\"color: #008000; text-decoration-color: #008000\">Warning: trajectory cut off when rollout by epoch at </span><span style=\"color: #008080; text-decoration-color: #008080; font-weight: bold\">1000.0</span><span style=\"color: #008000; text-decoration-color: #008000\"> steps.</span>\n",
       "</pre>\n"
      ],
      "text/plain": [
       "\u001b[32mWarning: trajectory cut off when rollout by epoch at \u001b[0m\u001b[1;36m1000.0\u001b[0m\u001b[32m steps.\u001b[0m\n"
      ]
     },
     "metadata": {},
     "output_type": "display_data"
    },
    {
     "data": {
      "text/html": [
       "<pre style=\"white-space:pre;overflow-x:auto;line-height:normal;font-family:Menlo,'DejaVu Sans Mono',consolas,'Courier New',monospace\"><span style=\"color: #008000; text-decoration-color: #008000\">Warning: trajectory cut off when rollout by epoch at </span><span style=\"color: #008080; text-decoration-color: #008080; font-weight: bold\">1000.0</span><span style=\"color: #008000; text-decoration-color: #008000\"> steps.</span>\n",
       "</pre>\n"
      ],
      "text/plain": [
       "\u001b[32mWarning: trajectory cut off when rollout by epoch at \u001b[0m\u001b[1;36m1000.0\u001b[0m\u001b[32m steps.\u001b[0m\n"
      ]
     },
     "metadata": {},
     "output_type": "display_data"
    },
    {
     "data": {
      "text/html": [
       "<pre style=\"white-space:pre;overflow-x:auto;line-height:normal;font-family:Menlo,'DejaVu Sans Mono',consolas,'Courier New',monospace\"><span style=\"color: #008000; text-decoration-color: #008000\">Warning: trajectory cut off when rollout by epoch at </span><span style=\"color: #008080; text-decoration-color: #008080; font-weight: bold\">1000.0</span><span style=\"color: #008000; text-decoration-color: #008000\"> steps.</span>\n",
       "</pre>\n"
      ],
      "text/plain": [
       "\u001b[32mWarning: trajectory cut off when rollout by epoch at \u001b[0m\u001b[1;36m1000.0\u001b[0m\u001b[32m steps.\u001b[0m\n"
      ]
     },
     "metadata": {},
     "output_type": "display_data"
    },
    {
     "data": {
      "text/html": [
       "<pre style=\"white-space:pre;overflow-x:auto;line-height:normal;font-family:Menlo,'DejaVu Sans Mono',consolas,'Courier New',monospace\"><span style=\"color: #008000; text-decoration-color: #008000\">Warning: trajectory cut off when rollout by epoch at </span><span style=\"color: #008080; text-decoration-color: #008080; font-weight: bold\">1000.0</span><span style=\"color: #008000; text-decoration-color: #008000\"> steps.</span>\n",
       "</pre>\n"
      ],
      "text/plain": [
       "\u001b[32mWarning: trajectory cut off when rollout by epoch at \u001b[0m\u001b[1;36m1000.0\u001b[0m\u001b[32m steps.\u001b[0m\n"
      ]
     },
     "metadata": {},
     "output_type": "display_data"
    },
    {
     "data": {
      "text/html": [
       "<pre style=\"white-space:pre;overflow-x:auto;line-height:normal;font-family:Menlo,'DejaVu Sans Mono',consolas,'Courier New',monospace\"></pre>\n"
      ],
      "text/plain": []
     },
     "metadata": {},
     "output_type": "display_data"
    },
    {
     "data": {
      "text/html": [
       "<pre style=\"white-space:pre;overflow-x:auto;line-height:normal;font-family:Menlo,'DejaVu Sans Mono',consolas,'Courier New',monospace\">\n",
       "</pre>\n"
      ],
      "text/plain": [
       "\n"
      ]
     },
     "metadata": {},
     "output_type": "display_data"
    },
    {
     "data": {
      "text/html": [
       "<pre style=\"white-space:pre;overflow-x:auto;line-height:normal;font-family:Menlo,'DejaVu Sans Mono',consolas,'Courier New',monospace\"></pre>\n"
      ],
      "text/plain": []
     },
     "metadata": {},
     "output_type": "display_data"
    },
    {
     "data": {
      "text/html": [
       "<pre style=\"white-space:pre;overflow-x:auto;line-height:normal;font-family:Menlo,'DejaVu Sans Mono',consolas,'Courier New',monospace\">\n",
       "</pre>\n"
      ],
      "text/plain": [
       "\n"
      ]
     },
     "metadata": {},
     "output_type": "display_data"
    },
    {
     "data": {
      "text/html": [
       "<pre style=\"white-space:pre;overflow-x:auto;line-height:normal;font-family:Menlo,'DejaVu Sans Mono',consolas,'Courier New',monospace\">┏━━━━━━━━━━━━━━━━━━━━━━━━━━━━━━━┳━━━━━━━━━━━━━━━━━━━━━━━┓\n",
       "┃<span style=\"font-weight: bold\"> Metrics                       </span>┃<span style=\"font-weight: bold\"> Value                 </span>┃\n",
       "┡━━━━━━━━━━━━━━━━━━━━━━━━━━━━━━━╇━━━━━━━━━━━━━━━━━━━━━━━┩\n",
       "│ Metrics/EpRet                 │ 22.373991012573242    │\n",
       "│ Metrics/EpCost                │ 55.63999938964844     │\n",
       "│ Metrics/EpLen                 │ 1000.0                │\n",
       "│ Train/Epoch                   │ 28.0                  │\n",
       "│ Train/Entropy                 │ 0.7715099453926086    │\n",
       "│ Train/KL                      │ 0.008310187608003616  │\n",
       "│ Train/StopIter                │ 40.0                  │\n",
       "│ Train/PolicyRatio/Mean        │ 0.9978145956993103    │\n",
       "│ Train/PolicyRatio/Min         │ 0.9978145956993103    │\n",
       "│ Train/PolicyRatio/Max         │ 0.9978145956993103    │\n",
       "│ Train/PolicyRatio/Std         │ 0.013312290422618389  │\n",
       "│ Train/LR                      │ 9.999999747378752e-06 │\n",
       "│ Train/PolicyStd               │ 0.5249117016792297    │\n",
       "│ TotalEnvSteps                 │ 580000.0              │\n",
       "│ Loss/Loss_pi                  │ -0.018258342519402504 │\n",
       "│ Loss/Loss_pi/Delta            │ 0.0026015453040599823 │\n",
       "│ Value/Adv                     │ -0.10158286988735199  │\n",
       "│ Loss/Loss_reward_critic       │ 0.019075967371463776  │\n",
       "│ Loss/Loss_reward_critic/Delta │ 0.0013018809258937836 │\n",
       "│ Value/reward                  │ 2.064558744430542     │\n",
       "│ Time/Total                    │ 4072.829345703125     │\n",
       "│ Time/Rollout                  │ 46.830989837646484    │\n",
       "│ Time/Update                   │ 135.25686645507812    │\n",
       "│ Time/Epoch                    │ 182.08786010742188    │\n",
       "│ Time/FPS                      │ 109.83708953857422    │\n",
       "└───────────────────────────────┴───────────────────────┘\n",
       "</pre>\n"
      ],
      "text/plain": [
       "┏━━━━━━━━━━━━━━━━━━━━━━━━━━━━━━━┳━━━━━━━━━━━━━━━━━━━━━━━┓\n",
       "┃\u001b[1m \u001b[0m\u001b[1mMetrics                      \u001b[0m\u001b[1m \u001b[0m┃\u001b[1m \u001b[0m\u001b[1mValue                \u001b[0m\u001b[1m \u001b[0m┃\n",
       "┡━━━━━━━━━━━━━━━━━━━━━━━━━━━━━━━╇━━━━━━━━━━━━━━━━━━━━━━━┩\n",
       "│ Metrics/EpRet                 │ 22.373991012573242    │\n",
       "│ Metrics/EpCost                │ 55.63999938964844     │\n",
       "│ Metrics/EpLen                 │ 1000.0                │\n",
       "│ Train/Epoch                   │ 28.0                  │\n",
       "│ Train/Entropy                 │ 0.7715099453926086    │\n",
       "│ Train/KL                      │ 0.008310187608003616  │\n",
       "│ Train/StopIter                │ 40.0                  │\n",
       "│ Train/PolicyRatio/Mean        │ 0.9978145956993103    │\n",
       "│ Train/PolicyRatio/Min         │ 0.9978145956993103    │\n",
       "│ Train/PolicyRatio/Max         │ 0.9978145956993103    │\n",
       "│ Train/PolicyRatio/Std         │ 0.013312290422618389  │\n",
       "│ Train/LR                      │ 9.999999747378752e-06 │\n",
       "│ Train/PolicyStd               │ 0.5249117016792297    │\n",
       "│ TotalEnvSteps                 │ 580000.0              │\n",
       "│ Loss/Loss_pi                  │ -0.018258342519402504 │\n",
       "│ Loss/Loss_pi/Delta            │ 0.0026015453040599823 │\n",
       "│ Value/Adv                     │ -0.10158286988735199  │\n",
       "│ Loss/Loss_reward_critic       │ 0.019075967371463776  │\n",
       "│ Loss/Loss_reward_critic/Delta │ 0.0013018809258937836 │\n",
       "│ Value/reward                  │ 2.064558744430542     │\n",
       "│ Time/Total                    │ 4072.829345703125     │\n",
       "│ Time/Rollout                  │ 46.830989837646484    │\n",
       "│ Time/Update                   │ 135.25686645507812    │\n",
       "│ Time/Epoch                    │ 182.08786010742188    │\n",
       "│ Time/FPS                      │ 109.83708953857422    │\n",
       "└───────────────────────────────┴───────────────────────┘\n"
      ]
     },
     "metadata": {},
     "output_type": "display_data"
    },
    {
     "data": {
      "text/html": [
       "<pre style=\"white-space:pre;overflow-x:auto;line-height:normal;font-family:Menlo,'DejaVu Sans Mono',consolas,'Courier New',monospace\"><span style=\"color: #008000; text-decoration-color: #008000\">Warning: trajectory cut off when rollout by epoch at </span><span style=\"color: #008080; text-decoration-color: #008080; font-weight: bold\">1000.0</span><span style=\"color: #008000; text-decoration-color: #008000\"> steps.</span>\n",
       "</pre>\n"
      ],
      "text/plain": [
       "\u001b[32mWarning: trajectory cut off when rollout by epoch at \u001b[0m\u001b[1;36m1000.0\u001b[0m\u001b[32m steps.\u001b[0m\n"
      ]
     },
     "metadata": {},
     "output_type": "display_data"
    },
    {
     "data": {
      "text/html": [
       "<pre style=\"white-space:pre;overflow-x:auto;line-height:normal;font-family:Menlo,'DejaVu Sans Mono',consolas,'Courier New',monospace\"><span style=\"color: #008000; text-decoration-color: #008000\">Warning: trajectory cut off when rollout by epoch at </span><span style=\"color: #008080; text-decoration-color: #008080; font-weight: bold\">1000.0</span><span style=\"color: #008000; text-decoration-color: #008000\"> steps.</span>\n",
       "</pre>\n"
      ],
      "text/plain": [
       "\u001b[32mWarning: trajectory cut off when rollout by epoch at \u001b[0m\u001b[1;36m1000.0\u001b[0m\u001b[32m steps.\u001b[0m\n"
      ]
     },
     "metadata": {},
     "output_type": "display_data"
    },
    {
     "data": {
      "text/html": [
       "<pre style=\"white-space:pre;overflow-x:auto;line-height:normal;font-family:Menlo,'DejaVu Sans Mono',consolas,'Courier New',monospace\"><span style=\"color: #008000; text-decoration-color: #008000\">Warning: trajectory cut off when rollout by epoch at </span><span style=\"color: #008080; text-decoration-color: #008080; font-weight: bold\">1000.0</span><span style=\"color: #008000; text-decoration-color: #008000\"> steps.</span>\n",
       "</pre>\n"
      ],
      "text/plain": [
       "\u001b[32mWarning: trajectory cut off when rollout by epoch at \u001b[0m\u001b[1;36m1000.0\u001b[0m\u001b[32m steps.\u001b[0m\n"
      ]
     },
     "metadata": {},
     "output_type": "display_data"
    },
    {
     "data": {
      "text/html": [
       "<pre style=\"white-space:pre;overflow-x:auto;line-height:normal;font-family:Menlo,'DejaVu Sans Mono',consolas,'Courier New',monospace\"><span style=\"color: #008000; text-decoration-color: #008000\">Warning: trajectory cut off when rollout by epoch at </span><span style=\"color: #008080; text-decoration-color: #008080; font-weight: bold\">1000.0</span><span style=\"color: #008000; text-decoration-color: #008000\"> steps.</span>\n",
       "</pre>\n"
      ],
      "text/plain": [
       "\u001b[32mWarning: trajectory cut off when rollout by epoch at \u001b[0m\u001b[1;36m1000.0\u001b[0m\u001b[32m steps.\u001b[0m\n"
      ]
     },
     "metadata": {},
     "output_type": "display_data"
    },
    {
     "data": {
      "text/html": [
       "<pre style=\"white-space:pre;overflow-x:auto;line-height:normal;font-family:Menlo,'DejaVu Sans Mono',consolas,'Courier New',monospace\"></pre>\n"
      ],
      "text/plain": []
     },
     "metadata": {},
     "output_type": "display_data"
    },
    {
     "data": {
      "text/html": [
       "<pre style=\"white-space:pre;overflow-x:auto;line-height:normal;font-family:Menlo,'DejaVu Sans Mono',consolas,'Courier New',monospace\">\n",
       "</pre>\n"
      ],
      "text/plain": [
       "\n"
      ]
     },
     "metadata": {},
     "output_type": "display_data"
    },
    {
     "data": {
      "text/html": [
       "<pre style=\"white-space:pre;overflow-x:auto;line-height:normal;font-family:Menlo,'DejaVu Sans Mono',consolas,'Courier New',monospace\"></pre>\n"
      ],
      "text/plain": []
     },
     "metadata": {},
     "output_type": "display_data"
    },
    {
     "data": {
      "text/html": [
       "<pre style=\"white-space:pre;overflow-x:auto;line-height:normal;font-family:Menlo,'DejaVu Sans Mono',consolas,'Courier New',monospace\">\n",
       "</pre>\n"
      ],
      "text/plain": [
       "\n"
      ]
     },
     "metadata": {},
     "output_type": "display_data"
    },
    {
     "data": {
      "text/html": [
       "<pre style=\"white-space:pre;overflow-x:auto;line-height:normal;font-family:Menlo,'DejaVu Sans Mono',consolas,'Courier New',monospace\">┏━━━━━━━━━━━━━━━━━━━━━━━━━━━━━━━┳━━━━━━━━━━━━━━━━━━━━━━━━┓\n",
       "┃<span style=\"font-weight: bold\"> Metrics                       </span>┃<span style=\"font-weight: bold\"> Value                  </span>┃\n",
       "┡━━━━━━━━━━━━━━━━━━━━━━━━━━━━━━━╇━━━━━━━━━━━━━━━━━━━━━━━━┩\n",
       "│ Metrics/EpRet                 │ 22.55252456665039      │\n",
       "│ Metrics/EpCost                │ 59.13999938964844      │\n",
       "│ Metrics/EpLen                 │ 1000.0                 │\n",
       "│ Train/Epoch                   │ 29.0                   │\n",
       "│ Train/Entropy                 │ 0.7662484049797058     │\n",
       "│ Train/KL                      │ 0.005829305853694677   │\n",
       "│ Train/StopIter                │ 40.0                   │\n",
       "│ Train/PolicyRatio/Mean        │ 0.9994156956672668     │\n",
       "│ Train/PolicyRatio/Min         │ 0.9994156956672668     │\n",
       "│ Train/PolicyRatio/Max         │ 0.9994156956672668     │\n",
       "│ Train/PolicyRatio/Std         │ 0.011519535444676876   │\n",
       "│ Train/LR                      │ 0.0                    │\n",
       "│ Train/PolicyStd               │ 0.5221207141876221     │\n",
       "│ TotalEnvSteps                 │ 600000.0               │\n",
       "│ Loss/Loss_pi                  │ -0.014148161746561527  │\n",
       "│ Loss/Loss_pi/Delta            │ 0.004110180772840977   │\n",
       "│ Value/Adv                     │ -0.08389095962047577   │\n",
       "│ Loss/Loss_reward_critic       │ 0.016780458390712738   │\n",
       "│ Loss/Loss_reward_critic/Delta │ -0.0022955089807510376 │\n",
       "│ Value/reward                  │ 2.1298444271087646     │\n",
       "│ Time/Total                    │ 4242.361328125         │\n",
       "│ Time/Rollout                  │ 46.60671615600586      │\n",
       "│ Time/Update                   │ 122.89550018310547     │\n",
       "│ Time/Epoch                    │ 169.50221252441406     │\n",
       "│ Time/FPS                      │ 117.9925537109375      │\n",
       "└───────────────────────────────┴────────────────────────┘\n",
       "</pre>\n"
      ],
      "text/plain": [
       "┏━━━━━━━━━━━━━━━━━━━━━━━━━━━━━━━┳━━━━━━━━━━━━━━━━━━━━━━━━┓\n",
       "┃\u001b[1m \u001b[0m\u001b[1mMetrics                      \u001b[0m\u001b[1m \u001b[0m┃\u001b[1m \u001b[0m\u001b[1mValue                 \u001b[0m\u001b[1m \u001b[0m┃\n",
       "┡━━━━━━━━━━━━━━━━━━━━━━━━━━━━━━━╇━━━━━━━━━━━━━━━━━━━━━━━━┩\n",
       "│ Metrics/EpRet                 │ 22.55252456665039      │\n",
       "│ Metrics/EpCost                │ 59.13999938964844      │\n",
       "│ Metrics/EpLen                 │ 1000.0                 │\n",
       "│ Train/Epoch                   │ 29.0                   │\n",
       "│ Train/Entropy                 │ 0.7662484049797058     │\n",
       "│ Train/KL                      │ 0.005829305853694677   │\n",
       "│ Train/StopIter                │ 40.0                   │\n",
       "│ Train/PolicyRatio/Mean        │ 0.9994156956672668     │\n",
       "│ Train/PolicyRatio/Min         │ 0.9994156956672668     │\n",
       "│ Train/PolicyRatio/Max         │ 0.9994156956672668     │\n",
       "│ Train/PolicyRatio/Std         │ 0.011519535444676876   │\n",
       "│ Train/LR                      │ 0.0                    │\n",
       "│ Train/PolicyStd               │ 0.5221207141876221     │\n",
       "│ TotalEnvSteps                 │ 600000.0               │\n",
       "│ Loss/Loss_pi                  │ -0.014148161746561527  │\n",
       "│ Loss/Loss_pi/Delta            │ 0.004110180772840977   │\n",
       "│ Value/Adv                     │ -0.08389095962047577   │\n",
       "│ Loss/Loss_reward_critic       │ 0.016780458390712738   │\n",
       "│ Loss/Loss_reward_critic/Delta │ -0.0022955089807510376 │\n",
       "│ Value/reward                  │ 2.1298444271087646     │\n",
       "│ Time/Total                    │ 4242.361328125         │\n",
       "│ Time/Rollout                  │ 46.60671615600586      │\n",
       "│ Time/Update                   │ 122.89550018310547     │\n",
       "│ Time/Epoch                    │ 169.50221252441406     │\n",
       "│ Time/FPS                      │ 117.9925537109375      │\n",
       "└───────────────────────────────┴────────────────────────┘\n"
      ]
     },
     "metadata": {},
     "output_type": "display_data"
    }
   ],
   "source": [
    "# total experiment num must can be divided by num_pool\n",
    "# meanwhile, users should decide this value according to their machine\n",
    "eg.run(train, gpu_id=gpu_id)"
   ]
  },
  {
   "cell_type": "code",
   "execution_count": 5,
   "metadata": {},
   "outputs": [
    {
     "data": {
      "image/png": "[encoded data removed]",
      "text/plain": [
       "<Figure size 1500x500 with 2 Axes>"
      ]
     },
     "metadata": {},
     "output_type": "display_data"
    }
   ],
   "source": [
    "# just fill in the name of the parameter of which value you want to compare.\n",
    "# then you can specify the value of the parameter you want to compare,\n",
    "# or you can just specify how many values you want to compare in single graph at most,\n",
    "# and the function will automatically generate all possible combinations of the graph.\n",
    "# but the two mode can not be used at the same time.\n",
    "eg.analyze(parameter='algo', values=None, compare_num=2, cost_limit=25)\n"
   ]
  },
  {
   "cell_type": "code",
   "execution_count": 7,
   "metadata": {},
   "outputs": [],
   "source": [
    "eg.evaluate(num_episodes=10)"
   ]
  },
  {
   "cell_type": "code",
   "execution_count": null,
   "metadata": {},
   "outputs": [],
   "source": [
    "eg.render(num_episodes=1, render_mode='rgb_array', width=256, height=256)"
   ]
  },
  {
   "cell_type": "code",
   "execution_count": null,
   "metadata": {},
   "outputs": [],
   "source": []
  }
 ],
 "metadata": {
  "kernelspec": {
   "display_name": "omnisafe-env",
   "language": "python",
   "name": "python3"
  },
  "language_info": {
   "codemirror_mode": {
    "name": "ipython",
    "version": 3
   },
   "file_extension": ".py",
   "mimetype": "text/x-python",
   "name": "python",
   "nbconvert_exporter": "python",
   "pygments_lexer": "ipython3",
   "version": "3.8.19"
  }
 },
 "nbformat": 4,
 "nbformat_minor": 2
}
