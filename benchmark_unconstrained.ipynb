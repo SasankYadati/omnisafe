{
 "cells": [
  {
   "cell_type": "code",
   "execution_count": null,
   "metadata": {},
   "outputs": [],
   "source": [
    "import warnings\n",
    "\n",
    "import torch\n",
    "\n",
    "from omnisafe.common.experiment_grid import ExperimentGrid\n",
    "import omnisafe"
   ]
  },
  {
   "cell_type": "code",
   "execution_count": null,
   "metadata": {},
   "outputs": [],
   "source": [
    "eg = ExperimentGrid(exp_name='BM_Safety_Unconstrained')\n",
    "\n",
    "base_policy = ['TRPO', 'PPO']\n",
    "\n",
    "safety_envs = [\n",
    "    'SafetyPointGoal1-v0',\n",
    "]\n",
    "eg.add('env_id', safety_envs)\n",
    "\n",
    "avaliable_gpus = list(range(torch.cuda.device_count()))\n",
    "gpu_id = [0]\n",
    "\n",
    "if gpu_id and not set(gpu_id).issubset(avaliable_gpus):\n",
    "    warnings.warn('The GPU ID is not available, use CPU instead.', stacklevel=1)\n",
    "    gpu_id = None\n",
    "\n",
    "eg.add('algo', base_policy)\n",
    "eg.add('logger_cfgs:use_wandb', [True])\n",
    "eg.add('logger_cfgs:wandb_project', ['Benchmark_Safety'])\n",
    "eg.add('train_cfgs:vector_env_nums', [4])\n",
    "eg.add('train_cfgs:torch_threads', [8])\n",
    "eg.add('algo_cfgs:steps_per_epoch', [20000])\n",
    "eg.add('train_cfgs:total_steps', [20000 * 30])\n",
    "eg.add('seed', [0])"
   ]
  },
  {
   "cell_type": "code",
   "execution_count": null,
   "metadata": {},
   "outputs": [],
   "source": [
    "\"\"\"Example of training a policy from exp-x config with OmniSafe.\"\"\"\n",
    "import os, sys\n",
    "from omnisafe.typing import NamedTuple, Tuple\n",
    "\n",
    "\n",
    "def train(\n",
    "    exp_id: str, algo: str, env_id: str, custom_cfgs: NamedTuple\n",
    ") -> Tuple[float, float, float]:\n",
    "    \"\"\"Train a policy from exp-x config with OmniSafe.\n",
    "\n",
    "    Args:\n",
    "        exp_id (str): Experiment ID.\n",
    "        algo (str): Algorithm to train.\n",
    "        env_id (str): The name of test environment.\n",
    "        custom_cfgs (NamedTuple): Custom configurations.\n",
    "        num_threads (int, optional): Number of threads. Defaults to 6.\n",
    "    \"\"\"\n",
    "    terminal_log_name = 'terminal.log'\n",
    "    error_log_name = 'error.log'\n",
    "    if 'seed' in custom_cfgs:\n",
    "        terminal_log_name = f'seed{custom_cfgs[\"seed\"]}_{terminal_log_name}'\n",
    "        error_log_name = f'seed{custom_cfgs[\"seed\"]}_{error_log_name}'\n",
    "    sys.stdout = sys.__stdout__\n",
    "    sys.stderr = sys.__stderr__\n",
    "    print(f'exp-x: {exp_id} is training...')\n",
    "    if not os.path.exists(custom_cfgs['logger_cfgs']['log_dir']):\n",
    "        os.makedirs(custom_cfgs['logger_cfgs']['log_dir'], exist_ok=True)\n",
    "    # pylint: disable-next=consider-using-with\n",
    "    sys.stdout = open(\n",
    "        os.path.join(f'{custom_cfgs[\"logger_cfgs\"][\"log_dir\"]}', terminal_log_name),\n",
    "        'w',\n",
    "        encoding='utf-8',\n",
    "    )\n",
    "    # pylint: disable-next=consider-using-with\n",
    "    sys.stderr = open(\n",
    "        os.path.join(f'{custom_cfgs[\"logger_cfgs\"][\"log_dir\"]}', error_log_name),\n",
    "        'w',\n",
    "        encoding='utf-8',\n",
    "    )\n",
    "    agent = omnisafe.Agent(algo, env_id, custom_cfgs=custom_cfgs)\n",
    "    reward, cost, ep_len = agent.learn()\n",
    "    return reward, cost, ep_len"
   ]
  },
  {
   "cell_type": "code",
   "execution_count": null,
   "metadata": {},
   "outputs": [],
   "source": [
    "# total experiment num must can be divided by num_pool\n",
    "# meanwhile, users should decide this value according to their machine\n",
    "eg.run(train, gpu_id=gpu_id)"
   ]
  },
  {
   "cell_type": "code",
   "execution_count": null,
   "metadata": {},
   "outputs": [],
   "source": [
    "# just fill in the name of the parameter of which value you want to compare.\n",
    "# then you can specify the value of the parameter you want to compare,\n",
    "# or you can just specify how many values you want to compare in single graph at most,\n",
    "# and the function will automatically generate all possible combinations of the graph.\n",
    "# but the two mode can not be used at the same time.\n",
    "eg.analyze(parameter='algo', values=None, compare_num=2, cost_limit=25)\n"
   ]
  },
  {
   "cell_type": "code",
   "execution_count": null,
   "metadata": {},
   "outputs": [],
   "source": [
    "eg.evaluate(num_episodes=10)"
   ]
  },
  {
   "cell_type": "code",
   "execution_count": null,
   "metadata": {},
   "outputs": [],
   "source": [
    "eg.render(num_episodes=1, render_mode='rgb_array', width=256, height=256)"
   ]
  },
  {
   "cell_type": "code",
   "execution_count": 8,
   "metadata": {},
   "outputs": [],
   "source": [
    "import os, omnisafe"
   ]
  },
  {
   "cell_type": "code",
   "execution_count": 10,
   "metadata": {},
   "outputs": [
    {
     "name": "stdout",
     "output_type": "stream",
     "text": [
      "\n",
      "##################################################\n",
      "\n",
      "Saving the replay video to exp-x\\BM_Safety_Unconstrained\\SafetyPointGoal1-v0---999237c8a579096ba86ab3adcf0f9920f8c8e50b5e4a8f222ceb30613ecc92ca\\PPO-{SafetyPointGoal1-v0}\\seed-000-2024-04-24-01-31-35\\video\\epoch-0,\n",
      " and the result to exp-x\\BM_Safety_Unconstrained\\SafetyPointGoal1-v0---999237c8a579096ba86ab3adcf0f9920f8c8e50b5e4a8f222ceb30613ecc92ca\\PPO-{SafetyPointGoal1-v0}\\seed-000-2024-04-24-01-31-35\\video\\epoch-0\\result.txt.\n",
      "\n",
      "##################################################\n",
      "\n"
     ]
    },
    {
     "name": "stderr",
     "output_type": "stream",
     "text": [
      "t:  79%|███████▉  | 792/1001 [00:47<00:00, 989.51it/s, now=None]"
     ]
    },
    {
     "name": "stdout",
     "output_type": "stream",
     "text": [
      "Moviepy - Building video c:\\Users\\saisa\\omnisafe\\exp-x\\BM_Safety_Unconstrained\\SafetyPointGoal1-v0---999237c8a579096ba86ab3adcf0f9920f8c8e50b5e4a8f222ceb30613ecc92ca\\PPO-{SafetyPointGoal1-v0}\\seed-000-2024-04-24-01-31-35\\video\\epoch-0/eval-episode-0.mp4.\n",
      "Moviepy - Writing video c:\\Users\\saisa\\omnisafe\\exp-x\\BM_Safety_Unconstrained\\SafetyPointGoal1-v0---999237c8a579096ba86ab3adcf0f9920f8c8e50b5e4a8f222ceb30613ecc92ca\\PPO-{SafetyPointGoal1-v0}\\seed-000-2024-04-24-01-31-35\\video\\epoch-0/eval-episode-0.mp4\n",
      "\n"
     ]
    },
    {
     "name": "stderr",
     "output_type": "stream",
     "text": [
      "t:  79%|███████▉  | 792/1001 [00:48<00:00, 989.51it/s, now=None]"
     ]
    },
    {
     "name": "stdout",
     "output_type": "stream",
     "text": [
      "Moviepy - Done !\n",
      "Moviepy - video ready c:\\Users\\saisa\\omnisafe\\exp-x\\BM_Safety_Unconstrained\\SafetyPointGoal1-v0---999237c8a579096ba86ab3adcf0f9920f8c8e50b5e4a8f222ceb30613ecc92ca\\PPO-{SafetyPointGoal1-v0}\\seed-000-2024-04-24-01-31-35\\video\\epoch-0/eval-episode-0.mp4\n"
     ]
    },
    {
     "name": "stderr",
     "output_type": "stream",
     "text": [
      "t:  79%|███████▉  | 792/1001 [00:57<00:00, 989.51it/s, now=None]"
     ]
    },
    {
     "name": "stdout",
     "output_type": "stream",
     "text": [
      "Moviepy - Building video c:\\Users\\saisa\\omnisafe\\exp-x\\BM_Safety_Unconstrained\\SafetyPointGoal1-v0---999237c8a579096ba86ab3adcf0f9920f8c8e50b5e4a8f222ceb30613ecc92ca\\PPO-{SafetyPointGoal1-v0}\\seed-000-2024-04-24-01-31-35\\video\\epoch-0/eval-episode-1.mp4.\n",
      "Moviepy - Writing video c:\\Users\\saisa\\omnisafe\\exp-x\\BM_Safety_Unconstrained\\SafetyPointGoal1-v0---999237c8a579096ba86ab3adcf0f9920f8c8e50b5e4a8f222ceb30613ecc92ca\\PPO-{SafetyPointGoal1-v0}\\seed-000-2024-04-24-01-31-35\\video\\epoch-0/eval-episode-1.mp4\n",
      "\n"
     ]
    },
    {
     "name": "stderr",
     "output_type": "stream",
     "text": [
      "t:  79%|███████▉  | 792/1001 [00:58<00:00, 989.51it/s, now=None]"
     ]
    },
    {
     "name": "stdout",
     "output_type": "stream",
     "text": [
      "Moviepy - Done !\n",
      "Moviepy - video ready c:\\Users\\saisa\\omnisafe\\exp-x\\BM_Safety_Unconstrained\\SafetyPointGoal1-v0---999237c8a579096ba86ab3adcf0f9920f8c8e50b5e4a8f222ceb30613ecc92ca\\PPO-{SafetyPointGoal1-v0}\\seed-000-2024-04-24-01-31-35\\video\\epoch-0/eval-episode-1.mp4\n"
     ]
    },
    {
     "name": "stderr",
     "output_type": "stream",
     "text": [
      "t:  79%|███████▉  | 792/1001 [01:08<00:00, 989.51it/s, now=None]"
     ]
    },
    {
     "name": "stdout",
     "output_type": "stream",
     "text": [
      "Moviepy - Building video c:\\Users\\saisa\\omnisafe\\exp-x\\BM_Safety_Unconstrained\\SafetyPointGoal1-v0---999237c8a579096ba86ab3adcf0f9920f8c8e50b5e4a8f222ceb30613ecc92ca\\PPO-{SafetyPointGoal1-v0}\\seed-000-2024-04-24-01-31-35\\video\\epoch-0/eval-episode-2.mp4.\n",
      "Moviepy - Writing video c:\\Users\\saisa\\omnisafe\\exp-x\\BM_Safety_Unconstrained\\SafetyPointGoal1-v0---999237c8a579096ba86ab3adcf0f9920f8c8e50b5e4a8f222ceb30613ecc92ca\\PPO-{SafetyPointGoal1-v0}\\seed-000-2024-04-24-01-31-35\\video\\epoch-0/eval-episode-2.mp4\n",
      "\n"
     ]
    },
    {
     "name": "stderr",
     "output_type": "stream",
     "text": [
      "t:  79%|███████▉  | 792/1001 [01:09<00:00, 989.51it/s, now=None]"
     ]
    },
    {
     "name": "stdout",
     "output_type": "stream",
     "text": [
      "Moviepy - Done !\n",
      "Moviepy - video ready c:\\Users\\saisa\\omnisafe\\exp-x\\BM_Safety_Unconstrained\\SafetyPointGoal1-v0---999237c8a579096ba86ab3adcf0f9920f8c8e50b5e4a8f222ceb30613ecc92ca\\PPO-{SafetyPointGoal1-v0}\\seed-000-2024-04-24-01-31-35\\video\\epoch-0/eval-episode-2.mp4\n"
     ]
    },
    {
     "name": "stderr",
     "output_type": "stream",
     "text": [
      "t:  79%|███████▉  | 792/1001 [01:18<00:00, 989.51it/s, now=None]"
     ]
    },
    {
     "name": "stdout",
     "output_type": "stream",
     "text": [
      "Moviepy - Building video c:\\Users\\saisa\\omnisafe\\exp-x\\BM_Safety_Unconstrained\\SafetyPointGoal1-v0---999237c8a579096ba86ab3adcf0f9920f8c8e50b5e4a8f222ceb30613ecc92ca\\PPO-{SafetyPointGoal1-v0}\\seed-000-2024-04-24-01-31-35\\video\\epoch-0/eval-episode-3.mp4.\n",
      "Moviepy - Writing video c:\\Users\\saisa\\omnisafe\\exp-x\\BM_Safety_Unconstrained\\SafetyPointGoal1-v0---999237c8a579096ba86ab3adcf0f9920f8c8e50b5e4a8f222ceb30613ecc92ca\\PPO-{SafetyPointGoal1-v0}\\seed-000-2024-04-24-01-31-35\\video\\epoch-0/eval-episode-3.mp4\n",
      "\n"
     ]
    },
    {
     "name": "stderr",
     "output_type": "stream",
     "text": [
      "t:  79%|███████▉  | 792/1001 [01:19<00:00, 989.51it/s, now=None]"
     ]
    },
    {
     "name": "stdout",
     "output_type": "stream",
     "text": [
      "Moviepy - Done !\n",
      "Moviepy - video ready c:\\Users\\saisa\\omnisafe\\exp-x\\BM_Safety_Unconstrained\\SafetyPointGoal1-v0---999237c8a579096ba86ab3adcf0f9920f8c8e50b5e4a8f222ceb30613ecc92ca\\PPO-{SafetyPointGoal1-v0}\\seed-000-2024-04-24-01-31-35\\video\\epoch-0/eval-episode-3.mp4\n"
     ]
    },
    {
     "name": "stderr",
     "output_type": "stream",
     "text": [
      "t:  79%|███████▉  | 792/1001 [01:29<00:00, 989.51it/s, now=None]"
     ]
    },
    {
     "name": "stdout",
     "output_type": "stream",
     "text": [
      "Moviepy - Building video c:\\Users\\saisa\\omnisafe\\exp-x\\BM_Safety_Unconstrained\\SafetyPointGoal1-v0---999237c8a579096ba86ab3adcf0f9920f8c8e50b5e4a8f222ceb30613ecc92ca\\PPO-{SafetyPointGoal1-v0}\\seed-000-2024-04-24-01-31-35\\video\\epoch-0/eval-episode-4.mp4.\n",
      "Moviepy - Writing video c:\\Users\\saisa\\omnisafe\\exp-x\\BM_Safety_Unconstrained\\SafetyPointGoal1-v0---999237c8a579096ba86ab3adcf0f9920f8c8e50b5e4a8f222ceb30613ecc92ca\\PPO-{SafetyPointGoal1-v0}\\seed-000-2024-04-24-01-31-35\\video\\epoch-0/eval-episode-4.mp4\n",
      "\n"
     ]
    },
    {
     "name": "stderr",
     "output_type": "stream",
     "text": [
      "t:  79%|███████▉  | 792/1001 [01:30<00:00, 989.51it/s, now=None]"
     ]
    },
    {
     "name": "stdout",
     "output_type": "stream",
     "text": [
      "Moviepy - Done !\n",
      "Moviepy - video ready c:\\Users\\saisa\\omnisafe\\exp-x\\BM_Safety_Unconstrained\\SafetyPointGoal1-v0---999237c8a579096ba86ab3adcf0f9920f8c8e50b5e4a8f222ceb30613ecc92ca\\PPO-{SafetyPointGoal1-v0}\\seed-000-2024-04-24-01-31-35\\video\\epoch-0/eval-episode-4.mp4\n",
      "\n",
      "##################################################\n",
      "\n",
      "Episode 1 results:\n",
      "Episode reward: -5.94579864129264\n",
      "Episode cost: 0.0\n",
      "Episode length: 1000.0\n",
      "Episode 2 results:\n",
      "Episode reward: -2.1350210968284955\n",
      "Episode cost: 0.0\n",
      "Episode length: 1000.0\n",
      "Episode 3 results:\n",
      "Episode reward: 0.9577346407968435\n",
      "Episode cost: 0.0\n",
      "Episode length: 1000.0\n",
      "Episode 4 results:\n",
      "Episode reward: -0.09455058605078648\n",
      "Episode cost: 0.0\n",
      "Episode length: 1000.0\n",
      "Episode 5 results:\n",
      "Episode reward: 0.3326272727244941\n",
      "Episode cost: 0.0\n",
      "Episode length: 1000.0\n",
      "\n",
      "##################################################\n",
      "\n",
      "Evaluation results:\n",
      "Average episode reward: -1.377001682130117\n",
      "Average episode cost: 0.0\n",
      "Average episode length: 1000.0\n",
      "\n",
      "##################################################\n",
      "\n",
      "Saving the replay video to exp-x\\BM_Safety_Unconstrained\\SafetyPointGoal1-v0---999237c8a579096ba86ab3adcf0f9920f8c8e50b5e4a8f222ceb30613ecc92ca\\PPO-{SafetyPointGoal1-v0}\\seed-000-2024-04-24-01-31-35\\video\\epoch-30,\n",
      " and the result to exp-x\\BM_Safety_Unconstrained\\SafetyPointGoal1-v0---999237c8a579096ba86ab3adcf0f9920f8c8e50b5e4a8f222ceb30613ecc92ca\\PPO-{SafetyPointGoal1-v0}\\seed-000-2024-04-24-01-31-35\\video\\epoch-30\\result.txt.\n",
      "\n",
      "##################################################\n",
      "\n"
     ]
    },
    {
     "name": "stderr",
     "output_type": "stream",
     "text": [
      "t:  79%|███████▉  | 792/1001 [01:54<00:00, 989.51it/s, now=None]"
     ]
    },
    {
     "name": "stdout",
     "output_type": "stream",
     "text": [
      "Moviepy - Building video c:\\Users\\saisa\\omnisafe\\exp-x\\BM_Safety_Unconstrained\\SafetyPointGoal1-v0---999237c8a579096ba86ab3adcf0f9920f8c8e50b5e4a8f222ceb30613ecc92ca\\PPO-{SafetyPointGoal1-v0}\\seed-000-2024-04-24-01-31-35\\video\\epoch-30/eval-episode-0.mp4.\n",
      "Moviepy - Writing video c:\\Users\\saisa\\omnisafe\\exp-x\\BM_Safety_Unconstrained\\SafetyPointGoal1-v0---999237c8a579096ba86ab3adcf0f9920f8c8e50b5e4a8f222ceb30613ecc92ca\\PPO-{SafetyPointGoal1-v0}\\seed-000-2024-04-24-01-31-35\\video\\epoch-30/eval-episode-0.mp4\n",
      "\n"
     ]
    },
    {
     "name": "stderr",
     "output_type": "stream",
     "text": [
      "t:  79%|███████▉  | 792/1001 [01:55<00:00, 989.51it/s, now=None]"
     ]
    },
    {
     "name": "stdout",
     "output_type": "stream",
     "text": [
      "Moviepy - Done !\n",
      "Moviepy - video ready c:\\Users\\saisa\\omnisafe\\exp-x\\BM_Safety_Unconstrained\\SafetyPointGoal1-v0---999237c8a579096ba86ab3adcf0f9920f8c8e50b5e4a8f222ceb30613ecc92ca\\PPO-{SafetyPointGoal1-v0}\\seed-000-2024-04-24-01-31-35\\video\\epoch-30/eval-episode-0.mp4\n"
     ]
    },
    {
     "name": "stderr",
     "output_type": "stream",
     "text": [
      "t:  79%|███████▉  | 792/1001 [02:04<00:00, 989.51it/s, now=None]"
     ]
    },
    {
     "name": "stdout",
     "output_type": "stream",
     "text": [
      "Moviepy - Building video c:\\Users\\saisa\\omnisafe\\exp-x\\BM_Safety_Unconstrained\\SafetyPointGoal1-v0---999237c8a579096ba86ab3adcf0f9920f8c8e50b5e4a8f222ceb30613ecc92ca\\PPO-{SafetyPointGoal1-v0}\\seed-000-2024-04-24-01-31-35\\video\\epoch-30/eval-episode-1.mp4.\n",
      "Moviepy - Writing video c:\\Users\\saisa\\omnisafe\\exp-x\\BM_Safety_Unconstrained\\SafetyPointGoal1-v0---999237c8a579096ba86ab3adcf0f9920f8c8e50b5e4a8f222ceb30613ecc92ca\\PPO-{SafetyPointGoal1-v0}\\seed-000-2024-04-24-01-31-35\\video\\epoch-30/eval-episode-1.mp4\n",
      "\n"
     ]
    },
    {
     "name": "stderr",
     "output_type": "stream",
     "text": [
      "t:  79%|███████▉  | 792/1001 [02:06<00:00, 989.51it/s, now=None]"
     ]
    },
    {
     "name": "stdout",
     "output_type": "stream",
     "text": [
      "Moviepy - Done !\n",
      "Moviepy - video ready c:\\Users\\saisa\\omnisafe\\exp-x\\BM_Safety_Unconstrained\\SafetyPointGoal1-v0---999237c8a579096ba86ab3adcf0f9920f8c8e50b5e4a8f222ceb30613ecc92ca\\PPO-{SafetyPointGoal1-v0}\\seed-000-2024-04-24-01-31-35\\video\\epoch-30/eval-episode-1.mp4\n"
     ]
    },
    {
     "name": "stderr",
     "output_type": "stream",
     "text": [
      "t:  79%|███████▉  | 792/1001 [02:14<00:00, 989.51it/s, now=None]"
     ]
    },
    {
     "name": "stdout",
     "output_type": "stream",
     "text": [
      "Moviepy - Building video c:\\Users\\saisa\\omnisafe\\exp-x\\BM_Safety_Unconstrained\\SafetyPointGoal1-v0---999237c8a579096ba86ab3adcf0f9920f8c8e50b5e4a8f222ceb30613ecc92ca\\PPO-{SafetyPointGoal1-v0}\\seed-000-2024-04-24-01-31-35\\video\\epoch-30/eval-episode-2.mp4.\n",
      "Moviepy - Writing video c:\\Users\\saisa\\omnisafe\\exp-x\\BM_Safety_Unconstrained\\SafetyPointGoal1-v0---999237c8a579096ba86ab3adcf0f9920f8c8e50b5e4a8f222ceb30613ecc92ca\\PPO-{SafetyPointGoal1-v0}\\seed-000-2024-04-24-01-31-35\\video\\epoch-30/eval-episode-2.mp4\n",
      "\n"
     ]
    },
    {
     "name": "stderr",
     "output_type": "stream",
     "text": [
      "t:  79%|███████▉  | 792/1001 [02:15<00:00, 989.51it/s, now=None]"
     ]
    },
    {
     "name": "stdout",
     "output_type": "stream",
     "text": [
      "Moviepy - Done !\n",
      "Moviepy - video ready c:\\Users\\saisa\\omnisafe\\exp-x\\BM_Safety_Unconstrained\\SafetyPointGoal1-v0---999237c8a579096ba86ab3adcf0f9920f8c8e50b5e4a8f222ceb30613ecc92ca\\PPO-{SafetyPointGoal1-v0}\\seed-000-2024-04-24-01-31-35\\video\\epoch-30/eval-episode-2.mp4\n"
     ]
    },
    {
     "name": "stderr",
     "output_type": "stream",
     "text": [
      "t:  79%|███████▉  | 792/1001 [02:24<00:00, 989.51it/s, now=None]"
     ]
    },
    {
     "name": "stdout",
     "output_type": "stream",
     "text": [
      "Moviepy - Building video c:\\Users\\saisa\\omnisafe\\exp-x\\BM_Safety_Unconstrained\\SafetyPointGoal1-v0---999237c8a579096ba86ab3adcf0f9920f8c8e50b5e4a8f222ceb30613ecc92ca\\PPO-{SafetyPointGoal1-v0}\\seed-000-2024-04-24-01-31-35\\video\\epoch-30/eval-episode-3.mp4.\n",
      "Moviepy - Writing video c:\\Users\\saisa\\omnisafe\\exp-x\\BM_Safety_Unconstrained\\SafetyPointGoal1-v0---999237c8a579096ba86ab3adcf0f9920f8c8e50b5e4a8f222ceb30613ecc92ca\\PPO-{SafetyPointGoal1-v0}\\seed-000-2024-04-24-01-31-35\\video\\epoch-30/eval-episode-3.mp4\n",
      "\n"
     ]
    },
    {
     "name": "stderr",
     "output_type": "stream",
     "text": [
      "t:  79%|███████▉  | 792/1001 [02:26<00:00, 989.51it/s, now=None]"
     ]
    },
    {
     "name": "stdout",
     "output_type": "stream",
     "text": [
      "Moviepy - Done !\n",
      "Moviepy - video ready c:\\Users\\saisa\\omnisafe\\exp-x\\BM_Safety_Unconstrained\\SafetyPointGoal1-v0---999237c8a579096ba86ab3adcf0f9920f8c8e50b5e4a8f222ceb30613ecc92ca\\PPO-{SafetyPointGoal1-v0}\\seed-000-2024-04-24-01-31-35\\video\\epoch-30/eval-episode-3.mp4\n"
     ]
    },
    {
     "name": "stderr",
     "output_type": "stream",
     "text": [
      "t:  79%|███████▉  | 792/1001 [02:34<00:00, 989.51it/s, now=None]"
     ]
    },
    {
     "name": "stdout",
     "output_type": "stream",
     "text": [
      "Moviepy - Building video c:\\Users\\saisa\\omnisafe\\exp-x\\BM_Safety_Unconstrained\\SafetyPointGoal1-v0---999237c8a579096ba86ab3adcf0f9920f8c8e50b5e4a8f222ceb30613ecc92ca\\PPO-{SafetyPointGoal1-v0}\\seed-000-2024-04-24-01-31-35\\video\\epoch-30/eval-episode-4.mp4.\n",
      "Moviepy - Writing video c:\\Users\\saisa\\omnisafe\\exp-x\\BM_Safety_Unconstrained\\SafetyPointGoal1-v0---999237c8a579096ba86ab3adcf0f9920f8c8e50b5e4a8f222ceb30613ecc92ca\\PPO-{SafetyPointGoal1-v0}\\seed-000-2024-04-24-01-31-35\\video\\epoch-30/eval-episode-4.mp4\n",
      "\n"
     ]
    },
    {
     "name": "stderr",
     "output_type": "stream",
     "text": [
      "t:  79%|███████▉  | 792/1001 [02:35<00:00, 989.51it/s, now=None]"
     ]
    },
    {
     "name": "stdout",
     "output_type": "stream",
     "text": [
      "Moviepy - Done !\n",
      "Moviepy - video ready c:\\Users\\saisa\\omnisafe\\exp-x\\BM_Safety_Unconstrained\\SafetyPointGoal1-v0---999237c8a579096ba86ab3adcf0f9920f8c8e50b5e4a8f222ceb30613ecc92ca\\PPO-{SafetyPointGoal1-v0}\\seed-000-2024-04-24-01-31-35\\video\\epoch-30/eval-episode-4.mp4\n",
      "\n",
      "##################################################\n",
      "\n",
      "Episode 1 results:\n",
      "Episode reward: 20.181227089335152\n",
      "Episode cost: 10.0\n",
      "Episode length: 1000.0\n",
      "Episode 2 results:\n",
      "Episode reward: 24.80620481451797\n",
      "Episode cost: 49.0\n",
      "Episode length: 1000.0\n",
      "Episode 3 results:\n",
      "Episode reward: 25.363042882017908\n",
      "Episode cost: 84.0\n",
      "Episode length: 1000.0\n",
      "Episode 4 results:\n",
      "Episode reward: 19.291897504153894\n",
      "Episode cost: 95.0\n",
      "Episode length: 1000.0\n",
      "Episode 5 results:\n",
      "Episode reward: 22.88346922056371\n",
      "Episode cost: 86.0\n",
      "Episode length: 1000.0\n",
      "\n",
      "##################################################\n",
      "\n",
      "Evaluation results:\n",
      "Average episode reward: 22.505168302117728\n",
      "Average episode cost: 64.8\n",
      "Average episode length: 1000.0\n"
     ]
    }
   ],
   "source": [
    "LOG_DIR = 'exp-x\\BM_Safety_Unconstrained\\SafetyPointGoal1-v0---999237c8a579096ba86ab3adcf0f9920f8c8e50b5e4a8f222ceb30613ecc92ca\\PPO-{SafetyPointGoal1-v0}\\seed-000-2024-04-24-01-31-35'\n",
    "play = True\n",
    "save_replay = True\n",
    "evaluator = omnisafe.Evaluator()\n",
    "for item in os.scandir(os.path.join(LOG_DIR, 'torch_save')):\n",
    "    if item.is_file() and item.name.split('.')[-1] == 'pt':\n",
    "        evaluator.load_saved(\n",
    "            save_dir=LOG_DIR, model_name=item.name, camera_name='track', width=256, height=256\n",
    "        )\n",
    "        evaluator.render(num_episodes=5)\n",
    "        evaluator.evaluate(num_episodes=5)"
   ]
  },
  {
   "cell_type": "code",
   "execution_count": 11,
   "metadata": {},
   "outputs": [
    {
     "name": "stdout",
     "output_type": "stream",
     "text": [
      "\n",
      "##################################################\n",
      "\n",
      "Saving the replay video to exp-x\\BM_Safety_Unconstrained\\SafetyPointGoal1-v0---dce575ce051f34bfb10e125b56a70286d41d91307da1cacad37e9d43f2725ea0\\TRPO-{SafetyPointGoal1-v0}\\seed-000-2024-04-24-01-04-38\\video\\epoch-0,\n",
      " and the result to exp-x\\BM_Safety_Unconstrained\\SafetyPointGoal1-v0---dce575ce051f34bfb10e125b56a70286d41d91307da1cacad37e9d43f2725ea0\\TRPO-{SafetyPointGoal1-v0}\\seed-000-2024-04-24-01-04-38\\video\\epoch-0\\result.txt.\n",
      "\n",
      "##################################################\n",
      "\n"
     ]
    },
    {
     "name": "stderr",
     "output_type": "stream",
     "text": [
      "t:  79%|███████▉  | 792/1001 [03:13<00:00, 989.51it/s, now=None]"
     ]
    },
    {
     "name": "stdout",
     "output_type": "stream",
     "text": [
      "Moviepy - Building video c:\\Users\\saisa\\omnisafe\\exp-x\\BM_Safety_Unconstrained\\SafetyPointGoal1-v0---dce575ce051f34bfb10e125b56a70286d41d91307da1cacad37e9d43f2725ea0\\TRPO-{SafetyPointGoal1-v0}\\seed-000-2024-04-24-01-04-38\\video\\epoch-0/eval-episode-0.mp4.\n",
      "Moviepy - Writing video c:\\Users\\saisa\\omnisafe\\exp-x\\BM_Safety_Unconstrained\\SafetyPointGoal1-v0---dce575ce051f34bfb10e125b56a70286d41d91307da1cacad37e9d43f2725ea0\\TRPO-{SafetyPointGoal1-v0}\\seed-000-2024-04-24-01-04-38\\video\\epoch-0/eval-episode-0.mp4\n",
      "\n"
     ]
    },
    {
     "name": "stderr",
     "output_type": "stream",
     "text": [
      "t:  79%|███████▉  | 792/1001 [03:14<00:00, 989.51it/s, now=None]"
     ]
    },
    {
     "name": "stdout",
     "output_type": "stream",
     "text": [
      "Moviepy - Done !\n",
      "Moviepy - video ready c:\\Users\\saisa\\omnisafe\\exp-x\\BM_Safety_Unconstrained\\SafetyPointGoal1-v0---dce575ce051f34bfb10e125b56a70286d41d91307da1cacad37e9d43f2725ea0\\TRPO-{SafetyPointGoal1-v0}\\seed-000-2024-04-24-01-04-38\\video\\epoch-0/eval-episode-0.mp4\n"
     ]
    },
    {
     "name": "stderr",
     "output_type": "stream",
     "text": [
      "t:  79%|███████▉  | 792/1001 [03:24<00:00, 989.51it/s, now=None]"
     ]
    },
    {
     "name": "stdout",
     "output_type": "stream",
     "text": [
      "Moviepy - Building video c:\\Users\\saisa\\omnisafe\\exp-x\\BM_Safety_Unconstrained\\SafetyPointGoal1-v0---dce575ce051f34bfb10e125b56a70286d41d91307da1cacad37e9d43f2725ea0\\TRPO-{SafetyPointGoal1-v0}\\seed-000-2024-04-24-01-04-38\\video\\epoch-0/eval-episode-1.mp4.\n",
      "Moviepy - Writing video c:\\Users\\saisa\\omnisafe\\exp-x\\BM_Safety_Unconstrained\\SafetyPointGoal1-v0---dce575ce051f34bfb10e125b56a70286d41d91307da1cacad37e9d43f2725ea0\\TRPO-{SafetyPointGoal1-v0}\\seed-000-2024-04-24-01-04-38\\video\\epoch-0/eval-episode-1.mp4\n",
      "\n"
     ]
    },
    {
     "name": "stderr",
     "output_type": "stream",
     "text": [
      "t:  79%|███████▉  | 792/1001 [03:25<00:00, 989.51it/s, now=None]"
     ]
    },
    {
     "name": "stdout",
     "output_type": "stream",
     "text": [
      "Moviepy - Done !\n",
      "Moviepy - video ready c:\\Users\\saisa\\omnisafe\\exp-x\\BM_Safety_Unconstrained\\SafetyPointGoal1-v0---dce575ce051f34bfb10e125b56a70286d41d91307da1cacad37e9d43f2725ea0\\TRPO-{SafetyPointGoal1-v0}\\seed-000-2024-04-24-01-04-38\\video\\epoch-0/eval-episode-1.mp4\n"
     ]
    },
    {
     "name": "stderr",
     "output_type": "stream",
     "text": [
      "t:  79%|███████▉  | 792/1001 [03:34<00:00, 989.51it/s, now=None]"
     ]
    },
    {
     "name": "stdout",
     "output_type": "stream",
     "text": [
      "Moviepy - Building video c:\\Users\\saisa\\omnisafe\\exp-x\\BM_Safety_Unconstrained\\SafetyPointGoal1-v0---dce575ce051f34bfb10e125b56a70286d41d91307da1cacad37e9d43f2725ea0\\TRPO-{SafetyPointGoal1-v0}\\seed-000-2024-04-24-01-04-38\\video\\epoch-0/eval-episode-2.mp4.\n",
      "Moviepy - Writing video c:\\Users\\saisa\\omnisafe\\exp-x\\BM_Safety_Unconstrained\\SafetyPointGoal1-v0---dce575ce051f34bfb10e125b56a70286d41d91307da1cacad37e9d43f2725ea0\\TRPO-{SafetyPointGoal1-v0}\\seed-000-2024-04-24-01-04-38\\video\\epoch-0/eval-episode-2.mp4\n",
      "\n"
     ]
    },
    {
     "name": "stderr",
     "output_type": "stream",
     "text": [
      "t:  79%|███████▉  | 792/1001 [03:36<00:00, 989.51it/s, now=None]"
     ]
    },
    {
     "name": "stdout",
     "output_type": "stream",
     "text": [
      "Moviepy - Done !\n",
      "Moviepy - video ready c:\\Users\\saisa\\omnisafe\\exp-x\\BM_Safety_Unconstrained\\SafetyPointGoal1-v0---dce575ce051f34bfb10e125b56a70286d41d91307da1cacad37e9d43f2725ea0\\TRPO-{SafetyPointGoal1-v0}\\seed-000-2024-04-24-01-04-38\\video\\epoch-0/eval-episode-2.mp4\n"
     ]
    },
    {
     "name": "stderr",
     "output_type": "stream",
     "text": [
      "t:  79%|███████▉  | 792/1001 [03:45<00:00, 989.51it/s, now=None]"
     ]
    },
    {
     "name": "stdout",
     "output_type": "stream",
     "text": [
      "Moviepy - Building video c:\\Users\\saisa\\omnisafe\\exp-x\\BM_Safety_Unconstrained\\SafetyPointGoal1-v0---dce575ce051f34bfb10e125b56a70286d41d91307da1cacad37e9d43f2725ea0\\TRPO-{SafetyPointGoal1-v0}\\seed-000-2024-04-24-01-04-38\\video\\epoch-0/eval-episode-3.mp4.\n",
      "Moviepy - Writing video c:\\Users\\saisa\\omnisafe\\exp-x\\BM_Safety_Unconstrained\\SafetyPointGoal1-v0---dce575ce051f34bfb10e125b56a70286d41d91307da1cacad37e9d43f2725ea0\\TRPO-{SafetyPointGoal1-v0}\\seed-000-2024-04-24-01-04-38\\video\\epoch-0/eval-episode-3.mp4\n",
      "\n"
     ]
    },
    {
     "name": "stderr",
     "output_type": "stream",
     "text": [
      "t:  79%|███████▉  | 792/1001 [03:46<00:00, 989.51it/s, now=None]"
     ]
    },
    {
     "name": "stdout",
     "output_type": "stream",
     "text": [
      "Moviepy - Done !\n",
      "Moviepy - video ready c:\\Users\\saisa\\omnisafe\\exp-x\\BM_Safety_Unconstrained\\SafetyPointGoal1-v0---dce575ce051f34bfb10e125b56a70286d41d91307da1cacad37e9d43f2725ea0\\TRPO-{SafetyPointGoal1-v0}\\seed-000-2024-04-24-01-04-38\\video\\epoch-0/eval-episode-3.mp4\n"
     ]
    },
    {
     "name": "stderr",
     "output_type": "stream",
     "text": [
      "t:  79%|███████▉  | 792/1001 [03:55<00:00, 989.51it/s, now=None]"
     ]
    },
    {
     "name": "stdout",
     "output_type": "stream",
     "text": [
      "Moviepy - Building video c:\\Users\\saisa\\omnisafe\\exp-x\\BM_Safety_Unconstrained\\SafetyPointGoal1-v0---dce575ce051f34bfb10e125b56a70286d41d91307da1cacad37e9d43f2725ea0\\TRPO-{SafetyPointGoal1-v0}\\seed-000-2024-04-24-01-04-38\\video\\epoch-0/eval-episode-4.mp4.\n",
      "Moviepy - Writing video c:\\Users\\saisa\\omnisafe\\exp-x\\BM_Safety_Unconstrained\\SafetyPointGoal1-v0---dce575ce051f34bfb10e125b56a70286d41d91307da1cacad37e9d43f2725ea0\\TRPO-{SafetyPointGoal1-v0}\\seed-000-2024-04-24-01-04-38\\video\\epoch-0/eval-episode-4.mp4\n",
      "\n"
     ]
    },
    {
     "name": "stderr",
     "output_type": "stream",
     "text": [
      "t:  79%|███████▉  | 792/1001 [03:56<00:00, 989.51it/s, now=None]"
     ]
    },
    {
     "name": "stdout",
     "output_type": "stream",
     "text": [
      "Moviepy - Done !\n",
      "Moviepy - video ready c:\\Users\\saisa\\omnisafe\\exp-x\\BM_Safety_Unconstrained\\SafetyPointGoal1-v0---dce575ce051f34bfb10e125b56a70286d41d91307da1cacad37e9d43f2725ea0\\TRPO-{SafetyPointGoal1-v0}\\seed-000-2024-04-24-01-04-38\\video\\epoch-0/eval-episode-4.mp4\n",
      "\n",
      "##################################################\n",
      "\n",
      "Episode 1 results:\n",
      "Episode reward: 0.0014756958842099266\n",
      "Episode cost: 0.0\n",
      "Episode length: 1000.0\n",
      "Episode 2 results:\n",
      "Episode reward: -2.7563522044094952\n",
      "Episode cost: 0.0\n",
      "Episode length: 1000.0\n",
      "Episode 3 results:\n",
      "Episode reward: -1.7892071482028769\n",
      "Episode cost: 0.0\n",
      "Episode length: 1000.0\n",
      "Episode 4 results:\n",
      "Episode reward: -1.362951455962957\n",
      "Episode cost: 38.0\n",
      "Episode length: 1000.0\n",
      "Episode 5 results:\n",
      "Episode reward: 0.7986547154587242\n",
      "Episode cost: 34.0\n",
      "Episode length: 1000.0\n",
      "\n",
      "##################################################\n",
      "\n",
      "Evaluation results:\n",
      "Average episode reward: -1.021676079446479\n",
      "Average episode cost: 14.4\n",
      "Average episode length: 1000.0\n",
      "\n",
      "##################################################\n",
      "\n",
      "Saving the replay video to exp-x\\BM_Safety_Unconstrained\\SafetyPointGoal1-v0---dce575ce051f34bfb10e125b56a70286d41d91307da1cacad37e9d43f2725ea0\\TRPO-{SafetyPointGoal1-v0}\\seed-000-2024-04-24-01-04-38\\video\\epoch-30,\n",
      " and the result to exp-x\\BM_Safety_Unconstrained\\SafetyPointGoal1-v0---dce575ce051f34bfb10e125b56a70286d41d91307da1cacad37e9d43f2725ea0\\TRPO-{SafetyPointGoal1-v0}\\seed-000-2024-04-24-01-04-38\\video\\epoch-30\\result.txt.\n",
      "\n",
      "##################################################\n",
      "\n"
     ]
    },
    {
     "name": "stderr",
     "output_type": "stream",
     "text": [
      "t:  79%|███████▉  | 792/1001 [04:22<00:00, 989.51it/s, now=None]"
     ]
    },
    {
     "name": "stdout",
     "output_type": "stream",
     "text": [
      "Moviepy - Building video c:\\Users\\saisa\\omnisafe\\exp-x\\BM_Safety_Unconstrained\\SafetyPointGoal1-v0---dce575ce051f34bfb10e125b56a70286d41d91307da1cacad37e9d43f2725ea0\\TRPO-{SafetyPointGoal1-v0}\\seed-000-2024-04-24-01-04-38\\video\\epoch-30/eval-episode-0.mp4.\n",
      "Moviepy - Writing video c:\\Users\\saisa\\omnisafe\\exp-x\\BM_Safety_Unconstrained\\SafetyPointGoal1-v0---dce575ce051f34bfb10e125b56a70286d41d91307da1cacad37e9d43f2725ea0\\TRPO-{SafetyPointGoal1-v0}\\seed-000-2024-04-24-01-04-38\\video\\epoch-30/eval-episode-0.mp4\n",
      "\n"
     ]
    },
    {
     "name": "stderr",
     "output_type": "stream",
     "text": [
      "t:  79%|███████▉  | 792/1001 [04:23<00:00, 989.51it/s, now=None]"
     ]
    },
    {
     "name": "stdout",
     "output_type": "stream",
     "text": [
      "Moviepy - Done !\n",
      "Moviepy - video ready c:\\Users\\saisa\\omnisafe\\exp-x\\BM_Safety_Unconstrained\\SafetyPointGoal1-v0---dce575ce051f34bfb10e125b56a70286d41d91307da1cacad37e9d43f2725ea0\\TRPO-{SafetyPointGoal1-v0}\\seed-000-2024-04-24-01-04-38\\video\\epoch-30/eval-episode-0.mp4\n"
     ]
    },
    {
     "name": "stderr",
     "output_type": "stream",
     "text": [
      "t:  79%|███████▉  | 792/1001 [04:32<00:00, 989.51it/s, now=None]"
     ]
    },
    {
     "name": "stdout",
     "output_type": "stream",
     "text": [
      "Moviepy - Building video c:\\Users\\saisa\\omnisafe\\exp-x\\BM_Safety_Unconstrained\\SafetyPointGoal1-v0---dce575ce051f34bfb10e125b56a70286d41d91307da1cacad37e9d43f2725ea0\\TRPO-{SafetyPointGoal1-v0}\\seed-000-2024-04-24-01-04-38\\video\\epoch-30/eval-episode-1.mp4.\n",
      "Moviepy - Writing video c:\\Users\\saisa\\omnisafe\\exp-x\\BM_Safety_Unconstrained\\SafetyPointGoal1-v0---dce575ce051f34bfb10e125b56a70286d41d91307da1cacad37e9d43f2725ea0\\TRPO-{SafetyPointGoal1-v0}\\seed-000-2024-04-24-01-04-38\\video\\epoch-30/eval-episode-1.mp4\n",
      "\n"
     ]
    },
    {
     "name": "stderr",
     "output_type": "stream",
     "text": [
      "t:  79%|███████▉  | 792/1001 [04:33<00:00, 989.51it/s, now=None]"
     ]
    },
    {
     "name": "stdout",
     "output_type": "stream",
     "text": [
      "Moviepy - Done !\n",
      "Moviepy - video ready c:\\Users\\saisa\\omnisafe\\exp-x\\BM_Safety_Unconstrained\\SafetyPointGoal1-v0---dce575ce051f34bfb10e125b56a70286d41d91307da1cacad37e9d43f2725ea0\\TRPO-{SafetyPointGoal1-v0}\\seed-000-2024-04-24-01-04-38\\video\\epoch-30/eval-episode-1.mp4\n"
     ]
    },
    {
     "name": "stderr",
     "output_type": "stream",
     "text": [
      "t:  79%|███████▉  | 792/1001 [04:42<00:00, 989.51it/s, now=None]"
     ]
    },
    {
     "name": "stdout",
     "output_type": "stream",
     "text": [
      "Moviepy - Building video c:\\Users\\saisa\\omnisafe\\exp-x\\BM_Safety_Unconstrained\\SafetyPointGoal1-v0---dce575ce051f34bfb10e125b56a70286d41d91307da1cacad37e9d43f2725ea0\\TRPO-{SafetyPointGoal1-v0}\\seed-000-2024-04-24-01-04-38\\video\\epoch-30/eval-episode-2.mp4.\n",
      "Moviepy - Writing video c:\\Users\\saisa\\omnisafe\\exp-x\\BM_Safety_Unconstrained\\SafetyPointGoal1-v0---dce575ce051f34bfb10e125b56a70286d41d91307da1cacad37e9d43f2725ea0\\TRPO-{SafetyPointGoal1-v0}\\seed-000-2024-04-24-01-04-38\\video\\epoch-30/eval-episode-2.mp4\n",
      "\n"
     ]
    },
    {
     "name": "stderr",
     "output_type": "stream",
     "text": [
      "t:  79%|███████▉  | 792/1001 [04:43<00:00, 989.51it/s, now=None]"
     ]
    },
    {
     "name": "stdout",
     "output_type": "stream",
     "text": [
      "Moviepy - Done !\n",
      "Moviepy - video ready c:\\Users\\saisa\\omnisafe\\exp-x\\BM_Safety_Unconstrained\\SafetyPointGoal1-v0---dce575ce051f34bfb10e125b56a70286d41d91307da1cacad37e9d43f2725ea0\\TRPO-{SafetyPointGoal1-v0}\\seed-000-2024-04-24-01-04-38\\video\\epoch-30/eval-episode-2.mp4\n"
     ]
    },
    {
     "name": "stderr",
     "output_type": "stream",
     "text": [
      "t:  79%|███████▉  | 792/1001 [04:51<00:00, 989.51it/s, now=None]"
     ]
    },
    {
     "name": "stdout",
     "output_type": "stream",
     "text": [
      "Moviepy - Building video c:\\Users\\saisa\\omnisafe\\exp-x\\BM_Safety_Unconstrained\\SafetyPointGoal1-v0---dce575ce051f34bfb10e125b56a70286d41d91307da1cacad37e9d43f2725ea0\\TRPO-{SafetyPointGoal1-v0}\\seed-000-2024-04-24-01-04-38\\video\\epoch-30/eval-episode-3.mp4.\n",
      "Moviepy - Writing video c:\\Users\\saisa\\omnisafe\\exp-x\\BM_Safety_Unconstrained\\SafetyPointGoal1-v0---dce575ce051f34bfb10e125b56a70286d41d91307da1cacad37e9d43f2725ea0\\TRPO-{SafetyPointGoal1-v0}\\seed-000-2024-04-24-01-04-38\\video\\epoch-30/eval-episode-3.mp4\n",
      "\n"
     ]
    },
    {
     "name": "stderr",
     "output_type": "stream",
     "text": [
      "t:  79%|███████▉  | 792/1001 [04:53<00:00, 989.51it/s, now=None]"
     ]
    },
    {
     "name": "stdout",
     "output_type": "stream",
     "text": [
      "Moviepy - Done !\n",
      "Moviepy - video ready c:\\Users\\saisa\\omnisafe\\exp-x\\BM_Safety_Unconstrained\\SafetyPointGoal1-v0---dce575ce051f34bfb10e125b56a70286d41d91307da1cacad37e9d43f2725ea0\\TRPO-{SafetyPointGoal1-v0}\\seed-000-2024-04-24-01-04-38\\video\\epoch-30/eval-episode-3.mp4\n"
     ]
    },
    {
     "name": "stderr",
     "output_type": "stream",
     "text": [
      "t:  79%|███████▉  | 792/1001 [05:01<00:00, 989.51it/s, now=None]"
     ]
    },
    {
     "name": "stdout",
     "output_type": "stream",
     "text": [
      "Moviepy - Building video c:\\Users\\saisa\\omnisafe\\exp-x\\BM_Safety_Unconstrained\\SafetyPointGoal1-v0---dce575ce051f34bfb10e125b56a70286d41d91307da1cacad37e9d43f2725ea0\\TRPO-{SafetyPointGoal1-v0}\\seed-000-2024-04-24-01-04-38\\video\\epoch-30/eval-episode-4.mp4.\n",
      "Moviepy - Writing video c:\\Users\\saisa\\omnisafe\\exp-x\\BM_Safety_Unconstrained\\SafetyPointGoal1-v0---dce575ce051f34bfb10e125b56a70286d41d91307da1cacad37e9d43f2725ea0\\TRPO-{SafetyPointGoal1-v0}\\seed-000-2024-04-24-01-04-38\\video\\epoch-30/eval-episode-4.mp4\n",
      "\n"
     ]
    },
    {
     "name": "stderr",
     "output_type": "stream",
     "text": [
      "t:  79%|███████▉  | 792/1001 [05:02<00:00, 989.51it/s, now=None]"
     ]
    },
    {
     "name": "stdout",
     "output_type": "stream",
     "text": [
      "Moviepy - Done !\n",
      "Moviepy - video ready c:\\Users\\saisa\\omnisafe\\exp-x\\BM_Safety_Unconstrained\\SafetyPointGoal1-v0---dce575ce051f34bfb10e125b56a70286d41d91307da1cacad37e9d43f2725ea0\\TRPO-{SafetyPointGoal1-v0}\\seed-000-2024-04-24-01-04-38\\video\\epoch-30/eval-episode-4.mp4\n",
      "\n",
      "##################################################\n",
      "\n",
      "Episode 1 results:\n",
      "Episode reward: 26.557128802664693\n",
      "Episode cost: 64.0\n",
      "Episode length: 1000.0\n",
      "Episode 2 results:\n",
      "Episode reward: 26.168672200186847\n",
      "Episode cost: 95.0\n",
      "Episode length: 1000.0\n",
      "Episode 3 results:\n",
      "Episode reward: 28.951193679991775\n",
      "Episode cost: 35.0\n",
      "Episode length: 1000.0\n",
      "Episode 4 results:\n",
      "Episode reward: 29.415686249166356\n",
      "Episode cost: 74.0\n",
      "Episode length: 1000.0\n",
      "Episode 5 results:\n",
      "Episode reward: 26.257627949799826\n",
      "Episode cost: 50.0\n",
      "Episode length: 1000.0\n",
      "\n",
      "##################################################\n",
      "\n",
      "Evaluation results:\n",
      "Average episode reward: 27.4700617763619\n",
      "Average episode cost: 63.6\n",
      "Average episode length: 1000.0\n"
     ]
    }
   ],
   "source": [
    "LOG_DIR = 'exp-x\\BM_Safety_Unconstrained\\SafetyPointGoal1-v0---dce575ce051f34bfb10e125b56a70286d41d91307da1cacad37e9d43f2725ea0\\TRPO-{SafetyPointGoal1-v0}\\seed-000-2024-04-24-01-04-38'\n",
    "play = True\n",
    "save_replay = True\n",
    "evaluator = omnisafe.Evaluator()\n",
    "for item in os.scandir(os.path.join(LOG_DIR, 'torch_save')):\n",
    "    if item.is_file() and item.name.split('.')[-1] == 'pt':\n",
    "        evaluator.load_saved(\n",
    "            save_dir=LOG_DIR, model_name=item.name, camera_name='track', width=256, height=256\n",
    "        )\n",
    "        evaluator.render(num_episodes=5)\n",
    "        evaluator.evaluate(num_episodes=5)"
   ]
  },
  {
   "cell_type": "code",
   "execution_count": null,
   "metadata": {},
   "outputs": [],
   "source": []
  }
 ],
 "metadata": {
  "kernelspec": {
   "display_name": "omnisafe-env",
   "language": "python",
   "name": "python3"
  },
  "language_info": {
   "codemirror_mode": {
    "name": "ipython",
    "version": 3
   },
   "file_extension": ".py",
   "mimetype": "text/x-python",
   "name": "python",
   "nbconvert_exporter": "python",
   "pygments_lexer": "ipython3",
   "version": "3.8.19"
  }
 },
 "nbformat": 4,
 "nbformat_minor": 2
}
