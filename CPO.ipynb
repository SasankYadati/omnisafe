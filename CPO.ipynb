{
 "cells": [
  {
   "cell_type": "code",
   "execution_count": null,
   "metadata": {},
   "outputs": [],
   "source": [
    "import omnisafe\n",
    "from omnisafe.common.experiment_grid import ExperimentGrid"
   ]
  },
  {
   "cell_type": "code",
   "execution_count": null,
   "metadata": {},
   "outputs": [],
   "source": [
    "eg = ExperimentGrid(exp_name='CPO-benchmark')\n",
    "\n",
    "# Set the algorithms.\n",
    "unconstrained_policies = ['CPO']\n",
    "\n",
    "# Set the environments.\n",
    "safety_envs = [\n",
    "    'SafetyPointGoal1-v0',\n",
    "    'SafetyPointGoal2-v0',\n",
    "    'SafetyPointButton1-v0',\n",
    "    'SafetyPointButton2-v0',\n",
    "    'SafetyPointPush1-v0',\n",
    "    'SafetyPointPush2-v0',\n",
    "]\n",
    "eg.add('env_id', safety_envs)\n",
    "eg.add('algo', unconstrained_policies)\n",
    "eg.add('logger_cfgs:use_wandb', [True])\n",
    "eg.add('logger_cfgs:wandb_project', ['CPO_benchmark'])\n",
    "eg.add('train_cfgs:vector_env_nums', [1])\n",
    "eg.add('train_cfgs:torch_threads', [1])\n",
    "eg.add('train_cfgs:total_steps', [2048*100])\n",
    "eg.add('algo_cfgs:steps_per_epoch', [2048])\n",
    "# eg.add('algo_cfgs:gamma', [0.9, 0.95, 0.99])\n",
    "# eg.add('algo_cfgs:cost_gamma', [0.9, 0.95, 0.99])\n",
    "eg.add('seed', [0,5,10])"
   ]
  },
  {
   "cell_type": "code",
   "execution_count": null,
   "metadata": {},
   "outputs": [],
   "source": [
    "\"\"\"Example of training a policy from exp-x config with OmniSafe.\"\"\"\n",
    "import os, sys\n",
    "from omnisafe.typing import NamedTuple, Tuple\n",
    "\n",
    "\n",
    "def train(\n",
    "    exp_id: str, algo: str, env_id: str, custom_cfgs: NamedTuple\n",
    ") -> Tuple[float, float, float]:\n",
    "    \"\"\"Train a policy from exp-x config with OmniSafe.\n",
    "\n",
    "    Args:\n",
    "        exp_id (str): Experiment ID.\n",
    "        algo (str): Algorithm to train.\n",
    "        env_id (str): The name of test environment.\n",
    "        custom_cfgs (NamedTuple): Custom configurations.\n",
    "        num_threads (int, optional): Number of threads. Defaults to 6.\n",
    "    \"\"\"\n",
    "    terminal_log_name = 'terminal.log'\n",
    "    error_log_name = 'error.log'\n",
    "    if 'seed' in custom_cfgs:\n",
    "        terminal_log_name = f'seed{custom_cfgs[\"seed\"]}_{terminal_log_name}'\n",
    "        error_log_name = f'seed{custom_cfgs[\"seed\"]}_{error_log_name}'\n",
    "    sys.stdout = sys.__stdout__\n",
    "    sys.stderr = sys.__stderr__\n",
    "    print(f'exp-x: {exp_id} is training...')\n",
    "    if not os.path.exists(custom_cfgs['logger_cfgs']['log_dir']):\n",
    "        os.makedirs(custom_cfgs['logger_cfgs']['log_dir'], exist_ok=True)\n",
    "    # pylint: disable-next=consider-using-with\n",
    "    sys.stdout = open(\n",
    "        os.path.join(f'{custom_cfgs[\"logger_cfgs\"][\"log_dir\"]}', terminal_log_name),\n",
    "        'w',\n",
    "        encoding='utf-8',\n",
    "    )\n",
    "    # pylint: disable-next=consider-using-with\n",
    "    sys.stderr = open(\n",
    "        os.path.join(f'{custom_cfgs[\"logger_cfgs\"][\"log_dir\"]}', error_log_name),\n",
    "        'w',\n",
    "        encoding='utf-8',\n",
    "    )\n",
    "    agent = omnisafe.Agent(algo, env_id, custom_cfgs=custom_cfgs)\n",
    "    reward, cost, ep_len = agent.learn()\n",
    "    return reward, cost, ep_len"
   ]
  },
  {
   "cell_type": "code",
   "execution_count": null,
   "metadata": {},
   "outputs": [],
   "source": [
    "import torch\n",
    "import warnings\n",
    "\n",
    "# Set the device.\n",
    "avaliable_gpus = [num for num in range(torch.cuda.device_count())]\n",
    "print(avaliable_gpus)\n",
    "gpu_id = [0]\n",
    "# if you want to use CPU, please set gpu_id = None\n",
    "# gpu_id = None\n",
    "\n",
    "if set(gpu_id) > set(avaliable_gpus):\n",
    "    warnings.warn('The GPU ID is not available, use CPU instead.')\n",
    "    gpu_id = None"
   ]
  },
  {
   "cell_type": "code",
   "execution_count": null,
   "metadata": {},
   "outputs": [],
   "source": [
    "eg.run(train, 1, gpu_id=gpu_id)"
   ]
  },
  {
   "cell_type": "code",
   "execution_count": null,
   "metadata": {},
   "outputs": [],
   "source": [
    "eg.analyze(parameter='algo_cfgs:gamma', values=None, compare_num=3, cost_limit=None)"
   ]
  },
  {
   "cell_type": "code",
   "execution_count": null,
   "metadata": {},
   "outputs": [],
   "source": [
    "# Single Python File\n",
    "from omnisafe.common.statistics_tools import StatisticsTools\n",
    "\n",
    "eg._statistical_tools.draw_graph(parameter='algo_cfgs:gamma', values=None, compare_num=3, cost_limit=None, show_image=True)"
   ]
  },
  {
   "cell_type": "code",
   "execution_count": null,
   "metadata": {},
   "outputs": [],
   "source": []
  }
 ],
 "metadata": {
  "kernelspec": {
   "display_name": "saferl",
   "language": "python",
   "name": "python3"
  },
  "language_info": {
   "codemirror_mode": {
    "name": "ipython",
    "version": 3
   },
   "file_extension": ".py",
   "mimetype": "text/x-python",
   "name": "python",
   "nbconvert_exporter": "python",
   "pygments_lexer": "ipython3",
   "version": "3.8.19"
  }
 },
 "nbformat": 4,
 "nbformat_minor": 2
}
